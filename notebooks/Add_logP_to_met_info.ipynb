{
 "cells": [
  {
   "cell_type": "code",
   "execution_count": 4,
   "id": "bcdf27e5-a9dd-42f0-9725-b332a4a91232",
   "metadata": {},
   "outputs": [],
   "source": [
    "import cobra\n",
    "import pandas as pd\n",
    "import re\n",
    "import numpy as np\n",
    "import scipy.stats as st\n",
    "from matplotlib import pyplot as plt\n",
    "from pathlib import Path\n",
    "import sys\n",
    "sys.path.append('../code/')\n",
    "import leakage, utils\n",
    "import pubchempy as pcp\n",
    "import seaborn as sns"
   ]
  },
  {
   "cell_type": "code",
   "execution_count": 5,
   "id": "08937324-4a71-477b-9d19-e559566b44ba",
   "metadata": {},
   "outputs": [
    {
     "name": "stdout",
     "output_type": "stream",
     "text": [
      "Set parameter Username\n",
      "Academic license - for non-commercial use only - expires 2024-02-26\n"
     ]
    }
   ],
   "source": [
    "model = cobra.io.read_sbml_model('../models/e_coli/momentiJO1366.xml')\n",
    "model.reactions.DHAPT.knock_out()\n",
    "model.reactions.THRA.knock_out()\n",
    "model.reactions.THRA2.knock_out()\n",
    "model.reactions.F6PA_TG_forward.knock_out()"
   ]
  },
  {
   "cell_type": "code",
   "execution_count": 6,
   "id": "9ccff049-81a9-4efd-87c0-bf3e4f7c8efe",
   "metadata": {},
   "outputs": [],
   "source": [
    "met_info_df = pd.read_csv(\"../data/met_info_curated.csv\", encoding = \"ISO-8859-1\", index_col = 0)"
   ]
  },
  {
   "cell_type": "code",
   "execution_count": 7,
   "id": "2cff33ea-c29a-4dfc-bd9e-a80d5ad345a9",
   "metadata": {},
   "outputs": [
    {
     "data": {
      "text/html": [
       "<div>\n",
       "<style scoped>\n",
       "    .dataframe tbody tr th:only-of-type {\n",
       "        vertical-align: middle;\n",
       "    }\n",
       "\n",
       "    .dataframe tbody tr th {\n",
       "        vertical-align: top;\n",
       "    }\n",
       "\n",
       "    .dataframe thead th {\n",
       "        text-align: right;\n",
       "    }\n",
       "</style>\n",
       "<table border=\"1\" class=\"dataframe\">\n",
       "  <thead>\n",
       "    <tr style=\"text-align: right;\">\n",
       "      <th></th>\n",
       "      <th>Metabolite name</th>\n",
       "      <th>Metabolite id</th>\n",
       "      <th>Value</th>\n",
       "      <th>Uncertainty</th>\n",
       "      <th>Mass</th>\n",
       "      <th>Charge</th>\n",
       "      <th>Phosphate</th>\n",
       "      <th>Topological Polar Surface Area [Å]</th>\n",
       "      <th>Concentration</th>\n",
       "    </tr>\n",
       "  </thead>\n",
       "  <tbody>\n",
       "    <tr>\n",
       "      <th>0</th>\n",
       "      <td>Glucose-6-phosphate</td>\n",
       "      <td>g6p</td>\n",
       "      <td>17.65</td>\n",
       "      <td>0.53</td>\n",
       "      <td>258.119901</td>\n",
       "      <td>-2.0</td>\n",
       "      <td>1</td>\n",
       "      <td>165.0</td>\n",
       "      <td>0.003000</td>\n",
       "    </tr>\n",
       "    <tr>\n",
       "      <th>1</th>\n",
       "      <td>Fructose-6-phosphate</td>\n",
       "      <td>f6p</td>\n",
       "      <td>29.29</td>\n",
       "      <td>0.60</td>\n",
       "      <td>258.119901</td>\n",
       "      <td>-2.0</td>\n",
       "      <td>1</td>\n",
       "      <td>165.0</td>\n",
       "      <td>0.003000</td>\n",
       "    </tr>\n",
       "    <tr>\n",
       "      <th>2</th>\n",
       "      <td>Fructose-1,6-bisphosphate</td>\n",
       "      <td>fdp</td>\n",
       "      <td>34.21</td>\n",
       "      <td>0.72</td>\n",
       "      <td>336.083922</td>\n",
       "      <td>-4.0</td>\n",
       "      <td>2</td>\n",
       "      <td>215.0</td>\n",
       "      <td>0.015200</td>\n",
       "    </tr>\n",
       "    <tr>\n",
       "      <th>3</th>\n",
       "      <td>Dihydroxyacetonephosphate</td>\n",
       "      <td>dhap</td>\n",
       "      <td>50.40</td>\n",
       "      <td>1.74</td>\n",
       "      <td>168.041961</td>\n",
       "      <td>-2.0</td>\n",
       "      <td>1</td>\n",
       "      <td>104.0</td>\n",
       "      <td>0.000374</td>\n",
       "    </tr>\n",
       "    <tr>\n",
       "      <th>4</th>\n",
       "      <td>Glyceraldehyde-3-phosphate</td>\n",
       "      <td>g3p</td>\n",
       "      <td>15.04</td>\n",
       "      <td>0.24</td>\n",
       "      <td>168.041961</td>\n",
       "      <td>-2.0</td>\n",
       "      <td>1</td>\n",
       "      <td>104.0</td>\n",
       "      <td>NaN</td>\n",
       "    </tr>\n",
       "  </tbody>\n",
       "</table>\n",
       "</div>"
      ],
      "text/plain": [
       "              Metabolite name Metabolite id  Value  Uncertainty        Mass  \\\n",
       "0         Glucose-6-phosphate           g6p  17.65         0.53  258.119901   \n",
       "1        Fructose-6-phosphate           f6p  29.29         0.60  258.119901   \n",
       "2   Fructose-1,6-bisphosphate           fdp  34.21         0.72  336.083922   \n",
       "3   Dihydroxyacetonephosphate          dhap  50.40         1.74  168.041961   \n",
       "4  Glyceraldehyde-3-phosphate           g3p  15.04         0.24  168.041961   \n",
       "\n",
       "   Charge  Phosphate  Topological Polar Surface Area [Å]  Concentration  \n",
       "0    -2.0          1                               165.0       0.003000  \n",
       "1    -2.0          1                               165.0       0.003000  \n",
       "2    -4.0          2                               215.0       0.015200  \n",
       "3    -2.0          1                               104.0       0.000374  \n",
       "4    -2.0          1                               104.0            NaN  "
      ]
     },
     "execution_count": 7,
     "metadata": {},
     "output_type": "execute_result"
    }
   ],
   "source": [
    "met_info_df.head()"
   ]
  },
  {
   "cell_type": "markdown",
   "id": "dfd99277-67d2-493f-b167-b4f9db7d074c",
   "metadata": {},
   "source": [
    "# Add log P to met info"
   ]
  },
  {
   "cell_type": "code",
   "execution_count": 8,
   "id": "68a7f456-6ed5-4400-ab52-04f244cfc8d1",
   "metadata": {},
   "outputs": [
    {
     "name": "stdout",
     "output_type": "stream",
     "text": [
      "0 g6p_c C6H11O9P C6H13O9P -4.5\n",
      "0 g6p_c C6H11O9P C6H13O9P -4.5\n",
      "1 f6p_c C6H11O9P C6H13O9P -4.3\n",
      "3 dhap_c C3H5O6P C3H7O6P -2.5\n",
      "4 g3p_c C3H5O6P C3H7O6P -2.7\n",
      "5 2pg_c C3H4O7P C3H7O7P -2.6\n",
      "5 3pg_c C3H4O7P C3H7O7P -2.6\n",
      "6 pep_c C3H2O6P C3H5O6P -1.1\n",
      "7 pyr_c C3H3O3 C3H3O3- -0.6\n",
      "8 6pgc_c C6H10O10P C6H13O10P -4.5\n",
      "9 r5p_c C5H9O8P C5H11O8P -3.6\n",
      "10 ru5p__D_c C5H9O8P C5H11O8P -3.7\n",
      "10 ru5p__L_c C5H9O8P C5H11O8P -3.7\n",
      "10 xu5p__D_c C5H9O8P C5H11O8P -3.7\n",
      "10 xu5p__L_c C5H9O8P C5H11O8P -3.7\n",
      "11 e4p_c C4H7O7P C4H9O7P -3.3\n",
      "12 s7p_c C7H13O10P C7H15O10P -5\n",
      "13 accoa_c C23H34N7O17P3S C23H38N7O17P3S -5.6\n",
      "14 cit_c C6H5O7 C6H5O7-3 0.2\n",
      "15 acon_C_c C6H3O6 C6H6O6 -1\n",
      "16 icit_c C6H5O7 C6H8O7 -1.8\n",
      "17 akg_c C5H4O5 C5H6O5 -0.9\n",
      "18 fum_c C4H2O4 C4H2O4-2 1\n",
      "18 fum_c C4H2O4 C4H4O4 -0.3\n",
      "19 mal__L_c C4H4O5 C4H6O5 -1.3\n",
      "19 mal__L_c C4H4O5 C4H3O5-3 1.1\n",
      "19 mal__D_c C4H4O5 C4H6O5 -1.3\n",
      "20 glx_c C2H1O3 C2HO3- 0.3\n",
      "23 nad_c C21H26N7O14P2 C21H27N7O14P2 -6\n",
      "23 nad_c C21H26N7O14P2 C21H28N7O14P2+ -5.9\n",
      "23 nad_c C21H26N7O14P2 C21H26N7O14P2- -6.1\n",
      "24 nadp_c C21H25N7O17P3 C21H28N7O17P3 -7.1\n",
      "24 nadp_c C21H25N7O17P3 C21H29N7O17P3+ -7\n",
      "24 nadp_c C21H25N7O17P3 C21H26N7O17P3-2 -7.3\n",
      "24 nadp_c C21H25N7O17P3 C21H25N7O17P3-3 -7.3\n",
      "24 nadph_c C21H26N7O17P3 C21H30N7O17P3 -6.8\n",
      "26 ala__L_c C3H7NO2 C3H7NO2 -3\n",
      "27 leu__L_c C6H13NO2 C6H13NO2 -1.5\n",
      "27 ile__L_c C6H13NO2 C6H13NO2 -1.7\n",
      "28 val__L_c C5H11NO2 C5H11NO2 -2.3\n",
      "29 asp__L_c C4H6NO4 C4H7NO4 -2.8\n",
      "30 hom__L_c C4H9NO3 C4H9NO3 -4.4\n",
      "31 thr__L_c C4H9NO3 C4H9NO3 -2.9\n",
      "32 met__L_c C5H11NO2S C5H11NO2S -1.9\n",
      "33 lys__L_c C6H15N2O2 C6H14N2O2 -3\n",
      "34 trp__L_c C11H12N2O2 C11H12N2O2 -1.1\n",
      "35 tyr__L_c C9H11NO3 C9H11NO3 -2.3\n",
      "36 phe__L_c C9H11NO2 C9H11NO2 -1.5\n",
      "37 glu__L_c C5H8NO4 C5H9NO4 -3.7\n",
      "38 gln__L_c C5H10N2O3 C5H10N2O3 -3.1\n",
      "39 pro__L_c C5H9NO2 C5H9NO2 -2.5\n",
      "40 ser__L_c C3H7NO3 C3H7NO3 -3.1\n",
      "41 gly_c C2H5NO2 C2H5NO2 -3.2\n",
      "42 arg__L_c C6H15N4O2 C6H14N4O2 -4.2\n",
      "43 his__L_c C6H9N3O2 C6H9N3O2 -3.2\n",
      "45 ac_c C2H3O2 C2H3O2- 0.4\n",
      "46 etoh_c C2H6O C2H6O -0.1\n",
      "48 ura_c C4H4N2O2 C4H4N2O2 -1.1\n"
     ]
    }
   ],
   "source": [
    "xlogp_dict = {}\n",
    "for i, row in met_info_df.iterrows():\n",
    "    met_ids = row['Metabolite id'].split(',')\n",
    "    xlogp_temp_list = []\n",
    "    for m_id in met_ids:\n",
    "        m = model.metabolites.get_by_id('{0}_c'.format(m_id.strip(' ')))\n",
    "        result = pcp.get_compounds(m.name, 'name')\n",
    "        for r in result:\n",
    "            if r.xlogp:\n",
    "                print(i, m.id, m.formula, r.molecular_formula, r.xlogp)\n",
    "                xlogp_temp_list.append(r.xlogp)\n",
    "    if len(xlogp_temp_list):\n",
    "        xlogp_dict[i] = np.mean(xlogp_temp_list)\n",
    "    else:\n",
    "        xlogp_dict[i] = np.nan"
   ]
  },
  {
   "cell_type": "code",
   "execution_count": 9,
   "id": "03379057-87a7-4636-aacf-bb75eabfeeb4",
   "metadata": {},
   "outputs": [],
   "source": [
    "# Fix errors\n",
    "xlogp_dict[18] = -0.041#https://mimedb.org/metabolites/MMDBc0054486\n",
    "xlogp_dict[19] = -1.1 #$https://mimedb.org/metabolites/MMDBc0000773\n",
    "xlogp_dict[2]  = -5.9# https://pubchem.ncbi.nlm.nih.gov/compound/Fructose-1_6-bisphosphate#section=Computed-Properties\n",
    "xlogp_dict[47] = -0.8#https://pubchem.ncbi.nlm.nih.gov/compound/1492348#section=Chemical-and-Physical-Properties"
   ]
  },
  {
   "cell_type": "code",
   "execution_count": 10,
   "id": "3b636ee8-f03f-49a5-b0f7-686d708b50c9",
   "metadata": {},
   "outputs": [],
   "source": [
    "met_info_df['log P'] = met_info_df.index.map(xlogp_dict)"
   ]
  },
  {
   "cell_type": "code",
   "execution_count": 11,
   "id": "5243a8c9-3674-482c-969b-4454c15119cd",
   "metadata": {},
   "outputs": [],
   "source": [
    "met_info_df.to_csv(\"../data/met_info_curated.csv\")"
   ]
  }
 ],
 "metadata": {
  "kernelspec": {
   "display_name": "Python 3 (ipykernel)",
   "language": "python",
   "name": "python3"
  },
  "language_info": {
   "codemirror_mode": {
    "name": "ipython",
    "version": 3
   },
   "file_extension": ".py",
   "mimetype": "text/x-python",
   "name": "python",
   "nbconvert_exporter": "python",
   "pygments_lexer": "ipython3",
   "version": "3.9.13"
  }
 },
 "nbformat": 4,
 "nbformat_minor": 5
}
