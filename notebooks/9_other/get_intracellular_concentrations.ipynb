{
 "cells": [
  {
   "cell_type": "code",
   "execution_count": 2,
   "id": "d27f504a-e0c4-4f0a-bc3b-36f2309b3e9d",
   "metadata": {
    "execution": {
     "iopub.execute_input": "2025-03-03T09:37:10.579017Z",
     "iopub.status.busy": "2025-03-03T09:37:10.578486Z",
     "iopub.status.idle": "2025-03-03T09:37:11.077547Z",
     "shell.execute_reply": "2025-03-03T09:37:11.077157Z",
     "shell.execute_reply.started": "2025-03-03T09:37:10.578986Z"
    }
   },
   "outputs": [],
   "source": [
    "import requests\n",
    "from bs4 import BeautifulSoup\n",
    "import pandas as pd\n",
    "import xml.etree.ElementTree as ET\n",
    "from pathlib import Path\n",
    "import json\n",
    "import numpy as np\n"
   ]
  },
  {
   "cell_type": "code",
   "execution_count": 2,
   "id": "56403b0a-e716-4b23-91ed-3eb73df80c7b",
   "metadata": {
    "execution": {
     "iopub.execute_input": "2025-02-27T17:33:47.894602Z",
     "iopub.status.busy": "2025-02-27T17:33:47.894444Z",
     "iopub.status.idle": "2025-02-27T17:33:47.896727Z",
     "shell.execute_reply": "2025-02-27T17:33:47.896422Z",
     "shell.execute_reply.started": "2025-02-27T17:33:47.894591Z"
    }
   },
   "outputs": [],
   "source": [
    "def get_soup_for_ecmdb_ID(ecmdb_id):\n",
    "    response = requests.get(f'https://ecmdb.ca/compounds/{ecmdb_id}')\n",
    "    soup = BeautifulSoup(response.text, 'lxml-xml')\n",
    "    xml_string = soup.find('concentrations')\n",
    "    return xml_string"
   ]
  },
  {
   "cell_type": "code",
   "execution_count": 3,
   "id": "b7ad32d4-d51f-4c39-bf1a-9576b34e6ac2",
   "metadata": {
    "execution": {
     "iopub.execute_input": "2025-02-27T17:33:47.898111Z",
     "iopub.status.busy": "2025-02-27T17:33:47.898008Z",
     "iopub.status.idle": "2025-02-27T17:33:47.901454Z",
     "shell.execute_reply": "2025-02-27T17:33:47.901005Z",
     "shell.execute_reply.started": "2025-02-27T17:33:47.898101Z"
    }
   },
   "outputs": [],
   "source": [
    "def parse_concentrations_ecmdb(soup):\n",
    "    # Convert the soup to a string for parsing\n",
    "    tree = ET.fromstring(str(soup))\n",
    "    \n",
    "    # Initialize a list to store extracted data\n",
    "    data = []\n",
    "    \n",
    "    # Iterate over all elements in the XML and collect their tags and text values\n",
    "    index = 0\n",
    "    rows = []\n",
    "    row = {}\n",
    "    for element in tree.iter():\n",
    "        text = element.text.strip() if element.text else ''\n",
    "        if not len(text):\n",
    "            continue\n",
    "        if row.get(element.tag):\n",
    "            print(\"New!\")\n",
    "            rows.append(row)\n",
    "            row = {}\n",
    "        row[element.tag] = text\n",
    "    rows.append(row)\n",
    "    # Convert the data into a DataFrame for tabular display\n",
    "    df = pd.DataFrame(rows)\n",
    "    \n",
    "    return df"
   ]
  },
  {
   "cell_type": "code",
   "execution_count": 4,
   "id": "1795302c-b3de-410a-8351-2360343591fe",
   "metadata": {
    "execution": {
     "iopub.execute_input": "2025-02-27T17:33:47.902185Z",
     "iopub.status.busy": "2025-02-27T17:33:47.902087Z",
     "iopub.status.idle": "2025-02-27T17:33:47.904346Z",
     "shell.execute_reply": "2025-02-27T17:33:47.903918Z",
     "shell.execute_reply.started": "2025-02-27T17:33:47.902175Z"
    }
   },
   "outputs": [],
   "source": [
    "def get_ecmdb_conc(ecmdb_id):\n",
    "    xml_string = get_soup_for_ecmdb_ID(ecmdb_id)\n",
    "    return parse_concentrations_ecmdb(xml_string)"
   ]
  },
  {
   "cell_type": "markdown",
   "id": "79fb8307-ff20-4dad-af31-c7abff51a70d",
   "metadata": {},
   "source": [
    "# Get ECMDB id for all metabolites"
   ]
  },
  {
   "cell_type": "code",
   "execution_count": 3,
   "id": "2b279ec7-1400-41af-938f-b2a988f5febd",
   "metadata": {
    "execution": {
     "iopub.execute_input": "2025-03-03T09:37:13.144178Z",
     "iopub.status.busy": "2025-03-03T09:37:13.143516Z",
     "iopub.status.idle": "2025-03-03T09:37:13.164290Z",
     "shell.execute_reply": "2025-03-03T09:37:13.163931Z",
     "shell.execute_reply.started": "2025-03-03T09:37:13.144143Z"
    }
   },
   "outputs": [],
   "source": [
    "\n",
    "data_folder = Path('../../data')\n",
    "met_info_fn = data_folder / 'this_project' / '5_div' / '5C_metabolite_info.csv'\n",
    "met_info = pd.read_csv(met_info_fn, index_col=0)"
   ]
  },
  {
   "cell_type": "code",
   "execution_count": 5,
   "id": "5d81aea0-19bd-4c5a-b6e7-a87700866275",
   "metadata": {
    "execution": {
     "iopub.execute_input": "2025-03-03T09:38:01.585547Z",
     "iopub.status.busy": "2025-03-03T09:38:01.585117Z",
     "iopub.status.idle": "2025-03-03T09:38:01.590773Z",
     "shell.execute_reply": "2025-03-03T09:38:01.590028Z",
     "shell.execute_reply.started": "2025-03-03T09:38:01.585517Z"
    }
   },
   "outputs": [],
   "source": [
    "all_conc_fn = data_folder / 'this_project' / '5_div' / '5E_intracellular_concentrations.csv'\n"
   ]
  },
  {
   "cell_type": "code",
   "execution_count": 6,
   "id": "d91061f8-5dd6-40d1-b86a-0718d17ad672",
   "metadata": {
    "execution": {
     "iopub.execute_input": "2025-02-27T17:33:47.912717Z",
     "iopub.status.busy": "2025-02-27T17:33:47.912602Z",
     "iopub.status.idle": "2025-02-27T17:33:47.964605Z",
     "shell.execute_reply": "2025-02-27T17:33:47.964120Z",
     "shell.execute_reply.started": "2025-02-27T17:33:47.912707Z"
    }
   },
   "outputs": [],
   "source": [
    "ecmdb_fn = data_folder / 'Other' / 'ecmdb.json' \n",
    "with open(ecmdb_fn, 'r') as f:\n",
    "    ecmdb = json.load(f)"
   ]
  },
  {
   "cell_type": "code",
   "execution_count": 7,
   "id": "4a04d8f7-dc89-4df8-a892-aa0cce070772",
   "metadata": {
    "execution": {
     "iopub.execute_input": "2025-02-27T17:33:47.965326Z",
     "iopub.status.busy": "2025-02-27T17:33:47.965162Z",
     "iopub.status.idle": "2025-02-27T17:33:47.981845Z",
     "shell.execute_reply": "2025-02-27T17:33:47.981510Z",
     "shell.execute_reply.started": "2025-02-27T17:33:47.965300Z"
    }
   },
   "outputs": [],
   "source": [
    "ecm_df = pd.DataFrame(ecmdb)"
   ]
  },
  {
   "cell_type": "markdown",
   "id": "31e15f96-df72-4d25-b620-66a5901f5df6",
   "metadata": {},
   "source": [
    "# Used to get ECMDB IDs from names matched by Gemini"
   ]
  },
  {
   "cell_type": "code",
   "execution_count": 20,
   "id": "66c61b44-0774-4e4c-8488-887449f1570b",
   "metadata": {
    "execution": {
     "iopub.execute_input": "2025-02-27T17:36:06.511799Z",
     "iopub.status.busy": "2025-02-27T17:36:06.511117Z",
     "iopub.status.idle": "2025-02-27T17:36:06.528973Z",
     "shell.execute_reply": "2025-02-27T17:36:06.522404Z",
     "shell.execute_reply.started": "2025-02-27T17:36:06.511761Z"
    }
   },
   "outputs": [],
   "source": [
    "ecmdb_mapping_fn = 'metabolite_to_ecmdb.csv'\n",
    "conc_df = pd.read_csv(ecmdb_mapping_fn)"
   ]
  },
  {
   "cell_type": "code",
   "execution_count": 21,
   "id": "99287931-a0ed-4cbc-89d5-b073dfb692cf",
   "metadata": {
    "execution": {
     "iopub.execute_input": "2025-02-27T17:36:07.252818Z",
     "iopub.status.busy": "2025-02-27T17:36:07.251774Z",
     "iopub.status.idle": "2025-02-27T17:36:07.312427Z",
     "shell.execute_reply": "2025-02-27T17:36:07.311853Z",
     "shell.execute_reply.started": "2025-02-27T17:36:07.252753Z"
    }
   },
   "outputs": [],
   "source": [
    "ecmdb_id = []\n",
    "for i, row in conc_df.iterrows():\n",
    "    name = row['ECMDB name']\n",
    "    dfi = ecm_df.loc[ecm_df.name==name]\n",
    "    if len(dfi)==1:\n",
    "        ecmdb_id.append(dfi['met_id'].values[0])\n",
    "    else:\n",
    "        ecmdb_id.append(None)\n",
    "conc_df['ECMDB ID'] = ecmdb_id"
   ]
  },
  {
   "cell_type": "code",
   "execution_count": 50,
   "id": "69fc1197-41e5-46c2-b69a-13ada7d617d5",
   "metadata": {
    "execution": {
     "iopub.execute_input": "2025-02-27T17:56:23.025533Z",
     "iopub.status.busy": "2025-02-27T17:56:23.024915Z",
     "iopub.status.idle": "2025-02-27T17:56:23.036217Z",
     "shell.execute_reply": "2025-02-27T17:56:23.035276Z",
     "shell.execute_reply.started": "2025-02-27T17:56:23.025500Z"
    }
   },
   "outputs": [],
   "source": [
    "conc_df.to_csv(ecmdb_mapping_fn)"
   ]
  },
  {
   "cell_type": "markdown",
   "id": "82e51e6e-be16-4b08-bd75-83f5d3192988",
   "metadata": {},
   "source": [
    "# Extract all concentration data from ECMDB for relecant metabolites"
   ]
  },
  {
   "cell_type": "code",
   "execution_count": 64,
   "id": "7a9e1a02-1d40-484a-96e6-65d952860f5b",
   "metadata": {
    "execution": {
     "iopub.execute_input": "2025-02-28T09:18:43.285728Z",
     "iopub.status.busy": "2025-02-28T09:18:43.284871Z",
     "iopub.status.idle": "2025-02-28T09:18:48.694136Z",
     "shell.execute_reply": "2025-02-28T09:18:48.693467Z",
     "shell.execute_reply.started": "2025-02-28T09:18:43.285692Z"
    },
    "scrolled": true
   },
   "outputs": [
    {
     "name": "stdout",
     "output_type": "stream",
     "text": [
      "New!\n",
      "New!\n"
     ]
    },
    {
     "ename": "KeyboardInterrupt",
     "evalue": "",
     "output_type": "error",
     "traceback": [
      "\u001b[0;31m---------------------------------------------------------------------------\u001b[0m",
      "\u001b[0;31mKeyboardInterrupt\u001b[0m                         Traceback (most recent call last)",
      "Cell \u001b[0;32mIn[64], line 4\u001b[0m\n\u001b[1;32m      2\u001b[0m \u001b[38;5;28;01mfor\u001b[39;00m i, row \u001b[38;5;129;01min\u001b[39;00m conc_df\u001b[38;5;241m.\u001b[39miterrows():\n\u001b[1;32m      3\u001b[0m     \u001b[38;5;28;01mif\u001b[39;00m row[\u001b[38;5;124m'\u001b[39m\u001b[38;5;124mECMDB ID\u001b[39m\u001b[38;5;124m'\u001b[39m]:\n\u001b[0;32m----> 4\u001b[0m         conc_dfi \u001b[38;5;241m=\u001b[39m \u001b[43mget_ecmdb_conc\u001b[49m\u001b[43m(\u001b[49m\u001b[43mrow\u001b[49m\u001b[43m[\u001b[49m\u001b[38;5;124;43m'\u001b[39;49m\u001b[38;5;124;43mECMDB ID\u001b[39;49m\u001b[38;5;124;43m'\u001b[39;49m\u001b[43m]\u001b[49m\u001b[43m)\u001b[49m\n\u001b[1;32m      5\u001b[0m         \u001b[38;5;28;01mif\u001b[39;00m conc_dfi\u001b[38;5;241m.\u001b[39msize:\n\u001b[1;32m      6\u001b[0m             conc_data[row[\u001b[38;5;124m'\u001b[39m\u001b[38;5;124mMetabolite\u001b[39m\u001b[38;5;124m'\u001b[39m]] \u001b[38;5;241m=\u001b[39m conc_dfi\n",
      "Cell \u001b[0;32mIn[4], line 2\u001b[0m, in \u001b[0;36mget_ecmdb_conc\u001b[0;34m(ecmdb_id)\u001b[0m\n\u001b[1;32m      1\u001b[0m \u001b[38;5;28;01mdef\u001b[39;00m\u001b[38;5;250m \u001b[39m\u001b[38;5;21mget_ecmdb_conc\u001b[39m(ecmdb_id):\n\u001b[0;32m----> 2\u001b[0m     xml_string \u001b[38;5;241m=\u001b[39m \u001b[43mget_soup_for_ecmdb_ID\u001b[49m\u001b[43m(\u001b[49m\u001b[43mecmdb_id\u001b[49m\u001b[43m)\u001b[49m\n\u001b[1;32m      3\u001b[0m     \u001b[38;5;28;01mreturn\u001b[39;00m parse_concentrations_ecmdb(xml_string)\n",
      "Cell \u001b[0;32mIn[2], line 2\u001b[0m, in \u001b[0;36mget_soup_for_ecmdb_ID\u001b[0;34m(ecmdb_id)\u001b[0m\n\u001b[1;32m      1\u001b[0m \u001b[38;5;28;01mdef\u001b[39;00m\u001b[38;5;250m \u001b[39m\u001b[38;5;21mget_soup_for_ecmdb_ID\u001b[39m(ecmdb_id):\n\u001b[0;32m----> 2\u001b[0m     response \u001b[38;5;241m=\u001b[39m \u001b[43mrequests\u001b[49m\u001b[38;5;241;43m.\u001b[39;49m\u001b[43mget\u001b[49m\u001b[43m(\u001b[49m\u001b[38;5;124;43mf\u001b[39;49m\u001b[38;5;124;43m'\u001b[39;49m\u001b[38;5;124;43mhttps://ecmdb.ca/compounds/\u001b[39;49m\u001b[38;5;132;43;01m{\u001b[39;49;00m\u001b[43mecmdb_id\u001b[49m\u001b[38;5;132;43;01m}\u001b[39;49;00m\u001b[38;5;124;43m'\u001b[39;49m\u001b[43m)\u001b[49m\n\u001b[1;32m      3\u001b[0m     soup \u001b[38;5;241m=\u001b[39m BeautifulSoup(response\u001b[38;5;241m.\u001b[39mtext, \u001b[38;5;124m'\u001b[39m\u001b[38;5;124mlxml-xml\u001b[39m\u001b[38;5;124m'\u001b[39m)\n\u001b[1;32m      4\u001b[0m     xml_string \u001b[38;5;241m=\u001b[39m soup\u001b[38;5;241m.\u001b[39mfind(\u001b[38;5;124m'\u001b[39m\u001b[38;5;124mconcentrations\u001b[39m\u001b[38;5;124m'\u001b[39m)\n",
      "File \u001b[0;32m~/miniconda3/envs/reframed/lib/python3.9/site-packages/requests/api.py:73\u001b[0m, in \u001b[0;36mget\u001b[0;34m(url, params, **kwargs)\u001b[0m\n\u001b[1;32m     62\u001b[0m \u001b[38;5;28;01mdef\u001b[39;00m\u001b[38;5;250m \u001b[39m\u001b[38;5;21mget\u001b[39m(url, params\u001b[38;5;241m=\u001b[39m\u001b[38;5;28;01mNone\u001b[39;00m, \u001b[38;5;241m*\u001b[39m\u001b[38;5;241m*\u001b[39mkwargs):\n\u001b[1;32m     63\u001b[0m \u001b[38;5;250m    \u001b[39m\u001b[38;5;124mr\u001b[39m\u001b[38;5;124;03m\"\"\"Sends a GET request.\u001b[39;00m\n\u001b[1;32m     64\u001b[0m \n\u001b[1;32m     65\u001b[0m \u001b[38;5;124;03m    :param url: URL for the new :class:`Request` object.\u001b[39;00m\n\u001b[0;32m   (...)\u001b[0m\n\u001b[1;32m     70\u001b[0m \u001b[38;5;124;03m    :rtype: requests.Response\u001b[39;00m\n\u001b[1;32m     71\u001b[0m \u001b[38;5;124;03m    \"\"\"\u001b[39;00m\n\u001b[0;32m---> 73\u001b[0m     \u001b[38;5;28;01mreturn\u001b[39;00m \u001b[43mrequest\u001b[49m\u001b[43m(\u001b[49m\u001b[38;5;124;43m\"\u001b[39;49m\u001b[38;5;124;43mget\u001b[39;49m\u001b[38;5;124;43m\"\u001b[39;49m\u001b[43m,\u001b[49m\u001b[43m \u001b[49m\u001b[43murl\u001b[49m\u001b[43m,\u001b[49m\u001b[43m \u001b[49m\u001b[43mparams\u001b[49m\u001b[38;5;241;43m=\u001b[39;49m\u001b[43mparams\u001b[49m\u001b[43m,\u001b[49m\u001b[43m \u001b[49m\u001b[38;5;241;43m*\u001b[39;49m\u001b[38;5;241;43m*\u001b[39;49m\u001b[43mkwargs\u001b[49m\u001b[43m)\u001b[49m\n",
      "File \u001b[0;32m~/miniconda3/envs/reframed/lib/python3.9/site-packages/requests/api.py:59\u001b[0m, in \u001b[0;36mrequest\u001b[0;34m(method, url, **kwargs)\u001b[0m\n\u001b[1;32m     55\u001b[0m \u001b[38;5;66;03m# By using the 'with' statement we are sure the session is closed, thus we\u001b[39;00m\n\u001b[1;32m     56\u001b[0m \u001b[38;5;66;03m# avoid leaving sockets open which can trigger a ResourceWarning in some\u001b[39;00m\n\u001b[1;32m     57\u001b[0m \u001b[38;5;66;03m# cases, and look like a memory leak in others.\u001b[39;00m\n\u001b[1;32m     58\u001b[0m \u001b[38;5;28;01mwith\u001b[39;00m sessions\u001b[38;5;241m.\u001b[39mSession() \u001b[38;5;28;01mas\u001b[39;00m session:\n\u001b[0;32m---> 59\u001b[0m     \u001b[38;5;28;01mreturn\u001b[39;00m \u001b[43msession\u001b[49m\u001b[38;5;241;43m.\u001b[39;49m\u001b[43mrequest\u001b[49m\u001b[43m(\u001b[49m\u001b[43mmethod\u001b[49m\u001b[38;5;241;43m=\u001b[39;49m\u001b[43mmethod\u001b[49m\u001b[43m,\u001b[49m\u001b[43m \u001b[49m\u001b[43murl\u001b[49m\u001b[38;5;241;43m=\u001b[39;49m\u001b[43murl\u001b[49m\u001b[43m,\u001b[49m\u001b[43m \u001b[49m\u001b[38;5;241;43m*\u001b[39;49m\u001b[38;5;241;43m*\u001b[39;49m\u001b[43mkwargs\u001b[49m\u001b[43m)\u001b[49m\n",
      "File \u001b[0;32m~/miniconda3/envs/reframed/lib/python3.9/site-packages/requests/sessions.py:589\u001b[0m, in \u001b[0;36mSession.request\u001b[0;34m(self, method, url, params, data, headers, cookies, files, auth, timeout, allow_redirects, proxies, hooks, stream, verify, cert, json)\u001b[0m\n\u001b[1;32m    584\u001b[0m send_kwargs \u001b[38;5;241m=\u001b[39m {\n\u001b[1;32m    585\u001b[0m     \u001b[38;5;124m\"\u001b[39m\u001b[38;5;124mtimeout\u001b[39m\u001b[38;5;124m\"\u001b[39m: timeout,\n\u001b[1;32m    586\u001b[0m     \u001b[38;5;124m\"\u001b[39m\u001b[38;5;124mallow_redirects\u001b[39m\u001b[38;5;124m\"\u001b[39m: allow_redirects,\n\u001b[1;32m    587\u001b[0m }\n\u001b[1;32m    588\u001b[0m send_kwargs\u001b[38;5;241m.\u001b[39mupdate(settings)\n\u001b[0;32m--> 589\u001b[0m resp \u001b[38;5;241m=\u001b[39m \u001b[38;5;28;43mself\u001b[39;49m\u001b[38;5;241;43m.\u001b[39;49m\u001b[43msend\u001b[49m\u001b[43m(\u001b[49m\u001b[43mprep\u001b[49m\u001b[43m,\u001b[49m\u001b[43m \u001b[49m\u001b[38;5;241;43m*\u001b[39;49m\u001b[38;5;241;43m*\u001b[39;49m\u001b[43msend_kwargs\u001b[49m\u001b[43m)\u001b[49m\n\u001b[1;32m    591\u001b[0m \u001b[38;5;28;01mreturn\u001b[39;00m resp\n",
      "File \u001b[0;32m~/miniconda3/envs/reframed/lib/python3.9/site-packages/requests/sessions.py:703\u001b[0m, in \u001b[0;36mSession.send\u001b[0;34m(self, request, **kwargs)\u001b[0m\n\u001b[1;32m    700\u001b[0m start \u001b[38;5;241m=\u001b[39m preferred_clock()\n\u001b[1;32m    702\u001b[0m \u001b[38;5;66;03m# Send the request\u001b[39;00m\n\u001b[0;32m--> 703\u001b[0m r \u001b[38;5;241m=\u001b[39m \u001b[43madapter\u001b[49m\u001b[38;5;241;43m.\u001b[39;49m\u001b[43msend\u001b[49m\u001b[43m(\u001b[49m\u001b[43mrequest\u001b[49m\u001b[43m,\u001b[49m\u001b[43m \u001b[49m\u001b[38;5;241;43m*\u001b[39;49m\u001b[38;5;241;43m*\u001b[39;49m\u001b[43mkwargs\u001b[49m\u001b[43m)\u001b[49m\n\u001b[1;32m    705\u001b[0m \u001b[38;5;66;03m# Total elapsed time of the request (approximately)\u001b[39;00m\n\u001b[1;32m    706\u001b[0m elapsed \u001b[38;5;241m=\u001b[39m preferred_clock() \u001b[38;5;241m-\u001b[39m start\n",
      "File \u001b[0;32m~/miniconda3/envs/reframed/lib/python3.9/site-packages/requests/adapters.py:667\u001b[0m, in \u001b[0;36mHTTPAdapter.send\u001b[0;34m(self, request, stream, timeout, verify, cert, proxies)\u001b[0m\n\u001b[1;32m    664\u001b[0m     timeout \u001b[38;5;241m=\u001b[39m TimeoutSauce(connect\u001b[38;5;241m=\u001b[39mtimeout, read\u001b[38;5;241m=\u001b[39mtimeout)\n\u001b[1;32m    666\u001b[0m \u001b[38;5;28;01mtry\u001b[39;00m:\n\u001b[0;32m--> 667\u001b[0m     resp \u001b[38;5;241m=\u001b[39m \u001b[43mconn\u001b[49m\u001b[38;5;241;43m.\u001b[39;49m\u001b[43murlopen\u001b[49m\u001b[43m(\u001b[49m\n\u001b[1;32m    668\u001b[0m \u001b[43m        \u001b[49m\u001b[43mmethod\u001b[49m\u001b[38;5;241;43m=\u001b[39;49m\u001b[43mrequest\u001b[49m\u001b[38;5;241;43m.\u001b[39;49m\u001b[43mmethod\u001b[49m\u001b[43m,\u001b[49m\n\u001b[1;32m    669\u001b[0m \u001b[43m        \u001b[49m\u001b[43murl\u001b[49m\u001b[38;5;241;43m=\u001b[39;49m\u001b[43murl\u001b[49m\u001b[43m,\u001b[49m\n\u001b[1;32m    670\u001b[0m \u001b[43m        \u001b[49m\u001b[43mbody\u001b[49m\u001b[38;5;241;43m=\u001b[39;49m\u001b[43mrequest\u001b[49m\u001b[38;5;241;43m.\u001b[39;49m\u001b[43mbody\u001b[49m\u001b[43m,\u001b[49m\n\u001b[1;32m    671\u001b[0m \u001b[43m        \u001b[49m\u001b[43mheaders\u001b[49m\u001b[38;5;241;43m=\u001b[39;49m\u001b[43mrequest\u001b[49m\u001b[38;5;241;43m.\u001b[39;49m\u001b[43mheaders\u001b[49m\u001b[43m,\u001b[49m\n\u001b[1;32m    672\u001b[0m \u001b[43m        \u001b[49m\u001b[43mredirect\u001b[49m\u001b[38;5;241;43m=\u001b[39;49m\u001b[38;5;28;43;01mFalse\u001b[39;49;00m\u001b[43m,\u001b[49m\n\u001b[1;32m    673\u001b[0m \u001b[43m        \u001b[49m\u001b[43massert_same_host\u001b[49m\u001b[38;5;241;43m=\u001b[39;49m\u001b[38;5;28;43;01mFalse\u001b[39;49;00m\u001b[43m,\u001b[49m\n\u001b[1;32m    674\u001b[0m \u001b[43m        \u001b[49m\u001b[43mpreload_content\u001b[49m\u001b[38;5;241;43m=\u001b[39;49m\u001b[38;5;28;43;01mFalse\u001b[39;49;00m\u001b[43m,\u001b[49m\n\u001b[1;32m    675\u001b[0m \u001b[43m        \u001b[49m\u001b[43mdecode_content\u001b[49m\u001b[38;5;241;43m=\u001b[39;49m\u001b[38;5;28;43;01mFalse\u001b[39;49;00m\u001b[43m,\u001b[49m\n\u001b[1;32m    676\u001b[0m \u001b[43m        \u001b[49m\u001b[43mretries\u001b[49m\u001b[38;5;241;43m=\u001b[39;49m\u001b[38;5;28;43mself\u001b[39;49m\u001b[38;5;241;43m.\u001b[39;49m\u001b[43mmax_retries\u001b[49m\u001b[43m,\u001b[49m\n\u001b[1;32m    677\u001b[0m \u001b[43m        \u001b[49m\u001b[43mtimeout\u001b[49m\u001b[38;5;241;43m=\u001b[39;49m\u001b[43mtimeout\u001b[49m\u001b[43m,\u001b[49m\n\u001b[1;32m    678\u001b[0m \u001b[43m        \u001b[49m\u001b[43mchunked\u001b[49m\u001b[38;5;241;43m=\u001b[39;49m\u001b[43mchunked\u001b[49m\u001b[43m,\u001b[49m\n\u001b[1;32m    679\u001b[0m \u001b[43m    \u001b[49m\u001b[43m)\u001b[49m\n\u001b[1;32m    681\u001b[0m \u001b[38;5;28;01mexcept\u001b[39;00m (ProtocolError, \u001b[38;5;167;01mOSError\u001b[39;00m) \u001b[38;5;28;01mas\u001b[39;00m err:\n\u001b[1;32m    682\u001b[0m     \u001b[38;5;28;01mraise\u001b[39;00m \u001b[38;5;167;01mConnectionError\u001b[39;00m(err, request\u001b[38;5;241m=\u001b[39mrequest)\n",
      "File \u001b[0;32m~/miniconda3/envs/reframed/lib/python3.9/site-packages/urllib3/connectionpool.py:787\u001b[0m, in \u001b[0;36mHTTPConnectionPool.urlopen\u001b[0;34m(self, method, url, body, headers, retries, redirect, assert_same_host, timeout, pool_timeout, release_conn, chunked, body_pos, preload_content, decode_content, **response_kw)\u001b[0m\n\u001b[1;32m    784\u001b[0m response_conn \u001b[38;5;241m=\u001b[39m conn \u001b[38;5;28;01mif\u001b[39;00m \u001b[38;5;129;01mnot\u001b[39;00m release_conn \u001b[38;5;28;01melse\u001b[39;00m \u001b[38;5;28;01mNone\u001b[39;00m\n\u001b[1;32m    786\u001b[0m \u001b[38;5;66;03m# Make the request on the HTTPConnection object\u001b[39;00m\n\u001b[0;32m--> 787\u001b[0m response \u001b[38;5;241m=\u001b[39m \u001b[38;5;28;43mself\u001b[39;49m\u001b[38;5;241;43m.\u001b[39;49m\u001b[43m_make_request\u001b[49m\u001b[43m(\u001b[49m\n\u001b[1;32m    788\u001b[0m \u001b[43m    \u001b[49m\u001b[43mconn\u001b[49m\u001b[43m,\u001b[49m\n\u001b[1;32m    789\u001b[0m \u001b[43m    \u001b[49m\u001b[43mmethod\u001b[49m\u001b[43m,\u001b[49m\n\u001b[1;32m    790\u001b[0m \u001b[43m    \u001b[49m\u001b[43murl\u001b[49m\u001b[43m,\u001b[49m\n\u001b[1;32m    791\u001b[0m \u001b[43m    \u001b[49m\u001b[43mtimeout\u001b[49m\u001b[38;5;241;43m=\u001b[39;49m\u001b[43mtimeout_obj\u001b[49m\u001b[43m,\u001b[49m\n\u001b[1;32m    792\u001b[0m \u001b[43m    \u001b[49m\u001b[43mbody\u001b[49m\u001b[38;5;241;43m=\u001b[39;49m\u001b[43mbody\u001b[49m\u001b[43m,\u001b[49m\n\u001b[1;32m    793\u001b[0m \u001b[43m    \u001b[49m\u001b[43mheaders\u001b[49m\u001b[38;5;241;43m=\u001b[39;49m\u001b[43mheaders\u001b[49m\u001b[43m,\u001b[49m\n\u001b[1;32m    794\u001b[0m \u001b[43m    \u001b[49m\u001b[43mchunked\u001b[49m\u001b[38;5;241;43m=\u001b[39;49m\u001b[43mchunked\u001b[49m\u001b[43m,\u001b[49m\n\u001b[1;32m    795\u001b[0m \u001b[43m    \u001b[49m\u001b[43mretries\u001b[49m\u001b[38;5;241;43m=\u001b[39;49m\u001b[43mretries\u001b[49m\u001b[43m,\u001b[49m\n\u001b[1;32m    796\u001b[0m \u001b[43m    \u001b[49m\u001b[43mresponse_conn\u001b[49m\u001b[38;5;241;43m=\u001b[39;49m\u001b[43mresponse_conn\u001b[49m\u001b[43m,\u001b[49m\n\u001b[1;32m    797\u001b[0m \u001b[43m    \u001b[49m\u001b[43mpreload_content\u001b[49m\u001b[38;5;241;43m=\u001b[39;49m\u001b[43mpreload_content\u001b[49m\u001b[43m,\u001b[49m\n\u001b[1;32m    798\u001b[0m \u001b[43m    \u001b[49m\u001b[43mdecode_content\u001b[49m\u001b[38;5;241;43m=\u001b[39;49m\u001b[43mdecode_content\u001b[49m\u001b[43m,\u001b[49m\n\u001b[1;32m    799\u001b[0m \u001b[43m    \u001b[49m\u001b[38;5;241;43m*\u001b[39;49m\u001b[38;5;241;43m*\u001b[39;49m\u001b[43mresponse_kw\u001b[49m\u001b[43m,\u001b[49m\n\u001b[1;32m    800\u001b[0m \u001b[43m\u001b[49m\u001b[43m)\u001b[49m\n\u001b[1;32m    802\u001b[0m \u001b[38;5;66;03m# Everything went great!\u001b[39;00m\n\u001b[1;32m    803\u001b[0m clean_exit \u001b[38;5;241m=\u001b[39m \u001b[38;5;28;01mTrue\u001b[39;00m\n",
      "File \u001b[0;32m~/miniconda3/envs/reframed/lib/python3.9/site-packages/urllib3/connectionpool.py:534\u001b[0m, in \u001b[0;36mHTTPConnectionPool._make_request\u001b[0;34m(self, conn, method, url, body, headers, retries, timeout, chunked, response_conn, preload_content, decode_content, enforce_content_length)\u001b[0m\n\u001b[1;32m    532\u001b[0m \u001b[38;5;66;03m# Receive the response from the server\u001b[39;00m\n\u001b[1;32m    533\u001b[0m \u001b[38;5;28;01mtry\u001b[39;00m:\n\u001b[0;32m--> 534\u001b[0m     response \u001b[38;5;241m=\u001b[39m \u001b[43mconn\u001b[49m\u001b[38;5;241;43m.\u001b[39;49m\u001b[43mgetresponse\u001b[49m\u001b[43m(\u001b[49m\u001b[43m)\u001b[49m\n\u001b[1;32m    535\u001b[0m \u001b[38;5;28;01mexcept\u001b[39;00m (BaseSSLError, \u001b[38;5;167;01mOSError\u001b[39;00m) \u001b[38;5;28;01mas\u001b[39;00m e:\n\u001b[1;32m    536\u001b[0m     \u001b[38;5;28mself\u001b[39m\u001b[38;5;241m.\u001b[39m_raise_timeout(err\u001b[38;5;241m=\u001b[39me, url\u001b[38;5;241m=\u001b[39murl, timeout_value\u001b[38;5;241m=\u001b[39mread_timeout)\n",
      "File \u001b[0;32m~/miniconda3/envs/reframed/lib/python3.9/site-packages/urllib3/connection.py:516\u001b[0m, in \u001b[0;36mHTTPConnection.getresponse\u001b[0;34m(self)\u001b[0m\n\u001b[1;32m    513\u001b[0m _shutdown \u001b[38;5;241m=\u001b[39m \u001b[38;5;28mgetattr\u001b[39m(\u001b[38;5;28mself\u001b[39m\u001b[38;5;241m.\u001b[39msock, \u001b[38;5;124m\"\u001b[39m\u001b[38;5;124mshutdown\u001b[39m\u001b[38;5;124m\"\u001b[39m, \u001b[38;5;28;01mNone\u001b[39;00m)\n\u001b[1;32m    515\u001b[0m \u001b[38;5;66;03m# Get the response from http.client.HTTPConnection\u001b[39;00m\n\u001b[0;32m--> 516\u001b[0m httplib_response \u001b[38;5;241m=\u001b[39m \u001b[38;5;28;43msuper\u001b[39;49m\u001b[43m(\u001b[49m\u001b[43m)\u001b[49m\u001b[38;5;241;43m.\u001b[39;49m\u001b[43mgetresponse\u001b[49m\u001b[43m(\u001b[49m\u001b[43m)\u001b[49m\n\u001b[1;32m    518\u001b[0m \u001b[38;5;28;01mtry\u001b[39;00m:\n\u001b[1;32m    519\u001b[0m     assert_header_parsing(httplib_response\u001b[38;5;241m.\u001b[39mmsg)\n",
      "File \u001b[0;32m~/miniconda3/envs/reframed/lib/python3.9/http/client.py:1377\u001b[0m, in \u001b[0;36mHTTPConnection.getresponse\u001b[0;34m(self)\u001b[0m\n\u001b[1;32m   1375\u001b[0m \u001b[38;5;28;01mtry\u001b[39;00m:\n\u001b[1;32m   1376\u001b[0m     \u001b[38;5;28;01mtry\u001b[39;00m:\n\u001b[0;32m-> 1377\u001b[0m         \u001b[43mresponse\u001b[49m\u001b[38;5;241;43m.\u001b[39;49m\u001b[43mbegin\u001b[49m\u001b[43m(\u001b[49m\u001b[43m)\u001b[49m\n\u001b[1;32m   1378\u001b[0m     \u001b[38;5;28;01mexcept\u001b[39;00m \u001b[38;5;167;01mConnectionError\u001b[39;00m:\n\u001b[1;32m   1379\u001b[0m         \u001b[38;5;28mself\u001b[39m\u001b[38;5;241m.\u001b[39mclose()\n",
      "File \u001b[0;32m~/miniconda3/envs/reframed/lib/python3.9/http/client.py:320\u001b[0m, in \u001b[0;36mHTTPResponse.begin\u001b[0;34m(self)\u001b[0m\n\u001b[1;32m    318\u001b[0m \u001b[38;5;66;03m# read until we get a non-100 response\u001b[39;00m\n\u001b[1;32m    319\u001b[0m \u001b[38;5;28;01mwhile\u001b[39;00m \u001b[38;5;28;01mTrue\u001b[39;00m:\n\u001b[0;32m--> 320\u001b[0m     version, status, reason \u001b[38;5;241m=\u001b[39m \u001b[38;5;28;43mself\u001b[39;49m\u001b[38;5;241;43m.\u001b[39;49m\u001b[43m_read_status\u001b[49m\u001b[43m(\u001b[49m\u001b[43m)\u001b[49m\n\u001b[1;32m    321\u001b[0m     \u001b[38;5;28;01mif\u001b[39;00m status \u001b[38;5;241m!=\u001b[39m CONTINUE:\n\u001b[1;32m    322\u001b[0m         \u001b[38;5;28;01mbreak\u001b[39;00m\n",
      "File \u001b[0;32m~/miniconda3/envs/reframed/lib/python3.9/http/client.py:281\u001b[0m, in \u001b[0;36mHTTPResponse._read_status\u001b[0;34m(self)\u001b[0m\n\u001b[1;32m    280\u001b[0m \u001b[38;5;28;01mdef\u001b[39;00m\u001b[38;5;250m \u001b[39m\u001b[38;5;21m_read_status\u001b[39m(\u001b[38;5;28mself\u001b[39m):\n\u001b[0;32m--> 281\u001b[0m     line \u001b[38;5;241m=\u001b[39m \u001b[38;5;28mstr\u001b[39m(\u001b[38;5;28;43mself\u001b[39;49m\u001b[38;5;241;43m.\u001b[39;49m\u001b[43mfp\u001b[49m\u001b[38;5;241;43m.\u001b[39;49m\u001b[43mreadline\u001b[49m\u001b[43m(\u001b[49m\u001b[43m_MAXLINE\u001b[49m\u001b[43m \u001b[49m\u001b[38;5;241;43m+\u001b[39;49m\u001b[43m \u001b[49m\u001b[38;5;241;43m1\u001b[39;49m\u001b[43m)\u001b[49m, \u001b[38;5;124m\"\u001b[39m\u001b[38;5;124miso-8859-1\u001b[39m\u001b[38;5;124m\"\u001b[39m)\n\u001b[1;32m    282\u001b[0m     \u001b[38;5;28;01mif\u001b[39;00m \u001b[38;5;28mlen\u001b[39m(line) \u001b[38;5;241m>\u001b[39m _MAXLINE:\n\u001b[1;32m    283\u001b[0m         \u001b[38;5;28;01mraise\u001b[39;00m LineTooLong(\u001b[38;5;124m\"\u001b[39m\u001b[38;5;124mstatus line\u001b[39m\u001b[38;5;124m\"\u001b[39m)\n",
      "File \u001b[0;32m~/miniconda3/envs/reframed/lib/python3.9/socket.py:716\u001b[0m, in \u001b[0;36mSocketIO.readinto\u001b[0;34m(self, b)\u001b[0m\n\u001b[1;32m    714\u001b[0m \u001b[38;5;28;01mwhile\u001b[39;00m \u001b[38;5;28;01mTrue\u001b[39;00m:\n\u001b[1;32m    715\u001b[0m     \u001b[38;5;28;01mtry\u001b[39;00m:\n\u001b[0;32m--> 716\u001b[0m         \u001b[38;5;28;01mreturn\u001b[39;00m \u001b[38;5;28;43mself\u001b[39;49m\u001b[38;5;241;43m.\u001b[39;49m\u001b[43m_sock\u001b[49m\u001b[38;5;241;43m.\u001b[39;49m\u001b[43mrecv_into\u001b[49m\u001b[43m(\u001b[49m\u001b[43mb\u001b[49m\u001b[43m)\u001b[49m\n\u001b[1;32m    717\u001b[0m     \u001b[38;5;28;01mexcept\u001b[39;00m timeout:\n\u001b[1;32m    718\u001b[0m         \u001b[38;5;28mself\u001b[39m\u001b[38;5;241m.\u001b[39m_timeout_occurred \u001b[38;5;241m=\u001b[39m \u001b[38;5;28;01mTrue\u001b[39;00m\n",
      "File \u001b[0;32m~/miniconda3/envs/reframed/lib/python3.9/ssl.py:1275\u001b[0m, in \u001b[0;36mSSLSocket.recv_into\u001b[0;34m(self, buffer, nbytes, flags)\u001b[0m\n\u001b[1;32m   1271\u001b[0m     \u001b[38;5;28;01mif\u001b[39;00m flags \u001b[38;5;241m!=\u001b[39m \u001b[38;5;241m0\u001b[39m:\n\u001b[1;32m   1272\u001b[0m         \u001b[38;5;28;01mraise\u001b[39;00m \u001b[38;5;167;01mValueError\u001b[39;00m(\n\u001b[1;32m   1273\u001b[0m           \u001b[38;5;124m\"\u001b[39m\u001b[38;5;124mnon-zero flags not allowed in calls to recv_into() on \u001b[39m\u001b[38;5;132;01m%s\u001b[39;00m\u001b[38;5;124m\"\u001b[39m \u001b[38;5;241m%\u001b[39m\n\u001b[1;32m   1274\u001b[0m           \u001b[38;5;28mself\u001b[39m\u001b[38;5;241m.\u001b[39m\u001b[38;5;18m__class__\u001b[39m)\n\u001b[0;32m-> 1275\u001b[0m     \u001b[38;5;28;01mreturn\u001b[39;00m \u001b[38;5;28;43mself\u001b[39;49m\u001b[38;5;241;43m.\u001b[39;49m\u001b[43mread\u001b[49m\u001b[43m(\u001b[49m\u001b[43mnbytes\u001b[49m\u001b[43m,\u001b[49m\u001b[43m \u001b[49m\u001b[43mbuffer\u001b[49m\u001b[43m)\u001b[49m\n\u001b[1;32m   1276\u001b[0m \u001b[38;5;28;01melse\u001b[39;00m:\n\u001b[1;32m   1277\u001b[0m     \u001b[38;5;28;01mreturn\u001b[39;00m \u001b[38;5;28msuper\u001b[39m()\u001b[38;5;241m.\u001b[39mrecv_into(buffer, nbytes, flags)\n",
      "File \u001b[0;32m~/miniconda3/envs/reframed/lib/python3.9/ssl.py:1133\u001b[0m, in \u001b[0;36mSSLSocket.read\u001b[0;34m(self, len, buffer)\u001b[0m\n\u001b[1;32m   1131\u001b[0m \u001b[38;5;28;01mtry\u001b[39;00m:\n\u001b[1;32m   1132\u001b[0m     \u001b[38;5;28;01mif\u001b[39;00m buffer \u001b[38;5;129;01mis\u001b[39;00m \u001b[38;5;129;01mnot\u001b[39;00m \u001b[38;5;28;01mNone\u001b[39;00m:\n\u001b[0;32m-> 1133\u001b[0m         \u001b[38;5;28;01mreturn\u001b[39;00m \u001b[38;5;28;43mself\u001b[39;49m\u001b[38;5;241;43m.\u001b[39;49m\u001b[43m_sslobj\u001b[49m\u001b[38;5;241;43m.\u001b[39;49m\u001b[43mread\u001b[49m\u001b[43m(\u001b[49m\u001b[38;5;28;43mlen\u001b[39;49m\u001b[43m,\u001b[49m\u001b[43m \u001b[49m\u001b[43mbuffer\u001b[49m\u001b[43m)\u001b[49m\n\u001b[1;32m   1134\u001b[0m     \u001b[38;5;28;01melse\u001b[39;00m:\n\u001b[1;32m   1135\u001b[0m         \u001b[38;5;28;01mreturn\u001b[39;00m \u001b[38;5;28mself\u001b[39m\u001b[38;5;241m.\u001b[39m_sslobj\u001b[38;5;241m.\u001b[39mread(\u001b[38;5;28mlen\u001b[39m)\n",
      "\u001b[0;31mKeyboardInterrupt\u001b[0m: "
     ]
    }
   ],
   "source": [
    "conc_data = {}\n",
    "for i, row in conc_df.iterrows():\n",
    "    if row['ECMDB ID']:\n",
    "        conc_dfi = get_ecmdb_conc(row['ECMDB ID'])\n",
    "        if conc_dfi.size:\n",
    "            conc_data[row['Metabolite']] = conc_dfi"
   ]
  },
  {
   "cell_type": "code",
   "execution_count": 125,
   "id": "3d663969-8e94-412d-acf4-ece6259f9412",
   "metadata": {
    "execution": {
     "iopub.execute_input": "2025-02-28T09:48:06.387552Z",
     "iopub.status.busy": "2025-02-28T09:48:06.386780Z",
     "iopub.status.idle": "2025-02-28T09:48:08.632251Z",
     "shell.execute_reply": "2025-02-28T09:48:08.631747Z",
     "shell.execute_reply.started": "2025-02-28T09:48:06.387509Z"
    }
   },
   "outputs": [
    {
     "name": "stdout",
     "output_type": "stream",
     "text": [
      "New!\n",
      "New!\n",
      "New!\n",
      "New!\n",
      "New!\n",
      "New!\n"
     ]
    }
   ],
   "source": [
    "conc_dfi = get_ecmdb_conc('ECMDB20123')\n",
    "conc_dfi['Metabolite'] = 'Fructose-1,6-bisphosphate'\n",
    "conc_dfi['#'] = list(np.arange(len(conc_dfi)))\n",
    "# conc_data['Alpha-ketoglutarate'] = conc_dfi"
   ]
  },
  {
   "cell_type": "code",
   "execution_count": 126,
   "id": "d8f34fd1-3d40-45a8-8b80-9b68334dae87",
   "metadata": {
    "execution": {
     "iopub.execute_input": "2025-02-28T09:48:11.801905Z",
     "iopub.status.busy": "2025-02-28T09:48:11.801172Z",
     "iopub.status.idle": "2025-02-28T09:48:11.818838Z",
     "shell.execute_reply": "2025-02-28T09:48:11.817904Z",
     "shell.execute_reply.started": "2025-02-28T09:48:11.801868Z"
    }
   },
   "outputs": [],
   "source": [
    "all_conc = pd.concat([all_conc, conc_dfi], ignore_index=True).reset_index(drop=True)"
   ]
  },
  {
   "cell_type": "code",
   "execution_count": 36,
   "id": "f6e47b9f-516f-4fda-9b9f-83e13530a2f1",
   "metadata": {
    "execution": {
     "iopub.execute_input": "2025-02-27T17:50:30.225993Z",
     "iopub.status.busy": "2025-02-27T17:50:30.225331Z",
     "iopub.status.idle": "2025-02-27T17:50:30.252729Z",
     "shell.execute_reply": "2025-02-27T17:50:30.252082Z",
     "shell.execute_reply.started": "2025-02-27T17:50:30.225957Z"
    }
   },
   "outputs": [],
   "source": [
    "all_conc = pd.concat(conc_data).reset_index()"
   ]
  },
  {
   "cell_type": "code",
   "execution_count": 38,
   "id": "b8ecca83-491e-4b74-bd60-8f944bb06ba9",
   "metadata": {
    "execution": {
     "iopub.execute_input": "2025-02-27T17:51:43.258263Z",
     "iopub.status.busy": "2025-02-27T17:51:43.257046Z",
     "iopub.status.idle": "2025-02-27T17:51:43.270028Z",
     "shell.execute_reply": "2025-02-27T17:51:43.269059Z",
     "shell.execute_reply.started": "2025-02-27T17:51:43.258191Z"
    }
   },
   "outputs": [],
   "source": [
    "all_conc.rename(columns={'level_0': 'Metabolite', 'level_1': '#'}, inplace=True)"
   ]
  },
  {
   "cell_type": "code",
   "execution_count": 127,
   "id": "c07f2d3f-5453-479c-ae5a-8e95864f8f40",
   "metadata": {
    "execution": {
     "iopub.execute_input": "2025-02-28T09:48:29.015153Z",
     "iopub.status.busy": "2025-02-28T09:48:29.014551Z",
     "iopub.status.idle": "2025-02-28T09:48:29.035624Z",
     "shell.execute_reply": "2025-02-28T09:48:29.034614Z",
     "shell.execute_reply.started": "2025-02-28T09:48:29.015119Z"
    }
   },
   "outputs": [],
   "source": [
    "all_conc.to_csv(all_conc_fn)"
   ]
  },
  {
   "cell_type": "code",
   "execution_count": 112,
   "id": "f8520e9c-97d7-412b-acc1-6bc78de213e1",
   "metadata": {
    "execution": {
     "iopub.execute_input": "2025-02-28T09:41:20.223530Z",
     "iopub.status.busy": "2025-02-28T09:41:20.222956Z",
     "iopub.status.idle": "2025-02-28T09:41:20.243679Z",
     "shell.execute_reply": "2025-02-28T09:41:20.243241Z",
     "shell.execute_reply.started": "2025-02-28T09:41:20.223496Z"
    }
   },
   "outputs": [],
   "source": [
    "all_conc = pd.read_csv(all_conc_fn, index_col=0)"
   ]
  },
  {
   "cell_type": "code",
   "execution_count": 305,
   "id": "4d4ae6c4-b4db-47ea-ab63-6a0e3404190e",
   "metadata": {
    "execution": {
     "iopub.execute_input": "2025-02-28T12:16:16.113640Z",
     "iopub.status.busy": "2025-02-28T12:16:16.113207Z",
     "iopub.status.idle": "2025-02-28T12:16:16.141068Z",
     "shell.execute_reply": "2025-02-28T12:16:16.140584Z",
     "shell.execute_reply.started": "2025-02-28T12:16:16.113611Z"
    }
   },
   "outputs": [],
   "source": [
    "for i, row in conc_df.iterrows():\n",
    "    conc_i = all_conc.loc[all_conc.Metabolite==row['Metabolite']]\n",
    "    conc_df.at[i, '# data points'] = int(len(conc_i))\n",
    "    "
   ]
  },
  {
   "cell_type": "code",
   "execution_count": 306,
   "id": "3bad0ac9-b25e-4a4c-8799-19264f3360fa",
   "metadata": {
    "execution": {
     "iopub.execute_input": "2025-02-28T12:16:18.593085Z",
     "iopub.status.busy": "2025-02-28T12:16:18.592486Z",
     "iopub.status.idle": "2025-02-28T12:16:18.617634Z",
     "shell.execute_reply": "2025-02-28T12:16:18.616697Z",
     "shell.execute_reply.started": "2025-02-28T12:16:18.593051Z"
    }
   },
   "outputs": [
    {
     "data": {
      "text/html": [
       "<div>\n",
       "<style scoped>\n",
       "    .dataframe tbody tr th:only-of-type {\n",
       "        vertical-align: middle;\n",
       "    }\n",
       "\n",
       "    .dataframe tbody tr th {\n",
       "        vertical-align: top;\n",
       "    }\n",
       "\n",
       "    .dataframe thead th {\n",
       "        text-align: right;\n",
       "    }\n",
       "</style>\n",
       "<table border=\"1\" class=\"dataframe\">\n",
       "  <thead>\n",
       "    <tr style=\"text-align: right;\">\n",
       "      <th></th>\n",
       "      <th>Metabolite</th>\n",
       "      <th>ECMDB name</th>\n",
       "      <th>ECMDB ID</th>\n",
       "      <th># data points</th>\n",
       "    </tr>\n",
       "  </thead>\n",
       "  <tbody>\n",
       "    <tr>\n",
       "      <th>0</th>\n",
       "      <td>2-phosphoglycerate</td>\n",
       "      <td>2-Phospho-D-glyceric acid</td>\n",
       "      <td>ECMDB04129</td>\n",
       "      <td>1.0</td>\n",
       "    </tr>\n",
       "    <tr>\n",
       "      <th>1</th>\n",
       "      <td>3-phosphoglycerate</td>\n",
       "      <td>3-Phosphoglycerate</td>\n",
       "      <td>ECMDB04131</td>\n",
       "      <td>3.0</td>\n",
       "    </tr>\n",
       "    <tr>\n",
       "      <th>2</th>\n",
       "      <td>Acetate</td>\n",
       "      <td>Acetic acid</td>\n",
       "      <td>ECMDB00042</td>\n",
       "      <td>1.0</td>\n",
       "    </tr>\n",
       "    <tr>\n",
       "      <th>3</th>\n",
       "      <td>Alanine</td>\n",
       "      <td>L-Alanine</td>\n",
       "      <td>ECMDB00161</td>\n",
       "      <td>9.0</td>\n",
       "    </tr>\n",
       "    <tr>\n",
       "      <th>4</th>\n",
       "      <td>Alpha-aminoadipate</td>\n",
       "      <td>Aminoadipic acid</td>\n",
       "      <td>ECMDB00510</td>\n",
       "      <td>0.0</td>\n",
       "    </tr>\n",
       "    <tr>\n",
       "      <th>5</th>\n",
       "      <td>Alpha-aminobutyrate</td>\n",
       "      <td>NaN</td>\n",
       "      <td>None</td>\n",
       "      <td>0.0</td>\n",
       "    </tr>\n",
       "    <tr>\n",
       "      <th>6</th>\n",
       "      <td>Alpha-ketoglutarate</td>\n",
       "      <td>alpha-Ketoglutarate</td>\n",
       "      <td>ECMDB02812</td>\n",
       "      <td>6.0</td>\n",
       "    </tr>\n",
       "    <tr>\n",
       "      <th>7</th>\n",
       "      <td>Arginine</td>\n",
       "      <td>L-Arginine</td>\n",
       "      <td>ECMDB00517</td>\n",
       "      <td>6.0</td>\n",
       "    </tr>\n",
       "    <tr>\n",
       "      <th>8</th>\n",
       "      <td>Asparagine</td>\n",
       "      <td>L-Asparagine</td>\n",
       "      <td>ECMDB00168</td>\n",
       "      <td>8.0</td>\n",
       "    </tr>\n",
       "    <tr>\n",
       "      <th>9</th>\n",
       "      <td>Aspartate</td>\n",
       "      <td>L-Aspartic acid</td>\n",
       "      <td>ECMDB00191</td>\n",
       "      <td>8.0</td>\n",
       "    </tr>\n",
       "    <tr>\n",
       "      <th>10</th>\n",
       "      <td>Beta-alanine</td>\n",
       "      <td>beta-Alanine</td>\n",
       "      <td>ECMDB00056</td>\n",
       "      <td>1.0</td>\n",
       "    </tr>\n",
       "    <tr>\n",
       "      <th>11</th>\n",
       "      <td>Cis-aconitate</td>\n",
       "      <td>cis-Aconitic acid</td>\n",
       "      <td>ECMDB00072</td>\n",
       "      <td>3.0</td>\n",
       "    </tr>\n",
       "    <tr>\n",
       "      <th>12</th>\n",
       "      <td>Citrate</td>\n",
       "      <td>Citric acid</td>\n",
       "      <td>ECMDB00094</td>\n",
       "      <td>7.0</td>\n",
       "    </tr>\n",
       "    <tr>\n",
       "      <th>13</th>\n",
       "      <td>Creatine</td>\n",
       "      <td>NaN</td>\n",
       "      <td>None</td>\n",
       "      <td>0.0</td>\n",
       "    </tr>\n",
       "    <tr>\n",
       "      <th>14</th>\n",
       "      <td>Dihydroxyacetone phosphate</td>\n",
       "      <td>Dihydroxyacetone phosphate</td>\n",
       "      <td>ECMDB01473</td>\n",
       "      <td>3.0</td>\n",
       "    </tr>\n",
       "    <tr>\n",
       "      <th>15</th>\n",
       "      <td>Erythrose-4-phosphate</td>\n",
       "      <td>D-Erythrose 4-phosphate</td>\n",
       "      <td>ECMDB02649</td>\n",
       "      <td>3.0</td>\n",
       "    </tr>\n",
       "    <tr>\n",
       "      <th>16</th>\n",
       "      <td>Ethanol</td>\n",
       "      <td>Ethanol</td>\n",
       "      <td>ECMDB00108</td>\n",
       "      <td>0.0</td>\n",
       "    </tr>\n",
       "    <tr>\n",
       "      <th>17</th>\n",
       "      <td>Formate</td>\n",
       "      <td>Formic acid</td>\n",
       "      <td>ECMDB00142</td>\n",
       "      <td>1.0</td>\n",
       "    </tr>\n",
       "    <tr>\n",
       "      <th>18</th>\n",
       "      <td>Fructose-1,6-bisphosphate</td>\n",
       "      <td>Fructose 1,6-bisphosphate</td>\n",
       "      <td>ECMDB01058</td>\n",
       "      <td>10.0</td>\n",
       "    </tr>\n",
       "    <tr>\n",
       "      <th>19</th>\n",
       "      <td>Fructose-6-phosphate</td>\n",
       "      <td>Fructose 6-phosphate</td>\n",
       "      <td>ECMDB00124</td>\n",
       "      <td>5.0</td>\n",
       "    </tr>\n",
       "    <tr>\n",
       "      <th>20</th>\n",
       "      <td>Fumarate</td>\n",
       "      <td>Fumaric acid</td>\n",
       "      <td>ECMDB00176</td>\n",
       "      <td>6.0</td>\n",
       "    </tr>\n",
       "    <tr>\n",
       "      <th>21</th>\n",
       "      <td>Gamma-aminobutyrate</td>\n",
       "      <td>gamma-Aminobutyric acid</td>\n",
       "      <td>ECMDB04017</td>\n",
       "      <td>1.0</td>\n",
       "    </tr>\n",
       "    <tr>\n",
       "      <th>22</th>\n",
       "      <td>Glucose-6-phosphate</td>\n",
       "      <td>Glucose 6-phosphate</td>\n",
       "      <td>ECMDB01401</td>\n",
       "      <td>7.0</td>\n",
       "    </tr>\n",
       "    <tr>\n",
       "      <th>23</th>\n",
       "      <td>Glutamate</td>\n",
       "      <td>L-Glutamate</td>\n",
       "      <td>ECMDB00148</td>\n",
       "      <td>8.0</td>\n",
       "    </tr>\n",
       "    <tr>\n",
       "      <th>24</th>\n",
       "      <td>Glutamine</td>\n",
       "      <td>L-Glutamine</td>\n",
       "      <td>ECMDB00641</td>\n",
       "      <td>9.0</td>\n",
       "    </tr>\n",
       "    <tr>\n",
       "      <th>25</th>\n",
       "      <td>Glutarate</td>\n",
       "      <td>Glutaric acid</td>\n",
       "      <td>ECMDB21425</td>\n",
       "      <td>0.0</td>\n",
       "    </tr>\n",
       "    <tr>\n",
       "      <th>26</th>\n",
       "      <td>Glyceraldehyde-3-phosphate</td>\n",
       "      <td>D-Glyceraldehyde 3-phosphate</td>\n",
       "      <td>ECMDB01112</td>\n",
       "      <td>1.0</td>\n",
       "    </tr>\n",
       "    <tr>\n",
       "      <th>27</th>\n",
       "      <td>Glycine</td>\n",
       "      <td>Glycine</td>\n",
       "      <td>ECMDB00123</td>\n",
       "      <td>5.0</td>\n",
       "    </tr>\n",
       "    <tr>\n",
       "      <th>28</th>\n",
       "      <td>Hexoses</td>\n",
       "      <td>NaN</td>\n",
       "      <td>None</td>\n",
       "      <td>0.0</td>\n",
       "    </tr>\n",
       "    <tr>\n",
       "      <th>29</th>\n",
       "      <td>Histidine</td>\n",
       "      <td>L-Histidine</td>\n",
       "      <td>ECMDB00177</td>\n",
       "      <td>9.0</td>\n",
       "    </tr>\n",
       "    <tr>\n",
       "      <th>30</th>\n",
       "      <td>Homoserine</td>\n",
       "      <td>L-Homoserine</td>\n",
       "      <td>ECMDB02251</td>\n",
       "      <td>1.0</td>\n",
       "    </tr>\n",
       "    <tr>\n",
       "      <th>31</th>\n",
       "      <td>Isocitrate</td>\n",
       "      <td>Isocitric acid</td>\n",
       "      <td>ECMDB04088</td>\n",
       "      <td>4.0</td>\n",
       "    </tr>\n",
       "    <tr>\n",
       "      <th>32</th>\n",
       "      <td>Isoleucine</td>\n",
       "      <td>L-Isoleucine</td>\n",
       "      <td>ECMDB00172</td>\n",
       "      <td>9.0</td>\n",
       "    </tr>\n",
       "    <tr>\n",
       "      <th>33</th>\n",
       "      <td>Lactate</td>\n",
       "      <td>L-Lactic acid</td>\n",
       "      <td>ECMDB00190</td>\n",
       "      <td>0.0</td>\n",
       "    </tr>\n",
       "    <tr>\n",
       "      <th>34</th>\n",
       "      <td>Leucine</td>\n",
       "      <td>L-Leucine</td>\n",
       "      <td>ECMDB00687</td>\n",
       "      <td>9.0</td>\n",
       "    </tr>\n",
       "    <tr>\n",
       "      <th>35</th>\n",
       "      <td>Lysine</td>\n",
       "      <td>L-Lysine</td>\n",
       "      <td>ECMDB00182</td>\n",
       "      <td>8.0</td>\n",
       "    </tr>\n",
       "    <tr>\n",
       "      <th>36</th>\n",
       "      <td>Malate</td>\n",
       "      <td>L-Malic acid</td>\n",
       "      <td>ECMDB00156</td>\n",
       "      <td>6.0</td>\n",
       "    </tr>\n",
       "    <tr>\n",
       "      <th>37</th>\n",
       "      <td>Methionine</td>\n",
       "      <td>L-Methionine</td>\n",
       "      <td>ECMDB00696</td>\n",
       "      <td>9.0</td>\n",
       "    </tr>\n",
       "    <tr>\n",
       "      <th>38</th>\n",
       "      <td>NAD</td>\n",
       "      <td>NAD</td>\n",
       "      <td>ECMDB00902</td>\n",
       "      <td>9.0</td>\n",
       "    </tr>\n",
       "    <tr>\n",
       "      <th>39</th>\n",
       "      <td>Orotate</td>\n",
       "      <td>Orotic acid</td>\n",
       "      <td>ECMDB00226</td>\n",
       "      <td>0.0</td>\n",
       "    </tr>\n",
       "  </tbody>\n",
       "</table>\n",
       "</div>"
      ],
      "text/plain": [
       "                    Metabolite                    ECMDB name    ECMDB ID  \\\n",
       "0           2-phosphoglycerate     2-Phospho-D-glyceric acid  ECMDB04129   \n",
       "1           3-phosphoglycerate            3-Phosphoglycerate  ECMDB04131   \n",
       "2                      Acetate                   Acetic acid  ECMDB00042   \n",
       "3                      Alanine                     L-Alanine  ECMDB00161   \n",
       "4           Alpha-aminoadipate              Aminoadipic acid  ECMDB00510   \n",
       "5          Alpha-aminobutyrate                           NaN        None   \n",
       "6          Alpha-ketoglutarate           alpha-Ketoglutarate  ECMDB02812   \n",
       "7                     Arginine                    L-Arginine  ECMDB00517   \n",
       "8                   Asparagine                  L-Asparagine  ECMDB00168   \n",
       "9                    Aspartate               L-Aspartic acid  ECMDB00191   \n",
       "10                Beta-alanine                  beta-Alanine  ECMDB00056   \n",
       "11               Cis-aconitate             cis-Aconitic acid  ECMDB00072   \n",
       "12                     Citrate                   Citric acid  ECMDB00094   \n",
       "13                    Creatine                           NaN        None   \n",
       "14  Dihydroxyacetone phosphate    Dihydroxyacetone phosphate  ECMDB01473   \n",
       "15       Erythrose-4-phosphate       D-Erythrose 4-phosphate  ECMDB02649   \n",
       "16                     Ethanol                       Ethanol  ECMDB00108   \n",
       "17                     Formate                   Formic acid  ECMDB00142   \n",
       "18   Fructose-1,6-bisphosphate     Fructose 1,6-bisphosphate  ECMDB01058   \n",
       "19        Fructose-6-phosphate          Fructose 6-phosphate  ECMDB00124   \n",
       "20                    Fumarate                  Fumaric acid  ECMDB00176   \n",
       "21         Gamma-aminobutyrate       gamma-Aminobutyric acid  ECMDB04017   \n",
       "22         Glucose-6-phosphate           Glucose 6-phosphate  ECMDB01401   \n",
       "23                   Glutamate                   L-Glutamate  ECMDB00148   \n",
       "24                   Glutamine                   L-Glutamine  ECMDB00641   \n",
       "25                   Glutarate                 Glutaric acid  ECMDB21425   \n",
       "26  Glyceraldehyde-3-phosphate  D-Glyceraldehyde 3-phosphate  ECMDB01112   \n",
       "27                     Glycine                       Glycine  ECMDB00123   \n",
       "28                     Hexoses                           NaN        None   \n",
       "29                   Histidine                   L-Histidine  ECMDB00177   \n",
       "30                  Homoserine                  L-Homoserine  ECMDB02251   \n",
       "31                  Isocitrate                Isocitric acid  ECMDB04088   \n",
       "32                  Isoleucine                  L-Isoleucine  ECMDB00172   \n",
       "33                     Lactate                 L-Lactic acid  ECMDB00190   \n",
       "34                     Leucine                     L-Leucine  ECMDB00687   \n",
       "35                      Lysine                      L-Lysine  ECMDB00182   \n",
       "36                      Malate                  L-Malic acid  ECMDB00156   \n",
       "37                  Methionine                  L-Methionine  ECMDB00696   \n",
       "38                         NAD                           NAD  ECMDB00902   \n",
       "39                     Orotate                   Orotic acid  ECMDB00226   \n",
       "\n",
       "    # data points  \n",
       "0             1.0  \n",
       "1             3.0  \n",
       "2             1.0  \n",
       "3             9.0  \n",
       "4             0.0  \n",
       "5             0.0  \n",
       "6             6.0  \n",
       "7             6.0  \n",
       "8             8.0  \n",
       "9             8.0  \n",
       "10            1.0  \n",
       "11            3.0  \n",
       "12            7.0  \n",
       "13            0.0  \n",
       "14            3.0  \n",
       "15            3.0  \n",
       "16            0.0  \n",
       "17            1.0  \n",
       "18           10.0  \n",
       "19            5.0  \n",
       "20            6.0  \n",
       "21            1.0  \n",
       "22            7.0  \n",
       "23            8.0  \n",
       "24            9.0  \n",
       "25            0.0  \n",
       "26            1.0  \n",
       "27            5.0  \n",
       "28            0.0  \n",
       "29            9.0  \n",
       "30            1.0  \n",
       "31            4.0  \n",
       "32            9.0  \n",
       "33            0.0  \n",
       "34            9.0  \n",
       "35            8.0  \n",
       "36            6.0  \n",
       "37            9.0  \n",
       "38            9.0  \n",
       "39            0.0  "
      ]
     },
     "execution_count": 306,
     "metadata": {},
     "output_type": "execute_result"
    }
   ],
   "source": [
    "conc_df.head(40)"
   ]
  },
  {
   "cell_type": "markdown",
   "id": "ca9bc440-69b2-4510-9652-44d35d29df79",
   "metadata": {},
   "source": [
    "## Categorize media"
   ]
  },
  {
   "cell_type": "code",
   "execution_count": 307,
   "id": "aa5c45e5-6d99-4525-83cd-ac9cc266b12a",
   "metadata": {
    "execution": {
     "iopub.execute_input": "2025-02-28T12:16:43.784849Z",
     "iopub.status.busy": "2025-02-28T12:16:43.783294Z",
     "iopub.status.idle": "2025-02-28T12:16:43.797143Z",
     "shell.execute_reply": "2025-02-28T12:16:43.795991Z",
     "shell.execute_reply.started": "2025-02-28T12:16:43.784789Z"
    }
   },
   "outputs": [],
   "source": [
    "media_categorization = {\n",
    "    'Gutnick minimal complete medium (4.7 g/L KH2PO4; 13.5 g/L K2HPO4; 1 g/L K2SO4; 0.1 g/L MgSO4-7H2O; 10 mM NH4Cl) with 4 g/L glucose': ('Minimal', 'Glucose', 4),\n",
    "'Gutnick minimal complete medium (4.7 g/L KH2PO4; 13.5 g/L K2HPO4; 1 g/L K2SO4; 0.1 g/L MgSO4-7H2O; 10 mM NH4Cl) with 4 g/L glycerol': ('Minimal', 'Glycerol', 4),\n",
    "'Gutnick minimal complete medium (4.7 g/L KH2PO4; 13.5 g/L K2HPO4; 1 g/L K2SO4; 0.1 g/L MgSO4-7H2O; 10 mM NH4Cl) with 4 g/L acetate': ('Minimal', 'Acetate', 4),\n",
    "'Luria-Bertani (LB) media': ('Complex', 'LB', np.nan),\n",
    "'48 mM Na2HPO4, 22 mM KH2PO4, 10 mM NaCl, 45 mM (NH4)2SO4, supplemented with 1 mM MgSO4, 1 mg/l thiamine·HCl, 5.6 mg/l CaCl2, 8 mg/l FeCl3, 1 mg/l MnCl2·4H2O, 1.7 mg/l ZnCl2, 0.43 mg/l CuCl2·2H2O, 0.6 mg/l CoCl2·2H2O and 0.6 mg/l Na2MoO4·2H2O.  4 g/L Gluco': ('Minimal', 'Glucose', 4),\n",
    "'4.0 g/L Na2SO4; 5.36 g/L (NH4)2SO4; 1.0 g/L NH4Cl; 7.3 g/L K2HPO4; 1.8 g/L NaH2PO4 H2O; 12.0 g/L (NH4)2-H-citrate; 4.0 mL/L MgSO4 (1 M); 6.0 mL/L trace element solution; 0.02 g/L thiamine, 20 g/L glucose': ('Minimal', 'Glucose', 20),\n",
    "'0.2 g/L NH4Cl, 2.0 g/L (NH4)2SO4, 3.25 g/L KH2PO4, 2.5 g/L K2HPO4, 1.5 g/L NaH2PO4, 0.5 g/L MgSO4; trace substances: 10 mg/L CaCl2, 0.5 mg/L ZnSO4, 0.25 mg/L CuCl2, 0.25 mg/L  MnSO4, 0.175 mg/L CoCl2, 0.125 mg/L H3BO3, 2.5 mg/L AlCl3, 0.5 mg/L Na2MoO4, 10': ('Minimal', 'Glucose', 30),\n",
    "'M9 Minimal Media, 4 g/L Glucose': ('Minimal', 'Glucose', 4),\n",
    "'199 Medium with Earle’s salts –which contains 21 amino acids, 17 vitamins, 10 components of nucleic acids, sodium acetate, glucose, NaC1, KCl, CaC12, MgS04, Na2HP04, and Fe(N03)3': ('Complex', '199 Medium', np.nan)\n",
    "}"
   ]
  },
  {
   "cell_type": "code",
   "execution_count": 129,
   "id": "0fcc11be-14ba-42c6-bcf4-114abff7b516",
   "metadata": {
    "execution": {
     "iopub.execute_input": "2025-02-28T09:48:38.398489Z",
     "iopub.status.busy": "2025-02-28T09:48:38.397925Z",
     "iopub.status.idle": "2025-02-28T09:48:38.408842Z",
     "shell.execute_reply": "2025-02-28T09:48:38.406400Z",
     "shell.execute_reply.started": "2025-02-28T09:48:38.398455Z"
    }
   },
   "outputs": [],
   "source": [
    "temp = pd.DataFrame(all_conc.growth_media.map(media_categorization).to_list(), columns=['Minimal/complex', 'Carbon source', 'CS concentration [g/L]'])"
   ]
  },
  {
   "cell_type": "code",
   "execution_count": 128,
   "id": "dc5e7d67-0482-49b6-8566-93778988dcba",
   "metadata": {
    "execution": {
     "iopub.execute_input": "2025-02-28T09:48:35.942590Z",
     "iopub.status.busy": "2025-02-28T09:48:35.941461Z",
     "iopub.status.idle": "2025-02-28T09:48:35.953799Z",
     "shell.execute_reply": "2025-02-28T09:48:35.952828Z",
     "shell.execute_reply.started": "2025-02-28T09:48:35.942524Z"
    }
   },
   "outputs": [],
   "source": [
    "all_conc.drop(columns=['Minimal/complex', 'Carbon source', 'CS concentration [g/L]'], inplace=True)"
   ]
  },
  {
   "cell_type": "code",
   "execution_count": 130,
   "id": "f5c1a56c-7e5d-4d26-9a8f-57d505e0f395",
   "metadata": {
    "execution": {
     "iopub.execute_input": "2025-02-28T09:48:40.703241Z",
     "iopub.status.busy": "2025-02-28T09:48:40.702623Z",
     "iopub.status.idle": "2025-02-28T09:48:40.712164Z",
     "shell.execute_reply": "2025-02-28T09:48:40.711325Z",
     "shell.execute_reply.started": "2025-02-28T09:48:40.703208Z"
    }
   },
   "outputs": [],
   "source": [
    "all_conc = all_conc.join(temp)"
   ]
  },
  {
   "cell_type": "code",
   "execution_count": 176,
   "id": "1dc1f71a-43d5-46fc-b8d5-0877bac3b5c6",
   "metadata": {
    "execution": {
     "iopub.execute_input": "2025-02-28T10:31:55.783890Z",
     "iopub.status.busy": "2025-02-28T10:31:55.783055Z",
     "iopub.status.idle": "2025-02-28T10:31:55.809855Z",
     "shell.execute_reply": "2025-02-28T10:31:55.808753Z",
     "shell.execute_reply.started": "2025-02-28T10:31:55.783850Z"
    }
   },
   "outputs": [],
   "source": [
    "all_conc.to_csv(all_conc_fn)"
   ]
  },
  {
   "cell_type": "markdown",
   "id": "7421d1af-4d65-469a-8ced-8c5ca61fb31b",
   "metadata": {},
   "source": [
    "# Add data from Park et al., 2016\n"
   ]
  },
  {
   "cell_type": "code",
   "execution_count": 77,
   "id": "fbaadf3b-da98-4863-af52-2989d5ad2129",
   "metadata": {
    "execution": {
     "iopub.execute_input": "2025-03-07T19:34:10.479334Z",
     "iopub.status.busy": "2025-03-07T19:34:10.478412Z",
     "iopub.status.idle": "2025-03-07T19:34:10.503789Z",
     "shell.execute_reply": "2025-03-07T19:34:10.503162Z",
     "shell.execute_reply.started": "2025-03-07T19:34:10.479284Z"
    }
   },
   "outputs": [],
   "source": [
    "park_fn = data_folder / 'park_2016' / 'park_2016_natchembio_concentrations.csv'\n",
    "park_df = pd.read_csv(park_fn, skiprows=3)"
   ]
  },
  {
   "cell_type": "code",
   "execution_count": 78,
   "id": "6a58fc81-def6-44aa-aba5-7ba1883a09a4",
   "metadata": {
    "execution": {
     "iopub.execute_input": "2025-03-07T19:34:12.262799Z",
     "iopub.status.busy": "2025-03-07T19:34:12.262109Z",
     "iopub.status.idle": "2025-03-07T19:34:12.285917Z",
     "shell.execute_reply": "2025-03-07T19:34:12.283239Z",
     "shell.execute_reply.started": "2025-03-07T19:34:12.262761Z"
    }
   },
   "outputs": [],
   "source": [
    "name_to_park = met_info.set_index('Metabolite')['Park et al. name'].to_dict()"
   ]
  },
  {
   "cell_type": "code",
   "execution_count": 153,
   "id": "dd1f52bc-e240-40ed-b547-fa0c571a44a1",
   "metadata": {
    "execution": {
     "iopub.execute_input": "2025-02-28T10:14:17.049613Z",
     "iopub.status.busy": "2025-02-28T10:14:17.048616Z",
     "iopub.status.idle": "2025-02-28T10:14:17.072924Z",
     "shell.execute_reply": "2025-02-28T10:14:17.071560Z",
     "shell.execute_reply.started": "2025-02-28T10:14:17.049551Z"
    }
   },
   "outputs": [],
   "source": [
    "park_df.rename(columns={'Metabolite[compartment] \\ Concentration(M)': 'Metabolite'}, inplace=True)"
   ]
  },
  {
   "cell_type": "code",
   "execution_count": 154,
   "id": "5889c27f-ad28-4267-8276-7d6c7904952e",
   "metadata": {
    "execution": {
     "iopub.execute_input": "2025-02-28T10:14:30.663745Z",
     "iopub.status.busy": "2025-02-28T10:14:30.662829Z",
     "iopub.status.idle": "2025-02-28T10:14:30.676618Z",
     "shell.execute_reply": "2025-02-28T10:14:30.675449Z",
     "shell.execute_reply.started": "2025-02-28T10:14:30.663684Z"
    }
   },
   "outputs": [
    {
     "data": {
      "text/plain": [
       "Index(['Metabolite', 'BiGG ID', 'KEGG ID', 'Brenda ID', 'Mammalian iBMK',\n",
       "       'L.B.', 'U.B.', 'Yeast', 'L.B..1', 'U.B..1', 'E. coli', 'L.B..2',\n",
       "       'U.B..2'],\n",
       "      dtype='object')"
      ]
     },
     "execution_count": 154,
     "metadata": {},
     "output_type": "execute_result"
    }
   ],
   "source": [
    "park_df.columns"
   ]
  },
  {
   "cell_type": "code",
   "execution_count": 172,
   "id": "d5dd14fd-c41b-42f7-a692-05f8ce1eb80b",
   "metadata": {
    "execution": {
     "iopub.execute_input": "2025-02-28T10:30:54.126557Z",
     "iopub.status.busy": "2025-02-28T10:30:54.125666Z",
     "iopub.status.idle": "2025-02-28T10:30:54.149072Z",
     "shell.execute_reply": "2025-02-28T10:30:54.147868Z",
     "shell.execute_reply.started": "2025-02-28T10:30:54.126519Z"
    }
   },
   "outputs": [],
   "source": [
    "# Most metabolites in this spreadsheet are from Bennet et al., 2009, Nat Chem Biol https://doi.org/10.1038/nchembio.186\n",
    "# These are also in ECMDB, but there are a few more values in this sheet to add\n",
    "ref_text = 'Park et al., 2016, Nat Chem Biol'\n",
    "metabolites_to_add_from_park = ['2-phosphoglycerate', 'Erythrose-4-phosphate','Glyceraldehyde-3-phosphate', 'Isocitrate', 'Oxaloacetate', 'Sedoheptulose 7-phosphate']\n",
    "park_data = []\n",
    "for mname in metabolites_to_add_from_park:\n",
    "    pname = name_to_park[mname]\n",
    "    conc  = float(park_df.loc[park_df.Metabolite==pname, 'E. coli'].values[0])\n",
    "    lb = float(park_df.loc[park_df.Metabolite==pname, 'L.B..2'].values[0])\n",
    "    ub = float(park_df.loc[park_df.Metabolite==pname, 'U.B..2'].values[0])\n",
    "    error = ub - lb\n",
    "    park_data.append([mname, 0, 'Gutnick minimal medium', 'Bioreactor', conc*1e6, 'uM', error*1e6, '37', 'NCM3722', 'Log-phase', None, None, ref_text, '27159581', None, 'Minimal', 'Glucose', 4])"
   ]
  },
  {
   "cell_type": "code",
   "execution_count": 173,
   "id": "caec8f62-ae5e-4163-848f-334e692a16eb",
   "metadata": {
    "execution": {
     "iopub.execute_input": "2025-02-28T10:30:57.487449Z",
     "iopub.status.busy": "2025-02-28T10:30:57.486807Z",
     "iopub.status.idle": "2025-02-28T10:30:57.501364Z",
     "shell.execute_reply": "2025-02-28T10:30:57.495896Z",
     "shell.execute_reply.started": "2025-02-28T10:30:57.487412Z"
    }
   },
   "outputs": [],
   "source": [
    "park_df = pd.DataFrame(park_data, columns=all_conc.columns)"
   ]
  },
  {
   "cell_type": "code",
   "execution_count": 175,
   "id": "4ae6a951-0df7-4c28-ba18-e2ac5d90bacb",
   "metadata": {
    "execution": {
     "iopub.execute_input": "2025-02-28T10:31:45.769847Z",
     "iopub.status.busy": "2025-02-28T10:31:45.769201Z",
     "iopub.status.idle": "2025-02-28T10:31:45.786582Z",
     "shell.execute_reply": "2025-02-28T10:31:45.784375Z",
     "shell.execute_reply.started": "2025-02-28T10:31:45.769815Z"
    }
   },
   "outputs": [],
   "source": [
    "all_conc = pd.concat([all_conc, park_df], ignore_index=True).reset_index(drop = True)"
   ]
  },
  {
   "cell_type": "markdown",
   "id": "eaaa6513-9ec6-4e0b-95c2-b59dd4a498dd",
   "metadata": {},
   "source": [
    "# Add data from Thorfinsdottir et al."
   ]
  },
  {
   "cell_type": "code",
   "execution_count": 251,
   "id": "e970ee60-22ab-4048-88d0-5d2ba1560b34",
   "metadata": {
    "execution": {
     "iopub.execute_input": "2025-02-28T11:18:34.904489Z",
     "iopub.status.busy": "2025-02-28T11:18:34.901972Z",
     "iopub.status.idle": "2025-02-28T11:18:34.923175Z",
     "shell.execute_reply": "2025-02-28T11:18:34.922346Z",
     "shell.execute_reply.started": "2025-02-28T11:18:34.904370Z"
    }
   },
   "outputs": [],
   "source": [
    "thd_fn = data_folder / 'Thorfinnsdottir_2022/Supplementary Table S2 - Thorfinnsdottir et al.csv'\n",
    "thd_df = pd.read_csv(thd_fn, skiprows=2)"
   ]
  },
  {
   "cell_type": "code",
   "execution_count": 252,
   "id": "7b5b469a-3605-414f-8b40-d632f3466d63",
   "metadata": {
    "execution": {
     "iopub.execute_input": "2025-02-28T11:18:35.063346Z",
     "iopub.status.busy": "2025-02-28T11:18:35.062590Z",
     "iopub.status.idle": "2025-02-28T11:18:35.090298Z",
     "shell.execute_reply": "2025-02-28T11:18:35.089929Z",
     "shell.execute_reply.started": "2025-02-28T11:18:35.063287Z"
    }
   },
   "outputs": [
    {
     "data": {
      "text/html": [
       "<div>\n",
       "<style scoped>\n",
       "    .dataframe tbody tr th:only-of-type {\n",
       "        vertical-align: middle;\n",
       "    }\n",
       "\n",
       "    .dataframe tbody tr th {\n",
       "        vertical-align: top;\n",
       "    }\n",
       "\n",
       "    .dataframe thead th {\n",
       "        text-align: right;\n",
       "    }\n",
       "</style>\n",
       "<table border=\"1\" class=\"dataframe\">\n",
       "  <thead>\n",
       "    <tr style=\"text-align: right;\">\n",
       "      <th></th>\n",
       "      <th>Unnamed: 0</th>\n",
       "      <th>Cultivation condition</th>\n",
       "      <th>Biological replica</th>\n",
       "      <th>Technical</th>\n",
       "      <th>Asn</th>\n",
       "      <th>Asp</th>\n",
       "      <th>ATP</th>\n",
       "      <th>cAMP</th>\n",
       "      <th>CDP</th>\n",
       "      <th>2/3-PG</th>\n",
       "      <th>...</th>\n",
       "      <th>Pro</th>\n",
       "      <th>PRPP</th>\n",
       "      <th>R5P</th>\n",
       "      <th>S7P</th>\n",
       "      <th>Ser</th>\n",
       "      <th>Suc</th>\n",
       "      <th>UDP-GlcNac</th>\n",
       "      <th>UMP</th>\n",
       "      <th>UTP</th>\n",
       "      <th>Val</th>\n",
       "    </tr>\n",
       "  </thead>\n",
       "  <tbody>\n",
       "    <tr>\n",
       "      <th>0</th>\n",
       "      <td>Mineral</td>\n",
       "      <td>Bioreactor</td>\n",
       "      <td>A</td>\n",
       "      <td>1</td>\n",
       "      <td>0.000150</td>\n",
       "      <td>0.00023</td>\n",
       "      <td>0.0032</td>\n",
       "      <td>0.000013</td>\n",
       "      <td>0.00012</td>\n",
       "      <td>0.00038</td>\n",
       "      <td>...</td>\n",
       "      <td>0.00016</td>\n",
       "      <td>0.000120</td>\n",
       "      <td>0.00022</td>\n",
       "      <td>0.000070</td>\n",
       "      <td>0.00028</td>\n",
       "      <td>0.0018</td>\n",
       "      <td>0.00076</td>\n",
       "      <td>0.0032</td>\n",
       "      <td>0.00120</td>\n",
       "      <td>0.00023</td>\n",
       "    </tr>\n",
       "    <tr>\n",
       "      <th>1</th>\n",
       "      <td>Mineral</td>\n",
       "      <td>Bioreactor</td>\n",
       "      <td>A</td>\n",
       "      <td>2</td>\n",
       "      <td>0.000086</td>\n",
       "      <td>0.00015</td>\n",
       "      <td>0.0025</td>\n",
       "      <td>0.000015</td>\n",
       "      <td>0.00012</td>\n",
       "      <td>0.00023</td>\n",
       "      <td>...</td>\n",
       "      <td>0.00012</td>\n",
       "      <td>0.000050</td>\n",
       "      <td>0.00017</td>\n",
       "      <td>0.000056</td>\n",
       "      <td>0.00025</td>\n",
       "      <td>0.0014</td>\n",
       "      <td>0.00067</td>\n",
       "      <td>0.0025</td>\n",
       "      <td>0.00095</td>\n",
       "      <td>0.00016</td>\n",
       "    </tr>\n",
       "    <tr>\n",
       "      <th>2</th>\n",
       "      <td>Mineral</td>\n",
       "      <td>Bioreactor</td>\n",
       "      <td>A</td>\n",
       "      <td>3</td>\n",
       "      <td>0.000180</td>\n",
       "      <td>0.00016</td>\n",
       "      <td>0.0028</td>\n",
       "      <td>0.000012</td>\n",
       "      <td>0.00011</td>\n",
       "      <td>0.00028</td>\n",
       "      <td>...</td>\n",
       "      <td>0.00020</td>\n",
       "      <td>0.000080</td>\n",
       "      <td>0.00015</td>\n",
       "      <td>0.000061</td>\n",
       "      <td>0.00026</td>\n",
       "      <td>0.0020</td>\n",
       "      <td>0.00079</td>\n",
       "      <td>0.0029</td>\n",
       "      <td>0.00120</td>\n",
       "      <td>0.00046</td>\n",
       "    </tr>\n",
       "    <tr>\n",
       "      <th>3</th>\n",
       "      <td>Mineral</td>\n",
       "      <td>Bioreactor</td>\n",
       "      <td>A</td>\n",
       "      <td>4</td>\n",
       "      <td>0.000140</td>\n",
       "      <td>0.00016</td>\n",
       "      <td>0.0025</td>\n",
       "      <td>0.000011</td>\n",
       "      <td>0.00014</td>\n",
       "      <td>0.00025</td>\n",
       "      <td>...</td>\n",
       "      <td>0.00016</td>\n",
       "      <td>0.000055</td>\n",
       "      <td>0.00017</td>\n",
       "      <td>0.000054</td>\n",
       "      <td>0.00024</td>\n",
       "      <td>0.0015</td>\n",
       "      <td>0.00072</td>\n",
       "      <td>0.0025</td>\n",
       "      <td>0.00100</td>\n",
       "      <td>0.00036</td>\n",
       "    </tr>\n",
       "    <tr>\n",
       "      <th>4</th>\n",
       "      <td>Mineral</td>\n",
       "      <td>Bioreactor</td>\n",
       "      <td>B</td>\n",
       "      <td>1</td>\n",
       "      <td>0.000100</td>\n",
       "      <td>0.00016</td>\n",
       "      <td>0.0031</td>\n",
       "      <td>0.000015</td>\n",
       "      <td>0.00013</td>\n",
       "      <td>0.00033</td>\n",
       "      <td>...</td>\n",
       "      <td>0.00012</td>\n",
       "      <td>0.000110</td>\n",
       "      <td>0.00022</td>\n",
       "      <td>0.000082</td>\n",
       "      <td>0.00026</td>\n",
       "      <td>0.0022</td>\n",
       "      <td>0.00079</td>\n",
       "      <td>0.0031</td>\n",
       "      <td>0.00120</td>\n",
       "      <td>0.00016</td>\n",
       "    </tr>\n",
       "  </tbody>\n",
       "</table>\n",
       "<p>5 rows × 80 columns</p>\n",
       "</div>"
      ],
      "text/plain": [
       "  Unnamed: 0 Cultivation condition Biological replica  Technical       Asn  \\\n",
       "0    Mineral            Bioreactor                  A          1  0.000150   \n",
       "1    Mineral            Bioreactor                  A          2  0.000086   \n",
       "2    Mineral            Bioreactor                  A          3  0.000180   \n",
       "3    Mineral            Bioreactor                  A          4  0.000140   \n",
       "4    Mineral            Bioreactor                  B          1  0.000100   \n",
       "\n",
       "       Asp     ATP      cAMP      CDP   2/3-PG  ...      Pro      PRPP  \\\n",
       "0  0.00023  0.0032  0.000013  0.00012  0.00038  ...  0.00016  0.000120   \n",
       "1  0.00015  0.0025  0.000015  0.00012  0.00023  ...  0.00012  0.000050   \n",
       "2  0.00016  0.0028  0.000012  0.00011  0.00028  ...  0.00020  0.000080   \n",
       "3  0.00016  0.0025  0.000011  0.00014  0.00025  ...  0.00016  0.000055   \n",
       "4  0.00016  0.0031  0.000015  0.00013  0.00033  ...  0.00012  0.000110   \n",
       "\n",
       "       R5P       S7P      Ser     Suc  UDP-GlcNac     UMP      UTP      Val  \n",
       "0  0.00022  0.000070  0.00028  0.0018     0.00076  0.0032  0.00120  0.00023  \n",
       "1  0.00017  0.000056  0.00025  0.0014     0.00067  0.0025  0.00095  0.00016  \n",
       "2  0.00015  0.000061  0.00026  0.0020     0.00079  0.0029  0.00120  0.00046  \n",
       "3  0.00017  0.000054  0.00024  0.0015     0.00072  0.0025  0.00100  0.00036  \n",
       "4  0.00022  0.000082  0.00026  0.0022     0.00079  0.0031  0.00120  0.00016  \n",
       "\n",
       "[5 rows x 80 columns]"
      ]
     },
     "execution_count": 252,
     "metadata": {},
     "output_type": "execute_result"
    }
   ],
   "source": [
    "thd_df.head()"
   ]
  },
  {
   "cell_type": "code",
   "execution_count": 253,
   "id": "b3e2a859-7254-47be-857b-0540ebe0be78",
   "metadata": {
    "execution": {
     "iopub.execute_input": "2025-02-28T11:18:35.234200Z",
     "iopub.status.busy": "2025-02-28T11:18:35.233439Z",
     "iopub.status.idle": "2025-02-28T11:18:35.246907Z",
     "shell.execute_reply": "2025-02-28T11:18:35.246300Z",
     "shell.execute_reply.started": "2025-02-28T11:18:35.234141Z"
    }
   },
   "outputs": [
    {
     "data": {
      "text/plain": [
       "Index(['Medium', 'Cultivation condition', 'Biological replica', 'Technical',\n",
       "       'Asn', 'Asp', 'ATP', 'cAMP', 'CDP', '2/3-PG', '6PG', 'ADP', 'aKG',\n",
       "       'Ala', 'AMP', 'Arg', 'dCDP', 'dCMP', 'dCTP', 'dGDP', 'cGMP', 'Cit',\n",
       "       'CMP', 'CTP', 'Cys', 'dADP', 'dAMP', 'dATP', 'F6P', 'FAD', 'Fum',\n",
       "       'G-/M-1P', 'dGMP', 'dGTP', 'dTDP', 'dTMP', 'dTTP', 'dUMP', 'F1,6BP',\n",
       "       'F1P', 'GMP', 'GTP', 'His', 'ICit', 'G6P', 'GA6P', 'GAL1P', 'GDP',\n",
       "       'GL3P', 'Gln', 'Glu', 'Gly', 'NAD', 'NADH', 'NADP', 'NADPH', 'Ile',\n",
       "       'IMP', 'ITP', 'Leu', 'Lys', 'M6P', 'Mal', 'Met', 'Thr', 'Trp', 'Tyr',\n",
       "       'UDP', 'PEP', 'Phe', 'Pro', 'PRPP', 'R5P', 'S7P', 'Ser', 'Suc',\n",
       "       'UDP-GlcNac', 'UMP', 'UTP', 'Val'],\n",
       "      dtype='object')"
      ]
     },
     "execution_count": 253,
     "metadata": {},
     "output_type": "execute_result"
    }
   ],
   "source": [
    "thd_df.rename(columns={'Unnamed: 0': 'Medium'}, inplace=True)\n",
    "thd_df.columns"
   ]
  },
  {
   "cell_type": "code",
   "execution_count": 254,
   "id": "fe29563d-6b86-4ba3-a1bf-36987f46e85f",
   "metadata": {
    "execution": {
     "iopub.execute_input": "2025-02-28T11:18:35.422793Z",
     "iopub.status.busy": "2025-02-28T11:18:35.421856Z",
     "iopub.status.idle": "2025-02-28T11:18:35.431121Z",
     "shell.execute_reply": "2025-02-28T11:18:35.430221Z",
     "shell.execute_reply.started": "2025-02-28T11:18:35.422728Z"
    }
   },
   "outputs": [],
   "source": [
    "thd_meta_columns = list(thd_df.columns[:4])"
   ]
  },
  {
   "cell_type": "code",
   "execution_count": 11,
   "id": "5ec26b94-4df7-460e-92a0-3051b48d48fd",
   "metadata": {
    "execution": {
     "iopub.execute_input": "2025-03-03T09:40:10.077754Z",
     "iopub.status.busy": "2025-03-03T09:40:10.077307Z",
     "iopub.status.idle": "2025-03-03T09:40:10.111836Z",
     "shell.execute_reply": "2025-03-03T09:40:10.111243Z",
     "shell.execute_reply.started": "2025-03-03T09:40:10.077723Z"
    }
   },
   "outputs": [
    {
     "ename": "NameError",
     "evalue": "name 'thd_df' is not defined",
     "output_type": "error",
     "traceback": [
      "\u001b[0;31m---------------------------------------------------------------------------\u001b[0m",
      "\u001b[0;31mNameError\u001b[0m                                 Traceback (most recent call last)",
      "Cell \u001b[0;32mIn[11], line 13\u001b[0m\n\u001b[1;32m     11\u001b[0m abbrv \u001b[38;5;241m=\u001b[39m row[\u001b[38;5;124m'\u001b[39m\u001b[38;5;124mThorfinnsdottir et al. abbrv\u001b[39m\u001b[38;5;124m'\u001b[39m]\n\u001b[1;32m     12\u001b[0m \u001b[38;5;28;01mif\u001b[39;00m \u001b[38;5;28misinstance\u001b[39m(abbrv, \u001b[38;5;28mstr\u001b[39m):\n\u001b[0;32m---> 13\u001b[0m     conc_dfi \u001b[38;5;241m=\u001b[39m \u001b[43mthd_df\u001b[49m\u001b[38;5;241m.\u001b[39mloc[:, thd_meta_columns \u001b[38;5;241m+\u001b[39m [abbrv]]\n\u001b[1;32m     14\u001b[0m     tech_mean \u001b[38;5;241m=\u001b[39m conc_dfi\u001b[38;5;241m.\u001b[39mgroupby([\u001b[38;5;124m'\u001b[39m\u001b[38;5;124mMedium\u001b[39m\u001b[38;5;124m'\u001b[39m,\u001b[38;5;124m'\u001b[39m\u001b[38;5;124mCultivation condition\u001b[39m\u001b[38;5;124m'\u001b[39m, \u001b[38;5;124m'\u001b[39m\u001b[38;5;124mBiological replica\u001b[39m\u001b[38;5;124m'\u001b[39m])\u001b[38;5;241m.\u001b[39magg({abbrv:(\u001b[38;5;124m'\u001b[39m\u001b[38;5;124mmean\u001b[39m\u001b[38;5;124m'\u001b[39m)})\n\u001b[1;32m     15\u001b[0m     bio_mean \u001b[38;5;241m=\u001b[39m tech_mean\u001b[38;5;241m.\u001b[39mgroupby([\u001b[38;5;124m'\u001b[39m\u001b[38;5;124mMedium\u001b[39m\u001b[38;5;124m'\u001b[39m,\u001b[38;5;124m'\u001b[39m\u001b[38;5;124mCultivation condition\u001b[39m\u001b[38;5;124m'\u001b[39m])\u001b[38;5;241m.\u001b[39magg({abbrv:(\u001b[38;5;124m'\u001b[39m\u001b[38;5;124mmean\u001b[39m\u001b[38;5;124m'\u001b[39m, \u001b[38;5;124m'\u001b[39m\u001b[38;5;124mstd\u001b[39m\u001b[38;5;124m'\u001b[39m,\u001b[38;5;124m'\u001b[39m\u001b[38;5;124msem\u001b[39m\u001b[38;5;124m'\u001b[39m, \u001b[38;5;124m'\u001b[39m\u001b[38;5;124mcount\u001b[39m\u001b[38;5;124m'\u001b[39m)})\u001b[38;5;241m.\u001b[39mreset_index()\n",
      "\u001b[0;31mNameError\u001b[0m: name 'thd_df' is not defined"
     ]
    }
   ],
   "source": [
    "strain = 'K12 MG1655'\n",
    "conditions = {('Mineral', 'Bioreactor'): ['Mineral medium', 'Bioreactor', 'Minimal', 'Glucose', 10],\n",
    "              ('Mineral', 'Shake flask'): ['Mineral medium', 'Shake flask', 'Minimal', 'Glucose', 4],\n",
    "              ('Rich', 'Shake flask'): ['Rich medium', 'Shake flask','Complex', 'Rich', np.nan]\n",
    "}\n",
    "ref_text = 'Thorfinnsdottir et al., 2023, Metabolites'\n",
    "cs_conc = 10\n",
    "# 'Log-phase'\n",
    "td_data = []\n",
    "for i, row in met_info.iterrows():\n",
    "    abbrv = row['Thorfinnsdottir et al. abbrv']\n",
    "    if isinstance(abbrv, str):\n",
    "        conc_dfi = thd_df.loc[:, thd_meta_columns + [abbrv]]\n",
    "        tech_mean = conc_dfi.groupby(['Medium','Cultivation condition', 'Biological replica']).agg({abbrv:('mean')})\n",
    "        bio_mean = tech_mean.groupby(['Medium','Cultivation condition']).agg({abbrv:('mean', 'std','sem', 'count')}).reset_index()\n",
    "        for j in range(len(bio_mean)):\n",
    "            medium, system, mincomp, cs, cs_conc = conditions[bio_mean.at[j, ('Medium','')], bio_mean.at[j, ('Cultivation condition','')]]\n",
    "            # 1e6 to convert to uM\n",
    "            error = 1.96*bio_mean.at[j, (abbrv,'sem')]*1e6\n",
    "            td_data.append([row['Metabolite'], j, medium, system, bio_mean.at[j, (abbrv, 'mean')]*1e6, 'uM', error, '37', strain, 'Log-phase',  None, None, ref_text,'36837769', None, mincomp, cs, cs_conc])\n",
    "            "
   ]
  },
  {
   "cell_type": "code",
   "execution_count": 303,
   "id": "7f992116-81ae-4a5f-b6c4-59d585204e6e",
   "metadata": {
    "execution": {
     "iopub.execute_input": "2025-02-28T12:15:47.783677Z",
     "iopub.status.busy": "2025-02-28T12:15:47.782843Z",
     "iopub.status.idle": "2025-02-28T12:15:47.794881Z",
     "shell.execute_reply": "2025-02-28T12:15:47.793132Z",
     "shell.execute_reply.started": "2025-02-28T12:15:47.783606Z"
    }
   },
   "outputs": [],
   "source": [
    "df_td = pd.DataFrame(td_data, columns=all_conc.columns)"
   ]
  },
  {
   "cell_type": "code",
   "execution_count": 304,
   "id": "83d621ce-6d32-474a-8a3a-5fde43991cac",
   "metadata": {
    "execution": {
     "iopub.execute_input": "2025-02-28T12:16:06.223338Z",
     "iopub.status.busy": "2025-02-28T12:16:06.222684Z",
     "iopub.status.idle": "2025-02-28T12:16:06.234974Z",
     "shell.execute_reply": "2025-02-28T12:16:06.233629Z",
     "shell.execute_reply.started": "2025-02-28T12:16:06.223299Z"
    }
   },
   "outputs": [],
   "source": [
    "all_conc = pd.concat([all_conc, df_td], ignore_index=True).reset_index(drop = True)"
   ]
  },
  {
   "cell_type": "code",
   "execution_count": 308,
   "id": "67327bb7-10b2-4f42-bc71-c11e1f815c20",
   "metadata": {
    "execution": {
     "iopub.execute_input": "2025-02-28T12:16:56.721180Z",
     "iopub.status.busy": "2025-02-28T12:16:56.720503Z",
     "iopub.status.idle": "2025-02-28T12:16:56.746022Z",
     "shell.execute_reply": "2025-02-28T12:16:56.745467Z",
     "shell.execute_reply.started": "2025-02-28T12:16:56.721116Z"
    }
   },
   "outputs": [],
   "source": [
    "all_conc.to_csv(all_conc_fn)"
   ]
  },
  {
   "cell_type": "markdown",
   "id": "f65b5ca5-4147-45fb-ba62-fd569cf801a2",
   "metadata": {
    "execution": {
     "iopub.execute_input": "2025-02-28T12:03:10.636879Z",
     "iopub.status.busy": "2025-02-28T12:03:10.636409Z",
     "iopub.status.idle": "2025-02-28T12:03:10.650974Z",
     "shell.execute_reply": "2025-02-28T12:03:10.650316Z",
     "shell.execute_reply.started": "2025-02-28T12:03:10.636849Z"
    }
   },
   "source": [
    "# "
   ]
  },
  {
   "cell_type": "markdown",
   "id": "f5167741-0dd3-4ca7-89c3-45db1f809d27",
   "metadata": {
    "execution": {
     "iopub.execute_input": "2025-02-28T11:19:56.742490Z",
     "iopub.status.busy": "2025-02-28T11:19:56.741916Z",
     "iopub.status.idle": "2025-02-28T11:19:56.755606Z",
     "shell.execute_reply": "2025-02-28T11:19:56.754525Z",
     "shell.execute_reply.started": "2025-02-28T11:19:56.742454Z"
    }
   },
   "source": [
    "# Add data from this work"
   ]
  },
  {
   "cell_type": "code",
   "execution_count": 159,
   "id": "c8e94fb1-326b-423b-9430-352503a2c15b",
   "metadata": {
    "execution": {
     "iopub.execute_input": "2025-03-07T20:45:07.386943Z",
     "iopub.status.busy": "2025-03-07T20:45:07.385125Z",
     "iopub.status.idle": "2025-03-07T20:45:07.407390Z",
     "shell.execute_reply": "2025-03-07T20:45:07.406580Z",
     "shell.execute_reply.started": "2025-03-07T20:45:07.386887Z"
    }
   },
   "outputs": [],
   "source": [
    "all_conc = pd.read_csv(all_conc_fn, index_col=0)"
   ]
  },
  {
   "cell_type": "code",
   "execution_count": 35,
   "id": "5ee6d468-2478-48e6-81d1-ebb132b1f94b",
   "metadata": {
    "execution": {
     "iopub.execute_input": "2025-03-03T09:59:50.115032Z",
     "iopub.status.busy": "2025-03-03T09:59:50.114610Z",
     "iopub.status.idle": "2025-03-03T09:59:50.121029Z",
     "shell.execute_reply": "2025-03-03T09:59:50.120330Z",
     "shell.execute_reply.started": "2025-03-03T09:59:50.115002Z"
    }
   },
   "outputs": [],
   "source": [
    "all_conc.sort_values(by='Metabolite', inplace=True)"
   ]
  },
  {
   "cell_type": "code",
   "execution_count": 41,
   "id": "67ad16c8-dbac-4c0b-9ec0-290cef74bb59",
   "metadata": {
    "execution": {
     "iopub.execute_input": "2025-03-03T10:02:21.626520Z",
     "iopub.status.busy": "2025-03-03T10:02:21.626000Z",
     "iopub.status.idle": "2025-03-03T10:02:21.631102Z",
     "shell.execute_reply": "2025-03-03T10:02:21.629848Z",
     "shell.execute_reply.started": "2025-03-03T10:02:21.626489Z"
    }
   },
   "outputs": [],
   "source": [
    "# all_conc.drop(columns=['#', 'internal', 'molecules', 'molecules_error']).reset_index(drop=True).to_csv(all_conc_fn)\n"
   ]
  },
  {
   "cell_type": "code",
   "execution_count": 9,
   "id": "badcc909-cc33-4aa3-9da2-d24e060b637e",
   "metadata": {
    "execution": {
     "iopub.execute_input": "2025-03-03T09:39:12.956296Z",
     "iopub.status.busy": "2025-03-03T09:39:12.955872Z",
     "iopub.status.idle": "2025-03-03T09:39:12.967346Z",
     "shell.execute_reply": "2025-03-03T09:39:12.966431Z",
     "shell.execute_reply.started": "2025-03-03T09:39:12.956267Z"
    }
   },
   "outputs": [],
   "source": [
    "intra_fn = data_folder / 'this_project/4_paired_metabolomics_live_dead/4B_intracellular_conc_nmol_per_gprotein.csv'\n",
    "df_intra = pd.read_csv(intra_fn, index_col=0)\n",
    "# df_intra.sort_values(by=)"
   ]
  },
  {
   "cell_type": "markdown",
   "id": "ea17247d-e0dd-4ad3-9db3-37c97c697dfb",
   "metadata": {},
   "source": [
    "# Need to convert nmol per g to uM"
   ]
  },
  {
   "cell_type": "code",
   "execution_count": 42,
   "id": "82c817d2-bf15-4cb0-b32e-a800834b583d",
   "metadata": {
    "execution": {
     "iopub.execute_input": "2025-03-03T10:06:47.682332Z",
     "iopub.status.busy": "2025-03-03T10:06:47.680917Z",
     "iopub.status.idle": "2025-03-03T10:06:47.690029Z",
     "shell.execute_reply": "2025-03-03T10:06:47.688748Z",
     "shell.execute_reply.started": "2025-03-03T10:06:47.682298Z"
    }
   },
   "outputs": [],
   "source": [
    "protein_density = 13.5*1e-8#  μg/μm^3 From Mori et al., 2017 (See SI) https://www.nature.com/articles/s41467-017-01242-8\n",
    "# Protein density seems to be not correlated with growth rate\n",
    "\n",
    "cubic_um_to_L = 1e-15 # L/um^3\n",
    "protein_denisty_g_per_L = protein_density/cubic_um_to_L*1e-6"
   ]
  },
  {
   "cell_type": "code",
   "execution_count": 23,
   "id": "5891f7c6-15d9-4fbf-9236-79279a028337",
   "metadata": {
    "execution": {
     "iopub.execute_input": "2025-03-03T09:45:58.372559Z",
     "iopub.status.busy": "2025-03-03T09:45:58.372100Z",
     "iopub.status.idle": "2025-03-03T09:45:58.378785Z",
     "shell.execute_reply": "2025-03-03T09:45:58.378137Z",
     "shell.execute_reply.started": "2025-03-03T09:45:58.372528Z"
    }
   },
   "outputs": [
    {
     "data": {
      "text/plain": [
       "135.0"
      ]
     },
     "execution_count": 23,
     "metadata": {},
     "output_type": "execute_result"
    }
   ],
   "source": [
    "protein_denisty_g_per_L"
   ]
  },
  {
   "cell_type": "code",
   "execution_count": 27,
   "id": "0fbbe76f-8475-40af-b17f-92bac3369784",
   "metadata": {
    "execution": {
     "iopub.execute_input": "2025-03-03T09:47:20.995385Z",
     "iopub.status.busy": "2025-03-03T09:47:20.994649Z",
     "iopub.status.idle": "2025-03-03T09:47:21.004612Z",
     "shell.execute_reply": "2025-03-03T09:47:21.003876Z",
     "shell.execute_reply.started": "2025-03-03T09:47:20.995331Z"
    }
   },
   "outputs": [],
   "source": [
    "df_intraL = df_intra.melt(id_vars=df_intra.columns[:4], var_name='Metabolite', value_name='Concentration [nmol/g protein]')"
   ]
  },
  {
   "cell_type": "code",
   "execution_count": 31,
   "id": "e0e45328-096f-430a-b54c-914cba4cdc41",
   "metadata": {
    "execution": {
     "iopub.execute_input": "2025-03-03T09:49:27.440931Z",
     "iopub.status.busy": "2025-03-03T09:49:27.440463Z",
     "iopub.status.idle": "2025-03-03T09:49:27.446856Z",
     "shell.execute_reply": "2025-03-03T09:49:27.446101Z",
     "shell.execute_reply.started": "2025-03-03T09:49:27.440896Z"
    }
   },
   "outputs": [],
   "source": [
    "df_intraL['Concentration [uM]'] = df_intraL['Concentration [nmol/g protein]']*protein_denisty_g_per_L*1e-3"
   ]
  },
  {
   "cell_type": "code",
   "execution_count": 48,
   "id": "befdc2d2-554f-4dbd-be79-93b94d109d3e",
   "metadata": {
    "execution": {
     "iopub.execute_input": "2025-03-03T10:17:22.324264Z",
     "iopub.status.busy": "2025-03-03T10:17:22.323728Z",
     "iopub.status.idle": "2025-03-03T10:17:22.332679Z",
     "shell.execute_reply": "2025-03-03T10:17:22.331965Z",
     "shell.execute_reply.started": "2025-03-03T10:17:22.324231Z"
    }
   },
   "outputs": [
    {
     "data": {
      "text/plain": [
       "Index(['Metabolite', 'growth_media', 'growth_system', 'concentration',\n",
       "       'concentration_units', 'error', 'temperature', 'strain',\n",
       "       'growth_status', 'reference_text', 'pubmed_id', 'Minimal/complex',\n",
       "       'Carbon source', 'CS concentration [g/L]'],\n",
       "      dtype='object')"
      ]
     },
     "execution_count": 48,
     "metadata": {},
     "output_type": "execute_result"
    }
   ],
   "source": [
    "all_conc.columns"
   ]
  },
  {
   "cell_type": "code",
   "execution_count": 64,
   "id": "73a77fb4-6cf7-406d-b7da-ad1d9841e652",
   "metadata": {
    "execution": {
     "iopub.execute_input": "2025-03-03T10:30:12.440659Z",
     "iopub.status.busy": "2025-03-03T10:30:12.440234Z",
     "iopub.status.idle": "2025-03-03T10:30:12.458003Z",
     "shell.execute_reply": "2025-03-03T10:30:12.457161Z",
     "shell.execute_reply.started": "2025-03-03T10:30:12.440629Z"
    }
   },
   "outputs": [],
   "source": [
    "df_intra_mean = df_intraL[['Concentration [uM]', 'Carbon source', 'Metabolite']].groupby(['Carbon source', 'Metabolite']).agg(['mean', 'sem', 'std']).reset_index()"
   ]
  },
  {
   "cell_type": "code",
   "execution_count": 67,
   "id": "40023be1-814e-4829-a7b3-e1da7172396f",
   "metadata": {
    "execution": {
     "iopub.execute_input": "2025-03-03T10:32:28.140016Z",
     "iopub.status.busy": "2025-03-03T10:32:28.124599Z",
     "iopub.status.idle": "2025-03-03T10:32:28.144509Z",
     "shell.execute_reply": "2025-03-03T10:32:28.143923Z",
     "shell.execute_reply.started": "2025-03-03T10:32:28.138177Z"
    }
   },
   "outputs": [],
   "source": [
    "df_intra_mean.columns = ['Carbon source', 'Metabolite', 'mean', 'sem', 'std']"
   ]
  },
  {
   "cell_type": "code",
   "execution_count": 69,
   "id": "83f8da81-0e1c-48a3-812a-595d9cb8568c",
   "metadata": {
    "execution": {
     "iopub.execute_input": "2025-03-03T10:34:29.471981Z",
     "iopub.status.busy": "2025-03-03T10:34:29.471499Z",
     "iopub.status.idle": "2025-03-03T10:34:29.487417Z",
     "shell.execute_reply": "2025-03-03T10:34:29.486143Z",
     "shell.execute_reply.started": "2025-03-03T10:34:29.471950Z"
    }
   },
   "outputs": [],
   "source": [
    "strain = 'K12 MG1655'\n",
    "mal_mol_weight = 134.09\n",
    "ala_mol_weight = 89.09\n",
    "gal_mol_weight = 180.156\n",
    "\n",
    "concentration = {\n",
    "    'Galactose': 20*gal_mol_weight*1e-3,\n",
    "    'L-malate': 30*mal_mol_weight*1e-3,\n",
    "    'L-alanine': 40*ala_mol_weight*1e-3\n",
    "}\n",
    "\n",
    "conditions = [37, strain, 'Log-phase', 'This work', \"\", 'Minimal']\n",
    "this_data = []\n",
    "for i, row in df_intra_mean.iterrows():\n",
    "    conc = concentration[row['Carbon source']]\n",
    "    error = row['sem']*1.96\n",
    "    this_data.append([row['Metabolite'], 'M9', 'Shake flask', row['mean'], 'uM', error]+conditions+[row['Carbon source'], conc])\n"
   ]
  },
  {
   "cell_type": "code",
   "execution_count": 70,
   "id": "16b05acd-52c4-434a-9f54-ba7a94d2f66a",
   "metadata": {
    "execution": {
     "iopub.execute_input": "2025-03-03T10:34:53.028957Z",
     "iopub.status.busy": "2025-03-03T10:34:53.028390Z",
     "iopub.status.idle": "2025-03-03T10:34:53.037913Z",
     "shell.execute_reply": "2025-03-03T10:34:53.036862Z",
     "shell.execute_reply.started": "2025-03-03T10:34:53.028920Z"
    }
   },
   "outputs": [],
   "source": [
    "this_df = pd.DataFrame(this_data, columns=all_conc.columns)"
   ]
  },
  {
   "cell_type": "code",
   "execution_count": 72,
   "id": "17d3bcdd-74de-4ada-9224-66268713878b",
   "metadata": {
    "execution": {
     "iopub.execute_input": "2025-03-03T10:35:38.820790Z",
     "iopub.status.busy": "2025-03-03T10:35:38.817073Z",
     "iopub.status.idle": "2025-03-03T10:35:38.829660Z",
     "shell.execute_reply": "2025-03-03T10:35:38.829332Z",
     "shell.execute_reply.started": "2025-03-03T10:35:38.820745Z"
    }
   },
   "outputs": [],
   "source": [
    "all_conc = pd.concat([all_conc, this_df], ignore_index=True).reset_index(drop = True)"
   ]
  },
  {
   "cell_type": "code",
   "execution_count": 73,
   "id": "249db7c1-87bc-4353-8ebd-c0d79005f8ac",
   "metadata": {
    "execution": {
     "iopub.execute_input": "2025-03-03T10:35:56.589526Z",
     "iopub.status.busy": "2025-03-03T10:35:56.589051Z",
     "iopub.status.idle": "2025-03-03T10:35:56.596235Z",
     "shell.execute_reply": "2025-03-03T10:35:56.595296Z",
     "shell.execute_reply.started": "2025-03-03T10:35:56.589492Z"
    }
   },
   "outputs": [],
   "source": [
    "all_conc.sort_values(by='Metabolite', inplace=True)\n"
   ]
  },
  {
   "cell_type": "code",
   "execution_count": 74,
   "id": "7558a551-8259-4669-927b-f036c4222a1d",
   "metadata": {
    "execution": {
     "iopub.execute_input": "2025-03-03T10:36:07.481598Z",
     "iopub.status.busy": "2025-03-03T10:36:07.480992Z",
     "iopub.status.idle": "2025-03-03T10:36:07.498771Z",
     "shell.execute_reply": "2025-03-03T10:36:07.497830Z",
     "shell.execute_reply.started": "2025-03-03T10:36:07.481562Z"
    }
   },
   "outputs": [],
   "source": [
    "all_conc.to_csv(all_conc_fn)"
   ]
  },
  {
   "cell_type": "markdown",
   "id": "97894d4e-e0b7-490a-ad8e-1f9ed7ae15dc",
   "metadata": {},
   "source": [
    "# Add error estimates from Bennet et al, for those data points missing that info from ECMDB"
   ]
  },
  {
   "cell_type": "code",
   "execution_count": 187,
   "id": "07b7b7af-158e-4f41-b8ed-63ce17a6a6a8",
   "metadata": {
    "execution": {
     "iopub.execute_input": "2025-03-07T20:56:22.988218Z",
     "iopub.status.busy": "2025-03-07T20:56:22.985919Z",
     "iopub.status.idle": "2025-03-07T20:56:23.006791Z",
     "shell.execute_reply": "2025-03-07T20:56:23.006218Z",
     "shell.execute_reply.started": "2025-03-07T20:56:22.988135Z"
    }
   },
   "outputs": [],
   "source": [
    "bennet_fn = '../../data/bennet_2009/intracellular_concentrations.csv'\n",
    "bennet_df = pd.read_csv(bennet_fn)"
   ]
  },
  {
   "cell_type": "code",
   "execution_count": 192,
   "id": "e96f3bad-4a88-4e2e-b423-7f610b580f21",
   "metadata": {
    "execution": {
     "iopub.execute_input": "2025-03-07T20:56:49.403295Z",
     "iopub.status.busy": "2025-03-07T20:56:49.402478Z",
     "iopub.status.idle": "2025-03-07T20:56:49.419660Z",
     "shell.execute_reply": "2025-03-07T20:56:49.413343Z",
     "shell.execute_reply.started": "2025-03-07T20:56:49.403248Z"
    }
   },
   "outputs": [],
   "source": [
    "name_to_bennet = {key:value.rstrip('[c]*') for key, value in name_to_park.items() if isinstance(value, str)}\n",
    "name_to_bennet['Cis-aconitate']='aconitate'\n",
    "name_to_bennet['Trans-aconitate']='aconitate'\n",
    "name_to_bennet['Leucine'] = 'isoleucine+leucine'\n",
    "name_to_bennet['Isoleucine'] = 'isoleucine+leucine'\n",
    "name_to_bennet['NAD']='NAD'\n",
    "name_to_bennet['Ribose-5-phosphate'] = 'pentose-P'\n",
    "name_to_bennet['Ribulose-5-phosphate'] = 'pentose-P'\n",
    "name_to_bennet['Xylulose-5-phosphate'] = 'pentose-P'"
   ]
  },
  {
   "cell_type": "code",
   "execution_count": 189,
   "id": "dfc551cd-b93f-4fec-8c72-5f0e222b5782",
   "metadata": {
    "execution": {
     "iopub.execute_input": "2025-03-07T20:56:23.756311Z",
     "iopub.status.busy": "2025-03-07T20:56:23.755963Z",
     "iopub.status.idle": "2025-03-07T20:56:23.760029Z",
     "shell.execute_reply": "2025-03-07T20:56:23.759395Z",
     "shell.execute_reply.started": "2025-03-07T20:56:23.756278Z"
    }
   },
   "outputs": [],
   "source": [
    "# park_to_name = met_info.set_index('Park et al. name')['Metabolite'].to_dict()\n",
    "# park_to_name = {key.rstrip('[c]*'): value for key, value in park_to_name.items() if isinstance(key, str)}"
   ]
  },
  {
   "cell_type": "code",
   "execution_count": 193,
   "id": "92e66361-afa6-4f98-ba89-6d9c2002c8b3",
   "metadata": {
    "execution": {
     "iopub.execute_input": "2025-03-07T20:56:52.462351Z",
     "iopub.status.busy": "2025-03-07T20:56:52.461028Z",
     "iopub.status.idle": "2025-03-07T20:56:52.490110Z",
     "shell.execute_reply": "2025-03-07T20:56:52.489600Z",
     "shell.execute_reply.started": "2025-03-07T20:56:52.462266Z"
    }
   },
   "outputs": [
    {
     "name": "stdout",
     "output_type": "stream",
     "text": [
      "Set pentose-P to 228.66666666666666\n",
      "Set pentose-P to 340.00000000000006\n",
      "Set pentose-P to 440.0\n"
     ]
    }
   ],
   "source": [
    "for i, row in all_conc.iterrows():\n",
    "    if row['reference_text'].lower()[:7]=='bennett':\n",
    "        bname = name_to_bennet[row['Metabolite']]\n",
    "        if row['error']==0:\n",
    "            idx = bennet_df.Metabolite==bname\n",
    "            if np.sum(idx) == 0:\n",
    "                print(row)\n",
    "                break\n",
    "            conc_bennet = bennet_df.loc[idx, row['Carbon source']].values[0]*1e6\n",
    "            \n",
    "            if bname in ['isoleucine+leucine', 'aconitate']:\n",
    "                conc_bennet = conc_bennet/2.0\n",
    "            elif bname=='pentose-P':\n",
    "                conc_bennet = conc_bennet/3.0\n",
    "            if np.round(conc_bennet, 3)!=row['concentration']:\n",
    "                    print(f'Set {bname} to {conc_bennet}')\n",
    "                    all_conc.at[i, 'concentration'] = conc_bennet\n",
    "\n",
    "            error = (bennet_df.loc[idx, f\"{row['Carbon source']}-UB\"].values[0]-bennet_df.loc[idx, row['Carbon source']].values[0])*1e6\n",
    "            if bname in ['isoleucine+leucine', 'aconitate']:\n",
    "                error /= 2\n",
    "            elif bname=='pentose-P':\n",
    "                error = error/3.0\n",
    "            all_conc.at[i, 'error'] = error\n"
   ]
  },
  {
   "cell_type": "code",
   "execution_count": 194,
   "id": "c67fd069-365e-49f5-8c20-8870966cb2f1",
   "metadata": {
    "execution": {
     "iopub.execute_input": "2025-03-07T20:57:10.420420Z",
     "iopub.status.busy": "2025-03-07T20:57:10.419409Z",
     "iopub.status.idle": "2025-03-07T20:57:10.445160Z",
     "shell.execute_reply": "2025-03-07T20:57:10.444364Z",
     "shell.execute_reply.started": "2025-03-07T20:57:10.420378Z"
    }
   },
   "outputs": [],
   "source": [
    "all_conc.to_csv(all_conc_fn)"
   ]
  }
 ],
 "metadata": {
  "kernelspec": {
   "display_name": "Python 3 (ipykernel)",
   "language": "python",
   "name": "python3"
  },
  "language_info": {
   "codemirror_mode": {
    "name": "ipython",
    "version": 3
   },
   "file_extension": ".py",
   "mimetype": "text/x-python",
   "name": "python",
   "nbconvert_exporter": "python",
   "pygments_lexer": "ipython3",
   "version": "3.9.21"
  }
 },
 "nbformat": 4,
 "nbformat_minor": 5
}
