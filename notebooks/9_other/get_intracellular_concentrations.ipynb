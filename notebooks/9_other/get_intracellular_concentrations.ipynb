{
 "cells": [
  {
   "cell_type": "code",
   "execution_count": 2,
   "id": "d27f504a-e0c4-4f0a-bc3b-36f2309b3e9d",
   "metadata": {
    "execution": {
     "iopub.execute_input": "2025-03-03T09:37:10.579017Z",
     "iopub.status.busy": "2025-03-03T09:37:10.578486Z",
     "iopub.status.idle": "2025-03-03T09:37:11.077547Z",
     "shell.execute_reply": "2025-03-03T09:37:11.077157Z",
     "shell.execute_reply.started": "2025-03-03T09:37:10.578986Z"
    }
   },
   "outputs": [],
   "source": [
    "import requests\n",
    "from bs4 import BeautifulSoup\n",
    "import pandas as pd\n",
    "import xml.etree.ElementTree as ET\n",
    "from pathlib import Path\n",
    "import json\n",
    "import numpy as np\n"
   ]
  },
  {
   "cell_type": "code",
   "execution_count": 221,
   "id": "56403b0a-e716-4b23-91ed-3eb73df80c7b",
   "metadata": {
    "execution": {
     "iopub.execute_input": "2025-03-08T20:18:15.335555Z",
     "iopub.status.busy": "2025-03-08T20:18:15.334439Z",
     "iopub.status.idle": "2025-03-08T20:18:15.356945Z",
     "shell.execute_reply": "2025-03-08T20:18:15.354848Z",
     "shell.execute_reply.started": "2025-03-08T20:18:15.335499Z"
    }
   },
   "outputs": [],
   "source": [
    "def get_soup_for_ecmdb_ID(ecmdb_id):\n",
    "    response = requests.get(f'https://ecmdb.ca/compounds/{ecmdb_id}')\n",
    "    soup = BeautifulSoup(response.text, 'lxml-xml')\n",
    "    xml_string = soup.find('concentrations')\n",
    "    return xml_string"
   ]
  },
  {
   "cell_type": "code",
   "execution_count": 222,
   "id": "b7ad32d4-d51f-4c39-bf1a-9576b34e6ac2",
   "metadata": {
    "execution": {
     "iopub.execute_input": "2025-03-08T20:18:15.541560Z",
     "iopub.status.busy": "2025-03-08T20:18:15.540705Z",
     "iopub.status.idle": "2025-03-08T20:18:15.561021Z",
     "shell.execute_reply": "2025-03-08T20:18:15.557967Z",
     "shell.execute_reply.started": "2025-03-08T20:18:15.541526Z"
    }
   },
   "outputs": [],
   "source": [
    "def parse_concentrations_ecmdb(soup):\n",
    "    # Convert the soup to a string for parsing\n",
    "    tree = ET.fromstring(str(soup))\n",
    "    \n",
    "    # Initialize a list to store extracted data\n",
    "    data = []\n",
    "    \n",
    "    # Iterate over all elements in the XML and collect their tags and text values\n",
    "    index = 0\n",
    "    rows = []\n",
    "    row = {}\n",
    "    for element in tree.iter():\n",
    "        text = element.text.strip() if element.text else ''\n",
    "        if not len(text):\n",
    "            continue\n",
    "        if row.get(element.tag):\n",
    "            print(\"New!\")\n",
    "            rows.append(row)\n",
    "            row = {}\n",
    "        row[element.tag] = text\n",
    "    rows.append(row)\n",
    "    # Convert the data into a DataFrame for tabular display\n",
    "    df = pd.DataFrame(rows)\n",
    "    \n",
    "    return df"
   ]
  },
  {
   "cell_type": "code",
   "execution_count": 228,
   "id": "1795302c-b3de-410a-8351-2360343591fe",
   "metadata": {
    "execution": {
     "iopub.execute_input": "2025-03-08T20:22:27.528559Z",
     "iopub.status.busy": "2025-03-08T20:22:27.525882Z",
     "iopub.status.idle": "2025-03-08T20:22:27.545540Z",
     "shell.execute_reply": "2025-03-08T20:22:27.544512Z",
     "shell.execute_reply.started": "2025-03-08T20:22:27.528459Z"
    }
   },
   "outputs": [],
   "source": [
    "def get_ecmdb_conc(ecmdb_id):\n",
    "    xml_string = get_soup_for_ecmdb_ID(ecmdb_id)\n",
    "    try:\n",
    "        temp_df = parse_concentrations_ecmdb(xml_string)\n",
    "    except:\n",
    "        print(ecmdb_id, ' ParseError')\n",
    "        return pd.DataFrame()\n",
    "    else:\n",
    "        return temp_df"
   ]
  },
  {
   "cell_type": "markdown",
   "id": "79fb8307-ff20-4dad-af31-c7abff51a70d",
   "metadata": {},
   "source": [
    "# Get ECMDB id for all metabolites"
   ]
  },
  {
   "cell_type": "code",
   "execution_count": 204,
   "id": "2b279ec7-1400-41af-938f-b2a988f5febd",
   "metadata": {
    "execution": {
     "iopub.execute_input": "2025-03-08T20:14:22.143902Z",
     "iopub.status.busy": "2025-03-08T20:14:22.141983Z",
     "iopub.status.idle": "2025-03-08T20:14:22.162988Z",
     "shell.execute_reply": "2025-03-08T20:14:22.162423Z",
     "shell.execute_reply.started": "2025-03-08T20:14:22.143806Z"
    }
   },
   "outputs": [],
   "source": [
    "\n",
    "data_folder = Path('../../data')\n",
    "met_info_fn = data_folder / 'this_project' / '5_div' / '5C_metabolite_info.csv'\n",
    "met_info = pd.read_csv(met_info_fn, index_col=0)"
   ]
  },
  {
   "cell_type": "code",
   "execution_count": 205,
   "id": "5d81aea0-19bd-4c5a-b6e7-a87700866275",
   "metadata": {
    "execution": {
     "iopub.execute_input": "2025-03-08T20:14:23.482949Z",
     "iopub.status.busy": "2025-03-08T20:14:23.482525Z",
     "iopub.status.idle": "2025-03-08T20:14:23.488125Z",
     "shell.execute_reply": "2025-03-08T20:14:23.487467Z",
     "shell.execute_reply.started": "2025-03-08T20:14:23.482920Z"
    }
   },
   "outputs": [],
   "source": [
    "all_conc_fn = data_folder / 'this_project' / '5_div' / '5E_intracellular_concentrations.csv'\n"
   ]
  },
  {
   "cell_type": "code",
   "execution_count": 206,
   "id": "d91061f8-5dd6-40d1-b86a-0718d17ad672",
   "metadata": {
    "execution": {
     "iopub.execute_input": "2025-03-08T20:14:24.572380Z",
     "iopub.status.busy": "2025-03-08T20:14:24.571647Z",
     "iopub.status.idle": "2025-03-08T20:14:24.654429Z",
     "shell.execute_reply": "2025-03-08T20:14:24.653995Z",
     "shell.execute_reply.started": "2025-03-08T20:14:24.572344Z"
    }
   },
   "outputs": [],
   "source": [
    "ecmdb_fn = data_folder / 'Other' / 'ecmdb.json' \n",
    "with open(ecmdb_fn, 'r') as f:\n",
    "    ecmdb = json.load(f)"
   ]
  },
  {
   "cell_type": "code",
   "execution_count": 207,
   "id": "4a04d8f7-dc89-4df8-a892-aa0cce070772",
   "metadata": {
    "execution": {
     "iopub.execute_input": "2025-03-08T20:14:25.641643Z",
     "iopub.status.busy": "2025-03-08T20:14:25.639270Z",
     "iopub.status.idle": "2025-03-08T20:14:25.681837Z",
     "shell.execute_reply": "2025-03-08T20:14:25.681387Z",
     "shell.execute_reply.started": "2025-03-08T20:14:25.641573Z"
    }
   },
   "outputs": [],
   "source": [
    "ecm_df = pd.DataFrame(ecmdb)"
   ]
  },
  {
   "cell_type": "markdown",
   "id": "31e15f96-df72-4d25-b620-66a5901f5df6",
   "metadata": {},
   "source": [
    "# Used to get ECMDB IDs from names matched by Gemini"
   ]
  },
  {
   "cell_type": "code",
   "execution_count": 210,
   "id": "66c61b44-0774-4e4c-8488-887449f1570b",
   "metadata": {
    "execution": {
     "iopub.execute_input": "2025-03-08T20:15:57.543394Z",
     "iopub.status.busy": "2025-03-08T20:15:57.542331Z",
     "iopub.status.idle": "2025-03-08T20:15:57.557957Z",
     "shell.execute_reply": "2025-03-08T20:15:57.555851Z",
     "shell.execute_reply.started": "2025-03-08T20:15:57.543324Z"
    }
   },
   "outputs": [],
   "source": [
    "# ecmdb_mapping_fn = 'metabolite_to_ecmdb.csv'\n",
    "# conc_df = pd.read_csv(ecmdb_mapping_fn)\n",
    "# ecmdb_id = []\n",
    "# for i, row in conc_df.iterrows():\n",
    "#     name = row['ECMDB name']\n",
    "#     dfi = ecm_df.loc[ecm_df.name==name]\n",
    "#     if len(dfi)==1:\n",
    "#         ecmdb_id.append(dfi['met_id'].values[0])\n",
    "#     else:\n",
    "#         ecmdb_id.append(None)\n",
    "# conc_df['ECMDB ID'] = ecmdb_id\n",
    "# conc_df.to_csv(ecmdb_mapping_fn)"
   ]
  },
  {
   "cell_type": "markdown",
   "id": "82e51e6e-be16-4b08-bd75-83f5d3192988",
   "metadata": {},
   "source": [
    "# Extract all concentration data from ECMDB for relecant metabolites"
   ]
  },
  {
   "cell_type": "code",
   "execution_count": 231,
   "id": "2ca0ebe7-5e8f-4da2-aa07-c9fa266547d6",
   "metadata": {
    "execution": {
     "iopub.execute_input": "2025-03-08T20:43:39.565819Z",
     "iopub.status.busy": "2025-03-08T20:43:39.564908Z",
     "iopub.status.idle": "2025-03-08T20:43:39.575825Z",
     "shell.execute_reply": "2025-03-08T20:43:39.574864Z",
     "shell.execute_reply.started": "2025-03-08T20:43:39.565763Z"
    }
   },
   "outputs": [],
   "source": [
    "# conc_data = {}\n"
   ]
  },
  {
   "cell_type": "code",
   "execution_count": 233,
   "id": "7a9e1a02-1d40-484a-96e6-65d952860f5b",
   "metadata": {
    "execution": {
     "iopub.execute_input": "2025-03-08T20:44:47.913583Z",
     "iopub.status.busy": "2025-03-08T20:44:47.912725Z",
     "iopub.status.idle": "2025-03-08T20:46:25.197520Z",
     "shell.execute_reply": "2025-03-08T20:46:25.196563Z",
     "shell.execute_reply.started": "2025-03-08T20:44:47.913529Z"
    },
    "scrolled": true
   },
   "outputs": [
    {
     "name": "stdout",
     "output_type": "stream",
     "text": [
      "0 2-phosphoglycerate\n",
      "2-phosphoglycerate\n",
      "1 3-phosphoglycerate\n",
      "2 Acetate\n",
      "3 Alanine\n",
      "4 Alpha-aminoadipate\n",
      "Alpha-aminoadipate\n",
      "5 Alpha-aminobutyrate\n",
      "Alpha-aminobutyrate\n",
      "nan  ParseError\n",
      "6 Alpha-ketoglutarate\n",
      "7 Arginine\n",
      "8 Asparagine\n",
      "9 Aspartate\n",
      "10 Beta-alanine\n",
      "11 Cis-aconitate\n",
      "12 Citrate\n",
      "13 Creatine\n",
      "Creatine\n",
      "nan  ParseError\n",
      "14 Dihydroxyacetone phosphate\n",
      "15 Erythrose-4-phosphate\n",
      "16 Ethanol\n",
      "Ethanol\n",
      "17 Formate\n",
      "18 Fructose-1,6-bisphosphate\n",
      "19 Fructose-6-phosphate\n",
      "20 Fumarate\n",
      "21 Gamma-aminobutyrate\n",
      "22 Glucose-6-phosphate\n",
      "23 Glutamate\n",
      "24 Glutamine\n",
      "25 Glutarate\n",
      "Glutarate\n",
      "26 Glyceraldehyde-3-phosphate\n",
      "Glyceraldehyde-3-phosphate\n",
      "27 Glycine\n",
      "28 Hexoses\n",
      "Hexoses\n",
      "nan  ParseError\n",
      "29 Histidine\n",
      "30 Homoserine\n",
      "31 Isocitrate\n",
      "Isocitrate\n",
      "32 Isoleucine\n",
      "33 Lactate\n",
      "Lactate\n",
      "34 Leucine\n",
      "35 Lysine\n",
      "36 Malate\n",
      "37 Methionine\n",
      "38 NAD\n",
      "NAD\n",
      "New!\n",
      "New!\n",
      "New!\n",
      "New!\n",
      "New!\n",
      "39 Orotate\n",
      "Orotate\n",
      "40 Oxaloacetate\n",
      "Oxaloacetate\n",
      "41 Phenylalanine\n",
      "Phenylalanine\n",
      "New!\n",
      "New!\n",
      "New!\n",
      "New!\n",
      "42 Phosphoenolpyruvate\n",
      "Phosphoenolpyruvate\n",
      "New!\n",
      "New!\n",
      "New!\n",
      "New!\n",
      "43 Pipecolic acid\n",
      "Pipecolic acid\n",
      "44 Propionate\n",
      "Propionate\n",
      "45 Proline\n",
      "Proline\n",
      "New!\n",
      "New!\n",
      "New!\n",
      "New!\n",
      "New!\n",
      "46 Pyruvate\n",
      "Pyruvate\n",
      "New!\n",
      "47 Ribose-5-phosphate\n",
      "Ribose-5-phosphate\n",
      "New!\n",
      "New!\n",
      "48 Ribulose-5-phosphate\n",
      "Ribulose-5-phosphate\n",
      "New!\n",
      "New!\n",
      "New!\n",
      "49 Sedoheptulose 7-phosphate\n",
      "Sedoheptulose 7-phosphate\n",
      "50 Serine\n",
      "Serine\n",
      "New!\n",
      "New!\n",
      "New!\n",
      "New!\n",
      "51 Shikimate\n",
      "Shikimate\n",
      "52 Succinate\n",
      "Succinate\n",
      "New!\n",
      "New!\n",
      "New!\n",
      "53 Threonine\n",
      "Threonine\n",
      "New!\n",
      "New!\n",
      "54 Trans-aconitate\n",
      "Trans-aconitate\n",
      "New!\n",
      "55 Tryptophan\n",
      "Tryptophan\n",
      "New!\n",
      "New!\n",
      "New!\n",
      "New!\n",
      "56 Tyrosine\n",
      "Tyrosine\n",
      "New!\n",
      "New!\n",
      "New!\n",
      "New!\n",
      "57 Uracil\n",
      "Uracil\n",
      "58 Valine\n",
      "Valine\n",
      "New!\n",
      "New!\n",
      "New!\n",
      "New!\n",
      "New!\n",
      "59 Xylulose-5-phosphate\n",
      "Xylulose-5-phosphate\n",
      "New!\n",
      "New!\n",
      "60 Deoxycarnitine\n",
      "Deoxycarnitine\n",
      "nan  ParseError\n",
      "61 Glutarylcarnitine\n",
      "Glutarylcarnitine\n",
      "nan  ParseError\n",
      "62 Sebacoyl-l-carnitine\n",
      "Sebacoyl-l-carnitine\n",
      "nan  ParseError\n",
      "63 Acetyl-ornithine\n",
      "Acetyl-ornithine\n",
      "New!\n",
      "New!\n",
      "New!\n",
      "New!\n",
      "64 Beta-hydroxybutyrate\n",
      "Beta-hydroxybutyrate\n",
      "65 Putrescine\n",
      "Putrescine\n",
      "New!\n",
      "New!\n",
      "New!\n"
     ]
    }
   ],
   "source": [
    "for i, row in met_info.iterrows():\n",
    "    print(i, row['Metabolite'])\n",
    "    if row['Metabolite'] in conc_data.keys():\n",
    "        continue\n",
    "    print(row['Metabolite'])\n",
    "    if row['ECMDB ID']:\n",
    "        conc_dfi = get_ecmdb_conc(row['ECMDB ID'])\n",
    "        \n",
    "        if conc_dfi.size:\n",
    "            conc_data[row['Metabolite']] = conc_dfi"
   ]
  },
  {
   "cell_type": "code",
   "execution_count": 234,
   "id": "3d663969-8e94-412d-acf4-ece6259f9412",
   "metadata": {
    "execution": {
     "iopub.execute_input": "2025-03-08T20:46:25.198722Z",
     "iopub.status.busy": "2025-03-08T20:46:25.198573Z",
     "iopub.status.idle": "2025-03-08T20:46:25.202139Z",
     "shell.execute_reply": "2025-03-08T20:46:25.201516Z",
     "shell.execute_reply.started": "2025-03-08T20:46:25.198707Z"
    }
   },
   "outputs": [],
   "source": [
    "# conc_dfi = get_ecmdb_conc('ECMDB20123')\n",
    "# conc_dfi['Metabolite'] = 'Fructose-1,6-bisphosphate'\n",
    "# conc_dfi['#'] = list(np.arange(len(conc_dfi)))\n",
    "# conc_data['Alpha-ketoglutarate'] = conc_dfi"
   ]
  },
  {
   "cell_type": "code",
   "execution_count": 239,
   "id": "d8f34fd1-3d40-45a8-8b80-9b68334dae87",
   "metadata": {
    "execution": {
     "iopub.execute_input": "2025-03-08T20:47:56.521748Z",
     "iopub.status.busy": "2025-03-08T20:47:56.520733Z",
     "iopub.status.idle": "2025-03-08T20:47:56.529147Z",
     "shell.execute_reply": "2025-03-08T20:47:56.525466Z",
     "shell.execute_reply.started": "2025-03-08T20:47:56.521713Z"
    }
   },
   "outputs": [],
   "source": [
    "# all_conc = pd.concat([all_conc, conc_dfi], ignore_index=True).reset_index(drop=True)"
   ]
  },
  {
   "cell_type": "code",
   "execution_count": 240,
   "id": "f6e47b9f-516f-4fda-9b9f-83e13530a2f1",
   "metadata": {
    "execution": {
     "iopub.execute_input": "2025-03-08T20:48:04.711668Z",
     "iopub.status.busy": "2025-03-08T20:48:04.710704Z",
     "iopub.status.idle": "2025-03-08T20:48:04.744108Z",
     "shell.execute_reply": "2025-03-08T20:48:04.743231Z",
     "shell.execute_reply.started": "2025-03-08T20:48:04.711618Z"
    }
   },
   "outputs": [],
   "source": [
    "all_conc = pd.concat(conc_data).reset_index()"
   ]
  },
  {
   "cell_type": "code",
   "execution_count": 241,
   "id": "b8ecca83-491e-4b74-bd60-8f944bb06ba9",
   "metadata": {
    "execution": {
     "iopub.execute_input": "2025-03-08T20:48:11.489508Z",
     "iopub.status.busy": "2025-03-08T20:48:11.488622Z",
     "iopub.status.idle": "2025-03-08T20:48:11.502151Z",
     "shell.execute_reply": "2025-03-08T20:48:11.501177Z",
     "shell.execute_reply.started": "2025-03-08T20:48:11.489465Z"
    }
   },
   "outputs": [],
   "source": [
    "all_conc.rename(columns={'level_0': 'Metabolite', 'level_1': '#'}, inplace=True)"
   ]
  },
  {
   "cell_type": "code",
   "execution_count": 243,
   "id": "c07f2d3f-5453-479c-ae5a-8e95864f8f40",
   "metadata": {
    "execution": {
     "iopub.execute_input": "2025-03-08T20:48:33.766708Z",
     "iopub.status.busy": "2025-03-08T20:48:33.765623Z",
     "iopub.status.idle": "2025-03-08T20:48:33.789799Z",
     "shell.execute_reply": "2025-03-08T20:48:33.789093Z",
     "shell.execute_reply.started": "2025-03-08T20:48:33.766634Z"
    }
   },
   "outputs": [],
   "source": [
    "all_conc.to_csv(all_conc_fn)"
   ]
  },
  {
   "cell_type": "code",
   "execution_count": 112,
   "id": "f8520e9c-97d7-412b-acc1-6bc78de213e1",
   "metadata": {
    "execution": {
     "iopub.execute_input": "2025-02-28T09:41:20.223530Z",
     "iopub.status.busy": "2025-02-28T09:41:20.222956Z",
     "iopub.status.idle": "2025-02-28T09:41:20.243679Z",
     "shell.execute_reply": "2025-02-28T09:41:20.243241Z",
     "shell.execute_reply.started": "2025-02-28T09:41:20.223496Z"
    }
   },
   "outputs": [],
   "source": [
    "all_conc = pd.read_csv(all_conc_fn, index_col=0)"
   ]
  },
  {
   "cell_type": "code",
   "execution_count": 244,
   "id": "4d4ae6c4-b4db-47ea-ab63-6a0e3404190e",
   "metadata": {
    "execution": {
     "iopub.execute_input": "2025-03-08T20:48:46.590740Z",
     "iopub.status.busy": "2025-03-08T20:48:46.589775Z",
     "iopub.status.idle": "2025-03-08T20:48:46.597395Z",
     "shell.execute_reply": "2025-03-08T20:48:46.596648Z",
     "shell.execute_reply.started": "2025-03-08T20:48:46.590658Z"
    }
   },
   "outputs": [],
   "source": [
    "# for i, row in conc_df.iterrows():\n",
    "#     conc_i = all_conc.loc[all_conc.Metabolite==row['Metabolite']]\n",
    "#     conc_df.at[i, '# data points'] = int(len(conc_i))\n",
    "    "
   ]
  },
  {
   "cell_type": "markdown",
   "id": "ca9bc440-69b2-4510-9652-44d35d29df79",
   "metadata": {},
   "source": [
    "## Categorize media"
   ]
  },
  {
   "cell_type": "code",
   "execution_count": 245,
   "id": "aa5c45e5-6d99-4525-83cd-ac9cc266b12a",
   "metadata": {
    "execution": {
     "iopub.execute_input": "2025-03-08T20:48:54.142989Z",
     "iopub.status.busy": "2025-03-08T20:48:54.142131Z",
     "iopub.status.idle": "2025-03-08T20:48:54.162809Z",
     "shell.execute_reply": "2025-03-08T20:48:54.161621Z",
     "shell.execute_reply.started": "2025-03-08T20:48:54.142945Z"
    }
   },
   "outputs": [],
   "source": [
    "media_categorization = {\n",
    "    'Gutnick minimal complete medium (4.7 g/L KH2PO4; 13.5 g/L K2HPO4; 1 g/L K2SO4; 0.1 g/L MgSO4-7H2O; 10 mM NH4Cl) with 4 g/L glucose': ('Minimal', 'Glucose', 4),\n",
    "'Gutnick minimal complete medium (4.7 g/L KH2PO4; 13.5 g/L K2HPO4; 1 g/L K2SO4; 0.1 g/L MgSO4-7H2O; 10 mM NH4Cl) with 4 g/L glycerol': ('Minimal', 'Glycerol', 4),\n",
    "'Gutnick minimal complete medium (4.7 g/L KH2PO4; 13.5 g/L K2HPO4; 1 g/L K2SO4; 0.1 g/L MgSO4-7H2O; 10 mM NH4Cl) with 4 g/L acetate': ('Minimal', 'Acetate', 4),\n",
    "'Luria-Bertani (LB) media': ('Complex', 'LB', np.nan),\n",
    "'48 mM Na2HPO4, 22 mM KH2PO4, 10 mM NaCl, 45 mM (NH4)2SO4, supplemented with 1 mM MgSO4, 1 mg/l thiamine·HCl, 5.6 mg/l CaCl2, 8 mg/l FeCl3, 1 mg/l MnCl2·4H2O, 1.7 mg/l ZnCl2, 0.43 mg/l CuCl2·2H2O, 0.6 mg/l CoCl2·2H2O and 0.6 mg/l Na2MoO4·2H2O.  4 g/L Gluco': ('Minimal', 'Glucose', 4),\n",
    "'4.0 g/L Na2SO4; 5.36 g/L (NH4)2SO4; 1.0 g/L NH4Cl; 7.3 g/L K2HPO4; 1.8 g/L NaH2PO4 H2O; 12.0 g/L (NH4)2-H-citrate; 4.0 mL/L MgSO4 (1 M); 6.0 mL/L trace element solution; 0.02 g/L thiamine, 20 g/L glucose': ('Minimal', 'Glucose', 20),\n",
    "'0.2 g/L NH4Cl, 2.0 g/L (NH4)2SO4, 3.25 g/L KH2PO4, 2.5 g/L K2HPO4, 1.5 g/L NaH2PO4, 0.5 g/L MgSO4; trace substances: 10 mg/L CaCl2, 0.5 mg/L ZnSO4, 0.25 mg/L CuCl2, 0.25 mg/L  MnSO4, 0.175 mg/L CoCl2, 0.125 mg/L H3BO3, 2.5 mg/L AlCl3, 0.5 mg/L Na2MoO4, 10': ('Minimal', 'Glucose', 30),\n",
    "'M9 Minimal Media, 4 g/L Glucose': ('Minimal', 'Glucose', 4),\n",
    "'199 Medium with Earle’s salts –which contains 21 amino acids, 17 vitamins, 10 components of nucleic acids, sodium acetate, glucose, NaC1, KCl, CaC12, MgS04, Na2HP04, and Fe(N03)3': ('Complex', '199 Medium', np.nan)\n",
    "}"
   ]
  },
  {
   "cell_type": "code",
   "execution_count": 246,
   "id": "0fcc11be-14ba-42c6-bcf4-114abff7b516",
   "metadata": {
    "execution": {
     "iopub.execute_input": "2025-03-08T20:48:56.821747Z",
     "iopub.status.busy": "2025-03-08T20:48:56.820914Z",
     "iopub.status.idle": "2025-03-08T20:48:56.837691Z",
     "shell.execute_reply": "2025-03-08T20:48:56.836549Z",
     "shell.execute_reply.started": "2025-03-08T20:48:56.821705Z"
    }
   },
   "outputs": [],
   "source": [
    "temp = pd.DataFrame(all_conc.growth_media.map(media_categorization).to_list(), columns=['Minimal/complex', 'Carbon source', 'CS concentration [g/L]'])"
   ]
  },
  {
   "cell_type": "code",
   "execution_count": 248,
   "id": "dc5e7d67-0482-49b6-8566-93778988dcba",
   "metadata": {
    "execution": {
     "iopub.execute_input": "2025-03-08T20:49:19.674517Z",
     "iopub.status.busy": "2025-03-08T20:49:19.673489Z",
     "iopub.status.idle": "2025-03-08T20:49:19.684028Z",
     "shell.execute_reply": "2025-03-08T20:49:19.683106Z",
     "shell.execute_reply.started": "2025-03-08T20:49:19.674459Z"
    }
   },
   "outputs": [],
   "source": [
    "# all_conc.drop(columns=['Minimal/complex', 'Carbon source', 'CS concentration [g/L]'], inplace=True)"
   ]
  },
  {
   "cell_type": "code",
   "execution_count": 249,
   "id": "f5c1a56c-7e5d-4d26-9a8f-57d505e0f395",
   "metadata": {
    "execution": {
     "iopub.execute_input": "2025-03-08T20:49:24.504300Z",
     "iopub.status.busy": "2025-03-08T20:49:24.503292Z",
     "iopub.status.idle": "2025-03-08T20:49:24.522655Z",
     "shell.execute_reply": "2025-03-08T20:49:24.521566Z",
     "shell.execute_reply.started": "2025-03-08T20:49:24.504233Z"
    }
   },
   "outputs": [],
   "source": [
    "all_conc = all_conc.join(temp)"
   ]
  },
  {
   "cell_type": "code",
   "execution_count": 250,
   "id": "1dc1f71a-43d5-46fc-b8d5-0877bac3b5c6",
   "metadata": {
    "execution": {
     "iopub.execute_input": "2025-03-08T20:49:30.435149Z",
     "iopub.status.busy": "2025-03-08T20:49:30.434115Z",
     "iopub.status.idle": "2025-03-08T20:49:30.454432Z",
     "shell.execute_reply": "2025-03-08T20:49:30.453429Z",
     "shell.execute_reply.started": "2025-03-08T20:49:30.435105Z"
    }
   },
   "outputs": [],
   "source": [
    "all_conc.to_csv(all_conc_fn)"
   ]
  },
  {
   "cell_type": "code",
   "execution_count": 256,
   "id": "1174d61f-3d71-4c71-b599-966508a49dfb",
   "metadata": {
    "execution": {
     "iopub.execute_input": "2025-03-08T20:51:13.800068Z",
     "iopub.status.busy": "2025-03-08T20:51:13.799217Z",
     "iopub.status.idle": "2025-03-08T20:51:13.817292Z",
     "shell.execute_reply": "2025-03-08T20:51:13.815661Z",
     "shell.execute_reply.started": "2025-03-08T20:51:13.800026Z"
    }
   },
   "outputs": [],
   "source": [
    "all_conc[['LB', 'UB']] = None"
   ]
  },
  {
   "cell_type": "markdown",
   "id": "7421d1af-4d65-469a-8ced-8c5ca61fb31b",
   "metadata": {},
   "source": [
    "# Add data from Park et al., 2016\n"
   ]
  },
  {
   "cell_type": "code",
   "execution_count": 251,
   "id": "fbaadf3b-da98-4863-af52-2989d5ad2129",
   "metadata": {
    "execution": {
     "iopub.execute_input": "2025-03-08T20:49:45.590527Z",
     "iopub.status.busy": "2025-03-08T20:49:45.590020Z",
     "iopub.status.idle": "2025-03-08T20:49:45.604982Z",
     "shell.execute_reply": "2025-03-08T20:49:45.604145Z",
     "shell.execute_reply.started": "2025-03-08T20:49:45.590492Z"
    }
   },
   "outputs": [],
   "source": [
    "park_fn = data_folder / 'park_2016' / 'park_2016_natchembio_concentrations.csv'\n",
    "park_df = pd.read_csv(park_fn, skiprows=3)"
   ]
  },
  {
   "cell_type": "code",
   "execution_count": 252,
   "id": "6a58fc81-def6-44aa-aba5-7ba1883a09a4",
   "metadata": {
    "execution": {
     "iopub.execute_input": "2025-03-08T20:49:45.941805Z",
     "iopub.status.busy": "2025-03-08T20:49:45.940938Z",
     "iopub.status.idle": "2025-03-08T20:49:45.953115Z",
     "shell.execute_reply": "2025-03-08T20:49:45.952011Z",
     "shell.execute_reply.started": "2025-03-08T20:49:45.941764Z"
    }
   },
   "outputs": [],
   "source": [
    "name_to_park = met_info.set_index('Metabolite')['Park et al. name'].to_dict()"
   ]
  },
  {
   "cell_type": "code",
   "execution_count": 253,
   "id": "dd1f52bc-e240-40ed-b547-fa0c571a44a1",
   "metadata": {
    "execution": {
     "iopub.execute_input": "2025-03-08T20:49:46.298634Z",
     "iopub.status.busy": "2025-03-08T20:49:46.297804Z",
     "iopub.status.idle": "2025-03-08T20:49:46.311310Z",
     "shell.execute_reply": "2025-03-08T20:49:46.310122Z",
     "shell.execute_reply.started": "2025-03-08T20:49:46.298591Z"
    }
   },
   "outputs": [],
   "source": [
    "park_df.rename(columns={'Metabolite[compartment] \\ Concentration(M)': 'Metabolite'}, inplace=True)"
   ]
  },
  {
   "cell_type": "code",
   "execution_count": 258,
   "id": "d5dd14fd-c41b-42f7-a692-05f8ce1eb80b",
   "metadata": {
    "execution": {
     "iopub.execute_input": "2025-03-08T20:51:36.780899Z",
     "iopub.status.busy": "2025-03-08T20:51:36.779729Z",
     "iopub.status.idle": "2025-03-08T20:51:36.807340Z",
     "shell.execute_reply": "2025-03-08T20:51:36.806204Z",
     "shell.execute_reply.started": "2025-03-08T20:51:36.780827Z"
    }
   },
   "outputs": [],
   "source": [
    "# Most metabolites in this spreadsheet are from Bennet et al., 2009, Nat Chem Biol https://doi.org/10.1038/nchembio.186\n",
    "# These are also in ECMDB, but there are a few more values in this sheet to add\n",
    "ref_text = 'Park et al., 2016, Nat Chem Biol'\n",
    "metabolites_to_add_from_park = ['2-phosphoglycerate', 'Erythrose-4-phosphate','Glyceraldehyde-3-phosphate', 'Isocitrate', 'Oxaloacetate', 'Sedoheptulose 7-phosphate']\n",
    "park_data = []\n",
    "for mname in metabolites_to_add_from_park:\n",
    "    pname = name_to_park[mname]\n",
    "    conc  = float(park_df.loc[park_df.Metabolite==pname, 'E. coli'].values[0])\n",
    "    lb = float(park_df.loc[park_df.Metabolite==pname, 'L.B..2'].values[0])\n",
    "    ub = float(park_df.loc[park_df.Metabolite==pname, 'U.B..2'].values[0])\n",
    "    \n",
    "    park_data.append([mname, 0, 'Gutnick minimal medium', 'Bioreactor', conc*1e6, 'uM', 0, '37', 'NCM3722', 'Log-phase', None, None, ref_text, '27159581', None, 'Minimal', 'Glucose', 4, lb, ub])"
   ]
  },
  {
   "cell_type": "code",
   "execution_count": 259,
   "id": "caec8f62-ae5e-4163-848f-334e692a16eb",
   "metadata": {
    "execution": {
     "iopub.execute_input": "2025-03-08T20:51:38.263484Z",
     "iopub.status.busy": "2025-03-08T20:51:38.262634Z",
     "iopub.status.idle": "2025-03-08T20:51:38.275607Z",
     "shell.execute_reply": "2025-03-08T20:51:38.275016Z",
     "shell.execute_reply.started": "2025-03-08T20:51:38.263444Z"
    }
   },
   "outputs": [],
   "source": [
    "park_df = pd.DataFrame(park_data, columns=all_conc.columns)"
   ]
  },
  {
   "cell_type": "code",
   "execution_count": 260,
   "id": "4ae6a951-0df7-4c28-ba18-e2ac5d90bacb",
   "metadata": {
    "execution": {
     "iopub.execute_input": "2025-03-08T20:51:41.161844Z",
     "iopub.status.busy": "2025-03-08T20:51:41.159064Z",
     "iopub.status.idle": "2025-03-08T20:51:41.181411Z",
     "shell.execute_reply": "2025-03-08T20:51:41.180211Z",
     "shell.execute_reply.started": "2025-03-08T20:51:41.161754Z"
    }
   },
   "outputs": [
    {
     "name": "stderr",
     "output_type": "stream",
     "text": [
      "/var/folders/xf/kl76knj11y72v0_qy4vv7tgh0000gp/T/ipykernel_2407/731213435.py:1: FutureWarning: The behavior of DataFrame concatenation with empty or all-NA entries is deprecated. In a future version, this will no longer exclude empty or all-NA columns when determining the result dtypes. To retain the old behavior, exclude the relevant entries before the concat operation.\n",
      "  all_conc = pd.concat([all_conc, park_df], ignore_index=True).reset_index(drop = True)\n"
     ]
    }
   ],
   "source": [
    "all_conc = pd.concat([all_conc, park_df], ignore_index=True).reset_index(drop = True)"
   ]
  },
  {
   "cell_type": "markdown",
   "id": "eaaa6513-9ec6-4e0b-95c2-b59dd4a498dd",
   "metadata": {},
   "source": [
    "# Add data from Thorfinsdottir et al."
   ]
  },
  {
   "cell_type": "code",
   "execution_count": 262,
   "id": "e970ee60-22ab-4048-88d0-5d2ba1560b34",
   "metadata": {
    "execution": {
     "iopub.execute_input": "2025-03-08T20:52:13.691062Z",
     "iopub.status.busy": "2025-03-08T20:52:13.689908Z",
     "iopub.status.idle": "2025-03-08T20:52:13.707236Z",
     "shell.execute_reply": "2025-03-08T20:52:13.706854Z",
     "shell.execute_reply.started": "2025-03-08T20:52:13.691007Z"
    }
   },
   "outputs": [],
   "source": [
    "thd_fn = data_folder / 'Thorfinnsdottir_2022/Supplementary Table S2 - Thorfinnsdottir et al.csv'\n",
    "thd_df = pd.read_csv(thd_fn, skiprows=2)"
   ]
  },
  {
   "cell_type": "code",
   "execution_count": 263,
   "id": "7b5b469a-3605-414f-8b40-d632f3466d63",
   "metadata": {
    "execution": {
     "iopub.execute_input": "2025-03-08T20:52:14.080730Z",
     "iopub.status.busy": "2025-03-08T20:52:14.071135Z",
     "iopub.status.idle": "2025-03-08T20:52:14.092309Z",
     "shell.execute_reply": "2025-03-08T20:52:14.091671Z",
     "shell.execute_reply.started": "2025-03-08T20:52:14.080699Z"
    }
   },
   "outputs": [
    {
     "data": {
      "text/html": [
       "<div>\n",
       "<style scoped>\n",
       "    .dataframe tbody tr th:only-of-type {\n",
       "        vertical-align: middle;\n",
       "    }\n",
       "\n",
       "    .dataframe tbody tr th {\n",
       "        vertical-align: top;\n",
       "    }\n",
       "\n",
       "    .dataframe thead th {\n",
       "        text-align: right;\n",
       "    }\n",
       "</style>\n",
       "<table border=\"1\" class=\"dataframe\">\n",
       "  <thead>\n",
       "    <tr style=\"text-align: right;\">\n",
       "      <th></th>\n",
       "      <th>Unnamed: 0</th>\n",
       "      <th>Cultivation condition</th>\n",
       "      <th>Biological replica</th>\n",
       "      <th>Technical</th>\n",
       "      <th>Asn</th>\n",
       "      <th>Asp</th>\n",
       "      <th>ATP</th>\n",
       "      <th>cAMP</th>\n",
       "      <th>CDP</th>\n",
       "      <th>2/3-PG</th>\n",
       "      <th>...</th>\n",
       "      <th>Pro</th>\n",
       "      <th>PRPP</th>\n",
       "      <th>R5P</th>\n",
       "      <th>S7P</th>\n",
       "      <th>Ser</th>\n",
       "      <th>Suc</th>\n",
       "      <th>UDP-GlcNac</th>\n",
       "      <th>UMP</th>\n",
       "      <th>UTP</th>\n",
       "      <th>Val</th>\n",
       "    </tr>\n",
       "  </thead>\n",
       "  <tbody>\n",
       "    <tr>\n",
       "      <th>0</th>\n",
       "      <td>Mineral</td>\n",
       "      <td>Bioreactor</td>\n",
       "      <td>A</td>\n",
       "      <td>1</td>\n",
       "      <td>0.000150</td>\n",
       "      <td>0.00023</td>\n",
       "      <td>0.0032</td>\n",
       "      <td>0.000013</td>\n",
       "      <td>0.00012</td>\n",
       "      <td>0.00038</td>\n",
       "      <td>...</td>\n",
       "      <td>0.00016</td>\n",
       "      <td>0.000120</td>\n",
       "      <td>0.00022</td>\n",
       "      <td>0.000070</td>\n",
       "      <td>0.00028</td>\n",
       "      <td>0.0018</td>\n",
       "      <td>0.00076</td>\n",
       "      <td>0.0032</td>\n",
       "      <td>0.00120</td>\n",
       "      <td>0.00023</td>\n",
       "    </tr>\n",
       "    <tr>\n",
       "      <th>1</th>\n",
       "      <td>Mineral</td>\n",
       "      <td>Bioreactor</td>\n",
       "      <td>A</td>\n",
       "      <td>2</td>\n",
       "      <td>0.000086</td>\n",
       "      <td>0.00015</td>\n",
       "      <td>0.0025</td>\n",
       "      <td>0.000015</td>\n",
       "      <td>0.00012</td>\n",
       "      <td>0.00023</td>\n",
       "      <td>...</td>\n",
       "      <td>0.00012</td>\n",
       "      <td>0.000050</td>\n",
       "      <td>0.00017</td>\n",
       "      <td>0.000056</td>\n",
       "      <td>0.00025</td>\n",
       "      <td>0.0014</td>\n",
       "      <td>0.00067</td>\n",
       "      <td>0.0025</td>\n",
       "      <td>0.00095</td>\n",
       "      <td>0.00016</td>\n",
       "    </tr>\n",
       "    <tr>\n",
       "      <th>2</th>\n",
       "      <td>Mineral</td>\n",
       "      <td>Bioreactor</td>\n",
       "      <td>A</td>\n",
       "      <td>3</td>\n",
       "      <td>0.000180</td>\n",
       "      <td>0.00016</td>\n",
       "      <td>0.0028</td>\n",
       "      <td>0.000012</td>\n",
       "      <td>0.00011</td>\n",
       "      <td>0.00028</td>\n",
       "      <td>...</td>\n",
       "      <td>0.00020</td>\n",
       "      <td>0.000080</td>\n",
       "      <td>0.00015</td>\n",
       "      <td>0.000061</td>\n",
       "      <td>0.00026</td>\n",
       "      <td>0.0020</td>\n",
       "      <td>0.00079</td>\n",
       "      <td>0.0029</td>\n",
       "      <td>0.00120</td>\n",
       "      <td>0.00046</td>\n",
       "    </tr>\n",
       "    <tr>\n",
       "      <th>3</th>\n",
       "      <td>Mineral</td>\n",
       "      <td>Bioreactor</td>\n",
       "      <td>A</td>\n",
       "      <td>4</td>\n",
       "      <td>0.000140</td>\n",
       "      <td>0.00016</td>\n",
       "      <td>0.0025</td>\n",
       "      <td>0.000011</td>\n",
       "      <td>0.00014</td>\n",
       "      <td>0.00025</td>\n",
       "      <td>...</td>\n",
       "      <td>0.00016</td>\n",
       "      <td>0.000055</td>\n",
       "      <td>0.00017</td>\n",
       "      <td>0.000054</td>\n",
       "      <td>0.00024</td>\n",
       "      <td>0.0015</td>\n",
       "      <td>0.00072</td>\n",
       "      <td>0.0025</td>\n",
       "      <td>0.00100</td>\n",
       "      <td>0.00036</td>\n",
       "    </tr>\n",
       "    <tr>\n",
       "      <th>4</th>\n",
       "      <td>Mineral</td>\n",
       "      <td>Bioreactor</td>\n",
       "      <td>B</td>\n",
       "      <td>1</td>\n",
       "      <td>0.000100</td>\n",
       "      <td>0.00016</td>\n",
       "      <td>0.0031</td>\n",
       "      <td>0.000015</td>\n",
       "      <td>0.00013</td>\n",
       "      <td>0.00033</td>\n",
       "      <td>...</td>\n",
       "      <td>0.00012</td>\n",
       "      <td>0.000110</td>\n",
       "      <td>0.00022</td>\n",
       "      <td>0.000082</td>\n",
       "      <td>0.00026</td>\n",
       "      <td>0.0022</td>\n",
       "      <td>0.00079</td>\n",
       "      <td>0.0031</td>\n",
       "      <td>0.00120</td>\n",
       "      <td>0.00016</td>\n",
       "    </tr>\n",
       "  </tbody>\n",
       "</table>\n",
       "<p>5 rows × 80 columns</p>\n",
       "</div>"
      ],
      "text/plain": [
       "  Unnamed: 0 Cultivation condition Biological replica  Technical       Asn  \\\n",
       "0    Mineral            Bioreactor                  A          1  0.000150   \n",
       "1    Mineral            Bioreactor                  A          2  0.000086   \n",
       "2    Mineral            Bioreactor                  A          3  0.000180   \n",
       "3    Mineral            Bioreactor                  A          4  0.000140   \n",
       "4    Mineral            Bioreactor                  B          1  0.000100   \n",
       "\n",
       "       Asp     ATP      cAMP      CDP   2/3-PG  ...      Pro      PRPP  \\\n",
       "0  0.00023  0.0032  0.000013  0.00012  0.00038  ...  0.00016  0.000120   \n",
       "1  0.00015  0.0025  0.000015  0.00012  0.00023  ...  0.00012  0.000050   \n",
       "2  0.00016  0.0028  0.000012  0.00011  0.00028  ...  0.00020  0.000080   \n",
       "3  0.00016  0.0025  0.000011  0.00014  0.00025  ...  0.00016  0.000055   \n",
       "4  0.00016  0.0031  0.000015  0.00013  0.00033  ...  0.00012  0.000110   \n",
       "\n",
       "       R5P       S7P      Ser     Suc  UDP-GlcNac     UMP      UTP      Val  \n",
       "0  0.00022  0.000070  0.00028  0.0018     0.00076  0.0032  0.00120  0.00023  \n",
       "1  0.00017  0.000056  0.00025  0.0014     0.00067  0.0025  0.00095  0.00016  \n",
       "2  0.00015  0.000061  0.00026  0.0020     0.00079  0.0029  0.00120  0.00046  \n",
       "3  0.00017  0.000054  0.00024  0.0015     0.00072  0.0025  0.00100  0.00036  \n",
       "4  0.00022  0.000082  0.00026  0.0022     0.00079  0.0031  0.00120  0.00016  \n",
       "\n",
       "[5 rows x 80 columns]"
      ]
     },
     "execution_count": 263,
     "metadata": {},
     "output_type": "execute_result"
    }
   ],
   "source": [
    "thd_df.head()"
   ]
  },
  {
   "cell_type": "code",
   "execution_count": 264,
   "id": "b3e2a859-7254-47be-857b-0540ebe0be78",
   "metadata": {
    "execution": {
     "iopub.execute_input": "2025-03-08T20:52:16.040404Z",
     "iopub.status.busy": "2025-03-08T20:52:16.039612Z",
     "iopub.status.idle": "2025-03-08T20:52:16.061453Z",
     "shell.execute_reply": "2025-03-08T20:52:16.060826Z",
     "shell.execute_reply.started": "2025-03-08T20:52:16.040362Z"
    }
   },
   "outputs": [
    {
     "data": {
      "text/plain": [
       "Index(['Medium', 'Cultivation condition', 'Biological replica', 'Technical',\n",
       "       'Asn', 'Asp', 'ATP', 'cAMP', 'CDP', '2/3-PG', '6PG', 'ADP', 'aKG',\n",
       "       'Ala', 'AMP', 'Arg', 'dCDP', 'dCMP', 'dCTP', 'dGDP', 'cGMP', 'Cit',\n",
       "       'CMP', 'CTP', 'Cys', 'dADP', 'dAMP', 'dATP', 'F6P', 'FAD', 'Fum',\n",
       "       'G-/M-1P', 'dGMP', 'dGTP', 'dTDP', 'dTMP', 'dTTP', 'dUMP', 'F1,6BP',\n",
       "       'F1P', 'GMP', 'GTP', 'His', 'ICit', 'G6P', 'GA6P', 'GAL1P', 'GDP',\n",
       "       'GL3P', 'Gln', 'Glu', 'Gly', 'NAD', 'NADH', 'NADP', 'NADPH', 'Ile',\n",
       "       'IMP', 'ITP', 'Leu', 'Lys', 'M6P', 'Mal', 'Met', 'Thr', 'Trp', 'Tyr',\n",
       "       'UDP', 'PEP', 'Phe', 'Pro', 'PRPP', 'R5P', 'S7P', 'Ser', 'Suc',\n",
       "       'UDP-GlcNac', 'UMP', 'UTP', 'Val'],\n",
       "      dtype='object')"
      ]
     },
     "execution_count": 264,
     "metadata": {},
     "output_type": "execute_result"
    }
   ],
   "source": [
    "thd_df.rename(columns={'Unnamed: 0': 'Medium'}, inplace=True)\n",
    "thd_df.columns"
   ]
  },
  {
   "cell_type": "code",
   "execution_count": 265,
   "id": "fe29563d-6b86-4ba3-a1bf-36987f46e85f",
   "metadata": {
    "execution": {
     "iopub.execute_input": "2025-03-08T20:52:21.744343Z",
     "iopub.status.busy": "2025-03-08T20:52:21.743923Z",
     "iopub.status.idle": "2025-03-08T20:52:21.748962Z",
     "shell.execute_reply": "2025-03-08T20:52:21.748082Z",
     "shell.execute_reply.started": "2025-03-08T20:52:21.744314Z"
    }
   },
   "outputs": [],
   "source": [
    "thd_meta_columns = list(thd_df.columns[:4])"
   ]
  },
  {
   "cell_type": "code",
   "execution_count": 266,
   "id": "5ec26b94-4df7-460e-92a0-3051b48d48fd",
   "metadata": {
    "execution": {
     "iopub.execute_input": "2025-03-08T20:53:35.567231Z",
     "iopub.status.busy": "2025-03-08T20:53:35.566157Z",
     "iopub.status.idle": "2025-03-08T20:53:35.675563Z",
     "shell.execute_reply": "2025-03-08T20:53:35.675098Z",
     "shell.execute_reply.started": "2025-03-08T20:53:35.567188Z"
    }
   },
   "outputs": [],
   "source": [
    "strain = 'K12 MG1655'\n",
    "conditions = {('Mineral', 'Bioreactor'): ['Mineral medium', 'Bioreactor', 'Minimal', 'Glucose', 10],\n",
    "              ('Mineral', 'Shake flask'): ['Mineral medium', 'Shake flask', 'Minimal', 'Glucose', 4],\n",
    "              ('Rich', 'Shake flask'): ['Rich medium', 'Shake flask','Complex', 'Rich', np.nan]\n",
    "}\n",
    "ref_text = 'Thorfinnsdottir et al., 2023, Metabolites'\n",
    "cs_conc = 10\n",
    "# 'Log-phase'\n",
    "td_data = []\n",
    "for i, row in met_info.iterrows():\n",
    "    abbrv = row['Thorfinnsdottir et al. abbrv']\n",
    "    if isinstance(abbrv, str):\n",
    "        conc_dfi = thd_df.loc[:, thd_meta_columns + [abbrv]]\n",
    "        tech_mean = conc_dfi.groupby(['Medium','Cultivation condition', 'Biological replica']).agg({abbrv:('mean')})\n",
    "        bio_mean = tech_mean.groupby(['Medium','Cultivation condition']).agg({abbrv:('mean', 'std','sem', 'count')}).reset_index()\n",
    "        for j in range(len(bio_mean)):\n",
    "            medium, system, mincomp, cs, cs_conc = conditions[bio_mean.at[j, ('Medium','')], bio_mean.at[j, ('Cultivation condition','')]]\n",
    "            # 1e6 to convert to uM\n",
    "            error = 1.96*bio_mean.at[j, (abbrv,'sem')]*1e6\n",
    "            ub = bio_mean.at[j, (abbrv, 'mean')]*1e6 + error\n",
    "            lb = bio_mean.at[j, (abbrv, 'mean')]*1e6 - error\n",
    "            td_data.append([row['Metabolite'], j, medium, system, bio_mean.at[j, (abbrv, 'mean')]*1e6, 'uM', error, '37', strain, 'Log-phase',  None, None, ref_text,'36837769', None, mincomp, cs, cs_conc, lb, ub])\n",
    "            "
   ]
  },
  {
   "cell_type": "code",
   "execution_count": 267,
   "id": "7f992116-81ae-4a5f-b6c4-59d585204e6e",
   "metadata": {
    "execution": {
     "iopub.execute_input": "2025-03-08T20:53:43.344103Z",
     "iopub.status.busy": "2025-03-08T20:53:43.343215Z",
     "iopub.status.idle": "2025-03-08T20:53:43.356910Z",
     "shell.execute_reply": "2025-03-08T20:53:43.355755Z",
     "shell.execute_reply.started": "2025-03-08T20:53:43.344058Z"
    }
   },
   "outputs": [],
   "source": [
    "df_td = pd.DataFrame(td_data, columns=all_conc.columns)"
   ]
  },
  {
   "cell_type": "code",
   "execution_count": 268,
   "id": "83d621ce-6d32-474a-8a3a-5fde43991cac",
   "metadata": {
    "execution": {
     "iopub.execute_input": "2025-03-08T20:53:44.119829Z",
     "iopub.status.busy": "2025-03-08T20:53:44.118956Z",
     "iopub.status.idle": "2025-03-08T20:53:44.135838Z",
     "shell.execute_reply": "2025-03-08T20:53:44.135108Z",
     "shell.execute_reply.started": "2025-03-08T20:53:44.119786Z"
    }
   },
   "outputs": [],
   "source": [
    "all_conc = pd.concat([all_conc, df_td], ignore_index=True).reset_index(drop = True)"
   ]
  },
  {
   "cell_type": "code",
   "execution_count": 269,
   "id": "67327bb7-10b2-4f42-bc71-c11e1f815c20",
   "metadata": {
    "execution": {
     "iopub.execute_input": "2025-03-08T20:53:46.444567Z",
     "iopub.status.busy": "2025-03-08T20:53:46.443929Z",
     "iopub.status.idle": "2025-03-08T20:53:46.462762Z",
     "shell.execute_reply": "2025-03-08T20:53:46.461842Z",
     "shell.execute_reply.started": "2025-03-08T20:53:46.444527Z"
    }
   },
   "outputs": [],
   "source": [
    "all_conc.to_csv(all_conc_fn)"
   ]
  },
  {
   "cell_type": "markdown",
   "id": "f65b5ca5-4147-45fb-ba62-fd569cf801a2",
   "metadata": {
    "execution": {
     "iopub.execute_input": "2025-02-28T12:03:10.636879Z",
     "iopub.status.busy": "2025-02-28T12:03:10.636409Z",
     "iopub.status.idle": "2025-02-28T12:03:10.650974Z",
     "shell.execute_reply": "2025-02-28T12:03:10.650316Z",
     "shell.execute_reply.started": "2025-02-28T12:03:10.636849Z"
    }
   },
   "source": [
    "# "
   ]
  },
  {
   "cell_type": "markdown",
   "id": "f5167741-0dd3-4ca7-89c3-45db1f809d27",
   "metadata": {
    "execution": {
     "iopub.execute_input": "2025-02-28T11:19:56.742490Z",
     "iopub.status.busy": "2025-02-28T11:19:56.741916Z",
     "iopub.status.idle": "2025-02-28T11:19:56.755606Z",
     "shell.execute_reply": "2025-02-28T11:19:56.754525Z",
     "shell.execute_reply.started": "2025-02-28T11:19:56.742454Z"
    }
   },
   "source": [
    "# Add data from this work"
   ]
  },
  {
   "cell_type": "code",
   "execution_count": 159,
   "id": "c8e94fb1-326b-423b-9430-352503a2c15b",
   "metadata": {
    "execution": {
     "iopub.execute_input": "2025-03-07T20:45:07.386943Z",
     "iopub.status.busy": "2025-03-07T20:45:07.385125Z",
     "iopub.status.idle": "2025-03-07T20:45:07.407390Z",
     "shell.execute_reply": "2025-03-07T20:45:07.406580Z",
     "shell.execute_reply.started": "2025-03-07T20:45:07.386887Z"
    }
   },
   "outputs": [],
   "source": [
    "all_conc = pd.read_csv(all_conc_fn, index_col=0)"
   ]
  },
  {
   "cell_type": "code",
   "execution_count": 270,
   "id": "5ee6d468-2478-48e6-81d1-ebb132b1f94b",
   "metadata": {
    "execution": {
     "iopub.execute_input": "2025-03-08T20:53:54.681124Z",
     "iopub.status.busy": "2025-03-08T20:53:54.680291Z",
     "iopub.status.idle": "2025-03-08T20:53:54.691499Z",
     "shell.execute_reply": "2025-03-08T20:53:54.689675Z",
     "shell.execute_reply.started": "2025-03-08T20:53:54.681081Z"
    }
   },
   "outputs": [],
   "source": [
    "all_conc.sort_values(by='Metabolite', inplace=True)"
   ]
  },
  {
   "cell_type": "code",
   "execution_count": 41,
   "id": "67ad16c8-dbac-4c0b-9ec0-290cef74bb59",
   "metadata": {
    "execution": {
     "iopub.execute_input": "2025-03-03T10:02:21.626520Z",
     "iopub.status.busy": "2025-03-03T10:02:21.626000Z",
     "iopub.status.idle": "2025-03-03T10:02:21.631102Z",
     "shell.execute_reply": "2025-03-03T10:02:21.629848Z",
     "shell.execute_reply.started": "2025-03-03T10:02:21.626489Z"
    }
   },
   "outputs": [],
   "source": [
    "# all_conc.drop(columns=['#', 'internal', 'molecules', 'molecules_error']).reset_index(drop=True).to_csv(all_conc_fn)\n"
   ]
  },
  {
   "cell_type": "code",
   "execution_count": 271,
   "id": "badcc909-cc33-4aa3-9da2-d24e060b637e",
   "metadata": {
    "execution": {
     "iopub.execute_input": "2025-03-08T20:53:57.478268Z",
     "iopub.status.busy": "2025-03-08T20:53:57.477834Z",
     "iopub.status.idle": "2025-03-08T20:53:57.487382Z",
     "shell.execute_reply": "2025-03-08T20:53:57.486729Z",
     "shell.execute_reply.started": "2025-03-08T20:53:57.478236Z"
    }
   },
   "outputs": [],
   "source": [
    "intra_fn = data_folder / 'this_project/4_paired_metabolomics_live_dead/4B_intracellular_conc_nmol_per_gprotein.csv'\n",
    "df_intra = pd.read_csv(intra_fn, index_col=0)\n",
    "# df_intra.sort_values(by=)"
   ]
  },
  {
   "cell_type": "markdown",
   "id": "ea17247d-e0dd-4ad3-9db3-37c97c697dfb",
   "metadata": {},
   "source": [
    "# Need to convert nmol per g to uM"
   ]
  },
  {
   "cell_type": "code",
   "execution_count": 272,
   "id": "82c817d2-bf15-4cb0-b32e-a800834b583d",
   "metadata": {
    "execution": {
     "iopub.execute_input": "2025-03-08T20:54:01.694201Z",
     "iopub.status.busy": "2025-03-08T20:54:01.693752Z",
     "iopub.status.idle": "2025-03-08T20:54:01.702647Z",
     "shell.execute_reply": "2025-03-08T20:54:01.701984Z",
     "shell.execute_reply.started": "2025-03-08T20:54:01.694169Z"
    }
   },
   "outputs": [],
   "source": [
    "protein_density = 13.5*1e-8#  μg/μm^3 From Mori et al., 2017 (See SI) https://www.nature.com/articles/s41467-017-01242-8\n",
    "# Protein density seems to be not correlated with growth rate\n",
    "\n",
    "cubic_um_to_L = 1e-15 # L/um^3\n",
    "protein_denisty_g_per_L = protein_density/cubic_um_to_L*1e-6"
   ]
  },
  {
   "cell_type": "code",
   "execution_count": 273,
   "id": "5891f7c6-15d9-4fbf-9236-79279a028337",
   "metadata": {
    "execution": {
     "iopub.execute_input": "2025-03-08T20:54:02.509222Z",
     "iopub.status.busy": "2025-03-08T20:54:02.508167Z",
     "iopub.status.idle": "2025-03-08T20:54:02.522902Z",
     "shell.execute_reply": "2025-03-08T20:54:02.522007Z",
     "shell.execute_reply.started": "2025-03-08T20:54:02.509180Z"
    }
   },
   "outputs": [
    {
     "data": {
      "text/plain": [
       "135.0"
      ]
     },
     "execution_count": 273,
     "metadata": {},
     "output_type": "execute_result"
    }
   ],
   "source": [
    "protein_denisty_g_per_L"
   ]
  },
  {
   "cell_type": "code",
   "execution_count": 274,
   "id": "0fbbe76f-8475-40af-b17f-92bac3369784",
   "metadata": {
    "execution": {
     "iopub.execute_input": "2025-03-08T20:54:03.910959Z",
     "iopub.status.busy": "2025-03-08T20:54:03.909798Z",
     "iopub.status.idle": "2025-03-08T20:54:03.923641Z",
     "shell.execute_reply": "2025-03-08T20:54:03.922879Z",
     "shell.execute_reply.started": "2025-03-08T20:54:03.910904Z"
    }
   },
   "outputs": [],
   "source": [
    "df_intraL = df_intra.melt(id_vars=df_intra.columns[:4], var_name='Metabolite', value_name='Concentration [nmol/g protein]')"
   ]
  },
  {
   "cell_type": "code",
   "execution_count": 275,
   "id": "e0e45328-096f-430a-b54c-914cba4cdc41",
   "metadata": {
    "execution": {
     "iopub.execute_input": "2025-03-08T20:54:04.460452Z",
     "iopub.status.busy": "2025-03-08T20:54:04.459488Z",
     "iopub.status.idle": "2025-03-08T20:54:04.473257Z",
     "shell.execute_reply": "2025-03-08T20:54:04.472340Z",
     "shell.execute_reply.started": "2025-03-08T20:54:04.460374Z"
    }
   },
   "outputs": [],
   "source": [
    "df_intraL['Concentration [uM]'] = df_intraL['Concentration [nmol/g protein]']*protein_denisty_g_per_L*1e-3"
   ]
  },
  {
   "cell_type": "code",
   "execution_count": 276,
   "id": "befdc2d2-554f-4dbd-be79-93b94d109d3e",
   "metadata": {
    "execution": {
     "iopub.execute_input": "2025-03-08T20:54:11.523695Z",
     "iopub.status.busy": "2025-03-08T20:54:11.520102Z",
     "iopub.status.idle": "2025-03-08T20:54:11.535114Z",
     "shell.execute_reply": "2025-03-08T20:54:11.533882Z",
     "shell.execute_reply.started": "2025-03-08T20:54:11.523622Z"
    }
   },
   "outputs": [
    {
     "data": {
      "text/plain": [
       "Index(['Metabolite', '#', 'growth_media', 'growth_system', 'concentration',\n",
       "       'concentration_units', 'error', 'temperature', 'strain',\n",
       "       'growth_status', 'molecules', 'molecules_error', 'reference_text',\n",
       "       'pubmed_id', 'internal', 'Minimal/complex', 'Carbon source',\n",
       "       'CS concentration [g/L]', 'LB', 'UB'],\n",
       "      dtype='object')"
      ]
     },
     "execution_count": 276,
     "metadata": {},
     "output_type": "execute_result"
    }
   ],
   "source": [
    "all_conc.columns"
   ]
  },
  {
   "cell_type": "code",
   "execution_count": 277,
   "id": "73a77fb4-6cf7-406d-b7da-ad1d9841e652",
   "metadata": {
    "execution": {
     "iopub.execute_input": "2025-03-08T20:54:13.862297Z",
     "iopub.status.busy": "2025-03-08T20:54:13.861837Z",
     "iopub.status.idle": "2025-03-08T20:54:13.878384Z",
     "shell.execute_reply": "2025-03-08T20:54:13.877556Z",
     "shell.execute_reply.started": "2025-03-08T20:54:13.862267Z"
    }
   },
   "outputs": [],
   "source": [
    "df_intra_mean = df_intraL[['Concentration [uM]', 'Carbon source', 'Metabolite']].groupby(['Carbon source', 'Metabolite']).agg(['mean', 'sem', 'std']).reset_index()"
   ]
  },
  {
   "cell_type": "code",
   "execution_count": 278,
   "id": "40023be1-814e-4829-a7b3-e1da7172396f",
   "metadata": {
    "execution": {
     "iopub.execute_input": "2025-03-08T20:54:19.655592Z",
     "iopub.status.busy": "2025-03-08T20:54:19.654623Z",
     "iopub.status.idle": "2025-03-08T20:54:19.663178Z",
     "shell.execute_reply": "2025-03-08T20:54:19.662202Z",
     "shell.execute_reply.started": "2025-03-08T20:54:19.655551Z"
    }
   },
   "outputs": [],
   "source": [
    "df_intra_mean.columns = ['Carbon source', 'Metabolite', 'mean', 'sem', 'std']"
   ]
  },
  {
   "cell_type": "code",
   "execution_count": 286,
   "id": "83f8da81-0e1c-48a3-812a-595d9cb8568c",
   "metadata": {
    "execution": {
     "iopub.execute_input": "2025-03-08T20:57:49.127709Z",
     "iopub.status.busy": "2025-03-08T20:57:49.126196Z",
     "iopub.status.idle": "2025-03-08T20:57:49.145162Z",
     "shell.execute_reply": "2025-03-08T20:57:49.144320Z",
     "shell.execute_reply.started": "2025-03-08T20:57:49.127622Z"
    }
   },
   "outputs": [],
   "source": [
    "strain = 'K12 MG1655'\n",
    "mal_mol_weight = 134.09\n",
    "ala_mol_weight = 89.09\n",
    "gal_mol_weight = 180.156\n",
    "\n",
    "concentration = {\n",
    "    'Galactose': 20*gal_mol_weight*1e-3,\n",
    "    'L-malate': 30*mal_mol_weight*1e-3,\n",
    "    'L-alanine': 40*ala_mol_weight*1e-3\n",
    "}\n",
    "\n",
    "conditions = [37, strain, 'Log-phase', None, None, 'This work', \"\", 'Minimal', None]\n",
    "this_data = []\n",
    "for i, row in df_intra_mean.iterrows():\n",
    "    conc = concentration[row['Carbon source']]\n",
    "    error = row['sem']*1.96\n",
    "    ub = row['mean']+error\n",
    "    lb = row['mean']-error\n",
    "    this_data.append([row['Metabolite'], i, 'M9', 'Shake flask', row['mean'], 'uM', error]+conditions+[row['Carbon source'], conc, lb, ub])\n"
   ]
  },
  {
   "cell_type": "code",
   "execution_count": 287,
   "id": "16b05acd-52c4-434a-9f54-ba7a94d2f66a",
   "metadata": {
    "execution": {
     "iopub.execute_input": "2025-03-08T20:57:54.608050Z",
     "iopub.status.busy": "2025-03-08T20:57:54.607169Z",
     "iopub.status.idle": "2025-03-08T20:57:54.621375Z",
     "shell.execute_reply": "2025-03-08T20:57:54.620324Z",
     "shell.execute_reply.started": "2025-03-08T20:57:54.607997Z"
    }
   },
   "outputs": [],
   "source": [
    "this_df = pd.DataFrame(this_data, columns=all_conc.columns)"
   ]
  },
  {
   "cell_type": "code",
   "execution_count": 288,
   "id": "17d3bcdd-74de-4ada-9224-66268713878b",
   "metadata": {
    "execution": {
     "iopub.execute_input": "2025-03-08T20:57:57.614659Z",
     "iopub.status.busy": "2025-03-08T20:57:57.613885Z",
     "iopub.status.idle": "2025-03-08T20:57:57.629122Z",
     "shell.execute_reply": "2025-03-08T20:57:57.628303Z",
     "shell.execute_reply.started": "2025-03-08T20:57:57.614616Z"
    }
   },
   "outputs": [],
   "source": [
    "all_conc = pd.concat([all_conc, this_df], ignore_index=True).reset_index(drop = True)"
   ]
  },
  {
   "cell_type": "code",
   "execution_count": 289,
   "id": "249db7c1-87bc-4353-8ebd-c0d79005f8ac",
   "metadata": {
    "execution": {
     "iopub.execute_input": "2025-03-08T20:57:58.925834Z",
     "iopub.status.busy": "2025-03-08T20:57:58.924501Z",
     "iopub.status.idle": "2025-03-08T20:57:58.939132Z",
     "shell.execute_reply": "2025-03-08T20:57:58.938265Z",
     "shell.execute_reply.started": "2025-03-08T20:57:58.925790Z"
    }
   },
   "outputs": [],
   "source": [
    "all_conc.sort_values(by='Metabolite', inplace=True)\n"
   ]
  },
  {
   "cell_type": "code",
   "execution_count": 290,
   "id": "7558a551-8259-4669-927b-f036c4222a1d",
   "metadata": {
    "execution": {
     "iopub.execute_input": "2025-03-08T20:58:00.042803Z",
     "iopub.status.busy": "2025-03-08T20:58:00.042284Z",
     "iopub.status.idle": "2025-03-08T20:58:00.058051Z",
     "shell.execute_reply": "2025-03-08T20:58:00.057337Z",
     "shell.execute_reply.started": "2025-03-08T20:58:00.042772Z"
    }
   },
   "outputs": [],
   "source": [
    "all_conc.to_csv(all_conc_fn)"
   ]
  },
  {
   "cell_type": "markdown",
   "id": "97894d4e-e0b7-490a-ad8e-1f9ed7ae15dc",
   "metadata": {},
   "source": [
    "# Add error estimates from Bennet et al, for those data points missing that info from ECMDB"
   ]
  },
  {
   "cell_type": "code",
   "execution_count": 291,
   "id": "07b7b7af-158e-4f41-b8ed-63ce17a6a6a8",
   "metadata": {
    "execution": {
     "iopub.execute_input": "2025-03-08T20:58:05.615272Z",
     "iopub.status.busy": "2025-03-08T20:58:05.614524Z",
     "iopub.status.idle": "2025-03-08T20:58:05.637563Z",
     "shell.execute_reply": "2025-03-08T20:58:05.636438Z",
     "shell.execute_reply.started": "2025-03-08T20:58:05.615233Z"
    }
   },
   "outputs": [],
   "source": [
    "bennet_fn = '../../data/bennet_2009/intracellular_concentrations.csv'\n",
    "bennet_df = pd.read_csv(bennet_fn)"
   ]
  },
  {
   "cell_type": "code",
   "execution_count": 292,
   "id": "e96f3bad-4a88-4e2e-b423-7f610b580f21",
   "metadata": {
    "execution": {
     "iopub.execute_input": "2025-03-08T20:58:06.157335Z",
     "iopub.status.busy": "2025-03-08T20:58:06.156532Z",
     "iopub.status.idle": "2025-03-08T20:58:06.170203Z",
     "shell.execute_reply": "2025-03-08T20:58:06.169248Z",
     "shell.execute_reply.started": "2025-03-08T20:58:06.157294Z"
    }
   },
   "outputs": [],
   "source": [
    "name_to_bennet = {key:value.rstrip('[c]*') for key, value in name_to_park.items() if isinstance(value, str)}\n",
    "name_to_bennet['Cis-aconitate']='aconitate'\n",
    "name_to_bennet['Trans-aconitate']='aconitate'\n",
    "name_to_bennet['Leucine'] = 'isoleucine+leucine'\n",
    "name_to_bennet['Isoleucine'] = 'isoleucine+leucine'\n",
    "name_to_bennet['NAD']='NAD'\n",
    "name_to_bennet['Ribose-5-phosphate'] = 'pentose-P'\n",
    "name_to_bennet['Ribulose-5-phosphate'] = 'pentose-P'\n",
    "name_to_bennet['Xylulose-5-phosphate'] = 'pentose-P'"
   ]
  },
  {
   "cell_type": "code",
   "execution_count": 199,
   "id": "dfc551cd-b93f-4fec-8c72-5f0e222b5782",
   "metadata": {
    "execution": {
     "iopub.execute_input": "2025-03-08T20:06:22.915321Z",
     "iopub.status.busy": "2025-03-08T20:06:22.914354Z",
     "iopub.status.idle": "2025-03-08T20:06:22.925664Z",
     "shell.execute_reply": "2025-03-08T20:06:22.924930Z",
     "shell.execute_reply.started": "2025-03-08T20:06:22.915277Z"
    }
   },
   "outputs": [],
   "source": [
    "# park_to_name = met_info.set_index('Park et al. name')['Metabolite'].to_dict()\n",
    "# park_to_name = {key.rstrip('[c]*'): value for key, value in park_to_name.items() if isinstance(key, str)}"
   ]
  },
  {
   "cell_type": "code",
   "execution_count": 298,
   "id": "92e66361-afa6-4f98-ba89-6d9c2002c8b3",
   "metadata": {
    "execution": {
     "iopub.execute_input": "2025-03-08T21:01:17.014907Z",
     "iopub.status.busy": "2025-03-08T21:01:17.013344Z",
     "iopub.status.idle": "2025-03-08T21:01:17.122145Z",
     "shell.execute_reply": "2025-03-08T21:01:17.121769Z",
     "shell.execute_reply.started": "2025-03-08T21:01:17.014833Z"
    }
   },
   "outputs": [
    {
     "name": "stdout",
     "output_type": "stream",
     "text": [
      "Set 3-phosphoglycerate to 1540.0\n",
      "Set 3-phosphoglycerate to 4080.0000000000005\n",
      "Set 3-phosphoglycerate to 1510.0\n",
      "Set N-acetyl-ornithine to 398.0\n",
      "Set N-acetyl-ornithine to 43.300000000000004\n",
      "Set N-acetyl-ornithine to 152.0\n",
      "Set alanine to 1770.0\n",
      "Set alanine to 879.0\n",
      "Set alanine to 2550.0\n",
      "Set a-ketoglutarate to 616.0\n",
      "Set a-ketoglutarate to 446.0\n",
      "Set a-ketoglutarate to 443.0\n",
      "Set arginine to 569.0\n",
      "Set asparagine to 540.0\n",
      "Set asparagine to 970.0\n",
      "Set asparagine to 510.99999999999994\n",
      "Set aspartate to 7350.0\n",
      "Set aspartate to 4230.0\n",
      "Set aspartate to 9300.0\n",
      "Set aconitate to 8.049999999999999\n",
      "Set aconitate to 47.95\n",
      "Set aconitate to 8.049999999999999\n",
      "Set citrate to 1960.0\n",
      "Set citrate to 21900.0\n",
      "Set citrate to 2320.0\n",
      "Set dihydroxyacetonephosphate to 147.0\n",
      "Set dihydroxyacetonephosphate to 374.0\n",
      "Set dihydroxyacetonephosphate to 544.0\n",
      "Set fructose-1,6-bisphosphate to 15200.0\n",
      "Set fructose-1,6-bisphosphate to nan\n",
      "Set fructose-1,6-bisphosphate to 5850.0\n",
      "Set fumarate to 115.0\n",
      "Set fumarate to 255.00000000000003\n",
      "Set fumarate to 267.0\n",
      "Set glutamate to 44800.0\n",
      "Set glutamate to 96000.0\n",
      "Set glutamate to 149000.0\n",
      "Set glutamine to 3810.0\n",
      "Set glutamine to 3060.0\n",
      "Set glutamine to 4950.0\n",
      "Set histidine to 67.60000000000001\n",
      "Set histidine to 175.0\n",
      "Set histidine to 97.5\n",
      "Set isoleucine+leucine to 170.5\n",
      "Set isoleucine+leucine to 219.0\n",
      "Set isoleucine+leucine to 151.5\n",
      "Set isoleucine+leucine to 170.5\n",
      "Set isoleucine+leucine to 219.0\n",
      "Set isoleucine+leucine to 151.5\n",
      "Set lysine to 405.0\n",
      "Set lysine to 554.0\n",
      "Set lysine to 762.0\n",
      "Set malate to 3450.0\n",
      "Set malate to 3330.0\n",
      "Set malate to 1680.0\n",
      "Set methionine to 129.0\n",
      "Set methionine to 65.9\n",
      "Set methionine to 145.0\n",
      "Set NAD to 2430.0\n",
      "Set NAD to 4080.0000000000005\n",
      "Set NAD to 2550.0\n",
      "Set phenylalanine to 42.1\n",
      "Set phenylalanine to 27.4\n",
      "Set phenylalanine to 18.2\n",
      "Set phosphoenolpyruvate to 1340.0\n",
      "Set phosphoenolpyruvate to 184.0\n",
      "Set phosphoenolpyruvate to 909.0\n",
      "Set proline to 361.0\n",
      "Set proline to 451.0\n",
      "Set proline to 385.0\n",
      "Set pentose-P to 440.0\n",
      "Set pentose-P to 340.00000000000006\n",
      "Set pentose-P to 228.66666666666666\n",
      "Set pentose-P to 340.00000000000006\n",
      "Set pentose-P to 228.66666666666666\n",
      "Set pentose-P to 440.0\n",
      "Set serine to 68.0\n",
      "Set serine to 150.0\n",
      "Set serine to 95.5\n",
      "Set shikimate to 14.1\n",
      "Set succinate to 923.0\n",
      "Set succinate to 1140.0\n",
      "Set succinate to 569.0\n",
      "Set threonine to 179.0\n",
      "Set aconitate to 47.95\n",
      "Set aconitate to 36.15\n",
      "Set tryptophan to 20.5\n",
      "Set tryptophan to 23.6\n",
      "Set tryptophan to 12.1\n",
      "Set tyrosine to 87.39999999999999\n",
      "Set tyrosine to 28.900000000000002\n",
      "Set tyrosine to 52.2\n",
      "Set valine to 4020.0\n",
      "Set valine to 2290.0\n",
      "Set valine to 1070.0\n",
      "Set pentose-P to 228.66666666666666\n",
      "Set pentose-P to 340.00000000000006\n",
      "Set pentose-P to 440.0\n"
     ]
    }
   ],
   "source": [
    "for i, row in all_conc.iterrows():\n",
    "    if row['reference_text'].lower()[:7]=='bennett':\n",
    "        bname = name_to_bennet[row['Metabolite']]\n",
    "        # if row['error']==0:\n",
    "        idx = bennet_df.Metabolite==bname\n",
    "        if np.sum(idx) == 0:\n",
    "            print(row)\n",
    "            break\n",
    "        conc_bennet = bennet_df.loc[idx, row['Carbon source']].values[0]*1e6\n",
    "        \n",
    "        if bname in ['isoleucine+leucine', 'aconitate']:\n",
    "            conc_bennet = conc_bennet/2.0\n",
    "        elif bname=='pentose-P':\n",
    "            conc_bennet = conc_bennet/3.0\n",
    "        if np.round(conc_bennet, 3)!=row['concentration']:\n",
    "                print(f'Set {bname} to {conc_bennet}')\n",
    "                all_conc.at[i, 'concentration'] = conc_bennet\n",
    "\n",
    "        error_ub = (bennet_df.loc[idx, f\"{row['Carbon source']}-UB\"].values[0]-bennet_df.loc[idx, row['Carbon source']].values[0])*1e6\n",
    "        error_lb = (bennet_df.loc[idx, row['Carbon source']].values[0]-bennet_df.loc[idx, f\"{row['Carbon source']}-LB\"].values[0])*1e6\n",
    "        \n",
    "        all_conc.at[i, 'UB'] = bennet_df.loc[idx, f\"{row['Carbon source']}-UB\"].values[0]*1e6\n",
    "        all_conc.at[i, 'LB'] = bennet_df.loc[idx, f\"{row['Carbon source']}-LB\"].values[0]*1e6\n"
   ]
  },
  {
   "cell_type": "code",
   "execution_count": 311,
   "id": "644bdd98-585d-40ae-ba0f-3cde38b5bbdc",
   "metadata": {
    "execution": {
     "iopub.execute_input": "2025-03-08T21:07:45.681373Z",
     "iopub.status.busy": "2025-03-08T21:07:45.680546Z",
     "iopub.status.idle": "2025-03-08T21:07:45.695901Z",
     "shell.execute_reply": "2025-03-08T21:07:45.694850Z",
     "shell.execute_reply.started": "2025-03-08T21:07:45.681327Z"
    }
   },
   "outputs": [],
   "source": [
    "all_conc['concentration'] = all_conc['concentration'].astype(float)\n",
    "all_conc['error'] = all_conc['error'].astype(float)"
   ]
  },
  {
   "cell_type": "code",
   "execution_count": 309,
   "id": "9ae56e54-9ba5-43dd-8617-b3959edcc68a",
   "metadata": {
    "execution": {
     "iopub.execute_input": "2025-03-08T21:07:24.447297Z",
     "iopub.status.busy": "2025-03-08T21:07:24.446441Z",
     "iopub.status.idle": "2025-03-08T21:07:24.465979Z",
     "shell.execute_reply": "2025-03-08T21:07:24.464775Z",
     "shell.execute_reply.started": "2025-03-08T21:07:24.447230Z"
    }
   },
   "outputs": [
    {
     "data": {
      "text/plain": [
       "'658.0'"
      ]
     },
     "execution_count": 309,
     "metadata": {},
     "output_type": "execute_result"
    }
   ],
   "source": [
    "row['concentration']"
   ]
  },
  {
   "cell_type": "code",
   "execution_count": 314,
   "id": "86201402-f1c1-41c8-b4e6-65d9bc67f83c",
   "metadata": {
    "execution": {
     "iopub.execute_input": "2025-03-08T21:07:56.187596Z",
     "iopub.status.busy": "2025-03-08T21:07:56.186931Z",
     "iopub.status.idle": "2025-03-08T21:07:56.216562Z",
     "shell.execute_reply": "2025-03-08T21:07:56.215782Z",
     "shell.execute_reply.started": "2025-03-08T21:07:56.187559Z"
    }
   },
   "outputs": [],
   "source": [
    "for i, row in all_conc.iterrows():\n",
    "    if np.isnan(row['LB'])\n",
    "        all_conc.at[i, 'UB'] = row['concentration']+row['error']\n",
    "        all_conc.at[i, 'LB'] = row['concentration']-row['error']"
   ]
  },
  {
   "cell_type": "code",
   "execution_count": 315,
   "id": "c67fd069-365e-49f5-8c20-8870966cb2f1",
   "metadata": {
    "execution": {
     "iopub.execute_input": "2025-03-08T21:08:03.371787Z",
     "iopub.status.busy": "2025-03-08T21:08:03.370883Z",
     "iopub.status.idle": "2025-03-08T21:08:03.394695Z",
     "shell.execute_reply": "2025-03-08T21:08:03.394048Z",
     "shell.execute_reply.started": "2025-03-08T21:08:03.371733Z"
    }
   },
   "outputs": [],
   "source": [
    "all_conc.to_csv(all_conc_fn)"
   ]
  }
 ],
 "metadata": {
  "kernelspec": {
   "display_name": "Python 3 (ipykernel)",
   "language": "python",
   "name": "python3"
  },
  "language_info": {
   "codemirror_mode": {
    "name": "ipython",
    "version": 3
   },
   "file_extension": ".py",
   "mimetype": "text/x-python",
   "name": "python",
   "nbconvert_exporter": "python",
   "pygments_lexer": "ipython3",
   "version": "3.9.21"
  }
 },
 "nbformat": 4,
 "nbformat_minor": 5
}
