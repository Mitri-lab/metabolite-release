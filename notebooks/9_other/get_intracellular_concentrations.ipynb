{
 "cells": [
  {
   "cell_type": "code",
   "execution_count": 1,
   "id": "d27f504a-e0c4-4f0a-bc3b-36f2309b3e9d",
   "metadata": {
    "execution": {
     "iopub.execute_input": "2025-02-27T17:33:46.539452Z",
     "iopub.status.busy": "2025-02-27T17:33:46.539259Z",
     "iopub.status.idle": "2025-02-27T17:33:47.894071Z",
     "shell.execute_reply": "2025-02-27T17:33:47.893763Z",
     "shell.execute_reply.started": "2025-02-27T17:33:46.539399Z"
    }
   },
   "outputs": [],
   "source": [
    "import requests\n",
    "from bs4 import BeautifulSoup\n",
    "import pandas as pd\n",
    "import xml.etree.ElementTree as ET\n",
    "from pathlib import Path\n",
    "import json\n"
   ]
  },
  {
   "cell_type": "code",
   "execution_count": 2,
   "id": "56403b0a-e716-4b23-91ed-3eb73df80c7b",
   "metadata": {
    "execution": {
     "iopub.execute_input": "2025-02-27T17:33:47.894602Z",
     "iopub.status.busy": "2025-02-27T17:33:47.894444Z",
     "iopub.status.idle": "2025-02-27T17:33:47.896727Z",
     "shell.execute_reply": "2025-02-27T17:33:47.896422Z",
     "shell.execute_reply.started": "2025-02-27T17:33:47.894591Z"
    }
   },
   "outputs": [],
   "source": [
    "def get_soup_for_ecmdb_ID(ecmdb_id):\n",
    "    response = requests.get(f'https://ecmdb.ca/compounds/{ecmdb_id}')\n",
    "    soup = BeautifulSoup(response.text, 'lxml-xml')\n",
    "    xml_string = soup.find('concentrations')\n",
    "    return xml_string"
   ]
  },
  {
   "cell_type": "code",
   "execution_count": 3,
   "id": "b7ad32d4-d51f-4c39-bf1a-9576b34e6ac2",
   "metadata": {
    "execution": {
     "iopub.execute_input": "2025-02-27T17:33:47.898111Z",
     "iopub.status.busy": "2025-02-27T17:33:47.898008Z",
     "iopub.status.idle": "2025-02-27T17:33:47.901454Z",
     "shell.execute_reply": "2025-02-27T17:33:47.901005Z",
     "shell.execute_reply.started": "2025-02-27T17:33:47.898101Z"
    }
   },
   "outputs": [],
   "source": [
    "def parse_concentrations_ecmdb(soup):\n",
    "    # Convert the soup to a string for parsing\n",
    "    tree = ET.fromstring(str(soup))\n",
    "    \n",
    "    # Initialize a list to store extracted data\n",
    "    data = []\n",
    "    \n",
    "    # Iterate over all elements in the XML and collect their tags and text values\n",
    "    index = 0\n",
    "    rows = []\n",
    "    row = {}\n",
    "    for element in tree.iter():\n",
    "        text = element.text.strip() if element.text else ''\n",
    "        if not len(text):\n",
    "            continue\n",
    "        if row.get(element.tag):\n",
    "            print(\"New!\")\n",
    "            rows.append(row)\n",
    "            row = {}\n",
    "        row[element.tag] = text\n",
    "    rows.append(row)\n",
    "    # Convert the data into a DataFrame for tabular display\n",
    "    df = pd.DataFrame(rows)\n",
    "    \n",
    "    return df"
   ]
  },
  {
   "cell_type": "code",
   "execution_count": 4,
   "id": "1795302c-b3de-410a-8351-2360343591fe",
   "metadata": {
    "execution": {
     "iopub.execute_input": "2025-02-27T17:33:47.902185Z",
     "iopub.status.busy": "2025-02-27T17:33:47.902087Z",
     "iopub.status.idle": "2025-02-27T17:33:47.904346Z",
     "shell.execute_reply": "2025-02-27T17:33:47.903918Z",
     "shell.execute_reply.started": "2025-02-27T17:33:47.902175Z"
    }
   },
   "outputs": [],
   "source": [
    "def get_ecmdb_conc(ecmdb_id):\n",
    "    xml_string = get_soup_for_ecmdb_ID(ecmdb_id)\n",
    "    return parse_concentrations_ecmdb(xml_string)"
   ]
  },
  {
   "cell_type": "markdown",
   "id": "79fb8307-ff20-4dad-af31-c7abff51a70d",
   "metadata": {},
   "source": [
    "# Get ECMDB id for all metabolites"
   ]
  },
  {
   "cell_type": "code",
   "execution_count": 5,
   "id": "2b279ec7-1400-41af-938f-b2a988f5febd",
   "metadata": {
    "execution": {
     "iopub.execute_input": "2025-02-27T17:33:47.905065Z",
     "iopub.status.busy": "2025-02-27T17:33:47.904912Z",
     "iopub.status.idle": "2025-02-27T17:33:47.912227Z",
     "shell.execute_reply": "2025-02-27T17:33:47.911865Z",
     "shell.execute_reply.started": "2025-02-27T17:33:47.905047Z"
    }
   },
   "outputs": [],
   "source": [
    "\n",
    "data_folder = Path('../../data')\n",
    "met_info_fn = data_folder / 'this_project' / '5_div' / '5C_metabolite_info.csv'\n",
    "met_info = pd.read_csv(met_info_fn, index_col=0)"
   ]
  },
  {
   "cell_type": "code",
   "execution_count": 6,
   "id": "d91061f8-5dd6-40d1-b86a-0718d17ad672",
   "metadata": {
    "execution": {
     "iopub.execute_input": "2025-02-27T17:33:47.912717Z",
     "iopub.status.busy": "2025-02-27T17:33:47.912602Z",
     "iopub.status.idle": "2025-02-27T17:33:47.964605Z",
     "shell.execute_reply": "2025-02-27T17:33:47.964120Z",
     "shell.execute_reply.started": "2025-02-27T17:33:47.912707Z"
    }
   },
   "outputs": [],
   "source": [
    "ecmdb_fn = data_folder / 'Other' / 'ecmdb.json' \n",
    "with open(ecmdb_fn, 'r') as f:\n",
    "    ecmdb = json.load(f)"
   ]
  },
  {
   "cell_type": "code",
   "execution_count": 7,
   "id": "4a04d8f7-dc89-4df8-a892-aa0cce070772",
   "metadata": {
    "execution": {
     "iopub.execute_input": "2025-02-27T17:33:47.965326Z",
     "iopub.status.busy": "2025-02-27T17:33:47.965162Z",
     "iopub.status.idle": "2025-02-27T17:33:47.981845Z",
     "shell.execute_reply": "2025-02-27T17:33:47.981510Z",
     "shell.execute_reply.started": "2025-02-27T17:33:47.965300Z"
    }
   },
   "outputs": [],
   "source": [
    "ecm_df = pd.DataFrame(ecmdb)"
   ]
  },
  {
   "cell_type": "markdown",
   "id": "31e15f96-df72-4d25-b620-66a5901f5df6",
   "metadata": {},
   "source": [
    "# Used to get ECMDB IDs from names matched by Gemini"
   ]
  },
  {
   "cell_type": "code",
   "execution_count": 20,
   "id": "66c61b44-0774-4e4c-8488-887449f1570b",
   "metadata": {
    "execution": {
     "iopub.execute_input": "2025-02-27T17:36:06.511799Z",
     "iopub.status.busy": "2025-02-27T17:36:06.511117Z",
     "iopub.status.idle": "2025-02-27T17:36:06.528973Z",
     "shell.execute_reply": "2025-02-27T17:36:06.522404Z",
     "shell.execute_reply.started": "2025-02-27T17:36:06.511761Z"
    }
   },
   "outputs": [],
   "source": [
    "ecmdb_mapping_fn = 'metabolite_to_ecmdb.csv'\n",
    "conc_df = pd.read_csv(ecmdb_mapping_fn)"
   ]
  },
  {
   "cell_type": "code",
   "execution_count": 21,
   "id": "99287931-a0ed-4cbc-89d5-b073dfb692cf",
   "metadata": {
    "execution": {
     "iopub.execute_input": "2025-02-27T17:36:07.252818Z",
     "iopub.status.busy": "2025-02-27T17:36:07.251774Z",
     "iopub.status.idle": "2025-02-27T17:36:07.312427Z",
     "shell.execute_reply": "2025-02-27T17:36:07.311853Z",
     "shell.execute_reply.started": "2025-02-27T17:36:07.252753Z"
    }
   },
   "outputs": [],
   "source": [
    "ecmdb_id = []\n",
    "for i, row in conc_df.iterrows():\n",
    "    name = row['ECMDB name']\n",
    "    dfi = ecm_df.loc[ecm_df.name==name]\n",
    "    if len(dfi)==1:\n",
    "        ecmdb_id.append(dfi['met_id'].values[0])\n",
    "    else:\n",
    "        ecmdb_id.append(None)\n",
    "conc_df['ECMDB ID'] = ecmdb_id"
   ]
  },
  {
   "cell_type": "code",
   "execution_count": 50,
   "id": "69fc1197-41e5-46c2-b69a-13ada7d617d5",
   "metadata": {
    "execution": {
     "iopub.execute_input": "2025-02-27T17:56:23.025533Z",
     "iopub.status.busy": "2025-02-27T17:56:23.024915Z",
     "iopub.status.idle": "2025-02-27T17:56:23.036217Z",
     "shell.execute_reply": "2025-02-27T17:56:23.035276Z",
     "shell.execute_reply.started": "2025-02-27T17:56:23.025500Z"
    }
   },
   "outputs": [],
   "source": [
    "conc_df.to_csv(ecmdb_mapping_fn)"
   ]
  },
  {
   "cell_type": "markdown",
   "id": "82e51e6e-be16-4b08-bd75-83f5d3192988",
   "metadata": {},
   "source": [
    "# Extract all concentration data from ECMDB for relecant metabolites"
   ]
  },
  {
   "cell_type": "code",
   "execution_count": 33,
   "id": "7a9e1a02-1d40-484a-96e6-65d952860f5b",
   "metadata": {
    "execution": {
     "iopub.execute_input": "2025-02-27T17:37:43.690769Z",
     "iopub.status.busy": "2025-02-27T17:37:43.689879Z",
     "iopub.status.idle": "2025-02-27T17:41:49.856986Z",
     "shell.execute_reply": "2025-02-27T17:41:49.856442Z",
     "shell.execute_reply.started": "2025-02-27T17:37:43.690705Z"
    }
   },
   "outputs": [
    {
     "name": "stdout",
     "output_type": "stream",
     "text": [
      "New!\n",
      "New!\n",
      "New!\n",
      "New!\n",
      "New!\n",
      "New!\n",
      "New!\n",
      "New!\n",
      "New!\n",
      "New!\n",
      "New!\n",
      "New!\n",
      "New!\n",
      "New!\n",
      "New!\n",
      "New!\n",
      "New!\n",
      "New!\n",
      "New!\n",
      "New!\n",
      "New!\n",
      "New!\n",
      "New!\n",
      "New!\n",
      "New!\n",
      "New!\n",
      "New!\n",
      "New!\n",
      "New!\n",
      "New!\n",
      "New!\n",
      "New!\n",
      "New!\n",
      "New!\n",
      "New!\n",
      "New!\n",
      "New!\n",
      "New!\n",
      "New!\n",
      "New!\n",
      "New!\n",
      "New!\n",
      "New!\n",
      "New!\n",
      "New!\n",
      "New!\n",
      "New!\n",
      "New!\n",
      "New!\n",
      "New!\n",
      "New!\n",
      "New!\n",
      "New!\n",
      "New!\n",
      "New!\n",
      "New!\n",
      "New!\n",
      "New!\n",
      "New!\n",
      "New!\n",
      "New!\n",
      "New!\n",
      "New!\n",
      "New!\n",
      "New!\n",
      "New!\n",
      "New!\n",
      "New!\n",
      "New!\n",
      "New!\n",
      "New!\n",
      "New!\n",
      "New!\n",
      "New!\n",
      "New!\n",
      "New!\n",
      "New!\n",
      "New!\n",
      "New!\n",
      "New!\n",
      "New!\n",
      "New!\n",
      "New!\n",
      "New!\n",
      "New!\n",
      "New!\n",
      "New!\n",
      "New!\n",
      "New!\n",
      "New!\n",
      "New!\n",
      "New!\n",
      "New!\n",
      "New!\n",
      "New!\n",
      "New!\n",
      "New!\n",
      "New!\n",
      "New!\n",
      "New!\n",
      "New!\n",
      "New!\n",
      "New!\n",
      "New!\n",
      "New!\n",
      "New!\n",
      "New!\n",
      "New!\n",
      "New!\n",
      "New!\n",
      "New!\n",
      "New!\n",
      "New!\n",
      "New!\n",
      "New!\n",
      "New!\n",
      "New!\n",
      "New!\n",
      "New!\n",
      "New!\n",
      "New!\n",
      "New!\n",
      "New!\n"
     ]
    }
   ],
   "source": [
    "conc_data = {}\n",
    "for i, row in conc_df.iterrows():\n",
    "    if row['ECMDB ID']:\n",
    "        conc_dfi = get_ecmdb_conc(row['ECMDB ID'])\n",
    "        if conc_dfi.size:\n",
    "            conc_data[row['Metabolite']] = conc_dfi"
   ]
  },
  {
   "cell_type": "code",
   "execution_count": 36,
   "id": "f6e47b9f-516f-4fda-9b9f-83e13530a2f1",
   "metadata": {
    "execution": {
     "iopub.execute_input": "2025-02-27T17:50:30.225993Z",
     "iopub.status.busy": "2025-02-27T17:50:30.225331Z",
     "iopub.status.idle": "2025-02-27T17:50:30.252729Z",
     "shell.execute_reply": "2025-02-27T17:50:30.252082Z",
     "shell.execute_reply.started": "2025-02-27T17:50:30.225957Z"
    }
   },
   "outputs": [],
   "source": [
    "all_conc = pd.concat(conc_data).reset_index()"
   ]
  },
  {
   "cell_type": "code",
   "execution_count": 38,
   "id": "b8ecca83-491e-4b74-bd60-8f944bb06ba9",
   "metadata": {
    "execution": {
     "iopub.execute_input": "2025-02-27T17:51:43.258263Z",
     "iopub.status.busy": "2025-02-27T17:51:43.257046Z",
     "iopub.status.idle": "2025-02-27T17:51:43.270028Z",
     "shell.execute_reply": "2025-02-27T17:51:43.269059Z",
     "shell.execute_reply.started": "2025-02-27T17:51:43.258191Z"
    }
   },
   "outputs": [],
   "source": [
    "all_conc.rename(columns={'level_0': 'Metabolite', 'level_1': '#'}, inplace=True)"
   ]
  },
  {
   "cell_type": "code",
   "execution_count": 49,
   "id": "c07f2d3f-5453-479c-ae5a-8e95864f8f40",
   "metadata": {
    "execution": {
     "iopub.execute_input": "2025-02-27T17:54:41.702706Z",
     "iopub.status.busy": "2025-02-27T17:54:41.702072Z",
     "iopub.status.idle": "2025-02-27T17:54:41.721153Z",
     "shell.execute_reply": "2025-02-27T17:54:41.720251Z",
     "shell.execute_reply.started": "2025-02-27T17:54:41.702670Z"
    }
   },
   "outputs": [],
   "source": [
    "all_conc_fn = data_folder / 'this_project' / '5_div' / '5F_intracellular_concentrations.csv'\n",
    "all_conc.to_csv(all_conc_fn)"
   ]
  }
 ],
 "metadata": {
  "kernelspec": {
   "display_name": "Python 3 (ipykernel)",
   "language": "python",
   "name": "python3"
  },
  "language_info": {
   "codemirror_mode": {
    "name": "ipython",
    "version": 3
   },
   "file_extension": ".py",
   "mimetype": "text/x-python",
   "name": "python",
   "nbconvert_exporter": "python",
   "pygments_lexer": "ipython3",
   "version": "3.9.21"
  }
 },
 "nbformat": 4,
 "nbformat_minor": 5
}
