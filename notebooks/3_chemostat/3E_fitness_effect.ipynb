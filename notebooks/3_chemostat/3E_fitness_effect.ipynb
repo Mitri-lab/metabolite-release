{
 "cells": [
  {
   "cell_type": "code",
   "execution_count": 1,
   "id": "b1ce8fb7",
   "metadata": {},
   "outputs": [],
   "source": [
    "import reframed\n",
    "import pandas as pd\n",
    "import seaborn as sns\n",
    "from pathlib import Path\n",
    "from sklearn import metrics\n",
    "import numpy as np\n",
    "sns.set(style='ticks', font_scale=1)\n",
    "import scipy.integrate\n",
    "from statannotations.Annotator import Annotator\n",
    "from matplotlib import pyplot as plt"
   ]
  },
  {
   "cell_type": "markdown",
   "id": "5d127888",
   "metadata": {},
   "source": [
    "# Estimate the reduction in growth rates caused by the release in the knockout mutants"
   ]
  },
  {
   "cell_type": "code",
   "execution_count": 2,
   "id": "ea39142b",
   "metadata": {},
   "outputs": [],
   "source": [
    "label_mapping = {\n",
    "    'aceE-M2': 'ΔaceE-M2',\n",
    "    'aceE-M3': 'ΔaceE-M3',\n",
    "    'aceE-M4': 'ΔaceE-M4',\n",
    "    'WT': 'E. coli WT',\n",
    "    'aceE': 'ΔaceE',\n",
    "    'sucB-M5': 'ΔsucB-M5',\n",
    "    'sucB-M6': 'ΔsucB-M6',\n",
    "    'sucB-M7': 'ΔsucB-M7',\n",
    "    'sucB': 'ΔsucB',\n",
    "}\n",
    "tab10_cmap = sns.color_palette(\"tab10\", 10)\n",
    "\n",
    "set2 = sns.color_palette(\"Set2\", 8)\n",
    "strains_cmap = {\n",
    "    'ΔaceE': tab10_cmap[1],\n",
    "    'ΔsucB': tab10_cmap[8],\n",
    "    'E. coli WT': tab10_cmap[0],\n",
    "    'ΔaceE-M2':set2[3],\n",
    "    'ΔaceE-M3':set2[0],\n",
    "    'ΔaceE-M4':set2[6],\n",
    "    'ΔsucB-M5':set2[5],\n",
    "    'ΔsucB-M6':set2[2],\n",
    "    'ΔsucB-M7':set2[7],\n",
    "}\n",
    "\n"
   ]
  },
  {
   "cell_type": "markdown",
   "id": "7da62124",
   "metadata": {},
   "source": [
    "# Get rates"
   ]
  },
  {
   "cell_type": "code",
   "execution_count": 6,
   "id": "00189609",
   "metadata": {},
   "outputs": [],
   "source": [
    "git_folder = Path('../..')\n",
    "figure_folder = git_folder / 'Figures' /'chemostat'\n",
    "\n",
    "\n",
    "data_folder_1 = git_folder / 'data' / 'this_project' / '3_keio_strains_chemostat'\n",
    "fn_exometabolome_nM_updated = data_folder_1 / '3I_exometabolome_rates.csv'\n",
    "df_nM = pd.read_csv(fn_exometabolome_nM_updated)"
   ]
  },
  {
   "cell_type": "markdown",
   "id": "abdb6979",
   "metadata": {},
   "source": [
    "# Get model"
   ]
  },
  {
   "cell_type": "code",
   "execution_count": 8,
   "id": "a08d9af7",
   "metadata": {},
   "outputs": [],
   "source": [
    "model = reframed.load_cbmodel('../../models/e_coli/momentiJO1366_modified.xml')\n",
    "# Use the original iJO1366 model for getting info about gene names\n",
    "modeli =reframed.load_cbmodel('../../models/e_coli/iJO1366.xml')"
   ]
  },
  {
   "cell_type": "code",
   "execution_count": 9,
   "id": "58eda844",
   "metadata": {},
   "outputs": [
    {
     "name": "stdout",
     "output_type": "stream",
     "text": [
      "G_b0727 sucB\n",
      "G_b0114 aceE\n"
     ]
    }
   ],
   "source": [
    "gene_name_to_bcode = {}\n",
    "for gi, g in modeli.genes.items():\n",
    "    # print(gi, gname)\n",
    "    # break\n",
    "    if g.name in ['aceE', 'sucB']:\n",
    "        print(gi, g.name)\n",
    "        gene_name_to_bcode[g.name] = gi\n",
    "\n",
    "m_aceE = model.copy()\n",
    "m_aceE.remove_gene('G_b0114')\n",
    "\n",
    "m_sucB = model.copy()\n",
    "m_sucB.remove_gene('G_b0727')"
   ]
  },
  {
   "cell_type": "code",
   "execution_count": 10,
   "id": "f8446ffb",
   "metadata": {},
   "outputs": [],
   "source": [
    "# assume uptake is the same as in the WT\n",
    "gal_uptake = -4.30"
   ]
  },
  {
   "cell_type": "markdown",
   "id": "394a9ab5",
   "metadata": {},
   "source": [
    "## aceE"
   ]
  },
  {
   "cell_type": "code",
   "execution_count": 11,
   "id": "98838ecc",
   "metadata": {},
   "outputs": [],
   "source": [
    "mean_rates = df_nM.groupby(['Strain', 'Metabolite'], as_index=False).agg({'Rate [mmol/gDW/h]': 'mean'})\n",
    "mean_rate_dict = mean_rates.set_index(['Strain', 'Metabolite'])['Rate [mmol/gDW/h]'].to_dict()"
   ]
  },
  {
   "cell_type": "code",
   "execution_count": 12,
   "id": "93e90408",
   "metadata": {},
   "outputs": [
    {
     "name": "stdout",
     "output_type": "stream",
     "text": [
      "Set parameter Username\n",
      "Set parameter LicenseID to value 2586336\n",
      "Academic license - for non-commercial use only - expires 2025-11-18\n"
     ]
    }
   ],
   "source": [
    "aceE_max = reframed.FBA(m_aceE, constraints={'R_EX_glc__D_e': 0, 'R_EX_gal_e': gal_uptake})\n",
    "aceE_lactate = reframed.FBA(m_aceE, constraints={'R_EX_glc__D_e': 0, 'R_EX_gal_e': gal_uptake,\n",
    "                                    'R_EX_lac__L_e': mean_rate_dict['aceE', 'Lactate'],\n",
    "                                    # 'R_EX_pyr_e': mean_rate_dict['aceE', 'Pyruvate'],\n",
    "                                    # 'R_EX_val__L_e': mean_rate_dict['aceE', 'Valine'],\n",
    "                                    # 'R_EX_f6p_e': mean_rate_dict['aceE', 'Fructose-6-phosphate'],\n",
    "                                   }, \n",
    "             objective=m_aceE.biomass_reaction)\n",
    "aceE_pyr = reframed.FBA(m_aceE, constraints={'R_EX_glc__D_e': 0, 'R_EX_gal_e': gal_uptake,\n",
    "                                    'R_EX_pyr_e': mean_rate_dict['aceE', 'Pyruvate']\n",
    "                                   })\n",
    "\n",
    "aceE_lactate_m2 = reframed.FBA(m_aceE, constraints={'R_EX_glc__D_e': 0, 'R_EX_gal_e': gal_uptake,\n",
    "                                    'R_EX_lac__L_e': mean_rate_dict['aceE-M2', 'Lactate'],\n",
    "                                   }, )\n",
    "\n",
    "\n",
    "aceE_lactate_m4 = reframed.FBA(m_aceE, constraints={'R_EX_glc__D_e': 0, 'R_EX_gal_e': gal_uptake,\n",
    "                                    'R_EX_lac__L_e': mean_rate_dict['aceE-M4', 'Lactate'],\n",
    "                                   }, )\n",
    "\n",
    "aceE_pyr_m4 = reframed.FBA(m_aceE, constraints={'R_EX_glc__D_e': 0, 'R_EX_gal_e': gal_uptake,\n",
    "                                    'R_EX_pyr_e': mean_rate_dict['aceE-M4', 'Pyruvate']\n",
    "                                   })\n"
   ]
  },
  {
   "cell_type": "code",
   "execution_count": 17,
   "id": "d23558d1",
   "metadata": {},
   "outputs": [
    {
     "name": "stdout",
     "output_type": "stream",
     "text": [
      "0.4052663579531723\n"
     ]
    }
   ],
   "source": [
    "print(aceE_max.fobj)"
   ]
  },
  {
   "cell_type": "code",
   "execution_count": 13,
   "id": "174829f6",
   "metadata": {},
   "outputs": [
    {
     "name": "stdout",
     "output_type": "stream",
     "text": [
      "Growth rate reduction caused by lactate: 6.06%\n",
      "Growth rate reduction caused by lactate M2: 4.22%\n",
      "Growth rate reduction caused by lactate M4: 1.95%\n",
      "Growth rate reduction caused by pyruvate: 0.0063%\n",
      "Growth rate reduction caused by pyruvate M4: 34.3158%\n"
     ]
    }
   ],
   "source": [
    "lactate_growth_rate_reduction = 100*(1-aceE_lactate.fobj/aceE_max.fobj)\n",
    "lactate_growth_rate_reduction_m2 = 100*(1-aceE_lactate_m2.fobj/aceE_max.fobj)\n",
    "lactate_growth_rate_reduction_m4 = 100*(1-aceE_lactate_m4.fobj/aceE_max.fobj)\n",
    "pyruvate_growth_rate_reduction = 100*(1-aceE_pyr.fobj/aceE_max.fobj)\n",
    "pyruvate_growth_rate_reduction_m4 = 100*(1-aceE_pyr_m4.fobj/aceE_max.fobj)\n",
    "print(f'Growth rate reduction caused by lactate: {lactate_growth_rate_reduction:.2f}%')\n",
    "print(f'Growth rate reduction caused by lactate M2: {lactate_growth_rate_reduction_m2:.2f}%')\n",
    "print(f'Growth rate reduction caused by lactate M4: {lactate_growth_rate_reduction_m4:.2f}%')\n",
    "print(f'Growth rate reduction caused by pyruvate: {pyruvate_growth_rate_reduction:.4f}%')\n",
    "print(f'Growth rate reduction caused by pyruvate M4: {pyruvate_growth_rate_reduction_m4:.4f}%')"
   ]
  },
  {
   "cell_type": "code",
   "execution_count": null,
   "id": "a46e3ddb",
   "metadata": {},
   "outputs": [
    {
     "name": "stdout",
     "output_type": "stream",
     "text": [
      "0.40526635795317206\n"
     ]
    }
   ],
   "source": []
  },
  {
   "cell_type": "code",
   "execution_count": 128,
   "id": "5804ddb7",
   "metadata": {},
   "outputs": [
    {
     "name": "stdout",
     "output_type": "stream",
     "text": [
      "R_EX_ca2_e   -0.00210941\n",
      "R_EX_cl_e    -0.00210941\n",
      "R_EX_co2_e    9.1645\n",
      "R_EX_cobalt2_e -1.01317e-05\n",
      "R_EX_cu2_e   -0.000287334\n",
      "R_EX_fe2_e   -0.00650898\n",
      "R_EX_gal_e   -4.3\n",
      "R_EX_h_e      3.72368\n",
      "R_EX_h2o_e    19.8675\n",
      "R_EX_k_e     -0.0791052\n",
      "R_EX_mg2_e   -0.00351569\n",
      "R_EX_mn2_e   -0.000280039\n",
      "R_EX_mobd_e  -5.22794e-05\n",
      "R_EX_nh4_e   -4.3772\n",
      "R_EX_ni2_e   -0.000130901\n",
      "R_EX_o2_e    -8.2997\n",
      "R_EX_pi_e    -0.390932\n",
      "R_EX_so4_e   -0.102211\n",
      "R_EX_zn2_e   -0.000138196\n"
     ]
    }
   ],
   "source": [
    "aceE_max.show_values('R_EX')"
   ]
  },
  {
   "cell_type": "markdown",
   "id": "175d2887",
   "metadata": {},
   "source": [
    "# sucB"
   ]
  },
  {
   "cell_type": "code",
   "execution_count": 14,
   "id": "907cefa6",
   "metadata": {},
   "outputs": [
    {
     "data": {
      "text/plain": [
       "'R_DM_acon_C_c'"
      ]
     },
     "execution_count": 14,
     "metadata": {},
     "output_type": "execute_result"
    }
   ],
   "source": [
    "m_sucB.add_reaction_from_str('R_DM_icit_c: M_icit_c --> [0,100]')\n",
    "m_sucB.add_reaction_from_str('R_DM_acon_C_c: M_acon_C_c --> [0,100]')"
   ]
  },
  {
   "cell_type": "code",
   "execution_count": null,
   "id": "25336b4b",
   "metadata": {},
   "outputs": [
    {
     "name": "stdout",
     "output_type": "stream",
     "text": [
      "0.40526635795317206\n"
     ]
    }
   ],
   "source": []
  },
  {
   "cell_type": "code",
   "execution_count": 15,
   "id": "889a54a7",
   "metadata": {},
   "outputs": [],
   "source": [
    "sucB_max = reframed.FBA(m_sucB, constraints={'R_EX_glc__D_e': 0, 'R_EX_gal_e': gal_uptake})\n",
    "sucB_citrate = reframed.FBA(m_sucB, constraints={'R_EX_glc__D_e': 0, 'R_EX_gal_e': gal_uptake,\n",
    "                                    'R_EX_cit_e': mean_rate_dict['sucB', 'Citrate'],\n",
    "                                    'R_DM_acon_C_c': mean_rate_dict['sucB', 'Cis-aconitate'],\n",
    "                                    'R_DM_icit_c': mean_rate_dict['sucB', 'Isocitrate'],\n",
    "                                   }, \n",
    "             objective=m_sucB.biomass_reaction)"
   ]
  },
  {
   "cell_type": "code",
   "execution_count": 20,
   "id": "c1af6d08",
   "metadata": {},
   "outputs": [
    {
     "name": "stdout",
     "output_type": "stream",
     "text": [
      "0.40526635795317206\n"
     ]
    }
   ],
   "source": [
    "print(sucB_max.fobj)"
   ]
  },
  {
   "cell_type": "code",
   "execution_count": 16,
   "id": "818d4d22",
   "metadata": {},
   "outputs": [
    {
     "name": "stdout",
     "output_type": "stream",
     "text": [
      "Growth rate reduction caused by citrate: 0.1792%\n"
     ]
    }
   ],
   "source": [
    "print(f'Growth rate reduction caused by citrate: {100*(1-sucB_citrate.fobj/sucB_max.fobj):.4f}%')"
   ]
  }
 ],
 "metadata": {
  "kernelspec": {
   "display_name": "reframed",
   "language": "python",
   "name": "python3"
  },
  "language_info": {
   "codemirror_mode": {
    "name": "ipython",
    "version": 3
   },
   "file_extension": ".py",
   "mimetype": "text/x-python",
   "name": "python",
   "nbconvert_exporter": "python",
   "pygments_lexer": "ipython3",
   "version": "3.9.21"
  }
 },
 "nbformat": 4,
 "nbformat_minor": 5
}
