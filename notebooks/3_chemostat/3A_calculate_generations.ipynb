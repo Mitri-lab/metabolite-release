{
 "cells": [
  {
   "cell_type": "code",
   "execution_count": 48,
   "id": "027bd70d",
   "metadata": {},
   "outputs": [],
   "source": [
    "import pandas as pd\n",
    "from pathlib import Path\n",
    "import numpy as np"
   ]
  },
  {
   "cell_type": "code",
   "execution_count": 49,
   "id": "804ad616",
   "metadata": {},
   "outputs": [],
   "source": [
    "data_folder = Path('../../data')\n",
    "fn_feed = data_folder /'this_project/3_keio_strains_chemostat/3B_chemostat_feed_rates.csv'\n",
    "df_feed = pd.read_csv(fn_feed)"
   ]
  },
  {
   "cell_type": "code",
   "execution_count": 51,
   "id": "42206952",
   "metadata": {},
   "outputs": [
    {
     "data": {
      "text/html": [
       "<div>\n",
       "<style scoped>\n",
       "    .dataframe tbody tr th:only-of-type {\n",
       "        vertical-align: middle;\n",
       "    }\n",
       "\n",
       "    .dataframe tbody tr th {\n",
       "        vertical-align: top;\n",
       "    }\n",
       "\n",
       "    .dataframe thead th {\n",
       "        text-align: right;\n",
       "    }\n",
       "</style>\n",
       "<table border=\"1\" class=\"dataframe\">\n",
       "  <thead>\n",
       "    <tr style=\"text-align: right;\">\n",
       "      <th></th>\n",
       "      <th>Time [h]</th>\n",
       "      <th>aceE-M2</th>\n",
       "      <th>aceE-M3</th>\n",
       "      <th>aceE-M4</th>\n",
       "      <th>sucB-M5</th>\n",
       "      <th>sucB-M6</th>\n",
       "      <th>sucB-M7</th>\n",
       "    </tr>\n",
       "  </thead>\n",
       "  <tbody>\n",
       "  </tbody>\n",
       "</table>\n",
       "</div>"
      ],
      "text/plain": [
       "Empty DataFrame\n",
       "Columns: [Time [h], aceE-M2, aceE-M3, aceE-M4, sucB-M5, sucB-M6, sucB-M7]\n",
       "Index: []"
      ]
     },
     "execution_count": 51,
     "metadata": {},
     "output_type": "execute_result"
    }
   ],
   "source": [
    "df_feed.loc[df_feed['Time [h]'].isna(), :]"
   ]
  },
  {
   "cell_type": "code",
   "execution_count": 52,
   "id": "c6974c55",
   "metadata": {},
   "outputs": [],
   "source": [
    "strains = df_feed.columns[1:]\n",
    "generations_dict = {}\n",
    "volume = 300 #mL\n",
    "for strain in strains:\n",
    "    prev_time = 0\n",
    "    generations = 0\n",
    "\n",
    "    for i, row in df_feed.iterrows():\n",
    "        if np.isnan(row[strain]):\n",
    "            prev_time = row['Time [h]']\n",
    "            continue\n",
    "        if row[strain]>0:\n",
    "            dilution_rate = row[strain]/volume\n",
    "            doubling_time = np.log(2)/dilution_rate\n",
    "            generations += (row['Time [h]'] - prev_time)/doubling_time\n",
    "            if np.isnan(generations):\n",
    "                print(f'{strain} {row[\"Time [h]\"]} {prev_time} {dilution_rate} {doubling_time} {generations}')\n",
    "        prev_time = row['Time [h]']\n",
    "        \n",
    "    generations_dict[strain] = generations\n",
    "             \n",
    "\n",
    "\n",
    "        "
   ]
  },
  {
   "cell_type": "markdown",
   "id": "c599886b",
   "metadata": {},
   "source": [
    "# Add generations from batch mode"
   ]
  },
  {
   "cell_type": "code",
   "execution_count": 56,
   "id": "c4345bba",
   "metadata": {},
   "outputs": [],
   "source": [
    "fn_od = data_folder /'this_project/3_keio_strains_chemostat/3A_chemostat_OD.csv'\n",
    "df_od = pd.read_csv(fn_od)"
   ]
  },
  {
   "cell_type": "code",
   "execution_count": 59,
   "id": "a5bc92b5",
   "metadata": {},
   "outputs": [],
   "source": [
    "time_od_for_chemostat_start = {\n",
    "    'aceE-M2': (pd.to_datetime('03.04.2024  23:00:00'), 0.69),\n",
    "    'aceE-M3': (pd.to_datetime('03.04.2024  23:00:00'), 1.04),\n",
    "    'aceE-M4': (pd.to_datetime('05.04.2024  16:30:00'), 0.73),\n",
    "    'sucB-M5': (pd.to_datetime('03.04.2024  08:30:00'), 3.1),\n",
    "    'sucB-M6': (pd.to_datetime('03.04.2024  08:30:00'), 3),\n",
    "    'sucB-M7': (pd.to_datetime('03.04.2024  08:30:00'),3.3),\n",
    "}"
   ]
  },
  {
   "cell_type": "code",
   "execution_count": 60,
   "id": "f99919a5",
   "metadata": {},
   "outputs": [
    {
     "name": "stdout",
     "output_type": "stream",
     "text": [
      "aceE-M2 2.786596361890806 109.35230632231377\n",
      "aceE-M3 3.3785116232537296 120.57190932103755\n",
      "aceE-M4 2.8678964639926545 121.92053230799293\n",
      "sucB-M5 4.954196310386876 224.76890970729374\n",
      "sucB-M6 4.906890595608518 225.98192941304748\n",
      "sucB-M7 5.044394119358453 200.03003328433502\n"
     ]
    }
   ],
   "source": [
    "inoculation_od = 0.1\n",
    "for strain, (time, od) in time_od_for_chemostat_start.items():\n",
    "    batch_generations = (np.log(od)-np.log(inoculation_od))/np.log(2)\n",
    "    generations_dict[strain] += batch_generations\n",
    "    print(f'{strain} {batch_generations} {generations_dict[strain]}')"
   ]
  },
  {
   "cell_type": "code",
   "execution_count": 61,
   "id": "c190c58c",
   "metadata": {},
   "outputs": [
    {
     "name": "stdout",
     "output_type": "stream",
     "text": [
      "aceE-M2 109.35230632231377\n",
      "aceE-M3 120.57190932103755\n",
      "aceE-M4 121.92053230799293\n",
      "sucB-M5 224.76890970729374\n",
      "sucB-M6 225.98192941304748\n",
      "sucB-M7 200.03003328433502\n"
     ]
    }
   ],
   "source": [
    "for strain, generations in generations_dict.items():\n",
    "    print(f'{strain} {generations}')"
   ]
  }
 ],
 "metadata": {
  "kernelspec": {
   "display_name": "base",
   "language": "python",
   "name": "python3"
  },
  "language_info": {
   "codemirror_mode": {
    "name": "ipython",
    "version": 3
   },
   "file_extension": ".py",
   "mimetype": "text/x-python",
   "name": "python",
   "nbconvert_exporter": "python",
   "pygments_lexer": "ipython3",
   "version": "3.12.2"
  }
 },
 "nbformat": 4,
 "nbformat_minor": 5
}
