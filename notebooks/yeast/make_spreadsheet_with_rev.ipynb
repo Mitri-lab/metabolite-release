{
 "cells": [
  {
   "cell_type": "code",
   "execution_count": 1,
   "id": "79ba6e35-c768-4a31-80b9-eb19321d1cb5",
   "metadata": {},
   "outputs": [],
   "source": [
    "import cobra\n",
    "import pandas as pd\n",
    "import re\n",
    "import numpy as np\n",
    "import scipy.stats as st\n",
    "from matplotlib import pyplot as plt\n",
    "from pathlib import Path\n",
    "import sys\n",
    "sys.path.append('../../code/')\n",
    "import leakage, utils\n",
    "import pubchempy as pcp\n",
    "import seaborn as sns\n",
    "import time"
   ]
  },
  {
   "cell_type": "markdown",
   "id": "cc525964-a326-4da3-b3c2-17b6712404e1",
   "metadata": {},
   "source": [
    "# Settings / choices"
   ]
  },
  {
   "cell_type": "code",
   "execution_count": 2,
   "id": "707fe8a8-1530-42c7-8e15-47d57a6a8d0f",
   "metadata": {},
   "outputs": [],
   "source": [
    "only_significant_changes = False\n",
    "timepoints = np.arange(1.5, 13, 1)\n",
    "knock_outs = False\n",
    "shadow_price_for_leaked_mets = False\n",
    "species = 'yeast'"
   ]
  },
  {
   "cell_type": "code",
   "execution_count": 3,
   "id": "0d165296-af3a-4e3e-a49b-c4606ed061a6",
   "metadata": {},
   "outputs": [],
   "source": [
    "def inf_to_100000(model):\n",
    "    for r in model.reactions:\n",
    "        if np.isinf(r.lower_bound):\n",
    "            r.lower_bound = -100000\n",
    "        if np.isinf(r.upper_bound):\n",
    "            r.upper_bound = 100000\n",
    "    return model\n",
    "\n",
    "def print_summary(model, solution):\n",
    "    # Print uptake\n",
    "    for r in model.exchanges:\n",
    "        flux = solution[r.id]\n",
    "        if  flux >1e-3:\n",
    "            print(r.id, r.name,flux, r.bounds)\n",
    "        elif flux < -1e-3:\n",
    "            print(r.id, r.name,flux, r.bounds)\n",
    "    #print(\"## Demands ##\")\n",
    "    #for r in model.demands:\n",
    "    #    print(r.id, solution[r.id])\n",
    "\n",
    "    print(\"Growth: \", solution['r_2111'])\n",
    "    print(\"Prot pool exchange: \", solution['prot_pool_exchange'])\n",
    "    \n",
    "def get_exchange_met(model, mc_id):\n",
    "    mc = model.metabolites.get_by_id(mc_id)\n",
    "    me_name = mc.name.replace('[cytoplasm]', '[extracellular]')\n",
    "    return [m for m in model.metabolites if m.name == me_name]"
   ]
  },
  {
   "cell_type": "code",
   "execution_count": null,
   "id": "163e1dc1-6ad7-4f84-898a-654e6fd28b3a",
   "metadata": {},
   "outputs": [],
   "source": []
  },
  {
   "cell_type": "code",
   "execution_count": 4,
   "id": "5ae5c092-6659-401f-bc09-91871835d8b0",
   "metadata": {},
   "outputs": [
    {
     "name": "stdout",
     "output_type": "stream",
     "text": [
      "Set parameter Username\n",
      "Academic license - for non-commercial use only - expires 2024-02-26\n"
     ]
    }
   ],
   "source": [
    "fn = '../../models/yeast/ecYeastGEM_batch_8_3_4_no_rev_ex.xml'\n",
    "model = cobra.io.read_sbml_model(fn)\n",
    "model.solver = 'gurobi'\n",
    "model = inf_to_100000(model)"
   ]
  },
  {
   "cell_type": "code",
   "execution_count": 5,
   "id": "d468ae6d-2dc2-4e53-86e6-b51f1c4311df",
   "metadata": {},
   "outputs": [],
   "source": [
    "def get_leakage(time):\n",
    "    exometabolites_folder = Path(\"../../data/{0}/\".format(species))\n",
    "    leakage_df = leakage.get_leakage(exometabolites_folder, species, time = time, unit = '/gDW', method = 'one-way-diff',\n",
    "                                    only_significant_changes = only_significant_changes)\n",
    "    leakage_df.set_index(\"Metabolite\", inplace=True)\n",
    "    leakage_df.drop_duplicates(inplace=True)\n",
    "    leakage_label = \"Leakage (mmol/gDW/h)\"\n",
    "    return leakage_df"
   ]
  },
  {
   "cell_type": "code",
   "execution_count": 6,
   "id": "b43e03ca-095b-4e0d-a985-ca3fd036724e",
   "metadata": {},
   "outputs": [
    {
     "name": "stdout",
     "output_type": "stream",
     "text": [
      "r_1672 carbon dioxide exchange 32.98977124357251 (0.0, 100000)\n",
      "r_1761 ethanol exchange 29.566489785990203 (0.0, 100000)\n",
      "r_1793 formate exchange 0.016150224788539704 (0.0, 100000)\n",
      "r_2100 water exchange 13.76574682590952 (0.0, 100000)\n",
      "r_4527 diphosphate exchange 3.547990276340295 (0.0, 100000)\n",
      "r_1654_REV ammonium exchange (reversible) 2.5816166708064148 (0.0, 100000)\n",
      "r_1714_REV D-glucose exchange (reversible) 17.93092040604542 (0.0, 1000.0)\n",
      "r_1832_REV H+ exchange (reversible) 20.4926800685532 (0.0, 100000)\n",
      "r_1992_REV oxygen exchange (reversible) 2.701685147415501 (0.0, 100000)\n",
      "r_2005_REV phosphate exchange (reversible) 7.199026976953928 (0.0, 100000)\n",
      "r_2020_REV potassium exchange (reversible) 0.001367874213516301 (0.0, 100000)\n",
      "r_2049_REV sodium exchange (reversible) 0.001495994663267139 (0.0, 100000)\n",
      "r_2060_REV sulphate exchange (reversible) 0.0344959412231053 (0.0, 100000)\n",
      "r_4595_REV Mn(2+) exchange (reversible) 0.0010287318465287882 (0.0, 100000)\n",
      "Growth:  0.3768248522083474\n",
      "Prot pool exchange:  0.103720024310123\n"
     ]
    }
   ],
   "source": [
    "print_summary(model, model.optimize())"
   ]
  },
  {
   "cell_type": "code",
   "execution_count": 7,
   "id": "311898ec-40fe-42c8-8a17-6bca6ce2e5a0",
   "metadata": {},
   "outputs": [],
   "source": [
    "# model.reactions.get_by_id('r_1761_REV').upper_bound = 1\n",
    "# model.reactions.get_by_id('r_1714_REV').upper_bound = 0\n",
    "# print_summary(model, model.optimize())"
   ]
  },
  {
   "cell_type": "code",
   "execution_count": 8,
   "id": "3dc7448d-7180-456b-b1c7-6eece526f7c3",
   "metadata": {},
   "outputs": [],
   "source": [
    "exometabolites_folder = Path(\"../../data/{0}/\".format(species))\n"
   ]
  },
  {
   "cell_type": "code",
   "execution_count": 9,
   "id": "f0e6e6ba-1ba2-4e48-92bd-3582d6b55264",
   "metadata": {},
   "outputs": [],
   "source": [
    "met_info_df = pd.read_csv(\"../../data/met_info_curated.csv\", encoding = \"ISO-8859-1\", index_col = 0)"
   ]
  },
  {
   "cell_type": "code",
   "execution_count": 10,
   "id": "c7a60e97-2726-491d-859b-192a00236da0",
   "metadata": {},
   "outputs": [],
   "source": [
    "# Read metabolite mapping\n",
    "mapping_df = pd.read_csv('../../data/id_mapping.csv', index_col=0)\n",
    "# df2 = pd.merge(leakage_df, mapping_df, left_index=True, right_index=True)\n",
    "# df2.drop(columns='Metabolite name', inplace=True)"
   ]
  },
  {
   "cell_type": "markdown",
   "id": "f660b809-27b3-45d6-9924-90e8b2a44201",
   "metadata": {
    "tags": []
   },
   "source": [
    "# Get leakage\n"
   ]
  },
  {
   "cell_type": "code",
   "execution_count": 11,
   "id": "059f3a0d-e852-4e4c-91b9-44ff8298c6f8",
   "metadata": {},
   "outputs": [
    {
     "name": "stdout",
     "output_type": "stream",
     "text": [
      "1.5\n",
      "-10.763953320088106\n",
      "0.36702610729307134\n",
      "2.5\n",
      "-4.817361276437225\n",
      "0.3287940895795481\n",
      "3.5\n",
      "-13.167743226178732\n",
      "Could not find s_0555[c]: D-fructose 1,6-bisphosphate [cytoplasm]\n",
      "0.37386957150349964\n",
      "4.5\n",
      "-13.149881488903473\n",
      "Could not find s_1269[c]: orotate [cytoplasm]\n",
      "0.3724445264737478\n",
      "5.5\n",
      "-1.713688982582195\n",
      "0.15201144258748223\n",
      "6.5\n",
      "-1.3314044955834639\n",
      "Could not find s_1269[c]: orotate [cytoplasm]\n",
      "0.11956485740289446\n",
      "7.5\n",
      "0.0\n",
      "Could not find s_0555[c]: D-fructose 1,6-bisphosphate [cytoplasm]\n",
      "Could not find s_0629[c]: dihydroxyacetone phosphate [cytoplasm]\n",
      "Could not find s_0577[c]: D-ribulose 5-phosphate [cytoplasm]\n",
      "Could not find s_0581[c]: D-xylulose 5-phosphate [cytoplasm]\n",
      "Could not find s_0516[c]: cis-aconitate [cytoplasm]\n",
      "0.07401285750332104\n",
      "8.5\n",
      "0.0\n",
      "Could not find s_0557[c]: D-fructose 6-phosphate [cytoplasm]\n",
      "0.007137602233672872\n",
      "9.5\n",
      "0.0\n",
      "Could not find s_0555[c]: D-fructose 1,6-bisphosphate [cytoplasm]\n",
      "0.0913752831268162\n",
      "10.5\n",
      "0.0\n",
      "Could not find s_0629[c]: dihydroxyacetone phosphate [cytoplasm]\n",
      "Could not find s_1269[c]: orotate [cytoplasm]\n",
      "0.05392148093859529\n",
      "11.5\n",
      "0.0\n",
      "Could not find s_0555[c]: D-fructose 1,6-bisphosphate [cytoplasm]\n",
      "Could not find s_1269[c]: orotate [cytoplasm]\n",
      "0.06701130836385864\n",
      "12.5\n",
      "0.0\n",
      "0.011634785402885948\n"
     ]
    }
   ],
   "source": [
    "glucose_exchange_id = 'r_1714_REV'\n",
    "split_reactions = True\n",
    "\n",
    "# timepoints = np.arange(1.5,8, 1)#[5,6,7,8,9,10,11, 12, 13]\n",
    "for i, t in enumerate(timepoints):\n",
    "    print(t)\n",
    "    leakage_df = get_leakage(t)\n",
    "    # Consider to use an earlier time-point\n",
    "    glucose_uptake_rate = leakage.get_glucose_uptake_rate(exometabolites_folder, \"yeast\", time = t, method = 'one-way-diff')\n",
    "    df2 = pd.merge(leakage_df, mapping_df, left_index=True, right_index=True)\n",
    "    df2.drop(columns='Metabolite name', inplace=True)\n",
    "    df = pd.merge(met_info_df, df2, left_on = 'Metabolite id', right_on = 'Ecoli metabolite')\n",
    "    df['Time'] = t\n",
    "    df['Glucose'] = -glucose_uptake_rate\n",
    "    print(glucose_uptake_rate)\n",
    "    # Set model constraints\n",
    "    with model:\n",
    "        if split_reactions:\n",
    "            model.reactions.get_by_id(glucose_exchange_id).upper_bound = max(-1*glucose_uptake_rate, 0)\n",
    "        else:\n",
    "            model.reactions.get_by_id(glucose_exchange_id).lower_bound = min(glucose_uptake_rate, 0)\n",
    "        for j, row in df.iterrows():\n",
    "            if row['Leakage (mmol/gDW/h)'] < 0:\n",
    "                met_ids = row['Yeast metabolite'].split(',')\n",
    "                mets = []\n",
    "                leak_rate =  row['Leakage (mmol/gDW/h)'] \n",
    "                for m_id in met_ids:\n",
    "                    mc_id = \"{0}[c]\".format(m_id.strip())\n",
    "                    try:\n",
    "                        m = get_exchange_met(model, mc_id)[0]\n",
    "                    except (KeyError, IndexError) as e:\n",
    "                        mc = model.metabolites.get_by_id(mc_id)\n",
    "                        print(\"Could not find {0}: {1}\".format(mc_id, mc.name))\n",
    "                        continue\n",
    "                    else:\n",
    "                        mets.append(m)\n",
    "                for m in mets:\n",
    "                    r_exs = [r for r in m.reactions if len(r.metabolites)==1]\n",
    "                    if split_reactions:\n",
    "                        r_ex = [r for r in r_exs if 'REV' in r.id][0]\n",
    "                        r_ex.upper_bound = -leak_rate/len(mets)\n",
    "                    else:\n",
    "                        r_ex = r_exs[0]\n",
    "                        r_ex.lower_bound = leak_rate/len(mets)\n",
    "                    # Should check soplutions\n",
    "                    # print(r_ex.id)\n",
    "                    # print(\"Setting uptake rate of {0} to {1} with reaction {2}, {3}\".format(m.name, \n",
    "                                                    # -leak_rate, r_ex, r_ex.id))\n",
    "        solution = model.optimize()\n",
    "        print(solution.objective_value)\n",
    "        pfba_solution = cobra.flux_analysis.pfba(model)\n",
    "        # List already excreted metabolites\n",
    "        exchanged_mets = {}\n",
    "        for r in model.boundary:\n",
    "            flux = solution.fluxes[r.id]\n",
    "            if flux != 0:\n",
    "                exchanged_mets[list(r.metabolites.keys())[0].id[:-2]]=(r.id, flux)\n",
    "        \n",
    "        # print(model.summary())\n",
    "        df['Predicted growth rate'] = solution.objective_value\n",
    "        # Get turnover and shadow prices\n",
    "        turnover = {}\n",
    "        shadow_prices = {}        \n",
    "        for j, row in df.iterrows():\n",
    "            if row['Leakage (mmol/gDW/h)'] > 0:\n",
    "                met_ids = row['Yeast metabolite'].split(',')\n",
    "                sp_list = []\n",
    "                turnover_list = []\n",
    "                for key in met_ids:\n",
    "                    if key.strip() in exchanged_mets.keys():\n",
    "                        if shadow_price_for_leaked_mets:\n",
    "                            # the change should be taken into account the already exchanged flux\n",
    "                            existing_flux = exchanged_mets[key.strip()]\n",
    "                        else:\n",
    "                            continue\n",
    "                    else:\n",
    "                        existing_flux = None\n",
    "                    m_id = \"{0}[c]\".format(key.strip())\n",
    "                    m = model.metabolites.get_by_id(m_id)\n",
    "                    sp_list.append(leakage.estimate_shadow_price_for_met(model, m, solution, delta = 0.01, existing_flux = existing_flux))\n",
    "                    # turnover_list.append(get_turnover_flux(m, pfba_solution))\n",
    "                    turnover_list.append(m.summary(pfba_solution).producing_flux['flux'].sum())\n",
    "                # print(met_ids, sp_list, turnover_list)\n",
    "                # Shadow prices\n",
    "                if len(sp_list):\n",
    "                    shadow_prices[j] = np.nanmean(sp_list)\n",
    "                    turnover[j] = np.mean(turnover_list)\n",
    "                else:\n",
    "                    shadow_prices[j] = np.nan\n",
    "                    turnover[j] = np.nan\n",
    "                # print(met_ids, np.nanmean(sp_list))\n",
    "        df[\"Shadow price\"] = pd.Series(shadow_prices)\n",
    "        df[\"Turnover\"] = pd.Series(turnover)\n",
    "        \n",
    "    if i == 0:\n",
    "        full_df = df\n",
    "    else:\n",
    "        full_df = pd.concat([full_df, df])\n"
   ]
  },
  {
   "cell_type": "code",
   "execution_count": 12,
   "id": "b81c8584-abdf-40f7-ba27-45b0fadeb8ca",
   "metadata": {},
   "outputs": [],
   "source": [
    "# full_leakage['Uptake (mmol/gDW/h)'] = 0\n",
    "new_df = full_df.copy()"
   ]
  },
  {
   "cell_type": "code",
   "execution_count": 13,
   "id": "b0ff59e7-4396-4db6-a4aa-e195c17a968b",
   "metadata": {},
   "outputs": [],
   "source": [
    "new_df['Uptake (mmol/gDW/h)'] = -1*new_df['Leakage (mmol/gDW/h)']"
   ]
  },
  {
   "cell_type": "code",
   "execution_count": 14,
   "id": "16956ed3-5476-4011-a3a0-38a24d647212",
   "metadata": {},
   "outputs": [],
   "source": [
    "new_df.loc[new_df['Leakage (mmol/gDW/h)'] < 0, 'Leakage (mmol/gDW/h)'] = np.nan\n",
    "new_df.loc[new_df['Uptake (mmol/gDW/h)'] < 0, 'Uptake (mmol/gDW/h)'] = 0\n"
   ]
  },
  {
   "cell_type": "code",
   "execution_count": 15,
   "id": "292b65b2-4e21-4a2d-995b-b867f125226b",
   "metadata": {},
   "outputs": [
    {
     "name": "stderr",
     "output_type": "stream",
     "text": [
      "/Users/ssulheim/opt/anaconda3/lib/python3.9/site-packages/pandas/core/arraylike.py:397: RuntimeWarning: divide by zero encountered in log10\n",
      "  result = getattr(ufunc, method)(*inputs, **kwargs)\n",
      "/Users/ssulheim/opt/anaconda3/lib/python3.9/site-packages/pandas/core/arraylike.py:397: RuntimeWarning: invalid value encountered in log10\n",
      "  result = getattr(ufunc, method)(*inputs, **kwargs)\n",
      "/Users/ssulheim/opt/anaconda3/lib/python3.9/site-packages/pandas/core/arraylike.py:397: RuntimeWarning: divide by zero encountered in log10\n",
      "  result = getattr(ufunc, method)(*inputs, **kwargs)\n"
     ]
    }
   ],
   "source": [
    "new_df['log10(Leakage [mmol/gDW/h])'] = np.log10(new_df['Leakage (mmol/gDW/h)'])\n",
    "new_df['log10(-Shadow price [gDW/mmol)'] = np.log10(-new_df['Shadow price'])\n",
    "new_df['log10(Turnover [mmol/gDW/h])'] = np.log10(new_df['Turnover']).replace(-np.inf, np.nan)"
   ]
  },
  {
   "cell_type": "code",
   "execution_count": 16,
   "id": "c1b406bb-e5bc-473c-a7ff-f70efbb9e52a",
   "metadata": {},
   "outputs": [],
   "source": [
    "new_df.drop(columns=['Value', 'Uncertainty', 'Ecoli metabolite'], inplace = True)#'Yeast metabolite',"
   ]
  },
  {
   "cell_type": "code",
   "execution_count": 17,
   "id": "9a015838-f1ba-41a7-b109-0a58bd32061f",
   "metadata": {},
   "outputs": [],
   "source": [
    "timestr = time.strftime(\"%Y%m%d\")\n",
    "\n",
    "if only_significant_changes:\n",
    "    s1 = '_osc'\n",
    "else:\n",
    "    s1 = ''\n",
    "\n",
    "if shadow_price_for_leaked_mets:\n",
    "    s2 = '_SP_for_leaked'\n",
    "else:\n",
    "    s2 = ''\n",
    "\n",
    "if knock_outs:\n",
    "    s3 = '_KO'\n",
    "else:\n",
    "    s3 = ''\n",
    "fn = 'spreadsheet_{0}_leakage_{1}{2}{3}{4}.csv'.format(species, timestr, s1, s2, s3)\n",
    "folder = Path('../../results/{0}/'.format(species))\n",
    "new_df.to_csv(folder / fn)"
   ]
  },
  {
   "cell_type": "code",
   "execution_count": 18,
   "id": "b7bccce9-2cf6-4620-85af-62ed926f5d83",
   "metadata": {},
   "outputs": [],
   "source": [
    "full_leakage = full_df.loc[~full_df['Shadow price'].isna(), :]\n",
    "full_leakage = full_leakage.loc[full_leakage.Turnover <100, :]\n",
    "full_leakage = full_leakage.loc[full_leakage['Leakage (mmol/gDW/h)'] > 0, :]"
   ]
  },
  {
   "cell_type": "code",
   "execution_count": null,
   "id": "fcf41139-8e41-4487-b2f0-89a9659e0043",
   "metadata": {},
   "outputs": [],
   "source": []
  },
  {
   "cell_type": "code",
   "execution_count": 19,
   "id": "45368467-39c7-4004-8591-34134c917707",
   "metadata": {},
   "outputs": [
    {
     "name": "stderr",
     "output_type": "stream",
     "text": [
      "/Users/ssulheim/opt/anaconda3/lib/python3.9/site-packages/pandas/core/arraylike.py:397: RuntimeWarning: invalid value encountered in log10\n",
      "  result = getattr(ufunc, method)(*inputs, **kwargs)\n",
      "/Users/ssulheim/opt/anaconda3/lib/python3.9/site-packages/pandas/core/arraylike.py:397: RuntimeWarning: divide by zero encountered in log10\n",
      "  result = getattr(ufunc, method)(*inputs, **kwargs)\n"
     ]
    }
   ],
   "source": [
    "full_leakage['log10(leakage)'] = np.log10(full_leakage['Leakage (mmol/gDW/h)'])\n",
    "full_leakage['log10(-Shadow price)'] = np.log10(-full_leakage['Shadow price'])\n",
    "full_leakage['log10(Turnover)'] = np.log10(full_leakage['Turnover'])"
   ]
  }
 ],
 "metadata": {
  "kernelspec": {
   "display_name": "Python 3 (ipykernel)",
   "language": "python",
   "name": "python3"
  },
  "language_info": {
   "codemirror_mode": {
    "name": "ipython",
    "version": 3
   },
   "file_extension": ".py",
   "mimetype": "text/x-python",
   "name": "python",
   "nbconvert_exporter": "python",
   "pygments_lexer": "ipython3",
   "version": "3.9.13"
  }
 },
 "nbformat": 4,
 "nbformat_minor": 5
}
