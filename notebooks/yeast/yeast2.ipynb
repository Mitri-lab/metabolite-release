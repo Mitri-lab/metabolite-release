{
 "cells": [
  {
   "cell_type": "code",
   "execution_count": 23,
   "id": "0b9b8e87-323a-4a4d-9185-ec259c765b63",
   "metadata": {
    "tags": []
   },
   "outputs": [],
   "source": [
    "import cobra\n",
    "import numpy as np\n",
    "from matplotlib import pyplot as plt\n",
    "import pandas as pd\n",
    "import sys\n",
    "sys.path.append('../../code/')\n",
    "import leakage\n",
    "from pathlib import Path\n",
    "import matplotlib\n",
    "import seaborn as sns\n",
    "import scipy.stats as st\n",
    "from scipy.stats import mannwhitneyu"
   ]
  },
  {
   "cell_type": "code",
   "execution_count": 24,
   "id": "26c7b9d5-bd92-41c5-ab30-d6bad7352522",
   "metadata": {
    "tags": []
   },
   "outputs": [],
   "source": [
    "def inf_to_100000(model):\n",
    "    for r in model.reactions:\n",
    "        if np.isinf(r.lower_bound):\n",
    "            r.lower_bound = -100000\n",
    "        if np.isinf(r.upper_bound):\n",
    "            r.upper_bound = 100000\n",
    "    return model\n",
    "\n",
    "def print_summary(model, solution):\n",
    "    # Print uptake\n",
    "    for r in model.exchanges:\n",
    "        flux = solution[r.id]\n",
    "        if  flux >1e-3:\n",
    "            print(r.id, r.name,flux, r.bounds)\n",
    "        elif flux < -1e-3:\n",
    "            print(r.id, r.name,flux, r.bounds)\n",
    "    #print(\"## Demands ##\")\n",
    "    #for r in model.demands:\n",
    "    #    print(r.id, solution[r.id])\n",
    "\n",
    "    print(\"Growth: \", solution['r_2111'])\n",
    "    print(\"Prot pool exchange: \", solution['prot_pool_exchange'])"
   ]
  },
  {
   "cell_type": "markdown",
   "id": "e0c04969-8cd7-4e20-a134-8a6c315c9c08",
   "metadata": {},
   "source": [
    "# Load model"
   ]
  },
  {
   "cell_type": "code",
   "execution_count": 25,
   "id": "3f26e6e2-7b60-4340-872a-9e48ff55c391",
   "metadata": {},
   "outputs": [],
   "source": [
    "model = cobra.io.read_sbml_model('../../models/yeast/ecYeastGEM_batch_8_3_4.xml')\n",
    "model.solver = 'gurobi'\n",
    "model = inf_to_100000(model)"
   ]
  },
  {
   "cell_type": "code",
   "execution_count": 26,
   "id": "7454ba4c-cf9a-41ed-80f5-3f1f54297c1b",
   "metadata": {
    "tags": []
   },
   "outputs": [
    {
     "name": "stdout",
     "output_type": "stream",
     "text": [
      "9.968571784677293\n"
     ]
    }
   ],
   "source": [
    "# Data on glucose uptake https://ami-journals.onlinelibrary.wiley.com/doi/10.1111/1751-7915.13995\n",
    "init_glucose_conc = 16 #g/L\n",
    "glucose_mw = 180.156 #g/mol\n",
    "conc_gluc_mM = (init_glucose_conc/glucose_mw)*1e3\n",
    "km_glc = 0.28 #mmol l−1\n",
    "vmax_glc = 10 #mmol gDW−1\n",
    "\n",
    "r_glc = vmax_glc * conc_gluc_mM / (conc_gluc_mM + km_glc)\n",
    "print(r_glc)"
   ]
  },
  {
   "cell_type": "markdown",
   "id": "ee7cefed-8d2b-487d-9a71-589b1ac5a7d8",
   "metadata": {},
   "source": [
    "## Note\n",
    "As also stated in https://ami-journals.onlinelibrary.wiley.com/doi/10.1111/1751-7915.13995 glucose uptake is not constrained by km (i.e. vmax = 10)\n"
   ]
  },
  {
   "cell_type": "code",
   "execution_count": 28,
   "id": "b2dcfab4-0e05-4720-9066-e670a02cd608",
   "metadata": {
    "tags": []
   },
   "outputs": [],
   "source": [
    "model.reactions.get_by_id('r_1714_REV').upper_bound = 10\n"
   ]
  },
  {
   "cell_type": "code",
   "execution_count": 29,
   "id": "3cc4d92d-be3f-4895-b3dc-a9e33f49912c",
   "metadata": {
    "tags": []
   },
   "outputs": [
    {
     "name": "stdout",
     "output_type": "stream",
     "text": [
      "r_1634 acetate exchange 3.1279933187031577 (0.0, 100000)\n",
      "r_1672 carbon dioxide exchange 14.497501304355927 (0.0, 100000)\n",
      "r_1761 ethanol exchange 9.481473517387105 (0.0, 100000)\n",
      "r_1793 formate exchange 0.015479223367907058 (0.0, 100000)\n",
      "r_2033 pyruvate exchange 1.8210776215830649 (0.0, 100000)\n",
      "r_2100 water exchange 13.349287065068731 (0.0, 100000)\n",
      "r_1654_REV ammonium exchange (reversible) 2.4743569591727215 (0.0, 100000)\n",
      "r_1714_REV D-glucose exchange (reversible) 10.0 (0.0, 10)\n",
      "r_1832_REV H+ exchange (reversible) 4.105673859636615 (0.0, 100000)\n",
      "r_1992_REV oxygen exchange (reversible) 5.234950808334606 (0.0, 100000)\n",
      "r_2005_REV phosphate exchange (reversible) 0.09876510324015143 (0.0, 100000)\n",
      "r_2020_REV potassium exchange (reversible) 0.0013110424633373764 (0.0, 100000)\n",
      "r_2049_REV sodium exchange (reversible) 0.0014338398290494171 (0.0, 100000)\n",
      "r_2060_REV sulphate exchange (reversible) 0.03306272119862749 (0.0, 100000)\n",
      "Growth:  0.36116872268247285\n",
      "Prot pool exchange:  0.103720024310123\n"
     ]
    }
   ],
   "source": [
    "solution = model.optimize()\n",
    "print_summary(model, solution)"
   ]
  },
  {
   "cell_type": "markdown",
   "id": "c8b62e0d-9393-491f-894f-445e00f87bbb",
   "metadata": {},
   "source": [
    "# Get leakage\n"
   ]
  },
  {
   "cell_type": "code",
   "execution_count": 30,
   "id": "147b6db6-8a47-4167-b57c-8bf457227cc9",
   "metadata": {},
   "outputs": [],
   "source": [
    "exometabolites_folder = Path(\"../../data/yeast/\")\n",
    "leakage_df = leakage.get_leakage(exometabolites_folder, \"yeast\", time = 4)\n",
    "leakage_df.set_index(\"Metabolite\", inplace=True)\n",
    "leakage_df.drop_duplicates(inplace=True)"
   ]
  },
  {
   "cell_type": "code",
   "execution_count": 35,
   "id": "597b8c9e-ebcb-4bd3-ae6e-2b56e5c5cdc7",
   "metadata": {},
   "outputs": [
    {
     "data": {
      "text/html": [
       "<div>\n",
       "<style scoped>\n",
       "    .dataframe tbody tr th:only-of-type {\n",
       "        vertical-align: middle;\n",
       "    }\n",
       "\n",
       "    .dataframe tbody tr th {\n",
       "        vertical-align: top;\n",
       "    }\n",
       "\n",
       "    .dataframe thead th {\n",
       "        text-align: right;\n",
       "    }\n",
       "</style>\n",
       "<table border=\"1\" class=\"dataframe\">\n",
       "  <thead>\n",
       "    <tr style=\"text-align: right;\">\n",
       "      <th></th>\n",
       "      <th>Leakage (mM/gDW/h)</th>\n",
       "    </tr>\n",
       "    <tr>\n",
       "      <th>Metabolite</th>\n",
       "      <th></th>\n",
       "    </tr>\n",
       "  </thead>\n",
       "  <tbody>\n",
       "    <tr>\n",
       "      <th>G6P</th>\n",
       "      <td>0.007276</td>\n",
       "    </tr>\n",
       "    <tr>\n",
       "      <th>F6P</th>\n",
       "      <td>0.012385</td>\n",
       "    </tr>\n",
       "    <tr>\n",
       "      <th>FBP</th>\n",
       "      <td>0.617192</td>\n",
       "    </tr>\n",
       "    <tr>\n",
       "      <th>DHAP</th>\n",
       "      <td>0.036482</td>\n",
       "    </tr>\n",
       "    <tr>\n",
       "      <th>23PG</th>\n",
       "      <td>0.002733</td>\n",
       "    </tr>\n",
       "    <tr>\n",
       "      <th>PEP</th>\n",
       "      <td>0.000261</td>\n",
       "    </tr>\n",
       "    <tr>\n",
       "      <th>PYR</th>\n",
       "      <td>-4.136282</td>\n",
       "    </tr>\n",
       "    <tr>\n",
       "      <th>RU5P+X5P</th>\n",
       "      <td>0.000429</td>\n",
       "    </tr>\n",
       "    <tr>\n",
       "      <th>CIT</th>\n",
       "      <td>1.070670</td>\n",
       "    </tr>\n",
       "    <tr>\n",
       "      <th>ACN</th>\n",
       "      <td>0.007047</td>\n",
       "    </tr>\n",
       "    <tr>\n",
       "      <th>ICIT</th>\n",
       "      <td>0.008177</td>\n",
       "    </tr>\n",
       "    <tr>\n",
       "      <th>AKG</th>\n",
       "      <td>-2.787879</td>\n",
       "    </tr>\n",
       "    <tr>\n",
       "      <th>SUC</th>\n",
       "      <td>1.869972</td>\n",
       "    </tr>\n",
       "    <tr>\n",
       "      <th>FUM</th>\n",
       "      <td>0.089771</td>\n",
       "    </tr>\n",
       "    <tr>\n",
       "      <th>ASN</th>\n",
       "      <td>0.078179</td>\n",
       "    </tr>\n",
       "    <tr>\n",
       "      <th>GLU</th>\n",
       "      <td>-0.480734</td>\n",
       "    </tr>\n",
       "    <tr>\n",
       "      <th>SER</th>\n",
       "      <td>0.036486</td>\n",
       "    </tr>\n",
       "    <tr>\n",
       "      <th>ASP</th>\n",
       "      <td>0.018683</td>\n",
       "    </tr>\n",
       "    <tr>\n",
       "      <th>GLN</th>\n",
       "      <td>-0.016392</td>\n",
       "    </tr>\n",
       "    <tr>\n",
       "      <th>TYR</th>\n",
       "      <td>0.008940</td>\n",
       "    </tr>\n",
       "    <tr>\n",
       "      <th>PRO</th>\n",
       "      <td>0.757903</td>\n",
       "    </tr>\n",
       "    <tr>\n",
       "      <th>ALA</th>\n",
       "      <td>0.015962</td>\n",
       "    </tr>\n",
       "    <tr>\n",
       "      <th>MET</th>\n",
       "      <td>0.005360</td>\n",
       "    </tr>\n",
       "    <tr>\n",
       "      <th>VAL</th>\n",
       "      <td>-0.006943</td>\n",
       "    </tr>\n",
       "    <tr>\n",
       "      <th>PHE</th>\n",
       "      <td>-0.016823</td>\n",
       "    </tr>\n",
       "    <tr>\n",
       "      <th>LEU+ILEU</th>\n",
       "      <td>-0.014472</td>\n",
       "    </tr>\n",
       "    <tr>\n",
       "      <th>HIS</th>\n",
       "      <td>-0.004850</td>\n",
       "    </tr>\n",
       "    <tr>\n",
       "      <th>LYS</th>\n",
       "      <td>-0.062244</td>\n",
       "    </tr>\n",
       "    <tr>\n",
       "      <th>ARG</th>\n",
       "      <td>2.801392</td>\n",
       "    </tr>\n",
       "    <tr>\n",
       "      <th>ORO</th>\n",
       "      <td>-0.510479</td>\n",
       "    </tr>\n",
       "    <tr>\n",
       "      <th>URA</th>\n",
       "      <td>7.632129</td>\n",
       "    </tr>\n",
       "    <tr>\n",
       "      <th>SHI</th>\n",
       "      <td>0.000136</td>\n",
       "    </tr>\n",
       "    <tr>\n",
       "      <th>ACT</th>\n",
       "      <td>55.937933</td>\n",
       "    </tr>\n",
       "    <tr>\n",
       "      <th>ETH</th>\n",
       "      <td>11865.519029</td>\n",
       "    </tr>\n",
       "  </tbody>\n",
       "</table>\n",
       "</div>"
      ],
      "text/plain": [
       "            Leakage (mM/gDW/h)\n",
       "Metabolite                    \n",
       "G6P                   0.007276\n",
       "F6P                   0.012385\n",
       "FBP                   0.617192\n",
       "DHAP                  0.036482\n",
       "23PG                  0.002733\n",
       "PEP                   0.000261\n",
       "PYR                  -4.136282\n",
       "RU5P+X5P              0.000429\n",
       "CIT                   1.070670\n",
       "ACN                   0.007047\n",
       "ICIT                  0.008177\n",
       "AKG                  -2.787879\n",
       "SUC                   1.869972\n",
       "FUM                   0.089771\n",
       "ASN                   0.078179\n",
       "GLU                  -0.480734\n",
       "SER                   0.036486\n",
       "ASP                   0.018683\n",
       "GLN                  -0.016392\n",
       "TYR                   0.008940\n",
       "PRO                   0.757903\n",
       "ALA                   0.015962\n",
       "MET                   0.005360\n",
       "VAL                  -0.006943\n",
       "PHE                  -0.016823\n",
       "LEU+ILEU             -0.014472\n",
       "HIS                  -0.004850\n",
       "LYS                  -0.062244\n",
       "ARG                   2.801392\n",
       "ORO                  -0.510479\n",
       "URA                   7.632129\n",
       "SHI                   0.000136\n",
       "ACT                  55.937933\n",
       "ETH               11865.519029"
      ]
     },
     "execution_count": 35,
     "metadata": {},
     "output_type": "execute_result"
    }
   ],
   "source": [
    "leakage_df"
   ]
  },
  {
   "cell_type": "code",
   "execution_count": 32,
   "id": "fb64a9a8-5ef0-40b2-bc6e-fb1e26c5cd82",
   "metadata": {},
   "outputs": [],
   "source": [
    "# Read metabolite mapping\n",
    "mapping_df = pd.read_csv('../../data/id_mapping.csv', index_col=0)\n",
    "df = pd.merge(leakage_df, mapping_df, left_index=True, right_index=True)\n",
    "# df.set_index('met id', inplace = True)"
   ]
  },
  {
   "cell_type": "code",
   "execution_count": 34,
   "id": "923c5c57-b8f0-4cb9-8293-7e39827e46a9",
   "metadata": {
    "tags": []
   },
   "outputs": [
    {
     "data": {
      "text/html": [
       "<div>\n",
       "<style scoped>\n",
       "    .dataframe tbody tr th:only-of-type {\n",
       "        vertical-align: middle;\n",
       "    }\n",
       "\n",
       "    .dataframe tbody tr th {\n",
       "        vertical-align: top;\n",
       "    }\n",
       "\n",
       "    .dataframe thead th {\n",
       "        text-align: right;\n",
       "    }\n",
       "</style>\n",
       "<table border=\"1\" class=\"dataframe\">\n",
       "  <thead>\n",
       "    <tr style=\"text-align: right;\">\n",
       "      <th></th>\n",
       "      <th>Metabolite name</th>\n",
       "      <th>Ecoli metabolite</th>\n",
       "      <th>Yeast metabolite</th>\n",
       "    </tr>\n",
       "    <tr>\n",
       "      <th>Abbreviation</th>\n",
       "      <th></th>\n",
       "      <th></th>\n",
       "      <th></th>\n",
       "    </tr>\n",
       "  </thead>\n",
       "  <tbody>\n",
       "    <tr>\n",
       "      <th>G6P</th>\n",
       "      <td>Glucose-6-phosphate</td>\n",
       "      <td>g6p</td>\n",
       "      <td>s_0568</td>\n",
       "    </tr>\n",
       "    <tr>\n",
       "      <th>F6P</th>\n",
       "      <td>Fructose-6-phosphate</td>\n",
       "      <td>f6p</td>\n",
       "      <td>s_0557</td>\n",
       "    </tr>\n",
       "    <tr>\n",
       "      <th>FBP</th>\n",
       "      <td>Fructose-1,6-bisphosphate</td>\n",
       "      <td>fdp</td>\n",
       "      <td>s_0555</td>\n",
       "    </tr>\n",
       "    <tr>\n",
       "      <th>DHAP</th>\n",
       "      <td>Dihydroxyacetonephosphate</td>\n",
       "      <td>dhap</td>\n",
       "      <td>s_0629</td>\n",
       "    </tr>\n",
       "    <tr>\n",
       "      <th>GA3P</th>\n",
       "      <td>Glyceraldehyde-3-phosphate</td>\n",
       "      <td>g3p</td>\n",
       "      <td>s_0764</td>\n",
       "    </tr>\n",
       "    <tr>\n",
       "      <th>...</th>\n",
       "      <td>...</td>\n",
       "      <td>...</td>\n",
       "      <td>...</td>\n",
       "    </tr>\n",
       "    <tr>\n",
       "      <th>NaN</th>\n",
       "      <td>Methionine</td>\n",
       "      <td>NaN</td>\n",
       "      <td>NaN</td>\n",
       "    </tr>\n",
       "    <tr>\n",
       "      <th>NaN</th>\n",
       "      <td>Lysine</td>\n",
       "      <td>NaN</td>\n",
       "      <td>NaN</td>\n",
       "    </tr>\n",
       "    <tr>\n",
       "      <th>NaN</th>\n",
       "      <td>Tryptophane</td>\n",
       "      <td>NaN</td>\n",
       "      <td>NaN</td>\n",
       "    </tr>\n",
       "    <tr>\n",
       "      <th>NaN</th>\n",
       "      <td>Tyrosine</td>\n",
       "      <td>NaN</td>\n",
       "      <td>NaN</td>\n",
       "    </tr>\n",
       "    <tr>\n",
       "      <th>NaN</th>\n",
       "      <td>Phenylalanine</td>\n",
       "      <td>NaN</td>\n",
       "      <td>NaN</td>\n",
       "    </tr>\n",
       "  </tbody>\n",
       "</table>\n",
       "<p>85 rows × 3 columns</p>\n",
       "</div>"
      ],
      "text/plain": [
       "                         Metabolite name Ecoli metabolite Yeast metabolite\n",
       "Abbreviation                                                              \n",
       "G6P                  Glucose-6-phosphate              g6p           s_0568\n",
       "F6P                 Fructose-6-phosphate              f6p           s_0557\n",
       "FBP            Fructose-1,6-bisphosphate              fdp           s_0555\n",
       "DHAP           Dihydroxyacetonephosphate             dhap           s_0629\n",
       "GA3P          Glyceraldehyde-3-phosphate              g3p           s_0764\n",
       "...                                  ...              ...              ...\n",
       "NaN                           Methionine              NaN              NaN\n",
       "NaN                               Lysine              NaN              NaN\n",
       "NaN                          Tryptophane              NaN              NaN\n",
       "NaN                             Tyrosine              NaN              NaN\n",
       "NaN                        Phenylalanine              NaN              NaN\n",
       "\n",
       "[85 rows x 3 columns]"
      ]
     },
     "execution_count": 34,
     "metadata": {},
     "output_type": "execute_result"
    }
   ],
   "source": [
    "mapping_df"
   ]
  },
  {
   "cell_type": "markdown",
   "id": "608d634e-c84c-467c-9d89-73f0b3911905",
   "metadata": {},
   "source": [
    "# Plot correlation"
   ]
  },
  {
   "cell_type": "code",
   "execution_count": 11,
   "id": "b6ef5a69-273c-4d16-b109-04c7b035d96b",
   "metadata": {
    "tags": []
   },
   "outputs": [],
   "source": [
    "solution = model.optimize()"
   ]
  },
  {
   "cell_type": "code",
   "execution_count": null,
   "id": "783d6d75-33bf-4c5c-bd5a-d59bb5b0b306",
   "metadata": {
    "tags": []
   },
   "outputs": [],
   "source": [
    "shadow_prices = []\n",
    "log_leakage = []\n",
    "labels = []\n",
    "for met_id, row in leakage_df.iterrows():\n",
    "    # Hack for ru5p__D\n",
    "    met_id = met_id.split(',')[0]\n",
    "    if row['Leakage (uM/h/OD)'] > 0:\n",
    "        shadow_prices.append(-1*solution.shadow_prices['{0}_c'.format(met_id)])\n",
    "        log_leakage.append(np.log(row['Leakage (uM/h/OD)']))\n",
    "        labels.append(met_id)\n",
    "\n"
   ]
  },
  {
   "cell_type": "code",
   "execution_count": null,
   "id": "9688d5f3-7d45-43d2-bbf8-f437b093da42",
   "metadata": {},
   "outputs": [],
   "source": []
  },
  {
   "cell_type": "code",
   "execution_count": null,
   "id": "7f558603-fede-45ae-85d9-63ab64d30077",
   "metadata": {},
   "outputs": [],
   "source": []
  }
 ],
 "metadata": {
  "kernelspec": {
   "display_name": "Python 3 (ipykernel)",
   "language": "python",
   "name": "python3"
  },
  "language_info": {
   "codemirror_mode": {
    "name": "ipython",
    "version": 3
   },
   "file_extension": ".py",
   "mimetype": "text/x-python",
   "name": "python",
   "nbconvert_exporter": "python",
   "pygments_lexer": "ipython3",
   "version": "3.9.13"
  }
 },
 "nbformat": 4,
 "nbformat_minor": 5
}
