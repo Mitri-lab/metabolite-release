{
 "cells": [
  {
   "cell_type": "code",
   "execution_count": 3,
   "id": "0a036844-9fbd-44d4-bf56-5c29b42ee4ca",
   "metadata": {},
   "outputs": [],
   "source": [
    "import cobra\n",
    "import numpy as np\n",
    "from matplotlib import pyplot as plt\n",
    "import pandas as pd\n",
    "import sys\n",
    "sys.path.append('../../../code/')\n",
    "import leakage\n",
    "import utils\n",
    "import FBA_leak\n",
    "from pathlib import Path"
   ]
  },
  {
   "cell_type": "code",
   "execution_count": 2,
   "id": "812eb231-5914-41b0-9a69-74120ade0b1d",
   "metadata": {},
   "outputs": [],
   "source": [
    "from dotenv import find_dotenv"
   ]
  },
  {
   "cell_type": "code",
   "execution_count": 4,
   "id": "cd0442dc-4a1e-4439-9438-26d4c272e798",
   "metadata": {},
   "outputs": [
    {
     "name": "stdout",
     "output_type": "stream",
     "text": [
      "Set parameter Username\n",
      "Academic license - for non-commercial use only - expires 2024-02-26\n"
     ]
    }
   ],
   "source": [
    "model = cobra.io.read_sbml_model('../../../models/e_coli/momentiJO1366.xml')\n",
    "# model = cobra.io.read_sbml_model('../../models/e_coli/iJO1366.xml')\n",
    "\n",
    "# model = cobra.io.read_sbml_model('../../models/e_coli/iJR904.xml')\n",
    "# model = cobra.io.read_sbml_model('../../models/e_coli/e_coli_core.xml')\n",
    "\n",
    "model.solver = 'gurobi'"
   ]
  },
  {
   "cell_type": "code",
   "execution_count": 9,
   "id": "06716a0e-e6b6-4f8e-9b37-fc830473cdd2",
   "metadata": {},
   "outputs": [
    {
     "name": "stdout",
     "output_type": "stream",
     "text": [
      "<Solution 0.743 at 0x7fa9082db8e0>\n"
     ]
    }
   ],
   "source": [
    "model = cobra.io.read_sbml_model('../../../models/e_coli/momentiJO1366.xml')\n",
    "\n"
   ]
  },
  {
   "cell_type": "code",
   "execution_count": 15,
   "id": "fbef2b80-fa29-4cc9-84d6-dd7cf826d847",
   "metadata": {},
   "outputs": [
    {
     "name": "stdout",
     "output_type": "stream",
     "text": [
      "<Solution 0.704 at 0x7fa9289f7eb0>\n",
      "Objective\n",
      "=========\n",
      "1.0 BIOMASS_Ec_iJO1366_core_53p95M = 0.704473431869784\n",
      "\n",
      "Uptake\n",
      "------\n",
      "Metabolite     Reaction      Flux  C-Number  C-Flux\n",
      " prot_pool  ER_pool_TG_     0.095         0   0.00%\n",
      "     ca2_e     EX_ca2_e  0.003667         0   0.00%\n",
      "      cl_e      EX_cl_e  0.003667         0   0.00%\n",
      " cobalt2_e EX_cobalt2_e 1.761E-05         0   0.00%\n",
      "     cu2_e     EX_cu2_e 0.0004995         0   0.00%\n",
      "     fe2_e     EX_fe2_e   0.01131         0   0.00%\n",
      "  glc__D_e  EX_glc__D_e        10         6 100.00%\n",
      "       k_e       EX_k_e    0.1375         0   0.00%\n",
      "     mg2_e     EX_mg2_e  0.006111         0   0.00%\n",
      "     mn2_e     EX_mn2_e 0.0004868         0   0.00%\n",
      "    mobd_e    EX_mobd_e 9.088E-05         0   0.00%\n",
      "     nh4_e     EX_nh4_e     7.609         0   0.00%\n",
      "     ni2_e     EX_ni2_e 0.0002275         0   0.00%\n",
      "      o2_e      EX_o2_e     19.86         0   0.00%\n",
      "      pi_e      EX_pi_e    0.6796         0   0.00%\n",
      "     so4_e     EX_so4_e    0.1777         0   0.00%\n",
      "     zn2_e     EX_zn2_e 0.0002402         0   0.00%\n",
      "\n",
      "Secretion\n",
      "---------\n",
      "Metabolite    Reaction       Flux  C-Number C-Flux\n",
      "  4crsol_c DM_4crsol_c -0.0001571         7  0.00%\n",
      "   5drib_c  DM_5drib_c -0.0001585         5  0.00%\n",
      "    amob_c   DM_amob_c -1.409E-06        15  0.00%\n",
      "  mththf_c DM_mththf_c -0.0003156         5  0.01%\n",
      "      ac_e     EX_ac_e     -4.859         2 31.26%\n",
      "     co2_e    EX_co2_e     -21.36         1 68.73%\n",
      "     h2o_e    EX_h2o_e     -39.97         0  0.00%\n",
      "       h_e      EX_h_e     -11.33         0  0.00%\n",
      "    meoh_e   EX_meoh_e -1.409E-06         1  0.00%\n",
      "\n"
     ]
    }
   ],
   "source": [
    "model.reactions.EX_glc__D_e.lower_bound = -10\n",
    "print(model.optimize())\n",
    "model.reactions.EX_ac_e.lower_bound = 0\n",
    "print(model.summary())"
   ]
  },
  {
   "cell_type": "code",
   "execution_count": 20,
   "id": "a5ea4c61-a426-4c2a-bc60-77bbb10cb987",
   "metadata": {},
   "outputs": [
    {
     "data": {
      "text/plain": [
       "<optlang.gurobi_interface.Objective at 0x7fa908302df0>"
      ]
     },
     "execution_count": 20,
     "metadata": {},
     "output_type": "execute_result"
    }
   ],
   "source": [
    "model.problem.Objective((model.reactions.ABTA.forward_variable- 3)**2+(model.reactions.APCS.forward_variable- 3)**2)"
   ]
  },
  {
   "cell_type": "code",
   "execution_count": 21,
   "id": "4d4731b2-702c-467d-8d0a-60b2bdfff163",
   "metadata": {},
   "outputs": [],
   "source": [
    "exp = (model.reactions.ABTA.forward_variable- 3)**2"
   ]
  },
  {
   "cell_type": "code",
   "execution_count": 8,
   "id": "6f1171c5-d27d-4f2c-8aac-2adface121b8",
   "metadata": {},
   "outputs": [
    {
     "name": "stdout",
     "output_type": "stream",
     "text": [
      "<Solution 0.743 at 0x7fa94ae480d0>\n"
     ]
    },
    {
     "data": {
      "text/html": [
       "<h3>Objective</h3><p>1.0 BIOMASS_Ec_iJO1366_core_53p95M = 0.7429753865197879</p><h4>Uptake</h4><table border=\"1\" class=\"dataframe\">\n",
       "  <thead>\n",
       "    <tr style=\"text-align: right;\">\n",
       "      <th>Metabolite</th>\n",
       "      <th>Reaction</th>\n",
       "      <th>Flux</th>\n",
       "      <th>C-Number</th>\n",
       "      <th>C-Flux</th>\n",
       "    </tr>\n",
       "  </thead>\n",
       "  <tbody>\n",
       "    <tr>\n",
       "      <td>prot_pool</td>\n",
       "      <td>ER_pool_TG_</td>\n",
       "      <td>0.095</td>\n",
       "      <td>0</td>\n",
       "      <td>0.00%</td>\n",
       "    </tr>\n",
       "    <tr>\n",
       "      <td>ca2_e</td>\n",
       "      <td>EX_ca2_e</td>\n",
       "      <td>0.003867</td>\n",
       "      <td>0</td>\n",
       "      <td>0.00%</td>\n",
       "    </tr>\n",
       "    <tr>\n",
       "      <td>cl_e</td>\n",
       "      <td>EX_cl_e</td>\n",
       "      <td>0.003867</td>\n",
       "      <td>0</td>\n",
       "      <td>0.00%</td>\n",
       "    </tr>\n",
       "    <tr>\n",
       "      <td>cobalt2_e</td>\n",
       "      <td>EX_cobalt2_e</td>\n",
       "      <td>1.857E-05</td>\n",
       "      <td>0</td>\n",
       "      <td>0.00%</td>\n",
       "    </tr>\n",
       "    <tr>\n",
       "      <td>cu2_e</td>\n",
       "      <td>EX_cu2_e</td>\n",
       "      <td>0.0005268</td>\n",
       "      <td>0</td>\n",
       "      <td>0.00%</td>\n",
       "    </tr>\n",
       "    <tr>\n",
       "      <td>fe2_e</td>\n",
       "      <td>EX_fe2_e</td>\n",
       "      <td>0.01193</td>\n",
       "      <td>0</td>\n",
       "      <td>0.00%</td>\n",
       "    </tr>\n",
       "    <tr>\n",
       "      <td>glc__D_e</td>\n",
       "      <td>EX_glc__D_e</td>\n",
       "      <td>13.83</td>\n",
       "      <td>6</td>\n",
       "      <td>100.00%</td>\n",
       "    </tr>\n",
       "    <tr>\n",
       "      <td>k_e</td>\n",
       "      <td>EX_k_e</td>\n",
       "      <td>0.145</td>\n",
       "      <td>0</td>\n",
       "      <td>0.00%</td>\n",
       "    </tr>\n",
       "    <tr>\n",
       "      <td>mg2_e</td>\n",
       "      <td>EX_mg2_e</td>\n",
       "      <td>0.006445</td>\n",
       "      <td>0</td>\n",
       "      <td>0.00%</td>\n",
       "    </tr>\n",
       "    <tr>\n",
       "      <td>mn2_e</td>\n",
       "      <td>EX_mn2_e</td>\n",
       "      <td>0.0005134</td>\n",
       "      <td>0</td>\n",
       "      <td>0.00%</td>\n",
       "    </tr>\n",
       "    <tr>\n",
       "      <td>mobd_e</td>\n",
       "      <td>EX_mobd_e</td>\n",
       "      <td>9.584E-05</td>\n",
       "      <td>0</td>\n",
       "      <td>0.00%</td>\n",
       "    </tr>\n",
       "    <tr>\n",
       "      <td>nh4_e</td>\n",
       "      <td>EX_nh4_e</td>\n",
       "      <td>8.025</td>\n",
       "      <td>0</td>\n",
       "      <td>0.00%</td>\n",
       "    </tr>\n",
       "    <tr>\n",
       "      <td>ni2_e</td>\n",
       "      <td>EX_ni2_e</td>\n",
       "      <td>0.00024</td>\n",
       "      <td>0</td>\n",
       "      <td>0.00%</td>\n",
       "    </tr>\n",
       "    <tr>\n",
       "      <td>o2_e</td>\n",
       "      <td>EX_o2_e</td>\n",
       "      <td>16.25</td>\n",
       "      <td>0</td>\n",
       "      <td>0.00%</td>\n",
       "    </tr>\n",
       "    <tr>\n",
       "      <td>pi_e</td>\n",
       "      <td>EX_pi_e</td>\n",
       "      <td>0.7167</td>\n",
       "      <td>0</td>\n",
       "      <td>0.00%</td>\n",
       "    </tr>\n",
       "    <tr>\n",
       "      <td>so4_e</td>\n",
       "      <td>EX_so4_e</td>\n",
       "      <td>0.1874</td>\n",
       "      <td>0</td>\n",
       "      <td>0.00%</td>\n",
       "    </tr>\n",
       "    <tr>\n",
       "      <td>zn2_e</td>\n",
       "      <td>EX_zn2_e</td>\n",
       "      <td>0.0002534</td>\n",
       "      <td>0</td>\n",
       "      <td>0.00%</td>\n",
       "    </tr>\n",
       "  </tbody>\n",
       "</table><h4>Secretion</h4><table border=\"1\" class=\"dataframe\">\n",
       "  <thead>\n",
       "    <tr style=\"text-align: right;\">\n",
       "      <th>Metabolite</th>\n",
       "      <th>Reaction</th>\n",
       "      <th>Flux</th>\n",
       "      <th>C-Number</th>\n",
       "      <th>C-Flux</th>\n",
       "    </tr>\n",
       "  </thead>\n",
       "  <tbody>\n",
       "    <tr>\n",
       "      <td>4crsol_c</td>\n",
       "      <td>DM_4crsol_c</td>\n",
       "      <td>-0.0001657</td>\n",
       "      <td>7</td>\n",
       "      <td>0.00%</td>\n",
       "    </tr>\n",
       "    <tr>\n",
       "      <td>5drib_c</td>\n",
       "      <td>DM_5drib_c</td>\n",
       "      <td>-0.0001672</td>\n",
       "      <td>5</td>\n",
       "      <td>0.00%</td>\n",
       "    </tr>\n",
       "    <tr>\n",
       "      <td>amob_c</td>\n",
       "      <td>DM_amob_c</td>\n",
       "      <td>-1.486E-06</td>\n",
       "      <td>15</td>\n",
       "      <td>0.00%</td>\n",
       "    </tr>\n",
       "    <tr>\n",
       "      <td>mththf_c</td>\n",
       "      <td>DM_mththf_c</td>\n",
       "      <td>-0.0003329</td>\n",
       "      <td>5</td>\n",
       "      <td>0.00%</td>\n",
       "    </tr>\n",
       "    <tr>\n",
       "      <td>ac_e</td>\n",
       "      <td>EX_ac_e</td>\n",
       "      <td>-17.32</td>\n",
       "      <td>2</td>\n",
       "      <td>66.02%</td>\n",
       "    </tr>\n",
       "    <tr>\n",
       "      <td>co2_e</td>\n",
       "      <td>EX_co2_e</td>\n",
       "      <td>-17.83</td>\n",
       "      <td>1</td>\n",
       "      <td>33.98%</td>\n",
       "    </tr>\n",
       "    <tr>\n",
       "      <td>h2o_e</td>\n",
       "      <td>EX_h2o_e</td>\n",
       "      <td>-37.45</td>\n",
       "      <td>0</td>\n",
       "      <td>0.00%</td>\n",
       "    </tr>\n",
       "    <tr>\n",
       "      <td>h_e</td>\n",
       "      <td>EX_h_e</td>\n",
       "      <td>-24.15</td>\n",
       "      <td>0</td>\n",
       "      <td>0.00%</td>\n",
       "    </tr>\n",
       "    <tr>\n",
       "      <td>meoh_e</td>\n",
       "      <td>EX_meoh_e</td>\n",
       "      <td>-1.486E-06</td>\n",
       "      <td>1</td>\n",
       "      <td>0.00%</td>\n",
       "    </tr>\n",
       "  </tbody>\n",
       "</table>"
      ],
      "text/plain": [
       "<cobra.summary.model_summary.ModelSummary at 0x7fa94ae44100>"
      ]
     },
     "execution_count": 8,
     "metadata": {},
     "output_type": "execute_result"
    }
   ],
   "source": [
    "print(model.optimize())\n",
    "model.summary()"
   ]
  },
  {
   "cell_type": "code",
   "execution_count": 7,
   "id": "4e629f11-f74e-4277-ae80-df94f77bf2dc",
   "metadata": {},
   "outputs": [
    {
     "name": "stdout",
     "output_type": "stream",
     "text": [
      "['EX_h2o_e', 'EX_12ppd__S_e', 'EX_15dap_e', 'EX_26dap__M_e', 'EX_2ddglcn_e', 'EX_3hcinnm_e', 'EX_3hpppn_e', 'EX_4abut_e', 'EX_ac_e', 'EX_acac_e', 'EX_h_e', 'EX_acald_e', 'EX_acgam_e', 'EX_acmana_e', 'EX_hdca_e', 'EX_acnam_e', 'EX_ade_e', 'EX_his__L_e', 'EX_adn_e', 'EX_akg_e', 'EX_hxan_e', 'EX_ala__D_e', 'EX_idon__L_e', 'EX_ala__L_e', 'EX_alltn_e', 'EX_amp_e', 'EX_arab__L_e', 'EX_arg__L_e', 'EX_asn__L_e', 'EX_asp__L_e', 'EX_ile__L_e', 'EX_but_e', 'EX_cbl1_e', 'EX_chol_e', 'EX_indole_e', 'EX_cit_e', 'EX_co2_e', 'EX_crn_e', 'EX_csn_e', 'EX_ins_e', 'EX_cynt_e', 'EX_k_e', 'EX_cys__L_e', 'EX_cytd_e', 'EX_lac__D_e', 'EX_dad_2_e', 'EX_dcyt_e', 'EX_dgsn_e', 'EX_dha_e', 'EX_din_e', 'EX_dms_e', 'EX_lac__L_e', 'EX_dmso_e', 'EX_duri_e', 'EX_etoh_e', 'EX_lcts_e', 'EX_fe2_e', 'EX_for_e', 'EX_leu__L_e', 'EX_fru_e', 'EX_lys__L_e', 'EX_fuc1p__L_e', 'EX_fuc__L_e', 'EX_fum_e', 'EX_mal__L_e', 'EX_g6p_e', 'EX_gal_e', 'EX_galct__D_e', 'EX_galctn__D_e', 'EX_galt_e', 'EX_malt_e', 'EX_galur_e', 'EX_gam_e', 'EX_gbbtn_e', 'EX_glc__D_e', 'EX_glcn_e', 'EX_malthx_e', 'EX_glcr_e', 'EX_glcur_e', 'EX_maltpt_e', 'EX_gln__L_e', 'EX_glu__L_e', 'EX_gly_e', 'EX_glyald_e', 'EX_glyb_e', 'EX_malttr_e', 'EX_glyc3p_e', 'EX_glyc_e', 'EX_glyclt_e', 'EX_gsn_e', 'EX_gua_e', 'EX_maltttr_e', 'EX_man6p_e', 'EX_man_e', 'EX_melib_e', 'EX_met__D_e', 'EX_met__L_e', 'EX_mnl_e', 'EX_na1_e', 'EX_nac_e', 'EX_nad_e', 'EX_nh4_e', 'EX_nmn_e', 'EX_no2_e', 'EX_no3_e', 'EX_o2_e', 'EX_ocdca_e', 'EX_orn_e', 'EX_phe__L_e', 'EX_pi_e', 'EX_pnto__R_e', 'EX_pppn_e', 'EX_pro__L_e', 'EX_ptrc_e', 'EX_pyr_e', 'EX_rib__D_e', 'EX_rmn_e', 'EX_sbt__D_e', 'EX_ser__D_e', 'EX_ser__L_e', 'EX_so4_e', 'EX_spmd_e', 'EX_succ_e', 'EX_sucr_e', 'EX_tartr__L_e', 'EX_taur_e', 'EX_thm_e', 'EX_thr__L_e', 'EX_thymd_e', 'EX_tma_e', 'EX_tmao_e', 'EX_tre_e', 'EX_trp__L_e', 'EX_tsul_e', 'EX_ttdca_e', 'EX_tyr__L_e', 'EX_ura_e', 'EX_urea_e', 'EX_uri_e', 'EX_val__L_e', 'EX_xan_e', 'EX_xtsn_e', 'EX_xyl__D_e', 'EX_icit_e']\n"
     ]
    }
   ],
   "source": [
    "with model as M:\n",
    "    m = M.metabolites.icit_c\n",
    "    m_e = m.copy()\n",
    "    m_e.id = m.id.replace('_c','_e')\n",
    "    m_e.compartment = 'e'\n",
    "    M.add_boundary(m_e, type='exchange')\n",
    "    print([r.id for r in M.exchanges])"
   ]
  },
  {
   "cell_type": "code",
   "execution_count": 8,
   "id": "07a524ab-35ed-4ffa-bcb9-e4f28c2791af",
   "metadata": {
    "tags": []
   },
   "outputs": [],
   "source": [
    "# model.reactions.DHAPT.knock_out()\n",
    "# model.reactions.THRA.knock_out()\n",
    "# model.reactions.THRA2.knock_out()\n",
    "# model.reactions.F6PA_TG_forward.knock_out()"
   ]
  },
  {
   "cell_type": "code",
   "execution_count": 4,
   "id": "43cadf69-9659-4e34-976e-e4227e379450",
   "metadata": {},
   "outputs": [
    {
     "name": "stdout",
     "output_type": "stream",
     "text": [
      "##### Lekage\n",
      "Read LP format model from file /var/folders/h6/4b_zz_cd5d92w2ycp017ytn00000gp/T/tmpa09j3b3o.lp\n",
      "Reading time = 0.00 seconds\n",
      ": 761 rows, 2150 columns, 9006 nonzeros\n"
     ]
    }
   ],
   "source": [
    "# Initial conditions is 0.013 gDW/L (in total)\n",
    "model_name = 'Ecoli'\n",
    "model_name_dict = {model_name: [model, 0.006]}\n",
    "\n",
    "glucose_mM = utils.convert_gL_to_mM(\"C6H12O6\", 4)\n",
    "D = FBA_leak.dFBA(iterations = 3, dt = 0.1, method = \"FBA_with_leakage\", store_exchanges_flag = False)#(, pfba_fraction = 0.95)\n",
    "D.add_models(model_name_dict)"
   ]
  },
  {
   "cell_type": "code",
   "execution_count": 5,
   "id": "a07c116b-7348-4de0-abc5-b16f386093a6",
   "metadata": {},
   "outputs": [
    {
     "name": "stdout",
     "output_type": "stream",
     "text": [
      "dFBA simulation took 10 seconds\n",
      "   Timepoint  Time     Ecoli\n",
      "0          0   0.0  0.006000\n",
      "1          1   0.1  0.006524\n"
     ]
    }
   ],
   "source": [
    "# Set Km and vMax\n",
    "D.models[model_name].set_km(\"glc__D_e\", 1)\n",
    "D.models[model_name].set_Vmax(\"glc__D_e\", 10)\n",
    "\n",
    "\n",
    "\n",
    "D.medium.define_initial_conditions({\"glc__D_e\": glucose_mM})\n",
    "# D.medium.set_store_concentrations([\"glc__D_e\", \"nh3_e\"])\n",
    "D.run()\n",
    "print(D.biomass_df)"
   ]
  },
  {
   "cell_type": "markdown",
   "id": "4f3b01f8-2073-4588-8fce-e564d99750b4",
   "metadata": {},
   "source": [
    "# Make auxotrophs\n",
    "Using data from Mee et al., 2014 https://www.pnas.org/doi/epdf/10.1073/pnas.1405641111\n",
    "R: argA,\n",
    "C: cysE,\n",
    "G: glyA,\n",
    "H: hisB,\n",
    "I: ilvA,\n",
    "L: leuB,\n",
    "K: lysA,\n",
    "M: metA,\n",
    "F: pheA,\n",
    "P: proA,\n",
    "S: serA,\n",
    "T: thrC,\n",
    "W: trpC,\n",
    "Y: tyrA"
   ]
  },
  {
   "cell_type": "code",
   "execution_count": 4,
   "id": "4b02c36c-2fb5-4be5-afba-3e08a511231d",
   "metadata": {},
   "outputs": [],
   "source": [
    "KO_strain_dict = {\n",
    "'R': 'argA',\n",
    "'C': 'cysE',\n",
    "'G': 'glyA',\n",
    "'H': 'hisB',\n",
    "'I': 'ilvA',\n",
    "'L': 'leuB',\n",
    "'K': 'lysA',\n",
    "'M': 'metA',\n",
    "'F': 'pheA',\n",
    "'P': 'proA',\n",
    "'S': 'serA',\n",
    "'T': 'thrC',\n",
    "'W': 'trpC',\n",
    "'Y': 'tyrA'\n",
    "}"
   ]
  },
  {
   "cell_type": "code",
   "execution_count": 2,
   "id": "f3a99202-4f90-41e5-a10b-56c59436b92f",
   "metadata": {},
   "outputs": [
    {
     "name": "stdout",
     "output_type": "stream",
     "text": [
      "Set parameter Username\n",
      "Academic license - for non-commercial use only - expires 2024-02-26\n"
     ]
    }
   ],
   "source": [
    "# model = cobra.io.read_sbml_model('../../models/e_coli/iJR904.xml')\n",
    "model = cobra.io.read_sbml_model('../../models/e_coli/iJO1366.xml')\n",
    "# model = cobra.io.read_sbml_model('../../models/e_coli/e_coli_core.xml')"
   ]
  },
  {
   "cell_type": "code",
   "execution_count": 5,
   "id": "f8193fa6-dbba-467b-9194-b4ff879e0d6d",
   "metadata": {},
   "outputs": [
    {
     "name": "stdout",
     "output_type": "stream",
     "text": [
      "R b2818 0.0\n",
      "C b3607 0.0\n",
      "G b2551 0.0\n",
      "H b2022 0.0\n",
      "I b3772 0.0\n",
      "L b0073 0.0\n",
      "K b2838 0.0\n",
      "M b4013 0.0\n",
      "F b2599 0.0\n",
      "P b0243 0.0\n",
      "S b2913 0.0\n",
      "T b0004 0.0\n",
      "W b1262 0.0\n",
      "Y b2600 0.0\n"
     ]
    }
   ],
   "source": [
    "folder = Path('../../models/e_coli/ko/')\n",
    "\n",
    "\n",
    "model.solver = 'gurobi'\n",
    "model_dict = {}\n",
    "for key, gene_name in KO_strain_dict.items():\n",
    "    with model as M:\n",
    "        genes = [g for g in M.genes if g.name == gene_name]\n",
    "        rxns = cobra.manipulation.knock_out_model_genes(M, genes)\n",
    "        if key == 'I':\n",
    "            # According to the model, tdcB can perform the same function, but we assume this reaction is knocked out anyway here\n",
    "            M.reactions.THRD_L.bounds = (0,0)\n",
    "        if key =='G':\n",
    "            M.reactions.GLYAT.bounds = (0,1000)\n",
    "            M.reactions.THRA.bounds = (0,0)\n",
    "            M.reactions.THRA2.bounds = (0,0)\n",
    "        if key =='P':\n",
    "            # model.reactions.NACODA.bounds = (0,0)\n",
    "            M.reactions.P5CR.bounds = (0,0)\n",
    "        if key =='S':\n",
    "            M.reactions.GHMT2r.bounds = (0,1000)\n",
    "        if key =='T':\n",
    "            M.reactions.THRA.bounds = (0,1000)\n",
    "        print(key, genes[0], M.slim_optimize())\n",
    "        # print(M.metabolites.ser__L_c.summary())\n",
    "        cobra.io.write_sbml_model(M, folder/'{0}.xml'.format(key))\n",
    "        model_dict[key] = M"
   ]
  },
  {
   "cell_type": "code",
   "execution_count": 28,
   "id": "4f56f508-31d9-4424-bc1c-b6727c2a15a1",
   "metadata": {},
   "outputs": [
    {
     "name": "stdout",
     "output_type": "stream",
     "text": [
      "<Solution 699.022 at 0x7fd179c638b0>\n",
      "Objective\n",
      "=========\n",
      "1.0 BIOMASS_Ec_iJO1366_core_53p95M = 0.9823718127269754\n",
      "\n",
      "Uptake\n",
      "------\n",
      "Metabolite     Reaction      Flux  C-Number  C-Flux\n",
      "     ca2_e     EX_ca2_e  0.005113         0   0.00%\n",
      "      cl_e      EX_cl_e  0.005113         0   0.00%\n",
      " cobalt2_e EX_cobalt2_e 2.456E-05         0   0.00%\n",
      "     cu2_e     EX_cu2_e 0.0006965         0   0.00%\n",
      "     fe2_e     EX_fe2_e   0.01578         0   0.00%\n",
      "  glc__D_e  EX_glc__D_e        10         6 100.00%\n",
      "       k_e       EX_k_e    0.1918         0   0.00%\n",
      "     mg2_e     EX_mg2_e  0.008522         0   0.00%\n",
      "     mn2_e     EX_mn2_e 0.0006788         0   0.00%\n",
      "    mobd_e    EX_mobd_e 0.0001267         0   0.00%\n",
      "     nh4_e     EX_nh4_e     10.61         0   0.00%\n",
      "     ni2_e     EX_ni2_e 0.0003173         0   0.00%\n",
      "      o2_e      EX_o2_e     17.58         0   0.00%\n",
      "      pi_e      EX_pi_e    0.9476         0   0.00%\n",
      "     so4_e     EX_so4_e    0.2478         0   0.00%\n",
      "     zn2_e     EX_zn2_e  0.000335         0   0.00%\n",
      "\n",
      "Secretion\n",
      "---------\n",
      "Metabolite    Reaction       Flux  C-Number C-Flux\n",
      "  4crsol_c DM_4crsol_c -0.0002191         7  0.01%\n",
      "   5drib_c  DM_5drib_c  -0.000221         5  0.01%\n",
      "    amob_c   DM_amob_c -1.965E-06        15  0.00%\n",
      "  mththf_c DM_mththf_c -0.0004401         5  0.01%\n",
      "     co2_e    EX_co2_e     -19.68         1 99.98%\n",
      "     h2o_e    EX_h2o_e     -45.62         0  0.00%\n",
      "       h_e      EX_h_e     -9.026         0  0.00%\n",
      "    meoh_e   EX_meoh_e -1.965E-06         1  0.00%\n",
      "\n"
     ]
    }
   ],
   "source": [
    "model.optimize()\n",
    "print(cobra.flux_analysis.pfba(model))\n",
    "print(model.summary())"
   ]
  },
  {
   "cell_type": "code",
   "execution_count": 17,
   "id": "8eb72689-f336-4c1d-980c-21d0ec2ed675",
   "metadata": {},
   "outputs": [],
   "source": [
    "s = cobra.flux_analysis.pfba(model)"
   ]
  },
  {
   "cell_type": "code",
   "execution_count": 20,
   "id": "bb02affd-a5c3-4dfb-8f4c-b06d807470be",
   "metadata": {},
   "outputs": [
    {
     "data": {
      "text/html": [
       "<strong><em>Optimal</em> solution with objective value 699.022</strong><br><div>\n",
       "<style scoped>\n",
       "    .dataframe tbody tr th:only-of-type {\n",
       "        vertical-align: middle;\n",
       "    }\n",
       "\n",
       "    .dataframe tbody tr th {\n",
       "        vertical-align: top;\n",
       "    }\n",
       "\n",
       "    .dataframe thead th {\n",
       "        text-align: right;\n",
       "    }\n",
       "</style>\n",
       "<table border=\"1\" class=\"dataframe\">\n",
       "  <thead>\n",
       "    <tr style=\"text-align: right;\">\n",
       "      <th></th>\n",
       "      <th>fluxes</th>\n",
       "      <th>reduced_costs</th>\n",
       "    </tr>\n",
       "  </thead>\n",
       "  <tbody>\n",
       "    <tr>\n",
       "      <th>EX_cm_e</th>\n",
       "      <td>0.000000</td>\n",
       "      <td>-2.0</td>\n",
       "    </tr>\n",
       "    <tr>\n",
       "      <th>EX_cmp_e</th>\n",
       "      <td>0.000000</td>\n",
       "      <td>178.2</td>\n",
       "    </tr>\n",
       "    <tr>\n",
       "      <th>EX_co2_e</th>\n",
       "      <td>19.675223</td>\n",
       "      <td>-2.0</td>\n",
       "    </tr>\n",
       "    <tr>\n",
       "      <th>EX_cobalt2_e</th>\n",
       "      <td>-0.000025</td>\n",
       "      <td>2.0</td>\n",
       "    </tr>\n",
       "    <tr>\n",
       "      <th>DM_4crsol_c</th>\n",
       "      <td>0.000219</td>\n",
       "      <td>-2.0</td>\n",
       "    </tr>\n",
       "    <tr>\n",
       "      <th>...</th>\n",
       "      <td>...</td>\n",
       "      <td>...</td>\n",
       "    </tr>\n",
       "    <tr>\n",
       "      <th>RNDR4</th>\n",
       "      <td>0.000000</td>\n",
       "      <td>-2.0</td>\n",
       "    </tr>\n",
       "    <tr>\n",
       "      <th>RNDR4b</th>\n",
       "      <td>0.000000</td>\n",
       "      <td>-2.0</td>\n",
       "    </tr>\n",
       "    <tr>\n",
       "      <th>RNTR1c2</th>\n",
       "      <td>0.025705</td>\n",
       "      <td>-2.0</td>\n",
       "    </tr>\n",
       "    <tr>\n",
       "      <th>RNTR2c2</th>\n",
       "      <td>0.026541</td>\n",
       "      <td>-2.0</td>\n",
       "    </tr>\n",
       "    <tr>\n",
       "      <th>RNTR3c2</th>\n",
       "      <td>0.026541</td>\n",
       "      <td>-2.0</td>\n",
       "    </tr>\n",
       "  </tbody>\n",
       "</table>\n",
       "<p>2583 rows × 2 columns</p>\n",
       "</div>"
      ],
      "text/plain": [
       "<Solution 699.022 at 0x7fab3066b670>"
      ]
     },
     "execution_count": 20,
     "metadata": {},
     "output_type": "execute_result"
    }
   ],
   "source": [
    "s"
   ]
  },
  {
   "cell_type": "markdown",
   "id": "796afc4c-67ad-493f-a23e-5c5493363ba7",
   "metadata": {},
   "source": [
    "# Simulate auxotrophs"
   ]
  },
  {
   "cell_type": "code",
   "execution_count": 6,
   "id": "cbe52928-5f72-4909-b060-d6550d7d8479",
   "metadata": {},
   "outputs": [
    {
     "name": "stdout",
     "output_type": "stream",
     "text": [
      "##### Lekage\n",
      "Read LP format model from file /var/folders/h6/4b_zz_cd5d92w2ycp017ytn00000gp/T/tmpoc1bkvlp.lp\n",
      "Reading time = 0.00 seconds\n",
      ": 761 rows, 2150 columns, 9006 nonzeros\n",
      "dFBA simulation took 10 seconds\n",
      "   Timepoint  Time     Ecoli\n",
      "0          0   0.0  0.006000\n",
      "1          1   0.1  0.006543\n"
     ]
    }
   ],
   "source": [
    "model_name = 'Ecoli'\n",
    "model_name_dict = {model_name: [model_dict['I'], 0.006]}\n",
    "\n",
    "glucose_mM = utils.convert_gL_to_mM(\"C6H12O6\", 4)\n",
    "D = FBA_leak.dFBA(iterations = 3, dt = 0.1, method = \"FBA_with_leakage\", store_exchanges_flag = False)#(, pfba_fraction = 0.95)\n",
    "D.add_models(model_name_dict)\n",
    "# Set Km and vMax\n",
    "D.models[model_name].set_km(\"glc__D_e\", 1)\n",
    "D.models[model_name].set_Vmax(\"glc__D_e\", 10)\n",
    "\n",
    "\n",
    "\n",
    "D.medium.define_initial_conditions({\"glc__D_e\": glucose_mM, \"ile__L_e\": 1})\n",
    "D.run()\n",
    "print(D.biomass_df)"
   ]
  },
  {
   "cell_type": "code",
   "execution_count": 22,
   "id": "6599d374-639e-4057-8fef-dbf173dd9f56",
   "metadata": {},
   "outputs": [
    {
     "data": {
      "text/html": [
       "<div>\n",
       "<style scoped>\n",
       "    .dataframe tbody tr th:only-of-type {\n",
       "        vertical-align: middle;\n",
       "    }\n",
       "\n",
       "    .dataframe tbody tr th {\n",
       "        vertical-align: top;\n",
       "    }\n",
       "\n",
       "    .dataframe thead th {\n",
       "        text-align: right;\n",
       "    }\n",
       "</style>\n",
       "<table border=\"1\" class=\"dataframe\">\n",
       "  <thead>\n",
       "    <tr style=\"text-align: right;\">\n",
       "      <th></th>\n",
       "      <th>glc__D_e</th>\n",
       "      <th>ile__L_e</th>\n",
       "    </tr>\n",
       "  </thead>\n",
       "  <tbody>\n",
       "    <tr>\n",
       "      <th>0</th>\n",
       "      <td>22.202994</td>\n",
       "      <td>1.000000</td>\n",
       "    </tr>\n",
       "    <tr>\n",
       "      <th>1</th>\n",
       "      <td>22.196454</td>\n",
       "      <td>0.999836</td>\n",
       "    </tr>\n",
       "    <tr>\n",
       "      <th>2</th>\n",
       "      <td>22.189321</td>\n",
       "      <td>0.999658</td>\n",
       "    </tr>\n",
       "  </tbody>\n",
       "</table>\n",
       "</div>"
      ],
      "text/plain": [
       "    glc__D_e  ile__L_e\n",
       "0  22.202994  1.000000\n",
       "1  22.196454  0.999836\n",
       "2  22.189321  0.999658"
      ]
     },
     "execution_count": 22,
     "metadata": {},
     "output_type": "execute_result"
    }
   ],
   "source": [
    "D.concentrations_df[['glc__D_e', 'ile__L_e']]"
   ]
  },
  {
   "cell_type": "code",
   "execution_count": 10,
   "id": "e7b5b7ef-b46e-48aa-820d-6e905003f85f",
   "metadata": {},
   "outputs": [
    {
     "name": "stdout",
     "output_type": "stream",
     "text": [
      "10fthf_c 471.42344 5.716009444975999e-07\n",
      "13dpg_c 262.005382 1.0486222312436954e-05\n",
      "1pyr5c_c 112.10664 4.731233673722961e-06\n",
      "23dhdp_c 167.1189 3.727553324274676e-06\n",
      "23dhmb_c 133.12256 5.010496238288017e-06\n",
      "25aics_c 450.251561 1.3022634009434882e-06\n",
      "26dap_LL_c 190.19706 2.925990038853849e-06\n",
      "2cpr5p_c 346.206681 1.213939193873706e-06\n",
      "2dda7p_c 285.12206100000003 3.2569500418461468e-06\n",
      "2dr1p_c 212.09452100000001 3.892126247839106e-06\n",
      "2dr5p_c 212.09452100000001 3.892126247839044e-06\n",
      "2ippm_c 156.13602 3.233828574374865e-06\n",
      "2pg_c 183.033421 1.206470536637243e-05\n",
      "34hpp_c 179.14948 2.0334649037058393e-06\n",
      "3c2hmp_c 174.1513 3.2338285743755803e-06\n",
      "3c3hmp_c 174.1513 3.2338285743756684e-06\n",
      "3c4mop_c 172.13542 3.53137770839612e-06\n",
      "3dhq_c 189.14276 3.3040578304744168e-06\n",
      "3dhsk_c 171.12748 3.304057830475455e-06\n",
      "3ig3p_c 285.189841 1.2224728030777829e-06\n",
      "3mob_c 115.10728 5.010496238281086e-06\n",
      "3pg_c 183.033421 1.206470536637695e-05\n",
      "3php_c 181.017541 1.5357361845737776e-05\n",
      "3psme_c 320.146221 1.8791248500765039e-06\n",
      "4abz_c 136.12804 2.5451676421392865e-06\n",
      "4adcho_c 224.19009999999997 1.8263728952076019e-06\n",
      "4mop_c 129.13386 3.5855792004348624e-06\n",
      "4pasp_c 211.066701 8.476810821068932e-06\n",
      "5aizc_c 336.172101 1.963346278946229e-06\n",
      "5caiz_c 336.172101 1.9633462789467955e-06\n",
      "5mthf_c 458.44786 5.430347433969683e-07\n",
      "6hmhpt_c 195.17866 2.0439111700878294e-06\n",
      "6hmhptpp_c 352.114642 1.8701923752178263e-06\n",
      "6pgc_c 273.111361 4.090230169700405e-06\n",
      "6pgl_c 256.104021 4.160165150589009e-06\n",
      "accoa_c 805.539043 4.0610341340317774e-07\n",
      "acg5p_c 266.122021 3.422043866730795e-06\n",
      "acg5sa_c 172.1586 3.1441111321306792e-06\n",
      "acgam1p_c 299.171821 2.465286592626091e-06\n",
      "acglu_c 187.15006 3.635599478161378e-06\n",
      "acorn_c 174.19765999999998 2.865216459825924e-06\n",
      "acser_c 147.12926 5.913577939879528e-06\n",
      "actp_c 138.015981 1.9510397261000586e-05\n",
      "adp_c 424.177302 1.6052508361474901e-06\n",
      "adpglc_c 587.3258420000001 8.714796528780677e-07\n",
      "adphep_DD_c 617.3518220000001 7.928782967624346e-07\n",
      "adphep_LD_c 617.3518220000001 7.928782967625318e-07\n",
      "ahdt_c 491.138563 1.610761414756003e-06\n",
      "aicar_c 336.195281 1.8719403019799608e-06\n",
      "air_c 293.170541 2.0648501549519902e-06\n",
      "alaala_c 160.17108000000002 4.0424724518630545e-06\n",
      "alac__S_c 131.10668 5.773338148540204e-06\n",
      "amet_c 399.44532000000004 6.692238379027366e-07\n",
      "ametam_c 356.44376 6.72273441630449e-07\n",
      "amp_c 345.20534100000003 2.2366024051676274e-06\n",
      "anth_c 136.12804 2.545167642139331e-06\n",
      "aps_c 425.268541 1.4773651381956049e-06\n",
      "ara5p_c 228.093921 4.704784745038267e-06\n",
      "argsuc_c 289.26518 1.9157720184879116e-06\n",
      "aspsa_c 117.10328 7.230369900086866e-06\n",
      "atp_c 503.149263 1.5518851838505152e-06\n",
      "btn_c 243.3027 1000.0\n",
      "cbasp_c 174.11154 8.01522488712294e-06\n",
      "cbp_c 139.004041 0.00015074079657330375\n",
      "cdp_c 400.152602 1.9364570451178663e-06\n",
      "cdpea_c 445.236282 1.3375354559863994e-06\n",
      "chor_c 224.16692 1.897295845403507e-06\n",
      "citr__L_c 175.18572 3.6132206236569777e-06\n",
      "ckdo_c 541.357321 8.61587964399347e-07\n",
      "cmp_c 321.18064100000004 2.0150262914813205e-06\n",
      "co2_c 44.0095 0.02728456339895622\n",
      "coa_c 763.5023630000001 4.4111999560264965e-07\n",
      "ctp_c 479.124563 1.8630260009588583e-06\n",
      "cyst__L_c 222.26206 1.7423499213397707e-06\n",
      "dadp_c 408.17790199999996 7.904965152146834e-07\n",
      "damp_c 329.205941 8.17197458195685e-07\n",
      "datp_c 487.149863 1.4667186546706413e-06\n",
      "dcamp_c 459.26162100000005 1.1872578596004553e-06\n",
      "dcdp_c 384.153202 1.812735533450052e-06\n",
      "dctp_c 463.12516300000004 1.7471067030898906e-06\n",
      "dgdp_c 424.177302 7.180908048473544e-07\n",
      "dgtp_c 503.149263 1.4538848125028728e-06\n",
      "dhap_c 168.041961 8.95951948475102e-06\n",
      "dhf_c 441.39746 6.086165951597868e-07\n",
      "dhnpt_c 255.23062000000002 1.624681556577953e-06\n",
      "dhor__S_c 157.1042 8.240447234727477e-06\n",
      "dhpmp_c 333.194641 1.6107614147560604e-06\n",
      "dhpt_c 313.29142 8.310192154006505e-07\n",
      "dnad_c 662.393982 5.939696186338699e-07\n",
      "dtdp_c 399.164542 1.6288981093036963e-06\n",
      "dtmp_c 320.192581 1.6869741779517725e-06\n",
      "dttp_c 478.136503 1.5741861841702142e-06\n",
      "dudp_c 385.13796199999996 1.977033440178443e-06\n",
      "dump_c 306.166001 2.0585065316575254e-06\n",
      "dutp_c 464.109923 9.09130788250352e-07\n",
      "e4p_c 198.067941 6.255130482177587e-06\n",
      "eig3p_c 236.119221 2.7925345972736873e-06\n",
      "f6p_c 258.119901 3.7158408044646508e-06\n",
      "fad_c 783.5338620000001 3.6340688934875543e-07\n",
      "fadh2_c 785.549742 3.6077406710846993e-07\n",
      "fdp_c 336.083922 3.442415783095119e-06\n",
      "fe2_c 55.845 1000.0\n",
      "fgam_c 312.170581 2.3760618631771877e-06\n",
      "fpram_c 312.19376100000005 2.1757562018005345e-06\n",
      "fprica_c 364.20538100000005 1.7519051446795785e-06\n",
      "g1p_c 258.119901 3.715840804466826e-06\n",
      "g3p_c 168.041961 8.95951948475478e-06\n",
      "gam1p_c 258.143081 3.4942713822454573e-06\n",
      "gam6p_c 258.143081 3.4942713822464403e-06\n",
      "gar_c 285.168421 2.5330536592816233e-06\n",
      "gdp_c 440.17670200000003 1.5902631653361035e-06\n",
      "glc__D_c 180.15588 22.20299442904667\n",
      "glu5p_c 225.093281 5.418611485838652e-06\n",
      "glu5sa_c 131.12986 4.82127656106551e-06\n",
      "glu__D_c 146.12132 5.900587067697619e-06\n",
      "glx_c 73.02754 3.4436234738237346e-05\n",
      "glycogen_c 162.1406 3.5474890246373007e-06\n",
      "gmhep17bp_c 366.109902 2.8429851354041026e-06\n",
      "gmhep1p_c 288.14588100000003 2.88020449835243e-06\n",
      "gmhep7p_c 288.14588100000003 3.0378492207600293e-06\n",
      "gmp_c 361.204741 1.645954618925715e-06\n",
      "gtp_c 519.148663 1.5377436848647679e-06\n",
      "h2o_c 18.01528 1000.0\n",
      "h_c 1.00794 1000.0\n",
      "hco3_c 61.016839999999995 0.0017868147605999756\n",
      "hcys__L_c 135.18475999999998 2.4255515190389526e-06\n",
      "hisp_c 220.143001 2.563737315808128e-06\n",
      "histd_c 142.17898 2.594857716579681e-06\n",
      "hom__L_c 119.11916 6.1283373102853005e-06\n",
      "iasp_c 129.07092 1.0347996248631582e-05\n",
      "icit_c 189.09969999999998 5.773338143702175e-06\n",
      "ile__L_c 131.17291999999998 1.0\n",
      "imacp_c 218.103941 2.792534597273296e-06\n",
      "imp_c 346.190101 1.751905144679652e-06\n",
      "k_c 39.0983 1000.0\n",
      "kdo8p_c 315.14804100000003 2.7088328667610945e-06\n",
      "kdo_c 237.18401999999998 2.743062020524442e-06\n",
      "lipidX_c 709.8452209999999 2.2957643830091403e-07\n",
      "malcoa_c 848.5406029999999 3.997720944359603e-07\n",
      "methf_c 454.4161 5.716009444976151e-07\n",
      "mlthf_c 455.42404 5.560076688995268e-07\n",
      "na1_c 22.98977 1000.0\n",
      "nadh_c 663.425102 5.587777646362951e-07\n",
      "nadp_c 740.3811830000001 5.632597265081736e-07\n",
      "nadph_c 741.389123 5.459078423555638e-07\n",
      "nh4_c 18.03846 1000.0\n",
      "nicrnt_c 333.18804100000006 1.515094296216543e-06\n",
      "o2_c 31.9988 1000.0\n",
      "oaa_c 130.05568 1.2064705366372982e-05\n",
      "orot5p_c 365.166961 2.189755573860408e-06\n",
      "orot_c 155.08832 8.854015016490283e-06\n",
      "pap_c 423.16936200000004 1.6473898951518603e-06\n",
      "paps_c 503.23256200000003 1.4198497226057049e-06\n",
      "pep_c 165.01814099999999 1.2064705366369268e-05\n",
      "peptido_EC_c 990.96128 2.6512312300748664e-07\n",
      "phpyr_c 163.15008 1.9157720184881987e-06\n",
      "pi_c 95.97930099999999 1000.0\n",
      "pphn_c 224.16692 1.8972958454029775e-06\n",
      "pram_c 228.117101 3.823593095799622e-06\n",
      "pran_c 346.206681 1.2139391938735511e-06\n",
      "prbamp_c 555.283982 8.900150179735592e-07\n",
      "prbatp_c 713.227904 8.900150179735186e-07\n",
      "prfp_c 573.299262 8.900150179734994e-07\n",
      "prlp_c 573.299262 8.900150179734937e-07\n",
      "prpp_c 385.029903 4.01561219041826e-06\n",
      "pser__L_c 183.056601 1.1675224046123316e-05\n",
      "quln_c 165.10302 3.692605259809681e-06\n",
      "r1p_c 228.093921 4.704784745038927e-06\n",
      "r5p_c 228.093921 4.7047847450359424e-06\n",
      "ru5p__D_c 228.093921 4.704784745040669e-06\n",
      "s7p_c 288.14588100000003 3.0378492207604367e-06\n",
      "skm5p_c 251.107381 2.8101910790946307e-06\n",
      "skm_c 173.14336 3.0011009008939834e-06\n",
      "sl26da_c 288.25394 1.7696041912708447e-06\n",
      "sl2a6o_c 286.21488 1.8881726499434606e-06\n",
      "so4_c 96.0626 1000.0\n",
      "succoa_c 862.5671829999999 3.7776167205055923e-07\n",
      "suchms_c 218.18398 2.722435667368984e-06\n",
      "thdp_c 169.13478 3.357249638311591e-06\n",
      "thf_c 443.41334 5.91260221853226e-07\n",
      "u23ga_c 1016.011222 1.8046642615400613e-07\n",
      "u3aga_c 831.6928620000001 3.1111300724906764e-07\n",
      "u3hga_c 790.664122 3.302280967051213e-07\n",
      "uaccg_c 674.376662 7.19923048971863e-07\n",
      "uacgam_c 605.3378220000001 8.672549456994862e-07\n",
      "uama_c 747.470442 5.769146072293472e-07\n",
      "uamag_c 875.576482 4.499869968205697e-07\n",
      "uamr_c 676.3925420000002 6.968125671271894e-07\n",
      "udp_c 401.137362 2.1212715399900317e-06\n",
      "udpg_c 564.2859020000001 1.0356029242641467e-06\n",
      "ugmd_c 1047.758262 3.244768173606583e-07\n",
      "ugmda_c 1189.9140619999998 2.617166713792972e-07\n",
      "ump_c 322.16540100000003 2.213435918515777e-06\n",
      "utp_c 480.109323 2.0355316004106053e-06\n",
      "xmp_c 362.189501 1.852462497441081e-06\n",
      "xu5p__D_c 228.093921 4.704784745037518e-06\n"
     ]
    },
    {
     "ename": "KeyError",
     "evalue": "'Timepoint'",
     "output_type": "error",
     "traceback": [
      "\u001b[0;31m---------------------------------------------------------------------------\u001b[0m",
      "\u001b[0;31mKeyError\u001b[0m                                  Traceback (most recent call last)",
      "\u001b[0;32m/var/folders/h6/4b_zz_cd5d92w2ycp017ytn00000gp/T/ipykernel_12815/124029386.py\u001b[0m in \u001b[0;36m<module>\u001b[0;34m\u001b[0m\n\u001b[1;32m      1\u001b[0m \u001b[0;32mfor\u001b[0m \u001b[0mx\u001b[0m \u001b[0;32min\u001b[0m \u001b[0mD\u001b[0m\u001b[0;34m.\u001b[0m\u001b[0mconcentrations_df\u001b[0m\u001b[0;34m.\u001b[0m\u001b[0mcolumns\u001b[0m\u001b[0;34m:\u001b[0m\u001b[0;34m\u001b[0m\u001b[0;34m\u001b[0m\u001b[0m\n\u001b[0;32m----> 2\u001b[0;31m     \u001b[0mm\u001b[0m \u001b[0;34m=\u001b[0m \u001b[0mmodel\u001b[0m\u001b[0;34m.\u001b[0m\u001b[0mmetabolites\u001b[0m\u001b[0;34m.\u001b[0m\u001b[0mget_by_id\u001b[0m\u001b[0;34m(\u001b[0m\u001b[0mx\u001b[0m\u001b[0;34m.\u001b[0m\u001b[0mreplace\u001b[0m\u001b[0;34m(\u001b[0m\u001b[0;34m\"_e\"\u001b[0m\u001b[0;34m,\u001b[0m \u001b[0;34m\"_c\"\u001b[0m\u001b[0;34m)\u001b[0m\u001b[0;34m)\u001b[0m\u001b[0;34m\u001b[0m\u001b[0;34m\u001b[0m\u001b[0m\n\u001b[0m\u001b[1;32m      3\u001b[0m     \u001b[0mprint\u001b[0m\u001b[0;34m(\u001b[0m\u001b[0mm\u001b[0m\u001b[0;34m.\u001b[0m\u001b[0mid\u001b[0m\u001b[0;34m,\u001b[0m \u001b[0mm\u001b[0m\u001b[0;34m.\u001b[0m\u001b[0mformula_weight\u001b[0m\u001b[0;34m,\u001b[0m \u001b[0mD\u001b[0m\u001b[0;34m.\u001b[0m\u001b[0mconcentrations_df\u001b[0m\u001b[0;34m[\u001b[0m\u001b[0mx\u001b[0m\u001b[0;34m]\u001b[0m\u001b[0;34m.\u001b[0m\u001b[0mmax\u001b[0m\u001b[0;34m(\u001b[0m\u001b[0;34m)\u001b[0m\u001b[0;34m)\u001b[0m\u001b[0;34m\u001b[0m\u001b[0;34m\u001b[0m\u001b[0m\n",
      "\u001b[0;32m~/opt/anaconda3/lib/python3.9/site-packages/cobra/core/dictlist.py\u001b[0m in \u001b[0;36mget_by_id\u001b[0;34m(self, id)\u001b[0m\n\u001b[1;32m     73\u001b[0m     \u001b[0;32mdef\u001b[0m \u001b[0mget_by_id\u001b[0m\u001b[0;34m(\u001b[0m\u001b[0mself\u001b[0m\u001b[0;34m,\u001b[0m \u001b[0mid\u001b[0m\u001b[0;34m:\u001b[0m \u001b[0mUnion\u001b[0m\u001b[0;34m[\u001b[0m\u001b[0mObject\u001b[0m\u001b[0;34m,\u001b[0m \u001b[0mstr\u001b[0m\u001b[0;34m]\u001b[0m\u001b[0;34m)\u001b[0m \u001b[0;34m->\u001b[0m \u001b[0mObject\u001b[0m\u001b[0;34m:\u001b[0m\u001b[0;34m\u001b[0m\u001b[0;34m\u001b[0m\u001b[0m\n\u001b[1;32m     74\u001b[0m         \u001b[0;34m\"\"\"Return the element with a matching id.\"\"\"\u001b[0m\u001b[0;34m\u001b[0m\u001b[0;34m\u001b[0m\u001b[0m\n\u001b[0;32m---> 75\u001b[0;31m         \u001b[0;32mreturn\u001b[0m \u001b[0mlist\u001b[0m\u001b[0;34m.\u001b[0m\u001b[0m__getitem__\u001b[0m\u001b[0;34m(\u001b[0m\u001b[0mself\u001b[0m\u001b[0;34m,\u001b[0m \u001b[0mself\u001b[0m\u001b[0;34m.\u001b[0m\u001b[0m_dict\u001b[0m\u001b[0;34m[\u001b[0m\u001b[0mid\u001b[0m\u001b[0;34m]\u001b[0m\u001b[0;34m)\u001b[0m\u001b[0;34m\u001b[0m\u001b[0;34m\u001b[0m\u001b[0m\n\u001b[0m\u001b[1;32m     76\u001b[0m \u001b[0;34m\u001b[0m\u001b[0m\n\u001b[1;32m     77\u001b[0m     \u001b[0;32mdef\u001b[0m \u001b[0mlist_attr\u001b[0m\u001b[0;34m(\u001b[0m\u001b[0mself\u001b[0m\u001b[0;34m,\u001b[0m \u001b[0mattribute\u001b[0m\u001b[0;34m:\u001b[0m \u001b[0mstr\u001b[0m\u001b[0;34m)\u001b[0m \u001b[0;34m->\u001b[0m \u001b[0mlist\u001b[0m\u001b[0;34m:\u001b[0m\u001b[0;34m\u001b[0m\u001b[0;34m\u001b[0m\u001b[0m\n",
      "\u001b[0;31mKeyError\u001b[0m: 'Timepoint'"
     ]
    }
   ],
   "source": [
    "for x in D.concentrations_df.columns:\n",
    "    m = model.metabolites.get_by_id(x.replace(\"_e\", \"_c\"))\n",
    "    print(m.id, m.formula_weight, D.concentrations_df[x].max())"
   ]
  },
  {
   "cell_type": "code",
   "execution_count": 29,
   "id": "e1e204ba-08b4-4fff-bdd1-1ee4672767e2",
   "metadata": {},
   "outputs": [
    {
     "name": "stdout",
     "output_type": "stream",
     "text": [
      "u23ga_e         1.804664e-07\n",
      "lipidX_e        2.295764e-07\n",
      "ugmda_e         2.617167e-07\n",
      "peptido_EC_e    2.651231e-07\n",
      "u3aga_e         3.111130e-07\n",
      "                    ...     \n",
      "na1_e           1.000000e+03\n",
      "nh4_e           1.000000e+03\n",
      "o2_e            1.000000e+03\n",
      "btn_e           1.000000e+03\n",
      "pi_e            1.000000e+03\n",
      "Length: 198, dtype: float64\n"
     ]
    }
   ],
   "source": [
    "print(D.concentrations_df.max().sort_values())"
   ]
  },
  {
   "cell_type": "code",
   "execution_count": null,
   "id": "a0effbc2-28d4-4ee4-933c-1f60002e3dfa",
   "metadata": {},
   "outputs": [],
   "source": [
    "[x for x in D.concentrations_df.columns if D]"
   ]
  },
  {
   "cell_type": "code",
   "execution_count": 6,
   "id": "766f6bae-5549-4c3e-8b81-afed7f2d643f",
   "metadata": {},
   "outputs": [],
   "source": [
    "r = model.reactions.EX_12ppd__R_e"
   ]
  },
  {
   "cell_type": "code",
   "execution_count": 15,
   "id": "f9169197-3afb-4a36-b638-34f4e2e1ffc8",
   "metadata": {},
   "outputs": [
    {
     "data": {
      "text/plain": [
       "'12ppd__R_e'"
      ]
     },
     "execution_count": 15,
     "metadata": {},
     "output_type": "execute_result"
    }
   ],
   "source": [
    "r.metabolites.popitem()[0].id"
   ]
  },
  {
   "cell_type": "markdown",
   "id": "c99b4303-a230-4fd4-95a2-08130876596a",
   "metadata": {},
   "source": [
    "# Yield of AA"
   ]
  },
  {
   "cell_type": "code",
   "execution_count": 49,
   "id": "1ca2a78d-6204-4f37-aaa3-80dbb1832cf1",
   "metadata": {},
   "outputs": [
    {
     "data": {
      "text/html": [
       "\n",
       "        <table>\n",
       "            <tr>\n",
       "                <td><strong>Reaction identifier</strong></td><td>BIOMASS_Ecoli_core_w_GAM</td>\n",
       "            </tr><tr>\n",
       "                <td><strong>Name</strong></td><td>Biomass Objective Function with GAM</td>\n",
       "            </tr><tr>\n",
       "                <td><strong>Memory address</strong></td>\n",
       "                <td>0x7fe581d94880</td>\n",
       "            </tr><tr>\n",
       "                <td><strong>Stoichiometry</strong></td>\n",
       "                <td>\n",
       "                    <p style='text-align:right'>1.496 3pg_c + 3.7478 accoa_c + 59.81 atp_c + 0.361 e4p_c + 0.0709 f6p_c + 0.129 g3p_c + 0.205 g6p_c + 0.2557 gln__L_c + 4.9414 glu__L_c + 59.81 h2o_c + 3.547 nad_c + 13.0279 nadph_c + 1.7867 oaa_c...</p>\n",
       "                    <p style='text-align:right'>1.496 3-Phospho-D-glycerate + 3.7478 Acetyl-CoA + 59.81 ATP C10H12N5O13P3 + 0.361 D-Erythrose 4-phosphate + 0.0709 D-Fructose 6-phosphate + 0.129 Glyceraldehyde 3-phosphate + 0.205 D-Glucose...</p>\n",
       "                </td>\n",
       "            </tr><tr>\n",
       "                <td><strong>GPR</strong></td><td></td>\n",
       "            </tr><tr>\n",
       "                <td><strong>Lower bound</strong></td><td>0.0</td>\n",
       "            </tr><tr>\n",
       "                <td><strong>Upper bound</strong></td><td>1000.0</td>\n",
       "            </tr>\n",
       "        </table>\n",
       "        "
      ],
      "text/plain": [
       "<Reaction BIOMASS_Ecoli_core_w_GAM at 0x7fe581d94880>"
      ]
     },
     "execution_count": 49,
     "metadata": {},
     "output_type": "execute_result"
    }
   ],
   "source": [
    "model.reactions.BIOMASS_Ecoli_core_w_GAM"
   ]
  }
 ],
 "metadata": {
  "kernelspec": {
   "display_name": "Python 3 (ipykernel)",
   "language": "python",
   "name": "python3"
  },
  "language_info": {
   "codemirror_mode": {
    "name": "ipython",
    "version": 3
   },
   "file_extension": ".py",
   "mimetype": "text/x-python",
   "name": "python",
   "nbconvert_exporter": "python",
   "pygments_lexer": "ipython3",
   "version": "3.9.13"
  }
 },
 "nbformat": 4,
 "nbformat_minor": 5
}
