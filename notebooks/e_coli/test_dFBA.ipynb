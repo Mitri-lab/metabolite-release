{
 "cells": [
  {
   "cell_type": "code",
   "execution_count": 1,
   "id": "0a036844-9fbd-44d4-bf56-5c29b42ee4ca",
   "metadata": {},
   "outputs": [],
   "source": [
    "import cobra\n",
    "import numpy as np\n",
    "from matplotlib import pyplot as plt\n",
    "import pandas as pd\n",
    "import sys\n",
    "sys.path.append('../../code/')\n",
    "import leakage\n",
    "import utils\n",
    "import FBA_leak"
   ]
  },
  {
   "cell_type": "code",
   "execution_count": 2,
   "id": "812eb231-5914-41b0-9a69-74120ade0b1d",
   "metadata": {},
   "outputs": [],
   "source": [
    "from dotenv import find_dotenv"
   ]
  },
  {
   "cell_type": "code",
   "execution_count": 3,
   "id": "cd0442dc-4a1e-4439-9438-26d4c272e798",
   "metadata": {},
   "outputs": [
    {
     "name": "stdout",
     "output_type": "stream",
     "text": [
      "Set parameter Username\n",
      "Academic license - for non-commercial use only - expires 2024-02-26\n"
     ]
    }
   ],
   "source": [
    "model = cobra.io.read_sbml_model('../../models/e_coli/momentiJO1366.xml')\n",
    "model.solver = 'gurobi'"
   ]
  },
  {
   "cell_type": "code",
   "execution_count": 4,
   "id": "07a524ab-35ed-4ffa-bcb9-e4f28c2791af",
   "metadata": {
    "tags": []
   },
   "outputs": [],
   "source": [
    "model.reactions.DHAPT.knock_out()\n",
    "model.reactions.THRA.knock_out()\n",
    "model.reactions.THRA2.knock_out()\n",
    "model.reactions.F6PA_TG_forward.knock_out()"
   ]
  },
  {
   "cell_type": "code",
   "execution_count": 5,
   "id": "2f21f202-f3e4-4b74-a596-ff9db21df2e3",
   "metadata": {},
   "outputs": [],
   "source": [
    "model.reactions.EX_glc__D_e.lower_bound = -10\n"
   ]
  },
  {
   "cell_type": "code",
   "execution_count": 6,
   "id": "43cadf69-9659-4e34-976e-e4227e379450",
   "metadata": {},
   "outputs": [
    {
     "name": "stdout",
     "output_type": "stream",
     "text": [
      "Read LP format model from file /var/folders/h6/4b_zz_cd5d92w2ycp017ytn00000gp/T/tmp3ay9f5d_.lp\n",
      "Reading time = 0.01 seconds\n",
      ": 1806 rows, 6356 columns, 29136 nonzeros\n"
     ]
    }
   ],
   "source": [
    "# Initial conditions is 0.013 gDW/L (in total)\n",
    "model_name = 'Ecoli'\n",
    "model_name_dict = {model_name: [model, 0.006]}\n",
    "\n",
    "glucose_mM = utils.convert_gL_to_mM(\"C6H12O6\", 4)\n",
    "D = FBA_leak.dFBA(iterations = 3, dt = 0.1, method = \"FBA_with_leakage\", store_exchanges_flag = False)#(, pfba_fraction = 0.95)\n",
    "D.add_models(model_name_dict)"
   ]
  },
  {
   "cell_type": "code",
   "execution_count": 7,
   "id": "d8b16ab7-c893-46d8-b3e9-4045a7cb78f7",
   "metadata": {},
   "outputs": [],
   "source": [
    "m = model.metabolites.prot_pool"
   ]
  },
  {
   "cell_type": "code",
   "execution_count": 9,
   "id": "a07c116b-7348-4de0-abc5-b16f386093a6",
   "metadata": {},
   "outputs": [
    {
     "ename": "KeyError",
     "evalue": "'DM_4crsol_c'",
     "output_type": "error",
     "traceback": [
      "\u001b[0;31m---------------------------------------------------------------------------\u001b[0m",
      "\u001b[0;31mKeyError\u001b[0m                                  Traceback (most recent call last)",
      "\u001b[0;32m/var/folders/h6/4b_zz_cd5d92w2ycp017ytn00000gp/T/ipykernel_10226/460939048.py\u001b[0m in \u001b[0;36m<module>\u001b[0;34m\u001b[0m\n\u001b[1;32m      7\u001b[0m \u001b[0mD\u001b[0m\u001b[0;34m.\u001b[0m\u001b[0mmedium\u001b[0m\u001b[0;34m.\u001b[0m\u001b[0mdefine_initial_conditions\u001b[0m\u001b[0;34m(\u001b[0m\u001b[0;34m{\u001b[0m\u001b[0;34m\"glc__D_e\"\u001b[0m\u001b[0;34m:\u001b[0m \u001b[0mglucose_mM\u001b[0m\u001b[0;34m}\u001b[0m\u001b[0;34m)\u001b[0m\u001b[0;34m\u001b[0m\u001b[0;34m\u001b[0m\u001b[0m\n\u001b[1;32m      8\u001b[0m \u001b[0;31m# D.medium.set_store_concentrations([\"glc__D_e\", \"nh3_e\"])\u001b[0m\u001b[0;34m\u001b[0m\u001b[0;34m\u001b[0m\u001b[0m\n\u001b[0;32m----> 9\u001b[0;31m \u001b[0mD\u001b[0m\u001b[0;34m.\u001b[0m\u001b[0mrun\u001b[0m\u001b[0;34m(\u001b[0m\u001b[0;34m)\u001b[0m\u001b[0;34m\u001b[0m\u001b[0;34m\u001b[0m\u001b[0m\n\u001b[0m",
      "\u001b[0;32m~/git/leakage/notebooks/e_coli/../../code/FBA_leak.py\u001b[0m in \u001b[0;36mrun\u001b[0;34m(self)\u001b[0m\n\u001b[1;32m    106\u001b[0m \u001b[0;34m\u001b[0m\u001b[0m\n\u001b[1;32m    107\u001b[0m             \u001b[0;32mfor\u001b[0m \u001b[0mmodel_name\u001b[0m \u001b[0;32min\u001b[0m \u001b[0mmodel_names\u001b[0m\u001b[0;34m:\u001b[0m\u001b[0;34m\u001b[0m\u001b[0;34m\u001b[0m\u001b[0m\n\u001b[0;32m--> 108\u001b[0;31m                 \u001b[0mself\u001b[0m\u001b[0;34m.\u001b[0m\u001b[0msimulate_model\u001b[0m\u001b[0;34m(\u001b[0m\u001b[0mmodel_name\u001b[0m\u001b[0;34m,\u001b[0m \u001b[0mi\u001b[0m\u001b[0;34m)\u001b[0m\u001b[0;34m\u001b[0m\u001b[0;34m\u001b[0m\u001b[0m\n\u001b[0m\u001b[1;32m    109\u001b[0m             \u001b[0mshuffle\u001b[0m\u001b[0;34m(\u001b[0m\u001b[0mmodel_names\u001b[0m\u001b[0;34m)\u001b[0m\u001b[0;34m\u001b[0m\u001b[0;34m\u001b[0m\u001b[0m\n\u001b[1;32m    110\u001b[0m             \u001b[0mself\u001b[0m\u001b[0;34m.\u001b[0m\u001b[0mmedium\u001b[0m\u001b[0;34m.\u001b[0m\u001b[0mstore_medium\u001b[0m\u001b[0;34m(\u001b[0m\u001b[0mi\u001b[0m\u001b[0;34m)\u001b[0m\u001b[0;34m\u001b[0m\u001b[0;34m\u001b[0m\u001b[0m\n",
      "\u001b[0;32m~/git/leakage/notebooks/e_coli/../../code/FBA_leak.py\u001b[0m in \u001b[0;36msimulate_model\u001b[0;34m(self, model_name, i)\u001b[0m\n\u001b[1;32m    305\u001b[0m             \u001b[0;32mif\u001b[0m \u001b[0mself\u001b[0m\u001b[0;34m.\u001b[0m\u001b[0mstore_exchanges_flag\u001b[0m \u001b[0;32mand\u001b[0m \u001b[0;34m(\u001b[0m\u001b[0mi\u001b[0m\u001b[0;34m%\u001b[0m\u001b[0mself\u001b[0m\u001b[0;34m.\u001b[0m\u001b[0mstore_exchanges_rate\u001b[0m \u001b[0;34m==\u001b[0m \u001b[0;36m0\u001b[0m\u001b[0;34m)\u001b[0m\u001b[0;34m:\u001b[0m\u001b[0;34m\u001b[0m\u001b[0;34m\u001b[0m\u001b[0m\n\u001b[1;32m    306\u001b[0m                 \u001b[0mmodel\u001b[0m\u001b[0;34m.\u001b[0m\u001b[0mstore_exchanges\u001b[0m\u001b[0;34m(\u001b[0m\u001b[0mfluxes\u001b[0m\u001b[0;34m,\u001b[0m \u001b[0mi\u001b[0m\u001b[0;34m)\u001b[0m\u001b[0;34m\u001b[0m\u001b[0;34m\u001b[0m\u001b[0m\n\u001b[0;32m--> 307\u001b[0;31m             \u001b[0mself\u001b[0m\u001b[0;34m.\u001b[0m\u001b[0mmedium\u001b[0m\u001b[0;34m.\u001b[0m\u001b[0mupdate_medium\u001b[0m\u001b[0;34m(\u001b[0m\u001b[0mfluxes\u001b[0m\u001b[0;34m,\u001b[0m \u001b[0mmodel\u001b[0m\u001b[0;34m,\u001b[0m \u001b[0mmodel\u001b[0m\u001b[0;34m.\u001b[0m\u001b[0mcurrent_biomass\u001b[0m\u001b[0;34m)\u001b[0m\u001b[0;34m\u001b[0m\u001b[0;34m\u001b[0m\u001b[0m\n\u001b[0m\u001b[1;32m    308\u001b[0m         \u001b[0;32melse\u001b[0m\u001b[0;34m:\u001b[0m\u001b[0;34m\u001b[0m\u001b[0;34m\u001b[0m\u001b[0m\n\u001b[1;32m    309\u001b[0m             \u001b[0mprint\u001b[0m\u001b[0;34m(\u001b[0m\u001b[0;34m\"Model {0} is not feasible at timepoint {1}\"\u001b[0m\u001b[0;34m.\u001b[0m\u001b[0mformat\u001b[0m\u001b[0;34m(\u001b[0m\u001b[0mmodel_name\u001b[0m\u001b[0;34m,\u001b[0m \u001b[0mi\u001b[0m\u001b[0;34m)\u001b[0m\u001b[0;34m)\u001b[0m\u001b[0;34m\u001b[0m\u001b[0;34m\u001b[0m\u001b[0m\n",
      "\u001b[0;32m~/git/leakage/notebooks/e_coli/../../code/FBA_leak.py\u001b[0m in \u001b[0;36mupdate_medium\u001b[0;34m(self, fluxes, model, model_biomass)\u001b[0m\n\u001b[1;32m    365\u001b[0m             \u001b[0;32mif\u001b[0m \u001b[0;34m(\u001b[0m\u001b[0mr_id\u001b[0m \u001b[0;34m==\u001b[0m \u001b[0mmodel\u001b[0m\u001b[0;34m.\u001b[0m\u001b[0mobjective_id\u001b[0m\u001b[0;34m)\u001b[0m\u001b[0;34m:\u001b[0m\u001b[0;34m\u001b[0m\u001b[0;34m\u001b[0m\u001b[0m\n\u001b[1;32m    366\u001b[0m                 \u001b[0;32mcontinue\u001b[0m\u001b[0;34m\u001b[0m\u001b[0;34m\u001b[0m\u001b[0m\n\u001b[0;32m--> 367\u001b[0;31m             \u001b[0mprint\u001b[0m\u001b[0;34m(\u001b[0m\u001b[0mmodel\u001b[0m\u001b[0;34m.\u001b[0m\u001b[0mex_met_dict\u001b[0m\u001b[0;34m)\u001b[0m\u001b[0;34m\u001b[0m\u001b[0;34m\u001b[0m\u001b[0m\n\u001b[0m\u001b[1;32m    368\u001b[0m             \u001b[0;32mtry\u001b[0m\u001b[0;34m:\u001b[0m\u001b[0;34m\u001b[0m\u001b[0;34m\u001b[0m\u001b[0m\n\u001b[1;32m    369\u001b[0m                 \u001b[0mm_id\u001b[0m \u001b[0;34m=\u001b[0m \u001b[0mmodel\u001b[0m\u001b[0;34m.\u001b[0m\u001b[0mex_met_dict\u001b[0m\u001b[0;34m[\u001b[0m\u001b[0mr_id\u001b[0m\u001b[0;34m]\u001b[0m\u001b[0;34m\u001b[0m\u001b[0;34m\u001b[0m\u001b[0m\n",
      "\u001b[0;31mKeyError\u001b[0m: 'DM_4crsol_c'"
     ]
    }
   ],
   "source": [
    "# Set Km and vMax\n",
    "D.models[model_name].set_km(\"glc__D_e\", 1)\n",
    "D.models[model_name].set_Vmax(\"glc__D_e\", 10)\n",
    "\n",
    "\n",
    "\n",
    "D.medium.define_initial_conditions({\"glc__D_e\": glucose_mM})\n",
    "# D.medium.set_store_concentrations([\"glc__D_e\", \"nh3_e\"])\n",
    "D.run()"
   ]
  }
 ],
 "metadata": {
  "kernelspec": {
   "display_name": "Python 3 (ipykernel)",
   "language": "python",
   "name": "python3"
  },
  "language_info": {
   "codemirror_mode": {
    "name": "ipython",
    "version": 3
   },
   "file_extension": ".py",
   "mimetype": "text/x-python",
   "name": "python",
   "nbconvert_exporter": "python",
   "pygments_lexer": "ipython3",
   "version": "3.9.13"
  }
 },
 "nbformat": 4,
 "nbformat_minor": 5
}
