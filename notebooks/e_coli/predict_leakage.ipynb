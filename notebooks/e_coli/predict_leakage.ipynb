{
 "cells": [
  {
   "cell_type": "code",
   "execution_count": 11,
   "id": "99ab8403-5b5d-45e1-8e8a-7408753b374a",
   "metadata": {},
   "outputs": [],
   "source": [
    "import cobra\n",
    "import pandas as pd\n",
    "import re\n",
    "import numpy as np\n",
    "import scipy.stats as st\n",
    "from matplotlib import pyplot as plt\n",
    "from pathlib import Path\n",
    "import sys\n",
    "sys.path.append('../../code/')\n",
    "import leakage"
   ]
  },
  {
   "cell_type": "code",
   "execution_count": 4,
   "id": "59f7f746-bebd-4988-90d8-63b23951c2b4",
   "metadata": {},
   "outputs": [
    {
     "name": "stdout",
     "output_type": "stream",
     "text": [
      "Set parameter Username\n",
      "Academic license - for non-commercial use only - expires 2024-02-26\n"
     ]
    }
   ],
   "source": [
    "model = cobra.io.read_sbml_model('../../models/e_coli/momentiJO1366.xml')\n",
    "model.reactions.DHAPT.knock_out()\n",
    "model.reactions.THRA.knock_out()\n",
    "model.reactions.THRA2.knock_out()\n",
    "model.reactions.F6PA_TG_forward.knock_out()"
   ]
  },
  {
   "cell_type": "code",
   "execution_count": 9,
   "id": "b9abcb96-8a60-4377-9af4-6327908c17cf",
   "metadata": {},
   "outputs": [],
   "source": [
    "met_info_df = pd.read_csv(\"../../data/met_info_curated.csv\", encoding = \"ISO-8859-1\", index_col = 0)"
   ]
  },
  {
   "cell_type": "markdown",
   "id": "1ea187c8-a65c-493d-b65c-796797aa35f7",
   "metadata": {},
   "source": [
    "# Get leakage"
   ]
  },
  {
   "cell_type": "code",
   "execution_count": 12,
   "id": "43885d38-3ae7-4698-b2d3-afbc049a5891",
   "metadata": {},
   "outputs": [],
   "source": [
    "time = 6\n",
    "exometabolites_folder = Path(\"../../data/e_coli/\")\n",
    "leakage_df = leakage.get_leakage(exometabolites_folder, \"ecoli\", time = time, unit = '/gDW')\n",
    "leakage_df.set_index(\"Metabolite\", inplace=True)\n",
    "leakage_df.drop_duplicates(inplace=True)\n",
    "leakage_label = \"Leakage (mM/gDW/h)\""
   ]
  },
  {
   "cell_type": "code",
   "execution_count": 14,
   "id": "c7a60e97-2726-491d-859b-192a00236da0",
   "metadata": {},
   "outputs": [],
   "source": [
    "# Read metabolite mapping\n",
    "mapping_df = pd.read_csv('../../data/e_coli/abbrev_to_id.csv', index_col=0)\n",
    "leakage_df = leakage_df.join(mapping_df)\n"
   ]
  },
  {
   "cell_type": "code",
   "execution_count": 35,
   "id": "f346b1f8-3dab-42e2-b54f-c05ff8ae0856",
   "metadata": {},
   "outputs": [
    {
     "data": {
      "text/html": [
       "<div>\n",
       "<style scoped>\n",
       "    .dataframe tbody tr th:only-of-type {\n",
       "        vertical-align: middle;\n",
       "    }\n",
       "\n",
       "    .dataframe tbody tr th {\n",
       "        vertical-align: top;\n",
       "    }\n",
       "\n",
       "    .dataframe thead th {\n",
       "        text-align: right;\n",
       "    }\n",
       "</style>\n",
       "<table border=\"1\" class=\"dataframe\">\n",
       "  <thead>\n",
       "    <tr style=\"text-align: right;\">\n",
       "      <th></th>\n",
       "      <th>Leakage (mM/gDW/h)</th>\n",
       "      <th>met id</th>\n",
       "    </tr>\n",
       "    <tr>\n",
       "      <th>Metabolite</th>\n",
       "      <th></th>\n",
       "      <th></th>\n",
       "    </tr>\n",
       "  </thead>\n",
       "  <tbody>\n",
       "    <tr>\n",
       "      <th>G6P</th>\n",
       "      <td>2.112709</td>\n",
       "      <td>g6p</td>\n",
       "    </tr>\n",
       "    <tr>\n",
       "      <th>F6P</th>\n",
       "      <td>2.310546</td>\n",
       "      <td>f6p</td>\n",
       "    </tr>\n",
       "    <tr>\n",
       "      <th>FBP</th>\n",
       "      <td>0.022204</td>\n",
       "      <td>fdp</td>\n",
       "    </tr>\n",
       "    <tr>\n",
       "      <th>DHAP</th>\n",
       "      <td>2.581162</td>\n",
       "      <td>dhap</td>\n",
       "    </tr>\n",
       "    <tr>\n",
       "      <th>GA3P</th>\n",
       "      <td>0.396769</td>\n",
       "      <td>g3p</td>\n",
       "    </tr>\n",
       "  </tbody>\n",
       "</table>\n",
       "</div>"
      ],
      "text/plain": [
       "            Leakage (mM/gDW/h) met id\n",
       "Metabolite                           \n",
       "G6P                   2.112709    g6p\n",
       "F6P                   2.310546    f6p\n",
       "FBP                   0.022204    fdp\n",
       "DHAP                  2.581162   dhap\n",
       "GA3P                  0.396769    g3p"
      ]
     },
     "execution_count": 35,
     "metadata": {},
     "output_type": "execute_result"
    }
   ],
   "source": [
    "leakage_df.head()"
   ]
  },
  {
   "cell_type": "code",
   "execution_count": 78,
   "id": "860c5e51-96bf-4f5e-b109-97d98d27bfec",
   "metadata": {},
   "outputs": [],
   "source": [
    "df = pd.merge(met_info_df, leakage_df, left_on = 'Metabolite id', right_on = 'met id')"
   ]
  },
  {
   "cell_type": "code",
   "execution_count": 79,
   "id": "e5bf006b-c954-418a-ab13-1f0bd8161886",
   "metadata": {},
   "outputs": [
    {
     "data": {
      "text/html": [
       "<div>\n",
       "<style scoped>\n",
       "    .dataframe tbody tr th:only-of-type {\n",
       "        vertical-align: middle;\n",
       "    }\n",
       "\n",
       "    .dataframe tbody tr th {\n",
       "        vertical-align: top;\n",
       "    }\n",
       "\n",
       "    .dataframe thead th {\n",
       "        text-align: right;\n",
       "    }\n",
       "</style>\n",
       "<table border=\"1\" class=\"dataframe\">\n",
       "  <thead>\n",
       "    <tr style=\"text-align: right;\">\n",
       "      <th></th>\n",
       "      <th>Metabolite name</th>\n",
       "      <th>Metabolite id</th>\n",
       "      <th>Value</th>\n",
       "      <th>Uncertainty</th>\n",
       "      <th>Mass</th>\n",
       "      <th>Charge</th>\n",
       "      <th>Phosphate</th>\n",
       "      <th>Topological Polar Surface Area [Å]</th>\n",
       "      <th>Concentration</th>\n",
       "      <th>logP</th>\n",
       "      <th>Hydrophobicity index</th>\n",
       "      <th>Shadow price</th>\n",
       "      <th>Turnover</th>\n",
       "      <th>Leakage (mM/gDW/h)</th>\n",
       "      <th>met id</th>\n",
       "    </tr>\n",
       "  </thead>\n",
       "  <tbody>\n",
       "    <tr>\n",
       "      <th>0</th>\n",
       "      <td>Glucose-6-phosphate</td>\n",
       "      <td>g6p</td>\n",
       "      <td>17.65</td>\n",
       "      <td>0.53</td>\n",
       "      <td>258.119901</td>\n",
       "      <td>-2.0</td>\n",
       "      <td>1</td>\n",
       "      <td>165.0</td>\n",
       "      <td>0.003000</td>\n",
       "      <td>NaN</td>\n",
       "      <td>NaN</td>\n",
       "      <td>-0.017544</td>\n",
       "      <td>10.000000</td>\n",
       "      <td>2.112709</td>\n",
       "      <td>g6p</td>\n",
       "    </tr>\n",
       "    <tr>\n",
       "      <th>1</th>\n",
       "      <td>Fructose-6-phosphate</td>\n",
       "      <td>f6p</td>\n",
       "      <td>29.29</td>\n",
       "      <td>0.60</td>\n",
       "      <td>258.119901</td>\n",
       "      <td>-2.0</td>\n",
       "      <td>1</td>\n",
       "      <td>165.0</td>\n",
       "      <td>0.003000</td>\n",
       "      <td>NaN</td>\n",
       "      <td>NaN</td>\n",
       "      <td>-0.017632</td>\n",
       "      <td>2.460728</td>\n",
       "      <td>2.310546</td>\n",
       "      <td>f6p</td>\n",
       "    </tr>\n",
       "    <tr>\n",
       "      <th>2</th>\n",
       "      <td>Fructose-1,6-bisphosphate</td>\n",
       "      <td>fdp</td>\n",
       "      <td>34.21</td>\n",
       "      <td>0.72</td>\n",
       "      <td>336.083922</td>\n",
       "      <td>-4.0</td>\n",
       "      <td>2</td>\n",
       "      <td>215.0</td>\n",
       "      <td>0.015200</td>\n",
       "      <td>NaN</td>\n",
       "      <td>NaN</td>\n",
       "      <td>-0.024706</td>\n",
       "      <td>2.277172</td>\n",
       "      <td>0.022204</td>\n",
       "      <td>fdp</td>\n",
       "    </tr>\n",
       "    <tr>\n",
       "      <th>3</th>\n",
       "      <td>Dihydroxyacetonephosphate</td>\n",
       "      <td>dhap</td>\n",
       "      <td>50.40</td>\n",
       "      <td>1.74</td>\n",
       "      <td>168.041961</td>\n",
       "      <td>-2.0</td>\n",
       "      <td>1</td>\n",
       "      <td>104.0</td>\n",
       "      <td>0.000374</td>\n",
       "      <td>NaN</td>\n",
       "      <td>NaN</td>\n",
       "      <td>-0.014695</td>\n",
       "      <td>2.277172</td>\n",
       "      <td>2.581162</td>\n",
       "      <td>dhap</td>\n",
       "    </tr>\n",
       "    <tr>\n",
       "      <th>4</th>\n",
       "      <td>Glyceraldehyde-3-phosphate</td>\n",
       "      <td>g3p</td>\n",
       "      <td>15.04</td>\n",
       "      <td>0.24</td>\n",
       "      <td>168.041961</td>\n",
       "      <td>-2.0</td>\n",
       "      <td>1</td>\n",
       "      <td>104.0</td>\n",
       "      <td>NaN</td>\n",
       "      <td>NaN</td>\n",
       "      <td>NaN</td>\n",
       "      <td>-0.014699</td>\n",
       "      <td>11.535426</td>\n",
       "      <td>0.396769</td>\n",
       "      <td>g3p</td>\n",
       "    </tr>\n",
       "  </tbody>\n",
       "</table>\n",
       "</div>"
      ],
      "text/plain": [
       "              Metabolite name Metabolite id  Value  Uncertainty        Mass  \\\n",
       "0         Glucose-6-phosphate           g6p  17.65         0.53  258.119901   \n",
       "1        Fructose-6-phosphate           f6p  29.29         0.60  258.119901   \n",
       "2   Fructose-1,6-bisphosphate           fdp  34.21         0.72  336.083922   \n",
       "3   Dihydroxyacetonephosphate          dhap  50.40         1.74  168.041961   \n",
       "4  Glyceraldehyde-3-phosphate           g3p  15.04         0.24  168.041961   \n",
       "\n",
       "   Charge  Phosphate  Topological Polar Surface Area [Å]  Concentration  logP  \\\n",
       "0    -2.0          1                               165.0       0.003000   NaN   \n",
       "1    -2.0          1                               165.0       0.003000   NaN   \n",
       "2    -4.0          2                               215.0       0.015200   NaN   \n",
       "3    -2.0          1                               104.0       0.000374   NaN   \n",
       "4    -2.0          1                               104.0            NaN   NaN   \n",
       "\n",
       "   Hydrophobicity index  Shadow price   Turnover  Leakage (mM/gDW/h) met id  \n",
       "0                   NaN     -0.017544  10.000000            2.112709    g6p  \n",
       "1                   NaN     -0.017632   2.460728            2.310546    f6p  \n",
       "2                   NaN     -0.024706   2.277172            0.022204    fdp  \n",
       "3                   NaN     -0.014695   2.277172            2.581162   dhap  \n",
       "4                   NaN     -0.014699  11.535426            0.396769    g3p  "
      ]
     },
     "execution_count": 79,
     "metadata": {},
     "output_type": "execute_result"
    }
   ],
   "source": [
    "df.head()"
   ]
  },
  {
   "cell_type": "code",
   "execution_count": 80,
   "id": "b3e98c17-de78-4200-bddd-45be1ef01ba3",
   "metadata": {},
   "outputs": [],
   "source": [
    "df.drop(columns=['logP', 'Hydrophobicity index', 'Value', 'Uncertainty', 'met id', 'Topological Polar Surface Area [Å]'], inplace = True)"
   ]
  },
  {
   "cell_type": "markdown",
   "id": "887ccc6e-1333-4185-a622-171fb56707e7",
   "metadata": {},
   "source": [
    "# Get logP values"
   ]
  },
  {
   "cell_type": "code",
   "execution_count": 16,
   "id": "aacc7425-add5-44b5-8e5c-399cd77aa2b5",
   "metadata": {},
   "outputs": [],
   "source": [
    "import pubchempy as pcp"
   ]
  },
  {
   "cell_type": "code",
   "execution_count": 81,
   "id": "a5753dc6-049c-43fe-b2c4-55e840904f2e",
   "metadata": {},
   "outputs": [
    {
     "name": "stdout",
     "output_type": "stream",
     "text": [
      "g6p_c -4.5\n",
      "g6p_c -4.5\n",
      "f6p_c -4.3\n"
     ]
    },
    {
     "name": "stderr",
     "output_type": "stream",
     "text": [
      "/Users/ssulheim/opt/anaconda3/lib/python3.9/site-packages/numpy/core/fromnumeric.py:3440: RuntimeWarning: Mean of empty slice.\n",
      "  return _methods._mean(a, axis=axis, dtype=dtype,\n",
      "/Users/ssulheim/opt/anaconda3/lib/python3.9/site-packages/numpy/core/_methods.py:189: RuntimeWarning: invalid value encountered in double_scalars\n",
      "  ret = ret.dtype.type(ret / rcount)\n"
     ]
    },
    {
     "name": "stdout",
     "output_type": "stream",
     "text": [
      "dhap_c -2.5\n",
      "g3p_c -2.7\n",
      "g3p_c -2.8\n",
      "pep_c -1.1\n",
      "pyr_c -0.6\n",
      "r5p_c -3.6\n",
      "ru5p__D_c -3.7\n",
      "ru5p__L_c -3.7\n",
      "xu5p__D_c -3.7\n",
      "xu5p__L_c -3.7\n",
      "e4p_c -3.3\n",
      "cit_c 0.2\n",
      "acon_C_c -1\n",
      "icit_c -1.8\n",
      "akg_c -0.9\n",
      "fum_c 1\n",
      "fum_c -0.3\n",
      "ala__L_c -3\n",
      "val__L_c -2.3\n",
      "asp__L_c -2.8\n",
      "hom__L_c -4.4\n",
      "thr__L_c -2.9\n",
      "met__L_c -1.9\n",
      "trp__L_c -1.1\n",
      "tyr__L_c -2.3\n",
      "phe__L_c -1.5\n",
      "glu__L_c -3.7\n",
      "pro__L_c -2.5\n",
      "ser__L_c -3.1\n",
      "gly_c -3.2\n",
      "arg__L_c -4.2\n",
      "his__L_c -3.2\n",
      "ac_c 0.4\n",
      "ura_c -1.1\n"
     ]
    }
   ],
   "source": [
    "xlogp_list = []\n",
    "for i, row in df.iterrows():\n",
    "    met_ids = row['Metabolite id'].split(', ')\n",
    "    xlogp_temp_list = []\n",
    "    for m_id in met_ids:\n",
    "        m = model.metabolites.get_by_id('{0}_c'.format(m_id))\n",
    "        result = pcp.get_compounds(m.name, 'name')\n",
    "        for r in result:\n",
    "            print(m.id, r.xlogp)\n",
    "            xlogp_temp_list.append(r.xlogp)\n",
    "    xlogp_list.append(np.mean(xlogp_temp_list))"
   ]
  },
  {
   "cell_type": "code",
   "execution_count": 82,
   "id": "d0b0dcdc-e30e-42c9-970c-44d218935864",
   "metadata": {},
   "outputs": [
    {
     "data": {
      "text/plain": [
       "[-4.5,\n",
       " -4.3,\n",
       " nan,\n",
       " -2.5,\n",
       " -2.75,\n",
       " -1.1,\n",
       " -0.6,\n",
       " -3.6,\n",
       " -3.7,\n",
       " -3.3,\n",
       " 0.2,\n",
       " -1.0,\n",
       " -1.8,\n",
       " -0.9,\n",
       " 0.35,\n",
       " -3.0,\n",
       " -2.3,\n",
       " -2.8,\n",
       " -4.4,\n",
       " -2.9,\n",
       " -1.9,\n",
       " -1.1,\n",
       " -2.3,\n",
       " -1.5,\n",
       " -3.7,\n",
       " -2.5,\n",
       " -3.1,\n",
       " -3.2,\n",
       " -4.2,\n",
       " -3.2,\n",
       " 0.4,\n",
       " nan,\n",
       " -1.1]"
      ]
     },
     "execution_count": 82,
     "metadata": {},
     "output_type": "execute_result"
    }
   ],
   "source": [
    "xlogp_list"
   ]
  },
  {
   "cell_type": "code",
   "execution_count": 83,
   "id": "c770e9cf-53f7-4bd7-9a7a-6b89a895f062",
   "metadata": {},
   "outputs": [],
   "source": [
    "df['log P'] = xlogp_list"
   ]
  },
  {
   "cell_type": "code",
   "execution_count": 85,
   "id": "21351541-036a-43c7-8561-9a85ef891ba0",
   "metadata": {},
   "outputs": [],
   "source": [
    "df.loc[df['Metabolite id']=='fdp', 'log P'] = -5.9# https://pubchem.ncbi.nlm.nih.gov/compound/Fructose-1_6-bisphosphate#section=Computed-Properties\n",
    "df.loc[df['Metabolite id']=='orot', 'log P'] = -0.8#https://pubchem.ncbi.nlm.nih.gov/compound/1492348#section=Chemical-and-Physical-Properties"
   ]
  },
  {
   "cell_type": "markdown",
   "id": "f6463fe1-7250-4232-99fd-988032d8606c",
   "metadata": {},
   "source": [
    "# Get shadow prices and turnover flux"
   ]
  },
  {
   "cell_type": "code",
   "execution_count": 86,
   "id": "8be7f384-3a20-4c23-a298-949e09357563",
   "metadata": {},
   "outputs": [],
   "source": [
    "def get_turnover_flux(m, solution):\n",
    "    total_flux = 0\n",
    "    for r in m.reactions:\n",
    "        flux_r = solution.fluxes[r.id]*r.get_coefficient(m_id)\n",
    "        if flux_r > 0:\n",
    "            total_flux += flux_r\n",
    "    return total_flux\n"
   ]
  },
  {
   "cell_type": "code",
   "execution_count": 62,
   "id": "fc2dcb09-f086-4f66-b5e0-b68d90280853",
   "metadata": {},
   "outputs": [],
   "source": [
    "#sp = solution.shadow_prices\n",
    "all_shadow_prices = leakage.estimate_shadow_prices(model, delta=0.01)"
   ]
  },
  {
   "cell_type": "code",
   "execution_count": 107,
   "id": "34b332e9-5421-44e4-88c2-173bd971265a",
   "metadata": {},
   "outputs": [],
   "source": [
    "# FBA\n",
    "# I choose glucose uptake so low that there is no overflow metabolism\n",
    "glucose_uptake = 10\n",
    "model.reactions.EX_glc__D_e.lower_bound = -glucose_uptake\n",
    "solution = model.optimize()\n",
    "\n",
    "turnover = {}\n",
    "shadow_prices = {}\n",
    "for i, row in df.iterrows():\n",
    "    m_text = row[\"Metabolite id\"]\n",
    "    try:\n",
    "        keys = m_text.split(\",\")\n",
    "    except:\n",
    "        print(m_text)\n",
    "        continue\n",
    "    sp_list = []\n",
    "    turnover_list = []\n",
    "    for key in keys:\n",
    "        m_id = \"{0}_c\".format(key.strip())\n",
    "        m = model.metabolites.get_by_id(m_id)\n",
    "        sp_list.append(all_shadow_prices[m.id])\n",
    "        turnover_list.append(get_turnover_flux(m, solution))\n",
    "    shadow_prices[i] = np.nanmean(sp_list)\n",
    "    turnover[i] = np.mean(turnover_list)"
   ]
  },
  {
   "cell_type": "code",
   "execution_count": 108,
   "id": "354d2cd6-a180-45cd-b673-4242c68778db",
   "metadata": {},
   "outputs": [
    {
     "data": {
      "text/plain": [
       "{0: -0.017543793138197206,\n",
       " 1: -0.017632289708258142,\n",
       " 2: -0.024705658537049757,\n",
       " 3: -0.014695471423087358,\n",
       " 4: -0.014699159287157038,\n",
       " 5: -0.010588820636914242,\n",
       " 6: -0.004273048291925097,\n",
       " 7: -0.017209209894908373,\n",
       " 8: -0.01714945324993537,\n",
       " 9: -0.016153374804617204,\n",
       " 10: -0.016386147376246107,\n",
       " 11: -0.0172673257966105,\n",
       " 12: -0.018148504217152528,\n",
       " 14: -0.012332913416523983,\n",
       " 15: -0.008157997084567992,\n",
       " 16: -0.08202055347327208,\n",
       " 17: -0.013386557957095757,\n",
       " 18: -0.028681518661288763,\n",
       " 19: -0.037871551269075265,\n",
       " 20: -0.27290646407210906,\n",
       " 21: -0.20387805775012868,\n",
       " 22: -0.0565279633625404,\n",
       " 23: -0.056438291073956925,\n",
       " 24: -0.01842738561101953,\n",
       " 25: -0.028113133890128594,\n",
       " 26: -0.07190642340525466,\n",
       " 27: -0.10644863653568315,\n",
       " 28: -0.10986854166281645,\n",
       " 29: -0.15542805340692523,\n",
       " 30: -0.0003658776720039114,\n",
       " 31: -0.01995349824807091}"
      ]
     },
     "execution_count": 108,
     "metadata": {},
     "output_type": "execute_result"
    }
   ],
   "source": [
    "shadow_prices"
   ]
  },
  {
   "cell_type": "code",
   "execution_count": 88,
   "id": "4288129c-3cc2-462e-9d45-65a47f69e3b5",
   "metadata": {},
   "outputs": [],
   "source": [
    "# # With glucose uptake = 3, there is a small flux \"inconcistency\" with accoa, gicing a positive shadow price\n",
    "# with model:\n",
    "#     model.add_boundary(model.metabolites.accoa_c, \"demand\")\n",
    "#     model.optimize()\n",
    "#     print(model.summary())"
   ]
  },
  {
   "cell_type": "code",
   "execution_count": 109,
   "id": "ca6623c8-7a9b-4363-b4df-76b811716d0f",
   "metadata": {},
   "outputs": [
    {
     "name": "stderr",
     "output_type": "stream",
     "text": [
      "/var/folders/h6/4b_zz_cd5d92w2ycp017ytn00000gp/T/ipykernel_13142/4098696825.py:1: SettingWithCopyWarning: \n",
      "A value is trying to be set on a copy of a slice from a DataFrame.\n",
      "Try using .loc[row_indexer,col_indexer] = value instead\n",
      "\n",
      "See the caveats in the documentation: https://pandas.pydata.org/pandas-docs/stable/user_guide/indexing.html#returning-a-view-versus-a-copy\n",
      "  df[\"Shadow price\"] = pd.Series(shadow_prices)\n",
      "/var/folders/h6/4b_zz_cd5d92w2ycp017ytn00000gp/T/ipykernel_13142/4098696825.py:2: SettingWithCopyWarning: \n",
      "A value is trying to be set on a copy of a slice from a DataFrame.\n",
      "Try using .loc[row_indexer,col_indexer] = value instead\n",
      "\n",
      "See the caveats in the documentation: https://pandas.pydata.org/pandas-docs/stable/user_guide/indexing.html#returning-a-view-versus-a-copy\n",
      "  df[\"Turnover\"] = pd.Series(turnover)\n"
     ]
    }
   ],
   "source": [
    "df[\"Shadow price\"] = pd.Series(shadow_prices)\n",
    "df[\"Turnover\"] = pd.Series(turnover)"
   ]
  },
  {
   "cell_type": "code",
   "execution_count": 110,
   "id": "ef8f77cb-a720-49f3-9fa8-302e0db9d480",
   "metadata": {},
   "outputs": [
    {
     "data": {
      "text/html": [
       "<div>\n",
       "<style scoped>\n",
       "    .dataframe tbody tr th:only-of-type {\n",
       "        vertical-align: middle;\n",
       "    }\n",
       "\n",
       "    .dataframe tbody tr th {\n",
       "        vertical-align: top;\n",
       "    }\n",
       "\n",
       "    .dataframe thead th {\n",
       "        text-align: right;\n",
       "    }\n",
       "</style>\n",
       "<table border=\"1\" class=\"dataframe\">\n",
       "  <thead>\n",
       "    <tr style=\"text-align: right;\">\n",
       "      <th></th>\n",
       "      <th>Metabolite name</th>\n",
       "      <th>Metabolite id</th>\n",
       "      <th>Mass</th>\n",
       "      <th>Charge</th>\n",
       "      <th>Phosphate</th>\n",
       "      <th>Concentration</th>\n",
       "      <th>Shadow price</th>\n",
       "      <th>Turnover</th>\n",
       "      <th>Leakage (mM/gDW/h)</th>\n",
       "      <th>log P</th>\n",
       "      <th>log10_value</th>\n",
       "      <th>log10_sp</th>\n",
       "      <th>log10_conc</th>\n",
       "    </tr>\n",
       "  </thead>\n",
       "  <tbody>\n",
       "    <tr>\n",
       "      <th>0</th>\n",
       "      <td>Glucose-6-phosphate</td>\n",
       "      <td>g6p</td>\n",
       "      <td>258.119901</td>\n",
       "      <td>-2.0</td>\n",
       "      <td>1</td>\n",
       "      <td>0.003000</td>\n",
       "      <td>-0.017544</td>\n",
       "      <td>10.000000</td>\n",
       "      <td>2.112709</td>\n",
       "      <td>-4.50</td>\n",
       "      <td>0.324840</td>\n",
       "      <td>-1.755877</td>\n",
       "      <td>2.522879</td>\n",
       "    </tr>\n",
       "    <tr>\n",
       "      <th>1</th>\n",
       "      <td>Fructose-6-phosphate</td>\n",
       "      <td>f6p</td>\n",
       "      <td>258.119901</td>\n",
       "      <td>-2.0</td>\n",
       "      <td>1</td>\n",
       "      <td>0.003000</td>\n",
       "      <td>-0.017632</td>\n",
       "      <td>2.460728</td>\n",
       "      <td>2.310546</td>\n",
       "      <td>-4.30</td>\n",
       "      <td>0.363715</td>\n",
       "      <td>-1.753691</td>\n",
       "      <td>2.522879</td>\n",
       "    </tr>\n",
       "    <tr>\n",
       "      <th>2</th>\n",
       "      <td>Fructose-1,6-bisphosphate</td>\n",
       "      <td>fdp</td>\n",
       "      <td>336.083922</td>\n",
       "      <td>-4.0</td>\n",
       "      <td>2</td>\n",
       "      <td>0.015200</td>\n",
       "      <td>-0.024706</td>\n",
       "      <td>2.277172</td>\n",
       "      <td>0.022204</td>\n",
       "      <td>-5.90</td>\n",
       "      <td>-1.653572</td>\n",
       "      <td>-1.607204</td>\n",
       "      <td>1.818156</td>\n",
       "    </tr>\n",
       "    <tr>\n",
       "      <th>3</th>\n",
       "      <td>Dihydroxyacetonephosphate</td>\n",
       "      <td>dhap</td>\n",
       "      <td>168.041961</td>\n",
       "      <td>-2.0</td>\n",
       "      <td>1</td>\n",
       "      <td>0.000374</td>\n",
       "      <td>-0.014695</td>\n",
       "      <td>2.277172</td>\n",
       "      <td>2.581162</td>\n",
       "      <td>-2.50</td>\n",
       "      <td>0.411815</td>\n",
       "      <td>-1.832816</td>\n",
       "      <td>3.427128</td>\n",
       "    </tr>\n",
       "    <tr>\n",
       "      <th>4</th>\n",
       "      <td>Glyceraldehyde-3-phosphate</td>\n",
       "      <td>g3p</td>\n",
       "      <td>168.041961</td>\n",
       "      <td>-2.0</td>\n",
       "      <td>1</td>\n",
       "      <td>0.005803</td>\n",
       "      <td>-0.014699</td>\n",
       "      <td>11.535426</td>\n",
       "      <td>0.396769</td>\n",
       "      <td>-2.75</td>\n",
       "      <td>-0.401462</td>\n",
       "      <td>-1.832708</td>\n",
       "      <td>2.236338</td>\n",
       "    </tr>\n",
       "    <tr>\n",
       "      <th>5</th>\n",
       "      <td>Phosphoenolpyruvate</td>\n",
       "      <td>pep</td>\n",
       "      <td>165.018141</td>\n",
       "      <td>-3.0</td>\n",
       "      <td>1</td>\n",
       "      <td>0.000184</td>\n",
       "      <td>-0.010589</td>\n",
       "      <td>10.217296</td>\n",
       "      <td>0.311559</td>\n",
       "      <td>-1.10</td>\n",
       "      <td>-0.506460</td>\n",
       "      <td>-1.975152</td>\n",
       "      <td>3.735182</td>\n",
       "    </tr>\n",
       "    <tr>\n",
       "      <th>6</th>\n",
       "      <td>Pyruvate</td>\n",
       "      <td>pyr</td>\n",
       "      <td>87.054120</td>\n",
       "      <td>-1.0</td>\n",
       "      <td>0</td>\n",
       "      <td>0.005803</td>\n",
       "      <td>-0.004273</td>\n",
       "      <td>17.005051</td>\n",
       "      <td>571.725346</td>\n",
       "      <td>-0.60</td>\n",
       "      <td>2.757187</td>\n",
       "      <td>-2.369262</td>\n",
       "      <td>2.236338</td>\n",
       "    </tr>\n",
       "    <tr>\n",
       "      <th>7</th>\n",
       "      <td>Ribose-5-phosphate</td>\n",
       "      <td>r5p</td>\n",
       "      <td>228.093921</td>\n",
       "      <td>-2.0</td>\n",
       "      <td>1</td>\n",
       "      <td>0.000450</td>\n",
       "      <td>-0.017209</td>\n",
       "      <td>0.723669</td>\n",
       "      <td>0.450142</td>\n",
       "      <td>-3.60</td>\n",
       "      <td>-0.346650</td>\n",
       "      <td>-1.764239</td>\n",
       "      <td>3.346787</td>\n",
       "    </tr>\n",
       "    <tr>\n",
       "      <th>8</th>\n",
       "      <td>Ribu-/Xylulose-5-phosphate</td>\n",
       "      <td>ru5p__D, ru5p__L, xu5p__D, xu5p__L</td>\n",
       "      <td>228.093921</td>\n",
       "      <td>-2.0</td>\n",
       "      <td>1</td>\n",
       "      <td>0.000900</td>\n",
       "      <td>-0.017149</td>\n",
       "      <td>0.218006</td>\n",
       "      <td>0.231484</td>\n",
       "      <td>-3.70</td>\n",
       "      <td>-0.635479</td>\n",
       "      <td>NaN</td>\n",
       "      <td>3.045757</td>\n",
       "    </tr>\n",
       "    <tr>\n",
       "      <th>9</th>\n",
       "      <td>Erythrose-4-phosphate</td>\n",
       "      <td>e4p</td>\n",
       "      <td>198.067941</td>\n",
       "      <td>-2.0</td>\n",
       "      <td>1</td>\n",
       "      <td>0.005803</td>\n",
       "      <td>-0.016153</td>\n",
       "      <td>0.245469</td>\n",
       "      <td>0.086179</td>\n",
       "      <td>-3.30</td>\n",
       "      <td>-1.064598</td>\n",
       "      <td>-1.791737</td>\n",
       "      <td>2.236338</td>\n",
       "    </tr>\n",
       "    <tr>\n",
       "      <th>10</th>\n",
       "      <td>Citrate</td>\n",
       "      <td>cit</td>\n",
       "      <td>189.099700</td>\n",
       "      <td>-3.0</td>\n",
       "      <td>0</td>\n",
       "      <td>0.001960</td>\n",
       "      <td>-0.016386</td>\n",
       "      <td>3.453065</td>\n",
       "      <td>7.709518</td>\n",
       "      <td>0.20</td>\n",
       "      <td>0.887027</td>\n",
       "      <td>-1.785523</td>\n",
       "      <td>2.707744</td>\n",
       "    </tr>\n",
       "    <tr>\n",
       "      <th>11</th>\n",
       "      <td>Cis-aconitate</td>\n",
       "      <td>acon_C</td>\n",
       "      <td>171.084420</td>\n",
       "      <td>-3.0</td>\n",
       "      <td>0</td>\n",
       "      <td>0.000016</td>\n",
       "      <td>-0.017267</td>\n",
       "      <td>3.453065</td>\n",
       "      <td>0.986739</td>\n",
       "      <td>-1.00</td>\n",
       "      <td>-0.005798</td>\n",
       "      <td>-1.762775</td>\n",
       "      <td>4.793174</td>\n",
       "    </tr>\n",
       "    <tr>\n",
       "      <th>12</th>\n",
       "      <td>Isocitrate</td>\n",
       "      <td>icit</td>\n",
       "      <td>189.099700</td>\n",
       "      <td>-3.0</td>\n",
       "      <td>0</td>\n",
       "      <td>0.005803</td>\n",
       "      <td>-0.018149</td>\n",
       "      <td>3.453065</td>\n",
       "      <td>1.671969</td>\n",
       "      <td>-1.80</td>\n",
       "      <td>0.223228</td>\n",
       "      <td>-1.741159</td>\n",
       "      <td>2.236338</td>\n",
       "    </tr>\n",
       "    <tr>\n",
       "      <th>14</th>\n",
       "      <td>Fumarate</td>\n",
       "      <td>fum</td>\n",
       "      <td>114.056280</td>\n",
       "      <td>-2.0</td>\n",
       "      <td>0</td>\n",
       "      <td>0.000115</td>\n",
       "      <td>-0.012333</td>\n",
       "      <td>3.432673</td>\n",
       "      <td>0.475872</td>\n",
       "      <td>0.35</td>\n",
       "      <td>-0.322510</td>\n",
       "      <td>-1.908934</td>\n",
       "      <td>3.939302</td>\n",
       "    </tr>\n",
       "    <tr>\n",
       "      <th>15</th>\n",
       "      <td>Alanine</td>\n",
       "      <td>ala__L</td>\n",
       "      <td>89.093180</td>\n",
       "      <td>0.0</td>\n",
       "      <td>0</td>\n",
       "      <td>0.002550</td>\n",
       "      <td>-0.008158</td>\n",
       "      <td>0.651119</td>\n",
       "      <td>0.117489</td>\n",
       "      <td>-3.00</td>\n",
       "      <td>-0.930002</td>\n",
       "      <td>-2.088416</td>\n",
       "      <td>2.593460</td>\n",
       "    </tr>\n",
       "    <tr>\n",
       "      <th>16</th>\n",
       "      <td>Valine</td>\n",
       "      <td>val__L</td>\n",
       "      <td>117.146340</td>\n",
       "      <td>0.0</td>\n",
       "      <td>0</td>\n",
       "      <td>0.004020</td>\n",
       "      <td>-0.082021</td>\n",
       "      <td>0.272389</td>\n",
       "      <td>0.052559</td>\n",
       "      <td>-2.30</td>\n",
       "      <td>-1.279355</td>\n",
       "      <td>-1.086077</td>\n",
       "      <td>2.395774</td>\n",
       "    </tr>\n",
       "    <tr>\n",
       "      <th>17</th>\n",
       "      <td>Aspartate</td>\n",
       "      <td>asp__L</td>\n",
       "      <td>132.094740</td>\n",
       "      <td>-1.0</td>\n",
       "      <td>0</td>\n",
       "      <td>0.004230</td>\n",
       "      <td>-0.013387</td>\n",
       "      <td>1.884542</td>\n",
       "      <td>0.046344</td>\n",
       "      <td>-2.80</td>\n",
       "      <td>-1.334002</td>\n",
       "      <td>-1.873331</td>\n",
       "      <td>2.373660</td>\n",
       "    </tr>\n",
       "    <tr>\n",
       "      <th>18</th>\n",
       "      <td>Homoserine</td>\n",
       "      <td>hom__L</td>\n",
       "      <td>119.119160</td>\n",
       "      <td>0.0</td>\n",
       "      <td>0</td>\n",
       "      <td>0.005803</td>\n",
       "      <td>-0.028682</td>\n",
       "      <td>0.449383</td>\n",
       "      <td>0.175586</td>\n",
       "      <td>-4.40</td>\n",
       "      <td>-0.755509</td>\n",
       "      <td>-1.542398</td>\n",
       "      <td>2.236338</td>\n",
       "    </tr>\n",
       "    <tr>\n",
       "      <th>19</th>\n",
       "      <td>Threonine</td>\n",
       "      <td>thr__L</td>\n",
       "      <td>119.119160</td>\n",
       "      <td>0.0</td>\n",
       "      <td>0</td>\n",
       "      <td>0.000179</td>\n",
       "      <td>-0.037872</td>\n",
       "      <td>0.350311</td>\n",
       "      <td>0.187123</td>\n",
       "      <td>-2.90</td>\n",
       "      <td>-0.727872</td>\n",
       "      <td>-1.421687</td>\n",
       "      <td>3.747147</td>\n",
       "    </tr>\n",
       "    <tr>\n",
       "      <th>20</th>\n",
       "      <td>Methionine</td>\n",
       "      <td>met__L</td>\n",
       "      <td>149.211340</td>\n",
       "      <td>0.0</td>\n",
       "      <td>0</td>\n",
       "      <td>0.000145</td>\n",
       "      <td>-0.272906</td>\n",
       "      <td>0.099505</td>\n",
       "      <td>0.020650</td>\n",
       "      <td>-1.90</td>\n",
       "      <td>-1.685078</td>\n",
       "      <td>-0.563986</td>\n",
       "      <td>3.838632</td>\n",
       "    </tr>\n",
       "    <tr>\n",
       "      <th>21</th>\n",
       "      <td>Tryptophane</td>\n",
       "      <td>trp__L</td>\n",
       "      <td>204.225180</td>\n",
       "      <td>0.0</td>\n",
       "      <td>0</td>\n",
       "      <td>0.000012</td>\n",
       "      <td>-0.203878</td>\n",
       "      <td>0.036590</td>\n",
       "      <td>0.009326</td>\n",
       "      <td>-1.10</td>\n",
       "      <td>-2.030287</td>\n",
       "      <td>-0.690630</td>\n",
       "      <td>4.917215</td>\n",
       "    </tr>\n",
       "    <tr>\n",
       "      <th>22</th>\n",
       "      <td>Tyrosine</td>\n",
       "      <td>tyr__L</td>\n",
       "      <td>181.188540</td>\n",
       "      <td>0.0</td>\n",
       "      <td>0</td>\n",
       "      <td>0.000029</td>\n",
       "      <td>-0.056528</td>\n",
       "      <td>0.088907</td>\n",
       "      <td>0.009529</td>\n",
       "      <td>-2.30</td>\n",
       "      <td>-2.020935</td>\n",
       "      <td>-1.247737</td>\n",
       "      <td>4.539102</td>\n",
       "    </tr>\n",
       "    <tr>\n",
       "      <th>23</th>\n",
       "      <td>Phenylalanine</td>\n",
       "      <td>phe__L</td>\n",
       "      <td>165.189140</td>\n",
       "      <td>0.0</td>\n",
       "      <td>0</td>\n",
       "      <td>0.000018</td>\n",
       "      <td>-0.056438</td>\n",
       "      <td>0.119255</td>\n",
       "      <td>0.010499</td>\n",
       "      <td>-1.50</td>\n",
       "      <td>-1.978841</td>\n",
       "      <td>-1.248426</td>\n",
       "      <td>4.739929</td>\n",
       "    </tr>\n",
       "    <tr>\n",
       "      <th>24</th>\n",
       "      <td>Glutamate</td>\n",
       "      <td>glu__L</td>\n",
       "      <td>146.121320</td>\n",
       "      <td>-1.0</td>\n",
       "      <td>0</td>\n",
       "      <td>0.096000</td>\n",
       "      <td>-0.018427</td>\n",
       "      <td>6.465663</td>\n",
       "      <td>2.059369</td>\n",
       "      <td>-3.70</td>\n",
       "      <td>0.313734</td>\n",
       "      <td>-1.734536</td>\n",
       "      <td>1.017729</td>\n",
       "    </tr>\n",
       "    <tr>\n",
       "      <th>25</th>\n",
       "      <td>Proline</td>\n",
       "      <td>pro__L</td>\n",
       "      <td>115.130460</td>\n",
       "      <td>0.0</td>\n",
       "      <td>0</td>\n",
       "      <td>0.000385</td>\n",
       "      <td>-0.028113</td>\n",
       "      <td>0.142293</td>\n",
       "      <td>0.025034</td>\n",
       "      <td>-2.50</td>\n",
       "      <td>-1.601475</td>\n",
       "      <td>-1.551091</td>\n",
       "      <td>3.414539</td>\n",
       "    </tr>\n",
       "    <tr>\n",
       "      <th>26</th>\n",
       "      <td>Serine</td>\n",
       "      <td>ser__L</td>\n",
       "      <td>105.092580</td>\n",
       "      <td>0.0</td>\n",
       "      <td>0</td>\n",
       "      <td>0.000068</td>\n",
       "      <td>-0.071906</td>\n",
       "      <td>1.070836</td>\n",
       "      <td>0.016474</td>\n",
       "      <td>-3.10</td>\n",
       "      <td>-1.783207</td>\n",
       "      <td>-1.143232</td>\n",
       "      <td>4.167491</td>\n",
       "    </tr>\n",
       "    <tr>\n",
       "      <th>27</th>\n",
       "      <td>Glycine</td>\n",
       "      <td>gly</td>\n",
       "      <td>75.066600</td>\n",
       "      <td>0.0</td>\n",
       "      <td>0</td>\n",
       "      <td>0.005803</td>\n",
       "      <td>-0.106449</td>\n",
       "      <td>0.682884</td>\n",
       "      <td>0.016418</td>\n",
       "      <td>-3.20</td>\n",
       "      <td>-1.784681</td>\n",
       "      <td>-0.972860</td>\n",
       "      <td>2.236338</td>\n",
       "    </tr>\n",
       "    <tr>\n",
       "      <th>28</th>\n",
       "      <td>Arginine</td>\n",
       "      <td>arg__L</td>\n",
       "      <td>175.208900</td>\n",
       "      <td>1.0</td>\n",
       "      <td>0</td>\n",
       "      <td>0.000569</td>\n",
       "      <td>-0.109869</td>\n",
       "      <td>0.190401</td>\n",
       "      <td>1.370069</td>\n",
       "      <td>-4.20</td>\n",
       "      <td>0.136743</td>\n",
       "      <td>-0.959127</td>\n",
       "      <td>3.244888</td>\n",
       "    </tr>\n",
       "    <tr>\n",
       "      <th>29</th>\n",
       "      <td>Histidine</td>\n",
       "      <td>his__L</td>\n",
       "      <td>155.154560</td>\n",
       "      <td>0.0</td>\n",
       "      <td>0</td>\n",
       "      <td>0.000068</td>\n",
       "      <td>-0.155428</td>\n",
       "      <td>0.060983</td>\n",
       "      <td>0.366872</td>\n",
       "      <td>-3.20</td>\n",
       "      <td>-0.435485</td>\n",
       "      <td>-0.808471</td>\n",
       "      <td>4.170053</td>\n",
       "    </tr>\n",
       "    <tr>\n",
       "      <th>30</th>\n",
       "      <td>Acetate</td>\n",
       "      <td>ac</td>\n",
       "      <td>59.044020</td>\n",
       "      <td>-1.0</td>\n",
       "      <td>0</td>\n",
       "      <td>0.005803</td>\n",
       "      <td>-0.000366</td>\n",
       "      <td>7.301955</td>\n",
       "      <td>846.145662</td>\n",
       "      <td>0.40</td>\n",
       "      <td>2.927445</td>\n",
       "      <td>-3.436664</td>\n",
       "      <td>2.236338</td>\n",
       "    </tr>\n",
       "    <tr>\n",
       "      <th>31</th>\n",
       "      <td>Orotate</td>\n",
       "      <td>orot</td>\n",
       "      <td>155.088320</td>\n",
       "      <td>-1.0</td>\n",
       "      <td>0</td>\n",
       "      <td>0.005803</td>\n",
       "      <td>-0.019953</td>\n",
       "      <td>0.212932</td>\n",
       "      <td>91.265161</td>\n",
       "      <td>-0.80</td>\n",
       "      <td>1.960305</td>\n",
       "      <td>-1.699981</td>\n",
       "      <td>2.236338</td>\n",
       "    </tr>\n",
       "  </tbody>\n",
       "</table>\n",
       "</div>"
      ],
      "text/plain": [
       "               Metabolite name                       Metabolite id  \\\n",
       "0          Glucose-6-phosphate                                 g6p   \n",
       "1         Fructose-6-phosphate                                 f6p   \n",
       "2    Fructose-1,6-bisphosphate                                 fdp   \n",
       "3    Dihydroxyacetonephosphate                                dhap   \n",
       "4   Glyceraldehyde-3-phosphate                                 g3p   \n",
       "5          Phosphoenolpyruvate                                 pep   \n",
       "6                     Pyruvate                                 pyr   \n",
       "7           Ribose-5-phosphate                                 r5p   \n",
       "8   Ribu-/Xylulose-5-phosphate  ru5p__D, ru5p__L, xu5p__D, xu5p__L   \n",
       "9        Erythrose-4-phosphate                                 e4p   \n",
       "10                     Citrate                                 cit   \n",
       "11               Cis-aconitate                              acon_C   \n",
       "12                  Isocitrate                                icit   \n",
       "14                    Fumarate                                 fum   \n",
       "15                     Alanine                              ala__L   \n",
       "16                      Valine                              val__L   \n",
       "17                   Aspartate                              asp__L   \n",
       "18                  Homoserine                              hom__L   \n",
       "19                   Threonine                              thr__L   \n",
       "20                  Methionine                              met__L   \n",
       "21                 Tryptophane                              trp__L   \n",
       "22                    Tyrosine                              tyr__L   \n",
       "23               Phenylalanine                              phe__L   \n",
       "24                   Glutamate                              glu__L   \n",
       "25                     Proline                              pro__L   \n",
       "26                      Serine                              ser__L   \n",
       "27                     Glycine                                 gly   \n",
       "28                    Arginine                              arg__L   \n",
       "29                   Histidine                              his__L   \n",
       "30                     Acetate                                  ac   \n",
       "31                     Orotate                                orot   \n",
       "\n",
       "          Mass  Charge  Phosphate  Concentration  Shadow price   Turnover  \\\n",
       "0   258.119901    -2.0          1       0.003000     -0.017544  10.000000   \n",
       "1   258.119901    -2.0          1       0.003000     -0.017632   2.460728   \n",
       "2   336.083922    -4.0          2       0.015200     -0.024706   2.277172   \n",
       "3   168.041961    -2.0          1       0.000374     -0.014695   2.277172   \n",
       "4   168.041961    -2.0          1       0.005803     -0.014699  11.535426   \n",
       "5   165.018141    -3.0          1       0.000184     -0.010589  10.217296   \n",
       "6    87.054120    -1.0          0       0.005803     -0.004273  17.005051   \n",
       "7   228.093921    -2.0          1       0.000450     -0.017209   0.723669   \n",
       "8   228.093921    -2.0          1       0.000900     -0.017149   0.218006   \n",
       "9   198.067941    -2.0          1       0.005803     -0.016153   0.245469   \n",
       "10  189.099700    -3.0          0       0.001960     -0.016386   3.453065   \n",
       "11  171.084420    -3.0          0       0.000016     -0.017267   3.453065   \n",
       "12  189.099700    -3.0          0       0.005803     -0.018149   3.453065   \n",
       "14  114.056280    -2.0          0       0.000115     -0.012333   3.432673   \n",
       "15   89.093180     0.0          0       0.002550     -0.008158   0.651119   \n",
       "16  117.146340     0.0          0       0.004020     -0.082021   0.272389   \n",
       "17  132.094740    -1.0          0       0.004230     -0.013387   1.884542   \n",
       "18  119.119160     0.0          0       0.005803     -0.028682   0.449383   \n",
       "19  119.119160     0.0          0       0.000179     -0.037872   0.350311   \n",
       "20  149.211340     0.0          0       0.000145     -0.272906   0.099505   \n",
       "21  204.225180     0.0          0       0.000012     -0.203878   0.036590   \n",
       "22  181.188540     0.0          0       0.000029     -0.056528   0.088907   \n",
       "23  165.189140     0.0          0       0.000018     -0.056438   0.119255   \n",
       "24  146.121320    -1.0          0       0.096000     -0.018427   6.465663   \n",
       "25  115.130460     0.0          0       0.000385     -0.028113   0.142293   \n",
       "26  105.092580     0.0          0       0.000068     -0.071906   1.070836   \n",
       "27   75.066600     0.0          0       0.005803     -0.106449   0.682884   \n",
       "28  175.208900     1.0          0       0.000569     -0.109869   0.190401   \n",
       "29  155.154560     0.0          0       0.000068     -0.155428   0.060983   \n",
       "30   59.044020    -1.0          0       0.005803     -0.000366   7.301955   \n",
       "31  155.088320    -1.0          0       0.005803     -0.019953   0.212932   \n",
       "\n",
       "    Leakage (mM/gDW/h)  log P  log10_value  log10_sp  log10_conc  \n",
       "0             2.112709  -4.50     0.324840 -1.755877    2.522879  \n",
       "1             2.310546  -4.30     0.363715 -1.753691    2.522879  \n",
       "2             0.022204  -5.90    -1.653572 -1.607204    1.818156  \n",
       "3             2.581162  -2.50     0.411815 -1.832816    3.427128  \n",
       "4             0.396769  -2.75    -0.401462 -1.832708    2.236338  \n",
       "5             0.311559  -1.10    -0.506460 -1.975152    3.735182  \n",
       "6           571.725346  -0.60     2.757187 -2.369262    2.236338  \n",
       "7             0.450142  -3.60    -0.346650 -1.764239    3.346787  \n",
       "8             0.231484  -3.70    -0.635479       NaN    3.045757  \n",
       "9             0.086179  -3.30    -1.064598 -1.791737    2.236338  \n",
       "10            7.709518   0.20     0.887027 -1.785523    2.707744  \n",
       "11            0.986739  -1.00    -0.005798 -1.762775    4.793174  \n",
       "12            1.671969  -1.80     0.223228 -1.741159    2.236338  \n",
       "14            0.475872   0.35    -0.322510 -1.908934    3.939302  \n",
       "15            0.117489  -3.00    -0.930002 -2.088416    2.593460  \n",
       "16            0.052559  -2.30    -1.279355 -1.086077    2.395774  \n",
       "17            0.046344  -2.80    -1.334002 -1.873331    2.373660  \n",
       "18            0.175586  -4.40    -0.755509 -1.542398    2.236338  \n",
       "19            0.187123  -2.90    -0.727872 -1.421687    3.747147  \n",
       "20            0.020650  -1.90    -1.685078 -0.563986    3.838632  \n",
       "21            0.009326  -1.10    -2.030287 -0.690630    4.917215  \n",
       "22            0.009529  -2.30    -2.020935 -1.247737    4.539102  \n",
       "23            0.010499  -1.50    -1.978841 -1.248426    4.739929  \n",
       "24            2.059369  -3.70     0.313734 -1.734536    1.017729  \n",
       "25            0.025034  -2.50    -1.601475 -1.551091    3.414539  \n",
       "26            0.016474  -3.10    -1.783207 -1.143232    4.167491  \n",
       "27            0.016418  -3.20    -1.784681 -0.972860    2.236338  \n",
       "28            1.370069  -4.20     0.136743 -0.959127    3.244888  \n",
       "29            0.366872  -3.20    -0.435485 -0.808471    4.170053  \n",
       "30          846.145662   0.40     2.927445 -3.436664    2.236338  \n",
       "31           91.265161  -0.80     1.960305 -1.699981    2.236338  "
      ]
     },
     "execution_count": 110,
     "metadata": {},
     "output_type": "execute_result"
    }
   ],
   "source": [
    "df"
   ]
  },
  {
   "cell_type": "markdown",
   "id": "1bc97df6-2cde-495b-a15d-c38868467d0f",
   "metadata": {},
   "source": [
    "# Make predictions"
   ]
  },
  {
   "cell_type": "code",
   "execution_count": 111,
   "id": "db104249-efe3-49df-93ea-b3076eb00069",
   "metadata": {},
   "outputs": [],
   "source": [
    "from sklearn.ensemble import RandomForestRegressor\n",
    "from sklearn.linear_model import LinearRegression, ElasticNet, ARDRegression, BayesianRidge, Lasso\n",
    "from sklearn.metrics import mean_squared_error, r2_score\n",
    "from sklearn.model_selection import train_test_split, LeaveOneOut\n",
    "from sklearn import tree\n",
    "from sklearn.preprocessing import StandardScaler\n",
    "from scipy import stats\n",
    "\n"
   ]
  },
  {
   "cell_type": "code",
   "execution_count": 112,
   "id": "79a9cbf0-397c-4180-bc8e-976945af90fe",
   "metadata": {},
   "outputs": [],
   "source": [
    "df = df.loc[df['Leakage (mM/gDW/h)'] > 0, :]\n",
    "df.loc[df.Concentration.isna(), 'Concentration'] = np.mean(df.Concentration)\n",
    "df[\"log10_value\"] = np.log10(df['Leakage (mM/gDW/h)'])"
   ]
  },
  {
   "cell_type": "code",
   "execution_count": 113,
   "id": "5190f6ba-1012-4687-87c9-9afd01ffd726",
   "metadata": {},
   "outputs": [],
   "source": [
    "\n",
    "df[\"log10_sp\"] = np.log10(np.abs(df[[\"Shadow price\"]]))\n",
    "df[\"log10_conc\"] = np.abs(np.log10(df.Concentration))"
   ]
  },
  {
   "cell_type": "code",
   "execution_count": 114,
   "id": "8159dec5-12c1-4dd3-99e3-238ac137d7d7",
   "metadata": {},
   "outputs": [
    {
     "data": {
      "text/html": [
       "<div>\n",
       "<style scoped>\n",
       "    .dataframe tbody tr th:only-of-type {\n",
       "        vertical-align: middle;\n",
       "    }\n",
       "\n",
       "    .dataframe tbody tr th {\n",
       "        vertical-align: top;\n",
       "    }\n",
       "\n",
       "    .dataframe thead th {\n",
       "        text-align: right;\n",
       "    }\n",
       "</style>\n",
       "<table border=\"1\" class=\"dataframe\">\n",
       "  <thead>\n",
       "    <tr style=\"text-align: right;\">\n",
       "      <th></th>\n",
       "      <th>Metabolite name</th>\n",
       "      <th>Metabolite id</th>\n",
       "      <th>Mass</th>\n",
       "      <th>Charge</th>\n",
       "      <th>Phosphate</th>\n",
       "      <th>Concentration</th>\n",
       "      <th>Shadow price</th>\n",
       "      <th>Turnover</th>\n",
       "      <th>Leakage (mM/gDW/h)</th>\n",
       "      <th>log P</th>\n",
       "      <th>log10_value</th>\n",
       "      <th>log10_sp</th>\n",
       "      <th>log10_conc</th>\n",
       "    </tr>\n",
       "  </thead>\n",
       "  <tbody>\n",
       "    <tr>\n",
       "      <th>0</th>\n",
       "      <td>Glucose-6-phosphate</td>\n",
       "      <td>g6p</td>\n",
       "      <td>258.119901</td>\n",
       "      <td>-2.0</td>\n",
       "      <td>1</td>\n",
       "      <td>0.003000</td>\n",
       "      <td>-0.017544</td>\n",
       "      <td>10.000000</td>\n",
       "      <td>2.112709</td>\n",
       "      <td>-4.50</td>\n",
       "      <td>0.324840</td>\n",
       "      <td>-1.755877</td>\n",
       "      <td>2.522879</td>\n",
       "    </tr>\n",
       "    <tr>\n",
       "      <th>1</th>\n",
       "      <td>Fructose-6-phosphate</td>\n",
       "      <td>f6p</td>\n",
       "      <td>258.119901</td>\n",
       "      <td>-2.0</td>\n",
       "      <td>1</td>\n",
       "      <td>0.003000</td>\n",
       "      <td>-0.017632</td>\n",
       "      <td>2.460728</td>\n",
       "      <td>2.310546</td>\n",
       "      <td>-4.30</td>\n",
       "      <td>0.363715</td>\n",
       "      <td>-1.753691</td>\n",
       "      <td>2.522879</td>\n",
       "    </tr>\n",
       "    <tr>\n",
       "      <th>2</th>\n",
       "      <td>Fructose-1,6-bisphosphate</td>\n",
       "      <td>fdp</td>\n",
       "      <td>336.083922</td>\n",
       "      <td>-4.0</td>\n",
       "      <td>2</td>\n",
       "      <td>0.015200</td>\n",
       "      <td>-0.024706</td>\n",
       "      <td>2.277172</td>\n",
       "      <td>0.022204</td>\n",
       "      <td>-5.90</td>\n",
       "      <td>-1.653572</td>\n",
       "      <td>-1.607204</td>\n",
       "      <td>1.818156</td>\n",
       "    </tr>\n",
       "    <tr>\n",
       "      <th>3</th>\n",
       "      <td>Dihydroxyacetonephosphate</td>\n",
       "      <td>dhap</td>\n",
       "      <td>168.041961</td>\n",
       "      <td>-2.0</td>\n",
       "      <td>1</td>\n",
       "      <td>0.000374</td>\n",
       "      <td>-0.014695</td>\n",
       "      <td>2.277172</td>\n",
       "      <td>2.581162</td>\n",
       "      <td>-2.50</td>\n",
       "      <td>0.411815</td>\n",
       "      <td>-1.832816</td>\n",
       "      <td>3.427128</td>\n",
       "    </tr>\n",
       "    <tr>\n",
       "      <th>4</th>\n",
       "      <td>Glyceraldehyde-3-phosphate</td>\n",
       "      <td>g3p</td>\n",
       "      <td>168.041961</td>\n",
       "      <td>-2.0</td>\n",
       "      <td>1</td>\n",
       "      <td>0.005803</td>\n",
       "      <td>-0.014699</td>\n",
       "      <td>11.535426</td>\n",
       "      <td>0.396769</td>\n",
       "      <td>-2.75</td>\n",
       "      <td>-0.401462</td>\n",
       "      <td>-1.832708</td>\n",
       "      <td>2.236338</td>\n",
       "    </tr>\n",
       "  </tbody>\n",
       "</table>\n",
       "</div>"
      ],
      "text/plain": [
       "              Metabolite name Metabolite id        Mass  Charge  Phosphate  \\\n",
       "0         Glucose-6-phosphate           g6p  258.119901    -2.0          1   \n",
       "1        Fructose-6-phosphate           f6p  258.119901    -2.0          1   \n",
       "2   Fructose-1,6-bisphosphate           fdp  336.083922    -4.0          2   \n",
       "3   Dihydroxyacetonephosphate          dhap  168.041961    -2.0          1   \n",
       "4  Glyceraldehyde-3-phosphate           g3p  168.041961    -2.0          1   \n",
       "\n",
       "   Concentration  Shadow price   Turnover  Leakage (mM/gDW/h)  log P  \\\n",
       "0       0.003000     -0.017544  10.000000            2.112709  -4.50   \n",
       "1       0.003000     -0.017632   2.460728            2.310546  -4.30   \n",
       "2       0.015200     -0.024706   2.277172            0.022204  -5.90   \n",
       "3       0.000374     -0.014695   2.277172            2.581162  -2.50   \n",
       "4       0.005803     -0.014699  11.535426            0.396769  -2.75   \n",
       "\n",
       "   log10_value  log10_sp  log10_conc  \n",
       "0     0.324840 -1.755877    2.522879  \n",
       "1     0.363715 -1.753691    2.522879  \n",
       "2    -1.653572 -1.607204    1.818156  \n",
       "3     0.411815 -1.832816    3.427128  \n",
       "4    -0.401462 -1.832708    2.236338  "
      ]
     },
     "execution_count": 114,
     "metadata": {},
     "output_type": "execute_result"
    }
   ],
   "source": [
    "df.head()"
   ]
  },
  {
   "cell_type": "code",
   "execution_count": 353,
   "id": "37d98a82-ac63-426e-8e0d-47e1c91aa2d9",
   "metadata": {},
   "outputs": [],
   "source": [
    "columns = [\"log10_sp\", \"Turnover\", \"Mass\", \"Charge\", \"Phosphate\", 'log P']#\"Concentration\", \"Shadow price\", \"log10_conc\", \n",
    "\n"
   ]
  },
  {
   "cell_type": "markdown",
   "id": "4cf3ac6e-e5c0-4415-b20c-cb08eb1662d7",
   "metadata": {},
   "source": [
    "## Make train and test set"
   ]
  },
  {
   "cell_type": "code",
   "execution_count": 354,
   "id": "79b7f09d-b4b2-4476-90e0-0716f1302708",
   "metadata": {},
   "outputs": [],
   "source": [
    "data = StandardScaler().fit_transform(df[columns])\n",
    "X_train, X_test, y_train, y_test = train_test_split(data, df.log10_value, test_size=0.1)#, random_state=40)\n"
   ]
  },
  {
   "cell_type": "code",
   "execution_count": 357,
   "id": "24ebf10f-eec5-4d61-99ae-ac972bab97ee",
   "metadata": {},
   "outputs": [],
   "source": [
    "N = 100\n",
    "coefficients = np.zeros((6,N))*np.nan\n",
    "\n",
    "R2_arr = np.zeros(N)\n",
    "R2_arr_test = np.zeros(N)\n",
    "data = StandardScaler().fit_transform(df[columns])\n",
    "\n",
    "for i in range(N):\n",
    "    X_train, X_test, y_train, y_test = train_test_split(data, df.log10_value, test_size=0.05)\n",
    "    linear_reg = LinearRegression(fit_intercept = True).fit(X_train, y_train)\n",
    "    coefficients[:, i] = linear_reg.coef_\n",
    "    R2_arr[i] = linear_reg.score(X_train, y_train)\n"
   ]
  },
  {
   "cell_type": "code",
   "execution_count": 358,
   "id": "64d44b83-d2ce-48d2-850a-589dc1cefef0",
   "metadata": {},
   "outputs": [
    {
     "data": {
      "text/plain": [
       "(6, 6)"
      ]
     },
     "execution_count": 358,
     "metadata": {},
     "output_type": "execute_result"
    }
   ],
   "source": [
    "len(coefficients.mean(axis = 1)), len(columns)"
   ]
  },
  {
   "cell_type": "code",
   "execution_count": 359,
   "id": "e9abcc2e-b2a3-4f19-9a71-8c4de5e241fa",
   "metadata": {
    "tags": []
   },
   "outputs": [
    {
     "data": {
      "text/plain": [
       "<BarContainer object of 6 artists>"
      ]
     },
     "execution_count": 359,
     "metadata": {},
     "output_type": "execute_result"
    },
    {
     "data": {
      "image/png": "[encoded data removed]",
      "text/plain": [
       "<Figure size 640x480 with 1 Axes>"
      ]
     },
     "metadata": {},
     "output_type": "display_data"
    }
   ],
   "source": [
    "plt.barh(columns, coefficients.mean(axis=1), xerr = coefficients.std(axis=1))"
   ]
  },
  {
   "cell_type": "code",
   "execution_count": 360,
   "id": "f95a077f-a0b5-46b5-a9a6-b4d5cf6f9df5",
   "metadata": {},
   "outputs": [
    {
     "data": {
      "text/plain": [
       "<BarContainer object of 1 artists>"
      ]
     },
     "execution_count": 360,
     "metadata": {},
     "output_type": "execute_result"
    },
    {
     "data": {
      "image/png": "[encoded data removed]",
      "text/plain": [
       "<Figure size 640x480 with 1 Axes>"
      ]
     },
     "metadata": {},
     "output_type": "display_data"
    }
   ],
   "source": [
    "plt.bar([\"R2\"], [R2_arr.mean()], yerr = [R2_arr.std()])"
   ]
  },
  {
   "cell_type": "markdown",
   "id": "a2fdd224-c035-4f3a-b2e7-7ff64ccb4203",
   "metadata": {},
   "source": [
    "# Test multiple different linear models"
   ]
  },
  {
   "cell_type": "code",
   "execution_count": 316,
   "id": "22455c0f-0f71-4f37-a6c4-2120ec0ae231",
   "metadata": {},
   "outputs": [],
   "source": [
    "columns = [\"log10_sp\"]#, \"log10_conc\", \"Turnover\", \"Mass\", \"Charge\", \"Phosphate\", 'log P']#\"Concentration\", \"Shadow price\", \n"
   ]
  },
  {
   "cell_type": "code",
   "execution_count": 317,
   "id": "65d319eb-d038-44bf-bfef-7b47dceb7833",
   "metadata": {},
   "outputs": [],
   "source": [
    "from itertools import chain, combinations\n",
    "\n",
    "def powerset(iterable):\n",
    "    \"\"\"\n",
    "    powerset([1,2,3]) --> () (1,) (2,) (3,) (1,2) (1,3) (2,3) (1,2,3)\n",
    "    \"\"\"\n",
    "    xs = list(iterable)\n",
    "    # note we return an iterator rather than a list\n",
    "    return chain.from_iterable(combinations(xs,n) for n in range(len(xs)+1))\n",
    "\n"
   ]
  },
  {
   "cell_type": "code",
   "execution_count": 318,
   "id": "bd4e015f-6460-4848-af31-e2aed0104c03",
   "metadata": {},
   "outputs": [],
   "source": [
    "all_sets = [list(x) for x in powerset(columns) if len(x)]"
   ]
  },
  {
   "cell_type": "code",
   "execution_count": 319,
   "id": "6f088e21-a74e-44d9-a344-7b8cb41213ff",
   "metadata": {},
   "outputs": [
    {
     "data": {
      "text/plain": [
       "[['log10_sp']]"
      ]
     },
     "execution_count": 319,
     "metadata": {},
     "output_type": "execute_result"
    }
   ],
   "source": [
    "all_sets[-10:]"
   ]
  },
  {
   "cell_type": "code",
   "execution_count": 320,
   "id": "30b2874d-c380-48b0-ae00-f4b7ff28e764",
   "metadata": {},
   "outputs": [],
   "source": [
    "def adj_r2(r2, n, p):\n",
    "    return 1 - ((1 - r2) * (n - 1) / (n - p - 1))"
   ]
  },
  {
   "cell_type": "code",
   "execution_count": 321,
   "id": "469d10cb-9958-4e95-acb9-d55df9fb0214",
   "metadata": {},
   "outputs": [],
   "source": [
    "R2_mean = np.zeros(len(all_sets))\n",
    "R2_adj = np.zeros(len(all_sets))\n",
    "R2_std = np.zeros(len(all_sets))\n",
    "loo = LeaveOneOut()\n",
    "\n",
    "for i, model in enumerate(all_sets):\n",
    "    temp_arr = np.zeros(data.shape[0])\n",
    "    data = StandardScaler().fit_transform(df[model])\n",
    "    for j, (train_index, test_index) in enumerate(loo.split(data)):\n",
    "        X = data[train_index, :]\n",
    "        y =  df.log10_value.values[train_index]\n",
    "        linear_reg = LinearRegression(fit_intercept = True).fit(X, y)\n",
    "        #coefficients[:, i] = linear_reg.coef_\n",
    "        temp_arr[j] = linear_reg.score(X, y)\n",
    "    R2_mean[i] = temp_arr.mean()\n",
    "    R2_adj[i] = adj_r2(temp_arr.mean(), len(temp_arr), len(model))\n",
    "    R2_std[i] = temp_arr.std()"
   ]
  },
  {
   "cell_type": "code",
   "execution_count": 322,
   "id": "b74ea8d2-1910-470a-8a89-4e85e7ed3785",
   "metadata": {},
   "outputs": [],
   "source": [
    "idx = R2_mean.argsort()"
   ]
  },
  {
   "cell_type": "code",
   "execution_count": 324,
   "id": "373ad92f-5d8f-4f6c-9470-e7d8060292c5",
   "metadata": {},
   "outputs": [
    {
     "data": {
      "text/plain": [
       "<matplotlib.collections.PolyCollection at 0x7fa9481afbb0>"
      ]
     },
     "execution_count": 324,
     "metadata": {},
     "output_type": "execute_result"
    },
    {
     "data": {
      "image/png": "[encoded data removed]",
      "text/plain": [
       "<Figure size 640x480 with 1 Axes>"
      ]
     },
     "metadata": {},
     "output_type": "display_data"
    }
   ],
   "source": [
    "plt.plot(np.arange(len(idx)), R2_mean[idx])\n",
    "plt.fill_between(np.arange(len(idx)), R2_mean[idx]-R2_std[idx], R2_mean[idx]+R2_std[idx], alpha = 0.5)"
   ]
  },
  {
   "cell_type": "markdown",
   "id": "9302f2fc-fe9a-4065-ab9c-18ec2a6845ae",
   "metadata": {},
   "source": [
    "# Statsmodels"
   ]
  },
  {
   "cell_type": "code",
   "execution_count": 150,
   "id": "82ff4655-3838-4bdf-83dd-36699da2a74d",
   "metadata": {},
   "outputs": [],
   "source": [
    "import statsmodels.api as sm\n",
    "import statsmodels.formula.api as smf"
   ]
  },
  {
   "cell_type": "markdown",
   "id": "35ac0356-9b8b-499a-ac91-de83361a6611",
   "metadata": {},
   "source": [
    "# Look at correlation between variables"
   ]
  },
  {
   "cell_type": "code",
   "execution_count": 346,
   "id": "a15809f4-e445-4af9-9b2b-95fda641277c",
   "metadata": {},
   "outputs": [],
   "source": [
    "# columns =  [\"Turnover\", \"Mass\", \"Charge\", \"Phosphate\", \"Topological Polar Surface Area [Å]\",\"log10_sp\", \"log10_conc\", \"Shadow price\", \"Concentration\"]\n",
    "# columns =  [\"log10_sp\", \"Charge\"] #\"log10_value\" \"Topological Polar Surface Area [Å]\", \n",
    "data = StandardScaler().fit_transform(df[columns])"
   ]
  },
  {
   "cell_type": "code",
   "execution_count": 326,
   "id": "51035769-53cf-42ad-9735-5980c4011a9c",
   "metadata": {},
   "outputs": [
    {
     "data": {
      "text/html": [
       "<div>\n",
       "<style scoped>\n",
       "    .dataframe tbody tr th:only-of-type {\n",
       "        vertical-align: middle;\n",
       "    }\n",
       "\n",
       "    .dataframe tbody tr th {\n",
       "        vertical-align: top;\n",
       "    }\n",
       "\n",
       "    .dataframe thead th {\n",
       "        text-align: right;\n",
       "    }\n",
       "</style>\n",
       "<table border=\"1\" class=\"dataframe\">\n",
       "  <thead>\n",
       "    <tr style=\"text-align: right;\">\n",
       "      <th></th>\n",
       "      <th>log10_sp</th>\n",
       "    </tr>\n",
       "  </thead>\n",
       "  <tbody>\n",
       "    <tr>\n",
       "      <th>log10_sp</th>\n",
       "      <td>1.0***</td>\n",
       "    </tr>\n",
       "  </tbody>\n",
       "</table>\n",
       "</div>"
      ],
      "text/plain": [
       "         log10_sp\n",
       "log10_sp   1.0***"
      ]
     },
     "execution_count": 326,
     "metadata": {},
     "output_type": "execute_result"
    }
   ],
   "source": [
    "df_i = df[columns]\n",
    "rho = df_i.corr()\n",
    "pval = df_i.corr(method=lambda x, y: st.pearsonr(x, y)[1]) - np.eye(*rho.shape)\n",
    "p = pval.applymap(lambda x: ''.join(['*' for t in [.05, .01, .001] if x<=t]))\n",
    "rho.round(2).astype(str) + p"
   ]
  },
  {
   "cell_type": "code",
   "execution_count": 327,
   "id": "cae52f18-fcc6-49a6-8234-6bb763398b53",
   "metadata": {},
   "outputs": [
    {
     "data": {
      "text/html": [
       "<div>\n",
       "<style scoped>\n",
       "    .dataframe tbody tr th:only-of-type {\n",
       "        vertical-align: middle;\n",
       "    }\n",
       "\n",
       "    .dataframe tbody tr th {\n",
       "        vertical-align: top;\n",
       "    }\n",
       "\n",
       "    .dataframe thead th {\n",
       "        text-align: right;\n",
       "    }\n",
       "</style>\n",
       "<table border=\"1\" class=\"dataframe\">\n",
       "  <thead>\n",
       "    <tr style=\"text-align: right;\">\n",
       "      <th></th>\n",
       "      <th>log10_sp</th>\n",
       "    </tr>\n",
       "  </thead>\n",
       "  <tbody>\n",
       "    <tr>\n",
       "      <th>log10_sp</th>\n",
       "      <td>0.0</td>\n",
       "    </tr>\n",
       "  </tbody>\n",
       "</table>\n",
       "</div>"
      ],
      "text/plain": [
       "          log10_sp\n",
       "log10_sp       0.0"
      ]
     },
     "execution_count": 327,
     "metadata": {},
     "output_type": "execute_result"
    }
   ],
   "source": [
    "pval"
   ]
  },
  {
   "cell_type": "code",
   "execution_count": 337,
   "id": "b9319b9d-f9ac-4e1e-ba91-196468982d3e",
   "metadata": {},
   "outputs": [],
   "source": [
    "data = sm.add_constant(data)"
   ]
  },
  {
   "cell_type": "code",
   "execution_count": 347,
   "id": "3c3978dc-90ae-4f15-aae9-2e1074ccb4ff",
   "metadata": {},
   "outputs": [
    {
     "data": {
      "text/plain": [
       "((31, 1), 31)"
      ]
     },
     "execution_count": 347,
     "metadata": {},
     "output_type": "execute_result"
    }
   ],
   "source": [
    "data.shape, y.size"
   ]
  },
  {
   "cell_type": "code",
   "execution_count": 348,
   "id": "deaf2966-a91f-4ebc-a89a-fedc2e5b7c04",
   "metadata": {},
   "outputs": [],
   "source": [
    "y = StandardScaler().fit_transform(df.log10_value.values[:, np.newaxis])"
   ]
  },
  {
   "cell_type": "code",
   "execution_count": 340,
   "id": "d725034e-788d-4655-a833-afe1eb88dd22",
   "metadata": {},
   "outputs": [
    {
     "data": {
      "text/plain": [
       "1.0000000000000002"
      ]
     },
     "execution_count": 340,
     "metadata": {},
     "output_type": "execute_result"
    }
   ],
   "source": [
    "y.std()"
   ]
  },
  {
   "cell_type": "code",
   "execution_count": 349,
   "id": "0e73a06d-d18d-46ee-bf86-9277d0678adf",
   "metadata": {},
   "outputs": [],
   "source": [
    "ols_model = sm.OLS(y, data)"
   ]
  },
  {
   "cell_type": "code",
   "execution_count": 350,
   "id": "c2e5c831-c18d-4cd5-875a-10636faaa937",
   "metadata": {},
   "outputs": [],
   "source": [
    "results = ols_model.fit()"
   ]
  },
  {
   "cell_type": "code",
   "execution_count": 351,
   "id": "abd76d6e-a981-4014-bf79-1a158ad5127b",
   "metadata": {},
   "outputs": [
    {
     "data": {
      "text/plain": [
       "Index(['log10_sp'], dtype='object')"
      ]
     },
     "execution_count": 351,
     "metadata": {},
     "output_type": "execute_result"
    }
   ],
   "source": [
    "df[columns].columns"
   ]
  },
  {
   "cell_type": "code",
   "execution_count": 352,
   "id": "c2c96e0c-e9c1-4413-a375-851270a14968",
   "metadata": {},
   "outputs": [
    {
     "name": "stdout",
     "output_type": "stream",
     "text": [
      "                                 OLS Regression Results                                \n",
      "=======================================================================================\n",
      "Dep. Variable:                      y   R-squared (uncentered):                   0.479\n",
      "Model:                            OLS   Adj. R-squared (uncentered):              0.462\n",
      "Method:                 Least Squares   F-statistic:                              27.63\n",
      "Date:                Mon, 03 Apr 2023   Prob (F-statistic):                    1.13e-05\n",
      "Time:                        23:12:49   Log-Likelihood:                         -33.869\n",
      "No. Observations:                  31   AIC:                                      69.74\n",
      "Df Residuals:                      30   BIC:                                      71.17\n",
      "Df Model:                           1                                                  \n",
      "Covariance Type:            nonrobust                                                  \n",
      "==============================================================================\n",
      "                 coef    std err          t      P>|t|      [0.025      0.975]\n",
      "------------------------------------------------------------------------------\n",
      "x1            -0.6924      0.132     -5.256      0.000      -0.961      -0.423\n",
      "==============================================================================\n",
      "Omnibus:                        2.364   Durbin-Watson:                   1.686\n",
      "Prob(Omnibus):                  0.307   Jarque-Bera (JB):                1.900\n",
      "Skew:                           0.599   Prob(JB):                        0.387\n",
      "Kurtosis:                       2.811   Cond. No.                         1.00\n",
      "==============================================================================\n",
      "\n",
      "Notes:\n",
      "[1] R² is computed without centering (uncentered) since the model does not contain a constant.\n",
      "[2] Standard Errors assume that the covariance matrix of the errors is correctly specified.\n"
     ]
    }
   ],
   "source": [
    "print(results.summary())"
   ]
  },
  {
   "cell_type": "markdown",
   "id": "b9fe0285-27cc-42e6-8802-107c5cbb79e3",
   "metadata": {},
   "source": [
    "# Define function to estimate confidence intervals"
   ]
  },
  {
   "cell_type": "markdown",
   "id": "71957cd5-fd50-4188-a19c-158a8a0b9e6b",
   "metadata": {},
   "source": [
    "## Linear model"
   ]
  },
  {
   "cell_type": "code",
   "execution_count": 395,
   "id": "c22ebe09-f053-4249-b892-fbed05a1ab44",
   "metadata": {},
   "outputs": [],
   "source": [
    "data = StandardScaler().fit_transform(df[columns])\n",
    "X_train, X_test, y_train, y_test = train_test_split(data, df.log10_value, test_size=0.2)#, random_state=40)\n",
    "\n",
    "linear_reg = LinearRegression(fit_intercept = True).fit(X_train, y_train)"
   ]
  },
  {
   "cell_type": "code",
   "execution_count": 396,
   "id": "17903ea9-7226-4935-9bb6-1bb450100f3b",
   "metadata": {},
   "outputs": [],
   "source": [
    "lin_pred = linear_reg.predict(X_test)"
   ]
  },
  {
   "cell_type": "code",
   "execution_count": 397,
   "id": "2cd36041-5c91-4d24-87b1-042ab47fb0bd",
   "metadata": {},
   "outputs": [
    {
     "name": "stdout",
     "output_type": "stream",
     "text": [
      "0.607237810400629\n",
      "0.29233524187338844\n"
     ]
    }
   ],
   "source": [
    "print(linear_reg.score(X_train, y_train))\n",
    "print(linear_reg.score(X_test, y_test))"
   ]
  },
  {
   "cell_type": "code",
   "execution_count": 398,
   "id": "bc4bcee7-4fee-4e67-ad5b-e48dc1c7b5dc",
   "metadata": {},
   "outputs": [
    {
     "data": {
      "text/plain": [
       "<BarContainer object of 6 artists>"
      ]
     },
     "execution_count": 398,
     "metadata": {},
     "output_type": "execute_result"
    },
    {
     "data": {
      "image/png": "[encoded data removed]",
      "text/plain": [
       "<Figure size 640x480 with 1 Axes>"
      ]
     },
     "metadata": {},
     "output_type": "display_data"
    }
   ],
   "source": [
    "plt.barh(columns , linear_reg.coef_)"
   ]
  },
  {
   "cell_type": "code",
   "execution_count": 399,
   "id": "49398650-5ef6-4e2c-b9c6-76e35dd420d3",
   "metadata": {},
   "outputs": [
    {
     "data": {
      "text/plain": [
       "<matplotlib.collections.PathCollection at 0x7fa932e7d310>"
      ]
     },
     "execution_count": 399,
     "metadata": {},
     "output_type": "execute_result"
    },
    {
     "data": {
      "image/png": "[encoded data removed]",
      "text/plain": [
       "<Figure size 640x480 with 1 Axes>"
      ]
     },
     "metadata": {},
     "output_type": "display_data"
    }
   ],
   "source": [
    "plt.scatter(linear_reg.predict(X_train), y_train)"
   ]
  },
  {
   "cell_type": "markdown",
   "id": "6a169d9b-9518-40e0-831c-13deb08730a5",
   "metadata": {},
   "source": [
    "## Lasso"
   ]
  },
  {
   "cell_type": "code",
   "execution_count": 400,
   "id": "4d65df13-1c1e-43ab-9539-78946c36f0c7",
   "metadata": {},
   "outputs": [],
   "source": [
    "lasso_reg = Lasso(fit_intercept = True, alpha = 0.01).fit(X_train, y_train)"
   ]
  },
  {
   "cell_type": "code",
   "execution_count": 401,
   "id": "3f0fa3eb-fee5-4087-9fa2-e7ae2bfc264b",
   "metadata": {},
   "outputs": [
    {
     "name": "stdout",
     "output_type": "stream",
     "text": [
      "0.6050865316327687\n",
      "0.25714633345381777\n"
     ]
    }
   ],
   "source": [
    "print(lasso_reg.score(X_train, y_train))\n",
    "print(lasso_reg.score(X_test, y_test))"
   ]
  },
  {
   "cell_type": "code",
   "execution_count": 402,
   "id": "1ef23f79-93ac-402a-9b7a-106e0012ed9e",
   "metadata": {},
   "outputs": [
    {
     "data": {
      "text/plain": [
       "<BarContainer object of 6 artists>"
      ]
     },
     "execution_count": 402,
     "metadata": {},
     "output_type": "execute_result"
    },
    {
     "data": {
      "image/png": "[encoded data removed]",
      "text/plain": [
       "<Figure size 640x480 with 1 Axes>"
      ]
     },
     "metadata": {},
     "output_type": "display_data"
    }
   ],
   "source": [
    "plt.barh(columns , lasso_reg.coef_)"
   ]
  },
  {
   "cell_type": "markdown",
   "id": "a09bc32c-815b-4216-a2f6-82045464170c",
   "metadata": {},
   "source": [
    "# Elastic net"
   ]
  },
  {
   "cell_type": "code",
   "execution_count": 403,
   "id": "a0ccebae-f8f3-457d-bfc9-be6cb6f1284d",
   "metadata": {},
   "outputs": [],
   "source": [
    "EN_reg = ElasticNet(alpha = 0.001).fit(X_train, y_train)"
   ]
  },
  {
   "cell_type": "code",
   "execution_count": 404,
   "id": "1c7385c8-4a46-4fe3-8c5c-e794c903541b",
   "metadata": {},
   "outputs": [
    {
     "name": "stdout",
     "output_type": "stream",
     "text": [
      "0.6072274331911987\n",
      "0.29000674688294037\n"
     ]
    }
   ],
   "source": [
    "EN_pred = EN_reg.predict(X_test)\n",
    "print(EN_reg.score(X_train, y_train))\n",
    "print(EN_reg.score(X_test, y_test))"
   ]
  },
  {
   "cell_type": "code",
   "execution_count": 405,
   "id": "9c97cf26-2048-4be3-b9ee-ed0352cdf474",
   "metadata": {},
   "outputs": [
    {
     "data": {
      "text/plain": [
       "<BarContainer object of 6 artists>"
      ]
     },
     "execution_count": 405,
     "metadata": {},
     "output_type": "execute_result"
    },
    {
     "data": {
      "image/png": "[encoded data removed]",
      "text/plain": [
       "<Figure size 640x480 with 1 Axes>"
      ]
     },
     "metadata": {},
     "output_type": "display_data"
    }
   ],
   "source": [
    "plt.barh(columns , EN_reg.coef_)"
   ]
  },
  {
   "cell_type": "markdown",
   "id": "9a753f91-ca83-4159-9dda-0eded8a94b2b",
   "metadata": {},
   "source": [
    "## Random forest"
   ]
  },
  {
   "cell_type": "code",
   "execution_count": 406,
   "id": "4ac130df-76ee-47e4-a2fc-bb7440379545",
   "metadata": {},
   "outputs": [],
   "source": [
    "rf_reg = RandomForestRegressor().fit(X_train, y_train)"
   ]
  },
  {
   "cell_type": "code",
   "execution_count": 407,
   "id": "ea371e8b-e72c-4082-85b1-9fbec4456e14",
   "metadata": {},
   "outputs": [],
   "source": [
    "rf_pred = rf_reg.predict(X_test)"
   ]
  },
  {
   "cell_type": "code",
   "execution_count": 408,
   "id": "735cfeea-d269-4fed-a6c3-764fb1897677",
   "metadata": {},
   "outputs": [
    {
     "name": "stdout",
     "output_type": "stream",
     "text": [
      "0.9197807221166385\n",
      "-0.451585196644662\n"
     ]
    }
   ],
   "source": [
    "print(rf_reg.score(X_train, y_train))\n",
    "print(rf_reg.score(X_test, y_test))"
   ]
  },
  {
   "cell_type": "code",
   "execution_count": 409,
   "id": "3b12cf3e-9d26-48a0-8ac2-6205e32c778d",
   "metadata": {},
   "outputs": [
    {
     "data": {
      "text/plain": [
       "RandomForestRegressor()"
      ]
     },
     "execution_count": 409,
     "metadata": {},
     "output_type": "execute_result"
    }
   ],
   "source": []
  },
  {
   "cell_type": "raw",
   "id": "828a1e63-7469-45f2-929f-f34594593fe0",
   "metadata": {},
   "source": [
    "plt.scatter(rf_pred, y_test)"
   ]
  },
  {
   "cell_type": "markdown",
   "id": "c45abd91-2271-4002-82a6-4ad312329a41",
   "metadata": {},
   "source": [
    "## Decision tree"
   ]
  },
  {
   "cell_type": "code",
   "execution_count": 378,
   "id": "ab17ce06-f4e6-46c2-868e-d138279846ed",
   "metadata": {},
   "outputs": [],
   "source": [
    "tree_reg = tree.DecisionTreeRegressor().fit(X_train, y_train)"
   ]
  },
  {
   "cell_type": "code",
   "execution_count": 379,
   "id": "c6b0fdcd-57d8-49da-b177-192b17ef8abc",
   "metadata": {},
   "outputs": [],
   "source": [
    "tree_pred = tree_reg.predict(X_test)"
   ]
  },
  {
   "cell_type": "code",
   "execution_count": 380,
   "id": "26415d4c-cc83-4c7c-8784-5b1c83b108f1",
   "metadata": {},
   "outputs": [
    {
     "name": "stdout",
     "output_type": "stream",
     "text": [
      "1.0\n",
      "-0.40784768564515095\n"
     ]
    }
   ],
   "source": [
    "print(tree_reg.score(X_train, y_train))\n",
    "print(tree_reg.score(X_test, y_test))"
   ]
  },
  {
   "cell_type": "code",
   "execution_count": 310,
   "id": "06891c17-5b70-44c5-98d1-819f71f13ea1",
   "metadata": {},
   "outputs": [
    {
     "data": {
      "text/plain": [
       "<matplotlib.collections.PathCollection at 0x7fa971dea0a0>"
      ]
     },
     "execution_count": 310,
     "metadata": {},
     "output_type": "execute_result"
    },
    {
     "data": {
      "image/png": "[encoded data removed]",
      "text/plain": [
       "<Figure size 640x480 with 1 Axes>"
      ]
     },
     "metadata": {},
     "output_type": "display_data"
    }
   ],
   "source": [
    "plt.scatter(tree_pred, y_test)"
   ]
  },
  {
   "cell_type": "code",
   "execution_count": 311,
   "id": "59c9b396-a213-4ea2-b439-ba821759a6c7",
   "metadata": {},
   "outputs": [],
   "source": [
    "ard_reg = BayesianRidge(alpha_init=0.1, lambda_init=0.01).fit(X_train, y_train)"
   ]
  },
  {
   "cell_type": "code",
   "execution_count": 312,
   "id": "ec3b88cb-29f8-4edb-af1f-50417fd7cdb5",
   "metadata": {},
   "outputs": [
    {
     "name": "stdout",
     "output_type": "stream",
     "text": [
      "0.49019175016526784\n",
      "0.7275372934361742\n"
     ]
    }
   ],
   "source": [
    "print(ard_reg.score(X_train, y_train))\n",
    "print(ard_reg.score(X_test, y_test))"
   ]
  },
  {
   "cell_type": "code",
   "execution_count": 313,
   "id": "00bcac3c-8f14-4a9b-8b2a-afa29c708f88",
   "metadata": {},
   "outputs": [],
   "source": [
    "from sklearn.neural_network import MLPRegressor"
   ]
  },
  {
   "cell_type": "code",
   "execution_count": 314,
   "id": "6c3d5fb8-eb2b-4043-8723-b80877da7860",
   "metadata": {},
   "outputs": [],
   "source": [
    "MLP_reg = MLPRegressor(max_iter = 1000).fit(X_train, y_train)"
   ]
  },
  {
   "cell_type": "code",
   "execution_count": 315,
   "id": "0dfbd24d-1170-4808-9a22-dd70d4111d98",
   "metadata": {},
   "outputs": [
    {
     "name": "stdout",
     "output_type": "stream",
     "text": [
      "0.9760784223482319\n",
      "0.9109427355453426\n"
     ]
    }
   ],
   "source": [
    "print(MLP_reg.score(X_train, y_train))\n",
    "print(MLP_reg.score(X_test, y_test))"
   ]
  },
  {
   "cell_type": "code",
   "execution_count": 118,
   "id": "f8585d23-3b3e-4151-85e3-a21bd789727c",
   "metadata": {},
   "outputs": [
    {
     "data": {
      "text/plain": [
       "[array([[ 0.18013351, -0.18151567,  0.12642034, -0.05617019,  0.00987986,\n",
       "          0.00731731,  0.15084528,  0.09732818,  0.09153956, -0.07128596,\n",
       "          0.25849024, -0.23289872, -0.04644276, -0.01279582,  0.15689094,\n",
       "          0.31508104, -0.01638097,  0.30301362, -0.01731219, -0.18855022,\n",
       "          0.17952468, -0.09144234, -0.19555564, -0.12586062,  0.15982066,\n",
       "          0.1345942 ,  0.18493138,  0.23957611,  0.00478899, -0.03106493,\n",
       "          0.17839147, -0.02238844,  0.31277231, -0.14683018,  0.09904009,\n",
       "         -0.00179072, -0.17942071, -0.05809929,  0.12016301, -0.12260145,\n",
       "          0.07941516,  0.04842748, -0.1038866 ,  0.09002151,  0.26457866,\n",
       "         -0.1043415 , -0.06652327, -0.11799308, -0.30485799, -0.04079448,\n",
       "          0.09851252, -0.1716397 , -0.00731401, -0.23605771, -0.06021398,\n",
       "         -0.01207341, -0.11827515, -0.15948293, -0.09148907, -0.07882032,\n",
       "         -0.046759  , -0.23048956,  0.11800451, -0.18926228,  0.10650232,\n",
       "         -0.17340069,  0.00392482, -0.1791898 ,  0.07378106,  0.0203489 ,\n",
       "          0.16926799,  0.07319116, -0.03735214, -0.13163377, -0.10797413,\n",
       "         -0.05218624, -0.05376733, -0.1224359 ,  0.13560648,  0.32610586,\n",
       "          0.01377689, -0.22454098,  0.19409956, -0.03571064,  0.02286637,\n",
       "          0.35032054,  0.13796703,  0.34421893,  0.10647608,  0.1357573 ,\n",
       "         -0.12407954,  0.01849723,  0.11040511, -0.10354942,  0.12491302,\n",
       "          0.25055155, -0.08560207, -0.07119912, -0.12366318,  0.06764942],\n",
       "        [ 0.01277585, -0.21519022,  0.23805505,  0.15831722,  0.01692719,\n",
       "          0.22777956,  0.05923071,  0.15115884, -0.20646833,  0.01441126,\n",
       "         -0.19513079, -0.00806354,  0.13758654, -0.22122458, -0.14881497,\n",
       "         -0.40138873,  0.26079355, -0.22547874,  0.18791567,  0.1995017 ,\n",
       "         -0.19425136,  0.357248  ,  0.06246422,  0.29238323, -0.28815499,\n",
       "         -0.029411  ,  0.14922484, -0.04158518, -0.0716069 , -0.11274437,\n",
       "         -0.07608326,  0.1283262 , -0.25167981,  0.18763776, -0.10042752,\n",
       "          0.18973287, -0.12301089,  0.2754879 ,  0.04124989, -0.00864638,\n",
       "          0.14036016, -0.04458553, -0.10210071, -0.27314611, -0.21490084,\n",
       "         -0.23729079, -0.23102406,  0.18869515,  0.53506807,  0.058698  ,\n",
       "         -0.20176909, -0.22032367,  0.08463768, -0.13301991, -0.03127914,\n",
       "          0.17759774, -0.24111785, -0.24041487, -0.13773893,  0.15600714,\n",
       "          0.06797722,  0.28184107, -0.2818052 , -0.14107855, -0.10690218,\n",
       "         -0.22962837,  0.05836101, -0.01524263, -0.21718747, -0.23881791,\n",
       "          0.20003116,  0.29877273,  0.08548535,  0.25226901, -0.14856994,\n",
       "          0.34859127, -0.273424  , -0.08758351,  0.33914044, -0.37586346,\n",
       "          0.35414923,  0.33954266,  0.00296243, -0.2365657 ,  0.32914157,\n",
       "          0.11109226, -0.19895799, -0.25878952,  0.18746714, -0.22269948,\n",
       "         -0.24773263, -0.06315203, -0.08487067, -0.0976235 ,  0.10716191,\n",
       "         -0.22624639, -0.14924552, -0.07931812,  0.01675502,  0.25112658],\n",
       "        [-0.26257948,  0.06701759,  0.34465238, -0.08392971,  0.02036151,\n",
       "          0.09414871, -0.16814264,  0.24528284,  0.03986539,  0.02180795,\n",
       "         -0.06451506,  0.04478593, -0.31887648,  0.02849959,  0.27576611,\n",
       "          0.24507289, -0.04428067, -0.04575891, -0.04111665,  0.01167197,\n",
       "         -0.05604383, -0.13038592, -0.28878718,  0.06527512,  0.23649233,\n",
       "         -0.06608352, -0.07232723,  0.15046803,  0.0732055 ,  0.17852918,\n",
       "          0.36411522, -0.19982047,  0.18006513,  0.23454462,  0.11687143,\n",
       "         -0.08233313,  0.11556337, -0.10950574,  0.0755373 , -0.14365972,\n",
       "         -0.03333956,  0.0010276 ,  0.1114217 , -0.06892558,  0.19300897,\n",
       "          0.03149588, -0.13821012, -0.08720253, -0.3647356 ,  0.07673756,\n",
       "         -0.15011275, -0.17098558,  0.07527849, -0.14157703,  0.2267316 ,\n",
       "          0.06987615,  0.17002016,  0.20646002, -0.12311768, -0.19574458,\n",
       "         -0.12406487, -0.12090789,  0.30168029, -0.20810537, -0.09304844,\n",
       "          0.14766292, -0.02176137,  0.19690387,  0.17901834,  0.14582458,\n",
       "          0.14527718, -0.10696103, -0.21339263,  0.25467157,  0.23054738,\n",
       "          0.29983724, -0.11176147, -0.11744267,  0.03743338,  0.05800329,\n",
       "         -0.1139658 ,  0.18979679, -0.18562923,  0.07851448,  0.22497927,\n",
       "          0.17082472,  0.01996144,  0.22275273, -0.19972534,  0.27742887,\n",
       "         -0.03969848,  0.007853  ,  0.17511084,  0.02411417,  0.08219465,\n",
       "         -0.19030138,  0.06564182,  0.26841523,  0.00999179,  0.08180749],\n",
       "        [-0.05168342,  0.24315833,  0.10668419, -0.08865162,  0.20522444,\n",
       "          0.28242076,  0.31851578,  0.15600446, -0.24025545,  0.16586949,\n",
       "         -0.12781661,  0.11314852, -0.19944981, -0.11787473,  0.0373207 ,\n",
       "         -0.13996687,  0.02998089,  0.14375284, -0.20551575,  0.25453452,\n",
       "         -0.1451746 , -0.108832  , -0.31918782,  0.29018273, -0.22491653,\n",
       "         -0.19476074,  0.19713448, -0.07939486, -0.01747321, -0.03843276,\n",
       "          0.36311028,  0.03385089, -0.00116869,  0.20020109, -0.26781049,\n",
       "          0.10931784,  0.2151823 ,  0.12109652, -0.08103777,  0.22250588,\n",
       "         -0.22154544, -0.0367289 , -0.26116535, -0.22329404,  0.07217271,\n",
       "         -0.00232929,  0.27499734,  0.11947983,  0.35100992,  0.010832  ,\n",
       "          0.19998592,  0.04438178,  0.0134087 , -0.18618071,  0.07533319,\n",
       "         -0.0090397 ,  0.14666775,  0.10831258,  0.22487863, -0.29498953,\n",
       "         -0.25573817,  0.23581453,  0.15975398,  0.20609246,  0.28812125,\n",
       "         -0.17024782, -0.24511674, -0.04249454, -0.18248265,  0.0409503 ,\n",
       "          0.06438042,  0.11565881, -0.09714974, -0.22048509, -0.21932483,\n",
       "          0.20915469,  0.02840123,  0.00584275,  0.0628818 ,  0.0141231 ,\n",
       "          0.11064154,  0.07504724, -0.10243406,  0.2346051 ,  0.0862606 ,\n",
       "         -0.0385579 , -0.1537934 , -0.22275483,  0.11533848,  0.1153709 ,\n",
       "         -0.164928  ,  0.20513561,  0.29277481, -0.08912911,  0.06960741,\n",
       "         -0.08269414, -0.05365194,  0.24018201,  0.0951581 , -0.17869877],\n",
       "        [-0.11948647, -0.11314637, -0.34614396, -0.00078663,  0.00381194,\n",
       "         -0.14877943, -0.13943899,  0.04987169,  0.1145189 ,  0.16613488,\n",
       "          0.01331581,  0.23818942, -0.11915417, -0.02695225, -0.11603299,\n",
       "         -0.05542589, -0.11660223, -0.12420806, -0.06188518, -0.1784517 ,\n",
       "          0.05852988, -0.17267896,  0.14074189, -0.16078015, -0.05994957,\n",
       "          0.07898983, -0.14165031, -0.10873974,  0.11473076, -0.08523553,\n",
       "         -0.09611528, -0.18599872,  0.02483191,  0.03288867,  0.23415073,\n",
       "         -0.19373257,  0.01751419,  0.31673656,  0.17903256,  0.17687393,\n",
       "          0.08222387, -0.07759737,  0.27178673, -0.23793903, -0.03285494,\n",
       "          0.07080841,  0.16463709,  0.06244479,  0.26172473,  0.0077743 ,\n",
       "          0.07066294,  0.02904823, -0.09031962,  0.15231811,  0.01933296,\n",
       "          0.19022792, -0.15021841,  0.20324664, -0.04843202,  0.21698094,\n",
       "          0.20110588,  0.06026549, -0.01001275,  0.11739591, -0.01891304,\n",
       "          0.00068967,  0.08953692, -0.2310266 , -0.12070228, -0.19038729,\n",
       "         -0.08358604,  0.32756908,  0.15267635, -0.22914322, -0.17633072,\n",
       "         -0.16712847, -0.13423826,  0.05124613, -0.17538988,  0.00414515,\n",
       "         -0.06989143,  0.14997536, -0.10347874,  0.08797757, -0.22960885,\n",
       "          0.16225914, -0.27817113,  0.08738952, -0.0679104 , -0.2585843 ,\n",
       "         -0.18922331,  0.02546212,  0.11747374, -0.01071468, -0.14796684,\n",
       "         -0.19949979, -0.14143779,  0.12282014,  0.10887284,  0.07419323],\n",
       "        [ 0.03738705, -0.09469481,  0.23400463, -0.16663147, -0.0372454 ,\n",
       "          0.10195979,  0.00470556, -0.36493055,  0.13135915,  0.27163268,\n",
       "          0.01872532,  0.15081178,  0.03396919, -0.05232928,  0.09758198,\n",
       "         -0.104507  ,  0.05765457, -0.10865674,  0.02045351,  0.12323364,\n",
       "          0.16880844, -0.0408225 , -0.02216356,  0.21145749,  0.16365787,\n",
       "          0.12909384,  0.02751849,  0.17491229,  0.07741686, -0.22421439,\n",
       "          0.2131731 ,  0.20514628,  0.00785601,  0.05099203, -0.16498579,\n",
       "         -0.10395612, -0.2049536 ,  0.06181964,  0.05218384,  0.30163486,\n",
       "          0.30440986,  0.0690833 ,  0.11286236, -0.23887257, -0.24704863,\n",
       "         -0.01935432,  0.38000199,  0.20662139, -0.08674453, -0.18262881,\n",
       "         -0.31073515, -0.13372981,  0.17325353,  0.01960389, -0.09669349,\n",
       "          0.13520134, -0.01356463,  0.14691335,  0.2089313 ,  0.10845288,\n",
       "          0.10001954, -0.0914434 , -0.05556515,  0.20520752, -0.29046731,\n",
       "          0.07425363, -0.12060653, -0.23512217, -0.01934847,  0.02902535,\n",
       "         -0.2470072 ,  0.06479828,  0.00382284, -0.10592174,  0.00117765,\n",
       "          0.14225277,  0.12395661,  0.43951082,  0.12207135,  0.18290675,\n",
       "         -0.20498571, -0.21665369, -0.08025417,  0.17540752,  0.10633063,\n",
       "          0.11491241, -0.26335917, -0.03232919, -0.21224273, -0.08469801,\n",
       "         -0.13106578, -0.21685816,  0.20583892, -0.05008612, -0.23802465,\n",
       "          0.19607922, -0.00635346,  0.08199721, -0.25992423,  0.07639054],\n",
       "        [ 0.05989302, -0.19923012, -0.04611368,  0.14824724, -0.09629102,\n",
       "         -0.08523669,  0.21298305, -0.09246567,  0.09638715,  0.10868522,\n",
       "          0.25599576,  0.20381173,  0.15663745,  0.18419345, -0.02690277,\n",
       "          0.06133939,  0.20597113, -0.05935271,  0.25204429, -0.124886  ,\n",
       "          0.01030909,  0.06625686, -0.04977887,  0.20841201,  0.089326  ,\n",
       "         -0.20913271, -0.24457299, -0.19619585, -0.21795477, -0.21167275,\n",
       "          0.22484407, -0.05605759, -0.10125901,  0.05768779, -0.01644888,\n",
       "         -0.03711142, -0.18420779,  0.09422086, -0.19907477, -0.03329917,\n",
       "          0.0943037 , -0.00308428, -0.10190854,  0.16077223,  0.00075124,\n",
       "          0.09154697, -0.20094918, -0.19153406,  0.03577496, -0.19045541,\n",
       "          0.27908657, -0.23120184,  0.02272165,  0.14920138, -0.02533727,\n",
       "          0.07939269, -0.21043019, -0.29993031,  0.14180442, -0.28379602,\n",
       "          0.11218222,  0.23568852, -0.13499608,  0.11496563, -0.07687602,\n",
       "          0.08457659, -0.17637696,  0.03724981, -0.17650765, -0.31459796,\n",
       "         -0.21404363,  0.10120536, -0.05434713, -0.03190395,  0.16419483,\n",
       "         -0.11931907, -0.06192454, -0.18297514, -0.08760876, -0.17575559,\n",
       "          0.23060694, -0.06139025, -0.18285082, -0.1598179 ,  0.01910691,\n",
       "         -0.11891192, -0.07010127,  0.11285925, -0.04702267, -0.14469352,\n",
       "         -0.05143162, -0.04936799,  0.10390385,  0.03987474,  0.067019  ,\n",
       "          0.26894619,  0.0437109 ,  0.24976956, -0.12712853,  0.07430077],\n",
       "        [-0.14971652, -0.18030804, -0.31449291,  0.08213117,  0.11611851,\n",
       "          0.06013692, -0.07127956,  0.14958464, -0.15621514,  0.08822992,\n",
       "         -0.07481192,  0.15418681,  0.11349067, -0.19692902,  0.20134843,\n",
       "         -0.03833547,  0.19557295,  0.00771397,  0.22238811,  0.02186494,\n",
       "         -0.00343732,  0.19793261,  0.15696726,  0.16710232,  0.00204515,\n",
       "          0.11613621,  0.10255379, -0.15973121, -0.40347232, -0.12489709,\n",
       "         -0.34090282,  0.02887122, -0.27870484,  0.11675421,  0.10261243,\n",
       "          0.19396714,  0.14055886,  0.19736162,  0.00072377, -0.1166152 ,\n",
       "          0.22016307,  0.20225524, -0.07247885, -0.0330783 , -0.1350678 ,\n",
       "          0.23805874,  0.0855275 ,  0.16739265,  0.17823039,  0.00654897,\n",
       "         -0.11080011, -0.12294557,  0.04872122,  0.03098288,  0.20090982,\n",
       "          0.13260941, -0.07918872,  0.14671355,  0.17875228,  0.20212892,\n",
       "          0.18646477, -0.10069522,  0.04976416, -0.11351515, -0.17056445,\n",
       "          0.08091393, -0.00650968,  0.20360542,  0.15389506, -0.42523447,\n",
       "          0.18184033,  0.30795081,  0.21026495, -0.12835558, -0.13626985,\n",
       "         -0.22599391, -0.10314758, -0.18789268,  0.07688677, -0.08189165,\n",
       "          0.06985845,  0.02629624, -0.07372532,  0.18326191, -0.1571656 ,\n",
       "         -0.28806776, -0.02549349, -0.25700697,  0.048665  ,  0.09712448,\n",
       "          0.11107423,  0.05858488, -0.03253231,  0.13311109, -0.0496367 ,\n",
       "         -0.38883499,  0.11895767,  0.2215918 ,  0.13159879,  0.10830334],\n",
       "        [-0.16459393, -0.0278224 , -0.04961581,  0.13580133, -0.11090036,\n",
       "          0.0264334 ,  0.05866515, -0.03050868,  0.1373057 , -0.16151766,\n",
       "          0.11677294,  0.19305234,  0.07542141,  0.07407893, -0.2141494 ,\n",
       "          0.26405007,  0.17347525,  0.10842199, -0.28818408,  0.13684774,\n",
       "          0.12571677, -0.25904336,  0.05786418, -0.1647437 , -0.04299358,\n",
       "         -0.08298585,  0.10866606,  0.04351632, -0.36682252,  0.21809265,\n",
       "          0.34526167, -0.26789201,  0.08363805, -0.00460007, -0.18895575,\n",
       "         -0.17594175,  0.15457218, -0.16525832, -0.2378871 ,  0.01823063,\n",
       "         -0.20493895,  0.25219042, -0.03238228,  0.2662097 ,  0.22473191,\n",
       "          0.21694062,  0.25447628,  0.04072735, -0.26065079,  0.00493362,\n",
       "          0.06686479, -0.15580632,  0.10241881,  0.0431761 ,  0.27997591,\n",
       "          0.24852261,  0.0879143 , -0.01229079, -0.23688073,  0.06327118,\n",
       "         -0.04435385, -0.0777868 ,  0.36680564,  0.01772243,  0.17583337,\n",
       "          0.19982213, -0.16903293, -0.32499754, -0.06887449, -0.1360418 ,\n",
       "         -0.06671288, -0.0484934 ,  0.08196104, -0.12221722,  0.04929004,\n",
       "          0.28215141, -0.02429143,  0.2131398 , -0.2235167 ,  0.41920194,\n",
       "         -0.2234396 , -0.19895193,  0.06986808,  0.20241286,  0.04176048,\n",
       "          0.00077681,  0.10217541,  0.01050245,  0.2502485 , -0.08336957,\n",
       "          0.26022958,  0.22279636, -0.10162563,  0.08583362, -0.10359277,\n",
       "          0.09161545,  0.13822804,  0.11197512, -0.06580162, -0.3137724 ]]),\n",
       " array([[-0.29501838],\n",
       "        [ 0.01298561],\n",
       "        [-0.37956023],\n",
       "        [-0.05555347],\n",
       "        [-0.00370991],\n",
       "        [-0.18078588],\n",
       "        [-0.57419341],\n",
       "        [ 0.21911122],\n",
       "        [-0.08309645],\n",
       "        [ 0.18682388],\n",
       "        [ 0.14756293],\n",
       "        [-0.08531061],\n",
       "        [-0.18434461],\n",
       "        [ 0.28655752],\n",
       "        [ 0.27854884],\n",
       "        [ 0.22300523],\n",
       "        [-0.03803824],\n",
       "        [ 0.21440703],\n",
       "        [ 0.123169  ],\n",
       "        [-0.07522456],\n",
       "        [ 0.35336471],\n",
       "        [ 0.11299134],\n",
       "        [-0.14015245],\n",
       "        [-0.21640178],\n",
       "        [ 0.26837846],\n",
       "        [ 0.21333457],\n",
       "        [-0.04015417],\n",
       "        [-0.45187983],\n",
       "        [-0.33669136],\n",
       "        [ 0.29295641],\n",
       "        [-0.24597442],\n",
       "        [ 0.17825648],\n",
       "        [-0.37816915],\n",
       "        [ 0.05264213],\n",
       "        [-0.12002641],\n",
       "        [-0.24558996],\n",
       "        [ 0.25691606],\n",
       "        [ 0.40276769],\n",
       "        [ 0.18486799],\n",
       "        [ 0.27115908],\n",
       "        [ 0.36613404],\n",
       "        [ 0.2525994 ],\n",
       "        [-0.11860706],\n",
       "        [ 0.20865008],\n",
       "        [ 0.19006377],\n",
       "        [ 0.13031619],\n",
       "        [ 0.04461976],\n",
       "        [ 0.38705414],\n",
       "        [ 0.35471055],\n",
       "        [ 0.06383426],\n",
       "        [ 0.15592857],\n",
       "        [-0.17875791],\n",
       "        [ 0.11632137],\n",
       "        [-0.09439084],\n",
       "        [-0.14281711],\n",
       "        [-0.17510073],\n",
       "        [ 0.06844136],\n",
       "        [ 0.15123405],\n",
       "        [ 0.20146688],\n",
       "        [-0.20289627],\n",
       "        [-0.19035747],\n",
       "        [ 0.18813875],\n",
       "        [ 0.06528454],\n",
       "        [ 0.16638586],\n",
       "        [ 0.25905308],\n",
       "        [-0.2439213 ],\n",
       "        [-0.29334236],\n",
       "        [ 0.16332583],\n",
       "        [ 0.01723732],\n",
       "        [-0.37377348],\n",
       "        [ 0.14788239],\n",
       "        [ 0.4608193 ],\n",
       "        [-0.31793927],\n",
       "        [ 0.07428365],\n",
       "        [ 0.06103829],\n",
       "        [-0.36454781],\n",
       "        [ 0.25886253],\n",
       "        [ 0.19975921],\n",
       "        [ 0.26483999],\n",
       "        [ 0.35973824],\n",
       "        [ 0.17178134],\n",
       "        [ 0.157742  ],\n",
       "        [ 0.09898736],\n",
       "        [ 0.2265544 ],\n",
       "        [-0.40273512],\n",
       "        [-0.23384222],\n",
       "        [ 0.22867491],\n",
       "        [-0.46770068],\n",
       "        [ 0.0294427 ],\n",
       "        [ 0.09595519],\n",
       "        [ 0.12391941],\n",
       "        [ 0.11028146],\n",
       "        [-0.07613071],\n",
       "        [ 0.19682813],\n",
       "        [ 0.30302419],\n",
       "        [-0.39050756],\n",
       "        [-0.20096061],\n",
       "        [ 0.11573801],\n",
       "        [ 0.25033798],\n",
       "        [ 0.25396221]])]"
      ]
     },
     "execution_count": 118,
     "metadata": {},
     "output_type": "execute_result"
    }
   ],
   "source": []
  },
  {
   "cell_type": "code",
   "execution_count": null,
   "id": "5d9d8ce0-718a-41d0-90c6-755fd6736e44",
   "metadata": {},
   "outputs": [],
   "source": []
  }
 ],
 "metadata": {
  "kernelspec": {
   "display_name": "Python 3 (ipykernel)",
   "language": "python",
   "name": "python3"
  },
  "language_info": {
   "codemirror_mode": {
    "name": "ipython",
    "version": 3
   },
   "file_extension": ".py",
   "mimetype": "text/x-python",
   "name": "python",
   "nbconvert_exporter": "python",
   "pygments_lexer": "ipython3",
   "version": "3.9.13"
  }
 },
 "nbformat": 4,
 "nbformat_minor": 5
}
