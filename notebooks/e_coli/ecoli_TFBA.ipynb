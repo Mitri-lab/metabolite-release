{
 "cells": [
  {
   "cell_type": "code",
   "execution_count": 1,
   "id": "4e1c9a28-2d3b-401b-ab88-a26914a2ee29",
   "metadata": {},
   "outputs": [
    {
     "ename": "ImportError",
     "evalue": "cannot import name 'save_json_model' from 'pytfa.io' (/Users/ssulheim/opt/anaconda3/envs/pytfa/lib/python3.10/site-packages/pytfa/io/__init__.py)",
     "output_type": "error",
     "traceback": [
      "\u001b[0;31m---------------------------------------------------------------------------\u001b[0m",
      "\u001b[0;31mImportError\u001b[0m                               Traceback (most recent call last)",
      "Cell \u001b[0;32mIn[22], line 9\u001b[0m\n\u001b[1;32m      5\u001b[0m \u001b[38;5;28;01mfrom\u001b[39;00m \u001b[38;5;21;01mcobra\u001b[39;00m\u001b[38;5;21;01m.\u001b[39;00m\u001b[38;5;21;01mflux_analysis\u001b[39;00m \u001b[38;5;28;01mimport\u001b[39;00m flux_variability_analysis\n\u001b[1;32m      6\u001b[0m \u001b[38;5;28;01mfrom\u001b[39;00m \u001b[38;5;21;01mcobra\u001b[39;00m\u001b[38;5;21;01m.\u001b[39;00m\u001b[38;5;21;01mio\u001b[39;00m \u001b[38;5;28;01mimport\u001b[39;00m load_matlab_model, load_json_model\n\u001b[0;32m----> 9\u001b[0m \u001b[38;5;28;01mfrom\u001b[39;00m \u001b[38;5;21;01mpytfa\u001b[39;00m\u001b[38;5;21;01m.\u001b[39;00m\u001b[38;5;21;01mio\u001b[39;00m \u001b[38;5;28;01mimport\u001b[39;00m import_matlab_model, load_thermoDB,                    \\\n\u001b[1;32m     10\u001b[0m                             read_lexicon, annotate_from_lexicon,            \\\n\u001b[1;32m     11\u001b[0m                             read_compartment_data, apply_compartment_data, save_json_model\n",
      "\u001b[0;31mImportError\u001b[0m: cannot import name 'save_json_model' from 'pytfa.io' (/Users/ssulheim/opt/anaconda3/envs/pytfa/lib/python3.10/site-packages/pytfa/io/__init__.py)"
     ]
    }
   ],
   "source": [
    "import pytfa\n",
    "\n",
    "from optlang.exceptions import SolverError\n",
    "\n",
    "from cobra.flux_analysis import flux_variability_analysis\n",
    "from cobra.io import load_matlab_model, load_json_model\n",
    "\n",
    "\n",
    "from pytfa.io import import_matlab_model, load_thermoDB,                    \\\n",
    "                            read_lexicon, annotate_from_lexicon,            \\\n",
    "                            read_compartment_data, apply_compartment_data\n"
   ]
  },
  {
   "cell_type": "code",
   "execution_count": 2,
   "id": "7e596bec-bdd0-4bfa-90b8-10ddf3594927",
   "metadata": {},
   "outputs": [],
   "source": [
    "from pathlib import Path\n",
    "import cobra"
   ]
  },
  {
   "cell_type": "markdown",
   "id": "258f2163-763e-4150-872b-4f134b412040",
   "metadata": {},
   "source": [
    "# Build iJO1366 TFA model"
   ]
  },
  {
   "cell_type": "code",
   "execution_count": 3,
   "id": "42af4997-7230-481e-8b25-87fe8f2ac81a",
   "metadata": {},
   "outputs": [],
   "source": [
    "solver = 'optlang_gurobi'\n",
    "pytfa_folder = Path(\"/Users/ssulheim/git/pytfa\")\n",
    "thermo_data = load_thermoDB(pytfa_folder / \"data\" / \"thermo_data.thermodb\")"
   ]
  },
  {
   "cell_type": "code",
   "execution_count": 4,
   "id": "eb096ee6-e412-4dd9-a63c-50c3c2c97864",
   "metadata": {},
   "outputs": [],
   "source": [
    " # We import pre-compiled data as it is faster for bigger models\n",
    "cobra_model = cobra.io.read_sbml_model('../../models/e_coli/iJO1366.xml')\n",
    "# The lexicon is just a csv file with seed annotat\n",
    "# lexicon = read_lexicon(pytfa_folder / 'models/iJO1366/lexicon.csv')\n",
    "# annotations = lexicon.to_dict(orient = 'index')\n",
    "# the mytfa seems to fix the seed annotations directly from the xml model"
   ]
  },
  {
   "cell_type": "code",
   "execution_count": 5,
   "id": "46590040-9ca2-48cc-bc77-3838380551f2",
   "metadata": {},
   "outputs": [],
   "source": [
    "compartment_data = read_compartment_data(str(pytfa_folder / 'models/iJO1366/compartment_data.json'))\n",
    "\n"
   ]
  },
  {
   "cell_type": "code",
   "execution_count": 6,
   "id": "0019c248-46ed-4fca-afec-46c1476e2302",
   "metadata": {},
   "outputs": [
    {
     "name": "stdout",
     "output_type": "stream",
     "text": [
      "Read LP format model from file /var/folders/h6/4b_zz_cd5d92w2ycp017ytn00000gp/T/tmpxcmgu6g1.lp\n",
      "Reading time = 0.01 seconds\n",
      ": 1805 rows, 5166 columns, 20366 nonzeros\n"
     ]
    },
    {
     "name": "stderr",
     "output_type": "stream",
     "text": [
      "2023-03-03 11:03:23,695 - thermomodel_None - INFO - # Model initialized with units kcal/mol and temperature 298.15 K\n"
     ]
    }
   ],
   "source": [
    "# Initialize the cobra_model\n",
    "mytfa = pytfa.ThermoModel(thermo_data, cobra_model)\n"
   ]
  },
  {
   "cell_type": "code",
   "execution_count": 7,
   "id": "a5fccb79-769d-4914-9612-8483dbd588de",
   "metadata": {},
   "outputs": [
    {
     "data": {
      "text/plain": [
       "{'seed_id': 'cpd00029'}"
      ]
     },
     "execution_count": 7,
     "metadata": {},
     "output_type": "execute_result"
    }
   ],
   "source": [
    "# Just to check\n",
    "lexicon = read_lexicon(pytfa_folder / 'models/iJO1366/lexicon.csv')\n",
    "annotations = lexicon.to_dict(orient = 'index')\n",
    "mytfa.metabolites.ac_c.annotation\n",
    "annotations['ac_c']"
   ]
  },
  {
   "cell_type": "code",
   "execution_count": 10,
   "id": "cde0c8d8-8c81-47d3-9500-4a1cbcc598a1",
   "metadata": {},
   "outputs": [],
   "source": [
    "\n",
    "\n",
    "# Annotate the cobra_model\n",
    "# annotate_from_lexicon(mytfa, lexicon) don't need this\n",
    "apply_compartment_data(mytfa, compartment_data)\n",
    "\n",
    "biomass_rxn = 'BIOMASS_Ec_iJO1366_WT_53p95M'#'Ec_biomass_iJO1366_WT_53p95M'"
   ]
  },
  {
   "cell_type": "code",
   "execution_count": 11,
   "id": "4dc5564e-1933-4e40-9dc5-f73c16020a8d",
   "metadata": {},
   "outputs": [],
   "source": [
    "mytfa.name = 'leakage'\n",
    "mytfa.solver = solver\n",
    "mytfa.objective = biomass_rxn\n",
    "mytfa.description = \"Model used for predicting shadow prices\""
   ]
  },
  {
   "cell_type": "code",
   "execution_count": 12,
   "id": "488577a1-00d1-46d2-a471-9a9ef699243c",
   "metadata": {},
   "outputs": [],
   "source": [
    "def apply_solver_settings(model, solver = solver):\n",
    "    model.solver = solver\n",
    "    # model.solver.configuration.verbosity = 1\n",
    "    model.solver.configuration.tolerances.feasibility = 1e-9\n",
    "    if solver == 'optlang_gurobi':\n",
    "        model.solver.problem.Params.NumericFocus = 3\n",
    "    model.solver.configuration.presolve = True\n",
    "\n",
    "apply_solver_settings(mytfa)"
   ]
  },
  {
   "cell_type": "code",
   "execution_count": 13,
   "id": "44a53168-bd0b-4485-a8c6-4d6cad2668fb",
   "metadata": {},
   "outputs": [],
   "source": [
    "## FBA\n",
    "fba_solution = cobra_model.optimize()\n",
    "fba_value = fba_solution.objective_value\n",
    "# fva = flux_variability_analysis(mytfa)"
   ]
  },
  {
   "cell_type": "code",
   "execution_count": 14,
   "id": "b264137a-1a9e-4b4e-88b0-cbc0c6df896a",
   "metadata": {},
   "outputs": [
    {
     "name": "stderr",
     "output_type": "stream",
     "text": [
      "2023-03-03 11:05:16,740 - thermomodel_None - INFO - # Model preparation starting...\n",
      "2023-03-03 11:05:17,924 - thermomodel_None - INFO - # Model preparation done.\n",
      "2023-03-03 11:05:17,925 - thermomodel_None - INFO - # Model conversion starting...\n",
      "2023-03-03 11:05:24,301 - thermomodel_None - INFO - # Model conversion done.\n",
      "2023-03-03 11:05:24,302 - thermomodel_None - INFO - # Updating cobra_model variables...\n",
      "2023-03-03 11:05:24,349 - thermomodel_None - INFO - # cobra_model variables are up-to-date\n"
     ]
    }
   ],
   "source": [
    "## TFA conversion\n",
    "mytfa.prepare()\n",
    "mytfa.convert()#add_displacement = True)"
   ]
  },
  {
   "cell_type": "code",
   "execution_count": 15,
   "id": "cba0ce0f-99ab-4976-8018-9e960c2e39b6",
   "metadata": {},
   "outputs": [
    {
     "name": "stdout",
     "output_type": "stream",
     "text": [
      "                                                   value\n",
      "key                                                     \n",
      "name                                             leakage\n",
      "description      Model used for predicting shadow prices\n",
      "num constraints                                     9554\n",
      "num variables                                      12137\n",
      "num metabolites                                     1805\n",
      "num reactions                                       2583\n",
      "                          value\n",
      "key                            \n",
      "num metabolites(thermo)  1805.0\n",
      "num reactions(thermo)       0.0\n",
      "pct metabolites(thermo)   100.0\n",
      "pct reactions(thermo)       0.0\n"
     ]
    }
   ],
   "source": [
    "## Info on the cobra_model\n",
    "mytfa.print_info()\n"
   ]
  },
  {
   "cell_type": "code",
   "execution_count": 16,
   "id": "3aad13c1-40e6-4e98-b012-ccc610d5b2ed",
   "metadata": {},
   "outputs": [],
   "source": [
    "## Optimality\n",
    "tfa_solution = mytfa.optimize()\n",
    "tfa_value = tfa_solution.objective_value"
   ]
  },
  {
   "cell_type": "code",
   "execution_count": 17,
   "id": "a549ada3-8f93-46f7-904a-1d4b3b65114e",
   "metadata": {},
   "outputs": [
    {
     "data": {
      "text/plain": [
       "0.9865144469529776"
      ]
     },
     "execution_count": 17,
     "metadata": {},
     "output_type": "execute_result"
    }
   ],
   "source": [
    "tfa_value"
   ]
  },
  {
   "cell_type": "code",
   "execution_count": 18,
   "id": "8ebe53d5-cb4c-46a3-ba25-df6caa00f8ee",
   "metadata": {},
   "outputs": [],
   "source": [
    "if tfa_value < 0.1:\n",
    "    from pytfa.optim.relaxation import relax_dgo\n",
    "\n",
    "    mytfa.reactions.get_by_id(biomass_rxn).lower_bound = 0.5*fba_value\n",
    "    relaxed_model, slack_model, relax_table = relax_dgo(mytfa)\n",
    "\n",
    "    original_model, mytfa = mytfa, relaxed_model\n",
    "\n",
    "    print('Relaxation: ')\n",
    "    print(relax_table)\n",
    "    \n",
    "    tfa_solution = mytfa.optimize()\n",
    "    tfa_value = tfa_solution.objective_value"
   ]
  },
  {
   "cell_type": "code",
   "execution_count": 19,
   "id": "5bbfe543-c478-4374-bbc7-e1fd97d0cd4e",
   "metadata": {},
   "outputs": [
    {
     "data": {
      "text/plain": [
       "0.9865144469529776"
      ]
     },
     "execution_count": 19,
     "metadata": {},
     "output_type": "execute_result"
    }
   ],
   "source": [
    "tfa_value"
   ]
  },
  {
   "cell_type": "code",
   "execution_count": 20,
   "id": "21069560-e409-4d56-9b96-5d01f6f9cfeb",
   "metadata": {},
   "outputs": [],
   "source": [
    "tfa_solution = mytfa.optimize()"
   ]
  },
  {
   "cell_type": "markdown",
   "id": "a038336e-fc43-491c-98cc-0fde6d5d119a",
   "metadata": {},
   "source": [
    "# Store model"
   ]
  },
  {
   "cell_type": "code",
   "execution_count": 36,
   "id": "b1fc82a5-59d5-4834-9bcf-086f69a2a4e4",
   "metadata": {},
   "outputs": [],
   "source": [
    "def save_json_model(model, filepath):\n",
    "    # filepath = check_json_extension(filepath)\n",
    "    obj = pytfa.io.dict.model_to_dict(model)\n",
    "    with open(filepath, 'w') as fid:\n",
    "        json.dump(obj, fid, cls=pytfa.io.MyEncoder)"
   ]
  },
  {
   "cell_type": "code",
   "execution_count": 37,
   "id": "320d874a-f493-4139-9bff-dbabbe0ec25e",
   "metadata": {},
   "outputs": [],
   "source": [
    "tfa_path = '../../models/e_coli/iJO1366_tfa.json'\n",
    "save_json_model(mytfa, tfa_path)"
   ]
  },
  {
   "cell_type": "markdown",
   "id": "3dec8e8f-2f51-4c38-af26-a67af048b98c",
   "metadata": {},
   "source": [
    "# Load model"
   ]
  },
  {
   "cell_type": "code",
   "execution_count": 38,
   "id": "7e3e2ac2-088d-4f1e-9b8e-50caf563b36a",
   "metadata": {},
   "outputs": [],
   "source": [
    "def load_json_model(filepath):\n",
    "    with open(filepath, 'r') as fid:\n",
    "        obj = json.load(fid)\n",
    "\n",
    "    model = pytfa.io.dict.model_from_dict(obj)\n",
    "    return model\n"
   ]
  },
  {
   "cell_type": "markdown",
   "id": "b9cb558b-bb69-4bb8-8e7f-413f2270e646",
   "metadata": {},
   "source": [
    "# Predict shadow prices"
   ]
  },
  {
   "cell_type": "code",
   "execution_count": 41,
   "id": "298fec65-c289-46da-8303-9590518d2408",
   "metadata": {},
   "outputs": [],
   "source": [
    "m_ids = [m.id for m in mytfa.metabolites if m.compartment == 'c']    "
   ]
  },
  {
   "cell_type": "code",
   "execution_count": 45,
   "id": "13e9cdcd-816d-4e32-9504-c57753d0b41e",
   "metadata": {},
   "outputs": [],
   "source": [
    "shadow_prices = {}\n",
    "for m_id in m_ids:\n",
    "    with mytfa as model:\n",
    "        m = model.metabolites.get_by_id(m_id)\n",
    "        try:\n",
    "            r = model.add_boundary(m, type = \"demand\")\n",
    "        except ValueError:\n",
    "            r = model.reactions.get_by_id('DM_{0}'.format(m_id))\n",
    "        \n",
    "        r.bounds = (0.01, 0.01)\n",
    "        solution = model.slim_optimize()\n",
    "    shadow_prices[m_id] = (solution-tfa_value)/0.01"
   ]
  },
  {
   "cell_type": "code",
   "execution_count": 48,
   "id": "713a054c-0bf6-42b0-9824-768d1a562da0",
   "metadata": {},
   "outputs": [
    {
     "data": {
      "text/plain": [
       "(0, 1000.0)"
      ]
     },
     "execution_count": 48,
     "metadata": {},
     "output_type": "execute_result"
    }
   ],
   "source": []
  }
 ],
 "metadata": {
  "kernelspec": {
   "display_name": "Python 3 (ipykernel)",
   "language": "python",
   "name": "python3"
  },
  "language_info": {
   "codemirror_mode": {
    "name": "ipython",
    "version": 3
   },
   "file_extension": ".py",
   "mimetype": "text/x-python",
   "name": "python",
   "nbconvert_exporter": "python",
   "pygments_lexer": "ipython3",
   "version": "3.10.4"
  }
 },
 "nbformat": 4,
 "nbformat_minor": 5
}
