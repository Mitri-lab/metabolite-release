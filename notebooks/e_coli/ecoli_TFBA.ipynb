{
 "cells": [
  {
   "cell_type": "code",
   "execution_count": 9,
   "id": "cb1173ec-e97f-4541-933d-85d81b12a727",
   "metadata": {},
   "outputs": [],
   "source": [
    "import cobra\n",
    "import numpy as np\n",
    "from matplotlib import pyplot as plt\n",
    "import pandas as pd\n",
    "from pathlib import Path\n",
    "import pickle\n"
   ]
  },
  {
   "cell_type": "code",
   "execution_count": 10,
   "id": "4e1c9a28-2d3b-401b-ab88-a26914a2ee29",
   "metadata": {},
   "outputs": [],
   "source": [
    "import pytfa\n",
    "\n",
    "from optlang.exceptions import SolverError\n",
    "\n",
    "from cobra.flux_analysis import flux_variability_analysis\n",
    "from cobra.io import load_matlab_model, load_json_model\n",
    "\n",
    "\n",
    "from pytfa.io import import_matlab_model, load_thermoDB,                    \\\n",
    "                            read_lexicon, annotate_from_lexicon,            \\\n",
    "                            read_compartment_data, apply_compartment_data"
   ]
  },
  {
   "cell_type": "markdown",
   "id": "258f2163-763e-4150-872b-4f134b412040",
   "metadata": {},
   "source": [
    "# Build iJO1366 TFA model"
   ]
  },
  {
   "cell_type": "code",
   "execution_count": 11,
   "id": "42af4997-7230-481e-8b25-87fe8f2ac81a",
   "metadata": {},
   "outputs": [],
   "source": [
    "solver = 'optlang_gurobi'\n",
    "pytfa_folder = Path(\"C:/Users/snorres/git/pytfa\")\n",
    "thermo_data = load_thermoDB(pytfa_folder / \"data\" / \"thermo_data.thermodb\")"
   ]
  },
  {
   "cell_type": "code",
   "execution_count": 12,
   "id": "eb096ee6-e412-4dd9-a63c-50c3c2c97864",
   "metadata": {},
   "outputs": [],
   "source": [
    " # We import pre-compiled data as it is faster for bigger models\n",
    "cobra_model = load_json_model(pytfa_folder / 'models/iJO1366.json')\n",
    "# The lexicon is just a csv file with seed annotat\n",
    "lexicon = read_lexicon(pytfa_folder / 'models/iJO1366/lexicon.csv')\n"
   ]
  },
  {
   "cell_type": "code",
   "execution_count": 13,
   "id": "46590040-9ca2-48cc-bc77-3838380551f2",
   "metadata": {},
   "outputs": [],
   "source": [
    "compartment_data = read_compartment_data(str(pytfa_folder / 'models/iJO1366/compartment_data.json'))\n",
    "\n"
   ]
  },
  {
   "cell_type": "code",
   "execution_count": 14,
   "id": "cde0c8d8-8c81-47d3-9500-4a1cbcc598a1",
   "metadata": {},
   "outputs": [
    {
     "name": "stdout",
     "output_type": "stream",
     "text": [
      "Read LP format model from file C:\\Users\\snorres\\AppData\\Local\\Temp\\tmpsczurt1f.lp\n",
      "Reading time = 0.02 seconds\n",
      ": 1807 rows, 5170 columns, 20334 nonzeros\n"
     ]
    },
    {
     "name": "stderr",
     "output_type": "stream",
     "text": [
      "2023-02-01 12:37:14,605 - thermomodel_None - INFO - # Model initialized with units kcal/mol and temperature 298.15 K\n"
     ]
    }
   ],
   "source": [
    "# Initialize the cobra_model\n",
    "mytfa = pytfa.ThermoModel(thermo_data, cobra_model)\n",
    "\n",
    "# Annotate the cobra_model\n",
    "annotate_from_lexicon(mytfa, lexicon)\n",
    "apply_compartment_data(mytfa, compartment_data)\n",
    "\n",
    "biomass_rxn = 'Ec_biomass_iJO1366_WT_53p95M'"
   ]
  },
  {
   "cell_type": "code",
   "execution_count": 15,
   "id": "4dc5564e-1933-4e40-9dc5-f73c16020a8d",
   "metadata": {},
   "outputs": [],
   "source": [
    "mytfa.name = 'leakage'\n",
    "mytfa.solver = solver\n",
    "mytfa.objective = biomass_rxn\n",
    "mytfa.description = \"Model used for predicting shadow prices\""
   ]
  },
  {
   "cell_type": "code",
   "execution_count": 16,
   "id": "488577a1-00d1-46d2-a471-9a9ef699243c",
   "metadata": {},
   "outputs": [],
   "source": [
    "def apply_solver_settings(model, solver = solver):\n",
    "    model.solver = solver\n",
    "    # model.solver.configuration.verbosity = 1\n",
    "    model.solver.configuration.tolerances.feasibility = 1e-9\n",
    "    if solver == 'optlang_gurobi':\n",
    "        model.solver.problem.Params.NumericFocus = 3\n",
    "    model.solver.configuration.presolve = True\n",
    "\n",
    "apply_solver_settings(mytfa)"
   ]
  },
  {
   "cell_type": "code",
   "execution_count": 17,
   "id": "44a53168-bd0b-4485-a8c6-4d6cad2668fb",
   "metadata": {},
   "outputs": [],
   "source": [
    "## FBA\n",
    "fba_solution = cobra_model.optimize()\n",
    "fba_value = fba_solution.objective_value\n",
    "# fva = flux_variability_analysis(mytfa)"
   ]
  },
  {
   "cell_type": "code",
   "execution_count": 18,
   "id": "b264137a-1a9e-4b4e-88b0-cbc0c6df896a",
   "metadata": {},
   "outputs": [
    {
     "name": "stderr",
     "output_type": "stream",
     "text": [
      "2023-02-01 12:37:14,837 - thermomodel_None - INFO - # Model preparation starting...\n",
      "2023-02-01 12:37:17,992 - thermomodel_None - WARNING - Warning : NULL/U\n",
      "2023-02-01 12:37:17,992 - thermomodel_None - WARNING - Warning : NULL/L\n",
      "2023-02-01 12:37:17,992 - thermomodel_None - WARNING - Warning : NULL/L\n",
      "2023-02-01 12:37:17,992 - thermomodel_None - WARNING - Warning : NULL/U\n",
      "2023-02-01 12:37:17,992 - thermomodel_None - WARNING - Warning : NULL/L\n",
      "2023-02-01 12:37:17,992 - thermomodel_None - WARNING - Warning : NULL/L\n",
      "2023-02-01 12:37:18,270 - thermomodel_None - WARNING - Warning : NULL/U\n",
      "2023-02-01 12:37:18,271 - thermomodel_None - WARNING - Warning : NULL/L\n",
      "2023-02-01 12:37:18,271 - thermomodel_None - WARNING - Warning : NULL/L\n",
      "2023-02-01 12:37:18,273 - thermomodel_None - WARNING - Warning : NULL/U\n",
      "2023-02-01 12:37:18,274 - thermomodel_None - WARNING - Warning : NULL/L\n",
      "2023-02-01 12:37:18,276 - thermomodel_None - WARNING - Warning : NULL/L\n",
      "2023-02-01 12:37:18,491 - thermomodel_None - WARNING - Warning : NULL/U\n",
      "2023-02-01 12:37:18,491 - thermomodel_None - WARNING - Warning : NULL/L\n",
      "2023-02-01 12:37:18,491 - thermomodel_None - WARNING - Warning : NULL/L\n",
      "2023-02-01 12:37:18,499 - thermomodel_None - WARNING - Warning : NULL/U\n",
      "2023-02-01 12:37:18,500 - thermomodel_None - WARNING - Warning : NULL/L\n",
      "2023-02-01 12:37:18,500 - thermomodel_None - WARNING - Warning : NULL/L\n",
      "2023-02-01 12:37:18,574 - thermomodel_None - WARNING - Warning : NULL/U\n",
      "2023-02-01 12:37:18,575 - thermomodel_None - WARNING - Warning : NULL/L\n",
      "2023-02-01 12:37:18,575 - thermomodel_None - WARNING - Warning : NULL/L\n",
      "2023-02-01 12:37:18,575 - thermomodel_None - WARNING - Warning : NULL/U\n",
      "2023-02-01 12:37:18,575 - thermomodel_None - WARNING - Warning : NULL/L\n",
      "2023-02-01 12:37:18,575 - thermomodel_None - WARNING - Warning : NULL/L\n",
      "2023-02-01 12:37:18,575 - thermomodel_None - WARNING - Warning : NULL/U\n",
      "2023-02-01 12:37:18,582 - thermomodel_None - WARNING - Warning : NULL/L\n",
      "2023-02-01 12:37:18,583 - thermomodel_None - WARNING - Warning : NULL/L\n",
      "2023-02-01 12:37:18,586 - thermomodel_None - WARNING - Warning : NULL/U\n",
      "2023-02-01 12:37:18,587 - thermomodel_None - WARNING - Warning : NULL/L\n",
      "2023-02-01 12:37:18,587 - thermomodel_None - WARNING - Warning : NULL/L\n",
      "2023-02-01 12:37:18,588 - thermomodel_None - WARNING - Warning : NULL/U\n",
      "2023-02-01 12:37:18,588 - thermomodel_None - WARNING - Warning : NULL/L\n",
      "2023-02-01 12:37:18,588 - thermomodel_None - WARNING - Warning : NULL/L\n",
      "2023-02-01 12:37:18,590 - thermomodel_None - WARNING - Warning : NULL/U\n",
      "2023-02-01 12:37:18,591 - thermomodel_None - WARNING - Warning : NULL/L\n",
      "2023-02-01 12:37:18,591 - thermomodel_None - WARNING - Warning : NULL/L\n",
      "2023-02-01 12:37:18,591 - thermomodel_None - WARNING - Warning : NULL/U\n",
      "2023-02-01 12:37:18,591 - thermomodel_None - WARNING - Warning : NULL/L\n",
      "2023-02-01 12:37:18,591 - thermomodel_None - WARNING - Warning : NULL/L\n",
      "2023-02-01 12:37:18,591 - thermomodel_None - WARNING - Warning : NULL/U\n",
      "2023-02-01 12:37:18,599 - thermomodel_None - WARNING - Warning : NULL/L\n",
      "2023-02-01 12:37:18,600 - thermomodel_None - WARNING - Warning : NULL/L\n",
      "2023-02-01 12:37:18,748 - thermomodel_None - INFO - # Model preparation done.\n",
      "2023-02-01 12:37:18,748 - thermomodel_None - INFO - # Model conversion starting...\n",
      "2023-02-01 12:37:56,707 - thermomodel_None - INFO - # Model conversion done.\n",
      "2023-02-01 12:37:56,707 - thermomodel_None - INFO - # Updating cobra_model variables...\n",
      "2023-02-01 12:37:56,833 - thermomodel_None - INFO - # cobra_model variables are up-to-date\n"
     ]
    }
   ],
   "source": [
    "## TFA conversion\n",
    "mytfa.prepare()\n",
    "mytfa.convert()#add_displacement = True)"
   ]
  },
  {
   "cell_type": "code",
   "execution_count": 19,
   "id": "cba0ce0f-99ab-4976-8018-9e960c2e39b6",
   "metadata": {},
   "outputs": [
    {
     "name": "stdout",
     "output_type": "stream",
     "text": [
      "                                                   value\n",
      "key                                                     \n",
      "name                                             leakage\n",
      "description      Model used for predicting shadow prices\n",
      "num constraints                                    15034\n",
      "num variables                                      15538\n",
      "num metabolites                                     1807\n",
      "num reactions                                       2585\n",
      "                               value\n",
      "key                                 \n",
      "num metabolites(thermo)  1550.000000\n",
      "num reactions(thermo)    1824.000000\n",
      "pct metabolites(thermo)    85.777532\n",
      "pct reactions(thermo)      70.560928\n"
     ]
    }
   ],
   "source": [
    "## Info on the cobra_model\n",
    "mytfa.print_info()\n"
   ]
  },
  {
   "cell_type": "code",
   "execution_count": 20,
   "id": "3aad13c1-40e6-4e98-b012-ccc610d5b2ed",
   "metadata": {},
   "outputs": [],
   "source": [
    "## Optimality\n",
    "tfa_solution = mytfa.optimize()\n",
    "tfa_value = tfa_solution.objective_value"
   ]
  },
  {
   "cell_type": "code",
   "execution_count": 21,
   "id": "8ebe53d5-cb4c-46a3-ba25-df6caa00f8ee",
   "metadata": {},
   "outputs": [
    {
     "name": "stdout",
     "output_type": "stream",
     "text": [
      "Read LP format model from file C:\\Users\\snorres\\AppData\\Local\\Temp\\tmp2qyo3g3u.lp\n",
      "Reading time = 0.03 seconds\n",
      ": 1807 rows, 5170 columns, 20304 nonzeros\n"
     ]
    },
    {
     "name": "stderr",
     "output_type": "stream",
     "text": [
      "2023-02-01 12:44:07,330 - thermomodel_leakage - INFO - # Model initialized with units kcal/mol and temperature 298.15 K\n"
     ]
    },
    {
     "name": "stdout",
     "output_type": "stream",
     "text": [
      "Read LP format model from file C:\\Users\\snorres\\AppData\\Local\\Temp\\tmpv8cyu43l.lp\n",
      "Reading time = 0.05 seconds\n",
      ": 1807 rows, 5170 columns, 20304 nonzeros\n"
     ]
    },
    {
     "name": "stderr",
     "output_type": "stream",
     "text": [
      "2023-02-01 12:51:18,919 - thermomodel_leakage - INFO - # Model initialized with units kcal/mol and temperature 298.15 K\n",
      "2023-02-01 12:51:40,639 - thermomodel_leakage - INFO - Adding slack constraints\n",
      "adding slacks: 100%|███████████████████████████████████████████████████████████████| 1824/1824 [00:41<00:00, 44.29it/s]\n",
      "2023-02-01 12:52:26,473 - thermomodel_leakage - INFO - Optimizing slack model\n",
      "2023-02-01 12:52:31,660 - thermomodel_leakage - INFO - Extracting relaxation\n",
      "applying slack: 100%|██████████████████████████████████████████████████████████| 2585/2585 [00:00<00:00, 113636.40it/s]\n",
      "2023-02-01 12:52:31,983 - thermomodel_leakage - INFO - Testing relaxation\n"
     ]
    },
    {
     "name": "stdout",
     "output_type": "stream",
     "text": [
      "Relaxation: \n",
      "              lb_in      ub_in  lb_change  ub_change     lb_out     ub_out\n",
      "AIRC3    -11.941085  -8.988685   0.000000   2.582409 -11.941085  -6.406276\n",
      "ARGSL     16.770653  18.636729   2.184361   0.000000  14.586293  18.636729\n",
      "ATPS4rpp  -9.518201  -8.083092   1.517942   0.000000 -11.036143  -8.083092\n",
      "GALT1     67.754735  69.018800  54.942183   0.000000  12.812552  69.018800\n",
      "HEPK1      6.478044   6.951504   0.071768   0.000000   6.406276   6.951504\n",
      "HEPK2     44.872230  45.345690  32.059679   0.000000  12.812552  45.345690\n",
      "HEPT1     25.810459  27.074524  12.997907   0.000000  12.812552  27.074524\n",
      "HEPT2      7.030447   8.294512   0.624171   0.000000   6.406276   8.294512\n",
      "MECDPS    26.135683  30.646876  11.549390   0.000000  14.586293  30.646876\n",
      "MTHTHFSs  13.297862  14.814659   6.891586   0.000000   6.406276  14.814659\n"
     ]
    }
   ],
   "source": [
    "if tfa_value < 0.1:\n",
    "    from pytfa.optim.relaxation import relax_dgo\n",
    "\n",
    "    mytfa.reactions.get_by_id(biomass_rxn).lower_bound = 0.5*fba_value\n",
    "    relaxed_model, slack_model, relax_table = relax_dgo(mytfa)\n",
    "\n",
    "    original_model, mytfa = mytfa, relaxed_model\n",
    "\n",
    "    print('Relaxation: ')\n",
    "    print(relax_table)\n",
    "    \n",
    "    tfa_solution = mytfa.optimize()\n",
    "    tfa_value = tfa_solution.objective_value"
   ]
  },
  {
   "cell_type": "code",
   "execution_count": 22,
   "id": "5bbfe543-c478-4374-bbc7-e1fd97d0cd4e",
   "metadata": {},
   "outputs": [
    {
     "data": {
      "text/plain": [
       "0.8031193596364457"
      ]
     },
     "execution_count": 22,
     "metadata": {},
     "output_type": "execute_result"
    }
   ],
   "source": [
    "tfa_value"
   ]
  },
  {
   "cell_type": "code",
   "execution_count": 23,
   "id": "21069560-e409-4d56-9b96-5d01f6f9cfeb",
   "metadata": {},
   "outputs": [],
   "source": [
    "tfa_solution = mytfa.optimize()"
   ]
  },
  {
   "cell_type": "markdown",
   "id": "e99e20b9-0208-4827-8100-fa5264ddd5a9",
   "metadata": {},
   "source": [
    "# Predict shadow prices"
   ]
  },
  {
   "cell_type": "code",
   "execution_count": null,
   "id": "47d95d94-c670-462d-a679-5b6003c38dfc",
   "metadata": {},
   "outputs": [],
   "source": [
    "def predict_shadow_price"
   ]
  },
  {
   "cell_type": "markdown",
   "id": "7388f304-a47e-43d0-a700-f2512ccd7ccd",
   "metadata": {},
   "source": [
    "# Load "
   ]
  },
  {
   "cell_type": "markdown",
   "id": "a038336e-fc43-491c-98cc-0fde6d5d119a",
   "metadata": {},
   "source": [
    "# Store model"
   ]
  },
  {
   "cell_type": "code",
   "execution_count": null,
   "id": "b1fc82a5-59d5-4834-9bcf-086f69a2a4e4",
   "metadata": {},
   "outputs": [],
   "source": [
    "# Can't write model\n",
    "# cobra.io.write_sbml_model(mytfa,'models/e_coli/iJO1366_tfa.xml')\n",
    "#with open(\"models/e_coli/iJO1366_tfa.obj\", \"wb\") as f:\n",
    "#    pickle.dump(mytfa, f)"
   ]
  },
  {
   "cell_type": "code",
   "execution_count": null,
   "id": "320d874a-f493-4139-9bff-dbabbe0ec25e",
   "metadata": {},
   "outputs": [],
   "source": [
    "cobra.io.save_yaml_model(mytfa, \"models/e_coli/iJO1366_tfa.yml\")"
   ]
  },
  {
   "cell_type": "code",
   "execution_count": null,
   "id": "353b54c1-b2d2-41c6-a96a-b8fb65661ff2",
   "metadata": {},
   "outputs": [],
   "source": [
    "#¤import json\n",
    "#with open(\"models/e_coli/iJO1366_tfa.json\", \"w\") as f:\n",
    "#    json.dump(mytfa, f)"
   ]
  },
  {
   "cell_type": "markdown",
   "id": "3dec8e8f-2f51-4c38-af26-a67af048b98c",
   "metadata": {},
   "source": [
    "# Load model"
   ]
  },
  {
   "cell_type": "code",
   "execution_count": 8,
   "id": "ed297a15-bc7a-4606-8d28-e9bbd4d2abe0",
   "metadata": {},
   "outputs": [
    {
     "name": "stdout",
     "output_type": "stream",
     "text": [
      "Read LP format model from file C:\\Users\\snorres\\AppData\\Local\\Temp\\tmpqov5zeid.lp\n",
      "Reading time = 0.07 seconds\n",
      ": 15034 rows, 15538 columns, 52691 nonzeros\n",
      "Read LP format model from file C:\\Users\\snorres\\AppData\\Local\\Temp\\tmpw5p14h75.lp\n",
      "Reading time = 0.02 seconds\n",
      ": 1807 rows, 5170 columns, 20304 nonzeros\n"
     ]
    },
    {
     "ename": "TypeError",
     "evalue": "__new__() takes 2 positional arguments but 6 were given",
     "output_type": "error",
     "traceback": [
      "\u001b[1;31m---------------------------------------------------------------------------\u001b[0m",
      "\u001b[1;31mTypeError\u001b[0m                                 Traceback (most recent call last)",
      "Input \u001b[1;32mIn [8]\u001b[0m, in \u001b[0;36m<cell line: 1>\u001b[1;34m()\u001b[0m\n\u001b[0;32m      1\u001b[0m \u001b[38;5;28;01mwith\u001b[39;00m \u001b[38;5;28mopen\u001b[39m(\u001b[38;5;124m\"\u001b[39m\u001b[38;5;124mmodels/e_coli/iJO1366_tfa.obj\u001b[39m\u001b[38;5;124m\"\u001b[39m, \u001b[38;5;124m\"\u001b[39m\u001b[38;5;124mrb\u001b[39m\u001b[38;5;124m\"\u001b[39m) \u001b[38;5;28;01mas\u001b[39;00m f:\n\u001b[1;32m----> 2\u001b[0m     mytfa2 \u001b[38;5;241m=\u001b[39m \u001b[43mpickle\u001b[49m\u001b[38;5;241;43m.\u001b[39;49m\u001b[43mload\u001b[49m\u001b[43m(\u001b[49m\u001b[43mf\u001b[49m\u001b[43m)\u001b[49m\n",
      "\u001b[1;31mTypeError\u001b[0m: __new__() takes 2 positional arguments but 6 were given"
     ]
    }
   ],
   "source": [
    "with open(\"models/e_coli/iJO1366_tfa.obj\", \"rb\") as f:\n",
    "    mytfa2 = pickle.load(f)"
   ]
  },
  {
   "cell_type": "code",
   "execution_count": 51,
   "id": "13e9cdcd-816d-4e32-9504-c57753d0b41e",
   "metadata": {},
   "outputs": [
    {
     "name": "stdout",
     "output_type": "stream",
     "text": [
      "0.8020941357807011 0.0010252238557445503\n",
      "0.802729774571263 0.00038958506518260716\n",
      "0.8028425491953959 0.0002768104410497685\n"
     ]
    }
   ],
   "source": [
    "for m_id in [\"g6p_c\", \"pyr_c\", \"ac_c\"]:\n",
    "    with mytfa as model:\n",
    "        m = model.metabolites.get_by_id(m_id)\n",
    "        r = model.add_boundary(m, type = \"demand\")\n",
    "        r.bounds = (0.01, 0.01)\n",
    "        solution = model.slim_optimize()\n",
    "        print(solution, tfa_value-solution)"
   ]
  },
  {
   "cell_type": "code",
   "execution_count": 48,
   "id": "713a054c-0bf6-42b0-9824-768d1a562da0",
   "metadata": {},
   "outputs": [
    {
     "data": {
      "text/plain": [
       "(0, 1000.0)"
      ]
     },
     "execution_count": 48,
     "metadata": {},
     "output_type": "execute_result"
    }
   ],
   "source": []
  }
 ],
 "metadata": {
  "kernelspec": {
   "display_name": "Python 3 (ipykernel)",
   "language": "python",
   "name": "python3"
  },
  "language_info": {
   "codemirror_mode": {
    "name": "ipython",
    "version": 3
   },
   "file_extension": ".py",
   "mimetype": "text/x-python",
   "name": "python",
   "nbconvert_exporter": "python",
   "pygments_lexer": "ipython3",
   "version": "3.9.12"
  }
 },
 "nbformat": 4,
 "nbformat_minor": 5
}
