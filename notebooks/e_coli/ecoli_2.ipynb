{
 "cells": [
  {
   "cell_type": "code",
   "execution_count": 169,
   "id": "7780543c-3c1f-414f-9b20-59133ef327bb",
   "metadata": {},
   "outputs": [],
   "source": [
    "import cobra\n",
    "import numpy as np\n",
    "from matplotlib import pyplot as plt\n",
    "import pandas as pd\n",
    "import sys\n",
    "sys.path.append('../../code/')\n",
    "import leakage\n",
    "from pathlib import Path\n",
    "import matplotlib\n",
    "import seaborn as sns\n",
    "from scipy.stats import mannwhitneyu"
   ]
  },
  {
   "cell_type": "markdown",
   "id": "daac968b-589c-4c8b-917d-76758d2bbc2b",
   "metadata": {},
   "source": [
    "# Load model"
   ]
  },
  {
   "cell_type": "code",
   "execution_count": 124,
   "id": "abb3d24a-2a3b-451e-96e8-5bf7dbed59de",
   "metadata": {},
   "outputs": [],
   "source": [
    "model = cobra.io.read_sbml_model('../../models/e_coli/momentiJO1366.xml')"
   ]
  },
  {
   "cell_type": "code",
   "execution_count": 120,
   "id": "b42b6c24-87b3-4361-b7b8-ae4f9d9dce04",
   "metadata": {},
   "outputs": [],
   "source": [
    "model.reactions.DHAPT.knock_out()\n",
    "model.reactions.THRA.knock_out()\n",
    "model.reactions.THRA2.knock_out()\n",
    "model.reactions.F6PA_TG_forward.knock_out()\n",
    "\n",
    "# Speculations\n",
    "model.reactions.PFL.knock_out()"
   ]
  },
  {
   "cell_type": "markdown",
   "id": "72bdb321-fb6f-4904-bb02-86f082d475dc",
   "metadata": {},
   "source": [
    "## Define environment"
   ]
  },
  {
   "cell_type": "code",
   "execution_count": 121,
   "id": "174c8448-2edc-4e4f-857a-7bef562f4450",
   "metadata": {},
   "outputs": [],
   "source": [
    "model.reactions.EX_glc__D_e.lower_bound = -10\n",
    "for r in model.exchanges:\n",
    "    r.upper_bound = 1000"
   ]
  },
  {
   "cell_type": "code",
   "execution_count": 125,
   "id": "1d000942-eed9-4835-bd28-f7285a12b089",
   "metadata": {},
   "outputs": [
    {
     "name": "stdout",
     "output_type": "stream",
     "text": [
      "<Solution 0.743 at 0x7f8f88908d30>\n",
      "Objective\n",
      "=========\n",
      "1.0 BIOMASS_Ec_iJO1366_core_53p95M = 0.7429753865197879\n",
      "\n",
      "Uptake\n",
      "------\n",
      "Metabolite     Reaction      Flux  C-Number  C-Flux\n",
      " prot_pool  ER_pool_TG_     0.095         0   0.00%\n",
      "     ca2_e     EX_ca2_e  0.003867         0   0.00%\n",
      "      cl_e      EX_cl_e  0.003867         0   0.00%\n",
      " cobalt2_e EX_cobalt2_e 1.857E-05         0   0.00%\n",
      "     cu2_e     EX_cu2_e 0.0005268         0   0.00%\n",
      "     fe2_e     EX_fe2_e   0.01193         0   0.00%\n",
      "  glc__D_e  EX_glc__D_e     13.83         6 100.00%\n",
      "       k_e       EX_k_e     0.145         0   0.00%\n",
      "     mg2_e     EX_mg2_e  0.006445         0   0.00%\n",
      "     mn2_e     EX_mn2_e 0.0005134         0   0.00%\n",
      "    mobd_e    EX_mobd_e 9.584E-05         0   0.00%\n",
      "     nh4_e     EX_nh4_e     8.025         0   0.00%\n",
      "     ni2_e     EX_ni2_e   0.00024         0   0.00%\n",
      "      o2_e      EX_o2_e     16.25         0   0.00%\n",
      "      pi_e      EX_pi_e    0.7167         0   0.00%\n",
      "     so4_e     EX_so4_e    0.1874         0   0.00%\n",
      "     zn2_e     EX_zn2_e 0.0002534         0   0.00%\n",
      "\n",
      "Secretion\n",
      "---------\n",
      "Metabolite    Reaction       Flux  C-Number C-Flux\n",
      "  4crsol_c DM_4crsol_c -0.0001657         7  0.00%\n",
      "   5drib_c  DM_5drib_c -0.0001672         5  0.00%\n",
      "    amob_c   DM_amob_c -1.486E-06        15  0.00%\n",
      "  mththf_c DM_mththf_c -0.0003329         5  0.00%\n",
      "      ac_e     EX_ac_e     -17.32         2 66.02%\n",
      "     co2_e    EX_co2_e     -17.83         1 33.98%\n",
      "     h2o_e    EX_h2o_e     -37.45         0  0.00%\n",
      "       h_e      EX_h_e     -24.15         0  0.00%\n",
      "    meoh_e   EX_meoh_e -1.486E-06         1  0.00%\n",
      "\n"
     ]
    }
   ],
   "source": [
    "print(model.optimize())\n",
    "print(model.summary())"
   ]
  },
  {
   "cell_type": "markdown",
   "id": "d5fed5ce-4d3f-42d5-9e32-1b91469ac8c4",
   "metadata": {},
   "source": [
    "# Get leakage\n"
   ]
  },
  {
   "cell_type": "code",
   "execution_count": 90,
   "id": "9863a80e-3cd6-4009-9ef2-7b5fdcfccce7",
   "metadata": {},
   "outputs": [],
   "source": [
    "exometabolites_folder = Path(\"../../data/e_coli/\")\n",
    "leakage_df = leakage.get_leakage(exometabolites_folder, \"ecoli\", time = 7)\n",
    "leakage_df.set_index(\"Metabolite\", inplace=True)\n",
    "leakage_df.drop_duplicates(inplace=True)"
   ]
  },
  {
   "cell_type": "code",
   "execution_count": 91,
   "id": "78ca45af-dddb-4f05-b71a-7718255ff156",
   "metadata": {},
   "outputs": [
    {
     "data": {
      "text/html": [
       "<div>\n",
       "<style scoped>\n",
       "    .dataframe tbody tr th:only-of-type {\n",
       "        vertical-align: middle;\n",
       "    }\n",
       "\n",
       "    .dataframe tbody tr th {\n",
       "        vertical-align: top;\n",
       "    }\n",
       "\n",
       "    .dataframe thead th {\n",
       "        text-align: right;\n",
       "    }\n",
       "</style>\n",
       "<table border=\"1\" class=\"dataframe\">\n",
       "  <thead>\n",
       "    <tr style=\"text-align: right;\">\n",
       "      <th></th>\n",
       "      <th>Leakage (uM/h/OD)</th>\n",
       "      <th>Leakage std</th>\n",
       "    </tr>\n",
       "    <tr>\n",
       "      <th>Metabolite</th>\n",
       "      <th></th>\n",
       "      <th></th>\n",
       "    </tr>\n",
       "  </thead>\n",
       "  <tbody>\n",
       "    <tr>\n",
       "      <th>G6P</th>\n",
       "      <td>0.440616</td>\n",
       "      <td>0.015430</td>\n",
       "    </tr>\n",
       "    <tr>\n",
       "      <th>F6P</th>\n",
       "      <td>0.718007</td>\n",
       "      <td>0.033832</td>\n",
       "    </tr>\n",
       "    <tr>\n",
       "      <th>FBP</th>\n",
       "      <td>0.359004</td>\n",
       "      <td>0.014058</td>\n",
       "    </tr>\n",
       "    <tr>\n",
       "      <th>DHAP</th>\n",
       "      <td>0.627496</td>\n",
       "      <td>0.065091</td>\n",
       "    </tr>\n",
       "    <tr>\n",
       "      <th>GA3P</th>\n",
       "      <td>0.186804</td>\n",
       "      <td>0.014218</td>\n",
       "    </tr>\n",
       "    <tr>\n",
       "      <th>23PG</th>\n",
       "      <td>0.254953</td>\n",
       "      <td>0.023705</td>\n",
       "    </tr>\n",
       "    <tr>\n",
       "      <th>PEP</th>\n",
       "      <td>0.069823</td>\n",
       "      <td>0.006347</td>\n",
       "    </tr>\n",
       "    <tr>\n",
       "      <th>R5P</th>\n",
       "      <td>0.092261</td>\n",
       "      <td>0.004086</td>\n",
       "    </tr>\n",
       "    <tr>\n",
       "      <th>RU5P+X5P</th>\n",
       "      <td>0.041445</td>\n",
       "      <td>0.003663</td>\n",
       "    </tr>\n",
       "    <tr>\n",
       "      <th>E4P</th>\n",
       "      <td>0.022841</td>\n",
       "      <td>0.005350</td>\n",
       "    </tr>\n",
       "    <tr>\n",
       "      <th>CIT</th>\n",
       "      <td>2.875832</td>\n",
       "      <td>0.149685</td>\n",
       "    </tr>\n",
       "    <tr>\n",
       "      <th>ACN</th>\n",
       "      <td>0.249477</td>\n",
       "      <td>0.043896</td>\n",
       "    </tr>\n",
       "    <tr>\n",
       "      <th>ICIT</th>\n",
       "      <td>0.515611</td>\n",
       "      <td>0.022924</td>\n",
       "    </tr>\n",
       "    <tr>\n",
       "      <th>AKG</th>\n",
       "      <td>0.313748</td>\n",
       "      <td>1.008431</td>\n",
       "    </tr>\n",
       "    <tr>\n",
       "      <th>FUM</th>\n",
       "      <td>0.171135</td>\n",
       "      <td>0.040390</td>\n",
       "    </tr>\n",
       "    <tr>\n",
       "      <th>OAS</th>\n",
       "      <td>0.030424</td>\n",
       "      <td>0.003281</td>\n",
       "    </tr>\n",
       "    <tr>\n",
       "      <th>GLU</th>\n",
       "      <td>-0.020536</td>\n",
       "      <td>-0.025821</td>\n",
       "    </tr>\n",
       "    <tr>\n",
       "      <th>SER</th>\n",
       "      <td>-0.001103</td>\n",
       "      <td>-0.002621</td>\n",
       "    </tr>\n",
       "    <tr>\n",
       "      <th>ASP</th>\n",
       "      <td>0.024510</td>\n",
       "      <td>0.001170</td>\n",
       "    </tr>\n",
       "    <tr>\n",
       "      <th>THR</th>\n",
       "      <td>0.050086</td>\n",
       "      <td>0.017928</td>\n",
       "    </tr>\n",
       "    <tr>\n",
       "      <th>HOM</th>\n",
       "      <td>0.032192</td>\n",
       "      <td>0.009134</td>\n",
       "    </tr>\n",
       "    <tr>\n",
       "      <th>TYR</th>\n",
       "      <td>0.001065</td>\n",
       "      <td>0.000551</td>\n",
       "    </tr>\n",
       "    <tr>\n",
       "      <th>GLY</th>\n",
       "      <td>0.011405</td>\n",
       "      <td>0.017411</td>\n",
       "    </tr>\n",
       "    <tr>\n",
       "      <th>PRO</th>\n",
       "      <td>0.006921</td>\n",
       "      <td>0.001653</td>\n",
       "    </tr>\n",
       "    <tr>\n",
       "      <th>ALA</th>\n",
       "      <td>0.027382</td>\n",
       "      <td>0.014001</td>\n",
       "    </tr>\n",
       "    <tr>\n",
       "      <th>MET</th>\n",
       "      <td>0.004906</td>\n",
       "      <td>0.000525</td>\n",
       "    </tr>\n",
       "    <tr>\n",
       "      <th>VAL</th>\n",
       "      <td>0.027096</td>\n",
       "      <td>0.002453</td>\n",
       "    </tr>\n",
       "    <tr>\n",
       "      <th>PHE</th>\n",
       "      <td>0.004278</td>\n",
       "      <td>0.000949</td>\n",
       "    </tr>\n",
       "    <tr>\n",
       "      <th>ILEU</th>\n",
       "      <td>0.028675</td>\n",
       "      <td>0.001957</td>\n",
       "    </tr>\n",
       "    <tr>\n",
       "      <th>LEU</th>\n",
       "      <td>0.028313</td>\n",
       "      <td>0.000828</td>\n",
       "    </tr>\n",
       "    <tr>\n",
       "      <th>TRP</th>\n",
       "      <td>0.001565</td>\n",
       "      <td>0.000542</td>\n",
       "    </tr>\n",
       "    <tr>\n",
       "      <th>HIS</th>\n",
       "      <td>0.019776</td>\n",
       "      <td>0.017541</td>\n",
       "    </tr>\n",
       "    <tr>\n",
       "      <th>ARG</th>\n",
       "      <td>0.111238</td>\n",
       "      <td>0.047124</td>\n",
       "    </tr>\n",
       "    <tr>\n",
       "      <th>PYR</th>\n",
       "      <td>184.683400</td>\n",
       "      <td>33.143471</td>\n",
       "    </tr>\n",
       "    <tr>\n",
       "      <th>ORO</th>\n",
       "      <td>32.173417</td>\n",
       "      <td>1.699025</td>\n",
       "    </tr>\n",
       "    <tr>\n",
       "      <th>URA</th>\n",
       "      <td>-1.055334</td>\n",
       "      <td>-0.445719</td>\n",
       "    </tr>\n",
       "    <tr>\n",
       "      <th>ACT</th>\n",
       "      <td>305.961209</td>\n",
       "      <td>53.602379</td>\n",
       "    </tr>\n",
       "  </tbody>\n",
       "</table>\n",
       "</div>"
      ],
      "text/plain": [
       "            Leakage (uM/h/OD)  Leakage std\n",
       "Metabolite                                \n",
       "G6P                  0.440616     0.015430\n",
       "F6P                  0.718007     0.033832\n",
       "FBP                  0.359004     0.014058\n",
       "DHAP                 0.627496     0.065091\n",
       "GA3P                 0.186804     0.014218\n",
       "23PG                 0.254953     0.023705\n",
       "PEP                  0.069823     0.006347\n",
       "R5P                  0.092261     0.004086\n",
       "RU5P+X5P             0.041445     0.003663\n",
       "E4P                  0.022841     0.005350\n",
       "CIT                  2.875832     0.149685\n",
       "ACN                  0.249477     0.043896\n",
       "ICIT                 0.515611     0.022924\n",
       "AKG                  0.313748     1.008431\n",
       "FUM                  0.171135     0.040390\n",
       "OAS                  0.030424     0.003281\n",
       "GLU                 -0.020536    -0.025821\n",
       "SER                 -0.001103    -0.002621\n",
       "ASP                  0.024510     0.001170\n",
       "THR                  0.050086     0.017928\n",
       "HOM                  0.032192     0.009134\n",
       "TYR                  0.001065     0.000551\n",
       "GLY                  0.011405     0.017411\n",
       "PRO                  0.006921     0.001653\n",
       "ALA                  0.027382     0.014001\n",
       "MET                  0.004906     0.000525\n",
       "VAL                  0.027096     0.002453\n",
       "PHE                  0.004278     0.000949\n",
       "ILEU                 0.028675     0.001957\n",
       "LEU                  0.028313     0.000828\n",
       "TRP                  0.001565     0.000542\n",
       "HIS                  0.019776     0.017541\n",
       "ARG                  0.111238     0.047124\n",
       "PYR                184.683400    33.143471\n",
       "ORO                 32.173417     1.699025\n",
       "URA                 -1.055334    -0.445719\n",
       "ACT                305.961209    53.602379"
      ]
     },
     "execution_count": 91,
     "metadata": {},
     "output_type": "execute_result"
    }
   ],
   "source": [
    "leakage_df"
   ]
  },
  {
   "cell_type": "code",
   "execution_count": 92,
   "id": "71496f1c-6533-4401-978b-a0af2d2fc706",
   "metadata": {},
   "outputs": [],
   "source": [
    "# Read metabolite mapping\n",
    "mapping_df = pd.read_csv('../../data/e_coli/abbrev_to_id.csv', index_col=0)\n",
    "leakage_df = leakage_df.join(mapping_df)\n"
   ]
  },
  {
   "cell_type": "code",
   "execution_count": 93,
   "id": "eeba266b-0fc1-42bf-bc4c-3982bc9371dc",
   "metadata": {},
   "outputs": [],
   "source": [
    "leakage_df.set_index('met id', inplace = True)"
   ]
  },
  {
   "cell_type": "markdown",
   "id": "14a84443-1e91-4fe1-8f49-d82ff5afef23",
   "metadata": {},
   "source": [
    "# Plot a cumulative distribution of shadow prices\n"
   ]
  },
  {
   "cell_type": "code",
   "execution_count": 94,
   "id": "b2eac7a5-c1a9-4303-9d1c-7537c9757cf9",
   "metadata": {},
   "outputs": [],
   "source": [
    "solution = model.optimize()"
   ]
  },
  {
   "cell_type": "code",
   "execution_count": 95,
   "id": "1502dc7a-ffa6-4059-9fb9-fcb76b2b03df",
   "metadata": {},
   "outputs": [],
   "source": [
    "turnover_dict = {}\n",
    "for m in model.metabolites:\n",
    "    if m.compartment == 'c':\n",
    "        total_flux = 0\n",
    "        for r in m.reactions:\n",
    "            flux_r = solution.fluxes[r.id]*r.get_coefficient(m.id)\n",
    "            if flux_r > 0:\n",
    "                total_flux += flux_r\n",
    "        turnover_dict[m.id] = total_flux"
   ]
  },
  {
   "cell_type": "code",
   "execution_count": 96,
   "id": "41c63d07-bc68-4b87-a198-25ad4c08f38c",
   "metadata": {},
   "outputs": [],
   "source": [
    "sp = solution.shadow_prices"
   ]
  },
  {
   "cell_type": "code",
   "execution_count": 97,
   "id": "fb816807-b9cc-418b-9e41-9efec41df9c2",
   "metadata": {},
   "outputs": [],
   "source": [
    "sp.sort_values(inplace=True)"
   ]
  },
  {
   "cell_type": "code",
   "execution_count": 98,
   "id": "e5d0b390-0c41-445f-bc21-be32fc7505cc",
   "metadata": {},
   "outputs": [],
   "source": [
    "# Filter metabolites to only the organic metabolites where there is a turnover\n",
    "met_ids =[]\n",
    "sp_list = []\n",
    "for m in model.metabolites:\n",
    "    # Remove non-organic compounds\n",
    "    if m.id[:-2].lower() in ['co2', 'hco3']:\n",
    "        continue\n",
    "    if m.compartment == 'c':\n",
    "        if sp[m.id] <0:\n",
    "            if turnover_dict[m.id] >0:\n",
    "                if 'C' in m.elements.keys():\n",
    "                    met_ids.append(m.id)\n",
    "                    sp_list.append(sp[m.id])"
   ]
  },
  {
   "cell_type": "code",
   "execution_count": 99,
   "id": "abd8e660-5397-4b21-a11d-419d41721de0",
   "metadata": {},
   "outputs": [],
   "source": [
    "selected_sp = pd.Series(sp_list, index = met_ids)"
   ]
  },
  {
   "cell_type": "code",
   "execution_count": 100,
   "id": "9e42fcb1-14da-4a3c-b19a-26b5a77ea42e",
   "metadata": {},
   "outputs": [],
   "source": [
    "selected_sp.sort_values(inplace = True, ascending=False)"
   ]
  },
  {
   "cell_type": "code",
   "execution_count": 101,
   "id": "4fb48bfa-c602-49ac-86cc-c04b8d25fbff",
   "metadata": {},
   "outputs": [
    {
     "data": {
      "text/plain": [
       "<matplotlib.colorbar.Colorbar at 0x7f8ff76f72b0>"
      ]
     },
     "execution_count": 101,
     "metadata": {},
     "output_type": "execute_result"
    },
    {
     "data": {
      "image/png": "[encoded data removed]",
      "text/plain": [
       "<Figure size 1600x600 with 3 Axes>"
      ]
     },
     "metadata": {},
     "output_type": "display_data"
    }
   ],
   "source": [
    "fig, [ax1, ax2] = plt.subplots(1,2, figsize = (16,6))\n",
    "smax = np.log(leakage_df['Leakage (uM/h/OD)'].abs().max())\n",
    "smin = np.log(leakage_df['Leakage (uM/h/OD)'].abs().min())\n",
    "norm = plt.Normalize(vmin=np.floor(smin), vmax=np.ceil(smax))\n",
    "#norm = matplotlib.colors.BoundaryNorm([0,1,2,3], cmap.N, extend='neither')\n",
    "cmap = plt.cm.viridis\n",
    "sm = matplotlib.cm.ScalarMappable(cmap=cmap, norm=norm)\n",
    "\n",
    "\n",
    "# Get 10% least valuable\n",
    "first_x = np.ceil(0.1*len(selected_sp))\n",
    "\n",
    "for i, (m_id, sp_i) in enumerate(selected_sp.items()):\n",
    "    met_id = m_id.replace('_c', '')\n",
    "    try:\n",
    "        leak_i = leakage_df.loc[met_id, \"Leakage (uM/h/OD)\"]\n",
    "    except KeyError:\n",
    "        leak_i = 0 \n",
    "    if sp_i > 0:\n",
    "        raise ValueError\n",
    "    sp_abs = np.abs(sp_i)\n",
    "    \n",
    "    if leak_i > 0:\n",
    "        ax1.scatter(i, sp_abs, s = 30, c = np.log(leak_i), cmap = cmap, norm = norm)\n",
    "    else:\n",
    "        ax1.scatter(i, sp_abs,s=10, c = 'b', alpha = 0.5)\n",
    "    \n",
    "    # Make a seperate plot for the 10% least expensive\n",
    "    if i < first_x:\n",
    "        if leak_i > 0:\n",
    "            ax2.scatter(i, sp_abs, s = 30, c = np.log(leak_i), cmap = cmap, norm = norm)\n",
    "        else:\n",
    "            ax2.scatter(i, sp_abs,s=10, c = 'b', alpha = 0.5)\n",
    "        ax2.annotate(m_id, (i+1, sp_abs))\n",
    "\n",
    "    \n",
    "    \n",
    "#ax.scatter(np.arange(len(selected_sp)), np.abs(selected_sp), s = 10)\n",
    "ax1.set_yscale('log')\n",
    "#ax1.set_xlim(0,400)\n",
    "ax2.set_yscale('log')\n",
    "ax2.set_xlim(0, first_x+5)\n",
    "ax1.set_ylabel('-1 * Shadow price')\n",
    "ax2.set_ylabel('-1 * Shadow price')\n",
    "ax1.set_xlabel('Rank')\n",
    "ax2.set_xlabel('Rank')\n",
    "\n",
    "fig.colorbar(sm, ax = [ax1, ax2], label = \"ln(Leakage (uM/h/OD))\")\n",
    "# plt.savefig('Rank of shadow price ecoli knock outs.svg')"
   ]
  },
  {
   "cell_type": "code",
   "execution_count": 158,
   "id": "6bbd8859-d3bb-43ec-8b31-20fe23e40310",
   "metadata": {},
   "outputs": [
    {
     "data": {
      "text/html": [
       "<div>\n",
       "<style scoped>\n",
       "    .dataframe tbody tr th:only-of-type {\n",
       "        vertical-align: middle;\n",
       "    }\n",
       "\n",
       "    .dataframe tbody tr th {\n",
       "        vertical-align: top;\n",
       "    }\n",
       "\n",
       "    .dataframe thead th {\n",
       "        text-align: right;\n",
       "    }\n",
       "</style>\n",
       "<table border=\"1\" class=\"dataframe\">\n",
       "  <thead>\n",
       "    <tr style=\"text-align: right;\">\n",
       "      <th></th>\n",
       "      <th>Leakage (uM/h/OD)</th>\n",
       "      <th>Leakage std</th>\n",
       "    </tr>\n",
       "    <tr>\n",
       "      <th>met id</th>\n",
       "      <th></th>\n",
       "      <th></th>\n",
       "    </tr>\n",
       "  </thead>\n",
       "  <tbody>\n",
       "    <tr>\n",
       "      <th>g6p</th>\n",
       "      <td>0.440616</td>\n",
       "      <td>0.015430</td>\n",
       "    </tr>\n",
       "    <tr>\n",
       "      <th>f6p</th>\n",
       "      <td>0.718007</td>\n",
       "      <td>0.033832</td>\n",
       "    </tr>\n",
       "    <tr>\n",
       "      <th>fdp</th>\n",
       "      <td>0.359004</td>\n",
       "      <td>0.014058</td>\n",
       "    </tr>\n",
       "    <tr>\n",
       "      <th>dhap</th>\n",
       "      <td>0.627496</td>\n",
       "      <td>0.065091</td>\n",
       "    </tr>\n",
       "    <tr>\n",
       "      <th>g3p</th>\n",
       "      <td>0.186804</td>\n",
       "      <td>0.014218</td>\n",
       "    </tr>\n",
       "    <tr>\n",
       "      <th>3pg</th>\n",
       "      <td>0.254953</td>\n",
       "      <td>0.023705</td>\n",
       "    </tr>\n",
       "    <tr>\n",
       "      <th>pep</th>\n",
       "      <td>0.069823</td>\n",
       "      <td>0.006347</td>\n",
       "    </tr>\n",
       "    <tr>\n",
       "      <th>r5p</th>\n",
       "      <td>0.092261</td>\n",
       "      <td>0.004086</td>\n",
       "    </tr>\n",
       "    <tr>\n",
       "      <th>ru5p__D, ru5p__L, xu5p__D, xu5p__L</th>\n",
       "      <td>0.041445</td>\n",
       "      <td>0.003663</td>\n",
       "    </tr>\n",
       "    <tr>\n",
       "      <th>e4p</th>\n",
       "      <td>0.022841</td>\n",
       "      <td>0.005350</td>\n",
       "    </tr>\n",
       "    <tr>\n",
       "      <th>cit</th>\n",
       "      <td>2.875832</td>\n",
       "      <td>0.149685</td>\n",
       "    </tr>\n",
       "    <tr>\n",
       "      <th>acon</th>\n",
       "      <td>0.249477</td>\n",
       "      <td>0.043896</td>\n",
       "    </tr>\n",
       "    <tr>\n",
       "      <th>icit</th>\n",
       "      <td>0.515611</td>\n",
       "      <td>0.022924</td>\n",
       "    </tr>\n",
       "    <tr>\n",
       "      <th>akg</th>\n",
       "      <td>0.313748</td>\n",
       "      <td>1.008431</td>\n",
       "    </tr>\n",
       "    <tr>\n",
       "      <th>fum</th>\n",
       "      <td>0.171135</td>\n",
       "      <td>0.040390</td>\n",
       "    </tr>\n",
       "    <tr>\n",
       "      <th>oaa</th>\n",
       "      <td>0.030424</td>\n",
       "      <td>0.003281</td>\n",
       "    </tr>\n",
       "    <tr>\n",
       "      <th>glu__L</th>\n",
       "      <td>-0.020536</td>\n",
       "      <td>-0.025821</td>\n",
       "    </tr>\n",
       "    <tr>\n",
       "      <th>ser__L</th>\n",
       "      <td>-0.001103</td>\n",
       "      <td>-0.002621</td>\n",
       "    </tr>\n",
       "    <tr>\n",
       "      <th>asp__L</th>\n",
       "      <td>0.024510</td>\n",
       "      <td>0.001170</td>\n",
       "    </tr>\n",
       "    <tr>\n",
       "      <th>thr__L</th>\n",
       "      <td>0.050086</td>\n",
       "      <td>0.017928</td>\n",
       "    </tr>\n",
       "    <tr>\n",
       "      <th>hom__L</th>\n",
       "      <td>0.032192</td>\n",
       "      <td>0.009134</td>\n",
       "    </tr>\n",
       "    <tr>\n",
       "      <th>tyr__L</th>\n",
       "      <td>0.001065</td>\n",
       "      <td>0.000551</td>\n",
       "    </tr>\n",
       "    <tr>\n",
       "      <th>gly</th>\n",
       "      <td>0.011405</td>\n",
       "      <td>0.017411</td>\n",
       "    </tr>\n",
       "    <tr>\n",
       "      <th>pro__L</th>\n",
       "      <td>0.006921</td>\n",
       "      <td>0.001653</td>\n",
       "    </tr>\n",
       "    <tr>\n",
       "      <th>ala__L</th>\n",
       "      <td>0.027382</td>\n",
       "      <td>0.014001</td>\n",
       "    </tr>\n",
       "    <tr>\n",
       "      <th>met__L</th>\n",
       "      <td>0.004906</td>\n",
       "      <td>0.000525</td>\n",
       "    </tr>\n",
       "    <tr>\n",
       "      <th>val__L</th>\n",
       "      <td>0.027096</td>\n",
       "      <td>0.002453</td>\n",
       "    </tr>\n",
       "    <tr>\n",
       "      <th>phe__L</th>\n",
       "      <td>0.004278</td>\n",
       "      <td>0.000949</td>\n",
       "    </tr>\n",
       "    <tr>\n",
       "      <th>ile__L</th>\n",
       "      <td>0.028675</td>\n",
       "      <td>0.001957</td>\n",
       "    </tr>\n",
       "    <tr>\n",
       "      <th>leu__L</th>\n",
       "      <td>0.028313</td>\n",
       "      <td>0.000828</td>\n",
       "    </tr>\n",
       "    <tr>\n",
       "      <th>trp__L</th>\n",
       "      <td>0.001565</td>\n",
       "      <td>0.000542</td>\n",
       "    </tr>\n",
       "    <tr>\n",
       "      <th>his__L</th>\n",
       "      <td>0.019776</td>\n",
       "      <td>0.017541</td>\n",
       "    </tr>\n",
       "    <tr>\n",
       "      <th>arg__L</th>\n",
       "      <td>0.111238</td>\n",
       "      <td>0.047124</td>\n",
       "    </tr>\n",
       "    <tr>\n",
       "      <th>pyr</th>\n",
       "      <td>184.683400</td>\n",
       "      <td>33.143471</td>\n",
       "    </tr>\n",
       "    <tr>\n",
       "      <th>orot</th>\n",
       "      <td>32.173417</td>\n",
       "      <td>1.699025</td>\n",
       "    </tr>\n",
       "    <tr>\n",
       "      <th>ura</th>\n",
       "      <td>-1.055334</td>\n",
       "      <td>-0.445719</td>\n",
       "    </tr>\n",
       "    <tr>\n",
       "      <th>ac</th>\n",
       "      <td>305.961209</td>\n",
       "      <td>53.602379</td>\n",
       "    </tr>\n",
       "  </tbody>\n",
       "</table>\n",
       "</div>"
      ],
      "text/plain": [
       "                                    Leakage (uM/h/OD)  Leakage std\n",
       "met id                                                            \n",
       "g6p                                          0.440616     0.015430\n",
       "f6p                                          0.718007     0.033832\n",
       "fdp                                          0.359004     0.014058\n",
       "dhap                                         0.627496     0.065091\n",
       "g3p                                          0.186804     0.014218\n",
       "3pg                                          0.254953     0.023705\n",
       "pep                                          0.069823     0.006347\n",
       "r5p                                          0.092261     0.004086\n",
       "ru5p__D, ru5p__L, xu5p__D, xu5p__L           0.041445     0.003663\n",
       "e4p                                          0.022841     0.005350\n",
       "cit                                          2.875832     0.149685\n",
       "acon                                         0.249477     0.043896\n",
       "icit                                         0.515611     0.022924\n",
       "akg                                          0.313748     1.008431\n",
       "fum                                          0.171135     0.040390\n",
       "oaa                                          0.030424     0.003281\n",
       "glu__L                                      -0.020536    -0.025821\n",
       "ser__L                                      -0.001103    -0.002621\n",
       "asp__L                                       0.024510     0.001170\n",
       "thr__L                                       0.050086     0.017928\n",
       "hom__L                                       0.032192     0.009134\n",
       "tyr__L                                       0.001065     0.000551\n",
       "gly                                          0.011405     0.017411\n",
       "pro__L                                       0.006921     0.001653\n",
       "ala__L                                       0.027382     0.014001\n",
       "met__L                                       0.004906     0.000525\n",
       "val__L                                       0.027096     0.002453\n",
       "phe__L                                       0.004278     0.000949\n",
       "ile__L                                       0.028675     0.001957\n",
       "leu__L                                       0.028313     0.000828\n",
       "trp__L                                       0.001565     0.000542\n",
       "his__L                                       0.019776     0.017541\n",
       "arg__L                                       0.111238     0.047124\n",
       "pyr                                        184.683400    33.143471\n",
       "orot                                        32.173417     1.699025\n",
       "ura                                         -1.055334    -0.445719\n",
       "ac                                         305.961209    53.602379"
      ]
     },
     "execution_count": 158,
     "metadata": {},
     "output_type": "execute_result"
    }
   ],
   "source": [
    "leakage_df"
   ]
  },
  {
   "cell_type": "markdown",
   "id": "f1571e0c-9aa5-4dfe-a163-fd03e8ff7b9e",
   "metadata": {},
   "source": [
    "# Violin plot of distributions\n"
   ]
  },
  {
   "cell_type": "code",
   "execution_count": 168,
   "id": "f367a850-9f6c-4dd1-85c2-7222f06da9d0",
   "metadata": {},
   "outputs": [
    {
     "data": {
      "text/plain": [
       "<AxesSubplot:xlabel='Data', ylabel='ln(-Shadow price)'>"
      ]
     },
     "execution_count": 168,
     "metadata": {},
     "output_type": "execute_result"
    },
    {
     "data": {
      "image/png": "[encoded data removed]",
      "text/plain": [
       "<Figure size 640x480 with 1 Axes>"
      ]
     },
     "metadata": {},
     "output_type": "display_data"
    }
   ],
   "source": [
    "leaked = []\n",
    "not_measured = []\n",
    "df_violin = pd.DataFrame()\n",
    "df_violin['ln(-Shadow price)'] = np.log(selected_sp*-1)\n",
    "\n",
    "for i, (m_id, sp_i) in enumerate(selected_sp.items()):\n",
    "    met_id = m_id.replace('_c', '')\n",
    "    try:\n",
    "        leak_i = leakage_df.loc[met_id, \"Leakage (uM/h/OD)\"]\n",
    "    except KeyError:\n",
    "        leaked.append(\"Not measured\")\n",
    "    else:\n",
    "        leaked.append(\"Leaked\")\n",
    "df_violin[\"Data\"] = leaked\n",
    "\n",
    "        \n",
    "# df_sp = pd.DataFrame({'Leaked':leaked, 'Not measured': not_measured})\n",
    "# fig, ax = plt.subplots(1, figsize = (8,8))\n",
    "g = sns.violinplot(data = df_violin, x = \"Data\", y = 'ln(-Shadow price)', inner = None)\n",
    "sns.swarmplot(data=df_violin, x = \"Data\", y = 'ln(-Shadow price)', color=\"k\", size=3, ax=g.axes)\n",
    "#sns.violinplot(data=df_sp, x=\"age\", y=\"class\")\n",
    "\n"
   ]
  },
  {
   "cell_type": "markdown",
   "id": "390c5307-8d6d-4e6b-a2c8-dfedc3c786b7",
   "metadata": {},
   "source": [
    "# Significant difference?\n",
    "Now performing a mannwhitneyu, but need to chjeck whether this is appropriate"
   ]
  },
  {
   "cell_type": "code",
   "execution_count": 172,
   "id": "03463488-9561-4c06-b044-32a397b2abb8",
   "metadata": {},
   "outputs": [
    {
     "data": {
      "text/plain": [
       "MannwhitneyuResult(statistic=1741.0, pvalue=2.132728712059194e-09)"
      ]
     },
     "execution_count": 172,
     "metadata": {},
     "output_type": "execute_result"
    }
   ],
   "source": [
    "x = df_violin.loc[df_violin['Data']== 'Leaked', 'ln(-Shadow price)']\n",
    "y = df_violin.loc[df_violin['Data']== 'Not measured', 'ln(-Shadow price)']\n",
    "mannwhitneyu(x,y)"
   ]
  },
  {
   "cell_type": "code",
   "execution_count": 167,
   "id": "b7266cc4-3a6d-469c-be7e-2af877435908",
   "metadata": {},
   "outputs": [
    {
     "data": {
      "text/plain": [
       "<AxesSubplot:xlabel='Data', ylabel='ln(-Shadow price)'>"
      ]
     },
     "execution_count": 167,
     "metadata": {},
     "output_type": "execute_result"
    }
   ],
   "source": [
    "g.axes"
   ]
  },
  {
   "cell_type": "code",
   "execution_count": 151,
   "id": "ced72c00-d65e-4766-84c7-bbf84913f303",
   "metadata": {},
   "outputs": [
    {
     "data": {
      "text/html": [
       "<div>\n",
       "<style scoped>\n",
       "    .dataframe tbody tr th:only-of-type {\n",
       "        vertical-align: middle;\n",
       "    }\n",
       "\n",
       "    .dataframe tbody tr th {\n",
       "        vertical-align: top;\n",
       "    }\n",
       "\n",
       "    .dataframe thead th {\n",
       "        text-align: right;\n",
       "    }\n",
       "</style>\n",
       "<table border=\"1\" class=\"dataframe\">\n",
       "  <thead>\n",
       "    <tr style=\"text-align: right;\">\n",
       "      <th></th>\n",
       "      <th>Shadow price</th>\n",
       "      <th>Data</th>\n",
       "    </tr>\n",
       "  </thead>\n",
       "  <tbody>\n",
       "    <tr>\n",
       "      <th>ac_c</th>\n",
       "      <td>-0.000319</td>\n",
       "      <td>Leaked</td>\n",
       "    </tr>\n",
       "    <tr>\n",
       "      <th>acald_c</th>\n",
       "      <td>-0.000747</td>\n",
       "      <td>Leaked</td>\n",
       "    </tr>\n",
       "    <tr>\n",
       "      <th>for_c</th>\n",
       "      <td>-0.001828</td>\n",
       "      <td>Leaked</td>\n",
       "    </tr>\n",
       "    <tr>\n",
       "      <th>pyr_c</th>\n",
       "      <td>-0.003938</td>\n",
       "      <td>Leaked</td>\n",
       "    </tr>\n",
       "    <tr>\n",
       "      <th>dha_c</th>\n",
       "      <td>-0.004902</td>\n",
       "      <td>Leaked</td>\n",
       "    </tr>\n",
       "    <tr>\n",
       "      <th>...</th>\n",
       "      <td>...</td>\n",
       "      <td>...</td>\n",
       "    </tr>\n",
       "    <tr>\n",
       "      <th>moco_c</th>\n",
       "      <td>-32.595900</td>\n",
       "      <td>Leaked</td>\n",
       "    </tr>\n",
       "    <tr>\n",
       "      <th>mptamp_c</th>\n",
       "      <td>-32.799671</td>\n",
       "      <td>Leaked</td>\n",
       "    </tr>\n",
       "    <tr>\n",
       "      <th>bmoco_c</th>\n",
       "      <td>-65.186376</td>\n",
       "      <td>Leaked</td>\n",
       "    </tr>\n",
       "    <tr>\n",
       "      <th>bmoco1gdp_c</th>\n",
       "      <td>-65.391201</td>\n",
       "      <td>Leaked</td>\n",
       "    </tr>\n",
       "    <tr>\n",
       "      <th>bmocogdp_c</th>\n",
       "      <td>-65.596026</td>\n",
       "      <td>Leaked</td>\n",
       "    </tr>\n",
       "  </tbody>\n",
       "</table>\n",
       "<p>323 rows × 2 columns</p>\n",
       "</div>"
      ],
      "text/plain": [
       "             Shadow price    Data\n",
       "ac_c            -0.000319  Leaked\n",
       "acald_c         -0.000747  Leaked\n",
       "for_c           -0.001828  Leaked\n",
       "pyr_c           -0.003938  Leaked\n",
       "dha_c           -0.004902  Leaked\n",
       "...                   ...     ...\n",
       "moco_c         -32.595900  Leaked\n",
       "mptamp_c       -32.799671  Leaked\n",
       "bmoco_c        -65.186376  Leaked\n",
       "bmoco1gdp_c    -65.391201  Leaked\n",
       "bmocogdp_c     -65.596026  Leaked\n",
       "\n",
       "[323 rows x 2 columns]"
      ]
     },
     "execution_count": 151,
     "metadata": {},
     "output_type": "execute_result"
    }
   ],
   "source": [
    "df_violin"
   ]
  },
  {
   "cell_type": "code",
   "execution_count": 147,
   "id": "115d03e2-6fd4-45a6-8250-df6b3cca6f60",
   "metadata": {},
   "outputs": [
    {
     "data": {
      "text/plain": [
       "\u001b[0;31mSignature:\u001b[0m \u001b[0mselected_sp\u001b[0m\u001b[0;34m.\u001b[0m\u001b[0mto_frame\u001b[0m\u001b[0;34m(\u001b[0m\u001b[0mname\u001b[0m\u001b[0;34m:\u001b[0m \u001b[0;34m'Hashable'\u001b[0m \u001b[0;34m=\u001b[0m \u001b[0;34m<\u001b[0m\u001b[0mno_default\u001b[0m\u001b[0;34m>\u001b[0m\u001b[0;34m)\u001b[0m \u001b[0;34m->\u001b[0m \u001b[0;34m'DataFrame'\u001b[0m\u001b[0;34m\u001b[0m\u001b[0;34m\u001b[0m\u001b[0m\n",
       "\u001b[0;31mDocstring:\u001b[0m\n",
       "Convert Series to DataFrame.\n",
       "\n",
       "Parameters\n",
       "----------\n",
       "name : object, optional\n",
       "    The passed name should substitute for the series name (if it has\n",
       "    one).\n",
       "\n",
       "Returns\n",
       "-------\n",
       "DataFrame\n",
       "    DataFrame representation of Series.\n",
       "\n",
       "Examples\n",
       "--------\n",
       ">>> s = pd.Series([\"a\", \"b\", \"c\"],\n",
       "...               name=\"vals\")\n",
       ">>> s.to_frame()\n",
       "  vals\n",
       "0    a\n",
       "1    b\n",
       "2    c\n",
       "\u001b[0;31mFile:\u001b[0m      ~/opt/anaconda3/envs/pytfa/lib/python3.10/site-packages/pandas/core/series.py\n",
       "\u001b[0;31mType:\u001b[0m      method"
      ]
     },
     "metadata": {},
     "output_type": "display_data"
    }
   ],
   "source": []
  },
  {
   "cell_type": "code",
   "execution_count": 87,
   "id": "371318af-90da-4cc8-9aef-90bc496d58c4",
   "metadata": {},
   "outputs": [
    {
     "name": "stdout",
     "output_type": "stream",
     "text": [
      "ac_c        -0.000364\n",
      "pyr_c       -0.004247\n",
      "epmeACP_c   -0.004632\n",
      "actp_c      -0.005998\n",
      "glyclt_c    -0.006232\n",
      "gcald_c     -0.006520\n",
      "glx_c       -0.006521\n",
      "cbp_c       -0.007253\n",
      "ala__L_c    -0.008109\n",
      "pmeACP_c    -0.008468\n",
      "3pg_c       -0.009243\n",
      "2pg_c       -0.009358\n",
      "pep_c       -0.010525\n",
      "3php_c      -0.010768\n",
      "glc__D_c    -0.010783\n",
      "oaa_c       -0.010820\n",
      "alac__S_c   -0.010858\n",
      "fum_c       -0.012259\n",
      "succ_c      -0.012325\n",
      "mal__L_c    -0.012407\n",
      "iasp_c      -0.013112\n",
      "asp__L_c    -0.013306\n",
      "pimACP_c    -0.014006\n",
      "dhap_c      -0.014607\n",
      "g3p_c       -0.014611\n",
      "13dpg_c     -0.014839\n",
      "6pgl_c      -0.015618\n",
      "ala_B_c     -0.015666\n",
      "e4p_c       -0.016056\n",
      "xu5p__D_c   -0.016091\n",
      "akg_c       -0.016093\n",
      "4per_c      -0.016223\n",
      "cit_c       -0.016288\n",
      "dtype: float64\n"
     ]
    }
   ],
   "source": [
    "print(selected_sp[:int(first_x)])"
   ]
  },
  {
   "cell_type": "markdown",
   "id": "51f83923-2048-4afb-9ccf-8d65e0f85574",
   "metadata": {},
   "source": [
    "# Check if metabolites are dispensable"
   ]
  },
  {
   "cell_type": "code",
   "execution_count": 141,
   "id": "0aef9947-07cb-4fb9-881b-cb1275e35618",
   "metadata": {},
   "outputs": [
    {
     "name": "stdout",
     "output_type": "stream",
     "text": [
      "0.7429753865197872\n",
      "0.0\n"
     ]
    }
   ],
   "source": [
    "with model as model:\n",
    "    print(model.slim_optimize())\n",
    "    model.metabolites.glyclt_c.remove_from_model(destructive = True)\n",
    "    print(model.slim_optimize())"
   ]
  },
  {
   "cell_type": "code",
   "execution_count": null,
   "id": "32147e91-af75-4c15-9cbd-27157e276d0c",
   "metadata": {},
   "outputs": [],
   "source": []
  },
  {
   "cell_type": "code",
   "execution_count": null,
   "id": "e78747b5-650c-4a9b-98dd-0413a8219355",
   "metadata": {},
   "outputs": [],
   "source": [
    "model.metabolites.glc__D_c.remove_from_model()"
   ]
  },
  {
   "cell_type": "code",
   "execution_count": 105,
   "id": "1dac739f-3960-4ee5-90bf-7f60a4ac208e",
   "metadata": {},
   "outputs": [
    {
     "data": {
      "text/html": [
       "\n",
       "        <table>\n",
       "            <tr>\n",
       "                <td><strong>Metabolite identifier</strong></td><td>actp_c</td>\n",
       "            </tr><tr>\n",
       "                <td><strong>Name</strong></td><td>Acetyl phosphate</td>\n",
       "            </tr><tr>\n",
       "                <td><strong>Memory address</strong></td>\n",
       "                <td>0x7f8fd8956890</td>\n",
       "            </tr><tr>\n",
       "                <td><strong>Formula</strong></td><td>C2H3O5P</td>\n",
       "            </tr><tr>\n",
       "                <td><strong>Compartment</strong></td><td>c</td>\n",
       "            </tr><tr>\n",
       "                <td><strong>In 4 reaction(s)</strong></td><td>\n",
       "                    ACKr_TG_forward, PTAr_TG_reverse, PTAr_TG_forward, ACKr_TG_reverse\n",
       "                    </td>\n",
       "            </tr>\n",
       "        </table>"
      ],
      "text/plain": [
       "<Metabolite actp_c at 0x7f8fd8956890>"
      ]
     },
     "execution_count": 105,
     "metadata": {},
     "output_type": "execute_result"
    }
   ],
   "source": [
    "model.metabolites.actp_c"
   ]
  },
  {
   "cell_type": "code",
   "execution_count": 104,
   "id": "439a8335-9b8d-4814-b682-50a4a0352e6d",
   "metadata": {},
   "outputs": [
    {
     "data": {
      "text/plain": [
       "'Threonine aldolase'"
      ]
     },
     "execution_count": 104,
     "metadata": {},
     "output_type": "execute_result"
    }
   ],
   "source": [
    "model.reactions.THRA.name\n"
   ]
  },
  {
   "cell_type": "code",
   "execution_count": 65,
   "id": "74b17b59-b4c8-4d3f-b0ae-a53e6e0c53ad",
   "metadata": {},
   "outputs": [],
   "source": [
    "sp_neg = [x for x in sp_list if x < 0]\n",
    "sp_pos = [x for x in sp_list if x > 0]"
   ]
  },
  {
   "cell_type": "code",
   "execution_count": 66,
   "id": "7ca04a91-9bc4-4612-aed7-b3e259ade74e",
   "metadata": {},
   "outputs": [],
   "source": [
    "sp_neg = sorted(sp_neg)\n",
    "sp_pos = sorted(sp_pos)"
   ]
  },
  {
   "cell_type": "code",
   "execution_count": 67,
   "id": "e3e28df0-a1fd-4bea-aa35-ac7c231f96e0",
   "metadata": {},
   "outputs": [
    {
     "data": {
      "image/png": "[encoded data removed]",
      "text/plain": [
       "<Figure size 900x600 with 2 Axes>"
      ]
     },
     "metadata": {},
     "output_type": "display_data"
    }
   ],
   "source": [
    "fig, (ax1, ax2) = plt.subplots(1, 2, figsize = (9, 6))\n",
    "ax1.scatter(np.arange(len(sp_pos)), sp_pos)\n",
    "ax1.set_yscale('log')\n",
    "ax2.scatter(np.arange(len(sp_neg)), np.abs(sp_neg))\n",
    "ax2.set_yscale('log')"
   ]
  },
  {
   "cell_type": "code",
   "execution_count": null,
   "id": "6dfcba14-824c-4937-b78a-4a855b3b74cf",
   "metadata": {},
   "outputs": [],
   "source": []
  }
 ],
 "metadata": {
  "kernelspec": {
   "display_name": "Python 3 (ipykernel)",
   "language": "python",
   "name": "python3"
  },
  "language_info": {
   "codemirror_mode": {
    "name": "ipython",
    "version": 3
   },
   "file_extension": ".py",
   "mimetype": "text/x-python",
   "name": "python",
   "nbconvert_exporter": "python",
   "pygments_lexer": "ipython3",
   "version": "3.10.4"
  }
 },
 "nbformat": 4,
 "nbformat_minor": 5
}
