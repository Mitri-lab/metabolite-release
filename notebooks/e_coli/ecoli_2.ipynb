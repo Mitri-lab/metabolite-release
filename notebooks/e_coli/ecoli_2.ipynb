{
 "cells": [
  {
   "cell_type": "code",
   "execution_count": 161,
   "id": "7780543c-3c1f-414f-9b20-59133ef327bb",
   "metadata": {},
   "outputs": [],
   "source": [
    "import cobra\n",
    "import numpy as np\n",
    "from matplotlib import pyplot as plt\n",
    "import pandas as pd\n",
    "import sys\n",
    "sys.path.append('../../code/')\n",
    "import leakage\n",
    "from pathlib import Path"
   ]
  },
  {
   "cell_type": "markdown",
   "id": "daac968b-589c-4c8b-917d-76758d2bbc2b",
   "metadata": {},
   "source": [
    "# Load model"
   ]
  },
  {
   "cell_type": "code",
   "execution_count": 162,
   "id": "abb3d24a-2a3b-451e-96e8-5bf7dbed59de",
   "metadata": {},
   "outputs": [],
   "source": [
    "model = cobra.io.read_sbml_model('../../models/e_coli/momentiJO1366.xml')"
   ]
  },
  {
   "cell_type": "code",
   "execution_count": 163,
   "id": "b42b6c24-87b3-4361-b7b8-ae4f9d9dce04",
   "metadata": {},
   "outputs": [],
   "source": [
    "model.reactions.DHAPT.knock_out()\n",
    "model.reactions.THRA.knock_out()\n",
    "model.reactions.THRA2.knock_out()\n",
    "model.reactions.F6PA_TG_forward.knock_out()"
   ]
  },
  {
   "cell_type": "markdown",
   "id": "72bdb321-fb6f-4904-bb02-86f082d475dc",
   "metadata": {},
   "source": [
    "## Define environment"
   ]
  },
  {
   "cell_type": "code",
   "execution_count": 164,
   "id": "174c8448-2edc-4e4f-857a-7bef562f4450",
   "metadata": {},
   "outputs": [],
   "source": [
    "model.reactions.EX_glc__D_e.lower_bound = -10\n",
    "for r in model.exchanges:\n",
    "    r.upper_bound = 1000"
   ]
  },
  {
   "cell_type": "markdown",
   "id": "d5fed5ce-4d3f-42d5-9e32-1b91469ac8c4",
   "metadata": {},
   "source": [
    "# Get leakage\n"
   ]
  },
  {
   "cell_type": "code",
   "execution_count": 165,
   "id": "9863a80e-3cd6-4009-9ef2-7b5fdcfccce7",
   "metadata": {},
   "outputs": [],
   "source": [
    "exometabolites_folder = Path(\"../../data/e_coli/\")\n",
    "leakage_df = leakage.get_leakage(exometabolites_folder, \"ecoli\", time = 7)\n",
    "leakage_df.set_index(\"Metabolite\", inplace=True)\n",
    "leakage_df.drop_duplicates(inplace=True)"
   ]
  },
  {
   "cell_type": "code",
   "execution_count": 166,
   "id": "78ca45af-dddb-4f05-b71a-7718255ff156",
   "metadata": {},
   "outputs": [
    {
     "data": {
      "text/html": [
       "<div>\n",
       "<style scoped>\n",
       "    .dataframe tbody tr th:only-of-type {\n",
       "        vertical-align: middle;\n",
       "    }\n",
       "\n",
       "    .dataframe tbody tr th {\n",
       "        vertical-align: top;\n",
       "    }\n",
       "\n",
       "    .dataframe thead th {\n",
       "        text-align: right;\n",
       "    }\n",
       "</style>\n",
       "<table border=\"1\" class=\"dataframe\">\n",
       "  <thead>\n",
       "    <tr style=\"text-align: right;\">\n",
       "      <th></th>\n",
       "      <th>Leakage (uM/h/OD)</th>\n",
       "      <th>Leakage std</th>\n",
       "    </tr>\n",
       "    <tr>\n",
       "      <th>Metabolite</th>\n",
       "      <th></th>\n",
       "      <th></th>\n",
       "    </tr>\n",
       "  </thead>\n",
       "  <tbody>\n",
       "    <tr>\n",
       "      <th>G6P</th>\n",
       "      <td>0.440616</td>\n",
       "      <td>0.015430</td>\n",
       "    </tr>\n",
       "    <tr>\n",
       "      <th>F6P</th>\n",
       "      <td>0.718007</td>\n",
       "      <td>0.033832</td>\n",
       "    </tr>\n",
       "    <tr>\n",
       "      <th>FBP</th>\n",
       "      <td>0.359004</td>\n",
       "      <td>0.014058</td>\n",
       "    </tr>\n",
       "    <tr>\n",
       "      <th>DHAP</th>\n",
       "      <td>0.627496</td>\n",
       "      <td>0.065091</td>\n",
       "    </tr>\n",
       "    <tr>\n",
       "      <th>GA3P</th>\n",
       "      <td>0.186804</td>\n",
       "      <td>0.014218</td>\n",
       "    </tr>\n",
       "    <tr>\n",
       "      <th>23PG</th>\n",
       "      <td>0.254953</td>\n",
       "      <td>0.023705</td>\n",
       "    </tr>\n",
       "    <tr>\n",
       "      <th>PEP</th>\n",
       "      <td>0.069823</td>\n",
       "      <td>0.006347</td>\n",
       "    </tr>\n",
       "    <tr>\n",
       "      <th>R5P</th>\n",
       "      <td>0.092261</td>\n",
       "      <td>0.004086</td>\n",
       "    </tr>\n",
       "    <tr>\n",
       "      <th>RU5P+X5P</th>\n",
       "      <td>0.041445</td>\n",
       "      <td>0.003663</td>\n",
       "    </tr>\n",
       "    <tr>\n",
       "      <th>E4P</th>\n",
       "      <td>0.022841</td>\n",
       "      <td>0.005350</td>\n",
       "    </tr>\n",
       "    <tr>\n",
       "      <th>CIT</th>\n",
       "      <td>2.875832</td>\n",
       "      <td>0.149685</td>\n",
       "    </tr>\n",
       "    <tr>\n",
       "      <th>ACN</th>\n",
       "      <td>0.249477</td>\n",
       "      <td>0.043896</td>\n",
       "    </tr>\n",
       "    <tr>\n",
       "      <th>ICIT</th>\n",
       "      <td>0.515611</td>\n",
       "      <td>0.022924</td>\n",
       "    </tr>\n",
       "    <tr>\n",
       "      <th>AKG</th>\n",
       "      <td>0.313748</td>\n",
       "      <td>1.008431</td>\n",
       "    </tr>\n",
       "    <tr>\n",
       "      <th>FUM</th>\n",
       "      <td>0.171135</td>\n",
       "      <td>0.040390</td>\n",
       "    </tr>\n",
       "    <tr>\n",
       "      <th>OAS</th>\n",
       "      <td>0.030424</td>\n",
       "      <td>0.003281</td>\n",
       "    </tr>\n",
       "    <tr>\n",
       "      <th>GLU</th>\n",
       "      <td>-0.020536</td>\n",
       "      <td>-0.025821</td>\n",
       "    </tr>\n",
       "    <tr>\n",
       "      <th>SER</th>\n",
       "      <td>-0.001103</td>\n",
       "      <td>-0.002621</td>\n",
       "    </tr>\n",
       "    <tr>\n",
       "      <th>ASP</th>\n",
       "      <td>0.024510</td>\n",
       "      <td>0.001170</td>\n",
       "    </tr>\n",
       "    <tr>\n",
       "      <th>THR</th>\n",
       "      <td>0.050086</td>\n",
       "      <td>0.017928</td>\n",
       "    </tr>\n",
       "    <tr>\n",
       "      <th>HOM</th>\n",
       "      <td>0.032192</td>\n",
       "      <td>0.009134</td>\n",
       "    </tr>\n",
       "    <tr>\n",
       "      <th>TYR</th>\n",
       "      <td>0.001065</td>\n",
       "      <td>0.000551</td>\n",
       "    </tr>\n",
       "    <tr>\n",
       "      <th>GLY</th>\n",
       "      <td>0.011405</td>\n",
       "      <td>0.017411</td>\n",
       "    </tr>\n",
       "    <tr>\n",
       "      <th>PRO</th>\n",
       "      <td>0.006921</td>\n",
       "      <td>0.001653</td>\n",
       "    </tr>\n",
       "    <tr>\n",
       "      <th>ALA</th>\n",
       "      <td>0.027382</td>\n",
       "      <td>0.014001</td>\n",
       "    </tr>\n",
       "    <tr>\n",
       "      <th>MET</th>\n",
       "      <td>0.004906</td>\n",
       "      <td>0.000525</td>\n",
       "    </tr>\n",
       "    <tr>\n",
       "      <th>VAL</th>\n",
       "      <td>0.027096</td>\n",
       "      <td>0.002453</td>\n",
       "    </tr>\n",
       "    <tr>\n",
       "      <th>PHE</th>\n",
       "      <td>0.004278</td>\n",
       "      <td>0.000949</td>\n",
       "    </tr>\n",
       "    <tr>\n",
       "      <th>ILEU</th>\n",
       "      <td>0.028675</td>\n",
       "      <td>0.001957</td>\n",
       "    </tr>\n",
       "    <tr>\n",
       "      <th>LEU</th>\n",
       "      <td>0.028313</td>\n",
       "      <td>0.000828</td>\n",
       "    </tr>\n",
       "    <tr>\n",
       "      <th>TRP</th>\n",
       "      <td>0.001565</td>\n",
       "      <td>0.000542</td>\n",
       "    </tr>\n",
       "    <tr>\n",
       "      <th>HIS</th>\n",
       "      <td>0.019776</td>\n",
       "      <td>0.017541</td>\n",
       "    </tr>\n",
       "    <tr>\n",
       "      <th>ARG</th>\n",
       "      <td>0.111238</td>\n",
       "      <td>0.047124</td>\n",
       "    </tr>\n",
       "    <tr>\n",
       "      <th>PYR</th>\n",
       "      <td>184.683400</td>\n",
       "      <td>33.143471</td>\n",
       "    </tr>\n",
       "    <tr>\n",
       "      <th>ORO</th>\n",
       "      <td>32.173417</td>\n",
       "      <td>1.699025</td>\n",
       "    </tr>\n",
       "    <tr>\n",
       "      <th>URA</th>\n",
       "      <td>-1.055334</td>\n",
       "      <td>-0.445719</td>\n",
       "    </tr>\n",
       "    <tr>\n",
       "      <th>ACT</th>\n",
       "      <td>305.961209</td>\n",
       "      <td>53.602379</td>\n",
       "    </tr>\n",
       "  </tbody>\n",
       "</table>\n",
       "</div>"
      ],
      "text/plain": [
       "            Leakage (uM/h/OD)  Leakage std\n",
       "Metabolite                                \n",
       "G6P                  0.440616     0.015430\n",
       "F6P                  0.718007     0.033832\n",
       "FBP                  0.359004     0.014058\n",
       "DHAP                 0.627496     0.065091\n",
       "GA3P                 0.186804     0.014218\n",
       "23PG                 0.254953     0.023705\n",
       "PEP                  0.069823     0.006347\n",
       "R5P                  0.092261     0.004086\n",
       "RU5P+X5P             0.041445     0.003663\n",
       "E4P                  0.022841     0.005350\n",
       "CIT                  2.875832     0.149685\n",
       "ACN                  0.249477     0.043896\n",
       "ICIT                 0.515611     0.022924\n",
       "AKG                  0.313748     1.008431\n",
       "FUM                  0.171135     0.040390\n",
       "OAS                  0.030424     0.003281\n",
       "GLU                 -0.020536    -0.025821\n",
       "SER                 -0.001103    -0.002621\n",
       "ASP                  0.024510     0.001170\n",
       "THR                  0.050086     0.017928\n",
       "HOM                  0.032192     0.009134\n",
       "TYR                  0.001065     0.000551\n",
       "GLY                  0.011405     0.017411\n",
       "PRO                  0.006921     0.001653\n",
       "ALA                  0.027382     0.014001\n",
       "MET                  0.004906     0.000525\n",
       "VAL                  0.027096     0.002453\n",
       "PHE                  0.004278     0.000949\n",
       "ILEU                 0.028675     0.001957\n",
       "LEU                  0.028313     0.000828\n",
       "TRP                  0.001565     0.000542\n",
       "HIS                  0.019776     0.017541\n",
       "ARG                  0.111238     0.047124\n",
       "PYR                184.683400    33.143471\n",
       "ORO                 32.173417     1.699025\n",
       "URA                 -1.055334    -0.445719\n",
       "ACT                305.961209    53.602379"
      ]
     },
     "execution_count": 166,
     "metadata": {},
     "output_type": "execute_result"
    }
   ],
   "source": [
    "leakage_df"
   ]
  },
  {
   "cell_type": "code",
   "execution_count": 167,
   "id": "71496f1c-6533-4401-978b-a0af2d2fc706",
   "metadata": {},
   "outputs": [],
   "source": [
    "# Read metabolite mapping\n",
    "mapping_df = pd.read_csv('../../data/e_coli/abbrev_to_id.csv', index_col=0)\n",
    "leakage_df = leakage_df.join(mapping_df)\n"
   ]
  },
  {
   "cell_type": "code",
   "execution_count": 168,
   "id": "eeba266b-0fc1-42bf-bc4c-3982bc9371dc",
   "metadata": {},
   "outputs": [],
   "source": [
    "leakage_df.set_index('met id', inplace = True)"
   ]
  },
  {
   "cell_type": "markdown",
   "id": "14a84443-1e91-4fe1-8f49-d82ff5afef23",
   "metadata": {},
   "source": [
    "# Plot a cumulative distribution of shadow prices\n"
   ]
  },
  {
   "cell_type": "code",
   "execution_count": 169,
   "id": "b2eac7a5-c1a9-4303-9d1c-7537c9757cf9",
   "metadata": {},
   "outputs": [],
   "source": [
    "solution = model.optimize()"
   ]
  },
  {
   "cell_type": "code",
   "execution_count": 170,
   "id": "2129a78e-9e93-4893-be51-b9aaa6118976",
   "metadata": {},
   "outputs": [
    {
     "name": "stdout",
     "output_type": "stream",
     "text": [
      "Objective\n",
      "=========\n",
      "1.0 BIOMASS_Ec_iJO1366_core_53p95M = 0.643700290691648\n",
      "\n",
      "Uptake\n",
      "------\n",
      "Metabolite     Reaction      Flux  C-Number  C-Flux\n",
      " prot_pool  ER_pool_TG_     0.095         0   0.00%\n",
      "     ca2_e     EX_ca2_e   0.00335         0   0.00%\n",
      "      cl_e      EX_cl_e   0.00335         0   0.00%\n",
      " cobalt2_e EX_cobalt2_e 1.609E-05         0   0.00%\n",
      "     cu2_e     EX_cu2_e 0.0004564         0   0.00%\n",
      "     fe2_e     EX_fe2_e   0.01034         0   0.00%\n",
      "  glc__D_e  EX_glc__D_e        10         6 100.00%\n",
      "       k_e       EX_k_e    0.1256         0   0.00%\n",
      "     mg2_e     EX_mg2_e  0.005584         0   0.00%\n",
      "     mn2_e     EX_mn2_e 0.0004448         0   0.00%\n",
      "    mobd_e    EX_mobd_e 8.304E-05         0   0.00%\n",
      "     nh4_e     EX_nh4_e     6.952         0   0.00%\n",
      "     ni2_e     EX_ni2_e 0.0002079         0   0.00%\n",
      "      o2_e      EX_o2_e      17.6         0   0.00%\n",
      "      pi_e      EX_pi_e    0.6209         0   0.00%\n",
      "     so4_e     EX_so4_e    0.1623         0   0.00%\n",
      "     zn2_e     EX_zn2_e 0.0002195         0   0.00%\n",
      "\n",
      "Secretion\n",
      "---------\n",
      "Metabolite    Reaction       Flux  C-Number C-Flux\n",
      "  4crsol_c DM_4crsol_c -0.0001435         7  0.00%\n",
      "   5drib_c  DM_5drib_c -0.0001435         5  0.00%\n",
      "  mththf_c DM_mththf_c -0.0002871         5  0.00%\n",
      "      ac_e     EX_ac_e     -7.302         2 43.49%\n",
      "     co2_e    EX_co2_e     -18.97         1 56.50%\n",
      "     h2o_e    EX_h2o_e     -35.97         0  0.00%\n",
      "       h_e      EX_h_e     -13.22         0  0.00%\n",
      "\n"
     ]
    }
   ],
   "source": [
    "print(model.summary())"
   ]
  },
  {
   "cell_type": "code",
   "execution_count": 171,
   "id": "1502dc7a-ffa6-4059-9fb9-fcb76b2b03df",
   "metadata": {},
   "outputs": [],
   "source": [
    "turnover_dict = {}\n",
    "for m in model.metabolites:\n",
    "    if m.compartment == 'c':\n",
    "        total_flux = 0\n",
    "        for r in m.reactions:\n",
    "            flux_r = solution.fluxes[r.id]*r.get_coefficient(m.id)\n",
    "            if flux_r > 0:\n",
    "                total_flux += flux_r\n",
    "        turnover_dict[m.id] = total_flux"
   ]
  },
  {
   "cell_type": "code",
   "execution_count": 172,
   "id": "41c63d07-bc68-4b87-a198-25ad4c08f38c",
   "metadata": {},
   "outputs": [],
   "source": [
    "sp = solution.shadow_prices"
   ]
  },
  {
   "cell_type": "code",
   "execution_count": 173,
   "id": "fb816807-b9cc-418b-9e41-9efec41df9c2",
   "metadata": {},
   "outputs": [],
   "source": [
    "sp.sort_values(inplace=True)"
   ]
  },
  {
   "cell_type": "code",
   "execution_count": 174,
   "id": "b28e2627-e8f7-4491-baa1-49e0b5b3b225",
   "metadata": {},
   "outputs": [
    {
     "data": {
      "text/plain": [
       "{'Na': 1}"
      ]
     },
     "execution_count": 174,
     "metadata": {},
     "output_type": "execute_result"
    }
   ],
   "source": [
    "model.metabolites.na1_c.elements"
   ]
  },
  {
   "cell_type": "code",
   "execution_count": 175,
   "id": "e5d0b390-0c41-445f-bc21-be32fc7505cc",
   "metadata": {},
   "outputs": [],
   "source": [
    "met_ids =[]\n",
    "sp_list = []\n",
    "for m in model.metabolites:\n",
    "    if m.compartment == 'c':\n",
    "        if sp[m.id] <0:\n",
    "            if turnover_dict[m.id] >0:\n",
    "                if 'C' in m.elements.keys():\n",
    "                    met_ids.append(m.id)\n",
    "                    sp_list.append(sp[m.id])"
   ]
  },
  {
   "cell_type": "code",
   "execution_count": 176,
   "id": "abd8e660-5397-4b21-a11d-419d41721de0",
   "metadata": {},
   "outputs": [],
   "source": [
    "selected_sp = pd.Series(sp_list, index = met_ids)"
   ]
  },
  {
   "cell_type": "code",
   "execution_count": 177,
   "id": "9e42fcb1-14da-4a3c-b19a-26b5a77ea42e",
   "metadata": {},
   "outputs": [],
   "source": [
    "selected_sp.sort_values(inplace = True)"
   ]
  },
  {
   "cell_type": "code",
   "execution_count": 178,
   "id": "519c74be-4d69-4e40-a2ed-c1816e94f777",
   "metadata": {},
   "outputs": [
    {
     "data": {
      "text/plain": [
       "bmocogdp_c     -60.429075\n",
       "bmoco1gdp_c    -60.181363\n",
       "bmoco_c        -59.933651\n",
       "mptamp_c       -30.214365\n",
       "moco_c         -29.969386\n",
       "pheme_c         -2.959709\n",
       "sheme_c         -2.779527\n",
       "dscl_c          -2.777315\n",
       "scl_c           -2.776351\n",
       "ppp9_c          -2.373381\n",
       "pppg9_c         -2.342189\n",
       "uppg3_c         -2.271847\n",
       "hmbil_c         -2.271687\n",
       "cpppg3_c        -2.269481\n",
       "thmpp_c         -2.228439\n",
       "fadh2_c         -2.115163\n",
       "fad_c           -2.112711\n",
       "kdo2lipid4_c    -1.583012\n",
       "uaagmda_c       -1.548024\n",
       "kdolipid4_c     -1.488672\n",
       "dtype: float64"
      ]
     },
     "execution_count": 178,
     "metadata": {},
     "output_type": "execute_result"
    }
   ],
   "source": [
    "selected_sp[:20]"
   ]
  },
  {
   "cell_type": "code",
   "execution_count": 179,
   "id": "4fb48bfa-c602-49ac-86cc-c04b8d25fbff",
   "metadata": {},
   "outputs": [
    {
     "name": "stdout",
     "output_type": "stream",
     "text": [
      "7.02208118035429\n",
      "7.291604012368288\n",
      "7.313688235394789\n",
      "7.585027348892724\n",
      "7.931925719056802\n",
      "7.963547711623292\n",
      "8.168018398859463\n",
      "8.224240426412997\n",
      "8.59647485189664\n",
      "8.59806244648892\n",
      "8.99701009030909\n",
      "9.274957328132283\n",
      "9.294973429011245\n",
      "9.42417798642578\n",
      "9.637805815626836\n",
      "9.732622149351693\n",
      "9.761478430718098\n",
      "9.766510074372817\n",
      "9.785765594857105\n",
      "9.834773988662654\n",
      "9.846791821812094\n",
      "9.84908130031573\n",
      "9.943419993582122\n",
      "9.943670914511529\n",
      "10.036959228443834\n",
      "10.118938718288712\n",
      "10.243790427964758\n",
      "10.271411506691885\n",
      "10.401291281070694\n",
      "10.532211610848304\n",
      "11.178882836053585\n",
      "13.63666652537611\n"
     ]
    },
    {
     "data": {
      "image/png": "[encoded data removed]",
      "text/plain": [
       "<Figure size 640x480 with 1 Axes>"
      ]
     },
     "metadata": {},
     "output_type": "display_data"
    }
   ],
   "source": [
    "fig, ax = plt.subplots(1)\n",
    "smax = leakage_df['Leakage (uM/h/OD)'].abs().max()\n",
    "for i, (m_id, sp) in enumerate(selected_sp.iteritems()):\n",
    "    met_id = m_id.replace('_c', '')\n",
    "    try:\n",
    "        leak_i = leakage_df.loc[met_id, \"Leakage (uM/h/OD)\"]\n",
    "    except KeyError:\n",
    "        leak_i = 0 \n",
    "    sp_abs = np.abs(sp)\n",
    "    if leak_i > 0:\n",
    "        size = -1*np.log(sp_abs / smax)\n",
    "        print(size)\n",
    "        ax.scatter(i, sp_abs, s = 5*size, c = 'r')\n",
    "    else:\n",
    "        ax.scatter(i, sp_abs,s=10, c = 'b')\n",
    "    \n",
    "    if sp_abs < 1e-2:\n",
    "        ax.annotate(m_id, (i+1, sp_abs))\n",
    "#ax.scatter(np.arange(len(selected_sp)), np.abs(selected_sp), s = 10)\n",
    "ax.set_yscale('log')\n",
    "ax.set_xlim(0,400)\n",
    "ax.set_ylabel('-1 * Shadow price')\n",
    "ax.set_xlabel('Rank')\n",
    "plt.savefig('Rank of shadow price ecoli knock outs.svg')"
   ]
  },
  {
   "cell_type": "code",
   "execution_count": 65,
   "id": "74b17b59-b4c8-4d3f-b0ae-a53e6e0c53ad",
   "metadata": {},
   "outputs": [],
   "source": [
    "sp_neg = [x for x in sp_list if x < 0]\n",
    "sp_pos = [x for x in sp_list if x > 0]"
   ]
  },
  {
   "cell_type": "code",
   "execution_count": 66,
   "id": "7ca04a91-9bc4-4612-aed7-b3e259ade74e",
   "metadata": {},
   "outputs": [],
   "source": [
    "sp_neg = sorted(sp_neg)\n",
    "sp_pos = sorted(sp_pos)"
   ]
  },
  {
   "cell_type": "code",
   "execution_count": 67,
   "id": "e3e28df0-a1fd-4bea-aa35-ac7c231f96e0",
   "metadata": {},
   "outputs": [
    {
     "data": {
      "image/png": "[encoded data removed]",
      "text/plain": [
       "<Figure size 900x600 with 2 Axes>"
      ]
     },
     "metadata": {},
     "output_type": "display_data"
    }
   ],
   "source": [
    "fig, (ax1, ax2) = plt.subplots(1, 2, figsize = (9, 6))\n",
    "ax1.scatter(np.arange(len(sp_pos)), sp_pos)\n",
    "ax1.set_yscale('log')\n",
    "ax2.scatter(np.arange(len(sp_neg)), np.abs(sp_neg))\n",
    "ax2.set_yscale('log')"
   ]
  },
  {
   "cell_type": "code",
   "execution_count": null,
   "id": "6dfcba14-824c-4937-b78a-4a855b3b74cf",
   "metadata": {},
   "outputs": [],
   "source": []
  }
 ],
 "metadata": {
  "kernelspec": {
   "display_name": "Python 3 (ipykernel)",
   "language": "python",
   "name": "python3"
  },
  "language_info": {
   "codemirror_mode": {
    "name": "ipython",
    "version": 3
   },
   "file_extension": ".py",
   "mimetype": "text/x-python",
   "name": "python",
   "nbconvert_exporter": "python",
   "pygments_lexer": "ipython3",
   "version": "3.9.13"
  }
 },
 "nbformat": 4,
 "nbformat_minor": 5
}
