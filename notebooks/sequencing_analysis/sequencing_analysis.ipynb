{
 "cells": [
  {
   "cell_type": "code",
   "execution_count": 1,
   "id": "13f15429-2411-4358-a378-b2e14e87bb30",
   "metadata": {},
   "outputs": [],
   "source": [
    "import pandas as pd\n",
    "from IPython.display import SVG"
   ]
  },
  {
   "cell_type": "markdown",
   "id": "b4faff53-f01c-4a0d-8c26-f15b83815d82",
   "metadata": {},
   "source": [
    "# Metagenomics\n",
    "\n",
    "## Steps of the analysis\n",
    "\n",
    "* QC of raw reads with [fastqc](https://www.bioinformatics.babraham.ac.uk/projects/fastqc/)\n",
    "* Read trimming with [fastp](https://github.com/OpenGene/fastp)\n",
    "    * Removes adapters, drops reads with average PHRED quality  below 20\n",
    "    * Does QC of trimmed reads\n",
    "* Mapping reads to reference with [minimap2](https://github.com/lh3/minimap2)\n",
    "* Filter alignment files with samtools view\n",
    "    * Removes reads that are not mapped in propper paris\n",
    "    * Removes reads with a mapping PHRED score below 60 (in minimap2 this is equilivant to 30)\n",
    "* Call variants with [freebayes](https://github.com/freebayes/freebayes)\n",
    "    * Allele needs to be present 3 times\n",
    "    * Minimum allele fraction is 0.05\n",
    "    * Minimum 30 PHRED mapping quality (redundant because of filtering)\n",
    "    * Minimum 20 PHRED base quality\n",
    "* Annotate alleles with [SnpEFF](https://pcingola.github.io/SnpEff/snpeff/build_db/#step-2-option-2-building-a-database-from-genbank-files)\n",
    "* Filter alleles with custom python script [vcf_exporter.py](https://github.com/sulheim/leakage/blob/eric/code/meta_sequencing/results/vcf_exporter.py)\n",
    "    * All frequencies\n",
    "        * Minimum allele frequency: 0.05\n",
    "        * Minimum PHRED qual calculated by freebayes 30\n",
    "        * Minimum allele count: 5\n",
    "        * Minimum depth at allele site: 30\n",
    "    * Fixed alleles:\n",
    "        * Minimum allele frequency: 0.9\n",
    "        * Minimum PHRED qual calculated by freebayes 30\n",
    "        * Minimum depth at allele site: 30\n",
    "\n",
    "## File- and directory strucutre\n",
    "\n",
    "There was a disk quota issue so the processing was done on `/work/FAC/FBM/DMF/smitri/evomicrocomm/seq_snorre/data/meta_sequencing`.\n",
    "`references_sequencing/` contains FASTA and annotation files, `meta_sequencing/` contains all files from the samples.  \n",
    "The code is available in this repo under `../../code/meta_sequencing/` where mainly the Snakefile is important.  \n",
    "`vcf_exporter.py` grabs the files from freebayes and filters the allele. The output is a csv that I dump under the `../code/meta_sequencing/results` in different folders:\n",
    "* `all_variants`:\n",
    "    * All variants outputted by freebayes (note there is already some default filtering)\n",
    "* `all_filtered_variants`:\n",
    "    * All filtered variants according to `vcf_exporter.py` filter described above\n",
    "* `fixed_filtered_variants`:\n",
    "    * Fixed alleles filtered according to `vcf_exporter.py` described above\n",
    "      \n",
    "The `csv` contains following columns:  \n",
    "`chrom,pos,qual,depth,freq,alt,alt_count,ref,type,len,eff,gene,product,linegroup,sample`\n",
    "* `freq`: Allele frequency\n",
    "* `alt`: Nucleotite,deletions,or insertion in allele\n",
    "* `alt_count`: Number of reads with the observed allele\n",
    "* `ref`: Nucleotide or sequence in reference\n",
    "* `type`: Type of mutation\n",
    "* `eff`: Effect if CDS on translated feature\n",
    "* `linegroup`: Unique identifiers for each allele (also unique across samples)"
   ]
  },
  {
   "cell_type": "markdown",
   "id": "08a7f213-9252-44a6-a561-95c0c15171b9",
   "metadata": {},
   "source": [
    "## Some quality checks\n",
    "\n",
    "We can look at the area of the knockout genes AceE and SucB to check if no strains were confused during the processing. Everything looks good!\n",
    "\n",
    "### AceE (Position 119504-122167)\n",
    "\n",
    "![meta_acee](../screenshots/meta_alignments_AceE.png)\n",
    "\n",
    "### SucB (Position 756978-758195)\n",
    "\n",
    "![meta_sucb](../screenshots/meta_alignments_SucB.png)\n",
    "\n",
    "## Coverage\n",
    "![coverage](../screenshots/fig1_coverage.png)"
   ]
  },
  {
   "cell_type": "markdown",
   "id": "0784b1cd-3de1-4e89-81ed-f7bbc0d7e2ba",
   "metadata": {},
   "source": [
    "## Frequencies of alleles across samples\n",
    "\n",
    "![allel_freq](../screenshots/fig2_frequencies.png)\n",
    "Fixed alleles (frequency >= 0.9):"
   ]
  },
  {
   "cell_type": "code",
   "execution_count": 6,
   "id": "ba2d7c35-7e43-4149-b7ad-0696ce4486bf",
   "metadata": {},
   "outputs": [
    {
     "name": "stdout",
     "output_type": "stream",
     "text": [
      "     gene                                            product       sample\n",
      "136  ldhA  fermentative D-lactate dehydrogenase, NAD-depe...  AceE_M2_D44\n",
      "137   NaN                                                NaN  AceE_M2_D44\n",
      "138  ynfM              putative arabinose efflux transporter  AceE_M2_D44\n",
      "139  galS  galactose- and fucose-inducible galactose regu...  AceE_M2_D44\n",
      "140   NaN                                                NaN  AceE_M2_D44\n"
     ]
    }
   ],
   "source": [
    "df = pd.read_csv('../../code/meta_sequencing/results/fixed_filtered_variants/all_samples.filtered.csv')[['gene','product','sample']]\n",
    "tmp = df[df['sample'] == 'AceE_M2_D44']\n",
    "print(tmp)"
   ]
  }
 ],
 "metadata": {
  "kernelspec": {
   "display_name": "Python 3 (ipykernel)",
   "language": "python",
   "name": "python3"
  },
  "language_info": {
   "codemirror_mode": {
    "name": "ipython",
    "version": 3
   },
   "file_extension": ".py",
   "mimetype": "text/x-python",
   "name": "python",
   "nbconvert_exporter": "python",
   "pygments_lexer": "ipython3",
   "version": "3.12.3"
  }
 },
 "nbformat": 4,
 "nbformat_minor": 5
}
