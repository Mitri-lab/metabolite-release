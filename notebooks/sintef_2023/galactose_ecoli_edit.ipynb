{
 "cells": [
  {
   "cell_type": "code",
   "execution_count": 1,
   "id": "b4432638-3259-4ed8-ba40-9991830643b8",
   "metadata": {
    "execution": {
     "iopub.execute_input": "2024-08-15T10:12:59.280560Z",
     "iopub.status.busy": "2024-08-15T10:12:59.279444Z",
     "iopub.status.idle": "2024-08-15T10:13:00.818618Z",
     "shell.execute_reply": "2024-08-15T10:13:00.818328Z",
     "shell.execute_reply.started": "2024-08-15T10:12:59.280505Z"
    }
   },
   "outputs": [
    {
     "name": "stderr",
     "output_type": "stream",
     "text": [
      "/var/folders/h6/4b_zz_cd5d92w2ycp017ytn00000gp/T/ipykernel_69671/4084710593.py:3: DeprecationWarning: \n",
      "Pyarrow will become a required dependency of pandas in the next major release of pandas (pandas 3.0),\n",
      "(to allow more performant data types, such as the Arrow string type, and better interoperability with other libraries)\n",
      "but was not found to be installed on your system.\n",
      "If this would cause problems for you,\n",
      "please provide us feedback at https://github.com/pandas-dev/pandas/issues/54466\n",
      "        \n",
      "  import pandas as pd\n"
     ]
    }
   ],
   "source": [
    "import warnings\n",
    "warnings.simplefilter(action='ignore', category=FutureWarning)\n",
    "import pandas as pd\n",
    "import numpy as np\n",
    "import matplotlib.pyplot as plt\n",
    "from pathlib import Path\n",
    "import sys\n",
    "import seaborn as sns\n",
    "# import cobra\n",
    "import scipy.stats as st\n",
    "import scipy\n",
    "sys.path.append('../../code/')\n",
    "sys.path.append('/Users/ssulheim/git/mwf_gems/code/python')\n",
    "import leakage_reframed\n",
    "import ng_utils\n",
    "import reframed"
   ]
  },
  {
   "cell_type": "code",
   "execution_count": 3,
   "id": "f83d4110-1de0-417a-b7d1-96189f1f4bd0",
   "metadata": {
    "execution": {
     "iopub.execute_input": "2024-08-15T10:13:47.241907Z",
     "iopub.status.busy": "2024-08-15T10:13:47.240083Z",
     "iopub.status.idle": "2024-08-15T10:13:48.789851Z",
     "shell.execute_reply": "2024-08-15T10:13:48.789560Z",
     "shell.execute_reply.started": "2024-08-15T10:13:47.241821Z"
    }
   },
   "outputs": [
    {
     "name": "stdout",
     "output_type": "stream",
     "text": [
      "Set parameter Username\n",
      "Academic license - for non-commercial use only - expires 2024-12-19\n"
     ]
    },
    {
     "data": {
      "text/plain": [
       "Objective: 0.24042907395345262\n",
       "Status: Optimal"
      ]
     },
     "execution_count": 3,
     "metadata": {},
     "output_type": "execute_result"
    }
   ],
   "source": [
    "model_ez = reframed.load_cbmodel('../../models/e_coli/momentiJO1366.xml')\n",
    "model_ez.solver = 'gurobi'\n",
    "reframed.FBA(model_ez, constraints={'R_EX_gal_e':(-20,0), 'R_EX_glc__D_e':(0,0)})"
   ]
  },
  {
   "cell_type": "code",
   "execution_count": 8,
   "id": "21b21b3f-d81d-4d26-bc22-1a5503173b24",
   "metadata": {
    "execution": {
     "iopub.execute_input": "2024-08-15T10:20:12.389066Z",
     "iopub.status.busy": "2024-08-15T10:20:12.387147Z",
     "iopub.status.idle": "2024-08-15T10:20:12.404931Z",
     "shell.execute_reply": "2024-08-15T10:20:12.403393Z",
     "shell.execute_reply.started": "2024-08-15T10:20:12.389012Z"
    }
   },
   "outputs": [],
   "source": [
    "r = model_ez.reactions['R_GALKr_TG_forward']"
   ]
  },
  {
   "cell_type": "code",
   "execution_count": 15,
   "id": "7a167774-816d-4035-9513-278a0d2229bb",
   "metadata": {
    "execution": {
     "iopub.execute_input": "2024-08-15T10:22:18.710113Z",
     "iopub.status.busy": "2024-08-15T10:22:18.709595Z",
     "iopub.status.idle": "2024-08-15T10:22:18.719015Z",
     "shell.execute_reply": "2024-08-15T10:22:18.718073Z",
     "shell.execute_reply.started": "2024-08-15T10:22:18.710078Z"
    }
   },
   "outputs": [
    {
     "data": {
      "text/plain": [
       "'R_GALKr_TG_forward: M_atp_c + M_gal_c + 0.0161922306874758 M_prot_pool --> M_adp_c + M_gal1p_c + M_h_c'"
      ]
     },
     "execution_count": 15,
     "metadata": {},
     "output_type": "execute_result"
    }
   ],
   "source": [
    "r.to_string()"
   ]
  },
  {
   "cell_type": "code",
   "execution_count": 17,
   "id": "9cf88d48-3f14-4c77-887f-e2ae42b51bf5",
   "metadata": {
    "execution": {
     "iopub.execute_input": "2024-08-15T10:23:03.096284Z",
     "iopub.status.busy": "2024-08-15T10:23:03.095744Z",
     "iopub.status.idle": "2024-08-15T10:23:03.108410Z",
     "shell.execute_reply": "2024-08-15T10:23:03.107010Z",
     "shell.execute_reply.started": "2024-08-15T10:23:03.096253Z"
    }
   },
   "outputs": [
    {
     "data": {
      "text/plain": [
       "'R_GALKr_TG_forward2'"
      ]
     },
     "execution_count": 17,
     "metadata": {},
     "output_type": "execute_result"
    }
   ],
   "source": [
    "model_ez.add_reaction_from_str('R_GALKr_TG_forward2: M_atp_c + M_gal_c --> M_adp_c + M_gal1p_c + M_h_c')"
   ]
  },
  {
   "cell_type": "code",
   "execution_count": 19,
   "id": "9f0f779c-1096-4f68-b929-0a1bae64c35f",
   "metadata": {
    "execution": {
     "iopub.execute_input": "2024-08-15T10:23:28.721497Z",
     "iopub.status.busy": "2024-08-15T10:23:28.720992Z",
     "iopub.status.idle": "2024-08-15T10:23:28.727287Z",
     "shell.execute_reply": "2024-08-15T10:23:28.725852Z",
     "shell.execute_reply.started": "2024-08-15T10:23:28.721467Z"
    }
   },
   "outputs": [],
   "source": [
    "model_ez.remove_reaction('R_GALKr_TG_forward')"
   ]
  },
  {
   "cell_type": "code",
   "execution_count": 20,
   "id": "3b9fb32d-23c9-45a0-bce1-4f945c158ea5",
   "metadata": {
    "execution": {
     "iopub.execute_input": "2024-08-15T10:23:34.965186Z",
     "iopub.status.busy": "2024-08-15T10:23:34.964403Z",
     "iopub.status.idle": "2024-08-15T10:23:35.108892Z",
     "shell.execute_reply": "2024-08-15T10:23:35.108608Z",
     "shell.execute_reply.started": "2024-08-15T10:23:34.965147Z"
    }
   },
   "outputs": [
    {
     "data": {
      "text/plain": [
       "Objective: 0.50354221214121\n",
       "Status: Optimal"
      ]
     },
     "execution_count": 20,
     "metadata": {},
     "output_type": "execute_result"
    }
   ],
   "source": [
    "reframed.FBA(model_ez, constraints={'R_EX_gal_e':(-20,0), 'R_EX_glc__D_e':(0,0)})"
   ]
  },
  {
   "cell_type": "code",
   "execution_count": 22,
   "id": "d2e13e62-e9e9-458d-8dd5-fec377fbd450",
   "metadata": {
    "execution": {
     "iopub.execute_input": "2024-08-15T10:24:17.100448Z",
     "iopub.status.busy": "2024-08-15T10:24:17.099947Z",
     "iopub.status.idle": "2024-08-15T10:24:17.105569Z",
     "shell.execute_reply": "2024-08-15T10:24:17.104362Z",
     "shell.execute_reply.started": "2024-08-15T10:24:17.100414Z"
    }
   },
   "outputs": [],
   "source": [
    "m = model_ez.metabolites['M_prot_pool']"
   ]
  },
  {
   "cell_type": "code",
   "execution_count": 24,
   "id": "ab26d99a-5f12-48de-9991-a08b5ce3d279",
   "metadata": {
    "execution": {
     "iopub.execute_input": "2024-08-15T10:24:49.882024Z",
     "iopub.status.busy": "2024-08-15T10:24:49.881528Z",
     "iopub.status.idle": "2024-08-15T10:24:49.901694Z",
     "shell.execute_reply": "2024-08-15T10:24:49.900835Z",
     "shell.execute_reply.started": "2024-08-15T10:24:49.881997Z"
    }
   },
   "outputs": [],
   "source": [
    "pool_reactions = model_ez.get_metabolite_reactions('M_prot_pool')"
   ]
  },
  {
   "cell_type": "code",
   "execution_count": 26,
   "id": "85103331-f4ca-4ba8-be3e-d75db6213404",
   "metadata": {
    "execution": {
     "iopub.execute_input": "2024-08-15T10:25:25.050646Z",
     "iopub.status.busy": "2024-08-15T10:25:25.050131Z",
     "iopub.status.idle": "2024-08-15T10:25:25.059313Z",
     "shell.execute_reply": "2024-08-15T10:25:25.058106Z",
     "shell.execute_reply.started": "2024-08-15T10:25:25.050616Z"
    }
   },
   "outputs": [
    {
     "data": {
      "text/plain": [
       "-0.0161922306874758"
      ]
     },
     "execution_count": 26,
     "metadata": {},
     "output_type": "execute_result"
    }
   ],
   "source": [
    "r."
   ]
  },
  {
   "cell_type": "code",
   "execution_count": 33,
   "id": "786109e8-c9ad-4d91-8aae-ea65153f275e",
   "metadata": {
    "execution": {
     "iopub.execute_input": "2024-08-15T10:27:31.209703Z",
     "iopub.status.busy": "2024-08-15T10:27:31.209184Z",
     "iopub.status.idle": "2024-08-15T10:27:31.229791Z",
     "shell.execute_reply": "2024-08-15T10:27:31.228991Z",
     "shell.execute_reply.started": "2024-08-15T10:27:31.209675Z"
    }
   },
   "outputs": [],
   "source": [
    "ez_values = np.zeros(len(pool_reactions))\n",
    "for i, r_id in enumerate(pool_reactions):\n",
    "    ez_values[i] = np.abs(model_ez.reactions[r_id].stoichiometry['M_prot_pool'])"
   ]
  },
  {
   "cell_type": "code",
   "execution_count": 34,
   "id": "1076723f-036c-4341-9c8c-86d3b8b3e9f4",
   "metadata": {
    "execution": {
     "iopub.execute_input": "2024-08-15T10:27:32.138841Z",
     "iopub.status.busy": "2024-08-15T10:27:32.138247Z",
     "iopub.status.idle": "2024-08-15T10:27:32.147549Z",
     "shell.execute_reply": "2024-08-15T10:27:32.146632Z",
     "shell.execute_reply.started": "2024-08-15T10:27:32.138811Z"
    }
   },
   "outputs": [
    {
     "data": {
      "text/plain": [
       "array([4.28631333e-04, 1.23225089e-04, 1.94420624e-03, ...,\n",
       "       2.31055472e-05, 2.31055472e-05, 1.00000000e+00])"
      ]
     },
     "execution_count": 34,
     "metadata": {},
     "output_type": "execute_result"
    }
   ],
   "source": [
    "ez_values"
   ]
  },
  {
   "cell_type": "code",
   "execution_count": 38,
   "id": "de845f2e-459a-4151-8547-d5071efe17f8",
   "metadata": {
    "execution": {
     "iopub.execute_input": "2024-08-15T10:28:08.468346Z",
     "iopub.status.busy": "2024-08-15T10:28:08.468029Z",
     "iopub.status.idle": "2024-08-15T10:28:08.560705Z",
     "shell.execute_reply": "2024-08-15T10:28:08.560464Z",
     "shell.execute_reply.started": "2024-08-15T10:28:08.468324Z"
    }
   },
   "outputs": [
    {
     "data": {
      "text/plain": [
       "<matplotlib.lines.Line2D at 0x16b63f260>"
      ]
     },
     "execution_count": 38,
     "metadata": {},
     "output_type": "execute_result"
    },
    {
     "data": {
      "image/png": "[encoded data removed]",
      "text/plain": [
       "<Figure size 640x480 with 1 Axes>"
      ]
     },
     "metadata": {},
     "output_type": "display_data"
    }
   ],
   "source": [
    "plt.hist(np.log10(ez_values), range = (-5, 1), bins = 20)\n",
    "plt.axvline(np.log10(0.01619), c = 'r')"
   ]
  }
 ],
 "metadata": {
  "kernelspec": {
   "display_name": "Python 3 (ipykernel)",
   "language": "python",
   "name": "python3"
  },
  "language_info": {
   "codemirror_mode": {
    "name": "ipython",
    "version": 3
   },
   "file_extension": ".py",
   "mimetype": "text/x-python",
   "name": "python",
   "nbconvert_exporter": "python",
   "pygments_lexer": "ipython3",
   "version": "3.12.0"
  }
 },
 "nbformat": 4,
 "nbformat_minor": 5
}
