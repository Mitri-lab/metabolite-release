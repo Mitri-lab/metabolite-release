{
 "cells": [
  {
   "cell_type": "code",
   "execution_count": 51,
   "id": "ad6b307d-cb0b-4004-9e69-f3b9acecb352",
   "metadata": {
    "execution": {
     "iopub.execute_input": "2025-03-09T10:24:31.316032Z",
     "iopub.status.busy": "2025-03-09T10:24:31.315907Z",
     "iopub.status.idle": "2025-03-09T10:24:31.318244Z",
     "shell.execute_reply": "2025-03-09T10:24:31.317890Z",
     "shell.execute_reply.started": "2025-03-09T10:24:31.316021Z"
    }
   },
   "outputs": [],
   "source": [
    "import sys\n",
    "sys.path.append('../../code/')\n",
    "import pandas as pd\n",
    "import numpy as np\n",
    "from pathlib import Path\n",
    "\n",
    "\n",
    "import leakage"
   ]
  },
  {
   "cell_type": "markdown",
   "id": "bdc530a2-c839-4452-96cb-94774f4e166a",
   "metadata": {},
   "source": [
    "# This notebook is used to map intracellular data to extracelluar conditions\n",
    "This is necessary to get the most relevant intracelluar concentrations from literature values"
   ]
  },
  {
   "cell_type": "code",
   "execution_count": 52,
   "id": "1c5546c5-56b5-4be2-a22e-171c8d312849",
   "metadata": {
    "execution": {
     "iopub.execute_input": "2025-03-09T10:24:31.318796Z",
     "iopub.status.busy": "2025-03-09T10:24:31.318696Z",
     "iopub.status.idle": "2025-03-09T10:24:31.320901Z",
     "shell.execute_reply": "2025-03-09T10:24:31.320517Z",
     "shell.execute_reply.started": "2025-03-09T10:24:31.318785Z"
    }
   },
   "outputs": [],
   "source": [
    "data_folder = Path('../../data')\n",
    "figure_folder = Path('../../Figures/')\n",
    "div_folder = Path('../../../data/this_project/5_div/')\n"
   ]
  },
  {
   "cell_type": "markdown",
   "id": "ba7f10f4-b15b-4e69-bcb8-d14faea16fc9",
   "metadata": {},
   "source": [
    "## Get extracellular data"
   ]
  },
  {
   "cell_type": "code",
   "execution_count": 53,
   "id": "8c7c5ac2-cb0c-4038-b0ba-0a1f107d0108",
   "metadata": {
    "execution": {
     "iopub.execute_input": "2025-03-09T10:24:31.321444Z",
     "iopub.status.busy": "2025-03-09T10:24:31.321348Z",
     "iopub.status.idle": "2025-03-09T10:24:31.323945Z",
     "shell.execute_reply": "2025-03-09T10:24:31.323505Z",
     "shell.execute_reply.started": "2025-03-09T10:24:31.321434Z"
    }
   },
   "outputs": [],
   "source": [
    "sintef_fn = data_folder / 'this_project/1_e_coli_batch_cultures/1ABE_merged_metabolomics_data.csv'\n",
    "paczia_fn = data_folder / 'paczia_2012' / 'e_coli'/'e_coli_exometabolites.csv'\n",
    "vila_fn = data_folder / 'vila_2023' / 'Targeted_LCMS.csv'\n"
   ]
  },
  {
   "cell_type": "code",
   "execution_count": 54,
   "id": "ea785641-1ce9-4b0a-99ec-bbd36e6f1930",
   "metadata": {
    "execution": {
     "iopub.execute_input": "2025-03-09T10:24:31.909057Z",
     "iopub.status.busy": "2025-03-09T10:24:31.908960Z",
     "iopub.status.idle": "2025-03-09T10:24:31.916440Z",
     "shell.execute_reply": "2025-03-09T10:24:31.916157Z",
     "shell.execute_reply.started": "2025-03-09T10:24:31.909046Z"
    }
   },
   "outputs": [],
   "source": [
    "sintef_df = pd.read_csv(sintef_fn, index_col=0)\n",
    "# Only intrerested in the absolute quantification\n",
    "sintef_df = sintef_df.loc[sintef_df['Concentration [uM]'].notna()]"
   ]
  },
  {
   "cell_type": "code",
   "execution_count": 55,
   "id": "6ed62251-1be9-4ee9-a286-fc0db332b87b",
   "metadata": {
    "execution": {
     "iopub.execute_input": "2025-03-09T10:24:31.917057Z",
     "iopub.status.busy": "2025-03-09T10:24:31.916943Z",
     "iopub.status.idle": "2025-03-09T10:24:31.922410Z",
     "shell.execute_reply": "2025-03-09T10:24:31.922063Z",
     "shell.execute_reply.started": "2025-03-09T10:24:31.917046Z"
    }
   },
   "outputs": [],
   "source": [
    "paczia_df, paczia_df_std = leakage.get_concentrations(paczia_fn.parent, 'e_coli')"
   ]
  },
  {
   "cell_type": "code",
   "execution_count": 56,
   "id": "dc8d2262-b8db-4597-a9ee-a3aeadd41517",
   "metadata": {
    "execution": {
     "iopub.execute_input": "2025-03-09T10:24:31.922987Z",
     "iopub.status.busy": "2025-03-09T10:24:31.922891Z",
     "iopub.status.idle": "2025-03-09T10:24:31.927408Z",
     "shell.execute_reply": "2025-03-09T10:24:31.927094Z",
     "shell.execute_reply.started": "2025-03-09T10:24:31.922975Z"
    }
   },
   "outputs": [],
   "source": [
    "vila_df = pd.read_csv(vila_fn)\n",
    "vila_df = vila_df.loc[vila_df.Strain == 'Ecoli']"
   ]
  },
  {
   "cell_type": "markdown",
   "id": "5a76bcb2-fbe9-4910-bf9e-4161dc0d47d1",
   "metadata": {},
   "source": [
    "## Mapping\n"
   ]
  },
  {
   "cell_type": "code",
   "execution_count": 57,
   "id": "3ccda4c9-229b-4074-8413-4b98e883ad5b",
   "metadata": {
    "execution": {
     "iopub.execute_input": "2025-03-09T10:46:22.517526Z",
     "iopub.status.busy": "2025-03-09T10:46:22.516783Z",
     "iopub.status.idle": "2025-03-09T10:46:22.533836Z",
     "shell.execute_reply": "2025-03-09T10:46:22.532715Z",
     "shell.execute_reply.started": "2025-03-09T10:46:22.517486Z"
    }
   },
   "outputs": [],
   "source": [
    "mapping_df = pd.read_csv(data_folder / 'this_project/5_div/5B_id_mapping.csv', index_col=0)\n",
    "met_abrv_to_id = mapping_df['Ecoli metabolite'].to_dict()\n",
    "met_abrv_to_name = mapping_df['Metabolite name'].to_dict()\n",
    "met_name_to_abrv_paczia = {value:key for key, value in met_abrv_to_name.items()}\n",
    "met_abrv_to_name['SER'] = 'Serine'\n",
    "met_abrv_to_name['DHAP'] = 'Dihydroxyacetone phosphate'"
   ]
  },
  {
   "cell_type": "markdown",
   "id": "d294f5b4-ae02-4e43-8fd7-cc6120b18be7",
   "metadata": {},
   "source": [
    "## Find conditions"
   ]
  },
  {
   "cell_type": "code",
   "execution_count": 58,
   "id": "b1428fdd-049e-488a-b108-0eb3446163e6",
   "metadata": {
    "execution": {
     "iopub.execute_input": "2025-03-09T10:49:37.070492Z",
     "iopub.status.busy": "2025-03-09T10:49:37.069124Z",
     "iopub.status.idle": "2025-03-09T10:49:37.089344Z",
     "shell.execute_reply": "2025-03-09T10:49:37.088231Z",
     "shell.execute_reply.started": "2025-03-09T10:49:37.070429Z"
    }
   },
   "outputs": [],
   "source": [
    "conditions_metabolites = []\n",
    "for cs in sintef_df['Carbon source'].unique():\n",
    "    df_cs = sintef_df.loc[sintef_df['Carbon source']==cs]\n",
    "    for m in df_cs.Metabolite.unique():\n",
    "        for phase in ['Stationary', 'Exponential']:\n",
    "            conditions_metabolites.append([cs, phase, m])\n",
    "\n",
    "for m in paczia_df.columns:\n",
    "    m_name = met_abrv_to_name[m]\n",
    "    if m_name == '2/3-phosphoglycerate':\n",
    "        m_names = ['2-phosphoglycerate', '3-phosphoglycerate']\n",
    "    elif m_name == 'Ribu-/Xylulose-5-phosphate':\n",
    "        m_names = ['Ribulose-5-phosphate', 'Xylulose-5-phosphate']\n",
    "    else:\n",
    "        m_names = [m_name]\n",
    "    for mi in m_names:\n",
    "        for phase in ['Stationary', 'Exponential']:\n",
    "            conditions_metabolites.append(['Glucose', phase, mi])\n",
    "\n"
   ]
  },
  {
   "cell_type": "markdown",
   "id": "f0eb3642-2668-49e5-b841-3e663c31072f",
   "metadata": {},
   "source": [
    "### Vila et al"
   ]
  },
  {
   "cell_type": "code",
   "execution_count": 59,
   "id": "acb2046b-be20-411c-a56f-21e0f5a28431",
   "metadata": {
    "execution": {
     "iopub.execute_input": "2025-03-09T10:49:40.109902Z",
     "iopub.status.busy": "2025-03-09T10:49:40.109065Z",
     "iopub.status.idle": "2025-03-09T10:49:40.118256Z",
     "shell.execute_reply": "2025-03-09T10:49:40.117106Z",
     "shell.execute_reply.started": "2025-03-09T10:49:40.109861Z"
    }
   },
   "outputs": [],
   "source": [
    "metname_translate_dict = {'Acetic acid': 'Acetate',\n",
    "'Acetyl-ornithine': 'Acetyl-ornithine',\n",
    "'Alanine': 'Alanine',\n",
    "'Asparagine': 'Asparagine',\n",
    "'Butyric acid': 'Butyrate',\n",
    "'Citric acid': 'Citrate',\n",
    "'Fumaric acid': 'Fumarate',\n",
    "'Glycine': 'Glycine',\n",
    "'Lactic acid': 'Lactate',\n",
    "'Methionine': 'Methionine',\n",
    "'Propionic acid': 'Propionate',\n",
    "'Putrescine': 'Putrescine',\n",
    "'Pyruvic acid': 'Pyruvate',\n",
    "'Serine': 'Serine',\n",
    "'Succinic acid': 'Succinate',\n",
    "'Valeric acid':'Valerate',\n",
    "'Valine': 'Valine',\n",
    "'alpha-Ketoglutaric acid': 'Alpha-ketoglutarate',\n",
    "'beta-Hydroxybutyric acid': 'Beta-hydroxybutyrate'}"
   ]
  },
  {
   "cell_type": "code",
   "execution_count": 60,
   "id": "4f2463d2",
   "metadata": {},
   "outputs": [],
   "source": [
    "vila_peak_df = pd.read_csv(data_folder / 'vila_2023' / 'growth_curves_peaktimes.csv', index_col=0)\n",
    "strain_cs_to_PT = vila_peak_df.groupby(['Strain', 'Carbon source']).agg({'Peak time':'max'}).to_dict()['Peak time']\n"
   ]
  },
  {
   "cell_type": "code",
   "execution_count": 61,
   "id": "d865e1a6",
   "metadata": {},
   "outputs": [],
   "source": [
    "time_buffer = 2\n",
    "for i, row in vila_df.iterrows():\n",
    "    peak_time = strain_cs_to_PT[row['Strain'], row['Carbon_Source']]\n",
    "    if row['Timepoint'] < peak_time+2:\n",
    "        vila_df.at[i, 'Phase'] = 'Exponential'\n",
    "    else:\n",
    "        vila_df.at[i, 'Phase'] = 'Stationary'"
   ]
  },
  {
   "cell_type": "code",
   "execution_count": 62,
   "id": "dcfb5825-c4a4-44f1-bba2-f4889e92ddfa",
   "metadata": {
    "execution": {
     "iopub.execute_input": "2025-03-09T10:49:40.271932Z",
     "iopub.status.busy": "2025-03-09T10:49:40.271204Z",
     "iopub.status.idle": "2025-03-09T10:49:40.288049Z",
     "shell.execute_reply": "2025-03-09T10:49:40.287187Z",
     "shell.execute_reply.started": "2025-03-09T10:49:40.271874Z"
    }
   },
   "outputs": [],
   "source": [
    "vila_temp = vila_df.groupby(['Carbon_Source', 'Metabolite', 'Timepoint', 'Phase']).agg({'Strain':'first'}).reset_index()\n",
    "\n",
    "vila_temp['Metabolite name'] = vila_temp.Metabolite.map(metname_translate_dict)\n",
    "vila_list = vila_temp[['Carbon_Source','Phase', 'Metabolite name']].values.tolist()"
   ]
  },
  {
   "cell_type": "code",
   "execution_count": 63,
   "id": "0082aedf-47f4-4fa2-a136-e8936b8203ba",
   "metadata": {
    "execution": {
     "iopub.execute_input": "2025-03-09T10:49:40.425701Z",
     "iopub.status.busy": "2025-03-09T10:49:40.425248Z",
     "iopub.status.idle": "2025-03-09T10:49:40.433992Z",
     "shell.execute_reply": "2025-03-09T10:49:40.433283Z",
     "shell.execute_reply.started": "2025-03-09T10:49:40.425669Z"
    }
   },
   "outputs": [
    {
     "data": {
      "text/plain": [
       "array(['Acetic acid', 'Acetyl-ornithine', 'Alanine', 'Asparagine',\n",
       "       'Butyric acid', 'Citric acid', 'Fumaric acid', 'Glycine',\n",
       "       'Hippuric acid', 'Lactic acid', 'Methionine', 'Propionic acid',\n",
       "       'Putrescine', 'Pyruvic acid', 'Serine', 'Succinic acid',\n",
       "       'Valeric acid', 'Valine', 'alpha-Ketoglutaric acid',\n",
       "       'beta-Hydroxybutyric acid'], dtype=object)"
      ]
     },
     "execution_count": 63,
     "metadata": {},
     "output_type": "execute_result"
    }
   ],
   "source": [
    "vila_temp.Metabolite.unique()"
   ]
  },
  {
   "cell_type": "code",
   "execution_count": 64,
   "id": "b74eb88e-f514-4dba-8a43-4fecb729290d",
   "metadata": {
    "execution": {
     "iopub.execute_input": "2025-03-09T10:49:40.583626Z",
     "iopub.status.busy": "2025-03-09T10:49:40.582821Z",
     "iopub.status.idle": "2025-03-09T10:49:40.592416Z",
     "shell.execute_reply": "2025-03-09T10:49:40.591599Z",
     "shell.execute_reply.started": "2025-03-09T10:49:40.583564Z"
    }
   },
   "outputs": [],
   "source": [
    "conditions_df = pd.DataFrame(conditions_metabolites + vila_list, columns= ['Carbon source', 'Phase', 'Metabolite'])\n",
    "\n"
   ]
  },
  {
   "cell_type": "code",
   "execution_count": 65,
   "id": "cb11d622",
   "metadata": {},
   "outputs": [],
   "source": [
    "conditions_df['Carbon source'] = conditions_df['Carbon source'].str.capitalize()"
   ]
  },
  {
   "cell_type": "code",
   "execution_count": 66,
   "id": "49fedaac",
   "metadata": {},
   "outputs": [],
   "source": [
    "conditions_df.replace({'Carbon source': {'D-glucose':'Glucose'}}, inplace=True)"
   ]
  },
  {
   "cell_type": "code",
   "execution_count": 68,
   "id": "0299460e",
   "metadata": {},
   "outputs": [],
   "source": [
    "conditions_df.drop_duplicates(inplace=True)"
   ]
  },
  {
   "cell_type": "markdown",
   "id": "93e51bc4-4913-456b-b9cd-151d3f86d59b",
   "metadata": {},
   "source": [
    "# Get intracellular data"
   ]
  },
  {
   "cell_type": "code",
   "execution_count": 69,
   "id": "7afaf0da-fabd-4a06-a8fe-b3886467e84b",
   "metadata": {
    "execution": {
     "iopub.execute_input": "2025-03-09T10:49:40.909174Z",
     "iopub.status.busy": "2025-03-09T10:49:40.908702Z",
     "iopub.status.idle": "2025-03-09T10:49:40.923564Z",
     "shell.execute_reply": "2025-03-09T10:49:40.922856Z",
     "shell.execute_reply.started": "2025-03-09T10:49:40.909144Z"
    }
   },
   "outputs": [],
   "source": [
    "all_conc_fn = data_folder / 'this_project' / '5_div' / '5E_intracellular_concentrations.csv'\n",
    "intra_df = pd.read_csv(all_conc_fn, index_col=0)\n"
   ]
  },
  {
   "cell_type": "markdown",
   "id": "8f778fbe-fd72-4bf2-be6e-174f34b6355a",
   "metadata": {},
   "source": [
    "# Map the different conditions/extracellular metabolites to intracellular values\n",
    "We don't differ between shake flask and bioreactor, as the difference seems small (Thorfinnsdottir et al., https://www.mdpi.com/2218-1989/13/2/150)"
   ]
  },
  {
   "cell_type": "code",
   "execution_count": 71,
   "id": "d759d7a7-a96e-4a0a-b624-8adbc1989659",
   "metadata": {
    "execution": {
     "iopub.execute_input": "2025-03-09T10:49:41.208804Z",
     "iopub.status.busy": "2025-03-09T10:49:41.208083Z",
     "iopub.status.idle": "2025-03-09T10:49:41.978023Z",
     "shell.execute_reply": "2025-03-09T10:49:41.977613Z",
     "shell.execute_reply.started": "2025-03-09T10:49:41.208745Z"
    }
   },
   "outputs": [],
   "source": [
    "\n",
    "for i, row in conditions_df.iterrows():\n",
    "    met = row['Metabolite']\n",
    "    # print(i, row)\n",
    "    intra_i = intra_df.loc[intra_df.Metabolite==met]\n",
    "    if not len(intra_i):\n",
    "        conditions_df.at[i, 'Intracellular concentration [uM]'] = np.nan\n",
    "        continue\n",
    "    minimal_idx = intra_i['Minimal/complex']=='Minimal'\n",
    "    if np.sum(minimal_idx):\n",
    "        idx = minimal_idx\n",
    "        if row['Phase'] == 'Exponential':\n",
    "            log_phase_idx = intra_i.loc[idx].growth_status.str.lower().str.contains('log')\n",
    "            if np.sum(log_phase_idx):\n",
    "                idx = idx & log_phase_idx\n",
    "        elif row['Phase'] == 'Stationary':\n",
    "            stat_phase_idx = intra_i.loc[idx].growth_status.str.lower().str.contains('stationary')\n",
    "            if np.sum(stat_phase_idx):\n",
    "                idx = idx & stat_phase_idx\n",
    "\n",
    "        # Carbon source\n",
    "        cs_idx = intra_i.loc[idx, 'Carbon source'].str.lower() == row['Carbon source'].lower()\n",
    "        if np.sum(cs_idx):\n",
    "            idx = idx & cs_idx\n",
    "    else:\n",
    "        idx = np.ones(len(intra_i)).astype(bool)\n",
    "        \n",
    "    concentration = intra_i.loc[idx].concentration.mean()\n",
    "    n = len(intra_i.loc[idx])\n",
    "    matched_conc_idx = \",\".join([str(x) for x in intra_i.loc[idx].index])\n",
    "    if n == 1:\n",
    "        \n",
    "        ub = intra_i.loc[idx].UB.values[0]\n",
    "        lb = intra_i.loc[idx].LB.values[0]\n",
    "        error = (ub-lb)/2\n",
    "        sem = error/1.96\n",
    "        max_ub = ub\n",
    "        min_lb = lb\n",
    "    else:\n",
    "        sem = intra_i.loc[idx, 'concentration'].sem()\n",
    "        error = 1.96*sem\n",
    "        ub = concentration + error\n",
    "        lb = concentration - error\n",
    "        max_ub = intra_i.loc[idx].UB.max()\n",
    "        min_lb = intra_i.loc[idx].LB.min()\n",
    "    \n",
    "    conditions_df.at[i,'Intracellular concentration [uM]'] = concentration\n",
    "    conditions_df.at[i,'Error [uM]'] = error\n",
    "    conditions_df.at[i,'SEM [uM]'] = sem\n",
    "    conditions_df.at[i,'# values'] = n\n",
    "    conditions_df.at[i,'idx concentration sheet'] = matched_conc_idx\n",
    "    conditions_df.at[i,'Min'] = intra_i.loc[idx].concentration.min()\n",
    "    conditions_df.at[i,'Max'] = intra_i.loc[idx].concentration.max()\n",
    "    conditions_df.at[i,'LB'] = lb\n",
    "    conditions_df.at[i,'Min LB'] = min_lb\n",
    "    conditions_df.at[i,'UB'] = ub\n",
    "    conditions_df.at[i,'Max UB'] = max_ub\n"
   ]
  },
  {
   "cell_type": "code",
   "execution_count": 72,
   "id": "71ac040e-9875-4cc8-a607-5dc995a4f0b6",
   "metadata": {
    "execution": {
     "iopub.execute_input": "2025-03-09T10:49:41.979066Z",
     "iopub.status.busy": "2025-03-09T10:49:41.978947Z",
     "iopub.status.idle": "2025-03-09T10:49:41.988066Z",
     "shell.execute_reply": "2025-03-09T10:49:41.987704Z",
     "shell.execute_reply.started": "2025-03-09T10:49:41.979054Z"
    }
   },
   "outputs": [],
   "source": [
    "conditions_fn = data_folder / 'this_project/4_paired_metabolomics_live_dead/4F_mapped_intracellular_conc.csv'\n",
    "\n",
    "conditions_df.to_csv(conditions_fn)"
   ]
  },
  {
   "cell_type": "code",
   "execution_count": 73,
   "id": "0a1f3d54-3543-4fd9-96d0-55818fb65a25",
   "metadata": {
    "execution": {
     "iopub.execute_input": "2025-03-09T10:49:41.988522Z",
     "iopub.status.busy": "2025-03-09T10:49:41.988429Z",
     "iopub.status.idle": "2025-03-09T10:49:41.991759Z",
     "shell.execute_reply": "2025-03-09T10:49:41.991454Z",
     "shell.execute_reply.started": "2025-03-09T10:49:41.988512Z"
    }
   },
   "outputs": [
    {
     "data": {
      "text/plain": [
       "array(['Alpha-aminoadipate', 'Creatine', 'Deoxycarnitine (deoxy-c0)',\n",
       "       'Glutarate', 'Glutarylcarnitine (c5-dc)', 'Lactate',\n",
       "       'Sebacoyl-l-carnitine (c10-dc)', 'Propanoate',\n",
       "       'Alpha-aminobutyrate', 'Hexoses', 'Orotate', 'Butyrate', nan,\n",
       "       'Propionate', 'Valerate', 'Beta-hydroxybutyrate'], dtype=object)"
      ]
     },
     "execution_count": 73,
     "metadata": {},
     "output_type": "execute_result"
    }
   ],
   "source": [
    "conditions_df.loc[conditions_df.Min.isna()].Metabolite.unique()"
   ]
  },
  {
   "cell_type": "code",
   "execution_count": 74,
   "id": "aa8df3ff-273e-49bb-a827-aa82d375ac4d",
   "metadata": {
    "execution": {
     "iopub.execute_input": "2025-03-09T10:49:41.992741Z",
     "iopub.status.busy": "2025-03-09T10:49:41.992646Z",
     "iopub.status.idle": "2025-03-09T10:49:42.003993Z",
     "shell.execute_reply": "2025-03-09T10:49:42.003580Z",
     "shell.execute_reply.started": "2025-03-09T10:49:41.992731Z"
    }
   },
   "outputs": [
    {
     "data": {
      "text/html": [
       "<div>\n",
       "<style scoped>\n",
       "    .dataframe tbody tr th:only-of-type {\n",
       "        vertical-align: middle;\n",
       "    }\n",
       "\n",
       "    .dataframe tbody tr th {\n",
       "        vertical-align: top;\n",
       "    }\n",
       "\n",
       "    .dataframe thead th {\n",
       "        text-align: right;\n",
       "    }\n",
       "</style>\n",
       "<table border=\"1\" class=\"dataframe\">\n",
       "  <thead>\n",
       "    <tr style=\"text-align: right;\">\n",
       "      <th></th>\n",
       "      <th>Carbon source</th>\n",
       "      <th>Phase</th>\n",
       "      <th>Metabolite</th>\n",
       "      <th>Intracellular concentration [uM]</th>\n",
       "      <th>Error [uM]</th>\n",
       "      <th>SEM [uM]</th>\n",
       "      <th># values</th>\n",
       "      <th>idx concentration sheet</th>\n",
       "      <th>Min</th>\n",
       "      <th>Max</th>\n",
       "      <th>LB</th>\n",
       "      <th>Min LB</th>\n",
       "      <th>UB</th>\n",
       "      <th>Max UB</th>\n",
       "    </tr>\n",
       "  </thead>\n",
       "  <tbody>\n",
       "    <tr>\n",
       "      <th>286</th>\n",
       "      <td>Glucose</td>\n",
       "      <td>Stationary</td>\n",
       "      <td>Alpha-ketoglutarate</td>\n",
       "      <td>234.244444</td>\n",
       "      <td>204.618053</td>\n",
       "      <td>104.396966</td>\n",
       "      <td>3.0</td>\n",
       "      <td>22,21,20</td>\n",
       "      <td>126.4</td>\n",
       "      <td>443.0</td>\n",
       "      <td>29.626392</td>\n",
       "      <td>105.805072</td>\n",
       "      <td>438.862497</td>\n",
       "      <td>631.0</td>\n",
       "    </tr>\n",
       "    <tr>\n",
       "      <th>287</th>\n",
       "      <td>Glucose</td>\n",
       "      <td>Exponential</td>\n",
       "      <td>Alpha-ketoglutarate</td>\n",
       "      <td>234.244444</td>\n",
       "      <td>204.618053</td>\n",
       "      <td>104.396966</td>\n",
       "      <td>3.0</td>\n",
       "      <td>22,21,20</td>\n",
       "      <td>126.4</td>\n",
       "      <td>443.0</td>\n",
       "      <td>29.626392</td>\n",
       "      <td>105.805072</td>\n",
       "      <td>438.862497</td>\n",
       "      <td>631.0</td>\n",
       "    </tr>\n",
       "    <tr>\n",
       "      <th>344</th>\n",
       "      <td>D-fructose</td>\n",
       "      <td>Exponential</td>\n",
       "      <td>Alpha-ketoglutarate</td>\n",
       "      <td>352.946667</td>\n",
       "      <td>188.770993</td>\n",
       "      <td>96.311731</td>\n",
       "      <td>5.0</td>\n",
       "      <td>23,24,22,21,20</td>\n",
       "      <td>126.4</td>\n",
       "      <td>616.0</td>\n",
       "      <td>164.175674</td>\n",
       "      <td>105.805072</td>\n",
       "      <td>541.717659</td>\n",
       "      <td>1060.0</td>\n",
       "    </tr>\n",
       "    <tr>\n",
       "      <th>346</th>\n",
       "      <td>D-fructose</td>\n",
       "      <td>Stationary</td>\n",
       "      <td>Alpha-ketoglutarate</td>\n",
       "      <td>352.946667</td>\n",
       "      <td>188.770993</td>\n",
       "      <td>96.311731</td>\n",
       "      <td>5.0</td>\n",
       "      <td>23,24,22,21,20</td>\n",
       "      <td>126.4</td>\n",
       "      <td>616.0</td>\n",
       "      <td>164.175674</td>\n",
       "      <td>105.805072</td>\n",
       "      <td>541.717659</td>\n",
       "      <td>1060.0</td>\n",
       "    </tr>\n",
       "    <tr>\n",
       "      <th>368</th>\n",
       "      <td>D-galactose</td>\n",
       "      <td>Exponential</td>\n",
       "      <td>Alpha-ketoglutarate</td>\n",
       "      <td>352.946667</td>\n",
       "      <td>188.770993</td>\n",
       "      <td>96.311731</td>\n",
       "      <td>5.0</td>\n",
       "      <td>23,24,22,21,20</td>\n",
       "      <td>126.4</td>\n",
       "      <td>616.0</td>\n",
       "      <td>164.175674</td>\n",
       "      <td>105.805072</td>\n",
       "      <td>541.717659</td>\n",
       "      <td>1060.0</td>\n",
       "    </tr>\n",
       "    <tr>\n",
       "      <th>466</th>\n",
       "      <td>D-ribose</td>\n",
       "      <td>Exponential</td>\n",
       "      <td>Alpha-ketoglutarate</td>\n",
       "      <td>352.946667</td>\n",
       "      <td>188.770993</td>\n",
       "      <td>96.311731</td>\n",
       "      <td>5.0</td>\n",
       "      <td>23,24,22,21,20</td>\n",
       "      <td>126.4</td>\n",
       "      <td>616.0</td>\n",
       "      <td>164.175674</td>\n",
       "      <td>105.805072</td>\n",
       "      <td>541.717659</td>\n",
       "      <td>1060.0</td>\n",
       "    </tr>\n",
       "    <tr>\n",
       "      <th>524</th>\n",
       "      <td>Glycerol</td>\n",
       "      <td>Exponential</td>\n",
       "      <td>Alpha-ketoglutarate</td>\n",
       "      <td>616.000000</td>\n",
       "      <td>351.500000</td>\n",
       "      <td>179.336735</td>\n",
       "      <td>1.0</td>\n",
       "      <td>23</td>\n",
       "      <td>616.0</td>\n",
       "      <td>616.0</td>\n",
       "      <td>357.000000</td>\n",
       "      <td>357.000000</td>\n",
       "      <td>1060.000000</td>\n",
       "      <td>1060.0</td>\n",
       "    </tr>\n",
       "    <tr>\n",
       "      <th>566</th>\n",
       "      <td>L-arabinose</td>\n",
       "      <td>Exponential</td>\n",
       "      <td>Alpha-ketoglutarate</td>\n",
       "      <td>352.946667</td>\n",
       "      <td>188.770993</td>\n",
       "      <td>96.311731</td>\n",
       "      <td>5.0</td>\n",
       "      <td>23,24,22,21,20</td>\n",
       "      <td>126.4</td>\n",
       "      <td>616.0</td>\n",
       "      <td>164.175674</td>\n",
       "      <td>105.805072</td>\n",
       "      <td>541.717659</td>\n",
       "      <td>1060.0</td>\n",
       "    </tr>\n",
       "    <tr>\n",
       "      <th>567</th>\n",
       "      <td>L-arabinose</td>\n",
       "      <td>Stationary</td>\n",
       "      <td>Alpha-ketoglutarate</td>\n",
       "      <td>352.946667</td>\n",
       "      <td>188.770993</td>\n",
       "      <td>96.311731</td>\n",
       "      <td>5.0</td>\n",
       "      <td>23,24,22,21,20</td>\n",
       "      <td>126.4</td>\n",
       "      <td>616.0</td>\n",
       "      <td>164.175674</td>\n",
       "      <td>105.805072</td>\n",
       "      <td>541.717659</td>\n",
       "      <td>1060.0</td>\n",
       "    </tr>\n",
       "    <tr>\n",
       "      <th>624</th>\n",
       "      <td>L-malate</td>\n",
       "      <td>Exponential</td>\n",
       "      <td>Alpha-ketoglutarate</td>\n",
       "      <td>352.946667</td>\n",
       "      <td>188.770993</td>\n",
       "      <td>96.311731</td>\n",
       "      <td>5.0</td>\n",
       "      <td>23,24,22,21,20</td>\n",
       "      <td>126.4</td>\n",
       "      <td>616.0</td>\n",
       "      <td>164.175674</td>\n",
       "      <td>105.805072</td>\n",
       "      <td>541.717659</td>\n",
       "      <td>1060.0</td>\n",
       "    </tr>\n",
       "    <tr>\n",
       "      <th>684</th>\n",
       "      <td>Pyruvate</td>\n",
       "      <td>Exponential</td>\n",
       "      <td>Alpha-ketoglutarate</td>\n",
       "      <td>352.946667</td>\n",
       "      <td>188.770993</td>\n",
       "      <td>96.311731</td>\n",
       "      <td>5.0</td>\n",
       "      <td>23,24,22,21,20</td>\n",
       "      <td>126.4</td>\n",
       "      <td>616.0</td>\n",
       "      <td>164.175674</td>\n",
       "      <td>105.805072</td>\n",
       "      <td>541.717659</td>\n",
       "      <td>1060.0</td>\n",
       "    </tr>\n",
       "  </tbody>\n",
       "</table>\n",
       "</div>"
      ],
      "text/plain": [
       "    Carbon source        Phase           Metabolite  \\\n",
       "286       Glucose   Stationary  Alpha-ketoglutarate   \n",
       "287       Glucose  Exponential  Alpha-ketoglutarate   \n",
       "344    D-fructose  Exponential  Alpha-ketoglutarate   \n",
       "346    D-fructose   Stationary  Alpha-ketoglutarate   \n",
       "368   D-galactose  Exponential  Alpha-ketoglutarate   \n",
       "466      D-ribose  Exponential  Alpha-ketoglutarate   \n",
       "524      Glycerol  Exponential  Alpha-ketoglutarate   \n",
       "566   L-arabinose  Exponential  Alpha-ketoglutarate   \n",
       "567   L-arabinose   Stationary  Alpha-ketoglutarate   \n",
       "624      L-malate  Exponential  Alpha-ketoglutarate   \n",
       "684      Pyruvate  Exponential  Alpha-ketoglutarate   \n",
       "\n",
       "     Intracellular concentration [uM]  Error [uM]    SEM [uM]  # values  \\\n",
       "286                        234.244444  204.618053  104.396966       3.0   \n",
       "287                        234.244444  204.618053  104.396966       3.0   \n",
       "344                        352.946667  188.770993   96.311731       5.0   \n",
       "346                        352.946667  188.770993   96.311731       5.0   \n",
       "368                        352.946667  188.770993   96.311731       5.0   \n",
       "466                        352.946667  188.770993   96.311731       5.0   \n",
       "524                        616.000000  351.500000  179.336735       1.0   \n",
       "566                        352.946667  188.770993   96.311731       5.0   \n",
       "567                        352.946667  188.770993   96.311731       5.0   \n",
       "624                        352.946667  188.770993   96.311731       5.0   \n",
       "684                        352.946667  188.770993   96.311731       5.0   \n",
       "\n",
       "    idx concentration sheet    Min    Max          LB      Min LB  \\\n",
       "286                22,21,20  126.4  443.0   29.626392  105.805072   \n",
       "287                22,21,20  126.4  443.0   29.626392  105.805072   \n",
       "344          23,24,22,21,20  126.4  616.0  164.175674  105.805072   \n",
       "346          23,24,22,21,20  126.4  616.0  164.175674  105.805072   \n",
       "368          23,24,22,21,20  126.4  616.0  164.175674  105.805072   \n",
       "466          23,24,22,21,20  126.4  616.0  164.175674  105.805072   \n",
       "524                      23  616.0  616.0  357.000000  357.000000   \n",
       "566          23,24,22,21,20  126.4  616.0  164.175674  105.805072   \n",
       "567          23,24,22,21,20  126.4  616.0  164.175674  105.805072   \n",
       "624          23,24,22,21,20  126.4  616.0  164.175674  105.805072   \n",
       "684          23,24,22,21,20  126.4  616.0  164.175674  105.805072   \n",
       "\n",
       "              UB  Max UB  \n",
       "286   438.862497   631.0  \n",
       "287   438.862497   631.0  \n",
       "344   541.717659  1060.0  \n",
       "346   541.717659  1060.0  \n",
       "368   541.717659  1060.0  \n",
       "466   541.717659  1060.0  \n",
       "524  1060.000000  1060.0  \n",
       "566   541.717659  1060.0  \n",
       "567   541.717659  1060.0  \n",
       "624   541.717659  1060.0  \n",
       "684   541.717659  1060.0  "
      ]
     },
     "execution_count": 74,
     "metadata": {},
     "output_type": "execute_result"
    }
   ],
   "source": [
    "met = 'Alpha-ketoglutarate'\n",
    "conditions_df.loc[conditions_df.Metabolite==met]"
   ]
  },
  {
   "cell_type": "code",
   "execution_count": 75,
   "id": "87602067-1506-40c1-8d1f-5500e058e965",
   "metadata": {
    "execution": {
     "iopub.execute_input": "2025-03-09T10:49:42.004546Z",
     "iopub.status.busy": "2025-03-09T10:49:42.004448Z",
     "iopub.status.idle": "2025-03-09T10:49:42.007851Z",
     "shell.execute_reply": "2025-03-09T10:49:42.007537Z",
     "shell.execute_reply.started": "2025-03-09T10:49:42.004535Z"
    }
   },
   "outputs": [
    {
     "data": {
      "text/plain": [
       "0      False\n",
       "1      False\n",
       "2      False\n",
       "3      False\n",
       "4      False\n",
       "       ...  \n",
       "275    False\n",
       "276    False\n",
       "281    False\n",
       "280    False\n",
       "279    False\n",
       "Name: Metabolite, Length: 297, dtype: bool"
      ]
     },
     "execution_count": 75,
     "metadata": {},
     "output_type": "execute_result"
    }
   ],
   "source": [
    "intra_df.Metabolite=='a-ketoglutarate'"
   ]
  },
  {
   "cell_type": "code",
   "execution_count": 76,
   "id": "82070658-f3ba-4e40-9537-0c84d7ba2b67",
   "metadata": {
    "execution": {
     "iopub.execute_input": "2025-03-09T10:49:42.052811Z",
     "iopub.status.busy": "2025-03-09T10:49:42.052632Z",
     "iopub.status.idle": "2025-03-09T10:49:42.055851Z",
     "shell.execute_reply": "2025-03-09T10:49:42.055515Z",
     "shell.execute_reply.started": "2025-03-09T10:49:42.052798Z"
    }
   },
   "outputs": [
    {
     "data": {
      "text/plain": [
       "array(['2-phosphoglycerate', '3-phosphoglycerate', 'Acetate',\n",
       "       'Acetyl-ornithine', 'Alanine', 'Alpha-ketoglutarate', 'Arginine',\n",
       "       'Asparagine', 'Aspartate', 'Beta-alanine', 'Cis-aconitate',\n",
       "       'Citrate', 'Dihydroxyacetone phosphate', 'Erythrose-4-phosphate',\n",
       "       'Formate', 'Fructose-1,6-bisphosphate', 'Fructose-6-phosphate',\n",
       "       'Fumarate', 'Gamma-aminobutyrate', 'Glucose-6-phosphate',\n",
       "       'Glutamate', 'Glutamine', 'Glyceraldehyde-3-phosphate', 'Glycine',\n",
       "       'Histidine', 'Homoserine', 'Isocitrate', 'Isoleucine', 'Leucine',\n",
       "       'Lysine', 'Malate', 'Methionine', 'NAD', 'Oxaloacetate',\n",
       "       'Phenylalanine', 'Phosphoenolpyruvate', 'Pipecolic acid',\n",
       "       'Proline', 'Putrescine', 'Pyruvate', 'Ribose-5-phosphate',\n",
       "       'Ribulose-5-phosphate', 'Sedoheptulose 7-phosphate', 'Serine',\n",
       "       'Shikimate', 'Succinate', 'Threonine', 'Trans-aconitate',\n",
       "       'Tryptophan', 'Tyrosine', 'Uracil', 'Valine',\n",
       "       'Xylulose-5-phosphate'], dtype=object)"
      ]
     },
     "execution_count": 76,
     "metadata": {},
     "output_type": "execute_result"
    }
   ],
   "source": [
    "intra_df.Metabolite.unique()"
   ]
  },
  {
   "cell_type": "code",
   "execution_count": null,
   "id": "841bccf9-7c22-4bf7-9f03-876bd6d0efad",
   "metadata": {},
   "outputs": [],
   "source": []
  },
  {
   "cell_type": "code",
   "execution_count": null,
   "id": "0546a62f-cacb-425f-991a-6b0bf4404bfc",
   "metadata": {},
   "outputs": [],
   "source": []
  },
  {
   "cell_type": "code",
   "execution_count": null,
   "id": "921b8be0-f04f-44cd-8ccb-3a9565a85bd8",
   "metadata": {},
   "outputs": [],
   "source": []
  },
  {
   "cell_type": "code",
   "execution_count": null,
   "id": "194e2bb1-b107-4422-89f0-e21797582e75",
   "metadata": {},
   "outputs": [],
   "source": []
  }
 ],
 "metadata": {
  "kernelspec": {
   "display_name": "base",
   "language": "python",
   "name": "python3"
  },
  "language_info": {
   "codemirror_mode": {
    "name": "ipython",
    "version": 3
   },
   "file_extension": ".py",
   "mimetype": "text/x-python",
   "name": "python",
   "nbconvert_exporter": "python",
   "pygments_lexer": "ipython3",
   "version": "3.12.2"
  }
 },
 "nbformat": 4,
 "nbformat_minor": 5
}
