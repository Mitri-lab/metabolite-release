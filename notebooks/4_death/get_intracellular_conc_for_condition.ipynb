{
 "cells": [
  {
   "cell_type": "code",
   "execution_count": 8,
   "id": "ad6b307d-cb0b-4004-9e69-f3b9acecb352",
   "metadata": {
    "execution": {
     "iopub.execute_input": "2025-03-06T20:39:14.250340Z",
     "iopub.status.busy": "2025-03-06T20:39:14.248673Z",
     "iopub.status.idle": "2025-03-06T20:39:15.797069Z",
     "shell.execute_reply": "2025-03-06T20:39:15.796750Z",
     "shell.execute_reply.started": "2025-03-06T20:39:14.250260Z"
    }
   },
   "outputs": [],
   "source": [
    "import pandas as pd\n",
    "import numpy as np\n",
    "from pathlib import Path\n",
    "\n",
    "import sys\n",
    "sys.path.append('../../code/')\n",
    "import leakage"
   ]
  },
  {
   "cell_type": "markdown",
   "id": "bdc530a2-c839-4452-96cb-94774f4e166a",
   "metadata": {},
   "source": [
    "# This notebook is used to map intracellular data to extracelluar conditions\n",
    "This is necessary to get the most relevant intracelluar concentrations from literature values"
   ]
  },
  {
   "cell_type": "code",
   "execution_count": 5,
   "id": "1c5546c5-56b5-4be2-a22e-171c8d312849",
   "metadata": {
    "execution": {
     "iopub.execute_input": "2025-03-06T20:36:01.387559Z",
     "iopub.status.busy": "2025-03-06T20:36:01.386530Z",
     "iopub.status.idle": "2025-03-06T20:36:01.402715Z",
     "shell.execute_reply": "2025-03-06T20:36:01.398610Z",
     "shell.execute_reply.started": "2025-03-06T20:36:01.387508Z"
    }
   },
   "outputs": [],
   "source": [
    "data_folder = Path('../../data')\n",
    "figure_folder = Path('../../Figures/')\n",
    "div_folder = Path('../../../data/this_project/5_div/')\n"
   ]
  },
  {
   "cell_type": "markdown",
   "id": "ba7f10f4-b15b-4e69-bcb8-d14faea16fc9",
   "metadata": {},
   "source": [
    "## Get extracellular data"
   ]
  },
  {
   "cell_type": "code",
   "execution_count": 96,
   "id": "8c7c5ac2-cb0c-4038-b0ba-0a1f107d0108",
   "metadata": {
    "execution": {
     "iopub.execute_input": "2025-03-07T16:08:05.996427Z",
     "iopub.status.busy": "2025-03-07T16:08:05.995277Z",
     "iopub.status.idle": "2025-03-07T16:08:06.011312Z",
     "shell.execute_reply": "2025-03-07T16:08:06.010011Z",
     "shell.execute_reply.started": "2025-03-07T16:08:05.996360Z"
    }
   },
   "outputs": [],
   "source": [
    "sintef_fn = data_folder / 'this_project/1_e_coli_batch_cultures/1ABE_merged_metabolomics_data.csv'\n",
    "paczia_fn = data_folder / 'paczia_2012' / 'e_coli'/'e_coli_exometabolites.csv'\n",
    "vila_fn = data_folder / 'vila_2023' / 'Targeted_LCMS.csv'\n"
   ]
  },
  {
   "cell_type": "code",
   "execution_count": 97,
   "id": "ea785641-1ce9-4b0a-99ec-bbd36e6f1930",
   "metadata": {
    "execution": {
     "iopub.execute_input": "2025-03-07T16:08:07.756040Z",
     "iopub.status.busy": "2025-03-07T16:08:07.755267Z",
     "iopub.status.idle": "2025-03-07T16:08:07.791112Z",
     "shell.execute_reply": "2025-03-07T16:08:07.790619Z",
     "shell.execute_reply.started": "2025-03-07T16:08:07.756000Z"
    }
   },
   "outputs": [],
   "source": [
    "sintef_df = pd.read_csv(sintef_fn, index_col=0)\n",
    "# Only intrerested in the absolute quantification\n",
    "sintef_df = sintef_df.loc[sintef_df['Concentration [uM]'].notna()]"
   ]
  },
  {
   "cell_type": "code",
   "execution_count": 34,
   "id": "6ed62251-1be9-4ee9-a286-fc0db332b87b",
   "metadata": {
    "execution": {
     "iopub.execute_input": "2025-03-06T20:57:04.417343Z",
     "iopub.status.busy": "2025-03-06T20:57:04.416058Z",
     "iopub.status.idle": "2025-03-06T20:57:04.449405Z",
     "shell.execute_reply": "2025-03-06T20:57:04.448537Z",
     "shell.execute_reply.started": "2025-03-06T20:57:04.417269Z"
    }
   },
   "outputs": [],
   "source": [
    "paczia_df, paczia_df_std = leakage.get_concentrations(paczia_fn.parent, 'e_coli')"
   ]
  },
  {
   "cell_type": "code",
   "execution_count": 110,
   "id": "dc8d2262-b8db-4597-a9ee-a3aeadd41517",
   "metadata": {
    "execution": {
     "iopub.execute_input": "2025-03-07T16:27:48.854839Z",
     "iopub.status.busy": "2025-03-07T16:27:48.853791Z",
     "iopub.status.idle": "2025-03-07T16:27:48.878774Z",
     "shell.execute_reply": "2025-03-07T16:27:48.878037Z",
     "shell.execute_reply.started": "2025-03-07T16:27:48.854785Z"
    }
   },
   "outputs": [],
   "source": [
    "vila_df = pd.read_csv(vila_fn)\n",
    "vila_df = vila_df.loc[vila_df.Strain == 'Ecoli']"
   ]
  },
  {
   "cell_type": "markdown",
   "id": "5a76bcb2-fbe9-4910-bf9e-4161dc0d47d1",
   "metadata": {},
   "source": [
    "## Mapping\n"
   ]
  },
  {
   "cell_type": "code",
   "execution_count": 107,
   "id": "3ccda4c9-229b-4074-8413-4b98e883ad5b",
   "metadata": {
    "execution": {
     "iopub.execute_input": "2025-03-07T16:27:18.870143Z",
     "iopub.status.busy": "2025-03-07T16:27:18.869146Z",
     "iopub.status.idle": "2025-03-07T16:27:18.887264Z",
     "shell.execute_reply": "2025-03-07T16:27:18.886246Z",
     "shell.execute_reply.started": "2025-03-07T16:27:18.870105Z"
    }
   },
   "outputs": [],
   "source": [
    "mapping_df = pd.read_csv(data_folder / 'this_project/5_div/5B_id_mapping.csv', index_col=0)\n",
    "met_abrv_to_id = mapping_df['Ecoli metabolite'].to_dict()\n",
    "met_abrv_to_name = mapping_df['Metabolite name'].to_dict()\n",
    "met_name_to_abrv_paczia = {value:key for key, value in met_abrv_to_name.items()}\n"
   ]
  },
  {
   "cell_type": "markdown",
   "id": "d294f5b4-ae02-4e43-8fd7-cc6120b18be7",
   "metadata": {},
   "source": [
    "## Find conditions"
   ]
  },
  {
   "cell_type": "code",
   "execution_count": 188,
   "id": "b1428fdd-049e-488a-b108-0eb3446163e6",
   "metadata": {
    "execution": {
     "iopub.execute_input": "2025-03-07T17:07:17.402125Z",
     "iopub.status.busy": "2025-03-07T17:07:17.401368Z",
     "iopub.status.idle": "2025-03-07T17:07:17.420495Z",
     "shell.execute_reply": "2025-03-07T17:07:17.418970Z",
     "shell.execute_reply.started": "2025-03-07T17:07:17.402084Z"
    }
   },
   "outputs": [],
   "source": [
    "conditions_metabolites = []\n",
    "for cs in sintef_df['Carbon source'].unique():\n",
    "    df_cs = sintef_df.loc[sintef_df['Carbon source']==cs]\n",
    "    for m in df_cs.Metabolite.unique():\n",
    "        for phase in ['Stationary', 'Exponential']:\n",
    "            conditions_metabolites.append([cs, phase, m])\n",
    "\n",
    "for m in paczia_df.columns:\n",
    "    m_name = met_abrv_to_name[m]\n",
    "    for phase in ['Stationary', 'Exponential']:\n",
    "        conditions_metabolites.append(['Glucose', phase, m_name])\n",
    "\n"
   ]
  },
  {
   "cell_type": "code",
   "execution_count": 189,
   "id": "dcfb5825-c4a4-44f1-bba2-f4889e92ddfa",
   "metadata": {
    "execution": {
     "iopub.execute_input": "2025-03-07T17:07:19.468331Z",
     "iopub.status.busy": "2025-03-07T17:07:19.467534Z",
     "iopub.status.idle": "2025-03-07T17:07:19.487092Z",
     "shell.execute_reply": "2025-03-07T17:07:19.486441Z",
     "shell.execute_reply.started": "2025-03-07T17:07:19.468296Z"
    }
   },
   "outputs": [],
   "source": [
    "vila_temp = vila_df.groupby(['Carbon_Source', 'Metabolite', 'Timepoint']).agg({'Strain':'first'}).reset_index()\n",
    "vila_temp['Phase'] = 'Unknown'\n",
    "vila_list = vila_temp[['Carbon_Source','Phase', 'Metabolite']].values.tolist()"
   ]
  },
  {
   "cell_type": "code",
   "execution_count": 210,
   "id": "b74eb88e-f514-4dba-8a43-4fecb729290d",
   "metadata": {
    "execution": {
     "iopub.execute_input": "2025-03-07T17:11:14.478056Z",
     "iopub.status.busy": "2025-03-07T17:11:14.476454Z",
     "iopub.status.idle": "2025-03-07T17:11:14.495817Z",
     "shell.execute_reply": "2025-03-07T17:11:14.494855Z",
     "shell.execute_reply.started": "2025-03-07T17:11:14.478010Z"
    }
   },
   "outputs": [],
   "source": [
    "conditions_df = pd.DataFrame(conditions_metabolites + vila_list, columns= ['Carbon source', 'Phase', 'Metabolite'])\n",
    "\n"
   ]
  },
  {
   "cell_type": "markdown",
   "id": "93e51bc4-4913-456b-b9cd-151d3f86d59b",
   "metadata": {},
   "source": [
    "# Get intracellular data"
   ]
  },
  {
   "cell_type": "code",
   "execution_count": 296,
   "id": "7afaf0da-fabd-4a06-a8fe-b3886467e84b",
   "metadata": {
    "execution": {
     "iopub.execute_input": "2025-03-07T20:58:55.843299Z",
     "iopub.status.busy": "2025-03-07T20:58:55.841331Z",
     "iopub.status.idle": "2025-03-07T20:58:55.874039Z",
     "shell.execute_reply": "2025-03-07T20:58:55.872913Z",
     "shell.execute_reply.started": "2025-03-07T20:58:55.843200Z"
    }
   },
   "outputs": [],
   "source": [
    "all_conc_fn = data_folder / 'this_project' / '5_div' / '5E_intracellular_concentrations.csv'\n",
    "intra_df = pd.read_csv(all_conc_fn, index_col=0)\n"
   ]
  },
  {
   "cell_type": "markdown",
   "id": "8f778fbe-fd72-4bf2-be6e-174f34b6355a",
   "metadata": {},
   "source": [
    "# Map the different conditions/extracellular metabolites to intracellular values\n",
    "We don't differ between shake flask and bioreactor, as the difference seems small (Thorfinnsdottir et al., https://www.mdpi.com/2218-1989/13/2/150)"
   ]
  },
  {
   "cell_type": "code",
   "execution_count": 299,
   "id": "d759d7a7-a96e-4a0a-b624-8adbc1989659",
   "metadata": {
    "execution": {
     "iopub.execute_input": "2025-03-07T20:59:56.614332Z",
     "iopub.status.busy": "2025-03-07T20:59:56.613764Z",
     "iopub.status.idle": "2025-03-07T20:59:57.150838Z",
     "shell.execute_reply": "2025-03-07T20:59:57.150517Z",
     "shell.execute_reply.started": "2025-03-07T20:59:56.614284Z"
    }
   },
   "outputs": [],
   "source": [
    "\n",
    "for i, row in conditions_df.iterrows():\n",
    "    met = row['Metabolite']\n",
    "    # print(i, row)\n",
    "    intra_i = intra_df.loc[intra_df.Metabolite==met]\n",
    "    if not len(intra_i):\n",
    "        conditions_df.at[i, 'Intracellular concentration [uM]'] = np.nan\n",
    "        continue\n",
    "    minimal_idx = intra_i['Minimal/complex']=='Minimal'\n",
    "    if np.sum(minimal_idx):\n",
    "        idx = minimal_idx\n",
    "        if row['Phase'] == 'Exponential':\n",
    "            log_phase_idx = intra_i.loc[idx].growth_status.str.lower().str.contains('log')\n",
    "            if np.sum(log_phase_idx):\n",
    "                idx = idx & log_phase_idx\n",
    "        elif row['Phase'] == 'Stationary':\n",
    "            stat_phase_idx = intra_i.loc[idx].growth_status.str.lower().str.contains('stationary')\n",
    "            if np.sum(stat_phase_idx):\n",
    "                idx = idx & stat_phase_idx\n",
    "\n",
    "        # Carbon source\n",
    "        cs_idx = intra_i.loc[idx, 'Carbon source'].str.lower() == row['Carbon source'].lower()\n",
    "        if np.sum(cs_idx):\n",
    "            idx = idx & cs_idx\n",
    "    else:\n",
    "        idx = np.ones(len(intra_i)).astype(bool)\n",
    "        \n",
    "    concentration = intra_i.loc[idx].concentration.mean()\n",
    "    n = len(intra_i.loc[idx])\n",
    "    matched_conc_idx = \",\".join([str(x) for x in intra_i.loc[idx].index])\n",
    "    if n == 1:\n",
    "        error = intra_i.loc[idx].error.mean()\n",
    "        sem = error/1.96\n",
    "    else:\n",
    "        sem = intra_i.loc[idx, 'concentration'].sem()\n",
    "        error = 1.96*sem\n",
    "    \n",
    "    conditions_df.at[i,'Intracellular concentration [uM]'] = concentration\n",
    "    conditions_df.at[i,'Error [uM]'] = error\n",
    "    conditions_df.at[i,'SEM [uM]'] = sem\n",
    "    conditions_df.at[i,'# values'] = n\n",
    "    conditions_df.at[i,'idx concentration sheet'] = matched_conc_idx\n",
    "    conditions_df.at[i,'Min'] = intra_i.loc[idx].concentration.min()\n",
    "    conditions_df.at[i,'Max'] = intra_i.loc[idx].concentration.max()\n"
   ]
  },
  {
   "cell_type": "code",
   "execution_count": 300,
   "id": "71ac040e-9875-4cc8-a607-5dc995a4f0b6",
   "metadata": {
    "execution": {
     "iopub.execute_input": "2025-03-07T21:00:08.953762Z",
     "iopub.status.busy": "2025-03-07T21:00:08.952686Z",
     "iopub.status.idle": "2025-03-07T21:00:08.982661Z",
     "shell.execute_reply": "2025-03-07T21:00:08.981727Z",
     "shell.execute_reply.started": "2025-03-07T21:00:08.953715Z"
    }
   },
   "outputs": [
    {
     "data": {
      "text/html": [
       "<div>\n",
       "<style scoped>\n",
       "    .dataframe tbody tr th:only-of-type {\n",
       "        vertical-align: middle;\n",
       "    }\n",
       "\n",
       "    .dataframe tbody tr th {\n",
       "        vertical-align: top;\n",
       "    }\n",
       "\n",
       "    .dataframe thead th {\n",
       "        text-align: right;\n",
       "    }\n",
       "</style>\n",
       "<table border=\"1\" class=\"dataframe\">\n",
       "  <thead>\n",
       "    <tr style=\"text-align: right;\">\n",
       "      <th></th>\n",
       "      <th>Carbon source</th>\n",
       "      <th>Phase</th>\n",
       "      <th>Metabolite</th>\n",
       "      <th>Intracellular concentration [uM]</th>\n",
       "      <th>Error [uM]</th>\n",
       "      <th># values</th>\n",
       "      <th>idx concentration sheet</th>\n",
       "      <th>SEM [uM]</th>\n",
       "      <th>Min</th>\n",
       "      <th>Max</th>\n",
       "    </tr>\n",
       "  </thead>\n",
       "  <tbody>\n",
       "    <tr>\n",
       "      <th>0</th>\n",
       "      <td>L-malate</td>\n",
       "      <td>Stationary</td>\n",
       "      <td>Alanine</td>\n",
       "      <td>358.0</td>\n",
       "      <td>0.000000</td>\n",
       "      <td>1.0</td>\n",
       "      <td>10</td>\n",
       "      <td>0.000000</td>\n",
       "      <td>358.000000</td>\n",
       "      <td>358.0</td>\n",
       "    </tr>\n",
       "    <tr>\n",
       "      <th>1</th>\n",
       "      <td>L-malate</td>\n",
       "      <td>Exponential</td>\n",
       "      <td>Alanine</td>\n",
       "      <td>1197.9</td>\n",
       "      <td>825.752376</td>\n",
       "      <td>5.0</td>\n",
       "      <td>16,15,13,12,14</td>\n",
       "      <td>421.302233</td>\n",
       "      <td>349.166667</td>\n",
       "      <td>2550.0</td>\n",
       "    </tr>\n",
       "    <tr>\n",
       "      <th>2</th>\n",
       "      <td>L-malate</td>\n",
       "      <td>Stationary</td>\n",
       "      <td>Alpha-aminoadipate</td>\n",
       "      <td>NaN</td>\n",
       "      <td>NaN</td>\n",
       "      <td>NaN</td>\n",
       "      <td>NaN</td>\n",
       "      <td>NaN</td>\n",
       "      <td>NaN</td>\n",
       "      <td>NaN</td>\n",
       "    </tr>\n",
       "    <tr>\n",
       "      <th>3</th>\n",
       "      <td>L-malate</td>\n",
       "      <td>Exponential</td>\n",
       "      <td>Alpha-aminoadipate</td>\n",
       "      <td>NaN</td>\n",
       "      <td>NaN</td>\n",
       "      <td>NaN</td>\n",
       "      <td>NaN</td>\n",
       "      <td>NaN</td>\n",
       "      <td>NaN</td>\n",
       "      <td>NaN</td>\n",
       "    </tr>\n",
       "    <tr>\n",
       "      <th>4</th>\n",
       "      <td>L-malate</td>\n",
       "      <td>Stationary</td>\n",
       "      <td>Asparagine</td>\n",
       "      <td>103.0</td>\n",
       "      <td>0.000000</td>\n",
       "      <td>1.0</td>\n",
       "      <td>34</td>\n",
       "      <td>0.000000</td>\n",
       "      <td>103.000000</td>\n",
       "      <td>103.0</td>\n",
       "    </tr>\n",
       "    <tr>\n",
       "      <th>...</th>\n",
       "      <td>...</td>\n",
       "      <td>...</td>\n",
       "      <td>...</td>\n",
       "      <td>...</td>\n",
       "      <td>...</td>\n",
       "      <td>...</td>\n",
       "      <td>...</td>\n",
       "      <td>...</td>\n",
       "      <td>...</td>\n",
       "      <td>...</td>\n",
       "    </tr>\n",
       "    <tr>\n",
       "      <th>691</th>\n",
       "      <td>Pyruvate</td>\n",
       "      <td>Unknown</td>\n",
       "      <td>alpha-Ketoglutaric acid</td>\n",
       "      <td>NaN</td>\n",
       "      <td>NaN</td>\n",
       "      <td>NaN</td>\n",
       "      <td>NaN</td>\n",
       "      <td>NaN</td>\n",
       "      <td>NaN</td>\n",
       "      <td>NaN</td>\n",
       "    </tr>\n",
       "    <tr>\n",
       "      <th>692</th>\n",
       "      <td>Pyruvate</td>\n",
       "      <td>Unknown</td>\n",
       "      <td>alpha-Ketoglutaric acid</td>\n",
       "      <td>NaN</td>\n",
       "      <td>NaN</td>\n",
       "      <td>NaN</td>\n",
       "      <td>NaN</td>\n",
       "      <td>NaN</td>\n",
       "      <td>NaN</td>\n",
       "      <td>NaN</td>\n",
       "    </tr>\n",
       "    <tr>\n",
       "      <th>693</th>\n",
       "      <td>Pyruvate</td>\n",
       "      <td>Unknown</td>\n",
       "      <td>beta-Hydroxybutyric acid</td>\n",
       "      <td>NaN</td>\n",
       "      <td>NaN</td>\n",
       "      <td>NaN</td>\n",
       "      <td>NaN</td>\n",
       "      <td>NaN</td>\n",
       "      <td>NaN</td>\n",
       "      <td>NaN</td>\n",
       "    </tr>\n",
       "    <tr>\n",
       "      <th>694</th>\n",
       "      <td>Pyruvate</td>\n",
       "      <td>Unknown</td>\n",
       "      <td>beta-Hydroxybutyric acid</td>\n",
       "      <td>NaN</td>\n",
       "      <td>NaN</td>\n",
       "      <td>NaN</td>\n",
       "      <td>NaN</td>\n",
       "      <td>NaN</td>\n",
       "      <td>NaN</td>\n",
       "      <td>NaN</td>\n",
       "    </tr>\n",
       "    <tr>\n",
       "      <th>695</th>\n",
       "      <td>Pyruvate</td>\n",
       "      <td>Unknown</td>\n",
       "      <td>beta-Hydroxybutyric acid</td>\n",
       "      <td>NaN</td>\n",
       "      <td>NaN</td>\n",
       "      <td>NaN</td>\n",
       "      <td>NaN</td>\n",
       "      <td>NaN</td>\n",
       "      <td>NaN</td>\n",
       "      <td>NaN</td>\n",
       "    </tr>\n",
       "  </tbody>\n",
       "</table>\n",
       "<p>696 rows × 10 columns</p>\n",
       "</div>"
      ],
      "text/plain": [
       "    Carbon source        Phase                Metabolite  \\\n",
       "0        L-malate   Stationary                   Alanine   \n",
       "1        L-malate  Exponential                   Alanine   \n",
       "2        L-malate   Stationary        Alpha-aminoadipate   \n",
       "3        L-malate  Exponential        Alpha-aminoadipate   \n",
       "4        L-malate   Stationary                Asparagine   \n",
       "..            ...          ...                       ...   \n",
       "691      Pyruvate      Unknown   alpha-Ketoglutaric acid   \n",
       "692      Pyruvate      Unknown   alpha-Ketoglutaric acid   \n",
       "693      Pyruvate      Unknown  beta-Hydroxybutyric acid   \n",
       "694      Pyruvate      Unknown  beta-Hydroxybutyric acid   \n",
       "695      Pyruvate      Unknown  beta-Hydroxybutyric acid   \n",
       "\n",
       "     Intracellular concentration [uM]  Error [uM]  # values  \\\n",
       "0                               358.0    0.000000       1.0   \n",
       "1                              1197.9  825.752376       5.0   \n",
       "2                                 NaN         NaN       NaN   \n",
       "3                                 NaN         NaN       NaN   \n",
       "4                               103.0    0.000000       1.0   \n",
       "..                                ...         ...       ...   \n",
       "691                               NaN         NaN       NaN   \n",
       "692                               NaN         NaN       NaN   \n",
       "693                               NaN         NaN       NaN   \n",
       "694                               NaN         NaN       NaN   \n",
       "695                               NaN         NaN       NaN   \n",
       "\n",
       "    idx concentration sheet    SEM [uM]         Min     Max  \n",
       "0                        10    0.000000  358.000000   358.0  \n",
       "1            16,15,13,12,14  421.302233  349.166667  2550.0  \n",
       "2                       NaN         NaN         NaN     NaN  \n",
       "3                       NaN         NaN         NaN     NaN  \n",
       "4                        34    0.000000  103.000000   103.0  \n",
       "..                      ...         ...         ...     ...  \n",
       "691                     NaN         NaN         NaN     NaN  \n",
       "692                     NaN         NaN         NaN     NaN  \n",
       "693                     NaN         NaN         NaN     NaN  \n",
       "694                     NaN         NaN         NaN     NaN  \n",
       "695                     NaN         NaN         NaN     NaN  \n",
       "\n",
       "[696 rows x 10 columns]"
      ]
     },
     "execution_count": 300,
     "metadata": {},
     "output_type": "execute_result"
    }
   ],
   "source": [
    "conditions_fn = data_folder / 'this_project/4_paired_metabolomics_live_dead/4F_mapped_intracellular_conc.csv'\n",
    "\n",
    "conditions_df.to_csv()"
   ]
  }
 ],
 "metadata": {
  "kernelspec": {
   "display_name": "Python 3 (ipykernel)",
   "language": "python",
   "name": "python3"
  },
  "language_info": {
   "codemirror_mode": {
    "name": "ipython",
    "version": 3
   },
   "file_extension": ".py",
   "mimetype": "text/x-python",
   "name": "python",
   "nbconvert_exporter": "python",
   "pygments_lexer": "ipython3",
   "version": "3.9.21"
  }
 },
 "nbformat": 4,
 "nbformat_minor": 5
}
