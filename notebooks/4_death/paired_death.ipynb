{
 "cells": [
  {
   "cell_type": "code",
   "execution_count": 1,
   "id": "e469c693-9827-4edb-8b7a-b9a4ecd5cf6d",
   "metadata": {
    "execution": {
     "iopub.execute_input": "2025-03-06T13:23:59.685195Z",
     "iopub.status.busy": "2025-03-06T13:23:59.683706Z",
     "iopub.status.idle": "2025-03-06T13:23:59.699728Z",
     "shell.execute_reply": "2025-03-06T13:23:59.699123Z",
     "shell.execute_reply.started": "2025-03-06T13:23:59.685153Z"
    }
   },
   "outputs": [],
   "source": [
    "import numpy as np\n",
    "import pandas as pd\n",
    "from pathlib import Path\n",
    "import seaborn as sns\n",
    "import matplotlib.pyplot as plt"
   ]
  },
  {
   "cell_type": "code",
   "execution_count": 2,
   "id": "3eba208a-ac8b-476b-aae8-cd2dcdb4a2e9",
   "metadata": {
    "execution": {
     "iopub.execute_input": "2025-03-06T13:23:59.879227Z",
     "iopub.status.busy": "2025-03-06T13:23:59.878698Z",
     "iopub.status.idle": "2025-03-06T13:23:59.888442Z",
     "shell.execute_reply": "2025-03-06T13:23:59.885812Z",
     "shell.execute_reply.started": "2025-03-06T13:23:59.879196Z"
    }
   },
   "outputs": [],
   "source": [
    "data_folder = Path('../../data')\n",
    "figure_folder = Path('../../Figures/')"
   ]
  },
  {
   "cell_type": "code",
   "execution_count": 3,
   "id": "85dc29e0-aa56-46ac-9559-17f4d4782770",
   "metadata": {
    "execution": {
     "iopub.execute_input": "2025-03-06T13:24:00.038435Z",
     "iopub.status.busy": "2025-03-06T13:24:00.037944Z",
     "iopub.status.idle": "2025-03-06T13:24:00.047764Z",
     "shell.execute_reply": "2025-03-06T13:24:00.046827Z",
     "shell.execute_reply.started": "2025-03-06T13:24:00.038403Z"
    }
   },
   "outputs": [],
   "source": [
    "intra_fn = data_folder / 'this_project/4_paired_metabolomics_live_dead/4B_intracellular_conc_nmol_per_gprotein.csv'\n",
    "extra_fn = data_folder / 'this_project/4_paired_metabolomics_live_dead/4A_extracellular_conc_uM.csv'\n",
    "live_dead_fn = data_folder / 'this_project/4_paired_metabolomics_live_dead/4C_live_dead_results.csv'\n",
    "od_fn = data_folder / 'this_project/4_paired_metabolomics_live_dead/4D_sampling_OD.csv'"
   ]
  },
  {
   "cell_type": "code",
   "execution_count": 4,
   "id": "ac43d3ef-9833-4c60-bac0-f7dbea5b8cd8",
   "metadata": {
    "execution": {
     "iopub.execute_input": "2025-03-06T13:24:00.223278Z",
     "iopub.status.busy": "2025-03-06T13:24:00.222779Z",
     "iopub.status.idle": "2025-03-06T13:24:00.273620Z",
     "shell.execute_reply": "2025-03-06T13:24:00.273181Z",
     "shell.execute_reply.started": "2025-03-06T13:24:00.223233Z"
    }
   },
   "outputs": [],
   "source": [
    "intra_df = pd.read_csv(intra_fn, index_col=0)\n",
    "extra_df = pd.read_csv(extra_fn, index_col=0)\n",
    "ld_df = pd.read_csv(live_dead_fn, index_col=0)"
   ]
  },
  {
   "cell_type": "code",
   "execution_count": 5,
   "id": "ef9ca85f-2f4d-4d28-89fb-36f4214fa862",
   "metadata": {
    "execution": {
     "iopub.execute_input": "2025-03-06T13:24:00.403527Z",
     "iopub.status.busy": "2025-03-06T13:24:00.403067Z",
     "iopub.status.idle": "2025-03-06T13:24:00.421403Z",
     "shell.execute_reply": "2025-03-06T13:24:00.417709Z",
     "shell.execute_reply.started": "2025-03-06T13:24:00.403496Z"
    }
   },
   "outputs": [],
   "source": [
    "extra_df['Sample_id'] = extra_df['Sample_id'].str[:-7]"
   ]
  },
  {
   "cell_type": "code",
   "execution_count": 6,
   "id": "e366e942-f494-4fbf-b390-7aff365db099",
   "metadata": {
    "execution": {
     "iopub.execute_input": "2025-03-06T13:24:00.596013Z",
     "iopub.status.busy": "2025-03-06T13:24:00.595549Z",
     "iopub.status.idle": "2025-03-06T13:24:00.605792Z",
     "shell.execute_reply": "2025-03-06T13:24:00.603914Z",
     "shell.execute_reply.started": "2025-03-06T13:24:00.595982Z"
    }
   },
   "outputs": [],
   "source": [
    "intra_df['Sample_id'] = intra_df['Sample_id'].str.replace('_', '-')"
   ]
  },
  {
   "cell_type": "code",
   "execution_count": 7,
   "id": "b1bed7b2-8c6c-41bc-9ecc-eaf36364fef2",
   "metadata": {
    "execution": {
     "iopub.execute_input": "2025-03-06T13:24:00.785098Z",
     "iopub.status.busy": "2025-03-06T13:24:00.783529Z",
     "iopub.status.idle": "2025-03-06T13:24:00.797808Z",
     "shell.execute_reply": "2025-03-06T13:24:00.796971Z",
     "shell.execute_reply.started": "2025-03-06T13:24:00.785030Z"
    }
   },
   "outputs": [],
   "source": [
    "df_od = pd.read_csv(od_fn, index_col=0)"
   ]
  },
  {
   "cell_type": "code",
   "execution_count": 8,
   "id": "df5704f0-537d-417f-85f1-d3a1aaf40ebf",
   "metadata": {
    "execution": {
     "iopub.execute_input": "2025-03-06T13:24:01.005893Z",
     "iopub.status.busy": "2025-03-06T13:24:01.004945Z",
     "iopub.status.idle": "2025-03-06T13:24:01.021691Z",
     "shell.execute_reply": "2025-03-06T13:24:01.020821Z",
     "shell.execute_reply.started": "2025-03-06T13:24:01.005849Z"
    }
   },
   "outputs": [],
   "source": [
    "ld_df = ld_df.loc[ld_df.Dilution=='1X']"
   ]
  },
  {
   "cell_type": "code",
   "execution_count": 9,
   "id": "1d484b5a-9cf9-470c-a47d-9423c4774f84",
   "metadata": {
    "execution": {
     "iopub.execute_input": "2025-03-06T13:24:01.234309Z",
     "iopub.status.busy": "2025-03-06T13:24:01.233365Z",
     "iopub.status.idle": "2025-03-06T13:24:01.246365Z",
     "shell.execute_reply": "2025-03-06T13:24:01.243039Z",
     "shell.execute_reply.started": "2025-03-06T13:24:01.234266Z"
    }
   },
   "outputs": [],
   "source": [
    "# Convert intracellular concentrations to total amount based on OD and conversion factors"
   ]
  },
  {
   "cell_type": "markdown",
   "id": "389a86aa-543e-4495-95fc-800a1560ce52",
   "metadata": {},
   "source": [
    "# Get T4-T1 delta"
   ]
  },
  {
   "cell_type": "code",
   "execution_count": 10,
   "id": "0a30aa13-8095-49b7-83fb-afb57cb8a703",
   "metadata": {
    "execution": {
     "iopub.execute_input": "2025-03-06T13:24:01.696710Z",
     "iopub.status.busy": "2025-03-06T13:24:01.695750Z",
     "iopub.status.idle": "2025-03-06T13:24:01.708059Z",
     "shell.execute_reply": "2025-03-06T13:24:01.706108Z",
     "shell.execute_reply.started": "2025-03-06T13:24:01.696677Z"
    }
   },
   "outputs": [],
   "source": [
    "extra_df_t1 = extra_df.loc[extra_df.Timepoint == 'T1']\n",
    "extra_df_t4 = extra_df.loc[extra_df.Timepoint == 'T4']\n"
   ]
  },
  {
   "cell_type": "code",
   "execution_count": 11,
   "id": "e2bb7a4f-1efc-40f2-a339-821971c74eff",
   "metadata": {
    "execution": {
     "iopub.execute_input": "2025-03-06T13:24:01.973319Z",
     "iopub.status.busy": "2025-03-06T13:24:01.972504Z",
     "iopub.status.idle": "2025-03-06T13:24:01.989859Z",
     "shell.execute_reply": "2025-03-06T13:24:01.987182Z",
     "shell.execute_reply.started": "2025-03-06T13:24:01.973277Z"
    }
   },
   "outputs": [],
   "source": [
    "metabolites = sorted(['Leucine',\n",
    "       'Glutamate', 'Aspartate', 'Fructose-6-phosphate', 'Cis-aconitate'])\n",
    "carbon_sources = ['Galactose', 'L-malate', 'L-alanine']"
   ]
  },
  {
   "cell_type": "code",
   "execution_count": 12,
   "id": "e17494ce-02a8-4911-b68a-ae284a3b585f",
   "metadata": {
    "execution": {
     "iopub.execute_input": "2025-03-07T15:41:43.569057Z",
     "iopub.status.busy": "2025-03-07T15:41:43.568652Z",
     "iopub.status.idle": "2025-03-07T15:41:43.621316Z",
     "shell.execute_reply": "2025-03-07T15:41:43.620636Z",
     "shell.execute_reply.started": "2025-03-07T15:41:43.569039Z"
    }
   },
   "outputs": [],
   "source": [
    "dfs = []\n",
    "for m in metabolites:\n",
    "    for cs in carbon_sources:\n",
    "        t1_idx = (extra_df.Timepoint=='T1')&(extra_df['Carbon source']==cs)\n",
    "        t4_idx = (extra_df.Timepoint=='T4')&(extra_df['Carbon source']==cs)\n",
    "        t1_data = extra_df.loc[t1_idx, [m, 'Sample #']]\n",
    "        t4_data = extra_df.loc[t4_idx, [m, 'Sample #']]\n",
    "\n",
    "        # Discard data that has too few replicate values\n",
    "        if t4_data[m].isna().sum() == len(t4_data):\n",
    "            # All nan values at T4 - skip\n",
    "            continue\n",
    "        # elif t4_data[m].notna().sum()+t1_data[m].notna().sum()<3:\n",
    "        #     continue\n",
    "        \n",
    "        # fill nan values in T1 data\n",
    "        if t1_data[m].isna().sum() == len(t1_data):\n",
    "            t1_data[m] = 0\n",
    "        elif t1_data[m].isna().sum() > 0:\n",
    "            t1_data[m].fillna(t1_data[m].mean())\n",
    "            \n",
    "        temp = pd.merge(left = t1_data, right=t4_data, left_on='Sample #', right_on='Sample #', suffixes=['-T1', '-T4'])\n",
    "        temp['Δ concentration [uM]'] = temp[f'{m}-T4']-temp[f'{m}-T1']\n",
    "        # temp['Carbon source'] = cs\n",
    "        temp['Metabolite'] = m\n",
    "        dfs.append(temp[['Sample #', 'Metabolite', 'Δ concentration [uM]']])#'Carbon source'\n"
   ]
  },
  {
   "cell_type": "code",
   "execution_count": 13,
   "id": "ad43181b-1ba1-44b0-8c42-25801b590527",
   "metadata": {
    "execution": {
     "iopub.execute_input": "2025-03-07T15:41:47.868161Z",
     "iopub.status.busy": "2025-03-07T15:41:47.867003Z",
     "iopub.status.idle": "2025-03-07T15:41:47.879012Z",
     "shell.execute_reply": "2025-03-07T15:41:47.877028Z",
     "shell.execute_reply.started": "2025-03-07T15:41:47.868087Z"
    }
   },
   "outputs": [],
   "source": [
    "delta_ex = pd.concat(dfs)"
   ]
  },
  {
   "cell_type": "code",
   "execution_count": 14,
   "id": "530f04a7-7de2-4f5c-a96d-7b315a783d78",
   "metadata": {
    "execution": {
     "iopub.execute_input": "2025-03-07T15:41:48.225670Z",
     "iopub.status.busy": "2025-03-07T15:41:48.224802Z",
     "iopub.status.idle": "2025-03-07T15:41:48.240622Z",
     "shell.execute_reply": "2025-03-07T15:41:48.239086Z",
     "shell.execute_reply.started": "2025-03-07T15:41:48.225628Z"
    }
   },
   "outputs": [],
   "source": [
    "delta_ex.loc[delta_ex['Δ concentration [uM]']<0, 'Δ concentration [uM]'] = np.nan"
   ]
  },
  {
   "cell_type": "markdown",
   "id": "7700fe91-6708-4025-9d4c-e198418572b4",
   "metadata": {},
   "source": [
    "# Using OD as cell concentration measure"
   ]
  },
  {
   "cell_type": "code",
   "execution_count": 15,
   "id": "52f6b90c-3d94-4262-92df-8286da0135f9",
   "metadata": {
    "execution": {
     "iopub.execute_input": "2025-03-07T15:41:48.839662Z",
     "iopub.status.busy": "2025-03-07T15:41:48.838677Z",
     "iopub.status.idle": "2025-03-07T15:41:48.853133Z",
     "shell.execute_reply": "2025-03-07T15:41:48.850961Z",
     "shell.execute_reply.started": "2025-03-07T15:41:48.839619Z"
    }
   },
   "outputs": [],
   "source": [
    "sample_id_to_od = df_od.set_index('Common sample ID')['OD at sampling'].to_dict()"
   ]
  },
  {
   "cell_type": "code",
   "execution_count": 16,
   "id": "dfda21a1-4143-4265-9953-d9b5ef57af96",
   "metadata": {
    "execution": {
     "iopub.execute_input": "2025-03-07T15:41:49.449653Z",
     "iopub.status.busy": "2025-03-07T15:41:49.449084Z",
     "iopub.status.idle": "2025-03-07T15:41:49.459272Z",
     "shell.execute_reply": "2025-03-07T15:41:49.458040Z",
     "shell.execute_reply.started": "2025-03-07T15:41:49.449617Z"
    }
   },
   "outputs": [],
   "source": [
    "intra_df['OD'] = intra_df.Sample_id.map(sample_id_to_od)\n"
   ]
  },
  {
   "cell_type": "code",
   "execution_count": 17,
   "id": "93c7e08a-8e76-4601-936d-b7aff3ffb096",
   "metadata": {
    "execution": {
     "iopub.execute_input": "2025-03-07T15:41:49.722657Z",
     "iopub.status.busy": "2025-03-07T15:41:49.721587Z",
     "iopub.status.idle": "2025-03-07T15:41:49.734058Z",
     "shell.execute_reply": "2025-03-07T15:41:49.731621Z",
     "shell.execute_reply.started": "2025-03-07T15:41:49.722596Z"
    }
   },
   "outputs": [],
   "source": [
    "protein_density = 13.5*1e-8#  μg/μm^3 From Mori et al., 2017 (See SI) https://www.nature.com/articles/s41467-017-01242-8\n",
    "# Protein density seems to be not correlated with growth rate\n",
    "\n",
    "cubic_um_to_L = 1e-15 # L/um^3\n",
    "protein_denisty_g_per_L = protein_density/cubic_um_to_L*1e-6"
   ]
  },
  {
   "cell_type": "code",
   "execution_count": 18,
   "id": "c0c45a20-1e28-46a1-9604-0e6e82faca46",
   "metadata": {
    "execution": {
     "iopub.execute_input": "2025-03-07T15:41:49.979922Z",
     "iopub.status.busy": "2025-03-07T15:41:49.979446Z",
     "iopub.status.idle": "2025-03-07T15:41:49.997142Z",
     "shell.execute_reply": "2025-03-07T15:41:49.996395Z",
     "shell.execute_reply.started": "2025-03-07T15:41:49.979892Z"
    }
   },
   "outputs": [],
   "source": [
    "id_vars = ['Sample_id', 'Sample #', 'Carbon source', 'Timepoint', 'OD']\n",
    "df_intraL = intra_df.melt(id_vars=id_vars, var_name='Metabolite', value_name='Concentration [nmol/g protein]')"
   ]
  },
  {
   "cell_type": "code",
   "execution_count": 19,
   "id": "b5029b5e-b642-4af0-9805-f8ec0b66aea5",
   "metadata": {
    "execution": {
     "iopub.execute_input": "2025-03-07T15:41:50.246755Z",
     "iopub.status.busy": "2025-03-07T15:41:50.246338Z",
     "iopub.status.idle": "2025-03-07T15:41:50.254942Z",
     "shell.execute_reply": "2025-03-07T15:41:50.252862Z",
     "shell.execute_reply.started": "2025-03-07T15:41:50.246725Z"
    }
   },
   "outputs": [],
   "source": [
    "df_intraL['Concentration [uM]'] = df_intraL['Concentration [nmol/g protein]']*protein_denisty_g_per_L*1e-3"
   ]
  },
  {
   "cell_type": "code",
   "execution_count": 20,
   "id": "eb12fed7-a216-46f9-a734-0f155f0c6602",
   "metadata": {
    "execution": {
     "iopub.execute_input": "2025-03-07T15:41:50.732674Z",
     "iopub.status.busy": "2025-03-07T15:41:50.731789Z",
     "iopub.status.idle": "2025-03-07T15:41:50.745886Z",
     "shell.execute_reply": "2025-03-07T15:41:50.744751Z",
     "shell.execute_reply.started": "2025-03-07T15:41:50.732627Z"
    }
   },
   "outputs": [],
   "source": [
    "total_cell_volume_per_od = 3.6 # uL per OD per mL Total cell volume conversion, see Volkmer and Heinemann 2011, https://pmc.ncbi.nlm.nih.gov/articles/PMC3146540/\n"
   ]
  },
  {
   "cell_type": "code",
   "execution_count": 21,
   "id": "642c17c5-5979-4af0-b361-271146882d78",
   "metadata": {
    "execution": {
     "iopub.execute_input": "2025-03-07T15:41:51.091194Z",
     "iopub.status.busy": "2025-03-07T15:41:51.090231Z",
     "iopub.status.idle": "2025-03-07T15:41:51.098534Z",
     "shell.execute_reply": "2025-03-07T15:41:51.097600Z",
     "shell.execute_reply.started": "2025-03-07T15:41:51.091152Z"
    }
   },
   "outputs": [],
   "source": [
    "# df_intraL['Corresponding E. concentration [mM]'] = df_intraL['Concentration [uM]']*total_cell_volume_per_od*df_intraL['OD']\n"
   ]
  },
  {
   "cell_type": "code",
   "execution_count": 22,
   "id": "0a393e5f-b32d-4763-93ac-48d8b9b5e6b4",
   "metadata": {
    "execution": {
     "iopub.execute_input": "2025-03-07T15:41:52.082878Z",
     "iopub.status.busy": "2025-03-07T15:41:52.082192Z",
     "iopub.status.idle": "2025-03-07T15:41:52.093890Z",
     "shell.execute_reply": "2025-03-07T15:41:52.092599Z",
     "shell.execute_reply.started": "2025-03-07T15:41:52.082840Z"
    }
   },
   "outputs": [],
   "source": [
    "\n",
    "df_intraL['Corresponding Ex. concentration [uM]'] = total_cell_volume_per_od*df_intraL['OD']*1e-6*df_intraL['Concentration [uM]']*1e3\n"
   ]
  },
  {
   "cell_type": "code",
   "execution_count": 23,
   "id": "41597ce0-1e31-4667-993b-92ce4ede0549",
   "metadata": {
    "execution": {
     "iopub.execute_input": "2025-03-07T15:41:52.432010Z",
     "iopub.status.busy": "2025-03-07T15:41:52.431498Z",
     "iopub.status.idle": "2025-03-07T15:41:52.446744Z",
     "shell.execute_reply": "2025-03-07T15:41:52.445100Z",
     "shell.execute_reply.started": "2025-03-07T15:41:52.431975Z"
    }
   },
   "outputs": [],
   "source": [
    "df_death = df_intraL.merge(right=delta_ex, left_on=('Sample #', 'Metabolite'), right_on = ('Sample #', 'Metabolite'))"
   ]
  },
  {
   "cell_type": "markdown",
   "id": "adc5f77b-b34d-4651-a964-59b05b68693c",
   "metadata": {},
   "source": [
    "# Get dead fraction"
   ]
  },
  {
   "cell_type": "code",
   "execution_count": 24,
   "id": "2140099e-f1d8-44db-9cd6-dd99225ed265",
   "metadata": {
    "execution": {
     "iopub.execute_input": "2025-03-07T15:41:55.953019Z",
     "iopub.status.busy": "2025-03-07T15:41:55.951904Z",
     "iopub.status.idle": "2025-03-07T15:41:55.967071Z",
     "shell.execute_reply": "2025-03-07T15:41:55.966036Z",
     "shell.execute_reply.started": "2025-03-07T15:41:55.952622Z"
    }
   },
   "outputs": [],
   "source": [
    "ld_df['Sample #'] = ld_df.Sample_id.str[:2]"
   ]
  },
  {
   "cell_type": "code",
   "execution_count": 25,
   "id": "80ec61f5-b949-411c-b3db-e7ee98f1b70b",
   "metadata": {
    "execution": {
     "iopub.execute_input": "2025-03-07T15:41:56.386681Z",
     "iopub.status.busy": "2025-03-07T15:41:56.385470Z",
     "iopub.status.idle": "2025-03-07T15:41:56.399946Z",
     "shell.execute_reply": "2025-03-07T15:41:56.399062Z",
     "shell.execute_reply.started": "2025-03-07T15:41:56.386635Z"
    }
   },
   "outputs": [],
   "source": [
    "sample_to_dead_fraction = ld_df.loc[ld_df['Live/Dead']=='Live'].set_index('Sample #')['Dead fraction'].to_dict()"
   ]
  },
  {
   "cell_type": "code",
   "execution_count": 26,
   "id": "989d4945-1769-4141-b658-748bb2a2b908",
   "metadata": {
    "execution": {
     "iopub.execute_input": "2025-03-07T15:42:06.560966Z",
     "iopub.status.busy": "2025-03-07T15:42:06.560128Z",
     "iopub.status.idle": "2025-03-07T15:42:06.575333Z",
     "shell.execute_reply": "2025-03-07T15:42:06.574168Z",
     "shell.execute_reply.started": "2025-03-07T15:42:06.560931Z"
    }
   },
   "outputs": [
    {
     "data": {
      "text/plain": [
       "{'1A': 0.0022171887794224,\n",
       " '1B': 0.0236893152868333,\n",
       " '1C': 0.0023303582119796,\n",
       " '1D': 0.0031019757629409,\n",
       " '2A': 0.0075280044724333,\n",
       " '2B': 0.0076061408152461,\n",
       " '2C': 0.0067909055763592,\n",
       " '2D': 0.0059630171381029,\n",
       " '3A': 0.0022953767287055,\n",
       " '3B': 0.0020330137152567,\n",
       " '3C': 0.0037972866380275,\n",
       " '3D': 0.002241516749771}"
      ]
     },
     "execution_count": 26,
     "metadata": {},
     "output_type": "execute_result"
    }
   ],
   "source": [
    "sample_to_dead_fraction"
   ]
  },
  {
   "cell_type": "code",
   "execution_count": 27,
   "id": "32e501e4-b01c-4404-86ce-fe66e7d3dee8",
   "metadata": {
    "execution": {
     "iopub.execute_input": "2025-03-07T15:42:14.652666Z",
     "iopub.status.busy": "2025-03-07T15:42:14.651900Z",
     "iopub.status.idle": "2025-03-07T15:42:14.664054Z",
     "shell.execute_reply": "2025-03-07T15:42:14.663168Z",
     "shell.execute_reply.started": "2025-03-07T15:42:14.652628Z"
    }
   },
   "outputs": [],
   "source": [
    "df_death['Dead fraction'] = df_death['Sample #'].map(sample_to_dead_fraction)"
   ]
  },
  {
   "cell_type": "code",
   "execution_count": null,
   "id": "bec17f38-cf5c-4acb-8256-e150cf816cbf",
   "metadata": {
    "execution": {
     "iopub.execute_input": "2025-03-07T15:42:15.187286Z",
     "iopub.status.busy": "2025-03-07T15:42:15.185916Z",
     "iopub.status.idle": "2025-03-07T15:42:15.203227Z",
     "shell.execute_reply": "2025-03-07T15:42:15.200898Z",
     "shell.execute_reply.started": "2025-03-07T15:42:15.187241Z"
    }
   },
   "outputs": [],
   "source": [
    "df_death['Fraction explained'] = df_death['Corresponding Ex. concentration [uM]']*df_death['Dead fraction']/df_death['Δ concentration [uM]']"
   ]
  },
  {
   "cell_type": "code",
   "execution_count": 45,
   "id": "837b1872",
   "metadata": {},
   "outputs": [],
   "source": [
    "df_death.dropna(subset=['Fraction explained'], inplace=True)"
   ]
  },
  {
   "cell_type": "code",
   "execution_count": 155,
   "id": "daf6e180",
   "metadata": {},
   "outputs": [
    {
     "data": {
      "text/plain": [
       "26    0.071309\n",
       "28    2.025250\n",
       "29    2.113758\n",
       "30    3.884124\n",
       "31    4.306714\n",
       "44    0.760151\n",
       "45    0.745879\n",
       "46    0.768665\n",
       "47    0.800146\n",
       "53    1.776131\n",
       "54    1.742494\n",
       "55    1.609172\n",
       "48    0.683595\n",
       "49    0.692965\n",
       "50    0.918602\n",
       "51    0.970204\n",
       "41    0.830740\n",
       "42    0.737945\n",
       "36    0.292968\n",
       "37    0.303776\n",
       "38    0.201566\n",
       "12    3.556297\n",
       "13    3.565419\n",
       "14    3.507794\n",
       "15    3.570236\n",
       "21    0.986385\n",
       "22    1.290596\n",
       "23    1.113683\n",
       "0     0.098883\n",
       "1     0.093184\n",
       "2     0.119344\n",
       "3     0.119280\n",
       "9     0.633571\n",
       "10    0.696213\n",
       "11    0.748305\n",
       "6     0.000393\n",
       "7     0.000450\n",
       "Name: Δ concentration [uM], dtype: float64"
      ]
     },
     "execution_count": 155,
     "metadata": {},
     "output_type": "execute_result"
    }
   ],
   "source": [
    "df_death['Δ concentration [uM]']"
   ]
  },
  {
   "cell_type": "code",
   "execution_count": 244,
   "id": "06fdf370-0236-44c8-b7af-4b32d1d6b9fe",
   "metadata": {
    "execution": {
     "iopub.execute_input": "2025-03-09T21:31:29.829228Z",
     "iopub.status.busy": "2025-03-09T21:31:29.828468Z",
     "iopub.status.idle": "2025-03-09T21:31:30.208681Z",
     "shell.execute_reply": "2025-03-09T21:31:30.208414Z",
     "shell.execute_reply.started": "2025-03-09T21:31:29.829181Z"
    }
   },
   "outputs": [
    {
     "name": "stdout",
     "output_type": "stream",
     "text": [
      "i: 0, m: Aspartate, cs: Galactose, sizes: [33.53144346], [25]\n",
      "i: 2, m: Aspartate, cs: L-malate, sizes: [48.06478641 48.25055264 50.89293086 51.34146032], [25]\n",
      "i: 3, m: Cis-aconitate, cs: Galactose, sizes: [43.80899871 43.7266838  43.85737107 44.03169239], [25]\n",
      "i: 4, m: Cis-aconitate, cs: L-alanine, sizes: [47.49474994 47.41171291 47.06602467], [25]\n",
      "i: 5, m: Cis-aconitate, cs: L-malate, sizes: [43.34798878 43.407113   44.63127387 44.86863061], [25]\n",
      "i: 7, m: Fructose-6-phosphate, cs: L-alanine, sizes: [44.19465122 43.68023994], [25]\n",
      "i: 8, m: Fructose-6-phosphate, cs: L-malate, sizes: [39.66820186 39.82553459 38.04417277], [25]\n",
      "i: 9, m: Glutamate, cs: Galactose, sizes: [50.50998023 50.52110574 50.45034081 50.52696925], [25]\n",
      "i: 10, m: Glutamate, cs: L-alanine, sizes: [44.94046459 46.10790315 45.4676159 ], [25]\n",
      "i: 12, m: Leucine, cs: Galactose, sizes: [34.95121634 34.69341349 35.7680059  35.7656763 ], [25]\n",
      "i: 13, m: Leucine, cs: L-alanine, sizes: [43.0179529  43.42742128 43.74078647], [25]\n",
      "i: 14, m: Leucine, cs: L-malate, sizes: [10.9439255  11.53212514], [25]\n"
     ]
    },
    {
     "data": {
      "image/png": "[encoded data removed]",
      "text/plain": [
       "<Figure size 400x300 with 1 Axes>"
      ]
     },
     "metadata": {},
     "output_type": "display_data"
    }
   ],
   "source": [
    "import matplotlib.lines as mlines\n",
    "\n",
    "fig, ax = plt.subplots(1, figsize = (4,3))\n",
    "# Normalize the size column to control the point size\n",
    "df_death['log10(Δ concentration [uM])'] = np.log10(df_death['Δ concentration [uM]'])\n",
    "df_death.sort_values(by = ['Metabolite', 'Carbon source'], inplace=True)    \n",
    "size_column = 'log10(Δ concentration [uM])' # Replace with the column name in your DataFrame\n",
    "sizes = ((df_death[size_column] + 4) *10) + 5\n",
    "df_death['Size'] = sizes\n",
    "\n",
    "\n",
    "# Define the order explicitly for Metabolite and Carbon source\n",
    "metabolite_order = sorted(df_death['Metabolite'].unique())\n",
    "carbon_source_order = sorted(df_death['Carbon source'].unique())\n",
    "\n",
    "\n",
    "l = sns.boxplot(df_death, x = 'Fraction explained', hue = 'Carbon source', y = 'Metabolite', fill = False,gap=.1,\n",
    "                ax = ax, legend = None, fliersize = 0,\n",
    "                order = metabolite_order, hue_order = carbon_source_order)\n",
    "                # order = sorted(df_death.Metabolite.unique()))#color = 'w', , linecolor = 'grey'\n",
    "\n",
    "strip = sns.stripplot(df_death, x = 'Fraction explained', hue = 'Carbon source', y = 'Metabolite', dodge=True, ax = ax,\n",
    "             edgecolor = 'k', linewidth = 0.5, alpha = 0.8,\n",
    "             order= metabolite_order, hue_order = carbon_source_order,\n",
    "            #  s = sizes.values\n",
    ")\n",
    "# Map each artist to its corresponding group\n",
    "# Iterate over the collections and match them to the grouped data\n",
    "i = 0\n",
    "group_data = df_death.groupby(['Metabolite', 'Carbon source'], sort=False)\n",
    "for m in metabolite_order:\n",
    "    for cs in carbon_source_order:\n",
    "        artist = strip.collections[i]\n",
    "        try:\n",
    "            sizes = group_data.get_group((m, cs))['Size'].values\n",
    "        except KeyError:\n",
    "            i += 1\n",
    "            continue\n",
    "        \n",
    "        print(f\"i: {i}, m: {m}, cs: {cs}, sizes: {sizes}, {artist.get_sizes()}\")\n",
    "        artist.set_sizes(sizes)\n",
    "        i += 1\n",
    "\n",
    "\n",
    "size_legend_labels = ['1 nM', '1 μM']  # Example labels for the legend\n",
    "legend_values = [-3, -2, -1, 0]  # Example values to display in the legend\n",
    "size_legend_size = [((x + 4)*10) for x in legend_values]\n",
    "# size_legend_values = [-3, -2, 10]  # Example sizes to display in the legend\n",
    "# size_legend_labels = [f\"{10**((size - 10) / 50 * (df_death[size_column].max() - df_death[size_column].min()) + df_death[size_column].min()):.2f}\" for size in size_legend_values]\n",
    "\n",
    "# Create circular markers for the size legend\n",
    "size_handles = [\n",
    "    mlines.Line2D([], [], color='gray', marker='o', linestyle='None', markersize=size/3, label=label, alpha=0.8)\n",
    "    for size, label in zip(size_legend_size, size_legend_labels)\n",
    "]\n",
    "\n",
    "\n",
    "# Get the existing legend handles and labels\n",
    "handles, labels = ax.get_legend_handles_labels()\n",
    "\n",
    "# Combine the existing legend with the size legend\n",
    "combined_handles = handles + size_handles\n",
    "combined_labels = labels + size_legend_labels\n",
    "\n",
    "# Add the combined legend to the plot\n",
    "ax.legend(\n",
    "    combined_handles,\n",
    "    combined_labels,\n",
    "    title='Carbon source',\n",
    "    loc=\"upper right\",\n",
    "    bbox_to_anchor=(1.05, 1.05),\n",
    "    # ha = 'right',\n",
    "    frameon=True\n",
    ")\n",
    "ax.set_xscale('log')\n",
    "ax.set_ylabel('')\n",
    "sns.despine()\n",
    "fig_fn = figure_folder / '2_paired_death_1.pdf'\n",
    "plt.savefig(fig_fn, bbox_inches='tight')"
   ]
  },
  {
   "cell_type": "code",
   "execution_count": 179,
   "id": "b0ea46a6",
   "metadata": {},
   "outputs": [
    {
     "data": {
      "text/plain": [
       "[15.020200507996517, 27.39719336807137, 39.77418622814623, 52.15117908822108]"
      ]
     },
     "execution_count": 179,
     "metadata": {},
     "output_type": "execute_result"
    }
   ],
   "source": [
    "size_legend_size"
   ]
  },
  {
   "cell_type": "code",
   "execution_count": 30,
   "id": "8430523c-d4b1-4bfa-a992-9def9bff4898",
   "metadata": {
    "execution": {
     "iopub.execute_input": "2025-03-03T23:38:48.682767Z",
     "iopub.status.busy": "2025-03-03T23:38:48.680961Z",
     "iopub.status.idle": "2025-03-03T23:38:49.351459Z",
     "shell.execute_reply": "2025-03-03T23:38:49.351151Z",
     "shell.execute_reply.started": "2025-03-03T23:38:48.682701Z"
    }
   },
   "outputs": [
    {
     "data": {
      "image/png": "[encoded data removed]",
      "text/plain": [
       "<Figure size 911.111x300 with 3 Axes>"
      ]
     },
     "metadata": {},
     "output_type": "display_data"
    }
   ],
   "source": [
    "g = sns.catplot(df_death, x = 'Fraction explained', col = 'Carbon source', y = 'Metabolite', fill = False,gap=.1, kind ='box', height=3)\n",
    "g.map_dataframe(sns.stripplot, data = df_death, x = 'Fraction explained', y = 'Metabolite', dodge=True)\n",
    "for ax in g.axes[0]:\n",
    "    ax.set_xscale('log')\n",
    "sns.despine()\n",
    "fig_fn = figure_folder / '2_paired_death_3.pdf'\n",
    "plt.savefig(fig_fn)"
   ]
  },
  {
   "cell_type": "code",
   "execution_count": 242,
   "id": "f46b4a68-84ee-4208-9e25-cef93099b21c",
   "metadata": {
    "execution": {
     "iopub.execute_input": "2025-03-07T15:44:38.694112Z",
     "iopub.status.busy": "2025-03-07T15:44:38.693453Z",
     "iopub.status.idle": "2025-03-07T15:44:38.959859Z",
     "shell.execute_reply": "2025-03-07T15:44:38.959564Z",
     "shell.execute_reply.started": "2025-03-07T15:44:38.694082Z"
    }
   },
   "outputs": [
    {
     "data": {
      "image/png": "[encoded data removed]",
      "text/plain": [
       "<Figure size 640x480 with 1 Axes>"
      ]
     },
     "metadata": {},
     "output_type": "display_data"
    }
   ],
   "source": [
    "import matplotlib.pyplot as plt\n",
    "\n",
    "# Create the scatterplot\n",
    "ax = sns.scatterplot(\n",
    "    data=df_death,\n",
    "    x='Fraction explained',\n",
    "    y='Δ concentration [uM]',\n",
    "    hue='Metabolite',\n",
    "    style='Carbon source',\n",
    "    s=100\n",
    ")\n",
    "\n",
    "# Get the handles and labels for hue and style\n",
    "hue_handles, hue_labels = ax.get_legend_handles_labels()\n",
    "style_handles = [h for h, l in zip(hue_handles, hue_labels) if l in df_death['Carbon source'].unique()]\n",
    "hue_handles = [h for h, l in zip(hue_handles, hue_labels) if l in df_death['Metabolite'].unique()]\n",
    "\n",
    "# Create separate legends for hue and style\n",
    "hue_legend = ax.legend(\n",
    "    handles=hue_handles,\n",
    "    labels=[x for x in df_death['Metabolite'].unique()],\n",
    "    title=\"Metabolite\",\n",
    "    loc=\"lower left\",\n",
    "    bbox_to_anchor=(0.01, 0.01),\n",
    "    frameon=True\n",
    ")\n",
    "\n",
    "style_legend = ax.legend(\n",
    "    handles=style_handles,\n",
    "    labels=[x for x in df_death['Carbon source'].unique()],\n",
    "    title=\"Carbon source\",\n",
    "    loc=\"lower left\",\n",
    "    bbox_to_anchor=(0.4, 0.01),\n",
    "    frameon=False\n",
    ")\n",
    "\n",
    "# Add the legends to the plot\n",
    "ax.add_artist(hue_legend)\n",
    "\n",
    "# Set log scales\n",
    "ax.set_yscale('log')\n",
    "ax.set_xscale('log')\n",
    "\n",
    "plt.tight_layout()\n",
    "plt.show()"
   ]
  },
  {
   "cell_type": "markdown",
   "id": "5648ad33-2192-48ad-b89f-4a9353ac2526",
   "metadata": {},
   "source": [
    "# Fraction explained if all cells are lysed"
   ]
  },
  {
   "cell_type": "code",
   "execution_count": 32,
   "id": "d896a087-53ad-423e-8275-f2f1a14fed25",
   "metadata": {
    "execution": {
     "iopub.execute_input": "2025-03-06T13:28:04.125363Z",
     "iopub.status.busy": "2025-03-06T13:28:04.121263Z",
     "iopub.status.idle": "2025-03-06T13:28:04.146422Z",
     "shell.execute_reply": "2025-03-06T13:28:04.145047Z",
     "shell.execute_reply.started": "2025-03-06T13:28:04.125247Z"
    }
   },
   "outputs": [],
   "source": [
    "df_death['Fraction explained all cells lysed'] = df_death['Corresponding Ex. concentration [uM]']/df_death['Δ concentration [uM]']"
   ]
  },
  {
   "cell_type": "code",
   "execution_count": 33,
   "id": "2a18fa7e-9f41-493e-95c3-ed9b7eeae8cc",
   "metadata": {
    "execution": {
     "iopub.execute_input": "2025-03-06T13:29:25.888686Z",
     "iopub.status.busy": "2025-03-06T13:29:25.888298Z",
     "iopub.status.idle": "2025-03-06T13:29:26.137981Z",
     "shell.execute_reply": "2025-03-06T13:29:26.137696Z",
     "shell.execute_reply.started": "2025-03-06T13:29:25.888662Z"
    }
   },
   "outputs": [
    {
     "data": {
      "image/png": "[encoded data removed]",
      "text/plain": [
       "<Figure size 400x300 with 1 Axes>"
      ]
     },
     "metadata": {},
     "output_type": "display_data"
    }
   ],
   "source": [
    "fig, ax = plt.subplots(1, figsize = (4,3))\n",
    "l = sns.boxplot(df_death, x = 'Fraction explained all cells lysed', hue = 'Carbon source', y = 'Metabolite', fill = False,gap=.1,\n",
    "                ax = ax, legend = None)\n",
    "sns.stripplot(df_death, x = 'Fraction explained all cells lysed', hue = 'Carbon source', y = 'Metabolite', dodge=True, ax = ax)\n",
    "ax.set_xscale('log')\n",
    "sns.despine()\n"
   ]
  }
 ],
 "metadata": {
  "kernelspec": {
   "display_name": "base",
   "language": "python",
   "name": "python3"
  },
  "language_info": {
   "codemirror_mode": {
    "name": "ipython",
    "version": 3
   },
   "file_extension": ".py",
   "mimetype": "text/x-python",
   "name": "python",
   "nbconvert_exporter": "python",
   "pygments_lexer": "ipython3",
   "version": "3.12.2"
  }
 },
 "nbformat": 4,
 "nbformat_minor": 5
}
