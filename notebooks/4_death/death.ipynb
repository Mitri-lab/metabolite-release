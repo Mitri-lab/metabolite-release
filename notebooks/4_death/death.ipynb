{
 "cells": [
  {
   "cell_type": "code",
   "execution_count": 10,
   "id": "116b93d7-8685-413a-bc64-1da85546ac73",
   "metadata": {
    "execution": {
     "iopub.execute_input": "2025-03-09T10:52:09.163155Z",
     "iopub.status.busy": "2025-03-09T10:52:09.161925Z",
     "iopub.status.idle": "2025-03-09T10:52:09.706952Z",
     "shell.execute_reply": "2025-03-09T10:52:09.706627Z",
     "shell.execute_reply.started": "2025-03-09T10:52:09.163087Z"
    }
   },
   "outputs": [],
   "source": [
    "import pandas as pd\n",
    "import seaborn as sns \n",
    "from pathlib import Path\n",
    "import matplotlib.pyplot as plt\n",
    "import numpy as np\n",
    "\n",
    "import sys\n",
    "sys.path.append('../../code')\n",
    "import leakage\n"
   ]
  },
  {
   "cell_type": "code",
   "execution_count": 7,
   "id": "1c5546c5-56b5-4be2-a22e-171c8d312849",
   "metadata": {
    "execution": {
     "iopub.execute_input": "2025-03-09T10:51:45.921486Z",
     "iopub.status.busy": "2025-03-09T10:51:45.920674Z",
     "iopub.status.idle": "2025-03-09T10:51:45.929632Z",
     "shell.execute_reply": "2025-03-09T10:51:45.928563Z",
     "shell.execute_reply.started": "2025-03-09T10:51:45.921446Z"
    }
   },
   "outputs": [],
   "source": [
    "data_folder = Path('../../data')\n",
    "figure_folder = Path('../../Figures/')\n",
    "div_folder = Path('../../../data/this_project/5_div/')\n"
   ]
  },
  {
   "cell_type": "markdown",
   "id": "dbdd659d-b991-4772-ba7e-ffc6379e911b",
   "metadata": {},
   "source": [
    "## Get extracellular data"
   ]
  },
  {
   "cell_type": "code",
   "execution_count": 111,
   "id": "72091a1d-301b-4644-803d-81b0fecb9126",
   "metadata": {
    "execution": {
     "iopub.execute_input": "2025-03-09T15:12:20.372007Z",
     "iopub.status.busy": "2025-03-09T15:12:20.371448Z",
     "iopub.status.idle": "2025-03-09T15:12:20.383899Z",
     "shell.execute_reply": "2025-03-09T15:12:20.381299Z",
     "shell.execute_reply.started": "2025-03-09T15:12:20.371960Z"
    }
   },
   "outputs": [],
   "source": [
    "sintef_fn = data_folder / 'this_project/1_e_coli_batch_cultures/1ABE_merged_metabolomics_data.csv'\n",
    "sintef_od_fn = data_folder / 'this_project/1_e_coli_batch_cultures/1H_OD_and_gDW.csv'\n",
    "\n",
    "paczia_fn = data_folder / 'paczia_2012' / 'e_coli'/'e_coli_exometabolites.csv'\n",
    "paczia_od_fn = data_folder / 'paczia_2012' / 'e_coli'/'e_coli_OD.csv'\n",
    "\n",
    "# vila_fn = data_folder / 'vila_2023' / 'Targeted_LCMS.csv'\n",
    "# vila_od_fn = data_folder / 'vila_2023' /'Growth_Rates_Fig2.csv'\n"
   ]
  },
  {
   "cell_type": "markdown",
   "id": "c0b1daed-fa1c-47d9-b872-b74fed68dfe1",
   "metadata": {},
   "source": [
    "## Sintef"
   ]
  },
  {
   "cell_type": "code",
   "execution_count": 151,
   "id": "ffc10d41-746b-46b7-8568-b91b3ac88891",
   "metadata": {
    "execution": {
     "iopub.execute_input": "2025-03-09T15:46:00.211302Z",
     "iopub.status.busy": "2025-03-09T15:46:00.209928Z",
     "iopub.status.idle": "2025-03-09T15:46:00.241441Z",
     "shell.execute_reply": "2025-03-09T15:46:00.240883Z",
     "shell.execute_reply.started": "2025-03-09T15:46:00.211232Z"
    }
   },
   "outputs": [],
   "source": [
    "sintef_df = pd.read_csv(sintef_fn, index_col=0)\n",
    "# Only intrerested in the absolute quantification\n",
    "sintef_df = sintef_df.loc[sintef_df['Concentration [uM]'].notna()]"
   ]
  },
  {
   "cell_type": "code",
   "execution_count": 152,
   "id": "270fbf54-0440-4d89-99ff-992d8f874beb",
   "metadata": {
    "execution": {
     "iopub.execute_input": "2025-03-09T15:46:00.393464Z",
     "iopub.status.busy": "2025-03-09T15:46:00.392717Z",
     "iopub.status.idle": "2025-03-09T15:46:00.405643Z",
     "shell.execute_reply": "2025-03-09T15:46:00.404734Z",
     "shell.execute_reply.started": "2025-03-09T15:46:00.393402Z"
    }
   },
   "outputs": [],
   "source": [
    "sintef_od = pd.read_csv(sintef_od_fn, index_col = 0)"
   ]
  },
  {
   "cell_type": "code",
   "execution_count": 153,
   "id": "b035e292-a7ba-4979-8477-449bade149bd",
   "metadata": {
    "execution": {
     "iopub.execute_input": "2025-03-09T15:46:00.554932Z",
     "iopub.status.busy": "2025-03-09T15:46:00.554225Z",
     "iopub.status.idle": "2025-03-09T15:46:00.573788Z",
     "shell.execute_reply": "2025-03-09T15:46:00.571271Z",
     "shell.execute_reply.started": "2025-03-09T15:46:00.554876Z"
    }
   },
   "outputs": [],
   "source": [
    "sintef_od_dict = sintef_od.set_index(['Hours', 'Bioreactor'])['OD'].to_dict()"
   ]
  },
  {
   "cell_type": "code",
   "execution_count": 154,
   "id": "9163dd77-7ac2-4dde-9d4f-22bd3e287ab8",
   "metadata": {
    "execution": {
     "iopub.execute_input": "2025-03-09T15:46:00.738986Z",
     "iopub.status.busy": "2025-03-09T15:46:00.738394Z",
     "iopub.status.idle": "2025-03-09T15:46:00.746262Z",
     "shell.execute_reply": "2025-03-09T15:46:00.745111Z",
     "shell.execute_reply.started": "2025-03-09T15:46:00.738954Z"
    }
   },
   "outputs": [],
   "source": [
    "sintef_od_dict[0, np.nan] = np.nan"
   ]
  },
  {
   "cell_type": "code",
   "execution_count": 155,
   "id": "392568ed-5cf1-459d-8f61-2b84433d285e",
   "metadata": {
    "execution": {
     "iopub.execute_input": "2025-03-09T15:46:00.901802Z",
     "iopub.status.busy": "2025-03-09T15:46:00.901022Z",
     "iopub.status.idle": "2025-03-09T15:46:00.922683Z",
     "shell.execute_reply": "2025-03-09T15:46:00.922308Z",
     "shell.execute_reply.started": "2025-03-09T15:46:00.901744Z"
    }
   },
   "outputs": [],
   "source": [
    "sintef_df['OD'] = sintef_df.apply(lambda x: sintef_od_dict[x['Hours'], x['Bioreactor']], axis=1)"
   ]
  },
  {
   "cell_type": "markdown",
   "id": "148a5bce-55b5-49f7-89f8-91e061c2f321",
   "metadata": {
    "execution": {
     "iopub.execute_input": "2025-03-09T15:08:10.501891Z",
     "iopub.status.busy": "2025-03-09T15:08:10.500793Z",
     "iopub.status.idle": "2025-03-09T15:08:10.520722Z",
     "shell.execute_reply": "2025-03-09T15:08:10.520338Z",
     "shell.execute_reply.started": "2025-03-09T15:08:10.501834Z"
    }
   },
   "source": [
    "#### Delta concentration"
   ]
  },
  {
   "cell_type": "code",
   "execution_count": 156,
   "id": "8dc64703-10b2-44de-80ca-984eb84363e5",
   "metadata": {
    "execution": {
     "iopub.execute_input": "2025-03-09T15:46:01.256365Z",
     "iopub.status.busy": "2025-03-09T15:46:01.255612Z",
     "iopub.status.idle": "2025-03-09T15:46:01.265801Z",
     "shell.execute_reply": "2025-03-09T15:46:01.264932Z",
     "shell.execute_reply.started": "2025-03-09T15:46:01.256307Z"
    }
   },
   "outputs": [],
   "source": [
    "sintef_t0 = sintef_df.loc[sintef_df.Hours ==0]\n",
    "# sintef_conc0_dict = .groupby(['Carbon source', 'Metabolite']).mean('Concentration [uM]')['Concentration [uM]'].to_dict()"
   ]
  },
  {
   "cell_type": "code",
   "execution_count": 157,
   "id": "1c30697a-c2fc-4dc4-bddc-93917b4e7fa5",
   "metadata": {
    "execution": {
     "iopub.execute_input": "2025-03-09T15:46:01.461957Z",
     "iopub.status.busy": "2025-03-09T15:46:01.460917Z",
     "iopub.status.idle": "2025-03-09T15:46:01.470617Z",
     "shell.execute_reply": "2025-03-09T15:46:01.469687Z",
     "shell.execute_reply.started": "2025-03-09T15:46:01.461893Z"
    }
   },
   "outputs": [],
   "source": [
    "def get_delta_concentration(x):\n",
    "    c = x['Concentration [uM]']\n",
    "    try:\n",
    "        c0 = sintef_conc0_dict[x['Carbon source'], x['Metabolite']]\n",
    "    except KeyError:\n",
    "        return c\n",
    "    else:\n",
    "        return c-c0"
   ]
  },
  {
   "cell_type": "code",
   "execution_count": 158,
   "id": "173c5b2f-085a-47f9-ace1-ea7ade574a85",
   "metadata": {
    "execution": {
     "iopub.execute_input": "2025-03-09T15:46:02.000769Z",
     "iopub.status.busy": "2025-03-09T15:46:01.999673Z",
     "iopub.status.idle": "2025-03-09T15:46:02.025332Z",
     "shell.execute_reply": "2025-03-09T15:46:02.024830Z",
     "shell.execute_reply.started": "2025-03-09T15:46:02.000581Z"
    }
   },
   "outputs": [],
   "source": [
    "sintef_df['Delta concentration [uM]'] = sintef_df.apply(lambda x:get_delta_concentration(x), axis = 1)\n"
   ]
  },
  {
   "cell_type": "code",
   "execution_count": 159,
   "id": "5b3f1f7d-33b5-48f0-b8a7-296ca24c6e95",
   "metadata": {
    "execution": {
     "iopub.execute_input": "2025-03-09T15:46:02.356396Z",
     "iopub.status.busy": "2025-03-09T15:46:02.355939Z",
     "iopub.status.idle": "2025-03-09T15:46:02.364529Z",
     "shell.execute_reply": "2025-03-09T15:46:02.363036Z",
     "shell.execute_reply.started": "2025-03-09T15:46:02.356364Z"
    }
   },
   "outputs": [],
   "source": [
    "sintef_df.loc[sintef_df['Delta concentration [uM]']< 0, 'Delta concentration [uM]'] = np.nan"
   ]
  },
  {
   "cell_type": "code",
   "execution_count": 160,
   "id": "7abb4458-d91c-4fdc-a67d-40586fb1aee3",
   "metadata": {
    "execution": {
     "iopub.execute_input": "2025-03-09T15:46:02.831869Z",
     "iopub.status.busy": "2025-03-09T15:46:02.830741Z",
     "iopub.status.idle": "2025-03-09T15:46:02.845330Z",
     "shell.execute_reply": "2025-03-09T15:46:02.844563Z",
     "shell.execute_reply.started": "2025-03-09T15:46:02.831825Z"
    }
   },
   "outputs": [],
   "source": [
    "sintef_df.loc[sintef_df.Timepoint==4, 'Phase'] = 'Stationary'\n",
    "sintef_df.loc[sintef_df.Timepoint.isin([1,2,3]), 'Phase'] = 'Exponential'"
   ]
  },
  {
   "cell_type": "markdown",
   "id": "fe7fab7f-b04c-4493-b0db-9326a3680446",
   "metadata": {},
   "source": [
    "## Paczia"
   ]
  },
  {
   "cell_type": "code",
   "execution_count": 62,
   "id": "8d0741a9-2e63-4c07-91c7-85479c24e70e",
   "metadata": {
    "execution": {
     "iopub.execute_input": "2025-03-09T11:21:36.298120Z",
     "iopub.status.busy": "2025-03-09T11:21:36.296974Z",
     "iopub.status.idle": "2025-03-09T11:21:36.320664Z",
     "shell.execute_reply": "2025-03-09T11:21:36.320278Z",
     "shell.execute_reply.started": "2025-03-09T11:21:36.298051Z"
    }
   },
   "outputs": [],
   "source": [
    "paczia_df, paczia_df_std = leakage.get_concentrations(paczia_fn.parent, 'e_coli')"
   ]
  },
  {
   "cell_type": "code",
   "execution_count": 63,
   "id": "20f2f507-aa72-444c-a859-f070d245e038",
   "metadata": {
    "execution": {
     "iopub.execute_input": "2025-03-09T11:21:36.708034Z",
     "iopub.status.busy": "2025-03-09T11:21:36.707229Z",
     "iopub.status.idle": "2025-03-09T11:21:36.730758Z",
     "shell.execute_reply": "2025-03-09T11:21:36.730125Z",
     "shell.execute_reply.started": "2025-03-09T11:21:36.707991Z"
    }
   },
   "outputs": [
    {
     "data": {
      "text/html": [
       "<div>\n",
       "<style scoped>\n",
       "    .dataframe tbody tr th:only-of-type {\n",
       "        vertical-align: middle;\n",
       "    }\n",
       "\n",
       "    .dataframe tbody tr th {\n",
       "        vertical-align: top;\n",
       "    }\n",
       "\n",
       "    .dataframe thead th {\n",
       "        text-align: right;\n",
       "    }\n",
       "</style>\n",
       "<table border=\"1\" class=\"dataframe\">\n",
       "  <thead>\n",
       "    <tr style=\"text-align: right;\">\n",
       "      <th></th>\n",
       "      <th>G6P</th>\n",
       "      <th>F6P</th>\n",
       "      <th>FBP</th>\n",
       "      <th>DHAP</th>\n",
       "      <th>GA3P</th>\n",
       "      <th>23PG</th>\n",
       "      <th>PEP</th>\n",
       "      <th>R5P</th>\n",
       "      <th>RU5P+X5P</th>\n",
       "      <th>E4P</th>\n",
       "      <th>...</th>\n",
       "      <th>LEU</th>\n",
       "      <th>TRP</th>\n",
       "      <th>HIS</th>\n",
       "      <th>ARG</th>\n",
       "      <th>PYR</th>\n",
       "      <th>ORO</th>\n",
       "      <th>FUM</th>\n",
       "      <th>URA</th>\n",
       "      <th>AKG</th>\n",
       "      <th>ACT</th>\n",
       "    </tr>\n",
       "    <tr>\n",
       "      <th>Time</th>\n",
       "      <th></th>\n",
       "      <th></th>\n",
       "      <th></th>\n",
       "      <th></th>\n",
       "      <th></th>\n",
       "      <th></th>\n",
       "      <th></th>\n",
       "      <th></th>\n",
       "      <th></th>\n",
       "      <th></th>\n",
       "      <th></th>\n",
       "      <th></th>\n",
       "      <th></th>\n",
       "      <th></th>\n",
       "      <th></th>\n",
       "      <th></th>\n",
       "      <th></th>\n",
       "      <th></th>\n",
       "      <th></th>\n",
       "      <th></th>\n",
       "      <th></th>\n",
       "    </tr>\n",
       "  </thead>\n",
       "  <tbody>\n",
       "    <tr>\n",
       "      <th>0</th>\n",
       "      <td>NaN</td>\n",
       "      <td>NaN</td>\n",
       "      <td>NaN</td>\n",
       "      <td>NaN</td>\n",
       "      <td>NaN</td>\n",
       "      <td>NaN</td>\n",
       "      <td>NaN</td>\n",
       "      <td>NaN</td>\n",
       "      <td>NaN</td>\n",
       "      <td>NaN</td>\n",
       "      <td>...</td>\n",
       "      <td>NaN</td>\n",
       "      <td>NaN</td>\n",
       "      <td>NaN</td>\n",
       "      <td>NaN</td>\n",
       "      <td>NaN</td>\n",
       "      <td>NaN</td>\n",
       "      <td>NaN</td>\n",
       "      <td>NaN</td>\n",
       "      <td>NaN</td>\n",
       "      <td>NaN</td>\n",
       "    </tr>\n",
       "    <tr>\n",
       "      <th>1</th>\n",
       "      <td>0.101467</td>\n",
       "      <td>0.446667</td>\n",
       "      <td>0.0</td>\n",
       "      <td>0.190667</td>\n",
       "      <td>0.024512</td>\n",
       "      <td>0.054400</td>\n",
       "      <td>0.0</td>\n",
       "      <td>0.003685</td>\n",
       "      <td>0.0</td>\n",
       "      <td>0.0</td>\n",
       "      <td>...</td>\n",
       "      <td>0.041667</td>\n",
       "      <td>0.031867</td>\n",
       "      <td>4.690000</td>\n",
       "      <td>0.138467</td>\n",
       "      <td>0.00</td>\n",
       "      <td>8.00</td>\n",
       "      <td>13.50</td>\n",
       "      <td>88.50</td>\n",
       "      <td>0.0</td>\n",
       "      <td>444.0</td>\n",
       "    </tr>\n",
       "    <tr>\n",
       "      <th>2</th>\n",
       "      <td>0.277733</td>\n",
       "      <td>0.782667</td>\n",
       "      <td>0.0</td>\n",
       "      <td>0.533333</td>\n",
       "      <td>0.009140</td>\n",
       "      <td>0.096667</td>\n",
       "      <td>0.0</td>\n",
       "      <td>0.017333</td>\n",
       "      <td>0.0</td>\n",
       "      <td>0.0</td>\n",
       "      <td>...</td>\n",
       "      <td>0.039967</td>\n",
       "      <td>0.035833</td>\n",
       "      <td>3.856667</td>\n",
       "      <td>0.619000</td>\n",
       "      <td>36.75</td>\n",
       "      <td>15.25</td>\n",
       "      <td>1.25</td>\n",
       "      <td>4.25</td>\n",
       "      <td>0.0</td>\n",
       "      <td>415.0</td>\n",
       "    </tr>\n",
       "  </tbody>\n",
       "</table>\n",
       "<p>3 rows × 37 columns</p>\n",
       "</div>"
      ],
      "text/plain": [
       "           G6P       F6P  FBP      DHAP      GA3P      23PG  PEP       R5P  \\\n",
       "Time                                                                         \n",
       "0          NaN       NaN  NaN       NaN       NaN       NaN  NaN       NaN   \n",
       "1     0.101467  0.446667  0.0  0.190667  0.024512  0.054400  0.0  0.003685   \n",
       "2     0.277733  0.782667  0.0  0.533333  0.009140  0.096667  0.0  0.017333   \n",
       "\n",
       "      RU5P+X5P  E4P  ...       LEU       TRP       HIS       ARG    PYR  \\\n",
       "Time                 ...                                                  \n",
       "0          NaN  NaN  ...       NaN       NaN       NaN       NaN    NaN   \n",
       "1          0.0  0.0  ...  0.041667  0.031867  4.690000  0.138467   0.00   \n",
       "2          0.0  0.0  ...  0.039967  0.035833  3.856667  0.619000  36.75   \n",
       "\n",
       "        ORO    FUM    URA  AKG    ACT  \n",
       "Time                                   \n",
       "0       NaN    NaN    NaN  NaN    NaN  \n",
       "1      8.00  13.50  88.50  0.0  444.0  \n",
       "2     15.25   1.25   4.25  0.0  415.0  \n",
       "\n",
       "[3 rows x 37 columns]"
      ]
     },
     "execution_count": 63,
     "metadata": {},
     "output_type": "execute_result"
    }
   ],
   "source": [
    "paczia_df.loc[:2]"
   ]
  },
  {
   "cell_type": "code",
   "execution_count": 64,
   "id": "4f96d2cf-5511-4e30-ac9c-b77da0e5e25d",
   "metadata": {
    "execution": {
     "iopub.execute_input": "2025-03-09T11:21:37.233007Z",
     "iopub.status.busy": "2025-03-09T11:21:37.231996Z",
     "iopub.status.idle": "2025-03-09T11:21:37.243646Z",
     "shell.execute_reply": "2025-03-09T11:21:37.242656Z",
     "shell.execute_reply.started": "2025-03-09T11:21:37.232963Z"
    }
   },
   "outputs": [],
   "source": [
    "paczia_df = paczia_df.loc[2:] - paczia_df.loc[1]"
   ]
  },
  {
   "cell_type": "code",
   "execution_count": 65,
   "id": "c27e1262-e2bc-4439-81a7-f4bd8dabf3f1",
   "metadata": {
    "execution": {
     "iopub.execute_input": "2025-03-09T11:21:37.422329Z",
     "iopub.status.busy": "2025-03-09T11:21:37.421846Z",
     "iopub.status.idle": "2025-03-09T11:21:37.431222Z",
     "shell.execute_reply": "2025-03-09T11:21:37.430450Z",
     "shell.execute_reply.started": "2025-03-09T11:21:37.422297Z"
    }
   },
   "outputs": [],
   "source": [
    "paczia_od = pd.read_csv(paczia_od_fn)"
   ]
  },
  {
   "cell_type": "code",
   "execution_count": 66,
   "id": "7a499dc1-4a1d-4d11-b399-2fa7489e07c0",
   "metadata": {
    "execution": {
     "iopub.execute_input": "2025-03-09T11:21:37.805083Z",
     "iopub.status.busy": "2025-03-09T11:21:37.802605Z",
     "iopub.status.idle": "2025-03-09T11:21:37.815019Z",
     "shell.execute_reply": "2025-03-09T11:21:37.814312Z",
     "shell.execute_reply.started": "2025-03-09T11:21:37.805011Z"
    }
   },
   "outputs": [],
   "source": [
    "paczia_time_to_od = paczia_od.set_index('Time')['OD mean'].to_dict()"
   ]
  },
  {
   "cell_type": "code",
   "execution_count": 67,
   "id": "35e61a03-7e5d-46d9-babc-5d57e54f03f8",
   "metadata": {
    "execution": {
     "iopub.execute_input": "2025-03-09T11:21:38.351679Z",
     "iopub.status.busy": "2025-03-09T11:21:38.351179Z",
     "iopub.status.idle": "2025-03-09T11:21:38.360176Z",
     "shell.execute_reply": "2025-03-09T11:21:38.358737Z",
     "shell.execute_reply.started": "2025-03-09T11:21:38.351647Z"
    }
   },
   "outputs": [],
   "source": [
    "paczia_df['2PG'] =  paczia_df['3PG'] = paczia_df['23PG']/2\n",
    "paczia_df['RU5P'] = paczia_df['X5P'] = paczia_df['RU5P+X5P']/2"
   ]
  },
  {
   "cell_type": "code",
   "execution_count": 68,
   "id": "4bc86403-5324-42bd-967f-3c806de6fbf9",
   "metadata": {
    "execution": {
     "iopub.execute_input": "2025-03-09T11:21:39.494146Z",
     "iopub.status.busy": "2025-03-09T11:21:39.493304Z",
     "iopub.status.idle": "2025-03-09T11:21:39.507447Z",
     "shell.execute_reply": "2025-03-09T11:21:39.505991Z",
     "shell.execute_reply.started": "2025-03-09T11:21:39.494105Z"
    }
   },
   "outputs": [],
   "source": [
    "paczia_df.drop(columns=['23PG', 'RU5P+X5P'], inplace=True)"
   ]
  },
  {
   "cell_type": "code",
   "execution_count": 72,
   "id": "d4c234a6-537c-49e5-ac0e-37b8bbc8bea5",
   "metadata": {
    "execution": {
     "iopub.execute_input": "2025-03-09T11:21:57.042666Z",
     "iopub.status.busy": "2025-03-09T11:21:57.041582Z",
     "iopub.status.idle": "2025-03-09T11:21:57.069199Z",
     "shell.execute_reply": "2025-03-09T11:21:57.068142Z",
     "shell.execute_reply.started": "2025-03-09T11:21:57.042618Z"
    }
   },
   "outputs": [],
   "source": [
    "paczia_dfL = paczia_df.reset_index().melt(id_vars='Time', var_name='Abbreviation', value_name='Delta concentration [uM]')\n",
    "paczia_dfL['OD'] = paczia_dfL.Time.map(paczia_time_to_od)"
   ]
  },
  {
   "cell_type": "code",
   "execution_count": 73,
   "id": "f32a6984-a767-491f-81cc-99509383fceb",
   "metadata": {
    "execution": {
     "iopub.execute_input": "2025-03-09T11:22:05.633606Z",
     "iopub.status.busy": "2025-03-09T11:22:05.632555Z",
     "iopub.status.idle": "2025-03-09T11:22:05.647385Z",
     "shell.execute_reply": "2025-03-09T11:22:05.646816Z",
     "shell.execute_reply.started": "2025-03-09T11:22:05.633563Z"
    }
   },
   "outputs": [],
   "source": [
    "mapping_df = pd.read_csv(data_folder / 'this_project/5_div/5B_id_mapping.csv', index_col=0)\n",
    "met_abrv_to_id = mapping_df['Ecoli metabolite'].to_dict()\n",
    "met_abrv_to_name = mapping_df['Metabolite name'].to_dict()\n",
    "met_name_to_abrv_paczia = {value:key for key, value in met_abrv_to_name.items()}\n",
    "met_abrv_to_name['SER'] = 'Serine'\n",
    "met_abrv_to_name['DHAP'] = 'Dihydroxyacetone phosphate'\n",
    "met_abrv_to_name['2PG'] = '2-phosphoglycerate'\n",
    "met_abrv_to_name['3PG'] = '3-phosphoglycerate'\n",
    "met_abrv_to_name['X5P'] = 'Xylulose-5-phosphate'\n",
    "met_abrv_to_name['RU5P'] = 'Ribulose-5-phosphate'"
   ]
  },
  {
   "cell_type": "code",
   "execution_count": 74,
   "id": "064e0f29-3839-4d0e-8438-eb5a67b38bac",
   "metadata": {
    "execution": {
     "iopub.execute_input": "2025-03-09T11:22:06.052487Z",
     "iopub.status.busy": "2025-03-09T11:22:06.051707Z",
     "iopub.status.idle": "2025-03-09T11:22:06.063083Z",
     "shell.execute_reply": "2025-03-09T11:22:06.062190Z",
     "shell.execute_reply.started": "2025-03-09T11:22:06.052448Z"
    }
   },
   "outputs": [],
   "source": [
    "paczia_dfL['Metabolite'] = paczia_dfL.Abbreviation.map(met_abrv_to_name)"
   ]
  },
  {
   "cell_type": "code",
   "execution_count": 75,
   "id": "b72e4e9e-9700-410b-baca-b606649e4e41",
   "metadata": {
    "execution": {
     "iopub.execute_input": "2025-03-09T11:22:06.480453Z",
     "iopub.status.busy": "2025-03-09T11:22:06.479633Z",
     "iopub.status.idle": "2025-03-09T11:22:06.491616Z",
     "shell.execute_reply": "2025-03-09T11:22:06.490552Z",
     "shell.execute_reply.started": "2025-03-09T11:22:06.480412Z"
    }
   },
   "outputs": [],
   "source": [
    "paczia_dfL.loc[paczia_dfL.Time <= 10, 'Phase'] = 'Exponential'\n",
    "paczia_dfL.loc[paczia_dfL.Time > 10, 'Phase'] = 'Stationary'"
   ]
  },
  {
   "cell_type": "code",
   "execution_count": 81,
   "id": "2ea35877-8da2-48fc-96a3-2e37be33605b",
   "metadata": {
    "execution": {
     "iopub.execute_input": "2025-03-09T14:47:49.129669Z",
     "iopub.status.busy": "2025-03-09T14:47:49.128691Z",
     "iopub.status.idle": "2025-03-09T14:47:49.143748Z",
     "shell.execute_reply": "2025-03-09T14:47:49.142889Z",
     "shell.execute_reply.started": "2025-03-09T14:47:49.129611Z"
    }
   },
   "outputs": [],
   "source": [
    "paczia_dfL.loc[paczia_dfL['Delta concentration [uM]'] < 0, 'Delta concentration [uM]'] = np.nan"
   ]
  },
  {
   "cell_type": "markdown",
   "id": "174c15dc-aa20-430e-862a-78ebc0b7818c",
   "metadata": {},
   "source": [
    "## Vila\n",
    "Don't have OD data for E. coli"
   ]
  },
  {
   "cell_type": "code",
   "execution_count": 89,
   "id": "5f09ef7d-b43d-42c8-91e2-7feba4359a83",
   "metadata": {
    "execution": {
     "iopub.execute_input": "2025-03-09T15:02:23.374679Z",
     "iopub.status.busy": "2025-03-09T15:02:23.370701Z",
     "iopub.status.idle": "2025-03-09T15:02:23.438503Z",
     "shell.execute_reply": "2025-03-09T15:02:23.431096Z",
     "shell.execute_reply.started": "2025-03-09T15:02:23.374273Z"
    }
   },
   "outputs": [],
   "source": [
    "# vila_df = pd.read_csv(vila_fn)\n",
    "# vila_df = vila_df.loc[vila_df.Strain == 'Ecoli']\n",
    "# metname_translate_dict = {'Acetic acid': 'Acetate',\n",
    "# 'Acetyl-ornithine': 'Acetyl-ornithine',\n",
    "# 'Alanine': 'Alanine',\n",
    "# 'Asparagine': 'Asparagine',\n",
    "# 'Butyric acid': 'Butyrate',\n",
    "# 'Citric acid': 'Citrate',\n",
    "# 'Fumaric acid': 'Fumarate',\n",
    "# 'Glycine': 'Glycine',\n",
    "# 'Lactic acid': 'Lactate',\n",
    "# 'Methionine': 'Methionine',\n",
    "# 'Propionic acid': 'Propionate',\n",
    "# 'Putrescine': 'Putrescine',\n",
    "# 'Pyruvic acid': 'Pyruvate',\n",
    "# 'Serine': 'Serine',\n",
    "# 'Succinic acid': 'Succinate',\n",
    "# 'Valeric acid':'Valerate',\n",
    "# 'Valine': 'Valine',\n",
    "# 'alpha-Ketoglutaric acid': 'Alpha-ketoglutarate',\n",
    "# 'beta-Hydroxybutyric acid': 'Beta-hydroxybutyrate'}\n",
    "# vila_df['Metabolite'] = vila_df.Metabolite.map(metname_translate_dict)"
   ]
  },
  {
   "cell_type": "code",
   "execution_count": 90,
   "id": "ae4f3a3e-d0c2-48fa-b816-ed7099c6862a",
   "metadata": {
    "execution": {
     "iopub.execute_input": "2025-03-09T15:02:31.259178Z",
     "iopub.status.busy": "2025-03-09T15:02:31.258217Z",
     "iopub.status.idle": "2025-03-09T15:02:31.286827Z",
     "shell.execute_reply": "2025-03-09T15:02:31.285414Z",
     "shell.execute_reply.started": "2025-03-09T15:02:31.259120Z"
    }
   },
   "outputs": [],
   "source": [
    "# vila_df['Delta concentration [uM]'] = vila_df.Metabolite_Conc\n",
    "# # vila_df.loc[vila_df.Metabolite_Conc==0, 'Delta concentration [uM]'] = np.nan"
   ]
  },
  {
   "cell_type": "code",
   "execution_count": 85,
   "id": "d7c0e23a-8e20-4c0d-a081-d415d1c1ea6c",
   "metadata": {
    "execution": {
     "iopub.execute_input": "2025-03-09T14:50:58.257213Z",
     "iopub.status.busy": "2025-03-09T14:50:58.256276Z",
     "iopub.status.idle": "2025-03-09T14:50:58.281510Z",
     "shell.execute_reply": "2025-03-09T14:50:58.280359Z",
     "shell.execute_reply.started": "2025-03-09T14:50:58.257080Z"
    }
   },
   "outputs": [],
   "source": [
    "# vila_od_df = pd.read_csv(vila_od_fn)"
   ]
  },
  {
   "cell_type": "markdown",
   "id": "098e98d8-5e05-431d-8f7a-40d27b9d4581",
   "metadata": {
    "execution": {
     "iopub.execute_input": "2025-03-09T14:51:56.474370Z",
     "iopub.status.busy": "2025-03-09T14:51:56.473510Z",
     "iopub.status.idle": "2025-03-09T14:51:56.494056Z",
     "shell.execute_reply": "2025-03-09T14:51:56.493519Z",
     "shell.execute_reply.started": "2025-03-09T14:51:56.474328Z"
    }
   },
   "source": [
    "## Join dataframes"
   ]
  },
  {
   "cell_type": "code",
   "execution_count": 167,
   "id": "036f4090-f777-4b8f-b6af-95e1a9b9145a",
   "metadata": {
    "execution": {
     "iopub.execute_input": "2025-03-09T15:52:51.868340Z",
     "iopub.status.busy": "2025-03-09T15:52:51.866958Z",
     "iopub.status.idle": "2025-03-09T15:52:51.882280Z",
     "shell.execute_reply": "2025-03-09T15:52:51.881240Z",
     "shell.execute_reply.started": "2025-03-09T15:52:51.868275Z"
    }
   },
   "outputs": [],
   "source": [
    "paczia_dfL['Hours'] = paczia_dfL['Time']\n",
    "paczia_dfL['Carbon source'] = 'Glucose'"
   ]
  },
  {
   "cell_type": "code",
   "execution_count": 168,
   "id": "f00d6418-8ec9-440b-98d0-a6a2c8c497c4",
   "metadata": {
    "execution": {
     "iopub.execute_input": "2025-03-09T15:52:52.895264Z",
     "iopub.status.busy": "2025-03-09T15:52:52.894527Z",
     "iopub.status.idle": "2025-03-09T15:52:52.908575Z",
     "shell.execute_reply": "2025-03-09T15:52:52.907790Z",
     "shell.execute_reply.started": "2025-03-09T15:52:52.895225Z"
    }
   },
   "outputs": [],
   "source": [
    "df_ex = pd.concat([sintef_df, paczia_dfL])[['Hours', 'Delta concentration [uM]', 'OD', 'Phase', 'Metabolite', 'Carbon source']]"
   ]
  },
  {
   "cell_type": "code",
   "execution_count": 170,
   "id": "1302d7fd-b939-4ac5-90ae-8c03665a577b",
   "metadata": {
    "execution": {
     "iopub.execute_input": "2025-03-09T15:53:07.563763Z",
     "iopub.status.busy": "2025-03-09T15:53:07.562700Z",
     "iopub.status.idle": "2025-03-09T15:53:07.580519Z",
     "shell.execute_reply": "2025-03-09T15:53:07.579647Z",
     "shell.execute_reply.started": "2025-03-09T15:53:07.563714Z"
    }
   },
   "outputs": [],
   "source": [
    "df_ex = df_ex.loc[~df_ex.isna().any(axis=1)]"
   ]
  },
  {
   "cell_type": "code",
   "execution_count": 171,
   "id": "911a40b2-8384-4c8e-ac9e-7e3f2cca2a89",
   "metadata": {
    "execution": {
     "iopub.execute_input": "2025-03-09T15:53:08.345172Z",
     "iopub.status.busy": "2025-03-09T15:53:08.344292Z",
     "iopub.status.idle": "2025-03-09T15:53:08.367037Z",
     "shell.execute_reply": "2025-03-09T15:53:08.366551Z",
     "shell.execute_reply.started": "2025-03-09T15:53:08.345129Z"
    }
   },
   "outputs": [
    {
     "data": {
      "text/html": [
       "<div>\n",
       "<style scoped>\n",
       "    .dataframe tbody tr th:only-of-type {\n",
       "        vertical-align: middle;\n",
       "    }\n",
       "\n",
       "    .dataframe tbody tr th {\n",
       "        vertical-align: top;\n",
       "    }\n",
       "\n",
       "    .dataframe thead th {\n",
       "        text-align: right;\n",
       "    }\n",
       "</style>\n",
       "<table border=\"1\" class=\"dataframe\">\n",
       "  <thead>\n",
       "    <tr style=\"text-align: right;\">\n",
       "      <th></th>\n",
       "      <th>Hours</th>\n",
       "      <th>Delta concentration [uM]</th>\n",
       "      <th>OD</th>\n",
       "      <th>Phase</th>\n",
       "      <th>Metabolite</th>\n",
       "      <th>Carbon source</th>\n",
       "    </tr>\n",
       "  </thead>\n",
       "  <tbody>\n",
       "    <tr>\n",
       "      <th>810</th>\n",
       "      <td>10.0</td>\n",
       "      <td>0.017935</td>\n",
       "      <td>2.19</td>\n",
       "      <td>Exponential</td>\n",
       "      <td>Alpha-aminoadipate</td>\n",
       "      <td>L-malate</td>\n",
       "    </tr>\n",
       "    <tr>\n",
       "      <th>811</th>\n",
       "      <td>16.0</td>\n",
       "      <td>0.104060</td>\n",
       "      <td>0.89</td>\n",
       "      <td>Exponential</td>\n",
       "      <td>Alpha-aminoadipate</td>\n",
       "      <td>L-alanine</td>\n",
       "    </tr>\n",
       "    <tr>\n",
       "      <th>812</th>\n",
       "      <td>12.0</td>\n",
       "      <td>0.035617</td>\n",
       "      <td>2.57</td>\n",
       "      <td>Stationary</td>\n",
       "      <td>Alpha-aminoadipate</td>\n",
       "      <td>L-malate</td>\n",
       "    </tr>\n",
       "    <tr>\n",
       "      <th>817</th>\n",
       "      <td>14.0</td>\n",
       "      <td>0.076829</td>\n",
       "      <td>2.89</td>\n",
       "      <td>Exponential</td>\n",
       "      <td>Alpha-aminoadipate</td>\n",
       "      <td>Galactose</td>\n",
       "    </tr>\n",
       "    <tr>\n",
       "      <th>820</th>\n",
       "      <td>12.0</td>\n",
       "      <td>0.014934</td>\n",
       "      <td>1.63</td>\n",
       "      <td>Exponential</td>\n",
       "      <td>Alpha-aminoadipate</td>\n",
       "      <td>Galactose</td>\n",
       "    </tr>\n",
       "    <tr>\n",
       "      <th>...</th>\n",
       "      <td>...</td>\n",
       "      <td>...</td>\n",
       "      <td>...</td>\n",
       "      <td>...</td>\n",
       "      <td>...</td>\n",
       "      <td>...</td>\n",
       "    </tr>\n",
       "    <tr>\n",
       "      <th>658</th>\n",
       "      <td>14.0</td>\n",
       "      <td>1.587333</td>\n",
       "      <td>15.34</td>\n",
       "      <td>Stationary</td>\n",
       "      <td>Xylulose-5-phosphate</td>\n",
       "      <td>Glucose</td>\n",
       "    </tr>\n",
       "    <tr>\n",
       "      <th>659</th>\n",
       "      <td>15.0</td>\n",
       "      <td>1.516667</td>\n",
       "      <td>14.43</td>\n",
       "      <td>Stationary</td>\n",
       "      <td>Xylulose-5-phosphate</td>\n",
       "      <td>Glucose</td>\n",
       "    </tr>\n",
       "    <tr>\n",
       "      <th>660</th>\n",
       "      <td>16.0</td>\n",
       "      <td>1.392000</td>\n",
       "      <td>14.21</td>\n",
       "      <td>Stationary</td>\n",
       "      <td>Xylulose-5-phosphate</td>\n",
       "      <td>Glucose</td>\n",
       "    </tr>\n",
       "    <tr>\n",
       "      <th>661</th>\n",
       "      <td>17.0</td>\n",
       "      <td>1.338000</td>\n",
       "      <td>13.61</td>\n",
       "      <td>Stationary</td>\n",
       "      <td>Xylulose-5-phosphate</td>\n",
       "      <td>Glucose</td>\n",
       "    </tr>\n",
       "    <tr>\n",
       "      <th>662</th>\n",
       "      <td>26.0</td>\n",
       "      <td>0.696667</td>\n",
       "      <td>13.21</td>\n",
       "      <td>Stationary</td>\n",
       "      <td>Xylulose-5-phosphate</td>\n",
       "      <td>Glucose</td>\n",
       "    </tr>\n",
       "  </tbody>\n",
       "</table>\n",
       "<p>1336 rows × 6 columns</p>\n",
       "</div>"
      ],
      "text/plain": [
       "     Hours  Delta concentration [uM]     OD        Phase  \\\n",
       "810   10.0                  0.017935   2.19  Exponential   \n",
       "811   16.0                  0.104060   0.89  Exponential   \n",
       "812   12.0                  0.035617   2.57   Stationary   \n",
       "817   14.0                  0.076829   2.89  Exponential   \n",
       "820   12.0                  0.014934   1.63  Exponential   \n",
       "..     ...                       ...    ...          ...   \n",
       "658   14.0                  1.587333  15.34   Stationary   \n",
       "659   15.0                  1.516667  14.43   Stationary   \n",
       "660   16.0                  1.392000  14.21   Stationary   \n",
       "661   17.0                  1.338000  13.61   Stationary   \n",
       "662   26.0                  0.696667  13.21   Stationary   \n",
       "\n",
       "               Metabolite Carbon source  \n",
       "810    Alpha-aminoadipate      L-malate  \n",
       "811    Alpha-aminoadipate     L-alanine  \n",
       "812    Alpha-aminoadipate      L-malate  \n",
       "817    Alpha-aminoadipate     Galactose  \n",
       "820    Alpha-aminoadipate     Galactose  \n",
       "..                    ...           ...  \n",
       "658  Xylulose-5-phosphate       Glucose  \n",
       "659  Xylulose-5-phosphate       Glucose  \n",
       "660  Xylulose-5-phosphate       Glucose  \n",
       "661  Xylulose-5-phosphate       Glucose  \n",
       "662  Xylulose-5-phosphate       Glucose  \n",
       "\n",
       "[1336 rows x 6 columns]"
      ]
     },
     "execution_count": 171,
     "metadata": {},
     "output_type": "execute_result"
    }
   ],
   "source": [
    "df_ex"
   ]
  },
  {
   "cell_type": "markdown",
   "id": "eaffaca9-3f2c-48a9-9ce2-9f5a208b866e",
   "metadata": {},
   "source": [
    "## Get intracellular literature data"
   ]
  },
  {
   "cell_type": "code",
   "execution_count": 173,
   "id": "265699f3-aca7-4a09-a4ba-0ff66c2f5dc1",
   "metadata": {
    "execution": {
     "iopub.execute_input": "2025-03-09T15:54:31.032069Z",
     "iopub.status.busy": "2025-03-09T15:54:31.030640Z",
     "iopub.status.idle": "2025-03-09T15:54:31.052203Z",
     "shell.execute_reply": "2025-03-09T15:54:31.051593Z",
     "shell.execute_reply.started": "2025-03-09T15:54:31.032021Z"
    }
   },
   "outputs": [],
   "source": [
    "conditions_fn = data_folder / 'this_project/4_paired_metabolomics_live_dead/4F_mapped_intracellular_conc.csv'\n",
    "conditions_df = pd.read_csv(conditions_fn, index_col=0)"
   ]
  },
  {
   "cell_type": "code",
   "execution_count": 174,
   "id": "f55c2319-2381-4a32-ad73-6135dcb520d6",
   "metadata": {
    "execution": {
     "iopub.execute_input": "2025-03-09T15:54:31.390980Z",
     "iopub.status.busy": "2025-03-09T15:54:31.389860Z",
     "iopub.status.idle": "2025-03-09T15:54:31.412562Z",
     "shell.execute_reply": "2025-03-09T15:54:31.411951Z",
     "shell.execute_reply.started": "2025-03-09T15:54:31.390668Z"
    }
   },
   "outputs": [
    {
     "data": {
      "text/html": [
       "<div>\n",
       "<style scoped>\n",
       "    .dataframe tbody tr th:only-of-type {\n",
       "        vertical-align: middle;\n",
       "    }\n",
       "\n",
       "    .dataframe tbody tr th {\n",
       "        vertical-align: top;\n",
       "    }\n",
       "\n",
       "    .dataframe thead th {\n",
       "        text-align: right;\n",
       "    }\n",
       "</style>\n",
       "<table border=\"1\" class=\"dataframe\">\n",
       "  <thead>\n",
       "    <tr style=\"text-align: right;\">\n",
       "      <th></th>\n",
       "      <th>Carbon source</th>\n",
       "      <th>Phase</th>\n",
       "      <th>Metabolite</th>\n",
       "      <th>Intracellular concentration [uM]</th>\n",
       "      <th>Error [uM]</th>\n",
       "      <th>SEM [uM]</th>\n",
       "      <th># values</th>\n",
       "      <th>idx concentration sheet</th>\n",
       "      <th>Min</th>\n",
       "      <th>Max</th>\n",
       "      <th>LB</th>\n",
       "      <th>Min LB</th>\n",
       "      <th>UB</th>\n",
       "      <th>Max UB</th>\n",
       "    </tr>\n",
       "  </thead>\n",
       "  <tbody>\n",
       "    <tr>\n",
       "      <th>0</th>\n",
       "      <td>L-malate</td>\n",
       "      <td>Stationary</td>\n",
       "      <td>Alanine</td>\n",
       "      <td>358.000000</td>\n",
       "      <td>0.000000</td>\n",
       "      <td>0.000000</td>\n",
       "      <td>1.0</td>\n",
       "      <td>15</td>\n",
       "      <td>358.000000</td>\n",
       "      <td>358.0</td>\n",
       "      <td>358.000000</td>\n",
       "      <td>358.000000</td>\n",
       "      <td>358.000000</td>\n",
       "      <td>358.0</td>\n",
       "    </tr>\n",
       "    <tr>\n",
       "      <th>1</th>\n",
       "      <td>L-malate</td>\n",
       "      <td>Exponential</td>\n",
       "      <td>Alanine</td>\n",
       "      <td>1197.900000</td>\n",
       "      <td>825.752376</td>\n",
       "      <td>421.302233</td>\n",
       "      <td>5.0</td>\n",
       "      <td>18,16,10,13,14</td>\n",
       "      <td>349.166667</td>\n",
       "      <td>2550.0</td>\n",
       "      <td>372.147624</td>\n",
       "      <td>240.523917</td>\n",
       "      <td>2023.652376</td>\n",
       "      <td>2800.0</td>\n",
       "    </tr>\n",
       "    <tr>\n",
       "      <th>2</th>\n",
       "      <td>L-malate</td>\n",
       "      <td>Stationary</td>\n",
       "      <td>Alpha-aminoadipate</td>\n",
       "      <td>NaN</td>\n",
       "      <td>NaN</td>\n",
       "      <td>NaN</td>\n",
       "      <td>NaN</td>\n",
       "      <td>NaN</td>\n",
       "      <td>NaN</td>\n",
       "      <td>NaN</td>\n",
       "      <td>NaN</td>\n",
       "      <td>NaN</td>\n",
       "      <td>NaN</td>\n",
       "      <td>NaN</td>\n",
       "    </tr>\n",
       "    <tr>\n",
       "      <th>3</th>\n",
       "      <td>L-malate</td>\n",
       "      <td>Exponential</td>\n",
       "      <td>Alpha-aminoadipate</td>\n",
       "      <td>NaN</td>\n",
       "      <td>NaN</td>\n",
       "      <td>NaN</td>\n",
       "      <td>NaN</td>\n",
       "      <td>NaN</td>\n",
       "      <td>NaN</td>\n",
       "      <td>NaN</td>\n",
       "      <td>NaN</td>\n",
       "      <td>NaN</td>\n",
       "      <td>NaN</td>\n",
       "      <td>NaN</td>\n",
       "    </tr>\n",
       "    <tr>\n",
       "      <th>4</th>\n",
       "      <td>L-malate</td>\n",
       "      <td>Stationary</td>\n",
       "      <td>Asparagine</td>\n",
       "      <td>103.000000</td>\n",
       "      <td>0.000000</td>\n",
       "      <td>0.000000</td>\n",
       "      <td>1.0</td>\n",
       "      <td>35</td>\n",
       "      <td>103.000000</td>\n",
       "      <td>103.0</td>\n",
       "      <td>103.000000</td>\n",
       "      <td>103.000000</td>\n",
       "      <td>103.000000</td>\n",
       "      <td>103.0</td>\n",
       "    </tr>\n",
       "    <tr>\n",
       "      <th>...</th>\n",
       "      <td>...</td>\n",
       "      <td>...</td>\n",
       "      <td>...</td>\n",
       "      <td>...</td>\n",
       "      <td>...</td>\n",
       "      <td>...</td>\n",
       "      <td>...</td>\n",
       "      <td>...</td>\n",
       "      <td>...</td>\n",
       "      <td>...</td>\n",
       "      <td>...</td>\n",
       "      <td>...</td>\n",
       "      <td>...</td>\n",
       "      <td>...</td>\n",
       "    </tr>\n",
       "    <tr>\n",
       "      <th>693</th>\n",
       "      <td>Pyruvate</td>\n",
       "      <td>Unknown</td>\n",
       "      <td>Alpha-ketoglutarate</td>\n",
       "      <td>352.946667</td>\n",
       "      <td>188.770993</td>\n",
       "      <td>96.311731</td>\n",
       "      <td>5.0</td>\n",
       "      <td>23,24,22,21,20</td>\n",
       "      <td>126.400000</td>\n",
       "      <td>616.0</td>\n",
       "      <td>164.175674</td>\n",
       "      <td>105.805072</td>\n",
       "      <td>541.717659</td>\n",
       "      <td>1060.0</td>\n",
       "    </tr>\n",
       "    <tr>\n",
       "      <th>694</th>\n",
       "      <td>Pyruvate</td>\n",
       "      <td>Unknown</td>\n",
       "      <td>Alpha-ketoglutarate</td>\n",
       "      <td>352.946667</td>\n",
       "      <td>188.770993</td>\n",
       "      <td>96.311731</td>\n",
       "      <td>5.0</td>\n",
       "      <td>23,24,22,21,20</td>\n",
       "      <td>126.400000</td>\n",
       "      <td>616.0</td>\n",
       "      <td>164.175674</td>\n",
       "      <td>105.805072</td>\n",
       "      <td>541.717659</td>\n",
       "      <td>1060.0</td>\n",
       "    </tr>\n",
       "    <tr>\n",
       "      <th>695</th>\n",
       "      <td>Pyruvate</td>\n",
       "      <td>Unknown</td>\n",
       "      <td>Beta-hydroxybutyrate</td>\n",
       "      <td>NaN</td>\n",
       "      <td>NaN</td>\n",
       "      <td>NaN</td>\n",
       "      <td>NaN</td>\n",
       "      <td>NaN</td>\n",
       "      <td>NaN</td>\n",
       "      <td>NaN</td>\n",
       "      <td>NaN</td>\n",
       "      <td>NaN</td>\n",
       "      <td>NaN</td>\n",
       "      <td>NaN</td>\n",
       "    </tr>\n",
       "    <tr>\n",
       "      <th>696</th>\n",
       "      <td>Pyruvate</td>\n",
       "      <td>Unknown</td>\n",
       "      <td>Beta-hydroxybutyrate</td>\n",
       "      <td>NaN</td>\n",
       "      <td>NaN</td>\n",
       "      <td>NaN</td>\n",
       "      <td>NaN</td>\n",
       "      <td>NaN</td>\n",
       "      <td>NaN</td>\n",
       "      <td>NaN</td>\n",
       "      <td>NaN</td>\n",
       "      <td>NaN</td>\n",
       "      <td>NaN</td>\n",
       "      <td>NaN</td>\n",
       "    </tr>\n",
       "    <tr>\n",
       "      <th>697</th>\n",
       "      <td>Pyruvate</td>\n",
       "      <td>Unknown</td>\n",
       "      <td>Beta-hydroxybutyrate</td>\n",
       "      <td>NaN</td>\n",
       "      <td>NaN</td>\n",
       "      <td>NaN</td>\n",
       "      <td>NaN</td>\n",
       "      <td>NaN</td>\n",
       "      <td>NaN</td>\n",
       "      <td>NaN</td>\n",
       "      <td>NaN</td>\n",
       "      <td>NaN</td>\n",
       "      <td>NaN</td>\n",
       "      <td>NaN</td>\n",
       "    </tr>\n",
       "  </tbody>\n",
       "</table>\n",
       "<p>698 rows × 14 columns</p>\n",
       "</div>"
      ],
      "text/plain": [
       "    Carbon source        Phase            Metabolite  \\\n",
       "0        L-malate   Stationary               Alanine   \n",
       "1        L-malate  Exponential               Alanine   \n",
       "2        L-malate   Stationary    Alpha-aminoadipate   \n",
       "3        L-malate  Exponential    Alpha-aminoadipate   \n",
       "4        L-malate   Stationary            Asparagine   \n",
       "..            ...          ...                   ...   \n",
       "693      Pyruvate      Unknown   Alpha-ketoglutarate   \n",
       "694      Pyruvate      Unknown   Alpha-ketoglutarate   \n",
       "695      Pyruvate      Unknown  Beta-hydroxybutyrate   \n",
       "696      Pyruvate      Unknown  Beta-hydroxybutyrate   \n",
       "697      Pyruvate      Unknown  Beta-hydroxybutyrate   \n",
       "\n",
       "     Intracellular concentration [uM]  Error [uM]    SEM [uM]  # values  \\\n",
       "0                          358.000000    0.000000    0.000000       1.0   \n",
       "1                         1197.900000  825.752376  421.302233       5.0   \n",
       "2                                 NaN         NaN         NaN       NaN   \n",
       "3                                 NaN         NaN         NaN       NaN   \n",
       "4                          103.000000    0.000000    0.000000       1.0   \n",
       "..                                ...         ...         ...       ...   \n",
       "693                        352.946667  188.770993   96.311731       5.0   \n",
       "694                        352.946667  188.770993   96.311731       5.0   \n",
       "695                               NaN         NaN         NaN       NaN   \n",
       "696                               NaN         NaN         NaN       NaN   \n",
       "697                               NaN         NaN         NaN       NaN   \n",
       "\n",
       "    idx concentration sheet         Min     Max          LB      Min LB  \\\n",
       "0                        15  358.000000   358.0  358.000000  358.000000   \n",
       "1            18,16,10,13,14  349.166667  2550.0  372.147624  240.523917   \n",
       "2                       NaN         NaN     NaN         NaN         NaN   \n",
       "3                       NaN         NaN     NaN         NaN         NaN   \n",
       "4                        35  103.000000   103.0  103.000000  103.000000   \n",
       "..                      ...         ...     ...         ...         ...   \n",
       "693          23,24,22,21,20  126.400000   616.0  164.175674  105.805072   \n",
       "694          23,24,22,21,20  126.400000   616.0  164.175674  105.805072   \n",
       "695                     NaN         NaN     NaN         NaN         NaN   \n",
       "696                     NaN         NaN     NaN         NaN         NaN   \n",
       "697                     NaN         NaN     NaN         NaN         NaN   \n",
       "\n",
       "              UB  Max UB  \n",
       "0     358.000000   358.0  \n",
       "1    2023.652376  2800.0  \n",
       "2            NaN     NaN  \n",
       "3            NaN     NaN  \n",
       "4     103.000000   103.0  \n",
       "..           ...     ...  \n",
       "693   541.717659  1060.0  \n",
       "694   541.717659  1060.0  \n",
       "695          NaN     NaN  \n",
       "696          NaN     NaN  \n",
       "697          NaN     NaN  \n",
       "\n",
       "[698 rows x 14 columns]"
      ]
     },
     "execution_count": 174,
     "metadata": {},
     "output_type": "execute_result"
    }
   ],
   "source": [
    "conditions_df"
   ]
  },
  {
   "cell_type": "markdown",
   "id": "42676207-77d9-47d9-862f-7a6a79a29ca2",
   "metadata": {},
   "source": [
    "# Merge intracellular and extracellular"
   ]
  },
  {
   "cell_type": "code",
   "execution_count": 186,
   "id": "90c5f070-9f6d-4f26-8758-618f78a3d9c6",
   "metadata": {
    "execution": {
     "iopub.execute_input": "2025-03-09T16:02:48.555634Z",
     "iopub.status.busy": "2025-03-09T16:02:48.554623Z",
     "iopub.status.idle": "2025-03-09T16:02:48.579298Z",
     "shell.execute_reply": "2025-03-09T16:02:48.578682Z",
     "shell.execute_reply.started": "2025-03-09T16:02:48.555577Z"
    }
   },
   "outputs": [],
   "source": [
    "df = pd.merge(left = df_ex, right = conditions_df, left_on=['Metabolite', 'Carbon source', 'Phase'], \n",
    "              right_on=['Metabolite', 'Carbon source', 'Phase'], how = 'left')\n"
   ]
  },
  {
   "cell_type": "code",
   "execution_count": 187,
   "id": "801070d2-5903-44fd-bd3f-a15f67990d03",
   "metadata": {
    "execution": {
     "iopub.execute_input": "2025-03-09T16:02:49.437964Z",
     "iopub.status.busy": "2025-03-09T16:02:49.436701Z",
     "iopub.status.idle": "2025-03-09T16:02:49.455397Z",
     "shell.execute_reply": "2025-03-09T16:02:49.454586Z",
     "shell.execute_reply.started": "2025-03-09T16:02:49.437916Z"
    }
   },
   "outputs": [],
   "source": [
    "df = df.loc[df['Intracellular concentration [uM]'].notna()].copy()"
   ]
  },
  {
   "cell_type": "code",
   "execution_count": 188,
   "id": "2c3041a6-9e9d-41bc-9751-3c166c5ecadc",
   "metadata": {
    "execution": {
     "iopub.execute_input": "2025-03-09T16:02:50.050427Z",
     "iopub.status.busy": "2025-03-09T16:02:50.049373Z",
     "iopub.status.idle": "2025-03-09T16:02:50.060066Z",
     "shell.execute_reply": "2025-03-09T16:02:50.059202Z",
     "shell.execute_reply.started": "2025-03-09T16:02:50.050371Z"
    }
   },
   "outputs": [],
   "source": [
    "total_cell_volume_per_od = 3.6 # uL per OD per mL Total cell volume conversion, see Volkmer and Heinemann 2011, https://pmc.ncbi.nlm.nih.gov/articles/PMC3146540/\n"
   ]
  },
  {
   "cell_type": "code",
   "execution_count": 191,
   "id": "acf5ad70-2978-4f9c-b1f8-aa731a077021",
   "metadata": {
    "execution": {
     "iopub.execute_input": "2025-03-09T16:03:51.698462Z",
     "iopub.status.busy": "2025-03-09T16:03:51.697354Z",
     "iopub.status.idle": "2025-03-09T16:03:51.710097Z",
     "shell.execute_reply": "2025-03-09T16:03:51.708714Z",
     "shell.execute_reply.started": "2025-03-09T16:03:51.698395Z"
    }
   },
   "outputs": [],
   "source": [
    "# 1e-6 to convert from uL to L and 1e3 to convert from ml to L\n",
    "df['Corresponding Ex. concentration [uM]']= total_cell_volume_per_od*df['OD']*1e-6*df['Intracellular concentration [uM]']*1e3\n"
   ]
  },
  {
   "cell_type": "code",
   "execution_count": 205,
   "id": "da5c75c6-e2ee-4b28-bc51-cee4f714599b",
   "metadata": {
    "execution": {
     "iopub.execute_input": "2025-03-09T16:11:44.194272Z",
     "iopub.status.busy": "2025-03-09T16:11:44.193669Z",
     "iopub.status.idle": "2025-03-09T16:11:44.201674Z",
     "shell.execute_reply": "2025-03-09T16:11:44.199848Z",
     "shell.execute_reply.started": "2025-03-09T16:11:44.194238Z"
    }
   },
   "outputs": [],
   "source": [
    "df['Fraction of cells needed'] = df['Delta concentration [uM]']/df['Corresponding Ex. concentration [uM]']"
   ]
  },
  {
   "cell_type": "code",
   "execution_count": 239,
   "id": "f419242f-93a6-4a55-8d8f-2a3917fb0c62",
   "metadata": {
    "execution": {
     "iopub.execute_input": "2025-03-09T16:24:29.019454Z",
     "iopub.status.busy": "2025-03-09T16:24:29.018890Z",
     "iopub.status.idle": "2025-03-09T16:24:29.034388Z",
     "shell.execute_reply": "2025-03-09T16:24:29.033313Z",
     "shell.execute_reply.started": "2025-03-09T16:24:29.019395Z"
    }
   },
   "outputs": [],
   "source": [
    "df = df.loc[df['Delta concentration [uM]']>0]"
   ]
  },
  {
   "cell_type": "code",
   "execution_count": 240,
   "id": "dba8e75d-0a94-4814-9b32-61e30c4ed1e5",
   "metadata": {
    "execution": {
     "iopub.execute_input": "2025-03-09T16:24:31.198216Z",
     "iopub.status.busy": "2025-03-09T16:24:31.197152Z",
     "iopub.status.idle": "2025-03-09T16:24:31.218095Z",
     "shell.execute_reply": "2025-03-09T16:24:31.217361Z",
     "shell.execute_reply.started": "2025-03-09T16:24:31.198159Z"
    }
   },
   "outputs": [
    {
     "name": "stderr",
     "output_type": "stream",
     "text": [
      "/var/folders/xf/kl76knj11y72v0_qy4vv7tgh0000gp/T/ipykernel_11305/3631046826.py:1: SettingWithCopyWarning: \n",
      "A value is trying to be set on a copy of a slice from a DataFrame\n",
      "\n",
      "See the caveats in the documentation: https://pandas.pydata.org/pandas-docs/stable/user_guide/indexing.html#returning-a-view-versus-a-copy\n",
      "  df.sort_values(by = 'Metabolite', inplace=True)\n"
     ]
    }
   ],
   "source": [
    "df.sort_values(by = 'Metabolite', inplace=True)"
   ]
  },
  {
   "cell_type": "code",
   "execution_count": 241,
   "id": "7788000a-e910-485d-ad40-a926deed7fdb",
   "metadata": {
    "execution": {
     "iopub.execute_input": "2025-03-09T16:24:33.043946Z",
     "iopub.status.busy": "2025-03-09T16:24:33.042807Z",
     "iopub.status.idle": "2025-03-09T16:24:33.063824Z",
     "shell.execute_reply": "2025-03-09T16:24:33.063030Z",
     "shell.execute_reply.started": "2025-03-09T16:24:33.043878Z"
    }
   },
   "outputs": [
    {
     "data": {
      "text/plain": [
       "264       0.000368\n",
       "586       0.000765\n",
       "950       0.000883\n",
       "465       0.001499\n",
       "600       0.001527\n",
       "          ...     \n",
       "674    1690.681884\n",
       "673    1827.877605\n",
       "678    3621.586976\n",
       "676    3807.443973\n",
       "677    4165.321700\n",
       "Name: Fraction of cells needed, Length: 1131, dtype: float64"
      ]
     },
     "execution_count": 241,
     "metadata": {},
     "output_type": "execute_result"
    }
   ],
   "source": [
    "df['Fraction of cells needed'].sort_values()"
   ]
  },
  {
   "cell_type": "code",
   "execution_count": 318,
   "id": "cb826a0a-dd56-4940-84ee-bbca87787215",
   "metadata": {
    "execution": {
     "iopub.execute_input": "2025-03-09T21:26:42.602518Z",
     "iopub.status.busy": "2025-03-09T21:26:42.599747Z",
     "iopub.status.idle": "2025-03-09T21:26:43.211447Z",
     "shell.execute_reply": "2025-03-09T21:26:43.211128Z",
     "shell.execute_reply.started": "2025-03-09T21:26:42.602424Z"
    }
   },
   "outputs": [
    {
     "data": {
      "image/png": "[encoded data removed]",
      "text/plain": [
       "<Figure size 600x1000 with 1 Axes>"
      ]
     },
     "metadata": {},
     "output_type": "display_data"
    }
   ],
   "source": [
    "fig, ax = plt.subplots(1, figsize = (6, 10))\n",
    "ax.set_xscale('log')\n",
    "\n",
    "ax.axvspan(0.002, 0.023, color = 'C2', alpha = 0.2, label = 'Measured fraction of lysed cells', zorder = 0)\n",
    "ax.axvspan(1, 5e4, color = 'C3', alpha = 0.2, label = '> all cells', zorder = 0)\n",
    "l = sns.boxplot(df, x = 'Fraction of cells needed', y = 'Metabolite', fill=True,gap=.1,\n",
    "                ax = ax, legend = None, color = 'w',fliersize = 0, linecolor = 'grey')\n",
    "sns.stripplot(data = df, x = 'Fraction of cells needed', y = 'Metabolite', ax = ax, edgecolor = 'grey', linewidth = 1, size=3, jitter=0.2, hue = 'Phase')#, color = 'C0')\n",
    "ax.set_xlim(3e-4, 6e3)\n",
    "\n",
    "sns.move_legend(ax, \"upper left\", bbox_to_anchor=(1, 1))\n",
    "sns.despine()"
   ]
  },
  {
   "cell_type": "code",
   "execution_count": 306,
   "id": "c327b460-7f05-43a6-9158-13140221e054",
   "metadata": {
    "execution": {
     "iopub.execute_input": "2025-03-09T20:55:56.781418Z",
     "iopub.status.busy": "2025-03-09T20:55:56.778051Z",
     "iopub.status.idle": "2025-03-09T20:55:57.031234Z",
     "shell.execute_reply": "2025-03-09T20:55:57.030872Z",
     "shell.execute_reply.started": "2025-03-09T20:55:56.781308Z"
    }
   },
   "outputs": [
    {
     "data": {
      "text/plain": [
       "(0.0003, 6000.0)"
      ]
     },
     "execution_count": 306,
     "metadata": {},
     "output_type": "execute_result"
    },
    {
     "data": {
      "image/png": "[encoded data removed]",
      "text/plain": [
       "<Figure size 500x100 with 1 Axes>"
      ]
     },
     "metadata": {},
     "output_type": "display_data"
    }
   ],
   "source": [
    "fig, ax = plt.subplots(1, figsize = (5, 1))\n",
    "sns.histplot(data = df, x = 'Fraction of cells needed', log_scale=True, bins = 40, ax = ax)\n",
    "ax.axvspan(0.002, 0.023, color = 'C2', alpha = 0.2, label = 'Measured ratio of dead cells', zorder = 0)\n",
    "ax.axvspan(1, 5e4, color = 'C3', alpha = 0.2, label = 'Infeasible', zorder = 0)\n",
    "ax.set_xlim(3e-4, 6e3)\n"
   ]
  },
  {
   "cell_type": "code",
   "execution_count": 315,
   "id": "ec6f6164-7652-49c9-a066-bae6ff388f53",
   "metadata": {
    "execution": {
     "iopub.execute_input": "2025-03-09T21:24:42.924953Z",
     "iopub.status.busy": "2025-03-09T21:24:42.924162Z",
     "iopub.status.idle": "2025-03-09T21:24:42.938077Z",
     "shell.execute_reply": "2025-03-09T21:24:42.937043Z",
     "shell.execute_reply.started": "2025-03-09T21:24:42.924910Z"
    }
   },
   "outputs": [
    {
     "data": {
      "text/plain": [
       "np.int64(154)"
      ]
     },
     "execution_count": 315,
     "metadata": {},
     "output_type": "execute_result"
    }
   ],
   "source": [
    "(df['Fraction of cells needed']<0.023).sum()"
   ]
  },
  {
   "cell_type": "code",
   "execution_count": 314,
   "id": "f9b63359-dd58-4fa5-9827-ed5eb51bfb29",
   "metadata": {
    "execution": {
     "iopub.execute_input": "2025-03-09T21:24:30.205500Z",
     "iopub.status.busy": "2025-03-09T21:24:30.204587Z",
     "iopub.status.idle": "2025-03-09T21:24:30.225344Z",
     "shell.execute_reply": "2025-03-09T21:24:30.223910Z",
     "shell.execute_reply.started": "2025-03-09T21:24:30.205448Z"
    }
   },
   "outputs": [
    {
     "data": {
      "text/plain": [
       "np.float64(0.1361626878868258)"
      ]
     },
     "execution_count": 314,
     "metadata": {},
     "output_type": "execute_result"
    }
   ],
   "source": [
    "(df['Fraction of cells needed']<0.023).sum()/len(df['Fraction of cells needed'])"
   ]
  },
  {
   "cell_type": "code",
   "execution_count": 317,
   "id": "f911eb88-6ab4-44b9-95aa-78ad3c85bcb5",
   "metadata": {
    "execution": {
     "iopub.execute_input": "2025-03-09T21:25:30.203593Z",
     "iopub.status.busy": "2025-03-09T21:25:30.202334Z",
     "iopub.status.idle": "2025-03-09T21:25:30.223235Z",
     "shell.execute_reply": "2025-03-09T21:25:30.222230Z",
     "shell.execute_reply.started": "2025-03-09T21:25:30.203536Z"
    }
   },
   "outputs": [
    {
     "data": {
      "text/plain": [
       "(np.int64(506), np.float64(0.4473916887709991))"
      ]
     },
     "execution_count": 317,
     "metadata": {},
     "output_type": "execute_result"
    }
   ],
   "source": [
    "(df['Fraction of cells needed']>1).sum(), (df['Fraction of cells needed']>1).sum()/len(df['Fraction of cells needed'])"
   ]
  },
  {
   "cell_type": "code",
   "execution_count": 313,
   "id": "eecdae7d-398d-4bec-8d4e-656cbc3aa050",
   "metadata": {
    "execution": {
     "iopub.execute_input": "2025-03-09T21:24:19.193530Z",
     "iopub.status.busy": "2025-03-09T21:24:19.191946Z",
     "iopub.status.idle": "2025-03-09T21:24:19.209033Z",
     "shell.execute_reply": "2025-03-09T21:24:19.207984Z",
     "shell.execute_reply.started": "2025-03-09T21:24:19.193448Z"
    }
   },
   "outputs": [
    {
     "data": {
      "text/plain": [
       "1131"
      ]
     },
     "execution_count": 313,
     "metadata": {},
     "output_type": "execute_result"
    }
   ],
   "source": [
    "977+154"
   ]
  },
  {
   "cell_type": "code",
   "execution_count": 312,
   "id": "ab9f33cf-c2e5-4b6d-a467-b5511caa26ff",
   "metadata": {
    "execution": {
     "iopub.execute_input": "2025-03-09T21:24:06.097585Z",
     "iopub.status.busy": "2025-03-09T21:24:06.096722Z",
     "iopub.status.idle": "2025-03-09T21:24:06.111994Z",
     "shell.execute_reply": "2025-03-09T21:24:06.110872Z",
     "shell.execute_reply.started": "2025-03-09T21:24:06.097540Z"
    }
   },
   "outputs": [
    {
     "data": {
      "text/plain": [
       "1131"
      ]
     },
     "execution_count": 312,
     "metadata": {},
     "output_type": "execute_result"
    }
   ],
   "source": []
  }
 ],
 "metadata": {
  "kernelspec": {
   "display_name": "Python 3 (ipykernel)",
   "language": "python",
   "name": "python3"
  },
  "language_info": {
   "codemirror_mode": {
    "name": "ipython",
    "version": 3
   },
   "file_extension": ".py",
   "mimetype": "text/x-python",
   "name": "python",
   "nbconvert_exporter": "python",
   "pygments_lexer": "ipython3",
   "version": "3.9.21"
  }
 },
 "nbformat": 4,
 "nbformat_minor": 5
}
