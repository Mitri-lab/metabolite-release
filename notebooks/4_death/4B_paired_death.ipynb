{
 "cells": [
  {
   "cell_type": "code",
   "execution_count": 88,
   "id": "e469c693-9827-4edb-8b7a-b9a4ecd5cf6d",
   "metadata": {
    "execution": {
     "iopub.execute_input": "2025-03-06T13:23:59.685195Z",
     "iopub.status.busy": "2025-03-06T13:23:59.683706Z",
     "iopub.status.idle": "2025-03-06T13:23:59.699728Z",
     "shell.execute_reply": "2025-03-06T13:23:59.699123Z",
     "shell.execute_reply.started": "2025-03-06T13:23:59.685153Z"
    }
   },
   "outputs": [],
   "source": [
    "import numpy as np\n",
    "import pandas as pd\n",
    "from pathlib import Path\n",
    "import seaborn as sns\n",
    "import matplotlib.pyplot as plt"
   ]
  },
  {
   "cell_type": "code",
   "execution_count": 89,
   "id": "3eba208a-ac8b-476b-aae8-cd2dcdb4a2e9",
   "metadata": {
    "execution": {
     "iopub.execute_input": "2025-03-06T13:23:59.879227Z",
     "iopub.status.busy": "2025-03-06T13:23:59.878698Z",
     "iopub.status.idle": "2025-03-06T13:23:59.888442Z",
     "shell.execute_reply": "2025-03-06T13:23:59.885812Z",
     "shell.execute_reply.started": "2025-03-06T13:23:59.879196Z"
    }
   },
   "outputs": [],
   "source": [
    "data_folder = Path('../../data')\n",
    "figure_folder = Path('../../Figures/')"
   ]
  },
  {
   "cell_type": "code",
   "execution_count": 90,
   "id": "85dc29e0-aa56-46ac-9559-17f4d4782770",
   "metadata": {
    "execution": {
     "iopub.execute_input": "2025-03-06T13:24:00.038435Z",
     "iopub.status.busy": "2025-03-06T13:24:00.037944Z",
     "iopub.status.idle": "2025-03-06T13:24:00.047764Z",
     "shell.execute_reply": "2025-03-06T13:24:00.046827Z",
     "shell.execute_reply.started": "2025-03-06T13:24:00.038403Z"
    }
   },
   "outputs": [],
   "source": [
    "intra_fn = data_folder / 'this_project/4_paired_metabolomics_live_dead/4B_intracellular_conc_nmol_per_gprotein.csv'\n",
    "extra_fn = data_folder / 'this_project/4_paired_metabolomics_live_dead/4A_extracellular_conc_uM.csv'\n",
    "live_dead_fn = data_folder / 'this_project/4_paired_metabolomics_live_dead/4C_live_dead_results.csv'\n",
    "od_fn = data_folder / 'this_project/4_paired_metabolomics_live_dead/4D_sampling_OD.csv'\n",
    "od_timeseries_fn = data_folder / 'this_project/4_paired_metabolomics_live_dead/4E_OD_timeseries.csv'"
   ]
  },
  {
   "cell_type": "code",
   "execution_count": 91,
   "id": "ac43d3ef-9833-4c60-bac0-f7dbea5b8cd8",
   "metadata": {
    "execution": {
     "iopub.execute_input": "2025-03-06T13:24:00.223278Z",
     "iopub.status.busy": "2025-03-06T13:24:00.222779Z",
     "iopub.status.idle": "2025-03-06T13:24:00.273620Z",
     "shell.execute_reply": "2025-03-06T13:24:00.273181Z",
     "shell.execute_reply.started": "2025-03-06T13:24:00.223233Z"
    }
   },
   "outputs": [],
   "source": [
    "intra_df = pd.read_csv(intra_fn, index_col=0)\n",
    "extra_df = pd.read_csv(extra_fn, index_col=0)\n",
    "ld_df = pd.read_csv(live_dead_fn, index_col=0)"
   ]
  },
  {
   "cell_type": "code",
   "execution_count": 92,
   "id": "ef9ca85f-2f4d-4d28-89fb-36f4214fa862",
   "metadata": {
    "execution": {
     "iopub.execute_input": "2025-03-06T13:24:00.403527Z",
     "iopub.status.busy": "2025-03-06T13:24:00.403067Z",
     "iopub.status.idle": "2025-03-06T13:24:00.421403Z",
     "shell.execute_reply": "2025-03-06T13:24:00.417709Z",
     "shell.execute_reply.started": "2025-03-06T13:24:00.403496Z"
    }
   },
   "outputs": [],
   "source": [
    "extra_df['Sample_id'] = extra_df['Sample_id'].str[:-7]"
   ]
  },
  {
   "cell_type": "code",
   "execution_count": 93,
   "id": "e366e942-f494-4fbf-b390-7aff365db099",
   "metadata": {
    "execution": {
     "iopub.execute_input": "2025-03-06T13:24:00.596013Z",
     "iopub.status.busy": "2025-03-06T13:24:00.595549Z",
     "iopub.status.idle": "2025-03-06T13:24:00.605792Z",
     "shell.execute_reply": "2025-03-06T13:24:00.603914Z",
     "shell.execute_reply.started": "2025-03-06T13:24:00.595982Z"
    }
   },
   "outputs": [],
   "source": [
    "intra_df['Sample_id'] = intra_df['Sample_id'].str.replace('_', '-')"
   ]
  },
  {
   "cell_type": "code",
   "execution_count": 94,
   "id": "b1bed7b2-8c6c-41bc-9ecc-eaf36364fef2",
   "metadata": {
    "execution": {
     "iopub.execute_input": "2025-03-06T13:24:00.785098Z",
     "iopub.status.busy": "2025-03-06T13:24:00.783529Z",
     "iopub.status.idle": "2025-03-06T13:24:00.797808Z",
     "shell.execute_reply": "2025-03-06T13:24:00.796971Z",
     "shell.execute_reply.started": "2025-03-06T13:24:00.785030Z"
    }
   },
   "outputs": [],
   "source": [
    "df_od = pd.read_csv(od_fn, index_col=0)"
   ]
  },
  {
   "cell_type": "code",
   "execution_count": 95,
   "id": "df5704f0-537d-417f-85f1-d3a1aaf40ebf",
   "metadata": {
    "execution": {
     "iopub.execute_input": "2025-03-06T13:24:01.005893Z",
     "iopub.status.busy": "2025-03-06T13:24:01.004945Z",
     "iopub.status.idle": "2025-03-06T13:24:01.021691Z",
     "shell.execute_reply": "2025-03-06T13:24:01.020821Z",
     "shell.execute_reply.started": "2025-03-06T13:24:01.005849Z"
    }
   },
   "outputs": [],
   "source": [
    "ld_df = ld_df.loc[ld_df.Dilution=='1X']"
   ]
  },
  {
   "cell_type": "code",
   "execution_count": 96,
   "id": "1d484b5a-9cf9-470c-a47d-9423c4774f84",
   "metadata": {
    "execution": {
     "iopub.execute_input": "2025-03-06T13:24:01.234309Z",
     "iopub.status.busy": "2025-03-06T13:24:01.233365Z",
     "iopub.status.idle": "2025-03-06T13:24:01.246365Z",
     "shell.execute_reply": "2025-03-06T13:24:01.243039Z",
     "shell.execute_reply.started": "2025-03-06T13:24:01.234266Z"
    }
   },
   "outputs": [],
   "source": [
    "# Convert intracellular concentrations to total amount based on OD and conversion factors"
   ]
  },
  {
   "cell_type": "markdown",
   "id": "389a86aa-543e-4495-95fc-800a1560ce52",
   "metadata": {},
   "source": [
    "# Get T4-T1 delta"
   ]
  },
  {
   "cell_type": "code",
   "execution_count": 97,
   "id": "0a30aa13-8095-49b7-83fb-afb57cb8a703",
   "metadata": {
    "execution": {
     "iopub.execute_input": "2025-03-06T13:24:01.696710Z",
     "iopub.status.busy": "2025-03-06T13:24:01.695750Z",
     "iopub.status.idle": "2025-03-06T13:24:01.708059Z",
     "shell.execute_reply": "2025-03-06T13:24:01.706108Z",
     "shell.execute_reply.started": "2025-03-06T13:24:01.696677Z"
    }
   },
   "outputs": [],
   "source": [
    "extra_df_t1 = extra_df.loc[extra_df.Timepoint == 'T1']\n",
    "extra_df_t4 = extra_df.loc[extra_df.Timepoint == 'T4']\n"
   ]
  },
  {
   "cell_type": "code",
   "execution_count": 98,
   "id": "e2bb7a4f-1efc-40f2-a339-821971c74eff",
   "metadata": {
    "execution": {
     "iopub.execute_input": "2025-03-06T13:24:01.973319Z",
     "iopub.status.busy": "2025-03-06T13:24:01.972504Z",
     "iopub.status.idle": "2025-03-06T13:24:01.989859Z",
     "shell.execute_reply": "2025-03-06T13:24:01.987182Z",
     "shell.execute_reply.started": "2025-03-06T13:24:01.973277Z"
    }
   },
   "outputs": [],
   "source": [
    "metabolites = sorted(['Leucine',\n",
    "       'Glutamate', 'Aspartate', 'Fructose-6-phosphate', 'Cis-aconitate'])\n",
    "carbon_sources = ['Galactose', 'L-malate', 'L-alanine']"
   ]
  },
  {
   "cell_type": "code",
   "execution_count": 99,
   "id": "e17494ce-02a8-4911-b68a-ae284a3b585f",
   "metadata": {
    "execution": {
     "iopub.execute_input": "2025-03-07T15:41:43.569057Z",
     "iopub.status.busy": "2025-03-07T15:41:43.568652Z",
     "iopub.status.idle": "2025-03-07T15:41:43.621316Z",
     "shell.execute_reply": "2025-03-07T15:41:43.620636Z",
     "shell.execute_reply.started": "2025-03-07T15:41:43.569039Z"
    }
   },
   "outputs": [],
   "source": [
    "dfs = []\n",
    "for m in metabolites:\n",
    "    for cs in carbon_sources:\n",
    "        t1_idx = (extra_df.Timepoint=='T1')&(extra_df['Carbon source']==cs)\n",
    "        t4_idx = (extra_df.Timepoint=='T4')&(extra_df['Carbon source']==cs)\n",
    "        t1_data = extra_df.loc[t1_idx, [m, 'Sample #']]\n",
    "        t4_data = extra_df.loc[t4_idx, [m, 'Sample #']]\n",
    "\n",
    "        # Discard data that has too few replicate values\n",
    "        if t4_data[m].isna().sum() == len(t4_data):\n",
    "            # All nan values at T4 - skip\n",
    "            continue\n",
    "        # elif t4_data[m].notna().sum()+t1_data[m].notna().sum()<3:\n",
    "        #     continue\n",
    "        \n",
    "        # fill nan values in T1 data\n",
    "        if t1_data[m].isna().sum() == len(t1_data):\n",
    "            t1_data[m] = 0\n",
    "        elif t1_data[m].isna().sum() > 0:\n",
    "            t1_data[m].fillna(t1_data[m].mean())\n",
    "            \n",
    "        temp = pd.merge(left = t1_data, right=t4_data, left_on='Sample #', right_on='Sample #', suffixes=['-T1', '-T4'])\n",
    "        temp['Δ concentration [uM]'] = temp[f'{m}-T4']-temp[f'{m}-T1']\n",
    "        # temp['Carbon source'] = cs\n",
    "        temp['Metabolite'] = m\n",
    "        dfs.append(temp[['Sample #', 'Metabolite', 'Δ concentration [uM]']])#'Carbon source'\n"
   ]
  },
  {
   "cell_type": "code",
   "execution_count": 100,
   "id": "ad43181b-1ba1-44b0-8c42-25801b590527",
   "metadata": {
    "execution": {
     "iopub.execute_input": "2025-03-07T15:41:47.868161Z",
     "iopub.status.busy": "2025-03-07T15:41:47.867003Z",
     "iopub.status.idle": "2025-03-07T15:41:47.879012Z",
     "shell.execute_reply": "2025-03-07T15:41:47.877028Z",
     "shell.execute_reply.started": "2025-03-07T15:41:47.868087Z"
    }
   },
   "outputs": [],
   "source": [
    "delta_ex = pd.concat(dfs)"
   ]
  },
  {
   "cell_type": "code",
   "execution_count": 101,
   "id": "530f04a7-7de2-4f5c-a96d-7b315a783d78",
   "metadata": {
    "execution": {
     "iopub.execute_input": "2025-03-07T15:41:48.225670Z",
     "iopub.status.busy": "2025-03-07T15:41:48.224802Z",
     "iopub.status.idle": "2025-03-07T15:41:48.240622Z",
     "shell.execute_reply": "2025-03-07T15:41:48.239086Z",
     "shell.execute_reply.started": "2025-03-07T15:41:48.225628Z"
    }
   },
   "outputs": [],
   "source": [
    "delta_ex.loc[delta_ex['Δ concentration [uM]']<0, 'Δ concentration [uM]'] = np.nan"
   ]
  },
  {
   "cell_type": "markdown",
   "id": "7700fe91-6708-4025-9d4c-e198418572b4",
   "metadata": {},
   "source": [
    "# Using OD as cell concentration measure"
   ]
  },
  {
   "cell_type": "code",
   "execution_count": 102,
   "id": "52f6b90c-3d94-4262-92df-8286da0135f9",
   "metadata": {
    "execution": {
     "iopub.execute_input": "2025-03-07T15:41:48.839662Z",
     "iopub.status.busy": "2025-03-07T15:41:48.838677Z",
     "iopub.status.idle": "2025-03-07T15:41:48.853133Z",
     "shell.execute_reply": "2025-03-07T15:41:48.850961Z",
     "shell.execute_reply.started": "2025-03-07T15:41:48.839619Z"
    }
   },
   "outputs": [],
   "source": [
    "sample_id_to_od = df_od.set_index('Common sample ID')['OD at sampling'].to_dict()"
   ]
  },
  {
   "cell_type": "code",
   "execution_count": 103,
   "id": "dfda21a1-4143-4265-9953-d9b5ef57af96",
   "metadata": {
    "execution": {
     "iopub.execute_input": "2025-03-07T15:41:49.449653Z",
     "iopub.status.busy": "2025-03-07T15:41:49.449084Z",
     "iopub.status.idle": "2025-03-07T15:41:49.459272Z",
     "shell.execute_reply": "2025-03-07T15:41:49.458040Z",
     "shell.execute_reply.started": "2025-03-07T15:41:49.449617Z"
    }
   },
   "outputs": [],
   "source": [
    "intra_df['OD'] = intra_df.Sample_id.map(sample_id_to_od)\n"
   ]
  },
  {
   "cell_type": "code",
   "execution_count": 104,
   "id": "93c7e08a-8e76-4601-936d-b7aff3ffb096",
   "metadata": {
    "execution": {
     "iopub.execute_input": "2025-03-07T15:41:49.722657Z",
     "iopub.status.busy": "2025-03-07T15:41:49.721587Z",
     "iopub.status.idle": "2025-03-07T15:41:49.734058Z",
     "shell.execute_reply": "2025-03-07T15:41:49.731621Z",
     "shell.execute_reply.started": "2025-03-07T15:41:49.722596Z"
    }
   },
   "outputs": [],
   "source": [
    "protein_density = 13.5*1e-8#  μg/μm^3 From Mori et al., 2017 (See SI) https://www.nature.com/articles/s41467-017-01242-8\n",
    "# Protein density seems to be not correlated with growth rate\n",
    "\n",
    "cubic_um_to_L = 1e-15 # L/μm^3\n",
    "protein_density_g_per_L = protein_density/cubic_um_to_L*1e-6"
   ]
  },
  {
   "cell_type": "code",
   "execution_count": 105,
   "id": "c0c45a20-1e28-46a1-9604-0e6e82faca46",
   "metadata": {
    "execution": {
     "iopub.execute_input": "2025-03-07T15:41:49.979922Z",
     "iopub.status.busy": "2025-03-07T15:41:49.979446Z",
     "iopub.status.idle": "2025-03-07T15:41:49.997142Z",
     "shell.execute_reply": "2025-03-07T15:41:49.996395Z",
     "shell.execute_reply.started": "2025-03-07T15:41:49.979892Z"
    }
   },
   "outputs": [],
   "source": [
    "id_vars = ['Sample_id', 'Sample #', 'Carbon source', 'Timepoint', 'OD']\n",
    "df_intraL = intra_df.melt(id_vars=id_vars, var_name='Metabolite', value_name='Concentration [nmol/g protein]')"
   ]
  },
  {
   "cell_type": "code",
   "execution_count": 106,
   "id": "b5029b5e-b642-4af0-9805-f8ec0b66aea5",
   "metadata": {
    "execution": {
     "iopub.execute_input": "2025-03-07T15:41:50.246755Z",
     "iopub.status.busy": "2025-03-07T15:41:50.246338Z",
     "iopub.status.idle": "2025-03-07T15:41:50.254942Z",
     "shell.execute_reply": "2025-03-07T15:41:50.252862Z",
     "shell.execute_reply.started": "2025-03-07T15:41:50.246725Z"
    }
   },
   "outputs": [],
   "source": [
    "df_intraL['Concentration [uM]'] = df_intraL['Concentration [nmol/g protein]']*protein_density_g_per_L*1e-3"
   ]
  },
  {
   "cell_type": "code",
   "execution_count": 107,
   "id": "eb12fed7-a216-46f9-a734-0f155f0c6602",
   "metadata": {
    "execution": {
     "iopub.execute_input": "2025-03-07T15:41:50.732674Z",
     "iopub.status.busy": "2025-03-07T15:41:50.731789Z",
     "iopub.status.idle": "2025-03-07T15:41:50.745886Z",
     "shell.execute_reply": "2025-03-07T15:41:50.744751Z",
     "shell.execute_reply.started": "2025-03-07T15:41:50.732627Z"
    }
   },
   "outputs": [],
   "source": [
    "total_cell_volume_per_od = 3.6 # uL per OD per mL Total cell volume conversion, see Volkmer and Heinemann 2011, https://pmc.ncbi.nlm.nih.gov/articles/PMC3146540/\n"
   ]
  },
  {
   "cell_type": "code",
   "execution_count": 108,
   "id": "642c17c5-5979-4af0-b361-271146882d78",
   "metadata": {
    "execution": {
     "iopub.execute_input": "2025-03-07T15:41:51.091194Z",
     "iopub.status.busy": "2025-03-07T15:41:51.090231Z",
     "iopub.status.idle": "2025-03-07T15:41:51.098534Z",
     "shell.execute_reply": "2025-03-07T15:41:51.097600Z",
     "shell.execute_reply.started": "2025-03-07T15:41:51.091152Z"
    }
   },
   "outputs": [],
   "source": [
    "# df_intraL['Corresponding E. concentration [mM]'] = df_intraL['Concentration [uM]']*total_cell_volume_per_od*df_intraL['OD']\n"
   ]
  },
  {
   "cell_type": "code",
   "execution_count": 109,
   "id": "0a393e5f-b32d-4763-93ac-48d8b9b5e6b4",
   "metadata": {
    "execution": {
     "iopub.execute_input": "2025-03-07T15:41:52.082878Z",
     "iopub.status.busy": "2025-03-07T15:41:52.082192Z",
     "iopub.status.idle": "2025-03-07T15:41:52.093890Z",
     "shell.execute_reply": "2025-03-07T15:41:52.092599Z",
     "shell.execute_reply.started": "2025-03-07T15:41:52.082840Z"
    }
   },
   "outputs": [],
   "source": [
    "df_intraL['Intracellular volume [L/L]'] = total_cell_volume_per_od * df_intraL['OD'] * 1e-3\n",
    "df_intraL['Corresponding Ex. concentration [uM]'] = df_intraL['Intracellular volume [L/L]']*df_intraL['Concentration [uM]']\n"
   ]
  },
  {
   "cell_type": "code",
   "execution_count": 110,
   "id": "41597ce0-1e31-4667-993b-92ce4ede0549",
   "metadata": {
    "execution": {
     "iopub.execute_input": "2025-03-07T15:41:52.432010Z",
     "iopub.status.busy": "2025-03-07T15:41:52.431498Z",
     "iopub.status.idle": "2025-03-07T15:41:52.446744Z",
     "shell.execute_reply": "2025-03-07T15:41:52.445100Z",
     "shell.execute_reply.started": "2025-03-07T15:41:52.431975Z"
    }
   },
   "outputs": [],
   "source": [
    "df_death = df_intraL.merge(right=delta_ex, left_on=('Sample #', 'Metabolite'), right_on = ('Sample #', 'Metabolite'))"
   ]
  },
  {
   "cell_type": "markdown",
   "id": "adc5f77b-b34d-4651-a964-59b05b68693c",
   "metadata": {},
   "source": [
    "# Get dead fraction"
   ]
  },
  {
   "cell_type": "code",
   "execution_count": 111,
   "id": "2140099e-f1d8-44db-9cd6-dd99225ed265",
   "metadata": {
    "execution": {
     "iopub.execute_input": "2025-03-07T15:41:55.953019Z",
     "iopub.status.busy": "2025-03-07T15:41:55.951904Z",
     "iopub.status.idle": "2025-03-07T15:41:55.967071Z",
     "shell.execute_reply": "2025-03-07T15:41:55.966036Z",
     "shell.execute_reply.started": "2025-03-07T15:41:55.952622Z"
    }
   },
   "outputs": [],
   "source": [
    "ld_df['Sample #'] = ld_df.Sample_id.str[:2]"
   ]
  },
  {
   "cell_type": "code",
   "execution_count": 112,
   "id": "80ec61f5-b949-411c-b3db-e7ee98f1b70b",
   "metadata": {
    "execution": {
     "iopub.execute_input": "2025-03-07T15:41:56.386681Z",
     "iopub.status.busy": "2025-03-07T15:41:56.385470Z",
     "iopub.status.idle": "2025-03-07T15:41:56.399946Z",
     "shell.execute_reply": "2025-03-07T15:41:56.399062Z",
     "shell.execute_reply.started": "2025-03-07T15:41:56.386635Z"
    }
   },
   "outputs": [],
   "source": [
    "sample_to_dead_fraction = ld_df.loc[ld_df['Live/Dead']=='Live'].set_index('Sample #')['Dead fraction'].to_dict()"
   ]
  },
  {
   "cell_type": "code",
   "execution_count": 113,
   "id": "989d4945-1769-4141-b658-748bb2a2b908",
   "metadata": {
    "execution": {
     "iopub.execute_input": "2025-03-07T15:42:06.560966Z",
     "iopub.status.busy": "2025-03-07T15:42:06.560128Z",
     "iopub.status.idle": "2025-03-07T15:42:06.575333Z",
     "shell.execute_reply": "2025-03-07T15:42:06.574168Z",
     "shell.execute_reply.started": "2025-03-07T15:42:06.560931Z"
    }
   },
   "outputs": [
    {
     "data": {
      "text/plain": [
       "{'1A': 0.002217189,\n",
       " '1B': 0.023689315,\n",
       " '1C': 0.002330358,\n",
       " '1D': 0.003101976,\n",
       " '2A': 0.007528004,\n",
       " '2B': 0.007606141,\n",
       " '2C': 0.006790906,\n",
       " '2D': 0.005963017,\n",
       " '3A': 0.002295377,\n",
       " '3B': 0.002033014,\n",
       " '3C': 0.003797287,\n",
       " '3D': 0.002241517}"
      ]
     },
     "execution_count": 113,
     "metadata": {},
     "output_type": "execute_result"
    }
   ],
   "source": [
    "sample_to_dead_fraction"
   ]
  },
  {
   "cell_type": "code",
   "execution_count": 114,
   "id": "32e501e4-b01c-4404-86ce-fe66e7d3dee8",
   "metadata": {
    "execution": {
     "iopub.execute_input": "2025-03-07T15:42:14.652666Z",
     "iopub.status.busy": "2025-03-07T15:42:14.651900Z",
     "iopub.status.idle": "2025-03-07T15:42:14.664054Z",
     "shell.execute_reply": "2025-03-07T15:42:14.663168Z",
     "shell.execute_reply.started": "2025-03-07T15:42:14.652628Z"
    }
   },
   "outputs": [],
   "source": [
    "df_death['Dead fraction'] = df_death['Sample #'].map(sample_to_dead_fraction)"
   ]
  },
  {
   "cell_type": "code",
   "execution_count": 115,
   "id": "bec17f38-cf5c-4acb-8256-e150cf816cbf",
   "metadata": {
    "execution": {
     "iopub.execute_input": "2025-03-07T15:42:15.187286Z",
     "iopub.status.busy": "2025-03-07T15:42:15.185916Z",
     "iopub.status.idle": "2025-03-07T15:42:15.203227Z",
     "shell.execute_reply": "2025-03-07T15:42:15.200898Z",
     "shell.execute_reply.started": "2025-03-07T15:42:15.187241Z"
    }
   },
   "outputs": [],
   "source": [
    "df_death['Fraction explained'] = df_death['Corresponding Ex. concentration [uM]']*df_death['Dead fraction']/df_death['Δ concentration [uM]']"
   ]
  },
  {
   "cell_type": "code",
   "execution_count": 116,
   "id": "837b1872",
   "metadata": {},
   "outputs": [],
   "source": [
    "df_death.dropna(subset=['Fraction explained'], inplace=True)"
   ]
  },
  {
   "cell_type": "code",
   "execution_count": 117,
   "id": "daf6e180",
   "metadata": {},
   "outputs": [
    {
     "data": {
      "text/plain": [
       "0     0.098883\n",
       "1     0.093184\n",
       "2     0.119344\n",
       "3     0.119280\n",
       "6     0.000393\n",
       "7     0.000450\n",
       "9     0.633571\n",
       "10    0.696213\n",
       "11    0.748305\n",
       "12    3.556297\n",
       "13    3.565419\n",
       "14    3.507794\n",
       "15    3.570236\n",
       "21    0.986385\n",
       "22    1.290596\n",
       "23    1.113683\n",
       "26    0.071309\n",
       "28    2.025250\n",
       "29    2.113758\n",
       "30    3.884124\n",
       "31    4.306714\n",
       "36    0.292968\n",
       "37    0.303776\n",
       "38    0.201566\n",
       "41    0.830740\n",
       "42    0.737945\n",
       "44    0.760151\n",
       "45    0.745879\n",
       "46    0.768665\n",
       "47    0.800146\n",
       "48    0.683595\n",
       "49    0.692965\n",
       "50    0.918602\n",
       "51    0.970204\n",
       "53    1.776131\n",
       "54    1.742494\n",
       "55    1.609172\n",
       "Name: Δ concentration [uM], dtype: float64"
      ]
     },
     "execution_count": 117,
     "metadata": {},
     "output_type": "execute_result"
    }
   ],
   "source": [
    "df_death['Δ concentration [uM]']"
   ]
  },
  {
   "cell_type": "code",
   "execution_count": 118,
   "id": "06fdf370-0236-44c8-b7af-4b32d1d6b9fe",
   "metadata": {
    "execution": {
     "iopub.execute_input": "2025-03-09T21:31:29.829228Z",
     "iopub.status.busy": "2025-03-09T21:31:29.828468Z",
     "iopub.status.idle": "2025-03-09T21:31:30.208681Z",
     "shell.execute_reply": "2025-03-09T21:31:30.208414Z",
     "shell.execute_reply.started": "2025-03-09T21:31:29.829181Z"
    }
   },
   "outputs": [
    {
     "name": "stdout",
     "output_type": "stream",
     "text": [
      "i: 0, m: Aspartate, cs: Galactose, sizes: [47.79716519], [25]\n",
      "i: 2, m: Aspartate, cs: L-malate, sizes: [69.59717961 69.87582896 73.83939629 74.51219048], [25]\n",
      "i: 3, m: Cis-aconitate, cs: Galactose, sizes: [63.21349807 63.0900257  63.2860566  63.54753858], [25]\n",
      "i: 4, m: Cis-aconitate, cs: L-alanine, sizes: [68.74212492 68.61756937 68.09903701], [25]\n",
      "i: 5, m: Cis-aconitate, cs: L-malate, sizes: [62.52198316 62.6106695  64.4469108  64.80294591], [25]\n",
      "i: 7, m: Fructose-6-phosphate, cs: L-alanine, sizes: [63.79197683 63.02035992], [25]\n",
      "i: 8, m: Fructose-6-phosphate, cs: L-malate, sizes: [57.00230279 57.23830189 54.56625916], [25]\n",
      "i: 9, m: Glutamate, cs: Galactose, sizes: [73.26497035 73.28165862 73.17551121 73.29045387], [25]\n",
      "i: 10, m: Glutamate, cs: L-alanine, sizes: [64.91069689 66.66185472 65.70142386], [25]\n",
      "i: 12, m: Leucine, cs: Galactose, sizes: [49.92682451 49.54012023 51.15200885 51.14851446], [25]\n",
      "i: 13, m: Leucine, cs: L-alanine, sizes: [62.02692936 62.64113193 63.11117971], [25]\n",
      "i: 14, m: Leucine, cs: L-malate, sizes: [13.91588826 14.79818771], [25]\n"
     ]
    },
    {
     "data": {
      "image/png": "[encoded data removed]",
      "text/plain": [
       "<Figure size 400x500 with 1 Axes>"
      ]
     },
     "metadata": {},
     "output_type": "display_data"
    }
   ],
   "source": [
    "import matplotlib.lines as mlines\n",
    "\n",
    "fig, ax = plt.subplots(1, figsize = (4,5))\n",
    "# Normalize the size column to control the point size\n",
    "df_death['log10(Δ concentration [uM])'] = np.log10(df_death['Δ concentration [uM]'])\n",
    "df_death.sort_values(by = ['Metabolite', 'Carbon source'], inplace=True)    \n",
    "size_column = 'log10(Δ concentration [uM])' # Replace with the column name in your DataFrame\n",
    "sizes = ((df_death[size_column] + 4) *15) + 5\n",
    "df_death['Size'] = sizes\n",
    "\n",
    "\n",
    "# Define the order explicitly for Metabolite and Carbon source\n",
    "metabolite_order = sorted(df_death['Metabolite'].unique())\n",
    "carbon_source_order = sorted(df_death['Carbon source'].unique())\n",
    "\n",
    "\n",
    "# l = sns.boxplot(df_death, x = 'Fraction explained', hue = 'Carbon source', y = 'Metabolite', fill = False,gap=.1,\n",
    "#                 ax = ax, legend = None, fliersize = 0,\n",
    "#                 order = metabolite_order, hue_order = carbon_source_order)\n",
    "                # order = sorted(df_death.Metabolite.unique()))#color = 'w', , linecolor = 'grey'\n",
    "\n",
    "strip = sns.stripplot(df_death, x = 'Fraction explained', hue = 'Carbon source', y = 'Metabolite', dodge=True, ax = ax,\n",
    "             edgecolor = 'k', linewidth = 0.5, alpha = 0.8,\n",
    "             order= metabolite_order, hue_order = carbon_source_order,\n",
    "            #  s = sizes.values\n",
    ")\n",
    "# Map each artist to its corresponding group\n",
    "# Iterate over the collections and match them to the grouped data\n",
    "i = 0\n",
    "group_data = df_death.groupby(['Metabolite', 'Carbon source'], sort=False)\n",
    "for m in metabolite_order:\n",
    "    for cs in carbon_source_order:\n",
    "        artist = strip.collections[i]\n",
    "        try:\n",
    "            sizes = group_data.get_group((m, cs))['Size'].values\n",
    "        except KeyError:\n",
    "            i += 1\n",
    "            continue\n",
    "        \n",
    "        print(f\"i: {i}, m: {m}, cs: {cs}, sizes: {sizes}, {artist.get_sizes()}\")\n",
    "        artist.set_sizes(sizes)\n",
    "        i += 1\n",
    "\n",
    "\n",
    "size_legend_labels = ['1 nM', '1 μM']  # Example labels for the legend\n",
    "legend_values = [-3, -2, -1, 0]  # Example values to display in the legend\n",
    "size_legend_size = [((x + 4)*10) for x in legend_values]\n",
    "# size_legend_values = [-3, -2, 10]  # Example sizes to display in the legend\n",
    "# size_legend_labels = [f\"{10**((size - 10) / 50 * (df_death[size_column].max() - df_death[size_column].min()) + df_death[size_column].min()):.2f}\" for size in size_legend_values]\n",
    "\n",
    "# Create circular markers for the size legend\n",
    "size_handles = [\n",
    "    mlines.Line2D([], [], color='gray', marker='o', linestyle='None', markersize=size/3, label=label, alpha=0.8)\n",
    "    for size, label in zip(size_legend_size, size_legend_labels)\n",
    "]\n",
    "\n",
    "\n",
    "# Get the existing legend handles and labels\n",
    "handles, labels = ax.get_legend_handles_labels()\n",
    "\n",
    "# Combine the existing legend with the size legend\n",
    "combined_handles = handles + size_handles\n",
    "combined_labels = labels + size_legend_labels\n",
    "\n",
    "# Add the combined legend to the plot\n",
    "ax.legend(\n",
    "    combined_handles,\n",
    "    combined_labels,\n",
    "    title='Carbon source',\n",
    "    loc=\"upper right\",\n",
    "    bbox_to_anchor=(1.05, 1.05),\n",
    "    # ha = 'right',\n",
    "    frameon=True\n",
    ")\n",
    "ax.set_xscale('log')\n",
    "ax.set_ylabel('')\n",
    "ax.set_xlabel('Fraction of extracellular concentration \\nexplained by lysed cells', fontsize=10)\n",
    "sns.despine()\n",
    "\n",
    "yticks = np.arange(len(metabolite_order))\n",
    "for i, y in enumerate(yticks):\n",
    "    color = \"#ffffff\" if i % 2 == 0 else \"#eeeded\"\n",
    "    ax.axhspan(y - 0.5, y + 0.5, color=color, zorder=0)\n",
    "\n",
    "fig_fn = figure_folder / '2_paired_death_1.pdf'\n",
    "plt.savefig(fig_fn, bbox_inches='tight')"
   ]
  },
  {
   "cell_type": "markdown",
   "id": "8144bb7b",
   "metadata": {},
   "source": [
    "# Add contribution from proteome depolymerization"
   ]
  },
  {
   "cell_type": "code",
   "execution_count": 119,
   "id": "af569e54",
   "metadata": {},
   "outputs": [],
   "source": [
    "# AA fraction ecoli\n",
    "# From \"Experimental determination of Escherichia coli\n",
    "# biomass composition for constraint-based\n",
    "# metabolic modeling\", Simensen et al., 2021\n",
    "\n",
    "\n",
    "prot_fraction = 0.536 \n",
    "\n",
    "aa_mass_fractions = {\n",
    "    'ala__L': 0.046,\n",
    "    'arg__L': 0.052,\n",
    "    'asp__L': 0.026,# Halv of the joint asp/asn value\n",
    "    'asn__L': 0.026,# Halv of the joint asp/asn value\n",
    "    'cys__L': 0.01,\n",
    "    'glu__L': 0.0245, # Halv of the joint glu/gln value\n",
    "    'gln__L': 0.0245, # Halv of the joint glu/gln value\n",
    "    'gly': 0.025,\n",
    "    'his__L': 0.012,\n",
    "    'ile__L': 0.026,\n",
    "    'leu__L': 0.05,\n",
    "    'lys__L': 0.036,\n",
    "    'met__L': 0.018,\n",
    "    'phe__L': 0.028,\n",
    "    'pro__L': 0.022,\n",
    "    'ser__L': 0.021,\n",
    "    'thr__L': 0.028,\n",
    "    'trp__L': 0.012,\n",
    "    'tyr__L': 0.016,\n",
    "    'val__L': 0.033\n",
    "}\n",
    "\n",
    "\n",
    "OD_to_gDW = 0.346 # gDW/L/OD\n",
    "\n",
    "\n",
    "metabolite_to_bigg_aa = {\n",
    "    'Leucine': 'leu__L',\n",
    "    'Glutamate': 'glu__L',\n",
    "    'Aspartate': 'asp__L'}\n",
    "\n",
    "aa_mol_weight_dict = {\n",
    "    'ala__L': 89.1,\n",
    "    'arg__L': 174.2,\n",
    "    'asp__L': 133.1,\n",
    "    'asn__L': 132.1,\n",
    "    'cys__L': 121.2,\n",
    "    'glu__L': 147.1,\n",
    "    'gln__L': 146.2,\n",
    "    'gly': 75.1,\n",
    "    'his__L': 155.2,\n",
    "    'ile__L': 131.2,\n",
    "    'leu__L': 131.2,\n",
    "    'lys__L': 146.2,\n",
    "    'met__L': 149.2,\n",
    "    'phe__L': 165.2,\n",
    "    'pro__L': 115.1,\n",
    "    'ser__L': 105.1,\n",
    "    'thr__L': 119.1,\n",
    "    'trp__L': 204.2,\n",
    "    'tyr__L': 181.2,\n",
    "    'val__L': 117.1\n",
    "}"
   ]
  },
  {
   "cell_type": "code",
   "execution_count": 120,
   "id": "91d8b483",
   "metadata": {},
   "outputs": [],
   "source": [
    "df_death['gDW/L'] = df_death['OD'] * OD_to_gDW"
   ]
  },
  {
   "cell_type": "code",
   "execution_count": 121,
   "id": "20607ed2",
   "metadata": {},
   "outputs": [],
   "source": [
    "for i, row in df_death.iterrows():\n",
    "    aa = metabolite_to_bigg_aa.get(row['Metabolite'], None)\n",
    "    if aa is not None:\n",
    "        df_death.at[i, 'gAA/L'] = row['gDW/L'] * aa_mass_fractions[aa] * row['Dead fraction']\n",
    "\n",
    "        # Substract water weight (18.02 g/mol) because one water molecule is lost during protein synthesis\n",
    "        df_death.at[i, 'AA uM'] = df_death.at[i, 'gAA/L'] / (aa_mol_weight_dict[aa]-18.02) *1e6\n",
    "    else:\n",
    "        df_death.at[i, 'gAA/L'] = np.nan\n",
    "        df_death.at[i, 'AA uM'] = np.nan\n",
    "\n",
    "df_death['AA fraction explained'] = df_death['AA uM'] / df_death['Δ concentration [uM]']"
   ]
  },
  {
   "cell_type": "code",
   "execution_count": 122,
   "id": "1b5f7d2f",
   "metadata": {},
   "outputs": [],
   "source": [
    "df_death['Total fraction explained'] = df_death['Fraction explained'] + df_death['AA fraction explained']\n",
    "df_death['Total fraction explained (0.1 depolymerization)'] = df_death['Fraction explained'] + 0.1*df_death['AA fraction explained']"
   ]
  },
  {
   "cell_type": "markdown",
   "id": "42dd5885",
   "metadata": {},
   "source": [
    "# Plot"
   ]
  },
  {
   "cell_type": "code",
   "execution_count": 123,
   "id": "11bda791",
   "metadata": {},
   "outputs": [],
   "source": [
    "aa_metabolite_order = ['Aspartate', 'Glutamate', 'Leucine']\n",
    "df_death_aa = df_death.loc[df_death.Metabolite.isin(aa_metabolite_order), \n",
    "                           ['Fraction explained', 'Total fraction explained', 'Total fraction explained (0.1 depolymerization)',\n",
    "                            'Metabolite', 'Carbon source']].copy()\n",
    "df_death_aaL = df_death_aa.melt(id_vars=['Metabolite', 'Carbon source'],\n",
    "                                value_vars=['Fraction explained', 'Total fraction explained', 'Total fraction explained (0.1 depolymerization)'],\n",
    "                                var_name='Protein depolymerization', value_name='Explained fraction')\n",
    "df_death_aaL.replace({'Protein depolymerization':{'Fraction explained': '0%',\n",
    "                                                  'Total fraction explained (0.1 depolymerization)': '10%',\n",
    "                                                  'Total fraction explained': '100%',}}, inplace=True)\n"
   ]
  },
  {
   "cell_type": "code",
   "execution_count": 124,
   "id": "86e73d1a",
   "metadata": {},
   "outputs": [
    {
     "data": {
      "text/html": [
       "<div>\n",
       "<style scoped>\n",
       "    .dataframe tbody tr th:only-of-type {\n",
       "        vertical-align: middle;\n",
       "    }\n",
       "\n",
       "    .dataframe tbody tr th {\n",
       "        vertical-align: top;\n",
       "    }\n",
       "\n",
       "    .dataframe thead th {\n",
       "        text-align: right;\n",
       "    }\n",
       "</style>\n",
       "<table border=\"1\" class=\"dataframe\">\n",
       "  <thead>\n",
       "    <tr style=\"text-align: right;\">\n",
       "      <th></th>\n",
       "      <th>Metabolite</th>\n",
       "      <th>Carbon source</th>\n",
       "      <th>Protein depolymerization</th>\n",
       "      <th>Explained fraction</th>\n",
       "    </tr>\n",
       "  </thead>\n",
       "  <tbody>\n",
       "    <tr>\n",
       "      <th>0</th>\n",
       "      <td>Aspartate</td>\n",
       "      <td>Galactose</td>\n",
       "      <td>0%</td>\n",
       "      <td>0.023094</td>\n",
       "    </tr>\n",
       "    <tr>\n",
       "      <th>1</th>\n",
       "      <td>Aspartate</td>\n",
       "      <td>L-malate</td>\n",
       "      <td>0%</td>\n",
       "      <td>0.005411</td>\n",
       "    </tr>\n",
       "    <tr>\n",
       "      <th>2</th>\n",
       "      <td>Aspartate</td>\n",
       "      <td>L-malate</td>\n",
       "      <td>0%</td>\n",
       "      <td>0.005190</td>\n",
       "    </tr>\n",
       "    <tr>\n",
       "      <th>3</th>\n",
       "      <td>Aspartate</td>\n",
       "      <td>L-malate</td>\n",
       "      <td>0%</td>\n",
       "      <td>0.002782</td>\n",
       "    </tr>\n",
       "    <tr>\n",
       "      <th>4</th>\n",
       "      <td>Aspartate</td>\n",
       "      <td>L-malate</td>\n",
       "      <td>0%</td>\n",
       "      <td>0.001544</td>\n",
       "    </tr>\n",
       "    <tr>\n",
       "      <th>...</th>\n",
       "      <td>...</td>\n",
       "      <td>...</td>\n",
       "      <td>...</td>\n",
       "      <td>...</td>\n",
       "    </tr>\n",
       "    <tr>\n",
       "      <th>58</th>\n",
       "      <td>Leucine</td>\n",
       "      <td>L-alanine</td>\n",
       "      <td>10%</td>\n",
       "      <td>0.053929</td>\n",
       "    </tr>\n",
       "    <tr>\n",
       "      <th>59</th>\n",
       "      <td>Leucine</td>\n",
       "      <td>L-alanine</td>\n",
       "      <td>10%</td>\n",
       "      <td>0.088571</td>\n",
       "    </tr>\n",
       "    <tr>\n",
       "      <th>60</th>\n",
       "      <td>Leucine</td>\n",
       "      <td>L-alanine</td>\n",
       "      <td>10%</td>\n",
       "      <td>0.049877</td>\n",
       "    </tr>\n",
       "    <tr>\n",
       "      <th>61</th>\n",
       "      <td>Leucine</td>\n",
       "      <td>L-malate</td>\n",
       "      <td>10%</td>\n",
       "      <td>302.218903</td>\n",
       "    </tr>\n",
       "    <tr>\n",
       "      <th>62</th>\n",
       "      <td>Leucine</td>\n",
       "      <td>L-malate</td>\n",
       "      <td>10%</td>\n",
       "      <td>230.142446</td>\n",
       "    </tr>\n",
       "  </tbody>\n",
       "</table>\n",
       "<p>63 rows × 4 columns</p>\n",
       "</div>"
      ],
      "text/plain": [
       "   Metabolite Carbon source Protein depolymerization  Explained fraction\n",
       "0   Aspartate     Galactose                       0%            0.023094\n",
       "1   Aspartate      L-malate                       0%            0.005411\n",
       "2   Aspartate      L-malate                       0%            0.005190\n",
       "3   Aspartate      L-malate                       0%            0.002782\n",
       "4   Aspartate      L-malate                       0%            0.001544\n",
       "..        ...           ...                      ...                 ...\n",
       "58    Leucine     L-alanine                      10%            0.053929\n",
       "59    Leucine     L-alanine                      10%            0.088571\n",
       "60    Leucine     L-alanine                      10%            0.049877\n",
       "61    Leucine      L-malate                      10%          302.218903\n",
       "62    Leucine      L-malate                      10%          230.142446\n",
       "\n",
       "[63 rows x 4 columns]"
      ]
     },
     "execution_count": 124,
     "metadata": {},
     "output_type": "execute_result"
    }
   ],
   "source": [
    "df_death_aaL"
   ]
  },
  {
   "cell_type": "code",
   "execution_count": 125,
   "id": "afc76e0c",
   "metadata": {},
   "outputs": [
    {
     "data": {
      "image/png": "[encoded data removed]",
      "text/plain": [
       "<Figure size 1265.49x300 with 3 Axes>"
      ]
     },
     "metadata": {},
     "output_type": "display_data"
    }
   ],
   "source": [
    "\n",
    "\n",
    "df_death_aaL['Size'] = 100\n",
    "\n",
    "\n",
    "# Define the order explicitly for Metabolite and Carbon source\n",
    "carbon_source_order = sorted(df_death_aaL['Carbon source'].unique())\n",
    "\n",
    "gray_colors = [ \"#171717\", \"#666666\", \"#cfcfcf\"]\n",
    "\n",
    "strip = sns.catplot(df_death_aaL, x = 'Explained fraction', hue = 'Protein depolymerization',\n",
    "                       col = 'Carbon source', y = 'Metabolite',\n",
    "                       log_scale=True,\n",
    "                       edgecolor = 'k', linewidth = 0.5, alpha = 0.8,\\\n",
    "                       s = 100,\n",
    "                       hue_order=['0%', '10%', '100%'],\n",
    "                       height=3, aspect=1.2,\n",
    "                       palette=gray_colors,\n",
    "                    #    figsize=(6, 3), \n",
    "                    #    order=aa_metabolite_order\n",
    "                       )\n",
    "strip.set_titles(col_template=\"{col_name}\", row_template=\"{row_name}\", size = 12)\n",
    "strip.set_axis_labels(\"\",\"\")\n",
    "strip.figure.supxlabel(\"Fraction of extracellular concentrations explained by release of \" \\\n",
    "\"intracellular concentrations lysed cells and depolymerization of their proteome\", size = 12)\n",
    "\n",
    "sns.despine()\n",
    "\n",
    "for ax in strip.axes.flat:\n",
    "    ax.axvline(x=1, color='k', ls='--', lw=2, alpha=0.5, zorder = 0)\n",
    "# yticks = np.arange(len(metabolite_order))\n",
    "# for i, y in enumerate(yticks):\n",
    "#     color = \"#ffffff\" if i % 2 == 0 else \"#eeeded\"\n",
    "#     strip.axes[0,0].axhspan(y - 0.5, y + 0.5, color=color, zorder=0)\n",
    "\n",
    "\n",
    "fig_fn = figure_folder / '2_paired_death_1_with_aa.pdf'\n",
    "plt.savefig(fig_fn, bbox_inches='tight')"
   ]
  },
  {
   "cell_type": "markdown",
   "id": "de5abad7",
   "metadata": {},
   "source": [
    "# Growth curves"
   ]
  },
  {
   "cell_type": "code",
   "execution_count": 129,
   "id": "b07d6d63",
   "metadata": {},
   "outputs": [],
   "source": [
    "df_od_timeseries = pd.read_csv(od_timeseries_fn, index_col=0, skiprows=0)"
   ]
  },
  {
   "cell_type": "code",
   "execution_count": 130,
   "id": "7a81662b",
   "metadata": {},
   "outputs": [
    {
     "data": {
      "text/html": [
       "<div>\n",
       "<style scoped>\n",
       "    .dataframe tbody tr th:only-of-type {\n",
       "        vertical-align: middle;\n",
       "    }\n",
       "\n",
       "    .dataframe tbody tr th {\n",
       "        vertical-align: top;\n",
       "    }\n",
       "\n",
       "    .dataframe thead th {\n",
       "        text-align: right;\n",
       "    }\n",
       "</style>\n",
       "<table border=\"1\" class=\"dataframe\">\n",
       "  <thead>\n",
       "    <tr style=\"text-align: right;\">\n",
       "      <th></th>\n",
       "      <th>Tube #</th>\n",
       "      <th>Parallell</th>\n",
       "      <th>Tube</th>\n",
       "      <th>Medium</th>\n",
       "      <th>0</th>\n",
       "      <th>2</th>\n",
       "      <th>4</th>\n",
       "      <th>9</th>\n",
       "      <th>10</th>\n",
       "      <th>11</th>\n",
       "      <th>...</th>\n",
       "      <th>17</th>\n",
       "      <th>18</th>\n",
       "      <th>22.5</th>\n",
       "      <th>29</th>\n",
       "      <th>32.5</th>\n",
       "      <th>34</th>\n",
       "      <th>36</th>\n",
       "      <th>37</th>\n",
       "      <th>40</th>\n",
       "      <th>43</th>\n",
       "    </tr>\n",
       "  </thead>\n",
       "  <tbody>\n",
       "    <tr>\n",
       "      <th>1</th>\n",
       "      <td>1</td>\n",
       "      <td>A</td>\n",
       "      <td>1A</td>\n",
       "      <td>M9 20 mM Galactose</td>\n",
       "      <td>0.014</td>\n",
       "      <td>0.034</td>\n",
       "      <td>0.059</td>\n",
       "      <td>0.403</td>\n",
       "      <td>0.558</td>\n",
       "      <td>0.710</td>\n",
       "      <td>...</td>\n",
       "      <td>1.579</td>\n",
       "      <td>1.669</td>\n",
       "      <td>1.706</td>\n",
       "      <td>1.729</td>\n",
       "      <td>1.714</td>\n",
       "      <td>1.635</td>\n",
       "      <td>NaN</td>\n",
       "      <td>1.685</td>\n",
       "      <td>1.689</td>\n",
       "      <td>1.647</td>\n",
       "    </tr>\n",
       "    <tr>\n",
       "      <th>2</th>\n",
       "      <td>1</td>\n",
       "      <td>B</td>\n",
       "      <td>1B</td>\n",
       "      <td>M9 20 mM Galactose</td>\n",
       "      <td>0.012</td>\n",
       "      <td>0.030</td>\n",
       "      <td>0.063</td>\n",
       "      <td>0.409</td>\n",
       "      <td>0.531</td>\n",
       "      <td>0.718</td>\n",
       "      <td>...</td>\n",
       "      <td>1.596</td>\n",
       "      <td>1.616</td>\n",
       "      <td>1.658</td>\n",
       "      <td>1.734</td>\n",
       "      <td>1.703</td>\n",
       "      <td>1.676</td>\n",
       "      <td>NaN</td>\n",
       "      <td>1.652</td>\n",
       "      <td>1.628</td>\n",
       "      <td>1.597</td>\n",
       "    </tr>\n",
       "    <tr>\n",
       "      <th>3</th>\n",
       "      <td>1</td>\n",
       "      <td>C</td>\n",
       "      <td>1C</td>\n",
       "      <td>M9 20 mM Galactose</td>\n",
       "      <td>0.013</td>\n",
       "      <td>0.032</td>\n",
       "      <td>0.065</td>\n",
       "      <td>0.394</td>\n",
       "      <td>0.606</td>\n",
       "      <td>0.775</td>\n",
       "      <td>...</td>\n",
       "      <td>1.608</td>\n",
       "      <td>1.629</td>\n",
       "      <td>1.669</td>\n",
       "      <td>1.735</td>\n",
       "      <td>1.708</td>\n",
       "      <td>1.703</td>\n",
       "      <td>NaN</td>\n",
       "      <td>1.665</td>\n",
       "      <td>1.641</td>\n",
       "      <td>1.616</td>\n",
       "    </tr>\n",
       "    <tr>\n",
       "      <th>4</th>\n",
       "      <td>1</td>\n",
       "      <td>D</td>\n",
       "      <td>1D</td>\n",
       "      <td>M9 20 mM Galactose</td>\n",
       "      <td>0.015</td>\n",
       "      <td>0.033</td>\n",
       "      <td>0.066</td>\n",
       "      <td>0.439</td>\n",
       "      <td>0.606</td>\n",
       "      <td>0.755</td>\n",
       "      <td>...</td>\n",
       "      <td>1.621</td>\n",
       "      <td>1.622</td>\n",
       "      <td>1.668</td>\n",
       "      <td>1.743</td>\n",
       "      <td>1.701</td>\n",
       "      <td>1.687</td>\n",
       "      <td>NaN</td>\n",
       "      <td>1.658</td>\n",
       "      <td>1.638</td>\n",
       "      <td>1.614</td>\n",
       "    </tr>\n",
       "    <tr>\n",
       "      <th>5</th>\n",
       "      <td>2</td>\n",
       "      <td>A</td>\n",
       "      <td>2A</td>\n",
       "      <td>M9 30 mM L-malic acid</td>\n",
       "      <td>0.010</td>\n",
       "      <td>0.022</td>\n",
       "      <td>0.043</td>\n",
       "      <td>0.299</td>\n",
       "      <td>0.436</td>\n",
       "      <td>0.578</td>\n",
       "      <td>...</td>\n",
       "      <td>1.555</td>\n",
       "      <td>1.633</td>\n",
       "      <td>1.794</td>\n",
       "      <td>1.701</td>\n",
       "      <td>1.681</td>\n",
       "      <td>1.658</td>\n",
       "      <td>NaN</td>\n",
       "      <td>1.631</td>\n",
       "      <td>1.619</td>\n",
       "      <td>1.592</td>\n",
       "    </tr>\n",
       "    <tr>\n",
       "      <th>6</th>\n",
       "      <td>2</td>\n",
       "      <td>B</td>\n",
       "      <td>2B</td>\n",
       "      <td>M9 30 mM L-malic acid</td>\n",
       "      <td>0.009</td>\n",
       "      <td>0.020</td>\n",
       "      <td>0.040</td>\n",
       "      <td>0.316</td>\n",
       "      <td>0.409</td>\n",
       "      <td>0.545</td>\n",
       "      <td>...</td>\n",
       "      <td>1.575</td>\n",
       "      <td>1.609</td>\n",
       "      <td>1.832</td>\n",
       "      <td>1.717</td>\n",
       "      <td>1.684</td>\n",
       "      <td>1.668</td>\n",
       "      <td>NaN</td>\n",
       "      <td>1.644</td>\n",
       "      <td>1.643</td>\n",
       "      <td>1.609</td>\n",
       "    </tr>\n",
       "    <tr>\n",
       "      <th>7</th>\n",
       "      <td>2</td>\n",
       "      <td>C</td>\n",
       "      <td>2C</td>\n",
       "      <td>M9 30 mM L-malic acid</td>\n",
       "      <td>0.012</td>\n",
       "      <td>0.020</td>\n",
       "      <td>0.042</td>\n",
       "      <td>0.305</td>\n",
       "      <td>0.449</td>\n",
       "      <td>0.583</td>\n",
       "      <td>...</td>\n",
       "      <td>1.567</td>\n",
       "      <td>1.622</td>\n",
       "      <td>1.832</td>\n",
       "      <td>1.727</td>\n",
       "      <td>1.706</td>\n",
       "      <td>1.670</td>\n",
       "      <td>NaN</td>\n",
       "      <td>1.606</td>\n",
       "      <td>1.639</td>\n",
       "      <td>1.618</td>\n",
       "    </tr>\n",
       "    <tr>\n",
       "      <th>8</th>\n",
       "      <td>2</td>\n",
       "      <td>D</td>\n",
       "      <td>2D</td>\n",
       "      <td>M9 30 mM L-malic acid</td>\n",
       "      <td>0.009</td>\n",
       "      <td>0.023</td>\n",
       "      <td>0.043</td>\n",
       "      <td>0.319</td>\n",
       "      <td>0.441</td>\n",
       "      <td>0.573</td>\n",
       "      <td>...</td>\n",
       "      <td>1.551</td>\n",
       "      <td>1.612</td>\n",
       "      <td>1.813</td>\n",
       "      <td>1.744</td>\n",
       "      <td>1.685</td>\n",
       "      <td>1.669</td>\n",
       "      <td>NaN</td>\n",
       "      <td>1.642</td>\n",
       "      <td>1.636</td>\n",
       "      <td>1.569</td>\n",
       "    </tr>\n",
       "    <tr>\n",
       "      <th>9</th>\n",
       "      <td>3</td>\n",
       "      <td>A</td>\n",
       "      <td>3A</td>\n",
       "      <td>M9 40 mM L-alanine</td>\n",
       "      <td>0.012</td>\n",
       "      <td>0.013</td>\n",
       "      <td>0.016</td>\n",
       "      <td>0.023</td>\n",
       "      <td>0.026</td>\n",
       "      <td>0.032</td>\n",
       "      <td>...</td>\n",
       "      <td>NaN</td>\n",
       "      <td>0.086</td>\n",
       "      <td>0.230</td>\n",
       "      <td>0.705</td>\n",
       "      <td>0.963</td>\n",
       "      <td>1.080</td>\n",
       "      <td>1.236</td>\n",
       "      <td>1.360</td>\n",
       "      <td>1.572</td>\n",
       "      <td>1.679</td>\n",
       "    </tr>\n",
       "    <tr>\n",
       "      <th>10</th>\n",
       "      <td>3</td>\n",
       "      <td>B</td>\n",
       "      <td>3B</td>\n",
       "      <td>M9 40 mM L-alanine</td>\n",
       "      <td>0.009</td>\n",
       "      <td>0.012</td>\n",
       "      <td>0.015</td>\n",
       "      <td>0.021</td>\n",
       "      <td>0.024</td>\n",
       "      <td>0.029</td>\n",
       "      <td>...</td>\n",
       "      <td>NaN</td>\n",
       "      <td>0.095</td>\n",
       "      <td>0.221</td>\n",
       "      <td>0.693</td>\n",
       "      <td>0.953</td>\n",
       "      <td>1.076</td>\n",
       "      <td>1.215</td>\n",
       "      <td>1.337</td>\n",
       "      <td>1.613</td>\n",
       "      <td>1.679</td>\n",
       "    </tr>\n",
       "    <tr>\n",
       "      <th>11</th>\n",
       "      <td>3</td>\n",
       "      <td>C</td>\n",
       "      <td>3C</td>\n",
       "      <td>M9 40 mM L-alanine</td>\n",
       "      <td>0.011</td>\n",
       "      <td>0.013</td>\n",
       "      <td>0.015</td>\n",
       "      <td>0.021</td>\n",
       "      <td>0.024</td>\n",
       "      <td>0.030</td>\n",
       "      <td>...</td>\n",
       "      <td>NaN</td>\n",
       "      <td>0.085</td>\n",
       "      <td>0.214</td>\n",
       "      <td>0.659</td>\n",
       "      <td>0.925</td>\n",
       "      <td>1.046</td>\n",
       "      <td>1.245</td>\n",
       "      <td>1.319</td>\n",
       "      <td>1.539</td>\n",
       "      <td>1.672</td>\n",
       "    </tr>\n",
       "    <tr>\n",
       "      <th>12</th>\n",
       "      <td>3</td>\n",
       "      <td>D</td>\n",
       "      <td>3D</td>\n",
       "      <td>M9 40 mM L-alanine</td>\n",
       "      <td>0.010</td>\n",
       "      <td>0.014</td>\n",
       "      <td>0.017</td>\n",
       "      <td>0.022</td>\n",
       "      <td>0.025</td>\n",
       "      <td>0.030</td>\n",
       "      <td>...</td>\n",
       "      <td>NaN</td>\n",
       "      <td>0.085</td>\n",
       "      <td>0.214</td>\n",
       "      <td>0.655</td>\n",
       "      <td>0.894</td>\n",
       "      <td>1.022</td>\n",
       "      <td>1.203</td>\n",
       "      <td>1.293</td>\n",
       "      <td>1.478</td>\n",
       "      <td>1.631</td>\n",
       "    </tr>\n",
       "  </tbody>\n",
       "</table>\n",
       "<p>12 rows × 25 columns</p>\n",
       "</div>"
      ],
      "text/plain": [
       "    Tube # Parallell Tube                 Medium      0      2      4      9  \\\n",
       "1        1         A   1A     M9 20 mM Galactose  0.014  0.034  0.059  0.403   \n",
       "2        1         B   1B     M9 20 mM Galactose  0.012  0.030  0.063  0.409   \n",
       "3        1         C   1C     M9 20 mM Galactose  0.013  0.032  0.065  0.394   \n",
       "4        1         D   1D     M9 20 mM Galactose  0.015  0.033  0.066  0.439   \n",
       "5        2         A   2A  M9 30 mM L-malic acid  0.010  0.022  0.043  0.299   \n",
       "6        2         B   2B  M9 30 mM L-malic acid  0.009  0.020  0.040  0.316   \n",
       "7        2         C   2C  M9 30 mM L-malic acid  0.012  0.020  0.042  0.305   \n",
       "8        2         D   2D  M9 30 mM L-malic acid  0.009  0.023  0.043  0.319   \n",
       "9        3         A   3A     M9 40 mM L-alanine  0.012  0.013  0.016  0.023   \n",
       "10       3         B   3B     M9 40 mM L-alanine  0.009  0.012  0.015  0.021   \n",
       "11       3         C   3C     M9 40 mM L-alanine  0.011  0.013  0.015  0.021   \n",
       "12       3         D   3D     M9 40 mM L-alanine  0.010  0.014  0.017  0.022   \n",
       "\n",
       "       10     11  ...     17     18   22.5     29   32.5     34     36     37  \\\n",
       "1   0.558  0.710  ...  1.579  1.669  1.706  1.729  1.714  1.635    NaN  1.685   \n",
       "2   0.531  0.718  ...  1.596  1.616  1.658  1.734  1.703  1.676    NaN  1.652   \n",
       "3   0.606  0.775  ...  1.608  1.629  1.669  1.735  1.708  1.703    NaN  1.665   \n",
       "4   0.606  0.755  ...  1.621  1.622  1.668  1.743  1.701  1.687    NaN  1.658   \n",
       "5   0.436  0.578  ...  1.555  1.633  1.794  1.701  1.681  1.658    NaN  1.631   \n",
       "6   0.409  0.545  ...  1.575  1.609  1.832  1.717  1.684  1.668    NaN  1.644   \n",
       "7   0.449  0.583  ...  1.567  1.622  1.832  1.727  1.706  1.670    NaN  1.606   \n",
       "8   0.441  0.573  ...  1.551  1.612  1.813  1.744  1.685  1.669    NaN  1.642   \n",
       "9   0.026  0.032  ...    NaN  0.086  0.230  0.705  0.963  1.080  1.236  1.360   \n",
       "10  0.024  0.029  ...    NaN  0.095  0.221  0.693  0.953  1.076  1.215  1.337   \n",
       "11  0.024  0.030  ...    NaN  0.085  0.214  0.659  0.925  1.046  1.245  1.319   \n",
       "12  0.025  0.030  ...    NaN  0.085  0.214  0.655  0.894  1.022  1.203  1.293   \n",
       "\n",
       "       40     43  \n",
       "1   1.689  1.647  \n",
       "2   1.628  1.597  \n",
       "3   1.641  1.616  \n",
       "4   1.638  1.614  \n",
       "5   1.619  1.592  \n",
       "6   1.643  1.609  \n",
       "7   1.639  1.618  \n",
       "8   1.636  1.569  \n",
       "9   1.572  1.679  \n",
       "10  1.613  1.679  \n",
       "11  1.539  1.672  \n",
       "12  1.478  1.631  \n",
       "\n",
       "[12 rows x 25 columns]"
      ]
     },
     "execution_count": 130,
     "metadata": {},
     "output_type": "execute_result"
    }
   ],
   "source": [
    "df_od_timeseries"
   ]
  },
  {
   "cell_type": "code",
   "execution_count": 131,
   "id": "47be4bfa",
   "metadata": {},
   "outputs": [],
   "source": [
    "df_odTL = df_od_timeseries.melt(id_vars=['Tube', 'Parallell', 'Medium'], value_vars = df_od_timeseries.columns[4:], var_name='Time [h]', value_name='OD600')\n",
    "df_odTL['Time [h]'] = df_odTL['Time [h]'].astype(float)\n",
    "\n",
    "medium_to_cs = {\n",
    "    'M9 20 mM Galactose': 'Galactose',\n",
    "    'M9 30 mM L-malic acid': 'L-malate',\n",
    "    'M9 40 mM L-alanine': 'L-alanine',\n",
    "}\n",
    "df_odTL['Carbon source'] = df_odTL['Medium'].map(medium_to_cs)"
   ]
  },
  {
   "cell_type": "code",
   "execution_count": 132,
   "id": "ccc9f004",
   "metadata": {},
   "outputs": [],
   "source": [
    "df_od['Carbon source'] = df_od['Full medium'].map(medium_to_cs)"
   ]
  },
  {
   "cell_type": "code",
   "execution_count": 133,
   "id": "0b169651",
   "metadata": {},
   "outputs": [],
   "source": [
    "df_od['Parallell'] = df_od['Tube label'].str[1]"
   ]
  },
  {
   "cell_type": "code",
   "execution_count": 141,
   "id": "7d1d7f58",
   "metadata": {},
   "outputs": [
    {
     "data": {
      "image/png": "[encoded data removed]",
      "text/plain": [
       "<Figure size 600x300 with 1 Axes>"
      ]
     },
     "metadata": {},
     "output_type": "display_data"
    }
   ],
   "source": [
    "fig, ax = plt.subplots(figsize=(6, 3))\n",
    "hue_order = ['Galactose', 'L-alanine', 'L-malate']\n",
    "ax = sns.lineplot(data = df_odTL, x = 'Time [h]', y = 'OD600', hue = 'Carbon source',# style = 'Replicate',\n",
    "                   palette = 'tab10', markers=True, units='Parallell', estimator=None, legend=True, hue_order=hue_order, alpha = 0.8)# marker = 'o')\n",
    "# sns.move_legend(ax, loc = 'upper left', bbox_to_anchor=(1, 1), title = 'Strain', fontsize = 10)\n",
    "for i, cs in enumerate(hue_order):\n",
    "    for replicate in 'ABC':\n",
    "        for timepoint in [1,4]:\n",
    "            idx = (df_od['Carbon source'] == cs) & (df_od.Parallell == replicate) & (df_od.Timepoint == timepoint)\n",
    "            time = df_od.loc[idx, 'Hours after inoculation'].values[0]\n",
    "            od = df_od.loc[idx, 'OD at sampling'].values[0]\n",
    "            ax.scatter(\n",
    "                x = time,\n",
    "                y = od,\n",
    "                color = 'w',\n",
    "                marker = 'o',\n",
    "                s = 50,\n",
    "                edgecolor = f'C{i}',\n",
    "                linewidth = 2,\n",
    "                zorder = 100,\n",
    "                alpha = 0.8\n",
    "\n",
    "                # label = f'{strain} {replicate}',\n",
    "            )\n",
    "\n",
    "# plt.yscale('log')\n",
    "sns.despine()\n",
    "ax.set_ylim(0)\n",
    "ax.set_xlim(0)\n",
    "\n",
    "plt.savefig(figure_folder / 'paired_death_timeseries.png', bbox_inches='tight', dpi=300)"
   ]
  },
  {
   "cell_type": "markdown",
   "id": "218283f1",
   "metadata": {},
   "source": [
    "# Extra plots below"
   ]
  },
  {
   "cell_type": "code",
   "execution_count": null,
   "id": "b0ea46a6",
   "metadata": {},
   "outputs": [
    {
     "data": {
      "text/plain": [
       "[10, 20, 30, 40]"
      ]
     },
     "execution_count": 40,
     "metadata": {},
     "output_type": "execute_result"
    }
   ],
   "source": [
    "size_legend_size"
   ]
  },
  {
   "cell_type": "code",
   "execution_count": null,
   "id": "8430523c-d4b1-4bfa-a992-9def9bff4898",
   "metadata": {
    "execution": {
     "iopub.execute_input": "2025-03-03T23:38:48.682767Z",
     "iopub.status.busy": "2025-03-03T23:38:48.680961Z",
     "iopub.status.idle": "2025-03-03T23:38:49.351459Z",
     "shell.execute_reply": "2025-03-03T23:38:49.351151Z",
     "shell.execute_reply.started": "2025-03-03T23:38:48.682701Z"
    }
   },
   "outputs": [
    {
     "data": {
      "image/png": "[encoded data removed]",
      "text/plain": [
       "<Figure size 911.111x300 with 3 Axes>"
      ]
     },
     "metadata": {},
     "output_type": "display_data"
    }
   ],
   "source": [
    "g = sns.catplot(df_death, x = 'Fraction explained', col = 'Carbon source', y = 'Metabolite', fill = False,gap=.1, kind ='box', height=3)\n",
    "g.map_dataframe(sns.stripplot, data = df_death, x = 'Fraction explained', y = 'Metabolite', dodge=True)\n",
    "for ax in g.axes[0]:\n",
    "    ax.set_xscale('log')\n",
    "sns.despine()\n",
    "fig_fn = figure_folder / '2_paired_death_3.pdf'\n",
    "plt.savefig(fig_fn)"
   ]
  },
  {
   "cell_type": "code",
   "execution_count": null,
   "id": "f46b4a68-84ee-4208-9e25-cef93099b21c",
   "metadata": {
    "execution": {
     "iopub.execute_input": "2025-03-07T15:44:38.694112Z",
     "iopub.status.busy": "2025-03-07T15:44:38.693453Z",
     "iopub.status.idle": "2025-03-07T15:44:38.959859Z",
     "shell.execute_reply": "2025-03-07T15:44:38.959564Z",
     "shell.execute_reply.started": "2025-03-07T15:44:38.694082Z"
    }
   },
   "outputs": [
    {
     "data": {
      "image/png": "[encoded data removed]",
      "text/plain": [
       "<Figure size 640x480 with 1 Axes>"
      ]
     },
     "metadata": {},
     "output_type": "display_data"
    }
   ],
   "source": [
    "import matplotlib.pyplot as plt\n",
    "\n",
    "# Create the scatterplot\n",
    "ax = sns.scatterplot(\n",
    "    data=df_death,\n",
    "    x='Fraction explained',\n",
    "    y='Δ concentration [uM]',\n",
    "    hue='Metabolite',\n",
    "    style='Carbon source',\n",
    "    s=100\n",
    ")\n",
    "\n",
    "# Get the handles and labels for hue and style\n",
    "hue_handles, hue_labels = ax.get_legend_handles_labels()\n",
    "style_handles = [h for h, l in zip(hue_handles, hue_labels) if l in df_death['Carbon source'].unique()]\n",
    "hue_handles = [h for h, l in zip(hue_handles, hue_labels) if l in df_death['Metabolite'].unique()]\n",
    "\n",
    "# Create separate legends for hue and style\n",
    "hue_legend = ax.legend(\n",
    "    handles=hue_handles,\n",
    "    labels=[x for x in df_death['Metabolite'].unique()],\n",
    "    title=\"Metabolite\",\n",
    "    loc=\"lower left\",\n",
    "    bbox_to_anchor=(0.01, 0.01),\n",
    "    frameon=True\n",
    ")\n",
    "\n",
    "style_legend = ax.legend(\n",
    "    handles=style_handles,\n",
    "    labels=[x for x in df_death['Carbon source'].unique()],\n",
    "    title=\"Carbon source\",\n",
    "    loc=\"lower left\",\n",
    "    bbox_to_anchor=(0.4, 0.01),\n",
    "    frameon=False\n",
    ")\n",
    "\n",
    "# Add the legends to the plot\n",
    "ax.add_artist(hue_legend)\n",
    "\n",
    "# Set log scales\n",
    "ax.set_yscale('log')\n",
    "ax.set_xscale('log')\n",
    "\n",
    "plt.tight_layout()\n",
    "plt.show()"
   ]
  },
  {
   "cell_type": "markdown",
   "id": "5648ad33-2192-48ad-b89f-4a9353ac2526",
   "metadata": {},
   "source": [
    "# Fraction explained if all cells are lysed"
   ]
  },
  {
   "cell_type": "code",
   "execution_count": null,
   "id": "d896a087-53ad-423e-8275-f2f1a14fed25",
   "metadata": {
    "execution": {
     "iopub.execute_input": "2025-03-06T13:28:04.125363Z",
     "iopub.status.busy": "2025-03-06T13:28:04.121263Z",
     "iopub.status.idle": "2025-03-06T13:28:04.146422Z",
     "shell.execute_reply": "2025-03-06T13:28:04.145047Z",
     "shell.execute_reply.started": "2025-03-06T13:28:04.125247Z"
    }
   },
   "outputs": [],
   "source": [
    "df_death['Fraction explained all cells lysed'] = df_death['Corresponding Ex. concentration [uM]']/df_death['Δ concentration [uM]']"
   ]
  },
  {
   "cell_type": "code",
   "execution_count": null,
   "id": "2a18fa7e-9f41-493e-95c3-ed9b7eeae8cc",
   "metadata": {
    "execution": {
     "iopub.execute_input": "2025-03-06T13:29:25.888686Z",
     "iopub.status.busy": "2025-03-06T13:29:25.888298Z",
     "iopub.status.idle": "2025-03-06T13:29:26.137981Z",
     "shell.execute_reply": "2025-03-06T13:29:26.137696Z",
     "shell.execute_reply.started": "2025-03-06T13:29:25.888662Z"
    }
   },
   "outputs": [
    {
     "data": {
      "image/png": "[encoded data removed]",
      "text/plain": [
       "<Figure size 400x300 with 1 Axes>"
      ]
     },
     "metadata": {},
     "output_type": "display_data"
    }
   ],
   "source": [
    "fig, ax = plt.subplots(1, figsize = (4,3))\n",
    "l = sns.boxplot(df_death, x = 'Fraction explained all cells lysed', hue = 'Carbon source', y = 'Metabolite', fill = False,gap=.1,\n",
    "                ax = ax, legend = None)\n",
    "sns.stripplot(df_death, x = 'Fraction explained all cells lysed', hue = 'Carbon source', y = 'Metabolite', dodge=True, ax = ax)\n",
    "ax.set_xscale('log')\n",
    "sns.despine()\n"
   ]
  }
 ],
 "metadata": {
  "kernelspec": {
   "display_name": "base",
   "language": "python",
   "name": "python3"
  },
  "language_info": {
   "codemirror_mode": {
    "name": "ipython",
    "version": 3
   },
   "file_extension": ".py",
   "mimetype": "text/x-python",
   "name": "python",
   "nbconvert_exporter": "python",
   "pygments_lexer": "ipython3",
   "version": "3.12.2"
  }
 },
 "nbformat": 4,
 "nbformat_minor": 5
}
