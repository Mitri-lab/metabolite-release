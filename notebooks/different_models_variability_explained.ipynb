{
 "cells": [
  {
   "cell_type": "code",
   "execution_count": 13,
   "id": "6dc45e93-a5ec-4353-9ebb-1966a5789ac0",
   "metadata": {
    "execution": {
     "iopub.execute_input": "2024-10-29T22:11:26.637694Z",
     "iopub.status.busy": "2024-10-29T22:11:26.637246Z",
     "iopub.status.idle": "2024-10-29T22:11:26.655910Z",
     "shell.execute_reply": "2024-10-29T22:11:26.655220Z",
     "shell.execute_reply.started": "2024-10-29T22:11:26.637647Z"
    }
   },
   "outputs": [],
   "source": [
    "import pandas as pd\n",
    "import numpy as np\n",
    "import matplotlib.pyplot as plt\n",
    "from pathlib import Path\n",
    "import sys\n",
    "sys.path.append('../code/')\n",
    "\n",
    "import seaborn as sns\n",
    "import reframed\n",
    "import leakage_reframed\n",
    "import leakage"
   ]
  },
  {
   "cell_type": "markdown",
   "id": "ca0e2ea6-a257-4dfe-9189-bbeb3a5db4f3",
   "metadata": {},
   "source": [
    "# Description\n",
    "The goal of this notebook is to see how much variability that is explained with different models used to predict the metabolite values"
   ]
  },
  {
   "cell_type": "code",
   "execution_count": 11,
   "id": "7fadcf06-b925-4232-b0cf-e12807fbe1e0",
   "metadata": {
    "execution": {
     "iopub.execute_input": "2024-10-29T22:10:01.978167Z",
     "iopub.status.busy": "2024-10-29T22:10:01.977247Z",
     "iopub.status.idle": "2024-10-29T22:10:01.987374Z",
     "shell.execute_reply": "2024-10-29T22:10:01.986877Z",
     "shell.execute_reply.started": "2024-10-29T22:10:01.978134Z"
    }
   },
   "outputs": [],
   "source": [
    "conditions = [\n",
    "    ('Glucose', 'E. coli'),\n",
    "    ('Glucose', 'B. licheniformis'),\n",
    "    ('Glucose', 'S. cerevisiae'),\n",
    "    ('Galactose', 'E. coli'),\n",
    "    ('L-alanine', 'E. coli'),\n",
    "    ('L-malate', 'E. coli')\n",
    "]\n",
    "uptake_rates = {\n",
    "    ('Glucose', 'E. coli'): -7.6,\n",
    "    ('Glucose', 'B. licheniformis'): -5.3,\n",
    "    ('Glucose', 'S. cerevisiae'): -8.4,\n",
    "    ('Galactose', 'E. coli'): -3.8,\n",
    "    ('L-alanine', 'E. coli'): -17.4,\n",
    "    ('L-malate', 'E. coli'): -17.5\n",
    "}\n",
    "\n",
    "model_fns = {\n",
    "    'E. coli': '../models/e_coli/momentiJO1366_modified.xml',\n",
    "    'S. cerevisiae': '../models/yeast/ecYeastGEM_batch_8_3_4_no_rev_ex.xml',\n",
    "    'B. licheniformis':'../models/b_licheniformis/iBsu1147_irr_enz_constraint_adj.xml'\n",
    "}\n",
    "\n",
    "cs_to_exchange = {\n",
    "    'E. coli': {\n",
    "        'Galactose': 'R_EX_gal_e',\n",
    "        'L-malate': 'R_EX_mal__L_e',\n",
    "        'L-alanine': 'R_EX_ala__L_e',\n",
    "        'Glucose': 'R_EX_glc__D_e'},\n",
    "    'S. cerevisiae': {'Glucose': 'R_r_1714',\n",
    "                      'Galactose': 'R_r_1710',\n",
    "                      'L-alanine': 'R_r_1873',\n",
    "                      'L-malate': 'r_1552_REV'},\n",
    "    'B. licheniformis': {\n",
    "        'Galactose': 'EX_gal_e',\n",
    "        'L-malate': 'EX_mal__L_e',\n",
    "        'L-alanine': 'EX_ala__L_e',\n",
    "        'Glucose': 'EX_glc__D_e'},\n",
    "    }"
   ]
  },
  {
   "cell_type": "code",
   "execution_count": null,
   "id": "02c86059-f533-4b83-b584-d20fea0dc630",
   "metadata": {},
   "outputs": [],
   "source": [
    "shadow_prices = leakage_reframed.estimate_shadow_prices(model_ez, constraints={'R_r_1714':(glucose_uptake, 0)},\n",
    "                                                        metabolites = measured_metabolites)"
   ]
  },
  {
   "cell_type": "code",
   "execution_count": 10,
   "id": "9d430815-f0c8-42e8-bb4b-8cfee2e1ac54",
   "metadata": {
    "execution": {
     "iopub.execute_input": "2024-10-29T22:02:39.340675Z",
     "iopub.status.busy": "2024-10-29T22:02:39.340185Z",
     "iopub.status.idle": "2024-10-29T22:02:43.762673Z",
     "shell.execute_reply": "2024-10-29T22:02:43.762225Z",
     "shell.execute_reply.started": "2024-10-29T22:02:39.340644Z"
    }
   },
   "outputs": [
    {
     "name": "stdout",
     "output_type": "stream",
     "text": [
      "Glucose E. coli\n"
     ]
    }
   ],
   "source": [
    "for (cs, species) in conditions:\n",
    "    print(cs, species)\n",
    "    model_fn = model_fns[species]\n",
    "    model = reframed.load_cbmodel(model_fn)\n",
    "    ex_id = cs_to_exchange[species][cs]\n",
    "    \n",
    "    break"
   ]
  }
 ],
 "metadata": {
  "kernelspec": {
   "display_name": "Python 3 (ipykernel)",
   "language": "python",
   "name": "python3"
  },
  "language_info": {
   "codemirror_mode": {
    "name": "ipython",
    "version": 3
   },
   "file_extension": ".py",
   "mimetype": "text/x-python",
   "name": "python",
   "nbconvert_exporter": "python",
   "pygments_lexer": "ipython3",
   "version": "3.12.6"
  }
 },
 "nbformat": 4,
 "nbformat_minor": 5
}
