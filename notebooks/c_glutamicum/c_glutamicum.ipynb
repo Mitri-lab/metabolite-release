{
 "cells": [
  {
   "cell_type": "code",
   "execution_count": 74,
   "id": "ca311fb3-8dbe-41e9-8497-151053d63496",
   "metadata": {},
   "outputs": [],
   "source": [
    "import cobra\n",
    "import numpy as np\n",
    "from matplotlib import pyplot as plt\n",
    "import pandas as pd \n",
    "import json\n",
    "import re\n",
    "import scipy.stats as st"
   ]
  },
  {
   "cell_type": "code",
   "execution_count": 5,
   "id": "bfda5e5e-9b10-4c5b-a3ee-cade4e2ba624",
   "metadata": {},
   "outputs": [],
   "source": [
    "from ECMpy_function import *"
   ]
  },
  {
   "cell_type": "code",
   "execution_count": 6,
   "id": "a87647c6-f0da-4778-ae52-967c5ad281fe",
   "metadata": {},
   "outputs": [
    {
     "data": {
      "text/plain": [
       "'0.26.2'"
      ]
     },
     "execution_count": 6,
     "metadata": {},
     "output_type": "execute_result"
    }
   ],
   "source": [
    "cobra.__version__"
   ]
  },
  {
   "cell_type": "markdown",
   "id": "e4101e35-30be-4526-8837-d44cf1f926e0",
   "metadata": {},
   "source": [
    "# Create sMOMENT model from ECMpy style ec-model"
   ]
  },
  {
   "cell_type": "code",
   "execution_count": 43,
   "id": "2bc22c3c-af1b-4aa5-86cf-ce1c77ea3cbb",
   "metadata": {},
   "outputs": [],
   "source": [
    "def convert_ECMpy_to_sMOMENT(json_model_file, output_filename):\n",
    "    \"\"\"using enzyme concentration constraint\n",
    "    json model to create a COBRApy model in sMOMENT style.\n",
    "    Modified from get_enzyme_constraint_model in ECMpy\n",
    "\n",
    "    Arguments\n",
    "    ----------\n",
    "    * json_model_file: json Model file.\n",
    "    * output_filename: Path to sMOMENT sbml file\n",
    "\n",
    "    :return: Enzyme-constrained model in sMOMENT style.\n",
    "    \"\"\"\n",
    "\n",
    "    dictionary_model = json_load(json_model_file)\n",
    "    model = cobra.io.json.load_json_model(json_model_file)\n",
    "\n",
    "    prot_pool = cobra.Metabolite(id = \"prot_pool\", name = \"Pseudo-metabolite representing the preotein pool\", \n",
    "                                 compartment = \"c\", charge = 0)\n",
    "    for rxn in model.reactions:\n",
    "        for eachr in dictionary_model['reactions']:\n",
    "            if rxn.id == eachr['id']:\n",
    "                if eachr['kcat_MW']:\n",
    "                    coefficient = -1/float(eachr['kcat_MW'])\n",
    "                    rxn.add_metabolites({prot_pool: coefficient})\n",
    "                break\n",
    "    # Add pool reaction\n",
    "    lowerbound = dictionary_model['enzyme_constraint']['lowerbound']\n",
    "    upperbound = dictionary_model['enzyme_constraint']['upperbound']\n",
    "    prot_exchange = cobra.Reaction(id = \"prot_pool_reaction\", name = \"prot_pool reaction for unmeasured proteins\",\n",
    "                                   lower_bound  = lowerbound, upper_bound=upperbound)\n",
    "    prot_exchange.add_metabolites({prot_pool:1})\n",
    "    model.add_reactions([prot_exchange])\n",
    "    \n",
    "    model.solver.update()\n",
    "    model.id = \"ecCGL1_sMOMENT_style\"\n",
    "    cobra.io.write_sbml_model(model, output_filename)\n",
    "    return model"
   ]
  },
  {
   "cell_type": "code",
   "execution_count": 44,
   "id": "38d98bd7-c362-4ee0-93a0-9486e45dedd7",
   "metadata": {},
   "outputs": [],
   "source": [
    "ecmodel_fn = 'models/c_glutamicum/smoment_iCW773.xml'\n",
    "ecmodel = convert_ECMpy_to_sMOMENT('models/c_glutamicum/ecCGL1/iCW773_irr_enz_constraint_adj_PDH.json', ecmodel_fn)"
   ]
  },
  {
   "cell_type": "code",
   "execution_count": null,
   "id": "b0b21ddb-a2a7-4251-9070-a850681bbfc3",
   "metadata": {},
   "outputs": [],
   "source": [
    "solution = ecmodel.optimize()\n",
    "ecmodel.summary()"
   ]
  },
  {
   "cell_type": "code",
   "execution_count": 39,
   "id": "a76e25f9-4758-4bad-aadb-a7edc2d7d10d",
   "metadata": {},
   "outputs": [],
   "source": [
    "ecmodel.reactions.EX_glc_e_reverse.bounds = (0, 5.05)"
   ]
  },
  {
   "cell_type": "code",
   "execution_count": null,
   "id": "fb892379-6949-4471-b754-51218641a468",
   "metadata": {},
   "outputs": [],
   "source": [
    "ecmodel.optimize()\n",
    "print(ecmodel.summary())"
   ]
  },
  {
   "cell_type": "markdown",
   "id": "cdf520b9-9c32-4813-b8e5-366a24d0dc14",
   "metadata": {},
   "source": [
    "## Load and run model in ECMpy to verify that results are identical"
   ]
  },
  {
   "cell_type": "code",
   "execution_count": null,
   "id": "95d795b1-fde1-45df-96db-33d5c95489e9",
   "metadata": {},
   "outputs": [],
   "source": [
    "ecModel_final_output_file = 'models/c_glutamicum/ecCGL1/iCW773_irr_enz_constraint_adj_PDH.json'\n",
    "obj='CG_biomass_cgl_ATCC13032'\n",
    "use_substrate='EX_glc_e'\n",
    "enz_model=get_enzyme_constraint_model(ecModel_final_output_file)\n",
    "\n",
    "enz_model.objective=obj\n",
    "#Using only the provided substrate\n",
    "[ori_obj_id,ori_substrate_id_list,ori_sub_concentration,ori_ATPM]=get_model_substrate_obj(enz_model)\n",
    "for eachsubid in ori_substrate_id_list:\n",
    "    if re.search('_reverse',eachsubid):\n",
    "        r_id_new=eachsubid.split('_reverse')[0]\n",
    "        enz_model.reactions.get_by_id(eachsubid).bounds = (0, 0) \n",
    "        enz_model.reactions.get_by_id(r_id_new).bounds = (0, 0)  \n",
    "    else:\n",
    "        r_id_new=eachsubid+'_reverse'\n",
    "        enz_model.reactions.get_by_id(eachsubid).bounds = (0, 0) \n",
    "        enz_model.reactions.get_by_id(r_id_new).bounds = (0, 0) \n",
    "        \n",
    "enz_model.reactions.get_by_id(use_substrate).bounds = (-5.05, 0)\n",
    "enz_model.reactions.get_by_id(use_substrate+'_reverse').bounds = (0, 0)\n",
    "\n",
    "enz_model_pfba_solution = cobra.flux_analysis.pfba(enz_model)\n",
    "enz_model_pfba_solution = get_fluxes_detail_in_model(enz_model,enz_model_pfba_solution,fluxes_final_outfile,ecModel_final_output_file)\n",
    "print(enz_model_pfba_solution.fluxes[obj])"
   ]
  },
  {
   "cell_type": "code",
   "execution_count": null,
   "id": "fed3f89e-cfda-4b88-8255-bcca6e034f97",
   "metadata": {},
   "outputs": [],
   "source": [
    "enz_model.optimize()\n",
    "enz_model.summary()"
   ]
  },
  {
   "cell_type": "markdown",
   "id": "dd6c4bf8-9cf8-4391-b9aa-53ab9deefcf6",
   "metadata": {},
   "source": [
    "# Analyses"
   ]
  },
  {
   "cell_type": "code",
   "execution_count": 45,
   "id": "51043f76-feee-4700-8057-9717411d1a17",
   "metadata": {},
   "outputs": [],
   "source": [
    "# Load sMOMENT model\n",
    "model = cobra.io.read_sbml_model('models/c_glutamicum/smoment_iCW773.xml')"
   ]
  },
  {
   "cell_type": "code",
   "execution_count": null,
   "id": "ddd7b72a-434b-4317-833e-f27cdd1f724e",
   "metadata": {},
   "outputs": [],
   "source": [
    "for r in model.exchanges:\n",
    "    print(r, r.bounds)"
   ]
  },
  {
   "cell_type": "markdown",
   "id": "a668da15-504f-4fa8-9e62-ff7f08c446fb",
   "metadata": {},
   "source": [
    "# Check shadow prices"
   ]
  },
  {
   "cell_type": "code",
   "execution_count": 85,
   "id": "15d9aeee-c381-4226-a318-992727ab7202",
   "metadata": {},
   "outputs": [],
   "source": [
    "# Set glucose uptake\n",
    "glucose_uptake = 4\n",
    "model.reactions.EX_glc_e_reverse.bounds = (0, glucose_uptake)"
   ]
  },
  {
   "cell_type": "code",
   "execution_count": 86,
   "id": "e5a82014-6073-4c6f-b8e8-e63d0e21adf8",
   "metadata": {},
   "outputs": [],
   "source": [
    "solution = model.optimize()\n"
   ]
  },
  {
   "cell_type": "code",
   "execution_count": 87,
   "id": "fe6c24e3-8679-41c3-bb69-36bb3d0f6119",
   "metadata": {},
   "outputs": [],
   "source": [
    "# Read measurements\n",
    "measurements = pd.read_csv('c_glutamicum_measurements.csv')\n",
    "#measurements.drop(columns = [\"Note\"], inplace = True)\n",
    "# Read metabolite mapping\n",
    "mapping_df = pd.read_csv('id_mapping.csv')"
   ]
  },
  {
   "cell_type": "code",
   "execution_count": 88,
   "id": "fd1a6ac9-a46e-4aff-b2e2-61c03f43e584",
   "metadata": {},
   "outputs": [],
   "source": [
    "met_id_key = \"Metabolite id\"\n",
    "name_to_met_id = mapping_df.loc[:, [\"Metabolite name\", met_id_key]].set_index(\"Metabolite name\").to_dict()[met_id_key]"
   ]
  },
  {
   "cell_type": "code",
   "execution_count": 89,
   "id": "3d8b30b3-607d-469f-9ab2-4ea71be39c4b",
   "metadata": {},
   "outputs": [
    {
     "name": "stdout",
     "output_type": "stream",
     "text": [
      "nan\n",
      "nan\n",
      "nan\n"
     ]
    }
   ],
   "source": [
    "solution = model.optimize()\n",
    "shadow_prices = []\n",
    "for i, row in measurements.iterrows():\n",
    "    key = name_to_met_id[row[\"Metabolite\"]]\n",
    "    try:\n",
    "        keys = key.split(\",\")\n",
    "    except:\n",
    "        print(key)\n",
    "        shadow_prices.append(np.nan)\n",
    "        continue\n",
    "    values = []\n",
    "    for key in keys:\n",
    "        met_id = \"{0}_c\".format(key.strip())\n",
    "        try:\n",
    "            values.append(solution.shadow_prices[met_id])\n",
    "        except KeyError:\n",
    "            pass\n",
    "    shadow_prices.append(max(values))"
   ]
  },
  {
   "cell_type": "code",
   "execution_count": 102,
   "id": "d379c3af-10ed-40a4-a485-32e39cea9d66",
   "metadata": {},
   "outputs": [],
   "source": [
    "df = measurements.copy()\n",
    "df[\"Shadow price\"] = np.abs(shadow_prices)\n",
    "df = df.loc[~df.isna().any(axis = 1), :]\n",
    "df = df.loc[df.Value != 0, :]\n",
    "df = df.loc[df[\"Shadow price\"] != 0, :]\n",
    "#df = df.loc[df[\"Metabolite\"] != \"Methionine\"]\n",
    "df = df.loc[df[\"Metabolite\"] != \"Lysine\"]"
   ]
  },
  {
   "cell_type": "code",
   "execution_count": 96,
   "id": "30727aa8-9773-47b4-808f-6116adcd9597",
   "metadata": {},
   "outputs": [
    {
     "data": {
      "text/html": [
       "<div>\n",
       "<style scoped>\n",
       "    .dataframe tbody tr th:only-of-type {\n",
       "        vertical-align: middle;\n",
       "    }\n",
       "\n",
       "    .dataframe tbody tr th {\n",
       "        vertical-align: top;\n",
       "    }\n",
       "\n",
       "    .dataframe thead th {\n",
       "        text-align: right;\n",
       "    }\n",
       "</style>\n",
       "<table border=\"1\" class=\"dataframe\">\n",
       "  <thead>\n",
       "    <tr style=\"text-align: right;\">\n",
       "      <th></th>\n",
       "      <th>Metabolite</th>\n",
       "      <th>Value</th>\n",
       "      <th>Uncertainty</th>\n",
       "      <th>Shadow price</th>\n",
       "    </tr>\n",
       "  </thead>\n",
       "  <tbody>\n",
       "    <tr>\n",
       "      <th>0</th>\n",
       "      <td>Glucose-6-phosphate</td>\n",
       "      <td>10.16</td>\n",
       "      <td>0.74</td>\n",
       "      <td>0.097845</td>\n",
       "    </tr>\n",
       "    <tr>\n",
       "      <th>1</th>\n",
       "      <td>Fructose-6-phosphate</td>\n",
       "      <td>3.84</td>\n",
       "      <td>0.22</td>\n",
       "      <td>0.097845</td>\n",
       "    </tr>\n",
       "    <tr>\n",
       "      <th>2</th>\n",
       "      <td>Fructose-1,6-bisphosphate</td>\n",
       "      <td>3.36</td>\n",
       "      <td>0.07</td>\n",
       "      <td>0.102689</td>\n",
       "    </tr>\n",
       "    <tr>\n",
       "      <th>3</th>\n",
       "      <td>Dihydroxyacetonephosphate</td>\n",
       "      <td>8.67</td>\n",
       "      <td>0.10</td>\n",
       "      <td>0.051344</td>\n",
       "    </tr>\n",
       "    <tr>\n",
       "      <th>4</th>\n",
       "      <td>Glyceraldehyde-3-phosphate</td>\n",
       "      <td>0.56</td>\n",
       "      <td>0.01</td>\n",
       "      <td>0.051344</td>\n",
       "    </tr>\n",
       "    <tr>\n",
       "      <th>5</th>\n",
       "      <td>2/3-phosphoglycerate</td>\n",
       "      <td>12.17</td>\n",
       "      <td>1.07</td>\n",
       "      <td>0.041657</td>\n",
       "    </tr>\n",
       "    <tr>\n",
       "      <th>9</th>\n",
       "      <td>Ribose-5-phosphate</td>\n",
       "      <td>0.61</td>\n",
       "      <td>0.03</td>\n",
       "      <td>0.082345</td>\n",
       "    </tr>\n",
       "    <tr>\n",
       "      <th>10</th>\n",
       "      <td>Ribu-/Xylulose-5-phosphate</td>\n",
       "      <td>0.58</td>\n",
       "      <td>0.05</td>\n",
       "      <td>0.082345</td>\n",
       "    </tr>\n",
       "    <tr>\n",
       "      <th>11</th>\n",
       "      <td>Erythrose-4-phosphate</td>\n",
       "      <td>2.47</td>\n",
       "      <td>1.14</td>\n",
       "      <td>0.066844</td>\n",
       "    </tr>\n",
       "    <tr>\n",
       "      <th>26</th>\n",
       "      <td>Alanine</td>\n",
       "      <td>64.80</td>\n",
       "      <td>4.21</td>\n",
       "      <td>0.044563</td>\n",
       "    </tr>\n",
       "    <tr>\n",
       "      <th>28</th>\n",
       "      <td>Valine</td>\n",
       "      <td>56.00</td>\n",
       "      <td>6.66</td>\n",
       "      <td>0.088157</td>\n",
       "    </tr>\n",
       "    <tr>\n",
       "      <th>29</th>\n",
       "      <td>Aspartate</td>\n",
       "      <td>28.73</td>\n",
       "      <td>0.32</td>\n",
       "      <td>0.049407</td>\n",
       "    </tr>\n",
       "    <tr>\n",
       "      <th>30</th>\n",
       "      <td>Homoserine</td>\n",
       "      <td>46.61</td>\n",
       "      <td>0.80</td>\n",
       "      <td>0.067813</td>\n",
       "    </tr>\n",
       "    <tr>\n",
       "      <th>32</th>\n",
       "      <td>Methionine</td>\n",
       "      <td>26.67</td>\n",
       "      <td>0.75</td>\n",
       "      <td>0.069751</td>\n",
       "    </tr>\n",
       "    <tr>\n",
       "      <th>33</th>\n",
       "      <td>Lysine</td>\n",
       "      <td>5957.00</td>\n",
       "      <td>80.00</td>\n",
       "      <td>0.111407</td>\n",
       "    </tr>\n",
       "    <tr>\n",
       "      <th>35</th>\n",
       "      <td>Tyrosine</td>\n",
       "      <td>8.21</td>\n",
       "      <td>0.36</td>\n",
       "      <td>0.158877</td>\n",
       "    </tr>\n",
       "    <tr>\n",
       "      <th>37</th>\n",
       "      <td>Glutamate</td>\n",
       "      <td>180.10</td>\n",
       "      <td>0.90</td>\n",
       "      <td>0.070720</td>\n",
       "    </tr>\n",
       "    <tr>\n",
       "      <th>39</th>\n",
       "      <td>Proline</td>\n",
       "      <td>34.69</td>\n",
       "      <td>1.75</td>\n",
       "      <td>0.089126</td>\n",
       "    </tr>\n",
       "    <tr>\n",
       "      <th>40</th>\n",
       "      <td>Serine</td>\n",
       "      <td>24.27</td>\n",
       "      <td>1.22</td>\n",
       "      <td>0.041657</td>\n",
       "    </tr>\n",
       "    <tr>\n",
       "      <th>41</th>\n",
       "      <td>Glycine</td>\n",
       "      <td>698.40</td>\n",
       "      <td>60.20</td>\n",
       "      <td>0.099782</td>\n",
       "    </tr>\n",
       "    <tr>\n",
       "      <th>42</th>\n",
       "      <td>Arginine</td>\n",
       "      <td>35.47</td>\n",
       "      <td>1.43</td>\n",
       "      <td>0.099782</td>\n",
       "    </tr>\n",
       "  </tbody>\n",
       "</table>\n",
       "</div>"
      ],
      "text/plain": [
       "                    Metabolite    Value  Uncertainty  Shadow price\n",
       "0          Glucose-6-phosphate    10.16         0.74      0.097845\n",
       "1         Fructose-6-phosphate     3.84         0.22      0.097845\n",
       "2    Fructose-1,6-bisphosphate     3.36         0.07      0.102689\n",
       "3    Dihydroxyacetonephosphate     8.67         0.10      0.051344\n",
       "4   Glyceraldehyde-3-phosphate     0.56         0.01      0.051344\n",
       "5         2/3-phosphoglycerate    12.17         1.07      0.041657\n",
       "9           Ribose-5-phosphate     0.61         0.03      0.082345\n",
       "10  Ribu-/Xylulose-5-phosphate     0.58         0.05      0.082345\n",
       "11       Erythrose-4-phosphate     2.47         1.14      0.066844\n",
       "26                     Alanine    64.80         4.21      0.044563\n",
       "28                      Valine    56.00         6.66      0.088157\n",
       "29                   Aspartate    28.73         0.32      0.049407\n",
       "30                  Homoserine    46.61         0.80      0.067813\n",
       "32                  Methionine    26.67         0.75      0.069751\n",
       "33                      Lysine  5957.00        80.00      0.111407\n",
       "35                    Tyrosine     8.21         0.36      0.158877\n",
       "37                   Glutamate   180.10         0.90      0.070720\n",
       "39                     Proline    34.69         1.75      0.089126\n",
       "40                      Serine    24.27         1.22      0.041657\n",
       "41                     Glycine   698.40        60.20      0.099782\n",
       "42                    Arginine    35.47         1.43      0.099782"
      ]
     },
     "execution_count": 96,
     "metadata": {},
     "output_type": "execute_result"
    }
   ],
   "source": [
    "df"
   ]
  },
  {
   "cell_type": "code",
   "execution_count": 103,
   "id": "135023dd-a087-451a-82c1-d29ec6878aa8",
   "metadata": {},
   "outputs": [
    {
     "name": "stdout",
     "output_type": "stream",
     "text": [
      "-0.007524456607127134 0.9748836160869537\n"
     ]
    }
   ],
   "source": [
    "corrp = st.spearmanr(np.log10(df[\"Value\"]), np.log10(df[\"Shadow price\"]))\n",
    "print(corrp[0], corrp[1])"
   ]
  },
  {
   "cell_type": "code",
   "execution_count": 104,
   "id": "5d56290d-4e7d-45d5-8d5b-4c5bfc7e64af",
   "metadata": {},
   "outputs": [
    {
     "name": "stdout",
     "output_type": "stream",
     "text": [
      "-0.014767511638061035 0.9507277562134541\n"
     ]
    }
   ],
   "source": [
    "corrp = st.pearsonr(np.log10(df[\"Value\"]), np.log10(df[\"Shadow price\"]))\n",
    "print(corrp[0], corrp[1])"
   ]
  },
  {
   "cell_type": "code",
   "execution_count": 105,
   "id": "b3432862-7617-4fa2-b6a0-49a3f113fcc3",
   "metadata": {},
   "outputs": [],
   "source": [
    "df[\"log10(shadow price)\"] = np.log10(df[\"Shadow price\"])\n",
    "df[\"log10(metabolite concentration)\"] = np.log10(df.Value)"
   ]
  },
  {
   "cell_type": "code",
   "execution_count": 106,
   "id": "085d14a0-70f7-4774-9335-66a1a5cbedf9",
   "metadata": {},
   "outputs": [
    {
     "data": {
      "text/plain": [
       "Text(-2, -1.55, 'Pearson corr: -0.01, p-value: 0.951')"
      ]
     },
     "execution_count": 106,
     "metadata": {},
     "output_type": "execute_result"
    },
    {
     "data": {
      "image/png": "[encoded data removed]",
      "text/plain": [
       "<Figure size 1152x864 with 1 Axes>"
      ]
     },
     "metadata": {
      "needs_background": "light"
     },
     "output_type": "display_data"
    }
   ],
   "source": [
    "plt.rcParams.update({'font.size': 15})\n",
    "ax = df.plot.scatter(x = \"log10(metabolite concentration)\", y = \"log10(shadow price)\", figsize = (16, 12),\n",
    "                    fontsize = 15, s = 100)\n",
    "# Annotate each data point\n",
    "for i, txt in enumerate(df[\"Metabolite\"]):\n",
    "    ax.annotate(txt, (df[\"log10(metabolite concentration)\"].iat[i]+0.05, df[\"log10(shadow price)\"].iat[i]))\n",
    "\n",
    "plt.title(\"Glucose uptake: {0}\".format(glucose_uptake))\n",
    "#ax.plot(df[\"log10(metabolite concentration)\"], trendline_fun(df[\"log10(metabolite concentration)\"]))\n",
    "ax.annotate(\"Pearson corr: {0:.2f}, p-value: {1:.3f}\".format(corrp[0], corrp[1]), (-2, -1.55), fontsize = 15, c = 'r')\n",
    "#ax.annotate(\"Pearson corr: {0:.2f}, p-value: {1:.3f}\".format(corrp[0], corrp[1]), (-1.5, -2.5), fontsize = 15, c = 'r')\n",
    "#plt.savefig('results/yeast/shadow_price_vs_met_conc_glc{0}.svg'.format(glucose_uptake))\n",
    "#plt.savefig('results/yeast/shadow_price_vs_met_conc_glc{0}.png'.format(glucose_uptake))"
   ]
  },
  {
   "cell_type": "code",
   "execution_count": null,
   "id": "0e051088-ebe0-4f31-95ca-db0342191b1c",
   "metadata": {},
   "outputs": [],
   "source": []
  }
 ],
 "metadata": {
  "kernelspec": {
   "display_name": "Python 3 (ipykernel)",
   "language": "python",
   "name": "python3"
  },
  "language_info": {
   "codemirror_mode": {
    "name": "ipython",
    "version": 3
   },
   "file_extension": ".py",
   "mimetype": "text/x-python",
   "name": "python",
   "nbconvert_exporter": "python",
   "pygments_lexer": "ipython3",
   "version": "3.9.12"
  }
 },
 "nbformat": 4,
 "nbformat_minor": 5
}
