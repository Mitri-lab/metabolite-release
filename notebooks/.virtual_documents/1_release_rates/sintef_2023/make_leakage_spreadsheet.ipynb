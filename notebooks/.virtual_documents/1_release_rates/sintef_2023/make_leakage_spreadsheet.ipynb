import warnings
warnings.simplefilter(action='ignore', category=FutureWarning)
import pandas as pd
import numpy as np
import matplotlib.pyplot as plt
from pathlib import Path
import sys
import seaborn as sns
# import cobra
import scipy.stats as st
import scipy
sys.path.append('../../../code/python/')
import leakage_reframed
import utils
import reframed
from sklearn.metrics import auc








data_folder = '../../../data/this_project/1_e_coli_batch_cultures/'
folder = Path('')


fn = folder / 'SM_Quantitative_Results.xlsx'
mapping_fn = folder / 'met_to_bigg.csv'
od_fn = folder / '..' / 'REL-F-U37-23_OD_TV.xlsx'





mapping_dict = pd.read_csv(mapping_fn, index_col = 0).to_dict()['BiGG ID']


mapping_dict





od_df = pd.read_excel(od_fn, skiprows=2, nrows=21)
od_df.drop(index = 0, inplace=True)


rel_to_info = {
    'REL01': {'M': 'M1', 'CS': 'Galactose'},
    'REL02': {'M': 'M2', 'CS': 'Galactose'},
    'REL03': {'M': 'M3', 'CS': 'Galactose'},
    'REL04': {'M': 'M5', 'CS': 'L-malate'},
    'REL05': {'M': 'M6', 'CS': 'L-malate'},
    'REL06': {'M': 'M7', 'CS': 'L-malate'},
    'REL07': {'M': 'M9', 'CS': 'L-alanine'},
    'REL08': {'M': 'M10', 'CS': 'L-alanine'},
    'REL09': {'M': 'M11', 'CS': 'L-alanine'}
    }
M_to_rel = {dic['M']:rel for rel, dic in rel_to_info.items()}



od_df.rename(columns={'Unnamed: 0': 'Timestamp', 'Unnamed: 1': 'Time', 'Unnamed: 2': 'Hours'}, inplace=True)





gDW_per_OD = {
    'Galactose': 0.35, # gDW/L/OD,
    'L-malate':  0.28,
    'L-alanine': 0.3
}





gdw_df = pd.DataFrame()
gdw_df['Hours'] = od_df['Hours'].astype(float).round(2)


for rel, dic in rel_to_info.items():
    gdw_df[rel] = od_df[rel]*gDW_per_OD[dic['CS']]





gdw_df.plot(x = 'Hours')
plt.ylabel('gDW/L')
plt.xlabel('Hours')
# plt.xlim(0, 20)
plt.ylim(0,1.5)


# Gives basically exactly same results as scipy
data = []
for rel in rel_to_info.keys():
    for h in gdw_df['Hours'].unique():
        hidx = gdw_df.Hours <= h+0.5
        x = gdw_df.loc[hidx, 'Hours']
        y = gdw_df.loc[hidx, rel]
        nanidx = y.isna()
        if len(y)>1:
            auc_val = auc(x[~nanidx], y[~nanidx])
            data.append([rel, h, auc_val])
df_auc = pd.DataFrame(data, columns=['REL', 'Hours', 'AUC gDW/L'])





int_gdw_data = []
for rel in rel_to_info.keys():
    for h in gdw_df['Hours'][1:]:
        gdw = gdw_df[['Hours', rel]].copy()
        if (gdw['Hours']==h).sum() == 0:
            continue
        gdw.dropna(inplace=True)
        tidx = gdw.Hours < h+0.5
        int_gdw = scipy.integrate.simpson(gdw.loc[tidx, rel], gdw.loc[tidx, 'Hours'])
        int_gdw_data.append([rel, h, int_gdw])
int_gdw_df = pd.DataFrame(int_gdw_data, columns = ['REL', 'Hours', 'Integrated biomass'])
int_gdw_dict = int_gdw_df.set_index(['REL', 'Hours'])['Integrated biomass'].to_dict()


# sns.lineplot(data = df_auc, x = 'Hours', y = 'AUC gDW/L', hue = 'REL')



sns.lineplot(data = int_gdw_df, x = 'Hours', y = 'Integrated biomass', hue = 'REL')
# plt.xlim(0, 15)
# plt.ylim(0, 6)
plt.ylabel('AUC gDW/L')





df = pd.read_excel(fn, nrows=46)


df.columns = [x.rstrip(' ') for x in df.columns]


df.drop(index = 0, inplace=True)


data_columns = ['PHENYLALANINE', 'LEUCINE',
       'ISOLEUCINE', 'METHIONINE', 'GAMMA-AMINOBUTYRATE', 'PROLINE',
       'TYROSINE', 'VALINE', 'PIPECOLIC ACID', 'ALPHA-AMINOBUTYRATE',
       'BETA-ALANINE', 'ALANINE', 'CREATINE', 'ALPHA-AMINOADIPATE',
       'GLYCINE', 'GLUTAMINE', 'GLUTAMATE', 'SERINE', 'ASPARAGINE',
       'ASPARTATE', 'LYSINE', 'PYRUVATE', 'LACTATE',
       'HEXOSES including Glucose and Fructose', 'NAD',
       'SUCCINATE', 'MALATE', 'CIS-ACONITATE', 'CITRATE', 'ISOCITRATE',
       'TRANS-ACONITATE']
control_samples = ['\xa0 M9 Alanine_001', 'M9 Alanine_002', '\xa0\xa0 M9 Alanine_003',
       ' M9 Galactose_001', ' M9 Galactose_002', ' M9 Galactose_003',
       'M9 malate_001', 'M9 malate_002', 'M9 malate_003']


control_idx = df['USER CODE'].isin(control_samples)


df.rename(columns = {'Class 1':'Carbon source', 'Class 2':'Timepoint-tag'}, inplace=True)





df.drop(columns = ['SEBACOYL-L-CARNITINE (C10-DC)', 'DEOXYCARNITINE (DEOXY-C0)',
       'GLUTARYLCARNITINE (C5-DC)', 'GLUTARATE'], inplace=True)








df.loc[39, ['SUCCINATE', 'MALATE']] = np.nan
# df['MALATE'] = 'ND'
# Also errors with malate
# Galactose-T12_M1_4, Galactose-T8_M3, Galactose-T14_M2, Galactose-T14_M3, Galactose-T6_M2, Galactose-T12_M2, L-alanine-T18_M11, L-alanine-T18_M9

# FOr hexose
# L-alanine-T18_M11


df.tail()





dfl = df.loc[:,:].melt(id_vars=['Sample_ID', 'USER CODE', 'Carbon source', 'Timepoint-tag'], value_vars=data_columns, value_name='Concentration [uM]', var_name = 'Metabolite')


dfl['Hours'] = [int(x[1].split('-T')[-1]) if 'T' in x[1] else 0 for x in dfl['USER CODE'].str.split(' ') ]
dfl['Hours'].replace(9, 9.25, inplace=True)
dfl.replace('ND', np.nan, inplace=True)


control_idx_l = dfl.Hours == 0


dfl['Timepoint'] = dfl['Timepoint-tag'].str.strip('T').astype(int)


dfl['M'] = [x[-1] for x in dfl['USER CODE'].str.split(' ')]


dfl['Hours'].unique()


dfl_to_export = dfl.copy()





dfl_to_export.columns


gdw_df.to_csv('gDW.csv')


dfl_to_export['Bioreactor'] = dfl_to_export['M']
export_cols = ['Sample_ID', 'Carbon source', 'Metabolite', 'Concentration [uM]',
               'Hours', 'Timepoint', 'Bioreactor']

dfl_to_export[export_cols].to_csv('absolute_concentrations_sintef_snorre.csv')
int_gdw_df.to_csv('auc_gDW.csv')





control_df = df.loc[control_idx,:].copy()
# control_df.fillna(0, inplace = True)
control_df.replace('ND', np.nan, inplace=True)
medium_dict = control_df.groupby(by = 'Carbon source').mean(data_columns).to_dict(orient = 'index')



control_df = control_df[['Carbon source']+data_columns]





ax = sns.relplot(data = dfl.loc[dfl.Timepoint != 4,:], x = 'Timepoint', y = 'Concentration [uM]', hue = 'Carbon source', col = 'Metabolite', col_wrap=4, facet_kws={'sharey': False})
ax.map_dataframe(sns.lineplot, 'Timepoint', 'Concentration [uM]', hue = 'Carbon source', style = 'M')
plt.show()





data = []
plot = True
data_rate = []

for m in dfl.M.unique():
    for met in dfl.Metabolite.unique():
        
        idx = (dfl.M == m) & (dfl.Metabolite == met) & (dfl.Timepoint != 4) & ~control_idx_l
        dfi = dfl.loc[idx,['Concentration [uM]', 'Hours', 'Carbon source', 'Timepoint']].copy()
        dfi.sort_values('Hours', inplace=True)
        # print(m, met)
        # print(dfi)
        dfi.dropna(axis = 0, inplace=True)
    
        if not len(dfi):
            continue
        cs = dfi['Carbon source'].values[0]  

        
        if met not in ['MALATE', 'ALANINE', 'HEXOSES including Glucose and Fructose']:
            if (2 in dfi.Timepoint.values) and (3 in dfi.Timepoint.values):
                t3_value = dfi.loc[dfi.Timepoint == 3, 'Concentration [uM]'].values[0]
                t2_value = dfi.loc[dfi.Timepoint == 2, 'Concentration [uM]'].values[0]
                if  t3_value < t2_value:
                    # Indicates that the matbolite is being reconsumed, discard last point from estimating rates
                    dfi = dfi.loc[dfi.Timepoint != 3, :]

        # Add medium concentrations
        # 
        medium_values = control_df.loc[control_df['Carbon source']==cs, met].values
        if np.isfinite(medium_values).sum() > 0:
            dfi.loc[-1,:] = [np.nanmean(medium_values), 0, cs, 0]
        elif (np.isfinite(medium_values).sum() == 0) and (len(dfi) == 1):
            dfi.loc[-1,:] = [0, 0, cs, 0]
        else:
            pass
            
        time_conc_dict = {key: (value['Hours'], value['Concentration [uM]']) for key, value in dfi[['Hours', 'Concentration [uM]']].to_dict(orient = 'index').items()}
        rel = M_to_rel[m]
        gdw = gdw_df[['Hours', rel]].copy()
        gdw.dropna(inplace=True)
        m_data = []
        for index, val_tuple in time_conc_dict.items():
            time, conc = val_tuple
            # Calculate cumulative OD
            tidx = gdw.Hours < time+0.5
            conc_mM = conc * 1e-3
            if time == 0:
                int_gdw = 0
            else:
                int_gdw = int_gdw_dict[(rel, time)]
            # cum_dw = scipy.integrate.simpson(gdw.loc[tidx, rel], gdw.loc[tidx, 'Hours'])
            data.append([m, met, time, conc_mM, int_gdw, cs])
            m_data.append([time, conc_mM, int_gdw])

        m_df = pd.DataFrame(m_data, columns = ['Time', 'Concentration [mM]', 'Integral of biomass [gDW*h/L]'])
        # linregress and curve fit gives exact same results
        # res = scipy.stats.linregress(m_df['Integral of biomass [gDW*h/L]'], 
        #                                       m_df['Concentration [mM]'])
        popt, pcov = scipy.optimize.curve_fit(lambda x,a,b: a*x+b, m_df['Integral of biomass [gDW*h/L]'], 
                                              m_df['Concentration [mM]'])
        # print(res, popt)
        rate = popt[0]
        rate_std = np.sqrt(pcov[0,0])

        # Check rate without t0
        if len(m_df)>2:
            idx0 = m_df.Time == 0 
            popt0, pcov0 = scipy.optimize.curve_fit(lambda x,a,b: a*x+b, m_df.loc[~idx0, 'Integral of biomass [gDW*h/L]'], 
                                              m_df.loc[~idx0, 'Concentration [mM]'])
            if np.sign(rate)!= np.sign(popt0[0]):
                rate, rate_std = np.nan, np.nan
        data_rate.append([m, met, cs, rate, rate_std])
        if plot:
            print(m, cs, met, rate, rate_std, rate_std/np.abs(rate) )
            max_x = m_df['Integral of biomass [gDW*h/L]'].max()*1.1
            plt.scatter(m_df['Integral of biomass [gDW*h/L]'], m_df['Concentration [mM]'])
            x = np.linspace(0,max_x, 4)
            plt.plot(x, rate*x + popt[1])
            plt.show()
df_conc_biomass = pd.DataFrame(data, columns = ['M', 'Metabolite', 'Time', 'Concentration [mM]', 'Integral of biomass [gDW*h/L]', 'Carbon source'])
df_rate = pd.DataFrame(data_rate, columns = ['M', 'Metabolite', 'Carbon source', 'Rate [mmol/gDW/h]', 'Std.Err [mmol/gDW/h]'])


sns.relplot(data = df_conc_biomass, x = 'Time', y = 'Concentration [mM]', col = 'Metabolite', col_wrap=4, facet_kws={'sharey': False}, style = 'M',  hue = 'Carbon source', s = 200,
           col_order = ['MALATE', 'ALANINE'])

plt.show()


sns.relplot(data = df_conc_biomass, x = 'Integral of biomass [gDW*h/L]', y = 'Concentration [mM]', col = 'Metabolite', col_wrap=4, facet_kws={'sharey': False}, style = 'M',  hue = 'Carbon source', s = 200,
           col_order = ['MALATE', 'ALANINE'])

plt.show()


df_conc_biomass.loc[(df_conc_biomass.M=='M7')&(df_conc_biomass.Metabolite=='MALATE')]





df_conc_biomass.loc[df_conc_biomass['Time']==0]


df_conc_biomass.loc[df_conc_biomass['Metabolite']=='TRANS-ACONITATE']


average_rate_data = []
for cs in df_conc_biomass['Carbon source'].unique():
    for m in df_conc_biomass.Metabolite.unique():
        idx = (df_conc_biomass['Carbon source'] == cs) & (df_conc_biomass.Metabolite==m)
        # nonmedium_idx = df_conc_biomass.Time >= 0
        # idx = idx & nonmedium_idx
        if len( df_conc_biomass.loc[idx, 'Concentration [mM]']) > 3:
            print(cs, m)
            ax = sns.scatterplot(data = df_conc_biomass.loc[idx,:], x = 'Integral of biomass [gDW*h/L]', 
                            y = 'Concentration [mM]', hue = 'M')
            popt, pcov = scipy.optimize.curve_fit(lambda x,a,b: (a*x)+b, 
                            df_conc_biomass.loc[idx, 'Integral of biomass [gDW*h/L]'], 
                            df_conc_biomass.loc[idx, 'Concentration [mM]'])
            perr = np.sqrt(np.diag(pcov))
            res = scipy.stats.linregress(df_conc_biomass.loc[idx, 'Integral of biomass [gDW*h/L]'], 
                                        df_conc_biomass.loc[idx, 'Concentration [mM]'])
            print(res, popt, perr)
            average_rate_data.append([cs, m, popt[0], perr[0], len(df_conc_biomass.loc[idx,:].M.unique()), len(df_conc_biomass.loc[idx,:]), res.pvalue])
            x_max = df_conc_biomass.loc[idx,'Integral of biomass [gDW*h/L]'].max()
            x_arr = np.arange(0, x_max+0.3, 0.2)
            yfit = popt[1]+popt[0]*x_arr
            if res.pvalue < 0.05:
                c = 'g'
            else:
                c = 'r'
            ax.plot(x_arr, yfit, ls = '--', c = c)
            plt.show()

average_rate_df = pd.DataFrame(average_rate_data, columns = ['Carbon source', 'Metabolite', 'Rate', 'Rate std', 'N bioreactors', 'N samples', 'pvalue'])


(average_rate_df['Rate'] > average_rate_df['Rate std']).sum()





mal_uptake = df_rate.loc[(df_rate['Metabolite'] == 'MALATE')&(df_rate['Carbon source'] == 'L-malate'),'Rate [mmol/gDW/h]'].mean()


ala_uptake = df_rate.loc[(df_rate['Metabolite'] == 'ALANINE')&(df_rate['Carbon source'] == 'L-alanine'),'Rate [mmol/gDW/h]'].mean()


gal = df_conc_biomass.loc[(df_conc_biomass['Metabolite'] == 'HEXOSES including Glucose and Fructose')&(df_conc_biomass['Carbon source'] == 'Galactose'),:]
# Since we know that the initial concentration of galactose is ~20 mM, we can scale the concentrations so that the medium values corresponds
scaling_galactose = 20/gal.loc[gal.Time == 0, 'Concentration [mM]'].values[0]
gal_uptake = df_rate.loc[(df_rate['Metabolite'] == 'HEXOSES including Glucose and Fructose')&(df_rate['Carbon source'] == 'Galactose'),'Rate [mmol/gDW/h]'].mean()*scaling_galactose


# ala = df_conc_biomass.loc[(df_conc_biomass['Metabolite'] == 'ALANINE')&(df_conc_biomass['Carbon source'] == 'L-alanine'),:]
# ala_fit = np.polyfit(ala['Integral of biomass [gDW*h/L]'], ala['Concentration [mM]'], 1)


# gal = df_conc_biomass.loc[(df_conc_biomass['Metabolite'] == 'HEXOSES including Glucose and Fructose')&(df_conc_biomass['Carbon source'] == 'Galactose'),:]
# # Since we know that the initial concentration of galactose is ~20 mM, we can scale the concentrations so that the medium values corresponds
# scaling_galactose = 20/gal.loc[gal.Time == 0, 'Concentration [mM]'].values[0]
# gal_fit = np.polyfit(gal['Integral of biomass [gDW*h/L]'], gal['Concentration [mM]']*scaling_galactose, 1)


# mal = df_conc_biomass.loc[(df_conc_biomass['Metabolite'] == 'MALATE')&(df_conc_biomass['Carbon source'] == 'L-malate'),:]
# mal_fit = np.polyfit(mal['Integral of biomass [gDW*h/L]'], mal['Concentration [mM]'], 1)


# int_gdw_df['Pred conc'] = np.nan
# idx = int_gdw_df.REL.isin(['REL04','REL05','REL06'])
# int_gdw_df.loc[idx, 'Pred conc']= 40 - 16.9*int_gdw_df.loc[idx,'Integrated biomass'].values


# yield_dict['L-malate']*16.9


int_gdw_df.loc[idx]








gc_ms_fn = folder/'../GC_MS/gc_ms_estiamted_rates_sintef_2023.csv'
gc_ms_rates = pd.read_csv(gc_ms_fn, index_col=0)


gc_ms_rates


df_rate2 = pd.concat([df_rate, gc_ms_rates])





model_ez = reframed.load_cbmodel('../../models/e_coli/momentiJO1366.xml')
model_ez.solver = 'gurobi'


reframed.FBA(model_ez)


model_ez.reactions.R_EX_glc__D_e.lb = 0


cs_to_exchange = {
    'Galactose': 'R_EX_gal_e',
    'L-malate': 'R_EX_mal__L_e',
    'L-alanine': 'R_EX_ala__L_e'
}





print(model_ez.reactions['R_GALKr_TG_forward'].to_string())
print(model_ez.reactions['R_GALKr_TG_reverse'].to_string())
new_string = "R_GALKr_TG_forward2: M_atp_c + M_gal_c + 0.00037387562982106 M_prot_pool --> M_adp_c + M_gal1p_c + M_h_c"
model_ez.add_reaction_from_str(new_string)
model_ez.remove_reaction('R_GALKr_TG_forward')
reframed.save_cbmodel(model_ez, '../../models/e_coli/momentiJO1366_modified.xml')


yield_dict = {}
uptake =4
for met, ex_id in cs_to_exchange.items():
    sol = reframed.FBA(model_ez, constraints={ex_id:(-uptake,0), 'R_EX_glc__D_e':(0,0)})#,, 'R_ATPM':(0,0) objective='R_BIOMASS_Ec_iJO1366_WT_53p95M')
    print(met, sol.fobj/uptake)
    yield_dict[met] = sol.fobj/uptake
# sol.show_values('R_EX')


medium_conc = {
    'Galactose': 20, #mM
    'L-malate': 30, #mM
    'L-alanine': 40# mM
}
for met, yld in yield_dict.items():
    print(met, f'expected yield: {medium_conc[met]*yld:.2f} gDW/L')


model_ez.get_objective()





predicted_growth_rate_dict = {}
estimated_uptake_dict = {
    'L-alanine': ala_uptake,
    'L-malate': mal_uptake,
    'Galactose': gal_uptake
}
for met, yld in yield_dict.items():
    predicted_growth_rate_dict[met] = -1* yld * estimated_uptake_dict[met]
    


estimated_uptake_dict


predicted_growth_rate_dict


growth_rate_dict = {"Galactose": (0.273864,	0.016978), #mean rate, std
                    "L-alanine": (0.207638, 0.005340),
                    "L-malate":	 (0.396022,	0.008710)}


optimal_uptake_dict = {}
for met, ex_id in cs_to_exchange.items():
    mu = growth_rate_dict[met][0]
    std = growth_rate_dict[met][1]
    
    sol = reframed.FBA(model_ez, constraints={ex_id:(-20,0), 'R_EX_glc__D_e':(0,0),
                        'R_BIOMASS_Ec_iJO1366_core_53p95M':(mu-std, mu+std)}, objective = {ex_id: 1})
    optimal_uptake_dict[ex_id] = sol.fobj
    print(met, sol)


measured_metabolite_ids = [f'M_{m_id}_c' for m_id in mapping_dict.values() if isinstance(m_id, str)]
measured_metabolite_ids_in_model = [x for x in measured_metabolite_ids if model_ez.metabolites.get(x)]



sp_dict = {}
for cs, ex_id in cs_to_exchange.items():
    sp_dict[cs] = leakage_reframed.estimate_shadow_prices(model_ez, constraints={ex_id:(estimated_uptake_dict[cs], 0)}, delta = 0.01, metabolites=measured_metabolite_ids_in_model)
        



sp_dict_optimal_uptake = {}
for cs, ex_id in cs_to_exchange.items():
    sp_dict_optimal_uptake[cs] = leakage_reframed.estimate_shadow_prices(model_ez, constraints={ex_id:(optimal_uptake_dict[ex_id], 0)}, delta = 0.01, metabolites=measured_metabolite_ids_in_model)
        


# for key, dic in sp_dict.items():
#     for mkey, value in dic.items():
#         opt_val = sp_dict_optimal_uptake[key][mkey]
#         print(key,mkey, value, opt_val, f'rel_diff: {(value-opt_val)/value:.2f}')


mv_df = pd.DataFrame(sp_dict)*-1


mv_df





sp_dict_g = {}
for cs, ex_id in cs_to_exchange.items():
    sp_cs_g_list = []
    uptake_rates = np.linspace(estimated_uptake_dict[cs]*1.2, estimated_uptake_dict[cs]*0.8, 5, endpoint=True)
    for g in uptake_rates:
        shadow_prices_g = leakage_reframed.estimate_shadow_prices(model_ez, constraints={ex_id:(g, 0)}, delta = 0.01, metabolites=measured_metabolite_ids_in_model)
        sp_cs_g_list.append(shadow_prices_g)
    sp_cs_g_list.append(sp_dict[cs])
    temp_df = -1*pd.DataFrame(sp_cs_g_list)
    sp_dict_g[cs] = {'min': temp_df.min().to_dict(), 'max': temp_df.max().to_dict()}







turnover_dict = {}
for cs, ex_id in cs_to_exchange.items():
    solution = reframed.pFBA(model_ez, constraints={ex_id:(estimated_uptake_dict[cs], 0)})
    turnover = solution.get_metabolites_turnover(model_ez)
    turnover_dict[cs] = {m: turnover[m] for m in measured_metabolite_ids_in_model}
    print(cs)
    solution.show_values('BIO')
    # solution.show_values(ex_id)
    solution.show_values('R_EX')
    print("####")





data = []
min_mv = []
max_mv = []
Nc = []
mass = []
turnover_list = []
bigg_id_list = []
for _, row in df_rate2.iterrows():
    cs = row['Carbon source']
    met = row['Metabolite']
    bigg_id = mapping_dict[met]
    
    if isinstance(bigg_id, str):
        m_id = f'M_{bigg_id}_c'
        data.append(-sp_dict[cs][m_id])
        min_mv.append(sp_dict_g[cs]['min'][m_id])
        max_mv.append(sp_dict_g[cs]['max'][m_id])
        m = model_ez.metabolites[m_id]
        element_dict = ng_utils.get_element_dict(m)
        Nc.append(element_dict['C'])
        mass.append(ng_utils.get_mol_weight(m))
        turnover_list.append(turnover_dict[cs][m_id])
        bigg_id_list.append(bigg_id)
        
    else:
        data.append(np.nan)
        Nc.append(np.nan)
        mass.append(np.nan)
        turnover_list.append(np.nan)
        bigg_id_list.append(np.nan)
        min_mv.append(np.nan)
        max_mv.append(np.nan)
df_rate2['Metabolite value [gDW/mmol]'] = data
df_rate2['N carbons'] = Nc
df_rate2['Mol weight [g/mol]'] = mass
df_rate2['Turnover [mmol/gDW/h]'] = turnover_list
df_rate2['BiGG ID'] = bigg_id_list
df_rate2['MV min'] = min_mv
df_rate2['MV max'] = max_mv


df_rate2['Species'] = "E. coli"
df_rate2['Dataset'] = 'SINTEF-23'


df_rate2.to_csv('sintef_2023_rates_1024.csv')


df_rate2
