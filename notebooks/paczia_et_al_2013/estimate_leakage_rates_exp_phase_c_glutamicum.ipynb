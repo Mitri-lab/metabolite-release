{
 "cells": [
  {
   "cell_type": "code",
   "execution_count": 2,
   "id": "2eb776c4-d269-4b4e-9c4b-400c6ad6d62e",
   "metadata": {},
   "outputs": [],
   "source": [
    "import pandas as pd\n",
    "import numpy as np\n",
    "import matplotlib.pyplot as plt\n",
    "from pathlib import Path\n",
    "import sys\n",
    "sys.path.append('../../code/')\n",
    "sys.path.append('/Users/ssulheim/git/mwf_gems/code/python')\n",
    "import leakage_reframed\n",
    "import ng_utils\n",
    "import leakage\n",
    "import reframed\n",
    "import scipy"
   ]
  },
  {
   "cell_type": "markdown",
   "id": "1d4d0851-608d-4cf2-93c2-54011fff66d3",
   "metadata": {},
   "source": [
    "# C glutamicum"
   ]
  },
  {
   "cell_type": "code",
   "execution_count": 3,
   "id": "4ec34038-15cd-44a5-b8d6-6d4331ebccf0",
   "metadata": {},
   "outputs": [],
   "source": [
    "exometabolites_folder = Path(\"../../data/c_glutamicum/\")\n",
    "organism = 'c_glutamicum'\n",
    "fn_OD = exometabolites_folder / \"{0}_OD.csv\".format(organism)"
   ]
  },
  {
   "cell_type": "code",
   "execution_count": 4,
   "id": "bbb50af5-c844-488e-b555-4afd823d8ade",
   "metadata": {},
   "outputs": [],
   "source": [
    "gDW_per_OD = 0.32"
   ]
  },
  {
   "cell_type": "code",
   "execution_count": 5,
   "id": "603f30cd-98fa-455b-94c7-31f12cbaf963",
   "metadata": {},
   "outputs": [],
   "source": [
    "concentrations, concentrations_std = leakage.get_concentrations(exometabolites_folder, 'c_glutamicum')"
   ]
  },
  {
   "cell_type": "code",
   "execution_count": 6,
   "id": "e94922cf-623f-4ff1-9037-f8c768dc6173",
   "metadata": {},
   "outputs": [
    {
     "data": {
      "text/html": [
       "<div>\n",
       "<style scoped>\n",
       "    .dataframe tbody tr th:only-of-type {\n",
       "        vertical-align: middle;\n",
       "    }\n",
       "\n",
       "    .dataframe tbody tr th {\n",
       "        vertical-align: top;\n",
       "    }\n",
       "\n",
       "    .dataframe thead th {\n",
       "        text-align: right;\n",
       "    }\n",
       "</style>\n",
       "<table border=\"1\" class=\"dataframe\">\n",
       "  <thead>\n",
       "    <tr style=\"text-align: right;\">\n",
       "      <th></th>\n",
       "      <th>OD mean</th>\n",
       "      <th>OD std</th>\n",
       "    </tr>\n",
       "    <tr>\n",
       "      <th>Time</th>\n",
       "      <th></th>\n",
       "      <th></th>\n",
       "    </tr>\n",
       "  </thead>\n",
       "  <tbody>\n",
       "    <tr>\n",
       "      <th>0</th>\n",
       "      <td>0.291000</td>\n",
       "      <td>3.657989</td>\n",
       "    </tr>\n",
       "    <tr>\n",
       "      <th>11</th>\n",
       "      <td>2.460000</td>\n",
       "      <td>0.040000</td>\n",
       "    </tr>\n",
       "    <tr>\n",
       "      <th>12</th>\n",
       "      <td>3.366667</td>\n",
       "      <td>0.070946</td>\n",
       "    </tr>\n",
       "    <tr>\n",
       "      <th>13</th>\n",
       "      <td>4.123333</td>\n",
       "      <td>0.075719</td>\n",
       "    </tr>\n",
       "    <tr>\n",
       "      <th>14</th>\n",
       "      <td>5.316667</td>\n",
       "      <td>0.049329</td>\n",
       "    </tr>\n",
       "    <tr>\n",
       "      <th>15</th>\n",
       "      <td>8.813333</td>\n",
       "      <td>0.147422</td>\n",
       "    </tr>\n",
       "    <tr>\n",
       "      <th>16</th>\n",
       "      <td>14.000000</td>\n",
       "      <td>0.200000</td>\n",
       "    </tr>\n",
       "    <tr>\n",
       "      <th>17</th>\n",
       "      <td>15.866667</td>\n",
       "      <td>0.208167</td>\n",
       "    </tr>\n",
       "    <tr>\n",
       "      <th>18</th>\n",
       "      <td>19.533333</td>\n",
       "      <td>0.503322</td>\n",
       "    </tr>\n",
       "    <tr>\n",
       "      <th>19</th>\n",
       "      <td>22.766667</td>\n",
       "      <td>0.208167</td>\n",
       "    </tr>\n",
       "    <tr>\n",
       "      <th>20</th>\n",
       "      <td>22.266667</td>\n",
       "      <td>0.152753</td>\n",
       "    </tr>\n",
       "    <tr>\n",
       "      <th>21</th>\n",
       "      <td>22.566667</td>\n",
       "      <td>0.057735</td>\n",
       "    </tr>\n",
       "    <tr>\n",
       "      <th>22</th>\n",
       "      <td>23.000000</td>\n",
       "      <td>0.793725</td>\n",
       "    </tr>\n",
       "    <tr>\n",
       "      <th>23</th>\n",
       "      <td>21.800000</td>\n",
       "      <td>0.400000</td>\n",
       "    </tr>\n",
       "    <tr>\n",
       "      <th>24</th>\n",
       "      <td>22.133333</td>\n",
       "      <td>0.152753</td>\n",
       "    </tr>\n",
       "    <tr>\n",
       "      <th>25</th>\n",
       "      <td>21.566667</td>\n",
       "      <td>0.230940</td>\n",
       "    </tr>\n",
       "    <tr>\n",
       "      <th>26</th>\n",
       "      <td>21.533333</td>\n",
       "      <td>0.305505</td>\n",
       "    </tr>\n",
       "    <tr>\n",
       "      <th>27</th>\n",
       "      <td>21.500000</td>\n",
       "      <td>0.100000</td>\n",
       "    </tr>\n",
       "    <tr>\n",
       "      <th>28</th>\n",
       "      <td>21.366667</td>\n",
       "      <td>0.152753</td>\n",
       "    </tr>\n",
       "    <tr>\n",
       "      <th>29</th>\n",
       "      <td>21.433333</td>\n",
       "      <td>0.057735</td>\n",
       "    </tr>\n",
       "    <tr>\n",
       "      <th>30</th>\n",
       "      <td>21.600000</td>\n",
       "      <td>0.100000</td>\n",
       "    </tr>\n",
       "    <tr>\n",
       "      <th>31</th>\n",
       "      <td>21.100000</td>\n",
       "      <td>0.264575</td>\n",
       "    </tr>\n",
       "    <tr>\n",
       "      <th>32</th>\n",
       "      <td>21.600000</td>\n",
       "      <td>0.200000</td>\n",
       "    </tr>\n",
       "    <tr>\n",
       "      <th>34</th>\n",
       "      <td>20.333333</td>\n",
       "      <td>0.416333</td>\n",
       "    </tr>\n",
       "    <tr>\n",
       "      <th>36</th>\n",
       "      <td>19.700000</td>\n",
       "      <td>0.100000</td>\n",
       "    </tr>\n",
       "    <tr>\n",
       "      <th>38</th>\n",
       "      <td>19.333333</td>\n",
       "      <td>0.305505</td>\n",
       "    </tr>\n",
       "    <tr>\n",
       "      <th>40</th>\n",
       "      <td>19.566667</td>\n",
       "      <td>0.251661</td>\n",
       "    </tr>\n",
       "    <tr>\n",
       "      <th>42</th>\n",
       "      <td>19.500000</td>\n",
       "      <td>0.264575</td>\n",
       "    </tr>\n",
       "    <tr>\n",
       "      <th>44</th>\n",
       "      <td>20.300000</td>\n",
       "      <td>0.264575</td>\n",
       "    </tr>\n",
       "    <tr>\n",
       "      <th>46</th>\n",
       "      <td>20.466667</td>\n",
       "      <td>0.351188</td>\n",
       "    </tr>\n",
       "    <tr>\n",
       "      <th>48</th>\n",
       "      <td>20.433333</td>\n",
       "      <td>0.305505</td>\n",
       "    </tr>\n",
       "    <tr>\n",
       "      <th>50</th>\n",
       "      <td>20.033333</td>\n",
       "      <td>0.723418</td>\n",
       "    </tr>\n",
       "    <tr>\n",
       "      <th>52</th>\n",
       "      <td>20.300000</td>\n",
       "      <td>0.100000</td>\n",
       "    </tr>\n",
       "    <tr>\n",
       "      <th>56</th>\n",
       "      <td>20.133333</td>\n",
       "      <td>0.152753</td>\n",
       "    </tr>\n",
       "    <tr>\n",
       "      <th>60</th>\n",
       "      <td>19.900000</td>\n",
       "      <td>0.100000</td>\n",
       "    </tr>\n",
       "    <tr>\n",
       "      <th>64</th>\n",
       "      <td>19.700000</td>\n",
       "      <td>0.200000</td>\n",
       "    </tr>\n",
       "    <tr>\n",
       "      <th>68</th>\n",
       "      <td>19.033333</td>\n",
       "      <td>0.404145</td>\n",
       "    </tr>\n",
       "    <tr>\n",
       "      <th>72</th>\n",
       "      <td>18.500000</td>\n",
       "      <td>0.173205</td>\n",
       "    </tr>\n",
       "    <tr>\n",
       "      <th>76</th>\n",
       "      <td>18.533333</td>\n",
       "      <td>0.251661</td>\n",
       "    </tr>\n",
       "    <tr>\n",
       "      <th>80</th>\n",
       "      <td>18.133333</td>\n",
       "      <td>0.404145</td>\n",
       "    </tr>\n",
       "    <tr>\n",
       "      <th>86</th>\n",
       "      <td>18.033333</td>\n",
       "      <td>0.115470</td>\n",
       "    </tr>\n",
       "    <tr>\n",
       "      <th>92</th>\n",
       "      <td>17.633333</td>\n",
       "      <td>0.513160</td>\n",
       "    </tr>\n",
       "    <tr>\n",
       "      <th>98</th>\n",
       "      <td>17.700000</td>\n",
       "      <td>0.360555</td>\n",
       "    </tr>\n",
       "    <tr>\n",
       "      <th>104</th>\n",
       "      <td>17.766667</td>\n",
       "      <td>0.115470</td>\n",
       "    </tr>\n",
       "    <tr>\n",
       "      <th>110</th>\n",
       "      <td>17.600000</td>\n",
       "      <td>0.264575</td>\n",
       "    </tr>\n",
       "    <tr>\n",
       "      <th>116</th>\n",
       "      <td>17.300000</td>\n",
       "      <td>0.100000</td>\n",
       "    </tr>\n",
       "    <tr>\n",
       "      <th>128</th>\n",
       "      <td>17.033333</td>\n",
       "      <td>0.321455</td>\n",
       "    </tr>\n",
       "    <tr>\n",
       "      <th>140</th>\n",
       "      <td>16.500000</td>\n",
       "      <td>0.519615</td>\n",
       "    </tr>\n",
       "    <tr>\n",
       "      <th>152</th>\n",
       "      <td>16.333333</td>\n",
       "      <td>0.208167</td>\n",
       "    </tr>\n",
       "    <tr>\n",
       "      <th>164</th>\n",
       "      <td>16.033333</td>\n",
       "      <td>0.723418</td>\n",
       "    </tr>\n",
       "    <tr>\n",
       "      <th>182</th>\n",
       "      <td>15.700000</td>\n",
       "      <td>62.800000</td>\n",
       "    </tr>\n",
       "    <tr>\n",
       "      <th>227</th>\n",
       "      <td>14.533333</td>\n",
       "      <td>58.133333</td>\n",
       "    </tr>\n",
       "    <tr>\n",
       "      <th>229</th>\n",
       "      <td>14.200000</td>\n",
       "      <td>56.800000</td>\n",
       "    </tr>\n",
       "  </tbody>\n",
       "</table>\n",
       "</div>"
      ],
      "text/plain": [
       "        OD mean     OD std\n",
       "Time                      \n",
       "0      0.291000   3.657989\n",
       "11     2.460000   0.040000\n",
       "12     3.366667   0.070946\n",
       "13     4.123333   0.075719\n",
       "14     5.316667   0.049329\n",
       "15     8.813333   0.147422\n",
       "16    14.000000   0.200000\n",
       "17    15.866667   0.208167\n",
       "18    19.533333   0.503322\n",
       "19    22.766667   0.208167\n",
       "20    22.266667   0.152753\n",
       "21    22.566667   0.057735\n",
       "22    23.000000   0.793725\n",
       "23    21.800000   0.400000\n",
       "24    22.133333   0.152753\n",
       "25    21.566667   0.230940\n",
       "26    21.533333   0.305505\n",
       "27    21.500000   0.100000\n",
       "28    21.366667   0.152753\n",
       "29    21.433333   0.057735\n",
       "30    21.600000   0.100000\n",
       "31    21.100000   0.264575\n",
       "32    21.600000   0.200000\n",
       "34    20.333333   0.416333\n",
       "36    19.700000   0.100000\n",
       "38    19.333333   0.305505\n",
       "40    19.566667   0.251661\n",
       "42    19.500000   0.264575\n",
       "44    20.300000   0.264575\n",
       "46    20.466667   0.351188\n",
       "48    20.433333   0.305505\n",
       "50    20.033333   0.723418\n",
       "52    20.300000   0.100000\n",
       "56    20.133333   0.152753\n",
       "60    19.900000   0.100000\n",
       "64    19.700000   0.200000\n",
       "68    19.033333   0.404145\n",
       "72    18.500000   0.173205\n",
       "76    18.533333   0.251661\n",
       "80    18.133333   0.404145\n",
       "86    18.033333   0.115470\n",
       "92    17.633333   0.513160\n",
       "98    17.700000   0.360555\n",
       "104   17.766667   0.115470\n",
       "110   17.600000   0.264575\n",
       "116   17.300000   0.100000\n",
       "128   17.033333   0.321455\n",
       "140   16.500000   0.519615\n",
       "152   16.333333   0.208167\n",
       "164   16.033333   0.723418\n",
       "182   15.700000  62.800000\n",
       "227   14.533333  58.133333\n",
       "229   14.200000  56.800000"
      ]
     },
     "execution_count": 6,
     "metadata": {},
     "output_type": "execute_result"
    }
   ],
   "source": [
    "df_OD = pd.read_csv(fn_OD, index_col=0)\n",
    "df_OD.fillna(df_OD['OD std'].mean())"
   ]
  },
  {
   "cell_type": "code",
   "execution_count": 14,
   "id": "ee2b13f4-d4b8-44ed-bdac-29cb0416793a",
   "metadata": {},
   "outputs": [
    {
     "data": {
      "image/png": "[encoded data removed]",
      "text/plain": [
       "<Figure size 640x480 with 1 Axes>"
      ]
     },
     "metadata": {},
     "output_type": "display_data"
    }
   ],
   "source": [
    "plt.scatter(df_OD.index, np.log(df_OD['OD mean']))\n",
    "plt.grid()"
   ]
  },
  {
   "cell_type": "markdown",
   "id": "f7aa13db-9f64-4149-85a7-81fb715a6956",
   "metadata": {},
   "source": [
    "# Estimate max glucose uptake rate\n",
    "Answer = -2.5 mmol/gDW/h"
   ]
  },
  {
   "cell_type": "code",
   "execution_count": 10,
   "id": "2c76ab95-b283-47dc-94b3-245257b9d156",
   "metadata": {},
   "outputs": [],
   "source": [
    "fn_glucose = exometabolites_folder / \"{0}_glucose.csv\".format(organism)\n",
    "\n",
    "df_glucose = pd.read_csv(fn_glucose, index_col=0)\n",
    "# df_glucose.loc[0,:]=[20,0] # From paper (in g/L)"
   ]
  },
  {
   "cell_type": "code",
   "execution_count": 67,
   "id": "d54f07a7-b7cc-4b78-9ce1-43757a7579e7",
   "metadata": {},
   "outputs": [],
   "source": [
    "cum_OD = np.zeros(53)*np.nan\n",
    "OD_values = df_OD['OD mean'].values\n",
    "timepoints = df_OD.index\n",
    "for i in range(9):\n",
    "    cum_OD[i] = scipy.integrate.trapezoid(y = OD_values[:i+1], x = timepoints[:i+1])"
   ]
  },
  {
   "cell_type": "code",
   "execution_count": 35,
   "id": "5b5cedc3-c177-41af-8209-0f97e08da564",
   "metadata": {},
   "outputs": [],
   "source": [
    "mu = (np.log(OD_values)[9]-np.log(OD_values)[1])/(timepoints[9]-timepoints[1])"
   ]
  },
  {
   "cell_type": "code",
   "execution_count": 61,
   "id": "36414ac5-f4e7-4ebe-a0ce-8d4fa5f86ddf",
   "metadata": {},
   "outputs": [],
   "source": [
    "growth_fun = lambda t: OD_values[1]*np.exp(mu*(t-11))"
   ]
  },
  {
   "cell_type": "code",
   "execution_count": 71,
   "id": "e29f4721-ec4a-4e88-82ef-785f7fe65094",
   "metadata": {},
   "outputs": [
    {
     "data": {
      "text/plain": [
       "Index([  0,  11,  12,  13,  14,  15,  16,  17,  18,  19,  20,  21,  22,  23,\n",
       "        24,  25,  26,  27,  28,  29,  30,  31,  32,  34,  36,  38,  40,  42,\n",
       "        44,  46,  48,  50,  52,  56,  60,  64,  68,  72,  76,  80,  86,  92,\n",
       "        98, 104, 110, 116, 128, 140, 152, 164, 182, 227, 229],\n",
       "      dtype='int64', name='Time')"
      ]
     },
     "execution_count": 71,
     "metadata": {},
     "output_type": "execute_result"
    }
   ],
   "source": [
    "timepoints"
   ]
  },
  {
   "cell_type": "code",
   "execution_count": 68,
   "id": "93b7c20b-3bf6-4f9e-bafa-966b5270d18a",
   "metadata": {},
   "outputs": [],
   "source": [
    "df_OD['Cum OD'] = cum_OD\n",
    "df_OD['Cum OD gDW'] = df_OD['Cum OD']*gDW_per_OD\n",
    "df_glucose['Glucose mM'] = df_glucose['Glucose mean']/180.18*1000"
   ]
  },
  {
   "cell_type": "code",
   "execution_count": 74,
   "id": "0cf274d8-4aee-4e17-b042-d11af4f067be",
   "metadata": {},
   "outputs": [
    {
     "data": {
      "text/plain": [
       "<matplotlib.collections.PathCollection at 0x287523e60>"
      ]
     },
     "execution_count": 74,
     "metadata": {},
     "output_type": "execute_result"
    },
    {
     "data": {
      "image/png": "[encoded data removed]",
      "text/plain": [
       "<Figure size 640x480 with 1 Axes>"
      ]
     },
     "metadata": {},
     "output_type": "display_data"
    }
   ],
   "source": [
    "plt.scatter(df_OD['Cum OD gDW'], df_glucose['Glucose mM'])"
   ]
  },
  {
   "cell_type": "code",
   "execution_count": 76,
   "id": "eb8085ab-ec84-45f8-8a8f-36ffd9a96bf1",
   "metadata": {},
   "outputs": [
    {
     "data": {
      "text/plain": [
       "array([-2.50038   , 61.48551647])"
      ]
     },
     "execution_count": 76,
     "metadata": {},
     "output_type": "execute_result"
    }
   ],
   "source": [
    "np.polyfit(df_OD['Cum OD gDW'][:9], df_glucose['Glucose mM'][:9], 1)"
   ]
  },
  {
   "cell_type": "markdown",
   "id": "65339b25-d529-430e-a3c5-255743d11770",
   "metadata": {},
   "source": [
    "## Mapping"
   ]
  },
  {
   "cell_type": "code",
   "execution_count": 117,
   "id": "ade9d566-4d26-4f36-9d24-0c8bc82a65b3",
   "metadata": {},
   "outputs": [],
   "source": [
    "mapping_df = pd.read_csv('../../data/id_mapping.csv', index_col=0)\n",
    "# mapping_df.index = [x.strip('\\t').replace(\" MS\", \"\") for x in mapping_df.index]\n",
    "met_abrv_to_id = mapping_df['Cglutamicum metabolite'].to_dict()\n",
    "met_abrv_to_name = mapping_df['Metabolite name'].to_dict()\n"
   ]
  },
  {
   "cell_type": "markdown",
   "id": "b59633b8-9934-45db-9d63-676b45f7484f",
   "metadata": {},
   "source": [
    "# Estimate rates"
   ]
  },
  {
   "cell_type": "code",
   "execution_count": 118,
   "id": "b3e22952-d0e4-4a9e-b905-e5498387b6eb",
   "metadata": {},
   "outputs": [
    {
     "data": {
      "text/plain": [
       "Index([0, 11, 12, 13, 14, 15, 16, 17, 18], dtype='int64', name='Time')"
      ]
     },
     "execution_count": 118,
     "metadata": {},
     "output_type": "execute_result"
    }
   ],
   "source": [
    "timepoints[:9]"
   ]
  },
  {
   "cell_type": "code",
   "execution_count": 119,
   "id": "d256fbea-6a76-4253-8caf-e0401081442d",
   "metadata": {},
   "outputs": [],
   "source": [
    "x = np.cumsum(df_OD['OD mean'])*gDW_per_OD"
   ]
  },
  {
   "cell_type": "code",
   "execution_count": 120,
   "id": "5766d9d2-41ae-4436-9eb1-b925608faac6",
   "metadata": {},
   "outputs": [
    {
     "name": "stderr",
     "output_type": "stream",
     "text": [
      "/Users/ssulheim/anaconda3/envs/pandas2/lib/python3.12/site-packages/scipy/optimize/_minpack_py.py:1010: OptimizeWarning: Covariance of the parameters could not be estimated\n",
      "  warnings.warn('Covariance of the parameters could not be estimated',\n"
     ]
    },
    {
     "data": {
      "image/png": "[encoded data removed]",
      "text/plain": [
       "<Figure size 800x1200 with 35 Axes>"
      ]
     },
     "metadata": {},
     "output_type": "display_data"
    }
   ],
   "source": [
    "rate_dict = {}\n",
    "fig, axes = plt.subplots(7,5, figsize = (8, 12), sharex = True)\n",
    "axes = axes.flatten()\n",
    "fun = lambda x, a ,b: x*a+b\n",
    "for i,c in enumerate(concentrations.columns):\n",
    "    conc = concentrations[c]\n",
    "    conc[conc==0] = np.nan\n",
    "    nan_idx = ~np.isnan(conc)\n",
    "    time_idx = x.index < 19\n",
    "    if np.sum(nan_idx&time_idx) == 1:\n",
    "        conc[0] = 0\n",
    "        nan_idx[0] = True\n",
    "        \n",
    "    # print(conc[nan_idx&time_idx])\n",
    "    rate_conc = conc[nan_idx&time_idx]\n",
    "    selection = np.ones(len(conc)).astype(bool)\n",
    "    # if (7 in rate_conc.index) and (8 in rate_conc.index):\n",
    "    #     if rate_conc[8] < rate_conc[7]:\n",
    "    #         selection[8] = False\n",
    "    #         if rate_conc[6] < rate_conc[7]:\n",
    "    #             selection[7] = False\n",
    "    # print(c)\n",
    "    # print(conc[nan_idx&time_idx])\n",
    "    if len(conc[nan_idx&time_idx&selection]) >1:\n",
    "        fit, cov, _,_,_ = scipy.optimize.curve_fit(fun, x[nan_idx&time_idx&selection],\n",
    "                                                   conc[nan_idx&time_idx&selection],\n",
    "                                                   full_output=True)\n",
    "        rate_dict[c] = fit[0]\n",
    "    else:\n",
    "        rate_dict[c] = np.nan\n",
    "\n",
    "    # print(fit)\n",
    "    x_fit = np.linspace(0, x[nan_idx&time_idx].max(), 3)\n",
    "    y_fit = fun(x_fit, *fit)\n",
    "    ax = axes[i]\n",
    "    # ax.scatter(x, conc)\n",
    "    ax.scatter(x[nan_idx&time_idx], conc[nan_idx&time_idx])\n",
    "    ax.plot(x_fit, y_fit, 'r')\n",
    "    ax.set_title(c, )\n",
    "\n",
    "i +=1\n",
    "# print(i)\n",
    "while i<(7*5):\n",
    "    axes[i].set_visible(False)\n",
    "    i+=1\n",
    "\n",
    "fig.supxlabel('Integral of biomass [gDW*h/L]')\n",
    "fig.supylabel('Concentration [mM]')\n",
    "\n",
    "plt.tight_layout()\n",
    "plt.show()\n"
   ]
  },
  {
   "cell_type": "markdown",
   "id": "9ad0fd97-771c-42ed-b364-6419339c87a6",
   "metadata": {},
   "source": [
    "# Get model"
   ]
  },
  {
   "cell_type": "code",
   "execution_count": 121,
   "id": "d58ff906-1e80-4606-8d36-0b95c659954d",
   "metadata": {},
   "outputs": [],
   "source": [
    "model_ez = reframed.load_cbmodel('../../models/c_glutamicum/smoment_iCW773.xml')\n",
    "model_ez.solver = 'gurobi'"
   ]
  },
  {
   "cell_type": "code",
   "execution_count": 122,
   "id": "862ced1e-f449-4ed1-80d0-d4d92d3dabf2",
   "metadata": {},
   "outputs": [
    {
     "name": "stdout",
     "output_type": "stream",
     "text": [
      "R_EX_ca2_e   -0.0146654\n",
      "R_EX_co2_e    10.0349\n",
      "R_EX_cobalt2_e -7.08926e-05\n",
      "R_EX_cu2_e   -0.00199691\n",
      "R_EX_fe2_e   -0.0409159\n",
      "R_EX_glc_e   -4.67\n",
      "R_EX_h_e      3.35021\n",
      "R_EX_h2o_e    19.5406\n",
      "R_EX_k_e     -0.549947\n",
      "R_EX_mg2_e   -0.024442\n",
      "R_EX_mn2_e   -0.00194803\n",
      "R_EX_nh4_e   -3.75795\n",
      "R_EX_ni2_e   -0.000909257\n",
      "R_EX_o2_e    -8.78033\n",
      "R_EX_pi_e    -0.215743\n",
      "R_EX_so4_e   -0.0696158\n",
      "R_EX_xan_e    0.0696769\n",
      "R_EX_zn2_e   -0.000960563\n",
      "R_EX_biomass  0.434189\n",
      "R_EX_BIOTIN  -1.03175e-06\n",
      "R_EX_cl      -0.0146654\n"
     ]
    }
   ],
   "source": [
    "solution = reframed.FBA(model_ez)\n",
    "solution.show_values('EX')"
   ]
  },
  {
   "cell_type": "code",
   "execution_count": null,
   "id": "a8813079-8ecf-436c-bfb1-4e5cffcee240",
   "metadata": {},
   "outputs": [],
   "source": []
  },
  {
   "cell_type": "code",
   "execution_count": 124,
   "id": "44ec42b2-ddee-4a67-a0ea-85a6d4ee05cf",
   "metadata": {},
   "outputs": [],
   "source": [
    "measured_metabolites = []\n",
    "for bigg_id in met_abrv_to_id.values():\n",
    "    if not isinstance(bigg_id, str):\n",
    "        continue\n",
    "    m_ids = bigg_id.split(', ')\n",
    "    for m_id in m_ids:\n",
    "        if f'M_{m_id}_c' in model_ez.metabolites:\n",
    "            measured_metabolites.append(f'M_{m_id}_c')"
   ]
  },
  {
   "cell_type": "markdown",
   "id": "7b5c706b-2670-4c97-a417-0f6939cf2672",
   "metadata": {},
   "source": [
    "# Shadow prices"
   ]
  },
  {
   "cell_type": "code",
   "execution_count": 125,
   "id": "e96bac77-9539-4702-b6b5-b0a55a2a6096",
   "metadata": {},
   "outputs": [],
   "source": [
    "shadow_prices = leakage_reframed.estimate_shadow_prices(model_ez, constraints={'R_EX_glc_e': (-2.5,0)}, metabolites = measured_metabolites)"
   ]
  },
  {
   "cell_type": "code",
   "execution_count": 126,
   "id": "1b6395a1-2583-4a18-aed2-cea71403a505",
   "metadata": {},
   "outputs": [
    {
     "data": {
      "text/plain": [
       "['M_g6p_c',\n",
       " 'M_f6p_c',\n",
       " 'M_fdp_c',\n",
       " 'M_dhap_c',\n",
       " 'M_g3p_c',\n",
       " 'M_2pg_c',\n",
       " 'M_3pg_c',\n",
       " 'M_pep_c',\n",
       " 'M_r5p_c',\n",
       " 'M_ru5p__D_c',\n",
       " 'M_xu5p__D_c',\n",
       " 'M_e4p_c',\n",
       " 'M_cit_c',\n",
       " 'M_acon_C_c',\n",
       " 'M_icit_c',\n",
       " 'M_succ_c',\n",
       " 'M_oaa_c',\n",
       " 'M_glu__L_c',\n",
       " 'M_ser__L_c',\n",
       " 'M_asp__L_c',\n",
       " 'M_thr__L_c',\n",
       " 'M_hom__L_c',\n",
       " 'M_tyr__L_c',\n",
       " 'M_gly_c',\n",
       " 'M_pro__L_c',\n",
       " 'M_ala__L_c',\n",
       " 'M_met__L_c',\n",
       " 'M_val__L_c',\n",
       " 'M_leu__L_c',\n",
       " 'M_ile__L_c',\n",
       " 'M_phe__L_c',\n",
       " 'M_ile__L_c',\n",
       " 'M_leu__L_c',\n",
       " 'M_trp__L_c',\n",
       " 'M_his__L_c',\n",
       " 'M_arg__L_c',\n",
       " 'M_pyr_c',\n",
       " 'M_orot_c',\n",
       " 'M_fum_c',\n",
       " 'M_ura_c',\n",
       " 'M_akg_c',\n",
       " 'M_ac_c',\n",
       " 'M_lys__L_c',\n",
       " 'M_gln__L_c',\n",
       " 'M_etoh_c',\n",
       " 'M_asn__L_c',\n",
       " 'M_skm_c',\n",
       " 'M_s7p_c']"
      ]
     },
     "execution_count": 126,
     "metadata": {},
     "output_type": "execute_result"
    }
   ],
   "source": [
    "measured_metabolites"
   ]
  },
  {
   "cell_type": "markdown",
   "id": "292b5f06-b327-46bf-9ddc-90981111e178",
   "metadata": {},
   "source": [
    "# Turnover"
   ]
  },
  {
   "cell_type": "code",
   "execution_count": 127,
   "id": "3ff4e06d-a65b-4d9d-8d36-30dd4f6e5a35",
   "metadata": {},
   "outputs": [],
   "source": [
    "solution = reframed.pFBA(model_ez, constraints={'R_EX_glc_e': (-2.5,0)})\n",
    "turnover = solution.get_metabolites_turnover(model_ez)\n",
    "\n",
    "    "
   ]
  },
  {
   "cell_type": "markdown",
   "id": "7bb831a0-24e4-4b3a-be66-2e1a6e8d6a9f",
   "metadata": {},
   "source": [
    "# Make spreadsheet"
   ]
  },
  {
   "cell_type": "code",
   "execution_count": 128,
   "id": "f1c797a4-64d4-4b5a-bcbe-0757764634eb",
   "metadata": {},
   "outputs": [],
   "source": [
    "data = []\n",
    "for abbr, rate in rate_dict.items():\n",
    "    bigg_ids = [x.strip() for x in met_abrv_to_id[abbr].split(',')]\n",
    "    rate = rate/len(bigg_ids)\n",
    "    for bigg_id in bigg_ids:\n",
    "        name =met_abrv_to_name[abbr]\n",
    "        m_id = f'M_{bigg_id}_c'\n",
    "        mv = -shadow_prices[m_id]\n",
    "        m = model_ez.metabolites[m_id]\n",
    "        element_dict = ng_utils.get_element_dict(m)\n",
    "        Nc = element_dict['C']\n",
    "        mass = ng_utils.get_mol_weight(m)\n",
    "        \n",
    "        data.append([bigg_id, name, rate, mv, turnover[m_id], Nc, mass])\n",
    "df_rate = pd.DataFrame(data, columns = ['BiGG ID', 'Metabolite', 'Rate [mmol/gDW/h]', \n",
    "                                        'Metabolite value [gDW/mmol]', 'Turnover [mmol/gDW/h]', 'N carbons', \n",
    "                                        'Mol weight [g/mol]'])"
   ]
  },
  {
   "cell_type": "code",
   "execution_count": 130,
   "id": "c0521e1c-0ef7-45cb-a3a9-d840952409ca",
   "metadata": {},
   "outputs": [],
   "source": [
    "df_rate['Species'] = 'C. glutamicum'\n",
    "df_rate['Carbon source'] = 'Glucose'\n",
    "df_rate['Dataset'] = 'Paczia-13'"
   ]
  },
  {
   "cell_type": "code",
   "execution_count": 132,
   "id": "a8f92a5a-861f-452f-814d-4758db366d1e",
   "metadata": {},
   "outputs": [],
   "source": [
    "df_rate.to_csv('paczia_13_rates_cglutamicum.csv')"
   ]
  },
  {
   "cell_type": "code",
   "execution_count": null,
   "id": "83e44656-ac27-4013-a611-45a006364d39",
   "metadata": {},
   "outputs": [],
   "source": []
  }
 ],
 "metadata": {
  "kernelspec": {
   "display_name": "Python 3 (ipykernel)",
   "language": "python",
   "name": "python3"
  },
  "language_info": {
   "codemirror_mode": {
    "name": "ipython",
    "version": 3
   },
   "file_extension": ".py",
   "mimetype": "text/x-python",
   "name": "python",
   "nbconvert_exporter": "python",
   "pygments_lexer": "ipython3",
   "version": "3.12.0"
  }
 },
 "nbformat": 4,
 "nbformat_minor": 5
}
