{
 "cells": [
  {
   "cell_type": "code",
   "execution_count": 1,
   "id": "fb8cbba7-3aa3-4e14-ac93-fae769356988",
   "metadata": {
    "execution": {
     "iopub.execute_input": "2024-08-18T19:56:46.502778Z",
     "iopub.status.busy": "2024-08-18T19:56:46.502297Z",
     "iopub.status.idle": "2024-08-18T19:56:48.220363Z",
     "shell.execute_reply": "2024-08-18T19:56:48.220096Z",
     "shell.execute_reply.started": "2024-08-18T19:56:46.502747Z"
    }
   },
   "outputs": [
    {
     "name": "stderr",
     "output_type": "stream",
     "text": [
      "/var/folders/h6/4b_zz_cd5d92w2ycp017ytn00000gp/T/ipykernel_87906/1696297986.py:1: DeprecationWarning: \n",
      "Pyarrow will become a required dependency of pandas in the next major release of pandas (pandas 3.0),\n",
      "(to allow more performant data types, such as the Arrow string type, and better interoperability with other libraries)\n",
      "but was not found to be installed on your system.\n",
      "If this would cause problems for you,\n",
      "please provide us feedback at https://github.com/pandas-dev/pandas/issues/54466\n",
      "        \n",
      "  import pandas as pd\n"
     ]
    }
   ],
   "source": [
    "import pandas as pd\n",
    "import numpy as np\n",
    "import matplotlib.pyplot as plt\n",
    "from pathlib import Path\n",
    "import sys\n",
    "sys.path.append('../../code/')\n",
    "sys.path.append('/Users/ssulheim/git/mwf_gems/code/python')\n",
    "import leakage_reframed\n",
    "import ng_utils\n",
    "import leakage\n",
    "import reframed\n",
    "import leakage_reframed\n",
    "import cobra\n",
    "import scipy"
   ]
  },
  {
   "cell_type": "markdown",
   "id": "9b7a1276-a002-4c51-aace-0630d412d784",
   "metadata": {},
   "source": [
    "## Use all models to predict the metabolite values for the other conditions"
   ]
  },
  {
   "cell_type": "code",
   "execution_count": null,
   "id": "6a85d10d-6c7b-463d-adec-5cd1489a0198",
   "metadata": {},
   "outputs": [],
   "source": [
    "real_conditions = {\n",
    "    1: [\"E_coli\", 'Glucose', -8.6],\n",
    "    2: [\"Yeast\", 'Glucose', -8.6],\n",
    "    3: ['B_licheniformis', 'Glucose', -8.6],\n",
    "    4: [\"E_coli\", 'Galactose', -8.6],\n",
    "    5: [\"E_coli\", 'L-malate', -8.6],\n",
    "    6: [\"E_coli\", 'L-alanine', -8.6],\n",
    "}"
   ]
  }
 ],
 "metadata": {
  "kernelspec": {
   "display_name": "Python 3 (ipykernel)",
   "language": "python",
   "name": "python3"
  },
  "language_info": {
   "codemirror_mode": {
    "name": "ipython",
    "version": 3
   },
   "file_extension": ".py",
   "mimetype": "text/x-python",
   "name": "python",
   "nbconvert_exporter": "python",
   "pygments_lexer": "ipython3",
   "version": "3.12.0"
  }
 },
 "nbformat": 4,
 "nbformat_minor": 5
}
