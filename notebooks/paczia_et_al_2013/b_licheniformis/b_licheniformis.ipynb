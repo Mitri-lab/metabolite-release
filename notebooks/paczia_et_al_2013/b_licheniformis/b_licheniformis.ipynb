{
 "cells": [
  {
   "cell_type": "code",
   "execution_count": 1,
   "id": "24e00450-b1de-4d57-a4e3-81abaaf0818a",
   "metadata": {},
   "outputs": [],
   "source": [
    "from translate import Translator\n",
    "import cobra\n",
    "import numpy as np\n",
    "from matplotlib import pyplot as plt\n",
    "import pandas as pd"
   ]
  },
  {
   "cell_type": "code",
   "execution_count": 2,
   "id": "9d33ed92-de0e-4ca9-b925-eec566939b36",
   "metadata": {},
   "outputs": [],
   "source": [
    "model_fn = 'models/b_licheniformis/1-s2.0-S0923250816000024-mmc1.xml'"
   ]
  },
  {
   "cell_type": "code",
   "execution_count": null,
   "id": "708feaeb-d051-490f-8c9e-b099d303859e",
   "metadata": {},
   "outputs": [],
   "source": [
    "model = cobra.io.read_sbml_model(model_fn)"
   ]
  },
  {
   "cell_type": "code",
   "execution_count": null,
   "id": "6c5d0e5e-22df-43c5-b371-4fd287b30982",
   "metadata": {},
   "outputs": [],
   "source": [
    "def bacillus_subtilis():\n",
    "    # Load original model\n",
    "    name = \"Bacillus subtilis\"\n",
    "    model_info = get_model_info(name)\n",
    "    logging.info(model_info)\n",
    "\n",
    "    # Load model\n",
    "    model_path = get_original_models_folder() / \"{0}.xml\".format(model_info[\"Model\"])\n",
    "    model = cobra.io.read_sbml_model(str(model_path))\n",
    "\n",
    "    # Change default bounds\n",
    "    for r in model.reactions:\n",
    "        if r.lower_bound < -1000:\n",
    "            r.lower_bound = -1000\n",
    "        if r.upper_bound > 1000:\n",
    "            r.upper_bound = 1000\n",
    "\n",
    "    # Remove universally blocked reactions\n",
    "    blocked_reactions = cobra.flux_analysis.find_blocked_reactions(model, open_exchanges = True)\n",
    "    model.remove_reactions(blocked_reactions, remove_orphans = True)\n",
    "    print(\"Removed {0} blocked reactions\".format(len(blocked_reactions)))\n",
    "\n",
    "    # The iBsu1103 model has a strange implementation of exchange reactions with \"boundary\" metabolites, appended \"_b\" in the id. These can be deleted\n",
    "    n_b = 0\n",
    "    mets_to_remove = []\n",
    "    for m in model.metabolites:\n",
    "        if m.id[-2:] ==\"_b\":\n",
    "            mets_to_remove.append(m)\n",
    "            n_b += 1\n",
    "\n",
    "    model.remove_metabolites(mets_to_remove)\n",
    "    logging.info(\"Deleted {0} boundary metabolites from iBsu1103\".format(n_b))\n",
    "\n",
    "    n_r = 0\n",
    "    rxns_to_remove = []\n",
    "    for r in model.reactions:\n",
    "        if len(r.metabolites) == 0:\n",
    "            rxns_to_remove.append(r)\n",
    "            n_r += 1\n",
    "    \n",
    "    model.remove_reactions(rxns_to_remove, remove_orphans = True)\n",
    "    logging.info(\"Deleted {0} boundary reactions from iBsu1103\".format(n_b))\n",
    "    model.repair()\n",
    "    model.optimize()\n",
    "\n",
    "    if not _has_curated_mapping(name):\n",
    "        # Get the translator\n",
    "        T = Translator()\n",
    "\n",
    "        # # Map extracellular metabolites to BiGG\n",
    "        bigg_match_list = []\n",
    "        for m in model.metabolites:\n",
    "            if m.compartment == \"e\":\n",
    "                seed_id = m.id.split(\"_\")[0]\n",
    "                matched_IDs = T.translate_met(seed_id, \"seed\", \"bigg\", return_all = True)\n",
    "                bigg_match_list.append([m.id, m.name, seed_id, \"; \".join(matched_IDs)])\n",
    "\n",
    "        # Store draft metabolite curations as csv\n",
    "        _store_draft_met_id_translation(name, bigg_match_list, col3 = \"seed ID\")\n",
    "\n",
    "    else:\n",
    "        # The next steps require that a curated version of the draft metabolite ID mapping is added to the \"curated\" folder\n",
    "        # Read curated csv-file\n",
    "        _convert_met_ids_from_table(name, model)\n",
    "\n",
    "        # Make common met ID changes\n",
    "        model = _additional_met_ID_curations(model)\n",
    "\n",
    "        # Change id of biomass\n",
    "        r_biomass = model.reactions.get_by_id(\"bio00127\")\n",
    "        r_biomass.id = \"Biomass\"\n",
    "\n",
    "        # Add exchange reactions for all extracellular media components\n",
    "        add_exchange_reactions(model)\n",
    "\n",
    "        save_curated_model_as_yml(model, model_info)\n",
    "        save_curated_model_as_xml(model, model_info)"
   ]
  }
 ],
 "metadata": {
  "kernelspec": {
   "display_name": "Python 3 (ipykernel)",
   "language": "python",
   "name": "python3"
  },
  "language_info": {
   "codemirror_mode": {
    "name": "ipython",
    "version": 3
   },
   "file_extension": ".py",
   "mimetype": "text/x-python",
   "name": "python",
   "nbconvert_exporter": "python",
   "pygments_lexer": "ipython3",
   "version": "3.12.0"
  }
 },
 "nbformat": 4,
 "nbformat_minor": 5
}
