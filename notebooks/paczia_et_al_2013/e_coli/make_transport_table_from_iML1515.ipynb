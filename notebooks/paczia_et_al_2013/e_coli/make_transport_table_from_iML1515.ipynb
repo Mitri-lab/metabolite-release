{
 "cells": [
  {
   "cell_type": "code",
   "execution_count": 1,
   "id": "dbcda9d1-7ea6-45c2-aebc-3d9545eda876",
   "metadata": {},
   "outputs": [],
   "source": [
    "import cobra\n",
    "import numpy as np\n",
    "from matplotlib import pyplot as plt\n",
    "import pandas as pd"
   ]
  },
  {
   "cell_type": "code",
   "execution_count": 2,
   "id": "4afb7535-a193-4e2a-a9cf-26418ed406b3",
   "metadata": {},
   "outputs": [
    {
     "name": "stdout",
     "output_type": "stream",
     "text": [
      "Set parameter Username\n",
      "Academic license - for non-commercial use only - expires 2024-02-26\n"
     ]
    }
   ],
   "source": [
    "iML1515_fn = '../models/e_coli/iML1515.xml'\n",
    "model = cobra.io.read_sbml_model(iML1515_fn)"
   ]
  },
  {
   "cell_type": "code",
   "execution_count": 93,
   "id": "3f86b1c0-1c99-4b13-b5fd-8f97f632b613",
   "metadata": {},
   "outputs": [],
   "source": [
    "# Get transport reactions\n",
    "transport_reactions = []\n",
    "transported_mets = []\n",
    "met_to_transport = {}\n",
    "for r in model.reactions:\n",
    "    if len(r.compartments) >1:\n",
    "        if r.id[:7] == 'BIOMASS':\n",
    "            continue\n",
    "        \n",
    "        transport_reactions.append(r)\n",
    "        t_mets = [m.id[:-2] for m in r.metabolites.keys() if m.id[-2:] in ['_e', '_p']]\n",
    "        for m_id in t_mets:\n",
    "            try:\n",
    "                t_list = met_to_transport[m_id]\n",
    "            except KeyError:\n",
    "                met_to_transport[m_id] = [r.id]\n",
    "            else:\n",
    "                met_to_transport[m_id] = t_list+[r.id]"
   ]
  },
  {
   "cell_type": "code",
   "execution_count": 94,
   "id": "11eeaf3b-0262-40ef-94f2-70ace2f4aa0e",
   "metadata": {},
   "outputs": [],
   "source": [
    "met_to_transport = {key: list(set(lst)) for key, lst in met_to_transport.items()}"
   ]
  },
  {
   "cell_type": "code",
   "execution_count": 170,
   "id": "ff9b8fa6-15b8-4a0a-84ed-8e496c390825",
   "metadata": {},
   "outputs": [],
   "source": [
    "co_mets = ['h_p', 'h_c', 'pep_c', 'pyr_c', 'pi_c', 'adp_c', 'atp_c', 'h2o_c']\n",
    "all_data = []\n",
    "for k, (key, lst) in enumerate(met_to_transport.items()):\n",
    "    if key == 'h':\n",
    "        continue\n",
    "    for r_id in lst:\n",
    "        r = model.reactions.get_by_id(r_id)\n",
    "        # print(r.id, r.reaction, r.bounds)\n",
    "        # print(r.compartments)\n",
    "        # Remove reactions that occurs across the periplasmic membrane, but are not transport reactions per se\n",
    "        mets = [m.id for m in r.metabolites]\n",
    "        ttype = 'None'\n",
    "        for pair in [['q8_c','q8h2_c'],['2dmmql8_c', '2dmmq8_c'], ['mql8_c','mqn8_c']]:\n",
    "            if len(set(pair+mets)) == len(mets):\n",
    "                # print('Skipping {0}'.format(r_id))\n",
    "                ttype = 'Not transport'\n",
    "                continue\n",
    "                \n",
    "        if 'murein5p5p_p' in mets:\n",
    "            ttype = 'Not transport'\n",
    "        elif 'dsbdox_c' in mets:\n",
    "            ttype = 'Not transport'\n",
    "        elif 'dsbcox_c' in mets:\n",
    "            ttype = 'Not transport'\n",
    "            \n",
    "        if ttype == 'Not transport':\n",
    "            continue\n",
    "        \n",
    "        \n",
    "        # Check compartments involved\n",
    "        membrane = '???'\n",
    "        if r.compartments == {'c', 'p'}:\n",
    "            membrane = 'inner'\n",
    "        elif r.compartments == {'e', 'p'}:\n",
    "            membrane = 'outer'\n",
    "        elif len(r.compartments) == 3:\n",
    "            # Remove co mets\n",
    "            compartments = set([x.rsplit('_')[-1] for x in mets if not x in co_mets])\n",
    "            if compartments == {'c', 'p'}:\n",
    "                membrane = 'inner'\n",
    "            elif compartments == {'e', 'p'}:\n",
    "                membrane = 'outer'\n",
    "\n",
    "        if len(mets)==2:\n",
    "            ttype = 'Diffusion'\n",
    "        elif 'atp_c' in mets:\n",
    "            ttype = 'ATP-binding cassette transporter'\n",
    "        elif 'pep_c' in mets:\n",
    "            ttype = 'PEP group translocation'\n",
    "        elif 'h_p' in mets:\n",
    "            s_h = r.metabolites[model.metabolites.get_by_id('h_p')]\n",
    "            s_m = r.metabolites[model.metabolites.get_by_id('{0}_p'.format(key))]\n",
    "            if s_h*s_m == 1:\n",
    "                ttype = 'Proton symport'\n",
    "            else:\n",
    "                ttype = 'Proton antiport'\n",
    "\n",
    "        elif 'na1_p' in mets:\n",
    "            s_p = r.metabolites[model.metabolites.get_by_id('na1_p')]\n",
    "            s_m = r.metabolites[model.metabolites.get_by_id('{0}_p'.format(key))]\n",
    "            if s_p*s_m == 1:\n",
    "                ttype = 'Sodium symport'\n",
    "            else:\n",
    "                ttype = 'Sodium antiport'\n",
    "        elif len(set([x[:-2] for x in mets]))==2:\n",
    "            # Other symport\n",
    "            sym = list(set([x[:-2] for x in mets if x[:-2]!= key]))[0]\n",
    "            c0 = list(r.compartments)[0]\n",
    "            s = r.metabolites[model.metabolites.get_by_id('{0}_{1}'.format(key, c0))]\n",
    "            s_sym = r.metabolites[model.metabolites.get_by_id('{0}_{1}'.format(sym, c0))]\n",
    "            if s*s_sym < 0:\n",
    "                ttype = '{0} antiporter'.format(sym)\n",
    "            else:\n",
    "                ttype = '{0} symporter'.format(sym)\n",
    "        elif r.id =='NMNt7pp':\n",
    "            ttype = 'Other active transport'\n",
    "            \n",
    "        if (r.lower_bound < 0) and (r.upper_bound > 0):\n",
    "            direction = 'Import and Export'\n",
    "        elif (r.lower_bound == 0) and (r.upper_bound == 0):\n",
    "            direction = 'Blocked'\n",
    "        else:\n",
    "            if (r.lower_bound < 0) and (r.upper_bound == 0):\n",
    "                factor = -1\n",
    "            else:\n",
    "                factor = 1\n",
    "            if 'e' in r.compartments:\n",
    "                s = r.metabolites[model.metabolites.get_by_id('{0}_e'.format(key))]\n",
    "            elif 'p' in r.compartments:\n",
    "                s = r.metabolites[model.metabolites.get_by_id('{0}_p'.format(key))]\n",
    "            else:\n",
    "                print(\"###\")\n",
    "                print(r.reaction)\n",
    "            if factor*s == -1:\n",
    "                direction = 'Import'\n",
    "            else:\n",
    "                direction = 'Export'\n",
    "\n",
    "\n",
    "        if (ttype =='None') or (membrane == '??'):\n",
    "            print(r.id, r.reaction, r.bounds, r.name)\n",
    "            print(r.compartments, compartments)\n",
    "            print(r_id, ttype, membrane, direction)\n",
    "            print('\\n')\n",
    "        \n",
    "        name = model.metabolites.get_by_id('{0}_{1}'.format(key, list(r.compartments)[0])).name\n",
    "        genes = ', '.join([g.id for g in r.genes if g.id !='s0001'])\n",
    "        all_data.append([key, name, membrane, direction, ttype, r_id, genes])\n",
    "                "
   ]
  },
  {
   "cell_type": "code",
   "execution_count": 171,
   "id": "832aac1f-9d5f-47f6-88db-bf6b56b75f22",
   "metadata": {},
   "outputs": [],
   "source": [
    "df = pd.DataFrame(all_data, columns = ['iML1515 metabolite ID', 'Metabolite name', 'Membrane', 'Direction', 'Transport type', 'iML1515 transport reaction ID', 'Genes'])"
   ]
  },
  {
   "cell_type": "code",
   "execution_count": 147,
   "id": "805ed832-734d-4c1b-87a6-761029cfcc7a",
   "metadata": {},
   "outputs": [],
   "source": [
    "# # Read metabolite mapping\n",
    "# mapping_df = pd.read_csv('../data/id_mapping.csv', index_col=0)\n",
    "# # df2 = pd.merge(leakage_df, mapping_df, left_index=True, right_index=True)\n"
   ]
  },
  {
   "cell_type": "code",
   "execution_count": 172,
   "id": "ee213a4a-f11e-4bf1-ab06-2a8c5869adfd",
   "metadata": {},
   "outputs": [],
   "source": [
    "df.to_csv('e_coli_transporters.csv')"
   ]
  }
 ],
 "metadata": {
  "kernelspec": {
   "display_name": "Python 3 (ipykernel)",
   "language": "python",
   "name": "python3"
  },
  "language_info": {
   "codemirror_mode": {
    "name": "ipython",
    "version": 3
   },
   "file_extension": ".py",
   "mimetype": "text/x-python",
   "name": "python",
   "nbconvert_exporter": "python",
   "pygments_lexer": "ipython3",
   "version": "3.9.13"
  }
 },
 "nbformat": 4,
 "nbformat_minor": 5
}
