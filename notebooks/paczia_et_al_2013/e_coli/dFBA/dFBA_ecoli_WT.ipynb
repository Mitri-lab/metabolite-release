{
 "cells": [
  {
   "cell_type": "code",
   "execution_count": 47,
   "id": "0a036844-9fbd-44d4-bf56-5c29b42ee4ca",
   "metadata": {},
   "outputs": [],
   "source": [
    "import cobra\n",
    "import numpy as np\n",
    "from matplotlib import pyplot as plt\n",
    "import pandas as pd\n",
    "import sys\n",
    "sys.path.append('../../../code/')\n",
    "import leakage\n",
    "import utils\n",
    "import FBA_leak\n",
    "from pathlib import Path"
   ]
  },
  {
   "cell_type": "markdown",
   "id": "8697d6c0-bbf4-4851-8a74-b629ee182523",
   "metadata": {},
   "source": [
    "# E. coli iJO1366 dynamic pFBA"
   ]
  },
  {
   "cell_type": "code",
   "execution_count": 61,
   "id": "8a6eec5f-2add-4a94-88bd-b7ee5819d02f",
   "metadata": {},
   "outputs": [
    {
     "name": "stdout",
     "output_type": "stream",
     "text": [
      "Read LP format model from file /var/folders/h6/4b_zz_cd5d92w2ycp017ytn00000gp/T/tmp5jn45mvx.lp\n",
      "Reading time = 0.01 seconds\n",
      ": 1805 rows, 5166 columns, 20366 nonzeros\n",
      "dFBA simulation took 6 seconds\n",
      "     Timepoint  Time      Ecoli\n",
      "0            0   0.0   0.006000\n",
      "1            1   0.1   0.006581\n",
      "2            2   0.2   0.007219\n",
      "3            3   0.3   0.007919\n",
      "4            4   0.4   0.008686\n",
      "..         ...   ...        ...\n",
      "194        194  19.4  10.379514\n",
      "195        195  19.5  10.379514\n",
      "196        196  19.6  10.379514\n",
      "197        197  19.7  10.379514\n",
      "198        198  19.8  10.379514\n",
      "\n",
      "[199 rows x 3 columns]\n"
     ]
    }
   ],
   "source": [
    "# model = cobra.io.read_sbml_model('../../../models/e_coli/iJR904.xml')\n",
    "# model = cobra.io.read_sbml_model('../../../models/e_coli/momentiJO1366.xml')\n",
    "model = cobra.io.read_sbml_model('../../../models/e_coli/iJO1366.xml')\n",
    "\n",
    "# model.reactions.DHAPT.knock_out()\n",
    "# model.reactions.THRA.knock_out()\n",
    "# model.reactions.THRA2.knock_out()\n",
    "# # model.reactions.F6PA_TG_forward.knock_out()\n",
    "# model.reactions.F6PA.bounds = (-1000,0)\n",
    "\n",
    "\n",
    "\n",
    "# model = cobra.io.read_sbml_model('../models/e_coli/e_coli_core.xml')\n",
    "model.solver = 'gurobi'\n",
    "# Initial conditions is 0.013 gDW/L (in total)\n",
    "model_name = 'Ecoli'\n",
    "model_name_dict = {model_name: [model, 0.006]}\n",
    "\n",
    "glucose_mM = utils.convert_gL_to_mM(\"C6H12O6\", 20)\n",
    "D1 = FBA_leak.dFBA(iterations = 200, dt = 0.1, method = \"pFBA\", store_exchanges_flag = False, pfba_fraction = 0.95)\n",
    "D1.add_models(model_name_dict)\n",
    "# Set Km and vMax\n",
    "D1.models[model_name].set_km(\"glc__D_e\", 1)\n",
    "D1.models[model_name].set_Vmax(\"glc__D_e\", 10)\n",
    "# D1.models[model_name].set_Vmax(\"o2_e\", 100)\n",
    "\n",
    "\n",
    "\n",
    "D1.medium.define_initial_conditions({\"glc__D_e\": glucose_mM})\n",
    "# D.medium.set_store_concentrations([\"glc__D_e\", \"nh3_e\"])\n",
    "D1.run()\n",
    "print(D1.biomass_df)"
   ]
  },
  {
   "cell_type": "code",
   "execution_count": 62,
   "id": "0fea106f-6a24-4147-a8f5-39c2a835d739",
   "metadata": {},
   "outputs": [
    {
     "data": {
      "text/html": [
       "<div>\n",
       "<style scoped>\n",
       "    .dataframe tbody tr th:only-of-type {\n",
       "        vertical-align: middle;\n",
       "    }\n",
       "\n",
       "    .dataframe tbody tr th {\n",
       "        vertical-align: top;\n",
       "    }\n",
       "\n",
       "    .dataframe thead th {\n",
       "        text-align: right;\n",
       "    }\n",
       "</style>\n",
       "<table border=\"1\" class=\"dataframe\">\n",
       "  <thead>\n",
       "    <tr style=\"text-align: right;\">\n",
       "      <th></th>\n",
       "      <th>ac_e</th>\n",
       "      <th>btn_e</th>\n",
       "      <th>ca2_e</th>\n",
       "      <th>cl_e</th>\n",
       "      <th>co2_e</th>\n",
       "      <th>cobalt2_e</th>\n",
       "      <th>cu2_e</th>\n",
       "      <th>fe2_e</th>\n",
       "      <th>fe3_e</th>\n",
       "      <th>glc__D_e</th>\n",
       "      <th>...</th>\n",
       "      <th>mobd_e</th>\n",
       "      <th>na1_e</th>\n",
       "      <th>nh4_e</th>\n",
       "      <th>ni2_e</th>\n",
       "      <th>o2_e</th>\n",
       "      <th>pi_e</th>\n",
       "      <th>so4_e</th>\n",
       "      <th>zn2_e</th>\n",
       "      <th>Timepoint</th>\n",
       "      <th>Time</th>\n",
       "    </tr>\n",
       "  </thead>\n",
       "  <tbody>\n",
       "    <tr>\n",
       "      <th>0</th>\n",
       "      <td>0.000000</td>\n",
       "      <td>1000.0</td>\n",
       "      <td>1000.0</td>\n",
       "      <td>1000.0</td>\n",
       "      <td>0.000000</td>\n",
       "      <td>1000.0</td>\n",
       "      <td>1000.0</td>\n",
       "      <td>1000.0</td>\n",
       "      <td>1000.0</td>\n",
       "      <td>111.014972</td>\n",
       "      <td>...</td>\n",
       "      <td>1000.0</td>\n",
       "      <td>1000.0</td>\n",
       "      <td>1000.0</td>\n",
       "      <td>1000.0</td>\n",
       "      <td>1000.0</td>\n",
       "      <td>1000.0</td>\n",
       "      <td>1000.0</td>\n",
       "      <td>1000.0</td>\n",
       "      <td>0</td>\n",
       "      <td>0.0</td>\n",
       "    </tr>\n",
       "    <tr>\n",
       "      <th>1</th>\n",
       "      <td>0.000371</td>\n",
       "      <td>1000.0</td>\n",
       "      <td>1000.0</td>\n",
       "      <td>1000.0</td>\n",
       "      <td>0.012664</td>\n",
       "      <td>1000.0</td>\n",
       "      <td>1000.0</td>\n",
       "      <td>1000.0</td>\n",
       "      <td>1000.0</td>\n",
       "      <td>111.008375</td>\n",
       "      <td>...</td>\n",
       "      <td>1000.0</td>\n",
       "      <td>1000.0</td>\n",
       "      <td>1000.0</td>\n",
       "      <td>1000.0</td>\n",
       "      <td>1000.0</td>\n",
       "      <td>1000.0</td>\n",
       "      <td>1000.0</td>\n",
       "      <td>1000.0</td>\n",
       "      <td>1</td>\n",
       "      <td>0.1</td>\n",
       "    </tr>\n",
       "    <tr>\n",
       "      <th>2</th>\n",
       "      <td>0.000779</td>\n",
       "      <td>1000.0</td>\n",
       "      <td>1000.0</td>\n",
       "      <td>1000.0</td>\n",
       "      <td>0.026556</td>\n",
       "      <td>1000.0</td>\n",
       "      <td>1000.0</td>\n",
       "      <td>1000.0</td>\n",
       "      <td>1000.0</td>\n",
       "      <td>111.001138</td>\n",
       "      <td>...</td>\n",
       "      <td>1000.0</td>\n",
       "      <td>1000.0</td>\n",
       "      <td>1000.0</td>\n",
       "      <td>1000.0</td>\n",
       "      <td>1000.0</td>\n",
       "      <td>1000.0</td>\n",
       "      <td>1000.0</td>\n",
       "      <td>1000.0</td>\n",
       "      <td>2</td>\n",
       "      <td>0.2</td>\n",
       "    </tr>\n",
       "    <tr>\n",
       "      <th>3</th>\n",
       "      <td>0.001226</td>\n",
       "      <td>1000.0</td>\n",
       "      <td>1000.0</td>\n",
       "      <td>1000.0</td>\n",
       "      <td>0.041793</td>\n",
       "      <td>1000.0</td>\n",
       "      <td>1000.0</td>\n",
       "      <td>1000.0</td>\n",
       "      <td>1000.0</td>\n",
       "      <td>110.993201</td>\n",
       "      <td>...</td>\n",
       "      <td>1000.0</td>\n",
       "      <td>1000.0</td>\n",
       "      <td>1000.0</td>\n",
       "      <td>1000.0</td>\n",
       "      <td>1000.0</td>\n",
       "      <td>1000.0</td>\n",
       "      <td>1000.0</td>\n",
       "      <td>1000.0</td>\n",
       "      <td>3</td>\n",
       "      <td>0.3</td>\n",
       "    </tr>\n",
       "    <tr>\n",
       "      <th>4</th>\n",
       "      <td>0.001716</td>\n",
       "      <td>1000.0</td>\n",
       "      <td>1000.0</td>\n",
       "      <td>1000.0</td>\n",
       "      <td>0.058508</td>\n",
       "      <td>1000.0</td>\n",
       "      <td>1000.0</td>\n",
       "      <td>1000.0</td>\n",
       "      <td>1000.0</td>\n",
       "      <td>110.984494</td>\n",
       "      <td>...</td>\n",
       "      <td>1000.0</td>\n",
       "      <td>1000.0</td>\n",
       "      <td>1000.0</td>\n",
       "      <td>1000.0</td>\n",
       "      <td>1000.0</td>\n",
       "      <td>1000.0</td>\n",
       "      <td>1000.0</td>\n",
       "      <td>1000.0</td>\n",
       "      <td>4</td>\n",
       "      <td>0.4</td>\n",
       "    </tr>\n",
       "    <tr>\n",
       "      <th>...</th>\n",
       "      <td>...</td>\n",
       "      <td>...</td>\n",
       "      <td>...</td>\n",
       "      <td>...</td>\n",
       "      <td>...</td>\n",
       "      <td>...</td>\n",
       "      <td>...</td>\n",
       "      <td>...</td>\n",
       "      <td>...</td>\n",
       "      <td>...</td>\n",
       "      <td>...</td>\n",
       "      <td>...</td>\n",
       "      <td>...</td>\n",
       "      <td>...</td>\n",
       "      <td>...</td>\n",
       "      <td>...</td>\n",
       "      <td>...</td>\n",
       "      <td>...</td>\n",
       "      <td>...</td>\n",
       "      <td>...</td>\n",
       "      <td>...</td>\n",
       "    </tr>\n",
       "    <tr>\n",
       "      <th>195</th>\n",
       "      <td>0.245057</td>\n",
       "      <td>1000.0</td>\n",
       "      <td>1000.0</td>\n",
       "      <td>1000.0</td>\n",
       "      <td>229.346719</td>\n",
       "      <td>1000.0</td>\n",
       "      <td>1000.0</td>\n",
       "      <td>1000.0</td>\n",
       "      <td>1000.0</td>\n",
       "      <td>0.000000</td>\n",
       "      <td>...</td>\n",
       "      <td>1000.0</td>\n",
       "      <td>1000.0</td>\n",
       "      <td>1000.0</td>\n",
       "      <td>1000.0</td>\n",
       "      <td>1000.0</td>\n",
       "      <td>1000.0</td>\n",
       "      <td>1000.0</td>\n",
       "      <td>1000.0</td>\n",
       "      <td>195</td>\n",
       "      <td>19.5</td>\n",
       "    </tr>\n",
       "    <tr>\n",
       "      <th>196</th>\n",
       "      <td>0.245057</td>\n",
       "      <td>1000.0</td>\n",
       "      <td>1000.0</td>\n",
       "      <td>1000.0</td>\n",
       "      <td>229.346719</td>\n",
       "      <td>1000.0</td>\n",
       "      <td>1000.0</td>\n",
       "      <td>1000.0</td>\n",
       "      <td>1000.0</td>\n",
       "      <td>0.000000</td>\n",
       "      <td>...</td>\n",
       "      <td>1000.0</td>\n",
       "      <td>1000.0</td>\n",
       "      <td>1000.0</td>\n",
       "      <td>1000.0</td>\n",
       "      <td>1000.0</td>\n",
       "      <td>1000.0</td>\n",
       "      <td>1000.0</td>\n",
       "      <td>1000.0</td>\n",
       "      <td>196</td>\n",
       "      <td>19.6</td>\n",
       "    </tr>\n",
       "    <tr>\n",
       "      <th>197</th>\n",
       "      <td>0.245057</td>\n",
       "      <td>1000.0</td>\n",
       "      <td>1000.0</td>\n",
       "      <td>1000.0</td>\n",
       "      <td>229.346719</td>\n",
       "      <td>1000.0</td>\n",
       "      <td>1000.0</td>\n",
       "      <td>1000.0</td>\n",
       "      <td>1000.0</td>\n",
       "      <td>0.000000</td>\n",
       "      <td>...</td>\n",
       "      <td>1000.0</td>\n",
       "      <td>1000.0</td>\n",
       "      <td>1000.0</td>\n",
       "      <td>1000.0</td>\n",
       "      <td>1000.0</td>\n",
       "      <td>1000.0</td>\n",
       "      <td>1000.0</td>\n",
       "      <td>1000.0</td>\n",
       "      <td>197</td>\n",
       "      <td>19.7</td>\n",
       "    </tr>\n",
       "    <tr>\n",
       "      <th>198</th>\n",
       "      <td>0.245057</td>\n",
       "      <td>1000.0</td>\n",
       "      <td>1000.0</td>\n",
       "      <td>1000.0</td>\n",
       "      <td>229.346719</td>\n",
       "      <td>1000.0</td>\n",
       "      <td>1000.0</td>\n",
       "      <td>1000.0</td>\n",
       "      <td>1000.0</td>\n",
       "      <td>0.000000</td>\n",
       "      <td>...</td>\n",
       "      <td>1000.0</td>\n",
       "      <td>1000.0</td>\n",
       "      <td>1000.0</td>\n",
       "      <td>1000.0</td>\n",
       "      <td>1000.0</td>\n",
       "      <td>1000.0</td>\n",
       "      <td>1000.0</td>\n",
       "      <td>1000.0</td>\n",
       "      <td>198</td>\n",
       "      <td>19.8</td>\n",
       "    </tr>\n",
       "    <tr>\n",
       "      <th>199</th>\n",
       "      <td>0.245057</td>\n",
       "      <td>1000.0</td>\n",
       "      <td>1000.0</td>\n",
       "      <td>1000.0</td>\n",
       "      <td>229.346719</td>\n",
       "      <td>1000.0</td>\n",
       "      <td>1000.0</td>\n",
       "      <td>1000.0</td>\n",
       "      <td>1000.0</td>\n",
       "      <td>0.000000</td>\n",
       "      <td>...</td>\n",
       "      <td>1000.0</td>\n",
       "      <td>1000.0</td>\n",
       "      <td>1000.0</td>\n",
       "      <td>1000.0</td>\n",
       "      <td>1000.0</td>\n",
       "      <td>1000.0</td>\n",
       "      <td>1000.0</td>\n",
       "      <td>1000.0</td>\n",
       "      <td>199</td>\n",
       "      <td>19.9</td>\n",
       "    </tr>\n",
       "  </tbody>\n",
       "</table>\n",
       "<p>200 rows × 25 columns</p>\n",
       "</div>"
      ],
      "text/plain": [
       "         ac_e   btn_e   ca2_e    cl_e       co2_e  cobalt2_e   cu2_e   fe2_e  \\\n",
       "0    0.000000  1000.0  1000.0  1000.0    0.000000     1000.0  1000.0  1000.0   \n",
       "1    0.000371  1000.0  1000.0  1000.0    0.012664     1000.0  1000.0  1000.0   \n",
       "2    0.000779  1000.0  1000.0  1000.0    0.026556     1000.0  1000.0  1000.0   \n",
       "3    0.001226  1000.0  1000.0  1000.0    0.041793     1000.0  1000.0  1000.0   \n",
       "4    0.001716  1000.0  1000.0  1000.0    0.058508     1000.0  1000.0  1000.0   \n",
       "..        ...     ...     ...     ...         ...        ...     ...     ...   \n",
       "195  0.245057  1000.0  1000.0  1000.0  229.346719     1000.0  1000.0  1000.0   \n",
       "196  0.245057  1000.0  1000.0  1000.0  229.346719     1000.0  1000.0  1000.0   \n",
       "197  0.245057  1000.0  1000.0  1000.0  229.346719     1000.0  1000.0  1000.0   \n",
       "198  0.245057  1000.0  1000.0  1000.0  229.346719     1000.0  1000.0  1000.0   \n",
       "199  0.245057  1000.0  1000.0  1000.0  229.346719     1000.0  1000.0  1000.0   \n",
       "\n",
       "      fe3_e    glc__D_e  ...  mobd_e   na1_e   nh4_e   ni2_e    o2_e    pi_e  \\\n",
       "0    1000.0  111.014972  ...  1000.0  1000.0  1000.0  1000.0  1000.0  1000.0   \n",
       "1    1000.0  111.008375  ...  1000.0  1000.0  1000.0  1000.0  1000.0  1000.0   \n",
       "2    1000.0  111.001138  ...  1000.0  1000.0  1000.0  1000.0  1000.0  1000.0   \n",
       "3    1000.0  110.993201  ...  1000.0  1000.0  1000.0  1000.0  1000.0  1000.0   \n",
       "4    1000.0  110.984494  ...  1000.0  1000.0  1000.0  1000.0  1000.0  1000.0   \n",
       "..      ...         ...  ...     ...     ...     ...     ...     ...     ...   \n",
       "195  1000.0    0.000000  ...  1000.0  1000.0  1000.0  1000.0  1000.0  1000.0   \n",
       "196  1000.0    0.000000  ...  1000.0  1000.0  1000.0  1000.0  1000.0  1000.0   \n",
       "197  1000.0    0.000000  ...  1000.0  1000.0  1000.0  1000.0  1000.0  1000.0   \n",
       "198  1000.0    0.000000  ...  1000.0  1000.0  1000.0  1000.0  1000.0  1000.0   \n",
       "199  1000.0    0.000000  ...  1000.0  1000.0  1000.0  1000.0  1000.0  1000.0   \n",
       "\n",
       "      so4_e   zn2_e  Timepoint  Time  \n",
       "0    1000.0  1000.0          0   0.0  \n",
       "1    1000.0  1000.0          1   0.1  \n",
       "2    1000.0  1000.0          2   0.2  \n",
       "3    1000.0  1000.0          3   0.3  \n",
       "4    1000.0  1000.0          4   0.4  \n",
       "..      ...     ...        ...   ...  \n",
       "195  1000.0  1000.0        195  19.5  \n",
       "196  1000.0  1000.0        196  19.6  \n",
       "197  1000.0  1000.0        197  19.7  \n",
       "198  1000.0  1000.0        198  19.8  \n",
       "199  1000.0  1000.0        199  19.9  \n",
       "\n",
       "[200 rows x 25 columns]"
      ]
     },
     "execution_count": 62,
     "metadata": {},
     "output_type": "execute_result"
    }
   ],
   "source": [
    "df = D1.medium.get_concentrations_df()\n",
    "df"
   ]
  },
  {
   "cell_type": "code",
   "execution_count": null,
   "id": "8205b7e3-21cf-44f8-8fdd-f9bb5a5fca94",
   "metadata": {},
   "outputs": [],
   "source": []
  },
  {
   "cell_type": "code",
   "execution_count": 63,
   "id": "a36e15b6-77ee-48ce-8e0e-bb24ecd3656c",
   "metadata": {},
   "outputs": [],
   "source": [
    "concentration_df = D.medium.get_concentrations_df()\n",
    "# concentration_df[\"iteration\"] = i+1"
   ]
  },
  {
   "cell_type": "code",
   "execution_count": 64,
   "id": "d86bf520-6d7e-4e62-8c00-4d20f63575cd",
   "metadata": {},
   "outputs": [
    {
     "name": "stderr",
     "output_type": "stream",
     "text": [
      "/var/folders/h6/4b_zz_cd5d92w2ycp017ytn00000gp/T/ipykernel_17004/877002676.py:2: SettingWithCopyWarning: \n",
      "A value is trying to be set on a copy of a slice from a DataFrame\n",
      "\n",
      "See the caveats in the documentation: https://pandas.pydata.org/pandas-docs/stable/user_guide/indexing.html#returning-a-view-versus-a-copy\n",
      "  cdf.drop(columns = ['Time', 'Timepoint'], inplace = True)\n"
     ]
    }
   ],
   "source": [
    "cdf = concentration_df.loc[:, concentration_df.max()<1000]\n",
    "cdf.drop(columns = ['Time', 'Timepoint'], inplace = True)"
   ]
  },
  {
   "cell_type": "code",
   "execution_count": 65,
   "id": "47ad89ef-5b29-4673-86c5-89ae327334d9",
   "metadata": {},
   "outputs": [],
   "source": [
    "n_carbon_dict = {}\n",
    "for col in cdf.columns:\n",
    "    try:\n",
    "        m = model.metabolites.get_by_id('{0}_c'.format(col[:-2]))\n",
    "    except KeyError:\n",
    "        m = model.metabolites.get_by_id(col)\n",
    "    n_carbon = m.elements['C']\n",
    "    n_carbon = n_carbon\n",
    "    n_carbon_dict[col] = n_carbon * cdf[col] # Convert from uM to M"
   ]
  },
  {
   "cell_type": "code",
   "execution_count": 66,
   "id": "f40ef287-cc0a-4b88-bb01-fcd54c2a1f0e",
   "metadata": {},
   "outputs": [],
   "source": [
    "\n",
    "cdf_nc = pd.DataFrame(n_carbon_dict, index = cdf.index)\n",
    "# cdf_nc.drop(columns = ['glc__D_e', 'hco3_e', 'co2_e'], inplace=True)\n",
    "# cdf_nc_norm = 100*cdf_nc/cdf_nc['glc__D_e'].max()\n",
    "cdf_nc2 = cdf_nc.drop(columns = ['glc__D_e'])\n",
    "other_idx = cdf_nc2.max()/cdf_nc2.max().max() < 0.01\n",
    "cdf_others = cdf_nc2.loc[:, ~other_idx].copy()\n",
    "cdf_others.loc[:,'Other'] = cdf_nc2.loc[:, other_idx].sum(axis=1)\n",
    "cdf_nc_norm = 100*cdf_others/cdf_nc['glc__D_e'].max()\n",
    "cdf_nc_norm.drop(columns = ['hco3_e', 'co2_e'], inplace=True)\n"
   ]
  },
  {
   "cell_type": "code",
   "execution_count": 67,
   "id": "8d96bffe-ccf3-44a7-9191-87599fd9a023",
   "metadata": {},
   "outputs": [
    {
     "data": {
      "text/plain": [
       "<AxesSubplot:>"
      ]
     },
     "execution_count": 67,
     "metadata": {},
     "output_type": "execute_result"
    },
    {
     "data": {
      "image/png": "[encoded data removed]",
      "text/plain": [
       "<Figure size 640x480 with 1 Axes>"
      ]
     },
     "metadata": {},
     "output_type": "display_data"
    }
   ],
   "source": [
    "cdf_nc_norm.plot()"
   ]
  },
  {
   "cell_type": "code",
   "execution_count": 68,
   "id": "ec3595b6-c552-4a70-b257-667c628f46f1",
   "metadata": {},
   "outputs": [
    {
     "data": {
      "text/plain": [
       "<AxesSubplot:>"
      ]
     },
     "execution_count": 68,
     "metadata": {},
     "output_type": "execute_result"
    },
    {
     "data": {
      "image/png": "[encoded data removed]",
      "text/plain": [
       "<Figure size 640x480 with 1 Axes>"
      ]
     },
     "metadata": {},
     "output_type": "display_data"
    }
   ],
   "source": [
    "cdf_nc_norm.loc[::10,:].plot(kind='bar', stacked=True)"
   ]
  },
  {
   "cell_type": "markdown",
   "id": "e0a46728-cf62-4a25-b5b8-7d90764c8403",
   "metadata": {},
   "source": [
    "# E. coli iJO1366 with dynamic pFBA with enzyme constraints"
   ]
  },
  {
   "cell_type": "code",
   "execution_count": 69,
   "id": "45e13a07-4090-461f-a353-b73f298eded0",
   "metadata": {},
   "outputs": [
    {
     "name": "stdout",
     "output_type": "stream",
     "text": [
      "Read LP format model from file /var/folders/h6/4b_zz_cd5d92w2ycp017ytn00000gp/T/tmpxapo7gjh.lp\n",
      "Reading time = 0.01 seconds\n",
      ": 1806 rows, 6356 columns, 29136 nonzeros\n",
      "dFBA simulation took 8 seconds\n",
      "     Timepoint  Time     Ecoli\n",
      "0            0   0.0  0.006000\n",
      "1            1   0.1  0.006415\n",
      "2            2   0.2  0.006858\n",
      "3            3   0.3  0.007332\n",
      "4            4   0.4  0.007839\n",
      "..         ...   ...       ...\n",
      "194        194  19.4  9.140038\n",
      "195        195  19.5  9.140038\n",
      "196        196  19.6  9.140038\n",
      "197        197  19.7  9.140038\n",
      "198        198  19.8  9.140038\n",
      "\n",
      "[199 rows x 3 columns]\n"
     ]
    }
   ],
   "source": [
    "# model = cobra.io.read_sbml_model('../../../models/e_coli/iJR904.xml')\n",
    "model = cobra.io.read_sbml_model('../../../models/e_coli/momentiJO1366.xml')\n",
    "# model = cobra.io.read_sbml_model('../../../models/e_coli/iJO1366.xml')\n",
    "\n",
    "# model.reactions.DHAPT.knock_out()\n",
    "# model.reactions.THRA.knock_out()\n",
    "# model.reactions.THRA2.knock_out()\n",
    "# model.reactions.F6PA_TG_forward.knock_out()\n",
    "\n",
    "\n",
    "\n",
    "\n",
    "# model = cobra.io.read_sbml_model('../models/e_coli/e_coli_core.xml')\n",
    "model.solver = 'gurobi'\n",
    "# Initial conditions is 0.013 gDW/L (in total)\n",
    "model_name = 'Ecoli'\n",
    "model_name_dict = {model_name: [model, 0.006]}\n",
    "\n",
    "glucose_mM = utils.convert_gL_to_mM(\"C6H12O6\", 20)\n",
    "D2 = FBA_leak.dFBA(iterations = 200, dt = 0.1, method = \"pFBA\", store_exchanges_flag = False, pfba_fraction = 0.95)\n",
    "D2.add_models(model_name_dict)\n",
    "# Set Km and vMax\n",
    "D2.models[model_name].set_km(\"glc__D_e\", 1)\n",
    "D2.models[model_name].set_Vmax(\"glc__D_e\", 10)\n",
    "\n",
    "\n",
    "\n",
    "D2.medium.define_initial_conditions({\"glc__D_e\": glucose_mM})\n",
    "# D.medium.set_store_concentrations([\"glc__D_e\", \"nh3_e\"])\n",
    "D2.run()\n",
    "print(D2.biomass_df)"
   ]
  },
  {
   "cell_type": "markdown",
   "id": "cc438fe6-1fdf-469d-ab3d-e838a81ecb6e",
   "metadata": {},
   "source": [
    "# E. coli iJO1366 with leakage"
   ]
  },
  {
   "cell_type": "code",
   "execution_count": 70,
   "id": "dba3525f-ef13-4d3f-85d1-1f40bf275c69",
   "metadata": {},
   "outputs": [
    {
     "name": "stdout",
     "output_type": "stream",
     "text": [
      "##### Leakage\n",
      "Read LP format model from file /var/folders/h6/4b_zz_cd5d92w2ycp017ytn00000gp/T/tmpf60ptxlj.lp\n",
      "Reading time = 0.01 seconds\n",
      ": 1805 rows, 5166 columns, 20366 nonzeros\n",
      "dFBA simulation took 90 seconds\n",
      "     Timepoint  Time     Ecoli\n",
      "0            0   0.0  0.006000\n",
      "1            1   0.1  0.006581\n",
      "2            2   0.2  0.007219\n",
      "3            3   0.3  0.007919\n",
      "4            4   0.4  0.008686\n",
      "..         ...   ...       ...\n",
      "194        194  19.4  9.523216\n",
      "195        195  19.5  9.523216\n",
      "196        196  19.6  9.523216\n",
      "197        197  19.7  9.523216\n",
      "198        198  19.8  9.523216\n",
      "\n",
      "[199 rows x 3 columns]\n"
     ]
    }
   ],
   "source": [
    "# model = cobra.io.read_sbml_model('../../../models/e_coli/iJR904.xml')\n",
    "# model = cobra.io.read_sbml_model('../../../models/e_coli/momentiJO1366.xml')\n",
    "model = cobra.io.read_sbml_model('../../../models/e_coli/iJO1366.xml')\n",
    "\n",
    "# model.reactions.DHAPT.knock_out()\n",
    "# model.reactions.THRA.knock_out()\n",
    "# model.reactions.THRA2.knock_out()\n",
    "# # model.reactions.F6PA_TG_forward.knock_out()\n",
    "# model.reactions.F6PA.bounds = (-1000,0)\n",
    "\n",
    "\n",
    "\n",
    "\n",
    "# model = cobra.io.read_sbml_model('../models/e_coli/e_coli_core.xml')\n",
    "model.solver = 'gurobi'\n",
    "# Initial conditions is 0.013 gDW/L (in total)\n",
    "model_name = 'Ecoli'\n",
    "model_name_dict = {model_name: [model, 0.006]}\n",
    "\n",
    "glucose_mM = utils.convert_gL_to_mM(\"C6H12O6\", 20)\n",
    "D3 = FBA_leak.dFBA(iterations = 200, dt = 0.1, method = \"FBA_with_leakage\", store_exchanges_flag = False, pfba_fraction = 0.95)\n",
    "D3.add_models(model_name_dict)\n",
    "# Set Km and vMax\n",
    "D3.models[model_name].set_km(\"glc__D_e\", 1)\n",
    "D3.models[model_name].set_Vmax(\"glc__D_e\", 10)\n",
    "\n",
    "\n",
    "D3.medium.define_initial_conditions({\"glc__D_e\": glucose_mM})\n",
    "# D.medium.set_store_concentrations([\"glc__D_e\", \"nh3_e\"])\n",
    "D3.run()\n",
    "print(D3.biomass_df)"
   ]
  },
  {
   "cell_type": "markdown",
   "id": "caa096db-b954-4bb6-b7fc-ddcd7791775b",
   "metadata": {},
   "source": [
    "# E. coli iJO1366 with enzyme constraints and leakage"
   ]
  },
  {
   "cell_type": "code",
   "execution_count": 71,
   "id": "ee4b18bc-046e-412a-966f-6c4a9320f159",
   "metadata": {},
   "outputs": [
    {
     "name": "stdout",
     "output_type": "stream",
     "text": [
      "##### Leakage\n",
      "Read LP format model from file /var/folders/h6/4b_zz_cd5d92w2ycp017ytn00000gp/T/tmpxh359_1n.lp\n",
      "Reading time = 0.01 seconds\n",
      ": 1806 rows, 6356 columns, 29136 nonzeros\n",
      "dFBA simulation took 131 seconds\n",
      "     Timepoint  Time     Ecoli\n",
      "0            0   0.0  0.006000\n",
      "1            1   0.1  0.006424\n",
      "2            2   0.2  0.006877\n",
      "3            3   0.3  0.007363\n",
      "4            4   0.4  0.007883\n",
      "..         ...   ...       ...\n",
      "194        194  19.4  8.052631\n",
      "195        195  19.5  8.052631\n",
      "196        196  19.6  8.052631\n",
      "197        197  19.7  8.052631\n",
      "198        198  19.8  8.052631\n",
      "\n",
      "[199 rows x 3 columns]\n"
     ]
    }
   ],
   "source": [
    "# model = cobra.io.read_sbml_model('../../../models/e_coli/iJR904.xml')\n",
    "model = cobra.io.read_sbml_model('../../../models/e_coli/momentiJO1366.xml')\n",
    "# model = cobra.io.read_sbml_model('../../../models/e_coli/iJO1366.xml')\n",
    "\n",
    "# model.reactions.DHAPT.knock_out()\n",
    "# model.reactions.THRA.knock_out()\n",
    "# model.reactions.THRA2.knock_out()\n",
    "# model.reactions.F6PA_TG_forward.knock_out()\n",
    "\n",
    "\n",
    "\n",
    "\n",
    "# model = cobra.io.read_sbml_model('../models/e_coli/e_coli_core.xml')\n",
    "model.solver = 'gurobi'\n",
    "# Initial conditions is 0.013 gDW/L (in total)\n",
    "model_name = 'Ecoli'\n",
    "model_name_dict = {model_name: [model, 0.006]}\n",
    "\n",
    "glucose_mM = utils.convert_gL_to_mM(\"C6H12O6\", 20)\n",
    "D4 = FBA_leak.dFBA(iterations = 200, dt = 0.1, method = \"FBA_with_leakage\", store_exchanges_flag = False, pfba_fraction = 0.95)\n",
    "D4.add_models(model_name_dict)\n",
    "# Set Km and vMax\n",
    "D4.models[model_name].set_km(\"glc__D_e\", 1)\n",
    "D4.models[model_name].set_Vmax(\"glc__D_e\", 10)\n",
    "\n",
    "\n",
    "\n",
    "D4.medium.define_initial_conditions({\"glc__D_e\": glucose_mM})\n",
    "# D.medium.set_store_concentrations([\"glc__D_e\", \"nh3_e\"])\n",
    "D4.run()\n",
    "print(D4.biomass_df)"
   ]
  },
  {
   "cell_type": "markdown",
   "id": "c95f3cee-c921-481f-8e6e-9c60e1607b22",
   "metadata": {},
   "source": [
    "# Compare results"
   ]
  },
  {
   "cell_type": "code",
   "execution_count": 72,
   "id": "8d97c0b7-6154-4486-9f00-09e5de684817",
   "metadata": {},
   "outputs": [
    {
     "data": {
      "text/plain": [
       "Text(0, 0.5, 'Biomass [gDW/L]')"
      ]
     },
     "execution_count": 72,
     "metadata": {},
     "output_type": "execute_result"
    },
    {
     "data": {
      "image/png": "[encoded data removed]",
      "text/plain": [
       "<Figure size 640x480 with 1 Axes>"
      ]
     },
     "metadata": {},
     "output_type": "display_data"
    }
   ],
   "source": [
    "fig, ax = plt.subplots(1)\n",
    "df = pd.DataFrame()\n",
    "df['iJO1366'] = D1.biomass_df['Ecoli']\n",
    "df['iJO1366 with ec'] = D2.biomass_df['Ecoli']\n",
    "df['iJO1366 with leakage'] = D3.biomass_df['Ecoli']\n",
    "df['iJO1366 with ec and leakage'] = D4.biomass_df['Ecoli']\n",
    "df.index = D4.biomass_df['Time']\n",
    "df.plot(ax=ax)\n",
    "ax.set_xlabel('Time [h]')\n",
    "ax.set_ylabel('Biomass [gDW/L]')"
   ]
  },
  {
   "cell_type": "code",
   "execution_count": 73,
   "id": "ffd45ad4-ee4b-42e2-956e-51705c167c89",
   "metadata": {},
   "outputs": [
    {
     "data": {
      "text/plain": [
       "<matplotlib.legend.Legend at 0x7fae9c29d5b0>"
      ]
     },
     "execution_count": 73,
     "metadata": {},
     "output_type": "execute_result"
    },
    {
     "data": {
      "image/png": "[encoded data removed]",
      "text/plain": [
       "<Figure size 640x480 with 4 Axes>"
      ]
     },
     "metadata": {},
     "output_type": "display_data"
    }
   ],
   "source": [
    "fig, axes = plt.subplots(2,2)\n",
    "\n",
    "axes = axes.flatten()\n",
    "labels = [\n",
    "    'iJO1366',\n",
    "    'ec-iJO1366',\n",
    "    'iJO1366 with leakage',\n",
    "    'ec-iJO1366 with leakage'\n",
    "]\n",
    "for i, D in enumerate([D1, D2, D3, D4]):\n",
    "    \n",
    "    cdf1 = D.medium.get_concentrations_df()\n",
    "    cdf1.set_index('Time', inplace = True)\n",
    "    cdf1.drop(columns=list(cdf1.columns[cdf1.max()==1000])+['Timepoint'], inplace=True)\n",
    "    cdf1.columns = [x[:-2] for x in cdf1.columns]\n",
    "    other_columns = cdf1.columns[cdf1.sum()/cdf1.sum().sum() < 0.001]\n",
    "    cdf1['Other'] = cdf1.loc[:, other_columns].sum(axis = 1)\n",
    "    cdf1.drop(columns=other_columns, inplace = True)\n",
    "    cdf1.drop(columns=['co2', 'glc__D', 'hco3'], inplace=True, errors = 'ignore')\n",
    "    \n",
    "    cdf1.plot(ax = axes[i])\n",
    "    \n",
    "    axes[i].set_title(labels[i])\n",
    "    plt.tight_layout()\n",
    "axes[3].legend(loc='center left', bbox_to_anchor=(1.0, 0.5))"
   ]
  },
  {
   "cell_type": "markdown",
   "id": "b1582680-b26e-458e-9f43-5080902bb0ec",
   "metadata": {},
   "source": [
    "## Have better look at detected mets"
   ]
  },
  {
   "cell_type": "code",
   "execution_count": 74,
   "id": "55d4c323-a5fa-4629-9857-4141435468fb",
   "metadata": {},
   "outputs": [],
   "source": [
    "detected_mets = ['g6p', 'f6p', 'fdp', 'dhap', 'g3p', '2pg, 3pg', 'pep', 'r5p', 'ru5p__D, ru5p__L, xu5p__D, xu5p__L', 'e4p', 'cit', 'acon_C', 'icit', 'oaa', 'glu__L', 'ser__L', 'asp__L', 'thr__L', 'hom__L', 'tyr__L', 'gly', 'pro__L', 'ala__L', 'met__L', 'val__L', 'phe__L', 'ile__L', 'leu__L', 'trp__L', 'his__L', 'arg__L', 'pyr', 'orot', 'fum', 'ura', 'akg', 'ac']\n",
    "df = D4.medium.get_concentrations_df()\n",
    "df.columns = [x[:-2] for x in df.columns]\n",
    "measured = df.loc[:, [x for x in detected_mets if x in df.columns]]"
   ]
  },
  {
   "cell_type": "code",
   "execution_count": 75,
   "id": "7c2769ba-8615-4863-baf1-c76a55356e28",
   "metadata": {},
   "outputs": [
    {
     "data": {
      "text/plain": [
       "(1e-08, 10)"
      ]
     },
     "execution_count": 75,
     "metadata": {},
     "output_type": "execute_result"
    },
    {
     "data": {
      "image/png": "[encoded data removed]",
      "text/plain": [
       "<Figure size 640x480 with 1 Axes>"
      ]
     },
     "metadata": {},
     "output_type": "display_data"
    }
   ],
   "source": [
    "from matplotlib import cm, colors\n",
    "cmap = colors.ListedColormap(cm.tab20b.colors[4:] + cm.tab20c.colors, name='tab40')\n",
    "\n",
    "fig, ax = plt.subplots(1)\n",
    "measured.plot(ax=ax, cmap = cmap)\n",
    "ax.legend(ncol = 2, loc = (1.05,0))\n",
    "ax.set_yscale('log')\n",
    "ax.set_ylim(1e-8,10)\n"
   ]
  },
  {
   "cell_type": "code",
   "execution_count": 76,
   "id": "d18a9049-26bc-4f61-9973-28d32c2f5903",
   "metadata": {},
   "outputs": [
    {
     "data": {
      "text/plain": [
       "<AxesSubplot:>"
      ]
     },
     "execution_count": 76,
     "metadata": {},
     "output_type": "execute_result"
    },
    {
     "data": {
      "image/png": "[encoded data removed]",
      "text/plain": [
       "<Figure size 640x480 with 1 Axes>"
      ]
     },
     "metadata": {},
     "output_type": "display_data"
    }
   ],
   "source": [
    "measured[['pyr', 'akg', 'cit', 'orot']].plot()"
   ]
  },
  {
   "cell_type": "code",
   "execution_count": 43,
   "id": "fc1c6fa0-73e4-4181-84af-b74def11e5ea",
   "metadata": {},
   "outputs": [
    {
     "data": {
      "text/plain": [
       "10fthf_e        4.274886e-06\n",
       "13dpg_e         7.920005e-04\n",
       "1ddecg3p_e      1.690529e-05\n",
       "1hdec9eg3p_e    1.337801e-05\n",
       "1hdecg3p_e      1.099549e-05\n",
       "                    ...     \n",
       "utp_e           8.272369e-05\n",
       "val__L_e        9.259139e-07\n",
       "xan_e           2.968411e-07\n",
       "xmp_e           2.469601e-07\n",
       "xu5p__D_e       7.082279e-04\n",
       "Length: 233, dtype: float64"
      ]
     },
     "execution_count": 43,
     "metadata": {},
     "output_type": "execute_result"
    }
   ],
   "source": [
    "cdf1.max()"
   ]
  },
  {
   "cell_type": "code",
   "execution_count": 69,
   "id": "b83d063d-9216-4e3b-b24f-4cb62290b72e",
   "metadata": {},
   "outputs": [],
   "source": [
    "# solution = model.optimize()\n",
    "# carbon_uptake = {}\n",
    "# for r in model.exchanges:\n",
    "#     flux = solution.fluxes[r.id]\n",
    "#     if flux < 0:\n",
    "#         m = r.metabolites.popitem()[0]\n",
    "#         try:\n",
    "#             Nc = m.elements['C']\n",
    "#         except KeyError:\n",
    "#             Nc = 0\n",
    "#         else:\n",
    "#             carbon_uptake[r.id] = [-flux * Nc, Nc, flux]\n",
    "        \n",
    "# cu = pd.DataFrame(carbon_uptake).T\n",
    "# cu.columns = ['C flux', 'Nc', 'Flux']\n",
    "# cu.sort_values(by='C flux', ascending = False)\n",
    "# reduction = 0.1*cu['C flux'].sum()\n",
    "# new_lower_bounds = {}\n",
    "# for r_id, row in cu.iterrows():\n",
    "#     if row['C flux'] > reduction:\n",
    "#         new_lower_bounds[r_id] = -(row['C flux']-reduction)/row['Nc']\n",
    "        \n",
    "# with model as M:\n",
    "#     for key, value in new_lower_bounds.items():\n",
    "#         M.reactions.get_by_id(key).lower_bound = value\n",
    "#     reduced_solution = M.slim_optimize()"
   ]
  },
  {
   "cell_type": "code",
   "execution_count": 70,
   "id": "ec952ebb-3919-481f-beed-97e6b634f925",
   "metadata": {},
   "outputs": [],
   "source": [
    "m = D.models['Ecoli']"
   ]
  },
  {
   "cell_type": "code",
   "execution_count": null,
   "id": "27fb7a48-5580-4e93-aea5-0f0bd6d4782c",
   "metadata": {},
   "outputs": [],
   "source": [
    "m.Vmax_dict"
   ]
  },
  {
   "cell_type": "code",
   "execution_count": 2,
   "id": "cd0442dc-4a1e-4439-9438-26d4c272e798",
   "metadata": {},
   "outputs": [
    {
     "name": "stdout",
     "output_type": "stream",
     "text": [
      "Set parameter Username\n",
      "Academic license - for non-commercial use only - expires 2024-02-26\n"
     ]
    }
   ],
   "source": [
    "# model = cobra.io.read_sbml_model('../../models/e_coli/momentiJO1366.xml')\n",
    "model = cobra.io.read_sbml_model('../../../models/e_coli/iJO1366.xml')\n",
    "\n",
    "# model = cobra.io.read_sbml_model('../../../models/e_coli/iJR904.xml')\n",
    "# model = cobra.io.read_sbml_model('../../models/e_coli/e_coli_core.xml')\n",
    "\n",
    "model.solver = 'gurobi'"
   ]
  },
  {
   "cell_type": "code",
   "execution_count": 3,
   "id": "b1ba8a37-2822-4261-b198-48d5465f567b",
   "metadata": {},
   "outputs": [],
   "source": [
    "# solution = cobra.flux_analysis.pfba(model)"
   ]
  },
  {
   "cell_type": "code",
   "execution_count": 4,
   "id": "07a524ab-35ed-4ffa-bcb9-e4f28c2791af",
   "metadata": {
    "tags": []
   },
   "outputs": [],
   "source": [
    "# model.reactions.DHAPT.knock_out()\n",
    "# model.reactions.THRA.knock_out()\n",
    "# model.reactions.THRA2.knock_out()\n",
    "# model.reactions.F6PA.knock_out()"
   ]
  },
  {
   "cell_type": "code",
   "execution_count": 5,
   "id": "43cadf69-9659-4e34-976e-e4227e379450",
   "metadata": {},
   "outputs": [
    {
     "name": "stdout",
     "output_type": "stream",
     "text": [
      "##### Lekage\n",
      "Read LP format model from file /var/folders/h6/4b_zz_cd5d92w2ycp017ytn00000gp/T/tmp8q5mw8tt.lp\n",
      "Reading time = 0.01 seconds\n",
      ": 1805 rows, 5166 columns, 20366 nonzeros\n"
     ]
    }
   ],
   "source": [
    "# Initial conditions is 0.013 gDW/L (in total)\n",
    "model_name = 'Ecoli'\n",
    "model_name_dict = {model_name: [model, 0.006]}\n",
    "\n",
    "glucose_mM = utils.convert_gL_to_mM(\"C6H12O6\", 4)\n",
    "D = FBA_leak.dFBA(iterations = 30, dt = 0.2, method = \"FBA_with_leakage\", store_exchanges_flag = False)#(, pfba_fraction = 0.95)\n",
    "D.add_models(model_name_dict)"
   ]
  },
  {
   "cell_type": "code",
   "execution_count": null,
   "id": "a07c116b-7348-4de0-abc5-b16f386093a6",
   "metadata": {},
   "outputs": [],
   "source": [
    "# Set Km and vMax\n",
    "D.models[model_name].set_km(\"glc__D_e\", 1)\n",
    "D.models[model_name].set_Vmax(\"glc__D_e\", 10)\n",
    "\n",
    "\n",
    "\n",
    "D.medium.define_initial_conditions({\"glc__D_e\": glucose_mM})\n",
    "# D.medium.set_store_concentrations([\"glc__D_e\", \"nh3_e\"])\n",
    "\n",
    "D.run()\n",
    "print(D.biomass_df)"
   ]
  },
  {
   "cell_type": "code",
   "execution_count": 7,
   "id": "47c335c9-c7c4-44e4-baac-584a189c4901",
   "metadata": {},
   "outputs": [
    {
     "data": {
      "text/html": [
       "<div>\n",
       "<style scoped>\n",
       "    .dataframe tbody tr th:only-of-type {\n",
       "        vertical-align: middle;\n",
       "    }\n",
       "\n",
       "    .dataframe tbody tr th {\n",
       "        vertical-align: top;\n",
       "    }\n",
       "\n",
       "    .dataframe thead th {\n",
       "        text-align: right;\n",
       "    }\n",
       "</style>\n",
       "<table border=\"1\" class=\"dataframe\">\n",
       "  <thead>\n",
       "    <tr style=\"text-align: right;\">\n",
       "      <th></th>\n",
       "      <th>Timepoint</th>\n",
       "      <th>Time</th>\n",
       "      <th>Ecoli</th>\n",
       "    </tr>\n",
       "  </thead>\n",
       "  <tbody>\n",
       "    <tr>\n",
       "      <th>0</th>\n",
       "      <td>0</td>\n",
       "      <td>0.0</td>\n",
       "      <td>0.006000</td>\n",
       "    </tr>\n",
       "    <tr>\n",
       "      <th>1</th>\n",
       "      <td>1</td>\n",
       "      <td>0.2</td>\n",
       "      <td>0.007173</td>\n",
       "    </tr>\n",
       "    <tr>\n",
       "      <th>2</th>\n",
       "      <td>2</td>\n",
       "      <td>0.4</td>\n",
       "      <td>0.007173</td>\n",
       "    </tr>\n",
       "    <tr>\n",
       "      <th>3</th>\n",
       "      <td>3</td>\n",
       "      <td>0.6</td>\n",
       "      <td>0.007173</td>\n",
       "    </tr>\n",
       "    <tr>\n",
       "      <th>4</th>\n",
       "      <td>4</td>\n",
       "      <td>0.8</td>\n",
       "      <td>0.007173</td>\n",
       "    </tr>\n",
       "    <tr>\n",
       "      <th>5</th>\n",
       "      <td>5</td>\n",
       "      <td>1.0</td>\n",
       "      <td>0.007173</td>\n",
       "    </tr>\n",
       "    <tr>\n",
       "      <th>6</th>\n",
       "      <td>6</td>\n",
       "      <td>1.2</td>\n",
       "      <td>0.007173</td>\n",
       "    </tr>\n",
       "    <tr>\n",
       "      <th>7</th>\n",
       "      <td>7</td>\n",
       "      <td>1.4</td>\n",
       "      <td>0.007173</td>\n",
       "    </tr>\n",
       "    <tr>\n",
       "      <th>8</th>\n",
       "      <td>8</td>\n",
       "      <td>1.6</td>\n",
       "      <td>0.007173</td>\n",
       "    </tr>\n",
       "    <tr>\n",
       "      <th>9</th>\n",
       "      <td>9</td>\n",
       "      <td>1.8</td>\n",
       "      <td>0.007173</td>\n",
       "    </tr>\n",
       "    <tr>\n",
       "      <th>10</th>\n",
       "      <td>10</td>\n",
       "      <td>2.0</td>\n",
       "      <td>0.007173</td>\n",
       "    </tr>\n",
       "    <tr>\n",
       "      <th>11</th>\n",
       "      <td>11</td>\n",
       "      <td>2.2</td>\n",
       "      <td>0.007173</td>\n",
       "    </tr>\n",
       "    <tr>\n",
       "      <th>12</th>\n",
       "      <td>12</td>\n",
       "      <td>2.4</td>\n",
       "      <td>0.007173</td>\n",
       "    </tr>\n",
       "    <tr>\n",
       "      <th>13</th>\n",
       "      <td>13</td>\n",
       "      <td>2.6</td>\n",
       "      <td>0.007173</td>\n",
       "    </tr>\n",
       "    <tr>\n",
       "      <th>14</th>\n",
       "      <td>14</td>\n",
       "      <td>2.8</td>\n",
       "      <td>0.007173</td>\n",
       "    </tr>\n",
       "    <tr>\n",
       "      <th>15</th>\n",
       "      <td>15</td>\n",
       "      <td>3.0</td>\n",
       "      <td>0.007173</td>\n",
       "    </tr>\n",
       "    <tr>\n",
       "      <th>16</th>\n",
       "      <td>16</td>\n",
       "      <td>3.2</td>\n",
       "      <td>0.007173</td>\n",
       "    </tr>\n",
       "    <tr>\n",
       "      <th>17</th>\n",
       "      <td>17</td>\n",
       "      <td>3.4</td>\n",
       "      <td>0.007173</td>\n",
       "    </tr>\n",
       "    <tr>\n",
       "      <th>18</th>\n",
       "      <td>18</td>\n",
       "      <td>3.6</td>\n",
       "      <td>0.007173</td>\n",
       "    </tr>\n",
       "    <tr>\n",
       "      <th>19</th>\n",
       "      <td>19</td>\n",
       "      <td>3.8</td>\n",
       "      <td>0.007173</td>\n",
       "    </tr>\n",
       "    <tr>\n",
       "      <th>20</th>\n",
       "      <td>20</td>\n",
       "      <td>4.0</td>\n",
       "      <td>0.007173</td>\n",
       "    </tr>\n",
       "    <tr>\n",
       "      <th>21</th>\n",
       "      <td>21</td>\n",
       "      <td>4.2</td>\n",
       "      <td>0.007173</td>\n",
       "    </tr>\n",
       "    <tr>\n",
       "      <th>22</th>\n",
       "      <td>22</td>\n",
       "      <td>4.4</td>\n",
       "      <td>0.007173</td>\n",
       "    </tr>\n",
       "    <tr>\n",
       "      <th>23</th>\n",
       "      <td>23</td>\n",
       "      <td>4.6</td>\n",
       "      <td>0.007173</td>\n",
       "    </tr>\n",
       "    <tr>\n",
       "      <th>24</th>\n",
       "      <td>24</td>\n",
       "      <td>4.8</td>\n",
       "      <td>0.007173</td>\n",
       "    </tr>\n",
       "    <tr>\n",
       "      <th>25</th>\n",
       "      <td>25</td>\n",
       "      <td>5.0</td>\n",
       "      <td>0.007173</td>\n",
       "    </tr>\n",
       "    <tr>\n",
       "      <th>26</th>\n",
       "      <td>26</td>\n",
       "      <td>5.2</td>\n",
       "      <td>0.007173</td>\n",
       "    </tr>\n",
       "    <tr>\n",
       "      <th>27</th>\n",
       "      <td>27</td>\n",
       "      <td>5.4</td>\n",
       "      <td>0.007173</td>\n",
       "    </tr>\n",
       "    <tr>\n",
       "      <th>28</th>\n",
       "      <td>28</td>\n",
       "      <td>5.6</td>\n",
       "      <td>0.007173</td>\n",
       "    </tr>\n",
       "  </tbody>\n",
       "</table>\n",
       "</div>"
      ],
      "text/plain": [
       "    Timepoint  Time     Ecoli\n",
       "0           0   0.0  0.006000\n",
       "1           1   0.2  0.007173\n",
       "2           2   0.4  0.007173\n",
       "3           3   0.6  0.007173\n",
       "4           4   0.8  0.007173\n",
       "5           5   1.0  0.007173\n",
       "6           6   1.2  0.007173\n",
       "7           7   1.4  0.007173\n",
       "8           8   1.6  0.007173\n",
       "9           9   1.8  0.007173\n",
       "10         10   2.0  0.007173\n",
       "11         11   2.2  0.007173\n",
       "12         12   2.4  0.007173\n",
       "13         13   2.6  0.007173\n",
       "14         14   2.8  0.007173\n",
       "15         15   3.0  0.007173\n",
       "16         16   3.2  0.007173\n",
       "17         17   3.4  0.007173\n",
       "18         18   3.6  0.007173\n",
       "19         19   3.8  0.007173\n",
       "20         20   4.0  0.007173\n",
       "21         21   4.2  0.007173\n",
       "22         22   4.4  0.007173\n",
       "23         23   4.6  0.007173\n",
       "24         24   4.8  0.007173\n",
       "25         25   5.0  0.007173\n",
       "26         26   5.2  0.007173\n",
       "27         27   5.4  0.007173\n",
       "28         28   5.6  0.007173"
      ]
     },
     "execution_count": 7,
     "metadata": {},
     "output_type": "execute_result"
    }
   ],
   "source": [
    "D.biomass_df"
   ]
  },
  {
   "cell_type": "markdown",
   "id": "4f3b01f8-2073-4588-8fce-e564d99750b4",
   "metadata": {},
   "source": [
    "# Make auxotrophs\n",
    "Using data from Mee et al., 2014 https://www.pnas.org/doi/epdf/10.1073/pnas.1405641111\n",
    "R: argA,\n",
    "C: cysE,\n",
    "G: glyA,\n",
    "H: hisB,\n",
    "I: ilvA,\n",
    "L: leuB,\n",
    "K: lysA,\n",
    "M: metA,\n",
    "F: pheA,\n",
    "P: proA,\n",
    "S: serA,\n",
    "T: thrC,\n",
    "W: trpC,\n",
    "Y: tyrA"
   ]
  },
  {
   "cell_type": "code",
   "execution_count": 4,
   "id": "4b02c36c-2fb5-4be5-afba-3e08a511231d",
   "metadata": {},
   "outputs": [],
   "source": [
    "KO_strain_dict = {\n",
    "'R': 'argA',\n",
    "'C': 'cysE',\n",
    "'G': 'glyA',\n",
    "'H': 'hisB',\n",
    "'I': 'ilvA',\n",
    "'L': 'leuB',\n",
    "'K': 'lysA',\n",
    "'M': 'metA',\n",
    "'F': 'pheA',\n",
    "'P': 'proA',\n",
    "'S': 'serA',\n",
    "'T': 'thrC',\n",
    "'W': 'trpC',\n",
    "'Y': 'tyrA'\n",
    "}"
   ]
  },
  {
   "cell_type": "code",
   "execution_count": 2,
   "id": "f3a99202-4f90-41e5-a10b-56c59436b92f",
   "metadata": {},
   "outputs": [
    {
     "name": "stdout",
     "output_type": "stream",
     "text": [
      "Set parameter Username\n",
      "Academic license - for non-commercial use only - expires 2024-02-26\n"
     ]
    }
   ],
   "source": [
    "# model = cobra.io.read_sbml_model('../../models/e_coli/iJR904.xml')\n",
    "model = cobra.io.read_sbml_model('../../models/e_coli/iJO1366.xml')\n",
    "# model = cobra.io.read_sbml_model('../../models/e_coli/e_coli_core.xml')"
   ]
  },
  {
   "cell_type": "code",
   "execution_count": 5,
   "id": "f8193fa6-dbba-467b-9194-b4ff879e0d6d",
   "metadata": {},
   "outputs": [
    {
     "name": "stdout",
     "output_type": "stream",
     "text": [
      "R b2818 0.0\n",
      "C b3607 0.0\n",
      "G b2551 0.0\n",
      "H b2022 0.0\n",
      "I b3772 0.0\n",
      "L b0073 0.0\n",
      "K b2838 0.0\n",
      "M b4013 0.0\n",
      "F b2599 0.0\n",
      "P b0243 0.0\n",
      "S b2913 0.0\n",
      "T b0004 0.0\n",
      "W b1262 0.0\n",
      "Y b2600 0.0\n"
     ]
    }
   ],
   "source": [
    "folder = Path('../../models/e_coli/ko/')\n",
    "\n",
    "\n",
    "model.solver = 'gurobi'\n",
    "model_dict = {}\n",
    "for key, gene_name in KO_strain_dict.items():\n",
    "    with model as M:\n",
    "        genes = [g for g in M.genes if g.name == gene_name]\n",
    "        rxns = cobra.manipulation.knock_out_model_genes(M, genes)\n",
    "        if key == 'I':\n",
    "            # According to the model, tdcB can perform the same function, but we assume this reaction is knocked out anyway here\n",
    "            M.reactions.THRD_L.bounds = (0,0)\n",
    "        if key =='G':\n",
    "            M.reactions.GLYAT.bounds = (0,1000)\n",
    "            M.reactions.THRA.bounds = (0,0)\n",
    "            M.reactions.THRA2.bounds = (0,0)\n",
    "        if key =='P':\n",
    "            # model.reactions.NACODA.bounds = (0,0)\n",
    "            M.reactions.P5CR.bounds = (0,0)\n",
    "        if key =='S':\n",
    "            M.reactions.GHMT2r.bounds = (0,1000)\n",
    "        if key =='T':\n",
    "            M.reactions.THRA.bounds = (0,1000)\n",
    "        print(key, genes[0], M.slim_optimize())\n",
    "        # print(M.metabolites.ser__L_c.summary())\n",
    "        cobra.io.write_sbml_model(M, folder/'{0}.xml'.format(key))\n",
    "        model_dict[key] = M"
   ]
  },
  {
   "cell_type": "code",
   "execution_count": 28,
   "id": "4f56f508-31d9-4424-bc1c-b6727c2a15a1",
   "metadata": {},
   "outputs": [
    {
     "name": "stdout",
     "output_type": "stream",
     "text": [
      "<Solution 699.022 at 0x7fd179c638b0>\n",
      "Objective\n",
      "=========\n",
      "1.0 BIOMASS_Ec_iJO1366_core_53p95M = 0.9823718127269754\n",
      "\n",
      "Uptake\n",
      "------\n",
      "Metabolite     Reaction      Flux  C-Number  C-Flux\n",
      "     ca2_e     EX_ca2_e  0.005113         0   0.00%\n",
      "      cl_e      EX_cl_e  0.005113         0   0.00%\n",
      " cobalt2_e EX_cobalt2_e 2.456E-05         0   0.00%\n",
      "     cu2_e     EX_cu2_e 0.0006965         0   0.00%\n",
      "     fe2_e     EX_fe2_e   0.01578         0   0.00%\n",
      "  glc__D_e  EX_glc__D_e        10         6 100.00%\n",
      "       k_e       EX_k_e    0.1918         0   0.00%\n",
      "     mg2_e     EX_mg2_e  0.008522         0   0.00%\n",
      "     mn2_e     EX_mn2_e 0.0006788         0   0.00%\n",
      "    mobd_e    EX_mobd_e 0.0001267         0   0.00%\n",
      "     nh4_e     EX_nh4_e     10.61         0   0.00%\n",
      "     ni2_e     EX_ni2_e 0.0003173         0   0.00%\n",
      "      o2_e      EX_o2_e     17.58         0   0.00%\n",
      "      pi_e      EX_pi_e    0.9476         0   0.00%\n",
      "     so4_e     EX_so4_e    0.2478         0   0.00%\n",
      "     zn2_e     EX_zn2_e  0.000335         0   0.00%\n",
      "\n",
      "Secretion\n",
      "---------\n",
      "Metabolite    Reaction       Flux  C-Number C-Flux\n",
      "  4crsol_c DM_4crsol_c -0.0002191         7  0.01%\n",
      "   5drib_c  DM_5drib_c  -0.000221         5  0.01%\n",
      "    amob_c   DM_amob_c -1.965E-06        15  0.00%\n",
      "  mththf_c DM_mththf_c -0.0004401         5  0.01%\n",
      "     co2_e    EX_co2_e     -19.68         1 99.98%\n",
      "     h2o_e    EX_h2o_e     -45.62         0  0.00%\n",
      "       h_e      EX_h_e     -9.026         0  0.00%\n",
      "    meoh_e   EX_meoh_e -1.965E-06         1  0.00%\n",
      "\n"
     ]
    }
   ],
   "source": [
    "model.optimize()\n",
    "print(cobra.flux_analysis.pfba(model))\n",
    "print(model.summary())"
   ]
  },
  {
   "cell_type": "code",
   "execution_count": 17,
   "id": "8eb72689-f336-4c1d-980c-21d0ec2ed675",
   "metadata": {},
   "outputs": [],
   "source": [
    "s = cobra.flux_analysis.pfba(model)"
   ]
  },
  {
   "cell_type": "code",
   "execution_count": 20,
   "id": "bb02affd-a5c3-4dfb-8f4c-b06d807470be",
   "metadata": {},
   "outputs": [
    {
     "data": {
      "text/html": [
       "<strong><em>Optimal</em> solution with objective value 699.022</strong><br><div>\n",
       "<style scoped>\n",
       "    .dataframe tbody tr th:only-of-type {\n",
       "        vertical-align: middle;\n",
       "    }\n",
       "\n",
       "    .dataframe tbody tr th {\n",
       "        vertical-align: top;\n",
       "    }\n",
       "\n",
       "    .dataframe thead th {\n",
       "        text-align: right;\n",
       "    }\n",
       "</style>\n",
       "<table border=\"1\" class=\"dataframe\">\n",
       "  <thead>\n",
       "    <tr style=\"text-align: right;\">\n",
       "      <th></th>\n",
       "      <th>fluxes</th>\n",
       "      <th>reduced_costs</th>\n",
       "    </tr>\n",
       "  </thead>\n",
       "  <tbody>\n",
       "    <tr>\n",
       "      <th>EX_cm_e</th>\n",
       "      <td>0.000000</td>\n",
       "      <td>-2.0</td>\n",
       "    </tr>\n",
       "    <tr>\n",
       "      <th>EX_cmp_e</th>\n",
       "      <td>0.000000</td>\n",
       "      <td>178.2</td>\n",
       "    </tr>\n",
       "    <tr>\n",
       "      <th>EX_co2_e</th>\n",
       "      <td>19.675223</td>\n",
       "      <td>-2.0</td>\n",
       "    </tr>\n",
       "    <tr>\n",
       "      <th>EX_cobalt2_e</th>\n",
       "      <td>-0.000025</td>\n",
       "      <td>2.0</td>\n",
       "    </tr>\n",
       "    <tr>\n",
       "      <th>DM_4crsol_c</th>\n",
       "      <td>0.000219</td>\n",
       "      <td>-2.0</td>\n",
       "    </tr>\n",
       "    <tr>\n",
       "      <th>...</th>\n",
       "      <td>...</td>\n",
       "      <td>...</td>\n",
       "    </tr>\n",
       "    <tr>\n",
       "      <th>RNDR4</th>\n",
       "      <td>0.000000</td>\n",
       "      <td>-2.0</td>\n",
       "    </tr>\n",
       "    <tr>\n",
       "      <th>RNDR4b</th>\n",
       "      <td>0.000000</td>\n",
       "      <td>-2.0</td>\n",
       "    </tr>\n",
       "    <tr>\n",
       "      <th>RNTR1c2</th>\n",
       "      <td>0.025705</td>\n",
       "      <td>-2.0</td>\n",
       "    </tr>\n",
       "    <tr>\n",
       "      <th>RNTR2c2</th>\n",
       "      <td>0.026541</td>\n",
       "      <td>-2.0</td>\n",
       "    </tr>\n",
       "    <tr>\n",
       "      <th>RNTR3c2</th>\n",
       "      <td>0.026541</td>\n",
       "      <td>-2.0</td>\n",
       "    </tr>\n",
       "  </tbody>\n",
       "</table>\n",
       "<p>2583 rows × 2 columns</p>\n",
       "</div>"
      ],
      "text/plain": [
       "<Solution 699.022 at 0x7fab3066b670>"
      ]
     },
     "execution_count": 20,
     "metadata": {},
     "output_type": "execute_result"
    }
   ],
   "source": [
    "s"
   ]
  },
  {
   "cell_type": "markdown",
   "id": "796afc4c-67ad-493f-a23e-5c5493363ba7",
   "metadata": {},
   "source": [
    "# Simulate auxotrophs"
   ]
  },
  {
   "cell_type": "code",
   "execution_count": 6,
   "id": "cbe52928-5f72-4909-b060-d6550d7d8479",
   "metadata": {},
   "outputs": [
    {
     "name": "stdout",
     "output_type": "stream",
     "text": [
      "##### Lekage\n",
      "Read LP format model from file /var/folders/h6/4b_zz_cd5d92w2ycp017ytn00000gp/T/tmpoc1bkvlp.lp\n",
      "Reading time = 0.00 seconds\n",
      ": 761 rows, 2150 columns, 9006 nonzeros\n",
      "dFBA simulation took 10 seconds\n",
      "   Timepoint  Time     Ecoli\n",
      "0          0   0.0  0.006000\n",
      "1          1   0.1  0.006543\n"
     ]
    }
   ],
   "source": [
    "model_name = 'Ecoli'\n",
    "model_name_dict = {model_name: [model_dict['I'], 0.006]}\n",
    "\n",
    "glucose_mM = utils.convert_gL_to_mM(\"C6H12O6\", 4)\n",
    "D = FBA_leak.dFBA(iterations = 3, dt = 0.1, method = \"FBA_with_leakage\", store_exchanges_flag = False)#(, pfba_fraction = 0.95)\n",
    "D.add_models(model_name_dict)\n",
    "# Set Km and vMax\n",
    "D.models[model_name].set_km(\"glc__D_e\", 1)\n",
    "D.models[model_name].set_Vmax(\"glc__D_e\", 10)\n",
    "\n",
    "\n",
    "\n",
    "D.medium.define_initial_conditions({\"glc__D_e\": glucose_mM, \"ile__L_e\": 1})\n",
    "D.run()\n",
    "print(D.biomass_df)"
   ]
  },
  {
   "cell_type": "code",
   "execution_count": 22,
   "id": "6599d374-639e-4057-8fef-dbf173dd9f56",
   "metadata": {},
   "outputs": [
    {
     "data": {
      "text/html": [
       "<div>\n",
       "<style scoped>\n",
       "    .dataframe tbody tr th:only-of-type {\n",
       "        vertical-align: middle;\n",
       "    }\n",
       "\n",
       "    .dataframe tbody tr th {\n",
       "        vertical-align: top;\n",
       "    }\n",
       "\n",
       "    .dataframe thead th {\n",
       "        text-align: right;\n",
       "    }\n",
       "</style>\n",
       "<table border=\"1\" class=\"dataframe\">\n",
       "  <thead>\n",
       "    <tr style=\"text-align: right;\">\n",
       "      <th></th>\n",
       "      <th>glc__D_e</th>\n",
       "      <th>ile__L_e</th>\n",
       "    </tr>\n",
       "  </thead>\n",
       "  <tbody>\n",
       "    <tr>\n",
       "      <th>0</th>\n",
       "      <td>22.202994</td>\n",
       "      <td>1.000000</td>\n",
       "    </tr>\n",
       "    <tr>\n",
       "      <th>1</th>\n",
       "      <td>22.196454</td>\n",
       "      <td>0.999836</td>\n",
       "    </tr>\n",
       "    <tr>\n",
       "      <th>2</th>\n",
       "      <td>22.189321</td>\n",
       "      <td>0.999658</td>\n",
       "    </tr>\n",
       "  </tbody>\n",
       "</table>\n",
       "</div>"
      ],
      "text/plain": [
       "    glc__D_e  ile__L_e\n",
       "0  22.202994  1.000000\n",
       "1  22.196454  0.999836\n",
       "2  22.189321  0.999658"
      ]
     },
     "execution_count": 22,
     "metadata": {},
     "output_type": "execute_result"
    }
   ],
   "source": [
    "D.concentrations_df[['glc__D_e', 'ile__L_e']]"
   ]
  },
  {
   "cell_type": "code",
   "execution_count": 10,
   "id": "e7b5b7ef-b46e-48aa-820d-6e905003f85f",
   "metadata": {},
   "outputs": [
    {
     "name": "stdout",
     "output_type": "stream",
     "text": [
      "10fthf_c 471.42344 5.716009444975999e-07\n",
      "13dpg_c 262.005382 1.0486222312436954e-05\n",
      "1pyr5c_c 112.10664 4.731233673722961e-06\n",
      "23dhdp_c 167.1189 3.727553324274676e-06\n",
      "23dhmb_c 133.12256 5.010496238288017e-06\n",
      "25aics_c 450.251561 1.3022634009434882e-06\n",
      "26dap_LL_c 190.19706 2.925990038853849e-06\n",
      "2cpr5p_c 346.206681 1.213939193873706e-06\n",
      "2dda7p_c 285.12206100000003 3.2569500418461468e-06\n",
      "2dr1p_c 212.09452100000001 3.892126247839106e-06\n",
      "2dr5p_c 212.09452100000001 3.892126247839044e-06\n",
      "2ippm_c 156.13602 3.233828574374865e-06\n",
      "2pg_c 183.033421 1.206470536637243e-05\n",
      "34hpp_c 179.14948 2.0334649037058393e-06\n",
      "3c2hmp_c 174.1513 3.2338285743755803e-06\n",
      "3c3hmp_c 174.1513 3.2338285743756684e-06\n",
      "3c4mop_c 172.13542 3.53137770839612e-06\n",
      "3dhq_c 189.14276 3.3040578304744168e-06\n",
      "3dhsk_c 171.12748 3.304057830475455e-06\n",
      "3ig3p_c 285.189841 1.2224728030777829e-06\n",
      "3mob_c 115.10728 5.010496238281086e-06\n",
      "3pg_c 183.033421 1.206470536637695e-05\n",
      "3php_c 181.017541 1.5357361845737776e-05\n",
      "3psme_c 320.146221 1.8791248500765039e-06\n",
      "4abz_c 136.12804 2.5451676421392865e-06\n",
      "4adcho_c 224.19009999999997 1.8263728952076019e-06\n",
      "4mop_c 129.13386 3.5855792004348624e-06\n",
      "4pasp_c 211.066701 8.476810821068932e-06\n",
      "5aizc_c 336.172101 1.963346278946229e-06\n",
      "5caiz_c 336.172101 1.9633462789467955e-06\n",
      "5mthf_c 458.44786 5.430347433969683e-07\n",
      "6hmhpt_c 195.17866 2.0439111700878294e-06\n",
      "6hmhptpp_c 352.114642 1.8701923752178263e-06\n",
      "6pgc_c 273.111361 4.090230169700405e-06\n",
      "6pgl_c 256.104021 4.160165150589009e-06\n",
      "accoa_c 805.539043 4.0610341340317774e-07\n",
      "acg5p_c 266.122021 3.422043866730795e-06\n",
      "acg5sa_c 172.1586 3.1441111321306792e-06\n",
      "acgam1p_c 299.171821 2.465286592626091e-06\n",
      "acglu_c 187.15006 3.635599478161378e-06\n",
      "acorn_c 174.19765999999998 2.865216459825924e-06\n",
      "acser_c 147.12926 5.913577939879528e-06\n",
      "actp_c 138.015981 1.9510397261000586e-05\n",
      "adp_c 424.177302 1.6052508361474901e-06\n",
      "adpglc_c 587.3258420000001 8.714796528780677e-07\n",
      "adphep_DD_c 617.3518220000001 7.928782967624346e-07\n",
      "adphep_LD_c 617.3518220000001 7.928782967625318e-07\n",
      "ahdt_c 491.138563 1.610761414756003e-06\n",
      "aicar_c 336.195281 1.8719403019799608e-06\n",
      "air_c 293.170541 2.0648501549519902e-06\n",
      "alaala_c 160.17108000000002 4.0424724518630545e-06\n",
      "alac__S_c 131.10668 5.773338148540204e-06\n",
      "amet_c 399.44532000000004 6.692238379027366e-07\n",
      "ametam_c 356.44376 6.72273441630449e-07\n",
      "amp_c 345.20534100000003 2.2366024051676274e-06\n",
      "anth_c 136.12804 2.545167642139331e-06\n",
      "aps_c 425.268541 1.4773651381956049e-06\n",
      "ara5p_c 228.093921 4.704784745038267e-06\n",
      "argsuc_c 289.26518 1.9157720184879116e-06\n",
      "aspsa_c 117.10328 7.230369900086866e-06\n",
      "atp_c 503.149263 1.5518851838505152e-06\n",
      "btn_c 243.3027 1000.0\n",
      "cbasp_c 174.11154 8.01522488712294e-06\n",
      "cbp_c 139.004041 0.00015074079657330375\n",
      "cdp_c 400.152602 1.9364570451178663e-06\n",
      "cdpea_c 445.236282 1.3375354559863994e-06\n",
      "chor_c 224.16692 1.897295845403507e-06\n",
      "citr__L_c 175.18572 3.6132206236569777e-06\n",
      "ckdo_c 541.357321 8.61587964399347e-07\n",
      "cmp_c 321.18064100000004 2.0150262914813205e-06\n",
      "co2_c 44.0095 0.02728456339895622\n",
      "coa_c 763.5023630000001 4.4111999560264965e-07\n",
      "ctp_c 479.124563 1.8630260009588583e-06\n",
      "cyst__L_c 222.26206 1.7423499213397707e-06\n",
      "dadp_c 408.17790199999996 7.904965152146834e-07\n",
      "damp_c 329.205941 8.17197458195685e-07\n",
      "datp_c 487.149863 1.4667186546706413e-06\n",
      "dcamp_c 459.26162100000005 1.1872578596004553e-06\n",
      "dcdp_c 384.153202 1.812735533450052e-06\n",
      "dctp_c 463.12516300000004 1.7471067030898906e-06\n",
      "dgdp_c 424.177302 7.180908048473544e-07\n",
      "dgtp_c 503.149263 1.4538848125028728e-06\n",
      "dhap_c 168.041961 8.95951948475102e-06\n",
      "dhf_c 441.39746 6.086165951597868e-07\n",
      "dhnpt_c 255.23062000000002 1.624681556577953e-06\n",
      "dhor__S_c 157.1042 8.240447234727477e-06\n",
      "dhpmp_c 333.194641 1.6107614147560604e-06\n",
      "dhpt_c 313.29142 8.310192154006505e-07\n",
      "dnad_c 662.393982 5.939696186338699e-07\n",
      "dtdp_c 399.164542 1.6288981093036963e-06\n",
      "dtmp_c 320.192581 1.6869741779517725e-06\n",
      "dttp_c 478.136503 1.5741861841702142e-06\n",
      "dudp_c 385.13796199999996 1.977033440178443e-06\n",
      "dump_c 306.166001 2.0585065316575254e-06\n",
      "dutp_c 464.109923 9.09130788250352e-07\n",
      "e4p_c 198.067941 6.255130482177587e-06\n",
      "eig3p_c 236.119221 2.7925345972736873e-06\n",
      "f6p_c 258.119901 3.7158408044646508e-06\n",
      "fad_c 783.5338620000001 3.6340688934875543e-07\n",
      "fadh2_c 785.549742 3.6077406710846993e-07\n",
      "fdp_c 336.083922 3.442415783095119e-06\n",
      "fe2_c 55.845 1000.0\n",
      "fgam_c 312.170581 2.3760618631771877e-06\n",
      "fpram_c 312.19376100000005 2.1757562018005345e-06\n",
      "fprica_c 364.20538100000005 1.7519051446795785e-06\n",
      "g1p_c 258.119901 3.715840804466826e-06\n",
      "g3p_c 168.041961 8.95951948475478e-06\n",
      "gam1p_c 258.143081 3.4942713822454573e-06\n",
      "gam6p_c 258.143081 3.4942713822464403e-06\n",
      "gar_c 285.168421 2.5330536592816233e-06\n",
      "gdp_c 440.17670200000003 1.5902631653361035e-06\n",
      "glc__D_c 180.15588 22.20299442904667\n",
      "glu5p_c 225.093281 5.418611485838652e-06\n",
      "glu5sa_c 131.12986 4.82127656106551e-06\n",
      "glu__D_c 146.12132 5.900587067697619e-06\n",
      "glx_c 73.02754 3.4436234738237346e-05\n",
      "glycogen_c 162.1406 3.5474890246373007e-06\n",
      "gmhep17bp_c 366.109902 2.8429851354041026e-06\n",
      "gmhep1p_c 288.14588100000003 2.88020449835243e-06\n",
      "gmhep7p_c 288.14588100000003 3.0378492207600293e-06\n",
      "gmp_c 361.204741 1.645954618925715e-06\n",
      "gtp_c 519.148663 1.5377436848647679e-06\n",
      "h2o_c 18.01528 1000.0\n",
      "h_c 1.00794 1000.0\n",
      "hco3_c 61.016839999999995 0.0017868147605999756\n",
      "hcys__L_c 135.18475999999998 2.4255515190389526e-06\n",
      "hisp_c 220.143001 2.563737315808128e-06\n",
      "histd_c 142.17898 2.594857716579681e-06\n",
      "hom__L_c 119.11916 6.1283373102853005e-06\n",
      "iasp_c 129.07092 1.0347996248631582e-05\n",
      "icit_c 189.09969999999998 5.773338143702175e-06\n",
      "ile__L_c 131.17291999999998 1.0\n",
      "imacp_c 218.103941 2.792534597273296e-06\n",
      "imp_c 346.190101 1.751905144679652e-06\n",
      "k_c 39.0983 1000.0\n",
      "kdo8p_c 315.14804100000003 2.7088328667610945e-06\n",
      "kdo_c 237.18401999999998 2.743062020524442e-06\n",
      "lipidX_c 709.8452209999999 2.2957643830091403e-07\n",
      "malcoa_c 848.5406029999999 3.997720944359603e-07\n",
      "methf_c 454.4161 5.716009444976151e-07\n",
      "mlthf_c 455.42404 5.560076688995268e-07\n",
      "na1_c 22.98977 1000.0\n",
      "nadh_c 663.425102 5.587777646362951e-07\n",
      "nadp_c 740.3811830000001 5.632597265081736e-07\n",
      "nadph_c 741.389123 5.459078423555638e-07\n",
      "nh4_c 18.03846 1000.0\n",
      "nicrnt_c 333.18804100000006 1.515094296216543e-06\n",
      "o2_c 31.9988 1000.0\n",
      "oaa_c 130.05568 1.2064705366372982e-05\n",
      "orot5p_c 365.166961 2.189755573860408e-06\n",
      "orot_c 155.08832 8.854015016490283e-06\n",
      "pap_c 423.16936200000004 1.6473898951518603e-06\n",
      "paps_c 503.23256200000003 1.4198497226057049e-06\n",
      "pep_c 165.01814099999999 1.2064705366369268e-05\n",
      "peptido_EC_c 990.96128 2.6512312300748664e-07\n",
      "phpyr_c 163.15008 1.9157720184881987e-06\n",
      "pi_c 95.97930099999999 1000.0\n",
      "pphn_c 224.16692 1.8972958454029775e-06\n",
      "pram_c 228.117101 3.823593095799622e-06\n",
      "pran_c 346.206681 1.2139391938735511e-06\n",
      "prbamp_c 555.283982 8.900150179735592e-07\n",
      "prbatp_c 713.227904 8.900150179735186e-07\n",
      "prfp_c 573.299262 8.900150179734994e-07\n",
      "prlp_c 573.299262 8.900150179734937e-07\n",
      "prpp_c 385.029903 4.01561219041826e-06\n",
      "pser__L_c 183.056601 1.1675224046123316e-05\n",
      "quln_c 165.10302 3.692605259809681e-06\n",
      "r1p_c 228.093921 4.704784745038927e-06\n",
      "r5p_c 228.093921 4.7047847450359424e-06\n",
      "ru5p__D_c 228.093921 4.704784745040669e-06\n",
      "s7p_c 288.14588100000003 3.0378492207604367e-06\n",
      "skm5p_c 251.107381 2.8101910790946307e-06\n",
      "skm_c 173.14336 3.0011009008939834e-06\n",
      "sl26da_c 288.25394 1.7696041912708447e-06\n",
      "sl2a6o_c 286.21488 1.8881726499434606e-06\n",
      "so4_c 96.0626 1000.0\n",
      "succoa_c 862.5671829999999 3.7776167205055923e-07\n",
      "suchms_c 218.18398 2.722435667368984e-06\n",
      "thdp_c 169.13478 3.357249638311591e-06\n",
      "thf_c 443.41334 5.91260221853226e-07\n",
      "u23ga_c 1016.011222 1.8046642615400613e-07\n",
      "u3aga_c 831.6928620000001 3.1111300724906764e-07\n",
      "u3hga_c 790.664122 3.302280967051213e-07\n",
      "uaccg_c 674.376662 7.19923048971863e-07\n",
      "uacgam_c 605.3378220000001 8.672549456994862e-07\n",
      "uama_c 747.470442 5.769146072293472e-07\n",
      "uamag_c 875.576482 4.499869968205697e-07\n",
      "uamr_c 676.3925420000002 6.968125671271894e-07\n",
      "udp_c 401.137362 2.1212715399900317e-06\n",
      "udpg_c 564.2859020000001 1.0356029242641467e-06\n",
      "ugmd_c 1047.758262 3.244768173606583e-07\n",
      "ugmda_c 1189.9140619999998 2.617166713792972e-07\n",
      "ump_c 322.16540100000003 2.213435918515777e-06\n",
      "utp_c 480.109323 2.0355316004106053e-06\n",
      "xmp_c 362.189501 1.852462497441081e-06\n",
      "xu5p__D_c 228.093921 4.704784745037518e-06\n"
     ]
    },
    {
     "ename": "KeyError",
     "evalue": "'Timepoint'",
     "output_type": "error",
     "traceback": [
      "\u001b[0;31m---------------------------------------------------------------------------\u001b[0m",
      "\u001b[0;31mKeyError\u001b[0m                                  Traceback (most recent call last)",
      "\u001b[0;32m/var/folders/h6/4b_zz_cd5d92w2ycp017ytn00000gp/T/ipykernel_12815/124029386.py\u001b[0m in \u001b[0;36m<module>\u001b[0;34m\u001b[0m\n\u001b[1;32m      1\u001b[0m \u001b[0;32mfor\u001b[0m \u001b[0mx\u001b[0m \u001b[0;32min\u001b[0m \u001b[0mD\u001b[0m\u001b[0;34m.\u001b[0m\u001b[0mconcentrations_df\u001b[0m\u001b[0;34m.\u001b[0m\u001b[0mcolumns\u001b[0m\u001b[0;34m:\u001b[0m\u001b[0;34m\u001b[0m\u001b[0;34m\u001b[0m\u001b[0m\n\u001b[0;32m----> 2\u001b[0;31m     \u001b[0mm\u001b[0m \u001b[0;34m=\u001b[0m \u001b[0mmodel\u001b[0m\u001b[0;34m.\u001b[0m\u001b[0mmetabolites\u001b[0m\u001b[0;34m.\u001b[0m\u001b[0mget_by_id\u001b[0m\u001b[0;34m(\u001b[0m\u001b[0mx\u001b[0m\u001b[0;34m.\u001b[0m\u001b[0mreplace\u001b[0m\u001b[0;34m(\u001b[0m\u001b[0;34m\"_e\"\u001b[0m\u001b[0;34m,\u001b[0m \u001b[0;34m\"_c\"\u001b[0m\u001b[0;34m)\u001b[0m\u001b[0;34m)\u001b[0m\u001b[0;34m\u001b[0m\u001b[0;34m\u001b[0m\u001b[0m\n\u001b[0m\u001b[1;32m      3\u001b[0m     \u001b[0mprint\u001b[0m\u001b[0;34m(\u001b[0m\u001b[0mm\u001b[0m\u001b[0;34m.\u001b[0m\u001b[0mid\u001b[0m\u001b[0;34m,\u001b[0m \u001b[0mm\u001b[0m\u001b[0;34m.\u001b[0m\u001b[0mformula_weight\u001b[0m\u001b[0;34m,\u001b[0m \u001b[0mD\u001b[0m\u001b[0;34m.\u001b[0m\u001b[0mconcentrations_df\u001b[0m\u001b[0;34m[\u001b[0m\u001b[0mx\u001b[0m\u001b[0;34m]\u001b[0m\u001b[0;34m.\u001b[0m\u001b[0mmax\u001b[0m\u001b[0;34m(\u001b[0m\u001b[0;34m)\u001b[0m\u001b[0;34m)\u001b[0m\u001b[0;34m\u001b[0m\u001b[0;34m\u001b[0m\u001b[0m\n",
      "\u001b[0;32m~/opt/anaconda3/lib/python3.9/site-packages/cobra/core/dictlist.py\u001b[0m in \u001b[0;36mget_by_id\u001b[0;34m(self, id)\u001b[0m\n\u001b[1;32m     73\u001b[0m     \u001b[0;32mdef\u001b[0m \u001b[0mget_by_id\u001b[0m\u001b[0;34m(\u001b[0m\u001b[0mself\u001b[0m\u001b[0;34m,\u001b[0m \u001b[0mid\u001b[0m\u001b[0;34m:\u001b[0m \u001b[0mUnion\u001b[0m\u001b[0;34m[\u001b[0m\u001b[0mObject\u001b[0m\u001b[0;34m,\u001b[0m \u001b[0mstr\u001b[0m\u001b[0;34m]\u001b[0m\u001b[0;34m)\u001b[0m \u001b[0;34m->\u001b[0m \u001b[0mObject\u001b[0m\u001b[0;34m:\u001b[0m\u001b[0;34m\u001b[0m\u001b[0;34m\u001b[0m\u001b[0m\n\u001b[1;32m     74\u001b[0m         \u001b[0;34m\"\"\"Return the element with a matching id.\"\"\"\u001b[0m\u001b[0;34m\u001b[0m\u001b[0;34m\u001b[0m\u001b[0m\n\u001b[0;32m---> 75\u001b[0;31m         \u001b[0;32mreturn\u001b[0m \u001b[0mlist\u001b[0m\u001b[0;34m.\u001b[0m\u001b[0m__getitem__\u001b[0m\u001b[0;34m(\u001b[0m\u001b[0mself\u001b[0m\u001b[0;34m,\u001b[0m \u001b[0mself\u001b[0m\u001b[0;34m.\u001b[0m\u001b[0m_dict\u001b[0m\u001b[0;34m[\u001b[0m\u001b[0mid\u001b[0m\u001b[0;34m]\u001b[0m\u001b[0;34m)\u001b[0m\u001b[0;34m\u001b[0m\u001b[0;34m\u001b[0m\u001b[0m\n\u001b[0m\u001b[1;32m     76\u001b[0m \u001b[0;34m\u001b[0m\u001b[0m\n\u001b[1;32m     77\u001b[0m     \u001b[0;32mdef\u001b[0m \u001b[0mlist_attr\u001b[0m\u001b[0;34m(\u001b[0m\u001b[0mself\u001b[0m\u001b[0;34m,\u001b[0m \u001b[0mattribute\u001b[0m\u001b[0;34m:\u001b[0m \u001b[0mstr\u001b[0m\u001b[0;34m)\u001b[0m \u001b[0;34m->\u001b[0m \u001b[0mlist\u001b[0m\u001b[0;34m:\u001b[0m\u001b[0;34m\u001b[0m\u001b[0;34m\u001b[0m\u001b[0m\n",
      "\u001b[0;31mKeyError\u001b[0m: 'Timepoint'"
     ]
    }
   ],
   "source": [
    "for x in D.concentrations_df.columns:\n",
    "    m = model.metabolites.get_by_id(x.replace(\"_e\", \"_c\"))\n",
    "    print(m.id, m.formula_weight, D.concentrations_df[x].max())"
   ]
  },
  {
   "cell_type": "code",
   "execution_count": 29,
   "id": "e1e204ba-08b4-4fff-bdd1-1ee4672767e2",
   "metadata": {},
   "outputs": [
    {
     "name": "stdout",
     "output_type": "stream",
     "text": [
      "u23ga_e         1.804664e-07\n",
      "lipidX_e        2.295764e-07\n",
      "ugmda_e         2.617167e-07\n",
      "peptido_EC_e    2.651231e-07\n",
      "u3aga_e         3.111130e-07\n",
      "                    ...     \n",
      "na1_e           1.000000e+03\n",
      "nh4_e           1.000000e+03\n",
      "o2_e            1.000000e+03\n",
      "btn_e           1.000000e+03\n",
      "pi_e            1.000000e+03\n",
      "Length: 198, dtype: float64\n"
     ]
    }
   ],
   "source": [
    "print(D.concentrations_df.max().sort_values())"
   ]
  },
  {
   "cell_type": "code",
   "execution_count": null,
   "id": "a0effbc2-28d4-4ee4-933c-1f60002e3dfa",
   "metadata": {},
   "outputs": [],
   "source": [
    "[x for x in D.concentrations_df.columns if D]"
   ]
  },
  {
   "cell_type": "code",
   "execution_count": 6,
   "id": "766f6bae-5549-4c3e-8b81-afed7f2d643f",
   "metadata": {},
   "outputs": [],
   "source": [
    "r = model.reactions.EX_12ppd__R_e"
   ]
  },
  {
   "cell_type": "code",
   "execution_count": 15,
   "id": "f9169197-3afb-4a36-b638-34f4e2e1ffc8",
   "metadata": {},
   "outputs": [
    {
     "data": {
      "text/plain": [
       "'12ppd__R_e'"
      ]
     },
     "execution_count": 15,
     "metadata": {},
     "output_type": "execute_result"
    }
   ],
   "source": [
    "r.metabolites.popitem()[0].id"
   ]
  },
  {
   "cell_type": "markdown",
   "id": "c99b4303-a230-4fd4-95a2-08130876596a",
   "metadata": {},
   "source": [
    "# Yield of AA"
   ]
  },
  {
   "cell_type": "code",
   "execution_count": 49,
   "id": "1ca2a78d-6204-4f37-aaa3-80dbb1832cf1",
   "metadata": {},
   "outputs": [
    {
     "data": {
      "text/html": [
       "\n",
       "        <table>\n",
       "            <tr>\n",
       "                <td><strong>Reaction identifier</strong></td><td>BIOMASS_Ecoli_core_w_GAM</td>\n",
       "            </tr><tr>\n",
       "                <td><strong>Name</strong></td><td>Biomass Objective Function with GAM</td>\n",
       "            </tr><tr>\n",
       "                <td><strong>Memory address</strong></td>\n",
       "                <td>0x7fe581d94880</td>\n",
       "            </tr><tr>\n",
       "                <td><strong>Stoichiometry</strong></td>\n",
       "                <td>\n",
       "                    <p style='text-align:right'>1.496 3pg_c + 3.7478 accoa_c + 59.81 atp_c + 0.361 e4p_c + 0.0709 f6p_c + 0.129 g3p_c + 0.205 g6p_c + 0.2557 gln__L_c + 4.9414 glu__L_c + 59.81 h2o_c + 3.547 nad_c + 13.0279 nadph_c + 1.7867 oaa_c...</p>\n",
       "                    <p style='text-align:right'>1.496 3-Phospho-D-glycerate + 3.7478 Acetyl-CoA + 59.81 ATP C10H12N5O13P3 + 0.361 D-Erythrose 4-phosphate + 0.0709 D-Fructose 6-phosphate + 0.129 Glyceraldehyde 3-phosphate + 0.205 D-Glucose...</p>\n",
       "                </td>\n",
       "            </tr><tr>\n",
       "                <td><strong>GPR</strong></td><td></td>\n",
       "            </tr><tr>\n",
       "                <td><strong>Lower bound</strong></td><td>0.0</td>\n",
       "            </tr><tr>\n",
       "                <td><strong>Upper bound</strong></td><td>1000.0</td>\n",
       "            </tr>\n",
       "        </table>\n",
       "        "
      ],
      "text/plain": [
       "<Reaction BIOMASS_Ecoli_core_w_GAM at 0x7fe581d94880>"
      ]
     },
     "execution_count": 49,
     "metadata": {},
     "output_type": "execute_result"
    }
   ],
   "source": [
    "model.reactions.BIOMASS_Ecoli_core_w_GAM"
   ]
  }
 ],
 "metadata": {
  "kernelspec": {
   "display_name": "Python 3 (ipykernel)",
   "language": "python",
   "name": "python3"
  },
  "language_info": {
   "codemirror_mode": {
    "name": "ipython",
    "version": 3
   },
   "file_extension": ".py",
   "mimetype": "text/x-python",
   "name": "python",
   "nbconvert_exporter": "python",
   "pygments_lexer": "ipython3",
   "version": "3.9.13"
  }
 },
 "nbformat": 4,
 "nbformat_minor": 5
}
