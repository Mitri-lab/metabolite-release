{
 "cells": [
  {
   "cell_type": "code",
   "execution_count": 1,
   "id": "16642449-d5a6-43b4-bffd-7345d189467a",
   "metadata": {
    "execution": {
     "iopub.execute_input": "2025-02-27T15:24:52.496930Z",
     "iopub.status.busy": "2025-02-27T15:24:52.495038Z",
     "iopub.status.idle": "2025-02-27T15:24:53.759250Z",
     "shell.execute_reply": "2025-02-27T15:24:53.758877Z",
     "shell.execute_reply.started": "2025-02-27T15:24:52.496820Z"
    }
   },
   "outputs": [],
   "source": [
    "import pandas as pd\n",
    "import matplotlib.pyplot as plt\n",
    "import matplotlib.colors as mpc\n",
    "import seaborn as sns\n",
    "import numpy as np\n",
    "dcolors = plt.cm.tab10.colors\n",
    "from pathlib import Path"
   ]
  },
  {
   "cell_type": "code",
   "execution_count": 3,
   "id": "8977235b-9fcc-4ab5-ba3e-a53bc5ad6a8c",
   "metadata": {
    "execution": {
     "iopub.execute_input": "2025-02-27T15:26:39.062681Z",
     "iopub.status.busy": "2025-02-27T15:26:39.060722Z",
     "iopub.status.idle": "2025-02-27T15:26:39.073968Z",
     "shell.execute_reply": "2025-02-27T15:26:39.072674Z",
     "shell.execute_reply.started": "2025-02-27T15:26:39.062583Z"
    }
   },
   "outputs": [],
   "source": [
    "git_folder = Path('../../..')\n",
    "figure_folder = git_folder / 'Figures'"
   ]
  },
  {
   "cell_type": "code",
   "execution_count": 6,
   "id": "402db19d-be82-466a-96b4-697a4c0f749a",
   "metadata": {
    "execution": {
     "iopub.execute_input": "2025-02-27T15:27:00.246540Z",
     "iopub.status.busy": "2025-02-27T15:27:00.244227Z",
     "iopub.status.idle": "2025-02-27T15:27:00.285514Z",
     "shell.execute_reply": "2025-02-27T15:27:00.284763Z",
     "shell.execute_reply.started": "2025-02-27T15:27:00.246439Z"
    }
   },
   "outputs": [],
   "source": [
    "fn = git_folder / 'data' / 'other'/'A_rates_and_values.csv'\n",
    "df_rates = pd.read_csv(fn, index_col=0)\n",
    "# df_rates = df_rates.loc[~df_rates['Rate [mmol/gDW/h]'].isna()]"
   ]
  },
  {
   "cell_type": "code",
   "execution_count": 11,
   "id": "430a904b-6f09-427b-b7db-942fbdfc3da3",
   "metadata": {
    "execution": {
     "iopub.execute_input": "2025-02-27T16:11:47.237422Z",
     "iopub.status.busy": "2025-02-27T16:11:47.236831Z",
     "iopub.status.idle": "2025-02-27T16:11:47.250455Z",
     "shell.execute_reply": "2025-02-27T16:11:47.249243Z",
     "shell.execute_reply.started": "2025-02-27T16:11:47.237387Z"
    }
   },
   "outputs": [],
   "source": [
    "fn_classification = git_folder / 'data'/'this_project'/'5_div'/'5D_classyfire_classification.csv'\n",
    "df_classyfire = pd.read_csv(fn_classification, index_col=0)\n",
    "met_to_class = df_classyfire.set_index('Metabolite')['Defined class'].to_dict()"
   ]
  },
  {
   "cell_type": "code",
   "execution_count": 12,
   "id": "2d0e4f03-4794-47e2-a84b-f51a29b8875d",
   "metadata": {
    "execution": {
     "iopub.execute_input": "2025-02-27T16:12:14.836964Z",
     "iopub.status.busy": "2025-02-27T16:12:14.836109Z",
     "iopub.status.idle": "2025-02-27T16:12:14.851101Z",
     "shell.execute_reply": "2025-02-27T16:12:14.850273Z",
     "shell.execute_reply.started": "2025-02-27T16:12:14.836902Z"
    }
   },
   "outputs": [],
   "source": [
    "df_rates['Compound class'] = df_rates.Metabolite.map(met_to_class)"
   ]
  },
  {
   "cell_type": "code",
   "execution_count": 7,
   "id": "7f3348a9-ef5e-4793-b66e-e847425c7407",
   "metadata": {
    "execution": {
     "iopub.execute_input": "2025-02-27T16:10:45.687344Z",
     "iopub.status.busy": "2025-02-27T16:10:45.686763Z",
     "iopub.status.idle": "2025-02-27T16:10:45.704364Z",
     "shell.execute_reply": "2025-02-27T16:10:45.701988Z",
     "shell.execute_reply.started": "2025-02-27T16:10:45.687307Z"
    }
   },
   "outputs": [
    {
     "data": {
      "text/plain": [
       "Index(['Metabolite', 'InChIKey', 'ClassyFy Status', 'Kingdom', 'Superclass',\n",
       "       'Class', 'Subclass', 'Parent Level 1', 'Parent Level 2',\n",
       "       'Parent Level 3', 'Parent Level 4', 'Parent Level 5', 'Defined class'],\n",
       "      dtype='object')"
      ]
     },
     "execution_count": 7,
     "metadata": {},
     "output_type": "execute_result"
    }
   ],
   "source": []
  }
 ],
 "metadata": {
  "kernelspec": {
   "display_name": "Python 3 (ipykernel)",
   "language": "python",
   "name": "python3"
  },
  "language_info": {
   "codemirror_mode": {
    "name": "ipython",
    "version": 3
   },
   "file_extension": ".py",
   "mimetype": "text/x-python",
   "name": "python",
   "nbconvert_exporter": "python",
   "pygments_lexer": "ipython3",
   "version": "3.9.21"
  }
 },
 "nbformat": 4,
 "nbformat_minor": 5
}
