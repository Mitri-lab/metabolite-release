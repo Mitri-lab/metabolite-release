{
 "cells": [
  {
   "cell_type": "code",
   "execution_count": 1,
   "id": "4719e57a-9f90-4537-9c2b-6318d4b025ff",
   "metadata": {
    "execution": {
     "iopub.execute_input": "2025-02-17T15:13:57.557079Z",
     "iopub.status.busy": "2025-02-17T15:13:57.556906Z",
     "iopub.status.idle": "2025-02-17T15:13:58.540502Z",
     "shell.execute_reply": "2025-02-17T15:13:58.540150Z",
     "shell.execute_reply.started": "2025-02-17T15:13:57.557059Z"
    }
   },
   "outputs": [],
   "source": [
    "import pandas as pd\n",
    "import matplotlib.pyplot as plt\n",
    "import seaborn as sns\n",
    "import numpy as np\n",
    "import scipy.stats as st\n",
    "from pathlib import Path"
   ]
  },
  {
   "cell_type": "code",
   "execution_count": 44,
   "id": "c670801f-6534-43c1-a8a6-16d52451b3b8",
   "metadata": {
    "execution": {
     "iopub.execute_input": "2025-02-19T12:42:43.146649Z",
     "iopub.status.busy": "2025-02-19T12:42:43.142011Z",
     "iopub.status.idle": "2025-02-19T12:42:43.171245Z",
     "shell.execute_reply": "2025-02-19T12:42:43.170790Z",
     "shell.execute_reply.started": "2025-02-19T12:42:43.146368Z"
    }
   },
   "outputs": [],
   "source": [
    "# # Data that could not be extracted from metabolic models\n",
    "# missing_data_dict = {\n",
    "#     'Pipecolic acid': {'N carbons':6,'Mol weight [g/mol]':129.16},\n",
    "#     'Creatine': {'N carbons':4,'Mol weight [g/mol]':131.13},\n",
    "#     'Alpha-aminoadipate': {'N carbons':6,'Mol weight [g/mol]':161.16},\n",
    "#     'Cis-aconitate': {'N carbons':6,'Mol weight [g/mol]':174.11},\n",
    "#     'Glutarate': {'N carbons':5,'Mol weight [g/mol]':132.11},\n",
    "#     'Alpha-aminobutyrate': {'N carbons':4,'Mol weight [g/mol]':102.11}\n",
    "# }"
   ]
  },
  {
   "cell_type": "markdown",
   "id": "358ce2ea-9f42-40ac-b125-58f46c42318c",
   "metadata": {},
   "source": [
    "# Load data"
   ]
  },
  {
   "cell_type": "code",
   "execution_count": 99,
   "id": "4ea1a10b-fe53-4892-94c7-fe98b61d92db",
   "metadata": {
    "execution": {
     "iopub.execute_input": "2025-02-27T10:45:22.356600Z",
     "iopub.status.busy": "2025-02-27T10:45:22.354998Z",
     "iopub.status.idle": "2025-02-27T10:45:22.376586Z",
     "shell.execute_reply": "2025-02-27T10:45:22.375309Z",
     "shell.execute_reply.started": "2025-02-27T10:45:22.356396Z"
    }
   },
   "outputs": [],
   "source": [
    "data_folder = Path('../../../data')"
   ]
  },
  {
   "cell_type": "code",
   "execution_count": 119,
   "id": "c17cb482-a9cf-4803-8cb8-aebf9a930487",
   "metadata": {
    "execution": {
     "iopub.execute_input": "2025-02-27T10:47:25.337164Z",
     "iopub.status.busy": "2025-02-27T10:47:25.336486Z",
     "iopub.status.idle": "2025-02-27T10:47:25.347343Z",
     "shell.execute_reply": "2025-02-27T10:47:25.345803Z",
     "shell.execute_reply.started": "2025-02-27T10:47:25.337123Z"
    }
   },
   "outputs": [],
   "source": [
    "sintef_fn = data_folder / 'this_project' / '1_e_coli_batch_cultures'/'1K_rates_and_values.csv'#'sintef_2023/sintef_2023_rates_1024.csv'\n",
    "\n",
    "paczia_ecoli_fn = data_folder /'paczia_2012' / 'paczia_12_rates_ecoli.csv'\n",
    "paczia_cglutamicum_fn =  data_folder /'paczia_2012' / 'paczia_12_rates_cglutamicum.csv'\n",
    "paczia_yeast_fn =  data_folder /'paczia_2012' / 'paczia_12_rates_yeast.csv'\n",
    "paczia_blicheniformis_fn = data_folder / 'paczia_2012' / 'paczia_12_rates_blicheniformis.csv'\n",
    "vila_rates_fn = data_folder / 'vila_2023' / 'vila_2023_rates_and_values.csv'\n"
   ]
  },
  {
   "cell_type": "code",
   "execution_count": 120,
   "id": "3dc1739e-dba3-4695-98d6-374fe3231713",
   "metadata": {
    "execution": {
     "iopub.execute_input": "2025-02-27T10:47:26.031846Z",
     "iopub.status.busy": "2025-02-27T10:47:26.030910Z",
     "iopub.status.idle": "2025-02-27T10:47:26.069164Z",
     "shell.execute_reply": "2025-02-27T10:47:26.068573Z",
     "shell.execute_reply.started": "2025-02-27T10:47:26.031803Z"
    }
   },
   "outputs": [],
   "source": [
    "sintef_df = pd.read_csv(sintef_fn, index_col=0)\n",
    "paczia_df_ecoli = pd.read_csv(paczia_ecoli_fn, index_col = 0)\n",
    "paczia_df_cglut = pd.read_csv(paczia_cglutamicum_fn, index_col = 0)\n",
    "paczia_df_yeast = pd.read_csv(paczia_yeast_fn, index_col = 0)\n",
    "paczia_df_blich = pd.read_csv(paczia_blicheniformis_fn, index_col = 0)\n",
    "vila_df = pd.read_csv(vila_rates_fn, index_col=0)"
   ]
  },
  {
   "cell_type": "code",
   "execution_count": 121,
   "id": "b7edb917-9864-49c4-b7f3-deb16c31c95d",
   "metadata": {
    "execution": {
     "iopub.execute_input": "2025-02-27T10:47:26.687861Z",
     "iopub.status.busy": "2025-02-27T10:47:26.687278Z",
     "iopub.status.idle": "2025-02-27T10:47:26.704480Z",
     "shell.execute_reply": "2025-02-27T10:47:26.702900Z",
     "shell.execute_reply.started": "2025-02-27T10:47:26.687827Z"
    }
   },
   "outputs": [],
   "source": [
    "df_rate = pd.concat([sintef_df, paczia_df_ecoli, paczia_df_cglut, paczia_df_blich,\n",
    "          paczia_df_yeast, vila_df])\n",
    "# df['Metabolite'] = df['Metabolite'].str.capitalize()"
   ]
  },
  {
   "cell_type": "code",
   "execution_count": 122,
   "id": "dea9e06e-195e-4446-8bb0-fa379d5b3668",
   "metadata": {
    "execution": {
     "iopub.execute_input": "2025-02-27T10:47:28.701355Z",
     "iopub.status.busy": "2025-02-27T10:47:28.700592Z",
     "iopub.status.idle": "2025-02-27T10:47:28.710385Z",
     "shell.execute_reply": "2025-02-27T10:47:28.709114Z",
     "shell.execute_reply.started": "2025-02-27T10:47:28.701304Z"
    }
   },
   "outputs": [],
   "source": [
    "df_rate = df_rate[['Metabolite', 'Carbon source', 'Rate [mmol/gDW/h]',\n",
    "       'Std. Err [mmol/gDW/h]', 'Metabolite value [gDW/mmol]', 'N carbons',\n",
    "       'Mol weight [g/mol]', 'Turnover [mmol/gDW/h]', 'Species', 'Dataset']]"
   ]
  },
  {
   "cell_type": "code",
   "execution_count": 123,
   "id": "4e958d94-8147-48d3-8217-23655a3307f2",
   "metadata": {
    "execution": {
     "iopub.execute_input": "2025-02-27T10:47:29.094404Z",
     "iopub.status.busy": "2025-02-27T10:47:29.093818Z",
     "iopub.status.idle": "2025-02-27T10:47:29.107044Z",
     "shell.execute_reply": "2025-02-27T10:47:29.105753Z",
     "shell.execute_reply.started": "2025-02-27T10:47:29.094369Z"
    }
   },
   "outputs": [],
   "source": [
    "df_rate['Metabolite'] = df_rate['Metabolite'].replace({'L-serine': 'Serine', \n",
    "                                             # 'Propanoate': 'Propionate', \n",
    "                                             'Dihydroxyacetonephosphate': 'Dihydroxyacetone phosphate',\n",
    "                                            'Deoxycarnitine (deoxy-c0)': 'Deoxycarnitine',\n",
    "                                             'Glutarylcarnitine (c5-dc)': 'Glutarylcarnitine',\n",
    "                                             'Sebacoyl-l-carnitine (c10-dc)': 'Sebacoyl-l-carnitine'})\n",
    "\n",
    "df_rate.reset_index(inplace=True, drop=True)"
   ]
  },
  {
   "cell_type": "code",
   "execution_count": 142,
   "id": "ee30a461-62bd-42df-bb56-2dfb4bb5f41e",
   "metadata": {
    "execution": {
     "iopub.execute_input": "2025-02-27T10:51:40.093445Z",
     "iopub.status.busy": "2025-02-27T10:51:40.091737Z",
     "iopub.status.idle": "2025-02-27T10:51:40.112753Z",
     "shell.execute_reply": "2025-02-27T10:51:40.112047Z",
     "shell.execute_reply.started": "2025-02-27T10:51:40.093381Z"
    }
   },
   "outputs": [],
   "source": [
    "mets = non_nan_mets = sorted(df_rate.Metabolite.unique())\n",
    "non_nan_mets = sorted(df_rate.loc[~df_rate.isna().any(axis=1)].Metabolite.unique())\n"
   ]
  },
  {
   "cell_type": "code",
   "execution_count": 143,
   "id": "55e6679d-479a-4234-af0b-362e643fe105",
   "metadata": {
    "execution": {
     "iopub.execute_input": "2025-02-27T10:51:42.345139Z",
     "iopub.status.busy": "2025-02-27T10:51:42.344344Z",
     "iopub.status.idle": "2025-02-27T10:51:42.362641Z",
     "shell.execute_reply": "2025-02-27T10:51:42.361592Z",
     "shell.execute_reply.started": "2025-02-27T10:51:42.345099Z"
    }
   },
   "outputs": [
    {
     "data": {
      "text/plain": [
       "['2-phosphoglycerate',\n",
       " '3-phosphoglycerate',\n",
       " 'Acetate',\n",
       " 'Acetyl-ornithine',\n",
       " 'Alanine',\n",
       " 'Alpha-ketoglutarate',\n",
       " 'Arginine',\n",
       " 'Asparagine',\n",
       " 'Aspartate',\n",
       " 'Beta-alanine',\n",
       " 'Beta-hydroxybutyrate',\n",
       " 'Cis-aconitate',\n",
       " 'Citrate',\n",
       " 'Dihydroxyacetone phosphate',\n",
       " 'Erythrose-4-phosphate',\n",
       " 'Ethanol',\n",
       " 'Formate',\n",
       " 'Fructose-1,6-bisphosphate',\n",
       " 'Fructose-6-phosphate',\n",
       " 'Fumarate',\n",
       " 'Gamma-aminobutyrate',\n",
       " 'Glucose-6-phosphate',\n",
       " 'Glutamate',\n",
       " 'Glutamine',\n",
       " 'Glyceraldehyde-3-phosphate',\n",
       " 'Glycine',\n",
       " 'Histidine',\n",
       " 'Homoserine',\n",
       " 'Isocitrate',\n",
       " 'Isoleucine',\n",
       " 'Lactate',\n",
       " 'Leucine',\n",
       " 'Lysine',\n",
       " 'Malate',\n",
       " 'Methionine',\n",
       " 'NAD',\n",
       " 'Orotate',\n",
       " 'Oxaloacetate',\n",
       " 'Phenylalanine',\n",
       " 'Phosphoenolpyruvate',\n",
       " 'Proline',\n",
       " 'Propionate',\n",
       " 'Putrescine',\n",
       " 'Pyruvate',\n",
       " 'Ribose-5-phosphate',\n",
       " 'Ribulose-5-phosphate',\n",
       " 'Sedoheptulose 7-phosphate',\n",
       " 'Serine',\n",
       " 'Shikimate',\n",
       " 'Succinate',\n",
       " 'Threonine',\n",
       " 'Trans-aconitate',\n",
       " 'Tryptophan',\n",
       " 'Tyrosine',\n",
       " 'Uracil',\n",
       " 'Valine',\n",
       " 'Xylulose-5-phosphate']"
      ]
     },
     "execution_count": 143,
     "metadata": {},
     "output_type": "execute_result"
    }
   ],
   "source": [
    "non_nan_mets"
   ]
  },
  {
   "cell_type": "code",
   "execution_count": 133,
   "id": "d2c5cba7-9654-463e-b636-8fd1357fb4e6",
   "metadata": {
    "execution": {
     "iopub.execute_input": "2025-02-27T10:50:04.437882Z",
     "iopub.status.busy": "2025-02-27T10:50:04.437292Z",
     "iopub.status.idle": "2025-02-27T10:50:04.451969Z",
     "shell.execute_reply": "2025-02-27T10:50:04.451200Z",
     "shell.execute_reply.started": "2025-02-27T10:50:04.437848Z"
    }
   },
   "outputs": [
    {
     "data": {
      "text/plain": [
       "0      True\n",
       "1      True\n",
       "2      True\n",
       "3      True\n",
       "4      True\n",
       "       ... \n",
       "690    True\n",
       "691    True\n",
       "692    True\n",
       "693    True\n",
       "694    True\n",
       "Length: 695, dtype: bool"
      ]
     },
     "execution_count": 133,
     "metadata": {},
     "output_type": "execute_result"
    }
   ],
   "source": [
    "df_rate.notna().any(axis = 1)"
   ]
  },
  {
   "cell_type": "markdown",
   "id": "2359c33b-6c2b-41a7-a5c0-6ae6baa017d6",
   "metadata": {},
   "source": [
    "# Load additional info"
   ]
  },
  {
   "cell_type": "code",
   "execution_count": 144,
   "id": "dcb0515f-6d15-4e64-bf10-3ac2d04fc8a3",
   "metadata": {
    "execution": {
     "iopub.execute_input": "2025-02-27T13:04:17.636021Z",
     "iopub.status.busy": "2025-02-27T13:04:17.632595Z",
     "iopub.status.idle": "2025-02-27T13:04:17.669306Z",
     "shell.execute_reply": "2025-02-27T13:04:17.668446Z",
     "shell.execute_reply.started": "2025-02-27T13:04:17.635911Z"
    }
   },
   "outputs": [],
   "source": [
    "met_info_fn = data_folder / 'this_project' / '5_div' / '5C_metabolite_info.csv'"
   ]
  },
  {
   "cell_type": "code",
   "execution_count": 145,
   "id": "34f0f334-eaf7-4da9-b816-cec39bc373f5",
   "metadata": {
    "execution": {
     "iopub.execute_input": "2025-02-27T13:04:24.074246Z",
     "iopub.status.busy": "2025-02-27T13:04:24.073191Z",
     "iopub.status.idle": "2025-02-27T13:04:24.146012Z",
     "shell.execute_reply": "2025-02-27T13:04:24.145473Z",
     "shell.execute_reply.started": "2025-02-27T13:04:24.074210Z"
    }
   },
   "outputs": [],
   "source": [
    "met_info = pd.read_csv(met_info_fn, index_col=0)"
   ]
  },
  {
   "cell_type": "code",
   "execution_count": 146,
   "id": "1032b93d-d3e4-4a0f-adb2-d921ca76e944",
   "metadata": {
    "execution": {
     "iopub.execute_input": "2025-02-27T13:04:25.490650Z",
     "iopub.status.busy": "2025-02-27T13:04:25.489664Z",
     "iopub.status.idle": "2025-02-27T13:04:25.505593Z",
     "shell.execute_reply": "2025-02-27T13:04:25.504748Z",
     "shell.execute_reply.started": "2025-02-27T13:04:25.490597Z"
    }
   },
   "outputs": [
    {
     "data": {
      "text/plain": [
       "Index(['Metabolite', 'Mass', 'Metabolite id', 'Charge', 'Phosphate',\n",
       "       'Intracellular concentration [M]', 'Compound class', 'Class', 'Ref',\n",
       "       'Comment', 'Hydrogen Bond Donor Count', 'Hydrogen Bond Acceptor Count',\n",
       "       'Rotatable Bond Count', 'Topological Polar Surface Area',\n",
       "       'Charge (pubchem)', 'xlogP', 'pubchem id', 'Formula',\n",
       "       'Molecular weight [g/mol]', 'inchi-key'],\n",
       "      dtype='object')"
      ]
     },
     "execution_count": 146,
     "metadata": {},
     "output_type": "execute_result"
    }
   ],
   "source": [
    "met_info.columns"
   ]
  },
  {
   "cell_type": "code",
   "execution_count": 147,
   "id": "15e8e107-82e1-4b6b-89b4-251869baf263",
   "metadata": {
    "execution": {
     "iopub.execute_input": "2025-02-27T13:04:35.023972Z",
     "iopub.status.busy": "2025-02-27T13:04:35.023437Z",
     "iopub.status.idle": "2025-02-27T13:04:35.071088Z",
     "shell.execute_reply": "2025-02-27T13:04:35.070714Z",
     "shell.execute_reply.started": "2025-02-27T13:04:35.023938Z"
    }
   },
   "outputs": [],
   "source": [
    "df = df_rate.merge(met_info, left_on='Metabolite', right_on='Metabolite', how = 'outer')"
   ]
  },
  {
   "cell_type": "code",
   "execution_count": 148,
   "id": "3d83c65e-3c95-4563-8efb-08d987940b14",
   "metadata": {
    "execution": {
     "iopub.execute_input": "2025-02-27T13:05:29.293864Z",
     "iopub.status.busy": "2025-02-27T13:05:29.291415Z",
     "iopub.status.idle": "2025-02-27T13:05:29.324502Z",
     "shell.execute_reply": "2025-02-27T13:05:29.323629Z",
     "shell.execute_reply.started": "2025-02-27T13:05:29.293768Z"
    }
   },
   "outputs": [],
   "source": [
    "# USe mol weight from pubchem\n",
    "# df['Mol weight [g/mol]'] = df['Mass']\n",
    "df.drop(columns=['Mass'], inplace=True)"
   ]
  },
  {
   "cell_type": "code",
   "execution_count": 57,
   "id": "79e25516-0871-4903-972c-6a39c6db0def",
   "metadata": {
    "execution": {
     "iopub.execute_input": "2025-02-19T12:42:48.790702Z",
     "iopub.status.busy": "2025-02-19T12:42:48.790046Z",
     "iopub.status.idle": "2025-02-19T12:42:48.796614Z",
     "shell.execute_reply": "2025-02-19T12:42:48.795088Z",
     "shell.execute_reply.started": "2025-02-19T12:42:48.790664Z"
    }
   },
   "outputs": [],
   "source": [
    "# for key, mdic in missing_data_dict.items():\n",
    "#     idx = df.Metabolite == key\n",
    "#     df.loc[idx, 'N carbons'] = mdic['N carbons']\n",
    "#     df.loc[idx, 'Mol weight [g/mol]'] = mdic['Mol weight [g/mol]']\n"
   ]
  },
  {
   "cell_type": "markdown",
   "id": "d03fc8e3-6150-4fd8-bd2a-2d169af519c3",
   "metadata": {},
   "source": [
    "## Save spreadsheet with rates to share"
   ]
  },
  {
   "cell_type": "code",
   "execution_count": 58,
   "id": "d9391ea2-bda5-4bfc-999d-6f47c3fd1739",
   "metadata": {
    "execution": {
     "iopub.execute_input": "2025-02-19T12:42:49.435903Z",
     "iopub.status.busy": "2025-02-19T12:42:49.435179Z",
     "iopub.status.idle": "2025-02-19T12:42:49.442544Z",
     "shell.execute_reply": "2025-02-19T12:42:49.441399Z",
     "shell.execute_reply.started": "2025-02-19T12:42:49.435864Z"
    }
   },
   "outputs": [],
   "source": [
    "# share_cols = ['Metabolite', 'Carbon source', 'Rate [mmol/gDW/h]', 'Std. Err [mmol/gDW/h]', 'Species', 'Dataset']\n",
    "# df[share_cols].to_csv('estimated_rates_snorre_0225.csv')"
   ]
  },
  {
   "cell_type": "code",
   "execution_count": 151,
   "id": "e4b80ba1-ba1a-4e97-ace8-4fc28e4ab639",
   "metadata": {
    "execution": {
     "iopub.execute_input": "2025-02-27T13:11:28.150385Z",
     "iopub.status.busy": "2025-02-27T13:11:28.147979Z",
     "iopub.status.idle": "2025-02-27T13:11:28.167504Z",
     "shell.execute_reply": "2025-02-27T13:11:28.166951Z",
     "shell.execute_reply.started": "2025-02-27T13:11:28.150309Z"
    }
   },
   "outputs": [
    {
     "data": {
      "text/plain": [
       "Index(['Metabolite', 'Carbon source', 'Rate [mmol/gDW/h]',\n",
       "       'Std. Err [mmol/gDW/h]', 'Metabolite value [gDW/mmol]', 'N carbons',\n",
       "       'Mol weight [g/mol]', 'Turnover [mmol/gDW/h]', 'Species', 'Dataset',\n",
       "       'Metabolite id', 'Charge', 'Phosphate',\n",
       "       'Intracellular concentration [M]', 'Compound class', 'Class', 'Ref',\n",
       "       'Comment', 'Hydrogen Bond Donor Count', 'Hydrogen Bond Acceptor Count',\n",
       "       'Rotatable Bond Count', 'Topological Polar Surface Area',\n",
       "       'Charge (pubchem)', 'xlogP', 'pubchem id', 'Formula',\n",
       "       'Molecular weight [g/mol]', 'inchi-key'],\n",
       "      dtype='object')"
      ]
     },
     "execution_count": 151,
     "metadata": {},
     "output_type": "execute_result"
    }
   ],
   "source": [
    "df.columns"
   ]
  },
  {
   "cell_type": "markdown",
   "id": "aa99ee8f-795b-43aa-a36f-1f501f25ea02",
   "metadata": {},
   "source": [
    "## Calculate log-transformed values"
   ]
  },
  {
   "cell_type": "code",
   "execution_count": 152,
   "id": "0d241e6d-c03e-4459-b38a-70a69276de87",
   "metadata": {
    "execution": {
     "iopub.execute_input": "2025-02-27T13:11:29.369723Z",
     "iopub.status.busy": "2025-02-27T13:11:29.368458Z",
     "iopub.status.idle": "2025-02-27T13:11:29.409825Z",
     "shell.execute_reply": "2025-02-27T13:11:29.409351Z",
     "shell.execute_reply.started": "2025-02-27T13:11:29.369653Z"
    }
   },
   "outputs": [
    {
     "name": "stderr",
     "output_type": "stream",
     "text": [
      "/Users/snorre/miniconda3/envs/reframed/lib/python3.9/site-packages/pandas/core/arraylike.py:399: RuntimeWarning: divide by zero encountered in log10\n",
      "  result = getattr(ufunc, method)(*inputs, **kwargs)\n",
      "/Users/snorre/miniconda3/envs/reframed/lib/python3.9/site-packages/pandas/core/arraylike.py:399: RuntimeWarning: invalid value encountered in log10\n",
      "  result = getattr(ufunc, method)(*inputs, **kwargs)\n"
     ]
    }
   ],
   "source": [
    "df['log10(Rate [mmol/gDW/h])'] = np.log10(df['Rate [mmol/gDW/h]'])\n",
    "df['log10(Metabolite value [gDW/mmol])'] = np.log10(df['Metabolite value [gDW/mmol]'])"
   ]
  },
  {
   "cell_type": "code",
   "execution_count": 153,
   "id": "2771300b-31f9-438e-b19c-60cb9600bdf5",
   "metadata": {
    "execution": {
     "iopub.execute_input": "2025-02-27T13:11:29.982284Z",
     "iopub.status.busy": "2025-02-27T13:11:29.981751Z",
     "iopub.status.idle": "2025-02-27T13:11:30.001653Z",
     "shell.execute_reply": "2025-02-27T13:11:29.999397Z",
     "shell.execute_reply.started": "2025-02-27T13:11:29.982249Z"
    }
   },
   "outputs": [],
   "source": [
    "df['Rate [mmol C/gDW/h]'] = df['Rate [mmol/gDW/h]']*df['N carbons']\n",
    "df['Rate [g/gDW/h]'] = df['Rate [mmol/gDW/h]']*df['Mol weight [g/mol]']*1e-3\n",
    "\n",
    "df['Metabolite value [gDW/mmol C]'] = df['Metabolite value [gDW/mmol]']/df['N carbons']\n",
    "df['Metabolite value [gDW/g]'] = df['Metabolite value [gDW/mmol]']*1e3/df['Mol weight [g/mol]']\n"
   ]
  },
  {
   "cell_type": "code",
   "execution_count": 154,
   "id": "907406bd-1506-40ef-a097-978daeda98f2",
   "metadata": {
    "execution": {
     "iopub.execute_input": "2025-02-27T13:11:30.584884Z",
     "iopub.status.busy": "2025-02-27T13:11:30.584282Z",
     "iopub.status.idle": "2025-02-27T13:11:30.603819Z",
     "shell.execute_reply": "2025-02-27T13:11:30.602890Z",
     "shell.execute_reply.started": "2025-02-27T13:11:30.584846Z"
    }
   },
   "outputs": [
    {
     "name": "stderr",
     "output_type": "stream",
     "text": [
      "/Users/snorre/miniconda3/envs/reframed/lib/python3.9/site-packages/pandas/core/arraylike.py:399: RuntimeWarning: divide by zero encountered in log10\n",
      "  result = getattr(ufunc, method)(*inputs, **kwargs)\n",
      "/Users/snorre/miniconda3/envs/reframed/lib/python3.9/site-packages/pandas/core/arraylike.py:399: RuntimeWarning: invalid value encountered in log10\n",
      "  result = getattr(ufunc, method)(*inputs, **kwargs)\n",
      "/Users/snorre/miniconda3/envs/reframed/lib/python3.9/site-packages/pandas/core/arraylike.py:399: RuntimeWarning: divide by zero encountered in log10\n",
      "  result = getattr(ufunc, method)(*inputs, **kwargs)\n",
      "/Users/snorre/miniconda3/envs/reframed/lib/python3.9/site-packages/pandas/core/arraylike.py:399: RuntimeWarning: invalid value encountered in log10\n",
      "  result = getattr(ufunc, method)(*inputs, **kwargs)\n",
      "/Users/snorre/miniconda3/envs/reframed/lib/python3.9/site-packages/pandas/core/arraylike.py:399: RuntimeWarning: divide by zero encountered in log10\n",
      "  result = getattr(ufunc, method)(*inputs, **kwargs)\n"
     ]
    }
   ],
   "source": [
    "cols = ['Rate [mmol C/gDW/h]', 'Rate [g/gDW/h]', 'Metabolite value [gDW/mmol C]', 'Metabolite value [gDW/g]', 'Turnover [mmol/gDW/h]']\n",
    "for col in cols:\n",
    "    logcol = f'log10({col})'\n",
    "    df[logcol] = np.log10(df[col])"
   ]
  },
  {
   "cell_type": "code",
   "execution_count": 155,
   "id": "a82102a8-e944-4091-b26c-5cb0cc4a671a",
   "metadata": {
    "execution": {
     "iopub.execute_input": "2025-02-27T13:11:31.489521Z",
     "iopub.status.busy": "2025-02-27T13:11:31.488693Z",
     "iopub.status.idle": "2025-02-27T13:11:31.503028Z",
     "shell.execute_reply": "2025-02-27T13:11:31.501769Z",
     "shell.execute_reply.started": "2025-02-27T13:11:31.489473Z"
    }
   },
   "outputs": [],
   "source": [
    "df['Species - Carbon source'] = df['Species'] + ' - ' + df['Carbon source']"
   ]
  },
  {
   "cell_type": "code",
   "execution_count": 156,
   "id": "3cbb8b2a-e130-446c-979b-0b96afd1c669",
   "metadata": {
    "execution": {
     "iopub.execute_input": "2025-02-27T13:11:32.264350Z",
     "iopub.status.busy": "2025-02-27T13:11:32.263650Z",
     "iopub.status.idle": "2025-02-27T13:11:32.272986Z",
     "shell.execute_reply": "2025-02-27T13:11:32.272191Z",
     "shell.execute_reply.started": "2025-02-27T13:11:32.264313Z"
    }
   },
   "outputs": [],
   "source": [
    "# for i, row in df.iterrows():\n",
    "#     if np.isfinite(row['Std. Err [mmol/gDW/h]']):\n",
    "#         df.loc[i, 'Std. Err [mmol/gDW/h]'] = np.sqrt(row['Rate var'])\n",
    "\n",
    "        "
   ]
  },
  {
   "cell_type": "code",
   "execution_count": 157,
   "id": "4e8da9c6-b60d-4bbc-9f01-7414dec92ee8",
   "metadata": {
    "execution": {
     "iopub.execute_input": "2025-02-27T13:11:36.945272Z",
     "iopub.status.busy": "2025-02-27T13:11:36.944737Z",
     "iopub.status.idle": "2025-02-27T13:11:36.992895Z",
     "shell.execute_reply": "2025-02-27T13:11:36.992406Z",
     "shell.execute_reply.started": "2025-02-27T13:11:36.945237Z"
    }
   },
   "outputs": [],
   "source": [
    "df.to_csv(data_folder / 'other'/ 'A_rates_and_values.csv')"
   ]
  },
  {
   "cell_type": "code",
   "execution_count": 65,
   "id": "439f0219-177b-4427-9a99-3327214fcb87",
   "metadata": {
    "execution": {
     "iopub.execute_input": "2025-02-19T12:43:05.963652Z",
     "iopub.status.busy": "2025-02-19T12:43:05.962669Z",
     "iopub.status.idle": "2025-02-19T12:43:05.997591Z",
     "shell.execute_reply": "2025-02-19T12:43:05.996865Z",
     "shell.execute_reply.started": "2025-02-19T12:43:05.963585Z"
    }
   },
   "outputs": [],
   "source": [
    "rates_only_columns = ['Metabolite', 'Carbon source', 'Rate [mmol/gDW/h]',  'Species', 'Dataset',\n",
    "       'Std. Err [mmol/gDW/h]','Rate [mmol C/gDW/h]','Rate [g/gDW/h]']\n",
    "df.loc[df.Species=='E. coli', rates_only_columns].to_csv('ecoli_rates.csv')"
   ]
  },
  {
   "cell_type": "code",
   "execution_count": 66,
   "id": "39924d23-3720-48a8-8905-5ec3775f64c5",
   "metadata": {
    "execution": {
     "iopub.execute_input": "2025-02-19T12:43:06.787261Z",
     "iopub.status.busy": "2025-02-19T12:43:06.786432Z",
     "iopub.status.idle": "2025-02-19T12:43:06.799012Z",
     "shell.execute_reply": "2025-02-19T12:43:06.797817Z",
     "shell.execute_reply.started": "2025-02-19T12:43:06.787215Z"
    }
   },
   "outputs": [
    {
     "data": {
      "text/plain": [
       "Index(['Metabolite', 'Carbon source', 'Rate [mmol/gDW/h]',\n",
       "       'Std. Err [mmol/gDW/h]', 'Metabolite value [gDW/mmol]', 'N carbons',\n",
       "       'Mol weight [g/mol]', 'Turnover [mmol/gDW/h]', 'Model ID', 'MV min',\n",
       "       'MV max', 'Species', 'Dataset', 'Metabolite abbrv.', 'R2',\n",
       "       'Metabolite id', 'Charge', 'Phosphate',\n",
       "       'Intracellular concentration [M]', 'Compound class', 'Ref', 'Comment',\n",
       "       'Hydrogen Bond Donor Count', 'Hydrogen Bond Acceptor Count',\n",
       "       'Rotatable Bond Count', 'Topological Polar Surface Area',\n",
       "       'Charge (pubchem)', 'xlogP', 'pubchem id', 'log10(Rate [mmol/gDW/h])',\n",
       "       'log10(Metabolite value [gDW/mmol])', 'Rate [mmol C/gDW/h]',\n",
       "       'Rate [g/gDW/h]', 'Metabolite value [gDW/mmol C]',\n",
       "       'Metabolite value [gDW/g]', 'log10(Rate [mmol C/gDW/h])',\n",
       "       'log10(Rate [g/gDW/h])', 'log10(Metabolite value [gDW/mmol C])',\n",
       "       'log10(Metabolite value [gDW/g])', 'log10(Turnover [mmol/gDW/h])',\n",
       "       'Species - Carbon source'],\n",
       "      dtype='object')"
      ]
     },
     "execution_count": 66,
     "metadata": {},
     "output_type": "execute_result"
    }
   ],
   "source": [
    "df.columns"
   ]
  },
  {
   "cell_type": "code",
   "execution_count": 67,
   "id": "6eff960d-d8ea-4353-a230-3da9c2d28267",
   "metadata": {
    "execution": {
     "iopub.execute_input": "2025-02-19T12:43:07.523568Z",
     "iopub.status.busy": "2025-02-19T12:43:07.522780Z",
     "iopub.status.idle": "2025-02-19T12:43:07.537977Z",
     "shell.execute_reply": "2025-02-19T12:43:07.537078Z",
     "shell.execute_reply.started": "2025-02-19T12:43:07.523515Z"
    }
   },
   "outputs": [
    {
     "data": {
      "text/plain": [
       "array(['Galactose', 'L-malate', 'L-alanine', 'Glucose'], dtype=object)"
      ]
     },
     "execution_count": 67,
     "metadata": {},
     "output_type": "execute_result"
    }
   ],
   "source": [
    "df.loc[df.Species=='E. coli']['Carbon source'].unique()"
   ]
  },
  {
   "cell_type": "markdown",
   "id": "d17e8bb3-7baf-41f4-bfed-753ed38222ef",
   "metadata": {},
   "source": [
    "# Plot!"
   ]
  },
  {
   "cell_type": "code",
   "execution_count": 68,
   "id": "aaac2612-748d-4691-98d0-0f8e0c68f210",
   "metadata": {
    "execution": {
     "iopub.execute_input": "2025-02-19T12:43:08.411671Z",
     "iopub.status.busy": "2025-02-19T12:43:08.411338Z",
     "iopub.status.idle": "2025-02-19T12:43:08.436184Z",
     "shell.execute_reply": "2025-02-19T12:43:08.435857Z",
     "shell.execute_reply.started": "2025-02-19T12:43:08.411656Z"
    }
   },
   "outputs": [
    {
     "data": {
      "text/html": [
       "<div>\n",
       "<style scoped>\n",
       "    .dataframe tbody tr th:only-of-type {\n",
       "        vertical-align: middle;\n",
       "    }\n",
       "\n",
       "    .dataframe tbody tr th {\n",
       "        vertical-align: top;\n",
       "    }\n",
       "\n",
       "    .dataframe thead th {\n",
       "        text-align: right;\n",
       "    }\n",
       "</style>\n",
       "<table border=\"1\" class=\"dataframe\">\n",
       "  <thead>\n",
       "    <tr style=\"text-align: right;\">\n",
       "      <th></th>\n",
       "      <th>Metabolite</th>\n",
       "      <th>Carbon source</th>\n",
       "      <th>Rate [mmol/gDW/h]</th>\n",
       "      <th>Std. Err [mmol/gDW/h]</th>\n",
       "      <th>Metabolite value [gDW/mmol]</th>\n",
       "      <th>N carbons</th>\n",
       "      <th>Mol weight [g/mol]</th>\n",
       "      <th>Turnover [mmol/gDW/h]</th>\n",
       "      <th>Model ID</th>\n",
       "      <th>MV min</th>\n",
       "      <th>...</th>\n",
       "      <th>Rate [mmol C/gDW/h]</th>\n",
       "      <th>Rate [g/gDW/h]</th>\n",
       "      <th>Metabolite value [gDW/mmol C]</th>\n",
       "      <th>Metabolite value [gDW/g]</th>\n",
       "      <th>log10(Rate [mmol C/gDW/h])</th>\n",
       "      <th>log10(Rate [g/gDW/h])</th>\n",
       "      <th>log10(Metabolite value [gDW/mmol C])</th>\n",
       "      <th>log10(Metabolite value [gDW/g])</th>\n",
       "      <th>log10(Turnover [mmol/gDW/h])</th>\n",
       "      <th>Species - Carbon source</th>\n",
       "    </tr>\n",
       "  </thead>\n",
       "  <tbody>\n",
       "    <tr>\n",
       "      <th>17</th>\n",
       "      <td>2-phosphoglycerate</td>\n",
       "      <td>Glucose</td>\n",
       "      <td>0.000923</td>\n",
       "      <td>0.000085</td>\n",
       "      <td>0.034358</td>\n",
       "      <td>3.0</td>\n",
       "      <td>183.033421</td>\n",
       "      <td>4.417085</td>\n",
       "      <td>2pg</td>\n",
       "      <td>0.034358</td>\n",
       "      <td>...</td>\n",
       "      <td>0.002768</td>\n",
       "      <td>0.000169</td>\n",
       "      <td>0.011453</td>\n",
       "      <td>0.187715</td>\n",
       "      <td>-2.557826</td>\n",
       "      <td>-3.772417</td>\n",
       "      <td>-1.941092</td>\n",
       "      <td>-0.726501</td>\n",
       "      <td>0.645136</td>\n",
       "      <td>B. licheniformis - Glucose</td>\n",
       "    </tr>\n",
       "    <tr>\n",
       "      <th>35</th>\n",
       "      <td>3-phosphoglycerate</td>\n",
       "      <td>Glucose</td>\n",
       "      <td>0.000923</td>\n",
       "      <td>0.000085</td>\n",
       "      <td>0.034358</td>\n",
       "      <td>3.0</td>\n",
       "      <td>183.033421</td>\n",
       "      <td>6.276566</td>\n",
       "      <td>3pg</td>\n",
       "      <td>0.034358</td>\n",
       "      <td>...</td>\n",
       "      <td>0.002768</td>\n",
       "      <td>0.000169</td>\n",
       "      <td>0.011453</td>\n",
       "      <td>0.187715</td>\n",
       "      <td>-2.557826</td>\n",
       "      <td>-3.772417</td>\n",
       "      <td>-1.941092</td>\n",
       "      <td>-0.726501</td>\n",
       "      <td>0.797722</td>\n",
       "      <td>B. licheniformis - Glucose</td>\n",
       "    </tr>\n",
       "    <tr>\n",
       "      <th>46</th>\n",
       "      <td>Acetate</td>\n",
       "      <td>Glucose</td>\n",
       "      <td>2.003534</td>\n",
       "      <td>0.145760</td>\n",
       "      <td>0.022533</td>\n",
       "      <td>2.0</td>\n",
       "      <td>59.044020</td>\n",
       "      <td>2.981847</td>\n",
       "      <td>ac</td>\n",
       "      <td>0.020565</td>\n",
       "      <td>...</td>\n",
       "      <td>4.007068</td>\n",
       "      <td>0.118297</td>\n",
       "      <td>0.011267</td>\n",
       "      <td>0.381637</td>\n",
       "      <td>0.602827</td>\n",
       "      <td>-0.927027</td>\n",
       "      <td>-1.948204</td>\n",
       "      <td>-0.418350</td>\n",
       "      <td>0.474485</td>\n",
       "      <td>B. licheniformis - Glucose</td>\n",
       "    </tr>\n",
       "    <tr>\n",
       "      <th>65</th>\n",
       "      <td>Alanine</td>\n",
       "      <td>Glucose</td>\n",
       "      <td>0.024987</td>\n",
       "      <td>0.007017</td>\n",
       "      <td>0.035225</td>\n",
       "      <td>3.0</td>\n",
       "      <td>89.093180</td>\n",
       "      <td>2.109228</td>\n",
       "      <td>ala__L</td>\n",
       "      <td>0.035225</td>\n",
       "      <td>...</td>\n",
       "      <td>0.074962</td>\n",
       "      <td>0.002226</td>\n",
       "      <td>0.011742</td>\n",
       "      <td>0.395373</td>\n",
       "      <td>-1.125161</td>\n",
       "      <td>-2.652438</td>\n",
       "      <td>-1.930270</td>\n",
       "      <td>-0.402993</td>\n",
       "      <td>0.324124</td>\n",
       "      <td>B. licheniformis - Glucose</td>\n",
       "    </tr>\n",
       "    <tr>\n",
       "      <th>80</th>\n",
       "      <td>Alpha-ketoglutarate</td>\n",
       "      <td>Glucose</td>\n",
       "      <td>0.010329</td>\n",
       "      <td>0.001549</td>\n",
       "      <td>0.051846</td>\n",
       "      <td>5.0</td>\n",
       "      <td>144.082260</td>\n",
       "      <td>4.614825</td>\n",
       "      <td>akg</td>\n",
       "      <td>0.049596</td>\n",
       "      <td>...</td>\n",
       "      <td>0.051646</td>\n",
       "      <td>0.001488</td>\n",
       "      <td>0.010369</td>\n",
       "      <td>0.359834</td>\n",
       "      <td>-1.286966</td>\n",
       "      <td>-2.827325</td>\n",
       "      <td>-1.984258</td>\n",
       "      <td>-0.443898</td>\n",
       "      <td>0.664155</td>\n",
       "      <td>B. licheniformis - Glucose</td>\n",
       "    </tr>\n",
       "    <tr>\n",
       "      <th>...</th>\n",
       "      <td>...</td>\n",
       "      <td>...</td>\n",
       "      <td>...</td>\n",
       "      <td>...</td>\n",
       "      <td>...</td>\n",
       "      <td>...</td>\n",
       "      <td>...</td>\n",
       "      <td>...</td>\n",
       "      <td>...</td>\n",
       "      <td>...</td>\n",
       "      <td>...</td>\n",
       "      <td>...</td>\n",
       "      <td>...</td>\n",
       "      <td>...</td>\n",
       "      <td>...</td>\n",
       "      <td>...</td>\n",
       "      <td>...</td>\n",
       "      <td>...</td>\n",
       "      <td>...</td>\n",
       "      <td>...</td>\n",
       "      <td>...</td>\n",
       "    </tr>\n",
       "    <tr>\n",
       "      <th>429</th>\n",
       "      <td>Serine</td>\n",
       "      <td>Glucose</td>\n",
       "      <td>0.000061</td>\n",
       "      <td>0.000022</td>\n",
       "      <td>0.023021</td>\n",
       "      <td>3.0</td>\n",
       "      <td>105.092580</td>\n",
       "      <td>0.288181</td>\n",
       "      <td>s_1039</td>\n",
       "      <td>0.021093</td>\n",
       "      <td>...</td>\n",
       "      <td>0.000184</td>\n",
       "      <td>0.000006</td>\n",
       "      <td>0.007674</td>\n",
       "      <td>0.219050</td>\n",
       "      <td>-3.736135</td>\n",
       "      <td>-5.191684</td>\n",
       "      <td>-2.115005</td>\n",
       "      <td>-0.659456</td>\n",
       "      <td>-0.540334</td>\n",
       "      <td>S. cerevisiae - Glucose</td>\n",
       "    </tr>\n",
       "    <tr>\n",
       "      <th>437</th>\n",
       "      <td>Succinate</td>\n",
       "      <td>Glucose</td>\n",
       "      <td>0.002550</td>\n",
       "      <td>0.000381</td>\n",
       "      <td>0.005230</td>\n",
       "      <td>4.0</td>\n",
       "      <td>116.072160</td>\n",
       "      <td>0.063510</td>\n",
       "      <td>s_1458</td>\n",
       "      <td>0.005230</td>\n",
       "      <td>...</td>\n",
       "      <td>0.010200</td>\n",
       "      <td>0.000296</td>\n",
       "      <td>0.001308</td>\n",
       "      <td>0.045060</td>\n",
       "      <td>-1.991416</td>\n",
       "      <td>-3.528748</td>\n",
       "      <td>-2.883536</td>\n",
       "      <td>-1.346204</td>\n",
       "      <td>-1.197156</td>\n",
       "      <td>S. cerevisiae - Glucose</td>\n",
       "    </tr>\n",
       "    <tr>\n",
       "      <th>468</th>\n",
       "      <td>Tyrosine</td>\n",
       "      <td>Glucose</td>\n",
       "      <td>0.000006</td>\n",
       "      <td>0.000003</td>\n",
       "      <td>0.074274</td>\n",
       "      <td>9.0</td>\n",
       "      <td>181.188540</td>\n",
       "      <td>0.045233</td>\n",
       "      <td>s_1051</td>\n",
       "      <td>0.072710</td>\n",
       "      <td>...</td>\n",
       "      <td>0.000052</td>\n",
       "      <td>0.000001</td>\n",
       "      <td>0.008253</td>\n",
       "      <td>0.409927</td>\n",
       "      <td>-4.280281</td>\n",
       "      <td>-5.976392</td>\n",
       "      <td>-2.083405</td>\n",
       "      <td>-0.387293</td>\n",
       "      <td>-1.344541</td>\n",
       "      <td>S. cerevisiae - Glucose</td>\n",
       "    </tr>\n",
       "    <tr>\n",
       "      <th>474</th>\n",
       "      <td>Uracil</td>\n",
       "      <td>Glucose</td>\n",
       "      <td>0.000456</td>\n",
       "      <td>0.001154</td>\n",
       "      <td>0.161073</td>\n",
       "      <td>4.0</td>\n",
       "      <td>112.086760</td>\n",
       "      <td>0.000000</td>\n",
       "      <td>s_1550</td>\n",
       "      <td>0.152741</td>\n",
       "      <td>...</td>\n",
       "      <td>0.001825</td>\n",
       "      <td>0.000051</td>\n",
       "      <td>0.040268</td>\n",
       "      <td>1.437036</td>\n",
       "      <td>-2.738800</td>\n",
       "      <td>-4.291306</td>\n",
       "      <td>-1.395038</td>\n",
       "      <td>0.157468</td>\n",
       "      <td>-inf</td>\n",
       "      <td>S. cerevisiae - Glucose</td>\n",
       "    </tr>\n",
       "    <tr>\n",
       "      <th>492</th>\n",
       "      <td>Valine</td>\n",
       "      <td>Glucose</td>\n",
       "      <td>0.000047</td>\n",
       "      <td>0.000016</td>\n",
       "      <td>0.021475</td>\n",
       "      <td>5.0</td>\n",
       "      <td>117.146340</td>\n",
       "      <td>0.117341</td>\n",
       "      <td>s_1056</td>\n",
       "      <td>0.021473</td>\n",
       "      <td>...</td>\n",
       "      <td>0.000234</td>\n",
       "      <td>0.000005</td>\n",
       "      <td>0.004295</td>\n",
       "      <td>0.183313</td>\n",
       "      <td>-3.631382</td>\n",
       "      <td>-5.261623</td>\n",
       "      <td>-2.367047</td>\n",
       "      <td>-0.736806</td>\n",
       "      <td>-0.930551</td>\n",
       "      <td>S. cerevisiae - Glucose</td>\n",
       "    </tr>\n",
       "  </tbody>\n",
       "</table>\n",
       "<p>505 rows × 41 columns</p>\n",
       "</div>"
      ],
      "text/plain": [
       "              Metabolite Carbon source  Rate [mmol/gDW/h]  \\\n",
       "17    2-phosphoglycerate       Glucose           0.000923   \n",
       "35    3-phosphoglycerate       Glucose           0.000923   \n",
       "46               Acetate       Glucose           2.003534   \n",
       "65               Alanine       Glucose           0.024987   \n",
       "80   Alpha-ketoglutarate       Glucose           0.010329   \n",
       "..                   ...           ...                ...   \n",
       "429               Serine       Glucose           0.000061   \n",
       "437            Succinate       Glucose           0.002550   \n",
       "468             Tyrosine       Glucose           0.000006   \n",
       "474               Uracil       Glucose           0.000456   \n",
       "492               Valine       Glucose           0.000047   \n",
       "\n",
       "     Std. Err [mmol/gDW/h]  Metabolite value [gDW/mmol]  N carbons  \\\n",
       "17                0.000085                     0.034358        3.0   \n",
       "35                0.000085                     0.034358        3.0   \n",
       "46                0.145760                     0.022533        2.0   \n",
       "65                0.007017                     0.035225        3.0   \n",
       "80                0.001549                     0.051846        5.0   \n",
       "..                     ...                          ...        ...   \n",
       "429               0.000022                     0.023021        3.0   \n",
       "437               0.000381                     0.005230        4.0   \n",
       "468               0.000003                     0.074274        9.0   \n",
       "474               0.001154                     0.161073        4.0   \n",
       "492               0.000016                     0.021475        5.0   \n",
       "\n",
       "     Mol weight [g/mol]  Turnover [mmol/gDW/h] Model ID    MV min  ...  \\\n",
       "17           183.033421               4.417085      2pg  0.034358  ...   \n",
       "35           183.033421               6.276566      3pg  0.034358  ...   \n",
       "46            59.044020               2.981847       ac  0.020565  ...   \n",
       "65            89.093180               2.109228   ala__L  0.035225  ...   \n",
       "80           144.082260               4.614825      akg  0.049596  ...   \n",
       "..                  ...                    ...      ...       ...  ...   \n",
       "429          105.092580               0.288181   s_1039  0.021093  ...   \n",
       "437          116.072160               0.063510   s_1458  0.005230  ...   \n",
       "468          181.188540               0.045233   s_1051  0.072710  ...   \n",
       "474          112.086760               0.000000   s_1550  0.152741  ...   \n",
       "492          117.146340               0.117341   s_1056  0.021473  ...   \n",
       "\n",
       "     Rate [mmol C/gDW/h] Rate [g/gDW/h] Metabolite value [gDW/mmol C]  \\\n",
       "17              0.002768       0.000169                      0.011453   \n",
       "35              0.002768       0.000169                      0.011453   \n",
       "46              4.007068       0.118297                      0.011267   \n",
       "65              0.074962       0.002226                      0.011742   \n",
       "80              0.051646       0.001488                      0.010369   \n",
       "..                   ...            ...                           ...   \n",
       "429             0.000184       0.000006                      0.007674   \n",
       "437             0.010200       0.000296                      0.001308   \n",
       "468             0.000052       0.000001                      0.008253   \n",
       "474             0.001825       0.000051                      0.040268   \n",
       "492             0.000234       0.000005                      0.004295   \n",
       "\n",
       "    Metabolite value [gDW/g]  log10(Rate [mmol C/gDW/h])  \\\n",
       "17                  0.187715                   -2.557826   \n",
       "35                  0.187715                   -2.557826   \n",
       "46                  0.381637                    0.602827   \n",
       "65                  0.395373                   -1.125161   \n",
       "80                  0.359834                   -1.286966   \n",
       "..                       ...                         ...   \n",
       "429                 0.219050                   -3.736135   \n",
       "437                 0.045060                   -1.991416   \n",
       "468                 0.409927                   -4.280281   \n",
       "474                 1.437036                   -2.738800   \n",
       "492                 0.183313                   -3.631382   \n",
       "\n",
       "    log10(Rate [g/gDW/h])  log10(Metabolite value [gDW/mmol C])  \\\n",
       "17              -3.772417                             -1.941092   \n",
       "35              -3.772417                             -1.941092   \n",
       "46              -0.927027                             -1.948204   \n",
       "65              -2.652438                             -1.930270   \n",
       "80              -2.827325                             -1.984258   \n",
       "..                    ...                                   ...   \n",
       "429             -5.191684                             -2.115005   \n",
       "437             -3.528748                             -2.883536   \n",
       "468             -5.976392                             -2.083405   \n",
       "474             -4.291306                             -1.395038   \n",
       "492             -5.261623                             -2.367047   \n",
       "\n",
       "     log10(Metabolite value [gDW/g])  log10(Turnover [mmol/gDW/h])  \\\n",
       "17                         -0.726501                      0.645136   \n",
       "35                         -0.726501                      0.797722   \n",
       "46                         -0.418350                      0.474485   \n",
       "65                         -0.402993                      0.324124   \n",
       "80                         -0.443898                      0.664155   \n",
       "..                               ...                           ...   \n",
       "429                        -0.659456                     -0.540334   \n",
       "437                        -1.346204                     -1.197156   \n",
       "468                        -0.387293                     -1.344541   \n",
       "474                         0.157468                          -inf   \n",
       "492                        -0.736806                     -0.930551   \n",
       "\n",
       "        Species - Carbon source  \n",
       "17   B. licheniformis - Glucose  \n",
       "35   B. licheniformis - Glucose  \n",
       "46   B. licheniformis - Glucose  \n",
       "65   B. licheniformis - Glucose  \n",
       "80   B. licheniformis - Glucose  \n",
       "..                          ...  \n",
       "429     S. cerevisiae - Glucose  \n",
       "437     S. cerevisiae - Glucose  \n",
       "468     S. cerevisiae - Glucose  \n",
       "474     S. cerevisiae - Glucose  \n",
       "492     S. cerevisiae - Glucose  \n",
       "\n",
       "[505 rows x 41 columns]"
      ]
     },
     "execution_count": 68,
     "metadata": {},
     "output_type": "execute_result"
    }
   ],
   "source": [
    "df.sort_values(['Species', 'Metabolite'])"
   ]
  },
  {
   "cell_type": "code",
   "execution_count": 69,
   "id": "501bbb41-e8b1-4bea-9515-a383c6435962",
   "metadata": {
    "execution": {
     "iopub.execute_input": "2025-02-19T12:43:10.226173Z",
     "iopub.status.busy": "2025-02-19T12:43:10.225212Z",
     "iopub.status.idle": "2025-02-19T12:43:10.263792Z",
     "shell.execute_reply": "2025-02-19T12:43:10.263214Z",
     "shell.execute_reply.started": "2025-02-19T12:43:10.226105Z"
    },
    "scrolled": true
   },
   "outputs": [
    {
     "data": {
      "text/html": [
       "<div>\n",
       "<style scoped>\n",
       "    .dataframe tbody tr th:only-of-type {\n",
       "        vertical-align: middle;\n",
       "    }\n",
       "\n",
       "    .dataframe tbody tr th {\n",
       "        vertical-align: top;\n",
       "    }\n",
       "\n",
       "    .dataframe thead th {\n",
       "        text-align: right;\n",
       "    }\n",
       "</style>\n",
       "<table border=\"1\" class=\"dataframe\">\n",
       "  <thead>\n",
       "    <tr style=\"text-align: right;\">\n",
       "      <th></th>\n",
       "      <th>Metabolite</th>\n",
       "      <th>Carbon source</th>\n",
       "      <th>Rate [mmol/gDW/h]</th>\n",
       "      <th>Std. Err [mmol/gDW/h]</th>\n",
       "      <th>Metabolite value [gDW/mmol]</th>\n",
       "      <th>N carbons</th>\n",
       "      <th>Mol weight [g/mol]</th>\n",
       "      <th>Turnover [mmol/gDW/h]</th>\n",
       "      <th>Model ID</th>\n",
       "      <th>MV min</th>\n",
       "      <th>...</th>\n",
       "      <th>Rate [mmol C/gDW/h]</th>\n",
       "      <th>Rate [g/gDW/h]</th>\n",
       "      <th>Metabolite value [gDW/mmol C]</th>\n",
       "      <th>Metabolite value [gDW/g]</th>\n",
       "      <th>log10(Rate [mmol C/gDW/h])</th>\n",
       "      <th>log10(Rate [g/gDW/h])</th>\n",
       "      <th>log10(Metabolite value [gDW/mmol C])</th>\n",
       "      <th>log10(Metabolite value [gDW/g])</th>\n",
       "      <th>log10(Turnover [mmol/gDW/h])</th>\n",
       "      <th>Species - Carbon source</th>\n",
       "    </tr>\n",
       "  </thead>\n",
       "  <tbody>\n",
       "    <tr>\n",
       "      <th>44</th>\n",
       "      <td>Acetate</td>\n",
       "      <td>L-alanine</td>\n",
       "      <td>2.114485</td>\n",
       "      <td>0.473112</td>\n",
       "      <td>0.013466</td>\n",
       "      <td>2.0</td>\n",
       "      <td>59.044020</td>\n",
       "      <td>0.174896</td>\n",
       "      <td>ac</td>\n",
       "      <td>0.013466</td>\n",
       "      <td>...</td>\n",
       "      <td>4.228970</td>\n",
       "      <td>0.124848</td>\n",
       "      <td>0.006733</td>\n",
       "      <td>0.228069</td>\n",
       "      <td>0.626235</td>\n",
       "      <td>-0.903619</td>\n",
       "      <td>-2.171787</td>\n",
       "      <td>-0.641933</td>\n",
       "      <td>-0.757221</td>\n",
       "      <td>E. coli - L-alanine</td>\n",
       "    </tr>\n",
       "    <tr>\n",
       "      <th>45</th>\n",
       "      <td>Acetate</td>\n",
       "      <td>Glucose</td>\n",
       "      <td>1.544754</td>\n",
       "      <td>0.188019</td>\n",
       "      <td>0.009873</td>\n",
       "      <td>2.0</td>\n",
       "      <td>59.044020</td>\n",
       "      <td>0.364498</td>\n",
       "      <td>ac</td>\n",
       "      <td>0.004352</td>\n",
       "      <td>...</td>\n",
       "      <td>3.089508</td>\n",
       "      <td>0.091208</td>\n",
       "      <td>0.004937</td>\n",
       "      <td>0.167221</td>\n",
       "      <td>0.489889</td>\n",
       "      <td>-1.039965</td>\n",
       "      <td>-2.306563</td>\n",
       "      <td>-0.776709</td>\n",
       "      <td>-0.438305</td>\n",
       "      <td>E. coli - Glucose</td>\n",
       "    </tr>\n",
       "    <tr>\n",
       "      <th>43</th>\n",
       "      <td>Acetate</td>\n",
       "      <td>L-malate</td>\n",
       "      <td>0.614063</td>\n",
       "      <td>0.266627</td>\n",
       "      <td>0.001564</td>\n",
       "      <td>2.0</td>\n",
       "      <td>59.044020</td>\n",
       "      <td>0.320435</td>\n",
       "      <td>ac</td>\n",
       "      <td>0.001564</td>\n",
       "      <td>...</td>\n",
       "      <td>1.228126</td>\n",
       "      <td>0.036257</td>\n",
       "      <td>0.000782</td>\n",
       "      <td>0.026481</td>\n",
       "      <td>0.089243</td>\n",
       "      <td>-1.440611</td>\n",
       "      <td>-3.106914</td>\n",
       "      <td>-1.577060</td>\n",
       "      <td>-0.494260</td>\n",
       "      <td>E. coli - L-malate</td>\n",
       "    </tr>\n",
       "    <tr>\n",
       "      <th>400</th>\n",
       "      <td>Pyruvate</td>\n",
       "      <td>Glucose</td>\n",
       "      <td>0.584596</td>\n",
       "      <td>0.028017</td>\n",
       "      <td>0.017532</td>\n",
       "      <td>3.0</td>\n",
       "      <td>87.054120</td>\n",
       "      <td>9.205248</td>\n",
       "      <td>pyr</td>\n",
       "      <td>0.011087</td>\n",
       "      <td>...</td>\n",
       "      <td>1.753788</td>\n",
       "      <td>0.050891</td>\n",
       "      <td>0.005844</td>\n",
       "      <td>0.201397</td>\n",
       "      <td>0.243977</td>\n",
       "      <td>-1.293355</td>\n",
       "      <td>-2.233279</td>\n",
       "      <td>-0.695947</td>\n",
       "      <td>0.964035</td>\n",
       "      <td>E. coli - Glucose</td>\n",
       "    </tr>\n",
       "    <tr>\n",
       "      <th>161</th>\n",
       "      <td>Formate</td>\n",
       "      <td>Galactose</td>\n",
       "      <td>0.357255</td>\n",
       "      <td>0.160892</td>\n",
       "      <td>0.006631</td>\n",
       "      <td>1.0</td>\n",
       "      <td>45.017000</td>\n",
       "      <td>0.181745</td>\n",
       "      <td>for</td>\n",
       "      <td>0.003720</td>\n",
       "      <td>...</td>\n",
       "      <td>0.357255</td>\n",
       "      <td>0.016083</td>\n",
       "      <td>0.006631</td>\n",
       "      <td>0.147292</td>\n",
       "      <td>-0.447022</td>\n",
       "      <td>-1.793645</td>\n",
       "      <td>-2.178443</td>\n",
       "      <td>-0.831820</td>\n",
       "      <td>-0.740537</td>\n",
       "      <td>E. coli - Galactose</td>\n",
       "    </tr>\n",
       "    <tr>\n",
       "      <th>42</th>\n",
       "      <td>Acetate</td>\n",
       "      <td>Galactose</td>\n",
       "      <td>0.203725</td>\n",
       "      <td>0.106771</td>\n",
       "      <td>0.021537</td>\n",
       "      <td>2.0</td>\n",
       "      <td>59.044020</td>\n",
       "      <td>0.236215</td>\n",
       "      <td>ac</td>\n",
       "      <td>0.009754</td>\n",
       "      <td>...</td>\n",
       "      <td>0.407449</td>\n",
       "      <td>0.012029</td>\n",
       "      <td>0.010769</td>\n",
       "      <td>0.364764</td>\n",
       "      <td>-0.389927</td>\n",
       "      <td>-1.919781</td>\n",
       "      <td>-1.967842</td>\n",
       "      <td>-0.437988</td>\n",
       "      <td>-0.626693</td>\n",
       "      <td>E. coli - Galactose</td>\n",
       "    </tr>\n",
       "    <tr>\n",
       "      <th>75</th>\n",
       "      <td>Alpha-aminobutyrate</td>\n",
       "      <td>L-alanine</td>\n",
       "      <td>0.187598</td>\n",
       "      <td>0.020450</td>\n",
       "      <td>NaN</td>\n",
       "      <td>NaN</td>\n",
       "      <td>102.110000</td>\n",
       "      <td>NaN</td>\n",
       "      <td>NaN</td>\n",
       "      <td>NaN</td>\n",
       "      <td>...</td>\n",
       "      <td>NaN</td>\n",
       "      <td>0.019156</td>\n",
       "      <td>NaN</td>\n",
       "      <td>NaN</td>\n",
       "      <td>NaN</td>\n",
       "      <td>-1.717703</td>\n",
       "      <td>NaN</td>\n",
       "      <td>NaN</td>\n",
       "      <td>NaN</td>\n",
       "      <td>E. coli - L-alanine</td>\n",
       "    </tr>\n",
       "    <tr>\n",
       "      <th>357</th>\n",
       "      <td>Orotate</td>\n",
       "      <td>Glucose</td>\n",
       "      <td>0.117487</td>\n",
       "      <td>0.008019</td>\n",
       "      <td>0.034516</td>\n",
       "      <td>5.0</td>\n",
       "      <td>155.088320</td>\n",
       "      <td>0.206967</td>\n",
       "      <td>orot</td>\n",
       "      <td>0.028883</td>\n",
       "      <td>...</td>\n",
       "      <td>0.587437</td>\n",
       "      <td>0.018221</td>\n",
       "      <td>0.006903</td>\n",
       "      <td>0.222556</td>\n",
       "      <td>-0.231039</td>\n",
       "      <td>-1.739430</td>\n",
       "      <td>-2.160951</td>\n",
       "      <td>-0.652560</td>\n",
       "      <td>-0.684098</td>\n",
       "      <td>E. coli - Glucose</td>\n",
       "    </tr>\n",
       "    <tr>\n",
       "      <th>393</th>\n",
       "      <td>Propionate</td>\n",
       "      <td>L-alanine</td>\n",
       "      <td>0.114260</td>\n",
       "      <td>0.014837</td>\n",
       "      <td>0.037693</td>\n",
       "      <td>3.0</td>\n",
       "      <td>73.070000</td>\n",
       "      <td>0.000000</td>\n",
       "      <td>ppa</td>\n",
       "      <td>0.037693</td>\n",
       "      <td>...</td>\n",
       "      <td>0.342779</td>\n",
       "      <td>0.008349</td>\n",
       "      <td>0.012564</td>\n",
       "      <td>0.515847</td>\n",
       "      <td>-0.464986</td>\n",
       "      <td>-2.078368</td>\n",
       "      <td>-1.900861</td>\n",
       "      <td>-0.287479</td>\n",
       "      <td>-inf</td>\n",
       "      <td>E. coli - L-alanine</td>\n",
       "    </tr>\n",
       "    <tr>\n",
       "      <th>392</th>\n",
       "      <td>Propionate</td>\n",
       "      <td>L-malate</td>\n",
       "      <td>0.081971</td>\n",
       "      <td>0.013858</td>\n",
       "      <td>0.009030</td>\n",
       "      <td>3.0</td>\n",
       "      <td>73.070000</td>\n",
       "      <td>0.000000</td>\n",
       "      <td>ppa</td>\n",
       "      <td>0.009030</td>\n",
       "      <td>...</td>\n",
       "      <td>0.245913</td>\n",
       "      <td>0.005990</td>\n",
       "      <td>0.003010</td>\n",
       "      <td>0.123585</td>\n",
       "      <td>-0.609219</td>\n",
       "      <td>-2.222601</td>\n",
       "      <td>-2.521416</td>\n",
       "      <td>-0.908034</td>\n",
       "      <td>-inf</td>\n",
       "      <td>E. coli - L-malate</td>\n",
       "    </tr>\n",
       "    <tr>\n",
       "      <th>162</th>\n",
       "      <td>Formate</td>\n",
       "      <td>L-malate</td>\n",
       "      <td>0.077218</td>\n",
       "      <td>0.088957</td>\n",
       "      <td>0.002085</td>\n",
       "      <td>1.0</td>\n",
       "      <td>45.017000</td>\n",
       "      <td>0.976433</td>\n",
       "      <td>for</td>\n",
       "      <td>0.002085</td>\n",
       "      <td>...</td>\n",
       "      <td>0.077218</td>\n",
       "      <td>0.003476</td>\n",
       "      <td>0.002085</td>\n",
       "      <td>0.046323</td>\n",
       "      <td>-1.112279</td>\n",
       "      <td>-2.458903</td>\n",
       "      <td>-2.680831</td>\n",
       "      <td>-1.334208</td>\n",
       "      <td>-0.010357</td>\n",
       "      <td>E. coli - L-malate</td>\n",
       "    </tr>\n",
       "    <tr>\n",
       "      <th>163</th>\n",
       "      <td>Formate</td>\n",
       "      <td>L-alanine</td>\n",
       "      <td>0.073954</td>\n",
       "      <td>0.025615</td>\n",
       "      <td>0.004711</td>\n",
       "      <td>1.0</td>\n",
       "      <td>45.017000</td>\n",
       "      <td>0.532943</td>\n",
       "      <td>for</td>\n",
       "      <td>0.004711</td>\n",
       "      <td>...</td>\n",
       "      <td>0.073954</td>\n",
       "      <td>0.003329</td>\n",
       "      <td>0.004711</td>\n",
       "      <td>0.104652</td>\n",
       "      <td>-1.131041</td>\n",
       "      <td>-2.477665</td>\n",
       "      <td>-2.326877</td>\n",
       "      <td>-0.980253</td>\n",
       "      <td>-0.273319</td>\n",
       "      <td>E. coli - L-alanine</td>\n",
       "    </tr>\n",
       "    <tr>\n",
       "      <th>398</th>\n",
       "      <td>Pyruvate</td>\n",
       "      <td>L-malate</td>\n",
       "      <td>0.057956</td>\n",
       "      <td>0.032395</td>\n",
       "      <td>0.005981</td>\n",
       "      <td>3.0</td>\n",
       "      <td>87.054120</td>\n",
       "      <td>11.551738</td>\n",
       "      <td>pyr</td>\n",
       "      <td>0.005981</td>\n",
       "      <td>...</td>\n",
       "      <td>0.173867</td>\n",
       "      <td>0.005045</td>\n",
       "      <td>0.001994</td>\n",
       "      <td>0.068701</td>\n",
       "      <td>-0.759782</td>\n",
       "      <td>-2.297114</td>\n",
       "      <td>-2.700367</td>\n",
       "      <td>-1.163035</td>\n",
       "      <td>1.062647</td>\n",
       "      <td>E. coli - L-malate</td>\n",
       "    </tr>\n",
       "    <tr>\n",
       "      <th>115</th>\n",
       "      <td>Citrate</td>\n",
       "      <td>L-malate</td>\n",
       "      <td>0.030904</td>\n",
       "      <td>0.045732</td>\n",
       "      <td>0.013154</td>\n",
       "      <td>6.0</td>\n",
       "      <td>189.099700</td>\n",
       "      <td>8.433855</td>\n",
       "      <td>cit</td>\n",
       "      <td>0.013154</td>\n",
       "      <td>...</td>\n",
       "      <td>0.185422</td>\n",
       "      <td>0.005844</td>\n",
       "      <td>0.002192</td>\n",
       "      <td>0.069559</td>\n",
       "      <td>-0.731840</td>\n",
       "      <td>-2.233300</td>\n",
       "      <td>-2.659106</td>\n",
       "      <td>-1.157645</td>\n",
       "      <td>0.926026</td>\n",
       "      <td>E. coli - L-malate</td>\n",
       "    </tr>\n",
       "    <tr>\n",
       "      <th>221</th>\n",
       "      <td>Glycine</td>\n",
       "      <td>L-alanine</td>\n",
       "      <td>0.019098</td>\n",
       "      <td>0.007061</td>\n",
       "      <td>0.033782</td>\n",
       "      <td>2.0</td>\n",
       "      <td>75.066600</td>\n",
       "      <td>0.499423</td>\n",
       "      <td>gly</td>\n",
       "      <td>0.033782</td>\n",
       "      <td>...</td>\n",
       "      <td>0.038196</td>\n",
       "      <td>0.001434</td>\n",
       "      <td>0.016891</td>\n",
       "      <td>0.450024</td>\n",
       "      <td>-1.417977</td>\n",
       "      <td>-2.843560</td>\n",
       "      <td>-1.772348</td>\n",
       "      <td>-0.346765</td>\n",
       "      <td>-0.301532</td>\n",
       "      <td>E. coli - L-alanine</td>\n",
       "    </tr>\n",
       "    <tr>\n",
       "      <th>434</th>\n",
       "      <td>Succinate</td>\n",
       "      <td>Galactose</td>\n",
       "      <td>0.018379</td>\n",
       "      <td>0.023832</td>\n",
       "      <td>0.046522</td>\n",
       "      <td>4.0</td>\n",
       "      <td>116.072160</td>\n",
       "      <td>2.073565</td>\n",
       "      <td>succ</td>\n",
       "      <td>0.029692</td>\n",
       "      <td>...</td>\n",
       "      <td>0.073517</td>\n",
       "      <td>0.002133</td>\n",
       "      <td>0.011631</td>\n",
       "      <td>0.400807</td>\n",
       "      <td>-1.133614</td>\n",
       "      <td>-2.670946</td>\n",
       "      <td>-1.934397</td>\n",
       "      <td>-0.397065</td>\n",
       "      <td>0.316718</td>\n",
       "      <td>E. coli - Galactose</td>\n",
       "    </tr>\n",
       "    <tr>\n",
       "      <th>472</th>\n",
       "      <td>Uracil</td>\n",
       "      <td>Glucose</td>\n",
       "      <td>0.013142</td>\n",
       "      <td>0.002779</td>\n",
       "      <td>0.052387</td>\n",
       "      <td>4.0</td>\n",
       "      <td>112.086760</td>\n",
       "      <td>0.000000</td>\n",
       "      <td>ura</td>\n",
       "      <td>0.052387</td>\n",
       "      <td>...</td>\n",
       "      <td>0.052566</td>\n",
       "      <td>0.001473</td>\n",
       "      <td>0.013097</td>\n",
       "      <td>0.467375</td>\n",
       "      <td>-1.279293</td>\n",
       "      <td>-2.831799</td>\n",
       "      <td>-1.882840</td>\n",
       "      <td>-0.330335</td>\n",
       "      <td>-inf</td>\n",
       "      <td>E. coli - Glucose</td>\n",
       "    </tr>\n",
       "    <tr>\n",
       "      <th>117</th>\n",
       "      <td>Citrate</td>\n",
       "      <td>Glucose</td>\n",
       "      <td>0.006322</td>\n",
       "      <td>0.000463</td>\n",
       "      <td>0.040849</td>\n",
       "      <td>6.0</td>\n",
       "      <td>189.099700</td>\n",
       "      <td>6.022707</td>\n",
       "      <td>cit</td>\n",
       "      <td>0.029774</td>\n",
       "      <td>...</td>\n",
       "      <td>0.037931</td>\n",
       "      <td>0.001195</td>\n",
       "      <td>0.006808</td>\n",
       "      <td>0.216019</td>\n",
       "      <td>-1.421002</td>\n",
       "      <td>-2.922463</td>\n",
       "      <td>-2.166968</td>\n",
       "      <td>-0.665507</td>\n",
       "      <td>0.779792</td>\n",
       "      <td>E. coli - Glucose</td>\n",
       "    </tr>\n",
       "    <tr>\n",
       "      <th>93</th>\n",
       "      <td>Asparagine</td>\n",
       "      <td>L-alanine</td>\n",
       "      <td>0.005821</td>\n",
       "      <td>0.002008</td>\n",
       "      <td>0.044251</td>\n",
       "      <td>4.0</td>\n",
       "      <td>132.117920</td>\n",
       "      <td>0.072368</td>\n",
       "      <td>asn__L</td>\n",
       "      <td>0.044251</td>\n",
       "      <td>...</td>\n",
       "      <td>0.023285</td>\n",
       "      <td>0.000769</td>\n",
       "      <td>0.011063</td>\n",
       "      <td>0.334936</td>\n",
       "      <td>-1.632930</td>\n",
       "      <td>-3.114029</td>\n",
       "      <td>-1.956136</td>\n",
       "      <td>-0.475038</td>\n",
       "      <td>-1.140454</td>\n",
       "      <td>E. coli - L-alanine</td>\n",
       "    </tr>\n",
       "    <tr>\n",
       "      <th>436</th>\n",
       "      <td>Succinate</td>\n",
       "      <td>L-alanine</td>\n",
       "      <td>0.005565</td>\n",
       "      <td>0.006923</td>\n",
       "      <td>0.037844</td>\n",
       "      <td>4.0</td>\n",
       "      <td>116.072160</td>\n",
       "      <td>3.148872</td>\n",
       "      <td>succ</td>\n",
       "      <td>0.037844</td>\n",
       "      <td>...</td>\n",
       "      <td>0.022259</td>\n",
       "      <td>0.000646</td>\n",
       "      <td>0.009461</td>\n",
       "      <td>0.326041</td>\n",
       "      <td>-1.652493</td>\n",
       "      <td>-3.189825</td>\n",
       "      <td>-2.024060</td>\n",
       "      <td>-0.486728</td>\n",
       "      <td>0.498155</td>\n",
       "      <td>E. coli - L-alanine</td>\n",
       "    </tr>\n",
       "    <tr>\n",
       "      <th>79</th>\n",
       "      <td>Alpha-ketoglutarate</td>\n",
       "      <td>Glucose</td>\n",
       "      <td>0.004123</td>\n",
       "      <td>0.001455</td>\n",
       "      <td>0.036263</td>\n",
       "      <td>5.0</td>\n",
       "      <td>144.082260</td>\n",
       "      <td>10.666347</td>\n",
       "      <td>akg</td>\n",
       "      <td>0.026843</td>\n",
       "      <td>...</td>\n",
       "      <td>0.020615</td>\n",
       "      <td>0.000594</td>\n",
       "      <td>0.007253</td>\n",
       "      <td>0.251682</td>\n",
       "      <td>-1.685819</td>\n",
       "      <td>-3.226179</td>\n",
       "      <td>-2.139508</td>\n",
       "      <td>-0.599148</td>\n",
       "      <td>1.028016</td>\n",
       "      <td>E. coli - Glucose</td>\n",
       "    </tr>\n",
       "    <tr>\n",
       "      <th>180</th>\n",
       "      <td>Gamma-aminobutyrate</td>\n",
       "      <td>L-alanine</td>\n",
       "      <td>0.002729</td>\n",
       "      <td>0.001572</td>\n",
       "      <td>0.040092</td>\n",
       "      <td>4.0</td>\n",
       "      <td>103.119760</td>\n",
       "      <td>0.000000</td>\n",
       "      <td>4abut</td>\n",
       "      <td>0.040011</td>\n",
       "      <td>...</td>\n",
       "      <td>0.010915</td>\n",
       "      <td>0.000281</td>\n",
       "      <td>0.010023</td>\n",
       "      <td>0.388789</td>\n",
       "      <td>-1.961965</td>\n",
       "      <td>-3.550683</td>\n",
       "      <td>-1.999004</td>\n",
       "      <td>-0.410286</td>\n",
       "      <td>-inf</td>\n",
       "      <td>E. coli - L-alanine</td>\n",
       "    </tr>\n",
       "    <tr>\n",
       "      <th>164</th>\n",
       "      <td>Fructose-1,6-bisphosphate</td>\n",
       "      <td>Glucose</td>\n",
       "      <td>0.002548</td>\n",
       "      <td>0.000492</td>\n",
       "      <td>0.058654</td>\n",
       "      <td>6.0</td>\n",
       "      <td>336.083922</td>\n",
       "      <td>0.000000</td>\n",
       "      <td>fdp</td>\n",
       "      <td>0.043236</td>\n",
       "      <td>...</td>\n",
       "      <td>0.015287</td>\n",
       "      <td>0.000856</td>\n",
       "      <td>0.009776</td>\n",
       "      <td>0.174521</td>\n",
       "      <td>-1.815676</td>\n",
       "      <td>-3.067380</td>\n",
       "      <td>-2.009857</td>\n",
       "      <td>-0.758153</td>\n",
       "      <td>-inf</td>\n",
       "      <td>E. coli - Glucose</td>\n",
       "    </tr>\n",
       "    <tr>\n",
       "      <th>88</th>\n",
       "      <td>Arginine</td>\n",
       "      <td>Glucose</td>\n",
       "      <td>0.001903</td>\n",
       "      <td>0.000202</td>\n",
       "      <td>0.115224</td>\n",
       "      <td>6.0</td>\n",
       "      <td>175.208900</td>\n",
       "      <td>0.185067</td>\n",
       "      <td>arg__L</td>\n",
       "      <td>0.111323</td>\n",
       "      <td>...</td>\n",
       "      <td>0.011418</td>\n",
       "      <td>0.000333</td>\n",
       "      <td>0.019204</td>\n",
       "      <td>0.657639</td>\n",
       "      <td>-1.942411</td>\n",
       "      <td>-3.477006</td>\n",
       "      <td>-1.716608</td>\n",
       "      <td>-0.182013</td>\n",
       "      <td>-0.732671</td>\n",
       "      <td>E. coli - Glucose</td>\n",
       "    </tr>\n",
       "    <tr>\n",
       "      <th>150</th>\n",
       "      <td>Dihydroxyacetone phosphate</td>\n",
       "      <td>Glucose</td>\n",
       "      <td>0.001800</td>\n",
       "      <td>0.000061</td>\n",
       "      <td>0.029999</td>\n",
       "      <td>3.0</td>\n",
       "      <td>168.041961</td>\n",
       "      <td>6.136869</td>\n",
       "      <td>dhap</td>\n",
       "      <td>0.022560</td>\n",
       "      <td>...</td>\n",
       "      <td>0.005400</td>\n",
       "      <td>0.000302</td>\n",
       "      <td>0.010000</td>\n",
       "      <td>0.178524</td>\n",
       "      <td>-2.267607</td>\n",
       "      <td>-3.519311</td>\n",
       "      <td>-2.000008</td>\n",
       "      <td>-0.748304</td>\n",
       "      <td>0.787947</td>\n",
       "      <td>E. coli - Glucose</td>\n",
       "    </tr>\n",
       "    <tr>\n",
       "      <th>191</th>\n",
       "      <td>Glutamate</td>\n",
       "      <td>Galactose</td>\n",
       "      <td>0.001786</td>\n",
       "      <td>0.000715</td>\n",
       "      <td>0.063335</td>\n",
       "      <td>5.0</td>\n",
       "      <td>146.121320</td>\n",
       "      <td>4.072727</td>\n",
       "      <td>glu__L</td>\n",
       "      <td>0.041405</td>\n",
       "      <td>...</td>\n",
       "      <td>0.008930</td>\n",
       "      <td>0.000261</td>\n",
       "      <td>0.012667</td>\n",
       "      <td>0.433443</td>\n",
       "      <td>-2.049158</td>\n",
       "      <td>-3.583414</td>\n",
       "      <td>-1.897325</td>\n",
       "      <td>-0.363068</td>\n",
       "      <td>0.609885</td>\n",
       "      <td>E. coli - Galactose</td>\n",
       "    </tr>\n",
       "    <tr>\n",
       "      <th>426</th>\n",
       "      <td>Serine</td>\n",
       "      <td>L-malate</td>\n",
       "      <td>0.001668</td>\n",
       "      <td>0.000442</td>\n",
       "      <td>0.051521</td>\n",
       "      <td>3.0</td>\n",
       "      <td>105.092580</td>\n",
       "      <td>0.331500</td>\n",
       "      <td>ser__L</td>\n",
       "      <td>0.049174</td>\n",
       "      <td>...</td>\n",
       "      <td>0.005005</td>\n",
       "      <td>0.000175</td>\n",
       "      <td>0.017174</td>\n",
       "      <td>0.490243</td>\n",
       "      <td>-2.300586</td>\n",
       "      <td>-3.756135</td>\n",
       "      <td>-1.765137</td>\n",
       "      <td>-0.309588</td>\n",
       "      <td>-0.479517</td>\n",
       "      <td>E. coli - L-malate</td>\n",
       "    </tr>\n",
       "    <tr>\n",
       "      <th>171</th>\n",
       "      <td>Fructose-6-phosphate</td>\n",
       "      <td>Glucose</td>\n",
       "      <td>0.001615</td>\n",
       "      <td>0.000101</td>\n",
       "      <td>0.051850</td>\n",
       "      <td>6.0</td>\n",
       "      <td>258.119901</td>\n",
       "      <td>6.195987</td>\n",
       "      <td>f6p</td>\n",
       "      <td>0.036203</td>\n",
       "      <td>...</td>\n",
       "      <td>0.009692</td>\n",
       "      <td>0.000417</td>\n",
       "      <td>0.008642</td>\n",
       "      <td>0.200876</td>\n",
       "      <td>-2.013578</td>\n",
       "      <td>-3.379908</td>\n",
       "      <td>-2.063401</td>\n",
       "      <td>-0.697072</td>\n",
       "      <td>0.792110</td>\n",
       "      <td>E. coli - Glucose</td>\n",
       "    </tr>\n",
       "    <tr>\n",
       "      <th>192</th>\n",
       "      <td>Glutamate</td>\n",
       "      <td>L-malate</td>\n",
       "      <td>0.001228</td>\n",
       "      <td>0.001087</td>\n",
       "      <td>0.015420</td>\n",
       "      <td>5.0</td>\n",
       "      <td>146.121320</td>\n",
       "      <td>5.524827</td>\n",
       "      <td>glu__L</td>\n",
       "      <td>0.015420</td>\n",
       "      <td>...</td>\n",
       "      <td>0.006138</td>\n",
       "      <td>0.000179</td>\n",
       "      <td>0.003084</td>\n",
       "      <td>0.105531</td>\n",
       "      <td>-2.211999</td>\n",
       "      <td>-3.746256</td>\n",
       "      <td>-2.510877</td>\n",
       "      <td>-0.976620</td>\n",
       "      <td>0.742319</td>\n",
       "      <td>E. coli - L-malate</td>\n",
       "    </tr>\n",
       "    <tr>\n",
       "      <th>263</th>\n",
       "      <td>Isocitrate</td>\n",
       "      <td>Glucose</td>\n",
       "      <td>0.001137</td>\n",
       "      <td>0.000039</td>\n",
       "      <td>0.041888</td>\n",
       "      <td>6.0</td>\n",
       "      <td>189.099700</td>\n",
       "      <td>6.022707</td>\n",
       "      <td>icit</td>\n",
       "      <td>0.031228</td>\n",
       "      <td>...</td>\n",
       "      <td>0.006824</td>\n",
       "      <td>0.000215</td>\n",
       "      <td>0.006981</td>\n",
       "      <td>0.221510</td>\n",
       "      <td>-2.165938</td>\n",
       "      <td>-3.667398</td>\n",
       "      <td>-2.156066</td>\n",
       "      <td>-0.654606</td>\n",
       "      <td>0.779792</td>\n",
       "      <td>E. coli - Glucose</td>\n",
       "    </tr>\n",
       "  </tbody>\n",
       "</table>\n",
       "<p>30 rows × 41 columns</p>\n",
       "</div>"
      ],
      "text/plain": [
       "                     Metabolite Carbon source  Rate [mmol/gDW/h]  \\\n",
       "44                      Acetate     L-alanine           2.114485   \n",
       "45                      Acetate       Glucose           1.544754   \n",
       "43                      Acetate      L-malate           0.614063   \n",
       "400                    Pyruvate       Glucose           0.584596   \n",
       "161                     Formate     Galactose           0.357255   \n",
       "42                      Acetate     Galactose           0.203725   \n",
       "75          Alpha-aminobutyrate     L-alanine           0.187598   \n",
       "357                     Orotate       Glucose           0.117487   \n",
       "393                  Propionate     L-alanine           0.114260   \n",
       "392                  Propionate      L-malate           0.081971   \n",
       "162                     Formate      L-malate           0.077218   \n",
       "163                     Formate     L-alanine           0.073954   \n",
       "398                    Pyruvate      L-malate           0.057956   \n",
       "115                     Citrate      L-malate           0.030904   \n",
       "221                     Glycine     L-alanine           0.019098   \n",
       "434                   Succinate     Galactose           0.018379   \n",
       "472                      Uracil       Glucose           0.013142   \n",
       "117                     Citrate       Glucose           0.006322   \n",
       "93                   Asparagine     L-alanine           0.005821   \n",
       "436                   Succinate     L-alanine           0.005565   \n",
       "79          Alpha-ketoglutarate       Glucose           0.004123   \n",
       "180         Gamma-aminobutyrate     L-alanine           0.002729   \n",
       "164   Fructose-1,6-bisphosphate       Glucose           0.002548   \n",
       "88                     Arginine       Glucose           0.001903   \n",
       "150  Dihydroxyacetone phosphate       Glucose           0.001800   \n",
       "191                   Glutamate     Galactose           0.001786   \n",
       "426                      Serine      L-malate           0.001668   \n",
       "171        Fructose-6-phosphate       Glucose           0.001615   \n",
       "192                   Glutamate      L-malate           0.001228   \n",
       "263                  Isocitrate       Glucose           0.001137   \n",
       "\n",
       "     Std. Err [mmol/gDW/h]  Metabolite value [gDW/mmol]  N carbons  \\\n",
       "44                0.473112                     0.013466        2.0   \n",
       "45                0.188019                     0.009873        2.0   \n",
       "43                0.266627                     0.001564        2.0   \n",
       "400               0.028017                     0.017532        3.0   \n",
       "161               0.160892                     0.006631        1.0   \n",
       "42                0.106771                     0.021537        2.0   \n",
       "75                0.020450                          NaN        NaN   \n",
       "357               0.008019                     0.034516        5.0   \n",
       "393               0.014837                     0.037693        3.0   \n",
       "392               0.013858                     0.009030        3.0   \n",
       "162               0.088957                     0.002085        1.0   \n",
       "163               0.025615                     0.004711        1.0   \n",
       "398               0.032395                     0.005981        3.0   \n",
       "115               0.045732                     0.013154        6.0   \n",
       "221               0.007061                     0.033782        2.0   \n",
       "434               0.023832                     0.046522        4.0   \n",
       "472               0.002779                     0.052387        4.0   \n",
       "117               0.000463                     0.040849        6.0   \n",
       "93                0.002008                     0.044251        4.0   \n",
       "436               0.006923                     0.037844        4.0   \n",
       "79                0.001455                     0.036263        5.0   \n",
       "180               0.001572                     0.040092        4.0   \n",
       "164               0.000492                     0.058654        6.0   \n",
       "88                0.000202                     0.115224        6.0   \n",
       "150               0.000061                     0.029999        3.0   \n",
       "191               0.000715                     0.063335        5.0   \n",
       "426               0.000442                     0.051521        3.0   \n",
       "171               0.000101                     0.051850        6.0   \n",
       "192               0.001087                     0.015420        5.0   \n",
       "263               0.000039                     0.041888        6.0   \n",
       "\n",
       "     Mol weight [g/mol]  Turnover [mmol/gDW/h] Model ID    MV min  ...  \\\n",
       "44            59.044020               0.174896       ac  0.013466  ...   \n",
       "45            59.044020               0.364498       ac  0.004352  ...   \n",
       "43            59.044020               0.320435       ac  0.001564  ...   \n",
       "400           87.054120               9.205248      pyr  0.011087  ...   \n",
       "161           45.017000               0.181745      for  0.003720  ...   \n",
       "42            59.044020               0.236215       ac  0.009754  ...   \n",
       "75           102.110000                    NaN      NaN       NaN  ...   \n",
       "357          155.088320               0.206967     orot  0.028883  ...   \n",
       "393           73.070000               0.000000      ppa  0.037693  ...   \n",
       "392           73.070000               0.000000      ppa  0.009030  ...   \n",
       "162           45.017000               0.976433      for  0.002085  ...   \n",
       "163           45.017000               0.532943      for  0.004711  ...   \n",
       "398           87.054120              11.551738      pyr  0.005981  ...   \n",
       "115          189.099700               8.433855      cit  0.013154  ...   \n",
       "221           75.066600               0.499423      gly  0.033782  ...   \n",
       "434          116.072160               2.073565     succ  0.029692  ...   \n",
       "472          112.086760               0.000000      ura  0.052387  ...   \n",
       "117          189.099700               6.022707      cit  0.029774  ...   \n",
       "93           132.117920               0.072368   asn__L  0.044251  ...   \n",
       "436          116.072160               3.148872     succ  0.037844  ...   \n",
       "79           144.082260              10.666347      akg  0.026843  ...   \n",
       "180          103.119760               0.000000    4abut  0.040011  ...   \n",
       "164          336.083922               0.000000      fdp  0.043236  ...   \n",
       "88           175.208900               0.185067   arg__L  0.111323  ...   \n",
       "150          168.041961               6.136869     dhap  0.022560  ...   \n",
       "191          146.121320               4.072727   glu__L  0.041405  ...   \n",
       "426          105.092580               0.331500   ser__L  0.049174  ...   \n",
       "171          258.119901               6.195987      f6p  0.036203  ...   \n",
       "192          146.121320               5.524827   glu__L  0.015420  ...   \n",
       "263          189.099700               6.022707     icit  0.031228  ...   \n",
       "\n",
       "     Rate [mmol C/gDW/h] Rate [g/gDW/h] Metabolite value [gDW/mmol C]  \\\n",
       "44              4.228970       0.124848                      0.006733   \n",
       "45              3.089508       0.091208                      0.004937   \n",
       "43              1.228126       0.036257                      0.000782   \n",
       "400             1.753788       0.050891                      0.005844   \n",
       "161             0.357255       0.016083                      0.006631   \n",
       "42              0.407449       0.012029                      0.010769   \n",
       "75                   NaN       0.019156                           NaN   \n",
       "357             0.587437       0.018221                      0.006903   \n",
       "393             0.342779       0.008349                      0.012564   \n",
       "392             0.245913       0.005990                      0.003010   \n",
       "162             0.077218       0.003476                      0.002085   \n",
       "163             0.073954       0.003329                      0.004711   \n",
       "398             0.173867       0.005045                      0.001994   \n",
       "115             0.185422       0.005844                      0.002192   \n",
       "221             0.038196       0.001434                      0.016891   \n",
       "434             0.073517       0.002133                      0.011631   \n",
       "472             0.052566       0.001473                      0.013097   \n",
       "117             0.037931       0.001195                      0.006808   \n",
       "93              0.023285       0.000769                      0.011063   \n",
       "436             0.022259       0.000646                      0.009461   \n",
       "79              0.020615       0.000594                      0.007253   \n",
       "180             0.010915       0.000281                      0.010023   \n",
       "164             0.015287       0.000856                      0.009776   \n",
       "88              0.011418       0.000333                      0.019204   \n",
       "150             0.005400       0.000302                      0.010000   \n",
       "191             0.008930       0.000261                      0.012667   \n",
       "426             0.005005       0.000175                      0.017174   \n",
       "171             0.009692       0.000417                      0.008642   \n",
       "192             0.006138       0.000179                      0.003084   \n",
       "263             0.006824       0.000215                      0.006981   \n",
       "\n",
       "    Metabolite value [gDW/g]  log10(Rate [mmol C/gDW/h])  \\\n",
       "44                  0.228069                    0.626235   \n",
       "45                  0.167221                    0.489889   \n",
       "43                  0.026481                    0.089243   \n",
       "400                 0.201397                    0.243977   \n",
       "161                 0.147292                   -0.447022   \n",
       "42                  0.364764                   -0.389927   \n",
       "75                       NaN                         NaN   \n",
       "357                 0.222556                   -0.231039   \n",
       "393                 0.515847                   -0.464986   \n",
       "392                 0.123585                   -0.609219   \n",
       "162                 0.046323                   -1.112279   \n",
       "163                 0.104652                   -1.131041   \n",
       "398                 0.068701                   -0.759782   \n",
       "115                 0.069559                   -0.731840   \n",
       "221                 0.450024                   -1.417977   \n",
       "434                 0.400807                   -1.133614   \n",
       "472                 0.467375                   -1.279293   \n",
       "117                 0.216019                   -1.421002   \n",
       "93                  0.334936                   -1.632930   \n",
       "436                 0.326041                   -1.652493   \n",
       "79                  0.251682                   -1.685819   \n",
       "180                 0.388789                   -1.961965   \n",
       "164                 0.174521                   -1.815676   \n",
       "88                  0.657639                   -1.942411   \n",
       "150                 0.178524                   -2.267607   \n",
       "191                 0.433443                   -2.049158   \n",
       "426                 0.490243                   -2.300586   \n",
       "171                 0.200876                   -2.013578   \n",
       "192                 0.105531                   -2.211999   \n",
       "263                 0.221510                   -2.165938   \n",
       "\n",
       "    log10(Rate [g/gDW/h])  log10(Metabolite value [gDW/mmol C])  \\\n",
       "44              -0.903619                             -2.171787   \n",
       "45              -1.039965                             -2.306563   \n",
       "43              -1.440611                             -3.106914   \n",
       "400             -1.293355                             -2.233279   \n",
       "161             -1.793645                             -2.178443   \n",
       "42              -1.919781                             -1.967842   \n",
       "75              -1.717703                                   NaN   \n",
       "357             -1.739430                             -2.160951   \n",
       "393             -2.078368                             -1.900861   \n",
       "392             -2.222601                             -2.521416   \n",
       "162             -2.458903                             -2.680831   \n",
       "163             -2.477665                             -2.326877   \n",
       "398             -2.297114                             -2.700367   \n",
       "115             -2.233300                             -2.659106   \n",
       "221             -2.843560                             -1.772348   \n",
       "434             -2.670946                             -1.934397   \n",
       "472             -2.831799                             -1.882840   \n",
       "117             -2.922463                             -2.166968   \n",
       "93              -3.114029                             -1.956136   \n",
       "436             -3.189825                             -2.024060   \n",
       "79              -3.226179                             -2.139508   \n",
       "180             -3.550683                             -1.999004   \n",
       "164             -3.067380                             -2.009857   \n",
       "88              -3.477006                             -1.716608   \n",
       "150             -3.519311                             -2.000008   \n",
       "191             -3.583414                             -1.897325   \n",
       "426             -3.756135                             -1.765137   \n",
       "171             -3.379908                             -2.063401   \n",
       "192             -3.746256                             -2.510877   \n",
       "263             -3.667398                             -2.156066   \n",
       "\n",
       "     log10(Metabolite value [gDW/g])  log10(Turnover [mmol/gDW/h])  \\\n",
       "44                         -0.641933                     -0.757221   \n",
       "45                         -0.776709                     -0.438305   \n",
       "43                         -1.577060                     -0.494260   \n",
       "400                        -0.695947                      0.964035   \n",
       "161                        -0.831820                     -0.740537   \n",
       "42                         -0.437988                     -0.626693   \n",
       "75                               NaN                           NaN   \n",
       "357                        -0.652560                     -0.684098   \n",
       "393                        -0.287479                          -inf   \n",
       "392                        -0.908034                          -inf   \n",
       "162                        -1.334208                     -0.010357   \n",
       "163                        -0.980253                     -0.273319   \n",
       "398                        -1.163035                      1.062647   \n",
       "115                        -1.157645                      0.926026   \n",
       "221                        -0.346765                     -0.301532   \n",
       "434                        -0.397065                      0.316718   \n",
       "472                        -0.330335                          -inf   \n",
       "117                        -0.665507                      0.779792   \n",
       "93                         -0.475038                     -1.140454   \n",
       "436                        -0.486728                      0.498155   \n",
       "79                         -0.599148                      1.028016   \n",
       "180                        -0.410286                          -inf   \n",
       "164                        -0.758153                          -inf   \n",
       "88                         -0.182013                     -0.732671   \n",
       "150                        -0.748304                      0.787947   \n",
       "191                        -0.363068                      0.609885   \n",
       "426                        -0.309588                     -0.479517   \n",
       "171                        -0.697072                      0.792110   \n",
       "192                        -0.976620                      0.742319   \n",
       "263                        -0.654606                      0.779792   \n",
       "\n",
       "    Species - Carbon source  \n",
       "44      E. coli - L-alanine  \n",
       "45        E. coli - Glucose  \n",
       "43       E. coli - L-malate  \n",
       "400       E. coli - Glucose  \n",
       "161     E. coli - Galactose  \n",
       "42      E. coli - Galactose  \n",
       "75      E. coli - L-alanine  \n",
       "357       E. coli - Glucose  \n",
       "393     E. coli - L-alanine  \n",
       "392      E. coli - L-malate  \n",
       "162      E. coli - L-malate  \n",
       "163     E. coli - L-alanine  \n",
       "398      E. coli - L-malate  \n",
       "115      E. coli - L-malate  \n",
       "221     E. coli - L-alanine  \n",
       "434     E. coli - Galactose  \n",
       "472       E. coli - Glucose  \n",
       "117       E. coli - Glucose  \n",
       "93      E. coli - L-alanine  \n",
       "436     E. coli - L-alanine  \n",
       "79        E. coli - Glucose  \n",
       "180     E. coli - L-alanine  \n",
       "164       E. coli - Glucose  \n",
       "88        E. coli - Glucose  \n",
       "150       E. coli - Glucose  \n",
       "191     E. coli - Galactose  \n",
       "426      E. coli - L-malate  \n",
       "171       E. coli - Glucose  \n",
       "192      E. coli - L-malate  \n",
       "263       E. coli - Glucose  \n",
       "\n",
       "[30 rows x 41 columns]"
      ]
     },
     "execution_count": 69,
     "metadata": {},
     "output_type": "execute_result"
    }
   ],
   "source": [
    "df.loc[df.Species=='E. coli',:].sort_values(['log10(Rate [mmol/gDW/h])', 'Metabolite'], ascending=False).head(30)"
   ]
  },
  {
   "cell_type": "code",
   "execution_count": 70,
   "id": "ba4c642e-3a98-420b-8c25-1110654482d0",
   "metadata": {
    "execution": {
     "iopub.execute_input": "2025-02-19T12:43:11.321792Z",
     "iopub.status.busy": "2025-02-19T12:43:11.321163Z",
     "iopub.status.idle": "2025-02-19T12:43:11.329347Z",
     "shell.execute_reply": "2025-02-19T12:43:11.328422Z",
     "shell.execute_reply.started": "2025-02-19T12:43:11.321753Z"
    }
   },
   "outputs": [],
   "source": [
    "# sns.relplot(data = df, x = 'log10(Metabolite value [gDW/mmol])', y = 'log10(Rate [mmol/gDW/h])', col = 'Species - Carbon source', col_wrap=3, hue = 'Metabolite', s = 100, facet_kws={'sharex': False, 'sharey': False}, palette = 'tab20')\n",
    "# plt.show()"
   ]
  },
  {
   "cell_type": "code",
   "execution_count": 71,
   "id": "00e36506-8110-4f1d-8778-1cb7b5bf2608",
   "metadata": {
    "execution": {
     "iopub.execute_input": "2025-02-19T12:43:11.918451Z",
     "iopub.status.busy": "2025-02-19T12:43:11.917727Z",
     "iopub.status.idle": "2025-02-19T12:43:11.927641Z",
     "shell.execute_reply": "2025-02-19T12:43:11.926496Z",
     "shell.execute_reply.started": "2025-02-19T12:43:11.918411Z"
    }
   },
   "outputs": [],
   "source": [
    "df['log10(Intracell. conc. [mM])']=np.log10(df['Intracellular concentration [M]']*1e3)"
   ]
  },
  {
   "cell_type": "code",
   "execution_count": 72,
   "id": "14a21682-bcaf-4c05-9bce-296cab253980",
   "metadata": {
    "execution": {
     "iopub.execute_input": "2025-02-19T12:43:12.442642Z",
     "iopub.status.busy": "2025-02-19T12:43:12.441959Z",
     "iopub.status.idle": "2025-02-19T12:43:12.458989Z",
     "shell.execute_reply": "2025-02-19T12:43:12.458115Z",
     "shell.execute_reply.started": "2025-02-19T12:43:12.442606Z"
    }
   },
   "outputs": [],
   "source": [
    "df_no_cg = df.loc[df.Species!='C. glutamicum', :]\n",
    "df_no_cg_no_nad = df_no_cg.loc[df_no_cg.Metabolite !='NAD', :]"
   ]
  },
  {
   "cell_type": "code",
   "execution_count": 73,
   "id": "c772b058-44e5-4c3f-9fb7-17bf59c787fc",
   "metadata": {
    "execution": {
     "iopub.execute_input": "2025-02-19T12:43:13.043099Z",
     "iopub.status.busy": "2025-02-19T12:43:13.042416Z",
     "iopub.status.idle": "2025-02-19T12:43:13.444227Z",
     "shell.execute_reply": "2025-02-19T12:43:13.443943Z",
     "shell.execute_reply.started": "2025-02-19T12:43:13.043065Z"
    }
   },
   "outputs": [
    {
     "data": {
      "image/png": "[encoded data removed]",
      "text/plain": [
       "<Figure size 420x300 with 1 Axes>"
      ]
     },
     "metadata": {},
     "output_type": "display_data"
    }
   ],
   "source": [
    "df_mean = df.groupby(['Carbon source', 'Species', 'Metabolite']).mean(numeric_only=True)\n",
    "df_mean.reset_index(inplace=True)\n",
    "sns.lmplot(data = df_mean.loc[df_mean.Species=='E. coli'], x = 'log10(Metabolite value [gDW/mmol])', y = 'log10(Rate [mmol/gDW/h])', line_kws={'color': 'k', 'ls': '--'}, scatter_kws={'color': 'gray', 'edgecolor': 'k', 'alpha':0.8}, aspect=1.4, height=3)\n",
    "plt.xlabel(r'$log_{10}$(Metabolite value [gDW/mmol])')\n",
    "plt.ylabel(r'$log_{10}$(Release rate [mmol/gDW/h])')\n",
    "\n",
    "corr_data = df_mean.loc[df_mean.Species=='E. coli',['log10(Metabolite value [gDW/mmol])', 'log10(Rate [mmol/gDW/h])']]\n",
    "corr_data = corr_data.loc[~corr_data.isna().any(axis = 1)]\n",
    "\n",
    "pcorr, ppval = st.pearsonr(corr_data['log10(Metabolite value [gDW/mmol])'], corr_data['log10(Rate [mmol/gDW/h])'])\n",
    "plt.text(-1.4, 0, r'$\\rho$: {0:.2f}, p-value: {1:.1e}'.format(pcorr, ppval))\n",
    "# sns.relplot(, col = 'Species - Carbon source', col_wrap=3, hue = 'Metabolite', s = 100, facet_kws={'sharex': False, 'sharey': False})\n",
    "plt.savefig('value_vs_release.pdf')\n",
    "plt.savefig('value_vs_release.png', dpi = 400, bbox_inches=\"tight\")\n",
    "plt.show()"
   ]
  },
  {
   "cell_type": "code",
   "execution_count": 34,
   "id": "bde6e375-42ae-490e-865f-510d0905033d",
   "metadata": {
    "execution": {
     "iopub.execute_input": "2025-02-17T15:13:59.194482Z",
     "iopub.status.busy": "2025-02-17T15:13:59.194337Z",
     "iopub.status.idle": "2025-02-17T15:13:59.511388Z",
     "shell.execute_reply": "2025-02-17T15:13:59.510977Z",
     "shell.execute_reply.started": "2025-02-17T15:13:59.194471Z"
    }
   },
   "outputs": [
    {
     "data": {
      "image/png": "[encoded data removed]",
      "text/plain": [
       "<Figure size 420x300 with 1 Axes>"
      ]
     },
     "metadata": {},
     "output_type": "display_data"
    }
   ],
   "source": [
    "sns.set(font_scale = 1, style = 'ticks')\n",
    "df_mean = df_no_cg_no_nad.groupby(['Carbon source', 'Species', 'Metabolite']).mean(numeric_only=True)\n",
    "df_mean.reset_index(inplace=True)\n",
    "sns.lmplot(data = df_mean.loc[df_mean.Species=='E. coli'], x = 'Mol weight [g/mol]', y = 'log10(Rate [mmol/gDW/h])', line_kws={'color': 'k', 'ls': '--'}, scatter_kws={'color': 'gray', 'edgecolor': 'k', 'alpha':0.8}, aspect=1.4, height=3)\n",
    "plt.xlabel('Mol weight [g/mol]')\n",
    "plt.ylabel(r'$log_{10}$(Release rate [mmol/gDW/h])')\n",
    "\n",
    "corr_data = df_mean.loc[df_mean.Species=='E. coli',['Mol weight [g/mol]', 'log10(Rate [mmol/gDW/h])']]\n",
    "corr_data = corr_data.loc[~corr_data.isna().any(axis = 1)]\n",
    "\n",
    "pcorr, ppval = st.pearsonr(corr_data['Mol weight [g/mol]'], corr_data['log10(Rate [mmol/gDW/h])'])\n",
    "plt.text(150, 0, r'$\\rho$: {0:.2f}, p-value: {1:.1e}'.format(pcorr, ppval))\n",
    "# sns.relplot(, col = 'Species - Carbon source', col_wrap=3, hue = 'Metabolite', s = 100, facet_kws={'sharex': False, 'sharey': False})\n",
    "plt.savefig('mw_vs_release_no_nad.pdf')\n",
    "plt.savefig('mw_vs_release_no_nad.png', dpi = 400, bbox_inches=\"tight\")\n",
    "\n",
    "plt.show()"
   ]
  },
  {
   "cell_type": "code",
   "execution_count": 35,
   "id": "1b53c31a-f49b-45d7-8ca7-e7d3c9fcedc8",
   "metadata": {
    "execution": {
     "iopub.execute_input": "2025-02-17T15:13:59.512085Z",
     "iopub.status.busy": "2025-02-17T15:13:59.511917Z",
     "iopub.status.idle": "2025-02-17T15:13:59.785676Z",
     "shell.execute_reply": "2025-02-17T15:13:59.785351Z",
     "shell.execute_reply.started": "2025-02-17T15:13:59.512070Z"
    }
   },
   "outputs": [
    {
     "data": {
      "image/png": "[encoded data removed]",
      "text/plain": [
       "<Figure size 420x300 with 1 Axes>"
      ]
     },
     "metadata": {},
     "output_type": "display_data"
    }
   ],
   "source": [
    "sns.set(font_scale = 1, style = 'ticks')\n",
    "df_mean = df.groupby(['Carbon source', 'Species', 'Metabolite']).mean(numeric_only=True)\n",
    "df_mean.reset_index(inplace=True)\n",
    "sns.lmplot(data = df_mean.loc[df_mean.Species=='E. coli'], x = 'Mol weight [g/mol]', y = 'log10(Rate [mmol/gDW/h])', line_kws={'color': 'k', 'ls': '--'}, scatter_kws={'color': 'gray', 'edgecolor': 'k', 'alpha':0.8}, aspect=1.4, height=3)\n",
    "plt.xlabel('Mol weight [g/mol]')\n",
    "plt.ylabel(r'$log_{10}$(Release rate [mmol/gDW/h])')\n",
    "\n",
    "corr_data = df_mean.loc[df_mean.Species=='E. coli',['Mol weight [g/mol]', 'log10(Rate [mmol/gDW/h])']]\n",
    "corr_data = corr_data.loc[~corr_data.isna().any(axis = 1)]\n",
    "\n",
    "pcorr, ppval = st.pearsonr(corr_data['Mol weight [g/mol]'], corr_data['log10(Rate [mmol/gDW/h])'])\n",
    "plt.text(150, 0, r'$\\rho$: {0:.2f}, p-value: {1:.1e}'.format(pcorr, ppval))\n",
    "# sns.relplot(, col = 'Species - Carbon source', col_wrap=3, hue = 'Metabolite', s = 100, facet_kws={'sharex': False, 'sharey': False})\n",
    "plt.savefig('mw_vs_release.pdf')\n",
    "plt.savefig('mw_vs_release.png', dpi = 400, bbox_inches=\"tight\")\n",
    "\n",
    "plt.show()"
   ]
  },
  {
   "cell_type": "code",
   "execution_count": 36,
   "id": "62a19da0-837a-4437-a17c-fe569f8da60c",
   "metadata": {
    "execution": {
     "iopub.execute_input": "2025-02-17T15:13:59.786238Z",
     "iopub.status.busy": "2025-02-17T15:13:59.786140Z",
     "iopub.status.idle": "2025-02-17T15:14:00.455328Z",
     "shell.execute_reply": "2025-02-17T15:14:00.452478Z",
     "shell.execute_reply.started": "2025-02-17T15:13:59.786226Z"
    }
   },
   "outputs": [
    {
     "ename": "KeyError",
     "evalue": "\"['log P'] not in index\"",
     "output_type": "error",
     "traceback": [
      "\u001b[0;31m---------------------------------------------------------------------------\u001b[0m",
      "\u001b[0;31mKeyError\u001b[0m                                  Traceback (most recent call last)",
      "Cell \u001b[0;32mIn[36], line 4\u001b[0m\n\u001b[1;32m      2\u001b[0m df_mean \u001b[38;5;241m=\u001b[39m df\u001b[38;5;241m.\u001b[39mgroupby([\u001b[38;5;124m'\u001b[39m\u001b[38;5;124mCarbon source\u001b[39m\u001b[38;5;124m'\u001b[39m, \u001b[38;5;124m'\u001b[39m\u001b[38;5;124mSpecies\u001b[39m\u001b[38;5;124m'\u001b[39m, \u001b[38;5;124m'\u001b[39m\u001b[38;5;124mMetabolite\u001b[39m\u001b[38;5;124m'\u001b[39m])\u001b[38;5;241m.\u001b[39mmean(numeric_only\u001b[38;5;241m=\u001b[39m\u001b[38;5;28;01mTrue\u001b[39;00m)\n\u001b[1;32m      3\u001b[0m df_mean\u001b[38;5;241m.\u001b[39mreset_index(inplace\u001b[38;5;241m=\u001b[39m\u001b[38;5;28;01mTrue\u001b[39;00m)\n\u001b[0;32m----> 4\u001b[0m \u001b[43msns\u001b[49m\u001b[38;5;241;43m.\u001b[39;49m\u001b[43mlmplot\u001b[49m\u001b[43m(\u001b[49m\u001b[43mdata\u001b[49m\u001b[43m \u001b[49m\u001b[38;5;241;43m=\u001b[39;49m\u001b[43m \u001b[49m\u001b[43mdf_mean\u001b[49m\u001b[38;5;241;43m.\u001b[39;49m\u001b[43mloc\u001b[49m\u001b[43m[\u001b[49m\u001b[43mdf_mean\u001b[49m\u001b[38;5;241;43m.\u001b[39;49m\u001b[43mSpecies\u001b[49m\u001b[38;5;241;43m==\u001b[39;49m\u001b[38;5;124;43m'\u001b[39;49m\u001b[38;5;124;43mE. coli\u001b[39;49m\u001b[38;5;124;43m'\u001b[39;49m\u001b[43m]\u001b[49m\u001b[43m,\u001b[49m\u001b[43m \u001b[49m\u001b[43mx\u001b[49m\u001b[43m \u001b[49m\u001b[38;5;241;43m=\u001b[39;49m\u001b[43m \u001b[49m\u001b[38;5;124;43m'\u001b[39;49m\u001b[38;5;124;43mlog P\u001b[39;49m\u001b[38;5;124;43m'\u001b[39;49m\u001b[43m,\u001b[49m\u001b[43m \u001b[49m\u001b[43my\u001b[49m\u001b[43m \u001b[49m\u001b[38;5;241;43m=\u001b[39;49m\u001b[43m \u001b[49m\u001b[38;5;124;43m'\u001b[39;49m\u001b[38;5;124;43mlog10(Rate [mmol/gDW/h])\u001b[39;49m\u001b[38;5;124;43m'\u001b[39;49m\u001b[43m,\u001b[49m\u001b[43m \u001b[49m\u001b[43mline_kws\u001b[49m\u001b[38;5;241;43m=\u001b[39;49m\u001b[43m{\u001b[49m\u001b[38;5;124;43m'\u001b[39;49m\u001b[38;5;124;43mcolor\u001b[39;49m\u001b[38;5;124;43m'\u001b[39;49m\u001b[43m:\u001b[49m\u001b[43m \u001b[49m\u001b[38;5;124;43m'\u001b[39;49m\u001b[38;5;124;43mk\u001b[39;49m\u001b[38;5;124;43m'\u001b[39;49m\u001b[43m,\u001b[49m\u001b[43m \u001b[49m\u001b[38;5;124;43m'\u001b[39;49m\u001b[38;5;124;43mls\u001b[39;49m\u001b[38;5;124;43m'\u001b[39;49m\u001b[43m:\u001b[49m\u001b[43m \u001b[49m\u001b[38;5;124;43m'\u001b[39;49m\u001b[38;5;124;43m--\u001b[39;49m\u001b[38;5;124;43m'\u001b[39;49m\u001b[43m}\u001b[49m\u001b[43m,\u001b[49m\u001b[43m \u001b[49m\u001b[43mscatter_kws\u001b[49m\u001b[38;5;241;43m=\u001b[39;49m\u001b[43m{\u001b[49m\u001b[38;5;124;43m'\u001b[39;49m\u001b[38;5;124;43mcolor\u001b[39;49m\u001b[38;5;124;43m'\u001b[39;49m\u001b[43m:\u001b[49m\u001b[43m \u001b[49m\u001b[38;5;124;43m'\u001b[39;49m\u001b[38;5;124;43mgray\u001b[39;49m\u001b[38;5;124;43m'\u001b[39;49m\u001b[43m,\u001b[49m\u001b[43m \u001b[49m\u001b[38;5;124;43m'\u001b[39;49m\u001b[38;5;124;43medgecolor\u001b[39;49m\u001b[38;5;124;43m'\u001b[39;49m\u001b[43m:\u001b[49m\u001b[43m \u001b[49m\u001b[38;5;124;43m'\u001b[39;49m\u001b[38;5;124;43mk\u001b[39;49m\u001b[38;5;124;43m'\u001b[39;49m\u001b[43m,\u001b[49m\u001b[43m \u001b[49m\u001b[38;5;124;43m'\u001b[39;49m\u001b[38;5;124;43malpha\u001b[39;49m\u001b[38;5;124;43m'\u001b[39;49m\u001b[43m:\u001b[49m\u001b[38;5;241;43m0.8\u001b[39;49m\u001b[43m}\u001b[49m\u001b[43m,\u001b[49m\u001b[43m \u001b[49m\u001b[43maspect\u001b[49m\u001b[38;5;241;43m=\u001b[39;49m\u001b[38;5;241;43m1.4\u001b[39;49m\u001b[43m,\u001b[49m\u001b[43m \u001b[49m\u001b[43mheight\u001b[49m\u001b[38;5;241;43m=\u001b[39;49m\u001b[38;5;241;43m3\u001b[39;49m\u001b[43m)\u001b[49m\n\u001b[1;32m      5\u001b[0m plt\u001b[38;5;241m.\u001b[39mxlabel(\u001b[38;5;124m'\u001b[39m\u001b[38;5;124mlog P (solubility in oil/water)\u001b[39m\u001b[38;5;124m'\u001b[39m)\n\u001b[1;32m      6\u001b[0m plt\u001b[38;5;241m.\u001b[39mylabel(\u001b[38;5;124mr\u001b[39m\u001b[38;5;124m'\u001b[39m\u001b[38;5;124m$log_\u001b[39m\u001b[38;5;132;01m{10}\u001b[39;00m\u001b[38;5;124m$(Release rate [mmol/gDW/h])\u001b[39m\u001b[38;5;124m'\u001b[39m)\n",
      "File \u001b[0;32m~/miniconda3/envs/reframed/lib/python3.9/site-packages/seaborn/regression.py:611\u001b[0m, in \u001b[0;36mlmplot\u001b[0;34m(data, x, y, hue, col, row, palette, col_wrap, height, aspect, markers, sharex, sharey, hue_order, col_order, row_order, legend, legend_out, x_estimator, x_bins, x_ci, scatter, fit_reg, ci, n_boot, units, seed, order, logistic, lowess, robust, logx, x_partial, y_partial, truncate, x_jitter, y_jitter, scatter_kws, line_kws, facet_kws)\u001b[0m\n\u001b[1;32m    609\u001b[0m need_cols \u001b[38;5;241m=\u001b[39m [x, y, hue, col, row, units, x_partial, y_partial]\n\u001b[1;32m    610\u001b[0m cols \u001b[38;5;241m=\u001b[39m np\u001b[38;5;241m.\u001b[39munique([a \u001b[38;5;28;01mfor\u001b[39;00m a \u001b[38;5;129;01min\u001b[39;00m need_cols \u001b[38;5;28;01mif\u001b[39;00m a \u001b[38;5;129;01mis\u001b[39;00m \u001b[38;5;129;01mnot\u001b[39;00m \u001b[38;5;28;01mNone\u001b[39;00m])\u001b[38;5;241m.\u001b[39mtolist()\n\u001b[0;32m--> 611\u001b[0m data \u001b[38;5;241m=\u001b[39m \u001b[43mdata\u001b[49m\u001b[43m[\u001b[49m\u001b[43mcols\u001b[49m\u001b[43m]\u001b[49m\n\u001b[1;32m    613\u001b[0m \u001b[38;5;66;03m# Initialize the grid\u001b[39;00m\n\u001b[1;32m    614\u001b[0m facets \u001b[38;5;241m=\u001b[39m FacetGrid(\n\u001b[1;32m    615\u001b[0m     data, row\u001b[38;5;241m=\u001b[39mrow, col\u001b[38;5;241m=\u001b[39mcol, hue\u001b[38;5;241m=\u001b[39mhue,\n\u001b[1;32m    616\u001b[0m     palette\u001b[38;5;241m=\u001b[39mpalette,\n\u001b[0;32m   (...)\u001b[0m\n\u001b[1;32m    619\u001b[0m     \u001b[38;5;241m*\u001b[39m\u001b[38;5;241m*\u001b[39mfacet_kws,\n\u001b[1;32m    620\u001b[0m )\n",
      "File \u001b[0;32m~/miniconda3/envs/reframed/lib/python3.9/site-packages/pandas/core/frame.py:4108\u001b[0m, in \u001b[0;36mDataFrame.__getitem__\u001b[0;34m(self, key)\u001b[0m\n\u001b[1;32m   4106\u001b[0m     \u001b[38;5;28;01mif\u001b[39;00m is_iterator(key):\n\u001b[1;32m   4107\u001b[0m         key \u001b[38;5;241m=\u001b[39m \u001b[38;5;28mlist\u001b[39m(key)\n\u001b[0;32m-> 4108\u001b[0m     indexer \u001b[38;5;241m=\u001b[39m \u001b[38;5;28;43mself\u001b[39;49m\u001b[38;5;241;43m.\u001b[39;49m\u001b[43mcolumns\u001b[49m\u001b[38;5;241;43m.\u001b[39;49m\u001b[43m_get_indexer_strict\u001b[49m\u001b[43m(\u001b[49m\u001b[43mkey\u001b[49m\u001b[43m,\u001b[49m\u001b[43m \u001b[49m\u001b[38;5;124;43m\"\u001b[39;49m\u001b[38;5;124;43mcolumns\u001b[39;49m\u001b[38;5;124;43m\"\u001b[39;49m\u001b[43m)\u001b[49m[\u001b[38;5;241m1\u001b[39m]\n\u001b[1;32m   4110\u001b[0m \u001b[38;5;66;03m# take() does not accept boolean indexers\u001b[39;00m\n\u001b[1;32m   4111\u001b[0m \u001b[38;5;28;01mif\u001b[39;00m \u001b[38;5;28mgetattr\u001b[39m(indexer, \u001b[38;5;124m\"\u001b[39m\u001b[38;5;124mdtype\u001b[39m\u001b[38;5;124m\"\u001b[39m, \u001b[38;5;28;01mNone\u001b[39;00m) \u001b[38;5;241m==\u001b[39m \u001b[38;5;28mbool\u001b[39m:\n",
      "File \u001b[0;32m~/miniconda3/envs/reframed/lib/python3.9/site-packages/pandas/core/indexes/base.py:6200\u001b[0m, in \u001b[0;36mIndex._get_indexer_strict\u001b[0;34m(self, key, axis_name)\u001b[0m\n\u001b[1;32m   6197\u001b[0m \u001b[38;5;28;01melse\u001b[39;00m:\n\u001b[1;32m   6198\u001b[0m     keyarr, indexer, new_indexer \u001b[38;5;241m=\u001b[39m \u001b[38;5;28mself\u001b[39m\u001b[38;5;241m.\u001b[39m_reindex_non_unique(keyarr)\n\u001b[0;32m-> 6200\u001b[0m \u001b[38;5;28;43mself\u001b[39;49m\u001b[38;5;241;43m.\u001b[39;49m\u001b[43m_raise_if_missing\u001b[49m\u001b[43m(\u001b[49m\u001b[43mkeyarr\u001b[49m\u001b[43m,\u001b[49m\u001b[43m \u001b[49m\u001b[43mindexer\u001b[49m\u001b[43m,\u001b[49m\u001b[43m \u001b[49m\u001b[43maxis_name\u001b[49m\u001b[43m)\u001b[49m\n\u001b[1;32m   6202\u001b[0m keyarr \u001b[38;5;241m=\u001b[39m \u001b[38;5;28mself\u001b[39m\u001b[38;5;241m.\u001b[39mtake(indexer)\n\u001b[1;32m   6203\u001b[0m \u001b[38;5;28;01mif\u001b[39;00m \u001b[38;5;28misinstance\u001b[39m(key, Index):\n\u001b[1;32m   6204\u001b[0m     \u001b[38;5;66;03m# GH 42790 - Preserve name from an Index\u001b[39;00m\n",
      "File \u001b[0;32m~/miniconda3/envs/reframed/lib/python3.9/site-packages/pandas/core/indexes/base.py:6252\u001b[0m, in \u001b[0;36mIndex._raise_if_missing\u001b[0;34m(self, key, indexer, axis_name)\u001b[0m\n\u001b[1;32m   6249\u001b[0m     \u001b[38;5;28;01mraise\u001b[39;00m \u001b[38;5;167;01mKeyError\u001b[39;00m(\u001b[38;5;124mf\u001b[39m\u001b[38;5;124m\"\u001b[39m\u001b[38;5;124mNone of [\u001b[39m\u001b[38;5;132;01m{\u001b[39;00mkey\u001b[38;5;132;01m}\u001b[39;00m\u001b[38;5;124m] are in the [\u001b[39m\u001b[38;5;132;01m{\u001b[39;00maxis_name\u001b[38;5;132;01m}\u001b[39;00m\u001b[38;5;124m]\u001b[39m\u001b[38;5;124m\"\u001b[39m)\n\u001b[1;32m   6251\u001b[0m not_found \u001b[38;5;241m=\u001b[39m \u001b[38;5;28mlist\u001b[39m(ensure_index(key)[missing_mask\u001b[38;5;241m.\u001b[39mnonzero()[\u001b[38;5;241m0\u001b[39m]]\u001b[38;5;241m.\u001b[39munique())\n\u001b[0;32m-> 6252\u001b[0m \u001b[38;5;28;01mraise\u001b[39;00m \u001b[38;5;167;01mKeyError\u001b[39;00m(\u001b[38;5;124mf\u001b[39m\u001b[38;5;124m\"\u001b[39m\u001b[38;5;132;01m{\u001b[39;00mnot_found\u001b[38;5;132;01m}\u001b[39;00m\u001b[38;5;124m not in index\u001b[39m\u001b[38;5;124m\"\u001b[39m)\n",
      "\u001b[0;31mKeyError\u001b[0m: \"['log P'] not in index\""
     ]
    }
   ],
   "source": [
    "sns.set(font_scale = 1, style = 'ticks')\n",
    "df_mean = df.groupby(['Carbon source', 'Species', 'Metabolite']).mean(numeric_only=True)\n",
    "df_mean.reset_index(inplace=True)\n",
    "sns.lmplot(data = df_mean.loc[df_mean.Species=='E. coli'], x = 'log P', y = 'log10(Rate [mmol/gDW/h])', line_kws={'color': 'k', 'ls': '--'}, scatter_kws={'color': 'gray', 'edgecolor': 'k', 'alpha':0.8}, aspect=1.4, height=3)\n",
    "plt.xlabel('log P (solubility in oil/water)')\n",
    "plt.ylabel(r'$log_{10}$(Release rate [mmol/gDW/h])')\n",
    "\n",
    "corr_data = df_mean.loc[df_mean.Species=='E. coli',['log P', 'log10(Rate [mmol/gDW/h])']]\n",
    "corr_data = corr_data.loc[~corr_data.isna().any(axis = 1)]\n",
    "\n",
    "pcorr, ppval = st.pearsonr(corr_data['log P'], corr_data['log10(Rate [mmol/gDW/h])'])\n",
    "plt.text(-6, 0, r'$\\rho$: {0:.2f}, p-value: {1:.1e}'.format(pcorr, ppval))\n",
    "# sns.relplot(, col = 'Species - Carbon source', col_wrap=3, hue = 'Metabolite', s = 100, facet_kws={'sharex': False, 'sharey': False})\n",
    "plt.savefig('logP_vs_release.pdf')\n",
    "plt.savefig('logP_vs_release.png', dpi = 400, bbox_inches=\"tight\")\n",
    "\n",
    "plt.show()"
   ]
  },
  {
   "cell_type": "code",
   "execution_count": null,
   "id": "d21f3927-6238-4bf9-b57f-3d2596a1b8c7",
   "metadata": {
    "execution": {
     "iopub.status.busy": "2025-02-17T15:14:00.455544Z",
     "iopub.status.idle": "2025-02-17T15:14:00.455667Z",
     "shell.execute_reply": "2025-02-17T15:14:00.455604Z",
     "shell.execute_reply.started": "2025-02-17T15:14:00.455598Z"
    }
   },
   "outputs": [],
   "source": [
    "sns.set(font_scale = 1, style = 'ticks')\n",
    "df_mean = df.groupby(['Carbon source', 'Species', 'Metabolite']).mean(numeric_only=True)\n",
    "df_mean.reset_index(inplace=True)\n",
    "sns.lmplot(data = df_mean.loc[df_mean.Species=='E. coli'], x = 'log10(Intracell. conc. [mM])', y = 'log10(Rate [mmol/gDW/h])', line_kws={'color': 'k', 'ls': '--'}, scatter_kws={'color': 'gray', 'edgecolor': 'k', 'alpha':0.8}, aspect=1.4, height=3)\n",
    "plt.xlabel(r'$log_{10}$(Intracell. conc. [mM])')\n",
    "plt.ylabel(r'$log_{10}$(Release rate [mmol/gDW/h])')\n",
    "\n",
    "corr_data = df_mean.loc[df_mean.Species=='E. coli',['log10(Intracell. conc. [mM])', 'log10(Rate [mmol/gDW/h])']]\n",
    "corr_data = corr_data.loc[~corr_data.isna().any(axis = 1)]\n",
    "\n",
    "pcorr, ppval = st.pearsonr(corr_data['log10(Intracell. conc. [mM])'], corr_data['log10(Rate [mmol/gDW/h])'])\n",
    "plt.text(-1.4, 0, r'$\\rho$: {0:.2f}, p-value: {1:.1e}'.format(pcorr, ppval))\n",
    "# sns.relplot(, col = 'Species - Carbon source', col_wrap=3, hue = 'Metabolite', s = 100, facet_kws={'sharex': False, 'sharey': False})\n",
    "plt.savefig('conc_vs_release.pdf')\n",
    "plt.savefig('conc_vs_release.png', dpi = 400, bbox_inches=\"tight\")\n",
    "\n",
    "plt.show()"
   ]
  },
  {
   "cell_type": "code",
   "execution_count": null,
   "id": "edb091fe-ca4e-4cd0-a0e3-c8caf6a9b627",
   "metadata": {
    "execution": {
     "iopub.status.busy": "2025-02-17T15:14:00.456164Z",
     "iopub.status.idle": "2025-02-17T15:14:00.456299Z",
     "shell.execute_reply": "2025-02-17T15:14:00.456228Z",
     "shell.execute_reply.started": "2025-02-17T15:14:00.456223Z"
    }
   },
   "outputs": [],
   "source": [
    "df_mean = df.groupby(['Carbon source', 'Species', 'Metabolite']).mean(numeric_only=True)\n",
    "df_mean.reset_index(inplace=True)\n",
    "df_mean.replace([-np.inf, np.inf], np.nan, inplace=True)\n",
    "notnan_idx = ~df_mean[['log10(Turnover [mmol/gDW/h])', 'log10(Rate [mmol/gDW/h])']].isna().any(axis=1)\n",
    "s_idx = df_mean.Species=='E. coli'\n",
    "sns.lmplot(data = df_mean.loc[notnan_idx&s_idx,:], x = 'log10(Turnover [mmol/gDW/h])', y = 'log10(Rate [mmol/gDW/h])', line_kws={'color': 'k', 'ls': '--'}, scatter_kws={'color': 'gray', 'edgecolor': 'k', 'alpha':0.8}, aspect=1.4, height=3)\n",
    "plt.xlabel(r'$log_{10}$(Turnover [mmol/gDW/h])')\n",
    "plt.ylabel(r'$log_{10}$(Release rate [mmol/gDW/h])')\n",
    "\n",
    "corr_data = df_mean.loc[df_mean.Species=='E. coli',['log10(Turnover [mmol/gDW/h])', 'log10(Rate [mmol/gDW/h])']]\n",
    "corr_data = corr_data.loc[~corr_data.isna().any(axis = 1)]\n",
    "\n",
    "pcorr, ppval = st.pearsonr(corr_data['log10(Turnover [mmol/gDW/h])'], corr_data['log10(Rate [mmol/gDW/h])'])\n",
    "plt.text(-4, 0, r'$\\rho$: {0:.2f}, p-value: {1:.1e}'.format(pcorr, ppval))\n",
    "plt.savefig('turnover_vs_release.pdf')\n",
    "plt.savefig('turnover_vs_release.png', dpi = 400, bbox_inches=\"tight\")\n",
    "\n",
    "plt.show()"
   ]
  },
  {
   "cell_type": "code",
   "execution_count": null,
   "id": "2a6902cf-1db1-4e9f-b0c7-0f57ff2fd82f",
   "metadata": {
    "execution": {
     "iopub.status.busy": "2025-02-17T15:14:00.456747Z",
     "iopub.status.idle": "2025-02-17T15:14:00.456880Z",
     "shell.execute_reply": "2025-02-17T15:14:00.456811Z",
     "shell.execute_reply.started": "2025-02-17T15:14:00.456806Z"
    }
   },
   "outputs": [],
   "source": [
    "sns.set(font_scale = 1.5, style = 'ticks')\n",
    "p = sns.relplot(data = df_no_cg, x = 'log10(Metabolite value [gDW/mmol])', y = 'log10(Rate [mmol/gDW/h])', col = 'Species - Carbon source', col_wrap=3, hue = 'Compound class', s = 100, facet_kws={'sharex': False, 'sharey': False})\n",
    "p.map(sns.regplot, 'log10(Metabolite value [gDW/mmol])', 'log10(Rate [mmol/gDW/h])', scatter = False, color = 'gray')\n",
    "p.set_titles(col_template=\"{col_name}\", row_template=\"{row_name}\")\n",
    "sns.move_legend(\n",
    "    p, \"lower center\",\n",
    "    bbox_to_anchor=(.5, 1), ncol=6, title='Metabolite class', frameon=True,\n",
    ")\n",
    "for lh in p.legend.legend_handles: \n",
    "    lh._sizes = [250] \n",
    "plt.tight_layout()\n",
    "# sns.regplot(data = df, x = 'log10(Metabolite value [gDW/mmol])', y = 'log10(Rate [mmol/gDW/h])', col = 'Species - Carbon source', col_wrap=3, scatter=False, facet_kws={'sharex': False, 'sharey': False})\n",
    "plt.savefig('value_vs_rate.png', dpi = 400, bbox_inches=\"tight\")\n",
    "plt.savefig('value_vs_rate.pdf', bbox_inches=\"tight\")\n",
    "plt.show()"
   ]
  },
  {
   "cell_type": "code",
   "execution_count": null,
   "id": "0177e76d-e9c6-4a98-91de-ce874124d304",
   "metadata": {
    "execution": {
     "iopub.status.busy": "2025-02-17T15:14:00.457443Z",
     "iopub.status.idle": "2025-02-17T15:14:00.457617Z",
     "shell.execute_reply": "2025-02-17T15:14:00.457534Z",
     "shell.execute_reply.started": "2025-02-17T15:14:00.457527Z"
    }
   },
   "outputs": [],
   "source": [
    "sns.set(font_scale = 1.5, style = 'ticks')\n",
    "p = sns.relplot(data = df, x = 'log10(Metabolite value [gDW/mmol C])', y = 'log10(Rate [mmol C/gDW/h])', col = 'Species - Carbon source', col_wrap=3, hue = 'Compound class', s = 100, facet_kws={'sharex': False, 'sharey': False})\n",
    "p.set_titles(col_template=\"{col_name}\", row_template=\"{row_name}\")\n",
    "plt.show()"
   ]
  },
  {
   "cell_type": "code",
   "execution_count": null,
   "id": "a5151098-354c-46d1-9554-c875f495923f",
   "metadata": {
    "execution": {
     "iopub.status.busy": "2025-02-17T15:14:00.458211Z",
     "iopub.status.idle": "2025-02-17T15:14:00.458788Z",
     "shell.execute_reply": "2025-02-17T15:14:00.458705Z",
     "shell.execute_reply.started": "2025-02-17T15:14:00.458697Z"
    }
   },
   "outputs": [],
   "source": [
    "p = sns.relplot(data = df_no_cg, x = 'log10(Metabolite value [gDW/g])', y = 'log10(Rate [g/gDW/h])', col = 'Species - Carbon source', col_wrap=3, hue = 'Compound class', s = 100, facet_kws={'sharex': False, 'sharey': False})\n",
    "p.map(sns.regplot, 'log10(Metabolite value [gDW/g])', 'log10(Rate [g/gDW/h])', scatter = False, color = 'gray')\n",
    "p.set_titles(col_template=\"{col_name}\", row_template=\"{row_name}\")\n",
    "sns.move_legend(\n",
    "    p, \"lower center\",\n",
    "    bbox_to_anchor=(.5, 1), ncol=6, title='Metabolite class', frameon=True,\n",
    ")\n",
    "for lh in p.legend.legend_handles: \n",
    "    lh._sizes = [250] \n",
    "plt.tight_layout()\n",
    "# sns.regplot(data = df, x = 'log10(Metabolite value [gDW/mmol])', y = 'log10(Rate [mmol/gDW/h])', col = 'Species - Carbon source', col_wrap=3, scatter=False, facet_kws={'sharex': False, 'sharey': False})\n",
    "plt.savefig('value_vs_rate_g.png', dpi = 400, bbox_inches=\"tight\")\n",
    "plt.savefig('value_vs_rate_g.pdf', bbox_inches=\"tight\")\n",
    "plt.show()"
   ]
  },
  {
   "cell_type": "code",
   "execution_count": null,
   "id": "c5ef0fc3-a850-4511-aca3-e0f1dfdafc72",
   "metadata": {
    "execution": {
     "iopub.status.busy": "2025-02-17T15:14:00.459520Z",
     "iopub.status.idle": "2025-02-17T15:14:00.459668Z",
     "shell.execute_reply": "2025-02-17T15:14:00.459595Z",
     "shell.execute_reply.started": "2025-02-17T15:14:00.459588Z"
    }
   },
   "outputs": [],
   "source": [
    "sns.boxplot(data = df.loc[df.Species=='E. coli'], y = 'Compound class', x = 'log10(Rate [g/gDW/h])', order=['Carboxylic acid', 'Phosphorylated sugar', 'Amino acid', 'Nucleosides and nucleotides', 'Other'])\n",
    "sns.despine()\n",
    "plt.tight_layout()\n",
    "plt.savefig('boxplot_rates.png', dpi = 400)\n",
    "plt.show()"
   ]
  },
  {
   "cell_type": "code",
   "execution_count": null,
   "id": "8fd57ce5-24d9-4083-af8e-b5134a4e224e",
   "metadata": {
    "execution": {
     "iopub.status.busy": "2025-02-17T15:14:00.460328Z",
     "iopub.status.idle": "2025-02-17T15:14:00.460505Z",
     "shell.execute_reply": "2025-02-17T15:14:00.460390Z",
     "shell.execute_reply.started": "2025-02-17T15:14:00.460385Z"
    }
   },
   "outputs": [],
   "source": [
    "sns.boxplot(data = df.loc[df.Species=='E. coli'], y = 'Compound class', x = 'log10(Metabolite value [gDW/mmol])', order=['Carboxylic acid', 'Phosphorylated sugar', 'Amino acid', 'Nucleosides and nucleotides', 'Other'])\n",
    "sns.despine()\n",
    "plt.tight_layout()\n",
    "plt.savefig('boxplot_values.png', dpi = 400)\n",
    "plt.show()"
   ]
  },
  {
   "cell_type": "code",
   "execution_count": null,
   "id": "cc0c0e95-54e0-4cd8-82e9-45eb37b9c693",
   "metadata": {
    "execution": {
     "iopub.status.busy": "2025-02-17T15:14:00.461279Z",
     "iopub.status.idle": "2025-02-17T15:14:00.461558Z",
     "shell.execute_reply": "2025-02-17T15:14:00.461438Z",
     "shell.execute_reply.started": "2025-02-17T15:14:00.461430Z"
    }
   },
   "outputs": [],
   "source": [
    "sns.lmplot(data = df, x = 'log10(Metabolite value [gDW/mmol])', y = 'log10(Rate [mmol/gDW/h])', col = 'Species - Carbon source', col_wrap=3, facet_kws={'sharex': False, 'sharey': False})"
   ]
  },
  {
   "cell_type": "code",
   "execution_count": null,
   "id": "9ec6c3df-83cb-4d94-9c97-46ea33c31197",
   "metadata": {
    "execution": {
     "iopub.status.busy": "2025-02-17T15:14:00.462085Z",
     "iopub.status.idle": "2025-02-17T15:14:00.462281Z",
     "shell.execute_reply": "2025-02-17T15:14:00.462153Z",
     "shell.execute_reply.started": "2025-02-17T15:14:00.462147Z"
    }
   },
   "outputs": [],
   "source": [
    "sns.lmplot(data = df, x = 'log10(Metabolite value [gDW/mmol C])', y = 'log10(Rate [mmol C/gDW/h])', col = 'Species - Carbon source', col_wrap=3, facet_kws={'sharex': False, 'sharey': False})"
   ]
  },
  {
   "cell_type": "code",
   "execution_count": null,
   "id": "25f3ebe1-e6e1-44da-8f4b-09d709fe12d6",
   "metadata": {
    "execution": {
     "iopub.status.busy": "2025-02-17T15:14:00.463212Z",
     "iopub.status.idle": "2025-02-17T15:14:00.463419Z",
     "shell.execute_reply": "2025-02-17T15:14:00.463289Z",
     "shell.execute_reply.started": "2025-02-17T15:14:00.463283Z"
    }
   },
   "outputs": [],
   "source": [
    "sns.lmplot(data = df, x = 'log10(Metabolite value [gDW/g])', y = 'log10(Rate [g/gDW/h])', col = 'Species - Carbon source', col_wrap=3, facet_kws={'sharex': False, 'sharey': False})\n",
    "plt.show()"
   ]
  },
  {
   "cell_type": "code",
   "execution_count": null,
   "id": "a0cc1159-be0e-4afb-beb0-a99a35d224c4",
   "metadata": {
    "execution": {
     "iopub.status.busy": "2025-02-17T15:14:00.464342Z",
     "iopub.status.idle": "2025-02-17T15:14:00.464863Z",
     "shell.execute_reply": "2025-02-17T15:14:00.464690Z",
     "shell.execute_reply.started": "2025-02-17T15:14:00.464656Z"
    }
   },
   "outputs": [],
   "source": [
    "'Metabolite', 'Carbon source',\n",
    "xvarsL = ['Mol weight [g/mol]', 'Topological Polar Surface Area', 'log10(Intracell. conc. [mM])', 'log P', 'log10(Rate [mmol/gDW/h])','Charge','Phosphate',\n",
    "       'log10(Metabolite value [gDW/mmol])','log10(Turnover [mmol/gDW/h])']\n",
    "xvarsS = ['Mol weight [g/mol]', 'Topological Polar Surface Area', 'log10(Intracell. conc. [mM])', 'log P',\n",
    "       'log10(Metabolite value [gDW/mmol])', 'log10(Rate [mmol/gDW/h])']"
   ]
  },
  {
   "cell_type": "code",
   "execution_count": null,
   "id": "ec17e46a-fa83-485f-b9fd-d531c05f6df9",
   "metadata": {},
   "outputs": [],
   "source": []
  },
  {
   "cell_type": "code",
   "execution_count": null,
   "id": "b06466ef-fd65-40b5-b7c3-56c12385b499",
   "metadata": {
    "execution": {
     "iopub.status.busy": "2025-02-17T15:14:00.465771Z",
     "iopub.status.idle": "2025-02-17T15:14:00.465960Z",
     "shell.execute_reply": "2025-02-17T15:14:00.465865Z",
     "shell.execute_reply.started": "2025-02-17T15:14:00.465858Z"
    }
   },
   "outputs": [],
   "source": [
    "df['Polar surface area'] = df['Topological Polar Surface Area']"
   ]
  },
  {
   "cell_type": "code",
   "execution_count": null,
   "id": "8b1beee7-0987-4d87-aed4-ee6bd55efc78",
   "metadata": {},
   "outputs": [],
   "source": []
  },
  {
   "cell_type": "code",
   "execution_count": null,
   "id": "3fff6a93-5fc9-43ad-ad34-5bba9b00f7d4",
   "metadata": {},
   "outputs": [],
   "source": []
  },
  {
   "cell_type": "code",
   "execution_count": null,
   "id": "1b067db1-00ee-44f7-9b86-ccbcf6e96769",
   "metadata": {
    "execution": {
     "iopub.status.busy": "2025-02-17T15:14:00.466448Z",
     "iopub.status.idle": "2025-02-17T15:14:00.466596Z",
     "shell.execute_reply": "2025-02-17T15:14:00.466524Z",
     "shell.execute_reply.started": "2025-02-17T15:14:00.466517Z"
    }
   },
   "outputs": [],
   "source": [
    "sns.pairplot(df_no_cg, x_vars=xvarsL, y_vars=xvarsL, hue = 'Species - Carbon source')\n",
    "plt.show()"
   ]
  },
  {
   "cell_type": "code",
   "execution_count": null,
   "id": "0a83d089-ce49-4b2c-8bb5-03b8dbf66c06",
   "metadata": {
    "execution": {
     "iopub.status.busy": "2025-02-17T15:14:00.467123Z",
     "iopub.status.idle": "2025-02-17T15:14:00.467327Z",
     "shell.execute_reply": "2025-02-17T15:14:00.467199Z",
     "shell.execute_reply.started": "2025-02-17T15:14:00.467193Z"
    }
   },
   "outputs": [],
   "source": [
    "sns.pairplot(df_no_cg, x_vars=xvarsS, y_vars=xvarsS, hue = 'Species - Carbon source')\n",
    "plt.show()"
   ]
  },
  {
   "cell_type": "code",
   "execution_count": null,
   "id": "30b29f43-010e-409e-b39e-942b687029c6",
   "metadata": {
    "execution": {
     "iopub.status.busy": "2025-02-17T15:14:00.468412Z",
     "iopub.status.idle": "2025-02-17T15:14:00.468592Z",
     "shell.execute_reply": "2025-02-17T15:14:00.468493Z",
     "shell.execute_reply.started": "2025-02-17T15:14:00.468487Z"
    }
   },
   "outputs": [],
   "source": [
    "sns.pairplot(df_no_cg_no_nad, x_vars=xvarsS, y_vars=xvarsS, hue = 'Species - Carbon source')"
   ]
  },
  {
   "cell_type": "code",
   "execution_count": null,
   "id": "b415ae1c-9118-407d-9889-e8d2342faf80",
   "metadata": {
    "execution": {
     "iopub.status.busy": "2025-02-17T15:14:00.469556Z",
     "iopub.status.idle": "2025-02-17T15:14:00.469744Z",
     "shell.execute_reply": "2025-02-17T15:14:00.469657Z",
     "shell.execute_reply.started": "2025-02-17T15:14:00.469650Z"
    }
   },
   "outputs": [],
   "source": [
    "sns.pairplot(df_no_cg, x_vars=xvarsS, y_vars=xvarsS, \n",
    "            kind=\"reg\")"
   ]
  },
  {
   "cell_type": "code",
   "execution_count": null,
   "id": "3d719995-8145-4c98-aebd-2cbf4f8101d9",
   "metadata": {
    "execution": {
     "iopub.status.busy": "2025-02-17T15:14:00.470239Z",
     "iopub.status.idle": "2025-02-17T15:14:00.470455Z",
     "shell.execute_reply": "2025-02-17T15:14:00.470323Z",
     "shell.execute_reply.started": "2025-02-17T15:14:00.470316Z"
    }
   },
   "outputs": [],
   "source": [
    "sns.pairplot(df_no_cg_no_nad, x_vars=xvarsS, y_vars=xvarsS, \n",
    "            kind=\"reg\")"
   ]
  },
  {
   "cell_type": "code",
   "execution_count": null,
   "id": "d3cffa51-f3e9-4d73-9482-5f30672fff83",
   "metadata": {
    "execution": {
     "iopub.status.busy": "2025-02-17T15:14:00.471122Z",
     "iopub.status.idle": "2025-02-17T15:14:00.471283Z",
     "shell.execute_reply": "2025-02-17T15:14:00.471203Z",
     "shell.execute_reply.started": "2025-02-17T15:14:00.471196Z"
    }
   },
   "outputs": [],
   "source": [
    "sns.set(font_scale = 0.8,style = 'ticks')\n",
    "sns.pairplot(df_no_cg_no_nad, x_vars=xvarsS[-3:-1], \n",
    "            kind=\"reg\", y_vars = ['log10(Rate [mmol/gDW/h])'], palette='tab20', \n",
    "             plot_kws={'scatter_kws':{'s':10}, 'color': '#1f77b4'})\n",
    "plt.savefig('other_factors2.png', dpi = 400)\n",
    "plt.show()"
   ]
  },
  {
   "cell_type": "code",
   "execution_count": null,
   "id": "4144cf60-1657-4c65-9c76-63794edc3272",
   "metadata": {
    "execution": {
     "iopub.status.busy": "2025-02-17T15:14:00.471813Z",
     "iopub.status.idle": "2025-02-17T15:14:00.471977Z",
     "shell.execute_reply": "2025-02-17T15:14:00.471899Z",
     "shell.execute_reply.started": "2025-02-17T15:14:00.471893Z"
    }
   },
   "outputs": [],
   "source": [
    "sns.lmplot(data = df_no_cg_no_nad, x = 'Mol weight [g/mol]', y = 'log10(Rate [mmol/gDW/h])', col = 'Species - Carbon source', col_wrap=3, facet_kws={'sharex': False, 'sharey': False})\n",
    "plt.show()"
   ]
  },
  {
   "cell_type": "code",
   "execution_count": null,
   "id": "49374863-9dd8-43e1-8612-444dc987729a",
   "metadata": {
    "execution": {
     "iopub.status.busy": "2025-02-17T15:14:00.473254Z",
     "iopub.status.idle": "2025-02-17T15:14:00.473436Z",
     "shell.execute_reply": "2025-02-17T15:14:00.473326Z",
     "shell.execute_reply.started": "2025-02-17T15:14:00.473320Z"
    }
   },
   "outputs": [],
   "source": [
    "# sns.lmplot(data=df_no_cg, y = 'log10(Intracellular concentration [mM])', x = 'log10(Metabolite value [gDW/mmol])', col = 'Species - Carbon source', col_wrap=3, facet_kws={'sharex': False, 'sharey': False})\n",
    "# plt.show()"
   ]
  },
  {
   "cell_type": "markdown",
   "id": "71dccf96-698f-4198-a4aa-2a14a082ca6a",
   "metadata": {},
   "source": [
    "# Rate distribution"
   ]
  },
  {
   "cell_type": "code",
   "execution_count": null,
   "id": "03bf6408-0c24-45cf-b2f9-6c548a18e5c8",
   "metadata": {
    "execution": {
     "iopub.status.busy": "2025-02-17T15:14:00.474013Z",
     "iopub.status.idle": "2025-02-17T15:14:00.474454Z",
     "shell.execute_reply": "2025-02-17T15:14:00.474314Z",
     "shell.execute_reply.started": "2025-02-17T15:14:00.474307Z"
    }
   },
   "outputs": [],
   "source": [
    "from scipy import stats as st"
   ]
  },
  {
   "cell_type": "code",
   "execution_count": null,
   "id": "b92dae30-e745-4d9f-a7e9-d726615bf948",
   "metadata": {
    "execution": {
     "iopub.status.busy": "2025-02-17T15:14:00.475027Z",
     "iopub.status.idle": "2025-02-17T15:14:00.475220Z",
     "shell.execute_reply": "2025-02-17T15:14:00.475104Z",
     "shell.execute_reply.started": "2025-02-17T15:14:00.475097Z"
    }
   },
   "outputs": [],
   "source": [
    "fit = st.fit(st.norm, [x for x in df_no_cg['log10(Rate [mmol/gDW/h])'] if np.isfinite(x)],\n",
    "             bounds = [[-5, -2], [0, 3]])\n",
    "print(fit.params)"
   ]
  },
  {
   "cell_type": "code",
   "execution_count": null,
   "id": "82aa24c4-ea96-4f05-a99f-7ac241f295ac",
   "metadata": {
    "execution": {
     "iopub.status.busy": "2025-02-17T15:14:00.475955Z",
     "iopub.status.idle": "2025-02-17T15:14:00.476147Z",
     "shell.execute_reply": "2025-02-17T15:14:00.476013Z",
     "shell.execute_reply.started": "2025-02-17T15:14:00.476007Z"
    }
   },
   "outputs": [],
   "source": [
    "fit.plot()\n",
    "plt.show()"
   ]
  },
  {
   "cell_type": "code",
   "execution_count": null,
   "id": "0cdc4993-8b1b-4e28-ab9d-2c6b3c4140e4",
   "metadata": {
    "execution": {
     "iopub.status.busy": "2025-02-17T15:14:00.477050Z",
     "iopub.status.idle": "2025-02-17T15:14:00.477353Z",
     "shell.execute_reply": "2025-02-17T15:14:00.477268Z",
     "shell.execute_reply.started": "2025-02-17T15:14:00.477261Z"
    },
    "scrolled": true
   },
   "outputs": [],
   "source": [
    "df_no_cg[['Metabolite', 'Carbon source', 'Species', 'log10(Rate [mmol/gDW/h])','Rate [mmol/gDW/h]']].to_csv('D_rates_and_meta.csv')"
   ]
  },
  {
   "cell_type": "code",
   "execution_count": null,
   "id": "a4bc9dc4-f0c3-42c8-b3b2-086133679cd7",
   "metadata": {
    "execution": {
     "iopub.status.busy": "2025-02-17T15:14:00.478139Z",
     "iopub.status.idle": "2025-02-17T15:14:00.478416Z",
     "shell.execute_reply": "2025-02-17T15:14:00.478276Z",
     "shell.execute_reply.started": "2025-02-17T15:14:00.478268Z"
    }
   },
   "outputs": [],
   "source": [
    "df_no_cg['log10(Rate [mmol/gDW/h])'].to_csv('log10_rates.csv')\n",
    "df_no_cg['Rate [mmol/gDW/h]'].to_csv('D_rates.csv')"
   ]
  },
  {
   "cell_type": "code",
   "execution_count": null,
   "id": "b0beb625-3183-40c9-ad7b-92561d9affdd",
   "metadata": {
    "execution": {
     "iopub.status.busy": "2025-02-17T15:14:00.479125Z",
     "iopub.status.idle": "2025-02-17T15:14:00.479359Z",
     "shell.execute_reply": "2025-02-17T15:14:00.479222Z",
     "shell.execute_reply.started": "2025-02-17T15:14:00.479216Z"
    }
   },
   "outputs": [],
   "source": [
    "x = np.linspace(-8, 1, 100)\n",
    "dist = fit.pxf(x, loc = fit.params[0], scale = fit.params[1])"
   ]
  },
  {
   "cell_type": "code",
   "execution_count": null,
   "id": "6a192268-6e93-437a-8516-3cf2ea2e6ae0",
   "metadata": {
    "execution": {
     "iopub.status.busy": "2025-02-17T15:14:00.479970Z",
     "iopub.status.idle": "2025-02-17T15:14:00.480141Z",
     "shell.execute_reply": "2025-02-17T15:14:00.480040Z",
     "shell.execute_reply.started": "2025-02-17T15:14:00.480034Z"
    }
   },
   "outputs": [],
   "source": [
    "fit.params"
   ]
  },
  {
   "cell_type": "code",
   "execution_count": null,
   "id": "4d7f45a9-c4bd-4cd3-a57e-fa2282d47a3b",
   "metadata": {
    "execution": {
     "iopub.status.busy": "2025-02-17T15:14:00.480796Z",
     "iopub.status.idle": "2025-02-17T15:14:00.480991Z",
     "shell.execute_reply": "2025-02-17T15:14:00.480873Z",
     "shell.execute_reply.started": "2025-02-17T15:14:00.480867Z"
    }
   },
   "outputs": [],
   "source": [
    "sns.set_style('white')\n",
    "ax = sns.histplot(df_no_cg['log10(Rate [mmol/gDW/h])'], stat='density', palette='tab10', color='C2', bins = 20)\n",
    "sns.lineplot(x = x, y = dist, ax = ax, color = 'k', ls = '--', label = 'lognormal distribution')\n",
    "sns.move_legend(ax, loc = 1)\n",
    "sns.despine()\n",
    "plt.show()"
   ]
  },
  {
   "cell_type": "code",
   "execution_count": null,
   "id": "3b60da02-acdd-4222-92e7-f627c6512f14",
   "metadata": {
    "execution": {
     "iopub.status.busy": "2025-02-17T15:14:00.481579Z",
     "iopub.status.idle": "2025-02-17T15:14:00.481757Z",
     "shell.execute_reply": "2025-02-17T15:14:00.481667Z",
     "shell.execute_reply.started": "2025-02-17T15:14:00.481652Z"
    }
   },
   "outputs": [],
   "source": [
    "# fit.plot(df_no_cg['log10(Rate [mmol/gDW/h])'])\n",
    "# plt.show()"
   ]
  },
  {
   "cell_type": "code",
   "execution_count": null,
   "id": "eb1c671c-26b7-41b2-9bdb-71e767dd0096",
   "metadata": {
    "execution": {
     "iopub.status.busy": "2025-02-17T15:14:00.482174Z",
     "iopub.status.idle": "2025-02-17T15:14:00.482450Z",
     "shell.execute_reply": "2025-02-17T15:14:00.482350Z",
     "shell.execute_reply.started": "2025-02-17T15:14:00.482344Z"
    }
   },
   "outputs": [],
   "source": [
    "sns.histplot(df_no_cg['log10(Rate [mmol/gDW/h])'], color='C0')\n",
    "plt.show()"
   ]
  },
  {
   "cell_type": "markdown",
   "id": "94d09096-3eb1-419d-8240-fdc2ec4d51e4",
   "metadata": {},
   "source": [
    "# Linear model"
   ]
  },
  {
   "cell_type": "code",
   "execution_count": null,
   "id": "794b33cc-8aa6-44fb-a26f-87c7d417de6d",
   "metadata": {
    "execution": {
     "iopub.status.busy": "2025-02-17T15:14:00.483062Z",
     "iopub.status.idle": "2025-02-17T15:14:00.483203Z",
     "shell.execute_reply": "2025-02-17T15:14:00.483131Z",
     "shell.execute_reply.started": "2025-02-17T15:14:00.483125Z"
    }
   },
   "outputs": [],
   "source": [
    "import statsmodels.formula.api as sm"
   ]
  },
  {
   "cell_type": "code",
   "execution_count": null,
   "id": "e6f6e785-6f33-4d42-91b6-b61e89c7a207",
   "metadata": {
    "execution": {
     "iopub.status.busy": "2025-02-17T15:14:00.483871Z",
     "iopub.status.idle": "2025-02-17T15:14:00.484043Z",
     "shell.execute_reply": "2025-02-17T15:14:00.483946Z",
     "shell.execute_reply.started": "2025-02-17T15:14:00.483939Z"
    }
   },
   "outputs": [],
   "source": [
    "# idx = df_no_cg.Species == 'B. licheniformis'"
   ]
  },
  {
   "cell_type": "code",
   "execution_count": null,
   "id": "3701fb39-1b1b-444c-b834-9c0f5f3af188",
   "metadata": {
    "execution": {
     "iopub.status.busy": "2025-02-17T15:14:00.485087Z",
     "iopub.status.idle": "2025-02-17T15:14:00.485230Z",
     "shell.execute_reply": "2025-02-17T15:14:00.485159Z",
     "shell.execute_reply.started": "2025-02-17T15:14:00.485154Z"
    }
   },
   "outputs": [],
   "source": [
    "df_ecoli = df.loc[df.Species == 'E. coli']"
   ]
  },
  {
   "cell_type": "code",
   "execution_count": null,
   "id": "846c6607-2e1f-4077-8a95-f38422ca1451",
   "metadata": {
    "execution": {
     "iopub.status.busy": "2025-02-17T15:14:00.485869Z",
     "iopub.status.idle": "2025-02-17T15:14:00.486086Z",
     "shell.execute_reply": "2025-02-17T15:14:00.485978Z",
     "shell.execute_reply.started": "2025-02-17T15:14:00.485971Z"
    }
   },
   "outputs": [],
   "source": [
    "# np.isnan(df_no_cg[key]).sum()"
   ]
  },
  {
   "cell_type": "code",
   "execution_count": null,
   "id": "adfd3daa-a607-47f8-907c-f87dc8ac61e1",
   "metadata": {
    "execution": {
     "iopub.status.busy": "2025-02-17T15:14:00.486918Z",
     "iopub.status.idle": "2025-02-17T15:14:00.487337Z",
     "shell.execute_reply": "2025-02-17T15:14:00.487224Z",
     "shell.execute_reply.started": "2025-02-17T15:14:00.487176Z"
    }
   },
   "outputs": [],
   "source": [
    "xvarsL = ['Mol weight [g/mol]', 'Topological Polar Surface Area', 'log10(Intracell. conc. [mM])', 'log P', 'log10(Rate [mmol/gDW/h])','Charge','Phosphate',\n",
    "       'log10(Metabolite value [gDW/mmol])','log10(Turnover [mmol/gDW/h])', 'Compound class']"
   ]
  },
  {
   "cell_type": "code",
   "execution_count": null,
   "id": "a98e9cc1-91dd-4b97-bdd0-c3760d6a4071",
   "metadata": {
    "execution": {
     "iopub.status.busy": "2025-02-17T15:14:00.488021Z",
     "iopub.status.idle": "2025-02-17T15:14:00.488272Z",
     "shell.execute_reply": "2025-02-17T15:14:00.488153Z",
     "shell.execute_reply.started": "2025-02-17T15:14:00.488141Z"
    }
   },
   "outputs": [],
   "source": [
    "var_explained = {}\n",
    "for key in xvarsL:\n",
    "    print(key)\n",
    "    if key == 'log10(Rate [mmol/gDW/h])':\n",
    "        continue\n",
    "    lindf = pd.DataFrame()\n",
    "    lindf['Y'] = df_ecoli['log10(Rate [mmol/gDW/h])']\n",
    "    lindf['A'] = df_ecoli[key]\n",
    "    print(lindf['A'])\n",
    "    lindf.replace([np.inf, -np.inf], np.nan, inplace=True)\n",
    "    lindf.dropna(inplace=True)\n",
    "    # print(np.isnan(lindf['A']).sum())\n",
    "    res = sm.ols(formula=\"Y ~ A\", data=lindf).fit()\n",
    "    res.summary()\n",
    "    print(key, res.rsquared)\n",
    "    var_explained[key] = res.rsquared_adj"
   ]
  },
  {
   "cell_type": "code",
   "execution_count": null,
   "id": "5e527f41-27fe-4e31-bfc8-c4f78ccd11a0",
   "metadata": {
    "execution": {
     "iopub.status.busy": "2025-02-17T15:14:00.489435Z",
     "iopub.status.idle": "2025-02-17T15:14:00.489580Z",
     "shell.execute_reply": "2025-02-17T15:14:00.489510Z",
     "shell.execute_reply.started": "2025-02-17T15:14:00.489504Z"
    }
   },
   "outputs": [],
   "source": [
    "lindf = pd.DataFrame()\n",
    "lindf['Y'] = df_ecoli['log10(Rate [mmol/gDW/h])']\n",
    "lindf['A'] = df_ecoli['log10(Intracell. conc. [mM])']\n",
    "lindf['B'] = df_ecoli['log10(Metabolite value [gDW/mmol])']\n",
    "lindf['C'] = df_ecoli['Charge']\n",
    "lindf['D'] = df_ecoli['Mol weight [g/mol]']\n",
    "lindf['G'] = df_ecoli['Compound class']\n",
    "lindf['E'] = df_ecoli['log P']\n",
    "lindf['F'] = df_ecoli['log10(Turnover [mmol/gDW/h])']\n",
    "lindf.replace([np.inf, -np.inf], np.nan, inplace=True)\n",
    "lindf.dropna(inplace=True)\n",
    "# lindf['F'] = df_no_cg['Mol weight [g/mol]']\n",
    "# lindf['G'] = df_no_cg['Topological Polar Surface Area']\n",
    "res = sm.ols(formula=\"Y ~ A + B + C + G\", data=lindf).fit()\n",
    "print(res.summary())\n",
    "var_explained['Met. value + Int. conc + charge + compound class'] = res.rsquared_adj\n",
    "print(var_explained)"
   ]
  },
  {
   "cell_type": "code",
   "execution_count": null,
   "id": "5b22d882-68fd-49b1-a02b-100dfcd4197a",
   "metadata": {
    "execution": {
     "iopub.status.busy": "2025-02-17T15:14:00.490166Z",
     "iopub.status.idle": "2025-02-17T15:14:00.490724Z",
     "shell.execute_reply": "2025-02-17T15:14:00.490583Z",
     "shell.execute_reply.started": "2025-02-17T15:14:00.490573Z"
    }
   },
   "outputs": [],
   "source": [
    "s = res.summary2()\n",
    "print(s)\n",
    "s.tables[1].to_csv('linear_model.csv')"
   ]
  },
  {
   "cell_type": "code",
   "execution_count": null,
   "id": "6d3c2d5f-591d-44c8-ac46-3f194f9b7322",
   "metadata": {
    "execution": {
     "iopub.status.busy": "2025-02-17T15:14:00.491565Z",
     "iopub.status.idle": "2025-02-17T15:14:00.491748Z",
     "shell.execute_reply": "2025-02-17T15:14:00.491633Z",
     "shell.execute_reply.started": "2025-02-17T15:14:00.491627Z"
    }
   },
   "outputs": [],
   "source": [
    "np.sqrt(res.mse_resid)"
   ]
  },
  {
   "cell_type": "code",
   "execution_count": null,
   "id": "a2b1fa14-c0f7-4f84-816c-5f6be4b994fc",
   "metadata": {
    "execution": {
     "iopub.status.busy": "2025-02-17T15:14:00.492339Z",
     "iopub.status.idle": "2025-02-17T15:14:00.492634Z",
     "shell.execute_reply": "2025-02-17T15:14:00.492517Z",
     "shell.execute_reply.started": "2025-02-17T15:14:00.492495Z"
    }
   },
   "outputs": [],
   "source": [
    "np.std(res.resid)"
   ]
  },
  {
   "cell_type": "code",
   "execution_count": null,
   "id": "4fd5670f-5416-4b23-b916-a30410d2bcae",
   "metadata": {
    "execution": {
     "iopub.status.busy": "2025-02-17T15:14:00.493233Z",
     "iopub.status.idle": "2025-02-17T15:14:00.493691Z",
     "shell.execute_reply": "2025-02-17T15:14:00.493543Z",
     "shell.execute_reply.started": "2025-02-17T15:14:00.493529Z"
    }
   },
   "outputs": [],
   "source": [
    "res.resid"
   ]
  },
  {
   "cell_type": "code",
   "execution_count": null,
   "id": "2782cbcd-2377-4292-b934-19ae614c8eb8",
   "metadata": {
    "execution": {
     "iopub.status.busy": "2025-02-17T15:14:00.494254Z",
     "iopub.status.idle": "2025-02-17T15:14:00.494411Z",
     "shell.execute_reply": "2025-02-17T15:14:00.494334Z",
     "shell.execute_reply.started": "2025-02-17T15:14:00.494328Z"
    }
   },
   "outputs": [],
   "source": [
    "plt.hist(res.resid, bins=30)\n",
    "plt.show()"
   ]
  },
  {
   "cell_type": "code",
   "execution_count": null,
   "id": "6f4c6c6f-91d9-400c-836e-95c9c803e388",
   "metadata": {
    "execution": {
     "iopub.status.busy": "2025-02-17T15:14:00.495017Z",
     "iopub.status.idle": "2025-02-17T15:14:00.495214Z",
     "shell.execute_reply": "2025-02-17T15:14:00.495136Z",
     "shell.execute_reply.started": "2025-02-17T15:14:00.495130Z"
    }
   },
   "outputs": [],
   "source": [
    "order = [k for k, v in sorted(var_explained.items(), key=lambda item: item[1])]"
   ]
  },
  {
   "cell_type": "code",
   "execution_count": null,
   "id": "ed06263a-bf89-4a00-86c1-3d77ff1de5a5",
   "metadata": {
    "execution": {
     "iopub.status.busy": "2025-02-17T15:14:00.496247Z",
     "iopub.status.idle": "2025-02-17T15:14:00.496616Z",
     "shell.execute_reply": "2025-02-17T15:14:00.496456Z",
     "shell.execute_reply.started": "2025-02-17T15:14:00.496438Z"
    }
   },
   "outputs": [],
   "source": [
    "sns.set(font_scale = 1, style = 'ticks')\n",
    "keys = list(var_explained.keys())\n",
    "# get values in the same order as keys, and parse percentage values\n",
    "fig, ax = plt.subplots(1,1, figsize = (9, 4))\n",
    "vals = list(var_explained.values())\n",
    "sns.barplot(y=keys, x=vals, color = '#1f77b4', order = order, ax = ax)\n",
    "plt.xlabel(r'adjusted $R^2$')\n",
    "sns.despine()\n",
    "plt.title('Variability of metabolite release rates explained - E. coli')\n",
    "plt.tight_layout()\n",
    "plt.savefig('barplot_ecoli.png', dpi = 400)\n",
    "\n",
    "plt.show()"
   ]
  },
  {
   "cell_type": "code",
   "execution_count": null,
   "id": "299dc43b",
   "metadata": {
    "execution": {
     "iopub.status.busy": "2025-02-17T15:14:00.497032Z",
     "iopub.status.idle": "2025-02-17T15:14:00.497233Z",
     "shell.execute_reply": "2025-02-17T15:14:00.497143Z",
     "shell.execute_reply.started": "2025-02-17T15:14:00.497133Z"
    }
   },
   "outputs": [],
   "source": [
    "sns.set(font_scale = 1, style = 'ticks')\n",
    "keys = list(var_explained.keys())\n",
    "# get values in the same order as keys, and parse percentage values\n",
    "fig, ax = plt.subplots(1,1, figsize = (9, 4))\n",
    "vals = list(var_explained.values())\n",
    "sns.barplot(y=keys, x=vals, color = '#1f77b4', order = order, ax = ax)\n",
    "plt.xlabel(r'adjusted $R^2$')\n",
    "sns.despine()\n",
    "plt.title('Variability of metabolite release rates explained - E. coli')\n",
    "plt.tight_layout()\n",
    "plt.savefig('barplot_ecoli.png', dpi = 400)\n",
    "\n",
    "plt.show()"
   ]
  },
  {
   "cell_type": "code",
   "execution_count": null,
   "id": "d37763f0-70ce-4f68-97a9-f7db6233ace2",
   "metadata": {
    "execution": {
     "iopub.status.busy": "2025-02-17T15:14:00.497582Z",
     "iopub.status.idle": "2025-02-17T15:14:00.497753Z",
     "shell.execute_reply": "2025-02-17T15:14:00.497642Z",
     "shell.execute_reply.started": "2025-02-17T15:14:00.497636Z"
    }
   },
   "outputs": [],
   "source": [
    "xvarsL = ['Mol weight [g/mol]', 'Topological Polar Surface Area', 'log10(Intracell. conc. [mM])', 'log P', 'log10(Rate [mmol/gDW/h])','Charge','Phosphate',\n",
    "       'log10(Metabolite value [gDW/mmol])','log10(Turnover [mmol/gDW/h])']"
   ]
  },
  {
   "cell_type": "code",
   "execution_count": null,
   "id": "de37e565-b513-48ce-bc84-ddba37648c32",
   "metadata": {
    "execution": {
     "iopub.status.busy": "2025-02-17T15:14:00.498400Z",
     "iopub.status.idle": "2025-02-17T15:14:00.498634Z",
     "shell.execute_reply": "2025-02-17T15:14:00.498518Z",
     "shell.execute_reply.started": "2025-02-17T15:14:00.498511Z"
    }
   },
   "outputs": [],
   "source": [
    "df.columns"
   ]
  },
  {
   "cell_type": "markdown",
   "id": "ede0a9ef-ece5-4306-8ce4-86aa8b9c7f7f",
   "metadata": {},
   "source": [
    "# Fix mapping"
   ]
  },
  {
   "cell_type": "code",
   "execution_count": null,
   "id": "8c70c01f-438e-4e3b-9f30-2b5ec06bb1e7",
   "metadata": {
    "execution": {
     "iopub.status.busy": "2025-02-17T15:14:00.499381Z",
     "iopub.status.idle": "2025-02-17T15:14:00.499625Z",
     "shell.execute_reply": "2025-02-17T15:14:00.499500Z",
     "shell.execute_reply.started": "2025-02-17T15:14:00.499495Z"
    }
   },
   "outputs": [],
   "source": [
    "minfo3 = pd.read_excel('../data/met_info_3.xlsx')\n",
    "minfo2 = pd.read_csv('../data/met_info_curated_211.csv', encoding = \"ISO-8859-1\", index_col = 0)"
   ]
  },
  {
   "cell_type": "code",
   "execution_count": null,
   "id": "8f90fe06-e52c-4bbf-a854-8e9daa42d925",
   "metadata": {
    "execution": {
     "iopub.status.busy": "2025-02-17T15:14:00.500033Z",
     "iopub.status.idle": "2025-02-17T15:14:00.500242Z",
     "shell.execute_reply": "2025-02-17T15:14:00.500130Z",
     "shell.execute_reply.started": "2025-02-17T15:14:00.500121Z"
    }
   },
   "outputs": [],
   "source": [
    "dic = minfo2.set_index('Metabolite name').to_dict(orient = 'index')"
   ]
  },
  {
   "cell_type": "code",
   "execution_count": null,
   "id": "a52942ea-191f-4281-b8e2-dcd1590e0a04",
   "metadata": {
    "execution": {
     "iopub.status.busy": "2025-02-17T15:14:00.501391Z",
     "iopub.status.idle": "2025-02-17T15:14:00.501564Z",
     "shell.execute_reply": "2025-02-17T15:14:00.501478Z",
     "shell.execute_reply.started": "2025-02-17T15:14:00.501472Z"
    }
   },
   "outputs": [],
   "source": [
    "minfom = pd.merge(left = minfo3, right = minfo2, left_on = 'Metabolite', right_on = 'Metabolite name', how = 'left')"
   ]
  },
  {
   "cell_type": "code",
   "execution_count": null,
   "id": "f162fe47-7a2d-4944-af95-d17deda305a4",
   "metadata": {
    "execution": {
     "iopub.status.busy": "2025-02-17T15:14:00.502494Z",
     "iopub.status.idle": "2025-02-17T15:14:00.502709Z",
     "shell.execute_reply": "2025-02-17T15:14:00.502622Z",
     "shell.execute_reply.started": "2025-02-17T15:14:00.502614Z"
    }
   },
   "outputs": [],
   "source": [
    "minfom.to_csv('../data/met_info_3.csv')"
   ]
  }
 ],
 "metadata": {
  "kernelspec": {
   "display_name": "Python 3 (ipykernel)",
   "language": "python",
   "name": "python3"
  },
  "language_info": {
   "codemirror_mode": {
    "name": "ipython",
    "version": 3
   },
   "file_extension": ".py",
   "mimetype": "text/x-python",
   "name": "python",
   "nbconvert_exporter": "python",
   "pygments_lexer": "ipython3",
   "version": "3.9.21"
  }
 },
 "nbformat": 4,
 "nbformat_minor": 5
}
