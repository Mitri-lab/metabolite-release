{
 "cells": [
  {
   "cell_type": "code",
   "execution_count": 53,
   "id": "5a313a33-854b-4e0f-ae22-ae634d24471c",
   "metadata": {
    "execution": {
     "iopub.execute_input": "2025-02-27T10:32:59.192857Z",
     "iopub.status.busy": "2025-02-27T10:32:59.191942Z",
     "iopub.status.idle": "2025-02-27T10:32:59.209766Z",
     "shell.execute_reply": "2025-02-27T10:32:59.208409Z",
     "shell.execute_reply.started": "2025-02-27T10:32:59.192792Z"
    },
    "tags": []
   },
   "outputs": [],
   "source": [
    "import pandas as pd\n",
    "import numpy as np\n",
    "import reframed\n",
    "from pathlib import Path\n",
    "import seaborn as sns\n",
    "from matplotlib import pyplot as plt\n",
    "import scipy.stats as st\n",
    "import sys \n",
    "sys.path.append('../../../code/')\n",
    "import leakage\n",
    "import utils\n",
    "from matplotlib.colors import LogNorm, Normalize\n",
    "\n",
    "from matplotlib import cm, colors\n",
    "import matplotlib.patches as mpatches\n",
    "import matplotlib.lines as mlines\n",
    "from collections import OrderedDict\n",
    "from matplotlib import pyplot as plt\n",
    "from sklearn import metrics"
   ]
  },
  {
   "cell_type": "code",
   "execution_count": 2,
   "id": "a57e5831-05a4-409e-b2d6-594978b7beb4",
   "metadata": {
    "execution": {
     "iopub.execute_input": "2025-02-27T10:27:12.436458Z",
     "iopub.status.busy": "2025-02-27T10:27:12.436162Z",
     "iopub.status.idle": "2025-02-27T10:27:12.443204Z",
     "shell.execute_reply": "2025-02-27T10:27:12.442662Z",
     "shell.execute_reply.started": "2025-02-27T10:27:12.436442Z"
    }
   },
   "outputs": [],
   "source": [
    "folder = Path('../../../data/vila_2023/')\n",
    "\n"
   ]
  },
  {
   "cell_type": "markdown",
   "id": "80e7f8f0-9944-49db-86b9-fc2372e0b71b",
   "metadata": {},
   "source": [
    "# Read in experimental data\n"
   ]
  },
  {
   "cell_type": "code",
   "execution_count": 3,
   "id": "95740cba-e558-42c5-9c3e-d81d65ba38e1",
   "metadata": {
    "execution": {
     "iopub.execute_input": "2025-02-27T10:27:12.444760Z",
     "iopub.status.busy": "2025-02-27T10:27:12.444626Z",
     "iopub.status.idle": "2025-02-27T10:27:12.452355Z",
     "shell.execute_reply": "2025-02-27T10:27:12.451790Z",
     "shell.execute_reply.started": "2025-02-27T10:27:12.444747Z"
    }
   },
   "outputs": [],
   "source": [
    "targeted_fn = folder / 'Targeted_LCMS.csv'\n",
    "dft = pd.read_csv(targeted_fn)\n",
    "dft.rename(columns = {'Carbon_Source': 'Carbon source', 'Metabolite_Conc': 'Concentration'}, inplace=True)"
   ]
  },
  {
   "cell_type": "code",
   "execution_count": 4,
   "id": "61373d9d-2f76-4c2e-807e-702466352aaa",
   "metadata": {
    "execution": {
     "iopub.execute_input": "2025-02-27T10:27:12.453410Z",
     "iopub.status.busy": "2025-02-27T10:27:12.453179Z",
     "iopub.status.idle": "2025-02-27T10:27:12.456994Z",
     "shell.execute_reply": "2025-02-27T10:27:12.456396Z",
     "shell.execute_reply.started": "2025-02-27T10:27:12.453388Z"
    }
   },
   "outputs": [],
   "source": [
    "exomet_carbon_sources = dft['Carbon source'].unique()"
   ]
  },
  {
   "cell_type": "code",
   "execution_count": 5,
   "id": "019b72d8-3d1e-4a23-8a11-b2f473a2a24f",
   "metadata": {
    "execution": {
     "iopub.execute_input": "2025-02-27T10:27:12.458081Z",
     "iopub.status.busy": "2025-02-27T10:27:12.457838Z",
     "iopub.status.idle": "2025-02-27T10:27:12.462526Z",
     "shell.execute_reply": "2025-02-27T10:27:12.462061Z",
     "shell.execute_reply.started": "2025-02-27T10:27:12.458060Z"
    }
   },
   "outputs": [],
   "source": [
    "growth_fn = folder / 'Growth_Rates_Fig2.csv'\n",
    "growth_df = pd.read_csv(growth_fn)"
   ]
  },
  {
   "cell_type": "code",
   "execution_count": 6,
   "id": "c9ecb9b4-2435-45a7-bd17-f5e3f4cddc93",
   "metadata": {
    "execution": {
     "iopub.execute_input": "2025-02-27T10:27:12.463270Z",
     "iopub.status.busy": "2025-02-27T10:27:12.463103Z",
     "iopub.status.idle": "2025-02-27T10:27:12.466477Z",
     "shell.execute_reply": "2025-02-27T10:27:12.465926Z",
     "shell.execute_reply.started": "2025-02-27T10:27:12.463255Z"
    }
   },
   "outputs": [],
   "source": [
    "sanger_to_strain = {\n",
    "    160: 'Enterobacter', # Targeted data\n",
    "    162: 'Pseudomonas', # Targeted data\n",
    "    360: 'Enterobacter', # Untargeted data\n",
    "    449: 'Pseudomonas' # Untargeted data\n",
    "}"
   ]
  },
  {
   "cell_type": "code",
   "execution_count": 7,
   "id": "bb0e4c98-4cf2-4ab9-8fe1-255f83c60ac5",
   "metadata": {
    "execution": {
     "iopub.execute_input": "2025-02-27T10:27:12.467322Z",
     "iopub.status.busy": "2025-02-27T10:27:12.467162Z",
     "iopub.status.idle": "2025-02-27T10:27:12.471263Z",
     "shell.execute_reply": "2025-02-27T10:27:12.470713Z",
     "shell.execute_reply.started": "2025-02-27T10:27:12.467306Z"
    }
   },
   "outputs": [],
   "source": [
    "# For this analysis we are only interested in the targeted data\n",
    "growth_df = growth_df.loc[growth_df.SangerID.isin([160, 162])]"
   ]
  },
  {
   "cell_type": "markdown",
   "id": "99b68d8e-92d7-45a1-a072-b7cb0763acde",
   "metadata": {
    "execution": {
     "iopub.execute_input": "2025-02-19T19:23:53.463678Z",
     "iopub.status.busy": "2025-02-19T19:23:53.463133Z",
     "iopub.status.idle": "2025-02-19T19:23:53.477744Z",
     "shell.execute_reply": "2025-02-19T19:23:53.475990Z",
     "shell.execute_reply.started": "2025-02-19T19:23:53.463646Z"
    }
   },
   "source": [
    "# Estimate biomass AUC at 16h\n",
    "We have to predict the Biomass AUC from estimated rates, carrying capacity and initial abundance since we don't have the time-series data. However, since we know that they have fitted a logistic function using growthcurver (https://bmcbioinformatics.biomedcentral.com/articles/10.1186/s12859-016-1016-7), we can use this function to get the auc after 16h (which corresponds to their first timepoint, more or less at the end of exponential phase).\n"
   ]
  },
  {
   "cell_type": "code",
   "execution_count": 8,
   "id": "3a606a81-45c0-42e1-a423-ac0df406c2c7",
   "metadata": {
    "execution": {
     "iopub.execute_input": "2025-02-27T10:27:12.471977Z",
     "iopub.status.busy": "2025-02-27T10:27:12.471834Z",
     "iopub.status.idle": "2025-02-27T10:27:12.475065Z",
     "shell.execute_reply": "2025-02-27T10:27:12.474545Z",
     "shell.execute_reply.started": "2025-02-27T10:27:12.471962Z"
    }
   },
   "outputs": [],
   "source": [
    "# Compensate for N0 not being at T=0 (T0 = 1)\n",
    "growth_df['T'] = growth_df.T16 - growth_df.T0"
   ]
  },
  {
   "cell_type": "markdown",
   "id": "73b4498b-ae20-468f-9471-72f058446c72",
   "metadata": {},
   "source": [
    "### Define logistic function (as defined in growthcurver) and the integral of that function"
   ]
  },
  {
   "cell_type": "code",
   "execution_count": 9,
   "id": "1bfb2ce9-17e6-4627-a13a-b9aea64e92bc",
   "metadata": {
    "execution": {
     "iopub.execute_input": "2025-02-27T10:27:12.475986Z",
     "iopub.status.busy": "2025-02-27T10:27:12.475849Z",
     "iopub.status.idle": "2025-02-27T10:27:12.479892Z",
     "shell.execute_reply": "2025-02-27T10:27:12.479445Z",
     "shell.execute_reply.started": "2025-02-27T10:27:12.475973Z"
    }
   },
   "outputs": [],
   "source": [
    "def logistic_auc(t1,t0, K, r, N0):\n",
    "    return logistic_integral(t1,K,r,N0)-logistic_integral(t0,K,r,N0)\n",
    "    \n",
    "def logistic_integral(t, K, r, N0):\n",
    "    return K*t + (K/r)*np.log(1+(((K-N0)/N0))*np.exp(-1*r*t))\n",
    "    \n",
    "\n",
    "def logistic(t, K, r, N0):\n",
    "    return K/(1+((K-N0)/N0*np.exp(-1*r*t)))\n",
    "    "
   ]
  },
  {
   "cell_type": "code",
   "execution_count": 10,
   "id": "03b05128-d675-4deb-9276-2187fbc00031",
   "metadata": {
    "execution": {
     "iopub.execute_input": "2025-02-27T10:27:12.480577Z",
     "iopub.status.busy": "2025-02-27T10:27:12.480423Z",
     "iopub.status.idle": "2025-02-27T10:27:12.485103Z",
     "shell.execute_reply": "2025-02-27T10:27:12.484716Z",
     "shell.execute_reply.started": "2025-02-27T10:27:12.480562Z"
    }
   },
   "outputs": [],
   "source": [
    "# gcr is the growth rate obtained from growthcurver \n",
    "growth_df['AUC16'] = growth_df.apply(lambda x: logistic_auc(t1 = x['T'],t0 = 0, K = x['max_OD'], r = x['gcr'], N0 = x['N0']), axis=1)"
   ]
  },
  {
   "cell_type": "code",
   "execution_count": 11,
   "id": "10037d48-2c60-4ceb-ba61-5c0a41608675",
   "metadata": {
    "execution": {
     "iopub.execute_input": "2025-02-27T10:27:12.485787Z",
     "iopub.status.busy": "2025-02-27T10:27:12.485648Z",
     "iopub.status.idle": "2025-02-27T10:27:12.490958Z",
     "shell.execute_reply": "2025-02-27T10:27:12.489191Z",
     "shell.execute_reply.started": "2025-02-27T10:27:12.485773Z"
    }
   },
   "outputs": [],
   "source": [
    "gDW_per_OD = {\n",
    "    'Enterobacter': 0.346, # Use same as for E. coli in galactose\n",
    "    'Pseudomonas': np.mean([0.448, 0.505]) #pmc.ncbi.nlm.nih.gov/articles/PMC7809481/ https://pmc.ncbi.nlm.nih.gov/articles/PMC4656820\n",
    "}"
   ]
  },
  {
   "cell_type": "code",
   "execution_count": 12,
   "id": "0328fb0f-b852-4229-a42b-6fd3026244ba",
   "metadata": {
    "execution": {
     "iopub.execute_input": "2025-02-27T10:27:12.495952Z",
     "iopub.status.busy": "2025-02-27T10:27:12.495682Z",
     "iopub.status.idle": "2025-02-27T10:27:12.502085Z",
     "shell.execute_reply": "2025-02-27T10:27:12.501467Z",
     "shell.execute_reply.started": "2025-02-27T10:27:12.495928Z"
    }
   },
   "outputs": [],
   "source": [
    "growth_df['Strain'] = growth_df['SangerID'].map(sanger_to_strain)"
   ]
  },
  {
   "cell_type": "code",
   "execution_count": 13,
   "id": "ab9e42e7-38ed-4bf1-8c22-de715b0be6ee",
   "metadata": {
    "execution": {
     "iopub.execute_input": "2025-02-27T10:27:12.503042Z",
     "iopub.status.busy": "2025-02-27T10:27:12.502834Z",
     "iopub.status.idle": "2025-02-27T10:27:12.506584Z",
     "shell.execute_reply": "2025-02-27T10:27:12.506143Z",
     "shell.execute_reply.started": "2025-02-27T10:27:12.503029Z"
    }
   },
   "outputs": [],
   "source": [
    "growth_df['AUC16gDW'] = growth_df.AUC16*growth_df.Strain.map(gDW_per_OD)"
   ]
  },
  {
   "cell_type": "markdown",
   "id": "fd79311c-f60a-42cf-b9d8-482861746e2b",
   "metadata": {},
   "source": [
    "# Estimate rates"
   ]
  },
  {
   "cell_type": "code",
   "execution_count": 14,
   "id": "fd68a284-f192-45e7-8cfd-619374924c31",
   "metadata": {
    "execution": {
     "iopub.execute_input": "2025-02-27T10:27:12.507291Z",
     "iopub.status.busy": "2025-02-27T10:27:12.507166Z",
     "iopub.status.idle": "2025-02-27T10:27:12.514132Z",
     "shell.execute_reply": "2025-02-27T10:27:12.513697Z",
     "shell.execute_reply.started": "2025-02-27T10:27:12.507278Z"
    }
   },
   "outputs": [],
   "source": [
    "idx = (dft.Timepoint==16)&(dft.Strain.isin(['Enterobacter', 'Pseudomonas']))\n",
    "df_rate = pd.merge(left=dft.loc[idx], right = growth_df, left_on=('Carbon source', 'Strain'), right_on=('CS', 'Strain'), how = 'left')"
   ]
  },
  {
   "cell_type": "code",
   "execution_count": 15,
   "id": "313366e8-9ea3-4a74-9f6f-e852242bf270",
   "metadata": {
    "execution": {
     "iopub.execute_input": "2025-02-27T10:27:12.514800Z",
     "iopub.status.busy": "2025-02-27T10:27:12.514683Z",
     "iopub.status.idle": "2025-02-27T10:27:12.517564Z",
     "shell.execute_reply": "2025-02-27T10:27:12.517184Z",
     "shell.execute_reply.started": "2025-02-27T10:27:12.514788Z"
    }
   },
   "outputs": [],
   "source": [
    "df_rate['Rate [mmol/gDW/h]'] = df_rate.Concentration/df_rate.AUC16gDW*1e-3 # 1e-3 to convert from uM to mM"
   ]
  },
  {
   "cell_type": "code",
   "execution_count": 16,
   "id": "b3757ada-9eea-4ad2-82c8-c95bf878ebb7",
   "metadata": {
    "execution": {
     "iopub.execute_input": "2025-02-27T10:27:12.518209Z",
     "iopub.status.busy": "2025-02-27T10:27:12.518097Z",
     "iopub.status.idle": "2025-02-27T10:27:12.524004Z",
     "shell.execute_reply": "2025-02-27T10:27:12.523644Z",
     "shell.execute_reply.started": "2025-02-27T10:27:12.518200Z"
    }
   },
   "outputs": [],
   "source": [
    "df_meanrate = df_rate.groupby(['Metabolite', 'Strain', 'Carbon source']).agg({'Rate [mmol/gDW/h]': ('mean', 'sem', 'std')}).reset_index()"
   ]
  },
  {
   "cell_type": "code",
   "execution_count": 87,
   "id": "d2008a56-bde2-43d9-95dc-130179c0c2e4",
   "metadata": {
    "execution": {
     "iopub.execute_input": "2025-02-27T13:40:59.035713Z",
     "iopub.status.busy": "2025-02-27T13:40:59.034824Z",
     "iopub.status.idle": "2025-02-27T13:40:59.069493Z",
     "shell.execute_reply": "2025-02-27T13:40:59.068989Z",
     "shell.execute_reply.started": "2025-02-27T13:40:59.035652Z"
    }
   },
   "outputs": [
    {
     "data": {
      "text/html": [
       "<div>\n",
       "<style scoped>\n",
       "    .dataframe tbody tr th:only-of-type {\n",
       "        vertical-align: middle;\n",
       "    }\n",
       "\n",
       "    .dataframe tbody tr th {\n",
       "        vertical-align: top;\n",
       "    }\n",
       "\n",
       "    .dataframe thead th {\n",
       "        text-align: right;\n",
       "    }\n",
       "</style>\n",
       "<table border=\"1\" class=\"dataframe\">\n",
       "  <thead>\n",
       "    <tr style=\"text-align: right;\">\n",
       "      <th></th>\n",
       "      <th>Concentration</th>\n",
       "      <th>Metabolite</th>\n",
       "      <th>Carbon source</th>\n",
       "      <th>Strain</th>\n",
       "      <th>Replicate</th>\n",
       "      <th>Timepoint</th>\n",
       "      <th>SangerID</th>\n",
       "      <th>CS</th>\n",
       "      <th>N0</th>\n",
       "      <th>Nmax</th>\n",
       "      <th>...</th>\n",
       "      <th>gcr</th>\n",
       "      <th>gcauc</th>\n",
       "      <th>gcr_se</th>\n",
       "      <th>r</th>\n",
       "      <th>r16</th>\n",
       "      <th>Family</th>\n",
       "      <th>T</th>\n",
       "      <th>AUC16</th>\n",
       "      <th>AUC16gDW</th>\n",
       "      <th>Rate [mmol/gDW/h]</th>\n",
       "    </tr>\n",
       "  </thead>\n",
       "  <tbody>\n",
       "    <tr>\n",
       "      <th>14</th>\n",
       "      <td>4380.0</td>\n",
       "      <td>Acetic acid</td>\n",
       "      <td>D-Glucose</td>\n",
       "      <td>Enterobacter</td>\n",
       "      <td>1</td>\n",
       "      <td>16</td>\n",
       "      <td>160</td>\n",
       "      <td>D-Glucose</td>\n",
       "      <td>0.040</td>\n",
       "      <td>0.240</td>\n",
       "      <td>...</td>\n",
       "      <td>0.835219</td>\n",
       "      <td>14.799585</td>\n",
       "      <td>0.021879</td>\n",
       "      <td>0.282022</td>\n",
       "      <td>0.228916</td>\n",
       "      <td>Enterobacteriaceae</td>\n",
       "      <td>14.773889</td>\n",
       "      <td>5.258710</td>\n",
       "      <td>1.819514</td>\n",
       "      <td>2.407237</td>\n",
       "    </tr>\n",
       "    <tr>\n",
       "      <th>30</th>\n",
       "      <td>4575.0</td>\n",
       "      <td>Acetic acid</td>\n",
       "      <td>D-Glucose</td>\n",
       "      <td>Enterobacter</td>\n",
       "      <td>2</td>\n",
       "      <td>16</td>\n",
       "      <td>160</td>\n",
       "      <td>D-Glucose</td>\n",
       "      <td>0.040</td>\n",
       "      <td>0.240</td>\n",
       "      <td>...</td>\n",
       "      <td>0.835219</td>\n",
       "      <td>14.799585</td>\n",
       "      <td>0.021879</td>\n",
       "      <td>0.282022</td>\n",
       "      <td>0.228916</td>\n",
       "      <td>Enterobacteriaceae</td>\n",
       "      <td>14.773889</td>\n",
       "      <td>5.258710</td>\n",
       "      <td>1.819514</td>\n",
       "      <td>2.514408</td>\n",
       "    </tr>\n",
       "    <tr>\n",
       "      <th>59</th>\n",
       "      <td>98.6</td>\n",
       "      <td>Acetic acid</td>\n",
       "      <td>D-Glucose</td>\n",
       "      <td>Pseudomonas</td>\n",
       "      <td>1</td>\n",
       "      <td>16</td>\n",
       "      <td>162</td>\n",
       "      <td>D-Glucose</td>\n",
       "      <td>0.039</td>\n",
       "      <td>0.319</td>\n",
       "      <td>...</td>\n",
       "      <td>0.204283</td>\n",
       "      <td>8.299333</td>\n",
       "      <td>0.013915</td>\n",
       "      <td>0.086209</td>\n",
       "      <td>0.130891</td>\n",
       "      <td>Pseudomonadaceae</td>\n",
       "      <td>14.773889</td>\n",
       "      <td>2.043431</td>\n",
       "      <td>0.973695</td>\n",
       "      <td>0.101264</td>\n",
       "    </tr>\n",
       "    <tr>\n",
       "      <th>74</th>\n",
       "      <td>56.1</td>\n",
       "      <td>Acetic acid</td>\n",
       "      <td>D-Glucose</td>\n",
       "      <td>Pseudomonas</td>\n",
       "      <td>2</td>\n",
       "      <td>16</td>\n",
       "      <td>162</td>\n",
       "      <td>D-Glucose</td>\n",
       "      <td>0.039</td>\n",
       "      <td>0.319</td>\n",
       "      <td>...</td>\n",
       "      <td>0.204283</td>\n",
       "      <td>8.299333</td>\n",
       "      <td>0.013915</td>\n",
       "      <td>0.086209</td>\n",
       "      <td>0.130891</td>\n",
       "      <td>Pseudomonadaceae</td>\n",
       "      <td>14.773889</td>\n",
       "      <td>2.043431</td>\n",
       "      <td>0.973695</td>\n",
       "      <td>0.057616</td>\n",
       "    </tr>\n",
       "    <tr>\n",
       "      <th>99</th>\n",
       "      <td>766.0</td>\n",
       "      <td>Acetic acid</td>\n",
       "      <td>L-Malate</td>\n",
       "      <td>Enterobacter</td>\n",
       "      <td>1</td>\n",
       "      <td>16</td>\n",
       "      <td>160</td>\n",
       "      <td>L-Malate</td>\n",
       "      <td>0.039</td>\n",
       "      <td>0.179</td>\n",
       "      <td>...</td>\n",
       "      <td>0.235578</td>\n",
       "      <td>10.670152</td>\n",
       "      <td>0.005029</td>\n",
       "      <td>0.143839</td>\n",
       "      <td>0.142022</td>\n",
       "      <td>Enterobacteriaceae</td>\n",
       "      <td>14.774444</td>\n",
       "      <td>2.439476</td>\n",
       "      <td>0.844059</td>\n",
       "      <td>0.907520</td>\n",
       "    </tr>\n",
       "    <tr>\n",
       "      <th>112</th>\n",
       "      <td>1030.0</td>\n",
       "      <td>Acetic acid</td>\n",
       "      <td>L-Malate</td>\n",
       "      <td>Enterobacter</td>\n",
       "      <td>2</td>\n",
       "      <td>16</td>\n",
       "      <td>160</td>\n",
       "      <td>L-Malate</td>\n",
       "      <td>0.039</td>\n",
       "      <td>0.179</td>\n",
       "      <td>...</td>\n",
       "      <td>0.235578</td>\n",
       "      <td>10.670152</td>\n",
       "      <td>0.005029</td>\n",
       "      <td>0.143839</td>\n",
       "      <td>0.142022</td>\n",
       "      <td>Enterobacteriaceae</td>\n",
       "      <td>14.774444</td>\n",
       "      <td>2.439476</td>\n",
       "      <td>0.844059</td>\n",
       "      <td>1.220294</td>\n",
       "    </tr>\n",
       "    <tr>\n",
       "      <th>132</th>\n",
       "      <td>62.6</td>\n",
       "      <td>Acetic acid</td>\n",
       "      <td>L-Malate</td>\n",
       "      <td>Pseudomonas</td>\n",
       "      <td>1</td>\n",
       "      <td>16</td>\n",
       "      <td>162</td>\n",
       "      <td>L-Malate</td>\n",
       "      <td>0.040</td>\n",
       "      <td>0.191</td>\n",
       "      <td>...</td>\n",
       "      <td>0.578328</td>\n",
       "      <td>8.829620</td>\n",
       "      <td>0.069890</td>\n",
       "      <td>0.177114</td>\n",
       "      <td>0.181264</td>\n",
       "      <td>Pseudomonadaceae</td>\n",
       "      <td>14.774444</td>\n",
       "      <td>4.099455</td>\n",
       "      <td>1.953390</td>\n",
       "      <td>0.032047</td>\n",
       "    </tr>\n",
       "    <tr>\n",
       "      <th>159</th>\n",
       "      <td>77.4</td>\n",
       "      <td>Acetic acid</td>\n",
       "      <td>L-Malate</td>\n",
       "      <td>Pseudomonas</td>\n",
       "      <td>2</td>\n",
       "      <td>16</td>\n",
       "      <td>162</td>\n",
       "      <td>L-Malate</td>\n",
       "      <td>0.040</td>\n",
       "      <td>0.191</td>\n",
       "      <td>...</td>\n",
       "      <td>0.578328</td>\n",
       "      <td>8.829620</td>\n",
       "      <td>0.069890</td>\n",
       "      <td>0.177114</td>\n",
       "      <td>0.181264</td>\n",
       "      <td>Pseudomonadaceae</td>\n",
       "      <td>14.774444</td>\n",
       "      <td>4.099455</td>\n",
       "      <td>1.953390</td>\n",
       "      <td>0.039623</td>\n",
       "    </tr>\n",
       "    <tr>\n",
       "      <th>179</th>\n",
       "      <td>4160.0</td>\n",
       "      <td>Acetic acid</td>\n",
       "      <td>D-Fructose</td>\n",
       "      <td>Enterobacter</td>\n",
       "      <td>1</td>\n",
       "      <td>16</td>\n",
       "      <td>160</td>\n",
       "      <td>D-Fructose</td>\n",
       "      <td>0.040</td>\n",
       "      <td>0.246</td>\n",
       "      <td>...</td>\n",
       "      <td>0.725609</td>\n",
       "      <td>11.306414</td>\n",
       "      <td>0.049695</td>\n",
       "      <td>0.223700</td>\n",
       "      <td>0.209554</td>\n",
       "      <td>Enterobacteriaceae</td>\n",
       "      <td>14.773889</td>\n",
       "      <td>4.517414</td>\n",
       "      <td>1.563025</td>\n",
       "      <td>2.661505</td>\n",
       "    </tr>\n",
       "    <tr>\n",
       "      <th>198</th>\n",
       "      <td>3980.0</td>\n",
       "      <td>Acetic acid</td>\n",
       "      <td>D-Fructose</td>\n",
       "      <td>Enterobacter</td>\n",
       "      <td>2</td>\n",
       "      <td>16</td>\n",
       "      <td>160</td>\n",
       "      <td>D-Fructose</td>\n",
       "      <td>0.040</td>\n",
       "      <td>0.246</td>\n",
       "      <td>...</td>\n",
       "      <td>0.725609</td>\n",
       "      <td>11.306414</td>\n",
       "      <td>0.049695</td>\n",
       "      <td>0.223700</td>\n",
       "      <td>0.209554</td>\n",
       "      <td>Enterobacteriaceae</td>\n",
       "      <td>14.773889</td>\n",
       "      <td>4.517414</td>\n",
       "      <td>1.563025</td>\n",
       "      <td>2.546344</td>\n",
       "    </tr>\n",
       "    <tr>\n",
       "      <th>214</th>\n",
       "      <td>217.0</td>\n",
       "      <td>Acetic acid</td>\n",
       "      <td>D-Fructose</td>\n",
       "      <td>Pseudomonas</td>\n",
       "      <td>1</td>\n",
       "      <td>16</td>\n",
       "      <td>162</td>\n",
       "      <td>D-Fructose</td>\n",
       "      <td>0.040</td>\n",
       "      <td>0.190</td>\n",
       "      <td>...</td>\n",
       "      <td>0.355014</td>\n",
       "      <td>3.084236</td>\n",
       "      <td>0.020401</td>\n",
       "      <td>0.060407</td>\n",
       "      <td>0.002411</td>\n",
       "      <td>Pseudomonadaceae</td>\n",
       "      <td>14.773889</td>\n",
       "      <td>2.633177</td>\n",
       "      <td>1.254709</td>\n",
       "      <td>0.172948</td>\n",
       "    </tr>\n",
       "    <tr>\n",
       "      <th>235</th>\n",
       "      <td>214.0</td>\n",
       "      <td>Acetic acid</td>\n",
       "      <td>D-Fructose</td>\n",
       "      <td>Pseudomonas</td>\n",
       "      <td>2</td>\n",
       "      <td>16</td>\n",
       "      <td>162</td>\n",
       "      <td>D-Fructose</td>\n",
       "      <td>0.040</td>\n",
       "      <td>0.190</td>\n",
       "      <td>...</td>\n",
       "      <td>0.355014</td>\n",
       "      <td>3.084236</td>\n",
       "      <td>0.020401</td>\n",
       "      <td>0.060407</td>\n",
       "      <td>0.002411</td>\n",
       "      <td>Pseudomonadaceae</td>\n",
       "      <td>14.773889</td>\n",
       "      <td>2.633177</td>\n",
       "      <td>1.254709</td>\n",
       "      <td>0.170557</td>\n",
       "    </tr>\n",
       "    <tr>\n",
       "      <th>255</th>\n",
       "      <td>837.0</td>\n",
       "      <td>Acetic acid</td>\n",
       "      <td>Glycerol</td>\n",
       "      <td>Enterobacter</td>\n",
       "      <td>1</td>\n",
       "      <td>16</td>\n",
       "      <td>160</td>\n",
       "      <td>Glycerol</td>\n",
       "      <td>0.040</td>\n",
       "      <td>0.239</td>\n",
       "      <td>...</td>\n",
       "      <td>0.358197</td>\n",
       "      <td>13.273514</td>\n",
       "      <td>0.004407</td>\n",
       "      <td>0.180802</td>\n",
       "      <td>0.181267</td>\n",
       "      <td>Enterobacteriaceae</td>\n",
       "      <td>14.774167</td>\n",
       "      <td>3.659814</td>\n",
       "      <td>1.266296</td>\n",
       "      <td>0.660983</td>\n",
       "    </tr>\n",
       "    <tr>\n",
       "      <th>274</th>\n",
       "      <td>1090.0</td>\n",
       "      <td>Acetic acid</td>\n",
       "      <td>Glycerol</td>\n",
       "      <td>Enterobacter</td>\n",
       "      <td>2</td>\n",
       "      <td>16</td>\n",
       "      <td>160</td>\n",
       "      <td>Glycerol</td>\n",
       "      <td>0.040</td>\n",
       "      <td>0.239</td>\n",
       "      <td>...</td>\n",
       "      <td>0.358197</td>\n",
       "      <td>13.273514</td>\n",
       "      <td>0.004407</td>\n",
       "      <td>0.180802</td>\n",
       "      <td>0.181267</td>\n",
       "      <td>Enterobacteriaceae</td>\n",
       "      <td>14.774167</td>\n",
       "      <td>3.659814</td>\n",
       "      <td>1.266296</td>\n",
       "      <td>0.860778</td>\n",
       "    </tr>\n",
       "    <tr>\n",
       "      <th>296</th>\n",
       "      <td>247.0</td>\n",
       "      <td>Acetic acid</td>\n",
       "      <td>Glycerol</td>\n",
       "      <td>Pseudomonas</td>\n",
       "      <td>1</td>\n",
       "      <td>16</td>\n",
       "      <td>162</td>\n",
       "      <td>Glycerol</td>\n",
       "      <td>0.039</td>\n",
       "      <td>0.390</td>\n",
       "      <td>...</td>\n",
       "      <td>0.361218</td>\n",
       "      <td>7.502256</td>\n",
       "      <td>0.017744</td>\n",
       "      <td>0.070048</td>\n",
       "      <td>0.024262</td>\n",
       "      <td>Pseudomonadaceae</td>\n",
       "      <td>14.774167</td>\n",
       "      <td>3.321644</td>\n",
       "      <td>1.582763</td>\n",
       "      <td>0.156056</td>\n",
       "    </tr>\n",
       "    <tr>\n",
       "      <th>318</th>\n",
       "      <td>279.0</td>\n",
       "      <td>Acetic acid</td>\n",
       "      <td>Glycerol</td>\n",
       "      <td>Pseudomonas</td>\n",
       "      <td>2</td>\n",
       "      <td>16</td>\n",
       "      <td>162</td>\n",
       "      <td>Glycerol</td>\n",
       "      <td>0.039</td>\n",
       "      <td>0.390</td>\n",
       "      <td>...</td>\n",
       "      <td>0.361218</td>\n",
       "      <td>7.502256</td>\n",
       "      <td>0.017744</td>\n",
       "      <td>0.070048</td>\n",
       "      <td>0.024262</td>\n",
       "      <td>Pseudomonadaceae</td>\n",
       "      <td>14.774167</td>\n",
       "      <td>3.321644</td>\n",
       "      <td>1.582763</td>\n",
       "      <td>0.176274</td>\n",
       "    </tr>\n",
       "    <tr>\n",
       "      <th>324</th>\n",
       "      <td>245.0</td>\n",
       "      <td>Acetic acid</td>\n",
       "      <td>Pyruvate</td>\n",
       "      <td>Enterobacter</td>\n",
       "      <td>1</td>\n",
       "      <td>16</td>\n",
       "      <td>160</td>\n",
       "      <td>Pyruvate</td>\n",
       "      <td>0.040</td>\n",
       "      <td>0.200</td>\n",
       "      <td>...</td>\n",
       "      <td>0.204380</td>\n",
       "      <td>14.270587</td>\n",
       "      <td>0.012971</td>\n",
       "      <td>0.182334</td>\n",
       "      <td>0.194782</td>\n",
       "      <td>Enterobacteriaceae</td>\n",
       "      <td>14.774167</td>\n",
       "      <td>2.390552</td>\n",
       "      <td>0.827131</td>\n",
       "      <td>0.296205</td>\n",
       "    </tr>\n",
       "    <tr>\n",
       "      <th>353</th>\n",
       "      <td>152.0</td>\n",
       "      <td>Acetic acid</td>\n",
       "      <td>Pyruvate</td>\n",
       "      <td>Enterobacter</td>\n",
       "      <td>2</td>\n",
       "      <td>16</td>\n",
       "      <td>160</td>\n",
       "      <td>Pyruvate</td>\n",
       "      <td>0.040</td>\n",
       "      <td>0.200</td>\n",
       "      <td>...</td>\n",
       "      <td>0.204380</td>\n",
       "      <td>14.270587</td>\n",
       "      <td>0.012971</td>\n",
       "      <td>0.182334</td>\n",
       "      <td>0.194782</td>\n",
       "      <td>Enterobacteriaceae</td>\n",
       "      <td>14.774167</td>\n",
       "      <td>2.390552</td>\n",
       "      <td>0.827131</td>\n",
       "      <td>0.183768</td>\n",
       "    </tr>\n",
       "    <tr>\n",
       "      <th>379</th>\n",
       "      <td>0.0</td>\n",
       "      <td>Acetic acid</td>\n",
       "      <td>Pyruvate</td>\n",
       "      <td>Pseudomonas</td>\n",
       "      <td>1</td>\n",
       "      <td>16</td>\n",
       "      <td>162</td>\n",
       "      <td>Pyruvate</td>\n",
       "      <td>0.039</td>\n",
       "      <td>0.487</td>\n",
       "      <td>...</td>\n",
       "      <td>0.156609</td>\n",
       "      <td>10.984878</td>\n",
       "      <td>0.006984</td>\n",
       "      <td>0.076805</td>\n",
       "      <td>0.161088</td>\n",
       "      <td>Pseudomonadaceae</td>\n",
       "      <td>14.774167</td>\n",
       "      <td>1.704013</td>\n",
       "      <td>0.811962</td>\n",
       "      <td>0.000000</td>\n",
       "    </tr>\n",
       "    <tr>\n",
       "      <th>396</th>\n",
       "      <td>0.0</td>\n",
       "      <td>Acetic acid</td>\n",
       "      <td>Pyruvate</td>\n",
       "      <td>Pseudomonas</td>\n",
       "      <td>2</td>\n",
       "      <td>16</td>\n",
       "      <td>162</td>\n",
       "      <td>Pyruvate</td>\n",
       "      <td>0.039</td>\n",
       "      <td>0.487</td>\n",
       "      <td>...</td>\n",
       "      <td>0.156609</td>\n",
       "      <td>10.984878</td>\n",
       "      <td>0.006984</td>\n",
       "      <td>0.076805</td>\n",
       "      <td>0.161088</td>\n",
       "      <td>Pseudomonadaceae</td>\n",
       "      <td>14.774167</td>\n",
       "      <td>1.704013</td>\n",
       "      <td>0.811962</td>\n",
       "      <td>0.000000</td>\n",
       "    </tr>\n",
       "  </tbody>\n",
       "</table>\n",
       "<p>20 rows × 26 columns</p>\n",
       "</div>"
      ],
      "text/plain": [
       "     Concentration   Metabolite Carbon source        Strain  Replicate  \\\n",
       "14          4380.0  Acetic acid     D-Glucose  Enterobacter          1   \n",
       "30          4575.0  Acetic acid     D-Glucose  Enterobacter          2   \n",
       "59            98.6  Acetic acid     D-Glucose   Pseudomonas          1   \n",
       "74            56.1  Acetic acid     D-Glucose   Pseudomonas          2   \n",
       "99           766.0  Acetic acid      L-Malate  Enterobacter          1   \n",
       "112         1030.0  Acetic acid      L-Malate  Enterobacter          2   \n",
       "132           62.6  Acetic acid      L-Malate   Pseudomonas          1   \n",
       "159           77.4  Acetic acid      L-Malate   Pseudomonas          2   \n",
       "179         4160.0  Acetic acid    D-Fructose  Enterobacter          1   \n",
       "198         3980.0  Acetic acid    D-Fructose  Enterobacter          2   \n",
       "214          217.0  Acetic acid    D-Fructose   Pseudomonas          1   \n",
       "235          214.0  Acetic acid    D-Fructose   Pseudomonas          2   \n",
       "255          837.0  Acetic acid      Glycerol  Enterobacter          1   \n",
       "274         1090.0  Acetic acid      Glycerol  Enterobacter          2   \n",
       "296          247.0  Acetic acid      Glycerol   Pseudomonas          1   \n",
       "318          279.0  Acetic acid      Glycerol   Pseudomonas          2   \n",
       "324          245.0  Acetic acid      Pyruvate  Enterobacter          1   \n",
       "353          152.0  Acetic acid      Pyruvate  Enterobacter          2   \n",
       "379            0.0  Acetic acid      Pyruvate   Pseudomonas          1   \n",
       "396            0.0  Acetic acid      Pyruvate   Pseudomonas          2   \n",
       "\n",
       "     Timepoint  SangerID          CS     N0   Nmax  ...       gcr      gcauc  \\\n",
       "14          16       160   D-Glucose  0.040  0.240  ...  0.835219  14.799585   \n",
       "30          16       160   D-Glucose  0.040  0.240  ...  0.835219  14.799585   \n",
       "59          16       162   D-Glucose  0.039  0.319  ...  0.204283   8.299333   \n",
       "74          16       162   D-Glucose  0.039  0.319  ...  0.204283   8.299333   \n",
       "99          16       160    L-Malate  0.039  0.179  ...  0.235578  10.670152   \n",
       "112         16       160    L-Malate  0.039  0.179  ...  0.235578  10.670152   \n",
       "132         16       162    L-Malate  0.040  0.191  ...  0.578328   8.829620   \n",
       "159         16       162    L-Malate  0.040  0.191  ...  0.578328   8.829620   \n",
       "179         16       160  D-Fructose  0.040  0.246  ...  0.725609  11.306414   \n",
       "198         16       160  D-Fructose  0.040  0.246  ...  0.725609  11.306414   \n",
       "214         16       162  D-Fructose  0.040  0.190  ...  0.355014   3.084236   \n",
       "235         16       162  D-Fructose  0.040  0.190  ...  0.355014   3.084236   \n",
       "255         16       160    Glycerol  0.040  0.239  ...  0.358197  13.273514   \n",
       "274         16       160    Glycerol  0.040  0.239  ...  0.358197  13.273514   \n",
       "296         16       162    Glycerol  0.039  0.390  ...  0.361218   7.502256   \n",
       "318         16       162    Glycerol  0.039  0.390  ...  0.361218   7.502256   \n",
       "324         16       160    Pyruvate  0.040  0.200  ...  0.204380  14.270587   \n",
       "353         16       160    Pyruvate  0.040  0.200  ...  0.204380  14.270587   \n",
       "379         16       162    Pyruvate  0.039  0.487  ...  0.156609  10.984878   \n",
       "396         16       162    Pyruvate  0.039  0.487  ...  0.156609  10.984878   \n",
       "\n",
       "       gcr_se         r       r16              Family          T     AUC16  \\\n",
       "14   0.021879  0.282022  0.228916  Enterobacteriaceae  14.773889  5.258710   \n",
       "30   0.021879  0.282022  0.228916  Enterobacteriaceae  14.773889  5.258710   \n",
       "59   0.013915  0.086209  0.130891    Pseudomonadaceae  14.773889  2.043431   \n",
       "74   0.013915  0.086209  0.130891    Pseudomonadaceae  14.773889  2.043431   \n",
       "99   0.005029  0.143839  0.142022  Enterobacteriaceae  14.774444  2.439476   \n",
       "112  0.005029  0.143839  0.142022  Enterobacteriaceae  14.774444  2.439476   \n",
       "132  0.069890  0.177114  0.181264    Pseudomonadaceae  14.774444  4.099455   \n",
       "159  0.069890  0.177114  0.181264    Pseudomonadaceae  14.774444  4.099455   \n",
       "179  0.049695  0.223700  0.209554  Enterobacteriaceae  14.773889  4.517414   \n",
       "198  0.049695  0.223700  0.209554  Enterobacteriaceae  14.773889  4.517414   \n",
       "214  0.020401  0.060407  0.002411    Pseudomonadaceae  14.773889  2.633177   \n",
       "235  0.020401  0.060407  0.002411    Pseudomonadaceae  14.773889  2.633177   \n",
       "255  0.004407  0.180802  0.181267  Enterobacteriaceae  14.774167  3.659814   \n",
       "274  0.004407  0.180802  0.181267  Enterobacteriaceae  14.774167  3.659814   \n",
       "296  0.017744  0.070048  0.024262    Pseudomonadaceae  14.774167  3.321644   \n",
       "318  0.017744  0.070048  0.024262    Pseudomonadaceae  14.774167  3.321644   \n",
       "324  0.012971  0.182334  0.194782  Enterobacteriaceae  14.774167  2.390552   \n",
       "353  0.012971  0.182334  0.194782  Enterobacteriaceae  14.774167  2.390552   \n",
       "379  0.006984  0.076805  0.161088    Pseudomonadaceae  14.774167  1.704013   \n",
       "396  0.006984  0.076805  0.161088    Pseudomonadaceae  14.774167  1.704013   \n",
       "\n",
       "     AUC16gDW  Rate [mmol/gDW/h]  \n",
       "14   1.819514           2.407237  \n",
       "30   1.819514           2.514408  \n",
       "59   0.973695           0.101264  \n",
       "74   0.973695           0.057616  \n",
       "99   0.844059           0.907520  \n",
       "112  0.844059           1.220294  \n",
       "132  1.953390           0.032047  \n",
       "159  1.953390           0.039623  \n",
       "179  1.563025           2.661505  \n",
       "198  1.563025           2.546344  \n",
       "214  1.254709           0.172948  \n",
       "235  1.254709           0.170557  \n",
       "255  1.266296           0.660983  \n",
       "274  1.266296           0.860778  \n",
       "296  1.582763           0.156056  \n",
       "318  1.582763           0.176274  \n",
       "324  0.827131           0.296205  \n",
       "353  0.827131           0.183768  \n",
       "379  0.811962           0.000000  \n",
       "396  0.811962           0.000000  \n",
       "\n",
       "[20 rows x 26 columns]"
      ]
     },
     "execution_count": 87,
     "metadata": {},
     "output_type": "execute_result"
    }
   ],
   "source": [
    "df_rate.loc[df_rate.Metabolite=='Acetic acid']"
   ]
  },
  {
   "cell_type": "markdown",
   "id": "f7483a6f-32c6-4022-805f-4e4ab8b58b9c",
   "metadata": {
    "execution": {
     "iopub.execute_input": "2025-02-19T22:14:38.256856Z",
     "iopub.status.busy": "2025-02-19T22:14:38.255726Z",
     "iopub.status.idle": "2025-02-19T22:14:38.287177Z",
     "shell.execute_reply": "2025-02-19T22:14:38.286511Z",
     "shell.execute_reply.started": "2025-02-19T22:14:38.256751Z"
    }
   },
   "source": [
    "# Load metabolic models to estimate values"
   ]
  },
  {
   "cell_type": "code",
   "execution_count": 17,
   "id": "1ae5af24-6af4-40aa-a3cd-b6a98362ba7d",
   "metadata": {
    "execution": {
     "iopub.execute_input": "2025-02-27T10:27:12.524747Z",
     "iopub.status.busy": "2025-02-27T10:27:12.524637Z",
     "iopub.status.idle": "2025-02-27T10:27:13.784830Z",
     "shell.execute_reply": "2025-02-27T10:27:13.784412Z",
     "shell.execute_reply.started": "2025-02-27T10:27:12.524736Z"
    }
   },
   "outputs": [],
   "source": [
    "model_ez = reframed.load_cbmodel('../../../models/e_coli/momentiJO1366_modified.xml')\n",
    "model_ez.solver = 'gurobi'\n",
    "model_ez.reactions.R_EX_glc__D_e.lb = 0"
   ]
  },
  {
   "cell_type": "code",
   "execution_count": 18,
   "id": "b533ec05-e6e1-458e-80f7-d21efe2b0f15",
   "metadata": {
    "execution": {
     "iopub.execute_input": "2025-02-27T10:27:13.785426Z",
     "iopub.status.busy": "2025-02-27T10:27:13.785320Z",
     "iopub.status.idle": "2025-02-27T10:27:15.468626Z",
     "shell.execute_reply": "2025-02-27T10:27:15.468235Z",
     "shell.execute_reply.started": "2025-02-27T10:27:13.785415Z"
    }
   },
   "outputs": [],
   "source": [
    "model_pp_fn = '../../../models/p_putida/eciJN1463_uniprot_AutoPACMEN.xml'\n",
    "# '../../../models/p_putida/iJN1463.xml'\n",
    "model_pp = reframed.load_cbmodel(model_pp_fn)\n",
    "\n",
    "\n",
    "model_pp.solver = 'gurobi'\n",
    "\n",
    "model_pp.reactions.R_EX_glc__D_e.lb = 0"
   ]
  },
  {
   "cell_type": "markdown",
   "id": "3a7e9478-6eee-4f92-a2c8-c1206bd11c8c",
   "metadata": {},
   "source": [
    "### Verify that models have all corbon source uptake blocked"
   ]
  },
  {
   "cell_type": "code",
   "execution_count": 19,
   "id": "920d5f39-5a61-4b7a-887c-4c4ae97d618a",
   "metadata": {
    "execution": {
     "iopub.execute_input": "2025-02-27T10:27:15.469201Z",
     "iopub.status.busy": "2025-02-27T10:27:15.469107Z",
     "iopub.status.idle": "2025-02-27T10:27:15.530594Z",
     "shell.execute_reply": "2025-02-27T10:27:15.530339Z",
     "shell.execute_reply.started": "2025-02-27T10:27:15.469191Z"
    }
   },
   "outputs": [
    {
     "name": "stdout",
     "output_type": "stream",
     "text": [
      "Set parameter Username\n",
      "Set parameter LicenseID to value 2586336\n",
      "Academic license - for non-commercial use only - expires 2025-11-18\n"
     ]
    },
    {
     "data": {
      "text/plain": [
       "Objective: None\n",
       "Status: Infeasible or Unbounded"
      ]
     },
     "execution_count": 19,
     "metadata": {},
     "output_type": "execute_result"
    }
   ],
   "source": [
    "reframed.FBA(model_ez, objective=model_ez.biomass_reaction)"
   ]
  },
  {
   "cell_type": "code",
   "execution_count": 20,
   "id": "e56e0f80-6824-4e0d-a27b-ff629cdd714a",
   "metadata": {
    "execution": {
     "iopub.execute_input": "2025-02-27T10:27:15.531076Z",
     "iopub.status.busy": "2025-02-27T10:27:15.530988Z",
     "iopub.status.idle": "2025-02-27T10:27:15.696909Z",
     "shell.execute_reply": "2025-02-27T10:27:15.696593Z",
     "shell.execute_reply.started": "2025-02-27T10:27:15.531066Z"
    }
   },
   "outputs": [
    {
     "data": {
      "text/plain": [
       "Objective: None\n",
       "Status: Infeasible or Unbounded"
      ]
     },
     "execution_count": 20,
     "metadata": {},
     "output_type": "execute_result"
    }
   ],
   "source": [
    "reframed.FBA(model_pp, objective=model_pp.biomass_reaction)"
   ]
  },
  {
   "cell_type": "code",
   "execution_count": 21,
   "id": "d94caa69-b338-4e5d-a5a8-d51e9bd0a169",
   "metadata": {
    "execution": {
     "iopub.execute_input": "2025-02-27T10:27:15.697812Z",
     "iopub.status.busy": "2025-02-27T10:27:15.697588Z",
     "iopub.status.idle": "2025-02-27T10:27:15.700623Z",
     "shell.execute_reply": "2025-02-27T10:27:15.700045Z",
     "shell.execute_reply.started": "2025-02-27T10:27:15.697791Z"
    }
   },
   "outputs": [],
   "source": [
    "strain_to_model = {\n",
    "    'Enterobacter': model_ez,\n",
    "    'Pseudomonas': model_pp,\n",
    "}"
   ]
  },
  {
   "cell_type": "markdown",
   "id": "9b018286-555b-4a39-bead-159ebfe0910f",
   "metadata": {
    "execution": {
     "iopub.execute_input": "2025-02-19T22:34:01.479469Z",
     "iopub.status.busy": "2025-02-19T22:34:01.478482Z",
     "iopub.status.idle": "2025-02-19T22:34:01.499776Z",
     "shell.execute_reply": "2025-02-19T22:34:01.498465Z",
     "shell.execute_reply.started": "2025-02-19T22:34:01.479416Z"
    }
   },
   "source": [
    "# Mapping of metabolite names to bigg ids\n"
   ]
  },
  {
   "cell_type": "code",
   "execution_count": 22,
   "id": "0c925969-4df9-44ca-9627-711a1e4206bd",
   "metadata": {
    "execution": {
     "iopub.execute_input": "2025-02-27T10:27:15.701262Z",
     "iopub.status.busy": "2025-02-27T10:27:15.701153Z",
     "iopub.status.idle": "2025-02-27T10:27:15.704295Z",
     "shell.execute_reply": "2025-02-27T10:27:15.703943Z",
     "shell.execute_reply.started": "2025-02-27T10:27:15.701252Z"
    }
   },
   "outputs": [],
   "source": [
    "translate_dict = {'alpha-Ketoglutaric acid': 'akg',\n",
    "'Butyric acid': 'but',\n",
    "'Valine': 'val__L',\n",
    "'Pyruvic acid': 'pyr',\n",
    "'Propionic acid': 'ppa',\n",
    "'Acetyl-ornithine': 'acorn',\n",
    "'Alanine': 'ala__L',\n",
    "'Acetic acid': 'ac',\n",
    "'Asparagine': 'asn__L',\n",
    "'beta-Hydroxybutyric acid': 'bhb',\n",
    "'Serine': 'ser__L',\n",
    "'Glycine': 'gly',\n",
    "'Succinic acid': 'succ',\n",
    "'Methionine': 'met__L',\n",
    "'Fumaric acid': 'fum',\n",
    "'Valeric acid': 'pta',\n",
    "'Citric acid': 'cit',\n",
    "'Lactic acid': 'lac__D',\n",
    "'Putrescine':  'ptrc',\n",
    "'Hippuric acid': 'bgly'}\n",
    "translate_dict_r = {value:key for key, value in translate_dict.items()}"
   ]
  },
  {
   "cell_type": "code",
   "execution_count": 23,
   "id": "02596982-72f2-420f-afef-620d4328fd87",
   "metadata": {
    "execution": {
     "iopub.execute_input": "2025-02-27T10:27:15.704709Z",
     "iopub.status.busy": "2025-02-27T10:27:15.704607Z",
     "iopub.status.idle": "2025-02-27T10:27:15.708449Z",
     "shell.execute_reply": "2025-02-27T10:27:15.707069Z",
     "shell.execute_reply.started": "2025-02-27T10:27:15.704699Z"
    }
   },
   "outputs": [],
   "source": [
    "cs_to_exchange = {'D-Glucose': 'EX_glc__D_e',\n",
    "                'D-Lactate': 'EX_lac__D_e',\n",
    "                'Citrate': 'EX_cit_e',\n",
    "                '2-Oxoglutarate': 'EX_akg_e',\n",
    "                'Succinate': 'EX_succ_e',\n",
    "                'Fumarate': 'EX_fum_e',\n",
    "                'L-Malate': 'EX_mal__L_e',\n",
    "                'L-Glutamine': 'EX_gln__L_e',\n",
    "                'Acetate': 'EX_ac_e',\n",
    "                'D-Galactose': 'EX_gal_e',\n",
    "                'D-Ribose': 'EX_rib__D_e',\n",
    "                'L-Arabinose': 'EX_arab__L_e',\n",
    "                'Glycerol': 'EX_glyc_e',\n",
    "                'D-Gluconate': 'EX_glcn_e',\n",
    "                '2-Ketogluconate': 'EX_25dkglcn_e',\n",
    "                'Pyruvate': 'EX_pyr_e',\n",
    "                'D-Fructose': 'EX_fru_e'}\n"
   ]
  },
  {
   "cell_type": "code",
   "execution_count": 24,
   "id": "d83f4c98-e1b8-4bbc-961f-8af33ec9555c",
   "metadata": {
    "execution": {
     "iopub.execute_input": "2025-02-27T10:27:15.709268Z",
     "iopub.status.busy": "2025-02-27T10:27:15.709072Z",
     "iopub.status.idle": "2025-02-27T10:27:15.711958Z",
     "shell.execute_reply": "2025-02-27T10:27:15.711507Z",
     "shell.execute_reply.started": "2025-02-27T10:27:15.709253Z"
    }
   },
   "outputs": [
    {
     "name": "stdout",
     "output_type": "stream",
     "text": [
      "beta-Hydroxybutyric acid not in model\n",
      "Valeric acid not in model\n",
      "Hippuric acid not in model\n"
     ]
    }
   ],
   "source": [
    "measured_mets_ez = []\n",
    "measured_metnames_ez = []\n",
    "for key, value in translate_dict.items():\n",
    "    m_id = f'M_{value}_c'\n",
    "    try:\n",
    "        m = model_ez.metabolites[m_id]\n",
    "    except KeyError:\n",
    "        print(f'{key} not in model')\n",
    "    else:\n",
    "        measured_mets_ez.append(m_id)\n",
    "        measured_metnames_ez.append(key)"
   ]
  },
  {
   "cell_type": "code",
   "execution_count": 25,
   "id": "2a8d7cce-e492-40c6-bb66-1bbba38428e4",
   "metadata": {
    "execution": {
     "iopub.execute_input": "2025-02-27T10:27:15.712803Z",
     "iopub.status.busy": "2025-02-27T10:27:15.712656Z",
     "iopub.status.idle": "2025-02-27T10:27:15.715578Z",
     "shell.execute_reply": "2025-02-27T10:27:15.715142Z",
     "shell.execute_reply.started": "2025-02-27T10:27:15.712792Z"
    }
   },
   "outputs": [
    {
     "name": "stdout",
     "output_type": "stream",
     "text": [
      "Hippuric acid not in model\n"
     ]
    }
   ],
   "source": [
    "measured_mets_pp = []\n",
    "measured_metnames_pp = []\n",
    "for key, value in translate_dict.items():\n",
    "    m_id = f'M_{value}_c'\n",
    "    try:\n",
    "        m = model_pp.metabolites[m_id]\n",
    "    except KeyError:\n",
    "        print(f'{key} not in model')\n",
    "    else:\n",
    "        measured_mets_pp.append(m_id)\n",
    "        measured_metnames_pp.append(key)"
   ]
  },
  {
   "cell_type": "code",
   "execution_count": 26,
   "id": "bc7ec1b8-1ad5-4fbd-aa65-0f52cabfd304",
   "metadata": {
    "execution": {
     "iopub.execute_input": "2025-02-27T10:27:15.716373Z",
     "iopub.status.busy": "2025-02-27T10:27:15.716195Z",
     "iopub.status.idle": "2025-02-27T10:27:15.718318Z",
     "shell.execute_reply": "2025-02-27T10:27:15.717975Z",
     "shell.execute_reply.started": "2025-02-27T10:27:15.716353Z"
    }
   },
   "outputs": [],
   "source": [
    "metnames_dict = {\n",
    "    'Enterobacter': (measured_mets_ez, measured_metnames_ez),\n",
    "    'Pseudomonas': (measured_mets_pp, measured_metnames_pp)\n",
    "}"
   ]
  },
  {
   "cell_type": "code",
   "execution_count": 27,
   "id": "3a42dddc-d325-47e5-bc7a-caf5fe606fad",
   "metadata": {
    "execution": {
     "iopub.execute_input": "2025-02-27T10:27:15.718852Z",
     "iopub.status.busy": "2025-02-27T10:27:15.718735Z",
     "iopub.status.idle": "2025-02-27T10:27:15.721666Z",
     "shell.execute_reply": "2025-02-27T10:27:15.721372Z",
     "shell.execute_reply.started": "2025-02-27T10:27:15.718842Z"
    }
   },
   "outputs": [
    {
     "data": {
      "text/plain": [
       "array(['D-Glucose', 'L-Malate', 'D-Fructose', 'Glycerol', 'Pyruvate'],\n",
       "      dtype=object)"
      ]
     },
     "execution_count": 27,
     "metadata": {},
     "output_type": "execute_result"
    }
   ],
   "source": [
    "df_rate['Carbon source'].unique()"
   ]
  },
  {
   "cell_type": "markdown",
   "id": "cc296b5c-c8e2-4885-8149-95acaac65791",
   "metadata": {},
   "source": [
    "## Estimate uptake rates from maximum growth rates\n"
   ]
  },
  {
   "cell_type": "code",
   "execution_count": 28,
   "id": "093bcd0e-b200-4abd-8f6f-5ca198e9dc6a",
   "metadata": {
    "execution": {
     "iopub.execute_input": "2025-02-27T10:27:15.722260Z",
     "iopub.status.busy": "2025-02-27T10:27:15.722108Z",
     "iopub.status.idle": "2025-02-27T10:27:17.192539Z",
     "shell.execute_reply": "2025-02-27T10:27:17.192246Z",
     "shell.execute_reply.started": "2025-02-27T10:27:15.722249Z"
    }
   },
   "outputs": [
    {
     "name": "stdout",
     "output_type": "stream",
     "text": [
      "D-Glucose Enterobacter\n",
      "D-Fructose Enterobacter\n",
      "D-Galactose Enterobacter\n",
      "D-Ribose Enterobacter\n",
      "L-Arabinose Enterobacter\n",
      "Glycerol Enterobacter\n",
      "Pyruvate Enterobacter\n",
      "Succinate Enterobacter\n",
      "Fumarate Enterobacter\n",
      "L-Malate Enterobacter\n",
      "Acetate Enterobacter\n",
      "D-Glucose Pseudomonas\n",
      "D-Fructose Pseudomonas\n",
      "R_EX_gal_e not in eciJN1463_uniprot_AutoPACMEN\n",
      "D-Ribose Pseudomonas\n",
      "R_EX_arab__L_e not in eciJN1463_uniprot_AutoPACMEN\n",
      "Glycerol Pseudomonas\n",
      "Pyruvate Pseudomonas\n",
      "Succinate Pseudomonas\n",
      "Fumarate Pseudomonas\n",
      "L-Malate Pseudomonas\n",
      "Acetate Pseudomonas\n"
     ]
    }
   ],
   "source": [
    "uptake_rates = []\n",
    "uptake_dict = {}\n",
    "for i, row in growth_df.iterrows():\n",
    "    if not row['CS'] in exomet_carbon_sources:\n",
    "        uptake_rates.append(np.nan)\n",
    "        # Not interested in these\n",
    "        continue\n",
    "    \n",
    "    model = strain_to_model[row['Strain']]\n",
    "    r_ex = f\"R_{cs_to_exchange[row['CS']]}\"\n",
    "\n",
    "    if not r_ex in model.reactions:\n",
    "        print(f'{r_ex} not in {model.id}')\n",
    "        uptake_rates.append(np.nan)\n",
    "        continue\n",
    "    \n",
    "    growth_rate = row['r']\n",
    "    print(row['CS'], row['Strain'])\n",
    "    sol = reframed.FBA(model, constraints = {r_ex:(-10,0), model.biomass_reaction:(growth_rate,growth_rate)},\n",
    "                      objective = {r_ex:1})\n",
    "    uptake_rates.append(sol.fobj)\n",
    "    uptake_dict[(row['Strain'], row['CS'])] = sol.fobj\n",
    "    "
   ]
  },
  {
   "cell_type": "code",
   "execution_count": 29,
   "id": "11217098-a7c6-4725-a8c7-f54b1ceffd8c",
   "metadata": {
    "execution": {
     "iopub.execute_input": "2025-02-27T10:27:17.193265Z",
     "iopub.status.busy": "2025-02-27T10:27:17.193136Z",
     "iopub.status.idle": "2025-02-27T10:27:17.195258Z",
     "shell.execute_reply": "2025-02-27T10:27:17.194980Z",
     "shell.execute_reply.started": "2025-02-27T10:27:17.193255Z"
    }
   },
   "outputs": [],
   "source": [
    "growth_df['Uptake rate'] = uptake_rates"
   ]
  },
  {
   "cell_type": "markdown",
   "id": "6d85b746-5f46-4d0d-b479-c90113ca2ad8",
   "metadata": {},
   "source": [
    "# Now calaculate shadow prices\n",
    "Can't estimate shadow price / metabolite value for butyrate because all reactions related to butyrate are blocked. "
   ]
  },
  {
   "cell_type": "code",
   "execution_count": 30,
   "id": "1a502057-62ca-4550-8072-14dcc8c7be80",
   "metadata": {
    "execution": {
     "iopub.execute_input": "2025-02-27T10:27:17.195817Z",
     "iopub.status.busy": "2025-02-27T10:27:17.195693Z",
     "iopub.status.idle": "2025-02-27T10:27:37.022011Z",
     "shell.execute_reply": "2025-02-27T10:27:37.021429Z",
     "shell.execute_reply.started": "2025-02-27T10:27:17.195807Z"
    }
   },
   "outputs": [],
   "source": [
    "sp_dict = {}\n",
    "for strain, model in strain_to_model.items():\n",
    "    dfs = df_rate.loc[df_rate.Strain==strain]\n",
    "    for cs in dfs['Carbon source'].unique():\n",
    "        r_ex = f\"R_{cs_to_exchange[cs]}\"\n",
    "        uptake_rate = uptake_dict[(strain, cs)]\n",
    "        if not uptake_rate:\n",
    "            continue\n",
    "        measured_mets, measured_metnames = metnames_dict[strain]\n",
    "        sp_dict[(strain, cs)] = leakage.estimate_shadow_prices_reframed(model, \n",
    "                                constraints={r_ex:(uptake_rate, uptake_rate)},\n",
    "                                delta = 0.01, metabolites=measured_mets)\n"
   ]
  },
  {
   "cell_type": "code",
   "execution_count": 31,
   "id": "2b9c53d9-9ac8-4d56-a23f-719fa03c5db5",
   "metadata": {
    "execution": {
     "iopub.execute_input": "2025-02-27T10:27:37.023044Z",
     "iopub.status.busy": "2025-02-27T10:27:37.022923Z",
     "iopub.status.idle": "2025-02-27T10:27:37.027431Z",
     "shell.execute_reply": "2025-02-27T10:27:37.026883Z",
     "shell.execute_reply.started": "2025-02-27T10:27:37.023033Z"
    }
   },
   "outputs": [],
   "source": [
    "mv_df = (pd.DataFrame(sp_dict)*-1).reset_index()"
   ]
  },
  {
   "cell_type": "code",
   "execution_count": 32,
   "id": "488737d4-f41c-41a5-b923-2b4943a3803d",
   "metadata": {
    "execution": {
     "iopub.execute_input": "2025-02-27T10:27:37.028349Z",
     "iopub.status.busy": "2025-02-27T10:27:37.028170Z",
     "iopub.status.idle": "2025-02-27T10:27:37.030098Z",
     "shell.execute_reply": "2025-02-27T10:27:37.029789Z",
     "shell.execute_reply.started": "2025-02-27T10:27:37.028337Z"
    }
   },
   "outputs": [],
   "source": [
    "# mv_df"
   ]
  },
  {
   "cell_type": "markdown",
   "id": "c9613019-e5b4-4dd7-a0d4-8a7ddd3d8bef",
   "metadata": {
    "execution": {
     "iopub.execute_input": "2025-02-23T22:02:55.794758Z",
     "iopub.status.busy": "2025-02-23T22:02:55.794656Z",
     "iopub.status.idle": "2025-02-23T22:02:55.798285Z",
     "shell.execute_reply": "2025-02-23T22:02:55.797890Z",
     "shell.execute_reply.started": "2025-02-23T22:02:55.794748Z"
    }
   },
   "source": [
    "## Turnover"
   ]
  },
  {
   "cell_type": "code",
   "execution_count": 51,
   "id": "95abac5d-cb3d-453f-9efb-41f9f02c752f",
   "metadata": {
    "execution": {
     "iopub.execute_input": "2025-02-27T10:31:04.684959Z",
     "iopub.status.busy": "2025-02-27T10:31:04.682648Z",
     "iopub.status.idle": "2025-02-27T10:31:06.168538Z",
     "shell.execute_reply": "2025-02-27T10:31:06.168165Z",
     "shell.execute_reply.started": "2025-02-27T10:31:04.684880Z"
    }
   },
   "outputs": [],
   "source": [
    "turnover_dict = {}\n",
    "\n",
    "for strain, model in strain_to_model.items():\n",
    "    dfs = df_rate.loc[df_rate.Strain==strain]\n",
    "    for cs in dfs['Carbon source'].unique():\n",
    "        r_ex = f\"R_{cs_to_exchange[cs]}\"\n",
    "        uptake_rate = uptake_dict[(strain, cs)]\n",
    "        if not uptake_rate:\n",
    "            continue\n",
    "        solution = reframed.pFBA(model, constraints={r_ex:(uptake_rate, uptake_rate)},\n",
    "                                objective=model.biomass_reaction)\n",
    "        turnover = solution.get_metabolites_turnover(model)\n",
    "        measured_mets, measured_metnames = metnames_dict[strain]\n",
    "        turnover_dict[(strain, cs)] = {m: turnover[m] for m in measured_mets}\n",
    "        # print(cs)\n",
    "        # solution.show_values('BIO')\n",
    "        # # solution.show_values(ex_id)\n",
    "        # solution.show_values('R_EX')\n",
    "        # print(\"####\")\n"
   ]
  },
  {
   "cell_type": "code",
   "execution_count": 65,
   "id": "271adb2d-756e-4346-9cbd-a904491bbcc4",
   "metadata": {
    "execution": {
     "iopub.execute_input": "2025-02-27T10:37:33.743763Z",
     "iopub.status.busy": "2025-02-27T10:37:33.741617Z",
     "iopub.status.idle": "2025-02-27T10:37:33.757094Z",
     "shell.execute_reply": "2025-02-27T10:37:33.756045Z",
     "shell.execute_reply.started": "2025-02-27T10:37:33.743675Z"
    }
   },
   "outputs": [],
   "source": [
    "nc_dict = {}\n",
    "mass_dict = {}\n",
    "for strain, model in strain_to_model.items():\n",
    "    measured_mets, measured_metnames = metnames_dict[strain]\n",
    "    for m_id in measured_mets:\n",
    "        m = model.metabolites[m_id]\n",
    "        element_dict = utils.get_element_dict(m)\n",
    "        nc_dict[(strain, m_id)] = element_dict['C']\n",
    "        mass_dict[(strain, m_id)] = utils.get_mol_weight(m)\n",
    "        "
   ]
  },
  {
   "cell_type": "code",
   "execution_count": 34,
   "id": "8549c76c-2115-46df-8349-765ebfbee49f",
   "metadata": {
    "execution": {
     "iopub.execute_input": "2025-02-27T10:27:38.521812Z",
     "iopub.status.busy": "2025-02-27T10:27:38.521699Z",
     "iopub.status.idle": "2025-02-27T10:27:38.528144Z",
     "shell.execute_reply": "2025-02-27T10:27:38.527701Z",
     "shell.execute_reply.started": "2025-02-27T10:27:38.521800Z"
    }
   },
   "outputs": [],
   "source": [
    "turnover_df = pd.DataFrame(turnover_dict).reset_index()\n",
    "turnover_dfL = turnover_df.melt(id_vars=[('index','')], value_vars=list(turnover_df.columns), \n",
    "                    value_name='Turnover [mmol/gDW/h]').rename(columns = {'variable_0':'Strain', \n",
    "                    'variable_1': 'Carbon source', ('index', ''):'Metabolite ID'})"
   ]
  },
  {
   "cell_type": "code",
   "execution_count": 36,
   "id": "da40d7dd-e0a1-4934-8ece-531693f8321a",
   "metadata": {
    "execution": {
     "iopub.execute_input": "2025-02-27T10:27:38.541181Z",
     "iopub.status.busy": "2025-02-27T10:27:38.541013Z",
     "iopub.status.idle": "2025-02-27T10:27:38.547298Z",
     "shell.execute_reply": "2025-02-27T10:27:38.546676Z",
     "shell.execute_reply.started": "2025-02-27T10:27:38.541168Z"
    }
   },
   "outputs": [],
   "source": [
    "mv_dfL = mv_df.melt(id_vars=[('index','')], value_vars=list(mv_df.columns), \n",
    "                    value_name='Metabolite value [gDW/mmol]').rename(columns = {'variable_0':'Strain', \n",
    "                    'variable_1': 'Carbon source', ('index', ''):'Metabolite ID'})\n",
    "\n"
   ]
  },
  {
   "cell_type": "code",
   "execution_count": 37,
   "id": "66fb9787-5c10-4207-825e-177628c72fe7",
   "metadata": {
    "execution": {
     "iopub.execute_input": "2025-02-27T10:27:38.548474Z",
     "iopub.status.busy": "2025-02-27T10:27:38.547949Z",
     "iopub.status.idle": "2025-02-27T10:27:38.554707Z",
     "shell.execute_reply": "2025-02-27T10:27:38.554097Z",
     "shell.execute_reply.started": "2025-02-27T10:27:38.548461Z"
    }
   },
   "outputs": [],
   "source": [
    "mvt_dfL = pd.merge(left=turnover_dfL, right = mv_dfL, left_on=('Metabolite ID', 'Strain', 'Carbon source'),\n",
    "                   right_on=('Metabolite ID', 'Strain', 'Carbon source'))\n",
    "\n"
   ]
  },
  {
   "cell_type": "code",
   "execution_count": 40,
   "id": "d21945ea-ffa1-49f8-8843-bfd6dd24b4dc",
   "metadata": {
    "execution": {
     "iopub.execute_input": "2025-02-27T10:28:02.270877Z",
     "iopub.status.busy": "2025-02-27T10:28:02.269910Z",
     "iopub.status.idle": "2025-02-27T10:28:02.283101Z",
     "shell.execute_reply": "2025-02-27T10:28:02.281803Z",
     "shell.execute_reply.started": "2025-02-27T10:28:02.270841Z"
    }
   },
   "outputs": [],
   "source": [
    "mvt_dfL['Metabolite ID'] = mvt_dfL['Metabolite ID'].str.replace('M_', '').str.replace('_c','')"
   ]
  },
  {
   "cell_type": "code",
   "execution_count": 44,
   "id": "4147f741-1c1c-46ae-95e5-db3e39993493",
   "metadata": {
    "execution": {
     "iopub.execute_input": "2025-02-27T10:28:55.983887Z",
     "iopub.status.busy": "2025-02-27T10:28:55.983160Z",
     "iopub.status.idle": "2025-02-27T10:28:55.995326Z",
     "shell.execute_reply": "2025-02-27T10:28:55.993589Z",
     "shell.execute_reply.started": "2025-02-27T10:28:55.983847Z"
    }
   },
   "outputs": [],
   "source": [
    "mvt_dfL['Metabolite'] = mvt_dfL['Metabolite ID'].map(translate_dict_r)"
   ]
  },
  {
   "cell_type": "code",
   "execution_count": 45,
   "id": "f76e7b3f-c031-4582-8720-37413dcd7502",
   "metadata": {
    "execution": {
     "iopub.execute_input": "2025-02-27T10:28:56.422242Z",
     "iopub.status.busy": "2025-02-27T10:28:56.421678Z",
     "iopub.status.idle": "2025-02-27T10:28:56.431111Z",
     "shell.execute_reply": "2025-02-27T10:28:56.429248Z",
     "shell.execute_reply.started": "2025-02-27T10:28:56.422207Z"
    }
   },
   "outputs": [],
   "source": [
    "df_meanrate.columns = ['Metabolite', 'Strain', 'Carbon source', 'Rate [mmol/gDW/h]',\n",
    "                      'Std. Err [mmol/gDW/h]','Std. Dev [mmol/gDW/h]']"
   ]
  },
  {
   "cell_type": "code",
   "execution_count": 47,
   "id": "b5da0c9a-51ed-4232-864e-4c6816c4fb2b",
   "metadata": {
    "execution": {
     "iopub.execute_input": "2025-02-27T10:29:03.681802Z",
     "iopub.status.busy": "2025-02-27T10:29:03.681275Z",
     "iopub.status.idle": "2025-02-27T10:29:03.696361Z",
     "shell.execute_reply": "2025-02-27T10:29:03.695200Z",
     "shell.execute_reply.started": "2025-02-27T10:29:03.681772Z"
    }
   },
   "outputs": [],
   "source": [
    "df = pd.merge(left = df_meanrate, right = mvt_dfL, left_on=('Metabolite', 'Strain', 'Carbon source'),\n",
    "             right_on=('Metabolite', 'Strain', 'Carbon source'))"
   ]
  },
  {
   "cell_type": "code",
   "execution_count": 48,
   "id": "7b88c4d5-37f2-4fdb-88bf-238281dcede8",
   "metadata": {
    "execution": {
     "iopub.execute_input": "2025-02-27T10:29:07.519692Z",
     "iopub.status.busy": "2025-02-27T10:29:07.519056Z",
     "iopub.status.idle": "2025-02-27T10:29:07.531736Z",
     "shell.execute_reply": "2025-02-27T10:29:07.530792Z",
     "shell.execute_reply.started": "2025-02-27T10:29:07.519656Z"
    }
   },
   "outputs": [
    {
     "name": "stderr",
     "output_type": "stream",
     "text": [
      "/Users/snorre/miniconda3/envs/reframed/lib/python3.9/site-packages/pandas/core/arraylike.py:399: RuntimeWarning: divide by zero encountered in log10\n",
      "  result = getattr(ufunc, method)(*inputs, **kwargs)\n"
     ]
    }
   ],
   "source": [
    "df['log10(Rate [mmol/gDW/h])'] = np.log10(df['Rate [mmol/gDW/h]'])\n",
    "df['log10(Metabolite value [gDW/mmol])'] = np.log10(df['Metabolite value [gDW/mmol]'])"
   ]
  },
  {
   "cell_type": "code",
   "execution_count": 49,
   "id": "e2c1f6b0-6e1c-48a8-9f6b-9c289595f33f",
   "metadata": {
    "execution": {
     "iopub.execute_input": "2025-02-27T10:29:09.136392Z",
     "iopub.status.busy": "2025-02-27T10:29:09.135801Z",
     "iopub.status.idle": "2025-02-27T10:29:09.148324Z",
     "shell.execute_reply": "2025-02-27T10:29:09.146299Z",
     "shell.execute_reply.started": "2025-02-27T10:29:09.136356Z"
    }
   },
   "outputs": [],
   "source": [
    "metname_translate_dict = {'Acetic acid': 'Acetate',\n",
    "'Acetyl-ornithine': 'Acetyl-ornithine',\n",
    "'Alanine': 'Alanine',\n",
    "'Asparagine': 'Asparagine',\n",
    "'Butyric acid': 'Butyrate',\n",
    "'Citric acid': 'Citrate',\n",
    "'Fumaric acid': 'Fumarate',\n",
    "'Glycine': 'Glycine',\n",
    "'Lactic acid': 'Lactate',\n",
    "'Methionine': 'Methionine',\n",
    "'Propionic acid': 'Propionate',\n",
    "'Putrescine': 'Putrescine',\n",
    "'Pyruvic acid': 'Pyruvate',\n",
    "'Serine': 'Serine',\n",
    "'Succinic acid': 'Succinate',\n",
    "'Valeric acid':'Valerate',\n",
    "'Valine': 'Valine',\n",
    "'alpha-Ketoglutaric acid': 'Alpha-ketoglutarate',\n",
    "'beta-Hydroxybutyric acid': 'Beta-hydroxybutyrate'}"
   ]
  },
  {
   "cell_type": "code",
   "execution_count": 50,
   "id": "6390344b-d7ec-45a6-8042-13b742cc9c31",
   "metadata": {
    "execution": {
     "iopub.execute_input": "2025-02-27T10:29:10.497181Z",
     "iopub.status.busy": "2025-02-27T10:29:10.496578Z",
     "iopub.status.idle": "2025-02-27T10:29:10.507036Z",
     "shell.execute_reply": "2025-02-27T10:29:10.505757Z",
     "shell.execute_reply.started": "2025-02-27T10:29:10.497146Z"
    }
   },
   "outputs": [],
   "source": [
    "df['Metabolite'] = df['Metabolite'].map(metname_translate_dict)"
   ]
  },
  {
   "cell_type": "code",
   "execution_count": 73,
   "id": "e3b90dd3-7bde-402c-a722-8e32e8c0498c",
   "metadata": {
    "execution": {
     "iopub.execute_input": "2025-02-27T10:40:25.931283Z",
     "iopub.status.busy": "2025-02-27T10:40:25.930329Z",
     "iopub.status.idle": "2025-02-27T10:40:25.956808Z",
     "shell.execute_reply": "2025-02-27T10:40:25.956053Z",
     "shell.execute_reply.started": "2025-02-27T10:40:25.931218Z"
    }
   },
   "outputs": [],
   "source": [
    "mass = []\n",
    "nc = []\n",
    "for i, row in df.iterrows():\n",
    "    m = f'M_{row[\"Metabolite ID\"]}_c'\n",
    "    try:\n",
    "        mass.append(mass_dict[(row['Strain'], m)])\n",
    "        nc.append(nc_dict[(row['Strain'], m)])\n",
    "    except KeyError:\n",
    "        mass.append(np.nan)\n",
    "        nc.append(np.nan)\n",
    "df['Mol weight [g/mol]'] = mass\n",
    "df['N carbons'] = nc"
   ]
  },
  {
   "cell_type": "code",
   "execution_count": 81,
   "id": "53934e4e-5b7d-4ca8-9ed3-0e3fd8dfb764",
   "metadata": {
    "execution": {
     "iopub.execute_input": "2025-02-27T10:44:29.436836Z",
     "iopub.status.busy": "2025-02-27T10:44:29.435582Z",
     "iopub.status.idle": "2025-02-27T10:44:29.451697Z",
     "shell.execute_reply": "2025-02-27T10:44:29.451010Z",
     "shell.execute_reply.started": "2025-02-27T10:44:29.436755Z"
    }
   },
   "outputs": [],
   "source": [
    "df['Dataset'] = 'Vila-23'"
   ]
  },
  {
   "cell_type": "code",
   "execution_count": 84,
   "id": "7f9ca789-2c97-466e-a8c4-3f9c61a19103",
   "metadata": {
    "execution": {
     "iopub.execute_input": "2025-02-27T10:45:10.404838Z",
     "iopub.status.busy": "2025-02-27T10:45:10.403819Z",
     "iopub.status.idle": "2025-02-27T10:45:10.419770Z",
     "shell.execute_reply": "2025-02-27T10:45:10.415770Z",
     "shell.execute_reply.started": "2025-02-27T10:45:10.404769Z"
    }
   },
   "outputs": [],
   "source": [
    "df.rename(columns={'Strain':'Species'}, inplace=True)"
   ]
  },
  {
   "cell_type": "markdown",
   "id": "04e7acaf-14b3-462f-b843-ee3ec69a01d8",
   "metadata": {},
   "source": [
    "# Store results"
   ]
  },
  {
   "cell_type": "code",
   "execution_count": 85,
   "id": "970dbc70-06fd-437b-8589-e3a582a0b89d",
   "metadata": {
    "execution": {
     "iopub.execute_input": "2025-02-27T10:45:13.199109Z",
     "iopub.status.busy": "2025-02-27T10:45:13.198523Z",
     "iopub.status.idle": "2025-02-27T10:45:13.214444Z",
     "shell.execute_reply": "2025-02-27T10:45:13.213473Z",
     "shell.execute_reply.started": "2025-02-27T10:45:13.199072Z"
    }
   },
   "outputs": [],
   "source": [
    "rates_fn = folder / 'vila_2023_rates_and_values.csv'\n",
    "df.to_csv(rates_fn)"
   ]
  },
  {
   "cell_type": "code",
   "execution_count": null,
   "id": "690c31ae-c62f-4a84-836b-40c3fb728c45",
   "metadata": {
    "execution": {
     "iopub.status.busy": "2025-02-27T10:27:38.752908Z",
     "iopub.status.idle": "2025-02-27T10:27:38.753102Z",
     "shell.execute_reply": "2025-02-27T10:27:38.752989Z",
     "shell.execute_reply.started": "2025-02-27T10:27:38.752982Z"
    }
   },
   "outputs": [],
   "source": [
    "df_notnan = df.replace(-np.inf, np.nan).dropna()"
   ]
  },
  {
   "cell_type": "code",
   "execution_count": null,
   "id": "291a682d-d810-459f-9ce1-92de7d30cfa6",
   "metadata": {
    "execution": {
     "iopub.status.busy": "2025-02-27T10:27:38.753633Z",
     "iopub.status.idle": "2025-02-27T10:27:38.753807Z",
     "shell.execute_reply": "2025-02-27T10:27:38.753707Z",
     "shell.execute_reply.started": "2025-02-27T10:27:38.753701Z"
    }
   },
   "outputs": [],
   "source": [
    "sns.lmplot(data = df_notnan, x = 'log10(Rate [mmol/gDW/h])',\n",
    "           y = 'log10(Metabolite value [gDW/mmol])', hue = 'Strain', col = 'Carbon source', col_wrap=1)\n"
   ]
  },
  {
   "cell_type": "code",
   "execution_count": null,
   "id": "cb4cf9f9-5279-4aee-8555-c24224ae8d54",
   "metadata": {
    "execution": {
     "iopub.status.busy": "2025-02-27T10:27:38.754917Z",
     "iopub.status.idle": "2025-02-27T10:27:38.755316Z",
     "shell.execute_reply": "2025-02-27T10:27:38.755202Z",
     "shell.execute_reply.started": "2025-02-27T10:27:38.755195Z"
    }
   },
   "outputs": [],
   "source": [
    "df.loc[df.isna().any(axis=1)]"
   ]
  },
  {
   "cell_type": "code",
   "execution_count": null,
   "id": "76201d88-984a-4f4b-a67f-dcd20d21d524",
   "metadata": {
    "execution": {
     "iopub.status.busy": "2025-02-27T10:27:38.755856Z",
     "iopub.status.idle": "2025-02-27T10:27:38.756031Z",
     "shell.execute_reply": "2025-02-27T10:27:38.755940Z",
     "shell.execute_reply.started": "2025-02-27T10:27:38.755934Z"
    }
   },
   "outputs": [],
   "source": [
    "for strain in df_notnan.Strain.unique():\n",
    "    # for cs in df_notnan['Carbon source'].unique():\n",
    "    idx = (df_notnan.Strain==strain) #& (df_notnan['Carbon source']==cs)\n",
    "    dfi = df_notnan.loc[idx]\n",
    "    x = dfi['log10(Rate [mmol/gDW/h])']\n",
    "    y = dfi['log10(Metabolite value [gDW/mmol])']\n",
    "    print(strain, cs, st.pearsonr(x,y))"
   ]
  },
  {
   "cell_type": "code",
   "execution_count": null,
   "id": "1bb3d5ae",
   "metadata": {
    "execution": {
     "iopub.status.busy": "2025-02-27T10:27:38.756600Z",
     "iopub.status.idle": "2025-02-27T10:27:38.756769Z",
     "shell.execute_reply": "2025-02-27T10:27:38.756670Z",
     "shell.execute_reply.started": "2025-02-27T10:27:38.756664Z"
    }
   },
   "outputs": [],
   "source": [
    "for strain in df_notnan.Strain.unique():\n",
    "    # for cs in df_notnan['Carbon source'].unique():\n",
    "    idx = (df_notnan.Strain==strain) #& (df_notnan['Carbon source']==cs)\n",
    "    dfi = df_notnan.loc[idx]\n",
    "    x = dfi['log10(Rate [mmol/gDW/h])']\n",
    "    y = dfi['log10(Metabolite value [gDW/mmol])']\n",
    "    print(strain, cs, st.pearsonr(x,y))"
   ]
  },
  {
   "cell_type": "code",
   "execution_count": null,
   "id": "ab94bea6-09a9-4db3-9f5a-d5117cf3d55d",
   "metadata": {
    "execution": {
     "iopub.status.busy": "2025-02-27T10:27:38.757830Z",
     "iopub.status.idle": "2025-02-27T10:27:38.757998Z",
     "shell.execute_reply": "2025-02-27T10:27:38.757895Z",
     "shell.execute_reply.started": "2025-02-27T10:27:38.757889Z"
    }
   },
   "outputs": [],
   "source": [
    "dfi"
   ]
  }
 ],
 "metadata": {
  "kernelspec": {
   "display_name": "Python 3 (ipykernel)",
   "language": "python",
   "name": "python3"
  },
  "language_info": {
   "codemirror_mode": {
    "name": "ipython",
    "version": 3
   },
   "file_extension": ".py",
   "mimetype": "text/x-python",
   "name": "python",
   "nbconvert_exporter": "python",
   "pygments_lexer": "ipython3",
   "version": "3.9.21"
  }
 },
 "nbformat": 4,
 "nbformat_minor": 5
}
