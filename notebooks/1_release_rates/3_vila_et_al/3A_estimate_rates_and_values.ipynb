{
 "cells": [
  {
   "cell_type": "code",
   "execution_count": 1,
   "id": "5a313a33-854b-4e0f-ae22-ae634d24471c",
   "metadata": {
    "execution": {
     "iopub.execute_input": "2025-02-23T22:02:29.749496Z",
     "iopub.status.busy": "2025-02-23T22:02:29.749079Z",
     "iopub.status.idle": "2025-02-23T22:02:31.583731Z",
     "shell.execute_reply": "2025-02-23T22:02:31.583387Z",
     "shell.execute_reply.started": "2025-02-23T22:02:29.749466Z"
    },
    "tags": []
   },
   "outputs": [],
   "source": [
    "import pandas as pd\n",
    "import numpy as np\n",
    "import reframed\n",
    "from pathlib import Path\n",
    "import seaborn as sns\n",
    "from matplotlib import pyplot as plt\n",
    "import scipy.stats as st\n",
    "import sys \n",
    "sys.path.append('../../../code/')\n",
    "import leakage\n",
    "from matplotlib.colors import LogNorm, Normalize\n",
    "\n",
    "from matplotlib import cm, colors\n",
    "import matplotlib.patches as mpatches\n",
    "import matplotlib.lines as mlines\n",
    "from collections import OrderedDict\n",
    "from matplotlib import pyplot as plt\n",
    "from sklearn import metrics"
   ]
  },
  {
   "cell_type": "code",
   "execution_count": 2,
   "id": "a57e5831-05a4-409e-b2d6-594978b7beb4",
   "metadata": {
    "execution": {
     "iopub.execute_input": "2025-02-23T22:02:31.584463Z",
     "iopub.status.busy": "2025-02-23T22:02:31.584188Z",
     "iopub.status.idle": "2025-02-23T22:02:31.588591Z",
     "shell.execute_reply": "2025-02-23T22:02:31.588242Z",
     "shell.execute_reply.started": "2025-02-23T22:02:31.584439Z"
    }
   },
   "outputs": [],
   "source": [
    "folder = Path('../../../data/vila_2023/')\n",
    "\n"
   ]
  },
  {
   "cell_type": "markdown",
   "id": "80e7f8f0-9944-49db-86b9-fc2372e0b71b",
   "metadata": {},
   "source": [
    "# Read in experimental data\n"
   ]
  },
  {
   "cell_type": "code",
   "execution_count": 3,
   "id": "95740cba-e558-42c5-9c3e-d81d65ba38e1",
   "metadata": {
    "execution": {
     "iopub.execute_input": "2025-02-23T22:02:31.590491Z",
     "iopub.status.busy": "2025-02-23T22:02:31.590288Z",
     "iopub.status.idle": "2025-02-23T22:02:31.596793Z",
     "shell.execute_reply": "2025-02-23T22:02:31.596504Z",
     "shell.execute_reply.started": "2025-02-23T22:02:31.590476Z"
    }
   },
   "outputs": [],
   "source": [
    "targeted_fn = folder / 'Targeted_LCMS.csv'\n",
    "dft = pd.read_csv(targeted_fn)\n",
    "dft.rename(columns = {'Carbon_Source': 'Carbon source', 'Metabolite_Conc': 'Concentration'}, inplace=True)"
   ]
  },
  {
   "cell_type": "code",
   "execution_count": 4,
   "id": "61373d9d-2f76-4c2e-807e-702466352aaa",
   "metadata": {
    "execution": {
     "iopub.execute_input": "2025-02-23T22:02:31.597286Z",
     "iopub.status.busy": "2025-02-23T22:02:31.597121Z",
     "iopub.status.idle": "2025-02-23T22:02:31.599823Z",
     "shell.execute_reply": "2025-02-23T22:02:31.599323Z",
     "shell.execute_reply.started": "2025-02-23T22:02:31.597265Z"
    }
   },
   "outputs": [],
   "source": [
    "exomet_carbon_sources = dft['Carbon source'].unique()"
   ]
  },
  {
   "cell_type": "code",
   "execution_count": 5,
   "id": "019b72d8-3d1e-4a23-8a11-b2f473a2a24f",
   "metadata": {
    "execution": {
     "iopub.execute_input": "2025-02-23T22:02:31.600387Z",
     "iopub.status.busy": "2025-02-23T22:02:31.600268Z",
     "iopub.status.idle": "2025-02-23T22:02:31.604694Z",
     "shell.execute_reply": "2025-02-23T22:02:31.604260Z",
     "shell.execute_reply.started": "2025-02-23T22:02:31.600376Z"
    }
   },
   "outputs": [],
   "source": [
    "growth_fn = folder / 'Growth_Rates_Fig2.csv'\n",
    "growth_df = pd.read_csv(growth_fn)"
   ]
  },
  {
   "cell_type": "code",
   "execution_count": 6,
   "id": "c9ecb9b4-2435-45a7-bd17-f5e3f4cddc93",
   "metadata": {
    "execution": {
     "iopub.execute_input": "2025-02-23T22:02:31.605277Z",
     "iopub.status.busy": "2025-02-23T22:02:31.605123Z",
     "iopub.status.idle": "2025-02-23T22:02:31.607766Z",
     "shell.execute_reply": "2025-02-23T22:02:31.607374Z",
     "shell.execute_reply.started": "2025-02-23T22:02:31.605263Z"
    }
   },
   "outputs": [],
   "source": [
    "sanger_to_strain = {\n",
    "    160: 'Enterobacter', # Targeted data\n",
    "    162: 'Pseudomonas', # Targeted data\n",
    "    360: 'Enterobacter', # Untargeted data\n",
    "    449: 'Pseudomonas' # Untargeted data\n",
    "}"
   ]
  },
  {
   "cell_type": "code",
   "execution_count": 7,
   "id": "bb0e4c98-4cf2-4ab9-8fe1-255f83c60ac5",
   "metadata": {
    "execution": {
     "iopub.execute_input": "2025-02-23T22:02:31.608637Z",
     "iopub.status.busy": "2025-02-23T22:02:31.608512Z",
     "iopub.status.idle": "2025-02-23T22:02:31.611902Z",
     "shell.execute_reply": "2025-02-23T22:02:31.611565Z",
     "shell.execute_reply.started": "2025-02-23T22:02:31.608626Z"
    }
   },
   "outputs": [],
   "source": [
    "# For this analysis we are only interested in the targeted data\n",
    "growth_df = growth_df.loc[growth_df.SangerID.isin([160, 162])]"
   ]
  },
  {
   "cell_type": "markdown",
   "id": "99b68d8e-92d7-45a1-a072-b7cb0763acde",
   "metadata": {
    "execution": {
     "iopub.execute_input": "2025-02-19T19:23:53.463678Z",
     "iopub.status.busy": "2025-02-19T19:23:53.463133Z",
     "iopub.status.idle": "2025-02-19T19:23:53.477744Z",
     "shell.execute_reply": "2025-02-19T19:23:53.475990Z",
     "shell.execute_reply.started": "2025-02-19T19:23:53.463646Z"
    }
   },
   "source": [
    "# Estimate biomass AUC at 16h\n",
    "We have to predict the Biomass AUC from estimated rates, carrying capacity and initial abundance since we don't have the time-series data. However, since we know that they have fitted a logistic function using growthcurver (https://bmcbioinformatics.biomedcentral.com/articles/10.1186/s12859-016-1016-7), we can use this function to get the auc after 16h (which corresponds to their first timepoint, more or less at the end of exponential phase).\n"
   ]
  },
  {
   "cell_type": "code",
   "execution_count": 8,
   "id": "3a606a81-45c0-42e1-a423-ac0df406c2c7",
   "metadata": {
    "execution": {
     "iopub.execute_input": "2025-02-23T22:02:31.612511Z",
     "iopub.status.busy": "2025-02-23T22:02:31.612408Z",
     "iopub.status.idle": "2025-02-23T22:02:31.615433Z",
     "shell.execute_reply": "2025-02-23T22:02:31.614829Z",
     "shell.execute_reply.started": "2025-02-23T22:02:31.612500Z"
    }
   },
   "outputs": [],
   "source": [
    "# Compensate for N0 not being at T=0 (T0 = 1)\n",
    "growth_df['T'] = growth_df.T16 - growth_df.T0"
   ]
  },
  {
   "cell_type": "markdown",
   "id": "73b4498b-ae20-468f-9471-72f058446c72",
   "metadata": {},
   "source": [
    "### Define logistic function (as defined in growthcurver) and the integral of that function"
   ]
  },
  {
   "cell_type": "code",
   "execution_count": 9,
   "id": "1bfb2ce9-17e6-4627-a13a-b9aea64e92bc",
   "metadata": {
    "execution": {
     "iopub.execute_input": "2025-02-23T22:02:31.616701Z",
     "iopub.status.busy": "2025-02-23T22:02:31.616296Z",
     "iopub.status.idle": "2025-02-23T22:02:31.619796Z",
     "shell.execute_reply": "2025-02-23T22:02:31.619461Z",
     "shell.execute_reply.started": "2025-02-23T22:02:31.616686Z"
    }
   },
   "outputs": [],
   "source": [
    "def logistic_auc(t1,t0, K, r, N0):\n",
    "    return logistic_integral(t1,K,r,N0)-logistic_integral(t0,K,r,N0)\n",
    "    \n",
    "def logistic_integral(t, K, r, N0):\n",
    "    return K*t + (K/r)*np.log(1+(((K-N0)/N0))*np.exp(-1*r*t))\n",
    "    \n",
    "\n",
    "def logistic(t, K, r, N0):\n",
    "    return K/(1+((K-N0)/N0*np.exp(-1*r*t)))\n",
    "    "
   ]
  },
  {
   "cell_type": "code",
   "execution_count": 10,
   "id": "03b05128-d675-4deb-9276-2187fbc00031",
   "metadata": {
    "execution": {
     "iopub.execute_input": "2025-02-23T22:02:31.620584Z",
     "iopub.status.busy": "2025-02-23T22:02:31.620388Z",
     "iopub.status.idle": "2025-02-23T22:02:31.624021Z",
     "shell.execute_reply": "2025-02-23T22:02:31.623613Z",
     "shell.execute_reply.started": "2025-02-23T22:02:31.620570Z"
    }
   },
   "outputs": [],
   "source": [
    "# gcr is the growth rate obtained from growthcurver \n",
    "growth_df['AUC16'] = growth_df.apply(lambda x: logistic_auc(t1 = x['T'],t0 = 0, K = x['max_OD'], r = x['gcr'], N0 = x['N0']), axis=1)"
   ]
  },
  {
   "cell_type": "code",
   "execution_count": 11,
   "id": "10037d48-2c60-4ceb-ba61-5c0a41608675",
   "metadata": {
    "execution": {
     "iopub.execute_input": "2025-02-23T22:02:31.624610Z",
     "iopub.status.busy": "2025-02-23T22:02:31.624486Z",
     "iopub.status.idle": "2025-02-23T22:02:31.626688Z",
     "shell.execute_reply": "2025-02-23T22:02:31.626312Z",
     "shell.execute_reply.started": "2025-02-23T22:02:31.624600Z"
    }
   },
   "outputs": [],
   "source": [
    "gDW_per_OD = {\n",
    "    'Enterobacter': 0.346, # Use same as for E. coli in galactose\n",
    "    'Pseudomonas': np.mean([0.448, 0.505]) #pmc.ncbi.nlm.nih.gov/articles/PMC7809481/ https://pmc.ncbi.nlm.nih.gov/articles/PMC4656820\n",
    "}"
   ]
  },
  {
   "cell_type": "code",
   "execution_count": 12,
   "id": "0328fb0f-b852-4229-a42b-6fd3026244ba",
   "metadata": {
    "execution": {
     "iopub.execute_input": "2025-02-23T22:02:31.630804Z",
     "iopub.status.busy": "2025-02-23T22:02:31.630644Z",
     "iopub.status.idle": "2025-02-23T22:02:31.633304Z",
     "shell.execute_reply": "2025-02-23T22:02:31.632950Z",
     "shell.execute_reply.started": "2025-02-23T22:02:31.630792Z"
    }
   },
   "outputs": [],
   "source": [
    "growth_df['Strain'] = growth_df['SangerID'].map(sanger_to_strain)"
   ]
  },
  {
   "cell_type": "code",
   "execution_count": 13,
   "id": "ab9e42e7-38ed-4bf1-8c22-de715b0be6ee",
   "metadata": {
    "execution": {
     "iopub.execute_input": "2025-02-23T22:02:31.634226Z",
     "iopub.status.busy": "2025-02-23T22:02:31.633943Z",
     "iopub.status.idle": "2025-02-23T22:02:31.637365Z",
     "shell.execute_reply": "2025-02-23T22:02:31.636668Z",
     "shell.execute_reply.started": "2025-02-23T22:02:31.634204Z"
    }
   },
   "outputs": [],
   "source": [
    "growth_df['AUC16gDW'] = growth_df.AUC16*growth_df.Strain.map(gDW_per_OD)"
   ]
  },
  {
   "cell_type": "markdown",
   "id": "fd79311c-f60a-42cf-b9d8-482861746e2b",
   "metadata": {},
   "source": [
    "# Estimate rates"
   ]
  },
  {
   "cell_type": "code",
   "execution_count": 14,
   "id": "fd68a284-f192-45e7-8cfd-619374924c31",
   "metadata": {
    "execution": {
     "iopub.execute_input": "2025-02-23T22:02:31.638144Z",
     "iopub.status.busy": "2025-02-23T22:02:31.637972Z",
     "iopub.status.idle": "2025-02-23T22:02:31.644527Z",
     "shell.execute_reply": "2025-02-23T22:02:31.644141Z",
     "shell.execute_reply.started": "2025-02-23T22:02:31.638133Z"
    }
   },
   "outputs": [],
   "source": [
    "idx = (dft.Timepoint==16)&(dft.Strain.isin(['Enterobacter', 'Pseudomonas']))\n",
    "df_rate = pd.merge(left=dft.loc[idx], right = growth_df, left_on=('Carbon source', 'Strain'), right_on=('CS', 'Strain'), how = 'left')"
   ]
  },
  {
   "cell_type": "code",
   "execution_count": 15,
   "id": "313366e8-9ea3-4a74-9f6f-e852242bf270",
   "metadata": {
    "execution": {
     "iopub.execute_input": "2025-02-23T22:02:31.645119Z",
     "iopub.status.busy": "2025-02-23T22:02:31.645016Z",
     "iopub.status.idle": "2025-02-23T22:02:31.647869Z",
     "shell.execute_reply": "2025-02-23T22:02:31.647398Z",
     "shell.execute_reply.started": "2025-02-23T22:02:31.645108Z"
    }
   },
   "outputs": [],
   "source": [
    "df_rate['Rate [mmol/gDW/h]'] = df_rate.Concentration/df_rate.AUC16gDW*1e-3 # 1e-3 to convert from uM to mM"
   ]
  },
  {
   "cell_type": "code",
   "execution_count": 16,
   "id": "b3757ada-9eea-4ad2-82c8-c95bf878ebb7",
   "metadata": {
    "execution": {
     "iopub.execute_input": "2025-02-23T22:02:31.648781Z",
     "iopub.status.busy": "2025-02-23T22:02:31.648522Z",
     "iopub.status.idle": "2025-02-23T22:02:31.655359Z",
     "shell.execute_reply": "2025-02-23T22:02:31.654869Z",
     "shell.execute_reply.started": "2025-02-23T22:02:31.648766Z"
    }
   },
   "outputs": [],
   "source": [
    "df_meanrate = df_rate.groupby(['Metabolite', 'Strain', 'Carbon source']).agg({'Rate [mmol/gDW/h]': ('mean', 'sem', 'std')}).reset_index()"
   ]
  },
  {
   "cell_type": "markdown",
   "id": "f7483a6f-32c6-4022-805f-4e4ab8b58b9c",
   "metadata": {
    "execution": {
     "iopub.execute_input": "2025-02-19T22:14:38.256856Z",
     "iopub.status.busy": "2025-02-19T22:14:38.255726Z",
     "iopub.status.idle": "2025-02-19T22:14:38.287177Z",
     "shell.execute_reply": "2025-02-19T22:14:38.286511Z",
     "shell.execute_reply.started": "2025-02-19T22:14:38.256751Z"
    }
   },
   "source": [
    "# Load metabolic models to estimate values"
   ]
  },
  {
   "cell_type": "code",
   "execution_count": 17,
   "id": "1ae5af24-6af4-40aa-a3cd-b6a98362ba7d",
   "metadata": {
    "execution": {
     "iopub.execute_input": "2025-02-23T22:02:31.656339Z",
     "iopub.status.busy": "2025-02-23T22:02:31.656203Z",
     "iopub.status.idle": "2025-02-23T22:02:32.911812Z",
     "shell.execute_reply": "2025-02-23T22:02:32.911485Z",
     "shell.execute_reply.started": "2025-02-23T22:02:31.656327Z"
    }
   },
   "outputs": [],
   "source": [
    "model_ez = reframed.load_cbmodel('../../../models/e_coli/momentiJO1366_modified.xml')\n",
    "model_ez.solver = 'gurobi'\n",
    "model_ez.reactions.R_EX_glc__D_e.lb = 0"
   ]
  },
  {
   "cell_type": "code",
   "execution_count": 18,
   "id": "b533ec05-e6e1-458e-80f7-d21efe2b0f15",
   "metadata": {
    "execution": {
     "iopub.execute_input": "2025-02-23T22:02:32.912391Z",
     "iopub.status.busy": "2025-02-23T22:02:32.912277Z",
     "iopub.status.idle": "2025-02-23T22:02:34.662310Z",
     "shell.execute_reply": "2025-02-23T22:02:34.661856Z",
     "shell.execute_reply.started": "2025-02-23T22:02:32.912380Z"
    }
   },
   "outputs": [],
   "source": [
    "model_pp_fn = '../../../models/p_putida/eciJN1463_uniprot_AutoPACMEN.xml'\n",
    "# '../../../models/p_putida/iJN1463.xml'\n",
    "model_pp = reframed.load_cbmodel(model_pp_fn)\n",
    "\n",
    "\n",
    "model_pp.solver = 'gurobi'\n",
    "\n",
    "model_pp.reactions.R_EX_glc__D_e.lb = 0"
   ]
  },
  {
   "cell_type": "markdown",
   "id": "3a7e9478-6eee-4f92-a2c8-c1206bd11c8c",
   "metadata": {},
   "source": [
    "### Verify that models have all corbon source uptake blocked"
   ]
  },
  {
   "cell_type": "code",
   "execution_count": 19,
   "id": "920d5f39-5a61-4b7a-887c-4c4ae97d618a",
   "metadata": {
    "execution": {
     "iopub.execute_input": "2025-02-23T22:02:34.662828Z",
     "iopub.status.busy": "2025-02-23T22:02:34.662734Z",
     "iopub.status.idle": "2025-02-23T22:02:34.723900Z",
     "shell.execute_reply": "2025-02-23T22:02:34.723611Z",
     "shell.execute_reply.started": "2025-02-23T22:02:34.662817Z"
    }
   },
   "outputs": [
    {
     "name": "stdout",
     "output_type": "stream",
     "text": [
      "Set parameter Username\n",
      "Set parameter LicenseID to value 2586336\n",
      "Academic license - for non-commercial use only - expires 2025-11-18\n"
     ]
    },
    {
     "data": {
      "text/plain": [
       "Objective: None\n",
       "Status: Infeasible or Unbounded"
      ]
     },
     "execution_count": 19,
     "metadata": {},
     "output_type": "execute_result"
    }
   ],
   "source": [
    "reframed.FBA(model_ez, objective=model_ez.biomass_reaction)"
   ]
  },
  {
   "cell_type": "code",
   "execution_count": 20,
   "id": "e56e0f80-6824-4e0d-a27b-ff629cdd714a",
   "metadata": {
    "execution": {
     "iopub.execute_input": "2025-02-23T22:02:34.724667Z",
     "iopub.status.busy": "2025-02-23T22:02:34.724537Z",
     "iopub.status.idle": "2025-02-23T22:02:34.890249Z",
     "shell.execute_reply": "2025-02-23T22:02:34.889956Z",
     "shell.execute_reply.started": "2025-02-23T22:02:34.724655Z"
    }
   },
   "outputs": [
    {
     "data": {
      "text/plain": [
       "Objective: None\n",
       "Status: Infeasible or Unbounded"
      ]
     },
     "execution_count": 20,
     "metadata": {},
     "output_type": "execute_result"
    }
   ],
   "source": [
    "reframed.FBA(model_pp, objective=model_pp.biomass_reaction)"
   ]
  },
  {
   "cell_type": "code",
   "execution_count": 21,
   "id": "d94caa69-b338-4e5d-a5a8-d51e9bd0a169",
   "metadata": {
    "execution": {
     "iopub.execute_input": "2025-02-23T22:02:34.890784Z",
     "iopub.status.busy": "2025-02-23T22:02:34.890691Z",
     "iopub.status.idle": "2025-02-23T22:02:34.892847Z",
     "shell.execute_reply": "2025-02-23T22:02:34.892505Z",
     "shell.execute_reply.started": "2025-02-23T22:02:34.890773Z"
    }
   },
   "outputs": [],
   "source": [
    "strain_to_model = {\n",
    "    'Enterobacter': model_ez,\n",
    "    'Pseudomonas': model_pp,\n",
    "}"
   ]
  },
  {
   "cell_type": "markdown",
   "id": "9b018286-555b-4a39-bead-159ebfe0910f",
   "metadata": {
    "execution": {
     "iopub.execute_input": "2025-02-19T22:34:01.479469Z",
     "iopub.status.busy": "2025-02-19T22:34:01.478482Z",
     "iopub.status.idle": "2025-02-19T22:34:01.499776Z",
     "shell.execute_reply": "2025-02-19T22:34:01.498465Z",
     "shell.execute_reply.started": "2025-02-19T22:34:01.479416Z"
    }
   },
   "source": [
    "# Mapping of metabolite names to bigg ids\n"
   ]
  },
  {
   "cell_type": "code",
   "execution_count": 22,
   "id": "0c925969-4df9-44ca-9627-711a1e4206bd",
   "metadata": {
    "execution": {
     "iopub.execute_input": "2025-02-23T22:02:34.893262Z",
     "iopub.status.busy": "2025-02-23T22:02:34.893169Z",
     "iopub.status.idle": "2025-02-23T22:02:34.895984Z",
     "shell.execute_reply": "2025-02-23T22:02:34.895508Z",
     "shell.execute_reply.started": "2025-02-23T22:02:34.893252Z"
    }
   },
   "outputs": [],
   "source": [
    "translate_dict = {'alpha-Ketoglutaric acid': 'akg',\n",
    "'Butyric acid': 'but',\n",
    "'Valine': 'val__L',\n",
    "'Pyruvic acid': 'pyr',\n",
    "'Propionic acid': 'ppa',\n",
    "'Acetyl-ornithine': 'acorn',\n",
    "'Alanine': 'ala__L',\n",
    "'Acetic acid': 'ac',\n",
    "'Asparagine': 'asn__L',\n",
    "'beta-Hydroxybutyric acid': 'bhb',\n",
    "'Serine': 'ser__L',\n",
    "'Glycine': 'gly',\n",
    "'Succinic acid': 'succ',\n",
    "'Methionine': 'met__L',\n",
    "'Fumaric acid': 'fum',\n",
    "'Valeric acid': 'pta',\n",
    "'Citric acid': 'cit',\n",
    "'Lactic acid': 'lac__L',\n",
    "'Putrescine':  'ptrc',\n",
    "'Hippuric acid': 'bgly'}\n",
    "translate_dict_r = {value:key for key, value in translate_dict.items()}"
   ]
  },
  {
   "cell_type": "code",
   "execution_count": 23,
   "id": "02596982-72f2-420f-afef-620d4328fd87",
   "metadata": {
    "execution": {
     "iopub.execute_input": "2025-02-23T22:02:34.896728Z",
     "iopub.status.busy": "2025-02-23T22:02:34.896579Z",
     "iopub.status.idle": "2025-02-23T22:02:34.899647Z",
     "shell.execute_reply": "2025-02-23T22:02:34.899033Z",
     "shell.execute_reply.started": "2025-02-23T22:02:34.896716Z"
    }
   },
   "outputs": [],
   "source": [
    "cs_to_exchange = {'D-Glucose': 'EX_glc__D_e',\n",
    "                'D-Lactate': 'EX_lac__D_e',\n",
    "                'Citrate': 'EX_cit_e',\n",
    "                '2-Oxoglutarate': 'EX_akg_e',\n",
    "                'Succinate': 'EX_succ_e',\n",
    "                'Fumarate': 'EX_fum_e',\n",
    "                'L-Malate': 'EX_mal__L_e',\n",
    "                'L-Glutamine': 'EX_gln__L_e',\n",
    "                'Acetate': 'EX_ac_e',\n",
    "                'D-Galactose': 'EX_gal_e',\n",
    "                'D-Ribose': 'EX_rib__D_e',\n",
    "                'L-Arabinose': 'EX_arab__L_e',\n",
    "                'Glycerol': 'EX_glyc_e',\n",
    "                'D-Gluconate': 'EX_glcn_e',\n",
    "                '2-Ketogluconate': 'EX_25dkglcn_e',\n",
    "                'Pyruvate': 'EX_pyr_e',\n",
    "                'D-Fructose': 'EX_fru_e'}\n"
   ]
  },
  {
   "cell_type": "code",
   "execution_count": 24,
   "id": "d83f4c98-e1b8-4bbc-961f-8af33ec9555c",
   "metadata": {
    "execution": {
     "iopub.execute_input": "2025-02-23T22:02:34.900517Z",
     "iopub.status.busy": "2025-02-23T22:02:34.900318Z",
     "iopub.status.idle": "2025-02-23T22:02:34.903465Z",
     "shell.execute_reply": "2025-02-23T22:02:34.903004Z",
     "shell.execute_reply.started": "2025-02-23T22:02:34.900498Z"
    }
   },
   "outputs": [
    {
     "name": "stdout",
     "output_type": "stream",
     "text": [
      "beta-Hydroxybutyric acid not in model\n",
      "Valeric acid not in model\n",
      "Hippuric acid not in model\n"
     ]
    }
   ],
   "source": [
    "measured_mets_ez = []\n",
    "measured_metnames_ez = []\n",
    "for key, value in translate_dict.items():\n",
    "    m_id = f'M_{value}_c'\n",
    "    try:\n",
    "        m = model_ez.metabolites[m_id]\n",
    "    except KeyError:\n",
    "        print(f'{key} not in model')\n",
    "    else:\n",
    "        measured_mets_ez.append(m_id)\n",
    "        measured_metnames_ez.append(key)"
   ]
  },
  {
   "cell_type": "code",
   "execution_count": 25,
   "id": "2a8d7cce-e492-40c6-bb66-1bbba38428e4",
   "metadata": {
    "execution": {
     "iopub.execute_input": "2025-02-23T22:02:34.904152Z",
     "iopub.status.busy": "2025-02-23T22:02:34.904044Z",
     "iopub.status.idle": "2025-02-23T22:02:34.907007Z",
     "shell.execute_reply": "2025-02-23T22:02:34.906445Z",
     "shell.execute_reply.started": "2025-02-23T22:02:34.904141Z"
    }
   },
   "outputs": [
    {
     "name": "stdout",
     "output_type": "stream",
     "text": [
      "Hippuric acid not in model\n"
     ]
    }
   ],
   "source": [
    "measured_mets_pp = []\n",
    "measured_metnames_pp = []\n",
    "for key, value in translate_dict.items():\n",
    "    m_id = f'M_{value}_c'\n",
    "    try:\n",
    "        m = model_pp.metabolites[m_id]\n",
    "    except KeyError:\n",
    "        print(f'{key} not in model')\n",
    "    else:\n",
    "        measured_mets_pp.append(m_id)\n",
    "        measured_metnames_pp.append(key)"
   ]
  },
  {
   "cell_type": "code",
   "execution_count": 26,
   "id": "bc7ec1b8-1ad5-4fbd-aa65-0f52cabfd304",
   "metadata": {
    "execution": {
     "iopub.execute_input": "2025-02-23T22:02:34.907818Z",
     "iopub.status.busy": "2025-02-23T22:02:34.907697Z",
     "iopub.status.idle": "2025-02-23T22:02:34.909946Z",
     "shell.execute_reply": "2025-02-23T22:02:34.909521Z",
     "shell.execute_reply.started": "2025-02-23T22:02:34.907806Z"
    }
   },
   "outputs": [],
   "source": [
    "metnames_dict = {\n",
    "    'Enterobacter': (measured_mets_ez, measured_metnames_ez),\n",
    "    'Pseudomonas': (measured_mets_pp, measured_metnames_pp)\n",
    "}"
   ]
  },
  {
   "cell_type": "code",
   "execution_count": 27,
   "id": "3a42dddc-d325-47e5-bc7a-caf5fe606fad",
   "metadata": {
    "execution": {
     "iopub.execute_input": "2025-02-23T22:02:34.910513Z",
     "iopub.status.busy": "2025-02-23T22:02:34.910414Z",
     "iopub.status.idle": "2025-02-23T22:02:34.913573Z",
     "shell.execute_reply": "2025-02-23T22:02:34.913218Z",
     "shell.execute_reply.started": "2025-02-23T22:02:34.910503Z"
    }
   },
   "outputs": [
    {
     "data": {
      "text/plain": [
       "array(['D-Glucose', 'L-Malate', 'D-Fructose', 'Glycerol', 'Pyruvate'],\n",
       "      dtype=object)"
      ]
     },
     "execution_count": 27,
     "metadata": {},
     "output_type": "execute_result"
    }
   ],
   "source": [
    "df_rate['Carbon source'].unique()"
   ]
  },
  {
   "cell_type": "markdown",
   "id": "cc296b5c-c8e2-4885-8149-95acaac65791",
   "metadata": {},
   "source": [
    "## Estimate uptake rates from maximum growth rates\n"
   ]
  },
  {
   "cell_type": "code",
   "execution_count": 28,
   "id": "093bcd0e-b200-4abd-8f6f-5ca198e9dc6a",
   "metadata": {
    "execution": {
     "iopub.execute_input": "2025-02-23T22:02:34.914306Z",
     "iopub.status.busy": "2025-02-23T22:02:34.914168Z",
     "iopub.status.idle": "2025-02-23T22:02:36.395241Z",
     "shell.execute_reply": "2025-02-23T22:02:36.394848Z",
     "shell.execute_reply.started": "2025-02-23T22:02:34.914294Z"
    }
   },
   "outputs": [
    {
     "name": "stdout",
     "output_type": "stream",
     "text": [
      "D-Glucose Enterobacter\n",
      "D-Fructose Enterobacter\n",
      "D-Galactose Enterobacter\n",
      "D-Ribose Enterobacter\n",
      "L-Arabinose Enterobacter\n",
      "Glycerol Enterobacter\n",
      "Pyruvate Enterobacter\n",
      "Succinate Enterobacter\n",
      "Fumarate Enterobacter\n",
      "L-Malate Enterobacter\n",
      "Acetate Enterobacter\n",
      "D-Glucose Pseudomonas\n",
      "D-Fructose Pseudomonas\n",
      "R_EX_gal_e not in eciJN1463_uniprot_AutoPACMEN\n",
      "D-Ribose Pseudomonas\n",
      "R_EX_arab__L_e not in eciJN1463_uniprot_AutoPACMEN\n",
      "Glycerol Pseudomonas\n",
      "Pyruvate Pseudomonas\n",
      "Succinate Pseudomonas\n",
      "Fumarate Pseudomonas\n",
      "L-Malate Pseudomonas\n",
      "Acetate Pseudomonas\n"
     ]
    }
   ],
   "source": [
    "uptake_rates = []\n",
    "uptake_dict = {}\n",
    "for i, row in growth_df.iterrows():\n",
    "    if not row['CS'] in exomet_carbon_sources:\n",
    "        uptake_rates.append(np.nan)\n",
    "        # Not interested in these\n",
    "        continue\n",
    "    \n",
    "    model = strain_to_model[row['Strain']]\n",
    "    r_ex = f\"R_{cs_to_exchange[row['CS']]}\"\n",
    "\n",
    "    if not r_ex in model.reactions:\n",
    "        print(f'{r_ex} not in {model.id}')\n",
    "        uptake_rates.append(np.nan)\n",
    "        continue\n",
    "    \n",
    "    growth_rate = row['r']\n",
    "    print(row['CS'], row['Strain'])\n",
    "    sol = reframed.FBA(model, constraints = {r_ex:(-10,0), model.biomass_reaction:(growth_rate,growth_rate)},\n",
    "                      objective = {r_ex:1})\n",
    "    uptake_rates.append(sol.fobj)\n",
    "    uptake_dict[(row['Strain'], row['CS'])] = sol.fobj\n",
    "    "
   ]
  },
  {
   "cell_type": "code",
   "execution_count": 29,
   "id": "11217098-a7c6-4725-a8c7-f54b1ceffd8c",
   "metadata": {
    "execution": {
     "iopub.execute_input": "2025-02-23T22:02:36.395854Z",
     "iopub.status.busy": "2025-02-23T22:02:36.395734Z",
     "iopub.status.idle": "2025-02-23T22:02:36.398877Z",
     "shell.execute_reply": "2025-02-23T22:02:36.398330Z",
     "shell.execute_reply.started": "2025-02-23T22:02:36.395843Z"
    }
   },
   "outputs": [],
   "source": [
    "growth_df['Uptake rate'] = uptake_rates"
   ]
  },
  {
   "cell_type": "markdown",
   "id": "6d85b746-5f46-4d0d-b479-c90113ca2ad8",
   "metadata": {},
   "source": [
    "# Now calaculate shadow prices\n",
    "Can't estimate shadow price / metabolite value for butyrate because all reactions related to butyrate are blocked. "
   ]
  },
  {
   "cell_type": "code",
   "execution_count": 30,
   "id": "1a502057-62ca-4550-8072-14dcc8c7be80",
   "metadata": {
    "execution": {
     "iopub.execute_input": "2025-02-23T22:02:36.399694Z",
     "iopub.status.busy": "2025-02-23T22:02:36.399545Z",
     "iopub.status.idle": "2025-02-23T22:02:55.790120Z",
     "shell.execute_reply": "2025-02-23T22:02:55.789730Z",
     "shell.execute_reply.started": "2025-02-23T22:02:36.399680Z"
    }
   },
   "outputs": [],
   "source": [
    "sp_dict = {}\n",
    "for strain, model in strain_to_model.items():\n",
    "    dfs = df_rate.loc[df_rate.Strain==strain]\n",
    "    for cs in dfs['Carbon source'].unique():\n",
    "        r_ex = f\"R_{cs_to_exchange[cs]}\"\n",
    "        uptake_rate = uptake_dict[(strain, cs)]\n",
    "        if not uptake_rate:\n",
    "            continue\n",
    "        measured_mets, measured_metnames = metnames_dict[strain]\n",
    "        sp_dict[(strain, cs)] = leakage.estimate_shadow_prices_reframed(model, \n",
    "                                constraints={r_ex:(uptake_rate, uptake_rate)},\n",
    "                                delta = 0.01, metabolites=measured_mets)\n"
   ]
  },
  {
   "cell_type": "code",
   "execution_count": 31,
   "id": "2b9c53d9-9ac8-4d56-a23f-719fa03c5db5",
   "metadata": {
    "execution": {
     "iopub.execute_input": "2025-02-23T22:02:55.790864Z",
     "iopub.status.busy": "2025-02-23T22:02:55.790733Z",
     "iopub.status.idle": "2025-02-23T22:02:55.794200Z",
     "shell.execute_reply": "2025-02-23T22:02:55.793899Z",
     "shell.execute_reply.started": "2025-02-23T22:02:55.790854Z"
    }
   },
   "outputs": [],
   "source": [
    "mv_df = (pd.DataFrame(sp_dict)*-1).reset_index()"
   ]
  },
  {
   "cell_type": "code",
   "execution_count": 32,
   "id": "5235d965-258c-4382-8db6-2a0b0be760d8",
   "metadata": {
    "execution": {
     "iopub.execute_input": "2025-02-23T22:02:55.794758Z",
     "iopub.status.busy": "2025-02-23T22:02:55.794656Z",
     "iopub.status.idle": "2025-02-23T22:02:55.798285Z",
     "shell.execute_reply": "2025-02-23T22:02:55.797890Z",
     "shell.execute_reply.started": "2025-02-23T22:02:55.794748Z"
    }
   },
   "outputs": [
    {
     "data": {
      "text/plain": [
       "MultiIndex([(       'index',           ''),\n",
       "            ('Enterobacter',  'D-Glucose'),\n",
       "            ('Enterobacter',   'L-Malate'),\n",
       "            ('Enterobacter', 'D-Fructose'),\n",
       "            ('Enterobacter',   'Glycerol'),\n",
       "            ('Enterobacter',   'Pyruvate'),\n",
       "            ( 'Pseudomonas',  'D-Glucose'),\n",
       "            ( 'Pseudomonas',   'L-Malate'),\n",
       "            ( 'Pseudomonas', 'D-Fructose'),\n",
       "            ( 'Pseudomonas',   'Glycerol'),\n",
       "            ( 'Pseudomonas',   'Pyruvate')],\n",
       "           )"
      ]
     },
     "execution_count": 32,
     "metadata": {},
     "output_type": "execute_result"
    }
   ],
   "source": [
    "mv_df.columns"
   ]
  },
  {
   "cell_type": "code",
   "execution_count": 33,
   "id": "da40d7dd-e0a1-4934-8ece-531693f8321a",
   "metadata": {
    "execution": {
     "iopub.execute_input": "2025-02-23T22:02:55.799042Z",
     "iopub.status.busy": "2025-02-23T22:02:55.798897Z",
     "iopub.status.idle": "2025-02-23T22:02:55.804446Z",
     "shell.execute_reply": "2025-02-23T22:02:55.804081Z",
     "shell.execute_reply.started": "2025-02-23T22:02:55.799031Z"
    }
   },
   "outputs": [],
   "source": [
    "mv_dfL = mv_df.melt(id_vars=[('index','')], value_vars=list(mv_df.columns), \n",
    "                    value_name='Metabolite value [gDW/mmol]').rename(columns = {'variable_0':'Strain', \n",
    "                    'variable_1': 'Carbon source', ('index', ''):'Metabolite ID'})\n",
    "\n"
   ]
  },
  {
   "cell_type": "code",
   "execution_count": 34,
   "id": "d21945ea-ffa1-49f8-8843-bfd6dd24b4dc",
   "metadata": {
    "execution": {
     "iopub.execute_input": "2025-02-23T22:02:55.805087Z",
     "iopub.status.busy": "2025-02-23T22:02:55.804931Z",
     "iopub.status.idle": "2025-02-23T22:02:55.807791Z",
     "shell.execute_reply": "2025-02-23T22:02:55.807232Z",
     "shell.execute_reply.started": "2025-02-23T22:02:55.805076Z"
    }
   },
   "outputs": [],
   "source": [
    "mv_dfL['Metabolite ID'] = mv_dfL['Metabolite ID'].str.replace('M_', '').str.replace('_c','')"
   ]
  },
  {
   "cell_type": "code",
   "execution_count": 35,
   "id": "4147f741-1c1c-46ae-95e5-db3e39993493",
   "metadata": {
    "execution": {
     "iopub.execute_input": "2025-02-23T22:02:55.808887Z",
     "iopub.status.busy": "2025-02-23T22:02:55.808762Z",
     "iopub.status.idle": "2025-02-23T22:02:55.811690Z",
     "shell.execute_reply": "2025-02-23T22:02:55.811297Z",
     "shell.execute_reply.started": "2025-02-23T22:02:55.808876Z"
    }
   },
   "outputs": [],
   "source": [
    "mv_dfL['Metabolite'] = mv_dfL['Metabolite ID'].map(translate_dict_r)"
   ]
  },
  {
   "cell_type": "code",
   "execution_count": 36,
   "id": "f76e7b3f-c031-4582-8720-37413dcd7502",
   "metadata": {
    "execution": {
     "iopub.execute_input": "2025-02-23T22:02:55.812280Z",
     "iopub.status.busy": "2025-02-23T22:02:55.812179Z",
     "iopub.status.idle": "2025-02-23T22:02:55.814714Z",
     "shell.execute_reply": "2025-02-23T22:02:55.814159Z",
     "shell.execute_reply.started": "2025-02-23T22:02:55.812269Z"
    }
   },
   "outputs": [],
   "source": [
    "df_meanrate.columns = ['Metabolite', 'Strain', 'Carbon source', 'Rate [mmol/gDW/h]',\n",
    "                      'Std. Err [mmol/gDW/h]','Std. Dev [mmol/gDW/h]']"
   ]
  },
  {
   "cell_type": "code",
   "execution_count": 37,
   "id": "b5da0c9a-51ed-4232-864e-4c6816c4fb2b",
   "metadata": {
    "execution": {
     "iopub.execute_input": "2025-02-23T22:02:55.815729Z",
     "iopub.status.busy": "2025-02-23T22:02:55.815563Z",
     "iopub.status.idle": "2025-02-23T22:02:55.820111Z",
     "shell.execute_reply": "2025-02-23T22:02:55.819430Z",
     "shell.execute_reply.started": "2025-02-23T22:02:55.815717Z"
    }
   },
   "outputs": [],
   "source": [
    "df = pd.merge(left = df_meanrate, right = mv_dfL, left_on=('Metabolite', 'Strain', 'Carbon source'),\n",
    "             right_on=('Metabolite', 'Strain', 'Carbon source'))"
   ]
  },
  {
   "cell_type": "code",
   "execution_count": 38,
   "id": "7b88c4d5-37f2-4fdb-88bf-238281dcede8",
   "metadata": {
    "execution": {
     "iopub.execute_input": "2025-02-23T22:02:55.820902Z",
     "iopub.status.busy": "2025-02-23T22:02:55.820739Z",
     "iopub.status.idle": "2025-02-23T22:02:55.824589Z",
     "shell.execute_reply": "2025-02-23T22:02:55.824309Z",
     "shell.execute_reply.started": "2025-02-23T22:02:55.820890Z"
    }
   },
   "outputs": [
    {
     "name": "stderr",
     "output_type": "stream",
     "text": [
      "/Users/snorre/miniconda3/envs/reframed/lib/python3.9/site-packages/pandas/core/arraylike.py:399: RuntimeWarning: divide by zero encountered in log10\n",
      "  result = getattr(ufunc, method)(*inputs, **kwargs)\n"
     ]
    }
   ],
   "source": [
    "df['log10(Rate [mmol/gDW/h])'] = np.log10(df['Rate [mmol/gDW/h]'])\n",
    "df['log10(Metabolite value [gDW/mmol])'] = np.log10(df['Metabolite value [gDW/mmol]'])"
   ]
  },
  {
   "cell_type": "markdown",
   "id": "04e7acaf-14b3-462f-b843-ee3ec69a01d8",
   "metadata": {},
   "source": [
    "# Store results"
   ]
  },
  {
   "cell_type": "code",
   "execution_count": 39,
   "id": "970dbc70-06fd-437b-8589-e3a582a0b89d",
   "metadata": {
    "execution": {
     "iopub.execute_input": "2025-02-23T22:02:55.832670Z",
     "iopub.status.busy": "2025-02-23T22:02:55.832507Z",
     "iopub.status.idle": "2025-02-23T22:02:55.840019Z",
     "shell.execute_reply": "2025-02-23T22:02:55.839492Z",
     "shell.execute_reply.started": "2025-02-23T22:02:55.832658Z"
    }
   },
   "outputs": [],
   "source": [
    "rates_fn = folder / 'vila_2023_rates_and_values.csv'\n",
    "df.to_csv(rates_fn)"
   ]
  },
  {
   "cell_type": "code",
   "execution_count": 40,
   "id": "690c31ae-c62f-4a84-836b-40c3fb728c45",
   "metadata": {
    "execution": {
     "iopub.execute_input": "2025-02-23T22:02:55.840680Z",
     "iopub.status.busy": "2025-02-23T22:02:55.840522Z",
     "iopub.status.idle": "2025-02-23T22:02:55.844201Z",
     "shell.execute_reply": "2025-02-23T22:02:55.843747Z",
     "shell.execute_reply.started": "2025-02-23T22:02:55.840665Z"
    }
   },
   "outputs": [],
   "source": [
    "df_notnan = df.replace(-np.inf, np.nan).dropna()"
   ]
  },
  {
   "cell_type": "code",
   "execution_count": 41,
   "id": "291a682d-d810-459f-9ce1-92de7d30cfa6",
   "metadata": {
    "execution": {
     "iopub.execute_input": "2025-02-23T22:02:55.844973Z",
     "iopub.status.busy": "2025-02-23T22:02:55.844844Z",
     "iopub.status.idle": "2025-02-23T22:02:56.822716Z",
     "shell.execute_reply": "2025-02-23T22:02:56.822203Z",
     "shell.execute_reply.started": "2025-02-23T22:02:55.844962Z"
    }
   },
   "outputs": [
    {
     "data": {
      "text/plain": [
       "<seaborn.axisgrid.FacetGrid at 0x15b5fadc0>"
      ]
     },
     "execution_count": 41,
     "metadata": {},
     "output_type": "execute_result"
    },
    {
     "data": {
      "image/png": "[encoded data removed]",
      "text/plain": [
       "<Figure size 646.5x2500 with 5 Axes>"
      ]
     },
     "metadata": {},
     "output_type": "display_data"
    }
   ],
   "source": [
    "sns.lmplot(data = df_notnan, x = 'log10(Rate [mmol/gDW/h])',\n",
    "           y = 'log10(Metabolite value [gDW/mmol])', hue = 'Strain', col = 'Carbon source', col_wrap=1)\n"
   ]
  },
  {
   "cell_type": "code",
   "execution_count": 42,
   "id": "cb4cf9f9-5279-4aee-8555-c24224ae8d54",
   "metadata": {
    "execution": {
     "iopub.execute_input": "2025-02-23T22:02:56.823562Z",
     "iopub.status.busy": "2025-02-23T22:02:56.823409Z",
     "iopub.status.idle": "2025-02-23T22:02:56.833878Z",
     "shell.execute_reply": "2025-02-23T22:02:56.833589Z",
     "shell.execute_reply.started": "2025-02-23T22:02:56.823550Z"
    }
   },
   "outputs": [
    {
     "data": {
      "text/html": [
       "<div>\n",
       "<style scoped>\n",
       "    .dataframe tbody tr th:only-of-type {\n",
       "        vertical-align: middle;\n",
       "    }\n",
       "\n",
       "    .dataframe tbody tr th {\n",
       "        vertical-align: top;\n",
       "    }\n",
       "\n",
       "    .dataframe thead th {\n",
       "        text-align: right;\n",
       "    }\n",
       "</style>\n",
       "<table border=\"1\" class=\"dataframe\">\n",
       "  <thead>\n",
       "    <tr style=\"text-align: right;\">\n",
       "      <th></th>\n",
       "      <th>Metabolite</th>\n",
       "      <th>Strain</th>\n",
       "      <th>Carbon source</th>\n",
       "      <th>Rate [mmol/gDW/h]</th>\n",
       "      <th>Std. Err [mmol/gDW/h]</th>\n",
       "      <th>Std. Dev [mmol/gDW/h]</th>\n",
       "      <th>Metabolite ID</th>\n",
       "      <th>Metabolite value [gDW/mmol]</th>\n",
       "      <th>log10(Rate [mmol/gDW/h])</th>\n",
       "      <th>log10(Metabolite value [gDW/mmol])</th>\n",
       "    </tr>\n",
       "  </thead>\n",
       "  <tbody>\n",
       "    <tr>\n",
       "      <th>40</th>\n",
       "      <td>Butyric acid</td>\n",
       "      <td>Enterobacter</td>\n",
       "      <td>D-Fructose</td>\n",
       "      <td>0.000244</td>\n",
       "      <td>0.000178</td>\n",
       "      <td>0.000252</td>\n",
       "      <td>but</td>\n",
       "      <td>NaN</td>\n",
       "      <td>-3.613041</td>\n",
       "      <td>NaN</td>\n",
       "    </tr>\n",
       "    <tr>\n",
       "      <th>41</th>\n",
       "      <td>Butyric acid</td>\n",
       "      <td>Enterobacter</td>\n",
       "      <td>D-Glucose</td>\n",
       "      <td>0.000000</td>\n",
       "      <td>0.000000</td>\n",
       "      <td>0.000000</td>\n",
       "      <td>but</td>\n",
       "      <td>NaN</td>\n",
       "      <td>-inf</td>\n",
       "      <td>NaN</td>\n",
       "    </tr>\n",
       "    <tr>\n",
       "      <th>42</th>\n",
       "      <td>Butyric acid</td>\n",
       "      <td>Enterobacter</td>\n",
       "      <td>Glycerol</td>\n",
       "      <td>0.000819</td>\n",
       "      <td>0.000160</td>\n",
       "      <td>0.000227</td>\n",
       "      <td>but</td>\n",
       "      <td>NaN</td>\n",
       "      <td>-3.086756</td>\n",
       "      <td>NaN</td>\n",
       "    </tr>\n",
       "    <tr>\n",
       "      <th>43</th>\n",
       "      <td>Butyric acid</td>\n",
       "      <td>Enterobacter</td>\n",
       "      <td>L-Malate</td>\n",
       "      <td>0.000000</td>\n",
       "      <td>0.000000</td>\n",
       "      <td>0.000000</td>\n",
       "      <td>but</td>\n",
       "      <td>NaN</td>\n",
       "      <td>-inf</td>\n",
       "      <td>NaN</td>\n",
       "    </tr>\n",
       "    <tr>\n",
       "      <th>44</th>\n",
       "      <td>Butyric acid</td>\n",
       "      <td>Enterobacter</td>\n",
       "      <td>Pyruvate</td>\n",
       "      <td>0.000000</td>\n",
       "      <td>0.000000</td>\n",
       "      <td>0.000000</td>\n",
       "      <td>but</td>\n",
       "      <td>NaN</td>\n",
       "      <td>-inf</td>\n",
       "      <td>NaN</td>\n",
       "    </tr>\n",
       "    <tr>\n",
       "      <th>45</th>\n",
       "      <td>Butyric acid</td>\n",
       "      <td>Pseudomonas</td>\n",
       "      <td>D-Fructose</td>\n",
       "      <td>0.000308</td>\n",
       "      <td>0.000212</td>\n",
       "      <td>0.000299</td>\n",
       "      <td>but</td>\n",
       "      <td>NaN</td>\n",
       "      <td>-3.511394</td>\n",
       "      <td>NaN</td>\n",
       "    </tr>\n",
       "    <tr>\n",
       "      <th>46</th>\n",
       "      <td>Butyric acid</td>\n",
       "      <td>Pseudomonas</td>\n",
       "      <td>D-Glucose</td>\n",
       "      <td>0.000000</td>\n",
       "      <td>0.000000</td>\n",
       "      <td>0.000000</td>\n",
       "      <td>but</td>\n",
       "      <td>NaN</td>\n",
       "      <td>-inf</td>\n",
       "      <td>NaN</td>\n",
       "    </tr>\n",
       "    <tr>\n",
       "      <th>47</th>\n",
       "      <td>Butyric acid</td>\n",
       "      <td>Pseudomonas</td>\n",
       "      <td>Glycerol</td>\n",
       "      <td>0.000618</td>\n",
       "      <td>0.000115</td>\n",
       "      <td>0.000163</td>\n",
       "      <td>but</td>\n",
       "      <td>NaN</td>\n",
       "      <td>-3.209299</td>\n",
       "      <td>NaN</td>\n",
       "    </tr>\n",
       "    <tr>\n",
       "      <th>48</th>\n",
       "      <td>Butyric acid</td>\n",
       "      <td>Pseudomonas</td>\n",
       "      <td>L-Malate</td>\n",
       "      <td>0.000225</td>\n",
       "      <td>0.000225</td>\n",
       "      <td>0.000318</td>\n",
       "      <td>but</td>\n",
       "      <td>NaN</td>\n",
       "      <td>-3.647830</td>\n",
       "      <td>NaN</td>\n",
       "    </tr>\n",
       "    <tr>\n",
       "      <th>49</th>\n",
       "      <td>Butyric acid</td>\n",
       "      <td>Pseudomonas</td>\n",
       "      <td>Pyruvate</td>\n",
       "      <td>0.000000</td>\n",
       "      <td>0.000000</td>\n",
       "      <td>0.000000</td>\n",
       "      <td>but</td>\n",
       "      <td>NaN</td>\n",
       "      <td>-inf</td>\n",
       "      <td>NaN</td>\n",
       "    </tr>\n",
       "    <tr>\n",
       "      <th>85</th>\n",
       "      <td>Lactic acid</td>\n",
       "      <td>Pseudomonas</td>\n",
       "      <td>D-Fructose</td>\n",
       "      <td>0.000000</td>\n",
       "      <td>0.000000</td>\n",
       "      <td>0.000000</td>\n",
       "      <td>lac__L</td>\n",
       "      <td>NaN</td>\n",
       "      <td>-inf</td>\n",
       "      <td>NaN</td>\n",
       "    </tr>\n",
       "    <tr>\n",
       "      <th>86</th>\n",
       "      <td>Lactic acid</td>\n",
       "      <td>Pseudomonas</td>\n",
       "      <td>D-Glucose</td>\n",
       "      <td>0.000000</td>\n",
       "      <td>0.000000</td>\n",
       "      <td>0.000000</td>\n",
       "      <td>lac__L</td>\n",
       "      <td>NaN</td>\n",
       "      <td>-inf</td>\n",
       "      <td>NaN</td>\n",
       "    </tr>\n",
       "    <tr>\n",
       "      <th>87</th>\n",
       "      <td>Lactic acid</td>\n",
       "      <td>Pseudomonas</td>\n",
       "      <td>Glycerol</td>\n",
       "      <td>0.000000</td>\n",
       "      <td>0.000000</td>\n",
       "      <td>0.000000</td>\n",
       "      <td>lac__L</td>\n",
       "      <td>NaN</td>\n",
       "      <td>-inf</td>\n",
       "      <td>NaN</td>\n",
       "    </tr>\n",
       "    <tr>\n",
       "      <th>88</th>\n",
       "      <td>Lactic acid</td>\n",
       "      <td>Pseudomonas</td>\n",
       "      <td>L-Malate</td>\n",
       "      <td>0.000000</td>\n",
       "      <td>0.000000</td>\n",
       "      <td>0.000000</td>\n",
       "      <td>lac__L</td>\n",
       "      <td>NaN</td>\n",
       "      <td>-inf</td>\n",
       "      <td>NaN</td>\n",
       "    </tr>\n",
       "    <tr>\n",
       "      <th>89</th>\n",
       "      <td>Lactic acid</td>\n",
       "      <td>Pseudomonas</td>\n",
       "      <td>Pyruvate</td>\n",
       "      <td>0.000000</td>\n",
       "      <td>0.000000</td>\n",
       "      <td>0.000000</td>\n",
       "      <td>lac__L</td>\n",
       "      <td>NaN</td>\n",
       "      <td>-inf</td>\n",
       "      <td>NaN</td>\n",
       "    </tr>\n",
       "    <tr>\n",
       "      <th>150</th>\n",
       "      <td>Valeric acid</td>\n",
       "      <td>Enterobacter</td>\n",
       "      <td>D-Fructose</td>\n",
       "      <td>0.000449</td>\n",
       "      <td>0.000065</td>\n",
       "      <td>0.000092</td>\n",
       "      <td>pta</td>\n",
       "      <td>NaN</td>\n",
       "      <td>-3.347320</td>\n",
       "      <td>NaN</td>\n",
       "    </tr>\n",
       "    <tr>\n",
       "      <th>151</th>\n",
       "      <td>Valeric acid</td>\n",
       "      <td>Enterobacter</td>\n",
       "      <td>D-Glucose</td>\n",
       "      <td>0.000214</td>\n",
       "      <td>0.000002</td>\n",
       "      <td>0.000003</td>\n",
       "      <td>pta</td>\n",
       "      <td>NaN</td>\n",
       "      <td>-3.668891</td>\n",
       "      <td>NaN</td>\n",
       "    </tr>\n",
       "    <tr>\n",
       "      <th>152</th>\n",
       "      <td>Valeric acid</td>\n",
       "      <td>Enterobacter</td>\n",
       "      <td>Glycerol</td>\n",
       "      <td>0.000482</td>\n",
       "      <td>0.000101</td>\n",
       "      <td>0.000143</td>\n",
       "      <td>pta</td>\n",
       "      <td>NaN</td>\n",
       "      <td>-3.317205</td>\n",
       "      <td>NaN</td>\n",
       "    </tr>\n",
       "    <tr>\n",
       "      <th>153</th>\n",
       "      <td>Valeric acid</td>\n",
       "      <td>Enterobacter</td>\n",
       "      <td>L-Malate</td>\n",
       "      <td>0.000334</td>\n",
       "      <td>0.000334</td>\n",
       "      <td>0.000472</td>\n",
       "      <td>pta</td>\n",
       "      <td>NaN</td>\n",
       "      <td>-3.476124</td>\n",
       "      <td>NaN</td>\n",
       "    </tr>\n",
       "    <tr>\n",
       "      <th>154</th>\n",
       "      <td>Valeric acid</td>\n",
       "      <td>Enterobacter</td>\n",
       "      <td>Pyruvate</td>\n",
       "      <td>0.000083</td>\n",
       "      <td>0.000083</td>\n",
       "      <td>0.000118</td>\n",
       "      <td>pta</td>\n",
       "      <td>NaN</td>\n",
       "      <td>-4.078725</td>\n",
       "      <td>NaN</td>\n",
       "    </tr>\n",
       "    <tr>\n",
       "      <th>155</th>\n",
       "      <td>Valeric acid</td>\n",
       "      <td>Pseudomonas</td>\n",
       "      <td>D-Fructose</td>\n",
       "      <td>0.000160</td>\n",
       "      <td>0.000007</td>\n",
       "      <td>0.000010</td>\n",
       "      <td>pta</td>\n",
       "      <td>NaN</td>\n",
       "      <td>-3.795347</td>\n",
       "      <td>NaN</td>\n",
       "    </tr>\n",
       "    <tr>\n",
       "      <th>156</th>\n",
       "      <td>Valeric acid</td>\n",
       "      <td>Pseudomonas</td>\n",
       "      <td>D-Glucose</td>\n",
       "      <td>0.000000</td>\n",
       "      <td>0.000000</td>\n",
       "      <td>0.000000</td>\n",
       "      <td>pta</td>\n",
       "      <td>NaN</td>\n",
       "      <td>-inf</td>\n",
       "      <td>NaN</td>\n",
       "    </tr>\n",
       "    <tr>\n",
       "      <th>157</th>\n",
       "      <td>Valeric acid</td>\n",
       "      <td>Pseudomonas</td>\n",
       "      <td>Glycerol</td>\n",
       "      <td>0.000386</td>\n",
       "      <td>0.000082</td>\n",
       "      <td>0.000115</td>\n",
       "      <td>pta</td>\n",
       "      <td>NaN</td>\n",
       "      <td>-3.413375</td>\n",
       "      <td>NaN</td>\n",
       "    </tr>\n",
       "    <tr>\n",
       "      <th>158</th>\n",
       "      <td>Valeric acid</td>\n",
       "      <td>Pseudomonas</td>\n",
       "      <td>L-Malate</td>\n",
       "      <td>0.000053</td>\n",
       "      <td>0.000053</td>\n",
       "      <td>0.000075</td>\n",
       "      <td>pta</td>\n",
       "      <td>NaN</td>\n",
       "      <td>-4.275849</td>\n",
       "      <td>NaN</td>\n",
       "    </tr>\n",
       "    <tr>\n",
       "      <th>159</th>\n",
       "      <td>Valeric acid</td>\n",
       "      <td>Pseudomonas</td>\n",
       "      <td>Pyruvate</td>\n",
       "      <td>0.000000</td>\n",
       "      <td>0.000000</td>\n",
       "      <td>0.000000</td>\n",
       "      <td>pta</td>\n",
       "      <td>NaN</td>\n",
       "      <td>-inf</td>\n",
       "      <td>NaN</td>\n",
       "    </tr>\n",
       "    <tr>\n",
       "      <th>180</th>\n",
       "      <td>beta-Hydroxybutyric acid</td>\n",
       "      <td>Enterobacter</td>\n",
       "      <td>D-Fructose</td>\n",
       "      <td>0.000341</td>\n",
       "      <td>0.000017</td>\n",
       "      <td>0.000024</td>\n",
       "      <td>bhb</td>\n",
       "      <td>NaN</td>\n",
       "      <td>-3.466832</td>\n",
       "      <td>NaN</td>\n",
       "    </tr>\n",
       "    <tr>\n",
       "      <th>181</th>\n",
       "      <td>beta-Hydroxybutyric acid</td>\n",
       "      <td>Enterobacter</td>\n",
       "      <td>D-Glucose</td>\n",
       "      <td>0.000000</td>\n",
       "      <td>0.000000</td>\n",
       "      <td>0.000000</td>\n",
       "      <td>bhb</td>\n",
       "      <td>NaN</td>\n",
       "      <td>-inf</td>\n",
       "      <td>NaN</td>\n",
       "    </tr>\n",
       "    <tr>\n",
       "      <th>182</th>\n",
       "      <td>beta-Hydroxybutyric acid</td>\n",
       "      <td>Enterobacter</td>\n",
       "      <td>Glycerol</td>\n",
       "      <td>0.000038</td>\n",
       "      <td>0.000038</td>\n",
       "      <td>0.000054</td>\n",
       "      <td>bhb</td>\n",
       "      <td>NaN</td>\n",
       "      <td>-4.416346</td>\n",
       "      <td>NaN</td>\n",
       "    </tr>\n",
       "    <tr>\n",
       "      <th>183</th>\n",
       "      <td>beta-Hydroxybutyric acid</td>\n",
       "      <td>Enterobacter</td>\n",
       "      <td>L-Malate</td>\n",
       "      <td>0.000827</td>\n",
       "      <td>0.000073</td>\n",
       "      <td>0.000104</td>\n",
       "      <td>bhb</td>\n",
       "      <td>NaN</td>\n",
       "      <td>-3.082517</td>\n",
       "      <td>NaN</td>\n",
       "    </tr>\n",
       "    <tr>\n",
       "      <th>184</th>\n",
       "      <td>beta-Hydroxybutyric acid</td>\n",
       "      <td>Enterobacter</td>\n",
       "      <td>Pyruvate</td>\n",
       "      <td>0.000000</td>\n",
       "      <td>0.000000</td>\n",
       "      <td>0.000000</td>\n",
       "      <td>bhb</td>\n",
       "      <td>NaN</td>\n",
       "      <td>-inf</td>\n",
       "      <td>NaN</td>\n",
       "    </tr>\n",
       "  </tbody>\n",
       "</table>\n",
       "</div>"
      ],
      "text/plain": [
       "                   Metabolite        Strain Carbon source  Rate [mmol/gDW/h]  \\\n",
       "40               Butyric acid  Enterobacter    D-Fructose           0.000244   \n",
       "41               Butyric acid  Enterobacter     D-Glucose           0.000000   \n",
       "42               Butyric acid  Enterobacter      Glycerol           0.000819   \n",
       "43               Butyric acid  Enterobacter      L-Malate           0.000000   \n",
       "44               Butyric acid  Enterobacter      Pyruvate           0.000000   \n",
       "45               Butyric acid   Pseudomonas    D-Fructose           0.000308   \n",
       "46               Butyric acid   Pseudomonas     D-Glucose           0.000000   \n",
       "47               Butyric acid   Pseudomonas      Glycerol           0.000618   \n",
       "48               Butyric acid   Pseudomonas      L-Malate           0.000225   \n",
       "49               Butyric acid   Pseudomonas      Pyruvate           0.000000   \n",
       "85                Lactic acid   Pseudomonas    D-Fructose           0.000000   \n",
       "86                Lactic acid   Pseudomonas     D-Glucose           0.000000   \n",
       "87                Lactic acid   Pseudomonas      Glycerol           0.000000   \n",
       "88                Lactic acid   Pseudomonas      L-Malate           0.000000   \n",
       "89                Lactic acid   Pseudomonas      Pyruvate           0.000000   \n",
       "150              Valeric acid  Enterobacter    D-Fructose           0.000449   \n",
       "151              Valeric acid  Enterobacter     D-Glucose           0.000214   \n",
       "152              Valeric acid  Enterobacter      Glycerol           0.000482   \n",
       "153              Valeric acid  Enterobacter      L-Malate           0.000334   \n",
       "154              Valeric acid  Enterobacter      Pyruvate           0.000083   \n",
       "155              Valeric acid   Pseudomonas    D-Fructose           0.000160   \n",
       "156              Valeric acid   Pseudomonas     D-Glucose           0.000000   \n",
       "157              Valeric acid   Pseudomonas      Glycerol           0.000386   \n",
       "158              Valeric acid   Pseudomonas      L-Malate           0.000053   \n",
       "159              Valeric acid   Pseudomonas      Pyruvate           0.000000   \n",
       "180  beta-Hydroxybutyric acid  Enterobacter    D-Fructose           0.000341   \n",
       "181  beta-Hydroxybutyric acid  Enterobacter     D-Glucose           0.000000   \n",
       "182  beta-Hydroxybutyric acid  Enterobacter      Glycerol           0.000038   \n",
       "183  beta-Hydroxybutyric acid  Enterobacter      L-Malate           0.000827   \n",
       "184  beta-Hydroxybutyric acid  Enterobacter      Pyruvate           0.000000   \n",
       "\n",
       "     Std. Err [mmol/gDW/h]  Std. Dev [mmol/gDW/h] Metabolite ID  \\\n",
       "40                0.000178               0.000252           but   \n",
       "41                0.000000               0.000000           but   \n",
       "42                0.000160               0.000227           but   \n",
       "43                0.000000               0.000000           but   \n",
       "44                0.000000               0.000000           but   \n",
       "45                0.000212               0.000299           but   \n",
       "46                0.000000               0.000000           but   \n",
       "47                0.000115               0.000163           but   \n",
       "48                0.000225               0.000318           but   \n",
       "49                0.000000               0.000000           but   \n",
       "85                0.000000               0.000000        lac__L   \n",
       "86                0.000000               0.000000        lac__L   \n",
       "87                0.000000               0.000000        lac__L   \n",
       "88                0.000000               0.000000        lac__L   \n",
       "89                0.000000               0.000000        lac__L   \n",
       "150               0.000065               0.000092           pta   \n",
       "151               0.000002               0.000003           pta   \n",
       "152               0.000101               0.000143           pta   \n",
       "153               0.000334               0.000472           pta   \n",
       "154               0.000083               0.000118           pta   \n",
       "155               0.000007               0.000010           pta   \n",
       "156               0.000000               0.000000           pta   \n",
       "157               0.000082               0.000115           pta   \n",
       "158               0.000053               0.000075           pta   \n",
       "159               0.000000               0.000000           pta   \n",
       "180               0.000017               0.000024           bhb   \n",
       "181               0.000000               0.000000           bhb   \n",
       "182               0.000038               0.000054           bhb   \n",
       "183               0.000073               0.000104           bhb   \n",
       "184               0.000000               0.000000           bhb   \n",
       "\n",
       "     Metabolite value [gDW/mmol]  log10(Rate [mmol/gDW/h])  \\\n",
       "40                           NaN                 -3.613041   \n",
       "41                           NaN                      -inf   \n",
       "42                           NaN                 -3.086756   \n",
       "43                           NaN                      -inf   \n",
       "44                           NaN                      -inf   \n",
       "45                           NaN                 -3.511394   \n",
       "46                           NaN                      -inf   \n",
       "47                           NaN                 -3.209299   \n",
       "48                           NaN                 -3.647830   \n",
       "49                           NaN                      -inf   \n",
       "85                           NaN                      -inf   \n",
       "86                           NaN                      -inf   \n",
       "87                           NaN                      -inf   \n",
       "88                           NaN                      -inf   \n",
       "89                           NaN                      -inf   \n",
       "150                          NaN                 -3.347320   \n",
       "151                          NaN                 -3.668891   \n",
       "152                          NaN                 -3.317205   \n",
       "153                          NaN                 -3.476124   \n",
       "154                          NaN                 -4.078725   \n",
       "155                          NaN                 -3.795347   \n",
       "156                          NaN                      -inf   \n",
       "157                          NaN                 -3.413375   \n",
       "158                          NaN                 -4.275849   \n",
       "159                          NaN                      -inf   \n",
       "180                          NaN                 -3.466832   \n",
       "181                          NaN                      -inf   \n",
       "182                          NaN                 -4.416346   \n",
       "183                          NaN                 -3.082517   \n",
       "184                          NaN                      -inf   \n",
       "\n",
       "     log10(Metabolite value [gDW/mmol])  \n",
       "40                                  NaN  \n",
       "41                                  NaN  \n",
       "42                                  NaN  \n",
       "43                                  NaN  \n",
       "44                                  NaN  \n",
       "45                                  NaN  \n",
       "46                                  NaN  \n",
       "47                                  NaN  \n",
       "48                                  NaN  \n",
       "49                                  NaN  \n",
       "85                                  NaN  \n",
       "86                                  NaN  \n",
       "87                                  NaN  \n",
       "88                                  NaN  \n",
       "89                                  NaN  \n",
       "150                                 NaN  \n",
       "151                                 NaN  \n",
       "152                                 NaN  \n",
       "153                                 NaN  \n",
       "154                                 NaN  \n",
       "155                                 NaN  \n",
       "156                                 NaN  \n",
       "157                                 NaN  \n",
       "158                                 NaN  \n",
       "159                                 NaN  \n",
       "180                                 NaN  \n",
       "181                                 NaN  \n",
       "182                                 NaN  \n",
       "183                                 NaN  \n",
       "184                                 NaN  "
      ]
     },
     "execution_count": 42,
     "metadata": {},
     "output_type": "execute_result"
    }
   ],
   "source": [
    "df.loc[df.isna().any(axis=1)]"
   ]
  },
  {
   "cell_type": "code",
   "execution_count": 43,
   "id": "76201d88-984a-4f4b-a67f-dcd20d21d524",
   "metadata": {
    "execution": {
     "iopub.execute_input": "2025-02-23T22:02:56.834437Z",
     "iopub.status.busy": "2025-02-23T22:02:56.834275Z",
     "iopub.status.idle": "2025-02-23T22:02:56.839453Z",
     "shell.execute_reply": "2025-02-23T22:02:56.839077Z",
     "shell.execute_reply.started": "2025-02-23T22:02:56.834425Z"
    }
   },
   "outputs": [
    {
     "name": "stdout",
     "output_type": "stream",
     "text": [
      "Enterobacter Pyruvate PearsonRResult(statistic=np.float64(-0.5644726269016239), pvalue=np.float64(3.928346405277608e-06))\n",
      "Pseudomonas Pyruvate PearsonRResult(statistic=np.float64(-0.5756150692800642), pvalue=np.float64(3.5223434606607895e-05))\n"
     ]
    }
   ],
   "source": [
    "for strain in df_notnan.Strain.unique():\n",
    "    # for cs in df_notnan['Carbon source'].unique():\n",
    "    idx = (df_notnan.Strain==strain) #& (df_notnan['Carbon source']==cs)\n",
    "    dfi = df_notnan.loc[idx]\n",
    "    x = dfi['log10(Rate [mmol/gDW/h])']\n",
    "    y = dfi['log10(Metabolite value [gDW/mmol])']\n",
    "    print(strain, cs, st.pearsonr(x,y))"
   ]
  },
  {
   "cell_type": "code",
   "execution_count": 44,
   "id": "8861e56e",
   "metadata": {
    "execution": {
     "iopub.execute_input": "2025-02-23T22:02:56.840258Z",
     "iopub.status.busy": "2025-02-23T22:02:56.840094Z",
     "iopub.status.idle": "2025-02-23T22:02:56.844778Z",
     "shell.execute_reply": "2025-02-23T22:02:56.844359Z",
     "shell.execute_reply.started": "2025-02-23T22:02:56.840241Z"
    }
   },
   "outputs": [
    {
     "name": "stdout",
     "output_type": "stream",
     "text": [
      "Enterobacter Pyruvate PearsonRResult(statistic=np.float64(-0.5644726269016239), pvalue=np.float64(3.928346405277608e-06))\n",
      "Pseudomonas Pyruvate PearsonRResult(statistic=np.float64(-0.5756150692800642), pvalue=np.float64(3.5223434606607895e-05))\n"
     ]
    }
   ],
   "source": [
    "for strain in df_notnan.Strain.unique():\n",
    "    # for cs in df_notnan['Carbon source'].unique():\n",
    "    idx = (df_notnan.Strain==strain) #& (df_notnan['Carbon source']==cs)\n",
    "    dfi = df_notnan.loc[idx]\n",
    "    x = dfi['log10(Rate [mmol/gDW/h])']\n",
    "    y = dfi['log10(Metabolite value [gDW/mmol])']\n",
    "    print(strain, cs, st.pearsonr(x,y))"
   ]
  },
  {
   "cell_type": "code",
   "execution_count": 45,
   "id": "ab94bea6-09a9-4db3-9f5a-d5117cf3d55d",
   "metadata": {
    "execution": {
     "iopub.execute_input": "2025-02-23T22:02:56.845483Z",
     "iopub.status.busy": "2025-02-23T22:02:56.845324Z",
     "iopub.status.idle": "2025-02-23T22:02:56.856233Z",
     "shell.execute_reply": "2025-02-23T22:02:56.855881Z",
     "shell.execute_reply.started": "2025-02-23T22:02:56.845467Z"
    }
   },
   "outputs": [
    {
     "data": {
      "text/html": [
       "<div>\n",
       "<style scoped>\n",
       "    .dataframe tbody tr th:only-of-type {\n",
       "        vertical-align: middle;\n",
       "    }\n",
       "\n",
       "    .dataframe tbody tr th {\n",
       "        vertical-align: top;\n",
       "    }\n",
       "\n",
       "    .dataframe thead th {\n",
       "        text-align: right;\n",
       "    }\n",
       "</style>\n",
       "<table border=\"1\" class=\"dataframe\">\n",
       "  <thead>\n",
       "    <tr style=\"text-align: right;\">\n",
       "      <th></th>\n",
       "      <th>Metabolite</th>\n",
       "      <th>Strain</th>\n",
       "      <th>Carbon source</th>\n",
       "      <th>Rate [mmol/gDW/h]</th>\n",
       "      <th>Std. Err [mmol/gDW/h]</th>\n",
       "      <th>Std. Dev [mmol/gDW/h]</th>\n",
       "      <th>Metabolite ID</th>\n",
       "      <th>Metabolite value [gDW/mmol]</th>\n",
       "      <th>log10(Rate [mmol/gDW/h])</th>\n",
       "      <th>log10(Metabolite value [gDW/mmol])</th>\n",
       "    </tr>\n",
       "  </thead>\n",
       "  <tbody>\n",
       "    <tr>\n",
       "      <th>5</th>\n",
       "      <td>Acetic acid</td>\n",
       "      <td>Pseudomonas</td>\n",
       "      <td>D-Fructose</td>\n",
       "      <td>0.171753</td>\n",
       "      <td>1.195496e-03</td>\n",
       "      <td>1.690687e-03</td>\n",
       "      <td>ac</td>\n",
       "      <td>0.031085</td>\n",
       "      <td>-0.765096</td>\n",
       "      <td>-1.507444</td>\n",
       "    </tr>\n",
       "    <tr>\n",
       "      <th>6</th>\n",
       "      <td>Acetic acid</td>\n",
       "      <td>Pseudomonas</td>\n",
       "      <td>D-Glucose</td>\n",
       "      <td>0.079440</td>\n",
       "      <td>2.182409e-02</td>\n",
       "      <td>3.086392e-02</td>\n",
       "      <td>ac</td>\n",
       "      <td>0.034233</td>\n",
       "      <td>-1.099963</td>\n",
       "      <td>-1.465552</td>\n",
       "    </tr>\n",
       "    <tr>\n",
       "      <th>7</th>\n",
       "      <td>Acetic acid</td>\n",
       "      <td>Pseudomonas</td>\n",
       "      <td>Glycerol</td>\n",
       "      <td>0.166165</td>\n",
       "      <td>1.010890e-02</td>\n",
       "      <td>1.429615e-02</td>\n",
       "      <td>ac</td>\n",
       "      <td>0.031438</td>\n",
       "      <td>-0.779460</td>\n",
       "      <td>-1.502540</td>\n",
       "    </tr>\n",
       "    <tr>\n",
       "      <th>8</th>\n",
       "      <td>Acetic acid</td>\n",
       "      <td>Pseudomonas</td>\n",
       "      <td>L-Malate</td>\n",
       "      <td>0.035835</td>\n",
       "      <td>3.788285e-03</td>\n",
       "      <td>5.357445e-03</td>\n",
       "      <td>ac</td>\n",
       "      <td>0.031456</td>\n",
       "      <td>-1.445691</td>\n",
       "      <td>-1.502298</td>\n",
       "    </tr>\n",
       "    <tr>\n",
       "      <th>16</th>\n",
       "      <td>Acetyl-ornithine</td>\n",
       "      <td>Pseudomonas</td>\n",
       "      <td>D-Glucose</td>\n",
       "      <td>0.000290</td>\n",
       "      <td>2.901320e-04</td>\n",
       "      <td>4.103086e-04</td>\n",
       "      <td>acorn</td>\n",
       "      <td>0.141310</td>\n",
       "      <td>-3.537404</td>\n",
       "      <td>-0.849828</td>\n",
       "    </tr>\n",
       "    <tr>\n",
       "      <th>18</th>\n",
       "      <td>Acetyl-ornithine</td>\n",
       "      <td>Pseudomonas</td>\n",
       "      <td>L-Malate</td>\n",
       "      <td>0.000194</td>\n",
       "      <td>2.201301e-05</td>\n",
       "      <td>3.113110e-05</td>\n",
       "      <td>acorn</td>\n",
       "      <td>0.131255</td>\n",
       "      <td>-3.712150</td>\n",
       "      <td>-0.881884</td>\n",
       "    </tr>\n",
       "    <tr>\n",
       "      <th>19</th>\n",
       "      <td>Acetyl-ornithine</td>\n",
       "      <td>Pseudomonas</td>\n",
       "      <td>Pyruvate</td>\n",
       "      <td>0.000303</td>\n",
       "      <td>2.709485e-05</td>\n",
       "      <td>3.831790e-05</td>\n",
       "      <td>acorn</td>\n",
       "      <td>0.131682</td>\n",
       "      <td>-3.518601</td>\n",
       "      <td>-0.880475</td>\n",
       "    </tr>\n",
       "    <tr>\n",
       "      <th>35</th>\n",
       "      <td>Asparagine</td>\n",
       "      <td>Pseudomonas</td>\n",
       "      <td>D-Fructose</td>\n",
       "      <td>0.000255</td>\n",
       "      <td>2.554377e-04</td>\n",
       "      <td>3.612435e-04</td>\n",
       "      <td>asn__L</td>\n",
       "      <td>0.061683</td>\n",
       "      <td>-3.592715</td>\n",
       "      <td>-1.209833</td>\n",
       "    </tr>\n",
       "    <tr>\n",
       "      <th>36</th>\n",
       "      <td>Asparagine</td>\n",
       "      <td>Pseudomonas</td>\n",
       "      <td>D-Glucose</td>\n",
       "      <td>0.000262</td>\n",
       "      <td>2.624026e-04</td>\n",
       "      <td>3.710933e-04</td>\n",
       "      <td>asn__L</td>\n",
       "      <td>0.062618</td>\n",
       "      <td>-3.581032</td>\n",
       "      <td>-1.203304</td>\n",
       "    </tr>\n",
       "    <tr>\n",
       "      <th>55</th>\n",
       "      <td>Citric acid</td>\n",
       "      <td>Pseudomonas</td>\n",
       "      <td>D-Fructose</td>\n",
       "      <td>0.000222</td>\n",
       "      <td>0.000000e+00</td>\n",
       "      <td>0.000000e+00</td>\n",
       "      <td>cit</td>\n",
       "      <td>0.079383</td>\n",
       "      <td>-3.652939</td>\n",
       "      <td>-1.100274</td>\n",
       "    </tr>\n",
       "    <tr>\n",
       "      <th>56</th>\n",
       "      <td>Citric acid</td>\n",
       "      <td>Pseudomonas</td>\n",
       "      <td>D-Glucose</td>\n",
       "      <td>0.001402</td>\n",
       "      <td>1.489173e-04</td>\n",
       "      <td>2.106009e-04</td>\n",
       "      <td>cit</td>\n",
       "      <td>0.084426</td>\n",
       "      <td>-2.853290</td>\n",
       "      <td>-1.073526</td>\n",
       "    </tr>\n",
       "    <tr>\n",
       "      <th>57</th>\n",
       "      <td>Citric acid</td>\n",
       "      <td>Pseudomonas</td>\n",
       "      <td>Glycerol</td>\n",
       "      <td>0.000208</td>\n",
       "      <td>1.642697e-05</td>\n",
       "      <td>2.323124e-05</td>\n",
       "      <td>cit</td>\n",
       "      <td>0.079885</td>\n",
       "      <td>-3.680902</td>\n",
       "      <td>-1.097533</td>\n",
       "    </tr>\n",
       "    <tr>\n",
       "      <th>58</th>\n",
       "      <td>Citric acid</td>\n",
       "      <td>Pseudomonas</td>\n",
       "      <td>L-Malate</td>\n",
       "      <td>0.002667</td>\n",
       "      <td>5.836007e-04</td>\n",
       "      <td>8.253360e-04</td>\n",
       "      <td>cit</td>\n",
       "      <td>0.072920</td>\n",
       "      <td>-2.573951</td>\n",
       "      <td>-1.137151</td>\n",
       "    </tr>\n",
       "    <tr>\n",
       "      <th>59</th>\n",
       "      <td>Citric acid</td>\n",
       "      <td>Pseudomonas</td>\n",
       "      <td>Pyruvate</td>\n",
       "      <td>0.001675</td>\n",
       "      <td>0.000000e+00</td>\n",
       "      <td>0.000000e+00</td>\n",
       "      <td>cit</td>\n",
       "      <td>0.077569</td>\n",
       "      <td>-2.775997</td>\n",
       "      <td>-1.110309</td>\n",
       "    </tr>\n",
       "    <tr>\n",
       "      <th>65</th>\n",
       "      <td>Fumaric acid</td>\n",
       "      <td>Pseudomonas</td>\n",
       "      <td>D-Fructose</td>\n",
       "      <td>0.000019</td>\n",
       "      <td>1.952644e-06</td>\n",
       "      <td>2.761456e-06</td>\n",
       "      <td>fum</td>\n",
       "      <td>0.051861</td>\n",
       "      <td>-4.710264</td>\n",
       "      <td>-1.285162</td>\n",
       "    </tr>\n",
       "    <tr>\n",
       "      <th>66</th>\n",
       "      <td>Fumaric acid</td>\n",
       "      <td>Pseudomonas</td>\n",
       "      <td>D-Glucose</td>\n",
       "      <td>0.000018</td>\n",
       "      <td>2.054032e-06</td>\n",
       "      <td>2.904840e-06</td>\n",
       "      <td>fum</td>\n",
       "      <td>0.053485</td>\n",
       "      <td>-4.747874</td>\n",
       "      <td>-1.271769</td>\n",
       "    </tr>\n",
       "    <tr>\n",
       "      <th>67</th>\n",
       "      <td>Fumaric acid</td>\n",
       "      <td>Pseudomonas</td>\n",
       "      <td>Glycerol</td>\n",
       "      <td>0.000033</td>\n",
       "      <td>8.529386e-07</td>\n",
       "      <td>1.206237e-06</td>\n",
       "      <td>fum</td>\n",
       "      <td>0.051999</td>\n",
       "      <td>-4.478843</td>\n",
       "      <td>-1.284002</td>\n",
       "    </tr>\n",
       "    <tr>\n",
       "      <th>68</th>\n",
       "      <td>Fumaric acid</td>\n",
       "      <td>Pseudomonas</td>\n",
       "      <td>L-Malate</td>\n",
       "      <td>0.013717</td>\n",
       "      <td>9.217308e-03</td>\n",
       "      <td>1.303524e-02</td>\n",
       "      <td>fum</td>\n",
       "      <td>0.044964</td>\n",
       "      <td>-1.862735</td>\n",
       "      <td>-1.347133</td>\n",
       "    </tr>\n",
       "    <tr>\n",
       "      <th>69</th>\n",
       "      <td>Fumaric acid</td>\n",
       "      <td>Pseudomonas</td>\n",
       "      <td>Pyruvate</td>\n",
       "      <td>0.000193</td>\n",
       "      <td>2.093693e-05</td>\n",
       "      <td>2.960929e-05</td>\n",
       "      <td>fum</td>\n",
       "      <td>0.050729</td>\n",
       "      <td>-3.713636</td>\n",
       "      <td>-1.294742</td>\n",
       "    </tr>\n",
       "    <tr>\n",
       "      <th>75</th>\n",
       "      <td>Glycine</td>\n",
       "      <td>Pseudomonas</td>\n",
       "      <td>D-Fructose</td>\n",
       "      <td>0.002419</td>\n",
       "      <td>2.430843e-04</td>\n",
       "      <td>3.437731e-04</td>\n",
       "      <td>gly</td>\n",
       "      <td>0.026301</td>\n",
       "      <td>-2.616384</td>\n",
       "      <td>-1.580021</td>\n",
       "    </tr>\n",
       "    <tr>\n",
       "      <th>76</th>\n",
       "      <td>Glycine</td>\n",
       "      <td>Pseudomonas</td>\n",
       "      <td>D-Glucose</td>\n",
       "      <td>0.003009</td>\n",
       "      <td>2.054032e-05</td>\n",
       "      <td>2.904840e-05</td>\n",
       "      <td>gly</td>\n",
       "      <td>0.029233</td>\n",
       "      <td>-2.521555</td>\n",
       "      <td>-1.534131</td>\n",
       "    </tr>\n",
       "    <tr>\n",
       "      <th>77</th>\n",
       "      <td>Glycine</td>\n",
       "      <td>Pseudomonas</td>\n",
       "      <td>Glycerol</td>\n",
       "      <td>0.002028</td>\n",
       "      <td>3.664477e-04</td>\n",
       "      <td>5.182353e-04</td>\n",
       "      <td>gly</td>\n",
       "      <td>0.026044</td>\n",
       "      <td>-2.692911</td>\n",
       "      <td>-1.584287</td>\n",
       "    </tr>\n",
       "    <tr>\n",
       "      <th>95</th>\n",
       "      <td>Methionine</td>\n",
       "      <td>Pseudomonas</td>\n",
       "      <td>D-Fructose</td>\n",
       "      <td>0.000082</td>\n",
       "      <td>2.044299e-05</td>\n",
       "      <td>2.891075e-05</td>\n",
       "      <td>met__L</td>\n",
       "      <td>0.139193</td>\n",
       "      <td>-4.084233</td>\n",
       "      <td>-0.856382</td>\n",
       "    </tr>\n",
       "    <tr>\n",
       "      <th>96</th>\n",
       "      <td>Methionine</td>\n",
       "      <td>Pseudomonas</td>\n",
       "      <td>D-Glucose</td>\n",
       "      <td>0.000143</td>\n",
       "      <td>8.067210e-05</td>\n",
       "      <td>1.140876e-04</td>\n",
       "      <td>met__L</td>\n",
       "      <td>0.134937</td>\n",
       "      <td>-3.844004</td>\n",
       "      <td>-0.869870</td>\n",
       "    </tr>\n",
       "    <tr>\n",
       "      <th>97</th>\n",
       "      <td>Methionine</td>\n",
       "      <td>Pseudomonas</td>\n",
       "      <td>Glycerol</td>\n",
       "      <td>0.000103</td>\n",
       "      <td>6.949870e-06</td>\n",
       "      <td>9.828600e-06</td>\n",
       "      <td>met__L</td>\n",
       "      <td>0.138833</td>\n",
       "      <td>-3.987228</td>\n",
       "      <td>-0.857508</td>\n",
       "    </tr>\n",
       "    <tr>\n",
       "      <th>98</th>\n",
       "      <td>Methionine</td>\n",
       "      <td>Pseudomonas</td>\n",
       "      <td>L-Malate</td>\n",
       "      <td>0.000055</td>\n",
       "      <td>5.528849e-05</td>\n",
       "      <td>7.818973e-05</td>\n",
       "      <td>met__L</td>\n",
       "      <td>0.133172</td>\n",
       "      <td>-4.257365</td>\n",
       "      <td>-0.875589</td>\n",
       "    </tr>\n",
       "    <tr>\n",
       "      <th>99</th>\n",
       "      <td>Methionine</td>\n",
       "      <td>Pseudomonas</td>\n",
       "      <td>Pyruvate</td>\n",
       "      <td>0.000296</td>\n",
       "      <td>1.170005e-05</td>\n",
       "      <td>1.654637e-05</td>\n",
       "      <td>met__L</td>\n",
       "      <td>0.136148</td>\n",
       "      <td>-3.528421</td>\n",
       "      <td>-0.865990</td>\n",
       "    </tr>\n",
       "    <tr>\n",
       "      <th>105</th>\n",
       "      <td>Propionic acid</td>\n",
       "      <td>Pseudomonas</td>\n",
       "      <td>D-Fructose</td>\n",
       "      <td>0.002997</td>\n",
       "      <td>8.448174e-04</td>\n",
       "      <td>1.194752e-03</td>\n",
       "      <td>ppa</td>\n",
       "      <td>0.052499</td>\n",
       "      <td>-2.523355</td>\n",
       "      <td>-1.279849</td>\n",
       "    </tr>\n",
       "    <tr>\n",
       "      <th>107</th>\n",
       "      <td>Propionic acid</td>\n",
       "      <td>Pseudomonas</td>\n",
       "      <td>Glycerol</td>\n",
       "      <td>0.004836</td>\n",
       "      <td>4.959680e-04</td>\n",
       "      <td>7.014046e-04</td>\n",
       "      <td>ppa</td>\n",
       "      <td>0.053240</td>\n",
       "      <td>-2.315471</td>\n",
       "      <td>-1.273765</td>\n",
       "    </tr>\n",
       "    <tr>\n",
       "      <th>108</th>\n",
       "      <td>Propionic acid</td>\n",
       "      <td>Pseudomonas</td>\n",
       "      <td>L-Malate</td>\n",
       "      <td>0.001009</td>\n",
       "      <td>1.008503e-03</td>\n",
       "      <td>1.426239e-03</td>\n",
       "      <td>ppa</td>\n",
       "      <td>0.052066</td>\n",
       "      <td>-2.996323</td>\n",
       "      <td>-1.283443</td>\n",
       "    </tr>\n",
       "    <tr>\n",
       "      <th>115</th>\n",
       "      <td>Putrescine</td>\n",
       "      <td>Pseudomonas</td>\n",
       "      <td>D-Fructose</td>\n",
       "      <td>0.000018</td>\n",
       "      <td>2.988741e-06</td>\n",
       "      <td>4.226718e-06</td>\n",
       "      <td>ptrc</td>\n",
       "      <td>0.102417</td>\n",
       "      <td>-4.755134</td>\n",
       "      <td>-0.989627</td>\n",
       "    </tr>\n",
       "    <tr>\n",
       "      <th>119</th>\n",
       "      <td>Putrescine</td>\n",
       "      <td>Pseudomonas</td>\n",
       "      <td>Pyruvate</td>\n",
       "      <td>0.000100</td>\n",
       "      <td>9.975831e-05</td>\n",
       "      <td>1.410796e-04</td>\n",
       "      <td>ptrc</td>\n",
       "      <td>0.100183</td>\n",
       "      <td>-4.001051</td>\n",
       "      <td>-0.999207</td>\n",
       "    </tr>\n",
       "    <tr>\n",
       "      <th>128</th>\n",
       "      <td>Pyruvic acid</td>\n",
       "      <td>Pseudomonas</td>\n",
       "      <td>L-Malate</td>\n",
       "      <td>0.190438</td>\n",
       "      <td>5.119305e-04</td>\n",
       "      <td>7.239790e-04</td>\n",
       "      <td>pyr</td>\n",
       "      <td>0.035314</td>\n",
       "      <td>-0.720246</td>\n",
       "      <td>-1.452057</td>\n",
       "    </tr>\n",
       "    <tr>\n",
       "      <th>129</th>\n",
       "      <td>Pyruvic acid</td>\n",
       "      <td>Pseudomonas</td>\n",
       "      <td>Pyruvate</td>\n",
       "      <td>0.476623</td>\n",
       "      <td>1.231584e-02</td>\n",
       "      <td>1.741723e-02</td>\n",
       "      <td>pyr</td>\n",
       "      <td>0.036545</td>\n",
       "      <td>-0.321825</td>\n",
       "      <td>-1.437171</td>\n",
       "    </tr>\n",
       "    <tr>\n",
       "      <th>138</th>\n",
       "      <td>Serine</td>\n",
       "      <td>Pseudomonas</td>\n",
       "      <td>L-Malate</td>\n",
       "      <td>0.000600</td>\n",
       "      <td>1.520433e-04</td>\n",
       "      <td>2.150218e-04</td>\n",
       "      <td>ser__L</td>\n",
       "      <td>0.042884</td>\n",
       "      <td>-3.221491</td>\n",
       "      <td>-1.367709</td>\n",
       "    </tr>\n",
       "    <tr>\n",
       "      <th>139</th>\n",
       "      <td>Serine</td>\n",
       "      <td>Pseudomonas</td>\n",
       "      <td>Pyruvate</td>\n",
       "      <td>0.000606</td>\n",
       "      <td>8.497930e-05</td>\n",
       "      <td>1.201789e-04</td>\n",
       "      <td>ser__L</td>\n",
       "      <td>0.046159</td>\n",
       "      <td>-3.217571</td>\n",
       "      <td>-1.335741</td>\n",
       "    </tr>\n",
       "    <tr>\n",
       "      <th>145</th>\n",
       "      <td>Succinic acid</td>\n",
       "      <td>Pseudomonas</td>\n",
       "      <td>D-Fructose</td>\n",
       "      <td>0.000015</td>\n",
       "      <td>3.148140e-06</td>\n",
       "      <td>4.452143e-06</td>\n",
       "      <td>succ</td>\n",
       "      <td>0.056650</td>\n",
       "      <td>-4.823232</td>\n",
       "      <td>-1.246804</td>\n",
       "    </tr>\n",
       "    <tr>\n",
       "      <th>146</th>\n",
       "      <td>Succinic acid</td>\n",
       "      <td>Pseudomonas</td>\n",
       "      <td>D-Glucose</td>\n",
       "      <td>0.000040</td>\n",
       "      <td>1.027016e-07</td>\n",
       "      <td>1.452420e-07</td>\n",
       "      <td>succ</td>\n",
       "      <td>0.063183</td>\n",
       "      <td>-4.401836</td>\n",
       "      <td>-1.199402</td>\n",
       "    </tr>\n",
       "    <tr>\n",
       "      <th>147</th>\n",
       "      <td>Succinic acid</td>\n",
       "      <td>Pseudomonas</td>\n",
       "      <td>Glycerol</td>\n",
       "      <td>0.000043</td>\n",
       "      <td>1.140410e-05</td>\n",
       "      <td>1.612784e-05</td>\n",
       "      <td>succ</td>\n",
       "      <td>0.057191</td>\n",
       "      <td>-4.368507</td>\n",
       "      <td>-1.242670</td>\n",
       "    </tr>\n",
       "    <tr>\n",
       "      <th>148</th>\n",
       "      <td>Succinic acid</td>\n",
       "      <td>Pseudomonas</td>\n",
       "      <td>L-Malate</td>\n",
       "      <td>0.033711</td>\n",
       "      <td>1.650976e-02</td>\n",
       "      <td>2.334832e-02</td>\n",
       "      <td>succ</td>\n",
       "      <td>0.049820</td>\n",
       "      <td>-1.472233</td>\n",
       "      <td>-1.302598</td>\n",
       "    </tr>\n",
       "    <tr>\n",
       "      <th>149</th>\n",
       "      <td>Succinic acid</td>\n",
       "      <td>Pseudomonas</td>\n",
       "      <td>Pyruvate</td>\n",
       "      <td>0.000104</td>\n",
       "      <td>5.739182e-05</td>\n",
       "      <td>8.116429e-05</td>\n",
       "      <td>succ</td>\n",
       "      <td>0.055414</td>\n",
       "      <td>-3.983193</td>\n",
       "      <td>-1.256378</td>\n",
       "    </tr>\n",
       "    <tr>\n",
       "      <th>178</th>\n",
       "      <td>alpha-Ketoglutaric acid</td>\n",
       "      <td>Pseudomonas</td>\n",
       "      <td>L-Malate</td>\n",
       "      <td>0.005380</td>\n",
       "      <td>2.349761e-03</td>\n",
       "      <td>3.323064e-03</td>\n",
       "      <td>akg</td>\n",
       "      <td>0.063346</td>\n",
       "      <td>-2.269186</td>\n",
       "      <td>-1.198283</td>\n",
       "    </tr>\n",
       "    <tr>\n",
       "      <th>179</th>\n",
       "      <td>alpha-Ketoglutaric acid</td>\n",
       "      <td>Pseudomonas</td>\n",
       "      <td>Pyruvate</td>\n",
       "      <td>0.000266</td>\n",
       "      <td>4.926336e-06</td>\n",
       "      <td>6.966892e-06</td>\n",
       "      <td>akg</td>\n",
       "      <td>0.068284</td>\n",
       "      <td>-3.575082</td>\n",
       "      <td>-1.165678</td>\n",
       "    </tr>\n",
       "    <tr>\n",
       "      <th>188</th>\n",
       "      <td>beta-Hydroxybutyric acid</td>\n",
       "      <td>Pseudomonas</td>\n",
       "      <td>L-Malate</td>\n",
       "      <td>0.000745</td>\n",
       "      <td>2.559652e-06</td>\n",
       "      <td>3.619895e-06</td>\n",
       "      <td>bhb</td>\n",
       "      <td>0.075057</td>\n",
       "      <td>-3.127926</td>\n",
       "      <td>-1.124611</td>\n",
       "    </tr>\n",
       "    <tr>\n",
       "      <th>189</th>\n",
       "      <td>beta-Hydroxybutyric acid</td>\n",
       "      <td>Pseudomonas</td>\n",
       "      <td>Pyruvate</td>\n",
       "      <td>0.002149</td>\n",
       "      <td>9.175302e-04</td>\n",
       "      <td>1.297584e-03</td>\n",
       "      <td>bhb</td>\n",
       "      <td>0.072542</td>\n",
       "      <td>-2.667740</td>\n",
       "      <td>-1.139411</td>\n",
       "    </tr>\n",
       "  </tbody>\n",
       "</table>\n",
       "</div>"
      ],
      "text/plain": [
       "                   Metabolite       Strain Carbon source  Rate [mmol/gDW/h]  \\\n",
       "5                 Acetic acid  Pseudomonas    D-Fructose           0.171753   \n",
       "6                 Acetic acid  Pseudomonas     D-Glucose           0.079440   \n",
       "7                 Acetic acid  Pseudomonas      Glycerol           0.166165   \n",
       "8                 Acetic acid  Pseudomonas      L-Malate           0.035835   \n",
       "16           Acetyl-ornithine  Pseudomonas     D-Glucose           0.000290   \n",
       "18           Acetyl-ornithine  Pseudomonas      L-Malate           0.000194   \n",
       "19           Acetyl-ornithine  Pseudomonas      Pyruvate           0.000303   \n",
       "35                 Asparagine  Pseudomonas    D-Fructose           0.000255   \n",
       "36                 Asparagine  Pseudomonas     D-Glucose           0.000262   \n",
       "55                Citric acid  Pseudomonas    D-Fructose           0.000222   \n",
       "56                Citric acid  Pseudomonas     D-Glucose           0.001402   \n",
       "57                Citric acid  Pseudomonas      Glycerol           0.000208   \n",
       "58                Citric acid  Pseudomonas      L-Malate           0.002667   \n",
       "59                Citric acid  Pseudomonas      Pyruvate           0.001675   \n",
       "65               Fumaric acid  Pseudomonas    D-Fructose           0.000019   \n",
       "66               Fumaric acid  Pseudomonas     D-Glucose           0.000018   \n",
       "67               Fumaric acid  Pseudomonas      Glycerol           0.000033   \n",
       "68               Fumaric acid  Pseudomonas      L-Malate           0.013717   \n",
       "69               Fumaric acid  Pseudomonas      Pyruvate           0.000193   \n",
       "75                    Glycine  Pseudomonas    D-Fructose           0.002419   \n",
       "76                    Glycine  Pseudomonas     D-Glucose           0.003009   \n",
       "77                    Glycine  Pseudomonas      Glycerol           0.002028   \n",
       "95                 Methionine  Pseudomonas    D-Fructose           0.000082   \n",
       "96                 Methionine  Pseudomonas     D-Glucose           0.000143   \n",
       "97                 Methionine  Pseudomonas      Glycerol           0.000103   \n",
       "98                 Methionine  Pseudomonas      L-Malate           0.000055   \n",
       "99                 Methionine  Pseudomonas      Pyruvate           0.000296   \n",
       "105            Propionic acid  Pseudomonas    D-Fructose           0.002997   \n",
       "107            Propionic acid  Pseudomonas      Glycerol           0.004836   \n",
       "108            Propionic acid  Pseudomonas      L-Malate           0.001009   \n",
       "115                Putrescine  Pseudomonas    D-Fructose           0.000018   \n",
       "119                Putrescine  Pseudomonas      Pyruvate           0.000100   \n",
       "128              Pyruvic acid  Pseudomonas      L-Malate           0.190438   \n",
       "129              Pyruvic acid  Pseudomonas      Pyruvate           0.476623   \n",
       "138                    Serine  Pseudomonas      L-Malate           0.000600   \n",
       "139                    Serine  Pseudomonas      Pyruvate           0.000606   \n",
       "145             Succinic acid  Pseudomonas    D-Fructose           0.000015   \n",
       "146             Succinic acid  Pseudomonas     D-Glucose           0.000040   \n",
       "147             Succinic acid  Pseudomonas      Glycerol           0.000043   \n",
       "148             Succinic acid  Pseudomonas      L-Malate           0.033711   \n",
       "149             Succinic acid  Pseudomonas      Pyruvate           0.000104   \n",
       "178   alpha-Ketoglutaric acid  Pseudomonas      L-Malate           0.005380   \n",
       "179   alpha-Ketoglutaric acid  Pseudomonas      Pyruvate           0.000266   \n",
       "188  beta-Hydroxybutyric acid  Pseudomonas      L-Malate           0.000745   \n",
       "189  beta-Hydroxybutyric acid  Pseudomonas      Pyruvate           0.002149   \n",
       "\n",
       "     Std. Err [mmol/gDW/h]  Std. Dev [mmol/gDW/h] Metabolite ID  \\\n",
       "5             1.195496e-03           1.690687e-03            ac   \n",
       "6             2.182409e-02           3.086392e-02            ac   \n",
       "7             1.010890e-02           1.429615e-02            ac   \n",
       "8             3.788285e-03           5.357445e-03            ac   \n",
       "16            2.901320e-04           4.103086e-04         acorn   \n",
       "18            2.201301e-05           3.113110e-05         acorn   \n",
       "19            2.709485e-05           3.831790e-05         acorn   \n",
       "35            2.554377e-04           3.612435e-04        asn__L   \n",
       "36            2.624026e-04           3.710933e-04        asn__L   \n",
       "55            0.000000e+00           0.000000e+00           cit   \n",
       "56            1.489173e-04           2.106009e-04           cit   \n",
       "57            1.642697e-05           2.323124e-05           cit   \n",
       "58            5.836007e-04           8.253360e-04           cit   \n",
       "59            0.000000e+00           0.000000e+00           cit   \n",
       "65            1.952644e-06           2.761456e-06           fum   \n",
       "66            2.054032e-06           2.904840e-06           fum   \n",
       "67            8.529386e-07           1.206237e-06           fum   \n",
       "68            9.217308e-03           1.303524e-02           fum   \n",
       "69            2.093693e-05           2.960929e-05           fum   \n",
       "75            2.430843e-04           3.437731e-04           gly   \n",
       "76            2.054032e-05           2.904840e-05           gly   \n",
       "77            3.664477e-04           5.182353e-04           gly   \n",
       "95            2.044299e-05           2.891075e-05        met__L   \n",
       "96            8.067210e-05           1.140876e-04        met__L   \n",
       "97            6.949870e-06           9.828600e-06        met__L   \n",
       "98            5.528849e-05           7.818973e-05        met__L   \n",
       "99            1.170005e-05           1.654637e-05        met__L   \n",
       "105           8.448174e-04           1.194752e-03           ppa   \n",
       "107           4.959680e-04           7.014046e-04           ppa   \n",
       "108           1.008503e-03           1.426239e-03           ppa   \n",
       "115           2.988741e-06           4.226718e-06          ptrc   \n",
       "119           9.975831e-05           1.410796e-04          ptrc   \n",
       "128           5.119305e-04           7.239790e-04           pyr   \n",
       "129           1.231584e-02           1.741723e-02           pyr   \n",
       "138           1.520433e-04           2.150218e-04        ser__L   \n",
       "139           8.497930e-05           1.201789e-04        ser__L   \n",
       "145           3.148140e-06           4.452143e-06          succ   \n",
       "146           1.027016e-07           1.452420e-07          succ   \n",
       "147           1.140410e-05           1.612784e-05          succ   \n",
       "148           1.650976e-02           2.334832e-02          succ   \n",
       "149           5.739182e-05           8.116429e-05          succ   \n",
       "178           2.349761e-03           3.323064e-03           akg   \n",
       "179           4.926336e-06           6.966892e-06           akg   \n",
       "188           2.559652e-06           3.619895e-06           bhb   \n",
       "189           9.175302e-04           1.297584e-03           bhb   \n",
       "\n",
       "     Metabolite value [gDW/mmol]  log10(Rate [mmol/gDW/h])  \\\n",
       "5                       0.031085                 -0.765096   \n",
       "6                       0.034233                 -1.099963   \n",
       "7                       0.031438                 -0.779460   \n",
       "8                       0.031456                 -1.445691   \n",
       "16                      0.141310                 -3.537404   \n",
       "18                      0.131255                 -3.712150   \n",
       "19                      0.131682                 -3.518601   \n",
       "35                      0.061683                 -3.592715   \n",
       "36                      0.062618                 -3.581032   \n",
       "55                      0.079383                 -3.652939   \n",
       "56                      0.084426                 -2.853290   \n",
       "57                      0.079885                 -3.680902   \n",
       "58                      0.072920                 -2.573951   \n",
       "59                      0.077569                 -2.775997   \n",
       "65                      0.051861                 -4.710264   \n",
       "66                      0.053485                 -4.747874   \n",
       "67                      0.051999                 -4.478843   \n",
       "68                      0.044964                 -1.862735   \n",
       "69                      0.050729                 -3.713636   \n",
       "75                      0.026301                 -2.616384   \n",
       "76                      0.029233                 -2.521555   \n",
       "77                      0.026044                 -2.692911   \n",
       "95                      0.139193                 -4.084233   \n",
       "96                      0.134937                 -3.844004   \n",
       "97                      0.138833                 -3.987228   \n",
       "98                      0.133172                 -4.257365   \n",
       "99                      0.136148                 -3.528421   \n",
       "105                     0.052499                 -2.523355   \n",
       "107                     0.053240                 -2.315471   \n",
       "108                     0.052066                 -2.996323   \n",
       "115                     0.102417                 -4.755134   \n",
       "119                     0.100183                 -4.001051   \n",
       "128                     0.035314                 -0.720246   \n",
       "129                     0.036545                 -0.321825   \n",
       "138                     0.042884                 -3.221491   \n",
       "139                     0.046159                 -3.217571   \n",
       "145                     0.056650                 -4.823232   \n",
       "146                     0.063183                 -4.401836   \n",
       "147                     0.057191                 -4.368507   \n",
       "148                     0.049820                 -1.472233   \n",
       "149                     0.055414                 -3.983193   \n",
       "178                     0.063346                 -2.269186   \n",
       "179                     0.068284                 -3.575082   \n",
       "188                     0.075057                 -3.127926   \n",
       "189                     0.072542                 -2.667740   \n",
       "\n",
       "     log10(Metabolite value [gDW/mmol])  \n",
       "5                             -1.507444  \n",
       "6                             -1.465552  \n",
       "7                             -1.502540  \n",
       "8                             -1.502298  \n",
       "16                            -0.849828  \n",
       "18                            -0.881884  \n",
       "19                            -0.880475  \n",
       "35                            -1.209833  \n",
       "36                            -1.203304  \n",
       "55                            -1.100274  \n",
       "56                            -1.073526  \n",
       "57                            -1.097533  \n",
       "58                            -1.137151  \n",
       "59                            -1.110309  \n",
       "65                            -1.285162  \n",
       "66                            -1.271769  \n",
       "67                            -1.284002  \n",
       "68                            -1.347133  \n",
       "69                            -1.294742  \n",
       "75                            -1.580021  \n",
       "76                            -1.534131  \n",
       "77                            -1.584287  \n",
       "95                            -0.856382  \n",
       "96                            -0.869870  \n",
       "97                            -0.857508  \n",
       "98                            -0.875589  \n",
       "99                            -0.865990  \n",
       "105                           -1.279849  \n",
       "107                           -1.273765  \n",
       "108                           -1.283443  \n",
       "115                           -0.989627  \n",
       "119                           -0.999207  \n",
       "128                           -1.452057  \n",
       "129                           -1.437171  \n",
       "138                           -1.367709  \n",
       "139                           -1.335741  \n",
       "145                           -1.246804  \n",
       "146                           -1.199402  \n",
       "147                           -1.242670  \n",
       "148                           -1.302598  \n",
       "149                           -1.256378  \n",
       "178                           -1.198283  \n",
       "179                           -1.165678  \n",
       "188                           -1.124611  \n",
       "189                           -1.139411  "
      ]
     },
     "execution_count": 45,
     "metadata": {},
     "output_type": "execute_result"
    }
   ],
   "source": [
    "dfi"
   ]
  }
 ],
 "metadata": {
  "kernelspec": {
   "display_name": "Python 3 (ipykernel)",
   "language": "python",
   "name": "python3"
  },
  "language_info": {
   "codemirror_mode": {
    "name": "ipython",
    "version": 3
   },
   "file_extension": ".py",
   "mimetype": "text/x-python",
   "name": "python",
   "nbconvert_exporter": "python",
   "pygments_lexer": "ipython3",
   "version": "3.9.21"
  }
 },
 "nbformat": 4,
 "nbformat_minor": 5
}
