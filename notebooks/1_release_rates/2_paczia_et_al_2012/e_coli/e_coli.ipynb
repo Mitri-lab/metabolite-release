{
 "cells": [
  {
   "cell_type": "code",
   "execution_count": 1,
   "id": "ca311fb3-8dbe-41e9-8497-151053d63496",
   "metadata": {},
   "outputs": [],
   "source": [
    "import cobra\n",
    "import numpy as np\n",
    "from matplotlib import pyplot as plt\n",
    "import pandas as pd "
   ]
  },
  {
   "cell_type": "code",
   "execution_count": 2,
   "id": "a87647c6-f0da-4778-ae52-967c5ad281fe",
   "metadata": {},
   "outputs": [
    {
     "data": {
      "text/plain": [
       "'0.26.2'"
      ]
     },
     "execution_count": 2,
     "metadata": {},
     "output_type": "execute_result"
    }
   ],
   "source": [
    "cobra.__version__"
   ]
  },
  {
   "cell_type": "code",
   "execution_count": 3,
   "id": "eba5971b-8f56-47f9-9074-53ef89b9869c",
   "metadata": {
    "tags": []
   },
   "outputs": [
    {
     "ename": "NameError",
     "evalue": "name 'cobra' is not defined",
     "output_type": "error",
     "traceback": [
      "\u001b[0;31m---------------------------------------------------------------------------\u001b[0m",
      "\u001b[0;31mNameError\u001b[0m                                 Traceback (most recent call last)",
      "Cell \u001b[0;32mIn[3], line 1\u001b[0m\n\u001b[0;32m----> 1\u001b[0m model \u001b[38;5;241m=\u001b[39m cobra\u001b[38;5;241m.\u001b[39mio\u001b[38;5;241m.\u001b[39mread_sbml_model(\u001b[38;5;124m'\u001b[39m\u001b[38;5;124mmodels/e_coli/momentiJO1366.xml\u001b[39m\u001b[38;5;124m'\u001b[39m)\n",
      "\u001b[0;31mNameError\u001b[0m: name 'cobra' is not defined"
     ]
    }
   ],
   "source": [
    "model = cobra.io.read_sbml_model('models/e_coli/momentiJO1366.xml')\n",
    "#model = cobra.io.read_sbml_model('eciML1515_batch.xml')\n",
    "#model = cobra.io.read_sbml_model('ecYeastGEM.xml')"
   ]
  },
  {
   "cell_type": "code",
   "execution_count": 4,
   "id": "3caeb7a6-069c-423f-8e3c-1397bc6ebe0c",
   "metadata": {},
   "outputs": [],
   "source": [
    "model.reactions.EX_glc__D_e.lower_bound = -10\n",
    "#model.reactions.EX_lac__L_e.lower_bound = -10 # This was only used to check diauxie\n",
    "# This is the standard value used for E. coli, see data from\n",
    "# https://www.sciencedirect.com/science/article/pii/S2405471216302903?via%3Dihub\n"
   ]
  },
  {
   "cell_type": "code",
   "execution_count": 5,
   "id": "ddd7b72a-434b-4317-833e-f27cdd1f724e",
   "metadata": {},
   "outputs": [
    {
     "name": "stdout",
     "output_type": "stream",
     "text": [
      "EX_ca2_e: ca2_e <=>  -1000.0\n",
      "EX_cbl1_e: cbl1_e <=>  -0.01\n",
      "EX_cl_e: cl_e <=>  -1000.0\n",
      "EX_co2_e: co2_e <=>  -1000.0\n",
      "EX_cobalt2_e: cobalt2_e <=>  -1000.0\n",
      "EX_cu2_e: cu2_e <=>  -1000.0\n",
      "EX_fe2_e: fe2_e <=>  -1000.0\n",
      "EX_fe3_e: fe3_e <=>  -1000.0\n",
      "EX_glc__D_e: glc__D_e <=>  -10\n",
      "EX_h_e: h_e <=>  -1000.0\n",
      "EX_h2o_e: h2o_e <=>  -1000.0\n",
      "EX_k_e: k_e <=>  -1000.0\n",
      "EX_mg2_e: mg2_e <=>  -1000.0\n",
      "EX_mn2_e: mn2_e <=>  -1000.0\n",
      "EX_mobd_e: mobd_e <=>  -1000.0\n",
      "EX_nh4_e: nh4_e <=>  -1000.0\n",
      "EX_ni2_e: ni2_e <=>  -1000.0\n",
      "EX_o2_e: o2_e <=>  -1000.0\n",
      "EX_pi_e: pi_e <=>  -1000.0\n",
      "EX_so4_e: so4_e <=>  -1000.0\n",
      "EX_zn2_e: zn2_e <=>  -1000.0\n"
     ]
    }
   ],
   "source": [
    "for r in model.exchanges:\n",
    "    if r.lower_bound != 0:\n",
    "        print(r, r.lower_bound)"
   ]
  },
  {
   "cell_type": "code",
   "execution_count": 6,
   "id": "2c3d2aa2-e976-4113-bc5a-0b2fddd4dd23",
   "metadata": {},
   "outputs": [],
   "source": [
    "for r in model.exchanges:\n",
    "    r.upper_bound = 1000\n"
   ]
  },
  {
   "cell_type": "code",
   "execution_count": 2,
   "id": "f1d0fcbb-32b9-4bb6-b38d-d96cc2400625",
   "metadata": {
    "tags": []
   },
   "outputs": [
    {
     "ename": "NameError",
     "evalue": "name 'model' is not defined",
     "output_type": "error",
     "traceback": [
      "\u001b[0;31m---------------------------------------------------------------------------\u001b[0m",
      "\u001b[0;31mNameError\u001b[0m                                 Traceback (most recent call last)",
      "Cell \u001b[0;32mIn[2], line 1\u001b[0m\n\u001b[0;32m----> 1\u001b[0m model\u001b[38;5;241m.\u001b[39mreactions\u001b[38;5;241m.\u001b[39mEX_glc__D_e\u001b[38;5;241m.\u001b[39mlower_bound \u001b[38;5;241m=\u001b[39m \u001b[38;5;241m0\u001b[39m\n\u001b[1;32m      2\u001b[0m \u001b[38;5;28;01mfor\u001b[39;00m r \u001b[38;5;129;01min\u001b[39;00m model\u001b[38;5;241m.\u001b[39mexhcanges:\n\u001b[1;32m      3\u001b[0m     \u001b[38;5;28mprint\u001b[39m(r)\n",
      "\u001b[0;31mNameError\u001b[0m: name 'model' is not defined"
     ]
    }
   ],
   "source": []
  },
  {
   "cell_type": "markdown",
   "id": "a668da15-504f-4fa8-9e62-ff7f08c446fb",
   "metadata": {},
   "source": [
    "# Flux variability analysis"
   ]
  },
  {
   "cell_type": "code",
   "execution_count": 47,
   "id": "051523ae-517a-4be2-a849-d75c5929b888",
   "metadata": {},
   "outputs": [],
   "source": [
    "dfv = cobra.flux_analysis.flux_variability_analysis(model, reaction_list = model.exchanges)"
   ]
  },
  {
   "cell_type": "code",
   "execution_count": 25,
   "id": "292564ae-41db-4cfa-b44e-997a24b4cd6f",
   "metadata": {},
   "outputs": [],
   "source": [
    "dfv2 = cobra.flux_analysis.flux_variability_analysis(model, reaction_list = model.exchanges, fraction_of_optimum = 0.99)"
   ]
  },
  {
   "cell_type": "code",
   "execution_count": 49,
   "id": "9348ab11-7974-46d6-b400-7a1ecdc4d89a",
   "metadata": {},
   "outputs": [],
   "source": [
    "dfv = dfv.loc[dfv.abs().max(1) > 1e-4, :]\n",
    "dfv.to_csv('dfv.csv', float_format='%.3f', sep = \";\")"
   ]
  },
  {
   "cell_type": "code",
   "execution_count": 26,
   "id": "05bf2ee8-b12d-4253-ac97-bdd63fdb9689",
   "metadata": {},
   "outputs": [],
   "source": [
    "dfv2 = dfv2.loc[dfv2.abs().max(1) > 1e-4, :]\n",
    "dfv2.to_csv('dfv2_iecML151_batch.csv', float_format='%.3f', sep = \";\")"
   ]
  },
  {
   "cell_type": "code",
   "execution_count": 30,
   "id": "60df1005-4f17-4603-a525-39455ee48c75",
   "metadata": {},
   "outputs": [
    {
     "name": "stdout",
     "output_type": "stream",
     "text": [
      "Objective\n",
      "=========\n",
      "1.0 BIOMASS_Ec_iJO1366_core_53p95M = 0.7044758867945058\n",
      "\n",
      "Uptake\n",
      "------\n",
      "Metabolite     Reaction      Flux  C-Number  C-Flux\n",
      " prot_pool  ER_pool_TG_     0.095         0   0.00%\n",
      "     ca2_e     EX_ca2_e  0.003667         0   0.00%\n",
      "      cl_e      EX_cl_e  0.003667         0   0.00%\n",
      " cobalt2_e EX_cobalt2_e 1.761E-05         0   0.00%\n",
      "     cu2_e     EX_cu2_e 0.0004995         0   0.00%\n",
      "     fe2_e     EX_fe2_e   0.01131         0   0.00%\n",
      "  glc__D_e  EX_glc__D_e        10         6 100.00%\n",
      "       k_e       EX_k_e    0.1375         0   0.00%\n",
      "     mg2_e     EX_mg2_e  0.006111         0   0.00%\n",
      "     mn2_e     EX_mn2_e 0.0004868         0   0.00%\n",
      "    mobd_e    EX_mobd_e 9.088E-05         0   0.00%\n",
      "     nh4_e     EX_nh4_e     7.609         0   0.00%\n",
      "     ni2_e     EX_ni2_e 0.0002275         0   0.00%\n",
      "      o2_e      EX_o2_e     19.86         0   0.00%\n",
      "      pi_e      EX_pi_e    0.6796         0   0.00%\n",
      "     so4_e     EX_so4_e    0.1777         0   0.00%\n",
      "     zn2_e     EX_zn2_e 0.0002402         0   0.00%\n",
      "\n",
      "Secretion\n",
      "---------\n",
      "Metabolite    Reaction       Flux  C-Number C-Flux\n",
      "  4crsol_c DM_4crsol_c -0.0001571         7  0.00%\n",
      "   5drib_c  DM_5drib_c -0.0001571         5  0.00%\n",
      "  mththf_c DM_mththf_c -0.0003142         5  0.01%\n",
      "      ac_e     EX_ac_e     -4.859         2 31.26%\n",
      "     co2_e    EX_co2_e     -21.36         1 68.73%\n",
      "     h2o_e    EX_h2o_e     -39.97         0  0.00%\n",
      "       h_e      EX_h_e     -11.33         0  0.00%\n",
      "\n"
     ]
    }
   ],
   "source": [
    "s = model.optimize()\n",
    "print(model.summary())"
   ]
  },
  {
   "cell_type": "markdown",
   "id": "462e2c66-0866-4723-aa89-25d12beaea05",
   "metadata": {},
   "source": [
    "## Check metabolite turnover"
   ]
  },
  {
   "cell_type": "code",
   "execution_count": 65,
   "id": "ba6626c4-0363-4383-81a2-ce9403904430",
   "metadata": {},
   "outputs": [],
   "source": [
    "solution = model.optimize()"
   ]
  },
  {
   "cell_type": "code",
   "execution_count": 98,
   "id": "dd9b9184-75ea-454d-9c87-c0dcd7c0dd56",
   "metadata": {},
   "outputs": [
    {
     "name": "stdout",
     "output_type": "stream",
     "text": [
      "#### pyr_c #####\n",
      "#### ac_c #####\n",
      "#### for_c #####\n",
      "#### etoh_c #####\n",
      "#### ala__L_c #####\n",
      "#### akg_c #####\n",
      "#### gln__L_c #####\n",
      "#### lys__L_c #####\n",
      "#### fum_c #####\n",
      "#### dha_c #####\n",
      "#### acald_c #####\n",
      "#### orot_c #####\n",
      "#### ura_c #####\n"
     ]
    },
    {
     "data": {
      "text/html": [
       "<div>\n",
       "<style scoped>\n",
       "    .dataframe tbody tr th:only-of-type {\n",
       "        vertical-align: middle;\n",
       "    }\n",
       "\n",
       "    .dataframe tbody tr th {\n",
       "        vertical-align: top;\n",
       "    }\n",
       "\n",
       "    .dataframe thead th {\n",
       "        text-align: right;\n",
       "    }\n",
       "</style>\n",
       "<table border=\"1\" class=\"dataframe\">\n",
       "  <thead>\n",
       "    <tr style=\"text-align: right;\">\n",
       "      <th></th>\n",
       "      <th>0</th>\n",
       "      <th>1</th>\n",
       "      <th>2</th>\n",
       "      <th>3</th>\n",
       "      <th>4</th>\n",
       "      <th>5</th>\n",
       "      <th>6</th>\n",
       "      <th>7</th>\n",
       "      <th>8</th>\n",
       "      <th>9</th>\n",
       "      <th>10</th>\n",
       "      <th>11</th>\n",
       "      <th>12</th>\n",
       "    </tr>\n",
       "  </thead>\n",
       "  <tbody>\n",
       "    <tr>\n",
       "      <th>0</th>\n",
       "      <td>pyr_c</td>\n",
       "      <td>ac_c</td>\n",
       "      <td>for_c</td>\n",
       "      <td>etoh_c</td>\n",
       "      <td>ala__L_c</td>\n",
       "      <td>akg_c</td>\n",
       "      <td>gln__L_c</td>\n",
       "      <td>lys__L_c</td>\n",
       "      <td>fum_c</td>\n",
       "      <td>dha_c</td>\n",
       "      <td>acald_c</td>\n",
       "      <td>orot_c</td>\n",
       "      <td>ura_c</td>\n",
       "    </tr>\n",
       "    <tr>\n",
       "      <th>1</th>\n",
       "      <td>14.503162</td>\n",
       "      <td>4.858798</td>\n",
       "      <td>1.250598</td>\n",
       "      <td>0</td>\n",
       "      <td>0.708929</td>\n",
       "      <td>11.289496</td>\n",
       "      <td>1.275532</td>\n",
       "      <td>0.241749</td>\n",
       "      <td>6.038156</td>\n",
       "      <td>8.979078</td>\n",
       "      <td>1.171939</td>\n",
       "      <td>0.233037</td>\n",
       "      <td>0</td>\n",
       "    </tr>\n",
       "  </tbody>\n",
       "</table>\n",
       "</div>"
      ],
      "text/plain": [
       "          0         1         2       3         4          5         6   \\\n",
       "0      pyr_c      ac_c     for_c  etoh_c  ala__L_c      akg_c  gln__L_c   \n",
       "1  14.503162  4.858798  1.250598       0  0.708929  11.289496  1.275532   \n",
       "\n",
       "         7         8         9         10        11     12  \n",
       "0  lys__L_c     fum_c     dha_c   acald_c    orot_c  ura_c  \n",
       "1  0.241749  6.038156  8.979078  1.171939  0.233037      0  "
      ]
     },
     "execution_count": 98,
     "metadata": {},
     "output_type": "execute_result"
    }
   ],
   "source": [
    "total_flux_list = []\n",
    "met_list = ['pyr_c', 'ac_c', 'for_c', 'etoh_c', 'ala__L_c', 'akg_c', 'gln__L_c', 'lys__L_c', 'fum_c', 'dha_c', 'acald_c', 'orot_c', 'ura_c']\n",
    "for m_id in met_list:\n",
    "    m = model.metabolites.get_by_id(m_id)\n",
    "    total_flux = 0\n",
    "    print(\"#### {0} #####\".format(m_id))\n",
    "    for r in m.reactions:\n",
    "        flux_r = solution.fluxes[r.id]*r.get_coefficient(m_id)\n",
    "        if flux_r > 0:\n",
    "            total_flux += flux_r\n",
    "    total_flux_list.append(total_flux)\n",
    "pd.DataFrame([met_list, total_flux_list])"
   ]
  },
  {
   "cell_type": "code",
   "execution_count": 99,
   "id": "88814bf5-7ed6-4873-bff7-3874cd7593a2",
   "metadata": {},
   "outputs": [
    {
     "data": {
      "text/html": [
       "<h3>orot_c</h3><p>C5H3N2O4</p><h4>Producing Reactions</h4><table border=\"1\" class=\"dataframe\">\n",
       "  <thead>\n",
       "    <tr style=\"text-align: right;\">\n",
       "      <th>Percent</th>\n",
       "      <th>Flux</th>\n",
       "      <th>Reaction</th>\n",
       "      <th>Definition</th>\n",
       "    </tr>\n",
       "  </thead>\n",
       "  <tbody>\n",
       "    <tr>\n",
       "      <td>100.00%</td>\n",
       "      <td>0.233</td>\n",
       "      <td>DHORD2</td>\n",
       "      <td>dhor__S_c + 0.000230031515597613 prot_pool + q8_c --&gt; orot_c + q8h2_c</td>\n",
       "    </tr>\n",
       "  </tbody>\n",
       "</table><h4>Consuming Reactions</h4><table border=\"1\" class=\"dataframe\">\n",
       "  <thead>\n",
       "    <tr style=\"text-align: right;\">\n",
       "      <th>Percent</th>\n",
       "      <th>Flux</th>\n",
       "      <th>Reaction</th>\n",
       "      <th>Definition</th>\n",
       "    </tr>\n",
       "  </thead>\n",
       "  <tbody>\n",
       "    <tr>\n",
       "      <td>100.00%</td>\n",
       "      <td>-0.233</td>\n",
       "      <td>ORPT_TG_reverse</td>\n",
       "      <td>orot_c + 0.00309156120831178 prot_pool + prpp_c --&gt; orot5p_c + ppi_c</td>\n",
       "    </tr>\n",
       "  </tbody>\n",
       "</table>"
      ],
      "text/plain": [
       "<cobra.summary.metabolite_summary.MetaboliteSummary at 0x23b8e16e190>"
      ]
     },
     "execution_count": 99,
     "metadata": {},
     "output_type": "execute_result"
    }
   ],
   "source": [
    "model.metabolites.orot_c.summary()"
   ]
  },
  {
   "cell_type": "code",
   "execution_count": 85,
   "id": "f22c7270-3062-442e-a316-09eb78759e98",
   "metadata": {},
   "outputs": [
    {
     "data": {
      "text/html": [
       "<h3>dha_c</h3><p>C3H6O3</p><h4>Producing Reactions</h4><table border=\"1\" class=\"dataframe\">\n",
       "  <thead>\n",
       "    <tr style=\"text-align: right;\">\n",
       "      <th>Percent</th>\n",
       "      <th>Flux</th>\n",
       "      <th>Reaction</th>\n",
       "      <th>Definition</th>\n",
       "    </tr>\n",
       "  </thead>\n",
       "  <tbody>\n",
       "    <tr>\n",
       "      <td>100.00%</td>\n",
       "      <td>8.979</td>\n",
       "      <td>F6PA_TG_forward</td>\n",
       "      <td>f6p_c + 5.67753828229373e-05 prot_pool --&gt; dha_c + g3p_c</td>\n",
       "    </tr>\n",
       "  </tbody>\n",
       "</table><h4>Consuming Reactions</h4><table border=\"1\" class=\"dataframe\">\n",
       "  <thead>\n",
       "    <tr style=\"text-align: right;\">\n",
       "      <th>Percent</th>\n",
       "      <th>Flux</th>\n",
       "      <th>Reaction</th>\n",
       "      <th>Definition</th>\n",
       "    </tr>\n",
       "  </thead>\n",
       "  <tbody>\n",
       "    <tr>\n",
       "      <td>100.00%</td>\n",
       "      <td>-8.979</td>\n",
       "      <td>DHAPT</td>\n",
       "      <td>dha_c + pep_c + 0.000456677380424109 prot_pool --&gt; dhap_c + pyr_c</td>\n",
       "    </tr>\n",
       "  </tbody>\n",
       "</table>"
      ],
      "text/plain": [
       "<cobra.summary.metabolite_summary.MetaboliteSummary at 0x23b82faab80>"
      ]
     },
     "execution_count": 85,
     "metadata": {},
     "output_type": "execute_result"
    }
   ],
   "source": [
    "model.metabolites.dha_c.summary(solution)"
   ]
  },
  {
   "cell_type": "markdown",
   "id": "9a5eeb89-a157-4287-9e7f-34f412d3bd63",
   "metadata": {},
   "source": [
    "### note to dha\n",
    "The flux shown here does not represent the standard flux in glycolysis, using \n",
    "https://www.genome.jp/entry/2.7.1.121. From a brief google search I found little info about this enzyme in ecoli. The producing reaction https://www.uniprot.org/uniprotkb/P78055/entry is neither the standard flux in E. coli glycolysis, so it is tempting to assume that this one is not necesseraily functioning, at least not at such a high rate\n",
    "\n",
    "From https://www.sciencedirect.com/science/article/pii/S2405471216302903?via%3Dihub :\n",
    "__The reactions F6PA and DHAPT are known to be utilized during growth on glycerol but are not active in growth on glucose (Gutknecht et al., 2001).__\n"
   ]
  },
  {
   "cell_type": "code",
   "execution_count": 5,
   "id": "65598bf2-afb0-415c-91d3-2aaa45d8e33c",
   "metadata": {},
   "outputs": [
    {
     "ename": "NameError",
     "evalue": "name 'model' is not defined",
     "output_type": "error",
     "traceback": [
      "\u001b[1;31m---------------------------------------------------------------------------\u001b[0m",
      "\u001b[1;31mNameError\u001b[0m                                 Traceback (most recent call last)",
      "Input \u001b[1;32mIn [5]\u001b[0m, in \u001b[0;36m<cell line: 1>\u001b[1;34m()\u001b[0m\n\u001b[1;32m----> 1\u001b[0m \u001b[38;5;28;01mwith\u001b[39;00m \u001b[43mmodel\u001b[49m:\n\u001b[0;32m      2\u001b[0m     model\u001b[38;5;241m.\u001b[39mreactions\u001b[38;5;241m.\u001b[39mF6PA_TG_forward\u001b[38;5;241m.\u001b[39mknock_out() \n\u001b[0;32m      3\u001b[0m     \u001b[38;5;66;03m# OR KNOCK OUT GENES  b0825 or G_b3946, or \u001b[39;00m\n\u001b[0;32m      4\u001b[0m     \u001b[38;5;66;03m# DHAPT (or its genes b2415, G_b1199, G_b1200, G_b1198, G_b2416, \u001b[39;00m\n\u001b[0;32m      5\u001b[0m     \u001b[38;5;66;03m# From https://www.sciencedirect.com/science/article/pii/S2405471216302903?via%3Dihub :\u001b[39;00m\n\u001b[0;32m      6\u001b[0m     \u001b[38;5;66;03m# The reactions F6PA and DHAPT are known to be utilized during growth on glycerol but are not active in growth on glucose (Gutknecht et al., 2001).\u001b[39;00m\n",
      "\u001b[1;31mNameError\u001b[0m: name 'model' is not defined"
     ]
    }
   ],
   "source": [
    "with model:\n",
    "    model.reactions.F6PA_TG_forward.knock_out() \n",
    "    # OR KNOCK OUT GENES  b0825 or G_b3946, or \n",
    "    # DHAPT (or its genes b2415, G_b1199, G_b1200, G_b1198, G_b2416, \n",
    "    # From https://www.sciencedirect.com/science/article/pii/S2405471216302903?via%3Dihub :\n",
    "    # The reactions F6PA and DHAPT are known to be utilized during growth on glycerol but are not active in growth on glucose (Gutknecht et al., 2001).\n",
    "    solution_delta_F6PA_TG = model.optimize()\n",
    "    print(model.metabolites.dha_c.summary(solution_delta_F6PA_TG))\n",
    "    print(solution_delta_F6PA_TG.objective_value)"
   ]
  },
  {
   "cell_type": "code",
   "execution_count": 86,
   "id": "dac595fd-28ad-4809-81bd-5c416e7643a1",
   "metadata": {},
   "outputs": [
    {
     "data": {
      "text/html": [
       "<h3>acald_c</h3><p>C2H4O</p><h4>Producing Reactions</h4><table border=\"1\" class=\"dataframe\">\n",
       "  <thead>\n",
       "    <tr style=\"text-align: right;\">\n",
       "      <th>Percent</th>\n",
       "      <th>Flux</th>\n",
       "      <th>Reaction</th>\n",
       "      <th>Definition</th>\n",
       "    </tr>\n",
       "  </thead>\n",
       "  <tbody>\n",
       "    <tr>\n",
       "      <td>100.00%</td>\n",
       "      <td>1.172</td>\n",
       "      <td>THRA</td>\n",
       "      <td>0.00121915615627352 prot_pool + thr__L_c --&gt; acald_c + gly_c</td>\n",
       "    </tr>\n",
       "  </tbody>\n",
       "</table><h4>Consuming Reactions</h4><table border=\"1\" class=\"dataframe\">\n",
       "  <thead>\n",
       "    <tr style=\"text-align: right;\">\n",
       "      <th>Percent</th>\n",
       "      <th>Flux</th>\n",
       "      <th>Reaction</th>\n",
       "      <th>Definition</th>\n",
       "    </tr>\n",
       "  </thead>\n",
       "  <tbody>\n",
       "    <tr>\n",
       "      <td>100.00%</td>\n",
       "      <td>-1.172</td>\n",
       "      <td>ACALD_TG_forward</td>\n",
       "      <td>acald_c + coa_c + nad_c + 0.000842200717739499 prot_pool --&gt; accoa_c + h_c + nadh_c</td>\n",
       "    </tr>\n",
       "  </tbody>\n",
       "</table>"
      ],
      "text/plain": [
       "<cobra.summary.metabolite_summary.MetaboliteSummary at 0x23b84200640>"
      ]
     },
     "execution_count": 86,
     "metadata": {},
     "output_type": "execute_result"
    }
   ],
   "source": [
    "model.metabolites.acald_c.summary(solution)"
   ]
  },
  {
   "cell_type": "markdown",
   "id": "c46061a8-c670-4176-90fe-d9e0bc490e2a",
   "metadata": {},
   "source": [
    "### Note to acald\n",
    "https://www.ncbi.nlm.nih.gov/pmc/articles/PMC277611/\n",
    "Glycine is supposedly made from serine in E. coli\n",
    "\n",
    "Another paper indicating the glycine is made from glycine, not threonine  https://microbialcellfactories.biomedcentral.com/articles/10.1186/s12934-020-01323-2\n",
    "\n",
    "Summary of threonine aldolase here:\n",
    "https://biocyc.org/gene?orgid=ECOLI&id=LTAA-MONOMER"
   ]
  },
  {
   "cell_type": "code",
   "execution_count": 95,
   "id": "53591711-3793-4420-a11c-08170673dc06",
   "metadata": {},
   "outputs": [
    {
     "name": "stdout",
     "output_type": "stream",
     "text": [
      "acald_c\n",
      "=======\n",
      "Formula: C2H4O\n",
      "\n",
      "Producing Reactions\n",
      "-------------------\n",
      "Empty DataFrame\n",
      "Columns: [Percent, Flux, Reaction, Definition]\n",
      "Index: []\n",
      "\n",
      "Consuming Reactions\n",
      "-------------------\n",
      "Empty DataFrame\n",
      "Columns: [Percent, Flux, Reaction, Definition]\n",
      "Index: []\n",
      "0.6564220253216607\n"
     ]
    }
   ],
   "source": [
    "with model:\n",
    "    model.reactions.THRA.knock_out() \n",
    "    model.reactions.THRA2.knock_out() \n",
    "    # OR KNOCK OUT GENES  b2551 G_b0870\n",
    "    solution_delta_THRA = model.optimize()\n",
    "    print(model.metabolites.acald_c.summary(solution_delta_THRA))\n",
    "    print(solution_delta_THRA.objective_value)"
   ]
  },
  {
   "cell_type": "code",
   "execution_count": null,
   "id": "da1bccf9-134f-44e3-9253-95f9dc4204e5",
   "metadata": {},
   "outputs": [],
   "source": []
  },
  {
   "cell_type": "markdown",
   "id": "ebe81a22-f877-4548-abd7-89043839e8a4",
   "metadata": {},
   "source": [
    "## Check shadow prices\n",
    "Initial conclusion: shadow prices seem to correspond to the range of FVA values, but not linearly. I excpect (but would need to check) that the spearman correlation between (1/shadow price) and max(FVA) of secreted metabolites is pretty good. "
   ]
  },
  {
   "cell_type": "code",
   "execution_count": 8,
   "id": "d8ca196b-5791-4e6a-b3b7-b1c0aec21e65",
   "metadata": {},
   "outputs": [],
   "source": [
    "import scipy.stats as st"
   ]
  },
  {
   "cell_type": "code",
   "execution_count": 95,
   "id": "dfdba304-4c1d-44ac-912b-1cdb663a47ab",
   "metadata": {},
   "outputs": [],
   "source": [
    "model = cobra.io.read_sbml_model('models/e_coli/momentiJO1366.xml')\n",
    "glucose_uptake = 10\n",
    "model.reactions.EX_glc__D_e.lower_bound = -glucose_uptake\n"
   ]
  },
  {
   "cell_type": "code",
   "execution_count": 96,
   "id": "6067ada4",
   "metadata": {},
   "outputs": [],
   "source": [
    "model.reactions.DHAPT.knock_out()\n",
    "model.reactions.THRA.knock_out()\n",
    "model.reactions.THRA2.knock_out()\n",
    "model.reactions.F6PA_TG_forward.knock_out()\n"
   ]
  },
  {
   "cell_type": "code",
   "execution_count": 97,
   "id": "232fe84a",
   "metadata": {},
   "outputs": [
    {
     "name": "stdout",
     "output_type": "stream",
     "text": [
      "Objective\n",
      "=========\n",
      "1.0 BIOMASS_Ec_iJO1366_core_53p95M = 0.6436981589523805\n",
      "\n",
      "Uptake\n",
      "------\n",
      "Metabolite     Reaction      Flux  C-Number  C-Flux\n",
      " prot_pool  ER_pool_TG_     0.095         0   0.00%\n",
      "     ca2_e     EX_ca2_e   0.00335         0   0.00%\n",
      "      cl_e      EX_cl_e   0.00335         0   0.00%\n",
      " cobalt2_e EX_cobalt2_e 1.609E-05         0   0.00%\n",
      "     cu2_e     EX_cu2_e 0.0004564         0   0.00%\n",
      "     fe2_e     EX_fe2_e   0.01034         0   0.00%\n",
      "  glc__D_e  EX_glc__D_e        10         6 100.00%\n",
      "       k_e       EX_k_e    0.1256         0   0.00%\n",
      "     mg2_e     EX_mg2_e  0.005584         0   0.00%\n",
      "     mn2_e     EX_mn2_e 0.0004448         0   0.00%\n",
      "    mobd_e    EX_mobd_e 8.304E-05         0   0.00%\n",
      "     nh4_e     EX_nh4_e     6.952         0   0.00%\n",
      "     ni2_e     EX_ni2_e 0.0002079         0   0.00%\n",
      "      o2_e      EX_o2_e      17.6         0   0.00%\n",
      "      pi_e      EX_pi_e    0.6209         0   0.00%\n",
      "     so4_e     EX_so4_e    0.1623         0   0.00%\n",
      "     zn2_e     EX_zn2_e 0.0002195         0   0.00%\n",
      "\n",
      "Secretion\n",
      "---------\n",
      "Metabolite    Reaction       Flux  C-Number C-Flux\n",
      "  4crsol_c DM_4crsol_c -0.0001435         7  0.00%\n",
      "   5drib_c  DM_5drib_c -0.0001448         5  0.00%\n",
      "    amob_c   DM_amob_c -1.287E-06        15  0.00%\n",
      "  mththf_c DM_mththf_c -0.0002884         5  0.00%\n",
      "      ac_e     EX_ac_e     -7.302         2 43.49%\n",
      "     co2_e    EX_co2_e     -18.97         1 56.50%\n",
      "     h2o_e    EX_h2o_e     -35.97         0  0.00%\n",
      "       h_e      EX_h_e     -13.22         0  0.00%\n",
      "    meoh_e   EX_meoh_e -1.287E-06         1  0.00%\n",
      "\n"
     ]
    }
   ],
   "source": [
    "model.optimize()\n",
    "print(model.summary())"
   ]
  },
  {
   "cell_type": "code",
   "execution_count": 98,
   "id": "6c32b76f-6f66-4405-ac73-ff9aa76b0a8b",
   "metadata": {},
   "outputs": [],
   "source": [
    "# Read metabolite mapping\n",
    "mapping_df = pd.read_csv('id_mapping.csv')"
   ]
  },
  {
   "cell_type": "code",
   "execution_count": 99,
   "id": "f6bf1eb9-4433-4f15-b82e-4255d28bf47d",
   "metadata": {},
   "outputs": [],
   "source": [
    "# Read measurements\n",
    "measurements = pd.read_csv('ecoli_measurements.csv')\n",
    "#measurements.drop(columns = [\"Note\"], inplace = True)\n"
   ]
  },
  {
   "cell_type": "code",
   "execution_count": 100,
   "id": "5a3fb827-405a-4372-acfd-92d8194dd1b4",
   "metadata": {},
   "outputs": [],
   "source": [
    "# Update 10 h value\n",
    "for i, row in measurements.iterrows():\n",
    "    if np.isnan(row[\"10h value\"]):\n",
    "        measurements.loc[i, \"10h value\"] = row[\"Value\"]\n"
   ]
  },
  {
   "cell_type": "code",
   "execution_count": 101,
   "id": "a9f2bdb9",
   "metadata": {},
   "outputs": [
    {
     "data": {
      "text/html": [
       "<div>\n",
       "<style scoped>\n",
       "    .dataframe tbody tr th:only-of-type {\n",
       "        vertical-align: middle;\n",
       "    }\n",
       "\n",
       "    .dataframe tbody tr th {\n",
       "        vertical-align: top;\n",
       "    }\n",
       "\n",
       "    .dataframe thead th {\n",
       "        text-align: right;\n",
       "    }\n",
       "</style>\n",
       "<table border=\"1\" class=\"dataframe\">\n",
       "  <thead>\n",
       "    <tr style=\"text-align: right;\">\n",
       "      <th></th>\n",
       "      <th>Metabolite name</th>\n",
       "      <th>Value</th>\n",
       "      <th>Uncertainty</th>\n",
       "      <th>10h value</th>\n",
       "    </tr>\n",
       "  </thead>\n",
       "  <tbody>\n",
       "    <tr>\n",
       "      <th>0</th>\n",
       "      <td>Glucose-6-phosphate</td>\n",
       "      <td>17.65</td>\n",
       "      <td>0.53</td>\n",
       "      <td>17.65</td>\n",
       "    </tr>\n",
       "    <tr>\n",
       "      <th>1</th>\n",
       "      <td>Fructose-6-phosphate</td>\n",
       "      <td>29.29</td>\n",
       "      <td>0.60</td>\n",
       "      <td>29.29</td>\n",
       "    </tr>\n",
       "    <tr>\n",
       "      <th>2</th>\n",
       "      <td>Fructose-1,6-bisphosphate</td>\n",
       "      <td>34.21</td>\n",
       "      <td>0.72</td>\n",
       "      <td>34.21</td>\n",
       "    </tr>\n",
       "    <tr>\n",
       "      <th>3</th>\n",
       "      <td>Dihydroxyacetonephosphate</td>\n",
       "      <td>50.40</td>\n",
       "      <td>1.74</td>\n",
       "      <td>40.00</td>\n",
       "    </tr>\n",
       "    <tr>\n",
       "      <th>4</th>\n",
       "      <td>Glyceraldehyde-3-phosphate</td>\n",
       "      <td>15.04</td>\n",
       "      <td>0.24</td>\n",
       "      <td>10.00</td>\n",
       "    </tr>\n",
       "    <tr>\n",
       "      <th>5</th>\n",
       "      <td>2/3-phosphoglycerate</td>\n",
       "      <td>19.45</td>\n",
       "      <td>1.55</td>\n",
       "      <td>15.00</td>\n",
       "    </tr>\n",
       "    <tr>\n",
       "      <th>6</th>\n",
       "      <td>Phosphoenolpyruvate</td>\n",
       "      <td>20.43</td>\n",
       "      <td>0.28</td>\n",
       "      <td>5.00</td>\n",
       "    </tr>\n",
       "    <tr>\n",
       "      <th>7</th>\n",
       "      <td>Pyruvate</td>\n",
       "      <td>4924.00</td>\n",
       "      <td>509.00</td>\n",
       "      <td>4924.00</td>\n",
       "    </tr>\n",
       "    <tr>\n",
       "      <th>8</th>\n",
       "      <td>6-Phosphogluconate</td>\n",
       "      <td>0.00</td>\n",
       "      <td>0.00</td>\n",
       "      <td>0.00</td>\n",
       "    </tr>\n",
       "    <tr>\n",
       "      <th>9</th>\n",
       "      <td>Ribose-5-phosphate</td>\n",
       "      <td>10.29</td>\n",
       "      <td>0.22</td>\n",
       "      <td>8.00</td>\n",
       "    </tr>\n",
       "    <tr>\n",
       "      <th>10</th>\n",
       "      <td>Ribu-/Xylulose-5-phosphate</td>\n",
       "      <td>3.69</td>\n",
       "      <td>0.04</td>\n",
       "      <td>2.50</td>\n",
       "    </tr>\n",
       "    <tr>\n",
       "      <th>11</th>\n",
       "      <td>Erythrose-4-phosphate</td>\n",
       "      <td>1.31</td>\n",
       "      <td>0.21</td>\n",
       "      <td>0.80</td>\n",
       "    </tr>\n",
       "    <tr>\n",
       "      <th>12</th>\n",
       "      <td>Sedoheptulose-7-phosphate</td>\n",
       "      <td>0.00</td>\n",
       "      <td>0.00</td>\n",
       "      <td>0.00</td>\n",
       "    </tr>\n",
       "    <tr>\n",
       "      <th>13</th>\n",
       "      <td>Acetyl-CoA</td>\n",
       "      <td>0.00</td>\n",
       "      <td>0.00</td>\n",
       "      <td>0.00</td>\n",
       "    </tr>\n",
       "    <tr>\n",
       "      <th>14</th>\n",
       "      <td>Citrate</td>\n",
       "      <td>139.80</td>\n",
       "      <td>6.20</td>\n",
       "      <td>120.00</td>\n",
       "    </tr>\n",
       "    <tr>\n",
       "      <th>15</th>\n",
       "      <td>Cis-aconitate</td>\n",
       "      <td>14.13</td>\n",
       "      <td>0.40</td>\n",
       "      <td>14.13</td>\n",
       "    </tr>\n",
       "    <tr>\n",
       "      <th>16</th>\n",
       "      <td>Isocitrate</td>\n",
       "      <td>23.13</td>\n",
       "      <td>0.54</td>\n",
       "      <td>23.13</td>\n",
       "    </tr>\n",
       "    <tr>\n",
       "      <th>17</th>\n",
       "      <td>α-Ketoglutarate</td>\n",
       "      <td>200.00</td>\n",
       "      <td>17.70</td>\n",
       "      <td>50.00</td>\n",
       "    </tr>\n",
       "    <tr>\n",
       "      <th>18</th>\n",
       "      <td>Fumarate</td>\n",
       "      <td>12.45</td>\n",
       "      <td>2.31</td>\n",
       "      <td>4.00</td>\n",
       "    </tr>\n",
       "    <tr>\n",
       "      <th>19</th>\n",
       "      <td>Malate</td>\n",
       "      <td>0.00</td>\n",
       "      <td>0.00</td>\n",
       "      <td>0.00</td>\n",
       "    </tr>\n",
       "    <tr>\n",
       "      <th>20</th>\n",
       "      <td>Glyoxylate</td>\n",
       "      <td>0.00</td>\n",
       "      <td>0.00</td>\n",
       "      <td>0.00</td>\n",
       "    </tr>\n",
       "    <tr>\n",
       "      <th>21</th>\n",
       "      <td>Cometabolites</td>\n",
       "      <td>NaN</td>\n",
       "      <td>NaN</td>\n",
       "      <td>NaN</td>\n",
       "    </tr>\n",
       "    <tr>\n",
       "      <th>22</th>\n",
       "      <td>AXP</td>\n",
       "      <td>0.00</td>\n",
       "      <td>0.00</td>\n",
       "      <td>0.00</td>\n",
       "    </tr>\n",
       "    <tr>\n",
       "      <th>23</th>\n",
       "      <td>NAD(H)</td>\n",
       "      <td>0.00</td>\n",
       "      <td>0.00</td>\n",
       "      <td>0.00</td>\n",
       "    </tr>\n",
       "    <tr>\n",
       "      <th>24</th>\n",
       "      <td>NADP(H)</td>\n",
       "      <td>0.00</td>\n",
       "      <td>0.00</td>\n",
       "      <td>0.00</td>\n",
       "    </tr>\n",
       "    <tr>\n",
       "      <th>25</th>\n",
       "      <td>Aminoacids</td>\n",
       "      <td>NaN</td>\n",
       "      <td>NaN</td>\n",
       "      <td>NaN</td>\n",
       "    </tr>\n",
       "    <tr>\n",
       "      <th>26</th>\n",
       "      <td>Alanine</td>\n",
       "      <td>1.69</td>\n",
       "      <td>0.19</td>\n",
       "      <td>1.69</td>\n",
       "    </tr>\n",
       "    <tr>\n",
       "      <th>27</th>\n",
       "      <td>Leucine/Isoleucine</td>\n",
       "      <td>20.17</td>\n",
       "      <td>0.21</td>\n",
       "      <td>1.00</td>\n",
       "    </tr>\n",
       "    <tr>\n",
       "      <th>28</th>\n",
       "      <td>Valine</td>\n",
       "      <td>88.50</td>\n",
       "      <td>2.18</td>\n",
       "      <td>1.00</td>\n",
       "    </tr>\n",
       "    <tr>\n",
       "      <th>29</th>\n",
       "      <td>Aspartate</td>\n",
       "      <td>20.87</td>\n",
       "      <td>0.55</td>\n",
       "      <td>1.00</td>\n",
       "    </tr>\n",
       "    <tr>\n",
       "      <th>30</th>\n",
       "      <td>Homoserine</td>\n",
       "      <td>2.43</td>\n",
       "      <td>0.48</td>\n",
       "      <td>2.43</td>\n",
       "    </tr>\n",
       "    <tr>\n",
       "      <th>31</th>\n",
       "      <td>Threonine</td>\n",
       "      <td>2.59</td>\n",
       "      <td>0.30</td>\n",
       "      <td>2.00</td>\n",
       "    </tr>\n",
       "    <tr>\n",
       "      <th>32</th>\n",
       "      <td>Methionine</td>\n",
       "      <td>0.55</td>\n",
       "      <td>0.01</td>\n",
       "      <td>0.35</td>\n",
       "    </tr>\n",
       "    <tr>\n",
       "      <th>33</th>\n",
       "      <td>Lysine</td>\n",
       "      <td>0.00</td>\n",
       "      <td>0.00</td>\n",
       "      <td>0.00</td>\n",
       "    </tr>\n",
       "    <tr>\n",
       "      <th>34</th>\n",
       "      <td>Tryptophane</td>\n",
       "      <td>0.25</td>\n",
       "      <td>0.01</td>\n",
       "      <td>0.18</td>\n",
       "    </tr>\n",
       "    <tr>\n",
       "      <th>35</th>\n",
       "      <td>Tyrosine</td>\n",
       "      <td>29.80</td>\n",
       "      <td>0.90</td>\n",
       "      <td>1.00</td>\n",
       "    </tr>\n",
       "    <tr>\n",
       "      <th>36</th>\n",
       "      <td>Phenylalanine</td>\n",
       "      <td>28.00</td>\n",
       "      <td>0.56</td>\n",
       "      <td>1.00</td>\n",
       "    </tr>\n",
       "    <tr>\n",
       "      <th>37</th>\n",
       "      <td>Glutamate</td>\n",
       "      <td>0.00</td>\n",
       "      <td>0.00</td>\n",
       "      <td>0.00</td>\n",
       "    </tr>\n",
       "    <tr>\n",
       "      <th>38</th>\n",
       "      <td>Glutamine</td>\n",
       "      <td>0.00</td>\n",
       "      <td>0.00</td>\n",
       "      <td>0.00</td>\n",
       "    </tr>\n",
       "    <tr>\n",
       "      <th>39</th>\n",
       "      <td>Proline</td>\n",
       "      <td>0.54</td>\n",
       "      <td>0.13</td>\n",
       "      <td>0.40</td>\n",
       "    </tr>\n",
       "    <tr>\n",
       "      <th>40</th>\n",
       "      <td>Serine</td>\n",
       "      <td>0.87</td>\n",
       "      <td>0.52</td>\n",
       "      <td>0.50</td>\n",
       "    </tr>\n",
       "    <tr>\n",
       "      <th>41</th>\n",
       "      <td>Glycine</td>\n",
       "      <td>1.23</td>\n",
       "      <td>0.52</td>\n",
       "      <td>0.40</td>\n",
       "    </tr>\n",
       "    <tr>\n",
       "      <th>42</th>\n",
       "      <td>Arginine</td>\n",
       "      <td>9.61</td>\n",
       "      <td>0.91</td>\n",
       "      <td>9.61</td>\n",
       "    </tr>\n",
       "    <tr>\n",
       "      <th>43</th>\n",
       "      <td>Histidine</td>\n",
       "      <td>6.84</td>\n",
       "      <td>0.01</td>\n",
       "      <td>6.84</td>\n",
       "    </tr>\n",
       "    <tr>\n",
       "      <th>44</th>\n",
       "      <td>Others</td>\n",
       "      <td>NaN</td>\n",
       "      <td>NaN</td>\n",
       "      <td>NaN</td>\n",
       "    </tr>\n",
       "    <tr>\n",
       "      <th>45</th>\n",
       "      <td>Acetate</td>\n",
       "      <td>12949.00</td>\n",
       "      <td>851.00</td>\n",
       "      <td>12949.00</td>\n",
       "    </tr>\n",
       "    <tr>\n",
       "      <th>46</th>\n",
       "      <td>Ethanol</td>\n",
       "      <td>0.00</td>\n",
       "      <td>0.00</td>\n",
       "      <td>0.00</td>\n",
       "    </tr>\n",
       "    <tr>\n",
       "      <th>47</th>\n",
       "      <td>Orotate</td>\n",
       "      <td>1100.00</td>\n",
       "      <td>27.00</td>\n",
       "      <td>250.00</td>\n",
       "    </tr>\n",
       "    <tr>\n",
       "      <th>48</th>\n",
       "      <td>Uracil</td>\n",
       "      <td>1443.00</td>\n",
       "      <td>30.00</td>\n",
       "      <td>1443.00</td>\n",
       "    </tr>\n",
       "    <tr>\n",
       "      <th>49</th>\n",
       "      <td>dihydroxyacetone</td>\n",
       "      <td>NaN</td>\n",
       "      <td>NaN</td>\n",
       "      <td>NaN</td>\n",
       "    </tr>\n",
       "    <tr>\n",
       "      <th>50</th>\n",
       "      <td>Acetaldehyde</td>\n",
       "      <td>NaN</td>\n",
       "      <td>NaN</td>\n",
       "      <td>NaN</td>\n",
       "    </tr>\n",
       "  </tbody>\n",
       "</table>\n",
       "</div>"
      ],
      "text/plain": [
       "               Metabolite name     Value  Uncertainty  10h value\n",
       "0          Glucose-6-phosphate     17.65         0.53      17.65\n",
       "1         Fructose-6-phosphate     29.29         0.60      29.29\n",
       "2    Fructose-1,6-bisphosphate     34.21         0.72      34.21\n",
       "3    Dihydroxyacetonephosphate     50.40         1.74      40.00\n",
       "4   Glyceraldehyde-3-phosphate     15.04         0.24      10.00\n",
       "5         2/3-phosphoglycerate     19.45         1.55      15.00\n",
       "6          Phosphoenolpyruvate     20.43         0.28       5.00\n",
       "7                     Pyruvate   4924.00       509.00    4924.00\n",
       "8           6-Phosphogluconate      0.00         0.00       0.00\n",
       "9           Ribose-5-phosphate     10.29         0.22       8.00\n",
       "10  Ribu-/Xylulose-5-phosphate      3.69         0.04       2.50\n",
       "11       Erythrose-4-phosphate      1.31         0.21       0.80\n",
       "12   Sedoheptulose-7-phosphate      0.00         0.00       0.00\n",
       "13                  Acetyl-CoA      0.00         0.00       0.00\n",
       "14                     Citrate    139.80         6.20     120.00\n",
       "15               Cis-aconitate     14.13         0.40      14.13\n",
       "16                  Isocitrate     23.13         0.54      23.13\n",
       "17             α-Ketoglutarate    200.00        17.70      50.00\n",
       "18                    Fumarate     12.45         2.31       4.00\n",
       "19                      Malate      0.00         0.00       0.00\n",
       "20                  Glyoxylate      0.00         0.00       0.00\n",
       "21               Cometabolites       NaN          NaN        NaN\n",
       "22                         AXP      0.00         0.00       0.00\n",
       "23                      NAD(H)      0.00         0.00       0.00\n",
       "24                     NADP(H)      0.00         0.00       0.00\n",
       "25                  Aminoacids       NaN          NaN        NaN\n",
       "26                     Alanine      1.69         0.19       1.69\n",
       "27          Leucine/Isoleucine     20.17         0.21       1.00\n",
       "28                      Valine     88.50         2.18       1.00\n",
       "29                   Aspartate     20.87         0.55       1.00\n",
       "30                  Homoserine      2.43         0.48       2.43\n",
       "31                   Threonine      2.59         0.30       2.00\n",
       "32                  Methionine      0.55         0.01       0.35\n",
       "33                      Lysine      0.00         0.00       0.00\n",
       "34                 Tryptophane      0.25         0.01       0.18\n",
       "35                    Tyrosine     29.80         0.90       1.00\n",
       "36               Phenylalanine     28.00         0.56       1.00\n",
       "37                   Glutamate      0.00         0.00       0.00\n",
       "38                   Glutamine      0.00         0.00       0.00\n",
       "39                     Proline      0.54         0.13       0.40\n",
       "40                      Serine      0.87         0.52       0.50\n",
       "41                     Glycine      1.23         0.52       0.40\n",
       "42                    Arginine      9.61         0.91       9.61\n",
       "43                   Histidine      6.84         0.01       6.84\n",
       "44                      Others       NaN          NaN        NaN\n",
       "45                     Acetate  12949.00       851.00   12949.00\n",
       "46                     Ethanol      0.00         0.00       0.00\n",
       "47                     Orotate   1100.00        27.00     250.00\n",
       "48                      Uracil   1443.00        30.00    1443.00\n",
       "49            dihydroxyacetone       NaN          NaN        NaN\n",
       "50                Acetaldehyde       NaN          NaN        NaN"
      ]
     },
     "execution_count": 101,
     "metadata": {},
     "output_type": "execute_result"
    }
   ],
   "source": [
    "measurements\n"
   ]
  },
  {
   "cell_type": "code",
   "execution_count": 102,
   "id": "e36759c1-2245-4278-9180-b1a688a5da3c",
   "metadata": {},
   "outputs": [],
   "source": [
    "name_to_met_id = mapping_df.loc[:, [\"Metabolite name\", \"Metabolite id\"]].set_index(\"Metabolite name\").to_dict()[\"Metabolite id\"]"
   ]
  },
  {
   "cell_type": "code",
   "execution_count": 103,
   "id": "a8ccab46-f564-4ba3-b8e2-aaf7335c8359",
   "metadata": {},
   "outputs": [
    {
     "name": "stdout",
     "output_type": "stream",
     "text": [
      "nan\n",
      "nan\n",
      "nan\n"
     ]
    }
   ],
   "source": [
    "solution = model.optimize()\n",
    "shadow_prices = []\n",
    "for i, row in measurements.iterrows():\n",
    "    key = name_to_met_id[row[\"Metabolite name\"]]\n",
    "    try:\n",
    "        keys = key.split(\",\")\n",
    "    except:\n",
    "        print(key)\n",
    "        shadow_prices.append(np.nan)\n",
    "        continue\n",
    "    values = []\n",
    "    for key in keys:\n",
    "        met_id = \"{0}_c\".format(key.strip())\n",
    "        values.append(solution.shadow_prices[met_id])\n",
    "    shadow_prices.append(max(values))\n",
    "\n",
    "    "
   ]
  },
  {
   "cell_type": "code",
   "execution_count": 104,
   "id": "cf45b2eb-fafb-4397-aa5c-8d3ff5629246",
   "metadata": {},
   "outputs": [],
   "source": [
    "df = measurements.copy()\n",
    "df[\"Shadow price\"] = np.abs(shadow_prices)\n",
    "df = df.loc[~df.isna().any(axis = 1), :]\n",
    "df = df.loc[df.Value != 0, :]\n",
    "df[\"log10(shadow price)\"] = np.log10(df[\"Shadow price\"])\n",
    "\n",
    "df[\"log10(metabolite concentration)\"] = np.log10(df.Value)\n",
    "df[\"log10(10h metabolite concentration)\"] = np.log10(df[\"10h value\"])\n",
    "\n",
    "#It doesn't make sense to check the shadow price of acetic acid since it is already produced and secreted\n",
    "df.drop(index = df.index[df[\"Metabolite name\"] == \"Acetate\"].values, inplace = True)"
   ]
  },
  {
   "cell_type": "code",
   "execution_count": 105,
   "id": "7e38d187",
   "metadata": {},
   "outputs": [
    {
     "name": "stdout",
     "output_type": "stream",
     "text": [
      "SpearmanrResult(correlation=-0.3094919786096257, pvalue=0.07965967235063362)\n"
     ]
    }
   ],
   "source": [
    "corrs = st.spearmanr(df[\"Value\"], df[\"Shadow price\"], nan_policy='propagate')\n",
    "print(corrs)"
   ]
  },
  {
   "cell_type": "code",
   "execution_count": 106,
   "id": "40b30d1a",
   "metadata": {},
   "outputs": [
    {
     "name": "stdout",
     "output_type": "stream",
     "text": [
      "(-0.16964934914129853, 0.3452463791210208)\n"
     ]
    }
   ],
   "source": [
    "corrs = st.pearsonr(df[\"Value\"], df[\"Shadow price\"])\n",
    "print(corrs)"
   ]
  },
  {
   "cell_type": "code",
   "execution_count": 107,
   "id": "fd015ef4",
   "metadata": {},
   "outputs": [
    {
     "name": "stdout",
     "output_type": "stream",
     "text": [
      "-0.45625347253046156 0.007614044086013232\n"
     ]
    }
   ],
   "source": [
    "corrp = st.pearsonr(df[\"log10(metabolite concentration)\"], df[\"log10(shadow price)\"])\n",
    "print(corrp[0], corrp[1])"
   ]
  },
  {
   "cell_type": "code",
   "execution_count": 108,
   "id": "e56b34ad-8095-48cc-8104-8299e0904143",
   "metadata": {},
   "outputs": [
    {
     "name": "stdout",
     "output_type": "stream",
     "text": [
      "-0.5540315684735984 0.0008223694765124655\n"
     ]
    }
   ],
   "source": [
    "corrp = st.pearsonr(df[\"log10(10h metabolite concentration)\"], df[\"log10(shadow price)\"])\n",
    "print(corrp[0], corrp[1])"
   ]
  },
  {
   "cell_type": "code",
   "execution_count": 109,
   "id": "70061ddd-7ef1-4516-bf36-487f08e47a90",
   "metadata": {},
   "outputs": [],
   "source": [
    "\n",
    "from scipy.optimize import curve_fit\n",
    "f = lambda x, a, b: a/(x+b) \n",
    "f = lambda x, a, b, c: a*np.exp(b*x)+c "
   ]
  },
  {
   "cell_type": "code",
   "execution_count": 110,
   "id": "66d4609f-0901-4994-83c3-f40ee7412952",
   "metadata": {},
   "outputs": [],
   "source": [
    "x = df[\"log10(10h metabolite concentration)\"]\n",
    "y = df[\"log10(shadow price)\"]\n",
    "popt,pcov = curve_fit(f,x,y,p0=[1,-1, 4])\n",
    "x_arr = np.linspace(-1, 4, 100)\n",
    "yfit = f(x_arr, *popt)"
   ]
  },
  {
   "cell_type": "code",
   "execution_count": 113,
   "id": "9e713103-0a88-4cbc-85c3-6ef9d6cba6a9",
   "metadata": {},
   "outputs": [
    {
     "name": "stdout",
     "output_type": "stream",
     "text": [
      "-0.5540315684735984 0.0008223694765124655\n"
     ]
    },
    {
     "data": {
      "image/png": "[encoded data removed]",
      "text/plain": [
       "<Figure size 1152x864 with 1 Axes>"
      ]
     },
     "metadata": {
      "needs_background": "light"
     },
     "output_type": "display_data"
    }
   ],
   "source": [
    "plt.rcParams.update({'font.size': 15})\n",
    "x_param = \"log10(10h metabolite concentration)\"\n",
    "\n",
    "corrp = st.pearsonr(df[x_param], df[\"log10(shadow price)\"])\n",
    "print(corrp[0], corrp[1])\n",
    "\n",
    "ax = df.plot.scatter(x = x_param, y = \"log10(shadow price)\", figsize = (16, 12),\n",
    "                    fontsize = 15, s = 100)\n",
    "# Annotate each data point\n",
    "for i, txt in enumerate(df[\"Metabolite name\"]):\n",
    "    ax.annotate(txt, (df[x_param].iat[i]+0.05, df[\"log10(shadow price)\"].iat[i]))\n",
    "plt.title(\"Glucose uptake: {0}, Pearson corr: {1:.2f}, p-value: {2:.3f}\".format(glucose_uptake, corrp[0], corrp[1]))\n",
    "  \n",
    "trendline = np.polyfit(df[x_param], df[\"log10(shadow price)\"], 1)\n",
    "trendline_fun = np.poly1d(trendline)\n",
    "#fun2 = lambda x: -0.7 - 0.4*x\n",
    "x_arr = np.linspace(-1, 4, 100)\n",
    "ax.plot(x_arr, trendline_fun(x_arr))\n",
    "#ax.plot(x_arr, yfit)\n",
    "\n",
    "\n",
    "ax.annotate(\"Pearson corr: {0:.2f}, p-value: {1:.3f}\".format(corrp[0], corrp[1]), (6.4, -5.3), fontsize = 15, c = 'r')\n",
    "plt.savefig(\"results/e_coli/met_conc_10h_vs_shadow_price_glc_{0}_reactions_KO.svg\".format(glucose_uptake))\n",
    "plt.savefig(\"results/e_coli/met_conc_10h_vs_shadow_price_glc_{0}_reactions_KO.png\".format(glucose_uptake))"
   ]
  },
  {
   "cell_type": "code",
   "execution_count": 66,
   "id": "62141585-f935-40ed-8c7c-30fe92ebbf5d",
   "metadata": {},
   "outputs": [
    {
     "data": {
      "text/plain": [
       "array([-0.17536362, -1.3228522 ])"
      ]
     },
     "execution_count": 66,
     "metadata": {},
     "output_type": "execute_result"
    }
   ],
   "source": [
    "trendline"
   ]
  },
  {
   "cell_type": "code",
   "execution_count": 62,
   "id": "50987d4f-53d4-4d7c-9c12-298089e4d663",
   "metadata": {},
   "outputs": [
    {
     "data": {
      "text/plain": [
       "array([-1.        , -0.44444444,  0.11111111,  0.66666667,  1.22222222,\n",
       "        1.77777778,  2.33333333,  2.88888889,  3.44444444,  4.        ])"
      ]
     },
     "execution_count": 62,
     "metadata": {},
     "output_type": "execute_result"
    }
   ],
   "source": [
    "np.linspace(-1, 4, 10)"
   ]
  },
  {
   "cell_type": "markdown",
   "id": "8958ce06-be1e-49d6-9155-e19a61e2a9d5",
   "metadata": {},
   "source": [
    "# Acetate uptake"
   ]
  },
  {
   "cell_type": "code",
   "execution_count": 2,
   "id": "a65b0029-bff8-43de-a60b-cc58767a5d21",
   "metadata": {},
   "outputs": [],
   "source": [
    "model_ac = cobra.io.read_sbml_model('momentiJO1366.xml')"
   ]
  },
  {
   "cell_type": "code",
   "execution_count": 3,
   "id": "571c8eaf-1fd3-433e-b3e9-9bc5c7cfeb1e",
   "metadata": {},
   "outputs": [],
   "source": [
    "model_ac.reactions.EX_pyr_e.bounds = (0,1000)"
   ]
  },
  {
   "cell_type": "code",
   "execution_count": null,
   "id": "cb93aa0a-d78b-47ad-90d4-b5d59874913a",
   "metadata": {},
   "outputs": [],
   "source": [
    "model_ac.reactions.EX_ac_e.bounds = (-1,-1)\n",
    "\n",
    "model_ac.reactions.EX_glc__D_e.lower_bound = -5\n",
    "model_ac.optimize()\n",
    "print(model_ac.summary())"
   ]
  },
  {
   "cell_type": "code",
   "execution_count": 113,
   "id": "30276e3b-a8e3-4dea-82a8-ebe001492f97",
   "metadata": {},
   "outputs": [],
   "source": [
    "model_ac.reactions.EX_ac_e.lower_bound = -2\n",
    "model_ac.reactions.EX_ac_e.upper_bound = 0"
   ]
  },
  {
   "cell_type": "code",
   "execution_count": 152,
   "id": "f48f96ba-f00b-4c81-b97c-e3ed31bd244c",
   "metadata": {},
   "outputs": [],
   "source": [
    "model_ac.reactions.EX_ac_e.bounds = (-2, 1000)\n",
    "model_ac.reactions.EX_ac_e.upper_bound = 1000\n",
    "\n",
    "r_glc_arr = np.arange(1, 20, 0.1)\n",
    "N = len(r_glc_arr)\n",
    "ex_ac_arr = np.zeros(N)\n",
    "growth_arr = np.zeros(N)\n",
    "ex_pyr_arr = np.zeros(N)\n",
    "\n",
    "for i in range(N):\n",
    "    model_ac.reactions.EX_glc__D_e.lower_bound = -r_glc_arr[i]\n",
    "    s = model_ac.optimize()\n",
    "    ex_ac_arr[i] = s.fluxes[\"EX_ac_e\"]\n",
    "    growth_arr[i] = s.objective_value\n",
    "    ex_pyr_arr[i] = s.fluxes[\"EX_pyr_e\"]\n",
    "    "
   ]
  },
  {
   "cell_type": "code",
   "execution_count": null,
   "id": "802f4168-94d6-4c4b-a842-72c44fa865be",
   "metadata": {},
   "outputs": [],
   "source": []
  },
  {
   "cell_type": "code",
   "execution_count": 153,
   "id": "e4ce27a3-1f9f-43df-82c6-3dfb5febde24",
   "metadata": {},
   "outputs": [
    {
     "data": {
      "text/plain": [
       "<matplotlib.legend.Legend at 0x16759db6b50>"
      ]
     },
     "execution_count": 153,
     "metadata": {},
     "output_type": "execute_result"
    },
    {
     "data": {
      "image/png": "[encoded data removed]",
      "text/plain": [
       "<Figure size 432x288 with 3 Axes>"
      ]
     },
     "metadata": {
      "needs_background": "light"
     },
     "output_type": "display_data"
    }
   ],
   "source": [
    "fig, [ax1, ax2] = plt.subplots(2,1, sharex = True)\n",
    "ax3 = ax2.twinx()\n",
    "\n",
    "ax1.plot(r_glc_arr, growth_arr, label = 'Growth', lw  = 2)\n",
    "ax1.set_ylabel(\"Growth rate [1/h]\")\n",
    "ax2.plot(r_glc_arr, ex_ac_arr, label = 'Acetate', c = 'g', lw = 2)\n",
    "ax2.set_ylabel(\"Acetate [mmol/gDW/h]\")\n",
    "ax2.set_xlabel(\"Glucose uptake [mmol/gDW/h]\")\n",
    "ax3.plot(r_glc_arr, ex_pyr_arr*100, label = 'Pyruvate', c = 'r', lw = 2)\n",
    "ax3.set_ylabel('Pyruvate [mmol/gDW/h]')\n",
    "ax1.legend()"
   ]
  },
  {
   "cell_type": "code",
   "execution_count": 99,
   "id": "7aa122a9-d9b8-4536-96d7-1be617662cb7",
   "metadata": {},
   "outputs": [
    {
     "data": {
      "text/plain": [
       "\u001b[1;31mInit signature:\u001b[0m \u001b[0mrange\u001b[0m\u001b[1;33m(\u001b[0m\u001b[0mself\u001b[0m\u001b[1;33m,\u001b[0m \u001b[1;33m/\u001b[0m\u001b[1;33m,\u001b[0m \u001b[1;33m*\u001b[0m\u001b[0margs\u001b[0m\u001b[1;33m,\u001b[0m \u001b[1;33m**\u001b[0m\u001b[0mkwargs\u001b[0m\u001b[1;33m)\u001b[0m\u001b[1;33m\u001b[0m\u001b[1;33m\u001b[0m\u001b[0m\n",
       "\u001b[1;31mDocstring:\u001b[0m     \n",
       "range(stop) -> range object\n",
       "range(start, stop[, step]) -> range object\n",
       "\n",
       "Return an object that produces a sequence of integers from start (inclusive)\n",
       "to stop (exclusive) by step.  range(i, j) produces i, i+1, i+2, ..., j-1.\n",
       "start defaults to 0, and stop is omitted!  range(4) produces 0, 1, 2, 3.\n",
       "These are exactly the valid indices for a list of 4 elements.\n",
       "When step is given, it specifies the increment (or decrement).\n",
       "\u001b[1;31mType:\u001b[0m           type\n",
       "\u001b[1;31mSubclasses:\u001b[0m     \n"
      ]
     },
     "metadata": {},
     "output_type": "display_data"
    }
   ],
   "source": [
    "range?"
   ]
  },
  {
   "cell_type": "code",
   "execution_count": 65,
   "id": "e74c312f-5d7c-4017-a36c-bae6a3abc969",
   "metadata": {},
   "outputs": [
    {
     "name": "stdout",
     "output_type": "stream",
     "text": [
      "Objective\n",
      "=========\n",
      "1.0 BIOMASS_Ec_iJO1366_core_53p95M = 0.6806155326073196\n",
      "\n",
      "Uptake\n",
      "------\n",
      "Metabolite     Reaction      Flux  C-Number C-Flux\n",
      " prot_pool  ER_pool_TG_     0.095         0  0.00%\n",
      "      ac_e      EX_ac_e         1         2  3.23%\n",
      "     btn_e     EX_btn_e 1.361E-06        10  0.00%\n",
      "     ca2_e     EX_ca2_e  0.003543         0  0.00%\n",
      "      cl_e      EX_cl_e  0.003543         0  0.00%\n",
      " cobalt2_e EX_cobalt2_e 1.702E-05         0  0.00%\n",
      "     cu2_e     EX_cu2_e 0.0004826         0  0.00%\n",
      "     fe2_e     EX_fe2_e   0.01093         0  0.00%\n",
      "  glc__D_e  EX_glc__D_e        10         6 96.77%\n",
      "       k_e       EX_k_e    0.1329         0  0.00%\n",
      "     mg2_e     EX_mg2_e  0.005904         0  0.00%\n",
      "     mn2_e     EX_mn2_e 0.0004703         0  0.00%\n",
      "    mobd_e    EX_mobd_e  8.78E-05         0  0.00%\n",
      "     nh4_e     EX_nh4_e     7.351         0  0.00%\n",
      "     ni2_e     EX_ni2_e 0.0002198         0  0.00%\n",
      "      o2_e      EX_o2_e     21.23         0  0.00%\n",
      "      pi_e      EX_pi_e    0.6565         0  0.00%\n",
      "     so4_e     EX_so4_e    0.1717         0  0.00%\n",
      "     zn2_e     EX_zn2_e 0.0002321         0  0.00%\n",
      "\n",
      "Secretion\n",
      "---------\n",
      "Metabolite    Reaction       Flux  C-Number C-Flux\n",
      "  4crsol_c DM_4crsol_c -0.0001518         7  0.00%\n",
      "   5drib_c  DM_5drib_c -0.0001518         5  0.00%\n",
      "  mththf_c DM_mththf_c -0.0003036         5  0.00%\n",
      "   acald_e  EX_acald_e     -1.132         2  6.65%\n",
      "     co2_e    EX_co2_e     -21.54         1 63.25%\n",
      "     h2o_e    EX_h2o_e     -42.94         0  0.00%\n",
      "       h_e      EX_h_e     -8.671         0  0.00%\n",
      "     pyr_e    EX_pyr_e     -3.418         3 30.10%\n",
      "\n"
     ]
    }
   ],
   "source": [
    "model_ac.optimize()\n",
    "print(model_ac.summary())"
   ]
  },
  {
   "cell_type": "markdown",
   "id": "f211dc52-75e5-465f-b1be-cd33acca6ea1",
   "metadata": {},
   "source": [
    "## Just scrabbling\n"
   ]
  },
  {
   "cell_type": "code",
   "execution_count": 75,
   "id": "ad16e6d2-9dfe-4a6d-a3fb-38a53358c7a8",
   "metadata": {},
   "outputs": [
    {
     "ename": "KeyError",
     "evalue": "'3pg_e'",
     "output_type": "error",
     "traceback": [
      "\u001b[1;31m---------------------------------------------------------------------------\u001b[0m",
      "\u001b[1;31mKeyError\u001b[0m                                  Traceback (most recent call last)",
      "Input \u001b[1;32mIn [75]\u001b[0m, in \u001b[0;36m<cell line: 1>\u001b[1;34m()\u001b[0m\n\u001b[1;32m----> 1\u001b[0m \u001b[43mmodel\u001b[49m\u001b[38;5;241;43m.\u001b[39;49m\u001b[43mmetabolites\u001b[49m\u001b[38;5;241;43m.\u001b[39;49m\u001b[43mget_by_id\u001b[49m\u001b[43m(\u001b[49m\u001b[38;5;124;43m\"\u001b[39;49m\u001b[38;5;124;43m3pg_e\u001b[39;49m\u001b[38;5;124;43m\"\u001b[39;49m\u001b[43m)\u001b[49m\n",
      "File \u001b[1;32mC:\\ProgramData\\Miniconda3\\lib\\site-packages\\cobra\\core\\dictlist.py:75\u001b[0m, in \u001b[0;36mDictList.get_by_id\u001b[1;34m(self, id)\u001b[0m\n\u001b[0;32m     73\u001b[0m \u001b[38;5;28;01mdef\u001b[39;00m \u001b[38;5;21mget_by_id\u001b[39m(\u001b[38;5;28mself\u001b[39m, \u001b[38;5;28mid\u001b[39m: Union[Object, \u001b[38;5;28mstr\u001b[39m]) \u001b[38;5;241m-\u001b[39m\u001b[38;5;241m>\u001b[39m Object:\n\u001b[0;32m     74\u001b[0m     \u001b[38;5;124;03m\"\"\"Return the element with a matching id.\"\"\"\u001b[39;00m\n\u001b[1;32m---> 75\u001b[0m     \u001b[38;5;28;01mreturn\u001b[39;00m \u001b[38;5;28mlist\u001b[39m\u001b[38;5;241m.\u001b[39m\u001b[38;5;21m__getitem__\u001b[39m(\u001b[38;5;28mself\u001b[39m, \u001b[38;5;28;43mself\u001b[39;49m\u001b[38;5;241;43m.\u001b[39;49m\u001b[43m_dict\u001b[49m\u001b[43m[\u001b[49m\u001b[38;5;28;43mid\u001b[39;49m\u001b[43m]\u001b[49m)\n",
      "\u001b[1;31mKeyError\u001b[0m: '3pg_e'"
     ]
    }
   ],
   "source": [
    "model.metabolites.get_by_id(\"3pg_\")\n"
   ]
  }
 ],
 "metadata": {
  "kernelspec": {
   "display_name": "Python 3 (ipykernel)",
   "language": "python",
   "name": "python3"
  },
  "language_info": {
   "codemirror_mode": {
    "name": "ipython",
    "version": 3
   },
   "file_extension": ".py",
   "mimetype": "text/x-python",
   "name": "python",
   "nbconvert_exporter": "python",
   "pygments_lexer": "ipython3",
   "version": "3.9.21"
  }
 },
 "nbformat": 4,
 "nbformat_minor": 5
}
