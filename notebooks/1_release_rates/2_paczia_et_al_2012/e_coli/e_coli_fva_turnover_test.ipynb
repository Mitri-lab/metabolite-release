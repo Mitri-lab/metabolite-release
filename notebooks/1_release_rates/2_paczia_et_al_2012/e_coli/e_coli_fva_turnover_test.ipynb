{
 "cells": [
  {
   "cell_type": "code",
   "execution_count": 1,
   "id": "ca311fb3-8dbe-41e9-8497-151053d63496",
   "metadata": {},
   "outputs": [],
   "source": [
    "import cobra\n",
    "import numpy as np\n",
    "from matplotlib import pyplot as plt\n",
    "import pandas as pd "
   ]
  },
  {
   "cell_type": "code",
   "execution_count": 2,
   "id": "a87647c6-f0da-4778-ae52-967c5ad281fe",
   "metadata": {},
   "outputs": [
    {
     "data": {
      "text/plain": [
       "'0.26.2'"
      ]
     },
     "execution_count": 2,
     "metadata": {},
     "output_type": "execute_result"
    }
   ],
   "source": [
    "cobra.__version__"
   ]
  },
  {
   "cell_type": "code",
   "execution_count": 3,
   "id": "eba5971b-8f56-47f9-9074-53ef89b9869c",
   "metadata": {
    "tags": []
   },
   "outputs": [
    {
     "ename": "NameError",
     "evalue": "name 'cobra' is not defined",
     "output_type": "error",
     "traceback": [
      "\u001b[0;31m---------------------------------------------------------------------------\u001b[0m",
      "\u001b[0;31mNameError\u001b[0m                                 Traceback (most recent call last)",
      "Cell \u001b[0;32mIn[3], line 1\u001b[0m\n\u001b[0;32m----> 1\u001b[0m model \u001b[38;5;241m=\u001b[39m cobra\u001b[38;5;241m.\u001b[39mio\u001b[38;5;241m.\u001b[39mread_sbml_model(\u001b[38;5;124m'\u001b[39m\u001b[38;5;124mmodels/e_coli/momentiJO1366.xml\u001b[39m\u001b[38;5;124m'\u001b[39m)\n",
      "\u001b[0;31mNameError\u001b[0m: name 'cobra' is not defined"
     ]
    }
   ],
   "source": [
    "model = cobra.io.read_sbml_model('models/e_coli/momentiJO1366.xml')\n",
    "#model = cobra.io.read_sbml_model('eciML1515_batch.xml')\n",
    "#model = cobra.io.read_sbml_model('ecYeastGEM.xml')"
   ]
  },
  {
   "cell_type": "code",
   "execution_count": 4,
   "id": "3caeb7a6-069c-423f-8e3c-1397bc6ebe0c",
   "metadata": {},
   "outputs": [],
   "source": [
    "model.reactions.EX_glc__D_e.lower_bound = -10\n",
    "#model.reactions.EX_lac__L_e.lower_bound = -10 # This was only used to check diauxie\n",
    "# This is the standard value used for E. coli, see data from\n",
    "# https://www.sciencedirect.com/science/article/pii/S2405471216302903?via%3Dihub\n"
   ]
  },
  {
   "cell_type": "code",
   "execution_count": 5,
   "id": "ddd7b72a-434b-4317-833e-f27cdd1f724e",
   "metadata": {},
   "outputs": [
    {
     "name": "stdout",
     "output_type": "stream",
     "text": [
      "EX_ca2_e: ca2_e <=>  -1000.0\n",
      "EX_cbl1_e: cbl1_e <=>  -0.01\n",
      "EX_cl_e: cl_e <=>  -1000.0\n",
      "EX_co2_e: co2_e <=>  -1000.0\n",
      "EX_cobalt2_e: cobalt2_e <=>  -1000.0\n",
      "EX_cu2_e: cu2_e <=>  -1000.0\n",
      "EX_fe2_e: fe2_e <=>  -1000.0\n",
      "EX_fe3_e: fe3_e <=>  -1000.0\n",
      "EX_glc__D_e: glc__D_e <=>  -10\n",
      "EX_h_e: h_e <=>  -1000.0\n",
      "EX_h2o_e: h2o_e <=>  -1000.0\n",
      "EX_k_e: k_e <=>  -1000.0\n",
      "EX_mg2_e: mg2_e <=>  -1000.0\n",
      "EX_mn2_e: mn2_e <=>  -1000.0\n",
      "EX_mobd_e: mobd_e <=>  -1000.0\n",
      "EX_nh4_e: nh4_e <=>  -1000.0\n",
      "EX_ni2_e: ni2_e <=>  -1000.0\n",
      "EX_o2_e: o2_e <=>  -1000.0\n",
      "EX_pi_e: pi_e <=>  -1000.0\n",
      "EX_so4_e: so4_e <=>  -1000.0\n",
      "EX_zn2_e: zn2_e <=>  -1000.0\n"
     ]
    }
   ],
   "source": [
    "for r in model.exchanges:\n",
    "    if r.lower_bound != 0:\n",
    "        print(r, r.lower_bound)"
   ]
  },
  {
   "cell_type": "code",
   "execution_count": 6,
   "id": "2c3d2aa2-e976-4113-bc5a-0b2fddd4dd23",
   "metadata": {},
   "outputs": [],
   "source": [
    "for r in model.exchanges:\n",
    "    r.upper_bound = 1000\n"
   ]
  },
  {
   "cell_type": "code",
   "execution_count": 2,
   "id": "f1d0fcbb-32b9-4bb6-b38d-d96cc2400625",
   "metadata": {
    "tags": []
   },
   "outputs": [
    {
     "ename": "NameError",
     "evalue": "name 'model' is not defined",
     "output_type": "error",
     "traceback": [
      "\u001b[0;31m---------------------------------------------------------------------------\u001b[0m",
      "\u001b[0;31mNameError\u001b[0m                                 Traceback (most recent call last)",
      "Cell \u001b[0;32mIn[2], line 1\u001b[0m\n\u001b[0;32m----> 1\u001b[0m model\u001b[38;5;241m.\u001b[39mreactions\u001b[38;5;241m.\u001b[39mEX_glc__D_e\u001b[38;5;241m.\u001b[39mlower_bound \u001b[38;5;241m=\u001b[39m \u001b[38;5;241m0\u001b[39m\n\u001b[1;32m      2\u001b[0m \u001b[38;5;28;01mfor\u001b[39;00m r \u001b[38;5;129;01min\u001b[39;00m model\u001b[38;5;241m.\u001b[39mexhcanges:\n\u001b[1;32m      3\u001b[0m     \u001b[38;5;28mprint\u001b[39m(r)\n",
      "\u001b[0;31mNameError\u001b[0m: name 'model' is not defined"
     ]
    }
   ],
   "source": []
  },
  {
   "cell_type": "markdown",
   "id": "a668da15-504f-4fa8-9e62-ff7f08c446fb",
   "metadata": {},
   "source": [
    "# Flux variability analysis"
   ]
  },
  {
   "cell_type": "code",
   "execution_count": 47,
   "id": "051523ae-517a-4be2-a849-d75c5929b888",
   "metadata": {},
   "outputs": [],
   "source": [
    "dfv = cobra.flux_analysis.flux_variability_analysis(model, reaction_list = model.exchanges)"
   ]
  },
  {
   "cell_type": "code",
   "execution_count": 25,
   "id": "292564ae-41db-4cfa-b44e-997a24b4cd6f",
   "metadata": {},
   "outputs": [],
   "source": [
    "dfv2 = cobra.flux_analysis.flux_variability_analysis(model, reaction_list = model.exchanges, fraction_of_optimum = 0.99)"
   ]
  },
  {
   "cell_type": "code",
   "execution_count": 49,
   "id": "9348ab11-7974-46d6-b400-7a1ecdc4d89a",
   "metadata": {},
   "outputs": [],
   "source": [
    "dfv = dfv.loc[dfv.abs().max(1) > 1e-4, :]\n",
    "dfv.to_csv('dfv.csv', float_format='%.3f', sep = \";\")"
   ]
  },
  {
   "cell_type": "code",
   "execution_count": 26,
   "id": "05bf2ee8-b12d-4253-ac97-bdd63fdb9689",
   "metadata": {},
   "outputs": [],
   "source": [
    "dfv2 = dfv2.loc[dfv2.abs().max(1) > 1e-4, :]\n",
    "dfv2.to_csv('dfv2_iecML151_batch.csv', float_format='%.3f', sep = \";\")"
   ]
  },
  {
   "cell_type": "code",
   "execution_count": 30,
   "id": "60df1005-4f17-4603-a525-39455ee48c75",
   "metadata": {},
   "outputs": [
    {
     "name": "stdout",
     "output_type": "stream",
     "text": [
      "Objective\n",
      "=========\n",
      "1.0 BIOMASS_Ec_iJO1366_core_53p95M = 0.7044758867945058\n",
      "\n",
      "Uptake\n",
      "------\n",
      "Metabolite     Reaction      Flux  C-Number  C-Flux\n",
      " prot_pool  ER_pool_TG_     0.095         0   0.00%\n",
      "     ca2_e     EX_ca2_e  0.003667         0   0.00%\n",
      "      cl_e      EX_cl_e  0.003667         0   0.00%\n",
      " cobalt2_e EX_cobalt2_e 1.761E-05         0   0.00%\n",
      "     cu2_e     EX_cu2_e 0.0004995         0   0.00%\n",
      "     fe2_e     EX_fe2_e   0.01131         0   0.00%\n",
      "  glc__D_e  EX_glc__D_e        10         6 100.00%\n",
      "       k_e       EX_k_e    0.1375         0   0.00%\n",
      "     mg2_e     EX_mg2_e  0.006111         0   0.00%\n",
      "     mn2_e     EX_mn2_e 0.0004868         0   0.00%\n",
      "    mobd_e    EX_mobd_e 9.088E-05         0   0.00%\n",
      "     nh4_e     EX_nh4_e     7.609         0   0.00%\n",
      "     ni2_e     EX_ni2_e 0.0002275         0   0.00%\n",
      "      o2_e      EX_o2_e     19.86         0   0.00%\n",
      "      pi_e      EX_pi_e    0.6796         0   0.00%\n",
      "     so4_e     EX_so4_e    0.1777         0   0.00%\n",
      "     zn2_e     EX_zn2_e 0.0002402         0   0.00%\n",
      "\n",
      "Secretion\n",
      "---------\n",
      "Metabolite    Reaction       Flux  C-Number C-Flux\n",
      "  4crsol_c DM_4crsol_c -0.0001571         7  0.00%\n",
      "   5drib_c  DM_5drib_c -0.0001571         5  0.00%\n",
      "  mththf_c DM_mththf_c -0.0003142         5  0.01%\n",
      "      ac_e     EX_ac_e     -4.859         2 31.26%\n",
      "     co2_e    EX_co2_e     -21.36         1 68.73%\n",
      "     h2o_e    EX_h2o_e     -39.97         0  0.00%\n",
      "       h_e      EX_h_e     -11.33         0  0.00%\n",
      "\n"
     ]
    }
   ],
   "source": [
    "s = model.optimize()\n",
    "print(model.summary())"
   ]
  },
  {
   "cell_type": "markdown",
   "id": "462e2c66-0866-4723-aa89-25d12beaea05",
   "metadata": {},
   "source": [
    "## Check metabolite turnover"
   ]
  },
  {
   "cell_type": "code",
   "execution_count": 65,
   "id": "ba6626c4-0363-4383-81a2-ce9403904430",
   "metadata": {},
   "outputs": [],
   "source": [
    "solution = model.optimize()"
   ]
  },
  {
   "cell_type": "code",
   "execution_count": 98,
   "id": "dd9b9184-75ea-454d-9c87-c0dcd7c0dd56",
   "metadata": {},
   "outputs": [
    {
     "name": "stdout",
     "output_type": "stream",
     "text": [
      "#### pyr_c #####\n",
      "#### ac_c #####\n",
      "#### for_c #####\n",
      "#### etoh_c #####\n",
      "#### ala__L_c #####\n",
      "#### akg_c #####\n",
      "#### gln__L_c #####\n",
      "#### lys__L_c #####\n",
      "#### fum_c #####\n",
      "#### dha_c #####\n",
      "#### acald_c #####\n",
      "#### orot_c #####\n",
      "#### ura_c #####\n"
     ]
    },
    {
     "data": {
      "text/html": [
       "<div>\n",
       "<style scoped>\n",
       "    .dataframe tbody tr th:only-of-type {\n",
       "        vertical-align: middle;\n",
       "    }\n",
       "\n",
       "    .dataframe tbody tr th {\n",
       "        vertical-align: top;\n",
       "    }\n",
       "\n",
       "    .dataframe thead th {\n",
       "        text-align: right;\n",
       "    }\n",
       "</style>\n",
       "<table border=\"1\" class=\"dataframe\">\n",
       "  <thead>\n",
       "    <tr style=\"text-align: right;\">\n",
       "      <th></th>\n",
       "      <th>0</th>\n",
       "      <th>1</th>\n",
       "      <th>2</th>\n",
       "      <th>3</th>\n",
       "      <th>4</th>\n",
       "      <th>5</th>\n",
       "      <th>6</th>\n",
       "      <th>7</th>\n",
       "      <th>8</th>\n",
       "      <th>9</th>\n",
       "      <th>10</th>\n",
       "      <th>11</th>\n",
       "      <th>12</th>\n",
       "    </tr>\n",
       "  </thead>\n",
       "  <tbody>\n",
       "    <tr>\n",
       "      <th>0</th>\n",
       "      <td>pyr_c</td>\n",
       "      <td>ac_c</td>\n",
       "      <td>for_c</td>\n",
       "      <td>etoh_c</td>\n",
       "      <td>ala__L_c</td>\n",
       "      <td>akg_c</td>\n",
       "      <td>gln__L_c</td>\n",
       "      <td>lys__L_c</td>\n",
       "      <td>fum_c</td>\n",
       "      <td>dha_c</td>\n",
       "      <td>acald_c</td>\n",
       "      <td>orot_c</td>\n",
       "      <td>ura_c</td>\n",
       "    </tr>\n",
       "    <tr>\n",
       "      <th>1</th>\n",
       "      <td>14.503162</td>\n",
       "      <td>4.858798</td>\n",
       "      <td>1.250598</td>\n",
       "      <td>0</td>\n",
       "      <td>0.708929</td>\n",
       "      <td>11.289496</td>\n",
       "      <td>1.275532</td>\n",
       "      <td>0.241749</td>\n",
       "      <td>6.038156</td>\n",
       "      <td>8.979078</td>\n",
       "      <td>1.171939</td>\n",
       "      <td>0.233037</td>\n",
       "      <td>0</td>\n",
       "    </tr>\n",
       "  </tbody>\n",
       "</table>\n",
       "</div>"
      ],
      "text/plain": [
       "          0         1         2       3         4          5         6   \\\n",
       "0      pyr_c      ac_c     for_c  etoh_c  ala__L_c      akg_c  gln__L_c   \n",
       "1  14.503162  4.858798  1.250598       0  0.708929  11.289496  1.275532   \n",
       "\n",
       "         7         8         9         10        11     12  \n",
       "0  lys__L_c     fum_c     dha_c   acald_c    orot_c  ura_c  \n",
       "1  0.241749  6.038156  8.979078  1.171939  0.233037      0  "
      ]
     },
     "execution_count": 98,
     "metadata": {},
     "output_type": "execute_result"
    }
   ],
   "source": [
    "total_flux_list = []\n",
    "met_list = ['pyr_c', 'ac_c', 'for_c', 'etoh_c', 'ala__L_c', 'akg_c', 'gln__L_c', 'lys__L_c', 'fum_c', 'dha_c', 'acald_c', 'orot_c', 'ura_c']\n",
    "for m_id in met_list:\n",
    "    m = model.metabolites.get_by_id(m_id)\n",
    "    total_flux = 0\n",
    "    print(\"#### {0} #####\".format(m_id))\n",
    "    for r in m.reactions:\n",
    "        flux_r = solution.fluxes[r.id]*r.get_coefficient(m_id)\n",
    "        if flux_r > 0:\n",
    "            total_flux += flux_r\n",
    "    total_flux_list.append(total_flux)\n",
    "pd.DataFrame([met_list, total_flux_list])"
   ]
  },
  {
   "cell_type": "code",
   "execution_count": 99,
   "id": "88814bf5-7ed6-4873-bff7-3874cd7593a2",
   "metadata": {},
   "outputs": [
    {
     "data": {
      "text/html": [
       "<h3>orot_c</h3><p>C5H3N2O4</p><h4>Producing Reactions</h4><table border=\"1\" class=\"dataframe\">\n",
       "  <thead>\n",
       "    <tr style=\"text-align: right;\">\n",
       "      <th>Percent</th>\n",
       "      <th>Flux</th>\n",
       "      <th>Reaction</th>\n",
       "      <th>Definition</th>\n",
       "    </tr>\n",
       "  </thead>\n",
       "  <tbody>\n",
       "    <tr>\n",
       "      <td>100.00%</td>\n",
       "      <td>0.233</td>\n",
       "      <td>DHORD2</td>\n",
       "      <td>dhor__S_c + 0.000230031515597613 prot_pool + q8_c --&gt; orot_c + q8h2_c</td>\n",
       "    </tr>\n",
       "  </tbody>\n",
       "</table><h4>Consuming Reactions</h4><table border=\"1\" class=\"dataframe\">\n",
       "  <thead>\n",
       "    <tr style=\"text-align: right;\">\n",
       "      <th>Percent</th>\n",
       "      <th>Flux</th>\n",
       "      <th>Reaction</th>\n",
       "      <th>Definition</th>\n",
       "    </tr>\n",
       "  </thead>\n",
       "  <tbody>\n",
       "    <tr>\n",
       "      <td>100.00%</td>\n",
       "      <td>-0.233</td>\n",
       "      <td>ORPT_TG_reverse</td>\n",
       "      <td>orot_c + 0.00309156120831178 prot_pool + prpp_c --&gt; orot5p_c + ppi_c</td>\n",
       "    </tr>\n",
       "  </tbody>\n",
       "</table>"
      ],
      "text/plain": [
       "<cobra.summary.metabolite_summary.MetaboliteSummary at 0x23b8e16e190>"
      ]
     },
     "execution_count": 99,
     "metadata": {},
     "output_type": "execute_result"
    }
   ],
   "source": [
    "model.metabolites.orot_c.summary()"
   ]
  },
  {
   "cell_type": "code",
   "execution_count": 85,
   "id": "f22c7270-3062-442e-a316-09eb78759e98",
   "metadata": {},
   "outputs": [
    {
     "data": {
      "text/html": [
       "<h3>dha_c</h3><p>C3H6O3</p><h4>Producing Reactions</h4><table border=\"1\" class=\"dataframe\">\n",
       "  <thead>\n",
       "    <tr style=\"text-align: right;\">\n",
       "      <th>Percent</th>\n",
       "      <th>Flux</th>\n",
       "      <th>Reaction</th>\n",
       "      <th>Definition</th>\n",
       "    </tr>\n",
       "  </thead>\n",
       "  <tbody>\n",
       "    <tr>\n",
       "      <td>100.00%</td>\n",
       "      <td>8.979</td>\n",
       "      <td>F6PA_TG_forward</td>\n",
       "      <td>f6p_c + 5.67753828229373e-05 prot_pool --&gt; dha_c + g3p_c</td>\n",
       "    </tr>\n",
       "  </tbody>\n",
       "</table><h4>Consuming Reactions</h4><table border=\"1\" class=\"dataframe\">\n",
       "  <thead>\n",
       "    <tr style=\"text-align: right;\">\n",
       "      <th>Percent</th>\n",
       "      <th>Flux</th>\n",
       "      <th>Reaction</th>\n",
       "      <th>Definition</th>\n",
       "    </tr>\n",
       "  </thead>\n",
       "  <tbody>\n",
       "    <tr>\n",
       "      <td>100.00%</td>\n",
       "      <td>-8.979</td>\n",
       "      <td>DHAPT</td>\n",
       "      <td>dha_c + pep_c + 0.000456677380424109 prot_pool --&gt; dhap_c + pyr_c</td>\n",
       "    </tr>\n",
       "  </tbody>\n",
       "</table>"
      ],
      "text/plain": [
       "<cobra.summary.metabolite_summary.MetaboliteSummary at 0x23b82faab80>"
      ]
     },
     "execution_count": 85,
     "metadata": {},
     "output_type": "execute_result"
    }
   ],
   "source": [
    "model.metabolites.dha_c.summary(solution)"
   ]
  },
  {
   "cell_type": "markdown",
   "id": "9a5eeb89-a157-4287-9e7f-34f412d3bd63",
   "metadata": {},
   "source": [
    "### note to dha\n",
    "The flux shown here does not represent the standard flux in glycolysis, using \n",
    "https://www.genome.jp/entry/2.7.1.121. From a brief google search I found little info about this enzyme in ecoli. The producing reaction https://www.uniprot.org/uniprotkb/P78055/entry is neither the standard flux in E. coli glycolysis, so it is tempting to assume that this one is not necesseraily functioning, at least not at such a high rate\n",
    "\n",
    "From https://www.sciencedirect.com/science/article/pii/S2405471216302903?via%3Dihub :\n",
    "__The reactions F6PA and DHAPT are known to be utilized during growth on glycerol but are not active in growth on glucose (Gutknecht et al., 2001).__\n"
   ]
  },
  {
   "cell_type": "code",
   "execution_count": 5,
   "id": "65598bf2-afb0-415c-91d3-2aaa45d8e33c",
   "metadata": {},
   "outputs": [
    {
     "ename": "NameError",
     "evalue": "name 'model' is not defined",
     "output_type": "error",
     "traceback": [
      "\u001b[1;31m---------------------------------------------------------------------------\u001b[0m",
      "\u001b[1;31mNameError\u001b[0m                                 Traceback (most recent call last)",
      "Input \u001b[1;32mIn [5]\u001b[0m, in \u001b[0;36m<cell line: 1>\u001b[1;34m()\u001b[0m\n\u001b[1;32m----> 1\u001b[0m \u001b[38;5;28;01mwith\u001b[39;00m \u001b[43mmodel\u001b[49m:\n\u001b[0;32m      2\u001b[0m     model\u001b[38;5;241m.\u001b[39mreactions\u001b[38;5;241m.\u001b[39mF6PA_TG_forward\u001b[38;5;241m.\u001b[39mknock_out() \n\u001b[0;32m      3\u001b[0m     \u001b[38;5;66;03m# OR KNOCK OUT GENES  b0825 or G_b3946, or \u001b[39;00m\n\u001b[0;32m      4\u001b[0m     \u001b[38;5;66;03m# DHAPT (or its genes b2415, G_b1199, G_b1200, G_b1198, G_b2416, \u001b[39;00m\n\u001b[0;32m      5\u001b[0m     \u001b[38;5;66;03m# From https://www.sciencedirect.com/science/article/pii/S2405471216302903?via%3Dihub :\u001b[39;00m\n\u001b[0;32m      6\u001b[0m     \u001b[38;5;66;03m# The reactions F6PA and DHAPT are known to be utilized during growth on glycerol but are not active in growth on glucose (Gutknecht et al., 2001).\u001b[39;00m\n",
      "\u001b[1;31mNameError\u001b[0m: name 'model' is not defined"
     ]
    }
   ],
   "source": [
    "with model:\n",
    "    model.reactions.F6PA_TG_forward.knock_out() \n",
    "    # OR KNOCK OUT GENES  b0825 or G_b3946, or \n",
    "    # DHAPT (or its genes b2415, G_b1199, G_b1200, G_b1198, G_b2416, \n",
    "    # From https://www.sciencedirect.com/science/article/pii/S2405471216302903?via%3Dihub :\n",
    "    # The reactions F6PA and DHAPT are known to be utilized during growth on glycerol but are not active in growth on glucose (Gutknecht et al., 2001).\n",
    "    solution_delta_F6PA_TG = model.optimize()\n",
    "    print(model.metabolites.dha_c.summary(solution_delta_F6PA_TG))\n",
    "    print(solution_delta_F6PA_TG.objective_value)"
   ]
  },
  {
   "cell_type": "code",
   "execution_count": 86,
   "id": "dac595fd-28ad-4809-81bd-5c416e7643a1",
   "metadata": {},
   "outputs": [
    {
     "data": {
      "text/html": [
       "<h3>acald_c</h3><p>C2H4O</p><h4>Producing Reactions</h4><table border=\"1\" class=\"dataframe\">\n",
       "  <thead>\n",
       "    <tr style=\"text-align: right;\">\n",
       "      <th>Percent</th>\n",
       "      <th>Flux</th>\n",
       "      <th>Reaction</th>\n",
       "      <th>Definition</th>\n",
       "    </tr>\n",
       "  </thead>\n",
       "  <tbody>\n",
       "    <tr>\n",
       "      <td>100.00%</td>\n",
       "      <td>1.172</td>\n",
       "      <td>THRA</td>\n",
       "      <td>0.00121915615627352 prot_pool + thr__L_c --&gt; acald_c + gly_c</td>\n",
       "    </tr>\n",
       "  </tbody>\n",
       "</table><h4>Consuming Reactions</h4><table border=\"1\" class=\"dataframe\">\n",
       "  <thead>\n",
       "    <tr style=\"text-align: right;\">\n",
       "      <th>Percent</th>\n",
       "      <th>Flux</th>\n",
       "      <th>Reaction</th>\n",
       "      <th>Definition</th>\n",
       "    </tr>\n",
       "  </thead>\n",
       "  <tbody>\n",
       "    <tr>\n",
       "      <td>100.00%</td>\n",
       "      <td>-1.172</td>\n",
       "      <td>ACALD_TG_forward</td>\n",
       "      <td>acald_c + coa_c + nad_c + 0.000842200717739499 prot_pool --&gt; accoa_c + h_c + nadh_c</td>\n",
       "    </tr>\n",
       "  </tbody>\n",
       "</table>"
      ],
      "text/plain": [
       "<cobra.summary.metabolite_summary.MetaboliteSummary at 0x23b84200640>"
      ]
     },
     "execution_count": 86,
     "metadata": {},
     "output_type": "execute_result"
    }
   ],
   "source": [
    "model.metabolites.acald_c.summary(solution)"
   ]
  },
  {
   "cell_type": "markdown",
   "id": "c46061a8-c670-4176-90fe-d9e0bc490e2a",
   "metadata": {},
   "source": [
    "### Note to acald\n",
    "https://www.ncbi.nlm.nih.gov/pmc/articles/PMC277611/\n",
    "Glycine is supposedly made from serine in E. coli\n",
    "\n",
    "Another paper indicating the glycine is made from glycine, not threonine  https://microbialcellfactories.biomedcentral.com/articles/10.1186/s12934-020-01323-2\n",
    "\n",
    "Summary of threonine aldolase here:\n",
    "https://biocyc.org/gene?orgid=ECOLI&id=LTAA-MONOMER"
   ]
  },
  {
   "cell_type": "code",
   "execution_count": 95,
   "id": "53591711-3793-4420-a11c-08170673dc06",
   "metadata": {},
   "outputs": [
    {
     "name": "stdout",
     "output_type": "stream",
     "text": [
      "acald_c\n",
      "=======\n",
      "Formula: C2H4O\n",
      "\n",
      "Producing Reactions\n",
      "-------------------\n",
      "Empty DataFrame\n",
      "Columns: [Percent, Flux, Reaction, Definition]\n",
      "Index: []\n",
      "\n",
      "Consuming Reactions\n",
      "-------------------\n",
      "Empty DataFrame\n",
      "Columns: [Percent, Flux, Reaction, Definition]\n",
      "Index: []\n",
      "0.6564220253216607\n"
     ]
    }
   ],
   "source": [
    "with model:\n",
    "    model.reactions.THRA.knock_out() \n",
    "    model.reactions.THRA2.knock_out() \n",
    "    # OR KNOCK OUT GENES  b2551 G_b0870\n",
    "    solution_delta_THRA = model.optimize()\n",
    "    print(model.metabolites.acald_c.summary(solution_delta_THRA))\n",
    "    print(solution_delta_THRA.objective_value)"
   ]
  },
  {
   "cell_type": "code",
   "execution_count": null,
   "id": "da1bccf9-134f-44e3-9253-95f9dc4204e5",
   "metadata": {},
   "outputs": [],
   "source": []
  },
  {
   "cell_type": "markdown",
   "id": "ebe81a22-f877-4548-abd7-89043839e8a4",
   "metadata": {},
   "source": [
    "## Check shadow prices\n",
    "Initial conclusion: shadow prices seem to correspond to the range of FVA values, but not linearly. I excpect (but would need to check) that the spearman correlation between (1/shadow price) and max(FVA) of secreted metabolites is pretty good. "
   ]
  },
  {
   "cell_type": "code",
   "execution_count": 8,
   "id": "d8ca196b-5791-4e6a-b3b7-b1c0aec21e65",
   "metadata": {},
   "outputs": [],
   "source": [
    "import scipy.stats as st"
   ]
  },
  {
   "cell_type": "code",
   "execution_count": 95,
   "id": "dfdba304-4c1d-44ac-912b-1cdb663a47ab",
   "metadata": {},
   "outputs": [],
   "source": [
    "model = cobra.io.read_sbml_model('models/e_coli/momentiJO1366.xml')\n",
    "glucose_uptake = 10\n",
    "model.reactions.EX_glc__D_e.lower_bound = -glucose_uptake\n"
   ]
  },
  {
   "cell_type": "code",
   "execution_count": 96,
   "id": "6067ada4",
   "metadata": {},
   "outputs": [],
   "source": [
    "model.reactions.DHAPT.knock_out()\n",
    "model.reactions.THRA.knock_out()\n",
    "model.reactions.THRA2.knock_out()\n",
    "model.reactions.F6PA_TG_forward.knock_out()\n"
   ]
  },
  {
   "cell_type": "code",
   "execution_count": 97,
   "id": "232fe84a",
   "metadata": {},
   "outputs": [
    {
     "name": "stdout",
     "output_type": "stream",
     "text": [
      "Objective\n",
      "=========\n",
      "1.0 BIOMASS_Ec_iJO1366_core_53p95M = 0.6436981589523805\n",
      "\n",
      "Uptake\n",
      "------\n",
      "Metabolite     Reaction      Flux  C-Number  C-Flux\n",
      " prot_pool  ER_pool_TG_     0.095         0   0.00%\n",
      "     ca2_e     EX_ca2_e   0.00335         0   0.00%\n",
      "      cl_e      EX_cl_e   0.00335         0   0.00%\n",
      " cobalt2_e EX_cobalt2_e 1.609E-05         0   0.00%\n",
      "     cu2_e     EX_cu2_e 0.0004564         0   0.00%\n",
      "     fe2_e     EX_fe2_e   0.01034         0   0.00%\n",
      "  glc__D_e  EX_glc__D_e        10         6 100.00%\n",
      "       k_e       EX_k_e    0.1256         0   0.00%\n",
      "     mg2_e     EX_mg2_e  0.005584         0   0.00%\n",
      "     mn2_e     EX_mn2_e 0.0004448         0   0.00%\n",
      "    mobd_e    EX_mobd_e 8.304E-05         0   0.00%\n",
      "     nh4_e     EX_nh4_e     6.952         0   0.00%\n",
      "     ni2_e     EX_ni2_e 0.0002079         0   0.00%\n",
      "      o2_e      EX_o2_e      17.6         0   0.00%\n",
      "      pi_e      EX_pi_e    0.6209         0   0.00%\n",
      "     so4_e     EX_so4_e    0.1623         0   0.00%\n",
      "     zn2_e     EX_zn2_e 0.0002195         0   0.00%\n",
      "\n",
      "Secretion\n",
      "---------\n",
      "Metabolite    Reaction       Flux  C-Number C-Flux\n",
      "  4crsol_c DM_4crsol_c -0.0001435         7  0.00%\n",
      "   5drib_c  DM_5drib_c -0.0001448         5  0.00%\n",
      "    amob_c   DM_amob_c -1.287E-06        15  0.00%\n",
      "  mththf_c DM_mththf_c -0.0002884         5  0.00%\n",
      "      ac_e     EX_ac_e     -7.302         2 43.49%\n",
      "     co2_e    EX_co2_e     -18.97         1 56.50%\n",
      "     h2o_e    EX_h2o_e     -35.97         0  0.00%\n",
      "       h_e      EX_h_e     -13.22         0  0.00%\n",
      "    meoh_e   EX_meoh_e -1.287E-06         1  0.00%\n",
      "\n"
     ]
    }
   ],
   "source": [
    "model.optimize()\n",
    "print(model.summary())"
   ]
  }
 ],
 "metadata": {
  "kernelspec": {
   "display_name": "Python 3 (ipykernel)",
   "language": "python",
   "name": "python3"
  },
  "language_info": {
   "codemirror_mode": {
    "name": "ipython",
    "version": 3
   },
   "file_extension": ".py",
   "mimetype": "text/x-python",
   "name": "python",
   "nbconvert_exporter": "python",
   "pygments_lexer": "ipython3",
   "version": "3.9.21"
  }
 },
 "nbformat": 4,
 "nbformat_minor": 5
}
