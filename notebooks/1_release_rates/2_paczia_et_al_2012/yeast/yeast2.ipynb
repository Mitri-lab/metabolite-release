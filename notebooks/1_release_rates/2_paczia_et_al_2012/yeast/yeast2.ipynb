{
 "cells": [
  {
   "cell_type": "code",
   "execution_count": 62,
   "id": "0b9b8e87-323a-4a4d-9185-ec259c765b63",
   "metadata": {
    "tags": []
   },
   "outputs": [],
   "source": [
    "import cobra\n",
    "import numpy as np\n",
    "from matplotlib import pyplot as plt\n",
    "import pandas as pd\n",
    "import sys\n",
    "sys.path.append('../../code/')\n",
    "import leakage\n",
    "from pathlib import Path\n",
    "import matplotlib\n",
    "import seaborn as sns\n",
    "import scipy.stats as st\n",
    "from scipy.stats import mannwhitneyu"
   ]
  },
  {
   "cell_type": "code",
   "execution_count": 63,
   "id": "26c7b9d5-bd92-41c5-ab30-d6bad7352522",
   "metadata": {
    "tags": []
   },
   "outputs": [],
   "source": [
    "def inf_to_100000(model):\n",
    "    for r in model.reactions:\n",
    "        if np.isinf(r.lower_bound):\n",
    "            r.lower_bound = -100000\n",
    "        if np.isinf(r.upper_bound):\n",
    "            r.upper_bound = 100000\n",
    "    return model\n",
    "\n",
    "def print_summary(model, solution):\n",
    "    # Print uptake\n",
    "    for r in model.exchanges:\n",
    "        flux = solution[r.id]\n",
    "        if  flux >1e-3:\n",
    "            print(r.id, r.name,flux, r.bounds)\n",
    "        elif flux < -1e-3:\n",
    "            print(r.id, r.name,flux, r.bounds)\n",
    "    #print(\"## Demands ##\")\n",
    "    #for r in model.demands:\n",
    "    #    print(r.id, solution[r.id])\n",
    "\n",
    "    print(\"Growth: \", solution['r_2111'])\n",
    "    print(\"Prot pool exchange: \", solution['prot_pool_exchange'])"
   ]
  },
  {
   "cell_type": "markdown",
   "id": "f66ff43e-6bfa-46e3-bc3e-74c29721c725",
   "metadata": {},
   "source": [
    "# Create model without reversible exchanges"
   ]
  },
  {
   "cell_type": "code",
   "execution_count": 40,
   "id": "684658f1-ada2-4de7-a57c-91c235a44270",
   "metadata": {},
   "outputs": [],
   "source": [
    "model = cobra.io.read_sbml_model('../../models/yeast/ecYeastGEM_batch_8_3_4.xml')\n",
    "model.solver = 'gurobi'\n",
    "model = inf_to_100000(model)\n",
    "for r in model.boundary:\n",
    "    if r.id[-3:] == 'REV':\n",
    "        # print(r, r.upper_bound)\n",
    "        r_forward = model.reactions.get_by_id(r.id[:-4])\n",
    "        if r.upper_bound != 0:\n",
    "            r_forward.lower_bound = -r.upper_bound\n",
    "            # print(r_forward,r_forward.name, r_forward.bounds)\n",
    "        r.remove_from_model()\n",
    "# fn = '../../models/yeast/ecYeastGEM_batch_8_3_4_no_rev_ex.xml'\n",
    "# cobra.io.write_sbml_model(model, fn)"
   ]
  },
  {
   "cell_type": "code",
   "execution_count": 67,
   "id": "bcc1c227-f449-4c14-9523-75ba51c43743",
   "metadata": {},
   "outputs": [],
   "source": [
    "model = cobra.io.read_sbml_model('../../models/yeast/ecYeastGEM_batch_8_3_4_no_rev_ex.xml')\n",
    "model.reactions.get_by_id('r_1714').lower_bound = -10.7\n"
   ]
  },
  {
   "cell_type": "code",
   "execution_count": 68,
   "id": "53774620-5cf2-4cb2-a093-f71d807475ae",
   "metadata": {},
   "outputs": [
    {
     "name": "stdout",
     "output_type": "stream",
     "text": [
      "r_1634 acetate exchange 3.150847674325645 (0.0, 100000.0)\n",
      "r_1654 ammonium exchange -2.4924355891824574 (-100000.0, 100000.0)\n",
      "r_1672 carbon dioxide exchange 16.851758040581636 (0.0, 100000.0)\n",
      "r_1714 D-glucose exchange -10.7 (-10.7, 0.0)\n",
      "r_1761 ethanol exchange 11.799081171861205 (0.0, 100000.0)\n",
      "r_1793 formate exchange 0.015592320692474442 (0.0, 100000.0)\n",
      "r_1832 H+ exchange -5.75706774966927 (-100000.0, 100000.0)\n",
      "r_1992 oxygen exchange -4.775969344852018 (-100000.0, 0.0)\n",
      "r_2005 phosphate exchange -0.0994867201243665 (-100000.0, 100000.0)\n",
      "r_2020 potassium exchange -0.0013206214578045737 (-100000.0, 100000.0)\n",
      "r_2033 pyruvate exchange 0.8399229677948377 (0.0, 100000.0)\n",
      "r_2049 sodium exchange -0.0014443160296099605 (-100000.0, 100000.0)\n",
      "r_2060 sulphate exchange -0.03330429050876709 (-100000.0, 100000.0)\n",
      "r_2100 water exchange 12.452362066355578 (-100000.0, 100000.0)\n",
      "Growth:  0.36380756413349136\n",
      "Prot pool exchange:  0.103720024310123\n",
      "acetate [cytoplasm] s_0362[c]\n",
      "=========\n",
      "Formula: C2H3O2\n",
      "\n",
      "Producing Reactions\n",
      "-------------------\n",
      "Percent      Flux  Reaction                                                                      Definition\n",
      "100.00%     3.599 r_0173No1 1.2626e-05 prot_P54115[c] + s_0359[c] + s_0803[c] + s_1207[c] --> s_0362[c] ...\n",
      "  0.00% 4.366E-07    r_2071 s_0581[c] + s_0794[c] + s_0981[c] + s_1003[c] + s_1233[c] --> s_0293[c] + s_...\n",
      "\n",
      "Consuming Reactions\n",
      "-------------------\n",
      "Percent    Flux   Reaction                                           Definition\n",
      " 12.46% -0.4484 arm_r_0112 s_0362[c] + s_0434[c] + s_0529[c] --> pmet_r_0112[c]\n",
      " 87.54%  -3.151     r_1106                              s_0362[c] --> s_0364[e]\n",
      "-0.00010884266083976968\n"
     ]
    }
   ],
   "source": [
    "solution = model.optimize()\n",
    "print_summary(model, solution)\n",
    "m = model.metabolites.get_by_id('s_0362[c]')\n",
    "print(m.name, m.summary())\n",
    "s = leakage.estimate_shadow_price_for_met(model, m, solution, delta = 0.01, existing_flux = (r_id, 3.15))\n",
    "print(s)"
   ]
  },
  {
   "cell_type": "markdown",
   "id": "e0c04969-8cd7-4e20-a134-8a6c315c9c08",
   "metadata": {},
   "source": [
    "# Load model"
   ]
  },
  {
   "cell_type": "code",
   "execution_count": 64,
   "id": "3f26e6e2-7b60-4340-872a-9e48ff55c391",
   "metadata": {},
   "outputs": [],
   "source": [
    "model = cobra.io.read_sbml_model('../../models/yeast/ecYeastGEM_batch_8_3_4.xml')\n",
    "model.solver = 'gurobi'\n",
    "model = inf_to_100000(model)"
   ]
  },
  {
   "cell_type": "code",
   "execution_count": 65,
   "id": "b736b8fd-5817-4e88-a6f2-406139dd2b7e",
   "metadata": {},
   "outputs": [
    {
     "name": "stdout",
     "output_type": "stream",
     "text": [
      "r_1634 acetate exchange 3.1508476743256453 (0.0, 100000)\n",
      "r_1672 carbon dioxide exchange 16.85175804058164 (0.0, 100000)\n",
      "r_1761 ethanol exchange 11.799081171861207 (0.0, 100000)\n",
      "r_1793 formate exchange 0.015592320692474286 (0.0, 100000)\n",
      "r_2033 pyruvate exchange 0.839922967794843 (0.0, 100000)\n",
      "r_2100 water exchange 12.452362066355587 (0.0, 100000)\n",
      "r_1654_REV ammonium exchange (reversible) 2.492435589182457 (0.0, 100000)\n",
      "r_1714_REV D-glucose exchange (reversible) 10.7 (0.0, 10.7)\n",
      "r_1832_REV H+ exchange (reversible) 5.757067749669276 (0.0, 100000)\n",
      "r_1992_REV oxygen exchange (reversible) 4.775969344852017 (0.0, 100000)\n",
      "r_2005_REV phosphate exchange (reversible) 0.09948672012437539 (0.0, 100000)\n",
      "r_2020_REV potassium exchange (reversible) 0.0013206214578045737 (0.0, 100000)\n",
      "r_2049_REV sodium exchange (reversible) 0.0014443160296099605 (0.0, 100000)\n",
      "r_2060_REV sulphate exchange (reversible) 0.03330429050876709 (0.0, 100000)\n",
      "Growth:  0.36380756413349136\n",
      "Prot pool exchange:  0.103720024310123\n"
     ]
    }
   ],
   "source": [
    "model.reactions.get_by_id('r_1714_REV').upper_bound = 10.7\n",
    "print_summary(model, model.optimize())"
   ]
  },
  {
   "cell_type": "code",
   "execution_count": null,
   "id": "1ae05cd6-f967-4612-a671-802f258c21a1",
   "metadata": {},
   "outputs": [],
   "source": [
    "model."
   ]
  },
  {
   "cell_type": "code",
   "execution_count": 20,
   "id": "47bdafb8-6ab3-4052-94d9-259655dfd7b0",
   "metadata": {},
   "outputs": [
    {
     "name": "stdout",
     "output_type": "stream",
     "text": [
      "r_1634 acetate exchange 3.1508476743256506 (0.0, 100000)\n",
      "r_1672 carbon dioxide exchange 16.851758040581636 (0.0, 100000)\n",
      "r_1761 ethanol exchange 11.799081171861198 (0.0, 100000)\n",
      "r_1793 formate exchange 0.015592320692474591 (0.0, 100000)\n",
      "r_2033 pyruvate exchange 0.8399229677948341 (0.0, 100000)\n",
      "r_2100 water exchange 12.45236206635558 (0.0, 100000)\n",
      "r_1654_REV ammonium exchange (reversible) 2.492435589182461 (0.0, 100000)\n",
      "r_1714_REV D-glucose exchange (reversible) 10.7 (0.0, 10.7)\n",
      "r_1832_REV H+ exchange (reversible) 5.757067749669302 (0.0, 100000)\n",
      "r_1992_REV oxygen exchange (reversible) 4.775969344852023 (0.0, 100000)\n",
      "r_2005_REV phosphate exchange (reversible) 0.0994867201243665 (0.0, 100000)\n",
      "r_2020_REV potassium exchange (reversible) 0.0013206214578045743 (0.0, 100000)\n",
      "r_2049_REV sodium exchange (reversible) 0.0014443160296099611 (0.0, 100000)\n",
      "r_2060_REV sulphate exchange (reversible) 0.033304290508767105 (0.0, 100000)\n",
      "Growth:  0.3638075641334915\n",
      "Prot pool exchange:  0.103720024310123\n",
      "r_1634 acetate exchange 6.300847674325645 (0.0, 100000)\n",
      "r_1672 carbon dioxide exchange 16.85175804058163 (0.0, 100000)\n",
      "r_1761 ethanol exchange 11.799081171861195 (0.0, 100000)\n",
      "r_1793 formate exchange 0.015592320692474293 (0.0, 100000)\n",
      "r_2033 pyruvate exchange 0.8399229677948448 (0.0, 100000)\n",
      "r_2100 water exchange 12.452362066355587 (0.0, 100000)\n",
      "r_1634_REV acetate exchange (reversible) 3.15 (3.15, 3.15)\n",
      "r_1654_REV ammonium exchange (reversible) 2.4924355891824588 (0.0, 100000)\n",
      "r_1714_REV D-glucose exchange (reversible) 10.7 (0.0, 10.7)\n",
      "r_1832_REV H+ exchange (reversible) 5.7570677496692735 (0.0, 100000)\n",
      "r_1992_REV oxygen exchange (reversible) 4.775969344852022 (0.0, 100000)\n",
      "r_2005_REV phosphate exchange (reversible) 0.09948672012435585 (0.0, 100000)\n",
      "r_2020_REV potassium exchange (reversible) 0.0013206214578045745 (0.0, 100000)\n",
      "r_2049_REV sodium exchange (reversible) 0.0014443160296099616 (0.0, 100000)\n",
      "r_2060_REV sulphate exchange (reversible) 0.03330429050876711 (0.0, 100000)\n",
      "Growth:  0.36380756413349163\n",
      "Prot pool exchange:  0.103720024310123\n"
     ]
    }
   ],
   "source": [
    "model.reactions.get_by_id('r_1714_REV').upper_bound = 10.7\n",
    "solution = model.optimize()\n",
    "print_summary(model, solution)\n",
    "solution.shadow_prices['s_0362[c]']\n",
    "m = model.metabolites.get_by_id('s_0362[c]')\n",
    "r_id = 'r_1634_REV'\n",
    "s = leakage.estimate_shadow_price_for_met(model, m, solution, delta = 0.01, existing_flux = (r_id, 3.15))\n",
    "\n",
    "with model:\n",
    "    model.reactions.get_by_id(r_id).bounds = (3.15, 3.15)\n",
    "    print_summary(model, model.optimize())"
   ]
  },
  {
   "cell_type": "code",
   "execution_count": 37,
   "id": "b9be0c98-f2b6-4dd5-81c8-39a47ff13bfe",
   "metadata": {},
   "outputs": [
    {
     "name": "stdout",
     "output_type": "stream",
     "text": [
      "r_1654: s_0420[e] <=>  ammonium exchange (-100000, 100000)\n",
      "r_1714: s_0565[e] <--  D-glucose exchange (-10.7, 0.0)\n",
      "r_1832: s_0796[e] <=>  H+ exchange (-100000, 100000)\n",
      "r_1861: s_0925[e] <=>  iron(2+) exchange (-100000, 100000)\n",
      "r_1992: s_1277[e] <--  oxygen exchange (-100000, 0.0)\n",
      "r_2005: s_1324[e] <=>  phosphate exchange (-100000, 100000)\n",
      "r_2020: s_1374[e] <=>  potassium exchange (-100000, 100000)\n",
      "r_2049: s_1438[e] <=>  sodium exchange (-100000, 100000)\n",
      "r_2060: s_1468[e] <=>  sulphate exchange (-100000, 100000)\n",
      "r_2100: s_0805[e] <=>  water exchange (-100000, 100000)\n",
      "r_4593: s_4200[e] <=>  chloride exchange (-100000, 100000)\n",
      "r_4594: s_4201[e] <=>  Cu2(+) exchange (-100000, 100000)\n",
      "r_4595: s_4202[e] <=>  Mn(2+) exchange (-100000, 100000)\n",
      "r_4596: s_4203[e] <=>  Zn(2+) exchange (-100000, 100000)\n",
      "r_4597: s_4204[e] <=>  Mg(2+) exchange (-100000, 100000)\n",
      "r_4600: s_4199[e] <=>  Ca(2+) exchange (-100000, 100000)\n",
      "#####\n",
      "-0.00010884266087862748\n",
      "#####\n",
      "r_1634 acetate exchange 10.0 (10, 10)\n",
      "r_1654 ammonium exchange -2.149365180987358 (-100000, 100000)\n",
      "r_1672 carbon dioxide exchange 17.605276640718312 (0.0, 100000)\n",
      "r_1714 D-glucose exchange -10.7 (-10.7, 0.0)\n",
      "r_1761 ethanol exchange 6.867199028510805 (0.0, 100000)\n",
      "r_1832 H+ exchange -9.067174409516458 (-100000, 100000)\n",
      "r_1992 oxygen exchange -10.130578301039701 (-100000, 0.0)\n",
      "r_2005 phosphate exchange -5.9936620708371535 (-100000, 100000)\n",
      "r_2020 potassium exchange -0.001138844988006671 (-100000, 100000)\n",
      "r_2049 sodium exchange -0.0012455136645692791 (-100000, 100000)\n",
      "r_2060 sulphate exchange -0.028720133313660134 (-100000, 100000)\n",
      "r_2100 water exchange 19.34885829069847 (-100000, 100000)\n",
      "r_4527 diphosphate exchange 2.9539345824201435 (0.0, 100000)\n",
      "Growth:  0.3137314016547303\n",
      "Prot pool exchange:  0.103720024310123\n"
     ]
    }
   ],
   "source": [
    "with model:\n",
    "    for r in model.boundary:\n",
    "        if r.id[-3:] == 'REV':\n",
    "            # print(r, r.upper_bound)\n",
    "            r_forward = model.reactions.get_by_id(r.id[:-4])\n",
    "            if r.upper_bound != 0:\n",
    "                r_forward.lower_bound = -r.upper_bound\n",
    "                print(r_forward,r_forward.name, r_forward.bounds)\n",
    "                r.remove_from_model()\n",
    "    print(\"#####\")\n",
    "    solution.shadow_prices['s_0362[c]']\n",
    "    m = model.metabolites.get_by_id('s_0362[c]')\n",
    "    r_id = 'r_1634'\n",
    "    s = leakage.estimate_shadow_price_for_met(model, m, solution, delta = 0.01, existing_flux = (r_id, 3.15))\n",
    "    print(s)\n",
    "    print(\"#####\")\n",
    "    model.reactions.get_by_id(r_id).bounds = (10,10)\n",
    "    print_summary(model, model.optimize())"
   ]
  },
  {
   "cell_type": "code",
   "execution_count": null,
   "id": "096f7b36-568c-408d-8548-bce07e3bafd2",
   "metadata": {},
   "outputs": [],
   "source": []
  },
  {
   "cell_type": "code",
   "execution_count": 26,
   "id": "7454ba4c-cf9a-41ed-80f5-3f1f54297c1b",
   "metadata": {
    "tags": []
   },
   "outputs": [
    {
     "name": "stdout",
     "output_type": "stream",
     "text": [
      "9.968571784677293\n"
     ]
    }
   ],
   "source": [
    "# Data on glucose uptake https://ami-journals.onlinelibrary.wiley.com/doi/10.1111/1751-7915.13995\n",
    "init_glucose_conc = 16 #g/L\n",
    "glucose_mw = 180.156 #g/mol\n",
    "conc_gluc_mM = (init_glucose_conc/glucose_mw)*1e3\n",
    "km_glc = 0.28 #mmol l−1\n",
    "vmax_glc = 10 #mmol gDW−1\n",
    "\n",
    "r_glc = vmax_glc * conc_gluc_mM / (conc_gluc_mM + km_glc)\n",
    "print(r_glc)"
   ]
  },
  {
   "cell_type": "markdown",
   "id": "ee7cefed-8d2b-487d-9a71-589b1ac5a7d8",
   "metadata": {},
   "source": [
    "## Note\n",
    "As also stated in https://ami-journals.onlinelibrary.wiley.com/doi/10.1111/1751-7915.13995 glucose uptake is not constrained by km (i.e. vmax = 10)\n"
   ]
  },
  {
   "cell_type": "code",
   "execution_count": 28,
   "id": "b2dcfab4-0e05-4720-9066-e670a02cd608",
   "metadata": {
    "tags": []
   },
   "outputs": [],
   "source": [
    "model.reactions.get_by_id('r_1714_REV').upper_bound = 10\n"
   ]
  },
  {
   "cell_type": "code",
   "execution_count": 29,
   "id": "3cc4d92d-be3f-4895-b3dc-a9e33f49912c",
   "metadata": {
    "tags": []
   },
   "outputs": [
    {
     "name": "stdout",
     "output_type": "stream",
     "text": [
      "r_1634 acetate exchange 3.1279933187031577 (0.0, 100000)\n",
      "r_1672 carbon dioxide exchange 14.497501304355927 (0.0, 100000)\n",
      "r_1761 ethanol exchange 9.481473517387105 (0.0, 100000)\n",
      "r_1793 formate exchange 0.015479223367907058 (0.0, 100000)\n",
      "r_2033 pyruvate exchange 1.8210776215830649 (0.0, 100000)\n",
      "r_2100 water exchange 13.349287065068731 (0.0, 100000)\n",
      "r_1654_REV ammonium exchange (reversible) 2.4743569591727215 (0.0, 100000)\n",
      "r_1714_REV D-glucose exchange (reversible) 10.0 (0.0, 10)\n",
      "r_1832_REV H+ exchange (reversible) 4.105673859636615 (0.0, 100000)\n",
      "r_1992_REV oxygen exchange (reversible) 5.234950808334606 (0.0, 100000)\n",
      "r_2005_REV phosphate exchange (reversible) 0.09876510324015143 (0.0, 100000)\n",
      "r_2020_REV potassium exchange (reversible) 0.0013110424633373764 (0.0, 100000)\n",
      "r_2049_REV sodium exchange (reversible) 0.0014338398290494171 (0.0, 100000)\n",
      "r_2060_REV sulphate exchange (reversible) 0.03306272119862749 (0.0, 100000)\n",
      "Growth:  0.36116872268247285\n",
      "Prot pool exchange:  0.103720024310123\n"
     ]
    }
   ],
   "source": [
    "solution = model.optimize()\n",
    "print_summary(model, solution)"
   ]
  },
  {
   "cell_type": "code",
   "execution_count": null,
   "id": "9688d5f3-7d45-43d2-bbf8-f437b093da42",
   "metadata": {},
   "outputs": [],
   "source": []
  },
  {
   "cell_type": "code",
   "execution_count": null,
   "id": "7f558603-fede-45ae-85d9-63ab64d30077",
   "metadata": {},
   "outputs": [],
   "source": []
  }
 ],
 "metadata": {
  "kernelspec": {
   "display_name": "Python 3 (ipykernel)",
   "language": "python",
   "name": "python3"
  },
  "language_info": {
   "codemirror_mode": {
    "name": "ipython",
    "version": 3
   },
   "file_extension": ".py",
   "mimetype": "text/x-python",
   "name": "python",
   "nbconvert_exporter": "python",
   "pygments_lexer": "ipython3",
   "version": "3.9.21"
  }
 },
 "nbformat": 4,
 "nbformat_minor": 5
}
