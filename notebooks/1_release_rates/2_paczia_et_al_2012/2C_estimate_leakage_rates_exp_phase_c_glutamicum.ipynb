{
 "cells": [
  {
   "cell_type": "code",
   "execution_count": 28,
   "id": "2eb776c4-d269-4b4e-9c4b-400c6ad6d62e",
   "metadata": {
    "execution": {
     "iopub.execute_input": "2025-02-17T14:33:49.050906Z",
     "iopub.status.busy": "2025-02-17T14:33:49.050787Z",
     "iopub.status.idle": "2025-02-17T14:33:50.492138Z",
     "shell.execute_reply": "2025-02-17T14:33:50.491691Z",
     "shell.execute_reply.started": "2025-02-17T14:33:49.050893Z"
    }
   },
   "outputs": [],
   "source": [
    "import pandas as pd\n",
    "import numpy as np\n",
    "import matplotlib.pyplot as plt\n",
    "from pathlib import Path\n",
    "import sys\n",
    "sys.path.append('../../../code/')\n",
    "\n",
    "import utils\n",
    "import leakage\n",
    "import reframed\n",
    "import scipy"
   ]
  },
  {
   "cell_type": "markdown",
   "id": "1d4d0851-608d-4cf2-93c2-54011fff66d3",
   "metadata": {},
   "source": [
    "# Estimate release rates for C. glutamicum in glucose from Paczia et al. 2012"
   ]
  },
  {
   "cell_type": "code",
   "execution_count": 29,
   "id": "4ec34038-15cd-44a5-b8d6-6d4331ebccf0",
   "metadata": {
    "execution": {
     "iopub.execute_input": "2025-02-17T14:33:50.493004Z",
     "iopub.status.busy": "2025-02-17T14:33:50.492693Z",
     "iopub.status.idle": "2025-02-17T14:33:50.495252Z",
     "shell.execute_reply": "2025-02-17T14:33:50.494932Z",
     "shell.execute_reply.started": "2025-02-17T14:33:50.492992Z"
    }
   },
   "outputs": [],
   "source": [
    "organism = 'c_glutamicum'\n",
    "data_folder = Path('../../../data')\n",
    "supp_figure_folder = Path('../../../SupplementalFigures')\n",
    "\n",
    "exometabolites_folder = data_folder / 'paczia_2012' /f\"{organism}\"\n",
    "fn_OD = exometabolites_folder / \"{0}_OD.csv\".format(organism)"
   ]
  },
  {
   "cell_type": "code",
   "execution_count": 30,
   "id": "bbb50af5-c844-488e-b555-4afd823d8ade",
   "metadata": {
    "execution": {
     "iopub.execute_input": "2025-02-17T14:33:50.496689Z",
     "iopub.status.busy": "2025-02-17T14:33:50.496584Z",
     "iopub.status.idle": "2025-02-17T14:33:50.498761Z",
     "shell.execute_reply": "2025-02-17T14:33:50.498335Z",
     "shell.execute_reply.started": "2025-02-17T14:33:50.496679Z"
    }
   },
   "outputs": [],
   "source": [
    "gDW_per_OD = 0.27 # Use value from Zhang et al., 2017 (https://doi.org/10.1186/s13068-017-0856-3)"
   ]
  },
  {
   "cell_type": "code",
   "execution_count": 31,
   "id": "603f30cd-98fa-455b-94c7-31f12cbaf963",
   "metadata": {
    "execution": {
     "iopub.execute_input": "2025-02-17T14:33:50.499249Z",
     "iopub.status.busy": "2025-02-17T14:33:50.499149Z",
     "iopub.status.idle": "2025-02-17T14:33:50.504817Z",
     "shell.execute_reply": "2025-02-17T14:33:50.504450Z",
     "shell.execute_reply.started": "2025-02-17T14:33:50.499239Z"
    }
   },
   "outputs": [],
   "source": [
    "concentrations, concentrations_std = leakage.get_concentrations(exometabolites_folder, 'c_glutamicum')"
   ]
  },
  {
   "cell_type": "code",
   "execution_count": 32,
   "id": "e94922cf-623f-4ff1-9037-f8c768dc6173",
   "metadata": {
    "execution": {
     "iopub.execute_input": "2025-02-17T14:33:50.505299Z",
     "iopub.status.busy": "2025-02-17T14:33:50.505199Z",
     "iopub.status.idle": "2025-02-17T14:33:50.513820Z",
     "shell.execute_reply": "2025-02-17T14:33:50.513540Z",
     "shell.execute_reply.started": "2025-02-17T14:33:50.505289Z"
    }
   },
   "outputs": [
    {
     "data": {
      "text/html": [
       "<div>\n",
       "<style scoped>\n",
       "    .dataframe tbody tr th:only-of-type {\n",
       "        vertical-align: middle;\n",
       "    }\n",
       "\n",
       "    .dataframe tbody tr th {\n",
       "        vertical-align: top;\n",
       "    }\n",
       "\n",
       "    .dataframe thead th {\n",
       "        text-align: right;\n",
       "    }\n",
       "</style>\n",
       "<table border=\"1\" class=\"dataframe\">\n",
       "  <thead>\n",
       "    <tr style=\"text-align: right;\">\n",
       "      <th></th>\n",
       "      <th>OD mean</th>\n",
       "      <th>OD std</th>\n",
       "    </tr>\n",
       "    <tr>\n",
       "      <th>Time</th>\n",
       "      <th></th>\n",
       "      <th></th>\n",
       "    </tr>\n",
       "  </thead>\n",
       "  <tbody>\n",
       "    <tr>\n",
       "      <th>0</th>\n",
       "      <td>0.291000</td>\n",
       "      <td>3.657989</td>\n",
       "    </tr>\n",
       "    <tr>\n",
       "      <th>11</th>\n",
       "      <td>2.460000</td>\n",
       "      <td>0.040000</td>\n",
       "    </tr>\n",
       "    <tr>\n",
       "      <th>12</th>\n",
       "      <td>3.366667</td>\n",
       "      <td>0.070946</td>\n",
       "    </tr>\n",
       "    <tr>\n",
       "      <th>13</th>\n",
       "      <td>4.123333</td>\n",
       "      <td>0.075719</td>\n",
       "    </tr>\n",
       "    <tr>\n",
       "      <th>14</th>\n",
       "      <td>5.316667</td>\n",
       "      <td>0.049329</td>\n",
       "    </tr>\n",
       "    <tr>\n",
       "      <th>15</th>\n",
       "      <td>8.813333</td>\n",
       "      <td>0.147422</td>\n",
       "    </tr>\n",
       "    <tr>\n",
       "      <th>16</th>\n",
       "      <td>14.000000</td>\n",
       "      <td>0.200000</td>\n",
       "    </tr>\n",
       "    <tr>\n",
       "      <th>17</th>\n",
       "      <td>15.866667</td>\n",
       "      <td>0.208167</td>\n",
       "    </tr>\n",
       "    <tr>\n",
       "      <th>18</th>\n",
       "      <td>19.533333</td>\n",
       "      <td>0.503322</td>\n",
       "    </tr>\n",
       "    <tr>\n",
       "      <th>19</th>\n",
       "      <td>22.766667</td>\n",
       "      <td>0.208167</td>\n",
       "    </tr>\n",
       "    <tr>\n",
       "      <th>20</th>\n",
       "      <td>22.266667</td>\n",
       "      <td>0.152753</td>\n",
       "    </tr>\n",
       "    <tr>\n",
       "      <th>21</th>\n",
       "      <td>22.566667</td>\n",
       "      <td>0.057735</td>\n",
       "    </tr>\n",
       "    <tr>\n",
       "      <th>22</th>\n",
       "      <td>23.000000</td>\n",
       "      <td>0.793725</td>\n",
       "    </tr>\n",
       "    <tr>\n",
       "      <th>23</th>\n",
       "      <td>21.800000</td>\n",
       "      <td>0.400000</td>\n",
       "    </tr>\n",
       "    <tr>\n",
       "      <th>24</th>\n",
       "      <td>22.133333</td>\n",
       "      <td>0.152753</td>\n",
       "    </tr>\n",
       "    <tr>\n",
       "      <th>25</th>\n",
       "      <td>21.566667</td>\n",
       "      <td>0.230940</td>\n",
       "    </tr>\n",
       "    <tr>\n",
       "      <th>26</th>\n",
       "      <td>21.533333</td>\n",
       "      <td>0.305505</td>\n",
       "    </tr>\n",
       "    <tr>\n",
       "      <th>27</th>\n",
       "      <td>21.500000</td>\n",
       "      <td>0.100000</td>\n",
       "    </tr>\n",
       "    <tr>\n",
       "      <th>28</th>\n",
       "      <td>21.366667</td>\n",
       "      <td>0.152753</td>\n",
       "    </tr>\n",
       "    <tr>\n",
       "      <th>29</th>\n",
       "      <td>21.433333</td>\n",
       "      <td>0.057735</td>\n",
       "    </tr>\n",
       "    <tr>\n",
       "      <th>30</th>\n",
       "      <td>21.600000</td>\n",
       "      <td>0.100000</td>\n",
       "    </tr>\n",
       "    <tr>\n",
       "      <th>31</th>\n",
       "      <td>21.100000</td>\n",
       "      <td>0.264575</td>\n",
       "    </tr>\n",
       "    <tr>\n",
       "      <th>32</th>\n",
       "      <td>21.600000</td>\n",
       "      <td>0.200000</td>\n",
       "    </tr>\n",
       "    <tr>\n",
       "      <th>34</th>\n",
       "      <td>20.333333</td>\n",
       "      <td>0.416333</td>\n",
       "    </tr>\n",
       "    <tr>\n",
       "      <th>36</th>\n",
       "      <td>19.700000</td>\n",
       "      <td>0.100000</td>\n",
       "    </tr>\n",
       "    <tr>\n",
       "      <th>38</th>\n",
       "      <td>19.333333</td>\n",
       "      <td>0.305505</td>\n",
       "    </tr>\n",
       "    <tr>\n",
       "      <th>40</th>\n",
       "      <td>19.566667</td>\n",
       "      <td>0.251661</td>\n",
       "    </tr>\n",
       "    <tr>\n",
       "      <th>42</th>\n",
       "      <td>19.500000</td>\n",
       "      <td>0.264575</td>\n",
       "    </tr>\n",
       "    <tr>\n",
       "      <th>44</th>\n",
       "      <td>20.300000</td>\n",
       "      <td>0.264575</td>\n",
       "    </tr>\n",
       "    <tr>\n",
       "      <th>46</th>\n",
       "      <td>20.466667</td>\n",
       "      <td>0.351188</td>\n",
       "    </tr>\n",
       "    <tr>\n",
       "      <th>48</th>\n",
       "      <td>20.433333</td>\n",
       "      <td>0.305505</td>\n",
       "    </tr>\n",
       "    <tr>\n",
       "      <th>50</th>\n",
       "      <td>20.033333</td>\n",
       "      <td>0.723418</td>\n",
       "    </tr>\n",
       "    <tr>\n",
       "      <th>52</th>\n",
       "      <td>20.300000</td>\n",
       "      <td>0.100000</td>\n",
       "    </tr>\n",
       "    <tr>\n",
       "      <th>56</th>\n",
       "      <td>20.133333</td>\n",
       "      <td>0.152753</td>\n",
       "    </tr>\n",
       "    <tr>\n",
       "      <th>60</th>\n",
       "      <td>19.900000</td>\n",
       "      <td>0.100000</td>\n",
       "    </tr>\n",
       "    <tr>\n",
       "      <th>64</th>\n",
       "      <td>19.700000</td>\n",
       "      <td>0.200000</td>\n",
       "    </tr>\n",
       "    <tr>\n",
       "      <th>68</th>\n",
       "      <td>19.033333</td>\n",
       "      <td>0.404145</td>\n",
       "    </tr>\n",
       "    <tr>\n",
       "      <th>72</th>\n",
       "      <td>18.500000</td>\n",
       "      <td>0.173205</td>\n",
       "    </tr>\n",
       "    <tr>\n",
       "      <th>76</th>\n",
       "      <td>18.533333</td>\n",
       "      <td>0.251661</td>\n",
       "    </tr>\n",
       "    <tr>\n",
       "      <th>80</th>\n",
       "      <td>18.133333</td>\n",
       "      <td>0.404145</td>\n",
       "    </tr>\n",
       "    <tr>\n",
       "      <th>86</th>\n",
       "      <td>18.033333</td>\n",
       "      <td>0.115470</td>\n",
       "    </tr>\n",
       "    <tr>\n",
       "      <th>92</th>\n",
       "      <td>17.633333</td>\n",
       "      <td>0.513160</td>\n",
       "    </tr>\n",
       "    <tr>\n",
       "      <th>98</th>\n",
       "      <td>17.700000</td>\n",
       "      <td>0.360555</td>\n",
       "    </tr>\n",
       "    <tr>\n",
       "      <th>104</th>\n",
       "      <td>17.766667</td>\n",
       "      <td>0.115470</td>\n",
       "    </tr>\n",
       "    <tr>\n",
       "      <th>110</th>\n",
       "      <td>17.600000</td>\n",
       "      <td>0.264575</td>\n",
       "    </tr>\n",
       "    <tr>\n",
       "      <th>116</th>\n",
       "      <td>17.300000</td>\n",
       "      <td>0.100000</td>\n",
       "    </tr>\n",
       "    <tr>\n",
       "      <th>128</th>\n",
       "      <td>17.033333</td>\n",
       "      <td>0.321455</td>\n",
       "    </tr>\n",
       "    <tr>\n",
       "      <th>140</th>\n",
       "      <td>16.500000</td>\n",
       "      <td>0.519615</td>\n",
       "    </tr>\n",
       "    <tr>\n",
       "      <th>152</th>\n",
       "      <td>16.333333</td>\n",
       "      <td>0.208167</td>\n",
       "    </tr>\n",
       "    <tr>\n",
       "      <th>164</th>\n",
       "      <td>16.033333</td>\n",
       "      <td>0.723418</td>\n",
       "    </tr>\n",
       "    <tr>\n",
       "      <th>182</th>\n",
       "      <td>15.700000</td>\n",
       "      <td>62.800000</td>\n",
       "    </tr>\n",
       "    <tr>\n",
       "      <th>227</th>\n",
       "      <td>14.533333</td>\n",
       "      <td>58.133333</td>\n",
       "    </tr>\n",
       "    <tr>\n",
       "      <th>229</th>\n",
       "      <td>14.200000</td>\n",
       "      <td>56.800000</td>\n",
       "    </tr>\n",
       "  </tbody>\n",
       "</table>\n",
       "</div>"
      ],
      "text/plain": [
       "        OD mean     OD std\n",
       "Time                      \n",
       "0      0.291000   3.657989\n",
       "11     2.460000   0.040000\n",
       "12     3.366667   0.070946\n",
       "13     4.123333   0.075719\n",
       "14     5.316667   0.049329\n",
       "15     8.813333   0.147422\n",
       "16    14.000000   0.200000\n",
       "17    15.866667   0.208167\n",
       "18    19.533333   0.503322\n",
       "19    22.766667   0.208167\n",
       "20    22.266667   0.152753\n",
       "21    22.566667   0.057735\n",
       "22    23.000000   0.793725\n",
       "23    21.800000   0.400000\n",
       "24    22.133333   0.152753\n",
       "25    21.566667   0.230940\n",
       "26    21.533333   0.305505\n",
       "27    21.500000   0.100000\n",
       "28    21.366667   0.152753\n",
       "29    21.433333   0.057735\n",
       "30    21.600000   0.100000\n",
       "31    21.100000   0.264575\n",
       "32    21.600000   0.200000\n",
       "34    20.333333   0.416333\n",
       "36    19.700000   0.100000\n",
       "38    19.333333   0.305505\n",
       "40    19.566667   0.251661\n",
       "42    19.500000   0.264575\n",
       "44    20.300000   0.264575\n",
       "46    20.466667   0.351188\n",
       "48    20.433333   0.305505\n",
       "50    20.033333   0.723418\n",
       "52    20.300000   0.100000\n",
       "56    20.133333   0.152753\n",
       "60    19.900000   0.100000\n",
       "64    19.700000   0.200000\n",
       "68    19.033333   0.404145\n",
       "72    18.500000   0.173205\n",
       "76    18.533333   0.251661\n",
       "80    18.133333   0.404145\n",
       "86    18.033333   0.115470\n",
       "92    17.633333   0.513160\n",
       "98    17.700000   0.360555\n",
       "104   17.766667   0.115470\n",
       "110   17.600000   0.264575\n",
       "116   17.300000   0.100000\n",
       "128   17.033333   0.321455\n",
       "140   16.500000   0.519615\n",
       "152   16.333333   0.208167\n",
       "164   16.033333   0.723418\n",
       "182   15.700000  62.800000\n",
       "227   14.533333  58.133333\n",
       "229   14.200000  56.800000"
      ]
     },
     "execution_count": 32,
     "metadata": {},
     "output_type": "execute_result"
    }
   ],
   "source": [
    "df_OD = pd.read_csv(fn_OD, index_col=0)\n",
    "df_OD.fillna(df_OD['OD std'].mean())"
   ]
  },
  {
   "cell_type": "code",
   "execution_count": 33,
   "id": "ee2b13f4-d4b8-44ed-bdac-29cb0416793a",
   "metadata": {
    "execution": {
     "iopub.execute_input": "2025-02-17T14:33:50.514395Z",
     "iopub.status.busy": "2025-02-17T14:33:50.514284Z",
     "iopub.status.idle": "2025-02-17T14:33:50.577882Z",
     "shell.execute_reply": "2025-02-17T14:33:50.577542Z",
     "shell.execute_reply.started": "2025-02-17T14:33:50.514384Z"
    }
   },
   "outputs": [
    {
     "data": {
      "text/plain": [
       "(0.0, 30.0)"
      ]
     },
     "execution_count": 33,
     "metadata": {},
     "output_type": "execute_result"
    },
    {
     "data": {
      "image/png": "[encoded data removed]",
      "text/plain": [
       "<Figure size 640x480 with 1 Axes>"
      ]
     },
     "metadata": {},
     "output_type": "display_data"
    }
   ],
   "source": [
    "plt.scatter(df_OD.index, df_OD['OD mean'])\n",
    "plt.grid()\n",
    "plt.xlim(0,30)"
   ]
  },
  {
   "cell_type": "code",
   "execution_count": 34,
   "id": "37e3ee2d-632c-42b6-8133-cfa0a795570d",
   "metadata": {
    "execution": {
     "iopub.execute_input": "2025-02-17T14:33:50.578362Z",
     "iopub.status.busy": "2025-02-17T14:33:50.578265Z",
     "iopub.status.idle": "2025-02-17T14:33:50.581115Z",
     "shell.execute_reply": "2025-02-17T14:33:50.580834Z",
     "shell.execute_reply.started": "2025-02-17T14:33:50.578352Z"
    }
   },
   "outputs": [],
   "source": [
    "fit = np.polyfit(df_OD.index[0:3], np.log(df_OD['OD mean'][0:3]), 1)"
   ]
  },
  {
   "cell_type": "code",
   "execution_count": 35,
   "id": "d8cb861a-8bae-4169-9770-aec0c932d0b4",
   "metadata": {
    "execution": {
     "iopub.execute_input": "2025-02-17T14:33:50.581667Z",
     "iopub.status.busy": "2025-02-17T14:33:50.581576Z",
     "iopub.status.idle": "2025-02-17T14:33:50.584285Z",
     "shell.execute_reply": "2025-02-17T14:33:50.583962Z",
     "shell.execute_reply.started": "2025-02-17T14:33:50.581657Z"
    }
   },
   "outputs": [],
   "source": [
    "xarr = np.arange(0, 20, 0.1)\n",
    "y0 = df_OD['OD mean'][0]\n",
    "y = y0*np.exp(xarr*fit[0])"
   ]
  },
  {
   "cell_type": "code",
   "execution_count": 36,
   "id": "b8111249-f904-4bc7-9759-6916ff12f127",
   "metadata": {
    "execution": {
     "iopub.execute_input": "2025-02-17T14:33:50.584732Z",
     "iopub.status.busy": "2025-02-17T14:33:50.584626Z",
     "iopub.status.idle": "2025-02-17T14:33:50.639143Z",
     "shell.execute_reply": "2025-02-17T14:33:50.638691Z",
     "shell.execute_reply.started": "2025-02-17T14:33:50.584721Z"
    }
   },
   "outputs": [
    {
     "data": {
      "text/plain": [
       "[<matplotlib.lines.Line2D at 0x150024100>]"
      ]
     },
     "execution_count": 36,
     "metadata": {},
     "output_type": "execute_result"
    },
    {
     "data": {
      "image/png": "[encoded data removed]",
      "text/plain": [
       "<Figure size 640x480 with 1 Axes>"
      ]
     },
     "metadata": {},
     "output_type": "display_data"
    }
   ],
   "source": [
    "plt.scatter(df_OD.index, np.log(df_OD['OD mean']))\n",
    "plt.grid()\n",
    "plt.xlim(0,30)\n",
    "plt.plot(xarr, np.log(y))"
   ]
  },
  {
   "cell_type": "code",
   "execution_count": 37,
   "id": "1127a916-aabe-45e9-989a-4ab6755ecbe5",
   "metadata": {
    "execution": {
     "iopub.execute_input": "2025-02-17T14:33:50.639849Z",
     "iopub.status.busy": "2025-02-17T14:33:50.639679Z",
     "iopub.status.idle": "2025-02-17T14:33:50.643923Z",
     "shell.execute_reply": "2025-02-17T14:33:50.643401Z",
     "shell.execute_reply.started": "2025-02-17T14:33:50.639833Z"
    }
   },
   "outputs": [
    {
     "data": {
      "text/plain": [
       "array([ 0.29730784, -2.3620002 ])"
      ]
     },
     "execution_count": 37,
     "metadata": {},
     "output_type": "execute_result"
    }
   ],
   "source": [
    "fit_exp = np.polyfit(df_OD.index[1:10], np.log(df_OD['OD mean'][1:10]), 1)\n",
    "fit_exp"
   ]
  },
  {
   "cell_type": "markdown",
   "id": "b6e62874-cf13-4f11-a58b-d1b237ca0309",
   "metadata": {
    "execution": {
     "iopub.execute_input": "2024-08-18T19:14:46.019056Z",
     "iopub.status.busy": "2024-08-18T19:14:46.016653Z",
     "iopub.status.idle": "2024-08-18T19:14:46.026959Z",
     "shell.execute_reply": "2024-08-18T19:14:46.025749Z",
     "shell.execute_reply.started": "2024-08-18T19:14:46.018879Z"
    }
   },
   "source": [
    "## Calculate integrated OD from 0 to 11 analytically from growth rate"
   ]
  },
  {
   "cell_type": "code",
   "execution_count": 38,
   "id": "930a2a09-0685-40f6-8992-14f7d1af6880",
   "metadata": {
    "execution": {
     "iopub.execute_input": "2025-02-17T14:33:50.644740Z",
     "iopub.status.busy": "2025-02-17T14:33:50.644540Z",
     "iopub.status.idle": "2025-02-17T14:33:50.646629Z",
     "shell.execute_reply": "2025-02-17T14:33:50.646355Z",
     "shell.execute_reply.started": "2025-02-17T14:33:50.644729Z"
    }
   },
   "outputs": [],
   "source": [
    "int_0_to_11 = (y0/fit[0])*(np.exp(11*fit[0])-1)"
   ]
  },
  {
   "cell_type": "code",
   "execution_count": 39,
   "id": "38860284-ea52-4106-ae1f-f9b53f5a511d",
   "metadata": {
    "execution": {
     "iopub.execute_input": "2025-02-17T14:33:50.649465Z",
     "iopub.status.busy": "2025-02-17T14:33:50.649196Z",
     "iopub.status.idle": "2025-02-17T14:33:50.651714Z",
     "shell.execute_reply": "2025-02-17T14:33:50.651413Z",
     "shell.execute_reply.started": "2025-02-17T14:33:50.649448Z"
    }
   },
   "outputs": [
    {
     "data": {
      "text/plain": [
       "np.float64(11.668163886929982)"
      ]
     },
     "execution_count": 39,
     "metadata": {},
     "output_type": "execute_result"
    }
   ],
   "source": [
    "int_0_to_11"
   ]
  },
  {
   "cell_type": "code",
   "execution_count": 40,
   "id": "de1204e5-4be0-4ed9-aabb-9692fa3c72c9",
   "metadata": {
    "execution": {
     "iopub.execute_input": "2025-02-17T14:33:50.652340Z",
     "iopub.status.busy": "2025-02-17T14:33:50.652203Z",
     "iopub.status.idle": "2025-02-17T14:33:50.655070Z",
     "shell.execute_reply": "2025-02-17T14:33:50.654779Z",
     "shell.execute_reply.started": "2025-02-17T14:33:50.652325Z"
    }
   },
   "outputs": [
    {
     "data": {
      "text/plain": [
       "array([2.46      , 3.36666667])"
      ]
     },
     "execution_count": 40,
     "metadata": {},
     "output_type": "execute_result"
    }
   ],
   "source": [
    "df_OD['OD mean'].values[1:3]"
   ]
  },
  {
   "cell_type": "code",
   "execution_count": 41,
   "id": "9e2f19b1-661f-4f21-928c-2984cf4eca23",
   "metadata": {
    "execution": {
     "iopub.execute_input": "2025-02-17T14:33:50.655647Z",
     "iopub.status.busy": "2025-02-17T14:33:50.655501Z",
     "iopub.status.idle": "2025-02-17T14:33:50.661564Z",
     "shell.execute_reply": "2025-02-17T14:33:50.661290Z",
     "shell.execute_reply.started": "2025-02-17T14:33:50.655634Z"
    }
   },
   "outputs": [
    {
     "name": "stdout",
     "output_type": "stream",
     "text": [
      "1 11 2.46 0.0\n",
      "2 12 3.366666667 0.786600000045\n",
      "3 13 4.123333333 1.8045000000900002\n",
      "4 14 5.316666667 3.0690750000600002\n",
      "5 15 8.813333333 4.882800000149999\n",
      "6 16 14.0 7.9245750000825\n",
      "7 17 15.86666667 12.14400000042\n",
      "8 18 19.53333333 16.882500000645\n",
      "9 19 22.76666667 22.652999999819997\n",
      "10 20 22.26666667 28.816500000869997\n",
      "11 21 22.56666667 34.74900000162\n",
      "12 22 23.0 40.897500002145\n",
      "13 23 21.8 47.02200000192\n",
      "14 24 22.13333333 52.918500001545\n",
      "15 25 21.56666667 58.89300000101999\n",
      "16 26 21.53333333 64.69950000132\n",
      "17 27 21.5 70.52100000012\n",
      "18 28 21.36666667 76.31025000057\n",
      "19 29 21.43333333 82.07700000102\n",
      "20 30 21.6 87.884250000345\n",
      "21 31 21.1 93.68100000072\n",
      "22 32 21.6 99.42300000072001\n",
      "23 34 20.33333333 110.92050000004501\n",
      "24 36 19.7 121.700999998845\n",
      "25 38 19.33333333 132.24449999884501\n",
      "26 40 19.56666667 142.720499998395\n",
      "27 42 19.5 153.322500000645\n",
      "28 44 20.3 164.029500000495\n",
      "29 46 20.46666667 175.132500001245\n",
      "30 48 20.43333333 186.184500001695\n",
      "31 50 20.03333333 197.134499998845\n",
      "32 52 20.3 207.99449999779497\n",
      "33 56 20.13333333 229.952999997495\n",
      "34 60 19.9 251.576999995095\n",
      "35 64 19.7 272.948999996295\n",
      "36 68 19.03333333 293.906999994795\n",
      "37 72 18.5 314.108999991495\n",
      "38 76 18.53333333 334.055999990295\n",
      "39 80 18.13333333 353.98499998549505\n",
      "40 86 18.03333333 383.19899998009504\n",
      "41 92 17.63333333 412.25099997469505\n",
      "42 98 17.7 440.807999971545\n",
      "43 104 17.76666667 469.59899997469506\n",
      "44 110 17.6 498.277499978295\n",
      "45 116 17.3 526.5509999764951\n",
      "46 128 17.03333333 582.0509999722951\n",
      "47 140 16.5 636.638999962095\n",
      "48 152 16.33333333 689.729999958495\n",
      "49 164 16.03333333 742.3349999440951\n",
      "50 182 15.7 819.3902999343752\n",
      "51 227 14.53333333 1003.6274999337\n"
     ]
    }
   ],
   "source": [
    "xt = np.zeros(len(df_OD)-1)\n",
    "for i in range(1, len(df_OD)-1):\n",
    "    xt[i] = scipy.integrate.simpson(df_OD['OD mean'].values[1:i+1], x = df_OD.index[1:i+1])\n",
    "    # xt[i] = np.trapz(df_OD.loc[:i, 'OD mean'], dx=1)\n",
    "    print(i,df_OD.index[i], df_OD['OD mean'].iloc[i], xt[i]*gDW_per_OD)#\n",
    "xt[1:] += int_0_to_11 # I do this because the simpson integration from 0 to 11 is overestimating the biomass\n",
    "x = xt*gDW_per_OD"
   ]
  },
  {
   "cell_type": "markdown",
   "id": "f7aa13db-9f64-4149-85a7-81fb715a6956",
   "metadata": {},
   "source": [
    "# Estimate max glucose uptake rate\n"
   ]
  },
  {
   "cell_type": "code",
   "execution_count": 42,
   "id": "2c76ab95-b283-47dc-94b3-245257b9d156",
   "metadata": {
    "execution": {
     "iopub.execute_input": "2025-02-17T14:33:50.662176Z",
     "iopub.status.busy": "2025-02-17T14:33:50.662003Z",
     "iopub.status.idle": "2025-02-17T14:33:50.665126Z",
     "shell.execute_reply": "2025-02-17T14:33:50.664806Z",
     "shell.execute_reply.started": "2025-02-17T14:33:50.662166Z"
    }
   },
   "outputs": [],
   "source": [
    "fn_glucose = exometabolites_folder / \"{0}_glucose.csv\".format(organism)\n",
    "\n",
    "df_glucose = pd.read_csv(fn_glucose, index_col=0)\n",
    "# df_glucose.loc[0,:]=[20,0] # From paper (in g/L)"
   ]
  },
  {
   "cell_type": "code",
   "execution_count": 43,
   "id": "d54f07a7-b7cc-4b78-9ce1-43757a7579e7",
   "metadata": {
    "execution": {
     "iopub.execute_input": "2025-02-17T14:33:50.665796Z",
     "iopub.status.busy": "2025-02-17T14:33:50.665686Z",
     "iopub.status.idle": "2025-02-17T14:33:50.667763Z",
     "shell.execute_reply": "2025-02-17T14:33:50.667450Z",
     "shell.execute_reply.started": "2025-02-17T14:33:50.665786Z"
    }
   },
   "outputs": [],
   "source": [
    "# cum_OD = np.zeros(53)*np.nan\n",
    "OD_values = df_OD['OD mean'].values\n",
    "timepoints = df_OD.index\n"
   ]
  },
  {
   "cell_type": "code",
   "execution_count": 44,
   "id": "5b5cedc3-c177-41af-8209-0f97e08da564",
   "metadata": {
    "execution": {
     "iopub.execute_input": "2025-02-17T14:33:50.668196Z",
     "iopub.status.busy": "2025-02-17T14:33:50.668106Z",
     "iopub.status.idle": "2025-02-17T14:33:50.670469Z",
     "shell.execute_reply": "2025-02-17T14:33:50.670184Z",
     "shell.execute_reply.started": "2025-02-17T14:33:50.668186Z"
    }
   },
   "outputs": [],
   "source": [
    "mu = (np.log(OD_values)[9]-np.log(OD_values)[1])/(timepoints[9]-timepoints[1])"
   ]
  },
  {
   "cell_type": "code",
   "execution_count": 45,
   "id": "36414ac5-f4e7-4ebe-a0ce-8d4fa5f86ddf",
   "metadata": {
    "execution": {
     "iopub.execute_input": "2025-02-17T14:33:50.671030Z",
     "iopub.status.busy": "2025-02-17T14:33:50.670842Z",
     "iopub.status.idle": "2025-02-17T14:33:50.672953Z",
     "shell.execute_reply": "2025-02-17T14:33:50.672666Z",
     "shell.execute_reply.started": "2025-02-17T14:33:50.671019Z"
    }
   },
   "outputs": [],
   "source": [
    "growth_fun = lambda t: OD_values[1]*np.exp(mu*(t-11))"
   ]
  },
  {
   "cell_type": "code",
   "execution_count": 46,
   "id": "93b7c20b-3bf6-4f9e-bafa-966b5270d18a",
   "metadata": {
    "execution": {
     "iopub.execute_input": "2025-02-17T14:33:50.673337Z",
     "iopub.status.busy": "2025-02-17T14:33:50.673250Z",
     "iopub.status.idle": "2025-02-17T14:33:50.675747Z",
     "shell.execute_reply": "2025-02-17T14:33:50.675452Z",
     "shell.execute_reply.started": "2025-02-17T14:33:50.673328Z"
    }
   },
   "outputs": [],
   "source": [
    "\n",
    "df_glucose['Glucose mM'] = df_glucose['Glucose mean']/180.18*1000"
   ]
  },
  {
   "cell_type": "code",
   "execution_count": 47,
   "id": "f769360b-9ab9-4e7c-ae64-111893fdaf9c",
   "metadata": {
    "execution": {
     "iopub.execute_input": "2025-02-17T14:33:50.676364Z",
     "iopub.status.busy": "2025-02-17T14:33:50.676247Z",
     "iopub.status.idle": "2025-02-17T14:33:50.731624Z",
     "shell.execute_reply": "2025-02-17T14:33:50.731343Z",
     "shell.execute_reply.started": "2025-02-17T14:33:50.676354Z"
    }
   },
   "outputs": [
    {
     "data": {
      "text/plain": [
       "(0.0, 150.0)"
      ]
     },
     "execution_count": 47,
     "metadata": {},
     "output_type": "execute_result"
    },
    {
     "data": {
      "image/png": "[encoded data removed]",
      "text/plain": [
       "<Figure size 640x480 with 1 Axes>"
      ]
     },
     "metadata": {},
     "output_type": "display_data"
    }
   ],
   "source": [
    "plt.scatter(df_OD.index[:-1], x)\n",
    "plt.xlabel('Time')\n",
    "plt.ylabel('Cumulative gDW')\n",
    "plt.xlim(0, 30)\n",
    "plt.ylim(0,150)"
   ]
  },
  {
   "cell_type": "code",
   "execution_count": 48,
   "id": "0cf274d8-4aee-4e17-b042-d11af4f067be",
   "metadata": {
    "execution": {
     "iopub.execute_input": "2025-02-17T14:33:50.732223Z",
     "iopub.status.busy": "2025-02-17T14:33:50.732121Z",
     "iopub.status.idle": "2025-02-17T14:33:50.781734Z",
     "shell.execute_reply": "2025-02-17T14:33:50.781433Z",
     "shell.execute_reply.started": "2025-02-17T14:33:50.732213Z"
    }
   },
   "outputs": [
    {
     "data": {
      "text/plain": [
       "(0.0, 150.0)"
      ]
     },
     "execution_count": 48,
     "metadata": {},
     "output_type": "execute_result"
    },
    {
     "data": {
      "image/png": "[encoded data removed]",
      "text/plain": [
       "<Figure size 640x480 with 1 Axes>"
      ]
     },
     "metadata": {},
     "output_type": "display_data"
    }
   ],
   "source": [
    "plt.scatter(x, df_glucose['Glucose mM'].values[:-1])\n",
    "plt.xlim(0, 150)"
   ]
  },
  {
   "cell_type": "code",
   "execution_count": 49,
   "id": "eb8085ab-ec84-45f8-8a8f-36ffd9a96bf1",
   "metadata": {
    "execution": {
     "iopub.execute_input": "2025-02-17T14:33:50.782314Z",
     "iopub.status.busy": "2025-02-17T14:33:50.782216Z",
     "iopub.status.idle": "2025-02-17T14:33:50.784664Z",
     "shell.execute_reply": "2025-02-17T14:33:50.784371Z",
     "shell.execute_reply.started": "2025-02-17T14:33:50.782305Z"
    }
   },
   "outputs": [],
   "source": [
    "glucose_fit = np.polyfit(x[:9], df_glucose['Glucose mM'][:9], 1)\n",
    "glucose_uptake = glucose_fit[0]"
   ]
  },
  {
   "cell_type": "markdown",
   "id": "65339b25-d529-430e-a3c5-255743d11770",
   "metadata": {},
   "source": [
    "## Mapping"
   ]
  },
  {
   "cell_type": "code",
   "execution_count": 50,
   "id": "ade9d566-4d26-4f36-9d24-0c8bc82a65b3",
   "metadata": {
    "execution": {
     "iopub.execute_input": "2025-02-17T14:33:50.785083Z",
     "iopub.status.busy": "2025-02-17T14:33:50.784925Z",
     "iopub.status.idle": "2025-02-17T14:33:50.789020Z",
     "shell.execute_reply": "2025-02-17T14:33:50.788740Z",
     "shell.execute_reply.started": "2025-02-17T14:33:50.785064Z"
    }
   },
   "outputs": [],
   "source": [
    "mapping_df = pd.read_csv(data_folder / 'this_project/5_div/5B_id_mapping.csv', index_col=0)\n",
    "# mapping_df.index = [x.strip('\\t').replace(\" MS\", \"\") for x in mapping_df.index]\n",
    "met_abrv_to_id = mapping_df['Cglutamicum metabolite'].to_dict()\n",
    "met_abrv_to_name = mapping_df['Metabolite name'].to_dict()\n",
    "met_name_to_abrv = {value:key for key, value in met_abrv_to_name.items()}\n"
   ]
  },
  {
   "cell_type": "markdown",
   "id": "b59633b8-9934-45db-9d63-676b45f7484f",
   "metadata": {},
   "source": [
    "# Estimate rates"
   ]
  },
  {
   "cell_type": "code",
   "execution_count": 51,
   "id": "d256fbea-6a76-4253-8caf-e0401081442d",
   "metadata": {
    "execution": {
     "iopub.execute_input": "2025-02-17T14:33:50.789534Z",
     "iopub.status.busy": "2025-02-17T14:33:50.789434Z",
     "iopub.status.idle": "2025-02-17T14:33:50.792795Z",
     "shell.execute_reply": "2025-02-17T14:33:50.792535Z",
     "shell.execute_reply.started": "2025-02-17T14:33:50.789524Z"
    }
   },
   "outputs": [],
   "source": [
    "specific_limits = {\n",
    "'G6P': (1,18),\n",
    "'F6P': (1,18),\n",
    "'FBP': (1,18),\n",
    "'DHAP': (1,18),\n",
    "'GA3P': (1,18),\n",
    "'23PG': (1,18),\n",
    "'R5P': (1,18),\n",
    "'RU5P+X5P': (1,18),\n",
    "'S7P': (1,18),\n",
    "'E4P': (1,18),\n",
    "'ASN': (1,18),\n",
    "'GLU': (1,17),\n",
    "'SER': (1,17),\n",
    "'THR': (1,17),\n",
    "'GLN': (1,17),\n",
    "'HOM': (1,17),\n",
    "'TYR': (1,17),\n",
    "'GLY': (1,18),\n",
    "'PRO': (1,17),\n",
    "'ALA': (1,17),\n",
    "'MET': (1,17),\n",
    "'VAL': (1,17),\n",
    "'ARG': (1,17),\n",
    "'LYS': (1,18)}"
   ]
  },
  {
   "cell_type": "code",
   "execution_count": 52,
   "id": "80ba0256",
   "metadata": {},
   "outputs": [],
   "source": [
    "auc_end_exp_phase = x[8]"
   ]
  },
  {
   "cell_type": "code",
   "execution_count": null,
   "id": "9490de1b-789d-4fb6-9eb9-22cca9d51e46",
   "metadata": {
    "execution": {
     "iopub.execute_input": "2025-02-19T14:18:13.492089Z",
     "iopub.status.busy": "2025-02-19T14:18:13.488164Z",
     "iopub.status.idle": "2025-02-19T14:18:16.861582Z",
     "shell.execute_reply": "2025-02-19T14:18:16.861272Z",
     "shell.execute_reply.started": "2025-02-19T14:18:13.492022Z"
    }
   },
   "outputs": [],
   "source": [
    "rate_dict_m = {}\n",
    "fig, axes = plt.subplots(5,5, figsize = (16, 10), sharex = False, layout = 'constrained')\n",
    "axes = axes.flatten()\n",
    "fun = lambda x, a ,b: x*a+b\n",
    "data_list = []\n",
    "metabolite_names = sorted([met_abrv_to_name[c] for c in concentrations.columns])\n",
    "for i,metabolite in enumerate(metabolite_names):\n",
    "    c = met_name_to_abrv[metabolite]\n",
    "    conc = concentrations[c][:-1]*1e-3 # Convert from uM to mM #\n",
    "    conc_std = concentrations_std[c][:-1]*1e-3\n",
    "    lim = specific_limits[c]\n",
    "    conc[conc==0] = np.nan\n",
    "    idx = ((concentrations.index >= lim[0]) & (concentrations.index <= lim[1]))[:-1]\n",
    "    nan_idx = ~np.isnan(conc)\n",
    "\n",
    "    idx = idx & nan_idx\n",
    "    rate_conc = conc[idx]\n",
    "\n",
    "    ax = axes[i]\n",
    "    ax.errorbar(x, conc, yerr = conc_std, fmt='o',color='C0',capthick=1,elinewidth=2,capsize=1, zorder = 0, alpha= 0.5)\n",
    "\n",
    "    if len(rate_conc) >= 3:\n",
    "        # conc[conc==0] = np.nan\n",
    "        res = scipy.stats.linregress(x[idx], conc[idx])\n",
    "        # print(f\"R-squared: {res.rvalue**2:.6f}\")\n",
    "        r2 = res.rvalue**2\n",
    "        data = [res.slope, res.stderr,res.pvalue, c, res.pvalue < 0.05, r2]\n",
    "        x_fit = np.linspace(x[idx].min(), x[idx].max(), 3)\n",
    "        y_fit = fun(x_fit, res.slope, res.intercept)\n",
    "    \n",
    "        # if res.pvalue < 0.05:\n",
    "        if res.rvalue**2 >= 0.7:\n",
    "            ax.plot(x_fit, y_fit, 'k')\n",
    "        else:\n",
    "            ax.plot(x_fit, y_fit, 'r')\n",
    "    else:\n",
    "        data = [np.nan, np.nan, np.nan, c, np.nan, np.nan]\n",
    "    \n",
    "    data_list.append(data)\n",
    "            \n",
    "\n",
    "    ax.axvline(auc_end_exp_phase, color='k', linestyle='--', lw = 1, label='End of exponential phase')\n",
    "\n",
    "    ax.set_title(metabolite)\n",
    "    ax.set_xlim(0, x[14])\n",
    "    \n",
    "    y_max = np.max(conc)*1.2\n",
    "    if np.isfinite(y_max):\n",
    "        ax.set_ylim(0, y_max)\n",
    "    if len(rate_conc) >= 3:\n",
    "        ax.annotate(f'Slope = {res.slope:.1e}', (54, y_max*0.25), ha = 'right')\n",
    "        ax.annotate(f'$P$ = {res.pvalue:.1e}', (54, y_max*0.15), ha = 'right')\n",
    "        ax.annotate(f'$R^2$ = {r2:.2f}', (54, y_max*0.02), ha = 'right')\n",
    "\n",
    "    i +=1\n",
    "    # print(i)\n",
    "\n",
    "while i<(5*5):\n",
    "    axes[i].set_visible(False)\n",
    "    i+=1\n",
    "# plt.tight_layout()\n",
    "fig.supxlabel(r'Biomass AUC [$\\rm{gDW/L \\cdot h}$]', fontsize=16)\n",
    "fig.supylabel('Concentration [mM]', x = 0, fontsize = 16)\n",
    "\n",
    "\n",
    "plt.savefig(supp_figure_folder / 'cglutamicum_paczia_12_fitted_rates_manual_limits.png', dpi = 400)\n",
    "plt.savefig(supp_figure_folder / 'cglutamicum_paczia_12_fitted_rates_manual_limits.pdf')\n",
    "\n",
    "plt.show()"
   ]
  },
  {
   "cell_type": "code",
   "execution_count": 54,
   "id": "a12c3271-4f31-4a8d-b7b4-6308999209f2",
   "metadata": {
    "execution": {
     "iopub.execute_input": "2025-02-19T14:18:16.862339Z",
     "iopub.status.busy": "2025-02-19T14:18:16.862240Z",
     "iopub.status.idle": "2025-02-19T14:18:16.868038Z",
     "shell.execute_reply": "2025-02-19T14:18:16.867742Z",
     "shell.execute_reply.started": "2025-02-19T14:18:16.862328Z"
    }
   },
   "outputs": [],
   "source": [
    "rate_data = pd.DataFrame(data_list, columns = ['Rate [mmol/gDW/h]', 'Std. Err [mmol/gDW/h]', 'p-val', 'Metabolite abbrv.', 'Significance', 'R2'])"
   ]
  },
  {
   "cell_type": "code",
   "execution_count": null,
   "id": "6b565b02-c79f-48c9-a092-56cb757250a4",
   "metadata": {},
   "outputs": [],
   "source": []
  },
  {
   "cell_type": "markdown",
   "id": "9ad0fd97-771c-42ed-b364-6419339c87a6",
   "metadata": {},
   "source": [
    "# Get model"
   ]
  },
  {
   "cell_type": "code",
   "execution_count": 55,
   "id": "d58ff906-1e80-4606-8d36-0b95c659954d",
   "metadata": {
    "execution": {
     "iopub.execute_input": "2025-02-17T14:33:54.389424Z",
     "iopub.status.busy": "2025-02-17T14:33:54.389304Z",
     "iopub.status.idle": "2025-02-17T14:33:54.737255Z",
     "shell.execute_reply": "2025-02-17T14:33:54.736899Z",
     "shell.execute_reply.started": "2025-02-17T14:33:54.389413Z"
    }
   },
   "outputs": [],
   "source": [
    "model_ez = reframed.load_cbmodel('../../../models/c_glutamicum/smoment_iCW773.xml')\n",
    "model_ez.solver = 'gurobi'\n"
   ]
  },
  {
   "cell_type": "code",
   "execution_count": 56,
   "id": "862ced1e-f449-4ed1-80d0-d4d92d3dabf2",
   "metadata": {
    "execution": {
     "iopub.execute_input": "2025-02-17T14:33:54.737817Z",
     "iopub.status.busy": "2025-02-17T14:33:54.737703Z",
     "iopub.status.idle": "2025-02-17T14:33:54.777785Z",
     "shell.execute_reply": "2025-02-17T14:33:54.777481Z",
     "shell.execute_reply.started": "2025-02-17T14:33:54.737805Z"
    }
   },
   "outputs": [
    {
     "name": "stdout",
     "output_type": "stream",
     "text": [
      "Set parameter Username\n",
      "Set parameter LicenseID to value 2586336\n",
      "Academic license - for non-commercial use only - expires 2025-11-18\n",
      "R_EX_ca2_e   -0.00952816\n",
      "R_EX_co2_e    6.51975\n",
      "R_EX_cobalt2_e -4.60592e-05\n",
      "R_EX_cu2_e   -0.0012974\n",
      "R_EX_fe2_e   -0.0265832\n",
      "R_EX_glc_e   -3.03412\n",
      "R_EX_h_e      2.17665\n",
      "R_EX_h2o_e    12.6956\n",
      "R_EX_k_e     -0.357303\n",
      "R_EX_mg2_e   -0.0158801\n",
      "R_EX_mn2_e   -0.00126565\n",
      "R_EX_nh4_e   -2.44155\n",
      "R_EX_ni2_e   -0.000590748\n",
      "R_EX_o2_e    -5.70462\n",
      "R_EX_pi_e    -0.140169\n",
      "R_EX_so4_e   -0.0452297\n",
      "R_EX_xan_e    0.0452694\n",
      "R_EX_zn2_e   -0.000624082\n",
      "R_EX_biomass  0.282095\n",
      "R_EX_BIOTIN  -6.70334e-07\n",
      "R_EX_cl      -0.00952816\n"
     ]
    }
   ],
   "source": [
    "solution = reframed.FBA(model_ez, constraints={'R_EX_glc_e': (glucose_uptake,0)})\n",
    "solution.show_values('EX')"
   ]
  },
  {
   "cell_type": "code",
   "execution_count": 57,
   "id": "44ec42b2-ddee-4a67-a0ea-85a6d4ee05cf",
   "metadata": {
    "execution": {
     "iopub.execute_input": "2025-02-17T14:33:54.778400Z",
     "iopub.status.busy": "2025-02-17T14:33:54.778281Z",
     "iopub.status.idle": "2025-02-17T14:33:54.781090Z",
     "shell.execute_reply": "2025-02-17T14:33:54.780658Z",
     "shell.execute_reply.started": "2025-02-17T14:33:54.778389Z"
    }
   },
   "outputs": [],
   "source": [
    "measured_metabolites = []\n",
    "for bigg_id in met_abrv_to_id.values():\n",
    "    if not isinstance(bigg_id, str):\n",
    "        continue\n",
    "    m_ids = bigg_id.split(', ')\n",
    "    for m_id in m_ids:\n",
    "        if f'M_{m_id}_c' in model_ez.metabolites:\n",
    "            measured_metabolites.append(f'M_{m_id}_c')"
   ]
  },
  {
   "cell_type": "markdown",
   "id": "7b5c706b-2670-4c97-a417-0f6939cf2672",
   "metadata": {},
   "source": [
    "# Shadow prices"
   ]
  },
  {
   "cell_type": "code",
   "execution_count": 58,
   "id": "e96bac77-9539-4702-b6b5-b0a55a2a6096",
   "metadata": {
    "execution": {
     "iopub.execute_input": "2025-02-17T14:33:54.782073Z",
     "iopub.status.busy": "2025-02-17T14:33:54.781951Z",
     "iopub.status.idle": "2025-02-17T14:33:57.282742Z",
     "shell.execute_reply": "2025-02-17T14:33:57.282326Z",
     "shell.execute_reply.started": "2025-02-17T14:33:54.782062Z"
    }
   },
   "outputs": [
    {
     "name": "stdout",
     "output_type": "stream",
     "text": [
      "1/48: M_g6p_c, predicted flux: -3.0341194584555833, secretion reaction: R_EX_glc_e\n"
     ]
    }
   ],
   "source": [
    "shadow_prices = leakage.estimate_shadow_prices_reframed(model_ez, constraints={'R_EX_glc_e': (glucose_uptake,0)}, metabolites = measured_metabolites)"
   ]
  },
  {
   "cell_type": "code",
   "execution_count": 59,
   "id": "126efca0-9be2-427c-9226-a6f8c26e9278",
   "metadata": {
    "execution": {
     "iopub.execute_input": "2025-02-17T14:33:57.283410Z",
     "iopub.status.busy": "2025-02-17T14:33:57.283198Z",
     "iopub.status.idle": "2025-02-17T14:34:06.153064Z",
     "shell.execute_reply": "2025-02-17T14:34:06.152744Z",
     "shell.execute_reply.started": "2025-02-17T14:33:57.283389Z"
    }
   },
   "outputs": [
    {
     "name": "stdout",
     "output_type": "stream",
     "text": [
      "1/48: M_g6p_c, predicted flux: -3.6409433501466997, secretion reaction: R_EX_glc_e\n",
      "1/48: M_g6p_c, predicted flux: -3.3375314043011413, secretion reaction: R_EX_glc_e\n",
      "1/48: M_g6p_c, predicted flux: -3.0341194584555833, secretion reaction: R_EX_glc_e\n",
      "1/48: M_g6p_c, predicted flux: -2.7307075126100253, secretion reaction: R_EX_glc_e\n",
      "1/48: M_g6p_c, predicted flux: -2.427295566764467, secretion reaction: R_EX_glc_e\n"
     ]
    }
   ],
   "source": [
    "glc_uptake_range = np.linspace(glucose_uptake*1.2, glucose_uptake*0.8, 5, endpoint=True)\n",
    "shadow_price_list = []\n",
    "for g in glc_uptake_range:\n",
    "    shadow_prices_i = leakage.estimate_shadow_prices_reframed(model_ez, constraints={'R_EX_glc_e': (g,0)}, metabolites = measured_metabolites)\n",
    "    shadow_price_list.append(shadow_prices_i)\n",
    "shadow_price_list.append(shadow_prices)"
   ]
  },
  {
   "cell_type": "code",
   "execution_count": 60,
   "id": "92851005-1c55-4bf1-a577-1a7db8f986de",
   "metadata": {
    "execution": {
     "iopub.execute_input": "2025-02-17T14:34:06.153623Z",
     "iopub.status.busy": "2025-02-17T14:34:06.153519Z",
     "iopub.status.idle": "2025-02-17T14:34:06.156180Z",
     "shell.execute_reply": "2025-02-17T14:34:06.155869Z",
     "shell.execute_reply.started": "2025-02-17T14:34:06.153613Z"
    }
   },
   "outputs": [],
   "source": [
    "df_sp_var = pd.DataFrame(shadow_price_list)"
   ]
  },
  {
   "cell_type": "markdown",
   "id": "292b5f06-b327-46bf-9ddc-90981111e178",
   "metadata": {},
   "source": [
    "# Turnover"
   ]
  },
  {
   "cell_type": "code",
   "execution_count": 61,
   "id": "3ff4e06d-a65b-4d9d-8d36-30dd4f6e5a35",
   "metadata": {
    "execution": {
     "iopub.execute_input": "2025-02-17T14:34:06.156803Z",
     "iopub.status.busy": "2025-02-17T14:34:06.156702Z",
     "iopub.status.idle": "2025-02-17T14:34:06.214018Z",
     "shell.execute_reply": "2025-02-17T14:34:06.213734Z",
     "shell.execute_reply.started": "2025-02-17T14:34:06.156792Z"
    }
   },
   "outputs": [],
   "source": [
    "solution = reframed.pFBA(model_ez, constraints={'R_EX_glc_e': (glucose_uptake,0)})\n",
    "turnover = solution.get_metabolites_turnover(model_ez)\n",
    "\n",
    "    "
   ]
  },
  {
   "cell_type": "markdown",
   "id": "7bb831a0-24e4-4b3a-be66-2e1a6e8d6a9f",
   "metadata": {},
   "source": [
    "# Make spreadsheet"
   ]
  },
  {
   "cell_type": "code",
   "execution_count": 62,
   "id": "59373791-8f31-4080-bc02-bba7c0ee166b",
   "metadata": {
    "execution": {
     "iopub.execute_input": "2025-02-17T14:34:06.214474Z",
     "iopub.status.busy": "2025-02-17T14:34:06.214371Z",
     "iopub.status.idle": "2025-02-17T14:34:06.224168Z",
     "shell.execute_reply": "2025-02-17T14:34:06.223848Z",
     "shell.execute_reply.started": "2025-02-17T14:34:06.214464Z"
    }
   },
   "outputs": [
    {
     "name": "stdout",
     "output_type": "stream",
     "text": [
      "['2pg', '3pg']\n",
      "['ru5p__D', 'xu5p__D']\n"
     ]
    }
   ],
   "source": [
    "data = []\n",
    "drop_mets = ['ru5p__L','xu5p__L'] # The D-forms is used in the pentose phosphate pathway, so we assume that it is primarily the D-forms\n",
    "# 'Std. Err [mmol/gDW/h]', 'T-score', 'degrees of freedom', 'p-val', 'Metabolite abbrv.', 'Significance']\n",
    "for _, row in rate_data.iterrows():\n",
    "    if np.isnan(row['Rate [mmol/gDW/h]']):\n",
    "        continue\n",
    "    abbr = row['Metabolite abbrv.']\n",
    "    rate = row['Rate [mmol/gDW/h]']\n",
    "    bigg_ids = [x.strip() for x in met_abrv_to_id[abbr].split(',') if not x.strip() in drop_mets]\n",
    "    if len(bigg_ids)>1:\n",
    "        print(bigg_ids)\n",
    "    rate_i = rate/len(bigg_ids)\n",
    "    std_err_i = row['Std. Err [mmol/gDW/h]']/np.sqrt(len(bigg_ids))\n",
    "    for bigg_id in bigg_ids:\n",
    "        name =met_abrv_to_name[abbr]\n",
    "        m_id = f'M_{bigg_id}_c'\n",
    "        mv = -shadow_prices[m_id]\n",
    "        m = model_ez.metabolites[m_id]\n",
    "        element_dict = utils.get_element_dict(m)\n",
    "        Nc = element_dict['C']\n",
    "        mass = utils.get_mol_weight(m)\n",
    "        mv_min = -df_sp_var.max()[m_id]\n",
    "        mv_max = -df_sp_var.min()[m_id]\n",
    "        \n",
    "        data.append([abbr, bigg_id, name, mv, mv_min, mv_max, turnover[m_id], Nc, mass, rate_i, std_err_i, row['R2'], row['p-val']])\n",
    "df_rate = pd.DataFrame(data, columns = ['Metabolite abbrv.', 'Model ID', 'Metabolite', \n",
    "                                        'Metabolite value [gDW/mmol]','MV min', 'MV max', \n",
    "                                        'Turnover [mmol/gDW/h]', 'N carbons', \n",
    "                                        'Mol weight [g/mol]', 'Rate [mmol/gDW/h]', 'Std. Err [mmol/gDW/h]', 'R2', 'p-value'])"
   ]
  },
  {
   "cell_type": "code",
   "execution_count": 63,
   "id": "b2845e47-3c06-41ac-9c30-e6cac0b54768",
   "metadata": {
    "execution": {
     "iopub.execute_input": "2025-02-17T14:34:06.224661Z",
     "iopub.status.busy": "2025-02-17T14:34:06.224548Z",
     "iopub.status.idle": "2025-02-17T14:34:06.229151Z",
     "shell.execute_reply": "2025-02-17T14:34:06.228856Z",
     "shell.execute_reply.started": "2025-02-17T14:34:06.224651Z"
    }
   },
   "outputs": [
    {
     "name": "stdout",
     "output_type": "stream",
     "text": [
      "2/3-phosphoglycerate Changed 0 to 2-phosphoglycerate\n",
      "2/3-phosphoglycerate Changed 1 to 3-phosphoglycerate\n",
      "Ribu-/Xylulose-5-phosphate Changed 17 to Ribulose-5-phosphate\n",
      "Ribu-/Xylulose-5-phosphate Changed 18 to Xylulose-5-phosphate\n"
     ]
    }
   ],
   "source": [
    "for idx, row in df_rate.iterrows():\n",
    "    if row['Model ID'] == '2pg':\n",
    "        print(df_rate.loc[idx, 'Metabolite'], f'Changed {idx} to 2-phosphoglycerate')\n",
    "        df_rate.loc[idx, 'Metabolite'] = '2-phosphoglycerate'\n",
    "        \n",
    "    if row['Model ID'] == '3pg':\n",
    "        print(df_rate.loc[idx, 'Metabolite'], f'Changed {idx} to 3-phosphoglycerate')\n",
    "        df_rate.loc[idx, 'Metabolite'] = '3-phosphoglycerate'\n",
    "\n",
    "    if row['Model ID'] == 'ru5p__D':\n",
    "        print(df_rate.loc[idx, 'Metabolite'], f'Changed {idx} to Ribulose-5-phosphate')\n",
    "        df_rate.loc[idx, 'Metabolite'] = 'Ribulose-5-phosphate'\n",
    "        \n",
    "    if row['Model ID'] == 'xu5p__D':\n",
    "        print(df_rate.loc[idx, 'Metabolite'], f'Changed {idx} to Xylulose-5-phosphate')\n",
    "        df_rate.loc[idx, 'Metabolite'] = 'Xylulose-5-phosphate'\n",
    "\n"
   ]
  },
  {
   "cell_type": "code",
   "execution_count": 64,
   "id": "c0521e1c-0ef7-45cb-a3a9-d840952409ca",
   "metadata": {
    "execution": {
     "iopub.execute_input": "2025-02-17T14:34:06.229962Z",
     "iopub.status.busy": "2025-02-17T14:34:06.229785Z",
     "iopub.status.idle": "2025-02-17T14:34:06.232321Z",
     "shell.execute_reply": "2025-02-17T14:34:06.231927Z",
     "shell.execute_reply.started": "2025-02-17T14:34:06.229948Z"
    }
   },
   "outputs": [],
   "source": [
    "df_rate['Species'] = 'C. glutamicum'\n",
    "df_rate['Carbon source'] = 'Glucose'\n",
    "df_rate['Dataset'] = 'Paczia-12'"
   ]
  },
  {
   "cell_type": "code",
   "execution_count": 65,
   "id": "a8f92a5a-861f-452f-814d-4758db366d1e",
   "metadata": {
    "execution": {
     "iopub.execute_input": "2025-02-17T14:34:06.232827Z",
     "iopub.status.busy": "2025-02-17T14:34:06.232729Z",
     "iopub.status.idle": "2025-02-17T14:34:06.236766Z",
     "shell.execute_reply": "2025-02-17T14:34:06.236476Z",
     "shell.execute_reply.started": "2025-02-17T14:34:06.232817Z"
    }
   },
   "outputs": [],
   "source": [
    "df_rate.to_csv('paczia_13_rates_cglutamicum_0824.csv')\n",
    "df_rate.to_csv(data_folder / 'paczia_2012' / 'paczia_12_rates_cglutamicum.csv')"
   ]
  },
  {
   "cell_type": "code",
   "execution_count": null,
   "id": "83e44656-ac27-4013-a611-45a006364d39",
   "metadata": {},
   "outputs": [],
   "source": []
  }
 ],
 "metadata": {
  "kernelspec": {
   "display_name": "reframed",
   "language": "python",
   "name": "python3"
  },
  "language_info": {
   "codemirror_mode": {
    "name": "ipython",
    "version": 3
   },
   "file_extension": ".py",
   "mimetype": "text/x-python",
   "name": "python",
   "nbconvert_exporter": "python",
   "pygments_lexer": "ipython3",
   "version": "3.9.21"
  }
 },
 "nbformat": 4,
 "nbformat_minor": 5
}
