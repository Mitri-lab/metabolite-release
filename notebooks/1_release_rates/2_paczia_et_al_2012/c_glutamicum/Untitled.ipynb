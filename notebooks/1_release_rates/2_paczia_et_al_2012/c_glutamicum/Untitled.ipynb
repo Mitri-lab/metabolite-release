{
 "cells": [
  {
   "cell_type": "code",
   "execution_count": 1,
   "id": "f4d28506-615d-4b0f-8399-1d70b6d49265",
   "metadata": {},
   "outputs": [],
   "source": [
    "import cobra\n",
    "import json"
   ]
  },
  {
   "cell_type": "code",
   "execution_count": 5,
   "id": "6b90b84e-d528-4c37-bd7b-0f8a686e29f5",
   "metadata": {},
   "outputs": [],
   "source": [
    "def get_enzyme_constraint_model(json_model_file):\n",
    "    \"\"\"using enzyme concentration constraint\n",
    "    json model to create a COBRApy model.\n",
    "\n",
    "    Arguments\n",
    "    ----------\n",
    "    * json_model_file: json Model file.\n",
    "\n",
    "    :return: Construct an enzyme-constrained model.\n",
    "    \"\"\"\n",
    "\n",
    "    dictionary_model = json_load(json_model_file)\n",
    "    model = cobra.io.json.load_json_model(json_model_file)\n",
    "    prot_pool = cobra.Metabolite('prot_pool')\n",
    "    prot_pool.compartment = 'c'\n",
    "    coefficients = dict()\n",
    "    for rxn in model.reactions:\n",
    "        for eachr in dictionary_model['reactions']:\n",
    "            if rxn.id == eachr['id']:\n",
    "                if eachr['kcat_MW']:\n",
    "                    rxn.add_metabolites({prot_pool:-1/float(eachr['kcat_MW'])})\n",
    "                    # coefficients[rxn.forward_variable] = 1 / float(eachr['kcat_MW'])\n",
    "                break\n",
    "\n",
    "    lowerbound = dictionary_model['enzyme_constraint']['lowerbound']\n",
    "    upperbound = dictionary_model['enzyme_constraint']['upperbound']\n",
    "    \n",
    "    R_pool = cobra.Reaction('enzyme_pool')\n",
    "    R_pool.add_metabolites({prot_pool:1})\n",
    "    R_pool.lower_bound = lowerbound\n",
    "    R_pool.upper_bound = upperbound\n",
    "    model.add_reactions([R_pool])\n",
    "    #print(upperbound)\n",
    "    # constraint = model.problem.Constraint(0, lb=lowerbound, ub=upperbound)\n",
    "    # model.add_cons_vars(constraint)\n",
    "    # model.solver.update()\n",
    "    # constraint.set_linear_coefficients(coefficients=coefficients)\n",
    "    return model\n",
    "def get_enzyme_constraint_model_original(json_model_file):\n",
    "    \"\"\"using enzyme concentration constraint\n",
    "    json model to create a COBRApy model.\n",
    "\n",
    "    Arguments\n",
    "    ----------\n",
    "    * json_model_file: json Model file.\n",
    "\n",
    "    :return: Construct an enzyme-constrained model.\n",
    "    \"\"\"\n",
    "\n",
    "    dictionary_model = json_load(json_model_file)\n",
    "    model = cobra.io.json.load_json_model(json_model_file)\n",
    "    # prot_pool = cobra.Metabolite('prot_pool')\n",
    "    # prot_pool.compartment = 'c'\n",
    "    coefficients = dict()\n",
    "    for rxn in model.reactions:\n",
    "        for eachr in dictionary_model['reactions']:\n",
    "            if rxn.id == eachr['id']:\n",
    "                if eachr['kcat_MW']:\n",
    "                    # rxn.add_metabolites({prot_pool:-1/float(eachr['kcat_MW'])})\n",
    "                    coefficients[rxn.forward_variable] = 1 / float(eachr['kcat_MW'])\n",
    "                break\n",
    "\n",
    "    lowerbound = dictionary_model['enzyme_constraint']['lowerbound']\n",
    "    upperbound = dictionary_model['enzyme_constraint']['upperbound']\n",
    "    \n",
    "    # R_pool = cobra.Reaction('enzyme_pool')\n",
    "    # R_pool.add_metabolites({prot_pool:1})\n",
    "    # R_pool.lower_bound = lowerbound\n",
    "    # R_pool.upper_bound = upperbound\n",
    "    # model.add_reactions([R_pool])\n",
    "    #print(upperbound)\n",
    "    constraint = model.problem.Constraint(0, lb=lowerbound, ub=upperbound)\n",
    "    model.add_cons_vars(constraint)\n",
    "    model.solver.update()\n",
    "    constraint.set_linear_coefficients(coefficients=coefficients)\n",
    "    return model\n",
    "\n",
    "def json_load(path):\n",
    "    \"\"\"Loads the given JSON file and returns it as dictionary.\n",
    "\n",
    "    Arguments\n",
    "    ----------\n",
    "    * path: The path of the JSON file\n",
    "    \"\"\"\n",
    "    with open(path) as f:\n",
    "        dictionary = json.load(f)\n",
    "    return dictionary"
   ]
  },
  {
   "cell_type": "code",
   "execution_count": 7,
   "id": "4c9bc024-64b5-4e49-b7e2-25a7b764cbbc",
   "metadata": {},
   "outputs": [
    {
     "name": "stdout",
     "output_type": "stream",
     "text": [
      "Set parameter Username\n",
      "Academic license - for non-commercial use only - expires 2024-02-26\n"
     ]
    }
   ],
   "source": [
    "fn = '../../models/c_glutamicum/smoment_iCW773.xml'\n",
    "model = cobra.io.read_sbml_model(fn)"
   ]
  },
  {
   "cell_type": "code",
   "execution_count": 8,
   "id": "bf343dd7-fd9b-423d-92eb-4053cdf806c5",
   "metadata": {},
   "outputs": [],
   "source": [
    "for r in model.boundary:\n",
    "    if r.id[-7:] == 'reverse':\n",
    "        # print(r, r.upper_bound)\n",
    "        r_forward = model.reactions.get_by_id(r.id[:-8])\n",
    "        if r.upper_bound != 0:\n",
    "            r_forward.lower_bound = -r.upper_bound\n",
    "            # print(r_forward,r_forward.name, r_forward.bounds)\n",
    "        r.remove_from_model()"
   ]
  },
  {
   "cell_type": "code",
   "execution_count": 9,
   "id": "84f37bdb-46c1-4a08-ad36-bd78610c97a6",
   "metadata": {},
   "outputs": [],
   "source": [
    "cobra.io.write_sbml_model(model, fn)"
   ]
  },
  {
   "cell_type": "code",
   "execution_count": 10,
   "id": "4de47ac5-b1b6-448c-8eca-6fd52c9b9ae9",
   "metadata": {},
   "outputs": [
    {
     "data": {
      "text/plain": [
       "frozenset()"
      ]
     },
     "execution_count": 10,
     "metadata": {},
     "output_type": "execute_result"
    }
   ],
   "source": [
    "model.metabolites.r5p_e.reactions"
   ]
  }
 ],
 "metadata": {
  "kernelspec": {
   "display_name": "Python 3 (ipykernel)",
   "language": "python",
   "name": "python3"
  },
  "language_info": {
   "codemirror_mode": {
    "name": "ipython",
    "version": 3
   },
   "file_extension": ".py",
   "mimetype": "text/x-python",
   "name": "python",
   "nbconvert_exporter": "python",
   "pygments_lexer": "ipython3",
   "version": "3.9.21"
  }
 },
 "nbformat": 4,
 "nbformat_minor": 5
}
