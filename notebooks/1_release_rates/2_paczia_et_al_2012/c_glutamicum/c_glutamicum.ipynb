{
 "cells": [
  {
   "cell_type": "code",
   "execution_count": 74,
   "id": "ca311fb3-8dbe-41e9-8497-151053d63496",
   "metadata": {},
   "outputs": [],
   "source": [
    "import cobra\n",
    "import numpy as np\n",
    "from matplotlib import pyplot as plt\n",
    "import pandas as pd \n",
    "import json\n",
    "import re\n",
    "import scipy.stats as st"
   ]
  },
  {
   "cell_type": "code",
   "execution_count": 5,
   "id": "bfda5e5e-9b10-4c5b-a3ee-cade4e2ba624",
   "metadata": {},
   "outputs": [],
   "source": [
    "from ECMpy_function import *"
   ]
  },
  {
   "cell_type": "code",
   "execution_count": 6,
   "id": "a87647c6-f0da-4778-ae52-967c5ad281fe",
   "metadata": {},
   "outputs": [
    {
     "data": {
      "text/plain": [
       "'0.26.2'"
      ]
     },
     "execution_count": 6,
     "metadata": {},
     "output_type": "execute_result"
    }
   ],
   "source": [
    "cobra.__version__"
   ]
  },
  {
   "cell_type": "markdown",
   "id": "e4101e35-30be-4526-8837-d44cf1f926e0",
   "metadata": {},
   "source": [
    "# Create sMOMENT model from ECMpy style ec-model"
   ]
  },
  {
   "cell_type": "code",
   "execution_count": 43,
   "id": "2bc22c3c-af1b-4aa5-86cf-ce1c77ea3cbb",
   "metadata": {},
   "outputs": [],
   "source": [
    "def convert_ECMpy_to_sMOMENT(json_model_file, output_filename):\n",
    "    \"\"\"using enzyme concentration constraint\n",
    "    json model to create a COBRApy model in sMOMENT style.\n",
    "    Modified from get_enzyme_constraint_model in ECMpy\n",
    "\n",
    "    Arguments\n",
    "    ----------\n",
    "    * json_model_file: json Model file.\n",
    "    * output_filename: Path to sMOMENT sbml file\n",
    "\n",
    "    :return: Enzyme-constrained model in sMOMENT style.\n",
    "    \"\"\"\n",
    "\n",
    "    dictionary_model = json_load(json_model_file)\n",
    "    model = cobra.io.json.load_json_model(json_model_file)\n",
    "\n",
    "    prot_pool = cobra.Metabolite(id = \"prot_pool\", name = \"Pseudo-metabolite representing the preotein pool\", \n",
    "                                 compartment = \"c\", charge = 0)\n",
    "    for rxn in model.reactions:\n",
    "        for eachr in dictionary_model['reactions']:\n",
    "            if rxn.id == eachr['id']:\n",
    "                if eachr['kcat_MW']:\n",
    "                    coefficient = -1/float(eachr['kcat_MW'])\n",
    "                    rxn.add_metabolites({prot_pool: coefficient})\n",
    "                break\n",
    "    # Add pool reaction\n",
    "    lowerbound = dictionary_model['enzyme_constraint']['lowerbound']\n",
    "    upperbound = dictionary_model['enzyme_constraint']['upperbound']\n",
    "    prot_exchange = cobra.Reaction(id = \"prot_pool_reaction\", name = \"prot_pool reaction for unmeasured proteins\",\n",
    "                                   lower_bound  = lowerbound, upper_bound=upperbound)\n",
    "    prot_exchange.add_metabolites({prot_pool:1})\n",
    "    model.add_reactions([prot_exchange])\n",
    "    \n",
    "    model.solver.update()\n",
    "    model.id = \"ecCGL1_sMOMENT_style\"\n",
    "    cobra.io.write_sbml_model(model, output_filename)\n",
    "    return model"
   ]
  },
  {
   "cell_type": "code",
   "execution_count": 44,
   "id": "38d98bd7-c362-4ee0-93a0-9486e45dedd7",
   "metadata": {},
   "outputs": [],
   "source": [
    "ecmodel_fn = 'models/c_glutamicum/smoment_iCW773.xml'\n",
    "ecmodel = convert_ECMpy_to_sMOMENT('models/c_glutamicum/ecCGL1/iCW773_irr_enz_constraint_adj_PDH.json', ecmodel_fn)"
   ]
  },
  {
   "cell_type": "code",
   "execution_count": null,
   "id": "b0b21ddb-a2a7-4251-9070-a850681bbfc3",
   "metadata": {},
   "outputs": [],
   "source": [
    "solution = ecmodel.optimize()\n",
    "ecmodel.summary()"
   ]
  },
  {
   "cell_type": "code",
   "execution_count": 39,
   "id": "a76e25f9-4758-4bad-aadb-a7edc2d7d10d",
   "metadata": {},
   "outputs": [],
   "source": [
    "ecmodel.reactions.EX_glc_e_reverse.bounds = (0, 5.05)"
   ]
  },
  {
   "cell_type": "code",
   "execution_count": null,
   "id": "fb892379-6949-4471-b754-51218641a468",
   "metadata": {},
   "outputs": [],
   "source": [
    "ecmodel.optimize()\n",
    "print(ecmodel.summary())"
   ]
  },
  {
   "cell_type": "markdown",
   "id": "cdf520b9-9c32-4813-b8e5-366a24d0dc14",
   "metadata": {},
   "source": [
    "## Load and run model in ECMpy to verify that results are identical"
   ]
  },
  {
   "cell_type": "code",
   "execution_count": null,
   "id": "95d795b1-fde1-45df-96db-33d5c95489e9",
   "metadata": {},
   "outputs": [],
   "source": [
    "ecModel_final_output_file = 'models/c_glutamicum/ecCGL1/iCW773_irr_enz_constraint_adj_PDH.json'\n",
    "obj='CG_biomass_cgl_ATCC13032'\n",
    "use_substrate='EX_glc_e'\n",
    "enz_model=get_enzyme_constraint_model(ecModel_final_output_file)\n",
    "\n",
    "enz_model.objective=obj\n",
    "#Using only the provided substrate\n",
    "[ori_obj_id,ori_substrate_id_list,ori_sub_concentration,ori_ATPM]=get_model_substrate_obj(enz_model)\n",
    "for eachsubid in ori_substrate_id_list:\n",
    "    if re.search('_reverse',eachsubid):\n",
    "        r_id_new=eachsubid.split('_reverse')[0]\n",
    "        enz_model.reactions.get_by_id(eachsubid).bounds = (0, 0) \n",
    "        enz_model.reactions.get_by_id(r_id_new).bounds = (0, 0)  \n",
    "    else:\n",
    "        r_id_new=eachsubid+'_reverse'\n",
    "        enz_model.reactions.get_by_id(eachsubid).bounds = (0, 0) \n",
    "        enz_model.reactions.get_by_id(r_id_new).bounds = (0, 0) \n",
    "        \n",
    "enz_model.reactions.get_by_id(use_substrate).bounds = (-5.05, 0)\n",
    "enz_model.reactions.get_by_id(use_substrate+'_reverse').bounds = (0, 0)\n",
    "\n",
    "enz_model_pfba_solution = cobra.flux_analysis.pfba(enz_model)\n",
    "enz_model_pfba_solution = get_fluxes_detail_in_model(enz_model,enz_model_pfba_solution,fluxes_final_outfile,ecModel_final_output_file)\n",
    "print(enz_model_pfba_solution.fluxes[obj])"
   ]
  },
  {
   "cell_type": "code",
   "execution_count": null,
   "id": "fed3f89e-cfda-4b88-8255-bcca6e034f97",
   "metadata": {},
   "outputs": [],
   "source": [
    "enz_model.optimize()\n",
    "enz_model.summary()"
   ]
  },
  {
   "cell_type": "markdown",
   "id": "dd6c4bf8-9cf8-4391-b9aa-53ab9deefcf6",
   "metadata": {},
   "source": [
    "# Analyses"
   ]
  },
  {
   "cell_type": "code",
   "execution_count": 45,
   "id": "51043f76-feee-4700-8057-9717411d1a17",
   "metadata": {},
   "outputs": [],
   "source": [
    "# Load sMOMENT model\n",
    "model = cobra.io.read_sbml_model('models/c_glutamicum/smoment_iCW773.xml')"
   ]
  },
  {
   "cell_type": "code",
   "execution_count": null,
   "id": "ddd7b72a-434b-4317-833e-f27cdd1f724e",
   "metadata": {},
   "outputs": [],
   "source": [
    "for r in model.exchanges:\n",
    "    print(r, r.bounds)"
   ]
  },
  {
   "cell_type": "code",
   "execution_count": null,
   "id": "0e051088-ebe0-4f31-95ca-db0342191b1c",
   "metadata": {},
   "outputs": [],
   "source": []
  }
 ],
 "metadata": {
  "kernelspec": {
   "display_name": "Python 3 (ipykernel)",
   "language": "python",
   "name": "python3"
  },
  "language_info": {
   "codemirror_mode": {
    "name": "ipython",
    "version": 3
   },
   "file_extension": ".py",
   "mimetype": "text/x-python",
   "name": "python",
   "nbconvert_exporter": "python",
   "pygments_lexer": "ipython3",
   "version": "3.9.21"
  }
 },
 "nbformat": 4,
 "nbformat_minor": 5
}
