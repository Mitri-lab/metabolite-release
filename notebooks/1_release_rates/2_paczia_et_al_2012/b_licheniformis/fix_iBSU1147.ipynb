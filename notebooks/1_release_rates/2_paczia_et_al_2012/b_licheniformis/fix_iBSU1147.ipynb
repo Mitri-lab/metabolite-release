{
 "cells": [
  {
   "cell_type": "code",
   "execution_count": 1,
   "id": "bc49399e-2bf8-4b72-ace1-fc0abc4fbbbd",
   "metadata": {
    "execution": {
     "iopub.execute_input": "2025-02-21T15:45:12.608494Z",
     "iopub.status.busy": "2025-02-21T15:45:12.606991Z",
     "iopub.status.idle": "2025-02-21T15:45:13.948210Z",
     "shell.execute_reply": "2025-02-21T15:45:13.947896Z",
     "shell.execute_reply.started": "2025-02-21T15:45:12.608426Z"
    }
   },
   "outputs": [],
   "source": [
    "import cobra\n",
    "import json"
   ]
  },
  {
   "cell_type": "code",
   "execution_count": 2,
   "id": "2e21d71e-cdb2-4fdc-93af-436d76fd1228",
   "metadata": {
    "execution": {
     "iopub.execute_input": "2025-02-21T15:45:15.579324Z",
     "iopub.status.busy": "2025-02-21T15:45:15.577990Z",
     "iopub.status.idle": "2025-02-21T15:45:15.602455Z",
     "shell.execute_reply": "2025-02-21T15:45:15.601495Z",
     "shell.execute_reply.started": "2025-02-21T15:45:15.579270Z"
    }
   },
   "outputs": [],
   "source": [
    "def get_enzyme_constraint_model(json_model_file):\n",
    "    \"\"\"using enzyme concentration constraint\n",
    "    json model to create a COBRApy model.\n",
    "\n",
    "    Arguments\n",
    "    ----------\n",
    "    * json_model_file: json Model file.\n",
    "\n",
    "    :return: Construct an enzyme-constrained model.\n",
    "    \"\"\"\n",
    "\n",
    "    dictionary_model = json_load(json_model_file)\n",
    "    model = cobra.io.json.load_json_model(json_model_file)\n",
    "    prot_pool = cobra.Metabolite('prot_pool')\n",
    "    prot_pool.compartment = 'c'\n",
    "    coefficients = dict()\n",
    "    for rxn in model.reactions:\n",
    "        for eachr in dictionary_model['reactions']:\n",
    "            if rxn.id == eachr['id']:\n",
    "                if eachr['kcat_MW']:\n",
    "                    rxn.add_metabolites({prot_pool:-1/float(eachr['kcat_MW'])})\n",
    "                    # coefficients[rxn.forward_variable] = 1 / float(eachr['kcat_MW'])\n",
    "                break\n",
    "\n",
    "    lowerbound = dictionary_model['enzyme_constraint']['lowerbound']\n",
    "    upperbound = dictionary_model['enzyme_constraint']['upperbound']\n",
    "    \n",
    "    R_pool = cobra.Reaction('enzyme_pool')\n",
    "    R_pool.add_metabolites({prot_pool:1})\n",
    "    R_pool.lower_bound = lowerbound\n",
    "    R_pool.upper_bound = upperbound\n",
    "    model.add_reactions([R_pool])\n",
    "    #print(upperbound)\n",
    "    # constraint = model.problem.Constraint(0, lb=lowerbound, ub=upperbound)\n",
    "    # model.add_cons_vars(constraint)\n",
    "    # model.solver.update()\n",
    "    # constraint.set_linear_coefficients(coefficients=coefficients)\n",
    "    return model\n",
    "def get_enzyme_constraint_model_original(json_model_file):\n",
    "    \"\"\"using enzyme concentration constraint\n",
    "    json model to create a COBRApy model.\n",
    "\n",
    "    Arguments\n",
    "    ----------\n",
    "    * json_model_file: json Model file.\n",
    "\n",
    "    :return: Construct an enzyme-constrained model.\n",
    "    \"\"\"\n",
    "\n",
    "    dictionary_model = json_load(json_model_file)\n",
    "    model = cobra.io.json.load_json_model(json_model_file)\n",
    "    # prot_pool = cobra.Metabolite('prot_pool')\n",
    "    # prot_pool.compartment = 'c'\n",
    "    coefficients = dict()\n",
    "    for rxn in model.reactions:\n",
    "        for eachr in dictionary_model['reactions']:\n",
    "            if rxn.id == eachr['id']:\n",
    "                if eachr['kcat_MW']:\n",
    "                    # rxn.add_metabolites({prot_pool:-1/float(eachr['kcat_MW'])})\n",
    "                    coefficients[rxn.forward_variable] = 1 / float(eachr['kcat_MW'])\n",
    "                break\n",
    "\n",
    "    lowerbound = dictionary_model['enzyme_constraint']['lowerbound']\n",
    "    upperbound = dictionary_model['enzyme_constraint']['upperbound']\n",
    "    \n",
    "    # R_pool = cobra.Reaction('enzyme_pool')\n",
    "    # R_pool.add_metabolites({prot_pool:1})\n",
    "    # R_pool.lower_bound = lowerbound\n",
    "    # R_pool.upper_bound = upperbound\n",
    "    # model.add_reactions([R_pool])\n",
    "    #print(upperbound)\n",
    "    constraint = model.problem.Constraint(0, lb=lowerbound, ub=upperbound)\n",
    "    model.add_cons_vars(constraint)\n",
    "    model.solver.update()\n",
    "    constraint.set_linear_coefficients(coefficients=coefficients)\n",
    "    return model\n",
    "\n",
    "def json_load(path):\n",
    "    \"\"\"Loads the given JSON file and returns it as dictionary.\n",
    "\n",
    "    Arguments\n",
    "    ----------\n",
    "    * path: The path of the JSON file\n",
    "    \"\"\"\n",
    "    with open(path) as f:\n",
    "        dictionary = json.load(f)\n",
    "    return dictionary"
   ]
  },
  {
   "cell_type": "code",
   "execution_count": 5,
   "id": "a058acd1-8c55-4a13-a655-a7259b4b6156",
   "metadata": {
    "execution": {
     "iopub.execute_input": "2025-02-21T15:45:55.235055Z",
     "iopub.status.busy": "2025-02-21T15:45:55.233712Z",
     "iopub.status.idle": "2025-02-21T15:45:55.268293Z",
     "shell.execute_reply": "2025-02-21T15:45:55.267810Z",
     "shell.execute_reply.started": "2025-02-21T15:45:55.235006Z"
    }
   },
   "outputs": [],
   "source": [
    "model_fn = '../../../../models/b_licheniformis/iBsu1147_irr_enz_constraint_adj.json'\n",
    "dictionary_model = json_load(model_fn)"
   ]
  },
  {
   "cell_type": "code",
   "execution_count": 6,
   "id": "57b43454-56ee-4761-923c-1dacc7c79159",
   "metadata": {
    "execution": {
     "iopub.execute_input": "2025-02-21T15:45:56.337951Z",
     "iopub.status.busy": "2025-02-21T15:45:56.337231Z",
     "iopub.status.idle": "2025-02-21T15:45:56.357532Z",
     "shell.execute_reply": "2025-02-21T15:45:56.356553Z",
     "shell.execute_reply.started": "2025-02-21T15:45:56.337911Z"
    }
   },
   "outputs": [
    {
     "data": {
      "text/plain": [
       "{'enzyme_mass_fraction': 0.588,\n",
       " 'total_protein_fraction': 0.56,\n",
       " 'average_saturation': 0.5,\n",
       " 'lowerbound': 0,\n",
       " 'upperbound': 0.165}"
      ]
     },
     "execution_count": 6,
     "metadata": {},
     "output_type": "execute_result"
    }
   ],
   "source": [
    "dictionary_model['enzyme_constraint']"
   ]
  },
  {
   "cell_type": "code",
   "execution_count": 7,
   "id": "0cb95bcb-01d4-4d40-8f77-26a010f70446",
   "metadata": {
    "execution": {
     "iopub.execute_input": "2025-02-21T15:46:02.574878Z",
     "iopub.status.busy": "2025-02-21T15:46:02.572892Z",
     "iopub.status.idle": "2025-02-21T15:46:31.696635Z",
     "shell.execute_reply": "2025-02-21T15:46:31.696190Z",
     "shell.execute_reply.started": "2025-02-21T15:46:02.574815Z"
    }
   },
   "outputs": [
    {
     "name": "stdout",
     "output_type": "stream",
     "text": [
      "Set parameter Username\n",
      "Set parameter LicenseID to value 2586336\n",
      "Academic license - for non-commercial use only - expires 2025-11-18\n"
     ]
    }
   ],
   "source": [
    "model = get_enzyme_constraint_model_original(model_fn)\n"
   ]
  },
  {
   "cell_type": "markdown",
   "id": "68150392-09c9-4b74-8452-67b3a0964051",
   "metadata": {},
   "source": [
    "# Fix model"
   ]
  },
  {
   "cell_type": "code",
   "execution_count": 9,
   "id": "0396661d-7ddd-4e0a-b8d4-c7c79fd3b8a7",
   "metadata": {
    "execution": {
     "iopub.execute_input": "2025-02-21T15:46:37.040307Z",
     "iopub.status.busy": "2025-02-21T15:46:37.039546Z",
     "iopub.status.idle": "2025-02-21T15:47:02.782731Z",
     "shell.execute_reply": "2025-02-21T15:47:02.782376Z",
     "shell.execute_reply.started": "2025-02-21T15:46:37.040266Z"
    }
   },
   "outputs": [],
   "source": [
    "model = get_enzyme_constraint_model(model_fn)"
   ]
  },
  {
   "cell_type": "code",
   "execution_count": 10,
   "id": "84a20ce6-a8b1-4ee5-bab4-c8960e9a16b9",
   "metadata": {
    "execution": {
     "iopub.execute_input": "2025-02-21T15:47:02.783495Z",
     "iopub.status.busy": "2025-02-21T15:47:02.783385Z",
     "iopub.status.idle": "2025-02-21T15:47:03.040402Z",
     "shell.execute_reply": "2025-02-21T15:47:03.040116Z",
     "shell.execute_reply.started": "2025-02-21T15:47:02.783484Z"
    }
   },
   "outputs": [
    {
     "data": {
      "text/html": [
       "<h3>Objective</h3><p>1.0 bio00006 = 0.5185021325051419</p><h4>Uptake</h4><table border=\"1\" class=\"dataframe\">\n",
       "  <thead>\n",
       "    <tr style=\"text-align: right;\">\n",
       "      <th>Metabolite</th>\n",
       "      <th>Reaction</th>\n",
       "      <th>Flux</th>\n",
       "      <th>C-Number</th>\n",
       "      <th>C-Flux</th>\n",
       "    </tr>\n",
       "  </thead>\n",
       "  <tbody>\n",
       "    <tr>\n",
       "      <td>ca2_e</td>\n",
       "      <td>EX_ca2_e_reverse</td>\n",
       "      <td>0.001547</td>\n",
       "      <td>0</td>\n",
       "      <td>0.00%</td>\n",
       "    </tr>\n",
       "    <tr>\n",
       "      <td>fe3_e</td>\n",
       "      <td>EX_fe3_e_reverse</td>\n",
       "      <td>0.001664</td>\n",
       "      <td>0</td>\n",
       "      <td>0.00%</td>\n",
       "    </tr>\n",
       "    <tr>\n",
       "      <td>glc__D_e</td>\n",
       "      <td>EX_glc__D_e</td>\n",
       "      <td>2</td>\n",
       "      <td>6</td>\n",
       "      <td>28.57%</td>\n",
       "    </tr>\n",
       "    <tr>\n",
       "      <td>glc__D_e</td>\n",
       "      <td>EX_glc__D_e_reverse</td>\n",
       "      <td>5</td>\n",
       "      <td>6</td>\n",
       "      <td>71.43%</td>\n",
       "    </tr>\n",
       "    <tr>\n",
       "      <td>h_e</td>\n",
       "      <td>EX_h_e_reverse</td>\n",
       "      <td>4.049</td>\n",
       "      <td>0</td>\n",
       "      <td>0.00%</td>\n",
       "    </tr>\n",
       "    <tr>\n",
       "      <td>k_e</td>\n",
       "      <td>EX_k_e_reverse</td>\n",
       "      <td>0.341</td>\n",
       "      <td>0</td>\n",
       "      <td>0.00%</td>\n",
       "    </tr>\n",
       "    <tr>\n",
       "      <td>mg2_e</td>\n",
       "      <td>EX_mg2_e_reverse</td>\n",
       "      <td>0.04912</td>\n",
       "      <td>0</td>\n",
       "      <td>0.00%</td>\n",
       "    </tr>\n",
       "    <tr>\n",
       "      <td>nh4_e</td>\n",
       "      <td>EX_nh4_e_reverse</td>\n",
       "      <td>4.675</td>\n",
       "      <td>0</td>\n",
       "      <td>0.00%</td>\n",
       "    </tr>\n",
       "    <tr>\n",
       "      <td>o2_e</td>\n",
       "      <td>EX_o2_e</td>\n",
       "      <td>20.28</td>\n",
       "      <td>0</td>\n",
       "      <td>0.00%</td>\n",
       "    </tr>\n",
       "    <tr>\n",
       "      <td>pi_e</td>\n",
       "      <td>EX_pi_e_reverse</td>\n",
       "      <td>8.464</td>\n",
       "      <td>0</td>\n",
       "      <td>0.00%</td>\n",
       "    </tr>\n",
       "    <tr>\n",
       "      <td>so4_e</td>\n",
       "      <td>EX_so4_e_reverse</td>\n",
       "      <td>0.1027</td>\n",
       "      <td>0</td>\n",
       "      <td>0.00%</td>\n",
       "    </tr>\n",
       "    <tr>\n",
       "      <td>prot_pool</td>\n",
       "      <td>enzyme_pool</td>\n",
       "      <td>0.165</td>\n",
       "      <td>0</td>\n",
       "      <td>0.00%</td>\n",
       "    </tr>\n",
       "  </tbody>\n",
       "</table><h4>Secretion</h4><table border=\"1\" class=\"dataframe\">\n",
       "  <thead>\n",
       "    <tr style=\"text-align: right;\">\n",
       "      <th>Metabolite</th>\n",
       "      <th>Reaction</th>\n",
       "      <th>Flux</th>\n",
       "      <th>C-Number</th>\n",
       "      <th>C-Flux</th>\n",
       "    </tr>\n",
       "  </thead>\n",
       "  <tbody>\n",
       "    <tr>\n",
       "      <td>co2_e</td>\n",
       "      <td>EX_co2_e</td>\n",
       "      <td>-21.58</td>\n",
       "      <td>1</td>\n",
       "      <td>100.00%</td>\n",
       "    </tr>\n",
       "    <tr>\n",
       "      <td>h2o_e</td>\n",
       "      <td>EX_h2o_e</td>\n",
       "      <td>-37.17</td>\n",
       "      <td>0</td>\n",
       "      <td>0.00%</td>\n",
       "    </tr>\n",
       "    <tr>\n",
       "      <td>ppi_e</td>\n",
       "      <td>EX_ppi_e</td>\n",
       "      <td>-3.967</td>\n",
       "      <td>0</td>\n",
       "      <td>0.00%</td>\n",
       "    </tr>\n",
       "  </tbody>\n",
       "</table>"
      ],
      "text/plain": [
       "<cobra.summary.model_summary.ModelSummary at 0x353a98cd0>"
      ]
     },
     "execution_count": 10,
     "metadata": {},
     "output_type": "execute_result"
    }
   ],
   "source": [
    "model.reactions.EX_glc__D_e.lower_bound = -2\n",
    "model.optimize()\n",
    "model.summary()"
   ]
  },
  {
   "cell_type": "code",
   "execution_count": 11,
   "id": "8b04861d-7d93-4314-bd03-95ebd76c8d28",
   "metadata": {
    "execution": {
     "iopub.execute_input": "2025-02-21T15:47:03.808090Z",
     "iopub.status.busy": "2025-02-21T15:47:03.807164Z",
     "iopub.status.idle": "2025-02-21T15:47:03.890403Z",
     "shell.execute_reply": "2025-02-21T15:47:03.890047Z",
     "shell.execute_reply.started": "2025-02-21T15:47:03.808036Z"
    }
   },
   "outputs": [],
   "source": [
    "# Merge split exchange reactions\n",
    "for r in model.boundary:\n",
    "    if r.id[-7:] == 'reverse':\n",
    "        # print(r, r.upper_bound)\n",
    "        r_forward = model.reactions.get_by_id(r.id[:-8])\n",
    "        if r.upper_bound != 0:\n",
    "            r_forward.lower_bound = -r.upper_bound\n",
    "            # print(r_forward,r_forward.name, r_forward.bounds)\n",
    "        r.remove_from_model()"
   ]
  },
  {
   "cell_type": "code",
   "execution_count": 12,
   "id": "e04d8d06-b595-4be4-a32c-6f399071f38a",
   "metadata": {
    "execution": {
     "iopub.execute_input": "2025-02-21T15:47:04.805408Z",
     "iopub.status.busy": "2025-02-21T15:47:04.804571Z",
     "iopub.status.idle": "2025-02-21T15:47:05.067817Z",
     "shell.execute_reply": "2025-02-21T15:47:05.067541Z",
     "shell.execute_reply.started": "2025-02-21T15:47:04.805363Z"
    }
   },
   "outputs": [
    {
     "data": {
      "text/html": [
       "<h3>Objective</h3><p>1.0 bio00006 = 0.3703263811897167</p><h4>Uptake</h4><table border=\"1\" class=\"dataframe\">\n",
       "  <thead>\n",
       "    <tr style=\"text-align: right;\">\n",
       "      <th>Metabolite</th>\n",
       "      <th>Reaction</th>\n",
       "      <th>Flux</th>\n",
       "      <th>C-Number</th>\n",
       "      <th>C-Flux</th>\n",
       "    </tr>\n",
       "  </thead>\n",
       "  <tbody>\n",
       "    <tr>\n",
       "      <td>ca2_e</td>\n",
       "      <td>EX_ca2_e</td>\n",
       "      <td>0.001105</td>\n",
       "      <td>0</td>\n",
       "      <td>0.00%</td>\n",
       "    </tr>\n",
       "    <tr>\n",
       "      <td>fe3_e</td>\n",
       "      <td>EX_fe3_e</td>\n",
       "      <td>0.001188</td>\n",
       "      <td>0</td>\n",
       "      <td>0.00%</td>\n",
       "    </tr>\n",
       "    <tr>\n",
       "      <td>glc__D_e</td>\n",
       "      <td>EX_glc__D_e</td>\n",
       "      <td>5</td>\n",
       "      <td>6</td>\n",
       "      <td>100.00%</td>\n",
       "    </tr>\n",
       "    <tr>\n",
       "      <td>h_e</td>\n",
       "      <td>EX_h_e</td>\n",
       "      <td>2.892</td>\n",
       "      <td>0</td>\n",
       "      <td>0.00%</td>\n",
       "    </tr>\n",
       "    <tr>\n",
       "      <td>k_e</td>\n",
       "      <td>EX_k_e</td>\n",
       "      <td>0.2435</td>\n",
       "      <td>0</td>\n",
       "      <td>0.00%</td>\n",
       "    </tr>\n",
       "    <tr>\n",
       "      <td>mg2_e</td>\n",
       "      <td>EX_mg2_e</td>\n",
       "      <td>0.03508</td>\n",
       "      <td>0</td>\n",
       "      <td>0.00%</td>\n",
       "    </tr>\n",
       "    <tr>\n",
       "      <td>nh4_e</td>\n",
       "      <td>EX_nh4_e</td>\n",
       "      <td>3.339</td>\n",
       "      <td>0</td>\n",
       "      <td>0.00%</td>\n",
       "    </tr>\n",
       "    <tr>\n",
       "      <td>o2_e</td>\n",
       "      <td>EX_o2_e</td>\n",
       "      <td>14.49</td>\n",
       "      <td>0</td>\n",
       "      <td>0.00%</td>\n",
       "    </tr>\n",
       "    <tr>\n",
       "      <td>pi_e</td>\n",
       "      <td>EX_pi_e</td>\n",
       "      <td>6.045</td>\n",
       "      <td>0</td>\n",
       "      <td>0.00%</td>\n",
       "    </tr>\n",
       "    <tr>\n",
       "      <td>so4_e</td>\n",
       "      <td>EX_so4_e</td>\n",
       "      <td>0.07338</td>\n",
       "      <td>0</td>\n",
       "      <td>0.00%</td>\n",
       "    </tr>\n",
       "    <tr>\n",
       "      <td>prot_pool</td>\n",
       "      <td>enzyme_pool</td>\n",
       "      <td>0.165</td>\n",
       "      <td>0</td>\n",
       "      <td>0.00%</td>\n",
       "    </tr>\n",
       "  </tbody>\n",
       "</table><h4>Secretion</h4><table border=\"1\" class=\"dataframe\">\n",
       "  <thead>\n",
       "    <tr style=\"text-align: right;\">\n",
       "      <th>Metabolite</th>\n",
       "      <th>Reaction</th>\n",
       "      <th>Flux</th>\n",
       "      <th>C-Number</th>\n",
       "      <th>C-Flux</th>\n",
       "    </tr>\n",
       "  </thead>\n",
       "  <tbody>\n",
       "    <tr>\n",
       "      <td>co2_e</td>\n",
       "      <td>EX_co2_e</td>\n",
       "      <td>-15.41</td>\n",
       "      <td>1</td>\n",
       "      <td>100.00%</td>\n",
       "    </tr>\n",
       "    <tr>\n",
       "      <td>h2o_e</td>\n",
       "      <td>EX_h2o_e</td>\n",
       "      <td>-26.55</td>\n",
       "      <td>0</td>\n",
       "      <td>0.00%</td>\n",
       "    </tr>\n",
       "    <tr>\n",
       "      <td>ppi_e</td>\n",
       "      <td>EX_ppi_e</td>\n",
       "      <td>-2.834</td>\n",
       "      <td>0</td>\n",
       "      <td>0.00%</td>\n",
       "    </tr>\n",
       "  </tbody>\n",
       "</table>"
      ],
      "text/plain": [
       "<cobra.summary.model_summary.ModelSummary at 0x347a44460>"
      ]
     },
     "execution_count": 12,
     "metadata": {},
     "output_type": "execute_result"
    }
   ],
   "source": [
    "model.optimize()\n",
    "model.summary()"
   ]
  },
  {
   "cell_type": "code",
   "execution_count": 61,
   "id": "0362d060-2576-470c-b712-690d21696905",
   "metadata": {},
   "outputs": [
    {
     "data": {
      "text/plain": [
       "0.044000000000000004"
      ]
     },
     "execution_count": 61,
     "metadata": {},
     "output_type": "execute_result"
    }
   ],
   "source": [
    "b_subtilis_N_per_OD = 2*1e8 #cells per mL at OD660 = 1 https://bionumbers.hms.harvard.edu/bionumber.aspx?s=n&v=4&id=105286\n",
    "b_subtilis_weight = 2.2*1e-13\n",
    "b_subtilis_N_per_OD*b_subtilis_weight*1000"
   ]
  },
  {
   "cell_type": "code",
   "execution_count": 13,
   "id": "f5968e7a-e849-4266-b871-f2c33dd9d623",
   "metadata": {
    "execution": {
     "iopub.execute_input": "2025-02-21T15:47:11.319064Z",
     "iopub.status.busy": "2025-02-21T15:47:11.317977Z",
     "iopub.status.idle": "2025-02-21T15:47:11.327766Z",
     "shell.execute_reply": "2025-02-21T15:47:11.325988Z",
     "shell.execute_reply.started": "2025-02-21T15:47:11.319011Z"
    }
   },
   "outputs": [],
   "source": [
    "model.id = 'iBsu1147_irr_enz_constraint_adj'\n",
    "model.name = 'iBsu1147_irr_enz_constraint_adj'"
   ]
  },
  {
   "cell_type": "code",
   "execution_count": 72,
   "id": "21bf489b-d42a-4369-bfb0-a2f9754845f6",
   "metadata": {},
   "outputs": [],
   "source": [
    "for m in model.metabolites:\n",
    "    if not m.compartment in ['e', 'c']:\n",
    "        m.compartment = m.id[-1]"
   ]
  },
  {
   "cell_type": "code",
   "execution_count": 73,
   "id": "8effba5b-e6a4-4441-94a8-7e6ac428baa4",
   "metadata": {},
   "outputs": [],
   "source": [
    "model.compartments['c'] = 'Cytoplasm'\n",
    "model.compartments['e'] = 'Extracellular'"
   ]
  },
  {
   "cell_type": "code",
   "execution_count": 74,
   "id": "e0d30ee0-48d6-4f3e-9101-d64c75a6c2ff",
   "metadata": {},
   "outputs": [],
   "source": [
    "model.compartments = {'c': 'Cytoplasm', 'e': 'Extracellular'}"
   ]
  },
  {
   "cell_type": "code",
   "execution_count": 152,
   "id": "f53af0d3-74dc-4712-9ff7-a79ea296f5ac",
   "metadata": {},
   "outputs": [],
   "source": [
    "# Fix very strict diphosphate kcat values by rmeoving it. Its rpesenve causes extreme phosphate flux\n",
    "r = model.reactions.PPAm_num1\n",
    "s = r.metabolites[model.metabolites.prot_pool]\n",
    "\n",
    "r.add_metabolites({model.metabolites.prot_pool: -s})"
   ]
  },
  {
   "cell_type": "code",
   "execution_count": 153,
   "id": "cf744cc9-e5f5-4e71-9413-012ca2ac9d0b",
   "metadata": {},
   "outputs": [],
   "source": [
    "cobra.io.write_sbml_model(model, 'iBsu1147_irr_enz_constraint_adj.xml')"
   ]
  },
  {
   "cell_type": "code",
   "execution_count": 151,
   "id": "1b8f5a96-d21c-4cba-ba40-05380f03f426",
   "metadata": {},
   "outputs": [],
   "source": [
    "model = cobra.io.read_sbml_model('iBsu1147_irr_enz_constraint_adj.xml')"
   ]
  },
  {
   "cell_type": "code",
   "execution_count": 150,
   "id": "df7a3a65-0504-4f06-b284-0ec529a0f4c9",
   "metadata": {},
   "outputs": [
    {
     "name": "stdout",
     "output_type": "stream",
     "text": [
      "Objective\n",
      "=========\n",
      "1.0 bio00006 = 0.6049834695400742\n",
      "\n",
      "Uptake\n",
      "------\n",
      "Metabolite    Reaction     Flux  C-Number  C-Flux\n",
      "     ca2_e    EX_ca2_e 0.001805         0   0.00%\n",
      "     fe3_e    EX_fe3_e 0.001941         0   0.00%\n",
      "  glc__D_e EX_glc__D_e        9         6 100.00%\n",
      "       h_e      EX_h_e    1.871         0   0.00%\n",
      "       k_e      EX_k_e   0.3978         0   0.00%\n",
      "     mg2_e    EX_mg2_e  0.05732         0   0.00%\n",
      "     nh4_e    EX_nh4_e    5.455         0   0.00%\n",
      "      o2_e     EX_o2_e     22.9         0   0.00%\n",
      "      pi_e     EX_pi_e    9.905         0   0.00%\n",
      "     so4_e    EX_so4_e   0.1199         0   0.00%\n",
      " prot_pool enzyme_pool    0.165         0   0.00%\n",
      "\n",
      "Secretion\n",
      "---------\n",
      "Metabolite Reaction   Flux  C-Number C-Flux\n",
      "      ac_e  EX_ac_e -2.882         2 19.11%\n",
      "     co2_e EX_co2_e -24.41         1 80.89%\n",
      "     h2o_e EX_h2o_e -42.61         0  0.00%\n",
      "     ppi_e EX_ppi_e -4.644         0  0.00%\n",
      "\n",
      "h2o_c + ppi_c --> 2.0 h_c + 2.0 pi_c\n",
      "Objective\n",
      "=========\n",
      "1.0 bio00006 = 0.6082497114612208\n",
      "\n",
      "Uptake\n",
      "------\n",
      "Metabolite    Reaction     Flux  C-Number  C-Flux\n",
      "     ca2_e    EX_ca2_e 0.001814         0   0.00%\n",
      "     fe3_e    EX_fe3_e 0.001952         0   0.00%\n",
      "  glc__D_e EX_glc__D_e        9         6 100.00%\n",
      "       k_e      EX_k_e      0.4         0   0.00%\n",
      "     mg2_e    EX_mg2_e  0.05763         0   0.00%\n",
      "     nh4_e    EX_nh4_e    5.484         0   0.00%\n",
      "      o2_e     EX_o2_e    22.22         0   0.00%\n",
      "      pi_e     EX_pi_e   0.6209         0   0.00%\n",
      "     so4_e    EX_so4_e   0.1205         0   0.00%\n",
      " prot_pool enzyme_pool    0.165         0   0.00%\n",
      "\n",
      "Secretion\n",
      "---------\n",
      "Metabolite Reaction   Flux  C-Number C-Flux\n",
      "      ac_e  EX_ac_e -3.152         2 20.98%\n",
      "     co2_e EX_co2_e -23.74         1 79.02%\n",
      "     h2o_e EX_h2o_e -37.37         0  0.00%\n",
      "       h_e   EX_h_e -7.711         0  0.00%\n",
      "\n"
     ]
    }
   ],
   "source": [
    "with model:\n",
    "    model.reactions.EX_glc__D_e.lower_bound = -9\n",
    "    model.reactions.EX_ppi_e.upper_bound=1000\n",
    "    solution = cobra.flux_analysis.pfba(model)\n",
    "    print(model.summary(solution))\n",
    "    model.metabolites.ppi_c.summary()\n",
    "    r = model.reactions.PPAm_num1\n",
    "    s = r.metabolites[model.metabolites.prot_pool]\n",
    "\n",
    "    r.add_metabolites({model.metabolites.prot_pool: -s})\n",
    "    print(model.reactions.PPAm_num1.reaction)\n",
    "    solution = cobra.flux_analysis.pfba(model)\n",
    "    print(model.summary(solution))"
   ]
  },
  {
   "cell_type": "code",
   "execution_count": 142,
   "id": "6b226a39-8604-4a0d-9a9d-16c830e80ed8",
   "metadata": {},
   "outputs": [],
   "source": []
  },
  {
   "cell_type": "code",
   "execution_count": 100,
   "id": "934ea1f8-994f-43d0-81cc-cb2881cf505d",
   "metadata": {},
   "outputs": [
    {
     "name": "stdout",
     "output_type": "stream",
     "text": [
      "Objective\n",
      "=========\n",
      "1.0 bio00006 = 0.21917074940770268\n",
      "\n",
      "Uptake\n",
      "------\n",
      "Metabolite    Reaction      Flux  C-Number  C-Flux\n",
      "     ca2_e    EX_ca2_e 0.0006538         0   0.00%\n",
      "     fe3_e    EX_fe3_e 0.0007033         0   0.00%\n",
      "  glc__D_e EX_glc__D_e         3         6 100.00%\n",
      "       h_e      EX_h_e     1.631         0   0.00%\n",
      "       k_e      EX_k_e    0.1441         0   0.00%\n",
      "     mg2_e    EX_mg2_e   0.02076         0   0.00%\n",
      "     nh4_e    EX_nh4_e     2.056         0   0.00%\n",
      "      o2_e     EX_o2_e     8.641         0   0.00%\n",
      "      pi_e     EX_pi_e     3.578         0   0.00%\n",
      "     so4_e    EX_so4_e   0.04343         0   0.00%\n",
      " prot_pool enzyme_pool     0.165         0   0.00%\n",
      "\n",
      "Secretion\n",
      "---------\n",
      "Metabolite    Reaction   Flux  C-Number C-Flux\n",
      "     co2_e    EX_co2_e -9.167         1 97.86%\n",
      "  gln__L_e EX_gln__L_e  -0.04         5  2.14%\n",
      "     h2o_e    EX_h2o_e -15.88         0  0.00%\n",
      "     ppi_e    EX_ppi_e -1.677         0  0.00%\n",
      "\n",
      "g3p_c      -0.042653\n",
      "dhap_c     -0.042653\n",
      "2pg_c      -0.033897\n",
      "3pg_c      -0.033897\n",
      "gln__L_c   -0.058646\n",
      "Name: shadow_prices, dtype: float64\n",
      "-0.04265288519683663\n"
     ]
    }
   ],
   "source": [
    "with model:\n",
    "    delta = 0.0001\n",
    "    existing_flux = 0\n",
    "    model.reactions.EX_glc__D_e.lower_bound = -3\n",
    "    model.reactions.EX_gln__L_e.lower_bound = 0.04\n",
    "    solution = model.optimize()\n",
    "    print(model.summary())\n",
    "    mets = ['g3p_c', 'dhap_c', '2pg_c', '3pg_c', 'gln__L_c']\n",
    "    print(solution.shadow_prices[mets])\n",
    "    m = model.metabolites.g3p_c\n",
    "    try:\n",
    "        r = model.reactions.get_by_id('DM_{0}'.format(m.id))\n",
    "    except KeyError:\n",
    "        r = model.add_boundary(m, type = 'demand')\n",
    "    old_lb = r.lower_bound\n",
    "    if old_lb != 0:\n",
    "        print(\"existing DM with constraints for \", m.id)\n",
    "        r.bounds = (old_lb + delta, 1000)\n",
    "    else:\n",
    "        r.bounds = (delta, 1000)\n",
    "    if existing_flux:\n",
    "        r_id, flux = existing_flux\n",
    "        model.reactions.get_by_id(r_id).bounds = (flux, flux)\n",
    "    sp = (model.slim_optimize()-solution.objective_value)/delta\n",
    "    print(sp)"
   ]
  },
  {
   "cell_type": "code",
   "execution_count": 27,
   "id": "8183bbd9-10ae-42eb-a7d3-f5e11685657c",
   "metadata": {},
   "outputs": [
    {
     "data": {
      "text/plain": [
       "(None,\n",
       " {'SBML_FATAL': [],\n",
       "  'SBML_ERROR': [\"E0 (Error): SBML component consistency (core, L16); Invalid attribute found on Compartment object; A Compartment object must have the required attributes 'id' and 'constant', and may have the optional attributes 'metaid', 'sboTerm', 'name', 'spatialDimensions', 'size' and 'units'. No other attributes from the SBML Level 3 Core namespace are permitted on a Compartment object.\\nReference: L3V1 Section 4.5\\n The required attribute 'id' is missing.\\n\",\n",
       "   \"E1 (Error): SBML component consistency (fbc, L6792); Chemical formula must be string; The value of attribute 'fbc:chemicalFormula' on the SBML <species> object must be set to a string consisting only of atomic names or user defined compounds and their occurrence.\\nReference: L3V1 Fbc V3 Section 3.4\\n Encountered '(' when expecting a capital letter. The chemicalFormula 'C13H22NO11PR2(C5H8O6PR)n' has incorrect syntax.\\n\",\n",
       "   \"E2 (Error): SBML component consistency (fbc, L8222); Chemical formula must be string; The value of attribute 'fbc:chemicalFormula' on the SBML <species> object must be set to a string consisting only of atomic names or user defined compounds and their occurrence.\\nReference: L3V1 Fbc V3 Section 3.4\\n Encountered '(' when expecting a capital letter. The chemicalFormula 'C13H22NO11PR2(C5H8O6PR)n' has incorrect syntax.\\n\",\n",
       "   \"E3 (Error): SBML component consistency (fbc, L8781); Chemical formula must be string; The value of attribute 'fbc:chemicalFormula' on the SBML <species> object must be set to a string consisting only of atomic names or user defined compounds and their occurrence.\\nReference: L3V1 Fbc V3 Section 3.4\\n Encountered '(' when expecting a capital letter. The chemicalFormula 'C16H29N2O11PR2(C5H8O6PR)n' has incorrect syntax.\\n\",\n",
       "   \"E4 (Error): SBML component consistency (fbc, L8807); Chemical formula must be string; The value of attribute 'fbc:chemicalFormula' on the SBML <species> object must be set to a string consisting only of atomic names or user defined compounds and their occurrence.\\nReference: L3V1 Fbc V3 Section 3.4\\n Encountered '(' when expecting a capital letter. The chemicalFormula 'C21H32N6O11PR(C5H8O6PR)n' has incorrect syntax.\\n\",\n",
       "   \"E5 (Error): SBML component consistency (fbc, L8872); Chemical formula must be string; The value of attribute 'fbc:chemicalFormula' on the SBML <species> object must be set to a string consisting only of atomic names or user defined compounds and their occurrence.\\nReference: L3V1 Fbc V3 Section 3.4\\n Encountered '(' when expecting a capital letter. The chemicalFormula 'C21H33N9O11PR(C5H8O6PR)n' has incorrect syntax.\\n\",\n",
       "   \"E6 (Error): SBML component consistency (fbc, L8950); Chemical formula must be string; The value of attribute 'fbc:chemicalFormula' on the SBML <species> object must be set to a string consisting only of atomic names or user defined compounds and their occurrence.\\nReference: L3V1 Fbc V3 Section 3.4\\n Encountered '(' when expecting a capital letter. The chemicalFormula 'C20H29N7O12PR(C5H8O6PR)n' has incorrect syntax.\\n\",\n",
       "   \"E7 (Error): SBML component consistency (fbc, L9145); Chemical formula must be string; The value of attribute 'fbc:chemicalFormula' on the SBML <species> object must be set to a string consisting only of atomic names or user defined compounds and their occurrence.\\nReference: L3V1 Fbc V3 Section 3.4\\n Encountered '(' when expecting a capital letter. The chemicalFormula 'C12H20NO11PR2(C5H8O6PR)n' has incorrect syntax.\\n\",\n",
       "   \"E8 (Error): SBML component consistency (fbc, L9158); Chemical formula must be string; The value of attribute 'fbc:chemicalFormula' on the SBML <species> object must be set to a string consisting only of atomic names or user defined compounds and their occurrence.\\nReference: L3V1 Fbc V3 Section 3.4\\n Encountered '(' when expecting a capital letter. The chemicalFormula 'C20H30N6O11PSR(C5H8O6PR)n' has incorrect syntax.\\n\",\n",
       "   \"E9 (Error): SBML component consistency (fbc, L9314); Chemical formula must be string; The value of attribute 'fbc:chemicalFormula' on the SBML <species> object must be set to a string consisting only of atomic names or user defined compounds and their occurrence.\\nReference: L3V1 Fbc V3 Section 3.4\\n Encountered '(' when expecting a capital letter. The chemicalFormula 'C13H22NO12PR2(C5H8O6PR)n' has incorrect syntax.\\n\",\n",
       "   \"E10 (Error): SBML component consistency (fbc, L9327); Chemical formula must be string; The value of attribute 'fbc:chemicalFormula' on the SBML <species> object must be set to a string consisting only of atomic names or user defined compounds and their occurrence.\\nReference: L3V1 Fbc V3 Section 3.4\\n Encountered '(' when expecting a capital letter. The chemicalFormula 'C20H30N6O11PR(C5H8O6PR)n' has incorrect syntax.\\n\",\n",
       "   \"E11 (Error): SBML component consistency (fbc, L9418); Chemical formula must be string; The value of attribute 'fbc:chemicalFormula' on the SBML <species> object must be set to a string consisting only of atomic names or user defined compounds and their occurrence.\\nReference: L3V1 Fbc V3 Section 3.4\\n Encountered '(' when expecting a capital letter. The chemicalFormula 'C15H24NO11PR2(C5H8O6PR)n' has incorrect syntax.\\n\",\n",
       "   \"E12 (Error): SBML component consistency (fbc, L9496); Chemical formula must be string; The value of attribute 'fbc:chemicalFormula' on the SBML <species> object must be set to a string consisting only of atomic names or user defined compounds and their occurrence.\\nReference: L3V1 Fbc V3 Section 3.4\\n Encountered '(' when expecting a capital letter. The chemicalFormula 'C24H30N6O12PR(C5H8O6PR)n' has incorrect syntax.\\n\",\n",
       "   \"E13 (Error): SBML component consistency (fbc, L9561); Chemical formula must be string; The value of attribute 'fbc:chemicalFormula' on the SBML <species> object must be set to a string consisting only of atomic names or user defined compounds and their occurrence.\\nReference: L3V1 Fbc V3 Section 3.4\\n Encountered '(' when expecting a capital letter. The chemicalFormula 'C14H22NO13PR2(C5H8O6PR)n' has incorrect syntax.\\n\",\n",
       "   \"E14 (Error): SBML component consistency (fbc, L9587); Chemical formula must be string; The value of attribute 'fbc:chemicalFormula' on the SBML <species> object must be set to a string consisting only of atomic names or user defined compounds and their occurrence.\\nReference: L3V1 Fbc V3 Section 3.4\\n Encountered '(' when expecting a capital letter. The chemicalFormula 'C16H24N3O11PR2(C5H8O6PR)n' has incorrect syntax.\\n\",\n",
       "   \"E15 (Error): SBML component consistency (fbc, L9613); Chemical formula must be string; The value of attribute 'fbc:chemicalFormula' on the SBML <species> object must be set to a string consisting only of atomic names or user defined compounds and their occurrence.\\nReference: L3V1 Fbc V3 Section 3.4\\n Encountered '(' when expecting a capital letter. The chemicalFormula 'C14H24NO12PR2(C5H8O6PR)n' has incorrect syntax.\\n\",\n",
       "   \"E16 (Error): SBML component consistency (fbc, L9834); Chemical formula must be string; The value of attribute 'fbc:chemicalFormula' on the SBML <species> object must be set to a string consisting only of atomic names or user defined compounds and their occurrence.\\nReference: L3V1 Fbc V3 Section 3.4\\n Encountered '(' when expecting a capital letter. The chemicalFormula 'C18H26N6O11PSR(C5H8O6PR)n' has incorrect syntax.\\n\",\n",
       "   \"E17 (Error): SBML component consistency (fbc, L9847); Chemical formula must be string; The value of attribute 'fbc:chemicalFormula' on the SBML <species> object must be set to a string consisting only of atomic names or user defined compounds and their occurrence.\\nReference: L3V1 Fbc V3 Section 3.4\\n Encountered '(' when expecting a capital letter. The chemicalFormula 'C21H32N6O11PR(C5H8O6PR)n' has incorrect syntax.\\n\",\n",
       "   \"E18 (Error): SBML component consistency (fbc, L10016); Chemical formula must be string; The value of attribute 'fbc:chemicalFormula' on the SBML <species> object must be set to a string consisting only of atomic names or user defined compounds and their occurrence.\\nReference: L3V1 Fbc V3 Section 3.4\\n Encountered '(' when expecting a capital letter. The chemicalFormula 'C21H30N6O12PSR(C5H8O6PR)n' has incorrect syntax.\\n\",\n",
       "   \"E19 (Error): SBML component consistency (fbc, L10107); Chemical formula must be string; The value of attribute 'fbc:chemicalFormula' on the SBML <species> object must be set to a string consisting only of atomic names or user defined compounds and their occurrence.\\nReference: L3V1 Fbc V3 Section 3.4\\n Encountered '(' when expecting a capital letter. The chemicalFormula 'C14H23N2O12PR2(C5H8O6PR)n' has incorrect syntax.\\n\",\n",
       "   \"E20 (Error): SBML component consistency (fbc, L10250); Chemical formula must be string; The value of attribute 'fbc:chemicalFormula' on the SBML <species> object must be set to a string consisting only of atomic names or user defined compounds and their occurrence.\\nReference: L3V1 Fbc V3 Section 3.4\\n Encountered '(' when expecting a capital letter. The chemicalFormula 'C19H26NO11PR2(C5H8O6PR)n' has incorrect syntax.\\n\",\n",
       "   \"E21 (Error): SBML component consistency (fbc, L10263); Chemical formula must be string; The value of attribute 'fbc:chemicalFormula' on the SBML <species> object must be set to a string consisting only of atomic names or user defined compounds and their occurrence.\\nReference: L3V1 Fbc V3 Section 3.4\\n Encountered '(' when expecting a capital letter. The chemicalFormula 'C26H31N7O11PR(C5H8O6PR)n' has incorrect syntax.\\n\",\n",
       "   \"E22 (Error): SBML component consistency (fbc, L11823); Chemical formula must be string; The value of attribute 'fbc:chemicalFormula' on the SBML <species> object must be set to a string consisting only of atomic names or user defined compounds and their occurrence.\\nReference: L3V1 Fbc V3 Section 3.4\\n Encountered '(' when expecting a capital letter. The chemicalFormula 'C20H30N6O11PSeR(C5H8O6PR)n' has incorrect syntax.\\n\",\n",
       "   \"E23 (Error): SBML component consistency (fbc, L12824); Chemical formula must be string; The value of attribute 'fbc:chemicalFormula' on the SBML <species> object must be set to a string consisting only of atomic names or user defined compounds and their occurrence.\\nReference: L3V1 Fbc V3 Section 3.4\\n Encountered '(' when expecting a capital letter. The chemicalFormula 'C20H28N6O13PR(C5H8O6PR)n' has incorrect syntax.\\n\",\n",
       "   \"E24 (Error): SBML component consistency (fbc, L12837); Chemical formula must be string; The value of attribute 'fbc:chemicalFormula' on the SBML <species> object must be set to a string consisting only of atomic names or user defined compounds and their occurrence.\\nReference: L3V1 Fbc V3 Section 3.4\\n Encountered '(' when expecting a capital letter. The chemicalFormula 'C14H22NO13PR2(C5H8O6PR)n' has incorrect syntax.\\n\",\n",
       "   \"E25 (Error): SBML component consistency (fbc, L13214); Chemical formula must be string; The value of attribute 'fbc:chemicalFormula' on the SBML <species> object must be set to a string consisting only of atomic names or user defined compounds and their occurrence.\\nReference: L3V1 Fbc V3 Section 3.4\\n Encountered '(' when expecting a capital letter. The chemicalFormula 'C13H22NO12PR2(C5H8O6PR)n' has incorrect syntax.\\n\",\n",
       "   \"E26 (Error): SBML component consistency (core, L18947); Missing value for the 'compartment' attribute; The 'compartment' attribute in a <species> is mandatory. A <species> definition in a model must include a value for this attribute. \\nReference: L3V1 Section 4.6.3\\n The <species> with the id 'M_cppp9_c' is missing the 'compartment' attribute.\\n\",\n",
       "   \"E27 (Error): SBML component consistency (core, L18948); Missing value for the 'compartment' attribute; The 'compartment' attribute in a <species> is mandatory. A <species> definition in a model must include a value for this attribute. \\nReference: L3V1 Section 4.6.3\\n The <species> with the id 'M_fecpp3_c' is missing the 'compartment' attribute.\\n\",\n",
       "   \"E28 (Error): SBML component consistency (core, L18949); Missing value for the 'compartment' attribute; The 'compartment' attribute in a <species> is mandatory. A <species> definition in a model must include a value for this attribute. \\nReference: L3V1 Section 4.6.3\\n The <species> with the id 'M_2h_c' is missing the 'compartment' attribute.\\n\",\n",
       "   \"E29 (Error): SBML component consistency (core, L16); Invalid attribute found on Compartment object; A Compartment object must have the required attributes 'id' and 'constant', and may have the optional attributes 'metaid', 'sboTerm', 'name', 'spatialDimensions', 'size' and 'units'. No other attributes from the SBML Level 3 Core namespace are permitted on a Compartment object.\\nReference: L3V1 Section 4.5\\n The required attribute 'id' is missing.\\n\",\n",
       "   \"E30 (Error): SBML component consistency (fbc, L6792); Chemical formula must be string; The value of attribute 'fbc:chemicalFormula' on the SBML <species> object must be set to a string consisting only of atomic names or user defined compounds and their occurrence.\\nReference: L3V1 Fbc V3 Section 3.4\\n Encountered '(' when expecting a capital letter. The chemicalFormula 'C13H22NO11PR2(C5H8O6PR)n' has incorrect syntax.\\n\",\n",
       "   \"E31 (Error): SBML component consistency (fbc, L8222); Chemical formula must be string; The value of attribute 'fbc:chemicalFormula' on the SBML <species> object must be set to a string consisting only of atomic names or user defined compounds and their occurrence.\\nReference: L3V1 Fbc V3 Section 3.4\\n Encountered '(' when expecting a capital letter. The chemicalFormula 'C13H22NO11PR2(C5H8O6PR)n' has incorrect syntax.\\n\",\n",
       "   \"E32 (Error): SBML component consistency (fbc, L8781); Chemical formula must be string; The value of attribute 'fbc:chemicalFormula' on the SBML <species> object must be set to a string consisting only of atomic names or user defined compounds and their occurrence.\\nReference: L3V1 Fbc V3 Section 3.4\\n Encountered '(' when expecting a capital letter. The chemicalFormula 'C16H29N2O11PR2(C5H8O6PR)n' has incorrect syntax.\\n\",\n",
       "   \"E33 (Error): SBML component consistency (fbc, L8807); Chemical formula must be string; The value of attribute 'fbc:chemicalFormula' on the SBML <species> object must be set to a string consisting only of atomic names or user defined compounds and their occurrence.\\nReference: L3V1 Fbc V3 Section 3.4\\n Encountered '(' when expecting a capital letter. The chemicalFormula 'C21H32N6O11PR(C5H8O6PR)n' has incorrect syntax.\\n\",\n",
       "   \"E34 (Error): SBML component consistency (fbc, L8872); Chemical formula must be string; The value of attribute 'fbc:chemicalFormula' on the SBML <species> object must be set to a string consisting only of atomic names or user defined compounds and their occurrence.\\nReference: L3V1 Fbc V3 Section 3.4\\n Encountered '(' when expecting a capital letter. The chemicalFormula 'C21H33N9O11PR(C5H8O6PR)n' has incorrect syntax.\\n\",\n",
       "   \"E35 (Error): SBML component consistency (fbc, L8950); Chemical formula must be string; The value of attribute 'fbc:chemicalFormula' on the SBML <species> object must be set to a string consisting only of atomic names or user defined compounds and their occurrence.\\nReference: L3V1 Fbc V3 Section 3.4\\n Encountered '(' when expecting a capital letter. The chemicalFormula 'C20H29N7O12PR(C5H8O6PR)n' has incorrect syntax.\\n\",\n",
       "   \"E36 (Error): SBML component consistency (fbc, L9145); Chemical formula must be string; The value of attribute 'fbc:chemicalFormula' on the SBML <species> object must be set to a string consisting only of atomic names or user defined compounds and their occurrence.\\nReference: L3V1 Fbc V3 Section 3.4\\n Encountered '(' when expecting a capital letter. The chemicalFormula 'C12H20NO11PR2(C5H8O6PR)n' has incorrect syntax.\\n\",\n",
       "   \"E37 (Error): SBML component consistency (fbc, L9158); Chemical formula must be string; The value of attribute 'fbc:chemicalFormula' on the SBML <species> object must be set to a string consisting only of atomic names or user defined compounds and their occurrence.\\nReference: L3V1 Fbc V3 Section 3.4\\n Encountered '(' when expecting a capital letter. The chemicalFormula 'C20H30N6O11PSR(C5H8O6PR)n' has incorrect syntax.\\n\",\n",
       "   \"E38 (Error): SBML component consistency (fbc, L9314); Chemical formula must be string; The value of attribute 'fbc:chemicalFormula' on the SBML <species> object must be set to a string consisting only of atomic names or user defined compounds and their occurrence.\\nReference: L3V1 Fbc V3 Section 3.4\\n Encountered '(' when expecting a capital letter. The chemicalFormula 'C13H22NO12PR2(C5H8O6PR)n' has incorrect syntax.\\n\",\n",
       "   \"E39 (Error): SBML component consistency (fbc, L9327); Chemical formula must be string; The value of attribute 'fbc:chemicalFormula' on the SBML <species> object must be set to a string consisting only of atomic names or user defined compounds and their occurrence.\\nReference: L3V1 Fbc V3 Section 3.4\\n Encountered '(' when expecting a capital letter. The chemicalFormula 'C20H30N6O11PR(C5H8O6PR)n' has incorrect syntax.\\n\",\n",
       "   \"E40 (Error): SBML component consistency (fbc, L9418); Chemical formula must be string; The value of attribute 'fbc:chemicalFormula' on the SBML <species> object must be set to a string consisting only of atomic names or user defined compounds and their occurrence.\\nReference: L3V1 Fbc V3 Section 3.4\\n Encountered '(' when expecting a capital letter. The chemicalFormula 'C15H24NO11PR2(C5H8O6PR)n' has incorrect syntax.\\n\",\n",
       "   \"E41 (Error): SBML component consistency (fbc, L9496); Chemical formula must be string; The value of attribute 'fbc:chemicalFormula' on the SBML <species> object must be set to a string consisting only of atomic names or user defined compounds and their occurrence.\\nReference: L3V1 Fbc V3 Section 3.4\\n Encountered '(' when expecting a capital letter. The chemicalFormula 'C24H30N6O12PR(C5H8O6PR)n' has incorrect syntax.\\n\",\n",
       "   \"E42 (Error): SBML component consistency (fbc, L9561); Chemical formula must be string; The value of attribute 'fbc:chemicalFormula' on the SBML <species> object must be set to a string consisting only of atomic names or user defined compounds and their occurrence.\\nReference: L3V1 Fbc V3 Section 3.4\\n Encountered '(' when expecting a capital letter. The chemicalFormula 'C14H22NO13PR2(C5H8O6PR)n' has incorrect syntax.\\n\",\n",
       "   \"E43 (Error): SBML component consistency (fbc, L9587); Chemical formula must be string; The value of attribute 'fbc:chemicalFormula' on the SBML <species> object must be set to a string consisting only of atomic names or user defined compounds and their occurrence.\\nReference: L3V1 Fbc V3 Section 3.4\\n Encountered '(' when expecting a capital letter. The chemicalFormula 'C16H24N3O11PR2(C5H8O6PR)n' has incorrect syntax.\\n\",\n",
       "   \"E44 (Error): SBML component consistency (fbc, L9613); Chemical formula must be string; The value of attribute 'fbc:chemicalFormula' on the SBML <species> object must be set to a string consisting only of atomic names or user defined compounds and their occurrence.\\nReference: L3V1 Fbc V3 Section 3.4\\n Encountered '(' when expecting a capital letter. The chemicalFormula 'C14H24NO12PR2(C5H8O6PR)n' has incorrect syntax.\\n\",\n",
       "   \"E45 (Error): SBML component consistency (fbc, L9834); Chemical formula must be string; The value of attribute 'fbc:chemicalFormula' on the SBML <species> object must be set to a string consisting only of atomic names or user defined compounds and their occurrence.\\nReference: L3V1 Fbc V3 Section 3.4\\n Encountered '(' when expecting a capital letter. The chemicalFormula 'C18H26N6O11PSR(C5H8O6PR)n' has incorrect syntax.\\n\",\n",
       "   \"E46 (Error): SBML component consistency (fbc, L9847); Chemical formula must be string; The value of attribute 'fbc:chemicalFormula' on the SBML <species> object must be set to a string consisting only of atomic names or user defined compounds and their occurrence.\\nReference: L3V1 Fbc V3 Section 3.4\\n Encountered '(' when expecting a capital letter. The chemicalFormula 'C21H32N6O11PR(C5H8O6PR)n' has incorrect syntax.\\n\",\n",
       "   \"E47 (Error): SBML component consistency (fbc, L10016); Chemical formula must be string; The value of attribute 'fbc:chemicalFormula' on the SBML <species> object must be set to a string consisting only of atomic names or user defined compounds and their occurrence.\\nReference: L3V1 Fbc V3 Section 3.4\\n Encountered '(' when expecting a capital letter. The chemicalFormula 'C21H30N6O12PSR(C5H8O6PR)n' has incorrect syntax.\\n\",\n",
       "   \"E48 (Error): SBML component consistency (fbc, L10107); Chemical formula must be string; The value of attribute 'fbc:chemicalFormula' on the SBML <species> object must be set to a string consisting only of atomic names or user defined compounds and their occurrence.\\nReference: L3V1 Fbc V3 Section 3.4\\n Encountered '(' when expecting a capital letter. The chemicalFormula 'C14H23N2O12PR2(C5H8O6PR)n' has incorrect syntax.\\n\",\n",
       "   \"E49 (Error): SBML component consistency (fbc, L10250); Chemical formula must be string; The value of attribute 'fbc:chemicalFormula' on the SBML <species> object must be set to a string consisting only of atomic names or user defined compounds and their occurrence.\\nReference: L3V1 Fbc V3 Section 3.4\\n Encountered '(' when expecting a capital letter. The chemicalFormula 'C19H26NO11PR2(C5H8O6PR)n' has incorrect syntax.\\n\",\n",
       "   \"E50 (Error): SBML component consistency (fbc, L10263); Chemical formula must be string; The value of attribute 'fbc:chemicalFormula' on the SBML <species> object must be set to a string consisting only of atomic names or user defined compounds and their occurrence.\\nReference: L3V1 Fbc V3 Section 3.4\\n Encountered '(' when expecting a capital letter. The chemicalFormula 'C26H31N7O11PR(C5H8O6PR)n' has incorrect syntax.\\n\",\n",
       "   \"E51 (Error): SBML component consistency (fbc, L11823); Chemical formula must be string; The value of attribute 'fbc:chemicalFormula' on the SBML <species> object must be set to a string consisting only of atomic names or user defined compounds and their occurrence.\\nReference: L3V1 Fbc V3 Section 3.4\\n Encountered '(' when expecting a capital letter. The chemicalFormula 'C20H30N6O11PSeR(C5H8O6PR)n' has incorrect syntax.\\n\",\n",
       "   \"E52 (Error): SBML component consistency (fbc, L12824); Chemical formula must be string; The value of attribute 'fbc:chemicalFormula' on the SBML <species> object must be set to a string consisting only of atomic names or user defined compounds and their occurrence.\\nReference: L3V1 Fbc V3 Section 3.4\\n Encountered '(' when expecting a capital letter. The chemicalFormula 'C20H28N6O13PR(C5H8O6PR)n' has incorrect syntax.\\n\",\n",
       "   \"E53 (Error): SBML component consistency (fbc, L12837); Chemical formula must be string; The value of attribute 'fbc:chemicalFormula' on the SBML <species> object must be set to a string consisting only of atomic names or user defined compounds and their occurrence.\\nReference: L3V1 Fbc V3 Section 3.4\\n Encountered '(' when expecting a capital letter. The chemicalFormula 'C14H22NO13PR2(C5H8O6PR)n' has incorrect syntax.\\n\",\n",
       "   \"E54 (Error): SBML component consistency (fbc, L13214); Chemical formula must be string; The value of attribute 'fbc:chemicalFormula' on the SBML <species> object must be set to a string consisting only of atomic names or user defined compounds and their occurrence.\\nReference: L3V1 Fbc V3 Section 3.4\\n Encountered '(' when expecting a capital letter. The chemicalFormula 'C13H22NO12PR2(C5H8O6PR)n' has incorrect syntax.\\n\",\n",
       "   \"E55 (Error): SBML component consistency (core, L18947); Missing value for the 'compartment' attribute; The 'compartment' attribute in a <species> is mandatory. A <species> definition in a model must include a value for this attribute. \\nReference: L3V1 Section 4.6.3\\n The <species> with the id 'M_cppp9_c' is missing the 'compartment' attribute.\\n\",\n",
       "   \"E56 (Error): SBML component consistency (core, L18948); Missing value for the 'compartment' attribute; The 'compartment' attribute in a <species> is mandatory. A <species> definition in a model must include a value for this attribute. \\nReference: L3V1 Section 4.6.3\\n The <species> with the id 'M_fecpp3_c' is missing the 'compartment' attribute.\\n\",\n",
       "   \"E57 (Error): SBML component consistency (core, L18949); Missing value for the 'compartment' attribute; The 'compartment' attribute in a <species> is mandatory. A <species> definition in a model must include a value for this attribute. \\nReference: L3V1 Section 4.6.3\\n The <species> with the id 'M_2h_c' is missing the 'compartment' attribute.\\n\"],\n",
       "  'SBML_SCHEMA_ERROR': [],\n",
       "  'SBML_WARNING': [],\n",
       "  'COBRA_FATAL': [],\n",
       "  'COBRA_ERROR': [\"Required attribute 'id' cannot be found or parsed in '<Compartment>'.\"],\n",
       "  'COBRA_WARNING': [],\n",
       "  'COBRA_CHECK': []})"
      ]
     },
     "execution_count": 27,
     "metadata": {},
     "output_type": "execute_result"
    }
   ],
   "source": [
    "cobra.io.validate_sbml_model('iBsu1147_irr_enz_constraint_adj.xml')"
   ]
  }
 ],
 "metadata": {
  "kernelspec": {
   "display_name": "Python 3 (ipykernel)",
   "language": "python",
   "name": "python3"
  },
  "language_info": {
   "codemirror_mode": {
    "name": "ipython",
    "version": 3
   },
   "file_extension": ".py",
   "mimetype": "text/x-python",
   "name": "python",
   "nbconvert_exporter": "python",
   "pygments_lexer": "ipython3",
   "version": "3.9.21"
  }
 },
 "nbformat": 4,
 "nbformat_minor": 5
}
