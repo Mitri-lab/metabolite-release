{
 "cells": [
  {
   "cell_type": "code",
   "execution_count": null,
   "id": "0b021cf3-28af-460a-a761-5f4a1b6bcff8",
   "metadata": {},
   "outputs": [],
   "source": [
    "model_pa = reframed.load_cbmodel('../../../models/p_aeruginosa/iSD1509.xml')\n",
    "model_pa.solver = 'gurobi'\n",
    "\n"
   ]
  },
  {
   "cell_type": "code",
   "execution_count": null,
   "id": "a94d9416-08f3-462f-bf86-50a98baa4112",
   "metadata": {},
   "outputs": [],
   "source": [
    "# Snippet to see open exchanges\n",
    "# for r_id in model_pp.reactions:\n",
    "#     r = model_pp.reactions[r_id]\n",
    "#     if np.isfinite(r.lb) and (r.lb <0):\n",
    "#         print(r_id, r.lb, r.ub)\n",
    "\n",
    "# The model needs 'R_EX_ura_e' to be open to grow\n",
    "pa_open_exchanges_to_block = ['R_EX_leu__L_e','R_EX_ala__L_e','R_EX_gly_e','R_EX_ser__L_e',\n",
    "                              'R_EX_thr__L_e','R_EX_arg__L_e','R_EX_lys__L_e','R_EX_asp__L_e',\n",
    "                              'R_EX_phe__L_e','R_EX_pro__L_e','R_EX_csn_e','R_EX_glu__L_e',\n",
    "                              'R_EX_his__L_e','R_EX_ile__L_e','R_EX_met__L_e','R_EX_trp__L_e',\n",
    "                              'R_EX_tyr__L_e','R_EX_val__L_e','R_EX_cys__L_e','R_EX_glc__D_e',\n",
    "                              'R_EX_thm_e','R_EX_dad_5_e']"
   ]
  },
  {
   "cell_type": "code",
   "execution_count": null,
   "id": "b2842263-1b09-4895-99d7-f8a7b7aed4ce",
   "metadata": {},
   "outputs": [],
   "source": [
    "for r_id in pa_open_exchanges_to_block:\n",
    "    model_pp.set_flux_bounds(r_id, lb = 0)\n",
    "model_pp.set_flux_bounds('R_EX_ura_e', lb = -2)"
   ]
  },
  {
   "cell_type": "code",
   "execution_count": null,
   "id": "c3902434-ff17-47f2-9e42-059decc95c87",
   "metadata": {},
   "outputs": [],
   "source": [
    "sol = reframed.FBA(model_pp, constraints={'R_EX_rib__D_e':(-4,0), 'R_EX_glc__D_e':(0,0), 'R_EX_ura_e':(-2,0)}, objective=model_pp.biomass_reaction)\n",
    "sol.show_values('R_EX')\n",
    "sol.show_values('R_BIO')"
   ]
  },
  {
   "cell_type": "code",
   "execution_count": null,
   "id": "6150edd0-4037-4d8f-9677-96357a4df749",
   "metadata": {},
   "outputs": [],
   "source": [
    "r_ex = 'R_EX_rib__D_e'\n",
    "growth_rate = 0.04\n",
    "sol = reframed.FBA(model, constraints = {r_ex:(-10,0), model.biomass_reaction:(growth_rate*0.9,growth_rate*1.1)},\n",
    "                      objective = {r_ex:1})\n",
    "sol.show_values(\"R_EX\")"
   ]
  }
 ],
 "metadata": {
  "kernelspec": {
   "display_name": "Python 3 (ipykernel)",
   "language": "python",
   "name": "python3"
  },
  "language_info": {
   "codemirror_mode": {
    "name": "ipython",
    "version": 3
   },
   "file_extension": ".py",
   "mimetype": "text/x-python",
   "name": "python",
   "nbconvert_exporter": "python",
   "pygments_lexer": "ipython3",
   "version": "3.9.21"
  }
 },
 "nbformat": 4,
 "nbformat_minor": 5
}
