{
 "cells": [
  {
   "cell_type": "code",
   "execution_count": 41,
   "id": "efd0a835-1bea-4f27-b525-ac64f977b83a",
   "metadata": {
    "execution": {
     "iopub.execute_input": "2024-10-29T21:47:45.592238Z",
     "iopub.status.busy": "2024-10-29T21:47:45.591671Z",
     "iopub.status.idle": "2024-10-29T21:47:46.015391Z",
     "shell.execute_reply": "2024-10-29T21:47:46.015136Z",
     "shell.execute_reply.started": "2024-10-29T21:47:45.592179Z"
    }
   },
   "outputs": [],
   "source": [
    "import numpy as np\n",
    "from matplotlib import pyplot as plt\n",
    "from scipy.integrate import solve_ivp\n",
    "import pandas as pd\n",
    "import reframed"
   ]
  },
  {
   "cell_type": "code",
   "execution_count": 40,
   "id": "ab0ca437-272f-4e7f-b921-378d24980cfa",
   "metadata": {
    "execution": {
     "iopub.execute_input": "2024-10-29T21:37:57.681085Z",
     "iopub.status.busy": "2024-10-29T21:37:57.680439Z",
     "iopub.status.idle": "2024-10-29T21:37:57.687444Z",
     "shell.execute_reply": "2024-10-29T21:37:57.686399Z",
     "shell.execute_reply.started": "2024-10-29T21:37:57.681048Z"
    }
   },
   "outputs": [],
   "source": [
    "uptake = -18 #mmol/gDW/h\n",
    "malate_yield = 0.04 #gDW/mmol\n",
    "mu_malate = 0.4"
   ]
  },
  {
   "cell_type": "code",
   "execution_count": 19,
   "id": "0f935d79-c5ef-44a4-99e2-d4f42906b5c5",
   "metadata": {
    "execution": {
     "iopub.execute_input": "2024-10-29T21:26:18.209865Z",
     "iopub.status.busy": "2024-10-29T21:26:18.209264Z",
     "iopub.status.idle": "2024-10-29T21:26:18.215904Z",
     "shell.execute_reply": "2024-10-29T21:26:18.213916Z",
     "shell.execute_reply.started": "2024-10-29T21:26:18.209830Z"
    }
   },
   "outputs": [],
   "source": [
    "x0 = 0.01 #gDW/L\n",
    "def dx_dt_fun(t, x):\n",
    "    return [x[0]*mu_malate, x[0]*uptake]"
   ]
  },
  {
   "cell_type": "code",
   "execution_count": 33,
   "id": "042f781d-0816-4769-97b6-50329823f1c3",
   "metadata": {
    "execution": {
     "iopub.execute_input": "2024-10-29T21:29:22.042971Z",
     "iopub.status.busy": "2024-10-29T21:29:22.042469Z",
     "iopub.status.idle": "2024-10-29T21:29:22.070364Z",
     "shell.execute_reply": "2024-10-29T21:29:22.069985Z",
     "shell.execute_reply.started": "2024-10-29T21:29:22.042941Z"
    }
   },
   "outputs": [],
   "source": [
    "conc_df = pd.read_csv('absolute_concentrations_sintef_snorre.csv')"
   ]
  },
  {
   "cell_type": "code",
   "execution_count": 37,
   "id": "3fc0c8be-513d-4448-be52-7107b9365a72",
   "metadata": {
    "execution": {
     "iopub.execute_input": "2024-10-29T21:30:25.838557Z",
     "iopub.status.busy": "2024-10-29T21:30:25.838047Z",
     "iopub.status.idle": "2024-10-29T21:30:25.856994Z",
     "shell.execute_reply": "2024-10-29T21:30:25.856229Z",
     "shell.execute_reply.started": "2024-10-29T21:30:25.838527Z"
    }
   },
   "outputs": [
    {
     "data": {
      "text/html": [
       "<div>\n",
       "<style scoped>\n",
       "    .dataframe tbody tr th:only-of-type {\n",
       "        vertical-align: middle;\n",
       "    }\n",
       "\n",
       "    .dataframe tbody tr th {\n",
       "        vertical-align: top;\n",
       "    }\n",
       "\n",
       "    .dataframe thead th {\n",
       "        text-align: right;\n",
       "    }\n",
       "</style>\n",
       "<table border=\"1\" class=\"dataframe\">\n",
       "  <thead>\n",
       "    <tr style=\"text-align: right;\">\n",
       "      <th></th>\n",
       "      <th>Unnamed: 0</th>\n",
       "      <th>Sample_ID</th>\n",
       "      <th>Carbon source</th>\n",
       "      <th>Metabolite</th>\n",
       "      <th>Concentration [uM]</th>\n",
       "      <th>Hours</th>\n",
       "      <th>Timepoint</th>\n",
       "      <th>Bioreactor</th>\n",
       "    </tr>\n",
       "  </thead>\n",
       "  <tbody>\n",
       "    <tr>\n",
       "      <th>1182</th>\n",
       "      <td>1182</td>\n",
       "      <td>SM_MPTA_112023_31_L-malate-T6_M5_13</td>\n",
       "      <td>L-malate</td>\n",
       "      <td>MALATE</td>\n",
       "      <td>25626.353707</td>\n",
       "      <td>6.00</td>\n",
       "      <td>1</td>\n",
       "      <td>M5</td>\n",
       "    </tr>\n",
       "    <tr>\n",
       "      <th>1183</th>\n",
       "      <td>1183</td>\n",
       "      <td>SM_MPTA_112023_32_L-malate-T6_M6_14</td>\n",
       "      <td>L-malate</td>\n",
       "      <td>MALATE</td>\n",
       "      <td>19546.288734</td>\n",
       "      <td>6.00</td>\n",
       "      <td>1</td>\n",
       "      <td>M6</td>\n",
       "    </tr>\n",
       "    <tr>\n",
       "      <th>1184</th>\n",
       "      <td>1184</td>\n",
       "      <td>SM_MPTA_112023_33_L-malate-T6_M7_15</td>\n",
       "      <td>L-malate</td>\n",
       "      <td>MALATE</td>\n",
       "      <td>23585.690231</td>\n",
       "      <td>6.00</td>\n",
       "      <td>1</td>\n",
       "      <td>M7</td>\n",
       "    </tr>\n",
       "    <tr>\n",
       "      <th>1185</th>\n",
       "      <td>1185</td>\n",
       "      <td>SM_MPTA_112023_127_L-malate-T9_M5_16</td>\n",
       "      <td>L-malate</td>\n",
       "      <td>MALATE</td>\n",
       "      <td>9813.990711</td>\n",
       "      <td>9.25</td>\n",
       "      <td>2</td>\n",
       "      <td>M5</td>\n",
       "    </tr>\n",
       "    <tr>\n",
       "      <th>1186</th>\n",
       "      <td>1186</td>\n",
       "      <td>SM_MPTA_112023_50_L-malate-T10_M6_17</td>\n",
       "      <td>L-malate</td>\n",
       "      <td>MALATE</td>\n",
       "      <td>10379.076775</td>\n",
       "      <td>10.00</td>\n",
       "      <td>2</td>\n",
       "      <td>M6</td>\n",
       "    </tr>\n",
       "    <tr>\n",
       "      <th>1187</th>\n",
       "      <td>1187</td>\n",
       "      <td>SM_MPTA_112023_129_L-malate-T9_M7_18</td>\n",
       "      <td>L-malate</td>\n",
       "      <td>MALATE</td>\n",
       "      <td>13253.960865</td>\n",
       "      <td>9.25</td>\n",
       "      <td>2</td>\n",
       "      <td>M7</td>\n",
       "    </tr>\n",
       "    <tr>\n",
       "      <th>1188</th>\n",
       "      <td>1188</td>\n",
       "      <td>SM_MPTA_112023_49_L-malate-T10_M5_19</td>\n",
       "      <td>L-malate</td>\n",
       "      <td>MALATE</td>\n",
       "      <td>2636.392768</td>\n",
       "      <td>10.00</td>\n",
       "      <td>3</td>\n",
       "      <td>M5</td>\n",
       "    </tr>\n",
       "    <tr>\n",
       "      <th>1189</th>\n",
       "      <td>1189</td>\n",
       "      <td>SM_MPTA_112023_134_L-malate-T11_M6_20</td>\n",
       "      <td>L-malate</td>\n",
       "      <td>MALATE</td>\n",
       "      <td>4473.850150</td>\n",
       "      <td>11.00</td>\n",
       "      <td>3</td>\n",
       "      <td>M6</td>\n",
       "    </tr>\n",
       "    <tr>\n",
       "      <th>1190</th>\n",
       "      <td>1190</td>\n",
       "      <td>SM_MPTA_112023_51_L-malate-T10_M7_21</td>\n",
       "      <td>L-malate</td>\n",
       "      <td>MALATE</td>\n",
       "      <td>7139.692141</td>\n",
       "      <td>10.00</td>\n",
       "      <td>3</td>\n",
       "      <td>M7</td>\n",
       "    </tr>\n",
       "    <tr>\n",
       "      <th>1191</th>\n",
       "      <td>1191</td>\n",
       "      <td>SM_MPTA_112023_58_L-malate-T12_M5_22</td>\n",
       "      <td>L-malate</td>\n",
       "      <td>MALATE</td>\n",
       "      <td>19.117432</td>\n",
       "      <td>12.00</td>\n",
       "      <td>4</td>\n",
       "      <td>M5</td>\n",
       "    </tr>\n",
       "    <tr>\n",
       "      <th>1192</th>\n",
       "      <td>1192</td>\n",
       "      <td>SM_MPTA_112023_143_L-malate-T13_M6_23</td>\n",
       "      <td>L-malate</td>\n",
       "      <td>MALATE</td>\n",
       "      <td>38.946556</td>\n",
       "      <td>13.00</td>\n",
       "      <td>4</td>\n",
       "      <td>M6</td>\n",
       "    </tr>\n",
       "    <tr>\n",
       "      <th>1193</th>\n",
       "      <td>1193</td>\n",
       "      <td>SM_MPTA_112023_60_L-malate-T12_M7_24</td>\n",
       "      <td>L-malate</td>\n",
       "      <td>MALATE</td>\n",
       "      <td>25.727188</td>\n",
       "      <td>12.00</td>\n",
       "      <td>4</td>\n",
       "      <td>M7</td>\n",
       "    </tr>\n",
       "    <tr>\n",
       "      <th>1212</th>\n",
       "      <td>1212</td>\n",
       "      <td>SM_MPTA_112023_ FreshMedia_M9 malate_001_43</td>\n",
       "      <td>L-malate</td>\n",
       "      <td>MALATE</td>\n",
       "      <td>26034.910584</td>\n",
       "      <td>0.00</td>\n",
       "      <td>0</td>\n",
       "      <td>malate_001</td>\n",
       "    </tr>\n",
       "    <tr>\n",
       "      <th>1213</th>\n",
       "      <td>1213</td>\n",
       "      <td>SM_MPTA_112023_ FreshMedia_M9 malate_002_44</td>\n",
       "      <td>L-malate</td>\n",
       "      <td>MALATE</td>\n",
       "      <td>26893.544990</td>\n",
       "      <td>0.00</td>\n",
       "      <td>0</td>\n",
       "      <td>malate_002</td>\n",
       "    </tr>\n",
       "    <tr>\n",
       "      <th>1214</th>\n",
       "      <td>1214</td>\n",
       "      <td>SM_MPTA_112023_ FreshMedia_M9 malate_003_45</td>\n",
       "      <td>L-malate</td>\n",
       "      <td>MALATE</td>\n",
       "      <td>29258.014474</td>\n",
       "      <td>0.00</td>\n",
       "      <td>0</td>\n",
       "      <td>malate_003</td>\n",
       "    </tr>\n",
       "  </tbody>\n",
       "</table>\n",
       "</div>"
      ],
      "text/plain": [
       "      Unnamed: 0                                    Sample_ID Carbon source  \\\n",
       "1182        1182          SM_MPTA_112023_31_L-malate-T6_M5_13      L-malate   \n",
       "1183        1183          SM_MPTA_112023_32_L-malate-T6_M6_14      L-malate   \n",
       "1184        1184          SM_MPTA_112023_33_L-malate-T6_M7_15      L-malate   \n",
       "1185        1185         SM_MPTA_112023_127_L-malate-T9_M5_16      L-malate   \n",
       "1186        1186         SM_MPTA_112023_50_L-malate-T10_M6_17      L-malate   \n",
       "1187        1187         SM_MPTA_112023_129_L-malate-T9_M7_18      L-malate   \n",
       "1188        1188         SM_MPTA_112023_49_L-malate-T10_M5_19      L-malate   \n",
       "1189        1189        SM_MPTA_112023_134_L-malate-T11_M6_20      L-malate   \n",
       "1190        1190         SM_MPTA_112023_51_L-malate-T10_M7_21      L-malate   \n",
       "1191        1191         SM_MPTA_112023_58_L-malate-T12_M5_22      L-malate   \n",
       "1192        1192        SM_MPTA_112023_143_L-malate-T13_M6_23      L-malate   \n",
       "1193        1193         SM_MPTA_112023_60_L-malate-T12_M7_24      L-malate   \n",
       "1212        1212  SM_MPTA_112023_ FreshMedia_M9 malate_001_43      L-malate   \n",
       "1213        1213  SM_MPTA_112023_ FreshMedia_M9 malate_002_44      L-malate   \n",
       "1214        1214  SM_MPTA_112023_ FreshMedia_M9 malate_003_45      L-malate   \n",
       "\n",
       "     Metabolite  Concentration [uM]  Hours  Timepoint  Bioreactor  \n",
       "1182     MALATE        25626.353707   6.00          1          M5  \n",
       "1183     MALATE        19546.288734   6.00          1          M6  \n",
       "1184     MALATE        23585.690231   6.00          1          M7  \n",
       "1185     MALATE         9813.990711   9.25          2          M5  \n",
       "1186     MALATE        10379.076775  10.00          2          M6  \n",
       "1187     MALATE        13253.960865   9.25          2          M7  \n",
       "1188     MALATE         2636.392768  10.00          3          M5  \n",
       "1189     MALATE         4473.850150  11.00          3          M6  \n",
       "1190     MALATE         7139.692141  10.00          3          M7  \n",
       "1191     MALATE           19.117432  12.00          4          M5  \n",
       "1192     MALATE           38.946556  13.00          4          M6  \n",
       "1193     MALATE           25.727188  12.00          4          M7  \n",
       "1212     MALATE        26034.910584   0.00          0  malate_001  \n",
       "1213     MALATE        26893.544990   0.00          0  malate_002  \n",
       "1214     MALATE        29258.014474   0.00          0  malate_003  "
      ]
     },
     "execution_count": 37,
     "metadata": {},
     "output_type": "execute_result"
    }
   ],
   "source": [
    "idx = (conc_df['Metabolite']=='MALATE')&(conc_df['Carbon source']=='L-malate')\n",
    "conc_df.loc[idx]"
   ]
  },
  {
   "cell_type": "code",
   "execution_count": 38,
   "id": "b92a4483-e12c-43a2-aa5b-7c1bcd4ccda7",
   "metadata": {
    "execution": {
     "iopub.execute_input": "2024-10-29T21:36:33.349747Z",
     "iopub.status.busy": "2024-10-29T21:36:33.348705Z",
     "iopub.status.idle": "2024-10-29T21:36:33.386874Z",
     "shell.execute_reply": "2024-10-29T21:36:33.386497Z",
     "shell.execute_reply.started": "2024-10-29T21:36:33.349639Z"
    }
   },
   "outputs": [],
   "source": [
    "sol = solve_ivp(dx_dt_fun, [0,10], [x0, 30], t_eval=np.linspace(0, 10, 20))"
   ]
  },
  {
   "cell_type": "code",
   "execution_count": 39,
   "id": "9887855b-3c80-4ade-a19d-b04d03a6d48b",
   "metadata": {
    "execution": {
     "iopub.execute_input": "2024-10-29T21:36:34.340786Z",
     "iopub.status.busy": "2024-10-29T21:36:34.340247Z",
     "iopub.status.idle": "2024-10-29T21:36:34.447449Z",
     "shell.execute_reply": "2024-10-29T21:36:34.447195Z",
     "shell.execute_reply.started": "2024-10-29T21:36:34.340755Z"
    }
   },
   "outputs": [
    {
     "data": {
      "text/plain": [
       "[<matplotlib.lines.Line2D at 0x10fcc52e0>]"
      ]
     },
     "execution_count": 39,
     "metadata": {},
     "output_type": "execute_result"
    },
    {
     "data": {
      "image/png": "[encoded data removed]",
      "text/plain": [
       "<Figure size 640x480 with 2 Axes>"
      ]
     },
     "metadata": {},
     "output_type": "display_data"
    }
   ],
   "source": [
    "fig,ax = plt.subplots(1)\n",
    "ax.plot(sol.t, sol.y[0])\n",
    "ax2 = ax.twinx()\n",
    "ax2.plot(sol.t, sol.y[1], c = 'r')"
   ]
  },
  {
   "cell_type": "code",
   "execution_count": 13,
   "id": "d7a5c5d7-eaf4-4297-ae74-59ad33e2d3c5",
   "metadata": {
    "execution": {
     "iopub.execute_input": "2024-10-29T21:21:27.288589Z",
     "iopub.status.busy": "2024-10-29T21:21:27.288091Z",
     "iopub.status.idle": "2024-10-29T21:21:27.296527Z",
     "shell.execute_reply": "2024-10-29T21:21:27.295477Z",
     "shell.execute_reply.started": "2024-10-29T21:21:27.288561Z"
    }
   },
   "outputs": [
    {
     "data": {
      "text/plain": [
       "array([[0.01      , 0.01050188, 0.01713721, 0.05103261, 0.1852487 ,\n",
       "        0.54598191]])"
      ]
     },
     "execution_count": 13,
     "metadata": {},
     "output_type": "execute_result"
    }
   ],
   "source": [
    "sol.y"
   ]
  },
  {
   "cell_type": "code",
   "execution_count": null,
   "id": "86f9f92d-060c-411e-94ee-a5a5f6946bc5",
   "metadata": {},
   "outputs": [],
   "source": [
    "\"adocbl_c\":-0.000223,\n"
   ]
  },
  {
   "cell_type": "code",
   "execution_count": 42,
   "id": "0ebea591-575f-4c94-a063-a68ee9c75bce",
   "metadata": {
    "execution": {
     "iopub.execute_input": "2024-10-29T21:48:04.254093Z",
     "iopub.status.busy": "2024-10-29T21:48:04.252969Z",
     "iopub.status.idle": "2024-10-29T21:48:05.568060Z",
     "shell.execute_reply": "2024-10-29T21:48:05.567628Z",
     "shell.execute_reply.started": "2024-10-29T21:48:04.254063Z"
    }
   },
   "outputs": [],
   "source": [
    "model_ez = reframed.load_cbmodel('../../models/e_coli/momentiJO1366.xml')\n"
   ]
  },
  {
   "cell_type": "code",
   "execution_count": null,
   "id": "b113c4b5-295d-4998-95d5-b3a17798cc0c",
   "metadata": {},
   "outputs": [],
   "source": [
    "model_ez.reactions['R_EX_adocbl_e']"
   ]
  },
  {
   "cell_type": "code",
   "execution_count": 51,
   "id": "2ec61f05-6804-4dcc-a4dd-271cceb3d871",
   "metadata": {
    "execution": {
     "iopub.execute_input": "2024-10-29T21:50:33.850674Z",
     "iopub.status.busy": "2024-10-29T21:50:33.850015Z",
     "iopub.status.idle": "2024-10-29T21:50:33.991807Z",
     "shell.execute_reply": "2024-10-29T21:50:33.991439Z",
     "shell.execute_reply.started": "2024-10-29T21:50:33.850644Z"
    }
   },
   "outputs": [],
   "source": [
    "model_ez.reactions['R_BIOMASS_Ec_iJO1366_WT_53p95M']\n",
    "sol = reframed.FBA(model_ez, constraints={'R_EX_adocbl_e':(-1,0)}, objective='R_BIOMASS_Ec_iJO1366_WT_53p95M')"
   ]
  },
  {
   "cell_type": "code",
   "execution_count": 52,
   "id": "807ed308-5d29-4cb4-9333-4326c06657cf",
   "metadata": {
    "execution": {
     "iopub.execute_input": "2024-10-29T21:50:35.633321Z",
     "iopub.status.busy": "2024-10-29T21:50:35.632811Z",
     "iopub.status.idle": "2024-10-29T21:50:35.639407Z",
     "shell.execute_reply": "2024-10-29T21:50:35.638785Z",
     "shell.execute_reply.started": "2024-10-29T21:50:35.633291Z"
    }
   },
   "outputs": [
    {
     "name": "stdout",
     "output_type": "stream",
     "text": [
      "R_EX_co2_e    1.23934\n",
      "R_EX_glc__D_e -0.206557\n",
      "R_EX_h2o_e    1.23934\n",
      "R_EX_o2_e    -1.23934\n"
     ]
    }
   ],
   "source": [
    "sol.show_values('R_EX')"
   ]
  }
 ],
 "metadata": {
  "kernelspec": {
   "display_name": "Python 3 (ipykernel)",
   "language": "python",
   "name": "python3"
  },
  "language_info": {
   "codemirror_mode": {
    "name": "ipython",
    "version": 3
   },
   "file_extension": ".py",
   "mimetype": "text/x-python",
   "name": "python",
   "nbconvert_exporter": "python",
   "pygments_lexer": "ipython3",
   "version": "3.9.21"
  }
 },
 "nbformat": 4,
 "nbformat_minor": 5
}
