{
 "cells": [
  {
   "cell_type": "code",
   "execution_count": 19,
   "id": "0976b1a6-2db5-4549-9887-1f94c2d02bd3",
   "metadata": {},
   "outputs": [],
   "source": [
    "import cobra\n",
    "import pandas as pd\n",
    "import re\n",
    "import numpy as np\n",
    "import scipy.stats as st"
   ]
  },
  {
   "cell_type": "code",
   "execution_count": 20,
   "id": "dd8e654e-835b-4c8e-beab-ac5fa73fad53",
   "metadata": {},
   "outputs": [],
   "source": [
    "import pubchempy as pcp"
   ]
  },
  {
   "cell_type": "code",
   "execution_count": 21,
   "id": "6c232ca1-cecc-46ff-ae8d-4cff5621c5ca",
   "metadata": {},
   "outputs": [],
   "source": [
    "model = cobra.io.read_sbml_model('models/e_coli/momentiJO1366.xml')\n"
   ]
  },
  {
   "cell_type": "code",
   "execution_count": 22,
   "id": "c96e2d4d-6a91-4647-a854-e08c68acd1fa",
   "metadata": {},
   "outputs": [],
   "source": [
    "# Read measurements\n",
    "measurements = pd.read_csv('ecoli_measurements.csv')\n",
    "#measurements.drop(columns = [\"Note\"], inplace = True)"
   ]
  },
  {
   "cell_type": "code",
   "execution_count": 23,
   "id": "5f97c4c7-f1b5-4c1d-b27a-0f2854526285",
   "metadata": {},
   "outputs": [],
   "source": [
    "# Read metabolite mapping\n",
    "mapping_df = pd.read_csv('id_mapping.csv')"
   ]
  },
  {
   "cell_type": "code",
   "execution_count": 24,
   "id": "5a2ed4d4-9db2-4b12-8059-9cff8f114442",
   "metadata": {},
   "outputs": [],
   "source": [
    "met_info_df = mapping_df[[\"Metabolite name\", \"Metabolite id\"]]\n"
   ]
  },
  {
   "cell_type": "code",
   "execution_count": 25,
   "id": "03f69903-99fd-473a-897b-4e55858522fd",
   "metadata": {},
   "outputs": [],
   "source": [
    "met_info_df = pd.merge(met_info_df, measurements, on = \"Metabolite name\")"
   ]
  },
  {
   "cell_type": "code",
   "execution_count": 42,
   "id": "b1baed06-33e9-4cc0-a3f6-61a5e2d1652b",
   "metadata": {},
   "outputs": [],
   "source": [
    "def get_polarity_from_pubchem(m):\n",
    "    print(m.name)\n",
    "    compounds = pcp.get_compounds(m.name, \"name\")\n",
    "    if len(compounds) > 1:\n",
    "        print([c.tpsa for c in compounds])\n",
    "    elif not len(compounds): \n",
    "        print(\"No tpsa found for {0}\".format(m.name))\n",
    "        return np.nan\n",
    "    c = compounds[0]\n",
    "    print(c.synonyms[:2], c.tpsa)\n",
    "    return c.tpsa\n",
    "    "
   ]
  },
  {
   "cell_type": "code",
   "execution_count": null,
   "id": "af3f4591-65bc-4074-aa0f-68ab2f0135f4",
   "metadata": {},
   "outputs": [],
   "source": [
    "mass = {}\n",
    "charge = {}\n",
    "n_phosphate = {}\n",
    "polarity = {}\n",
    "for i, row in met_info_df.iterrows():\n",
    "    m_text = row[\"Metabolite id\"]\n",
    "    try:\n",
    "        keys = m_text.split(\",\")\n",
    "    except:\n",
    "        print(m_text)\n",
    "        continue\n",
    "    formula_list = []\n",
    "    mass_list = []\n",
    "    charge_list = []\n",
    "    np_list = []\n",
    "    polar_list = []\n",
    "    for key in keys:\n",
    "        m_id = \"{0}_c\".format(key.strip())\n",
    "        m = model.metabolites.get_by_id(m_id)\n",
    "        mass_list.append(m.formula_weight)\n",
    "        charge_list.append(m.charge)\n",
    "        try:\n",
    "            np_list.append(m.elements['P'])\n",
    "        except KeyError:\n",
    "            np_list.append(0)\n",
    "        polar_list.append(get_polarity_from_pubchem(m))\n",
    "            \n",
    "        \n",
    "    mass[i] = np.mean(mass_list)\n",
    "    charge[i] = np.mean(charge_list)\n",
    "    n_phosphate[i] = np.mean(np_list)\n",
    "    polarity[i] = np.mean(polar_list)"
   ]
  },
  {
   "cell_type": "code",
   "execution_count": 44,
   "id": "cb5bff14-bf0a-4beb-8ff9-28b6c4dd808d",
   "metadata": {},
   "outputs": [],
   "source": [
    "met_info_df[\"Mass\"] = pd.Series(mass)\n",
    "met_info_df[\"Charge\"] = pd.Series(charge)\n",
    "met_info_df[\"Phosphate\"] = pd.Series(n_phosphate)\n",
    "met_info_df[\"Topological Polar Surface Area [Å]\"] = pd.Series(polarity)"
   ]
  },
  {
   "cell_type": "code",
   "execution_count": 45,
   "id": "3e138cb0-200a-47ac-8deb-3341dee3d35a",
   "metadata": {},
   "outputs": [],
   "source": [
    "met_info_df.to_csv(\"met_info.csv\")"
   ]
  },
  {
   "cell_type": "code",
   "execution_count": 47,
   "id": "ab186960-08f1-4d54-9e37-6a91db4806ef",
   "metadata": {},
   "outputs": [],
   "source": [
    "met_info_df = met_info_df.loc[~met_info_df.isna().any(axis = 1), :]\n",
    "met_info_df = met_info_df.loc[met_info_df.Value != 0, :]"
   ]
  },
  {
   "cell_type": "code",
   "execution_count": 48,
   "id": "e570a19b-453b-4fca-9c21-f8100a2da61b",
   "metadata": {},
   "outputs": [],
   "source": [
    "met_info_df[\"log10(metabolite concentration)\"] = np.log10(met_info_df.Value)"
   ]
  },
  {
   "cell_type": "code",
   "execution_count": 49,
   "id": "deafcd1c-7a9b-4b7a-8f96-c8e65aef7967",
   "metadata": {},
   "outputs": [
    {
     "name": "stdout",
     "output_type": "stream",
     "text": [
      "-0.2046507395799165 0.26119861655505655\n"
     ]
    },
    {
     "data": {
      "image/png": "[encoded data removed]",
      "text/plain": [
       "<Figure size 432x288 with 1 Axes>"
      ]
     },
     "metadata": {
      "needs_background": "light"
     },
     "output_type": "display_data"
    }
   ],
   "source": [
    "met_info_df.plot.scatter(x = \"log10(metabolite concentration)\", y = \"Mass\")\n",
    "corrp = st.pearsonr(met_info_df[\"log10(metabolite concentration)\"], met_info_df.Mass)\n",
    "print(corrp[0], corrp[1])"
   ]
  },
  {
   "cell_type": "code",
   "execution_count": 50,
   "id": "6c60c28b-6e3b-4901-94a2-93ec16f4346d",
   "metadata": {},
   "outputs": [
    {
     "name": "stdout",
     "output_type": "stream",
     "text": [
      "-0.23295188568842964 0.1994625802825393\n"
     ]
    },
    {
     "data": {
      "image/png": "[encoded data removed]",
      "text/plain": [
       "<Figure size 432x288 with 1 Axes>"
      ]
     },
     "metadata": {
      "needs_background": "light"
     },
     "output_type": "display_data"
    }
   ],
   "source": [
    "met_info_df.plot.scatter(x = \"log10(metabolite concentration)\", y = \"Charge\")\n",
    "corrp = st.pearsonr(met_info_df[\"log10(metabolite concentration)\"], met_info_df.Charge)\n",
    "print(corrp[0], corrp[1])"
   ]
  },
  {
   "cell_type": "code",
   "execution_count": 51,
   "id": "95fe73d9-65d8-4dcf-89fb-955803eccb4b",
   "metadata": {},
   "outputs": [
    {
     "name": "stdout",
     "output_type": "stream",
     "text": [
      "-0.054931520346511935 0.7652437184094022\n"
     ]
    },
    {
     "data": {
      "image/png": "[encoded data removed]",
      "text/plain": [
       "<Figure size 432x288 with 1 Axes>"
      ]
     },
     "metadata": {
      "needs_background": "light"
     },
     "output_type": "display_data"
    }
   ],
   "source": [
    "met_info_df.plot.scatter(x = \"log10(metabolite concentration)\", y = \"Phosphate\")\n",
    "corrp = st.pearsonr(met_info_df[\"log10(metabolite concentration)\"], met_info_df.Phosphate)\n",
    "print(corrp[0], corrp[1])"
   ]
  },
  {
   "cell_type": "code",
   "execution_count": 52,
   "id": "53e81ee2-6fe2-4c64-84d8-5660884ec4a2",
   "metadata": {},
   "outputs": [
    {
     "name": "stdout",
     "output_type": "stream",
     "text": [
      "-0.14272067538148706 0.4358439550028726\n"
     ]
    },
    {
     "data": {
      "image/png": "[encoded data removed]",
      "text/plain": [
       "<Figure size 432x288 with 1 Axes>"
      ]
     },
     "metadata": {
      "needs_background": "light"
     },
     "output_type": "display_data"
    }
   ],
   "source": [
    "met_info_df.plot.scatter(x = \"log10(metabolite concentration)\", y = \"Topological Polar Surface Area [Å]\")\n",
    "corrp = st.pearsonr(met_info_df[\"log10(metabolite concentration)\"], met_info_df[\"Topological Polar Surface Area [Å]\"])\n",
    "print(corrp[0], corrp[1])"
   ]
  },
  {
   "cell_type": "code",
   "execution_count": null,
   "id": "f6d5b8d4-85b3-4fe5-88f1-8668260c93f4",
   "metadata": {},
   "outputs": [],
   "source": []
  },
  {
   "cell_type": "code",
   "execution_count": null,
   "id": "1a4e800f-721b-400d-994e-678bdd86bb10",
   "metadata": {},
   "outputs": [],
   "source": []
  },
  {
   "cell_type": "code",
   "execution_count": null,
   "id": "f731695c-858b-44de-8d3d-faf6e2ea41ad",
   "metadata": {},
   "outputs": [],
   "source": []
  }
 ],
 "metadata": {
  "kernelspec": {
   "display_name": "Python 3 (ipykernel)",
   "language": "python",
   "name": "python3"
  },
  "language_info": {
   "codemirror_mode": {
    "name": "ipython",
    "version": 3
   },
   "file_extension": ".py",
   "mimetype": "text/x-python",
   "name": "python",
   "nbconvert_exporter": "python",
   "pygments_lexer": "ipython3",
   "version": "3.9.12"
  }
 },
 "nbformat": 4,
 "nbformat_minor": 5
}
