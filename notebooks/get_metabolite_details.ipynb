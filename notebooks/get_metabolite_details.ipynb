{
 "cells": [
  {
   "cell_type": "code",
   "execution_count": 79,
   "id": "0976b1a6-2db5-4549-9887-1f94c2d02bd3",
   "metadata": {
    "execution": {
     "iopub.execute_input": "2024-09-24T10:22:06.998265Z",
     "iopub.status.busy": "2024-09-24T10:22:06.995772Z",
     "iopub.status.idle": "2024-09-24T10:22:07.049756Z",
     "shell.execute_reply": "2024-09-24T10:22:07.048088Z",
     "shell.execute_reply.started": "2024-09-24T10:22:06.997766Z"
    }
   },
   "outputs": [],
   "source": [
    "import cobra\n",
    "import pandas as pd\n",
    "import re\n",
    "import numpy as np\n",
    "import scipy.stats as st\n",
    "import re"
   ]
  },
  {
   "cell_type": "code",
   "execution_count": 80,
   "id": "dd8e654e-835b-4c8e-beab-ac5fa73fad53",
   "metadata": {
    "execution": {
     "iopub.execute_input": "2024-09-24T10:22:07.672238Z",
     "iopub.status.busy": "2024-09-24T10:22:07.671617Z",
     "iopub.status.idle": "2024-09-24T10:22:07.686975Z",
     "shell.execute_reply": "2024-09-24T10:22:07.684468Z",
     "shell.execute_reply.started": "2024-09-24T10:22:07.672206Z"
    }
   },
   "outputs": [],
   "source": [
    "import pubchempy as pcp"
   ]
  },
  {
   "cell_type": "code",
   "execution_count": 81,
   "id": "6c232ca1-cecc-46ff-ae8d-4cff5621c5ca",
   "metadata": {
    "execution": {
     "iopub.execute_input": "2024-09-24T10:22:08.275538Z",
     "iopub.status.busy": "2024-09-24T10:22:08.274993Z",
     "iopub.status.idle": "2024-09-24T10:22:11.113702Z",
     "shell.execute_reply": "2024-09-24T10:22:11.113249Z",
     "shell.execute_reply.started": "2024-09-24T10:22:08.275507Z"
    }
   },
   "outputs": [],
   "source": [
    "model = cobra.io.read_sbml_model('../models/e_coli/momentiJO1366.xml')\n"
   ]
  },
  {
   "cell_type": "code",
   "execution_count": 82,
   "id": "c96e2d4d-6a91-4647-a854-e08c68acd1fa",
   "metadata": {
    "execution": {
     "iopub.execute_input": "2024-09-24T10:22:19.369600Z",
     "iopub.status.busy": "2024-09-24T10:22:19.368768Z",
     "iopub.status.idle": "2024-09-24T10:22:19.380553Z",
     "shell.execute_reply": "2024-09-24T10:22:19.379784Z",
     "shell.execute_reply.started": "2024-09-24T10:22:19.369545Z"
    }
   },
   "outputs": [],
   "source": [
    "# Read measurements\n",
    "measurements = pd.read_csv('../data/e_coli/e_coli_measurements.csv')\n",
    "#measurements.drop(columns = [\"Note\"], inplace = True)"
   ]
  },
  {
   "cell_type": "code",
   "execution_count": 5,
   "id": "5f97c4c7-f1b5-4c1d-b27a-0f2854526285",
   "metadata": {
    "execution": {
     "iopub.execute_input": "2024-08-27T20:51:44.474038Z",
     "iopub.status.busy": "2024-08-27T20:51:44.473516Z",
     "iopub.status.idle": "2024-08-27T20:51:44.486609Z",
     "shell.execute_reply": "2024-08-27T20:51:44.486020Z",
     "shell.execute_reply.started": "2024-08-27T20:51:44.474007Z"
    }
   },
   "outputs": [],
   "source": [
    "# Read metabolite mapping\n",
    "mapping_df = pd.read_csv('../data/id_mapping.csv')"
   ]
  },
  {
   "cell_type": "code",
   "execution_count": 6,
   "id": "33706b7a-ee99-4a2e-a037-8df18fcd844f",
   "metadata": {
    "execution": {
     "iopub.execute_input": "2024-08-27T20:51:46.542210Z",
     "iopub.status.busy": "2024-08-27T20:51:46.541594Z",
     "iopub.status.idle": "2024-08-27T20:51:46.572748Z",
     "shell.execute_reply": "2024-08-27T20:51:46.571386Z",
     "shell.execute_reply.started": "2024-08-27T20:51:46.542175Z"
    }
   },
   "outputs": [
    {
     "data": {
      "text/html": [
       "<div>\n",
       "<style scoped>\n",
       "    .dataframe tbody tr th:only-of-type {\n",
       "        vertical-align: middle;\n",
       "    }\n",
       "\n",
       "    .dataframe tbody tr th {\n",
       "        vertical-align: top;\n",
       "    }\n",
       "\n",
       "    .dataframe thead th {\n",
       "        text-align: right;\n",
       "    }\n",
       "</style>\n",
       "<table border=\"1\" class=\"dataframe\">\n",
       "  <thead>\n",
       "    <tr style=\"text-align: right;\">\n",
       "      <th></th>\n",
       "      <th>Abbreviation</th>\n",
       "      <th>Metabolite name</th>\n",
       "      <th>Ecoli metabolite</th>\n",
       "      <th>Yeast metabolite</th>\n",
       "      <th>Bacillus metabolite</th>\n",
       "      <th>Cglutamicum metabolite</th>\n",
       "    </tr>\n",
       "  </thead>\n",
       "  <tbody>\n",
       "    <tr>\n",
       "      <th>0</th>\n",
       "      <td>G6P</td>\n",
       "      <td>Glucose-6-phosphate</td>\n",
       "      <td>g6p</td>\n",
       "      <td>s_0568</td>\n",
       "      <td>g6p_A</td>\n",
       "      <td>g6p</td>\n",
       "    </tr>\n",
       "    <tr>\n",
       "      <th>1</th>\n",
       "      <td>F6P</td>\n",
       "      <td>Fructose-6-phosphate</td>\n",
       "      <td>f6p</td>\n",
       "      <td>s_0557</td>\n",
       "      <td>f6p_B</td>\n",
       "      <td>f6p</td>\n",
       "    </tr>\n",
       "    <tr>\n",
       "      <th>2</th>\n",
       "      <td>FBP</td>\n",
       "      <td>Fructose-1,6-bisphosphate</td>\n",
       "      <td>fdp</td>\n",
       "      <td>s_0555</td>\n",
       "      <td>fdp_B</td>\n",
       "      <td>fdp</td>\n",
       "    </tr>\n",
       "    <tr>\n",
       "      <th>3</th>\n",
       "      <td>DHAP</td>\n",
       "      <td>Dihydroxyacetonephosphate</td>\n",
       "      <td>dhap</td>\n",
       "      <td>s_0629</td>\n",
       "      <td>dhap</td>\n",
       "      <td>dhap</td>\n",
       "    </tr>\n",
       "    <tr>\n",
       "      <th>4</th>\n",
       "      <td>GA3P</td>\n",
       "      <td>Glyceraldehyde-3-phosphate</td>\n",
       "      <td>g3p</td>\n",
       "      <td>s_0764</td>\n",
       "      <td>g3p</td>\n",
       "      <td>g3p</td>\n",
       "    </tr>\n",
       "    <tr>\n",
       "      <th>5</th>\n",
       "      <td>23PG</td>\n",
       "      <td>2/3-phosphoglycerate</td>\n",
       "      <td>2pg, 3pg</td>\n",
       "      <td>s_0188, s_0260</td>\n",
       "      <td>2pg, 3pg</td>\n",
       "      <td>2pg, 3pg</td>\n",
       "    </tr>\n",
       "    <tr>\n",
       "      <th>6</th>\n",
       "      <td>PEP</td>\n",
       "      <td>Phosphoenolpyruvate</td>\n",
       "      <td>pep</td>\n",
       "      <td>s_1360</td>\n",
       "      <td>pep</td>\n",
       "      <td>pep</td>\n",
       "    </tr>\n",
       "    <tr>\n",
       "      <th>7</th>\n",
       "      <td>R5P</td>\n",
       "      <td>Ribose-5-phosphate</td>\n",
       "      <td>r5p</td>\n",
       "      <td>s_1408</td>\n",
       "      <td>r5p</td>\n",
       "      <td>r5p</td>\n",
       "    </tr>\n",
       "    <tr>\n",
       "      <th>8</th>\n",
       "      <td>RU5P+X5P</td>\n",
       "      <td>Ribu-/Xylulose-5-phosphate</td>\n",
       "      <td>ru5p__D, ru5p__L, xu5p__D, xu5p__L</td>\n",
       "      <td>s_0577, s_0581</td>\n",
       "      <td>ru5p__D, ru5p__L, xu5p__D</td>\n",
       "      <td>ru5p__D, xu5p__D</td>\n",
       "    </tr>\n",
       "    <tr>\n",
       "      <th>9</th>\n",
       "      <td>E4P</td>\n",
       "      <td>Erythrose-4-phosphate</td>\n",
       "      <td>e4p</td>\n",
       "      <td>s_0551</td>\n",
       "      <td>e4p</td>\n",
       "      <td>e4p</td>\n",
       "    </tr>\n",
       "    <tr>\n",
       "      <th>10</th>\n",
       "      <td>CIT</td>\n",
       "      <td>Citrate</td>\n",
       "      <td>cit</td>\n",
       "      <td>s_0522</td>\n",
       "      <td>cit</td>\n",
       "      <td>cit</td>\n",
       "    </tr>\n",
       "    <tr>\n",
       "      <th>11</th>\n",
       "      <td>ACN</td>\n",
       "      <td>Cis-aconitate</td>\n",
       "      <td>acon_C</td>\n",
       "      <td>s_0516</td>\n",
       "      <td>acon</td>\n",
       "      <td>acon_C</td>\n",
       "    </tr>\n",
       "    <tr>\n",
       "      <th>12</th>\n",
       "      <td>ICIT</td>\n",
       "      <td>Isocitrate</td>\n",
       "      <td>icit</td>\n",
       "      <td>s_0940</td>\n",
       "      <td>icit</td>\n",
       "      <td>icit</td>\n",
       "    </tr>\n",
       "    <tr>\n",
       "      <th>13</th>\n",
       "      <td>AKG MS</td>\n",
       "      <td>NaN</td>\n",
       "      <td>NaN</td>\n",
       "      <td>NaN</td>\n",
       "      <td>NaN</td>\n",
       "      <td>NaN</td>\n",
       "    </tr>\n",
       "    <tr>\n",
       "      <th>14</th>\n",
       "      <td>SUC</td>\n",
       "      <td>Succinate</td>\n",
       "      <td>succ</td>\n",
       "      <td>s_1458</td>\n",
       "      <td>succ</td>\n",
       "      <td>succ</td>\n",
       "    </tr>\n",
       "    <tr>\n",
       "      <th>15</th>\n",
       "      <td>FUM MS</td>\n",
       "      <td>NaN</td>\n",
       "      <td>NaN</td>\n",
       "      <td>NaN</td>\n",
       "      <td>NaN</td>\n",
       "      <td>NaN</td>\n",
       "    </tr>\n",
       "    <tr>\n",
       "      <th>16</th>\n",
       "      <td>OAS</td>\n",
       "      <td>Oxaloacetate</td>\n",
       "      <td>oaa</td>\n",
       "      <td>s_1271</td>\n",
       "      <td>oaa</td>\n",
       "      <td>oaa</td>\n",
       "    </tr>\n",
       "    <tr>\n",
       "      <th>17</th>\n",
       "      <td>GLU</td>\n",
       "      <td>Glutamate</td>\n",
       "      <td>glu__L</td>\n",
       "      <td>s_0991</td>\n",
       "      <td>glu__L</td>\n",
       "      <td>glu__L</td>\n",
       "    </tr>\n",
       "    <tr>\n",
       "      <th>18</th>\n",
       "      <td>SER</td>\n",
       "      <td>L-serine</td>\n",
       "      <td>ser__L</td>\n",
       "      <td>s_1039</td>\n",
       "      <td>ser__L</td>\n",
       "      <td>ser__L</td>\n",
       "    </tr>\n",
       "    <tr>\n",
       "      <th>19</th>\n",
       "      <td>ASP</td>\n",
       "      <td>Aspartate</td>\n",
       "      <td>asp__L</td>\n",
       "      <td>s_0973</td>\n",
       "      <td>asp__L</td>\n",
       "      <td>asp__L</td>\n",
       "    </tr>\n",
       "    <tr>\n",
       "      <th>20</th>\n",
       "      <td>THR</td>\n",
       "      <td>Threonine</td>\n",
       "      <td>thr__L</td>\n",
       "      <td>s_1045</td>\n",
       "      <td>thr__L</td>\n",
       "      <td>thr__L</td>\n",
       "    </tr>\n",
       "    <tr>\n",
       "      <th>21</th>\n",
       "      <td>HOM</td>\n",
       "      <td>Homoserine</td>\n",
       "      <td>hom__L</td>\n",
       "      <td>s_1014</td>\n",
       "      <td>hom__L</td>\n",
       "      <td>hom__L</td>\n",
       "    </tr>\n",
       "    <tr>\n",
       "      <th>22</th>\n",
       "      <td>TYR</td>\n",
       "      <td>Tyrosine</td>\n",
       "      <td>tyr__L</td>\n",
       "      <td>s_1051</td>\n",
       "      <td>tyr__L</td>\n",
       "      <td>tyr__L</td>\n",
       "    </tr>\n",
       "    <tr>\n",
       "      <th>23</th>\n",
       "      <td>GLY</td>\n",
       "      <td>Glycine</td>\n",
       "      <td>gly</td>\n",
       "      <td>s_1003</td>\n",
       "      <td>gly</td>\n",
       "      <td>gly</td>\n",
       "    </tr>\n",
       "    <tr>\n",
       "      <th>24</th>\n",
       "      <td>PRO</td>\n",
       "      <td>Proline</td>\n",
       "      <td>pro__L</td>\n",
       "      <td>s_1035</td>\n",
       "      <td>pro__L</td>\n",
       "      <td>pro__L</td>\n",
       "    </tr>\n",
       "    <tr>\n",
       "      <th>25</th>\n",
       "      <td>ALA</td>\n",
       "      <td>Alanine</td>\n",
       "      <td>ala__L</td>\n",
       "      <td>s_0955</td>\n",
       "      <td>ala__L</td>\n",
       "      <td>ala__L</td>\n",
       "    </tr>\n",
       "    <tr>\n",
       "      <th>26</th>\n",
       "      <td>MET</td>\n",
       "      <td>Methionine</td>\n",
       "      <td>met__L</td>\n",
       "      <td>s_1029</td>\n",
       "      <td>met__L</td>\n",
       "      <td>met__L</td>\n",
       "    </tr>\n",
       "    <tr>\n",
       "      <th>27</th>\n",
       "      <td>VAL</td>\n",
       "      <td>Valine</td>\n",
       "      <td>val__L</td>\n",
       "      <td>s_1056</td>\n",
       "      <td>val__L</td>\n",
       "      <td>val__L</td>\n",
       "    </tr>\n",
       "    <tr>\n",
       "      <th>28</th>\n",
       "      <td>LEU+ILEU</td>\n",
       "      <td>Leucine/Isoleucine</td>\n",
       "      <td>leu__L, ile__L</td>\n",
       "      <td>s_1021, s_1016</td>\n",
       "      <td>leu__L, ile__L</td>\n",
       "      <td>leu__L, ile__L</td>\n",
       "    </tr>\n",
       "    <tr>\n",
       "      <th>29</th>\n",
       "      <td>PHE</td>\n",
       "      <td>Phenylalanine</td>\n",
       "      <td>phe__L</td>\n",
       "      <td>s_1032</td>\n",
       "      <td>phe__L</td>\n",
       "      <td>phe__L</td>\n",
       "    </tr>\n",
       "    <tr>\n",
       "      <th>30</th>\n",
       "      <td>ILEU</td>\n",
       "      <td>Isoleucine</td>\n",
       "      <td>ile__L</td>\n",
       "      <td>s_1016</td>\n",
       "      <td>ile__L</td>\n",
       "      <td>ile__L</td>\n",
       "    </tr>\n",
       "    <tr>\n",
       "      <th>31</th>\n",
       "      <td>LEU</td>\n",
       "      <td>Leucine</td>\n",
       "      <td>leu__L</td>\n",
       "      <td>s_1021</td>\n",
       "      <td>leu__L</td>\n",
       "      <td>leu__L</td>\n",
       "    </tr>\n",
       "    <tr>\n",
       "      <th>32</th>\n",
       "      <td>TRP</td>\n",
       "      <td>Tryptophane</td>\n",
       "      <td>trp__L</td>\n",
       "      <td>s_1048</td>\n",
       "      <td>trp__L</td>\n",
       "      <td>trp__L</td>\n",
       "    </tr>\n",
       "    <tr>\n",
       "      <th>33</th>\n",
       "      <td>HIS</td>\n",
       "      <td>Histidine</td>\n",
       "      <td>his__L</td>\n",
       "      <td>s_1006</td>\n",
       "      <td>his__L</td>\n",
       "      <td>his__L</td>\n",
       "    </tr>\n",
       "    <tr>\n",
       "      <th>34</th>\n",
       "      <td>ARG</td>\n",
       "      <td>Arginine</td>\n",
       "      <td>arg__L</td>\n",
       "      <td>s_0965</td>\n",
       "      <td>arg__L</td>\n",
       "      <td>arg__L</td>\n",
       "    </tr>\n",
       "    <tr>\n",
       "      <th>35</th>\n",
       "      <td>PYR</td>\n",
       "      <td>Pyruvate</td>\n",
       "      <td>pyr</td>\n",
       "      <td>s_1399</td>\n",
       "      <td>pyr</td>\n",
       "      <td>pyr</td>\n",
       "    </tr>\n",
       "    <tr>\n",
       "      <th>36</th>\n",
       "      <td>ORO</td>\n",
       "      <td>Orotate</td>\n",
       "      <td>orot</td>\n",
       "      <td>s_1269</td>\n",
       "      <td>orot</td>\n",
       "      <td>orot</td>\n",
       "    </tr>\n",
       "    <tr>\n",
       "      <th>37</th>\n",
       "      <td>FUM</td>\n",
       "      <td>Fumarate</td>\n",
       "      <td>fum</td>\n",
       "      <td>s_0725</td>\n",
       "      <td>fum</td>\n",
       "      <td>fum</td>\n",
       "    </tr>\n",
       "    <tr>\n",
       "      <th>38</th>\n",
       "      <td>URA</td>\n",
       "      <td>Uracil</td>\n",
       "      <td>ura</td>\n",
       "      <td>s_1550</td>\n",
       "      <td>ura</td>\n",
       "      <td>ura</td>\n",
       "    </tr>\n",
       "    <tr>\n",
       "      <th>39</th>\n",
       "      <td>AKG</td>\n",
       "      <td>alpha-ketoglutarate</td>\n",
       "      <td>akg</td>\n",
       "      <td>s_0180</td>\n",
       "      <td>akg</td>\n",
       "      <td>akg</td>\n",
       "    </tr>\n",
       "    <tr>\n",
       "      <th>40</th>\n",
       "      <td>ACT</td>\n",
       "      <td>Acetate</td>\n",
       "      <td>ac</td>\n",
       "      <td>s_0362</td>\n",
       "      <td>ac</td>\n",
       "      <td>ac</td>\n",
       "    </tr>\n",
       "    <tr>\n",
       "      <th>41</th>\n",
       "      <td>LYS</td>\n",
       "      <td>Lysine</td>\n",
       "      <td>lys__L</td>\n",
       "      <td>s_1025</td>\n",
       "      <td>lys__L</td>\n",
       "      <td>lys__L</td>\n",
       "    </tr>\n",
       "    <tr>\n",
       "      <th>42</th>\n",
       "      <td>GLN</td>\n",
       "      <td>Glutamine</td>\n",
       "      <td>gln__L</td>\n",
       "      <td>s_0999</td>\n",
       "      <td>gln__L</td>\n",
       "      <td>gln__L</td>\n",
       "    </tr>\n",
       "    <tr>\n",
       "      <th>43</th>\n",
       "      <td>ETH</td>\n",
       "      <td>Ethanol</td>\n",
       "      <td>etoh</td>\n",
       "      <td>s_0680</td>\n",
       "      <td>etoh</td>\n",
       "      <td>etoh</td>\n",
       "    </tr>\n",
       "    <tr>\n",
       "      <th>44</th>\n",
       "      <td>ASN</td>\n",
       "      <td>Asparagine</td>\n",
       "      <td>asn__L</td>\n",
       "      <td>s_0969</td>\n",
       "      <td>asn__L</td>\n",
       "      <td>asn__L</td>\n",
       "    </tr>\n",
       "    <tr>\n",
       "      <th>45</th>\n",
       "      <td>SHI</td>\n",
       "      <td>Shikimate</td>\n",
       "      <td>skm</td>\n",
       "      <td>s_1429</td>\n",
       "      <td>skm</td>\n",
       "      <td>skm</td>\n",
       "    </tr>\n",
       "    <tr>\n",
       "      <th>46</th>\n",
       "      <td>PYR MS\\t\\t\\t</td>\n",
       "      <td>NaN</td>\n",
       "      <td>NaN</td>\n",
       "      <td>NaN</td>\n",
       "      <td>NaN</td>\n",
       "      <td>NaN</td>\n",
       "    </tr>\n",
       "    <tr>\n",
       "      <th>47</th>\n",
       "      <td>S7P</td>\n",
       "      <td>Sedoheptulose 7-phosphate</td>\n",
       "      <td>s7p</td>\n",
       "      <td>s_1427</td>\n",
       "      <td>s7p</td>\n",
       "      <td>s7p</td>\n",
       "    </tr>\n",
       "  </tbody>\n",
       "</table>\n",
       "</div>"
      ],
      "text/plain": [
       "    Abbreviation             Metabolite name  \\\n",
       "0            G6P         Glucose-6-phosphate   \n",
       "1            F6P        Fructose-6-phosphate   \n",
       "2            FBP   Fructose-1,6-bisphosphate   \n",
       "3           DHAP   Dihydroxyacetonephosphate   \n",
       "4           GA3P  Glyceraldehyde-3-phosphate   \n",
       "5           23PG        2/3-phosphoglycerate   \n",
       "6            PEP         Phosphoenolpyruvate   \n",
       "7            R5P          Ribose-5-phosphate   \n",
       "8       RU5P+X5P  Ribu-/Xylulose-5-phosphate   \n",
       "9            E4P       Erythrose-4-phosphate   \n",
       "10           CIT                     Citrate   \n",
       "11           ACN               Cis-aconitate   \n",
       "12          ICIT                  Isocitrate   \n",
       "13        AKG MS                         NaN   \n",
       "14           SUC                   Succinate   \n",
       "15        FUM MS                         NaN   \n",
       "16           OAS                Oxaloacetate   \n",
       "17           GLU                   Glutamate   \n",
       "18           SER                    L-serine   \n",
       "19           ASP                   Aspartate   \n",
       "20           THR                   Threonine   \n",
       "21           HOM                  Homoserine   \n",
       "22           TYR                    Tyrosine   \n",
       "23           GLY                     Glycine   \n",
       "24           PRO                     Proline   \n",
       "25           ALA                     Alanine   \n",
       "26           MET                  Methionine   \n",
       "27           VAL                      Valine   \n",
       "28      LEU+ILEU          Leucine/Isoleucine   \n",
       "29           PHE               Phenylalanine   \n",
       "30          ILEU                  Isoleucine   \n",
       "31           LEU                     Leucine   \n",
       "32           TRP                 Tryptophane   \n",
       "33           HIS                   Histidine   \n",
       "34           ARG                    Arginine   \n",
       "35           PYR                    Pyruvate   \n",
       "36           ORO                     Orotate   \n",
       "37           FUM                    Fumarate   \n",
       "38           URA                      Uracil   \n",
       "39           AKG         alpha-ketoglutarate   \n",
       "40           ACT                     Acetate   \n",
       "41           LYS                      Lysine   \n",
       "42           GLN                   Glutamine   \n",
       "43           ETH                     Ethanol   \n",
       "44           ASN                  Asparagine   \n",
       "45           SHI                   Shikimate   \n",
       "46  PYR MS\\t\\t\\t                         NaN   \n",
       "47           S7P   Sedoheptulose 7-phosphate   \n",
       "\n",
       "                      Ecoli metabolite Yeast metabolite  \\\n",
       "0                                  g6p           s_0568   \n",
       "1                                  f6p           s_0557   \n",
       "2                                  fdp           s_0555   \n",
       "3                                 dhap           s_0629   \n",
       "4                                  g3p           s_0764   \n",
       "5                             2pg, 3pg   s_0188, s_0260   \n",
       "6                                  pep           s_1360   \n",
       "7                                  r5p           s_1408   \n",
       "8   ru5p__D, ru5p__L, xu5p__D, xu5p__L   s_0577, s_0581   \n",
       "9                                  e4p           s_0551   \n",
       "10                                 cit           s_0522   \n",
       "11                              acon_C           s_0516   \n",
       "12                                icit           s_0940   \n",
       "13                                 NaN              NaN   \n",
       "14                                succ           s_1458   \n",
       "15                                 NaN              NaN   \n",
       "16                                 oaa           s_1271   \n",
       "17                              glu__L           s_0991   \n",
       "18                              ser__L           s_1039   \n",
       "19                              asp__L           s_0973   \n",
       "20                              thr__L           s_1045   \n",
       "21                              hom__L           s_1014   \n",
       "22                              tyr__L           s_1051   \n",
       "23                                 gly           s_1003   \n",
       "24                              pro__L           s_1035   \n",
       "25                              ala__L           s_0955   \n",
       "26                              met__L           s_1029   \n",
       "27                              val__L           s_1056   \n",
       "28                      leu__L, ile__L   s_1021, s_1016   \n",
       "29                              phe__L           s_1032   \n",
       "30                              ile__L           s_1016   \n",
       "31                              leu__L           s_1021   \n",
       "32                              trp__L           s_1048   \n",
       "33                              his__L           s_1006   \n",
       "34                              arg__L           s_0965   \n",
       "35                                 pyr           s_1399   \n",
       "36                                orot           s_1269   \n",
       "37                                 fum           s_0725   \n",
       "38                                 ura           s_1550   \n",
       "39                                 akg           s_0180   \n",
       "40                                  ac           s_0362   \n",
       "41                              lys__L           s_1025   \n",
       "42                              gln__L           s_0999   \n",
       "43                                etoh           s_0680   \n",
       "44                              asn__L           s_0969   \n",
       "45                                 skm           s_1429   \n",
       "46                                 NaN              NaN   \n",
       "47                                 s7p           s_1427   \n",
       "\n",
       "          Bacillus metabolite Cglutamicum metabolite  \n",
       "0                       g6p_A                    g6p  \n",
       "1                       f6p_B                    f6p  \n",
       "2                       fdp_B                    fdp  \n",
       "3                        dhap                   dhap  \n",
       "4                         g3p                    g3p  \n",
       "5                    2pg, 3pg               2pg, 3pg  \n",
       "6                         pep                    pep  \n",
       "7                         r5p                    r5p  \n",
       "8   ru5p__D, ru5p__L, xu5p__D       ru5p__D, xu5p__D  \n",
       "9                         e4p                    e4p  \n",
       "10                        cit                    cit  \n",
       "11                       acon                 acon_C  \n",
       "12                       icit                   icit  \n",
       "13                        NaN                    NaN  \n",
       "14                       succ                   succ  \n",
       "15                        NaN                    NaN  \n",
       "16                        oaa                    oaa  \n",
       "17                     glu__L                 glu__L  \n",
       "18                     ser__L                 ser__L  \n",
       "19                     asp__L                 asp__L  \n",
       "20                     thr__L                 thr__L  \n",
       "21                     hom__L                 hom__L  \n",
       "22                     tyr__L                 tyr__L  \n",
       "23                        gly                    gly  \n",
       "24                     pro__L                 pro__L  \n",
       "25                     ala__L                 ala__L  \n",
       "26                     met__L                 met__L  \n",
       "27                     val__L                 val__L  \n",
       "28             leu__L, ile__L         leu__L, ile__L  \n",
       "29                     phe__L                 phe__L  \n",
       "30                     ile__L                 ile__L  \n",
       "31                     leu__L                 leu__L  \n",
       "32                     trp__L                 trp__L  \n",
       "33                     his__L                 his__L  \n",
       "34                     arg__L                 arg__L  \n",
       "35                        pyr                    pyr  \n",
       "36                       orot                   orot  \n",
       "37                        fum                    fum  \n",
       "38                        ura                    ura  \n",
       "39                        akg                    akg  \n",
       "40                         ac                     ac  \n",
       "41                     lys__L                 lys__L  \n",
       "42                     gln__L                 gln__L  \n",
       "43                       etoh                   etoh  \n",
       "44                     asn__L                 asn__L  \n",
       "45                        skm                    skm  \n",
       "46                        NaN                    NaN  \n",
       "47                        s7p                    s7p  "
      ]
     },
     "execution_count": 6,
     "metadata": {},
     "output_type": "execute_result"
    }
   ],
   "source": [
    "mapping_df"
   ]
  },
  {
   "cell_type": "code",
   "execution_count": 10,
   "id": "5a2ed4d4-9db2-4b12-8059-9cff8f114442",
   "metadata": {
    "execution": {
     "iopub.execute_input": "2024-08-27T20:52:31.506237Z",
     "iopub.status.busy": "2024-08-27T20:52:31.505765Z",
     "iopub.status.idle": "2024-08-27T20:52:31.515446Z",
     "shell.execute_reply": "2024-08-27T20:52:31.514387Z",
     "shell.execute_reply.started": "2024-08-27T20:52:31.506208Z"
    }
   },
   "outputs": [],
   "source": [
    "met_info_df = mapping_df[[\"Metabolite name\", \"Ecoli metabolite\"]]\n"
   ]
  },
  {
   "cell_type": "code",
   "execution_count": 11,
   "id": "03f69903-99fd-473a-897b-4e55858522fd",
   "metadata": {
    "execution": {
     "iopub.execute_input": "2024-08-27T20:52:32.981641Z",
     "iopub.status.busy": "2024-08-27T20:52:32.981121Z",
     "iopub.status.idle": "2024-08-27T20:52:33.001159Z",
     "shell.execute_reply": "2024-08-27T20:52:33.000363Z",
     "shell.execute_reply.started": "2024-08-27T20:52:32.981613Z"
    }
   },
   "outputs": [],
   "source": [
    "met_info_df = pd.merge(met_info_df, measurements, on = \"Metabolite name\")"
   ]
  },
  {
   "cell_type": "code",
   "execution_count": 68,
   "id": "b1baed06-33e9-4cc0-a3f6-61a5e2d1652b",
   "metadata": {
    "execution": {
     "iopub.execute_input": "2024-08-27T21:54:46.741192Z",
     "iopub.status.busy": "2024-08-27T21:54:46.740676Z",
     "iopub.status.idle": "2024-08-27T21:54:46.753115Z",
     "shell.execute_reply": "2024-08-27T21:54:46.752058Z",
     "shell.execute_reply.started": "2024-08-27T21:54:46.741162Z"
    }
   },
   "outputs": [],
   "source": [
    "def get_polarity_from_pubchem(m):\n",
    "    print(m.name)\n",
    "    compounds = pcp.get_compounds(m.name, \"name\")\n",
    "    if len(compounds) > 1:\n",
    "        print([c.tpsa for c in compounds])\n",
    "    elif not len(compounds): \n",
    "        print(\"No tpsa found for {0}\".format(m.name))\n",
    "        return np.nan\n",
    "    c = compounds[0]\n",
    "    print(c.synonyms[:2], c.tpsa)\n",
    "    return c.tpsa\n",
    "\n",
    "def get_pubchem_data(name):\n",
    "    compounds = pcp.get_compounds(name, \"name\")\n",
    "    if len(compounds) > 1:\n",
    "        print([(c.synonyms[0], c.tpsa) for c in compounds])\n",
    "    elif not len(compounds): \n",
    "        print(\"No tpsa found for {0}\".format(name))\n",
    "        return np.nan, np.nan, np.nan, np.nan, np.nan, np.nan, np.nan\n",
    "    c = compounds[0]\n",
    "    print(name, c.synonyms[:2], len(compounds))\n",
    "    return c.h_bond_donor_count, c.h_bond_acceptor_count, c.rotatable_bond_count, c.cid, c.tpsa, c.charge, c.xlogp\n",
    "    "
   ]
  },
  {
   "cell_type": "code",
   "execution_count": 48,
   "id": "12f327a1-11c9-4db3-b2f7-2ea778758224",
   "metadata": {
    "execution": {
     "iopub.execute_input": "2024-08-27T21:41:58.410762Z",
     "iopub.status.busy": "2024-08-27T21:41:58.410284Z",
     "iopub.status.idle": "2024-08-27T21:41:58.416162Z",
     "shell.execute_reply": "2024-08-27T21:41:58.415386Z",
     "shell.execute_reply.started": "2024-08-27T21:41:58.410734Z"
    }
   },
   "outputs": [
    {
     "data": {
      "text/plain": [
       "0"
      ]
     },
     "execution_count": 48,
     "metadata": {},
     "output_type": "execute_result"
    }
   ],
   "source": [
    "c.charge\n"
   ]
  },
  {
   "cell_type": "markdown",
   "id": "e4ae901b-2a02-4536-abd5-8af77bb4988d",
   "metadata": {},
   "source": [
    "# Update on August 2024"
   ]
  },
  {
   "cell_type": "code",
   "execution_count": 93,
   "id": "7a16f1ec-ea47-4f31-afca-9a748cacb79f",
   "metadata": {
    "execution": {
     "iopub.execute_input": "2024-09-24T10:29:54.411118Z",
     "iopub.status.busy": "2024-09-24T10:29:54.409971Z",
     "iopub.status.idle": "2024-09-24T10:29:54.427938Z",
     "shell.execute_reply": "2024-09-24T10:29:54.427281Z",
     "shell.execute_reply.started": "2024-09-24T10:29:54.411050Z"
    }
   },
   "outputs": [],
   "source": [
    "met_info_3 = pd.read_csv('../data/met_info_3.csv')\n"
   ]
  },
  {
   "cell_type": "code",
   "execution_count": 94,
   "id": "584c6d3c-a8a8-45a4-8f42-195017541a0e",
   "metadata": {
    "execution": {
     "iopub.execute_input": "2024-09-24T10:29:54.859927Z",
     "iopub.status.busy": "2024-09-24T10:29:54.859046Z",
     "iopub.status.idle": "2024-09-24T10:29:54.869816Z",
     "shell.execute_reply": "2024-09-24T10:29:54.868600Z",
     "shell.execute_reply.started": "2024-09-24T10:29:54.859861Z"
    }
   },
   "outputs": [
    {
     "data": {
      "text/plain": [
       "Mass                               180.15588\n",
       "Metabolite id                            NaN\n",
       "Charge                                   NaN\n",
       "Phosphate                                NaN\n",
       "Intracellular concentration [M]          NaN\n",
       "Compound class                         Other\n",
       "Ref                                      NaN\n",
       "Comment                                  NaN\n",
       "Hydrogen Bond Donor Count                NaN\n",
       "Hydrogen Bond Acceptor Count             NaN\n",
       "Rotatable Bond Count                     NaN\n",
       "Topological Polar Surface Area           NaN\n",
       "Charge (pubchem)                         NaN\n",
       "xlogP                                    NaN\n",
       "pubchem id                               NaN\n",
       "Name: Hexoses, dtype: object"
      ]
     },
     "execution_count": 94,
     "metadata": {},
     "output_type": "execute_result"
    }
   ],
   "source": [
    "row"
   ]
  },
  {
   "cell_type": "code",
   "execution_count": 95,
   "id": "a814bd82-52ca-4d63-a386-72b1cf46d433",
   "metadata": {
    "execution": {
     "iopub.execute_input": "2024-09-24T10:29:56.496224Z",
     "iopub.status.busy": "2024-09-24T10:29:56.495396Z",
     "iopub.status.idle": "2024-09-24T10:31:08.727783Z",
     "shell.execute_reply": "2024-09-24T10:31:08.727084Z",
     "shell.execute_reply.started": "2024-09-24T10:29:56.496158Z"
    }
   },
   "outputs": [
    {
     "name": "stdout",
     "output_type": "stream",
     "text": [
      "2-phosphoglycerate ['2-phosphoglyceric acid', '2-phosphoglycerate'] 1\n",
      "3-phosphoglycerate ['3-phosphoglycerate', 'glycerate 3-phosphate'] 1\n",
      "Acetate ['acetate', 'Acetate Ion'] 1\n",
      "[('L-alanine', 63.3), ('DL-ALANINE', 63.3), ('D-alanine', 63.3)]\n",
      "Alanine ['L-alanine', '56-41-7'] 3\n",
      "[('2-Aminohexanedioic acid', 101), ('2-aminoadipate(2-)', 106)]\n",
      "Alpha-aminoadipate ['2-Aminohexanedioic acid', '542-32-5'] 2\n",
      "Alpha-aminobutyrate ['alpha-aminobutyrate', '2-aminobutyrate'] 1\n",
      "[('2-ketoglutaric acid', 91.7), ('alpha-ketoglutarate', 97.3)]\n",
      "Alpha-ketoglutarate ['2-ketoglutaric acid', '2-Oxopentanedioic acid'] 2\n",
      "Arginine ['L-arginine', 'arginine'] 1\n",
      "Asparagine ['L-asparagine', 'asparagine'] 1\n",
      "[('L-aspartic acid', 101), ('(2S)-2-aminobutanedioate', 106), ('(2S)-2-ammoniobutanedioate', 108)]\n",
      "Aspartate ['L-aspartic acid', 'aspartic acid'] 3\n",
      "Beta-alanine ['beta-alanine', '3-Aminopropanoic acid'] 1\n",
      "Cis-aconitate ['cis-Aconitic acid', '585-84-2'] 1\n",
      "Citrate ['126-44-3', 'Citrate'] 1\n",
      "Creatine ['creatine', '57-00-1'] 1\n",
      "Dihydroxyacetone phosphate ['DIHYDROXYACETONE PHOSPHATE', '57-04-5'] 1\n",
      "Erythrose-4-phosphate ['D-Erythrose 4-phosphate', 'erythrose 4-phosphate'] 1\n",
      "Ethanol ['ethanol', 'ethyl alcohol'] 1\n",
      "[('beta-D-Fructose 1,6-bisphosphate', 203), ('fructose-1,6-bisphosphate', 209), ('D-fructofuranose 1,6-bisphosphate', 203), ('ANW5CM3PJ7', 203)]\n",
      "Fructose-1,6-bisphosphate ['beta-D-Fructose 1,6-bisphosphate', '1,6-di-O-phosphono-beta-D-fructofuranose'] 4\n",
      "Fructose-1,6-bisphosphate !! 203 215.0\n",
      "Fructose-6-phosphate ['fructose-6-phosphate', 'Fructose 6-Phosphate'] 1\n",
      "[('fumarate', 80.3), ('fumaric acid', 74.6)]\n",
      "Fumarate ['fumarate', 'Fumarate(2-)'] 2\n",
      "[('4-aminobutyric acid', 63.3), ('4-aminobutanoate', 66.2), ('4-azaniumylbutanoate', 67.8)]\n",
      "Gamma-aminobutyrate ['4-aminobutyric acid', '4-Aminobutanoic acid'] 3\n",
      "Gamma-aminobutyrate !! 63.3 67.8\n",
      "Glucose-6-phosphate ['Glucose 6-phosphate', 'Robison ester'] 1\n",
      "Glucose-6-phosphate !! 157 165.0\n",
      "[('L-glutamic acid', 101), ('L-Glutamate ion', 103), ('DL-Glutamic acid', 101), ('2-azaniumylpentanedioate', 108), ('glutamate(2-)', 106), ('D-glutamic acid', 101), ('glutamate', 103), ('L-glutamate(2-)', 106)]\n",
      "Glutamate ['L-glutamic acid', 'GLUTAMIC ACID'] 8\n",
      "Glutamine ['L-glutamine', 'glutamine'] 1\n",
      "Glutarate ['GLUTARIC ACID', 'Pentanedioic acid'] 1\n",
      "[('d-glyceraldehyde 3-phosphate', 104), ('DL-Glyceraldehyde 3-phosphate', 104)]\n",
      "Glyceraldehyde-3-phosphate ['d-glyceraldehyde 3-phosphate', '591-57-1'] 2\n",
      "Glycine ['glycine', '56-40-6'] 1\n",
      "Hexoses ['2,3,4,5,6-pentahydroxyhexanal', 'Mannose, D-'] 1\n",
      "Hexoses !! 118 nan\n",
      "Histidine ['L-histidine', 'histidine'] 1\n",
      "[('DL-Homoserine', 83.6), ('L-homoserine', 83.6), ('D-Homoserine', 83.6)]\n",
      "Homoserine ['DL-Homoserine', '1927-25-9'] 3\n",
      "Isocitrate ['isocitric acid', 'isocitrate'] 1\n",
      "Isoleucine ['l-isoleucine', 'Isoleucine'] 1\n",
      "[('lactate', 60.4), ('lactic acid', 57.5)]\n",
      "Lactate ['lactate', '2-hydroxypropanoate'] 2\n",
      "Leucine ['L-leucine', 'leucine'] 1\n",
      "Lysine ['L-lysine', 'lysine'] 1\n",
      "[('malic acid', 94.8), ('malate', 101)]\n",
      "Malate ['malic acid', 'DL-malic acid'] 2\n",
      "[('L-methionine', 88.6), ('DL-METHIONINE', 88.6), ('D-Methionine', 88.6)]\n",
      "Methionine ['L-methionine', '63-68-3'] 3\n",
      "NAD ['nadide', '53-84-9'] 1\n",
      "[('orotate', 98.3), ('Orotic acid', 95.5)]\n",
      "Orotate ['orotate', '73-97-2'] 2\n",
      "Oxaloacetate ['oxalacetic acid', 'oxaloacetic acid'] 1\n",
      "Phenylalanine ['L-phenylalanine', 'phenylalanine'] 1\n",
      "Phosphoenolpyruvate ['phosphoenolpyruvate', 'Phosphoenolpyruvic acid'] 1\n",
      "Pipecolic acid ['piperidine-2-carboxylic acid', 'DL-Pipecolinic acid'] 1\n",
      "[('L-proline', 49.3), ('L-prolinium', 53.9), ('L-Pro', 56.7)]\n",
      "Proline ['L-proline', '147-85-3'] 3\n",
      "Pyruvate ['pyruvate', '2-Oxopropanoate'] 1\n",
      "Ribose-5-phosphate ['ribose-5-phosphate', 'Ribose 5-phosphate'] 1\n",
      "Ribose-5-phosphate !! 145 137.0\n",
      "Ribulose-5-phosphate ['D-Ribulose 5-phosphate', 'ribulose 5-phosphate'] 1\n",
      "Sedoheptulose 7-phosphate ['Sedoheptulose 7-phosphate', '2646-35-7'] 1\n",
      "Serine ['L-serine', 'serine'] 1\n",
      "Shikimate ['shikimic acid', '138-59-0'] 1\n",
      "Succinate ['succinate', 'Butanedioate'] 1\n",
      "Succinate !! 80.3 74.6\n",
      "Threonine ['L-threonine', 'threonine'] 1\n",
      "[('trans-Aconitic acid', 112), ('trans-aconitate(3-)', 120)]\n",
      "Trans-aconitate ['trans-Aconitic acid', '4023-65-8'] 2\n",
      "Tryptophan ['L-tryptophan', 'tryptophan'] 1\n",
      "Tyrosine ['L-tyrosine', 'tyrosine'] 1\n",
      "Uracil ['uracil', '66-22-8'] 1\n",
      "Valine ['L-valine', 'valine'] 1\n",
      "[('D-Xylulose 5-phosphate', 145), ('xylulose-5-phosphate', 147)]\n",
      "Xylulose-5-phosphate ['D-Xylulose 5-phosphate', '4212-65-1'] 2\n",
      "Adenosine ['adenosine', '58-61-7'] 1\n",
      "Adenosine !! 140 nan\n",
      "[('L-cysteine', 64.3), ('cysteine', 68.8), ('L-Cysteine hydrochloride', 64.3), ('cysteine', 64.3), ('L-cysteinium', 65.9)]\n",
      "Cysteine ['L-cysteine', '52-90-4'] 5\n",
      "Cysteine !! 64.3 nan\n",
      "[('D-(-)-Arabinose', 98), ('DL-Arabinose', 98)]\n",
      "D-arabinose ['D-(-)-Arabinose', 'D-arabinose'] 2\n",
      "D-arabinose !! 98 nan\n",
      "D-Glucose ['D-Glc', 'D-Glucopyranose'] 1\n",
      "D-Glucose !! 110 nan\n",
      "D-xylose ['D-Xyl', 'D-Xylopyranose'] 1\n",
      "D-xylose !! 90.2 nan\n",
      "Formate ['formate', 'Formic acid, ion(1-)'] 1\n",
      "Formate !! 40.1 nan\n",
      "Glycerol ['glycerol', 'glycerin'] 1\n",
      "Glycerol !! 60.7 nan\n",
      "Inosine ['inosine', '58-63-9'] 1\n",
      "Inosine !! 129 nan\n",
      "L-Alanine ['L-alanine', '56-41-7'] 1\n",
      "L-Alanine !! 63.3 nan\n"
     ]
    },
    {
     "ename": "KeyboardInterrupt",
     "evalue": "",
     "output_type": "error",
     "traceback": [
      "\u001b[0;31m---------------------------------------------------------------------------\u001b[0m",
      "\u001b[0;31mKeyboardInterrupt\u001b[0m                         Traceback (most recent call last)",
      "Cell \u001b[0;32mIn[95], line 4\u001b[0m\n\u001b[1;32m      2\u001b[0m \u001b[38;5;28;01mfor\u001b[39;00m i, row \u001b[38;5;129;01min\u001b[39;00m met_info_3\u001b[38;5;241m.\u001b[39miterrows():\n\u001b[1;32m      3\u001b[0m     name \u001b[38;5;241m=\u001b[39m row[\u001b[38;5;124m'\u001b[39m\u001b[38;5;124mMetabolite\u001b[39m\u001b[38;5;124m'\u001b[39m]\n\u001b[0;32m----> 4\u001b[0m     donor, acceptor, rotatable, cid, tpsa, charge, xlogp \u001b[38;5;241m=\u001b[39m \u001b[43mget_pubchem_data\u001b[49m\u001b[43m(\u001b[49m\u001b[43mname\u001b[49m\u001b[43m)\u001b[49m\n\u001b[1;32m      5\u001b[0m     \u001b[38;5;28;01mif\u001b[39;00m tpsa \u001b[38;5;241m!=\u001b[39m row[\u001b[38;5;124m'\u001b[39m\u001b[38;5;124mTopological Polar Surface Area []\u001b[39m\u001b[38;5;124m'\u001b[39m]:\n\u001b[1;32m      6\u001b[0m         \u001b[38;5;28mprint\u001b[39m(name, \u001b[38;5;124m\"\u001b[39m\u001b[38;5;124m!!\u001b[39m\u001b[38;5;124m\"\u001b[39m, tpsa, row[\u001b[38;5;124m'\u001b[39m\u001b[38;5;124mTopological Polar Surface Area []\u001b[39m\u001b[38;5;124m'\u001b[39m])\n",
      "Cell \u001b[0;32mIn[68], line 14\u001b[0m, in \u001b[0;36mget_pubchem_data\u001b[0;34m(name)\u001b[0m\n\u001b[1;32m     13\u001b[0m \u001b[38;5;28;01mdef\u001b[39;00m \u001b[38;5;21mget_pubchem_data\u001b[39m(name):\n\u001b[0;32m---> 14\u001b[0m     compounds \u001b[38;5;241m=\u001b[39m \u001b[43mpcp\u001b[49m\u001b[38;5;241;43m.\u001b[39;49m\u001b[43mget_compounds\u001b[49m\u001b[43m(\u001b[49m\u001b[43mname\u001b[49m\u001b[43m,\u001b[49m\u001b[43m \u001b[49m\u001b[38;5;124;43m\"\u001b[39;49m\u001b[38;5;124;43mname\u001b[39;49m\u001b[38;5;124;43m\"\u001b[39;49m\u001b[43m)\u001b[49m\n\u001b[1;32m     15\u001b[0m     \u001b[38;5;28;01mif\u001b[39;00m \u001b[38;5;28mlen\u001b[39m(compounds) \u001b[38;5;241m>\u001b[39m \u001b[38;5;241m1\u001b[39m:\n\u001b[1;32m     16\u001b[0m         \u001b[38;5;28mprint\u001b[39m([(c\u001b[38;5;241m.\u001b[39msynonyms[\u001b[38;5;241m0\u001b[39m], c\u001b[38;5;241m.\u001b[39mtpsa) \u001b[38;5;28;01mfor\u001b[39;00m c \u001b[38;5;129;01min\u001b[39;00m compounds])\n",
      "File \u001b[0;32m~/anaconda3/envs/pandas2/lib/python3.12/site-packages/pubchempy.py:321\u001b[0m, in \u001b[0;36mget_compounds\u001b[0;34m(identifier, namespace, searchtype, as_dataframe, **kwargs)\u001b[0m\n\u001b[1;32m    312\u001b[0m \u001b[38;5;28;01mdef\u001b[39;00m \u001b[38;5;21mget_compounds\u001b[39m(identifier, namespace\u001b[38;5;241m=\u001b[39m\u001b[38;5;124m'\u001b[39m\u001b[38;5;124mcid\u001b[39m\u001b[38;5;124m'\u001b[39m, searchtype\u001b[38;5;241m=\u001b[39m\u001b[38;5;28;01mNone\u001b[39;00m, as_dataframe\u001b[38;5;241m=\u001b[39m\u001b[38;5;28;01mFalse\u001b[39;00m, \u001b[38;5;241m*\u001b[39m\u001b[38;5;241m*\u001b[39mkwargs):\n\u001b[1;32m    313\u001b[0m \u001b[38;5;250m    \u001b[39m\u001b[38;5;124;03m\"\"\"Retrieve the specified compound records from PubChem.\u001b[39;00m\n\u001b[1;32m    314\u001b[0m \n\u001b[1;32m    315\u001b[0m \u001b[38;5;124;03m    :param identifier: The compound identifier to use as a search query.\u001b[39;00m\n\u001b[0;32m   (...)\u001b[0m\n\u001b[1;32m    319\u001b[0m \u001b[38;5;124;03m                         :class:`~pandas.DataFrame` and return that.\u001b[39;00m\n\u001b[1;32m    320\u001b[0m \u001b[38;5;124;03m    \"\"\"\u001b[39;00m\n\u001b[0;32m--> 321\u001b[0m     results \u001b[38;5;241m=\u001b[39m \u001b[43mget_json\u001b[49m\u001b[43m(\u001b[49m\u001b[43midentifier\u001b[49m\u001b[43m,\u001b[49m\u001b[43m \u001b[49m\u001b[43mnamespace\u001b[49m\u001b[43m,\u001b[49m\u001b[43m \u001b[49m\u001b[43msearchtype\u001b[49m\u001b[38;5;241;43m=\u001b[39;49m\u001b[43msearchtype\u001b[49m\u001b[43m,\u001b[49m\u001b[43m \u001b[49m\u001b[38;5;241;43m*\u001b[39;49m\u001b[38;5;241;43m*\u001b[39;49m\u001b[43mkwargs\u001b[49m\u001b[43m)\u001b[49m\n\u001b[1;32m    322\u001b[0m     compounds \u001b[38;5;241m=\u001b[39m [Compound(r) \u001b[38;5;28;01mfor\u001b[39;00m r \u001b[38;5;129;01min\u001b[39;00m results[\u001b[38;5;124m'\u001b[39m\u001b[38;5;124mPC_Compounds\u001b[39m\u001b[38;5;124m'\u001b[39m]] \u001b[38;5;28;01mif\u001b[39;00m results \u001b[38;5;28;01melse\u001b[39;00m []\n\u001b[1;32m    323\u001b[0m     \u001b[38;5;28;01mif\u001b[39;00m as_dataframe:\n",
      "File \u001b[0;32m~/anaconda3/envs/pandas2/lib/python3.12/site-packages/pubchempy.py:299\u001b[0m, in \u001b[0;36mget_json\u001b[0;34m(identifier, namespace, domain, operation, searchtype, **kwargs)\u001b[0m\n\u001b[1;32m    297\u001b[0m \u001b[38;5;250m\u001b[39m\u001b[38;5;124;03m\"\"\"Request wrapper that automatically parses JSON response and supresses NotFoundError.\"\"\"\u001b[39;00m\n\u001b[1;32m    298\u001b[0m \u001b[38;5;28;01mtry\u001b[39;00m:\n\u001b[0;32m--> 299\u001b[0m     \u001b[38;5;28;01mreturn\u001b[39;00m json\u001b[38;5;241m.\u001b[39mloads(\u001b[43mget\u001b[49m\u001b[43m(\u001b[49m\u001b[43midentifier\u001b[49m\u001b[43m,\u001b[49m\u001b[43m \u001b[49m\u001b[43mnamespace\u001b[49m\u001b[43m,\u001b[49m\u001b[43m \u001b[49m\u001b[43mdomain\u001b[49m\u001b[43m,\u001b[49m\u001b[43m \u001b[49m\u001b[43moperation\u001b[49m\u001b[43m,\u001b[49m\u001b[43m \u001b[49m\u001b[38;5;124;43m'\u001b[39;49m\u001b[38;5;124;43mJSON\u001b[39;49m\u001b[38;5;124;43m'\u001b[39;49m\u001b[43m,\u001b[49m\u001b[43m \u001b[49m\u001b[43msearchtype\u001b[49m\u001b[43m,\u001b[49m\u001b[43m \u001b[49m\u001b[38;5;241;43m*\u001b[39;49m\u001b[38;5;241;43m*\u001b[39;49m\u001b[43mkwargs\u001b[49m\u001b[43m)\u001b[49m\u001b[38;5;241m.\u001b[39mdecode())\n\u001b[1;32m    300\u001b[0m \u001b[38;5;28;01mexcept\u001b[39;00m NotFoundError \u001b[38;5;28;01mas\u001b[39;00m e:\n\u001b[1;32m    301\u001b[0m     log\u001b[38;5;241m.\u001b[39minfo(e)\n",
      "File \u001b[0;32m~/anaconda3/envs/pandas2/lib/python3.12/site-packages/pubchempy.py:292\u001b[0m, in \u001b[0;36mget\u001b[0;34m(identifier, namespace, domain, operation, output, searchtype, **kwargs)\u001b[0m\n\u001b[1;32m    290\u001b[0m             response \u001b[38;5;241m=\u001b[39m request(identifier, namespace, domain, operation, output, searchtype, \u001b[38;5;241m*\u001b[39m\u001b[38;5;241m*\u001b[39mkwargs)\u001b[38;5;241m.\u001b[39mread()\n\u001b[1;32m    291\u001b[0m \u001b[38;5;28;01melse\u001b[39;00m:\n\u001b[0;32m--> 292\u001b[0m     response \u001b[38;5;241m=\u001b[39m \u001b[43mrequest\u001b[49m\u001b[43m(\u001b[49m\u001b[43midentifier\u001b[49m\u001b[43m,\u001b[49m\u001b[43m \u001b[49m\u001b[43mnamespace\u001b[49m\u001b[43m,\u001b[49m\u001b[43m \u001b[49m\u001b[43mdomain\u001b[49m\u001b[43m,\u001b[49m\u001b[43m \u001b[49m\u001b[43moperation\u001b[49m\u001b[43m,\u001b[49m\u001b[43m \u001b[49m\u001b[43moutput\u001b[49m\u001b[43m,\u001b[49m\u001b[43m \u001b[49m\u001b[43msearchtype\u001b[49m\u001b[43m,\u001b[49m\u001b[43m \u001b[49m\u001b[38;5;241;43m*\u001b[39;49m\u001b[38;5;241;43m*\u001b[39;49m\u001b[43mkwargs\u001b[49m\u001b[43m)\u001b[49m\u001b[38;5;241m.\u001b[39mread()\n\u001b[1;32m    293\u001b[0m \u001b[38;5;28;01mreturn\u001b[39;00m response\n",
      "File \u001b[0;32m~/anaconda3/envs/pandas2/lib/python3.12/site-packages/pubchempy.py:271\u001b[0m, in \u001b[0;36mrequest\u001b[0;34m(identifier, namespace, domain, operation, output, searchtype, **kwargs)\u001b[0m\n\u001b[1;32m    269\u001b[0m     log\u001b[38;5;241m.\u001b[39mdebug(\u001b[38;5;124m'\u001b[39m\u001b[38;5;124mRequest URL: \u001b[39m\u001b[38;5;132;01m%s\u001b[39;00m\u001b[38;5;124m'\u001b[39m, apiurl)\n\u001b[1;32m    270\u001b[0m     log\u001b[38;5;241m.\u001b[39mdebug(\u001b[38;5;124m'\u001b[39m\u001b[38;5;124mRequest data: \u001b[39m\u001b[38;5;132;01m%s\u001b[39;00m\u001b[38;5;124m'\u001b[39m, postdata)\n\u001b[0;32m--> 271\u001b[0m     response \u001b[38;5;241m=\u001b[39m \u001b[43murlopen\u001b[49m\u001b[43m(\u001b[49m\u001b[43mapiurl\u001b[49m\u001b[43m,\u001b[49m\u001b[43m \u001b[49m\u001b[43mpostdata\u001b[49m\u001b[43m)\u001b[49m\n\u001b[1;32m    272\u001b[0m     \u001b[38;5;28;01mreturn\u001b[39;00m response\n\u001b[1;32m    273\u001b[0m \u001b[38;5;28;01mexcept\u001b[39;00m HTTPError \u001b[38;5;28;01mas\u001b[39;00m e:\n",
      "File \u001b[0;32m~/anaconda3/envs/pandas2/lib/python3.12/urllib/request.py:215\u001b[0m, in \u001b[0;36murlopen\u001b[0;34m(url, data, timeout, cafile, capath, cadefault, context)\u001b[0m\n\u001b[1;32m    213\u001b[0m \u001b[38;5;28;01melse\u001b[39;00m:\n\u001b[1;32m    214\u001b[0m     opener \u001b[38;5;241m=\u001b[39m _opener\n\u001b[0;32m--> 215\u001b[0m \u001b[38;5;28;01mreturn\u001b[39;00m \u001b[43mopener\u001b[49m\u001b[38;5;241;43m.\u001b[39;49m\u001b[43mopen\u001b[49m\u001b[43m(\u001b[49m\u001b[43murl\u001b[49m\u001b[43m,\u001b[49m\u001b[43m \u001b[49m\u001b[43mdata\u001b[49m\u001b[43m,\u001b[49m\u001b[43m \u001b[49m\u001b[43mtimeout\u001b[49m\u001b[43m)\u001b[49m\n",
      "File \u001b[0;32m~/anaconda3/envs/pandas2/lib/python3.12/urllib/request.py:515\u001b[0m, in \u001b[0;36mOpenerDirector.open\u001b[0;34m(self, fullurl, data, timeout)\u001b[0m\n\u001b[1;32m    512\u001b[0m     req \u001b[38;5;241m=\u001b[39m meth(req)\n\u001b[1;32m    514\u001b[0m sys\u001b[38;5;241m.\u001b[39maudit(\u001b[38;5;124m'\u001b[39m\u001b[38;5;124murllib.Request\u001b[39m\u001b[38;5;124m'\u001b[39m, req\u001b[38;5;241m.\u001b[39mfull_url, req\u001b[38;5;241m.\u001b[39mdata, req\u001b[38;5;241m.\u001b[39mheaders, req\u001b[38;5;241m.\u001b[39mget_method())\n\u001b[0;32m--> 515\u001b[0m response \u001b[38;5;241m=\u001b[39m \u001b[38;5;28;43mself\u001b[39;49m\u001b[38;5;241;43m.\u001b[39;49m\u001b[43m_open\u001b[49m\u001b[43m(\u001b[49m\u001b[43mreq\u001b[49m\u001b[43m,\u001b[49m\u001b[43m \u001b[49m\u001b[43mdata\u001b[49m\u001b[43m)\u001b[49m\n\u001b[1;32m    517\u001b[0m \u001b[38;5;66;03m# post-process response\u001b[39;00m\n\u001b[1;32m    518\u001b[0m meth_name \u001b[38;5;241m=\u001b[39m protocol\u001b[38;5;241m+\u001b[39m\u001b[38;5;124m\"\u001b[39m\u001b[38;5;124m_response\u001b[39m\u001b[38;5;124m\"\u001b[39m\n",
      "File \u001b[0;32m~/anaconda3/envs/pandas2/lib/python3.12/urllib/request.py:532\u001b[0m, in \u001b[0;36mOpenerDirector._open\u001b[0;34m(self, req, data)\u001b[0m\n\u001b[1;32m    529\u001b[0m     \u001b[38;5;28;01mreturn\u001b[39;00m result\n\u001b[1;32m    531\u001b[0m protocol \u001b[38;5;241m=\u001b[39m req\u001b[38;5;241m.\u001b[39mtype\n\u001b[0;32m--> 532\u001b[0m result \u001b[38;5;241m=\u001b[39m \u001b[38;5;28;43mself\u001b[39;49m\u001b[38;5;241;43m.\u001b[39;49m\u001b[43m_call_chain\u001b[49m\u001b[43m(\u001b[49m\u001b[38;5;28;43mself\u001b[39;49m\u001b[38;5;241;43m.\u001b[39;49m\u001b[43mhandle_open\u001b[49m\u001b[43m,\u001b[49m\u001b[43m \u001b[49m\u001b[43mprotocol\u001b[49m\u001b[43m,\u001b[49m\u001b[43m \u001b[49m\u001b[43mprotocol\u001b[49m\u001b[43m \u001b[49m\u001b[38;5;241;43m+\u001b[39;49m\n\u001b[1;32m    533\u001b[0m \u001b[43m                          \u001b[49m\u001b[38;5;124;43m'\u001b[39;49m\u001b[38;5;124;43m_open\u001b[39;49m\u001b[38;5;124;43m'\u001b[39;49m\u001b[43m,\u001b[49m\u001b[43m \u001b[49m\u001b[43mreq\u001b[49m\u001b[43m)\u001b[49m\n\u001b[1;32m    534\u001b[0m \u001b[38;5;28;01mif\u001b[39;00m result:\n\u001b[1;32m    535\u001b[0m     \u001b[38;5;28;01mreturn\u001b[39;00m result\n",
      "File \u001b[0;32m~/anaconda3/envs/pandas2/lib/python3.12/urllib/request.py:492\u001b[0m, in \u001b[0;36mOpenerDirector._call_chain\u001b[0;34m(self, chain, kind, meth_name, *args)\u001b[0m\n\u001b[1;32m    490\u001b[0m \u001b[38;5;28;01mfor\u001b[39;00m handler \u001b[38;5;129;01min\u001b[39;00m handlers:\n\u001b[1;32m    491\u001b[0m     func \u001b[38;5;241m=\u001b[39m \u001b[38;5;28mgetattr\u001b[39m(handler, meth_name)\n\u001b[0;32m--> 492\u001b[0m     result \u001b[38;5;241m=\u001b[39m \u001b[43mfunc\u001b[49m\u001b[43m(\u001b[49m\u001b[38;5;241;43m*\u001b[39;49m\u001b[43margs\u001b[49m\u001b[43m)\u001b[49m\n\u001b[1;32m    493\u001b[0m     \u001b[38;5;28;01mif\u001b[39;00m result \u001b[38;5;129;01mis\u001b[39;00m \u001b[38;5;129;01mnot\u001b[39;00m \u001b[38;5;28;01mNone\u001b[39;00m:\n\u001b[1;32m    494\u001b[0m         \u001b[38;5;28;01mreturn\u001b[39;00m result\n",
      "File \u001b[0;32m~/anaconda3/envs/pandas2/lib/python3.12/urllib/request.py:1392\u001b[0m, in \u001b[0;36mHTTPSHandler.https_open\u001b[0;34m(self, req)\u001b[0m\n\u001b[1;32m   1391\u001b[0m \u001b[38;5;28;01mdef\u001b[39;00m \u001b[38;5;21mhttps_open\u001b[39m(\u001b[38;5;28mself\u001b[39m, req):\n\u001b[0;32m-> 1392\u001b[0m     \u001b[38;5;28;01mreturn\u001b[39;00m \u001b[38;5;28;43mself\u001b[39;49m\u001b[38;5;241;43m.\u001b[39;49m\u001b[43mdo_open\u001b[49m\u001b[43m(\u001b[49m\u001b[43mhttp\u001b[49m\u001b[38;5;241;43m.\u001b[39;49m\u001b[43mclient\u001b[49m\u001b[38;5;241;43m.\u001b[39;49m\u001b[43mHTTPSConnection\u001b[49m\u001b[43m,\u001b[49m\u001b[43m \u001b[49m\u001b[43mreq\u001b[49m\u001b[43m,\u001b[49m\n\u001b[1;32m   1393\u001b[0m \u001b[43m                        \u001b[49m\u001b[43mcontext\u001b[49m\u001b[38;5;241;43m=\u001b[39;49m\u001b[38;5;28;43mself\u001b[39;49m\u001b[38;5;241;43m.\u001b[39;49m\u001b[43m_context\u001b[49m\u001b[43m)\u001b[49m\n",
      "File \u001b[0;32m~/anaconda3/envs/pandas2/lib/python3.12/urllib/request.py:1344\u001b[0m, in \u001b[0;36mAbstractHTTPHandler.do_open\u001b[0;34m(self, http_class, req, **http_conn_args)\u001b[0m\n\u001b[1;32m   1342\u001b[0m \u001b[38;5;28;01mtry\u001b[39;00m:\n\u001b[1;32m   1343\u001b[0m     \u001b[38;5;28;01mtry\u001b[39;00m:\n\u001b[0;32m-> 1344\u001b[0m         \u001b[43mh\u001b[49m\u001b[38;5;241;43m.\u001b[39;49m\u001b[43mrequest\u001b[49m\u001b[43m(\u001b[49m\u001b[43mreq\u001b[49m\u001b[38;5;241;43m.\u001b[39;49m\u001b[43mget_method\u001b[49m\u001b[43m(\u001b[49m\u001b[43m)\u001b[49m\u001b[43m,\u001b[49m\u001b[43m \u001b[49m\u001b[43mreq\u001b[49m\u001b[38;5;241;43m.\u001b[39;49m\u001b[43mselector\u001b[49m\u001b[43m,\u001b[49m\u001b[43m \u001b[49m\u001b[43mreq\u001b[49m\u001b[38;5;241;43m.\u001b[39;49m\u001b[43mdata\u001b[49m\u001b[43m,\u001b[49m\u001b[43m \u001b[49m\u001b[43mheaders\u001b[49m\u001b[43m,\u001b[49m\n\u001b[1;32m   1345\u001b[0m \u001b[43m                  \u001b[49m\u001b[43mencode_chunked\u001b[49m\u001b[38;5;241;43m=\u001b[39;49m\u001b[43mreq\u001b[49m\u001b[38;5;241;43m.\u001b[39;49m\u001b[43mhas_header\u001b[49m\u001b[43m(\u001b[49m\u001b[38;5;124;43m'\u001b[39;49m\u001b[38;5;124;43mTransfer-encoding\u001b[39;49m\u001b[38;5;124;43m'\u001b[39;49m\u001b[43m)\u001b[49m\u001b[43m)\u001b[49m\n\u001b[1;32m   1346\u001b[0m     \u001b[38;5;28;01mexcept\u001b[39;00m \u001b[38;5;167;01mOSError\u001b[39;00m \u001b[38;5;28;01mas\u001b[39;00m err: \u001b[38;5;66;03m# timeout error\u001b[39;00m\n\u001b[1;32m   1347\u001b[0m         \u001b[38;5;28;01mraise\u001b[39;00m URLError(err)\n",
      "File \u001b[0;32m~/anaconda3/envs/pandas2/lib/python3.12/http/client.py:1319\u001b[0m, in \u001b[0;36mHTTPConnection.request\u001b[0;34m(self, method, url, body, headers, encode_chunked)\u001b[0m\n\u001b[1;32m   1316\u001b[0m \u001b[38;5;28;01mdef\u001b[39;00m \u001b[38;5;21mrequest\u001b[39m(\u001b[38;5;28mself\u001b[39m, method, url, body\u001b[38;5;241m=\u001b[39m\u001b[38;5;28;01mNone\u001b[39;00m, headers\u001b[38;5;241m=\u001b[39m{}, \u001b[38;5;241m*\u001b[39m,\n\u001b[1;32m   1317\u001b[0m             encode_chunked\u001b[38;5;241m=\u001b[39m\u001b[38;5;28;01mFalse\u001b[39;00m):\n\u001b[1;32m   1318\u001b[0m \u001b[38;5;250m    \u001b[39m\u001b[38;5;124;03m\"\"\"Send a complete request to the server.\"\"\"\u001b[39;00m\n\u001b[0;32m-> 1319\u001b[0m     \u001b[38;5;28;43mself\u001b[39;49m\u001b[38;5;241;43m.\u001b[39;49m\u001b[43m_send_request\u001b[49m\u001b[43m(\u001b[49m\u001b[43mmethod\u001b[49m\u001b[43m,\u001b[49m\u001b[43m \u001b[49m\u001b[43murl\u001b[49m\u001b[43m,\u001b[49m\u001b[43m \u001b[49m\u001b[43mbody\u001b[49m\u001b[43m,\u001b[49m\u001b[43m \u001b[49m\u001b[43mheaders\u001b[49m\u001b[43m,\u001b[49m\u001b[43m \u001b[49m\u001b[43mencode_chunked\u001b[49m\u001b[43m)\u001b[49m\n",
      "File \u001b[0;32m~/anaconda3/envs/pandas2/lib/python3.12/http/client.py:1365\u001b[0m, in \u001b[0;36mHTTPConnection._send_request\u001b[0;34m(self, method, url, body, headers, encode_chunked)\u001b[0m\n\u001b[1;32m   1361\u001b[0m \u001b[38;5;28;01mif\u001b[39;00m \u001b[38;5;28misinstance\u001b[39m(body, \u001b[38;5;28mstr\u001b[39m):\n\u001b[1;32m   1362\u001b[0m     \u001b[38;5;66;03m# RFC 2616 Section 3.7.1 says that text default has a\u001b[39;00m\n\u001b[1;32m   1363\u001b[0m     \u001b[38;5;66;03m# default charset of iso-8859-1.\u001b[39;00m\n\u001b[1;32m   1364\u001b[0m     body \u001b[38;5;241m=\u001b[39m _encode(body, \u001b[38;5;124m'\u001b[39m\u001b[38;5;124mbody\u001b[39m\u001b[38;5;124m'\u001b[39m)\n\u001b[0;32m-> 1365\u001b[0m \u001b[38;5;28;43mself\u001b[39;49m\u001b[38;5;241;43m.\u001b[39;49m\u001b[43mendheaders\u001b[49m\u001b[43m(\u001b[49m\u001b[43mbody\u001b[49m\u001b[43m,\u001b[49m\u001b[43m \u001b[49m\u001b[43mencode_chunked\u001b[49m\u001b[38;5;241;43m=\u001b[39;49m\u001b[43mencode_chunked\u001b[49m\u001b[43m)\u001b[49m\n",
      "File \u001b[0;32m~/anaconda3/envs/pandas2/lib/python3.12/http/client.py:1314\u001b[0m, in \u001b[0;36mHTTPConnection.endheaders\u001b[0;34m(self, message_body, encode_chunked)\u001b[0m\n\u001b[1;32m   1312\u001b[0m \u001b[38;5;28;01melse\u001b[39;00m:\n\u001b[1;32m   1313\u001b[0m     \u001b[38;5;28;01mraise\u001b[39;00m CannotSendHeader()\n\u001b[0;32m-> 1314\u001b[0m \u001b[38;5;28;43mself\u001b[39;49m\u001b[38;5;241;43m.\u001b[39;49m\u001b[43m_send_output\u001b[49m\u001b[43m(\u001b[49m\u001b[43mmessage_body\u001b[49m\u001b[43m,\u001b[49m\u001b[43m \u001b[49m\u001b[43mencode_chunked\u001b[49m\u001b[38;5;241;43m=\u001b[39;49m\u001b[43mencode_chunked\u001b[49m\u001b[43m)\u001b[49m\n",
      "File \u001b[0;32m~/anaconda3/envs/pandas2/lib/python3.12/http/client.py:1074\u001b[0m, in \u001b[0;36mHTTPConnection._send_output\u001b[0;34m(self, message_body, encode_chunked)\u001b[0m\n\u001b[1;32m   1072\u001b[0m msg \u001b[38;5;241m=\u001b[39m \u001b[38;5;124mb\u001b[39m\u001b[38;5;124m\"\u001b[39m\u001b[38;5;130;01m\\r\u001b[39;00m\u001b[38;5;130;01m\\n\u001b[39;00m\u001b[38;5;124m\"\u001b[39m\u001b[38;5;241m.\u001b[39mjoin(\u001b[38;5;28mself\u001b[39m\u001b[38;5;241m.\u001b[39m_buffer)\n\u001b[1;32m   1073\u001b[0m \u001b[38;5;28;01mdel\u001b[39;00m \u001b[38;5;28mself\u001b[39m\u001b[38;5;241m.\u001b[39m_buffer[:]\n\u001b[0;32m-> 1074\u001b[0m \u001b[38;5;28;43mself\u001b[39;49m\u001b[38;5;241;43m.\u001b[39;49m\u001b[43msend\u001b[49m\u001b[43m(\u001b[49m\u001b[43mmsg\u001b[49m\u001b[43m)\u001b[49m\n\u001b[1;32m   1076\u001b[0m \u001b[38;5;28;01mif\u001b[39;00m message_body \u001b[38;5;129;01mis\u001b[39;00m \u001b[38;5;129;01mnot\u001b[39;00m \u001b[38;5;28;01mNone\u001b[39;00m:\n\u001b[1;32m   1077\u001b[0m \n\u001b[1;32m   1078\u001b[0m     \u001b[38;5;66;03m# create a consistent interface to message_body\u001b[39;00m\n\u001b[1;32m   1079\u001b[0m     \u001b[38;5;28;01mif\u001b[39;00m \u001b[38;5;28mhasattr\u001b[39m(message_body, \u001b[38;5;124m'\u001b[39m\u001b[38;5;124mread\u001b[39m\u001b[38;5;124m'\u001b[39m):\n\u001b[1;32m   1080\u001b[0m         \u001b[38;5;66;03m# Let file-like take precedence over byte-like.  This\u001b[39;00m\n\u001b[1;32m   1081\u001b[0m         \u001b[38;5;66;03m# is needed to allow the current position of mmap'ed\u001b[39;00m\n\u001b[1;32m   1082\u001b[0m         \u001b[38;5;66;03m# files to be taken into account.\u001b[39;00m\n",
      "File \u001b[0;32m~/anaconda3/envs/pandas2/lib/python3.12/http/client.py:1018\u001b[0m, in \u001b[0;36mHTTPConnection.send\u001b[0;34m(self, data)\u001b[0m\n\u001b[1;32m   1016\u001b[0m \u001b[38;5;28;01mif\u001b[39;00m \u001b[38;5;28mself\u001b[39m\u001b[38;5;241m.\u001b[39msock \u001b[38;5;129;01mis\u001b[39;00m \u001b[38;5;28;01mNone\u001b[39;00m:\n\u001b[1;32m   1017\u001b[0m     \u001b[38;5;28;01mif\u001b[39;00m \u001b[38;5;28mself\u001b[39m\u001b[38;5;241m.\u001b[39mauto_open:\n\u001b[0;32m-> 1018\u001b[0m         \u001b[38;5;28;43mself\u001b[39;49m\u001b[38;5;241;43m.\u001b[39;49m\u001b[43mconnect\u001b[49m\u001b[43m(\u001b[49m\u001b[43m)\u001b[49m\n\u001b[1;32m   1019\u001b[0m     \u001b[38;5;28;01melse\u001b[39;00m:\n\u001b[1;32m   1020\u001b[0m         \u001b[38;5;28;01mraise\u001b[39;00m NotConnected()\n",
      "File \u001b[0;32m~/anaconda3/envs/pandas2/lib/python3.12/http/client.py:1453\u001b[0m, in \u001b[0;36mHTTPSConnection.connect\u001b[0;34m(self)\u001b[0m\n\u001b[1;32m   1450\u001b[0m \u001b[38;5;28;01mdef\u001b[39;00m \u001b[38;5;21mconnect\u001b[39m(\u001b[38;5;28mself\u001b[39m):\n\u001b[1;32m   1451\u001b[0m     \u001b[38;5;124m\"\u001b[39m\u001b[38;5;124mConnect to a host on a given (SSL) port.\u001b[39m\u001b[38;5;124m\"\u001b[39m\n\u001b[0;32m-> 1453\u001b[0m     \u001b[38;5;28;43msuper\u001b[39;49m\u001b[43m(\u001b[49m\u001b[43m)\u001b[49m\u001b[38;5;241;43m.\u001b[39;49m\u001b[43mconnect\u001b[49m\u001b[43m(\u001b[49m\u001b[43m)\u001b[49m\n\u001b[1;32m   1455\u001b[0m     \u001b[38;5;28;01mif\u001b[39;00m \u001b[38;5;28mself\u001b[39m\u001b[38;5;241m.\u001b[39m_tunnel_host:\n\u001b[1;32m   1456\u001b[0m         server_hostname \u001b[38;5;241m=\u001b[39m \u001b[38;5;28mself\u001b[39m\u001b[38;5;241m.\u001b[39m_tunnel_host\n",
      "File \u001b[0;32m~/anaconda3/envs/pandas2/lib/python3.12/http/client.py:984\u001b[0m, in \u001b[0;36mHTTPConnection.connect\u001b[0;34m(self)\u001b[0m\n\u001b[1;32m    982\u001b[0m \u001b[38;5;250m\u001b[39m\u001b[38;5;124;03m\"\"\"Connect to the host and port specified in __init__.\"\"\"\u001b[39;00m\n\u001b[1;32m    983\u001b[0m sys\u001b[38;5;241m.\u001b[39maudit(\u001b[38;5;124m\"\u001b[39m\u001b[38;5;124mhttp.client.connect\u001b[39m\u001b[38;5;124m\"\u001b[39m, \u001b[38;5;28mself\u001b[39m, \u001b[38;5;28mself\u001b[39m\u001b[38;5;241m.\u001b[39mhost, \u001b[38;5;28mself\u001b[39m\u001b[38;5;241m.\u001b[39mport)\n\u001b[0;32m--> 984\u001b[0m \u001b[38;5;28mself\u001b[39m\u001b[38;5;241m.\u001b[39msock \u001b[38;5;241m=\u001b[39m \u001b[38;5;28;43mself\u001b[39;49m\u001b[38;5;241;43m.\u001b[39;49m\u001b[43m_create_connection\u001b[49m\u001b[43m(\u001b[49m\n\u001b[1;32m    985\u001b[0m \u001b[43m    \u001b[49m\u001b[43m(\u001b[49m\u001b[38;5;28;43mself\u001b[39;49m\u001b[38;5;241;43m.\u001b[39;49m\u001b[43mhost\u001b[49m\u001b[43m,\u001b[49m\u001b[38;5;28;43mself\u001b[39;49m\u001b[38;5;241;43m.\u001b[39;49m\u001b[43mport\u001b[49m\u001b[43m)\u001b[49m\u001b[43m,\u001b[49m\u001b[43m \u001b[49m\u001b[38;5;28;43mself\u001b[39;49m\u001b[38;5;241;43m.\u001b[39;49m\u001b[43mtimeout\u001b[49m\u001b[43m,\u001b[49m\u001b[43m \u001b[49m\u001b[38;5;28;43mself\u001b[39;49m\u001b[38;5;241;43m.\u001b[39;49m\u001b[43msource_address\u001b[49m\u001b[43m)\u001b[49m\n\u001b[1;32m    986\u001b[0m \u001b[38;5;66;03m# Might fail in OSs that don't implement TCP_NODELAY\u001b[39;00m\n\u001b[1;32m    987\u001b[0m \u001b[38;5;28;01mtry\u001b[39;00m:\n",
      "File \u001b[0;32m~/anaconda3/envs/pandas2/lib/python3.12/socket.py:837\u001b[0m, in \u001b[0;36mcreate_connection\u001b[0;34m(address, timeout, source_address, all_errors)\u001b[0m\n\u001b[1;32m    835\u001b[0m \u001b[38;5;28;01mif\u001b[39;00m source_address:\n\u001b[1;32m    836\u001b[0m     sock\u001b[38;5;241m.\u001b[39mbind(source_address)\n\u001b[0;32m--> 837\u001b[0m \u001b[43msock\u001b[49m\u001b[38;5;241;43m.\u001b[39;49m\u001b[43mconnect\u001b[49m\u001b[43m(\u001b[49m\u001b[43msa\u001b[49m\u001b[43m)\u001b[49m\n\u001b[1;32m    838\u001b[0m \u001b[38;5;66;03m# Break explicitly a reference cycle\u001b[39;00m\n\u001b[1;32m    839\u001b[0m exceptions\u001b[38;5;241m.\u001b[39mclear()\n",
      "\u001b[0;31mKeyboardInterrupt\u001b[0m: "
     ]
    }
   ],
   "source": [
    "data = []\n",
    "for i, row in met_info_3.iterrows():\n",
    "    name = row['Metabolite']\n",
    "    donor, acceptor, rotatable, cid, tpsa, charge, xlogp = get_pubchem_data(name)\n",
    "    if tpsa != row['Topological Polar Surface Area []']:\n",
    "        print(name, \"!!\", tpsa, row['Topological Polar Surface Area []'])\n",
    "    data.append([name, donor, acceptor, rotatable, tpsa, charge, xlogp, cid])"
   ]
  },
  {
   "cell_type": "code",
   "execution_count": 76,
   "id": "42e08ab7-6d92-4f2e-979e-713fae482152",
   "metadata": {
    "execution": {
     "iopub.execute_input": "2024-08-27T22:35:07.291586Z",
     "iopub.status.busy": "2024-08-27T22:35:07.284878Z",
     "iopub.status.idle": "2024-08-27T22:35:07.304862Z",
     "shell.execute_reply": "2024-08-27T22:35:07.303700Z",
     "shell.execute_reply.started": "2024-08-27T22:35:07.291476Z"
    }
   },
   "outputs": [],
   "source": [
    "pubchem_data = pd.DataFrame(data, columns = ['Metabolite', 'Hydrogen Bond Donor Count', 'Hydrogen Bond Acceptor Count', 'Rotatable Bond Count', 'Topological Polar Surface Area', 'Charge (pubchem)', 'xlogP', 'pubchem id'])"
   ]
  },
  {
   "cell_type": "code",
   "execution_count": 77,
   "id": "ca12b9d3-6903-43d8-b33e-830918684058",
   "metadata": {
    "execution": {
     "iopub.execute_input": "2024-08-27T22:35:09.610847Z",
     "iopub.status.busy": "2024-08-27T22:35:09.610381Z",
     "iopub.status.idle": "2024-08-27T22:35:09.627565Z",
     "shell.execute_reply": "2024-08-27T22:35:09.626937Z",
     "shell.execute_reply.started": "2024-08-27T22:35:09.610821Z"
    }
   },
   "outputs": [],
   "source": [
    "met_info_4 = met_info_3.merge(pubchem_data, left_on='Metabolite', right_on='Metabolite')"
   ]
  },
  {
   "cell_type": "code",
   "execution_count": null,
   "id": "398bac52-be95-4618-93d8-b7295f6aef56",
   "metadata": {
    "execution": {
     "iopub.execute_input": "2024-08-27T22:35:09.965069Z",
     "iopub.status.busy": "2024-08-27T22:35:09.964298Z",
     "iopub.status.idle": "2024-08-27T22:35:09.976492Z",
     "shell.execute_reply": "2024-08-27T22:35:09.975954Z",
     "shell.execute_reply.started": "2024-08-27T22:35:09.965011Z"
    }
   },
   "outputs": [],
   "source": [
    "met_info_4.to_csv('../data/met_info_4.csv')\n"
   ]
  },
  {
   "cell_type": "markdown",
   "id": "61364194-b4b0-4081-a738-4c9618ca98d7",
   "metadata": {},
   "source": [
    "# Update september 2024\n"
   ]
  },
  {
   "cell_type": "code",
   "execution_count": 118,
   "id": "3b6f1b3e-5084-49e1-8e46-a4316f077815",
   "metadata": {
    "execution": {
     "iopub.execute_input": "2024-09-24T12:01:59.024955Z",
     "iopub.status.busy": "2024-09-24T12:01:59.024050Z",
     "iopub.status.idle": "2024-09-24T12:01:59.034868Z",
     "shell.execute_reply": "2024-09-24T12:01:59.033996Z",
     "shell.execute_reply.started": "2024-09-24T12:01:59.024923Z"
    }
   },
   "outputs": [],
   "source": [
    "met_info_4 = pd.read_csv('../data/met_info_4.csv')"
   ]
  },
  {
   "cell_type": "code",
   "execution_count": 119,
   "id": "9c15e88d-35f4-429a-b3bf-1c989a796223",
   "metadata": {
    "execution": {
     "iopub.execute_input": "2024-09-24T12:02:01.998352Z",
     "iopub.status.busy": "2024-09-24T12:02:01.997884Z",
     "iopub.status.idle": "2024-09-24T12:02:04.005106Z",
     "shell.execute_reply": "2024-09-24T12:02:04.004497Z",
     "shell.execute_reply.started": "2024-09-24T12:02:01.998324Z"
    }
   },
   "outputs": [
    {
     "name": "stdout",
     "output_type": "stream",
     "text": [
      "Formate\n",
      "Formate ['formate', 'Formic acid, ion(1-)'] 1\n",
      "Hexoses\n",
      "Hexoses ['2,3,4,5,6-pentahydroxyhexanal', 'Mannose, D-'] 1\n",
      "Propionate\n",
      "Propionate ['propionate', 'propanoate'] 1\n"
     ]
    }
   ],
   "source": [
    "for i, row in met_info_4.iterrows():\n",
    "    if np.isnan(row['Hydrogen Bond Donor Count']):\n",
    "        name = row['Metabolite']\n",
    "        print(name)\n",
    "        donor, acceptor, rotatable, cid, tpsa, charge, xlogp = get_pubchem_data(name)\n",
    "        met_info_4.at[i, 'Hydrogen Bond Donor Count'] = donor\n",
    "        met_info_4.at[i, 'Hydrogen Bond Acceptor Count'] = acceptor\n",
    "        met_info_4.at[i, 'Rotatable Bond Count'] = rotatable\n",
    "        met_info_4.at[i, 'Topological Polar Surface Area'] = tpsa\n",
    "        met_info_4.at[i, 'Charge (pubchem)'] = charge\n",
    "        met_info_4.at[i, 'xlogP'] = xlogp\n",
    "        met_info_4.at[i, 'pubchem id'] = cid\n",
    "        \n",
    "        # , , 'Topological Polar Surface Area', 'Charge (pubchem)', 'xlogP', 'pubchem id'"
   ]
  },
  {
   "cell_type": "code",
   "execution_count": 121,
   "id": "def76c2b-54b9-4151-8f31-3882d78d93e4",
   "metadata": {
    "execution": {
     "iopub.execute_input": "2024-09-24T12:44:49.764634Z",
     "iopub.status.busy": "2024-09-24T12:44:49.763750Z",
     "iopub.status.idle": "2024-09-24T12:44:49.788968Z",
     "shell.execute_reply": "2024-09-24T12:44:49.788396Z",
     "shell.execute_reply.started": "2024-09-24T12:44:49.764549Z"
    }
   },
   "outputs": [],
   "source": [
    "met_info_4.to_csv('../data/met_info_5.csv')\n"
   ]
  },
  {
   "cell_type": "code",
   "execution_count": 37,
   "id": "69c0b710-0da4-4d4f-b18b-4756b4dcdd90",
   "metadata": {},
   "outputs": [],
   "source": [
    "def calculate_oxidation_state_of_carbon(formula, charge = 0):\n",
    "    \"\"\"\n",
    "    https://journals.plos.org/plosone/article?id=10.1371/journal.pone.0022782\n",
    "    See equation 2\n",
    "    And then 5 for P\n",
    "    \"\"\"\n",
    "    e = {key.upper():value for key, value in re.findall(r'([A-Z][a-z]*)(\\d*)', formula)}\n",
    "    for key, value in e.items():\n",
    "        if len(value):\n",
    "            e[key]=int(value)\n",
    "        else:\n",
    "            e[key]=0\n",
    "    for k in ['O', 'S', 'N', 'P']:\n",
    "        try:\n",
    "            e[k]\n",
    "        except KeyError:\n",
    "            e[k]=0\n",
    "    print(e, charge)\n",
    "    return (charge-e['H']+2*(e['O']+e['S'])+3*e['N']+5*e['P'])/e['C']\n",
    "        \n",
    "    \n",
    "    \n",
    "#     The oxidation number of a free element is always 0.\n",
    "# The oxidation number of a monatomic ion equals the charge of the ion.\n",
    "# Fluorine in compounds is always assigned an oxidation number of -1.\n",
    "# The alkali metals (group I) always have an oxidation number of +1.\n",
    "# The alkaline earth metals (group II) are always assigned an oxidation number of +2.\n",
    "# Oxygen almost always has an oxidation number of -2, except in peroxides (H2O2) where it is -1 and in compounds with fluorine (OF2) where it is +2.\n",
    "# Hydrogen has an oxidation number of +1 when combined with non-metals, but it has an oxidation number of -1 when combined with metals.\n",
    "# The algebraic sum of the oxidation numbers of elements in a compound is zero.\n",
    "# The algebraic sum of the oxidation states in an ion is equal to the charge on the ion"
   ]
  },
  {
   "cell_type": "code",
   "execution_count": 30,
   "id": "0841ca50-0317-414e-bc16-4eb21ac3ffbe",
   "metadata": {},
   "outputs": [],
   "source": [
    "formula = 'C6H12O6'\n",
    "elements = {key:int(value) for key, value in re.findall(r'([A-Z][a-z]*)(\\d*)', formula)}\n"
   ]
  },
  {
   "cell_type": "code",
   "execution_count": 23,
   "id": "926dd22f-2f7c-4fbf-9bcd-cb46a468a13a",
   "metadata": {},
   "outputs": [
    {
     "data": {
      "text/plain": [
       "{'C': '6', 'H': '12', 'O': '6'}"
      ]
     },
     "execution_count": 23,
     "metadata": {},
     "output_type": "execute_result"
    }
   ],
   "source": [
    "elements"
   ]
  },
  {
   "cell_type": "code",
   "execution_count": 38,
   "id": "af3f4591-65bc-4074-aa0f-68ab2f0135f4",
   "metadata": {},
   "outputs": [
    {
     "name": "stdout",
     "output_type": "stream",
     "text": [
      "D-Glucose 6-phosphate\n",
      "[165, 165]\n",
      "['56-73-5', 'D-Glucose 6-phosphate'] 165\n",
      "{'C': 6, 'H': 11, 'O': 9, 'P': 0, 'S': 0, 'N': 0} -2\n",
      "D-Fructose 6-phosphate\n",
      "['fructose-6-phosphate', 'Fructose 6-Phosphate'] 165\n",
      "{'C': 6, 'H': 11, 'O': 9, 'P': 0, 'S': 0, 'N': 0} -2\n",
      "D-Fructose 1,6-bisphosphate\n",
      "No tpsa found for D-Fructose 1,6-bisphosphate\n",
      "{'C': 6, 'H': 10, 'O': 12, 'P': 2, 'S': 0, 'N': 0} -4\n",
      "Dihydroxyacetone phosphate\n",
      "['DIHYDROXYACETONE PHOSPHATE', 'Glycerone phosphate'] 104\n",
      "{'C': 3, 'H': 5, 'O': 6, 'P': 0, 'S': 0, 'N': 0} -2\n",
      "Glyceraldehyde 3-phosphate\n",
      "[104, 110]\n",
      "['DL-Glyceraldehyde 3-phosphate', '3-phosphoglyceraldehyde'] 104\n",
      "{'C': 3, 'H': 5, 'O': 6, 'P': 0, 'S': 0, 'N': 0} -2\n",
      "D-Glycerate 2-phosphate\n",
      "['2-Phospho-D-Glyceric Acid', '2-phospho-D-glycerate'] 124\n",
      "{'C': 3, 'H': 4, 'O': 7, 'P': 0, 'S': 0, 'N': 0} -3\n",
      "3-Phospho-D-glycerate\n",
      "['3-phospho-D-glycerate', '3-phosphoglyceric acid'] 124\n",
      "{'C': 3, 'H': 4, 'O': 7, 'P': 0, 'S': 0, 'N': 0} -3\n",
      "Phosphoenolpyruvate\n",
      "['phosphoenolpyruvate', 'Phosphoenolpyruvic acid'] 104\n",
      "{'C': 3, 'H': 2, 'O': 6, 'P': 0, 'S': 0, 'N': 0} -3\n",
      "Alpha-D-Ribose 5-phosphate\n",
      "['alpha-D-ribose-5-phosphate', 'alpha-D-Ribose 5-phosphate'] 137\n",
      "{'C': 5, 'H': 9, 'O': 8, 'P': 0, 'S': 0, 'N': 0} -2\n",
      "D-Ribulose 5-phosphate\n",
      "['D-Ribulose 5-phosphate', 'ribulose 5-phosphate'] 145\n",
      "{'C': 5, 'H': 9, 'O': 8, 'P': 0, 'S': 0, 'N': 0} -2\n",
      "L-Ribulose 5-phosphate\n",
      "['L-Ribulose 5-phosphate', '5-O-phosphono-L-ribulose'] 145\n",
      "{'C': 5, 'H': 9, 'O': 8, 'P': 0, 'S': 0, 'N': 0} -2\n",
      "D-Xylulose 5-phosphate\n",
      "['D-Xylulose 5-phosphate', '4212-65-1'] 145\n",
      "{'C': 5, 'H': 9, 'O': 8, 'P': 0, 'S': 0, 'N': 0} -2\n",
      "L-Xylulose 5-phosphate\n",
      "['L-Xylulose 5-phosphate', 'L-xylulose-5-phosphate'] 145\n",
      "{'C': 5, 'H': 9, 'O': 8, 'P': 0, 'S': 0, 'N': 0} -2\n",
      "D-Erythrose 4-phosphate\n",
      "['D-Erythrose 4-phosphate', 'erythrose 4-phosphate'] 124\n",
      "{'C': 4, 'H': 7, 'O': 7, 'P': 0, 'S': 0, 'N': 0} -2\n",
      "Citrate\n",
      "['126-44-3', 'Citrate'] 141\n",
      "{'C': 6, 'H': 5, 'O': 7, 'S': 0, 'N': 0, 'P': 0} -3\n",
      "Cis-Aconitate\n",
      "['cis-Aconitic acid', '585-84-2'] 112\n",
      "{'C': 6, 'H': 3, 'O': 6, 'S': 0, 'N': 0, 'P': 0} -3\n",
      "Isocitrate\n",
      "['isocitric acid', 'isocitrate'] 132\n",
      "{'C': 6, 'H': 5, 'O': 7, 'S': 0, 'N': 0, 'P': 0} -3\n",
      "L-Glutamate\n",
      "['L-glutamic acid', 'GLUTAMIC ACID'] 101\n",
      "{'C': 5, 'H': 8, 'N': 0, 'O': 4, 'S': 0, 'P': 0} -1\n",
      "L-Aspartate\n",
      "['L-aspartic acid', 'aspartic acid'] 101\n",
      "{'C': 4, 'H': 6, 'N': 0, 'O': 4, 'S': 0, 'P': 0} -1\n",
      "nan\n",
      "L-Threonine\n",
      "['L-threonine', 'threonine'] 83.6\n",
      "{'C': 4, 'H': 9, 'N': 0, 'O': 3, 'S': 0, 'P': 0} 0\n",
      "nan\n",
      "L-Homoserine\n",
      "['L-homoserine', '672-15-1'] 83.6\n",
      "{'C': 4, 'H': 9, 'N': 0, 'O': 3, 'S': 0, 'P': 0} 0\n",
      "nan\n",
      "L-Tyrosine\n",
      "['L-tyrosine', 'tyrosine'] 83.6\n",
      "{'C': 9, 'H': 11, 'N': 0, 'O': 3, 'S': 0, 'P': 0} 0\n",
      "nan\n",
      "Glycine\n",
      "['glycine', '2-Aminoacetic acid'] 63.3\n",
      "{'C': 2, 'H': 5, 'N': 0, 'O': 2, 'S': 0, 'P': 0} 0\n",
      "L-Proline\n",
      "['L-proline', 'proline'] 49.3\n",
      "{'C': 5, 'H': 9, 'N': 0, 'O': 2, 'S': 0, 'P': 0} 0\n",
      "L-Alanine\n",
      "['L-alanine', 'alanine'] 63.3\n",
      "{'C': 3, 'H': 7, 'N': 0, 'O': 2, 'S': 0, 'P': 0} 0\n",
      "L-Methionine\n",
      "['L-methionine', '63-68-3'] 88.6\n",
      "{'C': 5, 'H': 11, 'N': 0, 'O': 2, 'S': 0, 'P': 0} 0\n",
      "nan\n",
      "L-Valine\n",
      "['L-valine', 'valine'] 63.3\n",
      "{'C': 5, 'H': 11, 'N': 0, 'O': 2, 'S': 0, 'P': 0} 0\n",
      "L-Leucine\n",
      "['L-leucine', 'leucine'] 63.3\n",
      "{'C': 6, 'H': 13, 'N': 0, 'O': 2, 'S': 0, 'P': 0} 0\n",
      "L-Isoleucine\n",
      "['l-isoleucine', 'Isoleucine'] 63.3\n",
      "{'C': 6, 'H': 13, 'N': 0, 'O': 2, 'S': 0, 'P': 0} 0\n",
      "L-Phenylalanine\n",
      "['L-phenylalanine', 'phenylalanine'] 63.3\n",
      "{'C': 9, 'H': 11, 'N': 0, 'O': 2, 'S': 0, 'P': 0} 0\n",
      "L-Phenylalanine\n",
      "['L-phenylalanine', 'phenylalanine'] 63.3\n",
      "{'C': 9, 'H': 11, 'N': 0, 'O': 2, 'S': 0, 'P': 0} 0\n",
      "nan\n",
      "L-Tryptophan\n",
      "['L-tryptophan', 'tryptophan'] 79.1\n",
      "{'C': 11, 'H': 12, 'N': 2, 'O': 2, 'S': 0, 'P': 0} 0\n",
      "nan\n",
      "L-Histidine\n",
      "['L-histidine', 'histidine'] 92\n",
      "{'C': 6, 'H': 9, 'N': 3, 'O': 2, 'S': 0, 'P': 0} 0\n",
      "L-Arginine\n",
      "['L-arginine', 'arginine'] 128\n",
      "{'C': 6, 'H': 15, 'N': 4, 'O': 2, 'S': 0, 'P': 0} 1\n",
      "Pyruvate\n",
      "['pyruvate', '2-Oxopropanoate'] 57.2\n",
      "{'C': 3, 'H': 3, 'O': 3, 'S': 0, 'N': 0, 'P': 0} -1\n",
      "Orotate C5H3N2O4\n",
      "No tpsa found for Orotate C5H3N2O4\n",
      "{'C': 5, 'H': 3, 'N': 2, 'O': 4, 'S': 0, 'P': 0} -1\n",
      "Fumarate\n",
      "[80.3, 74.6]\n",
      "['fumarate', 'Fumarate(2-)'] 80.3\n",
      "{'C': 4, 'H': 2, 'O': 4, 'S': 0, 'N': 0, 'P': 0} -2\n",
      "Uracil\n",
      "['uracil', '66-22-8'] 58.2\n",
      "{'C': 4, 'H': 4, 'N': 2, 'O': 2, 'S': 0, 'P': 0} 0\n",
      "2-Oxoglutarate\n",
      "['2-ketoglutaric acid', '2-Oxopentanedioic acid'] 91.7\n",
      "{'C': 5, 'H': 4, 'O': 5, 'S': 0, 'N': 0, 'P': 0} -2\n",
      "Acetate\n",
      "['acetate', 'Acetate Ion'] 40.1\n",
      "{'C': 2, 'H': 3, 'O': 2, 'S': 0, 'N': 0, 'P': 0} -1\n",
      "L-Lysine\n",
      "['L-lysine', 'lysine'] 89.3\n",
      "{'C': 6, 'H': 15, 'N': 2, 'O': 2, 'S': 0, 'P': 0} 1\n",
      "nan\n",
      "L-Glutamine\n",
      "['L-glutamine', 'glutamine'] 106\n",
      "{'C': 5, 'H': 10, 'N': 2, 'O': 3, 'S': 0, 'P': 0} 0\n",
      "Ethanol\n",
      "['ethanol', 'ethyl alcohol'] 20.2\n",
      "{'C': 2, 'H': 6, 'O': 0, 'S': 0, 'N': 0, 'P': 0} 0\n"
     ]
    }
   ],
   "source": [
    "mass = {}\n",
    "charge = {}\n",
    "n_phosphate = {}\n",
    "polarity = {}\n",
    "average_oxidation_state = {}\n",
    "for i, row in met_info_df.iterrows():\n",
    "    m_text = row[\"Ecoli metabolite\"]\n",
    "    try:\n",
    "        keys = m_text.split(\",\")\n",
    "    except:\n",
    "        print(m_text)\n",
    "        continue\n",
    "    formula_list = []\n",
    "    mass_list = []\n",
    "    charge_list = []\n",
    "    np_list = []\n",
    "    polar_list = []\n",
    "    ox_list = []\n",
    "    for key in keys:\n",
    "        m_id = \"{0}_c\".format(key.strip())\n",
    "        m = model.metabolites.get_by_id(m_id)\n",
    "        mass_list.append(m.formula_weight)\n",
    "        charge_list.append(m.charge)\n",
    "        try:\n",
    "            np_list.append(m.elements['P'])\n",
    "        except KeyError:\n",
    "            np_list.append(0)\n",
    "        polar_list.append(get_polarity_from_pubchem(m))\n",
    "        ox_list.append(calculate_oxidation_state_of_carbon(m.formula, m.charge))\n",
    "        \n",
    "    mass[i] = np.mean(mass_list)\n",
    "    charge[i] = np.mean(charge_list)\n",
    "    n_phosphate[i] = np.mean(np_list)\n",
    "    polarity[i] = np.mean(polar_list)\n",
    "    average_oxidation_state[i] = np.mean(ox_list)"
   ]
  },
  {
   "cell_type": "code",
   "execution_count": 39,
   "id": "cb5bff14-bf0a-4beb-8ff9-28b6c4dd808d",
   "metadata": {},
   "outputs": [],
   "source": [
    "met_info_df[\"Mass\"] = pd.Series(mass)\n",
    "met_info_df[\"Charge\"] = pd.Series(charge)\n",
    "met_info_df[\"Phosphate\"] = pd.Series(n_phosphate)\n",
    "met_info_df[\"Topological Polar Surface Area [Å]\"] = pd.Series(polarity)\n",
    "met_info_df[\"Average carbon oxidation\"]= pd.Series(average_oxidation_state)"
   ]
  },
  {
   "cell_type": "code",
   "execution_count": 40,
   "id": "3e138cb0-200a-47ac-8deb-3341dee3d35a",
   "metadata": {},
   "outputs": [],
   "source": [
    "met_info_df.to_csv(\"met_info.csv\")"
   ]
  },
  {
   "cell_type": "markdown",
   "id": "829e5cd0-1dcf-45db-a333-539ec46440a0",
   "metadata": {},
   "source": [
    "# Additional data"
   ]
  },
  {
   "cell_type": "code",
   "execution_count": 42,
   "id": "c66f4b2c-e434-41f0-a6fc-b87581943914",
   "metadata": {},
   "outputs": [],
   "source": [
    "df = pd.read_csv('../data/met_info_curated.csv', index_col = 0)"
   ]
  },
  {
   "cell_type": "code",
   "execution_count": 44,
   "id": "7f016a0c-3256-4cbc-8d3b-e8592f424c25",
   "metadata": {},
   "outputs": [
    {
     "name": "stdout",
     "output_type": "stream",
     "text": [
      "{'C': 6, 'H': 11, 'O': 9, 'P': 0, 'S': 0, 'N': 0} -2\n",
      "{'C': 6, 'H': 11, 'O': 9, 'P': 0, 'S': 0, 'N': 0} -2\n",
      "{'C': 6, 'H': 10, 'O': 12, 'P': 2, 'S': 0, 'N': 0} -4\n",
      "{'C': 3, 'H': 5, 'O': 6, 'P': 0, 'S': 0, 'N': 0} -2\n",
      "{'C': 3, 'H': 5, 'O': 6, 'P': 0, 'S': 0, 'N': 0} -2\n",
      "{'C': 3, 'H': 4, 'O': 7, 'P': 0, 'S': 0, 'N': 0} -3\n",
      "{'C': 3, 'H': 4, 'O': 7, 'P': 0, 'S': 0, 'N': 0} -3\n",
      "{'C': 3, 'H': 2, 'O': 6, 'P': 0, 'S': 0, 'N': 0} -3\n",
      "{'C': 3, 'H': 3, 'O': 3, 'S': 0, 'N': 0, 'P': 0} -1\n",
      "{'C': 6, 'H': 10, 'O': 10, 'P': 0, 'S': 0, 'N': 0} -3\n",
      "{'C': 5, 'H': 9, 'O': 8, 'P': 0, 'S': 0, 'N': 0} -2\n",
      "{'C': 5, 'H': 9, 'O': 8, 'P': 0, 'S': 0, 'N': 0} -2\n",
      "{'C': 5, 'H': 9, 'O': 8, 'P': 0, 'S': 0, 'N': 0} -2\n",
      "{'C': 5, 'H': 9, 'O': 8, 'P': 0, 'S': 0, 'N': 0} -2\n",
      "{'C': 5, 'H': 9, 'O': 8, 'P': 0, 'S': 0, 'N': 0} -2\n",
      "{'C': 4, 'H': 7, 'O': 7, 'P': 0, 'S': 0, 'N': 0} -2\n",
      "{'C': 7, 'H': 13, 'O': 10, 'P': 0, 'S': 0, 'N': 0} -2\n",
      "{'C': 23, 'H': 34, 'N': 7, 'O': 17, 'P': 3, 'S': 0} -4\n",
      "{'C': 6, 'H': 5, 'O': 7, 'S': 0, 'N': 0, 'P': 0} -3\n",
      "{'C': 6, 'H': 3, 'O': 6, 'S': 0, 'N': 0, 'P': 0} -3\n",
      "{'C': 6, 'H': 5, 'O': 7, 'S': 0, 'N': 0, 'P': 0} -3\n",
      "{'C': 5, 'H': 4, 'O': 5, 'S': 0, 'N': 0, 'P': 0} -2\n",
      "{'C': 4, 'H': 2, 'O': 4, 'S': 0, 'N': 0, 'P': 0} -2\n",
      "{'C': 4, 'H': 4, 'O': 5, 'S': 0, 'N': 0, 'P': 0} -2\n",
      "{'C': 4, 'H': 4, 'O': 5, 'S': 0, 'N': 0, 'P': 0} -2\n",
      "{'C': 2, 'H': 1, 'O': 3, 'S': 0, 'N': 0, 'P': 0} -1\n",
      "{'C': 10, 'H': 12, 'N': 5, 'O': 13, 'P': 3, 'S': 0} -4\n",
      "{'C': 10, 'H': 12, 'N': 5, 'O': 10, 'P': 2, 'S': 0} -3\n",
      "{'C': 10, 'H': 12, 'N': 5, 'O': 7, 'P': 0, 'S': 0} -2\n",
      "{'C': 21, 'H': 27, 'N': 7, 'O': 14, 'P': 2, 'S': 0} -2\n",
      "{'C': 21, 'H': 26, 'N': 7, 'O': 14, 'P': 2, 'S': 0} -1\n",
      "{'C': 21, 'H': 25, 'N': 7, 'O': 17, 'P': 3, 'S': 0} -3\n",
      "{'C': 21, 'H': 26, 'N': 7, 'O': 17, 'P': 3, 'S': 0} -4\n",
      "{'C': 3, 'H': 7, 'N': 0, 'O': 2, 'S': 0, 'P': 0} 0\n",
      "{'C': 6, 'H': 13, 'N': 0, 'O': 2, 'S': 0, 'P': 0} 0\n",
      "{'C': 6, 'H': 13, 'N': 0, 'O': 2, 'S': 0, 'P': 0} 0\n",
      "{'C': 5, 'H': 11, 'N': 0, 'O': 2, 'S': 0, 'P': 0} 0\n",
      "{'C': 4, 'H': 6, 'N': 0, 'O': 4, 'S': 0, 'P': 0} -1\n",
      "{'C': 4, 'H': 9, 'N': 0, 'O': 3, 'S': 0, 'P': 0} 0\n",
      "{'C': 4, 'H': 9, 'N': 0, 'O': 3, 'S': 0, 'P': 0} 0\n",
      "{'C': 5, 'H': 11, 'N': 0, 'O': 2, 'S': 0, 'P': 0} 0\n",
      "{'C': 6, 'H': 15, 'N': 2, 'O': 2, 'S': 0, 'P': 0} 1\n",
      "{'C': 11, 'H': 12, 'N': 2, 'O': 2, 'S': 0, 'P': 0} 0\n",
      "{'C': 9, 'H': 11, 'N': 0, 'O': 3, 'S': 0, 'P': 0} 0\n",
      "{'C': 9, 'H': 11, 'N': 0, 'O': 2, 'S': 0, 'P': 0} 0\n",
      "{'C': 5, 'H': 8, 'N': 0, 'O': 4, 'S': 0, 'P': 0} -1\n",
      "{'C': 5, 'H': 10, 'N': 2, 'O': 3, 'S': 0, 'P': 0} 0\n",
      "{'C': 5, 'H': 9, 'N': 0, 'O': 2, 'S': 0, 'P': 0} 0\n",
      "{'C': 3, 'H': 7, 'N': 0, 'O': 3, 'S': 0, 'P': 0} 0\n",
      "{'C': 2, 'H': 5, 'N': 0, 'O': 2, 'S': 0, 'P': 0} 0\n",
      "{'C': 6, 'H': 15, 'N': 4, 'O': 2, 'S': 0, 'P': 0} 1\n",
      "{'C': 6, 'H': 9, 'N': 3, 'O': 2, 'S': 0, 'P': 0} 0\n",
      "{'C': 2, 'H': 3, 'O': 2, 'S': 0, 'N': 0, 'P': 0} -1\n",
      "{'C': 2, 'H': 6, 'O': 0, 'S': 0, 'N': 0, 'P': 0} 0\n",
      "{'C': 5, 'H': 3, 'N': 2, 'O': 4, 'S': 0, 'P': 0} -1\n",
      "{'C': 4, 'H': 4, 'N': 2, 'O': 2, 'S': 0, 'P': 0} 0\n"
     ]
    }
   ],
   "source": [
    "average_oxidation_state = {}\n",
    "for i, row in df.iterrows():\n",
    "    m_text = row[\"Metabolite id\"]\n",
    "    try:\n",
    "        keys = m_text.split(\",\")\n",
    "    except:\n",
    "        print(m_text)\n",
    "        continue\n",
    "    ox_list = []\n",
    "    for key in keys:\n",
    "        m_id = \"{0}_c\".format(key.strip())\n",
    "        m = model.metabolites.get_by_id(m_id)\n",
    "        ox_list.append(calculate_oxidation_state_of_carbon(m.formula, m.charge))\n",
    "    average_oxidation_state[i] = np.mean(ox_list)"
   ]
  },
  {
   "cell_type": "code",
   "execution_count": 45,
   "id": "78be5792-1af4-4067-b681-300f4170c01a",
   "metadata": {},
   "outputs": [],
   "source": [
    "df[\"Average carbon oxidation\"]= pd.Series(average_oxidation_state)"
   ]
  },
  {
   "cell_type": "code",
   "execution_count": 46,
   "id": "5920013a-30c8-4914-a11f-5b101841e1fb",
   "metadata": {},
   "outputs": [],
   "source": [
    "df.to_csv('../data/met_info_curated2.csv')"
   ]
  },
  {
   "cell_type": "code",
   "execution_count": 47,
   "id": "ab186960-08f1-4d54-9e37-6a91db4806ef",
   "metadata": {},
   "outputs": [],
   "source": [
    "met_info_df = met_info_df.loc[~met_info_df.isna().any(axis = 1), :]\n",
    "met_info_df = met_info_df.loc[met_info_df.Value != 0, :]"
   ]
  },
  {
   "cell_type": "code",
   "execution_count": 48,
   "id": "e570a19b-453b-4fca-9c21-f8100a2da61b",
   "metadata": {},
   "outputs": [],
   "source": [
    "met_info_df[\"log10(metabolite concentration)\"] = np.log10(met_info_df.Value)"
   ]
  },
  {
   "cell_type": "code",
   "execution_count": 49,
   "id": "deafcd1c-7a9b-4b7a-8f96-c8e65aef7967",
   "metadata": {},
   "outputs": [
    {
     "name": "stdout",
     "output_type": "stream",
     "text": [
      "-0.2046507395799165 0.26119861655505655\n"
     ]
    },
    {
     "data": {
      "image/png": "[encoded data removed]",
      "text/plain": [
       "<Figure size 432x288 with 1 Axes>"
      ]
     },
     "metadata": {
      "needs_background": "light"
     },
     "output_type": "display_data"
    }
   ],
   "source": [
    "met_info_df.plot.scatter(x = \"log10(metabolite concentration)\", y = \"Mass\")\n",
    "corrp = st.pearsonr(met_info_df[\"log10(metabolite concentration)\"], met_info_df.Mass)\n",
    "print(corrp[0], corrp[1])"
   ]
  },
  {
   "cell_type": "code",
   "execution_count": 50,
   "id": "6c60c28b-6e3b-4901-94a2-93ec16f4346d",
   "metadata": {},
   "outputs": [
    {
     "name": "stdout",
     "output_type": "stream",
     "text": [
      "-0.23295188568842964 0.1994625802825393\n"
     ]
    },
    {
     "data": {
      "image/png": "[encoded data removed]",
      "text/plain": [
       "<Figure size 432x288 with 1 Axes>"
      ]
     },
     "metadata": {
      "needs_background": "light"
     },
     "output_type": "display_data"
    }
   ],
   "source": [
    "met_info_df.plot.scatter(x = \"log10(metabolite concentration)\", y = \"Charge\")\n",
    "corrp = st.pearsonr(met_info_df[\"log10(metabolite concentration)\"], met_info_df.Charge)\n",
    "print(corrp[0], corrp[1])"
   ]
  },
  {
   "cell_type": "code",
   "execution_count": 51,
   "id": "95fe73d9-65d8-4dcf-89fb-955803eccb4b",
   "metadata": {},
   "outputs": [
    {
     "name": "stdout",
     "output_type": "stream",
     "text": [
      "-0.054931520346511935 0.7652437184094022\n"
     ]
    },
    {
     "data": {
      "image/png": "[encoded data removed]",
      "text/plain": [
       "<Figure size 432x288 with 1 Axes>"
      ]
     },
     "metadata": {
      "needs_background": "light"
     },
     "output_type": "display_data"
    }
   ],
   "source": [
    "met_info_df.plot.scatter(x = \"log10(metabolite concentration)\", y = \"Phosphate\")\n",
    "corrp = st.pearsonr(met_info_df[\"log10(metabolite concentration)\"], met_info_df.Phosphate)\n",
    "print(corrp[0], corrp[1])"
   ]
  },
  {
   "cell_type": "code",
   "execution_count": 52,
   "id": "53e81ee2-6fe2-4c64-84d8-5660884ec4a2",
   "metadata": {},
   "outputs": [
    {
     "name": "stdout",
     "output_type": "stream",
     "text": [
      "-0.14272067538148706 0.4358439550028726\n"
     ]
    },
    {
     "data": {
      "image/png": "[encoded data removed]",
      "text/plain": [
       "<Figure size 432x288 with 1 Axes>"
      ]
     },
     "metadata": {
      "needs_background": "light"
     },
     "output_type": "display_data"
    }
   ],
   "source": [
    "met_info_df.plot.scatter(x = \"log10(metabolite concentration)\", y = \"Topological Polar Surface Area [Å]\")\n",
    "corrp = st.pearsonr(met_info_df[\"log10(metabolite concentration)\"], met_info_df[\"Topological Polar Surface Area [Å]\"])\n",
    "print(corrp[0], corrp[1])"
   ]
  },
  {
   "cell_type": "code",
   "execution_count": null,
   "id": "f6d5b8d4-85b3-4fe5-88f1-8668260c93f4",
   "metadata": {},
   "outputs": [],
   "source": []
  },
  {
   "cell_type": "code",
   "execution_count": null,
   "id": "1a4e800f-721b-400d-994e-678bdd86bb10",
   "metadata": {},
   "outputs": [],
   "source": []
  },
  {
   "cell_type": "code",
   "execution_count": null,
   "id": "f731695c-858b-44de-8d3d-faf6e2ea41ad",
   "metadata": {},
   "outputs": [],
   "source": []
  }
 ],
 "metadata": {
  "kernelspec": {
   "display_name": "Python 3 (ipykernel)",
   "language": "python",
   "name": "python3"
  },
  "language_info": {
   "codemirror_mode": {
    "name": "ipython",
    "version": 3
   },
   "file_extension": ".py",
   "mimetype": "text/x-python",
   "name": "python",
   "nbconvert_exporter": "python",
   "pygments_lexer": "ipython3",
   "version": "3.12.0"
  }
 },
 "nbformat": 4,
 "nbformat_minor": 5
}
