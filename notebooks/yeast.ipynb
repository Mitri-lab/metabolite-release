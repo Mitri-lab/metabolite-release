{
 "cells": [
  {
   "cell_type": "code",
   "execution_count": 11,
   "id": "34d6c702-804c-4ae3-a4ce-06bdbadcc463",
   "metadata": {},
   "outputs": [],
   "source": [
    "import cobra\n",
    "import numpy as np\n",
    "from matplotlib import pyplot as plt\n",
    "import pandas as pd"
   ]
  },
  {
   "cell_type": "code",
   "execution_count": 16,
   "id": "26c7b9d5-bd92-41c5-ab30-d6bad7352522",
   "metadata": {},
   "outputs": [],
   "source": [
    "def inf_to_100000(model):\n",
    "    for r in model.reactions:\n",
    "        if np.isinf(r.lower_bound):\n",
    "            r.lower_bound = -100000\n",
    "        if np.isinf(r.upper_bound):\n",
    "            r.upper_bound = 100000\n",
    "    return model\n",
    "\n",
    "def print_summary(model, solution):\n",
    "    # Print uptake\n",
    "    for r in model.exchanges:\n",
    "        flux = solution[r.id]\n",
    "        if  flux >1e-3:\n",
    "            print(r.id, r.name,flux, r.bounds)\n",
    "        elif flux < -1e-3:\n",
    "            print(r.id, r.name,flux, r.bounds)\n",
    "    #print(\"## Demands ##\")\n",
    "    #for r in model.demands:\n",
    "    #    print(r.id, solution[r.id])\n",
    "\n",
    "    print(\"Growth: \", solution['r_2111'])\n",
    "    print(\"Prot pool exchange: \", solution['prot_pool_exchange'])"
   ]
  },
  {
   "cell_type": "code",
   "execution_count": 17,
   "id": "c5bca54c-9e9f-4e95-be71-54b3cf5c6479",
   "metadata": {},
   "outputs": [],
   "source": [
    "model = cobra.io.read_sbml_model('models/yeast/ecYeastGEM_batch_8_3_4.xml')\n",
    "model = inf_to_100000(model)"
   ]
  },
  {
   "cell_type": "code",
   "execution_count": 18,
   "id": "16efb920-1fbc-44d7-816b-d2c03fe933e6",
   "metadata": {},
   "outputs": [
    {
     "name": "stdout",
     "output_type": "stream",
     "text": [
      "9.968571784677293\n"
     ]
    }
   ],
   "source": [
    "# Data on glucose uptake https://ami-journals.onlinelibrary.wiley.com/doi/10.1111/1751-7915.13995\n",
    "init_glucose_conc = 16 #g/L\n",
    "glucose_mw = 180.156 #g/mol\n",
    "conc_gluc_mM = (init_glucose_conc/glucose_mw)*1e3\n",
    "km_glc = 0.28 #mmol l−1\n",
    "vmax_glc = 10 #mmol gDW−1\n",
    "\n",
    "r_glc = vmax_glc * conc_gluc_mM / (conc_gluc_mM + km_glc)\n",
    "print(r_glc)"
   ]
  },
  {
   "cell_type": "markdown",
   "id": "2612a9f9",
   "metadata": {},
   "source": [
    "## Note\n",
    "As also stated in https://ami-journals.onlinelibrary.wiley.com/doi/10.1111/1751-7915.13995 glucose uptake is not constrained by km (i.e. vmax = 10)\n"
   ]
  },
  {
   "cell_type": "code",
   "execution_count": 19,
   "id": "b4c9f934",
   "metadata": {},
   "outputs": [],
   "source": [
    "model.reactions.get_by_id('r_1714_REV').upper_bound = 10\n"
   ]
  },
  {
   "cell_type": "code",
   "execution_count": 20,
   "id": "2663e1a5-05c2-42bb-879a-4a7d8d9ff7e7",
   "metadata": {},
   "outputs": [
    {
     "name": "stdout",
     "output_type": "stream",
     "text": [
      "r_2111 growth\n"
     ]
    }
   ],
   "source": [
    "for r in model.reactions:\n",
    "    if r.objective_coefficient ==1:\n",
    "        print(r.id, r.name)"
   ]
  },
  {
   "cell_type": "code",
   "execution_count": 21,
   "id": "ca5610c1-5213-4e7c-971f-011228e5e8b5",
   "metadata": {},
   "outputs": [
    {
     "name": "stdout",
     "output_type": "stream",
     "text": [
      "r_1634 acetate exchange 3.1280052022880684 (0.0, 100000)\n",
      "r_1672 carbon dioxide exchange 14.497367670034173 (0.0, 100000)\n",
      "r_1761 ethanol exchange 9.481321215226956 (0.0, 100000)\n",
      "r_1793 formate exchange 0.015479323997860745 (0.0, 100000)\n",
      "r_2033 pyruvate exchange 1.8211915849188183 (0.0, 100000)\n",
      "r_2100 water exchange 13.349446934783707 (0.0, 100000)\n",
      "r_1654_REV ammonium exchange (reversible) 2.47436986658537 (0.0, 100000)\n",
      "r_1714_REV D-glucose exchange (reversible) 10.0 (0.0, 10)\n",
      "r_1832_REV H+ exchange (reversible) 4.105543023388592 (0.0, 100000)\n",
      "r_1992_REV oxygen exchange (reversible) 5.235025465027337 (0.0, 100000)\n",
      "r_2005_REV phosphate exchange (reversible) 0.09876531190371217 (0.0, 100000)\n",
      "r_2020_REV potassium exchange (reversible) 0.0013110509863839377 (0.0, 100000)\n",
      "r_2049_REV sodium exchange (reversible) 0.0014338491503978598 (0.0, 100000)\n",
      "r_2060_REV sulphate exchange (reversible) 0.033062502733072076 (0.0, 100000)\n",
      "Growth:  0.36117107062918397\n",
      "Prot pool exchange:  0.103720024310123\n"
     ]
    }
   ],
   "source": [
    "solution = model.optimize()\n",
    "print_summary(model, solution)\n"
   ]
  },
  {
   "cell_type": "markdown",
   "id": "cf6dd6f5-5750-44f5-80a1-54a45c58f33f",
   "metadata": {},
   "source": [
    "# FVA"
   ]
  },
  {
   "cell_type": "code",
   "execution_count": 22,
   "id": "406fc81c-0611-43b4-84c8-695849176f13",
   "metadata": {},
   "outputs": [],
   "source": [
    "dfv2 = cobra.flux_analysis.flux_variability_analysis(model, reaction_list = model.exchanges, fraction_of_optimum = 0.99)"
   ]
  },
  {
   "cell_type": "code",
   "execution_count": 23,
   "id": "eed25d27-5bf5-4de2-be15-03206bcc2d10",
   "metadata": {},
   "outputs": [],
   "source": [
    "dfv2 = dfv2.loc[dfv2.abs().max(1) > 1e-4, :]"
   ]
  },
  {
   "cell_type": "code",
   "execution_count": 24,
   "id": "965a6e7d-75b4-45da-afef-9e0adc3f5d29",
   "metadata": {},
   "outputs": [],
   "source": [
    "names = []\n",
    "for idx in dfv2.index:\n",
    "    names.append(model.reactions.get_by_id(idx).name)\n",
    "dfv2[\"Reaction name\"] = names"
   ]
  },
  {
   "cell_type": "code",
   "execution_count": 25,
   "id": "8aee7ad1-bc9b-4369-a8c9-df824722d284",
   "metadata": {},
   "outputs": [],
   "source": [
    "dfv2.to_csv('models/yeast/dfv99.csv', float_format='%.3f')#, sep = \";\")"
   ]
  },
  {
   "cell_type": "markdown",
   "id": "5c78e4df-aca9-4586-9332-9c6bf92be416",
   "metadata": {},
   "source": [
    "## Check shadow prices\n",
    "Check whether there is a correlation between shadow prices and peak metabolite concentrations"
   ]
  },
  {
   "cell_type": "code",
   "execution_count": 26,
   "id": "96998f4b-f410-46f8-baee-d817b626ad54",
   "metadata": {},
   "outputs": [],
   "source": [
    "import scipy.stats as st"
   ]
  },
  {
   "cell_type": "code",
   "execution_count": 99,
   "id": "388b1b7f-5379-4e9a-8aeb-0ec2678c8c8b",
   "metadata": {},
   "outputs": [],
   "source": [
    "model = cobra.io.read_sbml_model('models/yeast/ecYeastGEM_batch_8_3_4.xml')\n",
    "model = inf_to_100000(model)"
   ]
  },
  {
   "cell_type": "code",
   "execution_count": 100,
   "id": "8982b75f-dcd7-4f90-bcc6-63388bde2c80",
   "metadata": {},
   "outputs": [],
   "source": [
    "# Set carbon uptake\n",
    "glucose_uptake = 10\n",
    "model.reactions.get_by_id('r_1714_REV').upper_bound = glucose_uptake\n",
    "#model.reactions.get_by_id('r_1714').lower_bound = -9"
   ]
  },
  {
   "cell_type": "code",
   "execution_count": 101,
   "id": "cc75d72d-c5d2-4fee-8b31-dba28504af01",
   "metadata": {},
   "outputs": [
    {
     "name": "stdout",
     "output_type": "stream",
     "text": [
      "r_1634 acetate exchange 3.1280052022880684 (0.0, 100000)\n",
      "r_1672 carbon dioxide exchange 14.497367670034173 (0.0, 100000)\n",
      "r_1761 ethanol exchange 9.481321215226956 (0.0, 100000)\n",
      "r_1793 formate exchange 0.015479323997860745 (0.0, 100000)\n",
      "r_2033 pyruvate exchange 1.8211915849188183 (0.0, 100000)\n",
      "r_2100 water exchange 13.349446934783707 (0.0, 100000)\n",
      "r_1654_REV ammonium exchange (reversible) 2.47436986658537 (0.0, 100000)\n",
      "r_1714_REV D-glucose exchange (reversible) 10.0 (0.0, 10)\n",
      "r_1832_REV H+ exchange (reversible) 4.105543023388592 (0.0, 100000)\n",
      "r_1992_REV oxygen exchange (reversible) 5.235025465027337 (0.0, 100000)\n",
      "r_2005_REV phosphate exchange (reversible) 0.09876531190371217 (0.0, 100000)\n",
      "r_2020_REV potassium exchange (reversible) 0.0013110509863839377 (0.0, 100000)\n",
      "r_2049_REV sodium exchange (reversible) 0.0014338491503978598 (0.0, 100000)\n",
      "r_2060_REV sulphate exchange (reversible) 0.033062502733072076 (0.0, 100000)\n",
      "Growth:  0.36117107062918397\n",
      "Prot pool exchange:  0.103720024310123\n"
     ]
    }
   ],
   "source": [
    "solution = model.optimize()\n",
    "print_summary(model, solution)"
   ]
  },
  {
   "cell_type": "code",
   "execution_count": 104,
   "id": "01ffbd64-39d6-4621-a144-385273cf8e51",
   "metadata": {},
   "outputs": [],
   "source": [
    "# Read measurements\n",
    "measurements = pd.read_csv('yeast_measurements.csv')\n",
    "measurements.drop(columns = [\"Note\"], inplace = True)\n",
    "# Read metabolite mapping\n",
    "mapping_df = pd.read_csv('id_mapping.csv')"
   ]
  },
  {
   "cell_type": "code",
   "execution_count": 105,
   "id": "5b4ee710-1497-4e2b-aa6c-5f215443aa19",
   "metadata": {},
   "outputs": [],
   "source": [
    "met_id_key = \"Yeast metabolite\"\n",
    "name_to_met_id = mapping_df.loc[:, [\"Metabolite name\", met_id_key]].set_index(\"Metabolite name\").to_dict()[met_id_key]"
   ]
  },
  {
   "cell_type": "code",
   "execution_count": 106,
   "id": "01cb3bed-ede3-4fb7-92a1-a97b4deaf728",
   "metadata": {},
   "outputs": [
    {
     "name": "stdout",
     "output_type": "stream",
     "text": [
      "nan\n",
      "nan\n",
      "nan\n"
     ]
    }
   ],
   "source": [
    "solution = model.optimize()\n",
    "shadow_prices = []\n",
    "for i, row in measurements.iterrows():\n",
    "    key = name_to_met_id[row[\"Metabolite name\"]]\n",
    "    try:\n",
    "        keys = key.split(\",\")\n",
    "    except:\n",
    "        print(key)\n",
    "        shadow_prices.append(np.nan)\n",
    "        continue\n",
    "    values = []\n",
    "    for key in keys:\n",
    "        met_id = \"{0}[c]\".format(key.strip())\n",
    "        values.append(solution.shadow_prices[met_id])\n",
    "    shadow_prices.append(max(values))"
   ]
  },
  {
   "cell_type": "code",
   "execution_count": 107,
   "id": "a91f7b84-f7c3-4965-ba00-66feedb38555",
   "metadata": {},
   "outputs": [],
   "source": [
    "df = measurements.copy()\n",
    "df[\"Shadow price\"] = np.abs(shadow_prices)\n",
    "df = df.loc[~df.isna().any(axis = 1), :]\n",
    "df = df.loc[df.Value != 0, :]\n",
    "df = df.loc[df[\"Shadow price\"] != 0, :]\n"
   ]
  },
  {
   "cell_type": "code",
   "execution_count": 108,
   "id": "fc9d50d0-ef43-43d3-abfc-7bce1bab9161",
   "metadata": {},
   "outputs": [
    {
     "data": {
      "text/html": [
       "<div>\n",
       "<style scoped>\n",
       "    .dataframe tbody tr th:only-of-type {\n",
       "        vertical-align: middle;\n",
       "    }\n",
       "\n",
       "    .dataframe tbody tr th {\n",
       "        vertical-align: top;\n",
       "    }\n",
       "\n",
       "    .dataframe thead th {\n",
       "        text-align: right;\n",
       "    }\n",
       "</style>\n",
       "<table border=\"1\" class=\"dataframe\">\n",
       "  <thead>\n",
       "    <tr style=\"text-align: right;\">\n",
       "      <th></th>\n",
       "      <th>Metabolite name</th>\n",
       "      <th>Value</th>\n",
       "      <th>Uncertainty</th>\n",
       "      <th>Shadow price</th>\n",
       "    </tr>\n",
       "  </thead>\n",
       "  <tbody>\n",
       "    <tr>\n",
       "      <th>0</th>\n",
       "      <td>Glucose-6-phosphate</td>\n",
       "      <td>17.65</td>\n",
       "      <td>0.53</td>\n",
       "      <td>0.008056</td>\n",
       "    </tr>\n",
       "    <tr>\n",
       "      <th>1</th>\n",
       "      <td>Fructose-6-phosphate</td>\n",
       "      <td>29.29</td>\n",
       "      <td>0.60</td>\n",
       "      <td>0.008135</td>\n",
       "    </tr>\n",
       "    <tr>\n",
       "      <th>2</th>\n",
       "      <td>Fructose-1,6-bisphosphate</td>\n",
       "      <td>34.21</td>\n",
       "      <td>0.72</td>\n",
       "      <td>0.012011</td>\n",
       "    </tr>\n",
       "    <tr>\n",
       "      <th>3</th>\n",
       "      <td>Dihydroxyacetonephosphate</td>\n",
       "      <td>50.40</td>\n",
       "      <td>1.74</td>\n",
       "      <td>0.006537</td>\n",
       "    </tr>\n",
       "    <tr>\n",
       "      <th>4</th>\n",
       "      <td>Glyceraldehyde-3-phosphate</td>\n",
       "      <td>15.04</td>\n",
       "      <td>0.24</td>\n",
       "      <td>0.006540</td>\n",
       "    </tr>\n",
       "    <tr>\n",
       "      <th>5</th>\n",
       "      <td>2/3-phosphoglycerate</td>\n",
       "      <td>19.45</td>\n",
       "      <td>1.55</td>\n",
       "      <td>0.003843</td>\n",
       "    </tr>\n",
       "    <tr>\n",
       "      <th>6</th>\n",
       "      <td>Phosphoenolpyruvate</td>\n",
       "      <td>20.43</td>\n",
       "      <td>0.28</td>\n",
       "      <td>0.004048</td>\n",
       "    </tr>\n",
       "    <tr>\n",
       "      <th>9</th>\n",
       "      <td>Ribose-5-phosphate</td>\n",
       "      <td>10.29</td>\n",
       "      <td>0.22</td>\n",
       "      <td>0.009358</td>\n",
       "    </tr>\n",
       "    <tr>\n",
       "      <th>10</th>\n",
       "      <td>Ribu-/Xylulose-5-phosphate</td>\n",
       "      <td>3.69</td>\n",
       "      <td>0.04</td>\n",
       "      <td>0.006785</td>\n",
       "    </tr>\n",
       "    <tr>\n",
       "      <th>11</th>\n",
       "      <td>Erythrose-4-phosphate</td>\n",
       "      <td>1.31</td>\n",
       "      <td>0.21</td>\n",
       "      <td>0.008668</td>\n",
       "    </tr>\n",
       "    <tr>\n",
       "      <th>14</th>\n",
       "      <td>Citrate</td>\n",
       "      <td>139.80</td>\n",
       "      <td>6.20</td>\n",
       "      <td>0.010606</td>\n",
       "    </tr>\n",
       "    <tr>\n",
       "      <th>15</th>\n",
       "      <td>Cis-aconitate</td>\n",
       "      <td>14.13</td>\n",
       "      <td>0.40</td>\n",
       "      <td>0.010867</td>\n",
       "    </tr>\n",
       "    <tr>\n",
       "      <th>16</th>\n",
       "      <td>Isocitrate</td>\n",
       "      <td>23.13</td>\n",
       "      <td>0.54</td>\n",
       "      <td>0.011127</td>\n",
       "    </tr>\n",
       "    <tr>\n",
       "      <th>17</th>\n",
       "      <td>α-Ketoglutarate</td>\n",
       "      <td>200.00</td>\n",
       "      <td>17.70</td>\n",
       "      <td>0.009292</td>\n",
       "    </tr>\n",
       "    <tr>\n",
       "      <th>18</th>\n",
       "      <td>Fumarate</td>\n",
       "      <td>12.45</td>\n",
       "      <td>2.31</td>\n",
       "      <td>0.005702</td>\n",
       "    </tr>\n",
       "    <tr>\n",
       "      <th>26</th>\n",
       "      <td>Alanine</td>\n",
       "      <td>1.69</td>\n",
       "      <td>0.19</td>\n",
       "      <td>0.003429</td>\n",
       "    </tr>\n",
       "    <tr>\n",
       "      <th>27</th>\n",
       "      <td>Leucine/Isoleucine</td>\n",
       "      <td>20.17</td>\n",
       "      <td>0.21</td>\n",
       "      <td>0.047861</td>\n",
       "    </tr>\n",
       "    <tr>\n",
       "      <th>28</th>\n",
       "      <td>Valine</td>\n",
       "      <td>88.50</td>\n",
       "      <td>2.18</td>\n",
       "      <td>0.021475</td>\n",
       "    </tr>\n",
       "    <tr>\n",
       "      <th>29</th>\n",
       "      <td>Aspartate</td>\n",
       "      <td>20.87</td>\n",
       "      <td>0.55</td>\n",
       "      <td>0.009566</td>\n",
       "    </tr>\n",
       "    <tr>\n",
       "      <th>30</th>\n",
       "      <td>Homoserine</td>\n",
       "      <td>2.43</td>\n",
       "      <td>0.48</td>\n",
       "      <td>0.017843</td>\n",
       "    </tr>\n",
       "    <tr>\n",
       "      <th>31</th>\n",
       "      <td>Threonine</td>\n",
       "      <td>2.59</td>\n",
       "      <td>0.30</td>\n",
       "      <td>0.022939</td>\n",
       "    </tr>\n",
       "    <tr>\n",
       "      <th>32</th>\n",
       "      <td>Methionine</td>\n",
       "      <td>0.55</td>\n",
       "      <td>0.01</td>\n",
       "      <td>0.104316</td>\n",
       "    </tr>\n",
       "    <tr>\n",
       "      <th>34</th>\n",
       "      <td>Tryptophane</td>\n",
       "      <td>0.25</td>\n",
       "      <td>0.01</td>\n",
       "      <td>0.402524</td>\n",
       "    </tr>\n",
       "    <tr>\n",
       "      <th>35</th>\n",
       "      <td>Tyrosine</td>\n",
       "      <td>29.80</td>\n",
       "      <td>0.90</td>\n",
       "      <td>0.074274</td>\n",
       "    </tr>\n",
       "    <tr>\n",
       "      <th>36</th>\n",
       "      <td>Phenylalanine</td>\n",
       "      <td>28.00</td>\n",
       "      <td>0.56</td>\n",
       "      <td>0.075132</td>\n",
       "    </tr>\n",
       "    <tr>\n",
       "      <th>39</th>\n",
       "      <td>Proline</td>\n",
       "      <td>0.54</td>\n",
       "      <td>0.13</td>\n",
       "      <td>0.026066</td>\n",
       "    </tr>\n",
       "    <tr>\n",
       "      <th>40</th>\n",
       "      <td>Serine</td>\n",
       "      <td>0.87</td>\n",
       "      <td>0.52</td>\n",
       "      <td>0.023021</td>\n",
       "    </tr>\n",
       "    <tr>\n",
       "      <th>41</th>\n",
       "      <td>Glycine</td>\n",
       "      <td>1.23</td>\n",
       "      <td>0.52</td>\n",
       "      <td>0.010062</td>\n",
       "    </tr>\n",
       "    <tr>\n",
       "      <th>42</th>\n",
       "      <td>Arginine</td>\n",
       "      <td>9.61</td>\n",
       "      <td>0.91</td>\n",
       "      <td>0.104217</td>\n",
       "    </tr>\n",
       "    <tr>\n",
       "      <th>43</th>\n",
       "      <td>Histidine</td>\n",
       "      <td>6.84</td>\n",
       "      <td>0.01</td>\n",
       "      <td>0.206780</td>\n",
       "    </tr>\n",
       "    <tr>\n",
       "      <th>47</th>\n",
       "      <td>Orotate</td>\n",
       "      <td>1100.00</td>\n",
       "      <td>27.00</td>\n",
       "      <td>0.041934</td>\n",
       "    </tr>\n",
       "    <tr>\n",
       "      <th>48</th>\n",
       "      <td>Uracil</td>\n",
       "      <td>1443.00</td>\n",
       "      <td>30.00</td>\n",
       "      <td>0.149259</td>\n",
       "    </tr>\n",
       "  </tbody>\n",
       "</table>\n",
       "</div>"
      ],
      "text/plain": [
       "               Metabolite name    Value  Uncertainty  Shadow price\n",
       "0          Glucose-6-phosphate    17.65         0.53      0.008056\n",
       "1         Fructose-6-phosphate    29.29         0.60      0.008135\n",
       "2    Fructose-1,6-bisphosphate    34.21         0.72      0.012011\n",
       "3    Dihydroxyacetonephosphate    50.40         1.74      0.006537\n",
       "4   Glyceraldehyde-3-phosphate    15.04         0.24      0.006540\n",
       "5         2/3-phosphoglycerate    19.45         1.55      0.003843\n",
       "6          Phosphoenolpyruvate    20.43         0.28      0.004048\n",
       "9           Ribose-5-phosphate    10.29         0.22      0.009358\n",
       "10  Ribu-/Xylulose-5-phosphate     3.69         0.04      0.006785\n",
       "11       Erythrose-4-phosphate     1.31         0.21      0.008668\n",
       "14                     Citrate   139.80         6.20      0.010606\n",
       "15               Cis-aconitate    14.13         0.40      0.010867\n",
       "16                  Isocitrate    23.13         0.54      0.011127\n",
       "17             α-Ketoglutarate   200.00        17.70      0.009292\n",
       "18                    Fumarate    12.45         2.31      0.005702\n",
       "26                     Alanine     1.69         0.19      0.003429\n",
       "27          Leucine/Isoleucine    20.17         0.21      0.047861\n",
       "28                      Valine    88.50         2.18      0.021475\n",
       "29                   Aspartate    20.87         0.55      0.009566\n",
       "30                  Homoserine     2.43         0.48      0.017843\n",
       "31                   Threonine     2.59         0.30      0.022939\n",
       "32                  Methionine     0.55         0.01      0.104316\n",
       "34                 Tryptophane     0.25         0.01      0.402524\n",
       "35                    Tyrosine    29.80         0.90      0.074274\n",
       "36               Phenylalanine    28.00         0.56      0.075132\n",
       "39                     Proline     0.54         0.13      0.026066\n",
       "40                      Serine     0.87         0.52      0.023021\n",
       "41                     Glycine     1.23         0.52      0.010062\n",
       "42                    Arginine     9.61         0.91      0.104217\n",
       "43                   Histidine     6.84         0.01      0.206780\n",
       "47                     Orotate  1100.00        27.00      0.041934\n",
       "48                      Uracil  1443.00        30.00      0.149259"
      ]
     },
     "execution_count": 108,
     "metadata": {},
     "output_type": "execute_result"
    }
   ],
   "source": [
    "df"
   ]
  },
  {
   "cell_type": "code",
   "execution_count": 109,
   "id": "fb0a036d-6c9d-4b4b-81a1-58b3d1d868af",
   "metadata": {},
   "outputs": [
    {
     "name": "stdout",
     "output_type": "stream",
     "text": [
      "-0.07807917888563048 0.6710121625864036\n"
     ]
    }
   ],
   "source": [
    "corrp = st.spearmanr(np.log10(df[\"Value\"]), np.log10(df[\"Shadow price\"]))\n",
    "print(corrp[0], corrp[1])"
   ]
  },
  {
   "cell_type": "code",
   "execution_count": 110,
   "id": "10e58a63-7092-4787-82e6-c2e1603537ed",
   "metadata": {},
   "outputs": [
    {
     "name": "stdout",
     "output_type": "stream",
     "text": [
      "-0.06626517484541242 0.7185965948263843\n"
     ]
    }
   ],
   "source": [
    "corrp = st.pearsonr(np.log10(df[\"Value\"]), np.log10(df[\"Shadow price\"]))\n",
    "print(corrp[0], corrp[1])"
   ]
  },
  {
   "cell_type": "code",
   "execution_count": 112,
   "id": "9b95a28b-2a7b-41b9-8029-7617a44aacf7",
   "metadata": {},
   "outputs": [],
   "source": [
    "df[\"log10(shadow price)\"] = np.log10(df[\"Shadow price\"])\n",
    "df[\"log10(metabolite concentration)\"] = np.log10(df.Value)"
   ]
  },
  {
   "cell_type": "code",
   "execution_count": 113,
   "id": "8c534825-75cd-4901-aba0-89580c2a38a0",
   "metadata": {},
   "outputs": [
    {
     "data": {
      "image/png": "[encoded data removed]",
      "text/plain": [
       "<Figure size 1152x864 with 1 Axes>"
      ]
     },
     "metadata": {
      "needs_background": "light"
     },
     "output_type": "display_data"
    }
   ],
   "source": [
    "plt.rcParams.update({'font.size': 15})\n",
    "ax = df.plot.scatter(x = \"log10(metabolite concentration)\", y = \"log10(shadow price)\", figsize = (16, 12),\n",
    "                    fontsize = 15, s = 100)\n",
    "# Annotate each data point\n",
    "for i, txt in enumerate(df[\"Metabolite name\"]):\n",
    "    ax.annotate(txt, (df[\"log10(metabolite concentration)\"].iat[i]+0.05, df[\"log10(shadow price)\"].iat[i]))\n",
    "\n",
    "plt.title(\"Glucose uptake: {0}\".format(glucose_uptake))\n",
    "#ax.plot(df[\"log10(metabolite concentration)\"], trendline_fun(df[\"log10(metabolite concentration)\"]))\n",
    "ax.annotate(\"Pearson corr: {0:.2f}, p-value: {1:.3f}\".format(corrp[0], corrp[1]), (-2, -1.55), fontsize = 15, c = 'r')\n",
    "#ax.annotate(\"Pearson corr: {0:.2f}, p-value: {1:.3f}\".format(corrp[0], corrp[1]), (-1.5, -2.5), fontsize = 15, c = 'r')\n",
    "plt.savefig('results/yeast/shadow_price_vs_met_conc_glc{0}.svg'.format(glucose_uptake))\n",
    "plt.savefig('results/yeast/shadow_price_vs_met_conc_glc{0}.png'.format(glucose_uptake))"
   ]
  },
  {
   "cell_type": "code",
   "execution_count": null,
   "id": "67a65dbb",
   "metadata": {},
   "outputs": [],
   "source": []
  },
  {
   "cell_type": "code",
   "execution_count": null,
   "id": "70ddf9a6",
   "metadata": {},
   "outputs": [],
   "source": []
  },
  {
   "cell_type": "code",
   "execution_count": null,
   "id": "7efd6d91-7f2d-45e0-b773-2b9060d75613",
   "metadata": {},
   "outputs": [],
   "source": [
    "solution_0 = model.optimize()\n",
    "print_summary(model, solution)\n",
    "met_id = 's_0680[c]'\n",
    "print(solution.shadow_prices[met_id])\n",
    "\n",
    "with model:\n",
    "    m = model.metabolites.get_by_id(met_id)#s_0680 ethanol\n",
    "    #r_demand = model.add_boundary(m, type=\"demand\")\n",
    "    #r_demand.bounds = (10,10)\n",
    "    ethanol_production = solution.fluxes[\"r_1761\"]\n",
    "    model.reactions.r_1761.bounds = (ethanol_production+1,ethanol_production+1)\n",
    "    solution = model.optimize()\n",
    "    print_summary(model, solution)\n",
    "    print(model.demands)\n",
    "shadow_price_ethanol = solution_0['r_2111']- solution['r_2111']"
   ]
  },
  {
   "cell_type": "code",
   "execution_count": 273,
   "id": "a99b1cf0-8086-410e-9957-d8dfc8c65016",
   "metadata": {},
   "outputs": [
    {
     "name": "stdout",
     "output_type": "stream",
     "text": [
      "s_0568[c] 0.008056488170088416 -0.008056488170054334\n",
      "s_0557[c] 0.008134725790612252 -0.008134725790575848\n",
      "s_0555[c] 0.01264485424877948 -0.012644854248741382\n",
      "s_0629[c] 0.00653694062810517 -0.006536940628107867\n",
      "s_0764[c] 0.0065396450138593964 -0.006539645013858835\n",
      "s_0260[c] 0.0038429488647995225 -0.003842948864795603\n",
      "s_1360[c] 0.004048379758957998 -0.004048379758955457\n",
      "s_1399[c] 0.0 -0.0\n",
      "s_0340[c] 0.008031969305279385 -0.008031969305275615\n",
      "s_1408[c] 0.009358325039156568 -0.009358325039163359\n",
      "s_0581[c] 0.006784868970906577 -0.006941251474536198\n",
      "s_0551[c] 0.008668293099051705 -0.008668293099050766\n",
      "s_1427[c] 0.010695105269054594 -0.010695105268993005\n",
      "s_0373[c] -0.004354160824951991 0.00435416082494019\n",
      "s_0522[c] 0.010606231642334984 -0.010606231642352283\n",
      "s_0516[c] 0.010866643277773758 -0.010866643277792307\n",
      "s_0940[c] 0.0111270549132092 -0.01112705491323233\n",
      "s_0180[c] 0.00929216562432611 -0.009292165624349836\n",
      "s_0725[c] 0.005702298573190823 -0.005702298573217975\n",
      "s_0066[c] 0.005747195658510895 -0.0057471956585175765\n",
      "s_0779[c] 0.010030356347223712 -0.006352771337000553\n",
      "nan\n",
      "s_0423[c] 0.2930060591489053 -0.2930060591488961\n",
      "s_1198[c] 0.915256189356089 -0.9145279886396523\n",
      "s_1212[c] 0.9199929775755278 -0.9214093733267319\n",
      "nan\n",
      "s_0955[c] 0.003429345588248922 -0.0034293455882682083\n",
      "s_1016[c] 0.047861070975393494 -0.07510608800376771\n",
      "s_1056[c] 0.021474488419434556 -0.021474488419437304\n",
      "s_0973[c] 0.009565548191298179 -0.009565548191301194\n",
      "s_1014[c] 0.0178427487145999 -0.017842748714578884\n",
      "s_1045[c] 0.02293853402136503 -0.022938534021385303\n",
      "s_1029[c] 0.10431547044054079 -0.10431547044056413\n",
      "s_1025[c] 0.16371706216881 -0.1637170621688322\n",
      "s_1048[c] 0.4033847352684733 -0.4025233347827504\n",
      "s_1051[c] 0.0749883589346273 -0.07427407044073099\n",
      "s_1032[c] 0.07584635275060037 -0.07513167990051746\n",
      "s_0991[c] 0.012637941583171775 -0.012637941583209909\n",
      "s_0999[c] 0.01758474602352178 -0.017584746023531703\n",
      "s_1035[c] 0.026066412202255806 -0.02606641220226432\n",
      "s_1039[c] 0.023020552804305927 -0.0230205528042804\n",
      "s_1003[c] 0.013508371250932627 -0.010061794226376656\n",
      "s_0965[c] 0.10421653239703399 -0.10421653239709346\n",
      "s_1006[c] 0.20678020750044324 -0.20678020750043782\n",
      "nan\n",
      "s_0362[c] -3.164135620181696e-14 -0.0\n",
      "s_0680[c] -3.164135620181696e-14 -0.0\n",
      "s_1269[c] 0.04193363120597704 -0.0419336312060068\n",
      "s_1550[c] 0.16106914567394548 -0.16106914567398015\n"
     ]
    }
   ],
   "source": [
    "solution_0 = model.optimize()\n",
    "growth_rate = solution_0['r_2111']\n",
    "manual_shadow_prices = {}\n",
    "for i, row in measurements.iterrows():\n",
    "    key = name_to_met_id[row[\"Metabolite name\"]]\n",
    "    try:\n",
    "        keys = key.split(\",\")\n",
    "    except:\n",
    "        print(key)\n",
    "        shadow_prices.append(np.nan)\n",
    "        continue\n",
    "    values = []\n",
    "    for key in keys:\n",
    "        with model:\n",
    "            met_id = \"{0}[c]\".format(key.strip())\n",
    "            m = model.metabolites.get_by_id(met_id)\n",
    "            r_demand = model.add_boundary(m, type=\"demand\")\n",
    "            r_demand.bounds = (0.1,0.1)\n",
    "            solution = model.optimize()\n",
    "            values.append((growth_rate - solution['r_2111'])*10)\n",
    "    manual_shadow_prices[row[\"Metabolite name\"]] = min(values)\n",
    "    print(m.id, min(values), solution_0.shadow_prices[met_id])"
   ]
  },
  {
   "cell_type": "code",
   "execution_count": 265,
   "id": "b4f9cbc8-0bd1-46e2-a262-e28be5018d74",
   "metadata": {},
   "outputs": [
    {
     "data": {
      "text/plain": [
       "'s_1550'"
      ]
     },
     "execution_count": 265,
     "metadata": {},
     "output_type": "execute_result"
    }
   ],
   "source": []
  }
 ],
 "metadata": {
  "kernelspec": {
   "display_name": "Python 3 (ipykernel)",
   "language": "python",
   "name": "python3"
  },
  "language_info": {
   "codemirror_mode": {
    "name": "ipython",
    "version": 3
   },
   "file_extension": ".py",
   "mimetype": "text/x-python",
   "name": "python",
   "nbconvert_exporter": "python",
   "pygments_lexer": "ipython3",
   "version": "3.9.12"
  }
 },
 "nbformat": 4,
 "nbformat_minor": 5
}
