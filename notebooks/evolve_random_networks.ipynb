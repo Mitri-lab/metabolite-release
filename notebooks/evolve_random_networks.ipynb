{
 "cells": [
  {
   "cell_type": "code",
   "execution_count": 195,
   "id": "b6fd2899-a92f-4b7c-85e0-bd4b523383e1",
   "metadata": {
    "tags": []
   },
   "outputs": [],
   "source": [
    "import carveme\n",
    "import reframed\n",
    "from pathlib import Path\n",
    "import numpy as np\n",
    "import pandas as pd\n",
    "from reframed import load_cbmodel, save_cbmodel, Environment\n",
    "from carveme.reconstruction.utils import load_media_db\n",
    "from carveme.reconstruction.gapfilling import multiGapFill\n",
    "from carveme.reconstruction import carving\n"
   ]
  },
  {
   "cell_type": "code",
   "execution_count": 3,
   "id": "0023a4e0-e7de-41d2-a3ac-31f984665f38",
   "metadata": {
    "tags": []
   },
   "outputs": [],
   "source": [
    "repo_path = Path('/Users/ssulheim/git/mwf_gems')\n",
    "gapfilling_data_folder = repo_path / 'gapfilling_data'\n",
    "M9_minimal_media_file = gapfilling_data_folder / 'M9_minimal_media_bigg.csv'\n",
    "vitamins_file = gapfilling_data_folder / 'vitamins_bigg.csv'\n",
    "bigg_universe_fn = gapfilling_data_folder / 'universe_bacteria.xml'#'bigg_universe.xml'\n"
   ]
  },
  {
   "cell_type": "code",
   "execution_count": 205,
   "id": "7e47ff7b-469a-47d0-ab2b-247eabd93fef",
   "metadata": {
    "tags": []
   },
   "outputs": [],
   "source": [
    "media_db_file = '/Users/ssulheim/anaconda3/lib/python3.11/site-packages/carveme/data/input/media_db.tsv'\n",
    "media_db = load_media_db(media_db_file)"
   ]
  },
  {
   "cell_type": "code",
   "execution_count": 230,
   "id": "bad32a06-c425-4300-b970-8acfd691876b",
   "metadata": {
    "tags": []
   },
   "outputs": [],
   "source": [
    "init_env = Environment.from_compounds(media_db['M9'])"
   ]
  },
  {
   "cell_type": "code",
   "execution_count": 231,
   "id": "6ccd4232-18a5-4b61-8c11-ce18179f449b",
   "metadata": {
    "tags": []
   },
   "outputs": [],
   "source": [
    "del init_env['R_EX_ni2_e']\n",
    "del init_env['R_EX_na1_e']"
   ]
  },
  {
   "cell_type": "code",
   "execution_count": 286,
   "id": "be3a3ea1-755c-4fe5-8f9b-8591514e6b69",
   "metadata": {
    "tags": []
   },
   "outputs": [],
   "source": [
    "universe = reframed.load_cbmodel(bigg_universe_fn)\n",
    "universe.solver = 'gurobi'\n",
    "# for r_id in universe.get_exchange_reactions():\n",
    "#     r = universe.reactions[r_id]\n",
    "#     r.lb = 0\n",
    "# init_env.apply(universe)"
   ]
  },
  {
   "cell_type": "code",
   "execution_count": 270,
   "id": "61b469e0-70d3-4e1c-8ca5-624d3f47d938",
   "metadata": {
    "tags": []
   },
   "outputs": [],
   "source": [
    "model = multiGapFill(model, universe, ['M9'], media_db)"
   ]
  },
  {
   "cell_type": "code",
   "execution_count": 243,
   "id": "808c5781-72ad-45cf-9d1a-db80836290d6",
   "metadata": {
    "tags": []
   },
   "outputs": [
    {
     "data": {
      "text/plain": [
       "Objective: 0.7834494163562984\n",
       "Status: Optimal"
      ]
     },
     "execution_count": 243,
     "metadata": {},
     "output_type": "execute_result"
    }
   ],
   "source": [
    "reframed.FBA(model, constraints={'R_EX_glc__D_e':-10})"
   ]
  },
  {
   "cell_type": "code",
   "execution_count": 287,
   "id": "b36cc9eb-cd1d-4051-a237-96c9e813e871",
   "metadata": {
    "tags": []
   },
   "outputs": [],
   "source": [
    "model = create_random_model(universe, media_db)\n"
   ]
  },
  {
   "cell_type": "code",
   "execution_count": 288,
   "id": "54a8c81f-081f-43bb-bb8e-7577ef3ed857",
   "metadata": {
    "tags": []
   },
   "outputs": [],
   "source": [
    "ancestor = model.copy()"
   ]
  },
  {
   "cell_type": "code",
   "execution_count": 274,
   "id": "9e6cce8c-67c3-43e9-b22c-821c5819036e",
   "metadata": {
    "tags": []
   },
   "outputs": [
    {
     "name": "stderr",
     "output_type": "stream",
     "text": [
      "/Users/ssulheim/anaconda3/lib/python3.11/site-packages/reframed/solvers/gurobi_solver.py:236: UserWarning: Constrained variable 'R_EX_na1_e' not previously declared\n",
      "  warn(f\"Constrained variable '{r_id}' not previously declared\")\n",
      "/Users/ssulheim/anaconda3/lib/python3.11/site-packages/reframed/solvers/gurobi_solver.py:236: UserWarning: Constrained variable 'R_EX_ni2_e' not previously declared\n",
      "  warn(f\"Constrained variable '{r_id}' not previously declared\")\n"
     ]
    },
    {
     "data": {
      "text/plain": [
       "Objective: 51.23134538636119\n",
       "Status: Optimal"
      ]
     },
     "execution_count": 274,
     "metadata": {},
     "output_type": "execute_result"
    }
   ],
   "source": [
    "reframed.FBA(universe, constraints=init_env)"
   ]
  },
  {
   "cell_type": "code",
   "execution_count": 290,
   "id": "29a77604-28c2-492b-af33-ffa203c214ad",
   "metadata": {
    "tags": []
   },
   "outputs": [
    {
     "name": "stderr",
     "output_type": "stream",
     "text": [
      "/Users/ssulheim/anaconda3/lib/python3.11/site-packages/reframed/core/environment.py:75: UserWarning: Exchange reaction not in model: R_EX_na1_e\n",
      "  warn(f'Exchange reaction not in model: {r_id}')\n",
      "/Users/ssulheim/anaconda3/lib/python3.11/site-packages/reframed/core/environment.py:75: UserWarning: Exchange reaction not in model: R_EX_ni2_e\n",
      "  warn(f'Exchange reaction not in model: {r_id}')\n",
      "/Users/ssulheim/anaconda3/lib/python3.11/site-packages/reframed/solvers/gurobi_solver.py:236: UserWarning: Constrained variable 'R_EX_na1_e' not previously declared\n",
      "  warn(f\"Constrained variable '{r_id}' not previously declared\")\n",
      "/Users/ssulheim/anaconda3/lib/python3.11/site-packages/reframed/solvers/gurobi_solver.py:236: UserWarning: Constrained variable 'R_EX_ni2_e' not previously declared\n",
      "  warn(f\"Constrained variable '{r_id}' not previously declared\")\n",
      "/Users/ssulheim/anaconda3/lib/python3.11/site-packages/reframed/cobra/simulation.py:31: UserWarning: Model objective undefined.\n",
      "  warn('Model objective undefined.')\n",
      "/Users/ssulheim/anaconda3/lib/python3.11/site-packages/reframed/solvers/gurobi_solver.py:236: UserWarning: Constrained variable 'R_EX_fe2_e' not previously declared\n",
      "  warn(f\"Constrained variable '{r_id}' not previously declared\")\n",
      "/Users/ssulheim/anaconda3/lib/python3.11/site-packages/reframed/solvers/gurobi_solver.py:236: UserWarning: Constrained variable 'R_EX_cu2_e' not previously declared\n",
      "  warn(f\"Constrained variable '{r_id}' not previously declared\")\n",
      "/Users/ssulheim/anaconda3/lib/python3.11/site-packages/reframed/solvers/gurobi_solver.py:236: UserWarning: Constrained variable 'R_EX_ca2_e' not previously declared\n",
      "  warn(f\"Constrained variable '{r_id}' not previously declared\")\n"
     ]
    }
   ],
   "source": [
    "model, growth, n_reactions = evolve_model(model, universe, timesteps=1000)"
   ]
  },
  {
   "cell_type": "code",
   "execution_count": 266,
   "id": "a9dc0bdb-3c18-4e4b-95e8-82ee5989b9dc",
   "metadata": {
    "tags": []
   },
   "outputs": [
    {
     "name": "stderr",
     "output_type": "stream",
     "text": [
      "/Users/ssulheim/anaconda3/lib/python3.11/site-packages/reframed/solvers/gurobi_solver.py:236: UserWarning: Constrained variable 'R_EX_mobd_e' not previously declared\n",
      "  warn(f\"Constrained variable '{r_id}' not previously declared\")\n",
      "/Users/ssulheim/anaconda3/lib/python3.11/site-packages/reframed/solvers/gurobi_solver.py:236: UserWarning: Constrained variable 'R_EX_na1_e' not previously declared\n",
      "  warn(f\"Constrained variable '{r_id}' not previously declared\")\n",
      "/Users/ssulheim/anaconda3/lib/python3.11/site-packages/reframed/solvers/gurobi_solver.py:236: UserWarning: Constrained variable 'R_EX_ni2_e' not previously declared\n",
      "  warn(f\"Constrained variable '{r_id}' not previously declared\")\n"
     ]
    },
    {
     "data": {
      "text/plain": [
       "Objective: -0.0\n",
       "Status: Optimal"
      ]
     },
     "execution_count": 266,
     "metadata": {},
     "output_type": "execute_result"
    }
   ],
   "source": [
    "reframed.FBA(model, constraints=init_env)"
   ]
  },
  {
   "cell_type": "code",
   "execution_count": 156,
   "id": "6276f28e-0080-4ad9-8bef-bce7c31ded22",
   "metadata": {
    "tags": []
   },
   "outputs": [],
   "source": [
    "def add_reaction_from_universe(model, universe, r_id):\n",
    "    r = universe.reactions[r_id]\n",
    "    for m_id, _ in r.stoichiometry.items():\n",
    "        if not m_id in model.metabolites:\n",
    "            model.metabolites[m_id] = universe.metabolites[m_id]\n",
    "    model.reactions[r_id] = r"
   ]
  },
  {
   "cell_type": "code",
   "execution_count": 289,
   "id": "bd3b5c19-e050-4e34-bd6b-868aa7dd4adc",
   "metadata": {
    "tags": []
   },
   "outputs": [],
   "source": [
    "def evolve_model(model, universe, timesteps = 100):\n",
    "    init_env = Environment.from_compounds(media_db['M9'])\n",
    "    # max_growth = reframed.FBA(universe, constraints=init_env).fobj\n",
    "    # del init_env['R_EX_ni2_e']\n",
    "    # del init_env['R_EX_na1_e']\n",
    "    init_env.apply(model)\n",
    "    init_env.apply(universe)\n",
    "    model_reactions = [r for r in model.reactions]\n",
    "    can_be_removed = [r for r in model.reactions if not r in model.get_exchange_reactions()]\n",
    "    universe_reactions = list(universe.reactions)\n",
    "    \n",
    "    potential_new_reactions = [x for x in universe_reactions if not x in model_reactions]\n",
    "    growth = reframed.FBA(model, constraints=init_env)\n",
    "    growth_arr = np.zeros(timesteps)\n",
    "    n_reactions_arr = np.zeros(timesteps)\n",
    "    for t in range(timesteps):\n",
    "        growth_arr[t] = growth.fobj\n",
    "        n_reactions_arr[t] = len(model.reactions)\n",
    "        add = np.random.randint(0,2)\n",
    "        if add:\n",
    "            reaction_id = np.random.choice(potential_new_reactions, 1)[0]\n",
    "            add_reaction_from_universe(model, universe, reaction_id)\n",
    "            new_growth = reframed.FBA(model, constraints = init_env)\n",
    "            delta_growth = new_growth.fobj - growth.fobj\n",
    "            keep_reaction = keep(delta_growth)\n",
    "            if keep_reaction:\n",
    "                model_reactions.append(reaction_id)\n",
    "                potential_new_reactions.remove(reaction_id)\n",
    "                growth = new_growth\n",
    "            else:\n",
    "                model.remove_reaction(reaction_id)\n",
    "        else:\n",
    "            reaction_id = np.random.choice(model_reactions, 1)[0]\n",
    "            model.remove_reaction(reaction_id)\n",
    "            new_growth = reframed.FBA(model, constraints = init_env)\n",
    "            if new_growth.fobj == 0:\n",
    "                keep_reaction = True\n",
    "            else:\n",
    "                delta_growth = new_growth.fobj - growth.fobj\n",
    "                keep_reaction = keep(delta_growth)\n",
    "\n",
    "            if keep_reaction:\n",
    "                add_reaction_from_universe(model, universe, reaction_id)\n",
    "            else:\n",
    "                model_reactions.remove(reaction_id)\n",
    "                potential_new_reactions.append(reaction_id)\n",
    "                growth = new_growth\n",
    "    return model, growth_arr, n_reactions_arr\n",
    "            \n",
    "            \n",
    "        "
   ]
  },
  {
   "cell_type": "code",
   "execution_count": 263,
   "id": "de4d41ca-f53b-48ed-a127-d98787e8c339",
   "metadata": {
    "tags": []
   },
   "outputs": [],
   "source": [
    "def keep(delta_growth):\n",
    "    \n",
    "    keep_prob = keep_function(delta_growth)\n",
    "    outcome = np.random.choice([True, False], p=[keep_prob, 1-keep_prob])\n",
    "    return outcome"
   ]
  },
  {
   "cell_type": "code",
   "execution_count": 284,
   "id": "a77dc328-cd40-4c50-ba4f-e9586048dc5b",
   "metadata": {
    "tags": []
   },
   "outputs": [],
   "source": [
    "def keep_function(x):\n",
    "    return 1/(1+np.exp(-10*x))"
   ]
  },
  {
   "cell_type": "code",
   "execution_count": 203,
   "id": "52bd3085-3276-4fa7-9b7a-ae4ab02cdcee",
   "metadata": {
    "tags": []
   },
   "outputs": [
    {
     "data": {
      "text/plain": [
       "0.01798620996209156"
      ]
     },
     "execution_count": 203,
     "metadata": {},
     "output_type": "execute_result"
    }
   ],
   "source": [
    "model.remove_reaction"
   ]
  },
  {
   "cell_type": "code",
   "execution_count": 191,
   "id": "d9a18a4b-c548-4735-9708-5a4738af2be1",
   "metadata": {
    "tags": []
   },
   "outputs": [
    {
     "name": "stderr",
     "output_type": "stream",
     "text": [
      "/Users/ssulheim/anaconda3/lib/python3.11/site-packages/reframed/solvers/gurobi_solver.py:236: UserWarning: Constrained variable 'R_EX_na1_e' not previously declared\n",
      "  warn(f\"Constrained variable '{r_id}' not previously declared\")\n",
      "/Users/ssulheim/anaconda3/lib/python3.11/site-packages/reframed/solvers/gurobi_solver.py:236: UserWarning: Constrained variable 'R_EX_ni2_e' not previously declared\n",
      "  warn(f\"Constrained variable '{r_id}' not previously declared\")\n"
     ]
    },
    {
     "data": {
      "text/plain": [
       "-0.0"
      ]
     },
     "execution_count": 191,
     "metadata": {},
     "output_type": "execute_result"
    }
   ],
   "source": [
    "reframed.FBA(universe, constraints=init_env).fobj\n"
   ]
  },
  {
   "cell_type": "code",
   "execution_count": 283,
   "id": "a42a4273-6c9e-4b0b-a086-3ba92c4f5362",
   "metadata": {
    "tags": []
   },
   "outputs": [
    {
     "data": {
      "text/plain": [
       "0.2689414213699951"
      ]
     },
     "execution_count": 283,
     "metadata": {},
     "output_type": "execute_result"
    }
   ],
   "source": [
    "keep_function(-0.1)"
   ]
  },
  {
   "cell_type": "code",
   "execution_count": 237,
   "id": "d5c9e2e0-39b4-45b1-9cb6-f5f0a09505a1",
   "metadata": {
    "tags": []
   },
   "outputs": [],
   "source": [
    "def create_random_model(universe, media_db, media = 'M9', N_random = 500):\n",
    "    selected_reactions = np.random.choice(list(universe.reactions), 500)\n",
    "    n = len(universe.reactions)\n",
    "    scores = np.zeros(n)\n",
    "    for i,r in enumerate(universe.reactions):\n",
    "        if r in selected_reactions:\n",
    "            scores[i] = 1\n",
    "    rs = pd.DataFrame()\n",
    "    rs['normalized_score'] = scores\n",
    "    rs['reaction'] = [x for x in universe.reactions]\n",
    "    rs['GPR'] = ''\n",
    "    init_env = Environment.from_compounds(media_db['M9'])\n",
    "    model = carving.carve_model(universe, rs, inplace=False, init_env = init_env)\n",
    "    model = multiGapFill(model, universe, ['M9'], media_db)\n",
    "    return model\n",
    "    \n",
    "    \n",
    "    \n",
    "    "
   ]
  }
 ],
 "metadata": {
  "kernelspec": {
   "display_name": "Python 3 (ipykernel)",
   "language": "python",
   "name": "python3"
  },
  "language_info": {
   "codemirror_mode": {
    "name": "ipython",
    "version": 3
   },
   "file_extension": ".py",
   "mimetype": "text/x-python",
   "name": "python",
   "nbconvert_exporter": "python",
   "pygments_lexer": "ipython3",
   "version": "3.11.5"
  }
 },
 "nbformat": 4,
 "nbformat_minor": 5
}
