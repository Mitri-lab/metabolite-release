{
 "cells": [
  {
   "cell_type": "code",
   "execution_count": 1,
   "id": "07b35259-466c-48fb-a1ad-bef8d61d0b9b",
   "metadata": {},
   "outputs": [],
   "source": [
    "import pandas as pd\n",
    "import numpy as np"
   ]
  },
  {
   "cell_type": "code",
   "execution_count": 2,
   "id": "0626be81-1147-4816-920d-79e30e38dcc4",
   "metadata": {},
   "outputs": [],
   "source": [
    "species = \"e_coli\"\n",
    "time = 10"
   ]
  },
  {
   "cell_type": "code",
   "execution_count": null,
   "id": "b0d54b9a-d796-41f0-a79b-32a3aa73fd13",
   "metadata": {},
   "outputs": [],
   "source": [
    "file = \"../data/e_coli/"
   ]
  }
 ],
 "metadata": {
  "kernelspec": {
   "display_name": "Python 3 (ipykernel)",
   "language": "python",
   "name": "python3"
  },
  "language_info": {
   "codemirror_mode": {
    "name": "ipython",
    "version": 3
   },
   "file_extension": ".py",
   "mimetype": "text/x-python",
   "name": "python",
   "nbconvert_exporter": "python",
   "pygments_lexer": "ipython3",
   "version": "3.9.12"
  }
 },
 "nbformat": 4,
 "nbformat_minor": 5
}
