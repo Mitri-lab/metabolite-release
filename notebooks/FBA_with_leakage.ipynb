{
 "cells": [
  {
   "cell_type": "code",
   "execution_count": 137,
   "id": "fd641574-3fa6-4c89-a2fe-83116ac26b86",
   "metadata": {},
   "outputs": [],
   "source": [
    "import cobra\n",
    "import numpy as np\n",
    "from matplotlib import pyplot as plt\n",
    "import pandas as pd\n",
    "import sys\n",
    "sys.path.append('../code/')\n",
    "import leakage\n",
    "import FBA_leak\n",
    "import reframed\n",
    "import gurobipy as gp\n",
    "from reframed.solvers.solution import Solution, Status\n",
    "import time\n",
    "from collections import defaultdict\n",
    "import re"
   ]
  },
  {
   "cell_type": "code",
   "execution_count": 159,
   "id": "6f356b20-afec-4e6c-8b81-f72ad3e8ccde",
   "metadata": {},
   "outputs": [],
   "source": [
    "model = cobra.io.read_sbml_model('../models/e_coli/momentiJO1366.xml')\n",
    "model.solver = 'gurobi'"
   ]
  },
  {
   "cell_type": "code",
   "execution_count": 160,
   "id": "de261cdb-6a4e-46f4-9953-1a8b4b35f82a",
   "metadata": {
    "tags": []
   },
   "outputs": [],
   "source": [
    "# model.reactions.DHAPT.knock_out()\n",
    "# model.reactions.THRA.knock_out()\n",
    "# model.reactions.THRA2.knock_out()\n",
    "# model.reactions.F6PA_TG_forward.knock_out()"
   ]
  },
  {
   "cell_type": "code",
   "execution_count": 161,
   "id": "eb7d0905-58d8-44d2-b3a1-524afccb7916",
   "metadata": {},
   "outputs": [],
   "source": [
    "model.reactions.EX_glc__D_e.lower_bound = -5\n"
   ]
  },
  {
   "cell_type": "code",
   "execution_count": 163,
   "id": "375055dd-f336-4e8f-a74a-ec0b4fec3257",
   "metadata": {
    "tags": []
   },
   "outputs": [
    {
     "name": "stdout",
     "output_type": "stream",
     "text": [
      "<Solution 0.484 at 0x2b6511650>\n",
      "Objective\n",
      "=========\n",
      "1.0 BIOMASS_Ec_iJO1366_core_53p95M = 0.48406639773307514\n",
      "\n",
      "Uptake\n",
      "------\n",
      "Metabolite     Reaction      Flux  C-Number  C-Flux\n",
      " prot_pool  ER_pool_TG_     0.095         0   0.00%\n",
      "     ca2_e     EX_ca2_e   0.00252         0   0.00%\n",
      "      cl_e      EX_cl_e   0.00252         0   0.00%\n",
      " cobalt2_e EX_cobalt2_e  1.21E-05         0   0.00%\n",
      "     cu2_e     EX_cu2_e 0.0003432         0   0.00%\n",
      "     fe2_e     EX_fe2_e  0.007775         0   0.00%\n",
      "  glc__D_e  EX_glc__D_e         5         6 100.00%\n",
      "       k_e       EX_k_e   0.09449         0   0.00%\n",
      "     mg2_e     EX_mg2_e  0.004199         0   0.00%\n",
      "     mn2_e     EX_mn2_e 0.0003345         0   0.00%\n",
      "    mobd_e    EX_mobd_e 6.244E-05         0   0.00%\n",
      "     nh4_e     EX_nh4_e     5.228         0   0.00%\n",
      "     ni2_e     EX_ni2_e 0.0001564         0   0.00%\n",
      "      o2_e      EX_o2_e     9.097         0   0.00%\n",
      "      pi_e      EX_pi_e    0.4669         0   0.00%\n",
      "     so4_e     EX_so4_e    0.1221         0   0.00%\n",
      "     zn2_e     EX_zn2_e 0.0001651         0   0.00%\n",
      "\n",
      "Secretion\n",
      "---------\n",
      "Metabolite    Reaction       Flux  C-Number C-Flux\n",
      "  4crsol_c DM_4crsol_c -0.0001079         7  0.01%\n",
      "   5drib_c  DM_5drib_c -0.0001089         5  0.01%\n",
      "    amob_c   DM_amob_c -9.681E-07        15  0.00%\n",
      "  mththf_c DM_mththf_c -0.0002169         5  0.01%\n",
      "     co2_e    EX_co2_e     -10.13         1 99.98%\n",
      "     h2o_e    EX_h2o_e     -22.91         0  0.00%\n",
      "       h_e      EX_h_e     -4.448         0  0.00%\n",
      "    meoh_e   EX_meoh_e -9.681E-07         1  0.00%\n",
      "\n"
     ]
    }
   ],
   "source": [
    "print(model.optimize())\n",
    "print(model.summary())"
   ]
  },
  {
   "cell_type": "code",
   "execution_count": 578,
   "id": "50b295ca-3053-4c36-a5ba-7f6f82006f94",
   "metadata": {
    "tags": []
   },
   "outputs": [],
   "source": [
    "model = reframed.load_cbmodel('../models/e_coli/momentiJO1366.xml')\n",
    "model.solver = 'gurobi'"
   ]
  },
  {
   "cell_type": "code",
   "execution_count": 579,
   "id": "ae422eec-a080-4d75-b7b3-3e6258f0fcd5",
   "metadata": {
    "tags": []
   },
   "outputs": [],
   "source": [
    "solution = reframed.FBA(model)"
   ]
  },
  {
   "cell_type": "code",
   "execution_count": 580,
   "id": "8a77c52f-9560-4c62-a15c-5d84f6d1aa1d",
   "metadata": {
    "tags": []
   },
   "outputs": [
    {
     "name": "stdout",
     "output_type": "stream",
     "text": [
      "Objective: 0.742975386519784\n",
      "Status: Optimal\n",
      "\n"
     ]
    }
   ],
   "source": [
    "print(solution)"
   ]
  },
  {
   "cell_type": "markdown",
   "id": "175ffebf-a7e8-4e87-8c06-bd0d63bc4473",
   "metadata": {},
   "source": [
    "# Implementatation of FBA with leakage"
   ]
  },
  {
   "cell_type": "code",
   "execution_count": 119,
   "id": "8b0130fb-f9eb-4cee-8a63-fb9206777a83",
   "metadata": {
    "tags": []
   },
   "outputs": [],
   "source": [
    "# load model\n",
    "model = reframed.load_cbmodel('../models/e_coli/momentiJO1366.xml')\n",
    "model.solver = 'gurobi'"
   ]
  },
  {
   "cell_type": "code",
   "execution_count": 120,
   "id": "b38729b9-8f5f-481d-98c8-e83d6f3112e1",
   "metadata": {
    "tags": []
   },
   "outputs": [],
   "source": [
    "for r_id in model.get_exchange_reactions():\n",
    "    model.reactions[r_id].ub = 1000\n",
    "    "
   ]
  },
  {
   "cell_type": "code",
   "execution_count": 114,
   "id": "372bfb27-4633-40b4-b23a-20760d779bf3",
   "metadata": {
    "tags": []
   },
   "outputs": [
    {
     "name": "stdout",
     "output_type": "stream",
     "text": [
      "R_EX_ca2_e   -0.00511325\n",
      "R_EX_cl_e    -0.00511325\n",
      "R_EX_co2_e    19.6752\n",
      "R_EX_cobalt2_e -2.45593e-05\n",
      "R_EX_cu2_e   -0.000696502\n",
      "R_EX_fe2_e   -0.0157779\n",
      "R_EX_glc__D_e -10\n",
      "R_EX_h_e      9.02626\n",
      "R_EX_h2o_e    45.6194\n",
      "R_EX_k_e     -0.191752\n",
      "R_EX_meoh_e   1.96474e-06\n",
      "R_EX_mg2_e   -0.00852208\n",
      "R_EX_mn2_e   -0.000678819\n",
      "R_EX_mobd_e  -0.000126726\n",
      "R_EX_nh4_e   -10.6104\n",
      "R_EX_ni2_e   -0.000317306\n",
      "R_EX_o2_e    -17.5789\n",
      "R_EX_pi_e    -0.947626\n",
      "R_EX_so4_e   -0.247764\n",
      "R_EX_zn2_e   -0.000334989\n"
     ]
    }
   ],
   "source": [
    "psolution = reframed.pFBA(model, constraints={'R_EX_glc__D_e':-10}, obj_frac=1)\n",
    "psolution.show_values('R_EX_*')"
   ]
  },
  {
   "cell_type": "code",
   "execution_count": 591,
   "id": "cb292ba1-7777-4360-81fa-591af3ecb212",
   "metadata": {
    "tags": []
   },
   "outputs": [],
   "source": [
    "selected_metabolites = []\n",
    "selected_metabolites_exchanges = []\n",
    "for m_id, turnover in psolution.get_metabolites_turnover(model).items():\n",
    "    if m_id.endswith('_c') and turnover > 1e-6:\n",
    "        r_ex_id = f'R_EX_{m_id[2:-2]}_e'\n",
    "        if r_ex_id in model.reactions:\n",
    "            selected_metabolites.append(m_id)\n",
    "            selected_metabolites_exchanges.append(r_ex_id)\n",
    "\n",
    "        \n",
    "        "
   ]
  },
  {
   "cell_type": "code",
   "execution_count": 592,
   "id": "d986961f-50ca-41d0-a41a-b4dd6b110238",
   "metadata": {
    "tags": []
   },
   "outputs": [],
   "source": [
    "solution = reframed.FBA(model, constraints={'R_EX_glc__D_e':-5}, shadow_prices=True)"
   ]
  },
  {
   "cell_type": "code",
   "execution_count": 593,
   "id": "671fd4b6-3266-4122-bf18-cd4e7a636fb3",
   "metadata": {
    "tags": []
   },
   "outputs": [],
   "source": [
    "predicted_log_leakage_rates = {}\n",
    "slope = -1.94204311\n",
    "intercept = -6.08989226\n",
    "for m_id, r_ex_id in zip(selected_metabolites, selected_metabolites_exchanges):\n",
    "    metabolite_value = - solution.shadow_prices[m_id]\n",
    "    if np.isfinite(metabolite_value) and metabolite_value > 1e-7:\n",
    "        # Use trendline from fit \n",
    "        lograte = intercept + slope*np.log10(metabolite_value)\n",
    "        predicted_log_leakage_rates[r_ex_id] = lograte"
   ]
  },
  {
   "cell_type": "code",
   "execution_count": 595,
   "id": "d5506380-774c-4be2-a2df-508cdc300b3c",
   "metadata": {
    "tags": []
   },
   "outputs": [
    {
     "name": "stdout",
     "output_type": "stream",
     "text": [
      "R_EX_ca2_e: M_ca2_e <->  [-inf, 1000] -inf\n",
      "R_EX_cl_e: M_cl_e <->  [-inf, 1000] -inf\n",
      "R_EX_co2_e: M_co2_e <->  [-inf, 1000] -inf\n",
      "R_EX_cobalt2_e: M_cobalt2_e <->  [-inf, 1000] -inf\n",
      "R_EX_cu2_e: M_cu2_e <->  [-inf, 1000] -inf\n",
      "R_EX_fe2_e: M_fe2_e <->  [-inf, 1000] -inf\n",
      "R_EX_fe3_e: M_fe3_e <->  [-inf, 1000] -inf\n",
      "R_EX_glc__D_e: M_glc__D_e <->  [-5, 1000] -5\n",
      "R_EX_h_e: M_h_e <->  [-inf, 1000] -inf\n",
      "R_EX_h2o_e: M_h2o_e <->  [-inf, 1000] -inf\n",
      "R_EX_k_e: M_k_e <->  [-inf, 1000] -inf\n",
      "R_EX_mg2_e: M_mg2_e <->  [-inf, 1000] -inf\n",
      "R_EX_mn2_e: M_mn2_e <->  [-inf, 1000] -inf\n",
      "R_EX_mobd_e: M_mobd_e <->  [-inf, 1000] -inf\n",
      "R_EX_nh4_e: M_nh4_e <->  [-inf, 1000] -inf\n",
      "R_EX_ni2_e: M_ni2_e <->  [-inf, 1000] -inf\n",
      "R_EX_o2_e: M_o2_e <->  [-inf, 1000] -inf\n",
      "R_EX_pi_e: M_pi_e <->  [-inf, 1000] -inf\n",
      "R_EX_so4_e: M_so4_e <->  [-inf, 1000] -inf\n",
      "R_EX_zn2_e: M_zn2_e <->  [-inf, 1000] -inf\n"
     ]
    }
   ],
   "source": [
    "solver = reframed.solver_instance(model)\n",
    "log_vars = {}\n",
    "for r_ex_id in selected_metabolites_exchanges:\n",
    "    # r_ex_id = f'R_EX_{m_id[2:-2]}_e'\n",
    "    r_ex = model.reactions[r_ex_id]\n",
    "    r_ex.ub = 1000\n",
    "    if r_ex.lb < 0:\n",
    "        print(r_ex, r_ex.lb)\n",
    "        continue\n",
    "    # log_x = problem.addVar(vtype=gp.GRB.CONTINUOUS, name = f'log_{r_ex_id}', lb=-gp.GRB.INFINITY)\n",
    "    solver.add_variable(var_id= f'log_{r_ex_id}', lb=-10, ub=10)\n",
    "    x = solver.problem.getVarByName(r_ex_id)\n",
    "    x.ub = 1000\n",
    "    log_x = solver.problem.getVarByName(f'log_{r_ex_id}')\n",
    "    log_vars[f'log_{r_ex_id}'] = log_x\n",
    "    c = solver.problem.addGenConstrLogA(x, log_x, 10, name = f'logc_{r_ex_id}', options='FuncPieceError=1e-6 FuncPieces=-1')\n",
    "    solver.constr_ids.append(f'logc_{r_ex_id}')\n",
    "    # \n",
    "    # solver.add_constraint(constr_id='test', lhs={x.VarName:1, log_x.VarName:-1}, rhs = 0)\n",
    "solver.problem.update()\n",
    "solver.update()"
   ]
  },
  {
   "cell_type": "code",
   "execution_count": 596,
   "id": "172e374e-5cc3-4e57-a41e-faaf86e4f6d8",
   "metadata": {
    "tags": []
   },
   "outputs": [],
   "source": [
    "# log_vars = {}\n",
    "# for m_id, r_ex_id in zip(selected_metabolites, selected_metabolites_exchanges):\n",
    "#     r_ex = model.reactions[r_ex_id]\n",
    "#     if r_ex.lb <0:\n",
    "#         # reaction lb has to be > 0 for LogA constraint to work\n",
    "#         continue\n",
    "#     log_x = problem.addVar(vtype=gp.GRB.CONTINUOUS, name = f'log_{r_ex_id}')\n",
    "#     x = problem.getVarByName(r_ex_id)\n",
    "#     log_vars[m_id] = log_x\n",
    "#     problem.addGenConstrLogA(x, log_x, 10)"
   ]
  },
  {
   "cell_type": "code",
   "execution_count": 597,
   "id": "d4f860f4-2584-4c8d-929f-06b1b2dc06c1",
   "metadata": {
    "tags": []
   },
   "outputs": [],
   "source": [
    "# Make linear objective\n",
    "lin_obj = {}\n",
    "for r_ex_id, lograte in predicted_log_leakage_rates.items():\n",
    "    lin_obj[r_ex_id] = 2*lograte"
   ]
  },
  {
   "cell_type": "code",
   "execution_count": 599,
   "id": "ddf38687-8893-4b53-9ca0-79c93ec829a0",
   "metadata": {
    "tags": []
   },
   "outputs": [],
   "source": [
    "# Make quadratic objective\n",
    "quad_obj = {}\n",
    "for key, _ in lin_obj.items():\n",
    "    quad_obj.update({(key,key):1})"
   ]
  },
  {
   "cell_type": "code",
   "execution_count": 600,
   "id": "f262e8e0-8b75-4096-a7ae-6dd3005d200f",
   "metadata": {
    "tags": []
   },
   "outputs": [],
   "source": [
    "# Constraints\n",
    "r_growth = model.biomass_reaction\n",
    "min_growth = solution.values[r_growth]*0.9\n",
    "constraints = {r_growth:(min_growth,1), 'R_EX_glc__D_e':-5}#, 'R_EX_glc__D_e': (-6, -3)}"
   ]
  },
  {
   "cell_type": "code",
   "execution_count": 601,
   "id": "24d5ec21-af6b-4549-87ce-7921583f1c21",
   "metadata": {
    "tags": []
   },
   "outputs": [
    {
     "name": "stdout",
     "output_type": "stream",
     "text": [
      "Objective: None\n",
      "Status: Infeasible or Unbounded\n",
      "\n"
     ]
    }
   ],
   "source": [
    "\n",
    "solver.problem.params.BarHomogeneous = 1\n",
    "solution = solver.solve(lin_obj, quadratic=quad_obj, minimize=True, constraints=constraints)\n",
    "print(solution)\n",
    "solution.show_values('R_EX_*')\n",
    "solution.show_values(r_growth)"
   ]
  },
  {
   "cell_type": "code",
   "execution_count": 140,
   "id": "8220830e-1287-4857-ba9f-b13517ad5e59",
   "metadata": {
    "tags": []
   },
   "outputs": [
    {
     "name": "stdout",
     "output_type": "stream",
     "text": [
      "Objective: None\n",
      "Status: Infeasible\n",
      "\n"
     ]
    }
   ],
   "source": [
    "# The (x-b)**2 objective is decomposed into a quadratic and a linear part\n",
    "# Since (x-b)**2 = x**2 - 2*x*b+b**2 + b**2\n",
    "lin_obj = {'R_EX_pyr_e':-2*2, 'R_EX_ac_e':-2*2, 'R_EX_lac__L_e':-2*2}\n",
    "\n",
    "# solver = reframed.solver_instance(model)\n",
    "quad_obj = {}\n",
    "for key, _ in lin_obj.items():\n",
    "    quad_obj.update({(key,key):1})\n",
    "constraints = {r_growth:(0.2,1), 'R_EX_glc__D_e': -6,}\n",
    "solver.problem.params.BarHomogeneous = 1\n",
    "solution = solver.solve(lin_obj, quadratic=quad_obj, minimize=True, constraints=constraints)\n",
    "print(solution)\n",
    "solution.show_values('R_EX_*')\n",
    "solution.show_values(r_growth)"
   ]
  },
  {
   "cell_type": "code",
   "execution_count": 126,
   "id": "5c463063-2777-4c5e-8e60-255956a4af1d",
   "metadata": {
    "tags": []
   },
   "outputs": [
    {
     "data": {
      "text/plain": [
       "{'R_DM_4crsol_c': 0.00013027594076604914,\n",
       " 'R_DM_5drib_c': 0.0001314443348536404,\n",
       " 'R_DM_aacald_c': 0.0,\n",
       " 'R_DM_amob_c': 1.1683940875878846e-06,\n",
       " 'R_DM_mththf_c': 0.0002617202756196868,\n",
       " 'R_DM_oxam_c': 0.0,\n",
       " 'R_BIOMASS_Ec_iJO1366_WT_53p95M': 0.0,\n",
       " 'R_BIOMASS_Ec_iJO1366_core_53p95M': 0.5841970437939423,\n",
       " 'R_EX_12ppd__R_e': 0.0,\n",
       " 'R_EX_12ppd__S_e': 0.0,\n",
       " 'R_EX_14glucan_e': 0.0,\n",
       " 'R_EX_15dap_e': 0.0,\n",
       " 'R_EX_23camp_e': 0.0,\n",
       " 'R_EX_23ccmp_e': 0.0,\n",
       " 'R_EX_23cgmp_e': 0.0,\n",
       " 'R_EX_23cump_e': 0.0,\n",
       " 'R_EX_23dappa_e': 0.0,\n",
       " 'R_EX_26dap__M_e': 0.0,\n",
       " 'R_EX_2ddglcn_e': 0.0,\n",
       " 'R_EX_34dhpac_e': 0.0,\n",
       " 'R_EX_3amp_e': 0.0,\n",
       " 'R_EX_3cmp_e': 0.0,\n",
       " 'R_EX_3gmp_e': 0.0,\n",
       " 'R_EX_3hcinnm_e': 0.0,\n",
       " 'R_EX_3hpp_e': 0.0,\n",
       " 'R_EX_3hpppn_e': 0.0,\n",
       " 'R_EX_3ump_e': 0.0,\n",
       " 'R_EX_4abut_e': 0.0,\n",
       " 'R_EX_4hoxpacd_e': 0.0,\n",
       " 'R_EX_5dglcn_e': 0.0,\n",
       " 'R_EX_5mtr_e': 0.0,\n",
       " 'R_EX_LalaDglu_e': 0.0,\n",
       " 'R_EX_LalaDgluMdap_e': 0.0,\n",
       " 'R_EX_LalaDgluMdapDala_e': 0.0,\n",
       " 'R_EX_LalaLglu_e': 0.0,\n",
       " 'R_EX_ac_e': 0.0,\n",
       " 'R_EX_acac_e': 0.0,\n",
       " 'R_EX_acald_e': 0.0,\n",
       " 'R_EX_acgal_e': 0.0,\n",
       " 'R_EX_acgal1p_e': 0.0,\n",
       " 'R_EX_acgam_e': 0.0,\n",
       " 'R_EX_acgam1p_e': 0.0,\n",
       " 'R_EX_acmana_e': 0.0,\n",
       " 'R_EX_acmum_e': 0.0,\n",
       " 'R_EX_acnam_e': 0.0,\n",
       " 'R_EX_acolipa_e': 0.0,\n",
       " 'R_EX_acser_e': 0.0,\n",
       " 'R_EX_ade_e': 0.0,\n",
       " 'R_EX_adn_e': 0.0,\n",
       " 'R_EX_adocbl_e': 0.0,\n",
       " 'R_EX_ag_e': 0.0,\n",
       " 'R_EX_agm_e': 0.0,\n",
       " 'R_EX_akg_e': 0.0,\n",
       " 'R_EX_ala_B_e': 0.0,\n",
       " 'R_EX_ala__D_e': 0.0,\n",
       " 'R_EX_ala__L_e': 0.0,\n",
       " 'R_EX_alaala_e': 0.0,\n",
       " 'R_EX_all__D_e': 0.0,\n",
       " 'R_EX_alltn_e': 0.0,\n",
       " 'R_EX_amp_e': 0.0,\n",
       " 'R_EX_anhgm_e': 0.0,\n",
       " 'R_EX_arab__L_e': 0.0,\n",
       " 'R_EX_arbt_e': 0.0,\n",
       " 'R_EX_arbtn_e': 0.0,\n",
       " 'R_EX_arbtn_fe3_e': 0.0,\n",
       " 'R_EX_arg__L_e': 0.0,\n",
       " 'R_EX_ascb__L_e': 0.0,\n",
       " 'R_EX_asn__L_e': 0.0,\n",
       " 'R_EX_aso3_e': 0.0,\n",
       " 'R_EX_asp__L_e': 0.0,\n",
       " 'R_EX_btn_e': 0.0,\n",
       " 'R_EX_but_e': 0.0,\n",
       " 'R_EX_butso3_e': 0.0,\n",
       " 'R_EX_ca2_e': -0.0030407456129069033,\n",
       " 'R_EX_cbi_e': 0.0,\n",
       " 'R_EX_cbl1_e': 0.0,\n",
       " 'R_EX_cd2_e': 0.0,\n",
       " 'R_EX_cgly_e': 0.0,\n",
       " 'R_EX_chol_e': 0.0,\n",
       " 'R_EX_chtbs_e': 0.0,\n",
       " 'R_EX_cit_e': 0.0,\n",
       " 'R_EX_cl_e': -0.0030407456129069033,\n",
       " 'R_EX_cm_e': 0.0,\n",
       " 'R_EX_cmp_e': 0.0,\n",
       " 'R_EX_co2_e': 12.01965424628736,\n",
       " 'R_EX_cobalt2_e': -1.4604926150241226e-05,\n",
       " 'R_EX_colipa_e': 0.0,\n",
       " 'R_EX_colipap_e': 0.0,\n",
       " 'R_EX_cpgn_e': 0.0,\n",
       " 'R_EX_cpgn_un_e': 0.0,\n",
       " 'R_EX_crn_e': 0.0,\n",
       " 'R_EX_crn__D_e': 0.0,\n",
       " 'R_EX_csn_e': 0.0,\n",
       " 'R_EX_cu_e': 0.0,\n",
       " 'R_EX_cu2_e': -0.000414195704024678,\n",
       " 'R_EX_cyan_e': 0.0,\n",
       " 'R_EX_cynt_e': 0.0,\n",
       " 'R_EX_cys__D_e': 0.0,\n",
       " 'R_EX_cys__L_e': 0.0,\n",
       " 'R_EX_cytd_e': 0.0,\n",
       " 'R_EX_dad_2_e': 0.0,\n",
       " 'R_EX_damp_e': 0.0,\n",
       " 'R_EX_dca_e': 0.0,\n",
       " 'R_EX_dcmp_e': 0.0,\n",
       " 'R_EX_dcyt_e': 0.0,\n",
       " 'R_EX_ddca_e': 0.0,\n",
       " 'R_EX_dgmp_e': 0.0,\n",
       " 'R_EX_dgsn_e': 0.0,\n",
       " 'R_EX_dha_e': 0.0,\n",
       " 'R_EX_dimp_e': 0.0,\n",
       " 'R_EX_din_e': 0.0,\n",
       " 'R_EX_dms_e': 0.0,\n",
       " 'R_EX_dmso_e': 0.0,\n",
       " 'R_EX_dopa_e': 0.0,\n",
       " 'R_EX_doxrbcn_e': 0.0,\n",
       " 'R_EX_dtmp_e': 0.0,\n",
       " 'R_EX_dump_e': 0.0,\n",
       " 'R_EX_duri_e': 0.0,\n",
       " 'R_EX_eca4colipa_e': 0.0,\n",
       " 'R_EX_enlipa_e': 0.0,\n",
       " 'R_EX_enter_e': 0.0,\n",
       " 'R_EX_etha_e': 0.0,\n",
       " 'R_EX_ethso3_e': 0.0,\n",
       " 'R_EX_etoh_e': 0.0,\n",
       " 'R_EX_f6p_e': 0.0,\n",
       " 'R_EX_fald_e': 0.0,\n",
       " 'R_EX_fe2_e': -0.009382788720358803,\n",
       " 'R_EX_fe3_e': -0.0,\n",
       " 'R_EX_fe3dcit_e': 0.0,\n",
       " 'R_EX_fe3dhbzs_e': 0.0,\n",
       " 'R_EX_fe3hox_e': 0.0,\n",
       " 'R_EX_fe3hox_un_e': 0.0,\n",
       " 'R_EX_fecrm_e': 0.0,\n",
       " 'R_EX_fecrm_un_e': 0.0,\n",
       " 'R_EX_feenter_e': 0.0,\n",
       " 'R_EX_feoxam_e': 0.0,\n",
       " 'R_EX_feoxam_un_e': 0.0,\n",
       " 'R_EX_for_e': 0.0,\n",
       " 'R_EX_fru_e': 0.0,\n",
       " 'R_EX_frulys_e': 0.0,\n",
       " 'R_EX_fruur_e': 0.0,\n",
       " 'R_EX_fuc__L_e': 0.0,\n",
       " 'R_EX_fum_e': 0.0,\n",
       " 'R_EX_fusa_e': 0.0,\n",
       " 'R_EX_g1p_e': 0.0,\n",
       " 'R_EX_g3pc_e': 0.0,\n",
       " 'R_EX_g3pe_e': 0.0,\n",
       " 'R_EX_g3pg_e': 0.0,\n",
       " 'R_EX_g3pi_e': 0.0,\n",
       " 'R_EX_g3ps_e': 0.0,\n",
       " 'R_EX_g6p_e': 0.0,\n",
       " 'R_EX_gal_e': 0.0,\n",
       " 'R_EX_gal_bD_e': 0.0,\n",
       " 'R_EX_gal1p_e': 0.0,\n",
       " 'R_EX_galct__D_e': 0.0,\n",
       " 'R_EX_galctn__D_e': 0.0,\n",
       " 'R_EX_galctn__L_e': 0.0,\n",
       " 'R_EX_galt_e': 0.0,\n",
       " 'R_EX_galur_e': 0.0,\n",
       " 'R_EX_gam_e': 0.0,\n",
       " 'R_EX_gam6p_e': 0.0,\n",
       " 'R_EX_gbbtn_e': 0.0,\n",
       " 'R_EX_gdp_e': 0.0,\n",
       " 'R_EX_glc__D_e': -6.0,\n",
       " 'R_EX_glcn_e': 0.0,\n",
       " 'R_EX_glcr_e': 0.0,\n",
       " 'R_EX_glcur_e': 0.0,\n",
       " 'R_EX_glcur1p_e': 0.0,\n",
       " 'R_EX_gln__L_e': 0.0,\n",
       " 'R_EX_glu__L_e': 0.0,\n",
       " 'R_EX_gly_e': 0.0,\n",
       " 'R_EX_glyald_e': 0.0,\n",
       " 'R_EX_glyb_e': 0.0,\n",
       " 'R_EX_glyc_e': 0.0,\n",
       " 'R_EX_glyc__R_e': 0.0,\n",
       " 'R_EX_glyc2p_e': 0.0,\n",
       " 'R_EX_glyc3p_e': 0.0,\n",
       " 'R_EX_glyclt_e': 0.0,\n",
       " 'R_EX_gmp_e': 0.0,\n",
       " 'R_EX_gsn_e': 0.0,\n",
       " 'R_EX_gthox_e': 0.0,\n",
       " 'R_EX_gthrd_e': 0.0,\n",
       " 'R_EX_gtp_e': 0.0,\n",
       " 'R_EX_gua_e': 0.0,\n",
       " 'R_EX_h_e': 5.367737972092868,\n",
       " 'R_EX_h2_e': 0.0,\n",
       " 'R_EX_h2o_e': 27.44816030238303,\n",
       " 'R_EX_h2o2_e': 0.0,\n",
       " 'R_EX_h2s_e': 0.0,\n",
       " 'R_EX_hacolipa_e': 0.0,\n",
       " 'R_EX_halipa_e': 0.0,\n",
       " 'R_EX_hdca_e': 0.0,\n",
       " 'R_EX_hdcea_e': 0.0,\n",
       " 'R_EX_hg2_e': 0.0,\n",
       " 'R_EX_his__L_e': 0.0,\n",
       " 'R_EX_hom__L_e': 0.0,\n",
       " 'R_EX_hxa_e': 0.0,\n",
       " 'R_EX_hxan_e': 0.0,\n",
       " 'R_EX_idon__L_e': 0.0,\n",
       " 'R_EX_ile__L_e': 0.0,\n",
       " 'R_EX_imp_e': 0.0,\n",
       " 'R_EX_indole_e': 0.0,\n",
       " 'R_EX_inost_e': 0.0,\n",
       " 'R_EX_ins_e': 0.0,\n",
       " 'R_EX_isetac_e': 0.0,\n",
       " 'R_EX_k_e': -0.1140311735692876,\n",
       " 'R_EX_kdo2lipid4_e': 0.0,\n",
       " 'R_EX_lac__D_e': 0.0,\n",
       " 'R_EX_lac__L_e': 0.0,\n",
       " 'R_EX_lcts_e': 0.0,\n",
       " 'R_EX_leu__L_e': 0.0,\n",
       " 'R_EX_lipa_e': 0.0,\n",
       " 'R_EX_lipa_cold_e': 0.0,\n",
       " 'R_EX_lipoate_e': 0.0,\n",
       " 'R_EX_lys__L_e': 0.0,\n",
       " 'R_EX_lyx__L_e': 0.0,\n",
       " 'R_EX_mal__D_e': 0.0,\n",
       " 'R_EX_mal__L_e': 0.0,\n",
       " 'R_EX_malt_e': 0.0,\n",
       " 'R_EX_malthx_e': 0.0,\n",
       " 'R_EX_maltpt_e': 0.0,\n",
       " 'R_EX_malttr_e': 0.0,\n",
       " 'R_EX_maltttr_e': 0.0,\n",
       " 'R_EX_man_e': 0.0,\n",
       " 'R_EX_man6p_e': 0.0,\n",
       " 'R_EX_manglyc_e': 0.0,\n",
       " 'R_EX_melib_e': 0.0,\n",
       " 'R_EX_meoh_e': 1.1683940875878846e-06,\n",
       " 'R_EX_met__D_e': 0.0,\n",
       " 'R_EX_met__L_e': 0.0,\n",
       " 'R_EX_metsox_R__L_e': 0.0,\n",
       " 'R_EX_metsox_S__L_e': 0.0,\n",
       " 'R_EX_mg2_e': -0.00506790935492063,\n",
       " 'R_EX_mincyc_e': 0.0,\n",
       " 'R_EX_minohp_e': 0.0,\n",
       " 'R_EX_mmet_e': 0.0,\n",
       " 'R_EX_mn2_e': -0.00040368015720559924,\n",
       " 'R_EX_mnl_e': 0.0,\n",
       " 'R_EX_mobd_e': -7.536141868058621e-05,\n",
       " 'R_EX_mso3_e': 0.0,\n",
       " 'R_EX_n2o_e': 0.0,\n",
       " 'R_EX_na1_e': 0.0,\n",
       " 'R_EX_nac_e': 0.0,\n",
       " 'R_EX_nh4_e': -6.309809451338651,\n",
       " 'R_EX_ni2_e': -0.00018869564519263804,\n",
       " 'R_EX_nmn_e': 0.0,\n",
       " 'R_EX_no_e': 0.0,\n",
       " 'R_EX_no2_e': 0.0,\n",
       " 'R_EX_no3_e': 0.0,\n",
       " 'R_EX_novbcn_e': 0.0,\n",
       " 'R_EX_o16a4colipa_e': 0.0,\n",
       " 'R_EX_o2_e': -10.773032669353256,\n",
       " 'R_EX_o2s_e': 0.0,\n",
       " 'R_EX_ocdca_e': 0.0,\n",
       " 'R_EX_ocdcea_e': 0.0,\n",
       " 'R_EX_octa_e': 0.0,\n",
       " 'R_EX_orn_e': 0.0,\n",
       " 'R_EX_orot_e': 0.0,\n",
       " 'R_EX_pacald_e': 0.0,\n",
       " 'R_EX_peamn_e': 0.0,\n",
       " 'R_EX_phe__L_e': 0.0,\n",
       " 'R_EX_pheme_e': 0.0,\n",
       " 'R_EX_pi_e': -0.5635345785519803,\n",
       " 'R_EX_pnto__R_e': 0.0,\n",
       " 'R_EX_ppa_e': 0.0,\n",
       " 'R_EX_ppal_e': 0.0,\n",
       " 'R_EX_pppn_e': 0.0,\n",
       " 'R_EX_ppt_e': 0.0,\n",
       " 'R_EX_pro__L_e': 0.0,\n",
       " 'R_EX_progly_e': 0.0,\n",
       " 'R_EX_psclys_e': 0.0,\n",
       " 'R_EX_pser__L_e': 0.0,\n",
       " 'R_EX_ptrc_e': 0.0,\n",
       " 'R_EX_pydam_e': 0.0,\n",
       " 'R_EX_pydx_e': 0.0,\n",
       " 'R_EX_pydxn_e': 0.0,\n",
       " 'R_EX_pyr_e': 0.0,\n",
       " 'R_EX_quin_e': 0.0,\n",
       " 'R_EX_r5p_e': 0.0,\n",
       " 'R_EX_rfamp_e': 0.0,\n",
       " 'R_EX_rib__D_e': 0.0,\n",
       " 'R_EX_rmn_e': 0.0,\n",
       " 'R_EX_sbt__D_e': 0.0,\n",
       " 'R_EX_sel_e': 0.0,\n",
       " 'R_EX_ser__D_e': 0.0,\n",
       " 'R_EX_ser__L_e': 0.0,\n",
       " 'R_EX_skm_e': 0.0,\n",
       " 'R_EX_slnt_e': 0.0,\n",
       " 'R_EX_so2_e': 0.0,\n",
       " 'R_EX_so3_e': 0.0,\n",
       " 'R_EX_so4_e': -0.14734033641525457,\n",
       " 'R_EX_spmd_e': 0.0,\n",
       " 'R_EX_succ_e': 0.0,\n",
       " 'R_EX_sucr_e': 0.0,\n",
       " 'R_EX_sulfac_e': 0.0,\n",
       " 'R_EX_tartr__D_e': 0.0,\n",
       " 'R_EX_tartr__L_e': 0.0,\n",
       " 'R_EX_taur_e': 0.0,\n",
       " 'R_EX_tcynt_e': 0.0,\n",
       " 'R_EX_thm_e': 0.0,\n",
       " 'R_EX_thr__L_e': 0.0,\n",
       " 'R_EX_thrp_e': 0.0,\n",
       " 'R_EX_thym_e': 0.0,\n",
       " 'R_EX_thymd_e': 0.0,\n",
       " 'R_EX_tma_e': 0.0,\n",
       " 'R_EX_tmao_e': 0.0,\n",
       " 'R_EX_tre_e': 0.0,\n",
       " 'R_EX_trp__L_e': 0.0,\n",
       " 'R_EX_tsul_e': 0.0,\n",
       " 'R_EX_ttdca_e': 0.0,\n",
       " 'R_EX_ttdcea_e': 0.0,\n",
       " 'R_EX_ttrcyc_e': 0.0,\n",
       " 'R_EX_tungs_e': 0.0,\n",
       " 'R_EX_tym_e': 0.0,\n",
       " 'R_EX_tyr__L_e': 0.0,\n",
       " 'R_EX_tyrp_e': 0.0,\n",
       " 'R_EX_uacgam_e': 0.0,\n",
       " 'R_EX_udpacgal_e': 0.0,\n",
       " 'R_EX_udpg_e': 0.0,\n",
       " 'R_EX_udpgal_e': 0.0,\n",
       " 'R_EX_udpglcur_e': 0.0,\n",
       " 'R_EX_ump_e': 0.0,\n",
       " 'R_EX_ura_e': 0.0,\n",
       " 'R_EX_urea_e': 0.0,\n",
       " 'R_EX_uri_e': 0.0,\n",
       " 'R_EX_val__L_e': 0.0,\n",
       " 'R_EX_xan_e': 0.0,\n",
       " 'R_EX_xmp_e': 0.0,\n",
       " 'R_EX_xtsn_e': 0.0,\n",
       " 'R_EX_xyl__D_e': 0.0,\n",
       " 'R_EX_xylu__L_e': 0.0,\n",
       " 'R_EX_zn2_e': -0.00019921119189802994,\n",
       " 'R_12DGR120tipp': 0.0,\n",
       " 'R_12DGR140tipp': 0.0,\n",
       " 'R_12DGR141tipp': 0.0,\n",
       " 'R_12DGR160tipp': 0.0,\n",
       " 'R_12DGR161tipp': 0.0,\n",
       " 'R_12DGR180tipp': 0.0,\n",
       " 'R_12DGR181tipp': 0.0,\n",
       " 'R_12PPDRtpp': 0.0,\n",
       " 'R_12PPDStpp': 0.0,\n",
       " 'R_14GLUCANabcpp': 0.0,\n",
       " 'R_14GLUCANtexi': 0.0,\n",
       " 'R_23DAPPAt2pp': 0.0,\n",
       " 'R_23PDE2pp': 0.0,\n",
       " 'R_23PDE4pp': 0.0,\n",
       " 'R_23PDE7pp': 0.0,\n",
       " 'R_23PDE9pp': 0.0,\n",
       " 'R_2AGPA120tipp': 0.0,\n",
       " 'R_2AGPA140tipp': 0.0,\n",
       " 'R_2AGPA141tipp': 0.0,\n",
       " 'R_2AGPA160tipp': 0.0,\n",
       " 'R_2AGPA161tipp': 0.0,\n",
       " 'R_2AGPA180tipp': 0.0,\n",
       " 'R_2AGPA181tipp': 0.0,\n",
       " 'R_2AGPE120tipp': 0.0,\n",
       " 'R_2AGPE140tipp': 0.0,\n",
       " 'R_2AGPE141tipp': 0.0,\n",
       " 'R_2AGPE160tipp': 0.0,\n",
       " 'R_2AGPE161tipp': 0.0,\n",
       " 'R_2AGPE180tipp': 0.0,\n",
       " 'R_2AGPE181tipp': 0.0,\n",
       " 'R_2AGPEAT120': 0.0,\n",
       " 'R_2AGPEAT140': 0.0,\n",
       " 'R_2AGPEAT141': 0.0,\n",
       " 'R_2AGPEAT160': 0.0,\n",
       " 'R_2AGPEAT161': 0.0,\n",
       " 'R_2AGPEAT180': 0.0,\n",
       " 'R_2AGPEAT181': 0.0,\n",
       " 'R_2AGPG120tipp': 0.0,\n",
       " 'R_2AGPG140tipp': 0.0,\n",
       " 'R_2AGPG141tipp': 0.0,\n",
       " 'R_2AGPG160tipp': 0.0,\n",
       " 'R_2AGPG161tipp': 0.0,\n",
       " 'R_2AGPG180tipp': 0.0,\n",
       " 'R_2AGPG181tipp': 0.0,\n",
       " 'R_2AGPGAT120': 0.0,\n",
       " 'R_2AGPGAT140': 0.0,\n",
       " 'R_2AGPGAT141': 0.0,\n",
       " 'R_2AGPGAT160': 0.0,\n",
       " 'R_2AGPGAT161': 0.0,\n",
       " 'R_2AGPGAT180': 0.0,\n",
       " 'R_2AGPGAT181': 0.0,\n",
       " 'R_2DGULRGx': 0.0,\n",
       " 'R_2DGULRGy': 0.0,\n",
       " 'R_2DGULRx': 0.0,\n",
       " 'R_2DGULRy': 0.0,\n",
       " 'R_2MAHMP': 0.0,\n",
       " 'R_3AMACHYD': 0.0,\n",
       " 'R_3HAD100': 0.0,\n",
       " 'R_3HAD120': 0.0,\n",
       " 'R_3HAD121': 0.0,\n",
       " 'R_3HAD140': 0.0,\n",
       " 'R_3HAD141': 0.0,\n",
       " 'R_3HAD160': 0.0,\n",
       " 'R_3HAD161': 0.0,\n",
       " 'R_3HAD180': 0.0,\n",
       " 'R_3HAD181': 0.0,\n",
       " 'R_3HAD40': 0.0,\n",
       " 'R_3HAD60': 0.0,\n",
       " 'R_3HAD80': 0.0,\n",
       " 'R_3HCINNMH': 0.0,\n",
       " 'R_3HPPPNH': 0.0,\n",
       " 'R_3HPPtpp': 0.0,\n",
       " 'R_3KGK': 0.0,\n",
       " 'R_3NTD2pp': 0.0,\n",
       " 'R_3NTD4pp': 0.0,\n",
       " 'R_3NTD7pp': 0.0,\n",
       " 'R_3NTD9pp': 0.0,\n",
       " 'R_3OAR121': 0.0,\n",
       " 'R_3OAR141': 0.0,\n",
       " 'R_3OAR161': 0.0,\n",
       " 'R_3OAR181': 0.0,\n",
       " 'R_3OAS100': 0.0,\n",
       " 'R_3OAS120': 0.0,\n",
       " 'R_3OAS121': 0.0,\n",
       " 'R_3OAS140': 0.04546455073621977,\n",
       " 'R_3OAS141': 0.0,\n",
       " 'R_3OAS160': 0.0,\n",
       " 'R_3OAS161': 0.0,\n",
       " 'R_3OAS180': 0.0,\n",
       " 'R_3OAS181': 0.0,\n",
       " 'R_3OAS60': 0.0,\n",
       " 'R_3OAS80': 0.0,\n",
       " 'R_3OXCOAT': 0.0,\n",
       " 'R_3PEPTabcpp': 0.0,\n",
       " 'R_42A12BOOXpp': 0.0,\n",
       " 'R_4HTHRS': 0.0,\n",
       " 'R_4PCP': 0.0,\n",
       " 'R_4PCPpp': 0.0,\n",
       " 'R_4PEPTabcpp': 0.0,\n",
       " 'R_5DOAN': 0.0001314443348536404,\n",
       " 'R_5MTRtpp': 0.0,\n",
       " 'R_AACPS1': 0.0,\n",
       " 'R_AACPS2': 0.0,\n",
       " 'R_AACPS3': 0.07455990030533327,\n",
       " 'R_AACPS4': 0.08787959290383517,\n",
       " 'R_AACPS5': 0.0,\n",
       " 'R_AACPS6': 0.0,\n",
       " 'R_AACPS7': 0.04546455073621977,\n",
       " 'R_AACPS8': 0.0,\n",
       " 'R_AACPS9': 0.0,\n",
       " 'R_AACTOOR': 0.0,\n",
       " 'R_AADDGT': 0.0,\n",
       " 'R_AAMYL': 0.0,\n",
       " 'R_AAMYLpp': 0.0,\n",
       " 'R_AB6PGH': 0.0,\n",
       " 'R_ABTA': 0.0,\n",
       " 'R_ABUTD': 0.0,\n",
       " 'R_ABUTt2pp': 0.0,\n",
       " 'R_ACACCT': 0.0,\n",
       " 'R_ACANTHAT': 0.0,\n",
       " 'R_ACBIPGT': 0.0,\n",
       " 'R_ACCOAC': 0.04546805591848254,\n",
       " 'R_ACCOAL': 0.0,\n",
       " 'R_ACGAL1PPpp': 0.0,\n",
       " 'R_ACGAM1PPpp': 0.0,\n",
       " 'R_ACGAMK': 0.0,\n",
       " 'R_ACGAMT': 0.0,\n",
       " 'R_ACGAptspp': 0.0,\n",
       " 'R_ACGK': 0.1728008119778978,\n",
       " 'R_ACGS': 0.1728008119778978,\n",
       " 'R_ACHBS': 0.16972618293641026,\n",
       " 'R_ACLS': 0.5107453652806865,\n",
       " 'R_ACM6PH': 0.0,\n",
       " 'R_ACMAMUT': 0.0,\n",
       " 'R_ACMANAptspp': 0.0,\n",
       " 'R_ACMUMptspp': 0.0,\n",
       " 'R_ACMUMtex': 0.0,\n",
       " 'R_ACNAMt2pp': 0.0,\n",
       " 'R_ACNML': 0.0,\n",
       " 'R_ACODA': 0.1728008119778978,\n",
       " 'R_ACOLIPAabctex': 0.0,\n",
       " 'R_ACONMT': 0.0,\n",
       " 'R_ACPPAT120': 0.0,\n",
       " 'R_ACPPAT140': 0.0,\n",
       " 'R_ACPPAT141': 0.0,\n",
       " 'R_ACPPAT160': 0.037279950152666635,\n",
       " 'R_ACPPAT161': 0.04393979645191758,\n",
       " 'R_ACPPAT180': 0.0,\n",
       " 'R_ACPPAT181': 0.0,\n",
       " 'R_ACPS1': 0.0,\n",
       " 'R_ACS': 0.34033917698530003,\n",
       " 'R_ACSERtpp': 0.0,\n",
       " 'R_ACt2rpp': -0.00304074561294747,\n",
       " 'R_ACt4pp': 0.00304074561294747,\n",
       " 'R_ADA': 0.0,\n",
       " 'R_ADCL': 0.0003908278222981005,\n",
       " 'R_ADCS': 0.0003908278222981005,\n",
       " 'R_ADD': 0.0,\n",
       " 'R_ADMDC': 0.0,\n",
       " 'R_ADNCYC': 0.0,\n",
       " 'R_ADNK1': 0.0,\n",
       " 'R_ADNUC': 0.0,\n",
       " 'R_ADNt2pp_copy1': 0.0,\n",
       " 'R_ADOCBIK': 0.0,\n",
       " 'R_ADOCBLS': 0.0,\n",
       " 'R_ADOCBLabcpp': 0.0,\n",
       " 'R_ADOCBLtonex': 0.0,\n",
       " 'R_ADPRDP': 0.0,\n",
       " 'R_ADPT': 0.0003931646104733272,\n",
       " 'R_ADSK': 0.1448060896392924,\n",
       " 'R_ADSS': 0.17469653138500585,\n",
       " 'R_AGDC': 0.0,\n",
       " 'R_AGM3PA': 0.0,\n",
       " 'R_AGM3PApp': 0.0,\n",
       " 'R_AGM3PH': 0.0,\n",
       " 'R_AGM3Pt2pp': 0.0,\n",
       " 'R_AGM4PA': 0.0,\n",
       " 'R_AGM4PApp': 0.0,\n",
       " 'R_AGM4PCP': 0.0,\n",
       " 'R_AGM4PCPpp': 0.0,\n",
       " 'R_AGM4PH': 0.0,\n",
       " 'R_AGM4Pt2pp': 0.0,\n",
       " 'R_AGMH': 0.0,\n",
       " 'R_AGMHE': 0.0,\n",
       " 'R_AGMT': 0.0,\n",
       " 'R_AGMt2pp': 0.0,\n",
       " 'R_AGPAT120': 0.0,\n",
       " 'R_AGPAT140': 0.0,\n",
       " 'R_AGPAT141': 0.0,\n",
       " 'R_AGPAT160': 0.037279950152666635,\n",
       " 'R_AGPAT161': 0.04393979645191758,\n",
       " 'R_AGPAT180': 0.0,\n",
       " 'R_AGPAT181': 0.0,\n",
       " 'R_AGt3': 0.0,\n",
       " 'R_AHCYSNS': 0.0002617202756196868,\n",
       " 'R_AIRC2': 0.2617290385753398,\n",
       " 'R_AKGDH': 2.3883752324364673,\n",
       " 'R_ALAALAD': 0.0,\n",
       " 'R_ALAALAabcpp': 0.0,\n",
       " 'R_ALATA_D2': 0.0,\n",
       " 'R_ALATA_L2': 0.0,\n",
       " 'R_ALATRS': 0.0,\n",
       " 'R_ALAabcpp': 0.0,\n",
       " 'R_ALAt2pp_copy1': 0.0,\n",
       " 'R_ALAt2pp_copy2': 0.0,\n",
       " 'R_ALAt4pp': 0.0,\n",
       " 'R_ALDD2x': 0.0,\n",
       " 'R_ALDD2y': 0.0,\n",
       " 'R_ALDD3y': 0.0,\n",
       " 'R_ALDD4': 0.0,\n",
       " 'R_ALLK': 0.0,\n",
       " 'R_ALLTAMH': 0.0,\n",
       " 'R_ALLTN': 0.0,\n",
       " 'R_ALLabcpp': 0.0,\n",
       " 'R_ALPATE160pp': 0.0,\n",
       " 'R_ALPATG160pp': 0.0,\n",
       " 'R_ALR2': 0.0,\n",
       " 'R_ALR4x': 0.0,\n",
       " 'R_ALTRH': 0.0,\n",
       " 'R_AM3PA': 0.0,\n",
       " 'R_AM4PA': 0.0,\n",
       " 'R_AM4PCP': 0.0,\n",
       " 'R_AMALT1': 0.0,\n",
       " 'R_AMALT2': 0.0,\n",
       " 'R_AMALT3': 0.0,\n",
       " 'R_AMALT4': 0.0,\n",
       " 'R_AMANK': 0.0,\n",
       " 'R_AMMQLT8': 0.0,\n",
       " 'R_AMPMS2': 0.00013027594076604914,\n",
       " 'R_AMPN': 0.0,\n",
       " 'R_AMPTASECG': 0.0,\n",
       " 'R_AMPTASEPG': 0.0,\n",
       " 'R_ANHMK': 0.0,\n",
       " 'R_ANPRT': 0.033207512560379064,\n",
       " 'R_ANS': 0.033207512560379064,\n",
       " 'R_AOBUTDs': 0.0,\n",
       " 'R_AOXSr2': 1.1683940875878846e-06,\n",
       " 'R_AP4AH': 0.0,\n",
       " 'R_AP4AS': 0.0,\n",
       " 'R_AP5AH': 0.0,\n",
       " 'R_APCS': 0.0,\n",
       " 'R_APG3PAT120': 0.0,\n",
       " 'R_APG3PAT140': 0.0,\n",
       " 'R_APG3PAT141': 0.0,\n",
       " 'R_APG3PAT160': 0.037279950152666635,\n",
       " 'R_APG3PAT161': 0.04393979645191758,\n",
       " 'R_APG3PAT180': 0.0,\n",
       " 'R_APG3PAT181': 0.0,\n",
       " 'R_APH120': 0.0,\n",
       " 'R_APH140': 0.0,\n",
       " 'R_APH141': 0.0,\n",
       " 'R_APH160': 0.0,\n",
       " 'R_APH161': 0.0,\n",
       " 'R_APH180': 0.0,\n",
       " 'R_APH181': 0.0,\n",
       " 'R_APRAUR': 0.0002605518815321475,\n",
       " 'R_ARBTNR1': 0.0,\n",
       " 'R_ARBTNR2': 0.0,\n",
       " 'R_ARBTNR3': 0.0,\n",
       " 'R_ARBTNabcpp': 0.0,\n",
       " 'R_ARBTNexs': 0.0,\n",
       " 'R_ARBTNtex': 0.0,\n",
       " 'R_ARBTNtonex': 0.0,\n",
       " 'R_ARBTNtpp': 0.0,\n",
       " 'R_ARBTptspp': 0.0,\n",
       " 'R_ARBTtex': 0.0,\n",
       " 'R_ARBabcpp': 0.0,\n",
       " 'R_ARBt3ipp': 0.0,\n",
       " 'R_ARGDC': 0.0,\n",
       " 'R_ARGDCpp': 0.0,\n",
       " 'R_ARGSS': 0.1728008119778978,\n",
       " 'R_ARGTRS': 0.0,\n",
       " 'R_ARGabcpp': 0.0,\n",
       " 'R_ARGt3pp': 0.0,\n",
       " 'R_ASCBPL': 0.0,\n",
       " 'R_ASCBptspp': 0.0,\n",
       " 'R_ASNN': 0.0,\n",
       " 'R_ASNNpp': 0.0,\n",
       " 'R_ASNS1': 0.0,\n",
       " 'R_ASNS2': 0.14082361839174876,\n",
       " 'R_ASNTRS': 0.0,\n",
       " 'R_ASNabcpp': 0.0,\n",
       " 'R_ASO3t8pp': 0.0,\n",
       " 'R_ASP1DC': 0.0003364974972256473,\n",
       " 'R_ASPCT': 0.1932494611018171,\n",
       " 'R_ASPO3': 0.0,\n",
       " 'R_ASPO4': 0.0,\n",
       " 'R_ASPO5': 0.0,\n",
       " 'R_ASPO6': 0.0013308008657614582,\n",
       " 'R_ASPT': 0.0,\n",
       " 'R_ASPTRS': 0.0,\n",
       " 'R_ASPabcpp': 0.0,\n",
       " 'R_ASPt2_2pp': 0.0,\n",
       " 'R_ASPt2_3pp': 0.0,\n",
       " 'R_ASPt2pp_copy1': 0.0,\n",
       " 'R_ASPt2pp_copy2': 0.0,\n",
       " 'R_ASR': 0.0,\n",
       " 'R_AST': 0.0,\n",
       " 'R_ATPHs': 0.0,\n",
       " 'R_ATPM': 3.15,\n",
       " 'R_ATPPRT': 0.05534565953495051,\n",
       " 'R_BALAt2pp': 0.0,\n",
       " 'R_BETALDHx': 0.0,\n",
       " 'R_BETALDHy': 0.0,\n",
       " 'R_BMOCOS': 7.127203934286096e-05,\n",
       " 'R_BMOGDS1': 7.127203934286096e-05,\n",
       " 'R_BMOGDS2': 7.127203934286096e-05,\n",
       " 'R_BPNT': 0.1448060896392924,\n",
       " 'R_BSORx': 0.0,\n",
       " 'R_BSORy': 0.0,\n",
       " 'R_BTNt2ipp': 0.0,\n",
       " 'R_BTS5': 1.1683940875878846e-06,\n",
       " 'R_BUTCT': 0.0,\n",
       " 'R_BUTSO3abcpp': 0.0,\n",
       " 'R_BWCOGDS1': 0.0,\n",
       " 'R_BWCOGDS2': 0.0,\n",
       " 'R_BWCOS': 0.0,\n",
       " 'R_CA2t3pp': 0.0,\n",
       " 'R_CADVtpp': 0.0,\n",
       " 'R_CAT': 0.0,\n",
       " 'R_CBItonex': 0.0,\n",
       " 'R_CBIuabcpp': 0.0,\n",
       " 'R_CBL1abcpp': 0.0,\n",
       " 'R_CBL1tonex': 0.0,\n",
       " 'R_CBMD': 0.0,\n",
       " 'R_CBPS': 0.0,\n",
       " 'R_CCGS': 0.0,\n",
       " 'R_CD2abcpp': 0.0,\n",
       " 'R_CD2t3pp': 0.0,\n",
       " 'R_CD2tpp': 0.0,\n",
       " 'R_CDAPPA120': 0.0,\n",
       " 'R_CDAPPA140': 0.0,\n",
       " 'R_CDAPPA141': 0.0,\n",
       " 'R_CDAPPA160': 0.0,\n",
       " 'R_CDAPPA161': 0.0,\n",
       " 'R_CDAPPA180': 0.0,\n",
       " 'R_CDAPPA181': 0.0,\n",
       " 'R_CDGR': 0.0,\n",
       " 'R_CDGS': 0.0,\n",
       " 'R_CDPMEK': 0.0013956467376237283,\n",
       " 'R_CFAS160E': 0.0,\n",
       " 'R_CFAS160G': 0.0,\n",
       " 'R_CFAS180E': 0.0,\n",
       " 'R_CFAS180G': 0.0,\n",
       " 'R_CGLYabcpp': 0.0,\n",
       " 'R_CHLabcpp': 0.0,\n",
       " 'R_CHLt2pp': 0.0,\n",
       " 'R_CHOLD': 0.0,\n",
       " 'R_CHORM': 0.18891997681026024,\n",
       " 'R_CHORS': 0.22264859313370347,\n",
       " 'R_CHRPL': 0.00013027594076604914,\n",
       " 'R_CHTBSptspp': 0.0,\n",
       " 'R_CINNDO': 0.0,\n",
       " 'R_CITL': 0.0,\n",
       " 'R_CITt3pp': 0.0,\n",
       " 'R_CITt7pp': 0.0,\n",
       " 'R_CLIPAabctex': 0.0,\n",
       " 'R_CLPNH120pp': 0.0,\n",
       " 'R_CLPNH140pp': 0.0,\n",
       " 'R_CLPNH141pp': 0.0,\n",
       " 'R_CLPNH160pp': 0.0,\n",
       " 'R_CLPNH161pp': 0.0,\n",
       " 'R_CLPNH180pp': 0.0,\n",
       " 'R_CLPNH181pp': 0.0,\n",
       " 'R_CLt3_2pp': 0.001520372806473735,\n",
       " 'R_CMPN': 0.0,\n",
       " 'R_CMtpp': 0.0,\n",
       " 'R_COBALT2abcpp': 0.0,\n",
       " 'R_COBALT2t3pp': 0.0,\n",
       " 'R_COBALT2tpp': 1.4604926094848558e-05,\n",
       " 'R_COLIPAKpp': 0.0,\n",
       " 'R_COLIPAPabctex': 0.0,\n",
       " 'R_COLIPAabcpp': 0.0,\n",
       " 'R_COLIPAabctex': 0.0,\n",
       " 'R_CPGNR1': 0.0,\n",
       " 'R_CPGNR2': 0.0,\n",
       " 'R_CPGNR3': 0.0,\n",
       " 'R_CPGNUtex': 0.0,\n",
       " 'R_CPGNUtpp': 0.0,\n",
       " 'R_CPGNabcpp': 0.0,\n",
       " 'R_CPGNexs': 0.0,\n",
       " 'R_CPGNtonex': 0.0,\n",
       " 'R_CPH4S': 0.0,\n",
       " 'R_CPMPS': 0.00014254407868572193,\n",
       " 'R_CPPPGO': 0.00013027594076604914,\n",
       " 'R_CPPPGO2': 0.0,\n",
       " 'R_CRNCAL2': 0.0,\n",
       " 'R_CRNDCAL2': 0.0,\n",
       " 'R_CRNDabcpp': 0.0,\n",
       " 'R_CRNabcpp': 0.0,\n",
       " 'R_CRNt7pp': 0.0,\n",
       " 'R_CRNt8pp': 0.0,\n",
       " 'R_CS': 3.0164992203473635,\n",
       " 'R_CSND': 0.0,\n",
       " 'R_CSNt2pp': 0.0,\n",
       " 'R_CTBTCAL2': 0.0,\n",
       " 'R_CTBTabcpp': 0.0,\n",
       " 'R_CTPS2': 0.09377823045502254,\n",
       " 'R_CU1Opp': 0.0,\n",
       " 'R_CU1abcpp': 0.0,\n",
       " 'R_CU2abcpp': 0.0,\n",
       " 'R_CU2tpp': 0.0004141957040499052,\n",
       " 'R_CUt3': 0.0,\n",
       " 'R_CYANST': 0.0,\n",
       " 'R_CYANSTpp': 0.0,\n",
       " 'R_CYNTAH': 0.0,\n",
       " 'R_CYNTt2pp': 0.0,\n",
       " 'R_CYSDDS': 0.0,\n",
       " 'R_CYSDS': 0.0,\n",
       " 'R_CYSDabcpp': 0.0,\n",
       " 'R_CYSS': 0.1448060896392924,\n",
       " 'R_CYSSADS': 0.0,\n",
       " 'R_CYSTL': 0.08991435120736946,\n",
       " 'R_CYSTRS': 0.0,\n",
       " 'R_CYSabc2pp': 0.0,\n",
       " 'R_CYSabcpp': 0.0,\n",
       " 'R_CYStpp': 0.0,\n",
       " 'R_CYTBD2pp': 0.0,\n",
       " 'R_CYTBDpp': 0.0,\n",
       " 'R_CYTBO3_4pp': 21.54111310036622,\n",
       " 'R_CYTD': 0.0,\n",
       " 'R_CYTDH': 0.0,\n",
       " 'R_CYTDK2': 0.0,\n",
       " 'R_CYTDt2pp_copy1': 0.0,\n",
       " 'R_DAAD': 0.0,\n",
       " 'R_DADA': 0.0,\n",
       " 'R_DADNt2pp': 0.0,\n",
       " 'R_DAGK120': 0.0,\n",
       " 'R_DAGK140': 0.0,\n",
       " 'R_DAGK141': 0.0,\n",
       " 'R_DAGK160': 0.0,\n",
       " 'R_DAGK161': 0.0,\n",
       " 'R_DAGK180': 0.0,\n",
       " 'R_DAGK181': 0.0,\n",
       " 'R_DALAt2pp': 0.008116833726473035,\n",
       " 'R_DAPAL': 0.0,\n",
       " 'R_DAPDC': 0.20047364174537305,\n",
       " 'R_DAPabcpp': 0.0,\n",
       " 'R_DASYN120': 0.0,\n",
       " 'R_DASYN140': 0.0,\n",
       " 'R_DASYN141': 0.0,\n",
       " 'R_DASYN160': 0.037279950152666635,\n",
       " 'R_DASYN161': 0.04393979645191758,\n",
       " 'R_DASYN180': 0.0,\n",
       " 'R_DASYN181': 0.0,\n",
       " 'R_DATPHs': 0.0,\n",
       " 'R_DB4PS': 0.000521103763064295,\n",
       " 'R_DBTS': 1.1683940875878846e-06,\n",
       " 'R_DC6PH': 0.0,\n",
       " 'R_DCTPD': 0.0,\n",
       " 'R_DCYTD': 0.0,\n",
       " 'R_DCYTt2pp': 0.0,\n",
       " 'R_DDCAtexi': 0.0,\n",
       " 'R_DDGALK': 0.0,\n",
       " 'R_DDGLK': 0.0,\n",
       " 'R_DDPA': 0.22264859313370347,\n",
       " 'R_DGSNt2pp': 0.0,\n",
       " 'R_DHAD1': 0.5107453652806865,\n",
       " 'R_DHAD2': 0.16972618293641026,\n",
       " 'R_DHAPT': 0.0,\n",
       " 'R_DHAtpp': 0.0,\n",
       " 'R_DHBS': 0.0,\n",
       " 'R_DHBSH': 0.0,\n",
       " 'R_DHCIND': 0.0,\n",
       " 'R_DHCINDO': 0.0,\n",
       " 'R_DHDPRy': 0.2167073091983191,\n",
       " 'R_DHDPS': 0.2167073091983191,\n",
       " 'R_DHFS': 0.0003908278222981005,\n",
       " 'R_DHMPTR': 0.0,\n",
       " 'R_DHNAOT4': 0.0,\n",
       " 'R_DHNCOAS': 0.0,\n",
       " 'R_DHNCOAT': 0.0,\n",
       " 'R_DHORD2': 0.0,\n",
       " 'R_DHORD5': 0.1932494611018171,\n",
       " 'R_DHORDfum': 0.0,\n",
       " 'R_DHPPD': 0.0,\n",
       " 'R_DHPPDA2': 0.0002605518815321475,\n",
       " 'R_DHPS2': 0.0003908278222981005,\n",
       " 'R_DHPTDCs2': 0.0002617202756196868,\n",
       " 'R_DHPTDNR': 0.0,\n",
       " 'R_DHPTDNRN': 0.0,\n",
       " 'R_DHQS': 0.22264859313370347,\n",
       " 'R_DHQTi': 0.22264859313370347,\n",
       " 'R_DINSt2pp': 0.0,\n",
       " 'R_DKGLCNR1': 0.0,\n",
       " 'R_DKGLCNR2x': 0.0,\n",
       " 'R_DKGLCNR2y': 0.0,\n",
       " 'R_DMATT': 0.00016240677817471597,\n",
       " 'R_DMPPS': 0.0,\n",
       " 'R_DMQMT': 0.0,\n",
       " 'R_DMSOR1': 0.0,\n",
       " 'R_DMSOR1pp': 0.0,\n",
       " 'R_DMSOR2': 0.0,\n",
       " 'R_DMSOR2pp': 0.0,\n",
       " 'R_DNMPPA': 0.0003908278222981005,\n",
       " 'R_DNTPPA': 0.0003908278222981005,\n",
       " 'R_DOGULNR': 0.0,\n",
       " 'R_DOXRBCNtpp': 0.0,\n",
       " 'R_DPCOAK': 0.0003364974972256473,\n",
       " 'R_DPR': 0.0003364974972256473,\n",
       " 'R_DRPA': 0.0,\n",
       " 'R_DSBAO1': 0.0,\n",
       " 'R_DSBAO2': 0.0,\n",
       " 'R_DSBCGT': 0.0,\n",
       " 'R_DSBDR': 0.0,\n",
       " 'R_DSBGGT': 0.0,\n",
       " 'R_DSERt2pp': 0.0,\n",
       " 'R_DTARTD': 0.0,\n",
       " 'R_DURIK1': 0.0,\n",
       " 'R_DURIt2pp': 0.0,\n",
       " 'R_DUTPDP': 0.015286099847912293,\n",
       " 'R_DXPRIi': 0.0013956467376237283,\n",
       " 'R_DXPS': 0.0016561986191558267,\n",
       " 'R_DXYLK': 0.0,\n",
       " 'R_EAR100x': 0.0,\n",
       " 'R_EAR100y': 0.0,\n",
       " 'R_EAR120x': 0.0,\n",
       " 'R_EAR120y': 0.0,\n",
       " 'R_EAR121x': 0.0,\n",
       " 'R_EAR121y': 0.0,\n",
       " 'R_EAR140x': 0.0,\n",
       " 'R_EAR140y': 0.0,\n",
       " 'R_EAR141x': 0.0,\n",
       " 'R_EAR141y': 0.0,\n",
       " 'R_EAR160x': 0.0,\n",
       " 'R_EAR160y': 0.0,\n",
       " 'R_EAR161x': 0.0,\n",
       " 'R_EAR161y': 0.0,\n",
       " 'R_EAR180x': 0.0,\n",
       " 'R_EAR180y': 0.0,\n",
       " 'R_EAR181x': 0.0,\n",
       " 'R_EAR181y': 0.0,\n",
       " 'R_EAR40x': 0.0,\n",
       " 'R_EAR40y': 0.0,\n",
       " 'R_EAR60x': 0.0,\n",
       " 'R_EAR60y': 0.0,\n",
       " 'R_EAR80x': 0.0,\n",
       " 'R_EAR80y': 0.0,\n",
       " 'R_ECA4COLIPAabctex': 0.0,\n",
       " 'R_ECA4OALpp': 0.0,\n",
       " 'R_ECAP1pp': 0.0,\n",
       " 'R_ECAP2pp': 0.0,\n",
       " 'R_ECAP3pp': 0.0,\n",
       " 'R_ECAtpp': 0.0,\n",
       " 'R_EDA': 0.0,\n",
       " 'R_EDD': 0.0,\n",
       " 'R_EDTXS1': 0.0,\n",
       " 'R_EDTXS2': 0.0,\n",
       " 'R_EDTXS3': 0.0,\n",
       " 'R_EDTXS4': 0.0,\n",
       " 'R_EGMEACPR': 1.1683940875878846e-06,\n",
       " 'R_ENLIPAabctex': 0.0,\n",
       " 'R_ENTCS': 0.0,\n",
       " 'R_ENTERES': 0.0,\n",
       " 'R_ENTERES2': 0.0,\n",
       " 'R_EPMEACPR': 1.1683940875878846e-06,\n",
       " 'R_ETHAAL': 0.0,\n",
       " 'R_ETHAt2pp': 0.0,\n",
       " 'R_ETHSO3abcpp': 0.0,\n",
       " 'R_F6PP': 0.0,\n",
       " 'R_F6Pt6_2pp': 0.0,\n",
       " 'R_FA100ACPHi': 0.0,\n",
       " 'R_FA120ACPHi': 0.0,\n",
       " 'R_FA140ACPHi': 0.0,\n",
       " 'R_FA141ACPHi': 0.0,\n",
       " 'R_FA160ACPHi': 0.0,\n",
       " 'R_FA161ACPHi': 0.0,\n",
       " 'R_FA80ACPHi': 0.0,\n",
       " 'R_FACOAE100': 0.0,\n",
       " 'R_FACOAE120': 0.04546455073621977,\n",
       " 'R_FACOAE140': 0.0,\n",
       " 'R_FACOAE141': 0.0,\n",
       " 'R_FACOAE160': 0.07455990030533327,\n",
       " 'R_FACOAE161': 0.08787959290383517,\n",
       " 'R_FACOAE180': 0.0,\n",
       " 'R_FACOAE181': 0.0,\n",
       " 'R_FACOAE60': 0.0,\n",
       " 'R_FACOAE80': 0.0,\n",
       " 'R_FACOAL100t2pp': 0.0,\n",
       " 'R_FACOAL120t2pp': 0.0,\n",
       " 'R_FACOAL140t2pp': 0.0,\n",
       " 'R_FACOAL141t2pp': 0.0,\n",
       " 'R_FACOAL160t2pp': 0.0,\n",
       " 'R_FACOAL161t2pp': 0.0,\n",
       " 'R_FACOAL180t2pp': 0.0,\n",
       " 'R_FACOAL181t2pp': 0.0,\n",
       " 'R_FACOAL60t2pp': 0.0,\n",
       " 'R_FACOAL80t2pp': 0.0,\n",
       " 'R_FADRx': 1.2769904760587405,\n",
       " 'R_FADRx2': 0.0,\n",
       " 'R_FBP': 0.0,\n",
       " 'R_FCLK': 0.0,\n",
       " 'R_FCLT': 0.00013027594076604914,\n",
       " 'R_FDH4pp': 0.0,\n",
       " 'R_FDH5pp': 0.0,\n",
       " 'R_FDMO': 0.0,\n",
       " 'R_FDMO2': 0.0,\n",
       " 'R_FDMO3': 0.0,\n",
       " 'R_FDMO4': 0.0,\n",
       " 'R_FDMO6': 0.0,\n",
       " 'R_FE2abcpp': 0.0,\n",
       " 'R_FE2t2pp': 0.0,\n",
       " 'R_FE2t3pp': 0.0,\n",
       " 'R_FE2tpp': 0.009382788720374508,\n",
       " 'R_FE3DCITabcpp': 0.0,\n",
       " 'R_FE3DCITtonex': 0.0,\n",
       " 'R_FE3DHBZR': 0.0,\n",
       " 'R_FE3DHBZSabcpp': 0.0,\n",
       " 'R_FE3DHBZStonex': 0.0,\n",
       " 'R_FE3HOXR1': 0.0,\n",
       " 'R_FE3HOXR2': 0.0,\n",
       " 'R_FE3HOXR3': 0.0,\n",
       " 'R_FE3HOXUtex': 0.0,\n",
       " 'R_FE3HOXUtpp': 0.0,\n",
       " 'R_FE3HOXabcpp': 0.0,\n",
       " 'R_FE3HOXexs': 0.0,\n",
       " 'R_FE3HOXtonex': 0.0,\n",
       " 'R_FE3Ri': 0.0,\n",
       " 'R_FE3abcpp': 0.0,\n",
       " 'R_FECRMR1': 0.0,\n",
       " 'R_FECRMR2': 0.0,\n",
       " 'R_FECRMR3': 0.0,\n",
       " 'R_FECRMUtex': 0.0,\n",
       " 'R_FECRMUtpp': 0.0,\n",
       " 'R_FECRMabcpp': 0.0,\n",
       " 'R_FECRMexs': 0.0,\n",
       " 'R_FECRMtonex': 0.0,\n",
       " 'R_FEENTERR1': 0.0,\n",
       " 'R_FEENTERR2': 0.0,\n",
       " 'R_FEENTERR3': 0.0,\n",
       " 'R_FEENTERabcpp': 0.0,\n",
       " 'R_FEENTERexs': 0.0,\n",
       " 'R_FEENTERtex': 0.0,\n",
       " 'R_FEENTERtonex': 0.0,\n",
       " 'R_FEENTERtpp': 0.0,\n",
       " 'R_FEOXAMR1': 0.0,\n",
       " 'R_FEOXAMR2': 0.0,\n",
       " 'R_FEOXAMR3': 0.0,\n",
       " 'R_FEOXAMUtex': 0.0,\n",
       " 'R_FEOXAMUtpp': 0.0,\n",
       " 'R_FEOXAMabcpp': 0.0,\n",
       " 'R_FEOXAMexs': 0.0,\n",
       " 'R_FEOXAMtonex': 0.0,\n",
       " 'R_FEROpp': 0.0,\n",
       " 'R_FESD1s': 0.002280705258971551,\n",
       " 'R_FESD2s': 0.0,\n",
       " 'R_FESR': 0.004561410517943102,\n",
       " 'R_FFSD': 0.0,\n",
       " 'R_FHL': 0.0,\n",
       " 'R_FLDR2': 0.0,\n",
       " 'R_FLVR': 0.0,\n",
       " 'R_FLVRx': 0.0,\n",
       " 'R_FMETTRS': 0.0,\n",
       " 'R_FMNAT': 0.00013027594076609836,\n",
       " 'R_FMNRx': 0.0,\n",
       " 'R_FMNRx2': 0.0,\n",
       " 'R_FOMETRi': 0.0,\n",
       " 'R_FORt2pp': 0.0,\n",
       " 'R_FORtppi': 0.0,\n",
       " 'R_FRD2': 0.1932494611018171,\n",
       " 'R_FRD3': 0.0003908278222981005,\n",
       " 'R_FRUK': 0.0,\n",
       " 'R_FRULYSK': 0.0,\n",
       " 'R_FRULYSt2pp': 0.0,\n",
       " 'R_FRUpts2pp': 0.0,\n",
       " 'R_FRUptspp': 0.0,\n",
       " 'R_FTHFD': 0.0,\n",
       " 'R_FTHFLi': 0.0,\n",
       " ...}"
      ]
     },
     "execution_count": 126,
     "metadata": {},
     "output_type": "execute_result"
    }
   ],
   "source": [
    "solution.values["
   ]
  },
  {
   "cell_type": "markdown",
   "id": "f7e9627f-d272-44ca-992c-afd140d93a22",
   "metadata": {},
   "source": [
    "# Functional implementation"
   ]
  },
  {
   "cell_type": "code",
   "execution_count": 54,
   "id": "cbcd62cc-628d-4eea-867a-6d07a7f7493d",
   "metadata": {
    "tags": []
   },
   "outputs": [],
   "source": [
    "model = reframed.load_cbmodel('../models/e_coli/momentiJO1366.xml')\n",
    "model.solver = 'gurobi'\n",
    "# model.reactions.R_EX_lac__L_e.ub = 1000\n",
    "model.reactions.R_EX_glc__D_e.lb = -10\n",
    "# model.update()\n",
    "for r_id in model.get_exchange_reactions():\n",
    "    model.reactions[r_id].ub = 1000"
   ]
  },
  {
   "cell_type": "code",
   "execution_count": 115,
   "id": "3762af16-4e43-4b3b-bc4f-5548063833e0",
   "metadata": {
    "tags": []
   },
   "outputs": [
    {
     "data": {
      "text/plain": [
       "\u001b[0;31mSignature:\u001b[0m \u001b[0mmodel\u001b[0m\u001b[0;34m.\u001b[0m\u001b[0mset_flux_bounds\u001b[0m\u001b[0;34m(\u001b[0m\u001b[0mr_id\u001b[0m\u001b[0;34m,\u001b[0m \u001b[0mlb\u001b[0m\u001b[0;34m=\u001b[0m\u001b[0;32mNone\u001b[0m\u001b[0;34m,\u001b[0m \u001b[0mub\u001b[0m\u001b[0;34m=\u001b[0m\u001b[0;32mNone\u001b[0m\u001b[0;34m)\u001b[0m\u001b[0;34m\u001b[0m\u001b[0;34m\u001b[0m\u001b[0m\n",
       "\u001b[0;31mDocstring:\u001b[0m\n",
       "Define flux bounds for one reaction\n",
       "\n",
       "Arguments:\n",
       "    r_id (str): reaction id\n",
       "    lb (float): lower bound\n",
       "    ub (float): upper bound\n",
       "\u001b[0;31mFile:\u001b[0m      ~/anaconda3/lib/python3.11/site-packages/reframed/core/cbmodel.py\n",
       "\u001b[0;31mType:\u001b[0m      method"
      ]
     },
     "metadata": {},
     "output_type": "display_data"
    }
   ],
   "source": [
    "model.set_flux_bounds?"
   ]
  },
  {
   "cell_type": "code",
   "execution_count": 107,
   "id": "280e22c5-24be-4a30-ad61-c46fdb3cb90a",
   "metadata": {
    "tags": []
   },
   "outputs": [],
   "source": [
    "solution = reframed.FBA(model, constraints={'R_EX_glc__D_e': -6})"
   ]
  },
  {
   "cell_type": "code",
   "execution_count": 108,
   "id": "74f5852e-2e71-4663-878b-0d17d4078b39",
   "metadata": {
    "tags": []
   },
   "outputs": [],
   "source": [
    "psolution = reframed.pFBA(model, constraints={'R_EX_glc__D_e': -6})"
   ]
  },
  {
   "cell_type": "code",
   "execution_count": 113,
   "id": "302ab8d8-35ab-447b-9718-bfd1bb1c63a9",
   "metadata": {
    "tags": []
   },
   "outputs": [
    {
     "data": {
      "text/plain": [
       "'R_BIOMASS_Ec_iJO1366_core_53p95M'"
      ]
     },
     "execution_count": 113,
     "metadata": {},
     "output_type": "execute_result"
    }
   ],
   "source": [
    "psolution.values[model.biomass_reaction]"
   ]
  },
  {
   "cell_type": "code",
   "execution_count": 56,
   "id": "1ee4a1ee-d346-4075-a862-15c6b2401b13",
   "metadata": {
    "tags": []
   },
   "outputs": [],
   "source": [
    "selected_metabolites = []\n",
    "selected_metabolites_exchanges = []\n",
    "for m_id, turnover in solution.get_metabolites_turnover(model).items():#Should use parsimonious solutions\n",
    "    if m_id.endswith('_c') and turnover > 1e-6:\n",
    "        r_ex_id = f'R_EX_{m_id[2:-2]}_e'\n",
    "        if r_ex_id in model.reactions:\n",
    "            selected_metabolites.append(m_id)\n",
    "            selected_metabolites_exchanges.append(r_ex_id)\n"
   ]
  },
  {
   "cell_type": "code",
   "execution_count": 57,
   "id": "e5092769-b2c3-4855-9581-892b6e362941",
   "metadata": {
    "tags": []
   },
   "outputs": [],
   "source": [
    "fva_results = reframed.FVA(model, obj_frac=0.9, constraints={'R_EX_glc__D_e': -6}, reactions = selected_metabolites_exchanges)"
   ]
  },
  {
   "cell_type": "code",
   "execution_count": 58,
   "id": "273f8293-3839-40a2-ba72-38db589440cb",
   "metadata": {
    "tags": []
   },
   "outputs": [],
   "source": [
    "leak_mets = []\n",
    "leak_exchanges = []\n",
    "for m_id, r_ex_id in zip(selected_metabolites, selected_metabolites_exchanges):\n",
    "    lb, ub = fva_results[r_ex_id]\n",
    "    if ub > 0:\n",
    "        leak_mets.append(m_id)\n",
    "        leak_exchanges.append(r_ex_id)\n"
   ]
  },
  {
   "cell_type": "code",
   "execution_count": 59,
   "id": "c4fa3f54-d82e-4087-a525-ec5522c3b7bf",
   "metadata": {
    "tags": []
   },
   "outputs": [],
   "source": [
    "solution = reframed.FBA(model, constraints={'R_EX_glc__D_e': -6}, shadow_prices=True)\n",
    "predicted_log_leakage_rates = {}\n",
    "slope =  -3 #-1.94204311\n",
    "intercept = -4 #-6.08989226\n",
    "predicted_metabolite_values = {}\n",
    "for m_id, r_ex_id in zip(leak_mets, leak_exchanges):\n",
    "    metabolite_value = - solution.shadow_prices[m_id]\n",
    "    if np.isfinite(metabolite_value) and metabolite_value > 1e-7:\n",
    "        # Use trendline from fit \n",
    "        lograte = intercept + slope*np.log10(metabolite_value)\n",
    "        predicted_log_leakage_rates[r_ex_id] = lograte\n",
    "        predicted_metabolite_values[r_ex_id] = metabolite_value"
   ]
  },
  {
   "cell_type": "code",
   "execution_count": 100,
   "id": "a3952a56-8316-4712-9e5a-ca332b4dd7b3",
   "metadata": {},
   "outputs": [
    {
     "name": "stdout",
     "output_type": "stream",
     "text": [
      "R_EX_co2_e: M_co2_e <->  [-inf, 1000] -inf\n",
      "R_EX_fe2_e: M_fe2_e <->  [-inf, 1000] -inf\n",
      "R_EX_fe3_e: M_fe3_e <->  [-inf, 1000] -inf\n",
      "R_EX_h_e: M_h_e <->  [-inf, 1000] -inf\n",
      "R_EX_h2o_e: M_h2o_e <->  [-inf, 1000] -inf\n",
      "R_EX_meoh_e: M_meoh_e -->  [0.0, 1000]\n"
     ]
    }
   ],
   "source": [
    "# selected_mets = ['M_pyr_c', 'M_cit_c']\n",
    "solver = reframed.solver_instance(model)\n",
    "log_vars = []\n",
    "for m_id in leak_mets:\n",
    "    r_ex_id = f'R_EX_{m_id[2:-2]}_e'\n",
    "    r_ex = model.reactions[r_ex_id]\n",
    "    r_ex.ub = 1000\n",
    "    if r_ex.lb < 0:\n",
    "        print(r_ex, r_ex.lb)\n",
    "        continue\n",
    "    if not predicted_log_leakage_rates.get(r_ex_id):\n",
    "        print(r_ex)\n",
    "        continue\n",
    "    # log_x = problem.addVar(vtype=gp.GRB.CONTINUOUS, name = f'log_{r_ex_id}', lb=-gp.GRB.INFINITY)\n",
    "    solver.add_variable(var_id= f'log_{r_ex_id}', lb=-10, ub=10)\n",
    "    x = solver.problem.getVarByName(r_ex_id)\n",
    "    x.ub = 1000\n",
    "    log_x = solver.problem.getVarByName(f'log_{r_ex_id}')\n",
    "    log_vars.append(f'log_{r_ex_id}')\n",
    "    c = solver.problem.addGenConstrLogA(x, log_x, 10, name = f'logc_{r_ex_id}', options='FuncPieceError=1e-5 FuncPieces=-2')\n",
    "    solver.constr_ids.append(f'logc_{r_ex_id}')\n",
    "    # \n",
    "    # solver.add_constraint(constr_id='test', lhs={x.VarName:1, log_x.VarName:-1}, rhs = 0)\n",
    "solver.problem.update()\n",
    "solver.update()"
   ]
  },
  {
   "cell_type": "code",
   "execution_count": 157,
   "id": "d0e0f6dc-b702-49fc-98d8-6ff9d49c568a",
   "metadata": {
    "tags": []
   },
   "outputs": [
    {
     "data": {
      "text/plain": [
       "\u001b[0;31mInit signature:\u001b[0m\n",
       "\u001b[0mreframed\u001b[0m\u001b[0;34m.\u001b[0m\u001b[0mReaction\u001b[0m\u001b[0;34m(\u001b[0m\u001b[0;34m\u001b[0m\n",
       "\u001b[0;34m\u001b[0m    \u001b[0mreaction_id\u001b[0m\u001b[0;34m,\u001b[0m\u001b[0;34m\u001b[0m\n",
       "\u001b[0;34m\u001b[0m    \u001b[0mname\u001b[0m\u001b[0;34m=\u001b[0m\u001b[0;32mNone\u001b[0m\u001b[0;34m,\u001b[0m\u001b[0;34m\u001b[0m\n",
       "\u001b[0;34m\u001b[0m    \u001b[0mreversible\u001b[0m\u001b[0;34m=\u001b[0m\u001b[0;32mTrue\u001b[0m\u001b[0;34m,\u001b[0m\u001b[0;34m\u001b[0m\n",
       "\u001b[0;34m\u001b[0m    \u001b[0mstoichiometry\u001b[0m\u001b[0;34m=\u001b[0m\u001b[0;32mNone\u001b[0m\u001b[0;34m,\u001b[0m\u001b[0;34m\u001b[0m\n",
       "\u001b[0;34m\u001b[0m    \u001b[0mregulators\u001b[0m\u001b[0;34m=\u001b[0m\u001b[0;32mNone\u001b[0m\u001b[0;34m,\u001b[0m\u001b[0;34m\u001b[0m\n",
       "\u001b[0;34m\u001b[0m    \u001b[0mreaction_type\u001b[0m\u001b[0;34m=\u001b[0m\u001b[0;32mNone\u001b[0m\u001b[0;34m,\u001b[0m\u001b[0;34m\u001b[0m\n",
       "\u001b[0;34m\u001b[0m\u001b[0;34m)\u001b[0m\u001b[0;34m\u001b[0m\u001b[0;34m\u001b[0m\u001b[0m\n",
       "\u001b[0;31mDocstring:\u001b[0m      Base class for modeling reactions. \n",
       "\u001b[0;31mInit docstring:\u001b[0m\n",
       "Arguments:\n",
       "    reaction_id (str): a valid unique identifier\n",
       "    name (str): common reaction name\n",
       "    reversible (bool): reaction reversibility (default: True)\n",
       "    stoichiometry (dict): stoichiometry\n",
       "    regulators (dict): reaction regulators\n",
       "    reaction_type (ReactionType): reaction type\n",
       "\u001b[0;31mFile:\u001b[0m           ~/anaconda3/lib/python3.11/site-packages/reframed/core/model.py\n",
       "\u001b[0;31mType:\u001b[0m           type\n",
       "\u001b[0;31mSubclasses:\u001b[0m     CBReaction"
      ]
     },
     "metadata": {},
     "output_type": "display_data"
    }
   ],
   "source": [
    "r = reframed.Reaction?"
   ]
  },
  {
   "cell_type": "code",
   "execution_count": 154,
   "id": "1aafbfa8-04ac-4b32-9c4b-39d0cf6b0769",
   "metadata": {
    "tags": []
   },
   "outputs": [],
   "source": [
    "r = model.reactions.R_MCTP1App"
   ]
  },
  {
   "cell_type": "code",
   "execution_count": 163,
   "id": "85daf0ef-7170-40da-bee8-82cf89f9141b",
   "metadata": {
    "tags": []
   },
   "outputs": [
    {
     "data": {
      "text/plain": [
       "-0.9699947559923658"
      ]
     },
     "execution_count": 163,
     "metadata": {},
     "output_type": "execute_result"
    }
   ],
   "source": [
    "np.random.normal(0, 1)"
   ]
  },
  {
   "cell_type": "code",
   "execution_count": 97,
   "id": "ee13bf5c-c466-4547-9c92-3ef7ad0d5889",
   "metadata": {
    "tags": []
   },
   "outputs": [
    {
     "name": "stdout",
     "output_type": "stream",
     "text": [
      "log_R_EX_ac_e True\n",
      "log_R_EX_acser_e True\n",
      "log_R_EX_ade_e True\n",
      "log_R_EX_akg_e True\n",
      "log_R_EX_ala__D_e True\n",
      "log_R_EX_ala__L_e True\n",
      "log_R_EX_alaala_e True\n",
      "log_R_EX_arg__L_e True\n",
      "log_R_EX_asn__L_e True\n",
      "log_R_EX_asp__L_e True\n",
      "log_R_EX_cit_e True\n",
      "log_R_EX_cys__L_e True\n",
      "log_R_EX_for_e True\n",
      "log_R_EX_glu__L_e True\n",
      "log_R_EX_gly_e True\n",
      "log_R_EX_glyc3p_e True\n",
      "log_R_EX_glyclt_e True\n",
      "log_R_EX_h2s_e True\n",
      "log_R_EX_his__L_e True\n",
      "log_R_EX_hom__L_e True\n",
      "log_R_EX_ile__L_e True\n",
      "log_R_EX_indole_e True\n",
      "log_R_EX_kdo2lipid4_e True\n",
      "log_R_EX_leu__L_e True\n",
      "log_R_EX_lys__L_e True\n",
      "log_R_EX_mal__L_e True\n",
      "log_R_EX_meoh_e True\n",
      "log_R_EX_orn_e True\n",
      "log_R_EX_phe__L_e True\n",
      "log_R_EX_pheme_e True\n",
      "log_R_EX_pro__L_e True\n",
      "log_R_EX_pyr_e True\n",
      "log_R_EX_ser__L_e True\n",
      "log_R_EX_succ_e True\n",
      "log_R_EX_thr__L_e True\n",
      "log_R_EX_trp__L_e True\n",
      "log_R_EX_tyr__L_e True\n",
      "log_R_EX_val__L_e True\n"
     ]
    }
   ],
   "source": [
    "for r_id in log_vars:\n",
    "    print(r_id, r_id in solver.var_ids)"
   ]
  },
  {
   "cell_type": "code",
   "execution_count": 141,
   "id": "e81c82c5-400d-4669-88c5-95fecf1ad401",
   "metadata": {
    "tags": []
   },
   "outputs": [
    {
     "name": "stdout",
     "output_type": "stream",
     "text": [
      "M_co2_c\n",
      "M_fe2_c\n",
      "M_fe3_c\n",
      "M_h_c\n",
      "M_h2o_c\n",
      "M_h2s_c\n"
     ]
    }
   ],
   "source": [
    "for m_id in leak_mets:\n",
    "    m = model.metabolites[m_id]\n",
    "    element_dict = get_element_dict(m)\n",
    "    if not element_dict or element_dict['C'] == 0:\n",
    "        print(m_id)\n",
    "    elif m_id in ['M_co2_c', 'M_hco3_c']:\n",
    "        print(m_id)"
   ]
  },
  {
   "cell_type": "code",
   "execution_count": 138,
   "id": "e8675e00-1895-487d-8cb6-15e97336ac44",
   "metadata": {
    "tags": []
   },
   "outputs": [
    {
     "data": {
      "text/plain": [
       "defaultdict(int, {'C': 2, 'H': 3, 'O': 2})"
      ]
     },
     "execution_count": 138,
     "metadata": {},
     "output_type": "execute_result"
    }
   ],
   "source": [
    "get_element_dict(m)"
   ]
  },
  {
   "cell_type": "code",
   "execution_count": 142,
   "id": "735e5fa7-2e54-4e61-8fb6-d3c0befe0679",
   "metadata": {
    "tags": []
   },
   "outputs": [],
   "source": [
    "model2 = model.copy()\n"
   ]
  },
  {
   "cell_type": "code",
   "execution_count": 146,
   "id": "c131404e-79a3-4da0-926e-ba76511d2965",
   "metadata": {
    "tags": []
   },
   "outputs": [
    {
     "name": "stderr",
     "output_type": "stream",
     "text": [
      "/Users/ssulheim/anaconda3/lib/python3.11/site-packages/reframed/core/cbmodel.py:354: UserWarning: Reaction R_EX_co2_e not found\n",
      "  warn(f\"Reaction {r_id} not found\")\n",
      "/Users/ssulheim/anaconda3/lib/python3.11/site-packages/reframed/core/cbmodel.py:354: UserWarning: Reaction R_EX_fe2_e not found\n",
      "  warn(f\"Reaction {r_id} not found\")\n",
      "/Users/ssulheim/anaconda3/lib/python3.11/site-packages/reframed/core/cbmodel.py:354: UserWarning: Reaction R_EX_fe3_e not found\n",
      "  warn(f\"Reaction {r_id} not found\")\n",
      "/Users/ssulheim/anaconda3/lib/python3.11/site-packages/reframed/core/cbmodel.py:354: UserWarning: Reaction R_EX_h_e not found\n",
      "  warn(f\"Reaction {r_id} not found\")\n",
      "/Users/ssulheim/anaconda3/lib/python3.11/site-packages/reframed/core/cbmodel.py:354: UserWarning: Reaction R_EX_h2o_e not found\n",
      "  warn(f\"Reaction {r_id} not found\")\n"
     ]
    }
   ],
   "source": [
    "for r_id in leak_exchanges:\n",
    "    model.set_flux_bounds(r_id, ub = 1000)"
   ]
  },
  {
   "cell_type": "code",
   "execution_count": 147,
   "id": "fbe04dc0-740a-4c64-82c8-06a5fff902f4",
   "metadata": {
    "tags": []
   },
   "outputs": [
    {
     "data": {
      "text/plain": [
       "{}"
      ]
     },
     "execution_count": 147,
     "metadata": {},
     "output_type": "execute_result"
    }
   ],
   "source": [
    "reframed.core.transformation.make_irreversible(model, reactions = leak_exchanges)"
   ]
  },
  {
   "cell_type": "code",
   "execution_count": 104,
   "id": "0e4ea128-4ea7-4298-b6da-c3e33fa186bf",
   "metadata": {},
   "outputs": [
    {
     "name": "stdout",
     "output_type": "stream",
     "text": [
      "Objective: -65.92123393246072\n",
      "Status: Optimal\n",
      "\n",
      "R_EX_ac_e     1.30411\n",
      "R_EX_acser_e  0.151511\n",
      "R_EX_ade_e    0.112777\n",
      "R_EX_akg_e    0.201109\n",
      "R_EX_ala__D_e  0.374448\n",
      "R_EX_ala__L_e  0.437621\n",
      "R_EX_alaala_e  0.0719741\n",
      "R_EX_arg__L_e  0.058\n",
      "R_EX_asn__L_e  0.296103\n",
      "R_EX_asp__L_e  0.349539\n",
      "R_EX_cit_e    0.146976\n",
      "R_EX_co2_e   -3.99433\n",
      "R_EX_cys__L_e  0.0907743\n",
      "R_EX_fe2_e   -0.000927639\n",
      "R_EX_for_e    10.415\n",
      "R_EX_glc__D_e -6\n",
      "R_EX_glu__L_e  0.153049\n",
      "R_EX_gly_e    1.34709\n",
      "R_EX_glyc3p_e  0.211757\n",
      "R_EX_glyclt_e  1.58365\n",
      "R_EX_h_e      21.2684\n",
      "R_EX_h2o_e    6.33104\n",
      "R_EX_h2s_e    0.508974\n",
      "R_EX_his__L_e  0.0576124\n",
      "R_EX_hom__L_e  0.167747\n",
      "R_EX_ile__L_e  0.0368542\n",
      "R_EX_indole_e  0.0176134\n",
      "R_EX_kdo2lipid4_e  0.00075449\n",
      "R_EX_leu__L_e  0.0490347\n",
      "R_EX_lys__L_e  0.0437816\n",
      "R_EX_mal__L_e  0.361405\n",
      "R_EX_nh4_e   -6.00277\n",
      "R_EX_o2_e    -3.68942\n",
      "R_EX_orn_e    0.077\n",
      "R_EX_phe__L_e  0.016148\n",
      "R_EX_pheme_e  0.000927639\n",
      "R_EX_pi_e    -0.213266\n",
      "R_EX_pro__L_e  0.086\n",
      "R_EX_pyr_e    0.654921\n",
      "R_EX_ser__L_e  0.499893\n",
      "R_EX_so4_e   -0.599748\n",
      "R_EX_succ_e   0.306216\n",
      "R_EX_thr__L_e  0.147813\n",
      "R_EX_trp__L_e  0.0098385\n",
      "R_EX_tyr__L_e  0.01815\n",
      "R_EX_ump_e   -1.38767e-07\n",
      "R_EX_ura_e    1.38767e-07\n",
      "R_EX_val__L_e  0.0881465\n",
      "log_R_EX_ac_e  0.115311\n",
      "log_R_EX_acser_e -0.819563\n",
      "log_R_EX_ade_e -0.947781\n",
      "log_R_EX_akg_e -0.696568\n",
      "log_R_EX_ala__D_e -0.426614\n",
      "log_R_EX_ala__L_e -0.358909\n",
      "log_R_EX_alaala_e -1.14282\n",
      "log_R_EX_arg__L_e -1.23657\n",
      "log_R_EX_asn__L_e -0.528557\n",
      "log_R_EX_asp__L_e -0.456508\n",
      "log_R_EX_cit_e -0.832754\n",
      "log_R_EX_cys__L_e -1.04204\n",
      "log_R_EX_for_e  1.01766\n",
      "log_R_EX_glu__L_e -0.815169\n",
      "log_R_EX_gly_e  0.129389\n",
      "log_R_EX_glyc3p_e -0.674161\n",
      "log_R_EX_glyclt_e  0.19966\n",
      "log_R_EX_h2s_e -0.293305\n",
      "log_R_EX_his__L_e -1.2395\n",
      "log_R_EX_hom__L_e -0.775348\n",
      "log_R_EX_ile__L_e -1.43353\n",
      "log_R_EX_indole_e -1.75432\n",
      "log_R_EX_kdo2lipid4_e -4.71857\n",
      "log_R_EX_leu__L_e -1.3095\n",
      "log_R_EX_lys__L_e -1.35873\n",
      "log_R_EX_mal__L_e -0.442015\n",
      "log_R_EX_orn_e -1.11351\n",
      "log_R_EX_phe__L_e -1.79198\n",
      "log_R_EX_pheme_e -3.50653\n",
      "log_R_EX_pro__L_e -1.0655\n",
      "log_R_EX_pyr_e -0.18382\n",
      "log_R_EX_ser__L_e -0.301131\n",
      "log_R_EX_succ_e -0.51398\n",
      "log_R_EX_thr__L_e -0.830298\n",
      "log_R_EX_trp__L_e -2.00739\n",
      "log_R_EX_tyr__L_e -1.74121\n",
      "log_R_EX_val__L_e -1.0548\n",
      "\n",
      "2.1577489376068115\n"
     ]
    }
   ],
   "source": [
    "# The (x-b)**2 objective is decomposed into a quadratic and a linear part\n",
    "# Since (x-b)**2 = x**2 - 2*x*b+b**2 + b**2\n",
    "# lin_obj = {'R_EX_pyr_e': -2*0.4}\n",
    "t0 = time.time()\n",
    "r_growth = model.biomass_reaction\n",
    "lin_obj = {}\n",
    "for log_name in log_vars:\n",
    "    r_ex_id = log_name[4:]\n",
    "    lin_obj[log_name] = -2*predicted_log_leakage_rates[r_ex_id]\n",
    "    \n",
    "# solver = reframed.solver_instance(model)\n",
    "quad_obj = {}\n",
    "for key, _ in lin_obj.items():\n",
    "    quad_obj.update({(key,key):1})\n",
    "# quad_obj = None\n",
    "\n",
    "constraints = {r_growth:(solution.fobj*0.9,1), 'R_EX_glc__D_e': -6}\n",
    "solver.problem.params.BarHomogeneous = 1\n",
    "solution = solver.solve(lin_obj, quadratic=quad_obj, minimize=True, constraints=constraints, get_values=True)\n",
    "print(solution)\n",
    "solution.show_values('R_EX_')\n",
    "solution.show_values(r_growth)\n",
    "print(time.time()-t0)"
   ]
  },
  {
   "cell_type": "code",
   "execution_count": 105,
   "id": "820478e6-ffa5-47f6-a563-e5d54ceb0d40",
   "metadata": {
    "tags": []
   },
   "outputs": [],
   "source": [
    "x_arr = []\n",
    "y_arr = []\n",
    "for log_name in log_vars:\n",
    "    r_ex_id = log_name[4:]\n",
    "    x_arr.append(predicted_metabolite_values[r_ex_id])\n",
    "    y_arr.append(solution.values[r_ex_id])\n",
    "    # print(r_ex_id, np.round(predicted_log_leakage_rates[r_ex_id],2), np.round(solution.values[log_name],2), np.round(np.log10(solution.values[r_ex_id]),2))"
   ]
  },
  {
   "cell_type": "code",
   "execution_count": 106,
   "id": "e9baf641-d6d5-444a-88a4-50ca60449985",
   "metadata": {
    "tags": []
   },
   "outputs": [
    {
     "data": {
      "text/plain": [
       "<matplotlib.collections.PathCollection at 0x2a6c20e90>"
      ]
     },
     "execution_count": 106,
     "metadata": {},
     "output_type": "execute_result"
    },
    {
     "data": {
      "image/png": "[encoded data removed]",
      "text/plain": [
       "<Figure size 640x480 with 1 Axes>"
      ]
     },
     "metadata": {},
     "output_type": "display_data"
    }
   ],
   "source": [
    "plt.scatter(np.log10(x_arr), np.log10(y_arr))"
   ]
  },
  {
   "cell_type": "code",
   "execution_count": 449,
   "id": "8121ef0d-1daa-40fb-8cf6-c00fb75a64de",
   "metadata": {
    "tags": []
   },
   "outputs": [],
   "source": [
    "solver.set_objective(linear=lin_obj, quadratic=quad_obj)"
   ]
  },
  {
   "cell_type": "code",
   "execution_count": 450,
   "id": "68a98773-4aec-4b29-a779-d1417e8fa1fb",
   "metadata": {
    "tags": []
   },
   "outputs": [],
   "source": [
    "solver.problem.optimize()"
   ]
  },
  {
   "cell_type": "code",
   "execution_count": null,
   "id": "74a6085e-6868-44b1-bda4-108d97206f9b",
   "metadata": {},
   "outputs": [],
   "source": []
  },
  {
   "cell_type": "code",
   "execution_count": 451,
   "id": "c4fdabff-0f62-4a76-bd3e-c5033299c22d",
   "metadata": {
    "tags": []
   },
   "outputs": [],
   "source": [
    "status = reframed.solvers.gurobi_solver.status_mapping.get(problem.status, Status.UNKNOWN)\n",
    "message = str(problem.status)"
   ]
  },
  {
   "cell_type": "code",
   "execution_count": 452,
   "id": "ea506ca2-ee17-4e1b-9d2a-bb6e80208357",
   "metadata": {
    "tags": []
   },
   "outputs": [
    {
     "data": {
      "text/plain": [
       "<Status.INFEASIBLE: 'Infeasible'>"
      ]
     },
     "execution_count": 452,
     "metadata": {},
     "output_type": "execute_result"
    }
   ],
   "source": [
    "status"
   ]
  },
  {
   "cell_type": "code",
   "execution_count": 402,
   "id": "48f28574-aa3d-418d-96d1-02131277a350",
   "metadata": {
    "tags": []
   },
   "outputs": [],
   "source": [
    "values = {r_id: solver.problem.getVarByName(r_id).X for r_id in solver.var_ids}"
   ]
  },
  {
   "cell_type": "code",
   "execution_count": 404,
   "id": "02aa208f-056d-42b3-b85b-ed3affcb4651",
   "metadata": {
    "tags": []
   },
   "outputs": [
    {
     "data": {
      "text/plain": [
       "0.4"
      ]
     },
     "execution_count": 404,
     "metadata": {},
     "output_type": "execute_result"
    }
   ],
   "source": [
    "values['log_R_EX_pyr_e']"
   ]
  },
  {
   "cell_type": "code",
   "execution_count": 403,
   "id": "803b3af0-c238-4ab7-9eb0-ef367144fec4",
   "metadata": {
    "tags": []
   },
   "outputs": [
    {
     "data": {
      "text/plain": [
       "2.5494524563478387"
      ]
     },
     "execution_count": 403,
     "metadata": {},
     "output_type": "execute_result"
    }
   ],
   "source": [
    "values['R_EX_pyr_e']"
   ]
  },
  {
   "cell_type": "code",
   "execution_count": 133,
   "id": "89739bbc-f91d-4168-b4e4-de00e6b4d50d",
   "metadata": {
    "tags": []
   },
   "outputs": [],
   "source": [
    "\n",
    "def get_element_dict(metabolite):\n",
    "    try:\n",
    "        formula = metabolite.metadata['FORMULA']\n",
    "    except KeyError:\n",
    "        return np.nan\n",
    "    else:\n",
    "        element_count = extract_elements_and_counts(formula)\n",
    "        return element_count\n",
    "\n",
    "\n",
    "def extract_elements_and_counts(formula):\n",
    "    element_pattern = r'([A-Z][a-z]*)(\\d*)'\n",
    "    # element_pattern = r'([A-Z][a-z]*)(\\d*)'\n",
    "    elements = re.findall(element_pattern, formula)\n",
    "    element_count = defaultdict(int)\n",
    "    \n",
    "    current_element = ''\n",
    "    for element, count in elements:\n",
    "        if element.isalpha():\n",
    "            element_count[element] += int(count) if count else 1\n",
    "    \n",
    "    return element_count"
   ]
  },
  {
   "cell_type": "code",
   "execution_count": 125,
   "id": "0fca1379-3e74-4db8-bf7b-b9b9c1933c20",
   "metadata": {
    "tags": []
   },
   "outputs": [
    {
     "data": {
      "text/plain": [
       "'M_15dap_e'"
      ]
     },
     "execution_count": 125,
     "metadata": {},
     "output_type": "execute_result"
    }
   ],
   "source": [
    "next(iter(model.reactions.R_EX_15dap_e.stoichiometry))"
   ]
  },
  {
   "cell_type": "code",
   "execution_count": 278,
   "id": "f0815403-99f2-4233-b979-f327b3afc32d",
   "metadata": {
    "tags": []
   },
   "outputs": [],
   "source": [
    "x = problem.getVarByName(r_ex_id)"
   ]
  },
  {
   "cell_type": "code",
   "execution_count": 279,
   "id": "c037fea8-0390-4dbc-b0c4-7b1d862505da",
   "metadata": {
    "tags": []
   },
   "outputs": [
    {
     "ename": "AttributeError",
     "evalue": "Unable to retrieve attribute 'X'",
     "output_type": "error",
     "traceback": [
      "\u001b[0;31m---------------------------------------------------------------------------\u001b[0m",
      "\u001b[0;31mAttributeError\u001b[0m                            Traceback (most recent call last)",
      "Cell \u001b[0;32mIn[279], line 1\u001b[0m\n\u001b[0;32m----> 1\u001b[0m x\u001b[38;5;241m.\u001b[39mX\n",
      "File \u001b[0;32msrc/gurobipy/var.pxi:125\u001b[0m, in \u001b[0;36mgurobipy.Var.__getattr__\u001b[0;34m()\u001b[0m\n",
      "File \u001b[0;32msrc/gurobipy/var.pxi:153\u001b[0m, in \u001b[0;36mgurobipy.Var.getAttr\u001b[0;34m()\u001b[0m\n",
      "File \u001b[0;32msrc/gurobipy/attrutil.pxi:100\u001b[0m, in \u001b[0;36mgurobipy.__getattr\u001b[0;34m()\u001b[0m\n",
      "\u001b[0;31mAttributeError\u001b[0m: Unable to retrieve attribute 'X'"
     ]
    }
   ],
   "source": []
  },
  {
   "cell_type": "code",
   "execution_count": 200,
   "id": "54ef02e4-8c2d-4635-9bea-b9a7e30b46d3",
   "metadata": {
    "tags": []
   },
   "outputs": [
    {
     "name": "stdout",
     "output_type": "stream",
     "text": [
      "\n"
     ]
    }
   ],
   "source": [
    "solution.show_values('log*')"
   ]
  },
  {
   "cell_type": "code",
   "execution_count": 596,
   "id": "10a5b305-4db2-49f6-9b42-c376c626946c",
   "metadata": {
    "tags": []
   },
   "outputs": [
    {
     "name": "stdout",
     "output_type": "stream",
     "text": [
      "Objective: -9.0\n",
      "Status: Optimal\n",
      "\n",
      "R_EX_ac_e     2\n",
      "R_EX_ca2_e   -0.00104235\n",
      "R_EX_cl_e    -0.00104235\n",
      "R_EX_co2_e    8.63122\n",
      "R_EX_cobalt2_e -5.00646e-06\n",
      "R_EX_cu2_e   -0.000141983\n",
      "R_EX_etoh_e   0.00751361\n",
      "R_EX_fe2_e   -2.76194\n",
      "R_EX_fe3_e    2.75872\n",
      "R_EX_for_e    0.0477064\n",
      "R_EX_glc__D_e -4.99682\n",
      "R_EX_h_e      4.148\n",
      "R_EX_h2o_e    16.2973\n",
      "R_EX_k_e     -0.039089\n",
      "R_EX_lac__D_e  0.00805529\n",
      "R_EX_lac__L_e  2\n",
      "R_EX_meoh_e   4.00517e-07\n",
      "R_EX_mg2_e   -0.00173724\n",
      "R_EX_mn2_e   -0.000138379\n",
      "R_EX_mobd_e  -2.58333e-05\n",
      "R_EX_nh4_e   -2.16296\n",
      "R_EX_ni2_e   -6.46835e-05\n",
      "R_EX_o2_e    -9.41262\n",
      "R_EX_pi_e    -0.193175\n",
      "R_EX_pyr_e    1\n",
      "R_EX_so4_e   -0.0505072\n",
      "R_EX_succ_e   0.00547066\n",
      "R_EX_zn2_e   -6.82881e-05\n",
      "R_BIOMASS_Ec_iJO1366_core_53p95M  0.200258\n"
     ]
    }
   ],
   "source": [
    "# The (x-b)**2 objective is decomposed into a quadratic and a linear part\n",
    "# Since (x-b)**2 = x**2 - 2*x*b+b**2 + b**2\n",
    "rxns = \n",
    "lin_obj = {'R_EX_pyr_e':-2*1, 'R_EX_ac_e':-2*2, 'R_EX_lac__L_e':-2*2}\n",
    "solver = reframed.solver_instance(model)\n",
    "quad_obj = {}\n",
    "for key, _ in lin_obj.items():\n",
    "    quad_obj.update({(key,key):1})\n",
    "constraints = {r_growth:(0.2,1)}#, 'R_EX_glc__D_e': (-6, -3)}\n",
    "solver.problem.params.BarHomogeneous = 1\n",
    "solution = solver.solve(lin_obj, quadratic=quad_obj, minimize=True, constraints=constraints)\n",
    "print(solution)\n",
    "solution.show_values('R_EX_*')\n",
    "solution.show_values(r_growth)"
   ]
  },
  {
   "cell_type": "code",
   "execution_count": null,
   "id": "fcacbd72-5835-4f7f-8542-08e32ec9bd44",
   "metadata": {},
   "outputs": [],
   "source": []
  },
  {
   "cell_type": "code",
   "execution_count": 590,
   "id": "7a46792c-512a-4fab-8653-0170c09ad782",
   "metadata": {
    "tags": []
   },
   "outputs": [],
   "source": [
    "problem = solver.problem\n",
    "\n",
    "if constraints:\n",
    "    old_constraints = {}\n",
    "    for r_id, x in constraints.items():\n",
    "        lb, ub = x if isinstance(x, tuple) else (x, x)\n",
    "        if r_id in solver.var_ids:\n",
    "            lpvar = problem.getVarByName(r_id)\n",
    "            old_constraints[r_id] = (lpvar.lb, lpvar.ub)\n",
    "            lpvar.lb = infinity_fix(lb)\n",
    "            lpvar.ub = infinity_fix(ub)\n",
    "        else:\n",
    "            print(f\"Constrained variable '{r_id}' not previously declared\")\n",
    "    problem.update()"
   ]
  },
  {
   "cell_type": "code",
   "execution_count": 591,
   "id": "22eed595-c015-4c51-8e39-d6cc42d35c8d",
   "metadata": {
    "tags": []
   },
   "outputs": [],
   "source": [
    "solver.set_objective(lin_obj, quad_obj, minimize=True)"
   ]
  },
  {
   "cell_type": "code",
   "execution_count": 592,
   "id": "24b754e1-b2bd-474d-a92d-f42f8efbac22",
   "metadata": {
    "tags": []
   },
   "outputs": [],
   "source": [
    "\n",
    "solver.problem.params.FeasibilityTol = 1e-7\n",
    "solver.problem.params.OptimalityTol = 1e-7\n",
    "solver.problem.params.TimeLimit = 120\n",
    "solver.problem.params.NumericFocus = 3\n",
    "\n",
    "solver.problem.params.BarHomogeneous = 1\n",
    "\n",
    "solver.update()"
   ]
  },
  {
   "cell_type": "code",
   "execution_count": 564,
   "id": "0d2a4170-886b-41b2-899e-b97b1d40dcf3",
   "metadata": {
    "tags": []
   },
   "outputs": [
    {
     "data": {
      "text/plain": [
       "-1"
      ]
     },
     "execution_count": 564,
     "metadata": {},
     "output_type": "execute_result"
    }
   ],
   "source": []
  },
  {
   "cell_type": "code",
   "execution_count": 593,
   "id": "6d7da7dd-4f65-4214-832a-668ef1ea60f3",
   "metadata": {
    "tags": []
   },
   "outputs": [
    {
     "name": "stdout",
     "output_type": "stream",
     "text": [
      "Status.OPTIMAL 2\n",
      "-8.999999999999998\n"
     ]
    }
   ],
   "source": [
    "problem.optimize()\n",
    "\n",
    "status = status_mapping.get(problem.status, Status.UNKNOWN)\n",
    "message = str(problem.status)\n",
    "values = {r_id: problem.getVarByName(r_id).X for r_id in solver.var_ids}\n",
    "print(status, message)\n",
    "print(problem.ObjVal)"
   ]
  },
  {
   "cell_type": "code",
   "execution_count": 594,
   "id": "e740e791-a843-4902-969a-d28acff40498",
   "metadata": {
    "tags": []
   },
   "outputs": [],
   "source": [
    "solution = Solution(status, message, problem.ObjVal, values)"
   ]
  },
  {
   "cell_type": "code",
   "execution_count": 595,
   "id": "af163ceb-d762-42d8-b96c-52528e3f3de0",
   "metadata": {
    "tags": []
   },
   "outputs": [
    {
     "name": "stdout",
     "output_type": "stream",
     "text": [
      "R_EX_ac_e     2\n",
      "R_EX_ca2_e   -0.0010426\n",
      "R_EX_cl_e    -0.0010426\n",
      "R_EX_co2_e    8.63712\n",
      "R_EX_cobalt2_e -5.00767e-06\n",
      "R_EX_cu2_e   -0.000142017\n",
      "R_EX_etoh_e   0.00743994\n",
      "R_EX_fe2_e   -2.67309\n",
      "R_EX_fe3_e    2.66987\n",
      "R_EX_for_e    0.0398287\n",
      "R_EX_glc__D_e -4.99558\n",
      "R_EX_h_e      4.22897\n",
      "R_EX_h2o_e    16.26\n",
      "R_EX_k_e     -0.0390984\n",
      "R_EX_lac__D_e  0.00777437\n",
      "R_EX_lac__L_e  2\n",
      "R_EX_meoh_e   4.00614e-07\n",
      "R_EX_mg2_e   -0.00173766\n",
      "R_EX_mn2_e   -0.000138412\n",
      "R_EX_mobd_e  -2.58396e-05\n",
      "R_EX_nh4_e   -2.16348\n",
      "R_EX_ni2_e   -6.4699e-05\n",
      "R_EX_o2_e    -9.3923\n",
      "R_EX_pi_e    -0.193222\n",
      "R_EX_pyr_e    1\n",
      "R_EX_so4_e   -0.0505193\n",
      "R_EX_succ_e   0.00538721\n",
      "R_EX_zn2_e   -6.83046e-05\n",
      "R_BIOMASS_Ec_iJO1366_core_53p95M  0.200307\n"
     ]
    }
   ],
   "source": [
    "solution.show_values('R_EX_*')\n",
    "solution.show_values(r_growth)"
   ]
  },
  {
   "cell_type": "code",
   "execution_count": null,
   "id": "f93b7015-8b6a-4257-9b73-bd86e730e889",
   "metadata": {},
   "outputs": [],
   "source": [
    "reframed."
   ]
  },
  {
   "cell_type": "code",
   "execution_count": 505,
   "id": "3adf3359-fd7f-427c-a1ab-800be48de0ed",
   "metadata": {
    "tags": []
   },
   "outputs": [],
   "source": [
    "from math import inf\n",
    "from reframed.solvers.solution import Status, Solution\n",
    "# from reframed.solution import Solution, Status\n",
    "from gurobipy import Model as GurobiModel, GRB, quicksum\n",
    "\n",
    "def infinity_fix(val):\n",
    "    if val == inf:\n",
    "        return GRB.INFINITY\n",
    "    elif val == -inf:\n",
    "        return -GRB.INFINITY\n",
    "    else:\n",
    "        return val\n",
    "\n",
    "status_mapping = {\n",
    "    GRB.OPTIMAL: Status.OPTIMAL,\n",
    "    GRB.UNBOUNDED: Status.UNBOUNDED,\n",
    "    GRB.INFEASIBLE: Status.INFEASIBLE,\n",
    "    GRB.INF_OR_UNBD: Status.INF_OR_UNB\n",
    "}\n"
   ]
  },
  {
   "cell_type": "code",
   "execution_count": 196,
   "id": "7ca016d5-3fd1-44e5-bc6b-59b4cbde8a92",
   "metadata": {
    "tags": []
   },
   "outputs": [],
   "source": [
    "var = solver.problem.getVarByName(r_ex_id)"
   ]
  },
  {
   "cell_type": "code",
   "execution_count": 197,
   "id": "5ba4d34d-4bd7-4459-87a8-17d977f9f1f0",
   "metadata": {
    "tags": []
   },
   "outputs": [
    {
     "data": {
      "text/plain": [
       "<gurobi.Var R_EX_pyr_e>"
      ]
     },
     "execution_count": 197,
     "metadata": {},
     "output_type": "execute_result"
    }
   ],
   "source": [
    "solver.solve({r_ex_id"
   ]
  },
  {
   "cell_type": "code",
   "execution_count": 199,
   "id": "41ac7b37-5126-4f1a-9ed1-65d0bf7d2f31",
   "metadata": {
    "tags": []
   },
   "outputs": [
    {
     "ename": "GurobiError",
     "evalue": "Variable not in model",
     "output_type": "error",
     "traceback": [
      "\u001b[0;31m---------------------------------------------------------------------------\u001b[0m",
      "\u001b[0;31mGurobiError\u001b[0m                               Traceback (most recent call last)",
      "Cell \u001b[0;32mIn[199], line 5\u001b[0m\n\u001b[1;32m      3\u001b[0m r\u001b[38;5;241m.\u001b[39mub \u001b[38;5;241m=\u001b[39m \u001b[38;5;241m1000\u001b[39m\n\u001b[1;32m      4\u001b[0m \u001b[38;5;66;03m# constraint.append((var-3)**2)\u001b[39;00m\n\u001b[0;32m----> 5\u001b[0m problem\u001b[38;5;241m.\u001b[39msetObjective(var, gp\u001b[38;5;241m.\u001b[39mGRB\u001b[38;5;241m.\u001b[39mMINIMIZE)\n",
      "File \u001b[0;32msrc/gurobipy/model.pxi:1470\u001b[0m, in \u001b[0;36mgurobipy.Model.setObjective\u001b[0;34m()\u001b[0m\n",
      "\u001b[0;31mGurobiError\u001b[0m: Variable not in model"
     ]
    }
   ],
   "source": [
    "r_ex_id = 'R_EX_pyr_e'\n",
    "r = model.reactions[r_ex_id]\n",
    "r.ub = 1000\n",
    "# constraint.append((var-3)**2)\n",
    "problem.setObjective(var, gp.GRB.MINIMIZE)\n",
    "# solver.problem.se"
   ]
  },
  {
   "cell_type": "markdown",
   "id": "da33149d-906d-43a2-8722-ded60c5f8f51",
   "metadata": {},
   "source": [
    "# FBA with leakage"
   ]
  },
  {
   "cell_type": "code",
   "execution_count": 31,
   "id": "51fce3bd-22bb-4d73-890d-366d694e55c3",
   "metadata": {
    "tags": []
   },
   "outputs": [],
   "source": [
    "shadow_prices = leakage.estimate_shadow_prices(model)"
   ]
  },
  {
   "cell_type": "code",
   "execution_count": 32,
   "id": "c18dea4f-b458-4c20-80c0-26362313962a",
   "metadata": {
    "tags": []
   },
   "outputs": [],
   "source": [
    "predicted_log_leakage_rates = {}\n",
    "slope = -1.94204311\n",
    "intercept = -6.08989226\n",
    "for key, value in shadow_prices.items():\n",
    "    if np.isfinite(value) and value < 0:\n",
    "        # Use trendline from fit \n",
    "        lograte = intercept + slope*np.log10(-value)\n",
    "        predicted_log_leakage_rates[key] = lograte"
   ]
  },
  {
   "cell_type": "code",
   "execution_count": 175,
   "id": "882c024b-2735-403d-87ea-6e3c88fb3e89",
   "metadata": {
    "tags": []
   },
   "outputs": [],
   "source": [
    "model = cobra.io.read_sbml_model('../models/e_coli/momentiJO1366.xml')\n",
    "model.solver = 'gurobi'\n",
    "model.reactions.EX_glc__D_e.lower_bound = -5"
   ]
  },
  {
   "cell_type": "code",
   "execution_count": 176,
   "id": "521c8436-c0fb-4c1a-a5d8-07d10ff791c9",
   "metadata": {
    "tags": []
   },
   "outputs": [],
   "source": [
    "model.reactions.BIOMASS_Ec_iJO1366_core_53p95M.objective_coefficient = 0\n",
    "model.reactions.BIOMASS_Ec_iJO1366_core_53p95M.lower_bound = 0.4"
   ]
  },
  {
   "cell_type": "code",
   "execution_count": 180,
   "id": "1c4afa39-9934-46f1-8608-e040d01295c2",
   "metadata": {
    "tags": []
   },
   "outputs": [
    {
     "data": {
      "text/plain": [
       "(0.0, 0.0)"
      ]
     },
     "execution_count": 180,
     "metadata": {},
     "output_type": "execute_result"
    }
   ],
   "source": [
    "model.reactions.EX_pyr_e.bounds"
   ]
  },
  {
   "cell_type": "code",
   "execution_count": 184,
   "id": "29e40288-01f6-439a-98fb-8b0d5aad42d6",
   "metadata": {
    "tags": []
   },
   "outputs": [
    {
     "ename": "GurobiError",
     "evalue": "Objective Q not PSD (negative diagonal entry). Set NonConvex parameter to 2 to solve model.",
     "output_type": "error",
     "traceback": [
      "\u001b[0;31m---------------------------------------------------------------------------\u001b[0m",
      "\u001b[0;31mGurobiError\u001b[0m                               Traceback (most recent call last)",
      "Cell \u001b[0;32mIn[184], line 11\u001b[0m\n\u001b[1;32m      9\u001b[0m constraint\u001b[38;5;241m.\u001b[39mappend((var\u001b[38;5;241m-\u001b[39m\u001b[38;5;241m3\u001b[39m)\u001b[38;5;241m*\u001b[39m\u001b[38;5;241m*\u001b[39m\u001b[38;5;241m2\u001b[39m)\n\u001b[1;32m     10\u001b[0m problem\u001b[38;5;241m.\u001b[39msetObjective(gp\u001b[38;5;241m.\u001b[39mquicksum(constraint))\n\u001b[0;32m---> 11\u001b[0m model\u001b[38;5;241m.\u001b[39moptimize()\n\u001b[1;32m     12\u001b[0m \u001b[38;5;28mprint\u001b[39m(model\u001b[38;5;241m.\u001b[39msummary())\n",
      "File \u001b[0;32m~/anaconda3/lib/python3.11/site-packages/cobra/core/model.py:1232\u001b[0m, in \u001b[0;36mModel.optimize\u001b[0;34m(self, objective_sense, raise_error)\u001b[0m\n\u001b[1;32m   1228\u001b[0m original_direction \u001b[38;5;241m=\u001b[39m \u001b[38;5;28mself\u001b[39m\u001b[38;5;241m.\u001b[39mobjective\u001b[38;5;241m.\u001b[39mdirection\n\u001b[1;32m   1229\u001b[0m \u001b[38;5;28mself\u001b[39m\u001b[38;5;241m.\u001b[39mobjective\u001b[38;5;241m.\u001b[39mdirection \u001b[38;5;241m=\u001b[39m {\u001b[38;5;124m\"\u001b[39m\u001b[38;5;124mmaximize\u001b[39m\u001b[38;5;124m\"\u001b[39m: \u001b[38;5;124m\"\u001b[39m\u001b[38;5;124mmax\u001b[39m\u001b[38;5;124m\"\u001b[39m, \u001b[38;5;124m\"\u001b[39m\u001b[38;5;124mminimize\u001b[39m\u001b[38;5;124m\"\u001b[39m: \u001b[38;5;124m\"\u001b[39m\u001b[38;5;124mmin\u001b[39m\u001b[38;5;124m\"\u001b[39m}\u001b[38;5;241m.\u001b[39mget(\n\u001b[1;32m   1230\u001b[0m     objective_sense, original_direction\n\u001b[1;32m   1231\u001b[0m )\n\u001b[0;32m-> 1232\u001b[0m \u001b[38;5;28mself\u001b[39m\u001b[38;5;241m.\u001b[39mslim_optimize()\n\u001b[1;32m   1233\u001b[0m solution \u001b[38;5;241m=\u001b[39m get_solution(\u001b[38;5;28mself\u001b[39m, raise_error\u001b[38;5;241m=\u001b[39mraise_error)\n\u001b[1;32m   1234\u001b[0m \u001b[38;5;28mself\u001b[39m\u001b[38;5;241m.\u001b[39mobjective\u001b[38;5;241m.\u001b[39mdirection \u001b[38;5;241m=\u001b[39m original_direction\n",
      "File \u001b[0;32m~/anaconda3/lib/python3.11/site-packages/cobra/core/model.py:1194\u001b[0m, in \u001b[0;36mModel.slim_optimize\u001b[0;34m(self, error_value, message)\u001b[0m\n\u001b[1;32m   1156\u001b[0m \u001b[38;5;28;01mdef\u001b[39;00m \u001b[38;5;21mslim_optimize\u001b[39m(\n\u001b[1;32m   1157\u001b[0m     \u001b[38;5;28mself\u001b[39m, error_value: Optional[\u001b[38;5;28mfloat\u001b[39m] \u001b[38;5;241m=\u001b[39m \u001b[38;5;28mfloat\u001b[39m(\u001b[38;5;124m\"\u001b[39m\u001b[38;5;124mnan\u001b[39m\u001b[38;5;124m\"\u001b[39m), message: Optional[\u001b[38;5;28mstr\u001b[39m] \u001b[38;5;241m=\u001b[39m \u001b[38;5;28;01mNone\u001b[39;00m\n\u001b[1;32m   1158\u001b[0m ) \u001b[38;5;241m-\u001b[39m\u001b[38;5;241m>\u001b[39m \u001b[38;5;28mfloat\u001b[39m:\n\u001b[1;32m   1159\u001b[0m \u001b[38;5;250m    \u001b[39m\u001b[38;5;124;03m\"\"\"Optimize model without creating a solution object.\u001b[39;00m\n\u001b[1;32m   1160\u001b[0m \n\u001b[1;32m   1161\u001b[0m \u001b[38;5;124;03m    Creating a full solution object implies fetching shadow prices and\u001b[39;00m\n\u001b[0;32m   (...)\u001b[0m\n\u001b[1;32m   1192\u001b[0m \u001b[38;5;124;03m        If error_value was set as None and the optimization fails.\u001b[39;00m\n\u001b[1;32m   1193\u001b[0m \u001b[38;5;124;03m    \"\"\"\u001b[39;00m\n\u001b[0;32m-> 1194\u001b[0m     \u001b[38;5;28mself\u001b[39m\u001b[38;5;241m.\u001b[39msolver\u001b[38;5;241m.\u001b[39moptimize()\n\u001b[1;32m   1195\u001b[0m     \u001b[38;5;28;01mif\u001b[39;00m \u001b[38;5;28mself\u001b[39m\u001b[38;5;241m.\u001b[39msolver\u001b[38;5;241m.\u001b[39mstatus \u001b[38;5;241m==\u001b[39m optlang\u001b[38;5;241m.\u001b[39minterface\u001b[38;5;241m.\u001b[39mOPTIMAL:\n\u001b[1;32m   1196\u001b[0m         \u001b[38;5;28;01mreturn\u001b[39;00m \u001b[38;5;28mself\u001b[39m\u001b[38;5;241m.\u001b[39msolver\u001b[38;5;241m.\u001b[39mobjective\u001b[38;5;241m.\u001b[39mvalue\n",
      "File \u001b[0;32m~/anaconda3/lib/python3.11/site-packages/optlang/interface.py:1515\u001b[0m, in \u001b[0;36mModel.optimize\u001b[0;34m(self)\u001b[0m\n\u001b[1;32m   1500\u001b[0m \u001b[38;5;250m\u001b[39m\u001b[38;5;124;03m\"\"\"\u001b[39;00m\n\u001b[1;32m   1501\u001b[0m \u001b[38;5;124;03mSolve the optimization problem using the relevant solver back-end.\u001b[39;00m\n\u001b[1;32m   1502\u001b[0m \u001b[38;5;124;03mThe status returned by this method tells whether an optimal solution was found,\u001b[39;00m\n\u001b[0;32m   (...)\u001b[0m\n\u001b[1;32m   1512\u001b[0m \u001b[38;5;124;03m    Solution status.\u001b[39;00m\n\u001b[1;32m   1513\u001b[0m \u001b[38;5;124;03m\"\"\"\u001b[39;00m\n\u001b[1;32m   1514\u001b[0m \u001b[38;5;28mself\u001b[39m\u001b[38;5;241m.\u001b[39mupdate()\n\u001b[0;32m-> 1515\u001b[0m status \u001b[38;5;241m=\u001b[39m \u001b[38;5;28mself\u001b[39m\u001b[38;5;241m.\u001b[39m_optimize()\n\u001b[1;32m   1516\u001b[0m \u001b[38;5;28;01mif\u001b[39;00m status \u001b[38;5;241m!=\u001b[39m OPTIMAL \u001b[38;5;129;01mand\u001b[39;00m \u001b[38;5;28mself\u001b[39m\u001b[38;5;241m.\u001b[39mconfiguration\u001b[38;5;241m.\u001b[39mpresolve \u001b[38;5;241m==\u001b[39m \u001b[38;5;124m\"\u001b[39m\u001b[38;5;124mauto\u001b[39m\u001b[38;5;124m\"\u001b[39m:\n\u001b[1;32m   1517\u001b[0m     \u001b[38;5;28mself\u001b[39m\u001b[38;5;241m.\u001b[39mconfiguration\u001b[38;5;241m.\u001b[39mpresolve \u001b[38;5;241m=\u001b[39m \u001b[38;5;28;01mTrue\u001b[39;00m\n",
      "File \u001b[0;32m~/anaconda3/lib/python3.11/site-packages/optlang/gurobi_interface.py:677\u001b[0m, in \u001b[0;36mModel._optimize\u001b[0;34m(self)\u001b[0m\n\u001b[1;32m    675\u001b[0m     \u001b[38;5;28mself\u001b[39m\u001b[38;5;241m.\u001b[39mproblem\u001b[38;5;241m.\u001b[39mreset()\n\u001b[1;32m    676\u001b[0m \u001b[38;5;28mself\u001b[39m\u001b[38;5;241m.\u001b[39mproblem\u001b[38;5;241m.\u001b[39mupdate()\n\u001b[0;32m--> 677\u001b[0m \u001b[38;5;28mself\u001b[39m\u001b[38;5;241m.\u001b[39mproblem\u001b[38;5;241m.\u001b[39moptimize()\n\u001b[1;32m    678\u001b[0m status \u001b[38;5;241m=\u001b[39m _GUROBI_STATUS_TO_STATUS[\u001b[38;5;28mself\u001b[39m\u001b[38;5;241m.\u001b[39mproblem\u001b[38;5;241m.\u001b[39mgetAttr(\u001b[38;5;124m\"\u001b[39m\u001b[38;5;124mStatus\u001b[39m\u001b[38;5;124m\"\u001b[39m)]\n\u001b[1;32m    679\u001b[0m \u001b[38;5;28;01mreturn\u001b[39;00m status\n",
      "File \u001b[0;32msrc/gurobipy/model.pxi:878\u001b[0m, in \u001b[0;36mgurobipy.Model.optimize\u001b[0;34m()\u001b[0m\n",
      "\u001b[0;31mGurobiError\u001b[0m: Objective Q not PSD (negative diagonal entry). Set NonConvex parameter to 2 to solve model."
     ]
    }
   ],
   "source": [
    "constraint = []\n",
    "with model:\n",
    "    r_ex_id = 'EX_pyr_e'\n",
    "    r = model.reactions.get_by_id(r_ex_id)\n",
    "    r.upper_bound = 1000\n",
    "    # model.reactions.EX_pyr_e.objective_coefficient = 1\n",
    "    problem = model.solver.problem\n",
    "    var = problem.getVarByName(r_ex_id)\n",
    "    constraint.append((var-3)**2)\n",
    "    problem.setObjective(gp.quicksum(constraint))\n",
    "    model.optimize()\n",
    "    print(model.summary())"
   ]
  },
  {
   "cell_type": "code",
   "execution_count": 82,
   "id": "a858ff94-f93e-4343-8832-f440498dddaa",
   "metadata": {
    "tags": []
   },
   "outputs": [
    {
     "data": {
      "text/plain": [
       "-4.593848903181085"
      ]
     },
     "execution_count": 82,
     "metadata": {},
     "output_type": "execute_result"
    }
   ],
   "source": [
    "\n",
    "predicted_log_leakage_rates['tyr__L_c']"
   ]
  },
  {
   "cell_type": "code",
   "execution_count": 106,
   "id": "0f55107b-3b10-4c8a-86f5-6169a303908c",
   "metadata": {
    "tags": []
   },
   "outputs": [],
   "source": []
  },
  {
   "cell_type": "code",
   "execution_count": 165,
   "id": "d51454ba-21e8-42fb-9eac-6f1f7d1a400b",
   "metadata": {
    "tags": []
   },
   "outputs": [],
   "source": [
    "selected_mets = ['ac_c', 'tyr__L_c', 'cit_c']\n",
    "\n",
    "log_vars = {}\n",
    "for m_id in selected_mets:\n",
    "    r_ex_id = f'EX_{m_id[:-2]}_e'\n",
    "    r_ex = model.reactions.get_by_id(r_ex_id)\n",
    "    log_x = problem.addVar(vtype=gp.GRB.CONTINUOUS, name = f'log_{r_ex_id}')\n",
    "    x = problem.getVarByName(r_ex_id)\n",
    "    log_vars[m_id] = log_x\n",
    "    problem.addGenConstrLogA(x, log_x, 10)\n",
    "\n"
   ]
  },
  {
   "cell_type": "code",
   "execution_count": null,
   "id": "944c7c18-c151-47c9-bcd0-f445937c16cd",
   "metadata": {},
   "outputs": [],
   "source": [
    "log_pyr"
   ]
  },
  {
   "cell_type": "code",
   "execution_count": 166,
   "id": "c85167af-fd75-40c5-8cf3-8341b5bcb703",
   "metadata": {
    "tags": []
   },
   "outputs": [],
   "source": [
    "constraint = []\n",
    "for key, var in log_vars.items():\n",
    "    prediction = predicted_log_leakage_rates[key]\n",
    "    constraint.append((var-prediction)**2)\n",
    "objective = gp.quicksum(constraint)\n",
    "problem.setObjective(objective, gp.GRB.MINIMIZE)\n",
    "problem.update()\n"
   ]
  },
  {
   "cell_type": "code",
   "execution_count": 167,
   "id": "32fb7975-b801-41c9-967e-11c299856e81",
   "metadata": {
    "tags": []
   },
   "outputs": [
    {
     "data": {
      "text/html": [
       "<strong><em>Optimal</em> solution with objective value 0.000</strong><br><div>\n",
       "<style scoped>\n",
       "    .dataframe tbody tr th:only-of-type {\n",
       "        vertical-align: middle;\n",
       "    }\n",
       "\n",
       "    .dataframe tbody tr th {\n",
       "        vertical-align: top;\n",
       "    }\n",
       "\n",
       "    .dataframe thead th {\n",
       "        text-align: right;\n",
       "    }\n",
       "</style>\n",
       "<table border=\"1\" class=\"dataframe\">\n",
       "  <thead>\n",
       "    <tr style=\"text-align: right;\">\n",
       "      <th></th>\n",
       "      <th>fluxes</th>\n",
       "      <th>reduced_costs</th>\n",
       "    </tr>\n",
       "  </thead>\n",
       "  <tbody>\n",
       "    <tr>\n",
       "      <th>DM_4crsol_c</th>\n",
       "      <td>8.920000e-05</td>\n",
       "      <td>0.0</td>\n",
       "    </tr>\n",
       "    <tr>\n",
       "      <th>DM_5drib_c</th>\n",
       "      <td>9.000000e-05</td>\n",
       "      <td>0.0</td>\n",
       "    </tr>\n",
       "    <tr>\n",
       "      <th>DM_aacald_c</th>\n",
       "      <td>0.000000e+00</td>\n",
       "      <td>-0.0</td>\n",
       "    </tr>\n",
       "    <tr>\n",
       "      <th>DM_amob_c</th>\n",
       "      <td>8.000000e-07</td>\n",
       "      <td>0.0</td>\n",
       "    </tr>\n",
       "    <tr>\n",
       "      <th>DM_mththf_c</th>\n",
       "      <td>1.792000e-04</td>\n",
       "      <td>0.0</td>\n",
       "    </tr>\n",
       "    <tr>\n",
       "      <th>...</th>\n",
       "      <td>...</td>\n",
       "      <td>...</td>\n",
       "    </tr>\n",
       "    <tr>\n",
       "      <th>XYLtex_TG_forward</th>\n",
       "      <td>0.000000e+00</td>\n",
       "      <td>0.0</td>\n",
       "    </tr>\n",
       "    <tr>\n",
       "      <th>XYLtex_TG_reverse</th>\n",
       "      <td>0.000000e+00</td>\n",
       "      <td>0.0</td>\n",
       "    </tr>\n",
       "    <tr>\n",
       "      <th>Zn2tex_TG_forward</th>\n",
       "      <td>1.364000e-04</td>\n",
       "      <td>0.0</td>\n",
       "    </tr>\n",
       "    <tr>\n",
       "      <th>Zn2tex_TG_reverse</th>\n",
       "      <td>0.000000e+00</td>\n",
       "      <td>0.0</td>\n",
       "    </tr>\n",
       "    <tr>\n",
       "      <th>ER_pool_TG_</th>\n",
       "      <td>9.500000e-02</td>\n",
       "      <td>0.0</td>\n",
       "    </tr>\n",
       "  </tbody>\n",
       "</table>\n",
       "<p>3178 rows × 2 columns</p>\n",
       "</div>"
      ],
      "text/plain": [
       "<Solution 0.000 at 0x2b5d40b50>"
      ]
     },
     "execution_count": 167,
     "metadata": {},
     "output_type": "execute_result"
    }
   ],
   "source": [
    "model.optimize()"
   ]
  },
  {
   "cell_type": "code",
   "execution_count": 124,
   "id": "40a87435-bda9-48a1-a310-9b711b9ca2a8",
   "metadata": {
    "tags": []
   },
   "outputs": [
    {
     "data": {
      "text/plain": [
       "<gurobi.Var EX_12ppd__R_e>"
      ]
     },
     "execution_count": 124,
     "metadata": {},
     "output_type": "execute_result"
    }
   ],
   "source": [
    "x = problem.getVarByName('EX_12ppd__R_e')"
   ]
  },
  {
   "cell_type": "code",
   "execution_count": 105,
   "id": "bccdbad9-b647-4ea9-a21e-122ccef0001b",
   "metadata": {
    "tags": []
   },
   "outputs": [
    {
     "data": {
      "text/plain": [
       "<bound method Model.addGenConstrLogA of <gurobi.Model Continuous instance Unnamed: 1806 constrs, 6356 vars, Parameter changes: FeasibilityTol=1e-07, IntFeasTol=1e-07, OptimalityTol=1e-07, Method=0, Username=(user-defined), Presolve=0, OutputFlag=0>>"
      ]
     },
     "execution_count": 105,
     "metadata": {},
     "output_type": "execute_result"
    }
   ],
   "source": [
    "model.solver.problem.addGenConstrLogA"
   ]
  },
  {
   "cell_type": "code",
   "execution_count": 90,
   "id": "a353bbe1-9ed7-4a9e-8fcc-b6a36c2ad6c7",
   "metadata": {
    "tags": []
   },
   "outputs": [
    {
     "data": {
      "text/plain": [
       "\u001b[0;31mSignature:\u001b[0m \u001b[0mp\u001b[0m\u001b[0;34m.\u001b[0m\u001b[0mModel\u001b[0m\u001b[0;34m.\u001b[0m\u001b[0madd\u001b[0m\u001b[0;34m(\u001b[0m\u001b[0mself\u001b[0m\u001b[0;34m,\u001b[0m \u001b[0mstuff\u001b[0m\u001b[0;34m,\u001b[0m \u001b[0msloppy\u001b[0m\u001b[0;34m=\u001b[0m\u001b[0;32mFalse\u001b[0m\u001b[0;34m)\u001b[0m\u001b[0;34m\u001b[0m\u001b[0;34m\u001b[0m\u001b[0m\n",
       "\u001b[0;31mDocstring:\u001b[0m\n",
       "Add variables and constraints.\n",
       "\n",
       "Parameters\n",
       "----------\n",
       "stuff : iterable, Variable, Constraint\n",
       "    Either an iterable containing variables and constraints or a single variable or constraint.\n",
       "\n",
       "sloppy : bool\n",
       "    Check constraints for variables that are not part of the model yet.\n",
       "\n",
       "Returns\n",
       "-------\n",
       "None\n",
       "\u001b[0;31mFile:\u001b[0m      ~/anaconda3/lib/python3.11/site-packages/optlang/interface.py\n",
       "\u001b[0;31mType:\u001b[0m      function"
      ]
     },
     "metadata": {},
     "output_type": "display_data"
    }
   ],
   "source": [
    "p.Model.add?"
   ]
  },
  {
   "cell_type": "code",
   "execution_count": 41,
   "id": "970b381e-c5ef-4c87-bef9-f0d7ab7a869c",
   "metadata": {
    "tags": []
   },
   "outputs": [],
   "source": [
    "import gurobipy as gp"
   ]
  },
  {
   "cell_type": "code",
   "execution_count": 155,
   "id": "f657ed2e-71cd-41bf-9ccf-73d34b27c216",
   "metadata": {
    "tags": []
   },
   "outputs": [
    {
     "name": "stdout",
     "output_type": "stream",
     "text": [
      "Gurobi Optimizer version 10.0.3 build v10.0.3rc0 (mac64[arm])\n",
      "\n",
      "CPU model: Apple M2 Pro\n",
      "Thread count: 10 physical cores, 10 logical processors, using up to 10 threads\n",
      "\n",
      "Optimize a model with 3 rows, 2 columns and 5 nonzeros\n",
      "Model fingerprint: 0x91e73fe2\n",
      "Model has 2 quadratic objective terms\n",
      "Coefficient statistics:\n",
      "  Matrix range     [1e+00, 2e+00]\n",
      "  Objective range  [0e+00, 0e+00]\n",
      "  QObjective range [2e+00, 2e+00]\n",
      "  Bounds range     [0e+00, 0e+00]\n",
      "  RHS range        [3e+00, 1e+01]\n",
      "Presolve removed 3 rows and 2 columns\n",
      "Presolve time: 0.00s\n",
      "Presolve: All rows and columns removed\n",
      "\n",
      "Barrier solved model in 0 iterations and 0.00 seconds (0.00 work units)\n",
      "Optimal objective 2.50000000e+01\n"
     ]
    }
   ],
   "source": [
    "import gurobipy as gp\n",
    "\n",
    "# Create a Gurobi model\n",
    "mo = gp.Model(\"test\")\n",
    "# Example decision variables\n",
    "x = mo.addVar(vtype=gp.GRB.CONTINUOUS, name=\"x\")\n",
    "y = mo.addVar(vtype=gp.GRB.CONTINUOUS, name=\"y\")\n",
    "# log_x = mo.addVar(vtype=gp.GRB.CONTINUOUS, name=\"log_x\")\n",
    "# mo.addConstr(log_x == np.log(x), name=\"log_x_constraint\")\n",
    "# mo.addGenConstrLogA(x, log_x, 10)\n",
    "mo.addConstr(x + y <= 10, name=\"constraint1\")\n",
    "mo.addConstr(2 * x - y >= 5, name=\"constraint2\")\n",
    "mo.addConstr( y >= 3, name=\"constraint2\")\n",
    "# Set the objective to minimize the logarithm of x\n",
    "objective = x*x+y*y\n",
    "mo.setObjective(objective, gp.GRB.MINIMIZE)\n",
    "sol = mo.optimize()"
   ]
  },
  {
   "cell_type": "code",
   "execution_count": 153,
   "id": "3a580aed-350e-4e70-b3f6-1c5186a57a6c",
   "metadata": {
    "tags": []
   },
   "outputs": [
    {
     "name": "stdout",
     "output_type": "stream",
     "text": [
      "4.0 3.0\n"
     ]
    }
   ],
   "source": [
    "print(x.x, y.x)"
   ]
  },
  {
   "cell_type": "code",
   "execution_count": 61,
   "id": "969e115c-b889-4bda-8d3a-b0cd23915eab",
   "metadata": {
    "tags": []
   },
   "outputs": [
    {
     "data": {
      "text/plain": [
       "\u001b[0;31mSignature:\u001b[0m \u001b[0mmo\u001b[0m\u001b[0;34m.\u001b[0m\u001b[0maddGenConstrLog\u001b[0m\u001b[0;34m(\u001b[0m\u001b[0mxvar\u001b[0m\u001b[0;34m,\u001b[0m \u001b[0myvar\u001b[0m\u001b[0;34m,\u001b[0m \u001b[0mname\u001b[0m\u001b[0;34m=\u001b[0m\u001b[0;34m''\u001b[0m\u001b[0;34m,\u001b[0m \u001b[0moptions\u001b[0m\u001b[0;34m=\u001b[0m\u001b[0;34m''\u001b[0m\u001b[0;34m)\u001b[0m\u001b[0;34m\u001b[0m\u001b[0;34m\u001b[0m\u001b[0m\n",
       "\u001b[0;31mDocstring:\u001b[0m\n",
       "ROUTINE:\n",
       "  addGenConstrLog(xvar, yvar, name, options)\n",
       "\n",
       "PURPOSE:\n",
       "  Add a general constraint of type LOG to the model.\n",
       "\n",
       "ARGUMENTS:\n",
       "  xvar (Var): x variable for constraint\n",
       "  yvar (Var): y variable for constraint\n",
       "  name (string): Constraint name (default is no name)\n",
       "  options (string): String to specify options for PWL approximiation\n",
       "\n",
       "RETURN VALUE:\n",
       "  The created general constraint object.\n",
       "\n",
       "EXAMPLE:\n",
       "  genconstr = model.addGenConstrLog(x, y)\n",
       "\u001b[0;31mType:\u001b[0m      method"
      ]
     },
     "metadata": {},
     "output_type": "display_data"
    }
   ],
   "source": [
    "mo.addGenConstrLog?"
   ]
  },
  {
   "cell_type": "code",
   "execution_count": 39,
   "id": "0f82e495-83da-40be-99ac-fedb06d91515",
   "metadata": {
    "tags": []
   },
   "outputs": [
    {
     "data": {
      "text/plain": [
       "(array([ 61., 182., 282., 140.,   6.,   7.,   5.,   0.,   0.,   0.,   0.,\n",
       "          0.,   0.,   6.,   1.,   0.,   0.,   0.,   0.,   0.,   0.,   0.,\n",
       "          0.,   0.,   0.,   0.,   0.,   2.,   0.,   1.]),\n",
       " array([-7.14053622, -6.14883204, -5.15712787, -4.1654237 , -3.17371953,\n",
       "        -2.18201535, -1.19031118, -0.19860701,  0.79309716,  1.78480133,\n",
       "         2.77650551,  3.76820968,  4.75991385,  5.75161802,  6.74332219,\n",
       "         7.73502637,  8.72673054,  9.71843471, 10.71013888, 11.70184306,\n",
       "        12.69354723, 13.6852514 , 14.67695557, 15.66865974, 16.66036392,\n",
       "        17.65206809, 18.64377226, 19.63547643, 20.62718061, 21.61888478,\n",
       "        22.61058895]),\n",
       " <BarContainer object of 30 artists>)"
      ]
     },
     "execution_count": 39,
     "metadata": {},
     "output_type": "execute_result"
    },
    {
     "data": {
      "image/png": "[encoded data removed]",
      "text/plain": [
       "<Figure size 640x480 with 1 Axes>"
      ]
     },
     "metadata": {},
     "output_type": "display_data"
    }
   ],
   "source": [
    "plt.hist(predicted_log_leakage_rates.values(), bins = 30)"
   ]
  },
  {
   "cell_type": "code",
   "execution_count": null,
   "id": "1f8f452f-8376-4349-bd3d-fccb02786fbb",
   "metadata": {},
   "outputs": [],
   "source": [
    "for l"
   ]
  },
  {
   "cell_type": "code",
   "execution_count": 20,
   "id": "aa390399-6ae2-4b7c-8406-7db089b8fe0e",
   "metadata": {
    "tags": []
   },
   "outputs": [
    {
     "data": {
      "text/plain": [
       "<matplotlib.collections.PathCollection at 0x294a42150>"
      ]
     },
     "execution_count": 20,
     "metadata": {},
     "output_type": "execute_result"
    },
    {
     "data": {
      "image/png": "[encoded data removed]",
      "text/plain": [
       "<Figure size 640x480 with 1 Axes>"
      ]
     },
     "metadata": {},
     "output_type": "display_data"
    }
   ],
   "source": [
    "plt.scatter(log_sp, second_order_approx)"
   ]
  },
  {
   "cell_type": "code",
   "execution_count": 7,
   "id": "e3997601-1471-4880-91fb-79cf143f4cd7",
   "metadata": {
    "tags": []
   },
   "outputs": [],
   "source": [
    "solution = cobra.flux_analysis.pfba(model)"
   ]
  },
  {
   "cell_type": "code",
   "execution_count": 8,
   "id": "6029f017-59ba-47a9-8ec4-1aab7040a441",
   "metadata": {
    "tags": []
   },
   "outputs": [],
   "source": [
    "turnover_mets = FBA_leak.get_turnover_mets(model, solution)"
   ]
  },
  {
   "cell_type": "code",
   "execution_count": 9,
   "id": "1a4e2f09-c194-45d5-b139-0e687fb0f7bb",
   "metadata": {
    "tags": []
   },
   "outputs": [
    {
     "data": {
      "text/plain": [
       "Index(['10fthf_c', '13dpg_c', '1ddecg3p_c', '1hdec9eg3p_c', '1hdecg3p_c',\n",
       "       '1pyr5c_c', '23dhdp_c', '23dhmb_c', '23dhmp_c', '25aics_c',\n",
       "       ...\n",
       "       'udp_c', 'ugmd_c', 'ugmda_c', 'ump_c', 'uppg3_c', 'utp_c', 'val__L_c',\n",
       "       'xan_c', 'xmp_c', 'xu5p__D_c'],\n",
       "      dtype='object', length=337)"
      ]
     },
     "execution_count": 9,
     "metadata": {},
     "output_type": "execute_result"
    }
   ],
   "source": [
    "for m_id in turnover_mets"
   ]
  },
  {
   "cell_type": "code",
   "execution_count": null,
   "id": "792a4aca-4435-4839-8891-bd84268125bf",
   "metadata": {},
   "outputs": [],
   "source": []
  },
  {
   "cell_type": "code",
   "execution_count": 5,
   "id": "27d92717-7895-4687-a8c2-d9528a062d8b",
   "metadata": {},
   "outputs": [
    {
     "name": "stdout",
     "output_type": "stream",
     "text": [
      "Index(['10fthf_c', '13dpg_c', '1ddecg3p_c', '1hdec9eg3p_c', '1hdecg3p_c',\n",
      "       '1pyr5c_c', '23dhdp_c', '23dhmb_c', '23dhmp_c', '25aics_c',\n",
      "       ...\n",
      "       'udp_c', 'ugmd_c', 'ugmda_c', 'ump_c', 'uppg3_c', 'utp_c', 'val__L_c',\n",
      "       'xan_c', 'xmp_c', 'xu5p__D_c'],\n",
      "      dtype='object', length=339) ['4crsol_c', '5drib_c', 'amob_c', 'mththf_c', 'ac_c', 'ca2_c', 'cl_c', 'co2_c', 'cobalt2_c', 'cu2_c', 'fe2_c', 'glc__D_c', 'h_c', 'h2o_c', 'k_c', 'meoh_c', 'mg2_c', 'mn2_c', 'mobd_c', 'nh4_c', 'ni2_c', 'o2_c', 'pi_c', 'so4_c', 'zn2_c', 'prot_pool']\n"
     ]
    }
   ],
   "source": [
    "leak_solution = FBA_leak.FBA_with_leakage(model)"
   ]
  },
  {
   "cell_type": "code",
   "execution_count": 7,
   "id": "418c7643-b859-49eb-8496-864be75157f5",
   "metadata": {},
   "outputs": [
    {
     "data": {
      "text/plain": [
       "0.6115132510047568"
      ]
     },
     "execution_count": 7,
     "metadata": {},
     "output_type": "execute_result"
    }
   ],
   "source": [
    "leak_solution.fluxes['BIOMASS_Ec_iJO1366_core_53p95M']"
   ]
  },
  {
   "cell_type": "code",
   "execution_count": null,
   "id": "781ab3d7-d832-4d7b-92a2-c067b0fe61bf",
   "metadata": {},
   "outputs": [],
   "source": []
  },
  {
   "cell_type": "code",
   "execution_count": 9,
   "id": "f7773e8b-1a9d-47af-b46d-7e7875077aa2",
   "metadata": {},
   "outputs": [],
   "source": [
    "a = model.summary(solution=leak_solution)"
   ]
  },
  {
   "cell_type": "code",
   "execution_count": 14,
   "id": "8e152372-88d9-449c-b8a8-e0e296537546",
   "metadata": {},
   "outputs": [
    {
     "name": "stdout",
     "output_type": "stream",
     "text": [
      "Objective\n",
      "=========\n",
      "1.0 BIOMASS_Ec_iJO1366_core_53p95M = 0.6436981589523731\n",
      "\n",
      "Uptake\n",
      "------\n",
      "Metabolite     Reaction      Flux  C-Number  C-Flux\n",
      " prot_pool  ER_pool_TG_     0.095         0   0.00%\n",
      "     ca2_e     EX_ca2_e   0.00335         0   0.00%\n",
      "      cl_e      EX_cl_e   0.00335         0   0.00%\n",
      " cobalt2_e EX_cobalt2_e 1.609E-05         0   0.00%\n",
      "     cu2_e     EX_cu2_e 0.0004564         0   0.00%\n",
      "     fe2_e     EX_fe2_e   0.01034         0   0.00%\n",
      "  glc__D_e  EX_glc__D_e        10         6 100.00%\n",
      "       k_e       EX_k_e    0.1256         0   0.00%\n",
      "     mg2_e     EX_mg2_e  0.005584         0   0.00%\n",
      "     mn2_e     EX_mn2_e 0.0004448         0   0.00%\n",
      "    mobd_e    EX_mobd_e 8.304E-05         0   0.00%\n",
      "     nh4_e     EX_nh4_e     6.952         0   0.00%\n",
      "     ni2_e     EX_ni2_e 0.0002079         0   0.00%\n",
      "      o2_e      EX_o2_e      17.6         0   0.00%\n",
      "      pi_e      EX_pi_e    0.6209         0   0.00%\n",
      "     so4_e     EX_so4_e    0.1623         0   0.00%\n",
      "     zn2_e     EX_zn2_e 0.0002195         0   0.00%\n",
      "\n",
      "Secretion\n",
      "---------\n",
      "Metabolite    Reaction       Flux  C-Number C-Flux\n",
      "  4crsol_c DM_4crsol_c -0.0001435         7  0.00%\n",
      "   5drib_c  DM_5drib_c -0.0001448         5  0.00%\n",
      "    amob_c   DM_amob_c -1.287E-06        15  0.00%\n",
      "  mththf_c DM_mththf_c -0.0002884         5  0.00%\n",
      "      ac_e     EX_ac_e     -7.302         2 43.49%\n",
      "     co2_e    EX_co2_e     -18.97         1 56.50%\n",
      "     h2o_e    EX_h2o_e     -35.97         0  0.00%\n",
      "       h_e      EX_h_e     -13.22         0  0.00%\n",
      "    meoh_e   EX_meoh_e -1.287E-06         1  0.00%\n",
      "\n"
     ]
    }
   ],
   "source": [
    "model.optimize()\n",
    "print(model.summary())"
   ]
  },
  {
   "cell_type": "code",
   "execution_count": 8,
   "id": "073a59cb-24d4-4bb7-81c2-cca6470f6873",
   "metadata": {},
   "outputs": [],
   "source": [
    "shadow_prices = leakage.estimate_shadow_prices(model, epsilon = 0.1)"
   ]
  },
  {
   "cell_type": "code",
   "execution_count": 9,
   "id": "9d5ea498-038a-4476-8001-4a7fbba675bb",
   "metadata": {},
   "outputs": [
    {
     "data": {
      "text/plain": [
       "-0.008157997084665691"
      ]
     },
     "execution_count": 9,
     "metadata": {},
     "output_type": "execute_result"
    }
   ],
   "source": [
    "shadow_prices['ala__L_c']"
   ]
  },
  {
   "cell_type": "code",
   "execution_count": 10,
   "id": "d2e9c5ec-7599-4eda-811e-88843fe460cd",
   "metadata": {},
   "outputs": [
    {
     "name": "stdout",
     "output_type": "stream",
     "text": [
      "2dmmq8_c 0.2513914867317373 -1.459310473274184\n",
      "2dmmql8_c 0.2508142254608499 -1.4572643002983825\n",
      "athtp_c 0.0 -2.663334043137137\n",
      "colipa_c 0.7277794893911336 -2.7288698456520377\n",
      "gagicolipa_c 0.000993940589525219 -2.591396224846886\n",
      "ggagicolipa_c 0.0004941679229288343 -2.6103075902218347\n",
      "gggagicolipa_c 0.0 -2.6292133500436004\n",
      "gicolipa_c 0.0015142490054498858 -2.5724643207566102\n",
      "hhlipa_c -0.6201467613634597 -2.2750719307757836\n",
      "hphhlipa_c 0.10087794064408473 -2.381732519235907\n",
      "icolipa_c 0.0020559046966425742 -2.554310062278361\n",
      "kphphhlipa_c 0.0 -2.4828879800239783\n",
      "lipa_cold_c 0.0 -2.1207194448059976\n",
      "mql8_c -0.0017189015632333472 -1.7150112859585636\n",
      "mqn8_c 0.0 -1.7154196329749383\n",
      "phhlipa_c -0.6269454490972091 -2.281799711516342\n",
      "phphhlipa_c 0.09412919427639777 -2.3884093623393885\n",
      "q8_c 0.0 -1.6929041021735396\n",
      "q8h2_c -0.001718901563233349 -1.6944042981037104\n",
      "uLa4fn_c -0.0015588533761565439 -1.4857163954634534\n",
      "uLa4n_c 0.0 -1.4843356943920538\n",
      "uacmamu_c 1.3413395188930453 -0.3684614277418974\n",
      "udpLa4fn_c 0.9873133427940222 -0.4976994860514039\n",
      "unagamu_c 0.25678915187178397 -1.453010417388807\n",
      "unagamuf_c 0.0006581902749915588 -1.7112978045537308\n"
     ]
    },
    {
     "data": {
      "text/plain": [
       "Text(0, 0.5, 'Gurobi predicted Shadow prices')"
      ]
     },
     "execution_count": 10,
     "metadata": {},
     "output_type": "execute_result"
    },
    {
     "data": {
      "image/png": "[encoded data removed]",
      "text/plain": [
       "<Figure size 640x480 with 1 Axes>"
      ]
     },
     "metadata": {},
     "output_type": "display_data"
    }
   ],
   "source": [
    "solution = model.optimize()\n",
    "fig, ax = plt.subplots(1)\n",
    "for m, sp in shadow_prices.items():\n",
    "    # print(m, sp2, solution.shadow_prices[m])\n",
    "    spg = solution.shadow_prices[m]\n",
    "    ax.scatter(sp, spg, c = 'k', s = 10)\n",
    "    if abs(sp - spg) > 1:\n",
    "        # if np.abs((sp2-sp1)/min(abs(sp1), abs(sp2)))> 1:\n",
    "        # ax.annotate(m[:-2], (sp2+1, sp1))\n",
    "        print(m, spg, sp)\n",
    "ax.plot(np.arange(-5, 5), np.arange(-5, 5))\n",
    "# ax.set_yscale('log')\n",
    "# ax.set_xscale('log')\n",
    "plt.xlabel('Manually predicted Shadow prices')\n",
    "plt.ylabel('Gurobi predicted Shadow prices')"
   ]
  },
  {
   "cell_type": "code",
   "execution_count": 11,
   "id": "41eed83d-abf2-458f-9955-57f2bcf67606",
   "metadata": {},
   "outputs": [
    {
     "data": {
      "text/plain": [
       "10fthf_c     -0.656662\n",
       "12dgr120_c   -0.466064\n",
       "12dgr140_c   -0.524186\n",
       "12dgr141_c   -0.501553\n",
       "12dgr160_c   -0.637621\n",
       "                ...   \n",
       "xtsn_p       -0.201325\n",
       "xyl__D_p      0.004468\n",
       "xylu__L_p    -0.008956\n",
       "zn2_p        -0.000137\n",
       "prot_pool    -5.929755\n",
       "Name: shadow_prices, Length: 1806, dtype: float64"
      ]
     },
     "execution_count": 11,
     "metadata": {},
     "output_type": "execute_result"
    }
   ],
   "source": [
    "solution.shadow_prices"
   ]
  },
  {
   "cell_type": "markdown",
   "id": "acddda89-4ce0-4f98-bd4b-39fc5dfc87e9",
   "metadata": {},
   "source": [
    "# FBA with leakage\n"
   ]
  },
  {
   "cell_type": "markdown",
   "id": "7243da19-2a30-40e6-9c86-a90b2ac8a1f2",
   "metadata": {},
   "source": [
    "## Define parameters"
   ]
  },
  {
   "cell_type": "markdown",
   "id": "5900bf8b-8110-4886-a039-ac369275eb79",
   "metadata": {},
   "source": [
    "## Run standard FBA"
   ]
  },
  {
   "cell_type": "code",
   "execution_count": 32,
   "id": "896a7b45-291b-4719-bdc2-3231b4dfc760",
   "metadata": {},
   "outputs": [
    {
     "name": "stdout",
     "output_type": "stream",
     "text": [
      "Objective\n",
      "=========\n",
      "1.0 BIOMASS_Ec_iJO1366_core_53p95M = 0.6436981589523757\n",
      "\n",
      "Uptake\n",
      "------\n",
      "Metabolite     Reaction      Flux  C-Number  C-Flux\n",
      " prot_pool  ER_pool_TG_     0.095         0   0.00%\n",
      "     ca2_e     EX_ca2_e   0.00335         0   0.00%\n",
      "      cl_e      EX_cl_e   0.00335         0   0.00%\n",
      " cobalt2_e EX_cobalt2_e 1.609E-05         0   0.00%\n",
      "     cu2_e     EX_cu2_e 0.0004564         0   0.00%\n",
      "     fe2_e     EX_fe2_e   0.01034         0   0.00%\n",
      "  glc__D_e  EX_glc__D_e        10         6 100.00%\n",
      "       k_e       EX_k_e    0.1256         0   0.00%\n",
      "     mg2_e     EX_mg2_e  0.005584         0   0.00%\n",
      "     mn2_e     EX_mn2_e 0.0004448         0   0.00%\n",
      "    mobd_e    EX_mobd_e 8.304E-05         0   0.00%\n",
      "     nh4_e     EX_nh4_e     6.952         0   0.00%\n",
      "     ni2_e     EX_ni2_e 0.0002079         0   0.00%\n",
      "      o2_e      EX_o2_e      17.6         0   0.00%\n",
      "      pi_e      EX_pi_e    0.6209         0   0.00%\n",
      "     so4_e     EX_so4_e    0.1623         0   0.00%\n",
      "     zn2_e     EX_zn2_e 0.0002195         0   0.00%\n",
      "\n",
      "Secretion\n",
      "---------\n",
      "Metabolite    Reaction       Flux  C-Number C-Flux\n",
      "  4crsol_c DM_4crsol_c -0.0001435         7  0.00%\n",
      "   5drib_c  DM_5drib_c -0.0001448         5  0.00%\n",
      "    amob_c   DM_amob_c -1.287E-06        15  0.00%\n",
      "  mththf_c DM_mththf_c -0.0002884         5  0.00%\n",
      "      ac_e     EX_ac_e     -7.302         2 43.49%\n",
      "     co2_e    EX_co2_e     -18.97         1 56.50%\n",
      "     h2o_e    EX_h2o_e     -35.97         0  0.00%\n",
      "       h_e      EX_h_e     -13.22         0  0.00%\n",
      "    meoh_e   EX_meoh_e -1.287E-06         1  0.00%\n",
      "\n"
     ]
    }
   ],
   "source": [
    "solution = model.optimize()\n",
    "print(model.summary())"
   ]
  },
  {
   "cell_type": "code",
   "execution_count": 33,
   "id": "4ec80489-6d78-47e9-99cd-077926cdfa3a",
   "metadata": {},
   "outputs": [],
   "source": [
    "# model.metabolites.q8_c.summary()\n",
    "# with model:\n",
    "#     m = model.metabolites.q8_c\n",
    "#     r = model.add_boundary(m, type = 'demand')\n",
    "#     r.lower_bound = 0.1\n",
    "#     solution = model.optimize()\n",
    "#     print(model.summary())\n",
    "#     print(solution.shadow_prices['q8_c'])\n",
    "    "
   ]
  },
  {
   "cell_type": "markdown",
   "id": "fcc9c863-af5e-4a37-87f4-53abb2cfd9f4",
   "metadata": {},
   "source": [
    "## set minimum growth rate to 0.95 of max"
   ]
  },
  {
   "cell_type": "code",
   "execution_count": 34,
   "id": "8525db0e-9391-4695-bde1-b414427a02de",
   "metadata": {},
   "outputs": [],
   "source": [
    "# model.reactions.BIOMASS_Ec_iJO1366_core_53p95M.lower_bound = solution.objective_value*0.95\n",
    "# print(model.reactions.BIOMASS_Ec_iJO1366_core_53p95M.bounds)\n",
    "# model.reactions.BIOMASS_Ec_iJO1366_core_53p95M.objective_coefficient = 0"
   ]
  },
  {
   "cell_type": "markdown",
   "id": "097bf995-6247-4412-a773-e90b16738076",
   "metadata": {},
   "source": [
    "## Add leakage reactions"
   ]
  },
  {
   "cell_type": "code",
   "execution_count": 35,
   "id": "1dcbc1f0-e983-4791-be3b-c25ec0e322d8",
   "metadata": {},
   "outputs": [],
   "source": [
    "# Get index of intracellular metabolites\n",
    "intracellular_metabolites = [m.id for m in model.metabolites if m.compartment =='c']\n"
   ]
  },
  {
   "cell_type": "code",
   "execution_count": 36,
   "id": "02345966-498c-4c33-91ee-4da42de81edb",
   "metadata": {},
   "outputs": [],
   "source": [
    "# Get stoichiometric matrix and flux array\n",
    "S_matrix = cobra.util.create_stoichiometric_matrix(model, array_type='DataFrame')\n",
    "v_array = np.array(solution.fluxes)"
   ]
  },
  {
   "cell_type": "code",
   "execution_count": 118,
   "id": "568ded4b-c846-47d4-8ad8-498471c02f09",
   "metadata": {},
   "outputs": [],
   "source": [
    "# First find 'turnover-metabolites'\n",
    "non_zero_reactions = solution.fluxes.abs() > 1e-5"
   ]
  },
  {
   "cell_type": "code",
   "execution_count": 114,
   "id": "4ce2aeb9-2b11-47f6-b14d-2bc3ecd314bb",
   "metadata": {},
   "outputs": [
    {
     "data": {
      "text/plain": [
       "DM_4crsol_c           True\n",
       "DM_5drib_c            True\n",
       "DM_aacald_c          False\n",
       "DM_amob_c            False\n",
       "DM_mththf_c           True\n",
       "                     ...  \n",
       "XYLtex_TG_forward    False\n",
       "XYLtex_TG_reverse    False\n",
       "Zn2tex_TG_forward     True\n",
       "Zn2tex_TG_reverse    False\n",
       "ER_pool_TG_           True\n",
       "Name: fluxes, Length: 3178, dtype: bool"
      ]
     },
     "execution_count": 114,
     "metadata": {},
     "output_type": "execute_result"
    }
   ],
   "source": [
    "non_zero_reactions"
   ]
  },
  {
   "cell_type": "code",
   "execution_count": 119,
   "id": "91d89172-0900-4239-bcbf-428a512ab8bb",
   "metadata": {},
   "outputs": [],
   "source": [
    "# Remove non-intracellular metabolites and zero-flux reactions\n",
    "S_reduced = S_matrix.loc[intracellular_metabolites, non_zero_reactions]"
   ]
  },
  {
   "cell_type": "code",
   "execution_count": 120,
   "id": "82794106-d5fb-43ac-b6f5-35380077f502",
   "metadata": {},
   "outputs": [
    {
     "name": "stdout",
     "output_type": "stream",
     "text": [
      "(1040, 441)\n"
     ]
    }
   ],
   "source": [
    "print(S_reduced.shape)"
   ]
  },
  {
   "cell_type": "code",
   "execution_count": 121,
   "id": "2731d3d4-62c7-4958-a8bd-6a0f49873443",
   "metadata": {},
   "outputs": [],
   "source": [
    "# Remove metabolites that have all zero rows in the S_non_zero matrix\n",
    "nonzero_mets = (S_reduced != 0).any(axis = 1)\n",
    "nonzero_rxns2 = (S_reduced != 0).any(axis = 0)"
   ]
  },
  {
   "cell_type": "code",
   "execution_count": 122,
   "id": "4ee234ea-42bd-478a-a934-bf9aa1d26c84",
   "metadata": {},
   "outputs": [],
   "source": [
    "S = S_reduced.loc[nonzero_mets, nonzero_rxns2]"
   ]
  },
  {
   "cell_type": "code",
   "execution_count": 123,
   "id": "cb02abaa-75ec-46f0-b7b3-c1bfe9ef26ba",
   "metadata": {},
   "outputs": [
    {
     "data": {
      "text/plain": [
       "(397, 418)"
      ]
     },
     "execution_count": 123,
     "metadata": {},
     "output_type": "execute_result"
    }
   ],
   "source": [
    "S.shape"
   ]
  },
  {
   "cell_type": "markdown",
   "id": "e3461761-20d2-4246-a24c-7724460aba3b",
   "metadata": {},
   "source": [
    "# Remove prot pool"
   ]
  },
  {
   "cell_type": "code",
   "execution_count": 124,
   "id": "2a38f6c7-6891-498a-8128-45ff9c13e052",
   "metadata": {},
   "outputs": [],
   "source": [
    "S = S.loc[S.index!='prot_pool',:]"
   ]
  },
  {
   "cell_type": "markdown",
   "id": "d684976c-1371-4a5e-8238-4909315c2ec4",
   "metadata": {},
   "source": [
    "# Remove ACP metabolites\n"
   ]
  },
  {
   "cell_type": "code",
   "execution_count": 131,
   "id": "a90a910c-76fd-4b66-8974-03b197861dc9",
   "metadata": {},
   "outputs": [],
   "source": [
    "S = S.loc[~S.index.str.contains('ACP'), :]"
   ]
  },
  {
   "cell_type": "code",
   "execution_count": 132,
   "id": "3ff580fe-c2bc-4764-b807-266c60926c25",
   "metadata": {},
   "outputs": [],
   "source": [
    "flux_carrying_mets = S.index"
   ]
  },
  {
   "cell_type": "code",
   "execution_count": 133,
   "id": "11cadbb8-2c3f-4778-9e6d-9696c6a9af82",
   "metadata": {},
   "outputs": [
    {
     "name": "stdout",
     "output_type": "stream",
     "text": [
      "4crsol_c True\n",
      "5drib_c True\n",
      "amob_c False\n",
      "mththf_c True\n"
     ]
    }
   ],
   "source": [
    "rex = ['4crsol_c','5drib_c','amob_c','mththf_c']\n",
    "for r_id in rex:\n",
    "    print(r_id, r_id in S.index)"
   ]
  },
  {
   "cell_type": "code",
   "execution_count": 134,
   "id": "d669d519-663a-49c2-b61c-3a44f405e7ce",
   "metadata": {},
   "outputs": [],
   "source": [
    "# List already excreted metabolites\n",
    "exchanged_mets = []\n",
    "for r in model.boundary:\n",
    "    flux = solution.fluxes[r.id]\n",
    "    if flux != 0:\n",
    "        exchanged_mets.append(list(r.metabolites.keys())[0].id)\n",
    "        "
   ]
  },
  {
   "cell_type": "code",
   "execution_count": 129,
   "id": "72081044-c995-4f4e-a46c-81507757046f",
   "metadata": {},
   "outputs": [
    {
     "data": {
      "text/plain": [
       "['4crsol_c',\n",
       " '5drib_c',\n",
       " 'amob_c',\n",
       " 'mththf_c',\n",
       " 'ac_e',\n",
       " 'ca2_e',\n",
       " 'cl_e',\n",
       " 'co2_e',\n",
       " 'cobalt2_e',\n",
       " 'cu2_e',\n",
       " 'fe2_e',\n",
       " 'glc__D_e',\n",
       " 'h_e',\n",
       " 'h2o_e',\n",
       " 'k_e',\n",
       " 'meoh_e',\n",
       " 'mg2_e',\n",
       " 'mn2_e',\n",
       " 'mobd_e',\n",
       " 'nh4_e',\n",
       " 'ni2_e',\n",
       " 'o2_e',\n",
       " 'pi_e',\n",
       " 'so4_e',\n",
       " 'zn2_e',\n",
       " 'prot_pool']"
      ]
     },
     "execution_count": 129,
     "metadata": {},
     "output_type": "execute_result"
    }
   ],
   "source": [
    "exchanged_mets"
   ]
  },
  {
   "cell_type": "markdown",
   "id": "34dab3d7-3384-4b59-8651-48924946e223",
   "metadata": {},
   "source": [
    "# Implementation 2\n",
    "\n"
   ]
  },
  {
   "cell_type": "code",
   "execution_count": 52,
   "id": "61f48a1d-6701-405c-81ab-5a01462f7697",
   "metadata": {},
   "outputs": [
    {
     "name": "stdout",
     "output_type": "stream",
     "text": [
      "Objective\n",
      "=========\n",
      "1.0 BIOMASS_Ec_iJO1366_core_53p95M = 0.6299824939724283\n",
      "\n",
      "Uptake\n",
      "------\n",
      "Metabolite     Reaction      Flux  C-Number  C-Flux\n",
      " prot_pool  ER_pool_TG_     0.095         0   0.00%\n",
      "     ca2_e     EX_ca2_e  0.003279         0   0.00%\n",
      "      cl_e      EX_cl_e  0.003279         0   0.00%\n",
      " cobalt2_e EX_cobalt2_e 1.575E-05         0   0.00%\n",
      "     cu2_e     EX_cu2_e 0.0004467         0   0.00%\n",
      "     fe2_e     EX_fe2_e    0.4639         0   0.00%\n",
      "  glc__D_e  EX_glc__D_e        10         6 100.00%\n",
      "       k_e       EX_k_e     0.123         0   0.00%\n",
      "     mg2_e     EX_mg2_e  0.005465         0   0.00%\n",
      "     mn2_e     EX_mn2_e 0.0004353         0   0.00%\n",
      "    mobd_e    EX_mobd_e 8.127E-05         0   0.00%\n",
      "     nh4_e     EX_nh4_e     7.027         0   0.00%\n",
      "     ni2_e     EX_ni2_e 0.0002035         0   0.00%\n",
      "      o2_e      EX_o2_e     18.63         0   0.00%\n",
      "      pi_e      EX_pi_e     1.103         0   0.00%\n",
      "     so4_e     EX_so4_e    0.1616         0   0.00%\n",
      "     zn2_e     EX_zn2_e 0.0002148         0   0.00%\n",
      "\n",
      "Secretion\n",
      "---------\n",
      "   Metabolite         Reaction       Flux  C-Number C-Flux\n",
      "     4crsol_c      DM_4crsol_c  -0.000151         7  0.00%\n",
      "      5drib_c       DM_5drib_c -0.0001522         5  0.00%\n",
      "       amob_c        DM_amob_c  -1.26E-06        15  0.00%\n",
      "     mththf_c      DM_mththf_c -0.0003989         5  0.01%\n",
      "     10fthf_e      EX_10fthf_e -6.247E-05        20  0.00%\n",
      "      13dpg_e       EX_13dpg_e   -0.01159         3  0.10%\n",
      "   1ddecg3p_e    EX_1ddecg3p_e -0.0002475        15  0.01%\n",
      " 1hdec9eg3p_e  EX_1hdec9eg3p_e -0.0001958        19  0.01%\n",
      "   1hdecg3p_e    EX_1hdecg3p_e  -0.000161        19  0.01%\n",
      "     1pyr5c_e      EX_1pyr5c_e  -0.005217         5  0.08%\n",
      "     23dhdp_e      EX_23dhdp_e   -0.00353         7  0.07%\n",
      "     23dhmb_e      EX_23dhmb_e  -0.001247         5  0.02%\n",
      "     23dhmp_e      EX_23dhmp_e  -0.001161         6  0.02%\n",
      "     25aics_e      EX_25aics_e   -0.00032        13  0.01%\n",
      "   26dap_LL_e    EX_26dap_LL_e   -0.00226         7  0.05%\n",
      "     2ahbut_e      EX_2ahbut_e  -0.002527         6  0.04%\n",
      "     2cpr5p_e      EX_2cpr5p_e -0.0003964        12  0.01%\n",
      "     2dda7p_e      EX_2dda7p_e  -0.005114         7  0.10%\n",
      "     2ddg6p_e      EX_2ddg6p_e  -0.008646         6  0.15%\n",
      "      2fe2s_e       EX_2fe2s_e -9.538E-05         0  0.00%\n",
      "      2ippm_e       EX_2ippm_e -0.0004476         7  0.01%\n",
      "      2obut_e       EX_2obut_e  -0.003174         4  0.04%\n",
      "      2ohph_e       EX_2ohph_e -3.912E-05        46  0.01%\n",
      "        2pg_e         EX_2pg_e    -0.0219         3  0.19%\n",
      "      34hpp_e       EX_34hpp_e  -0.001979         9  0.05%\n",
      "     3c2hmp_e      EX_3c2hmp_e -0.0003173         7  0.01%\n",
      "     3c3hmp_e      EX_3c3hmp_e -0.0007088         7  0.01%\n",
      "     3c4mop_e      EX_3c4mop_e -0.0003146         7  0.01%\n",
      "       3dhq_e        EX_3dhq_e  -0.005499         7  0.11%\n",
      "      3dhsk_e       EX_3dhsk_e  -0.005294         7  0.11%\n",
      "    3hhdcoa_e     EX_3hhdcoa_e -3.298E-05        37  0.00%\n",
      "    3htdcoa_e     EX_3htdcoa_e -3.367E-05        35  0.00%\n",
      "      3ig3p_e       EX_3ig3p_e -0.0003167        11  0.01%\n",
      "       3mob_e        EX_3mob_e  -0.001195         5  0.02%\n",
      "       3mop_e        EX_3mop_e  -0.001115         6  0.02%\n",
      "    3ohdcoa_e     EX_3ohdcoa_e -3.306E-05        37  0.00%\n",
      "    3otdcoa_e     EX_3otdcoa_e -3.374E-05        35  0.00%\n",
      "        3pg_e         EX_3pg_e   -0.02228         3  0.20%\n",
      "       3php_e        EX_3php_e   -0.01805         3  0.16%\n",
      "      3psme_e       EX_3psme_e  -0.002229        10  0.07%\n",
      "      4fe4s_e       EX_4fe4s_e -3.613E-05         0  0.00%\n",
      "       4mop_e        EX_4mop_e  -0.000316         6  0.01%\n",
      "      4pasp_e       EX_4pasp_e  -0.006364         4  0.07%\n",
      "      5aizc_e       EX_5aizc_e -0.0003661         9  0.01%\n",
      "      5caiz_e       EX_5caiz_e -0.0003733         9  0.01%\n",
      "      5mthf_e       EX_5mthf_e -6.298E-05        20  0.00%\n",
      "       6pgc_e        EX_6pgc_e  -0.009297         6  0.16%\n",
      "       6pgl_e        EX_6pgl_e    -0.0108         6  0.19%\n",
      "         ac_e          EX_ac_e     -5.845         2 34.24%\n",
      "      accoa_e       EX_accoa_e  -4.85E-05        23  0.00%\n",
      "      acg5p_e       EX_acg5p_e  -0.002488         7  0.05%\n",
      "     acg5sa_e      EX_acg5sa_e  -0.002403         7  0.05%\n",
      "      acglu_e       EX_acglu_e  -0.003074         7  0.06%\n",
      "     acon_C_e      EX_acon_C_e  -0.009484         6  0.17%\n",
      "      acorn_e       EX_acorn_e -0.0009053         7  0.02%\n",
      "      acser_e       EX_acser_e  -0.001216         5  0.02%\n",
      "       actp_e        EX_actp_e   -0.04047         2  0.24%\n",
      "        adp_e         EX_adp_e -0.0002291        10  0.01%\n",
      "      aicar_e       EX_aicar_e -0.0003469         9  0.01%\n",
      "        air_e         EX_air_e -0.0004103         8  0.01%\n",
      "        akg_e         EX_akg_e   -0.01036         5  0.15%\n",
      "    alac__S_e     EX_alac__S_e   -0.01784         5  0.26%\n",
      "       amet_e        EX_amet_e -7.619E-05        15  0.00%\n",
      "       anth_e        EX_anth_e  -0.001237         7  0.03%\n",
      "        aps_e         EX_aps_e  -0.000197        10  0.01%\n",
      "      ara5p_e       EX_ara5p_e  -0.009534         5  0.14%\n",
      "     argsuc_e      EX_argsuc_e -0.0006398        10  0.02%\n",
      "      aspsa_e       EX_aspsa_e  -0.006023         4  0.07%\n",
      "        atp_e         EX_atp_e -0.0002223        10  0.01%\n",
      "      cbasp_e       EX_cbasp_e  -0.007796         5  0.11%\n",
      "        cbp_e         EX_cbp_e   -0.03113         1  0.09%\n",
      "        cdp_e         EX_cdp_e -0.0008029         9  0.02%\n",
      "cdpdhdec9eg_e EX_cdpdhdec9eg_e -6.109E-05        44  0.01%\n",
      "  cdpdhdecg_e   EX_cdpdhdecg_e -5.153E-05        44  0.01%\n",
      "       chor_e        EX_chor_e  -0.001948        10  0.06%\n",
      "    citr__L_e     EX_citr__L_e -0.0008272         6  0.01%\n",
      "       ckdo_e        EX_ckdo_e -0.0003455        17  0.02%\n",
      "        co2_e         EX_co2_e     -18.65         1 54.61%\n",
      "        coa_e         EX_coa_e -4.888E-05        21  0.00%\n",
      "        ctp_e         EX_ctp_e -0.0007442         9  0.02%\n",
      "    cyst__L_e     EX_cyst__L_e -0.0002052         7  0.00%\n",
      "       datp_e        EX_datp_e -0.0002191        10  0.01%\n",
      "      dcamp_e       EX_dcamp_e -0.0002228        14  0.01%\n",
      "       dctp_e        EX_dctp_e -0.0007196         9  0.02%\n",
      "    ddcacoa_e     EX_ddcacoa_e -3.395E-05        33  0.00%\n",
      "      ddcap_e       EX_ddcap_e -0.0002733        12  0.01%\n",
      "       dgtp_e        EX_dgtp_e -0.0002284        10  0.01%\n",
      "       dhap_e        EX_dhap_e   -0.01185         3  0.10%\n",
      "        dhf_e         EX_dhf_e -6.292E-05        19  0.00%\n",
      "    dhor__S_e     EX_dhor__S_e  -0.007581         5  0.11%\n",
      "       dtdp_e        EX_dtdp_e -0.0008673        10  0.03%\n",
      "       dttp_e        EX_dttp_e -0.0008005        10  0.02%\n",
      "       dutp_e        EX_dutp_e  -0.001155         9  0.03%\n",
      "        e4p_e         EX_e4p_e    -0.0104         4  0.12%\n",
      "      eig3p_e       EX_eig3p_e -0.0005211         6  0.01%\n",
      "        fad_e         EX_fad_e  -1.14E-05        27  0.00%\n",
      "      fadh2_e       EX_fadh2_e  -1.14E-05        27  0.00%\n",
      "        fdp_e         EX_fdp_e  -0.005785         6  0.10%\n",
      "        fe3_e         EX_fe3_e    -0.4535         0  0.00%\n",
      "       fgam_e        EX_fgam_e -0.0004772         8  0.01%\n",
      "      fpram_e       EX_fpram_e -0.0004318         8  0.01%\n",
      "     fprica_e      EX_fprica_e -0.0003424        10  0.01%\n",
      "        fum_e         EX_fum_e   -0.01509         4  0.18%\n",
      "        g3p_e         EX_g3p_e   -0.01184         3  0.10%\n",
      "      gam1p_e       EX_gam1p_e  -0.001079         6  0.02%\n",
      "        gar_e         EX_gar_e -0.0005092         7  0.01%\n",
      "        gdp_e         EX_gdp_e -0.0002393        10  0.01%\n",
      "      glu5p_e       EX_glu5p_e  -0.005785         5  0.08%\n",
      "     glu5sa_e      EX_glu5sa_e  -0.005395         5  0.08%\n",
      "     glu__D_e      EX_glu__D_e  -0.008664         5  0.13%\n",
      "        glx_e         EX_glx_e   -0.03606         2  0.21%\n",
      "      gthox_e       EX_gthox_e -5.154E-05        20  0.00%\n",
      "        gtp_e         EX_gtp_e -0.0002317        10  0.01%\n",
      "        h2o_e         EX_h2o_e     -36.87         0  0.00%\n",
      "        h2s_e         EX_h2s_e -0.0004219         0  0.00%\n",
      "          h_e           EX_h_e     -12.72         0  0.00%\n",
      "       hco3_e        EX_hco3_e    -0.8952         1  2.62%\n",
      "    hcys__L_e     EX_hcys__L_e -0.0002091         4  0.00%\n",
      "      hdcap_e       EX_hdcap_e  -0.000173        16  0.01%\n",
      "     hdceap_e      EX_hdceap_e -0.0002128        16  0.01%\n",
      "      hdcoa_e       EX_hdcoa_e -3.292E-05        37  0.00%\n",
      "    hdd2coa_e     EX_hdd2coa_e -3.298E-05        37  0.00%\n",
      "       hisp_e        EX_hisp_e  -0.000508         6  0.01%\n",
      "      histd_e       EX_histd_e -0.0005144         6  0.01%\n",
      "     hom__L_e      EX_hom__L_e  -0.004708         4  0.06%\n",
      "       icit_e        EX_icit_e  -0.008854         6  0.16%\n",
      "      imacp_e       EX_imacp_e -0.0005205         6  0.01%\n",
      "      kdo8p_e       EX_kdo8p_e  -0.004493         8  0.11%\n",
      "        kdo_e         EX_kdo_e  -0.001068         8  0.03%\n",
      "  kdolipid4_e   EX_kdolipid4_e -2.022E-05        76  0.00%\n",
      "     lipidA_e      EX_lipidA_e -2.214E-05        68  0.00%\n",
      "   lipidAds_e    EX_lipidAds_e -2.283E-05        68  0.00%\n",
      "     lipidX_e      EX_lipidX_e -5.904E-05        34  0.01%\n",
      "     malcoa_e      EX_malcoa_e -4.593E-05        24  0.00%\n",
      "       meoh_e        EX_meoh_e  -1.26E-06         1  0.00%\n",
      "      methf_e       EX_methf_e -6.256E-05        20  0.00%\n",
      "      mlthf_e       EX_mlthf_e  -6.32E-05        20  0.00%\n",
      "        nad_e         EX_nad_e -0.0001388        21  0.01%\n",
      "       nadh_e        EX_nadh_e -0.0001376        21  0.01%\n",
      "       nadp_e        EX_nadp_e -0.0001338        21  0.01%\n",
      "      nadph_e       EX_nadph_e -0.0001325        21  0.01%\n",
      "        oaa_e         EX_oaa_e   -0.01793         4  0.21%\n",
      "     orot5p_e      EX_orot5p_e  -0.001589        10  0.05%\n",
      "      pa120_e       EX_pa120_e -0.0001001        27  0.01%\n",
      "      pa160_e       EX_pa160_e -6.422E-05        35  0.01%\n",
      "      pa161_e       EX_pa161_e  -7.86E-05        35  0.01%\n",
      "        pap_e         EX_pap_e -0.0002432        10  0.01%\n",
      "       paps_e        EX_paps_e -0.0001904        10  0.01%\n",
      "      pe160_e       EX_pe160_e -5.389E-05        37  0.01%\n",
      "      pe161_e       EX_pe161_e -6.428E-05        37  0.01%\n",
      "        pep_e         EX_pep_e   -0.01862         3  0.16%\n",
      "      pheme_e       EX_pheme_e -6.767E-06        34  0.00%\n",
      "       phom_e        EX_phom_e  -0.003074         4  0.04%\n",
      "      phpyr_e       EX_phpyr_e  -0.001973         9  0.05%\n",
      "       pphn_e        EX_pphn_e  -0.001948        10  0.06%\n",
      "        ppi_e         EX_ppi_e   -0.04125         0  0.00%\n",
      "       pram_e        EX_pram_e   -0.00418         5  0.06%\n",
      "       pran_e        EX_pran_e -0.0003987        12  0.01%\n",
      "     prbamp_e      EX_prbamp_e -0.0001754        15  0.01%\n",
      "     prbatp_e      EX_prbatp_e -0.0001716        15  0.01%\n",
      "       prfp_e        EX_prfp_e -0.0001692        15  0.01%\n",
      "       prlp_e        EX_prlp_e -0.0001658        15  0.01%\n",
      "       prpp_e        EX_prpp_e  -0.004288         5  0.06%\n",
      "      ps160_e       EX_ps160_e -5.388E-05        38  0.01%\n",
      "      ps161_e       EX_ps161_e -6.426E-05        38  0.01%\n",
      "     pydx5p_e      EX_pydx5p_e -0.0004737         8  0.01%\n",
      "        pyr_e         EX_pyr_e   -0.06515         3  0.57%\n",
      "         q8_e          EX_q8_e -1.694E-05        49  0.00%\n",
      "       q8h2_e        EX_q8h2_e -1.692E-05        49  0.00%\n",
      "      r15bp_e       EX_r15bp_e  -0.005793         5  0.08%\n",
      "        r1p_e         EX_r1p_e  -0.008731         5  0.13%\n",
      "        r5p_e         EX_r5p_e  -0.009528         5  0.14%\n",
      "     ribflv_e      EX_ribflv_e -7.031E-05        17  0.00%\n",
      "    ru5p__D_e     EX_ru5p__D_e  -0.009905         5  0.15%\n",
      "        s7p_e         EX_s7p_e  -0.008491         7  0.17%\n",
      "      sheme_e       EX_sheme_e -7.556E-06        42  0.00%\n",
      "      skm5p_e       EX_skm5p_e  -0.003435         7  0.07%\n",
      "     sl26da_e      EX_sl26da_e  -0.001668        11  0.05%\n",
      "     sl2a6o_e      EX_sl2a6o_e  -0.002002        11  0.06%\n",
      "        so3_e         EX_so3_e -0.0004432         0  0.00%\n",
      "     succoa_e      EX_succoa_e -4.755E-05        25  0.00%\n",
      "     suchms_e      EX_suchms_e  -0.002375         8  0.06%\n",
      "     td2coa_e      EX_td2coa_e -3.366E-05        35  0.00%\n",
      "      tdcoa_e       EX_tdcoa_e -3.325E-05        35  0.00%\n",
      "       thdp_e        EX_thdp_e  -0.003216         7  0.07%\n",
      "        thf_e         EX_thf_e -6.259E-05        19  0.00%\n",
      "      thmpp_e       EX_thmpp_e -1.049E-05        12  0.00%\n",
      "      u23ga_e       EX_u23ga_e -5.226E-05        43  0.01%\n",
      "      u3aga_e       EX_u3aga_e -0.0001127        31  0.01%\n",
      "      u3hga_e       EX_u3hga_e -9.518E-05        29  0.01%\n",
      "    uaagmda_e     EX_uaagmda_e -1.916E-05        95  0.01%\n",
      "      uaccg_e       EX_uaccg_e -0.0003407        20  0.02%\n",
      "     uagmda_e      EX_uagmda_e -2.137E-05        87  0.01%\n",
      "       uama_e        EX_uama_e -0.0002996        23  0.02%\n",
      "      uamag_e       EX_uamag_e -0.0002591        28  0.02%\n",
      "       uamr_e        EX_uamr_e -0.0003309        20  0.02%\n",
      "     udcpdp_e      EX_udcpdp_e -3.233E-05        55  0.01%\n",
      "      udcpp_e       EX_udcpp_e -3.235E-05        55  0.01%\n",
      "        udp_e         EX_udp_e  -0.001351         9  0.04%\n",
      "       ugmd_e        EX_ugmd_e -0.0001741        35  0.02%\n",
      "      ugmda_e       EX_ugmda_e -0.0001102        41  0.01%\n",
      "        utp_e         EX_utp_e  -0.001211         9  0.03%\n",
      "    xu5p__D_e     EX_xu5p__D_e   -0.01037         5  0.15%\n",
      "\n",
      "0.6299824939724283\n"
     ]
    }
   ],
   "source": [
    "with model as M2:\n",
    "    # Predict leakage rate\n",
    "    leakage_rate = {}\n",
    "    leakage_slope = -1.38 # From fit\n",
    "    leakage_scale = np.e**(-7.35683574)\n",
    "    leakage_cost = {}\n",
    "    leak_reactions = {}\n",
    "    # new_metabolites = []\n",
    "    for i, m_id in enumerate(flux_carrying_mets):\n",
    "        if m_id in exchanged_mets:\n",
    "            continue\n",
    "        # print(i, m_id)\n",
    "        m = M2.metabolites.get_by_id(m_id)\n",
    "        # Check if demand reaction exist\n",
    "        for r in m.reactions:\n",
    "            if r.boundary:\n",
    "                print(r)\n",
    "        try:\n",
    "            m_e = M2.metabolites.get_by_id(m_id.replace('_c','_e'))\n",
    "        except KeyError:\n",
    "            # m_e = cobra.Metabolite(m_id.replace('_c','_e'))\n",
    "            m_e = m.copy()\n",
    "            m_e.id = m_id.replace('_c','_e')\n",
    "            m_e.compartment = 'e'\n",
    "            M2.add_boundary(m_e, type='exchange')\n",
    "        else:\n",
    "            r_ex = model.reactions.get_by_id('EX_{0}'.format(m_e))\n",
    "            r_ex.upper_bound = 1000\n",
    "\n",
    "        sp = shadow_prices[m_id]\n",
    "        if sp > -1e-6:\n",
    "            # print(m_id, sp)\n",
    "            continue\n",
    "        elif np.isnan(sp):\n",
    "            continue\n",
    "        else:\n",
    "            r = cobra.Reaction('LEAK_{0}'.format(m_id))\n",
    "            r.add_metabolites({m:-1, m_e:1})\n",
    "            r.bounds = (0, 1000)\n",
    "            leak_reactions[m_id] = r\n",
    "            # leak_mets.append(m)\n",
    "            leakage_rate[m_id] = leakage_scale*np.abs(sp)**leakage_slope\n",
    "            leakage_cost[m_id] = np.abs(sp)*leakage_rate[m_id]\n",
    "\n",
    "    delta_growth = solution.objective_value*(1-0.95)\n",
    "    scale = delta_growth/sum(leakage_cost.values())\n",
    "    M2.add_reactions(leak_reactions.values())\n",
    "    for m_id, r0 in leak_reactions.items():\n",
    "        r = M2.reactions.get_by_id(r0.id)\n",
    "        lr = leakage_rate[m_id]\n",
    "        r.lower_bound = scale*lr\n",
    "        # print(m_id, scale*lr, r)\n",
    "    # print(r)\n",
    "    # r.lower_bound = 1\n",
    "    \n",
    "    M2.reactions.BIOMASS_Ec_iJO1366_core_53p95M.objective_coefficient = 1\n",
    "    solution2 = M2.optimize()\n",
    "    print(M2.summary())\n",
    "    print(solution2.objective_value)\n",
    "    \n",
    "    \n",
    "    "
   ]
  },
  {
   "cell_type": "code",
   "execution_count": 50,
   "id": "3bfcc1c7-dd52-4fef-b90f-f4f9f27506ac",
   "metadata": {},
   "outputs": [
    {
     "data": {
      "text/plain": [
       "0.032184907947618815"
      ]
     },
     "execution_count": 50,
     "metadata": {},
     "output_type": "execute_result"
    }
   ],
   "source": [
    "delta_growth"
   ]
  },
  {
   "cell_type": "code",
   "execution_count": 49,
   "id": "dc7de164-fed7-4f91-8510-d13847d3257b",
   "metadata": {},
   "outputs": [],
   "source": [
    "delta_growth = solution.objective_value*(1-0.95)\n",
    "scale = delta_growth/sum(leakage_cost.values())"
   ]
  },
  {
   "cell_type": "code",
   "execution_count": 31,
   "id": "e05fa97b-7756-4ead-8e6f-dc7e27441872",
   "metadata": {},
   "outputs": [
    {
     "data": {
      "text/plain": [
       "0.4744077487350215"
      ]
     },
     "execution_count": 31,
     "metadata": {},
     "output_type": "execute_result"
    }
   ],
   "source": []
  },
  {
   "cell_type": "code",
   "execution_count": 30,
   "id": "238a8362-6c09-4b50-b83e-7ef600a3e1fb",
   "metadata": {},
   "outputs": [
    {
     "name": "stdout",
     "output_type": "stream",
     "text": [
      "ACSERtex_TG_forward (0.0, 1000.0)\n",
      "EX_acser_e (0.0, 0.0)\n",
      "ACSERtex_TG_reverse (0.0, 1000.0)\n"
     ]
    }
   ],
   "source": [
    "for r in model.metabolites.acser_e.reactions:\n",
    "    print(r.id, r.bounds)"
   ]
  },
  {
   "cell_type": "code",
   "execution_count": 283,
   "id": "98137142-cfd9-47dd-bc21-182be485d6fc",
   "metadata": {},
   "outputs": [
    {
     "name": "stderr",
     "output_type": "stream",
     "text": [
      "Ignoring reaction 'LEAK_10fthf_c' since it already exists.\n",
      "Ignoring reaction 'LEAK_13dpg_c' since it already exists.\n",
      "Ignoring reaction 'LEAK_1ddecg3p_c' since it already exists.\n",
      "Ignoring reaction 'LEAK_1hdec9eg3p_c' since it already exists.\n",
      "Ignoring reaction 'LEAK_1hdecg3p_c' since it already exists.\n",
      "Ignoring reaction 'LEAK_1pyr5c_c' since it already exists.\n",
      "Ignoring reaction 'LEAK_23dhdp_c' since it already exists.\n",
      "Ignoring reaction 'LEAK_23dhmb_c' since it already exists.\n",
      "Ignoring reaction 'LEAK_23dhmp_c' since it already exists.\n",
      "Ignoring reaction 'LEAK_25aics_c' since it already exists.\n",
      "Ignoring reaction 'LEAK_26dap_LL_c' since it already exists.\n"
     ]
    }
   ],
   "source": [
    "model.add_reactions(leak_reactions.values())"
   ]
  },
  {
   "cell_type": "code",
   "execution_count": 284,
   "id": "581f41f4-ebc1-4847-82ec-93376e22c3aa",
   "metadata": {},
   "outputs": [
    {
     "data": {
      "text/html": [
       "\n",
       "        <table>\n",
       "            <tr>\n",
       "                <td><strong>Reaction identifier</strong></td><td>LEAK_10fthf_c</td>\n",
       "            </tr><tr>\n",
       "                <td><strong>Name</strong></td><td></td>\n",
       "            </tr><tr>\n",
       "                <td><strong>Memory address</strong></td>\n",
       "                <td>0x7fca41692ee0</td>\n",
       "            </tr><tr>\n",
       "                <td><strong>Stoichiometry</strong></td>\n",
       "                <td>\n",
       "                    <p style='text-align:right'>10fthf_c --> 10fthf_e</p>\n",
       "                    <p style='text-align:right'>10-Formyltetrahydrofolate --> 10-Formyltetrahydrofolate</p>\n",
       "                </td>\n",
       "            </tr><tr>\n",
       "                <td><strong>GPR</strong></td><td></td>\n",
       "            </tr><tr>\n",
       "                <td><strong>Lower bound</strong></td><td>0.009657670567685996</td>\n",
       "            </tr><tr>\n",
       "                <td><strong>Upper bound</strong></td><td>1000</td>\n",
       "            </tr>\n",
       "        </table>\n",
       "        "
      ],
      "text/plain": [
       "<Reaction LEAK_10fthf_c at 0x7fca41692ee0>"
      ]
     },
     "execution_count": 284,
     "metadata": {},
     "output_type": "execute_result"
    }
   ],
   "source": [
    "model.reactions.LEAK_10fthf_c"
   ]
  },
  {
   "cell_type": "code",
   "execution_count": 285,
   "id": "449c6d85-5db5-4c26-abf2-edce026feea6",
   "metadata": {},
   "outputs": [
    {
     "name": "stdout",
     "output_type": "stream",
     "text": [
      "10fthf_c 0.0028042847245541556 LEAK_10fthf_c: 10fthf_c --> 10fthf_e\n",
      "13dpg_c 0.018598979556040653 LEAK_13dpg_c: 13dpg_c --> 13dpg_e\n",
      "1ddecg3p_c 0.004614897371267048 LEAK_1ddecg3p_c: 1ddecg3p_c --> 1ddecg3p_e\n",
      "1hdec9eg3p_c 0.004239739256961746 LEAK_1hdec9eg3p_c: 1hdec9eg3p_c --> 1hdec9eg3p_e\n",
      "1hdecg3p_c 0.003948916413249949 LEAK_1hdecg3p_c: 1hdecg3p_c --> 1hdecg3p_e\n",
      "1pyr5c_c 0.01392670868114295 LEAK_1pyr5c_c: 1pyr5c_c --> 1pyr5c_e\n",
      "23dhdp_c 0.012088348467733117 LEAK_23dhdp_c: 23dhdp_c --> 23dhdp_e\n",
      "23dhmb_c 0.008290662279444106 LEAK_23dhmb_c: 23dhmb_c --> 23dhmb_e\n",
      "23dhmp_c 0.008078527419470256 LEAK_23dhmp_c: 23dhmp_c --> 23dhmp_e\n",
      "25aics_c 0.005065327869626255 LEAK_25aics_c: 25aics_c --> 25aics_e\n",
      "26dap_LL_c 0.010284338954929976 LEAK_26dap_LL_c: 26dap_LL_c --> 26dap_LL_e\n",
      "26dap__M_c 0.010202007074011513 LEAK_26dap__M_c: 26dap__M_c --> 26dap__M_e\n",
      "2ahbut_c 0.010709085327625814 LEAK_2ahbut_c: 2ahbut_c --> 2ahbut_e\n",
      "2cpr5p_c 0.005473955970806087 LEAK_2cpr5p_c: 2cpr5p_c --> 2cpr5p_e\n",
      "2dda7p_c 0.013826218766526678 LEAK_2dda7p_c: 2dda7p_c --> 2dda7p_e\n",
      "2ddg6p_c 0.0167238531487539 LEAK_2ddg6p_c: 2ddg6p_c --> 2ddg6p_e\n",
      "2fe2s_c 0.0032679713358072463 LEAK_2fe2s_c: 2fe2s_c --> 2fe2s_e\n",
      "2ippm_c 0.005720331924593114 LEAK_2ippm_c: 2ippm_c --> 2ippm_e\n",
      "2obut_c 0.011632034893481337 LEAK_2obut_c: 2obut_c --> 2obut_e\n",
      "2ohph_c 0.002365508976957304 LEAK_2ohph_c: 2ohph_c --> 2ohph_e\n",
      "2pg_c 0.0234198574930647 LEAK_2pg_c: 2pg_c --> 2pg_e\n",
      "34hpp_c 0.009801760196864994 LEAK_34hpp_c: 34hpp_c --> 34hpp_e\n",
      "3c2hmp_c 0.005049615415009327 LEAK_3c2hmp_c: 3c2hmp_c --> 3c2hmp_e\n",
      "3c3hmp_c 0.006756945742796113 LEAK_3c3hmp_c: 3c3hmp_c --> 3c3hmp_e\n",
      "3c4mop_c 0.005034290115729735 LEAK_3c4mop_c: 3c4mop_c --> 3c4mop_e\n",
      "3dhq_c 0.014195112726897753 LEAK_3dhq_c: 3dhq_c --> 3dhq_e\n",
      "3dhsk_c 0.014000319564288021 LEAK_3dhsk_c: 3dhsk_c --> 3dhsk_e\n",
      "3hddecACP_c 0.007965941967106989 LEAK_3hddecACP_c: 3hddecACP_c --> 3hddecACP_e\n",
      "3hdecACP_c 0.011670291163665065 LEAK_3hdecACP_c: 3hdecACP_c --> 3hdecACP_e\n",
      "3hhdcoa_c 0.002224484031365833 LEAK_3hhdcoa_c: 3hhdcoa_c --> 3hhdcoa_e\n",
      "3hmrsACP_c 0.006431511704906115 LEAK_3hmrsACP_c: 3hmrsACP_c --> 3hmrsACP_e\n",
      "3hpalmACP_c 0.005539173487209198 LEAK_3hpalmACP_c: 3hpalmACP_c --> 3hpalmACP_e\n",
      "3htdcoa_c 0.002241270513868734 LEAK_3htdcoa_c: 3htdcoa_c --> 3htdcoa_e\n",
      "3ig3p_c 0.005046379063019163 LEAK_3ig3p_c: 3ig3p_c --> 3ig3p_e\n",
      "3mob_c 0.008165400415808273 LEAK_3mob_c: 3mob_c --> 3mob_e\n",
      "3mop_c 0.007962504741588725 LEAK_3mop_c: 3mop_c --> 3mop_e\n",
      "3oddecACP_c 0.00808488412072785 LEAK_3oddecACP_c: 3oddecACP_c --> 3oddecACP_e\n",
      "3odecACP_c 0.012054224562588041 LEAK_3odecACP_c: 3odecACP_c --> 3odecACP_e\n"
     ]
    }
   ],
   "source": [
    "for m_id, r0 in leak_reactions.items():\n",
    "    r = model.reactions.get_by_id(r0.id)\n",
    "    lr = leakage_rate[m_id]\n",
    "    r.lower_bound = scale*lr\n",
    "    print(m_id, scale*lr, r)\n"
   ]
  },
  {
   "cell_type": "code",
   "execution_count": 286,
   "id": "7b5111fd-6542-45f2-8f7a-0ec8ced7d5f4",
   "metadata": {},
   "outputs": [],
   "source": [
    "model.reactions.EX_10fthf_e.lower_bound = leakage_rate['10fthf_c']*scale"
   ]
  },
  {
   "cell_type": "code",
   "execution_count": 287,
   "id": "9e5f85a1-0f5e-493a-bcfd-6eebbc5da06e",
   "metadata": {},
   "outputs": [
    {
     "data": {
      "text/plain": [
       "1.2340391637257282"
      ]
     },
     "execution_count": 287,
     "metadata": {},
     "output_type": "execute_result"
    }
   ],
   "source": [
    "leakage_rate['10fthf_c']"
   ]
  },
  {
   "cell_type": "code",
   "execution_count": 288,
   "id": "02f2b0c0-000b-4d6c-bd9f-43670c506515",
   "metadata": {},
   "outputs": [],
   "source": [
    "model.reactions.BIOMASS_Ec_iJO1366_core_53p95M.objective_coefficient = 1"
   ]
  },
  {
   "cell_type": "code",
   "execution_count": 289,
   "id": "b4b918fe-772b-46ec-9d11-9b1d8649c331",
   "metadata": {},
   "outputs": [
    {
     "name": "stderr",
     "output_type": "stream",
     "text": [
      "/Users/ssulheim/opt/anaconda3/lib/python3.9/site-packages/cobra/util/solver.py:554: UserWarning: Solver status is 'infeasible'.\n",
      "  warn(f\"Solver status is '{status}'.\", UserWarning)\n"
     ]
    },
    {
     "data": {
      "text/html": [
       "<strong><em>infeasible</em> solution</strong>"
      ],
      "text/plain": [
       "<Solution infeasible at 0x7fca59232f10>"
      ]
     },
     "execution_count": 289,
     "metadata": {},
     "output_type": "execute_result"
    }
   ],
   "source": [
    "model.optimize()"
   ]
  },
  {
   "cell_type": "code",
   "execution_count": 271,
   "id": "b4960444-fe3e-42be-a4a9-bf3bb97f231e",
   "metadata": {},
   "outputs": [
    {
     "data": {
      "text/plain": [
       "(0, 1000)"
      ]
     },
     "execution_count": 271,
     "metadata": {},
     "output_type": "execute_result"
    }
   ],
   "source": [
    "model.reactions.LEAK_13dpg_c.bounds"
   ]
  },
  {
   "cell_type": "markdown",
   "id": "1f233dec-738b-425b-904b-827c40b78e47",
   "metadata": {},
   "source": [
    "# Implementation 1 - seems to not working when the number of leakage-reactions increases above 20 ish\n",
    "## Now actually add these reactions"
   ]
  },
  {
   "cell_type": "code",
   "execution_count": 99,
   "id": "32fdabe5-5b7f-4616-8b6d-00479a9db279",
   "metadata": {},
   "outputs": [],
   "source": [
    "model = cobra.io.read_sbml_model('../models/e_coli/momentiJO1366.xml')\n",
    "model.solver = 'gurobi'"
   ]
  },
  {
   "cell_type": "code",
   "execution_count": 100,
   "id": "f45886e3-8509-4354-bfa1-7edc047da243",
   "metadata": {},
   "outputs": [],
   "source": [
    "model.reactions.DHAPT.knock_out()\n",
    "model.reactions.THRA.knock_out()\n",
    "model.reactions.THRA2.knock_out()\n",
    "model.reactions.F6PA_TG_forward.knock_out()"
   ]
  },
  {
   "cell_type": "code",
   "execution_count": 101,
   "id": "438dc69b-9101-491a-b602-7099f12bf408",
   "metadata": {},
   "outputs": [],
   "source": [
    "model.reactions.EX_glc__D_e.lower_bound = -10\n"
   ]
  },
  {
   "cell_type": "code",
   "execution_count": 140,
   "id": "345e7ab8-f51a-4e17-973b-d69b4fccc9ff",
   "metadata": {},
   "outputs": [
    {
     "ename": "TypeError",
     "evalue": "'set' object is not callable",
     "output_type": "error",
     "traceback": [
      "\u001b[0;31m---------------------------------------------------------------------------\u001b[0m",
      "\u001b[0;31mTypeError\u001b[0m                                 Traceback (most recent call last)",
      "\u001b[0;32m/var/folders/h6/4b_zz_cd5d92w2ycp017ytn00000gp/T/ipykernel_4260/2033101861.py\u001b[0m in \u001b[0;36m<module>\u001b[0;34m\u001b[0m\n\u001b[0;32m----> 1\u001b[0;31m \u001b[0mmodel\u001b[0m\u001b[0;34m.\u001b[0m\u001b[0mobjective\u001b[0m\u001b[0;34m.\u001b[0m\u001b[0mvariables\u001b[0m\u001b[0;34m(\u001b[0m\u001b[0;36m0\u001b[0m\u001b[0;34m)\u001b[0m\u001b[0;34m\u001b[0m\u001b[0;34m\u001b[0m\u001b[0m\n\u001b[0m",
      "\u001b[0;31mTypeError\u001b[0m: 'set' object is not callable"
     ]
    }
   ],
   "source": [
    "model.objective.variables"
   ]
  },
  {
   "cell_type": "code",
   "execution_count": 102,
   "id": "1afed057-4b8e-4bfc-b333-7b0aa4e167d5",
   "metadata": {},
   "outputs": [
    {
     "name": "stdout",
     "output_type": "stream",
     "text": [
      "Objective\n",
      "=========\n",
      "1.0 BIOMASS_Ec_iJO1366_core_53p95M = 0.6436981589523757\n",
      "\n",
      "Uptake\n",
      "------\n",
      "Metabolite     Reaction      Flux  C-Number  C-Flux\n",
      " prot_pool  ER_pool_TG_     0.095         0   0.00%\n",
      "     ca2_e     EX_ca2_e   0.00335         0   0.00%\n",
      "      cl_e      EX_cl_e   0.00335         0   0.00%\n",
      " cobalt2_e EX_cobalt2_e 1.609E-05         0   0.00%\n",
      "     cu2_e     EX_cu2_e 0.0004564         0   0.00%\n",
      "     fe2_e     EX_fe2_e   0.01034         0   0.00%\n",
      "  glc__D_e  EX_glc__D_e        10         6 100.00%\n",
      "       k_e       EX_k_e    0.1256         0   0.00%\n",
      "     mg2_e     EX_mg2_e  0.005584         0   0.00%\n",
      "     mn2_e     EX_mn2_e 0.0004448         0   0.00%\n",
      "    mobd_e    EX_mobd_e 8.304E-05         0   0.00%\n",
      "     nh4_e     EX_nh4_e     6.952         0   0.00%\n",
      "     ni2_e     EX_ni2_e 0.0002079         0   0.00%\n",
      "      o2_e      EX_o2_e      17.6         0   0.00%\n",
      "      pi_e      EX_pi_e    0.6209         0   0.00%\n",
      "     so4_e     EX_so4_e    0.1623         0   0.00%\n",
      "     zn2_e     EX_zn2_e 0.0002195         0   0.00%\n",
      "\n",
      "Secretion\n",
      "---------\n",
      "Metabolite    Reaction       Flux  C-Number C-Flux\n",
      "  4crsol_c DM_4crsol_c -0.0001435         7  0.00%\n",
      "   5drib_c  DM_5drib_c -0.0001448         5  0.00%\n",
      "    amob_c   DM_amob_c -1.287E-06        15  0.00%\n",
      "  mththf_c DM_mththf_c -0.0002884         5  0.00%\n",
      "      ac_e     EX_ac_e     -7.302         2 43.49%\n",
      "     co2_e    EX_co2_e     -18.97         1 56.50%\n",
      "     h2o_e    EX_h2o_e     -35.97         0  0.00%\n",
      "       h_e      EX_h_e     -13.22         0  0.00%\n",
      "    meoh_e   EX_meoh_e -1.287E-06         1  0.00%\n",
      "\n"
     ]
    }
   ],
   "source": [
    "solution = model.optimize()\n",
    "print(model.summary())"
   ]
  },
  {
   "cell_type": "code",
   "execution_count": 135,
   "id": "c831b95e-94a1-4e15-adfc-b7011413b6de",
   "metadata": {},
   "outputs": [
    {
     "name": "stderr",
     "output_type": "stream",
     "text": [
      "Non-linear or non-reaction model objective. Falling back to minimal display.\n"
     ]
    },
    {
     "name": "stdout",
     "output_type": "stream",
     "text": [
      "Objective\n",
      "=========\n",
      "nan Expression = nan\n",
      "\n",
      "Uptake\n",
      "------\n",
      "Metabolite     Reaction      Flux  C-Number  C-Flux\n",
      " prot_pool  ER_pool_TG_     0.095         0   0.00%\n",
      "     ca2_e     EX_ca2_e  0.003183         0   0.00%\n",
      "      cl_e      EX_cl_e  0.003183         0   0.00%\n",
      " cobalt2_e EX_cobalt2_e 1.529E-05         0   0.00%\n",
      "     cu2_e     EX_cu2_e 0.0004981         0   0.00%\n",
      "     fe2_e     EX_fe2_e    0.6587         0   0.00%\n",
      "  glc__D_e  EX_glc__D_e        10         6 100.00%\n",
      "       k_e       EX_k_e    0.1194         0   0.00%\n",
      "     mg2_e     EX_mg2_e  0.005305         0   0.00%\n",
      "     mn2_e     EX_mn2_e 0.0004226         0   0.00%\n",
      "    mobd_e    EX_mobd_e 7.889E-05         0   0.00%\n",
      "     nh4_e     EX_nh4_e     6.985         0   0.00%\n",
      "     ni2_e     EX_ni2_e 0.0001975         0   0.00%\n",
      "      o2_e      EX_o2_e     19.01         0   0.00%\n",
      "      pi_e      EX_pi_e     1.368         0   0.00%\n",
      "     so4_e     EX_so4_e    0.1592         0   0.00%\n",
      "     zn2_e     EX_zn2_e 0.0002085         0   0.00%\n",
      "\n",
      "Secretion\n",
      "---------\n",
      "   Metabolite         Reaction       Flux  C-Number C-Flux\n",
      "     4crsol_c      DM_4crsol_c  -0.001103         7  0.02%\n",
      "      5drib_c       DM_5drib_c  -0.001104         5  0.02%\n",
      "       amob_c        DM_amob_c -1.223E-06        15  0.00%\n",
      "     10fthf_e      EX_10fthf_e  -8.93E-05        20  0.01%\n",
      "      13dpg_e       EX_13dpg_e   -0.01657         3  0.14%\n",
      "   1ddecg3p_e    EX_1ddecg3p_e -0.0003537        15  0.02%\n",
      " 1hdec9eg3p_e  EX_1hdec9eg3p_e -0.0002799        19  0.02%\n",
      "   1hdecg3p_e    EX_1hdecg3p_e -0.0002301        19  0.01%\n",
      "     1pyr5c_e      EX_1pyr5c_e  -0.007458         5  0.11%\n",
      "     23dhdp_e      EX_23dhdp_e  -0.005046         7  0.10%\n",
      "     23dhmb_e      EX_23dhmb_e  -0.001782         5  0.03%\n",
      "     23dhmp_e      EX_23dhmp_e  -0.001659         6  0.03%\n",
      "     25aics_e      EX_25aics_e -0.0004574        13  0.02%\n",
      "    25drapp_e     EX_25drapp_e -0.0003428         9  0.01%\n",
      "   26dap_LL_e    EX_26dap_LL_e   -0.00323         7  0.06%\n",
      "     2ahbut_e      EX_2ahbut_e  -0.003612         6  0.06%\n",
      "     2cpr5p_e      EX_2cpr5p_e -0.0005666        12  0.02%\n",
      "     2dda7p_e      EX_2dda7p_e   -0.00731         7  0.15%\n",
      "     2ddg6p_e      EX_2ddg6p_e   -0.01236         6  0.21%\n",
      "       2dhp_e        EX_2dhp_e -0.0008129         6  0.01%\n",
      "      2fe2s_e       EX_2fe2s_e -0.0001363         0  0.00%\n",
      "      2ippm_e       EX_2ippm_e -0.0006398         7  0.01%\n",
      "     2mahmp_e      EX_2mahmp_e -6.699E-05         6  0.00%\n",
      "      2me4p_e       EX_2me4p_e  -0.004336         5  0.06%\n",
      "     2mecdp_e      EX_2mecdp_e  -0.002172         5  0.03%\n",
      "      2obut_e       EX_2obut_e  -0.004537         4  0.05%\n",
      "      2ohph_e       EX_2ohph_e -5.593E-05        46  0.01%\n",
      "       2oph_e        EX_2oph_e   -5.6E-05        46  0.01%\n",
      "    2p4c2me_e     EX_2p4c2me_e  -0.000683        14  0.03%\n",
      "        2pg_e         EX_2pg_e   -0.03131         3  0.27%\n",
      "      34hpp_e       EX_34hpp_e  -0.002829         9  0.07%\n",
      "     3c2hmp_e      EX_3c2hmp_e -0.0004535         7  0.01%\n",
      "     3c3hmp_e      EX_3c3hmp_e  -0.001013         7  0.02%\n",
      "     3c4mop_e      EX_3c4mop_e -0.0004497         7  0.01%\n",
      "       3dhq_e        EX_3dhq_e  -0.007861         7  0.16%\n",
      "      3dhsk_e       EX_3dhsk_e  -0.007567         7  0.15%\n",
      "      3fe4s_e       EX_3fe4s_e -5.155E-05         0  0.00%\n",
      "    3hhdcoa_e     EX_3hhdcoa_e -4.715E-05        37  0.00%\n",
      "    3htdcoa_e     EX_3htdcoa_e -4.813E-05        35  0.00%\n",
      "      3ig3p_e       EX_3ig3p_e -0.0004527        11  0.01%\n",
      "       3mob_e        EX_3mob_e  -0.001709         5  0.02%\n",
      "       3mop_e        EX_3mop_e  -0.001594         6  0.03%\n",
      "    3ohdcoa_e     EX_3ohdcoa_e -4.725E-05        37  0.01%\n",
      "      3ophb_e       EX_3ophb_e -5.604E-05        47  0.01%\n",
      "    3otdcoa_e     EX_3otdcoa_e -4.823E-05        35  0.00%\n",
      "        3pg_e         EX_3pg_e   -0.03185         3  0.27%\n",
      "       3php_e        EX_3php_e    -0.0258         3  0.22%\n",
      "      3psme_e       EX_3psme_e  -0.003186        10  0.09%\n",
      "       4abz_e        EX_4abz_e -0.0002699         7  0.01%\n",
      "     4adcho_e      EX_4adcho_e -0.0002659        10  0.01%\n",
      "      4ampm_e       EX_4ampm_e -0.0005897         6  0.01%\n",
      "      4c2me_e       EX_4c2me_e  -0.000728        14  0.03%\n",
      "      4fe4s_e       EX_4fe4s_e -5.165E-05         0  0.00%\n",
      "       4hbz_e        EX_4hbz_e  -0.001485         7  0.03%\n",
      "       4mop_e        EX_4mop_e -0.0004517         6  0.01%\n",
      "     4mpetz_e      EX_4mpetz_e -0.0001241         6  0.00%\n",
      "      4pasp_e       EX_4pasp_e  -0.009097         4  0.10%\n",
      "       4per_e        EX_4per_e   -0.01465         4  0.17%\n",
      "      4ppan_e       EX_4ppan_e -0.0004981         9  0.01%\n",
      "     4ppcys_e      EX_4ppcys_e -0.0001392        12  0.00%\n",
      "      4r5au_e       EX_4r5au_e -0.0003409         9  0.01%\n",
      "      5aizc_e       EX_5aizc_e -0.0005233         9  0.01%\n",
      "       5aop_e        EX_5aop_e -0.0003286         5  0.00%\n",
      "     5aprbu_e      EX_5aprbu_e -0.0003382         9  0.01%\n",
      "      5apru_e       EX_5apru_e -0.0003432         9  0.01%\n",
      "      5caiz_e       EX_5caiz_e -0.0005337         9  0.01%\n",
      "      5mthf_e       EX_5mthf_e -9.002E-05        20  0.01%\n",
      "     6hmhpt_e      EX_6hmhpt_e -0.0002356         7  0.00%\n",
      "   6hmhptpp_e    EX_6hmhptpp_e -0.0002236         7  0.00%\n",
      "       6pgc_e        EX_6pgc_e   -0.01329         6  0.23%\n",
      "       6pgl_e        EX_6pgl_e   -0.01544         6  0.27%\n",
      "         ac_e          EX_ac_e     -5.371         2 30.78%\n",
      "      accoa_e       EX_accoa_e -6.932E-05        23  0.00%\n",
      "      acg5p_e       EX_acg5p_e  -0.003556         7  0.07%\n",
      "     acg5sa_e      EX_acg5sa_e  -0.003435         7  0.07%\n",
      "      acglu_e       EX_acglu_e  -0.004395         7  0.09%\n",
      "     acon_C_e      EX_acon_C_e   -0.01356         6  0.23%\n",
      "      acorn_e       EX_acorn_e  -0.001294         7  0.03%\n",
      "      acser_e       EX_acser_e  -0.001738         5  0.02%\n",
      "       actp_e        EX_actp_e   -0.05785         2  0.33%\n",
      "        adp_e         EX_adp_e -0.0003275        10  0.01%\n",
      "      ahcys_e       EX_ahcys_e -0.0001085        14  0.00%\n",
      "       ahdt_e        EX_ahdt_e -0.0003287         9  0.01%\n",
      "      aicar_e       EX_aicar_e -0.0004958         9  0.01%\n",
      "        air_e         EX_air_e -0.0005865         8  0.01%\n",
      "        akg_e         EX_akg_e   -0.01482         5  0.21%\n",
      "    alac__S_e     EX_alac__S_e    -0.0255         5  0.37%\n",
      "       amet_e        EX_amet_e -0.0001089        15  0.00%\n",
      "       anth_e        EX_anth_e  -0.001768         7  0.04%\n",
      "        aps_e         EX_aps_e -0.0002816        10  0.01%\n",
      "      ara5p_e       EX_ara5p_e   -0.01363         5  0.20%\n",
      "     argsuc_e      EX_argsuc_e -0.0009145        10  0.03%\n",
      "      aspsa_e       EX_aspsa_e   -0.00861         4  0.10%\n",
      "        atp_e         EX_atp_e -0.0003177        10  0.01%\n",
      "      cbasp_e       EX_cbasp_e   -0.01114         5  0.16%\n",
      "        cbp_e         EX_cbp_e    -0.0445         1  0.13%\n",
      "        cdp_e         EX_cdp_e  -0.001148         9  0.03%\n",
      "cdpdhdec9eg_e EX_cdpdhdec9eg_e -8.733E-05        44  0.01%\n",
      "  cdpdhdecg_e   EX_cdpdhdecg_e -7.365E-05        44  0.01%\n",
      "       chor_e        EX_chor_e  -0.002785        10  0.08%\n",
      "    citr__L_e     EX_citr__L_e  -0.001182         6  0.02%\n",
      "       ckdo_e        EX_ckdo_e -0.0004939        17  0.02%\n",
      "        co2_e         EX_co2_e      -18.2         1 52.15%\n",
      "        coa_e         EX_coa_e -6.987E-05        21  0.00%\n",
      "       cpmp_e        EX_cpmp_e -0.0003407        10  0.01%\n",
      "     cpppg3_e      EX_cpppg3_e -1.443E-05        36  0.00%\n",
      "        ctp_e         EX_ctp_e  -0.001064         9  0.03%\n",
      "    cyst__L_e     EX_cyst__L_e -0.0002933         7  0.01%\n",
      "       datp_e        EX_datp_e -0.0003132        10  0.01%\n",
      "       db4p_e        EX_db4p_e   -0.01467         4  0.17%\n",
      "      dcamp_e       EX_dcamp_e -0.0003185        14  0.01%\n",
      "       dctp_e        EX_dctp_e  -0.001029         9  0.03%\n",
      "    ddcacoa_e     EX_ddcacoa_e -4.853E-05        33  0.00%\n",
      "      ddcap_e       EX_ddcap_e -0.0003906        12  0.01%\n",
      "       dgtp_e        EX_dgtp_e -0.0003264        10  0.01%\n",
      "       dhap_e        EX_dhap_e   -0.01694         3  0.15%\n",
      "        dhf_e         EX_dhf_e -8.994E-05        19  0.00%\n",
      "      dhgly_e       EX_dhgly_e -0.0007932         2  0.00%\n",
      "      dhnpt_e       EX_dhnpt_e   -0.00033         9  0.01%\n",
      "    dhor__S_e     EX_dhor__S_e   -0.01084         5  0.16%\n",
      "      dhpmp_e       EX_dhpmp_e -0.0003275         9  0.01%\n",
      "       dhpt_e        EX_dhpt_e   -9.5E-05        14  0.00%\n",
      "      dhptd_e       EX_dhptd_e -0.0003341         5  0.00%\n",
      "       dmlz_e        EX_dmlz_e -0.0001759        13  0.01%\n",
      "       dmpp_e        EX_dmpp_e  -0.001363         5  0.02%\n",
      "       dnad_e        EX_dnad_e -0.0002525        21  0.02%\n",
      "      dpcoa_e       EX_dpcoa_e -7.133E-05        21  0.00%\n",
      "       dscl_e        EX_dscl_e -1.082E-05        42  0.00%\n",
      "       dtdp_e        EX_dtdp_e   -0.00124        10  0.04%\n",
      "       dttp_e        EX_dttp_e  -0.001144        10  0.03%\n",
      "       dutp_e        EX_dutp_e   -0.00165         9  0.04%\n",
      "     dxyl5p_e      EX_dxyl5p_e  -0.004674         5  0.07%\n",
      "        e4p_e         EX_e4p_e   -0.01486         4  0.17%\n",
      "      eig3p_e       EX_eig3p_e -0.0007449         6  0.01%\n",
      "        fad_e         EX_fad_e  -1.63E-05        27  0.00%\n",
      "      fadh2_e       EX_fadh2_e -1.629E-05        27  0.00%\n",
      "        fdp_e         EX_fdp_e  -0.008269         6  0.14%\n",
      "        fe3_e         EX_fe3_e    -0.6482         0  0.00%\n",
      "       fgam_e        EX_fgam_e -0.0006821         8  0.02%\n",
      "        fmn_e         EX_fmn_e  -9.29E-05        17  0.00%\n",
      "      fpram_e       EX_fpram_e -0.0006172         8  0.01%\n",
      "     fprica_e      EX_fprica_e -0.0004894        10  0.01%\n",
      "       frdp_e        EX_frdp_e -0.0002075        15  0.01%\n",
      "        fum_e         EX_fum_e   -0.02157         4  0.25%\n",
      "        g3p_e         EX_g3p_e   -0.01693         3  0.15%\n",
      "      gam1p_e       EX_gam1p_e  -0.001543         6  0.03%\n",
      "        gar_e         EX_gar_e -0.0007278         7  0.01%\n",
      "        gdp_e         EX_gdp_e  -0.000342        10  0.01%\n",
      "     glu1sa_e      EX_glu1sa_e  -0.001063         5  0.02%\n",
      "      glu5p_e       EX_glu5p_e  -0.008269         5  0.12%\n",
      "     glu5sa_e      EX_glu5sa_e  -0.007712         5  0.11%\n",
      "     glu__D_e      EX_glu__D_e   -0.01238         5  0.18%\n",
      "        glx_e         EX_glx_e   -0.05154         2  0.30%\n",
      "       grdp_e        EX_grdp_e -0.0003131        10  0.01%\n",
      "      gthox_e       EX_gthox_e -7.367E-05        20  0.00%\n",
      "        gtp_e         EX_gtp_e -0.0003312        10  0.01%\n",
      "     h2mb4p_e      EX_h2mb4p_e  -0.002051         5  0.03%\n",
      "       h2o2_e        EX_h2o2_e    -0.3623         0  0.00%\n",
      "        h2o_e         EX_h2o_e     -36.53         0  0.00%\n",
      "        h2s_e         EX_h2s_e -0.0006031         0  0.00%\n",
      "          h_e           EX_h_e     -12.66         0  0.00%\n",
      "       hco3_e        EX_hco3_e      -1.28         1  3.67%\n",
      "    hcys__L_e     EX_hcys__L_e -0.0002989         4  0.00%\n",
      "      hdcap_e       EX_hdcap_e -0.0002472        16  0.01%\n",
      "     hdceap_e      EX_hdceap_e -0.0003042        16  0.01%\n",
      "      hdcoa_e       EX_hdcoa_e -4.706E-05        37  0.00%\n",
      "    hdd2coa_e     EX_hdd2coa_e -4.714E-05        37  0.00%\n",
      "       hisp_e        EX_hisp_e -0.0007262         6  0.01%\n",
      "      histd_e       EX_histd_e -0.0007354         6  0.01%\n",
      "      hmbil_e       EX_hmbil_e -1.442E-05        40  0.00%\n",
      "     hom__L_e      EX_hom__L_e   -0.00673         4  0.08%\n",
      "       iasp_e        EX_iasp_e   -0.01966         4  0.23%\n",
      "       icit_e        EX_icit_e   -0.01266         6  0.22%\n",
      "      imacp_e       EX_imacp_e  -0.000744         6  0.01%\n",
      "       ipdp_e        EX_ipdp_e  -0.001363         5  0.02%\n",
      "      kdo8p_e       EX_kdo8p_e  -0.006422         8  0.15%\n",
      "        kdo_e         EX_kdo_e  -0.001527         8  0.03%\n",
      "  kdolipid4_e   EX_kdolipid4_e -2.891E-05        76  0.01%\n",
      "     lipidA_e      EX_lipidA_e -3.164E-05        68  0.01%\n",
      "   lipidAds_e    EX_lipidAds_e -3.263E-05        68  0.01%\n",
      "     lipidX_e      EX_lipidX_e -8.439E-05        34  0.01%\n",
      "     malcoa_e      EX_malcoa_e -6.566E-05        24  0.00%\n",
      "     mdhdhf_e      EX_mdhdhf_e -0.0003341         5  0.00%\n",
      "       meoh_e        EX_meoh_e -1.223E-06         1  0.00%\n",
      "      methf_e       EX_methf_e -8.942E-05        20  0.01%\n",
      "      mlthf_e       EX_mlthf_e -9.033E-05        20  0.01%\n",
      "        mpt_e         EX_mpt_e -6.459E-05        10  0.00%\n",
      "        nad_e         EX_nad_e -0.0001984        21  0.01%\n",
      "       nadh_e        EX_nadh_e -0.0001967        21  0.01%\n",
      "       nadp_e        EX_nadp_e -0.0001913        21  0.01%\n",
      "      nadph_e       EX_nadph_e -0.0001894        21  0.01%\n",
      "     nicrnt_e      EX_nicrnt_e  -0.003073        11  0.10%\n",
      "        oaa_e         EX_oaa_e   -0.02563         4  0.29%\n",
      "      octdp_e       EX_octdp_e -6.356E-05        40  0.01%\n",
      "       ohpb_e        EX_ohpb_e  -0.001911         4  0.02%\n",
      "     orot5p_e      EX_orot5p_e  -0.002271        10  0.07%\n",
      "      pa120_e       EX_pa120_e -0.0001431        27  0.01%\n",
      "      pa160_e       EX_pa160_e  -9.18E-05        35  0.01%\n",
      "      pa161_e       EX_pa161_e -0.0001124        35  0.01%\n",
      "      pan4p_e       EX_pan4p_e -0.0001252        11  0.00%\n",
      "    pant__R_e     EX_pant__R_e -0.0007681         6  0.01%\n",
      "        pap_e         EX_pap_e -0.0003476        10  0.01%\n",
      "       paps_e        EX_paps_e -0.0002722        10  0.01%\n",
      "      pdx5p_e       EX_pdx5p_e -0.0006669         8  0.02%\n",
      "      pe160_e       EX_pe160_e -7.703E-05        37  0.01%\n",
      "      pe161_e       EX_pe161_e -9.188E-05        37  0.01%\n",
      "        pep_e         EX_pep_e   -0.02662         3  0.23%\n",
      "      pheme_e       EX_pheme_e -9.673E-06        34  0.00%\n",
      "       phom_e        EX_phom_e  -0.004394         4  0.05%\n",
      "      phpyr_e       EX_phpyr_e  -0.002821         9  0.07%\n",
      "      phthr_e       EX_phthr_e -0.0009555         4  0.01%\n",
      "      ppbng_e       EX_ppbng_e -0.0001245        10  0.00%\n",
      "       pphn_e        EX_pphn_e  -0.002785        10  0.08%\n",
      "        ppi_e         EX_ppi_e   -0.05897         0  0.00%\n",
      "       ppp9_e        EX_ppp9_e -1.347E-05        34  0.00%\n",
      "      pppg9_e       EX_pppg9_e -1.375E-05        34  0.00%\n",
      "       pram_e        EX_pram_e  -0.005975         5  0.09%\n",
      "       pran_e        EX_pran_e -0.0005699        12  0.02%\n",
      "     prbamp_e      EX_prbamp_e -0.0002507        15  0.01%\n",
      "     prbatp_e      EX_prbatp_e -0.0002453        15  0.01%\n",
      "       prfp_e        EX_prfp_e -0.0002419        15  0.01%\n",
      "       prlp_e        EX_prlp_e  -0.000237        15  0.01%\n",
      "       prpp_e        EX_prpp_e   -0.00613         5  0.09%\n",
      "      ps160_e       EX_ps160_e -7.701E-05        38  0.01%\n",
      "      ps161_e       EX_ps161_e -9.186E-05        38  0.01%\n",
      "     pydx5p_e      EX_pydx5p_e -0.0006772         8  0.02%\n",
      "        pyr_e         EX_pyr_e   -0.09313         3  0.80%\n",
      "         q8_e          EX_q8_e -2.421E-05        49  0.00%\n",
      "       q8h2_e        EX_q8h2_e -2.418E-05        49  0.00%\n",
      "       quln_e        EX_quln_e  -0.007306         7  0.15%\n",
      "      r15bp_e       EX_r15bp_e  -0.008281         5  0.12%\n",
      "        r1p_e         EX_r1p_e   -0.01248         5  0.18%\n",
      "        r5p_e         EX_r5p_e   -0.01362         5  0.20%\n",
      "      rhcys_e       EX_rhcys_e -0.0002004         9  0.01%\n",
      "     ribflv_e      EX_ribflv_e -0.0001005        17  0.00%\n",
      "    ru5p__D_e     EX_ru5p__D_e   -0.01416         5  0.20%\n",
      "        s7p_e         EX_s7p_e   -0.01214         7  0.24%\n",
      "        scl_e         EX_scl_e -1.081E-05        42  0.00%\n",
      "      sheme_e       EX_sheme_e  -1.08E-05        42  0.00%\n",
      "      skm5p_e       EX_skm5p_e   -0.00491         7  0.10%\n",
      "     sl26da_e      EX_sl26da_e  -0.002384        11  0.08%\n",
      "     sl2a6o_e      EX_sl2a6o_e  -0.002862        11  0.09%\n",
      "        so3_e         EX_so3_e -0.0006335         0  0.00%\n",
      "     succoa_e      EX_succoa_e -6.798E-05        25  0.00%\n",
      "     suchms_e      EX_suchms_e  -0.003395         8  0.08%\n",
      "     td2coa_e      EX_td2coa_e -4.812E-05        35  0.00%\n",
      "      tdcoa_e       EX_tdcoa_e -4.754E-05        35  0.00%\n",
      "       thdp_e        EX_thdp_e  -0.004597         7  0.09%\n",
      "        thf_e         EX_thf_e -8.947E-05        19  0.00%\n",
      "      thmmp_e       EX_thmmp_e -3.394E-05        12  0.00%\n",
      "      thmpp_e       EX_thmpp_e -1.499E-05        12  0.00%\n",
      "      u23ga_e       EX_u23ga_e -7.471E-05        43  0.01%\n",
      "      u3aga_e       EX_u3aga_e  -0.000161        31  0.01%\n",
      "      u3hga_e       EX_u3hga_e -0.0001361        29  0.01%\n",
      "    uaagmda_e     EX_uaagmda_e -2.739E-05        95  0.01%\n",
      "      uaccg_e       EX_uaccg_e  -0.000487        20  0.03%\n",
      "     uagmda_e      EX_uagmda_e -3.055E-05        87  0.01%\n",
      "       uama_e        EX_uama_e -0.0004282        23  0.03%\n",
      "      uamag_e       EX_uamag_e -0.0003703        28  0.03%\n",
      "       uamr_e        EX_uamr_e  -0.000473        20  0.03%\n",
      "     udcpdp_e      EX_udcpdp_e -4.621E-05        55  0.01%\n",
      "      udcpp_e       EX_udcpp_e -4.624E-05        55  0.01%\n",
      "        udp_e         EX_udp_e  -0.001931         9  0.05%\n",
      "       ugmd_e        EX_ugmd_e -0.0002489        35  0.02%\n",
      "      ugmda_e       EX_ugmda_e -0.0001575        41  0.02%\n",
      "      uppg3_e       EX_uppg3_e -1.442E-05        40  0.00%\n",
      "        utp_e         EX_utp_e  -0.001731         9  0.04%\n",
      "    xu5p__D_e     EX_xu5p__D_e   -0.01482         5  0.21%\n",
      "\n",
      "0.6115132510047568\n"
     ]
    }
   ],
   "source": [
    "with model as M:\n",
    "    scale = M.problem.Variable('leakage_scale')\n",
    "    M.add_cons_vars([scale])\n",
    "    \n",
    "    leak_reactions = []\n",
    "    leak_mets = []\n",
    "    for i, m_id in enumerate(flux_carrying_mets):\n",
    "        if m_id in exchanged_mets:\n",
    "            continue\n",
    "            \n",
    "        sp = shadow_prices[m_id]\n",
    "        if (sp > -1e-6) or np.isnan(sp):\n",
    "            # print(m_id, sp)\n",
    "            continue\n",
    "        m = M.metabolites.get_by_id(m_id)\n",
    "        # Check if demand reaction exist\n",
    "        for r in m.reactions:\n",
    "            if r.boundary:\n",
    "                print(r)\n",
    "        # Add excahnge\n",
    "        try:\n",
    "            m_e = M.metabolites.get_by_id(m_id.replace('_c','_e'))\n",
    "        except KeyError:\n",
    "            # m_e = cobra.Metabolite(m_id.replace('_c','_e'))\n",
    "            m_e = m.copy()\n",
    "            m_e.id = m_id.replace('_c','_e')\n",
    "            m_e.compartment = 'e'\n",
    "            M.add_boundary(m_e, type='exchange')\n",
    "        else:\n",
    "            r_ex = model.reactions.get_by_id('EX_{0}'.format(m_e))\n",
    "            r_ex.upper_bound = 1000\n",
    "            \n",
    "        # Add leak reaction\n",
    "        r = cobra.Reaction('LEAK_{0}'.format(m_id))\n",
    "        r.add_metabolites({m:-1, m_e:1})\n",
    "        r.bounds = (0, 1000)\n",
    "        leak_reactions.append(r)\n",
    "        leak_mets.append(m)\n",
    "        # if i > 90:\n",
    "        #     break\n",
    "    M.add_reactions(leak_reactions)\n",
    "    constraints = []\n",
    "    for m, r in zip(leak_mets, leak_reactions):\n",
    "        sp = shadow_prices[m.id]\n",
    "        leakage = np.abs(sp)**(-1.38)\n",
    "        constraint = M.problem.Constraint(\n",
    "            r.flux_expression - scale*leakage,\n",
    "            lb=0,\n",
    "            ub=100)\n",
    "        constraints.append(constraint)\n",
    "        # print(m, r, sp)\n",
    "        \n",
    "    M.reactions.BIOMASS_Ec_iJO1366_core_53p95M.objective_coefficient = 0\n",
    "    M.reactions.BIOMASS_Ec_iJO1366_core_53p95M.lower_bound = solution.objective_value*0.95\n",
    "    M.add_cons_vars(constraints)\n",
    "    obj = M.problem.Objective(M.solver.variables.leakage_scale, direction = 'max')\n",
    "    M.objective = obj\n",
    "\n",
    "    new_solution = M.optimize(objective_sense=None)\n",
    "    print(M.summary())\n",
    "    print(new_solution.fluxes['BIOMASS_Ec_iJO1366_core_53p95M'])"
   ]
  },
  {
   "cell_type": "code",
   "execution_count": null,
   "id": "e64d1f7f-49e4-4bbd-9738-5510a9cf4b5c",
   "metadata": {},
   "outputs": [],
   "source": []
  },
  {
   "cell_type": "code",
   "execution_count": 141,
   "id": "2baffe4b-4df3-4b31-a7d5-89758645ddee",
   "metadata": {},
   "outputs": [],
   "source": [
    "new_solution.fluxes.to_csv('new_fluxes.csv')"
   ]
  },
  {
   "cell_type": "markdown",
   "id": "f1b55049-a430-4e50-ac29-d70a621870b2",
   "metadata": {},
   "source": [
    "# Get shadow prices"
   ]
  },
  {
   "cell_type": "markdown",
   "id": "0f26c4a7-c1b6-4cfd-8b41-3151226344d8",
   "metadata": {},
   "source": [
    "## And add constraints"
   ]
  },
  {
   "cell_type": "code",
   "execution_count": 142,
   "id": "075b1f31-8e7c-41ed-8da1-ef3ab1fdb252",
   "metadata": {},
   "outputs": [],
   "source": [
    "    #slope = model.problem.Variable('leakage_slope')"
   ]
  },
  {
   "cell_type": "code",
   "execution_count": null,
   "id": "7e41db4c-7340-4253-8f74-1334d6bb915f",
   "metadata": {},
   "outputs": [],
   "source": []
  },
  {
   "cell_type": "code",
   "execution_count": null,
   "id": "832028f6-00d6-4108-a331-1f6d3dce1789",
   "metadata": {},
   "outputs": [],
   "source": []
  },
  {
   "cell_type": "code",
   "execution_count": null,
   "id": "834d6c6c-e13e-4d5c-aa8e-1c00e9bd2e18",
   "metadata": {},
   "outputs": [],
   "source": []
  },
  {
   "cell_type": "code",
   "execution_count": 143,
   "id": "da3e01a3-1758-464d-aebf-e7c5b4701c56",
   "metadata": {},
   "outputs": [
    {
     "data": {
      "text/plain": [
       "0.6115132510047568"
      ]
     },
     "execution_count": 143,
     "metadata": {},
     "output_type": "execute_result"
    }
   ],
   "source": [
    "    new_solution.fluxes['BIOMASS_Ec_iJO1366_core_53p95M']"
   ]
  },
  {
   "cell_type": "code",
   "execution_count": 144,
   "id": "c6ab9c94-42a7-4808-9566-bfe243364fce",
   "metadata": {},
   "outputs": [
    {
     "name": "stderr",
     "output_type": "stream",
     "text": [
      "Non-linear or non-reaction model objective. Falling back to minimal display.\n"
     ]
    },
    {
     "name": "stdout",
     "output_type": "stream",
     "text": [
      "Objective\n",
      "=========\n",
      "nan Expression = nan\n",
      "\n",
      "Uptake\n",
      "------\n",
      "Metabolite     Reaction      Flux  C-Number  C-Flux\n",
      " prot_pool  ER_pool_TG_     0.095         0   0.00%\n",
      "     ca2_e     EX_ca2_e  0.003183         0   0.00%\n",
      "      cl_e      EX_cl_e  0.003183         0   0.00%\n",
      " cobalt2_e EX_cobalt2_e 1.529E-05         0   0.00%\n",
      "     cu2_e     EX_cu2_e 0.0004336         0   0.00%\n",
      "     fe2_e     EX_fe2_e  0.009822         0   0.00%\n",
      "  glc__D_e  EX_glc__D_e     9.904         6 100.00%\n",
      "       k_e       EX_k_e    0.1194         0   0.00%\n",
      "     mg2_e     EX_mg2_e  0.005305         0   0.00%\n",
      "     mn2_e     EX_mn2_e 0.0004226         0   0.00%\n",
      "    mobd_e    EX_mobd_e 7.889E-05         0   0.00%\n",
      "     nh4_e     EX_nh4_e     6.605         0   0.00%\n",
      "     ni2_e     EX_ni2_e 0.0001975         0   0.00%\n",
      "      o2_e      EX_o2_e     12.92         0   0.00%\n",
      "      pi_e      EX_pi_e    0.5899         0   0.00%\n",
      "     so4_e     EX_so4_e    0.1542         0   0.00%\n",
      "     zn2_e     EX_zn2_e 0.0002085         0   0.00%\n",
      "\n",
      "Secretion\n",
      "---------\n",
      "Metabolite    Reaction       Flux  C-Number C-Flux\n",
      "  4crsol_c DM_4crsol_c -0.0001364         7  0.00%\n",
      "   5drib_c  DM_5drib_c -0.0001376         5  0.00%\n",
      "    amob_c   DM_amob_c -1.223E-06        15  0.00%\n",
      "  mththf_c DM_mththf_c  -0.000274         5  0.00%\n",
      "      ac_e     EX_ac_e     -10.05         2 58.54%\n",
      "     co2_e    EX_co2_e     -14.23         1 41.45%\n",
      "     h2o_e    EX_h2o_e     -30.38         0  0.00%\n",
      "       h_e      EX_h_e     -15.67         0  0.00%\n",
      "    meoh_e   EX_meoh_e -1.223E-06         1  0.00%\n",
      "\n"
     ]
    }
   ],
   "source": [
    "print(model.summary())"
   ]
  },
  {
   "cell_type": "code",
   "execution_count": null,
   "id": "c157c816-1e2b-455d-8035-580e35705950",
   "metadata": {},
   "outputs": [],
   "source": []
  }
 ],
 "metadata": {
  "kernelspec": {
   "display_name": "Python 3 (ipykernel)",
   "language": "python",
   "name": "python3"
  },
  "language_info": {
   "codemirror_mode": {
    "name": "ipython",
    "version": 3
   },
   "file_extension": ".py",
   "mimetype": "text/x-python",
   "name": "python",
   "nbconvert_exporter": "python",
   "pygments_lexer": "ipython3",
   "version": "3.11.5"
  }
 },
 "nbformat": 4,
 "nbformat_minor": 5
}
